{
 "cells": [
  {
   "cell_type": "code",
   "execution_count": 1,
   "metadata": {},
   "outputs": [],
   "source": [
    "import numpy as np\n",
    "from scipy import stats\n",
    "import matplotlib.pyplot as plt\n",
    "%matplotlib inline"
   ]
  },
  {
   "cell_type": "markdown",
   "metadata": {},
   "source": [
    "#### Statistics on the data from the book"
   ]
  },
  {
   "cell_type": "code",
   "execution_count": 109,
   "metadata": {},
   "outputs": [],
   "source": [
    "insulin_sensitiv = np.array([250, 220, 145, 115, 230, 200, 330, 400, 370, 260, 270, 530, 375])\n",
    "C2022_fatacids = np.array([17.9, 18.3, 18.3, 18.4, 18.4, 20.2, 20.3, 21.8, 21.9, 22.1, 23.1, 24.2, 24.4])"
   ]
  },
  {
   "cell_type": "code",
   "execution_count": 110,
   "metadata": {},
   "outputs": [
    {
     "name": "stdout",
     "output_type": "stream",
     "text": [
      "284.2307692307692\n",
      "20.71538461538461\n"
     ]
    }
   ],
   "source": [
    "print(np.mean(insulin_sensitiv))\n",
    "print(np.mean(C2022_fatacids))"
   ]
  },
  {
   "cell_type": "code",
   "execution_count": 111,
   "metadata": {},
   "outputs": [
    {
     "data": {
      "image/png": "[encoded data removed]",
      "text/plain": [
       "<Figure size 360x288 with 1 Axes>"
      ]
     },
     "metadata": {
      "needs_background": "light"
     },
     "output_type": "display_data"
    }
   ],
   "source": [
    "plt.figure(figsize=(5,4))\n",
    "plt.scatter(C2022_fatacids, insulin_sensitiv)\n",
    "plt.title('Correlation between %C20-22 and insulin sensitivity')\n",
    "plt.xlabel('%C20-22 fatty acids')\n",
    "plt.ylabel('Insulin sensitivity (mg/m²/min)')\n",
    "plt.axis((16, 26, 0, 600));"
   ]
  },
  {
   "cell_type": "code",
   "execution_count": 112,
   "metadata": {},
   "outputs": [
    {
     "data": {
      "text/plain": [
       "array([[5.55474359e+00, 2.06679487e+02],\n",
       "       [2.06679487e+02, 1.29701923e+04]])"
      ]
     },
     "execution_count": 112,
     "metadata": {},
     "output_type": "execute_result"
    }
   ],
   "source": [
    "# covariance is the mean of the products (xi-X)(yi-Y)\n",
    "np.cov(C2022_fatacids, insulin_sensitiv)"
   ]
  },
  {
   "cell_type": "code",
   "execution_count": 113,
   "metadata": {},
   "outputs": [
    {
     "data": {
      "text/plain": [
       "array([[1.        , 0.77000254],\n",
       "       [0.77000254, 1.        ]])"
      ]
     },
     "execution_count": 113,
     "metadata": {},
     "output_type": "execute_result"
    }
   ],
   "source": [
    "np.corrcoef(C2022_fatacids, insulin_sensitiv)"
   ]
  },
  {
   "cell_type": "code",
   "execution_count": 114,
   "metadata": {},
   "outputs": [
    {
     "name": "stdout",
     "output_type": "stream",
     "text": [
      "Correlation coefficient r = 0.77\n",
      "P value (two-tailed) = 0.0021\n"
     ]
    }
   ],
   "source": [
    "r, P_val = stats.pearsonr(C2022_fatacids, insulin_sensitiv)\n",
    "print(f'Correlation coefficient r = {r:3.2f}')\n",
    "print(f'P value (two-tailed) = {P_val:5.4f}')"
   ]
  },
  {
   "cell_type": "markdown",
   "metadata": {},
   "source": [
    "The direction and magnitude of the linear correlation can be quantified with _r_. If _r_ = 0, the two variables do not vary together at all. If _r_ > 0, the two variables tend to increase **or decrease** together."
   ]
  },
  {
   "cell_type": "markdown",
   "metadata": {},
   "source": [
    "H0 is that there is no correlation between variables. If the H0 were true, what is the chance that 13 randomly picked subjects would have an r greater than 0.77 or less than -0.77?"
   ]
  },
  {
   "cell_type": "code",
   "execution_count": 115,
   "metadata": {},
   "outputs": [
    {
     "name": "stdout",
     "output_type": "stream",
     "text": [
      "r² = 0.5929\n"
     ]
    }
   ],
   "source": [
    "r_sq = r**2\n",
    "print(f\"r² = {r_sq:5.4f}\")"
   ]
  },
  {
   "cell_type": "markdown",
   "metadata": {},
   "source": [
    "r² is the fraction of the variance shared between the two variables. Here, 59% of the variability in insulin tolerance is associated with variability in lipid content. Knowing the lipid content lets you explain 59% of the variance in the insulin sensitivity. That leaves 41% of the variance to be explained by other factors or by measurement error. We can also say that 59% of the variability in lipid content is associated with variability in insulin tolerance."
   ]
  },
  {
   "cell_type": "markdown",
   "metadata": {},
   "source": [
    "#### Computation of the CI"
   ]
  },
  {
   "cell_type": "markdown",
   "metadata": {},
   "source": [
    "There is no way to determine the CI easily with scipy, therefore let's do some bootstraping analysis."
   ]
  },
  {
   "cell_type": "code",
   "execution_count": 29,
   "metadata": {},
   "outputs": [],
   "source": [
    "bs_r = [stats.pearsonr(\n",
    "    np.random.choice(C2022_fatacids, len(C2022_fatacids)),\n",
    "    np.random.choice(insulin_sensitiv, len(insulin_sensitiv))) for _ in range(10000)]"
   ]
  },
  {
   "cell_type": "code",
   "execution_count": 30,
   "metadata": {},
   "outputs": [
    {
     "data": {
      "text/plain": [
       "array([-0.47683403,  0.94926134])"
      ]
     },
     "execution_count": 30,
     "metadata": {},
     "output_type": "execute_result"
    }
   ],
   "source": [
    "np.percentile(bs_r, [2.5, 97.5])"
   ]
  },
  {
   "cell_type": "code",
   "execution_count": 31,
   "metadata": {},
   "outputs": [],
   "source": [
    "#let's try while permuting only the first array\n",
    "bs_r = [stats.pearsonr(\n",
    "    np.random.choice(C2022_fatacids, len(C2022_fatacids)), insulin_sensitiv) \n",
    "        for _ in range(10000)]"
   ]
  },
  {
   "cell_type": "code",
   "execution_count": 32,
   "metadata": {},
   "outputs": [
    {
     "data": {
      "text/plain": [
       "array([-0.460223  ,  0.95081754])"
      ]
     },
     "execution_count": 32,
     "metadata": {},
     "output_type": "execute_result"
    }
   ],
   "source": [
    "np.percentile(bs_r, [2.5, 97.5])"
   ]
  },
  {
   "cell_type": "markdown",
   "metadata": {},
   "source": [
    "The computation of a confidence interval on the population value of Pearson's correlation _r_ is complicated by the fact that the **sampling distribution of r is not normally distributed**. The solution lies with [Fisher's z' transformation] (https://en.wikipedia.org/wiki/Fisher%5ftransformation) described in the section on the sampling distribution of Pearson's r:\n",
    "1. Convert r to z' (Fisher's Z-score)\n",
    "2. Compute a confidence interval in terms of z'\n",
    "3. Convert the confidence interval back to r."
   ]
  },
  {
   "cell_type": "code",
   "execution_count": 33,
   "metadata": {},
   "outputs": [],
   "source": [
    "r_z = np.arctanh(r)"
   ]
  },
  {
   "cell_type": "markdown",
   "metadata": {},
   "source": [
    "The corresponding standard deviation is $se = \\dfrac{1}{\\sqrt{N-3}}$"
   ]
  },
  {
   "cell_type": "code",
   "execution_count": 35,
   "metadata": {},
   "outputs": [],
   "source": [
    "se = 1/np.sqrt(len(C2022_fatacids)-3)"
   ]
  },
  {
   "cell_type": "markdown",
   "metadata": {},
   "source": [
    "CI under the transformation can be calculated as $r_z \\pm z_{\\alpha/2}\\times se$ where $z_{\\alpha/2}$ is can be calculated using "
   ]
  },
  {
   "cell_type": "code",
   "execution_count": 50,
   "metadata": {},
   "outputs": [
    {
     "name": "stdout",
     "output_type": "stream",
     "text": [
      "The confidence interval of the Pearson's coefficient r = [0.38041003 0.9274906 ]\n"
     ]
    }
   ],
   "source": [
    "alpha = 0.05\n",
    "z = stats.norm.ppf(1-alpha/2) # here note that the distribution is not symetrical\n",
    "ci = np.tanh((r_z-z*se, r_z+z*se))\n",
    "print(f\"The confidence interval of the Pearson's coefficient r = {ci}\")"
   ]
  },
  {
   "cell_type": "markdown",
   "metadata": {},
   "source": [
    "#### Let's do some bootstap analysis using this test statistic"
   ]
  },
  {
   "cell_type": "code",
   "execution_count": 125,
   "metadata": {},
   "outputs": [],
   "source": [
    "# we keep the pairs but choose various indexes\n",
    "size=10000\n",
    "bs_r = np.empty(shape=(size,1))\n",
    "inds = np.arange(len(C2022_fatacids))\n",
    "\n",
    "for _ in range(size):\n",
    "    bs_inds = np.random.choice(inds, len(inds))\n",
    "    bs_r[_] = stats.pearsonr(C2022_fatacids[bs_inds], insulin_sensitiv[bs_inds])[0]"
   ]
  },
  {
   "cell_type": "code",
   "execution_count": 126,
   "metadata": {},
   "outputs": [
    {
     "data": {
      "text/plain": [
       "array([0.53278706, 0.91281809])"
      ]
     },
     "execution_count": 126,
     "metadata": {},
     "output_type": "execute_result"
    }
   ],
   "source": [
    "np.percentile(bs_r, [2.5, 97.5])"
   ]
  },
  {
   "cell_type": "code",
   "execution_count": 127,
   "metadata": {},
   "outputs": [
    {
     "data": {
      "image/png": "[encoded data removed]",
      "text/plain": [
       "<Figure size 432x288 with 1 Axes>"
      ]
     },
     "metadata": {
      "needs_background": "light"
     },
     "output_type": "display_data"
    }
   ],
   "source": [
    "plt.hist(bs_r, bins=100);"
   ]
  },
  {
   "cell_type": "markdown",
   "metadata": {},
   "source": [
    "#### Compute a P value using boostrap analysis"
   ]
  },
  {
   "cell_type": "code",
   "execution_count": 137,
   "metadata": {},
   "outputs": [],
   "source": [
    "# we permute the data from one dataset in line with H0\n",
    "# test statistic is heritability (cov/s²)\n",
    "\n",
    "size=10000\n",
    "bs_r = np.empty(shape=(size,1))\n",
    "inds = np.arange(len(C2022_fatacids))\n",
    "\n",
    "for _ in range(size):\n",
    "    bs_inds = np.random.choice(inds, len(inds))\n",
    "    bs_X = np.random.permutation(C2022_fatacids)\n",
    "    bs_r[_] = np.cov(bs_X[bs_inds], insulin_sensitiv[bs_inds])[0,1] / np.cov(\n",
    "        bs_X[bs_inds], insulin_sensitiv[bs_inds])[0,0]"
   ]
  },
  {
   "cell_type": "code",
   "execution_count": 145,
   "metadata": {},
   "outputs": [
    {
     "data": {
      "image/png": "[encoded data removed]",
      "text/plain": [
       "<Figure size 432x288 with 1 Axes>"
      ]
     },
     "metadata": {
      "needs_background": "light"
     },
     "output_type": "display_data"
    }
   ],
   "source": [
    "herit = np.cov(C2022_fatacids, insulin_sensitiv)[0,1] / np.cov(\n",
    "    C2022_fatacids, insulin_sensitiv)[0,0]\n",
    "plt.hist(bs_r, bins=100)\n",
    "plt.vlines(herit, ymin=0, ymax=300, colors='red', linestyle='--');"
   ]
  },
  {
   "cell_type": "code",
   "execution_count": 146,
   "metadata": {},
   "outputs": [
    {
     "name": "stdout",
     "output_type": "stream",
     "text": [
      "P value (two-tailed) using permutation = 0.0317\n"
     ]
    }
   ],
   "source": [
    "P_value = np.sum(bs_r >= herit) / size\n",
    "print(f'P value (two-tailed) using permutation = {P_value:5.4f}')"
   ]
  },
  {
   "cell_type": "markdown",
   "metadata": {},
   "source": [
    "This is far higher than the P value computed with stats, might be good to find another test stat..."
   ]
  }
 ],
 "metadata": {
  "kernelspec": {
   "display_name": "Python 3",
   "language": "python",
   "name": "python3"
  },
  "language_info": {
   "codemirror_mode": {
    "name": "ipython",
    "version": 3
   },
   "file_extension": ".py",
   "mimetype": "text/x-python",
   "name": "python",
   "nbconvert_exporter": "python",
   "pygments_lexer": "ipython3",
   "version": "3.7.0"
  }
 },
 "nbformat": 4,
 "nbformat_minor": 2
}
