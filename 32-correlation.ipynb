{
 "cells": [
  {
   "cell_type": "markdown",
   "source": [
    "# Correlation\n",
    "\n",
    "The association between two continuous variables can be quantified by the correlation coefficient, $r$. Here we explain Pearson correlation, which measures the strength of the linear relationship between two variables. If you systematically control the X variable (e.g. concentration, time, dose, etc.), you should calculate _linear regression_ rather than correlation (see Chapter 33). In addition, X and Y are totally symmetrical in correlation calculations, but not with linear regression.\n",
    "\n",
    "Correlation is a measure of the amount of relatedness between two measured variables. A correlation measure typically goes from -1 (anti-correlation) to 1 (correlation), where 0 is the absence of correlation (independence). When two variables show a very large correlation, one can be said to be a **predictor** of the other, in the sense that knowing the value of one of the two variable allows us to make a reasonnable guess about the value of the second variable. Another way of looking at this relationship is to see those variable as **redundant**, in the sense that they carry the same information : knowing the value of both variable does not bring much more insight compared to knowing the value of only one.\n",
    "\n",
    "Note that, if you quantify how closely two alternative assay methods agree, you should use special methods such as the [Bland-Altman plot](https://en.wikipedia.org/wiki/Bland%E2%80%93Altman_plot).\n",
    "\n",
    "## Correlation analysis"
   ],
   "metadata": {}
  },
  {
   "cell_type": "code",
   "execution_count": 1,
   "source": [
    "import numpy as np\r\n",
    "\r\n",
    "from scipy import stats\r\n",
    "import pingouin as pg\r\n",
    "\r\n",
    "import matplotlib.pyplot as plt\r\n",
    "import seaborn as sns"
   ],
   "outputs": [],
   "metadata": {}
  },
  {
   "cell_type": "code",
   "execution_count": 2,
   "source": [
    "# example data from the book, page 319\r\n",
    "insulin_sensitiv = np.array([250, 220, 145, 115, 230, 200, 330, 400, 370, 260, 270, 530, 375])\r\n",
    "C2022_fatacids = np.array([17.9, 18.3, 18.3, 18.4, 18.4, 20.2, 20.3, 21.8, 21.9, 22.1, 23.1, 24.2, 24.4])"
   ],
   "outputs": [],
   "metadata": {}
  },
  {
   "cell_type": "markdown",
   "source": [
    "### Descriptive statistics"
   ],
   "metadata": {}
  },
  {
   "cell_type": "code",
   "execution_count": 3,
   "source": [
    "print(f\"The mean of the insulin sensitivity index = {np.mean(insulin_sensitiv):.1f} +/- SD of {np.std(insulin_sensitiv,ddof=1):.1f}\")"
   ],
   "outputs": [
    {
     "output_type": "stream",
     "name": "stdout",
     "text": [
      "The mean of the insulin sensitivity index = 284.2 +/- SD of 113.9\n"
     ]
    }
   ],
   "metadata": {}
  },
  {
   "cell_type": "code",
   "execution_count": 4,
   "source": [
    "stats.describe(insulin_sensitiv)"
   ],
   "outputs": [
    {
     "output_type": "execute_result",
     "data": {
      "text/plain": [
       "DescribeResult(nobs=13, minmax=(115, 530), mean=284.2307692307692, variance=12970.192307692307, skewness=0.5429430677319255, kurtosis=-0.19429352446593473)"
      ]
     },
     "metadata": {},
     "execution_count": 4
    }
   ],
   "metadata": {}
  },
  {
   "cell_type": "code",
   "execution_count": 5,
   "source": [
    "stats.describe(C2022_fatacids)"
   ],
   "outputs": [
    {
     "output_type": "execute_result",
     "data": {
      "text/plain": [
       "DescribeResult(nobs=13, minmax=(17.9, 24.4), mean=20.71538461538461, variance=5.55474358974359, skewness=0.2382148683128159, kurtosis=-1.3626759485656732)"
      ]
     },
     "metadata": {},
     "execution_count": 5
    }
   ],
   "metadata": {}
  },
  {
   "cell_type": "markdown",
   "source": [
    "### Visualization"
   ],
   "metadata": {}
  },
  {
   "cell_type": "code",
   "execution_count": 6,
   "source": [
    "plt.figure(figsize=(5,4))\r\n",
    "plt.scatter(C2022_fatacids, insulin_sensitiv)\r\n",
    "plt.title('Correlation between %C20-22 and insulin sensitivity')\r\n",
    "plt.xlabel('%C20-22 fatty acids')\r\n",
    "plt.ylabel('Insulin sensitivity (mg/m²/min)')\r\n",
    "plt.axis((16, 26, 0, 600))\r\n",
    "sns.despine();"
   ],
   "outputs": [
    {
     "output_type": "display_data",
     "data": {
      "image/png": "[encoded data removed]",
      "text/plain": [
       "<Figure size 360x288 with 1 Axes>"
      ]
     },
     "metadata": {
      "needs_background": "light"
     }
    }
   ],
   "metadata": {}
  },
  {
   "cell_type": "markdown",
   "source": [
    "### Proper correlation analysis"
   ],
   "metadata": {}
  },
  {
   "cell_type": "code",
   "execution_count": 7,
   "source": [
    "r, P_val = stats.pearsonr(C2022_fatacids, insulin_sensitiv)\r\n",
    "print(f'Correlation coefficient r = {r:3.2f}')\r\n",
    "print(f'P value (two-tailed) = {P_val:5.4f}')"
   ],
   "outputs": [
    {
     "output_type": "stream",
     "name": "stdout",
     "text": [
      "Correlation coefficient r = 0.77\n",
      "P value (two-tailed) = 0.0021\n"
     ]
    }
   ],
   "metadata": {}
  },
  {
   "cell_type": "markdown",
   "source": [
    "The null hypothesis is no correlation between variables. If the H0 were true, what is the chance that 13 randomly picked subjects would have an $r$ greater than 0.77 or less than -0.77?"
   ],
   "metadata": {}
  },
  {
   "cell_type": "code",
   "execution_count": 8,
   "source": [
    "print(f\"r² = {r**2:.2f}\")"
   ],
   "outputs": [
    {
     "output_type": "stream",
     "name": "stdout",
     "text": [
      "r² = 0.59\n"
     ]
    }
   ],
   "metadata": {}
  },
  {
   "cell_type": "markdown",
   "source": [
    "$ r^2 $, also called the _coefficient of determination_, is the **fraction of the variance shared between the two variables**. Here, 59% of the variability in insulin tolerance is associated with variability in lipid content. Knowing the lipid content lets you explain 59% of the variance in the insulin sensitivity. That leaves 41% of the variance to be explained by other factors or by measurement error. We can also say that 59% of the variability in lipid content is associated with variability in insulin tolerance."
   ],
   "metadata": {}
  },
  {
   "cell_type": "markdown",
   "source": [
    "### How it works\r\n",
    "\r\n",
    "1. Calculate the average of all X values. Same for all Y values. These two averages define a point at the **center of gravity**\r\n",
    "2. Compare the position of each point with respect to that center. Substract the average X value from each X value; _the result will be positive for points to the right of the center and negative for points to the left_. Similarly, substract the average Y value from each Y value.\r\n",
    "3. Standardize those X distances by dividing by the SD of all X values, same for Y values. These ratios are fractions without unit.\r\n",
    "4. Multiply the two standardized distances for each data point. _The product will be positive for points that are northeast or southwest._\r\n",
    "5. Add up all the products.\r\n",
    "6. Account for sample size by dividing the sum by $(n-1)$, where $n$ is the number of XY pairs.\r\n",
    "\r\n",
    "#### The covariance\r\n",
    "\r\n",
    "The **covariance** between two variables is a measure of the extent to which one changes as the other changes. If $y = y_1, y_2, \\dots, y_n$ is a second variable, and $\\bar{x}$ and $\\bar{y}$ are the means of $x$ and $y$, respectively, then the **sample covariance** of $x$ and $y$ is defined as\r\n",
    "\r\n",
    "$$ \\mathrm{cov}_s(x, y) = \\frac{1}{n - 1}\\sum_{i = 1}^{n}(x_i - \\bar{x})(y_i - \\bar{y}) $$\r\n",
    "\r\n",
    "and as with variance, the **population covariance** is\r\n",
    "\r\n",
    "$$ \\mathrm{cov}_p(x, y) = \\frac{n-1}{n}\\mathrm{cov}_s(x, y) $$\r\n",
    "\r\n",
    "If X and Y are not correlated, then the positive products will approximately balance out the negative ones, and the correlation coefficient will be close to zero.\r\n",
    "\r\n",
    "#### Pearson's correlation\r\n",
    "\r\n",
    "**Pearson's correlation** coefficient divides the covariance by the product of the standard deviations of the two variables: \r\n",
    "\r\n",
    "$$ r_{x, y} = \\frac{\\mathrm{cov}(x, y)}{\\sigma(x)\\sigma(y)} $$\r\n",
    "\r\n",
    "This creates a scale of $-1$ to $1$ for $r_{x, y}$, which is an intuitive way of understanding both the direction and strength of the relationship between $x$ and $y$, with $-1$ indicating that $x$ increases perfectly as $y$ decreases, $1$ indicating that $x$ increases perfectly as $y$ increases, and $0$ indicating that there is no relationship between the two.\r\n",
    "\r\n",
    "It computes basically the ratio of the variability due to codependence to the independent variability."
   ],
   "metadata": {}
  },
  {
   "cell_type": "code",
   "execution_count": 9,
   "source": [
    "np.corrcoef(C2022_fatacids, insulin_sensitiv)"
   ],
   "outputs": [
    {
     "output_type": "execute_result",
     "data": {
      "text/plain": [
       "array([[1.        , 0.77000254],\n",
       "       [0.77000254, 1.        ]])"
      ]
     },
     "metadata": {},
     "execution_count": 9
    }
   ],
   "metadata": {}
  },
  {
   "cell_type": "code",
   "execution_count": 10,
   "source": [
    "# covariance is the mean of the products (xi-X)(yi-Y)\r\n",
    "np.cov(C2022_fatacids, insulin_sensitiv)"
   ],
   "outputs": [
    {
     "output_type": "execute_result",
     "data": {
      "text/plain": [
       "array([[5.55474359e+00, 2.06679487e+02],\n",
       "       [2.06679487e+02, 1.29701923e+04]])"
      ]
     },
     "metadata": {},
     "execution_count": 10
    }
   ],
   "metadata": {}
  },
  {
   "cell_type": "code",
   "execution_count": 11,
   "source": [
    "def pearson_r(x,y, quiet=True):\r\n",
    "    \"\"\"\r\n",
    "    Computes Pearson correlation coefficient between XYpairs.\r\n",
    "    \"\"\"\r\n",
    "    cov_matrix  = np.cov(x,y)     # returns 2D array with [0,1] and [1,0] the covariances,\r\n",
    "                                  # [0,0] the variance of x, and [1,1] the variance of y\r\n",
    "    cor_matrix = np.corrcoef(x,y) # returns the correlation matrix\r\n",
    "\r\n",
    "    cov = cov_matrix[0,1]\r\n",
    "    std_x=cov_matrix[0,0]**0.5    # because variance is s²\r\n",
    "    std_y=cov_matrix[1,1]**0.5\r\n",
    "    r = cov / (std_x * std_y) # same as r = cor_matrix[0,1] \r\n",
    "\r\n",
    "    if not quiet:\r\n",
    "        print(r)\r\n",
    "    else:\r\n",
    "        return r"
   ],
   "outputs": [],
   "metadata": {}
  },
  {
   "cell_type": "code",
   "execution_count": 12,
   "source": [
    "pearson_r(insulin_sensitiv, C2022_fatacids, quiet=False)"
   ],
   "outputs": [
    {
     "output_type": "stream",
     "name": "stdout",
     "text": [
      "0.7700025428371727\n"
     ]
    }
   ],
   "metadata": {}
  },
  {
   "cell_type": "markdown",
   "source": [
    "Pearson's correlation can also be used between a continuous scale and a dichotomous (binary) scale variable, and this is known as a **point-biserial correlation**."
   ],
   "metadata": {}
  },
  {
   "cell_type": "markdown",
   "source": [
    "#### Analysis using pingouin package"
   ],
   "metadata": {}
  },
  {
   "cell_type": "code",
   "execution_count": 13,
   "source": [
    "pg.corr(x=C2022_fatacids, y=insulin_sensitiv) # by default pearson method"
   ],
   "outputs": [
    {
     "output_type": "execute_result",
     "data": {
      "text/html": [
       "<div>\n",
       "<style scoped>\n",
       "    .dataframe tbody tr th:only-of-type {\n",
       "        vertical-align: middle;\n",
       "    }\n",
       "\n",
       "    .dataframe tbody tr th {\n",
       "        vertical-align: top;\n",
       "    }\n",
       "\n",
       "    .dataframe thead th {\n",
       "        text-align: right;\n",
       "    }\n",
       "</style>\n",
       "<table border=\"1\" class=\"dataframe\">\n",
       "  <thead>\n",
       "    <tr style=\"text-align: right;\">\n",
       "      <th></th>\n",
       "      <th>n</th>\n",
       "      <th>r</th>\n",
       "      <th>CI95%</th>\n",
       "      <th>p-val</th>\n",
       "      <th>BF10</th>\n",
       "      <th>power</th>\n",
       "    </tr>\n",
       "  </thead>\n",
       "  <tbody>\n",
       "    <tr>\n",
       "      <th>pearson</th>\n",
       "      <td>13</td>\n",
       "      <td>0.770003</td>\n",
       "      <td>[0.38, 0.93]</td>\n",
       "      <td>0.002077</td>\n",
       "      <td>23.947</td>\n",
       "      <td>0.912954</td>\n",
       "    </tr>\n",
       "  </tbody>\n",
       "</table>\n",
       "</div>"
      ],
      "text/plain": [
       "          n         r         CI95%     p-val    BF10     power\n",
       "pearson  13  0.770003  [0.38, 0.93]  0.002077  23.947  0.912954"
      ]
     },
     "metadata": {},
     "execution_count": 13
    }
   ],
   "metadata": {}
  },
  {
   "cell_type": "markdown",
   "source": [
    "#### Spearman\r\n",
    "\r\n",
    "The **nonparametric Spearman correlation** adds one step (explained in chapter 41). The Spearman correlation coefficient uses an adjusted approach, **robust to outliers**, is a non-parametric measure of the monotonicity of the relationship between two datasets. Unlike the Pearson correlation, the Spearman correlation does not assume that both datasets are normally distributed. Correlations of -1 or +1 imply an exact negative and positive monotonic relationship, respectively. Mathematically, the Spearman correlation coefficient is defined as the Pearson correlation coefficient between the rank variables.\r\n",
    "\r\n",
    "Spearman's correlation coefficient corresponds to Pearson's correlation coefficient, but on the **ranks** of observations rather than their values. Spearman correlation coefficient is used to describe the correlation between two variables when their relation is *monotonic* (i.e. it goes in a single direction: if it is increasing it is always increasing, it never goes down) but non linear (e.g. an exponential relationship). The formula to calculate the Spearman's rank correlation coefficients  between two random variables **X** and **Y** associated to n individual drawns is:\r\n",
    "\r\n",
    "$$\\rho=1-\\frac{\\sum d_{i}^{2}}{n^{3}-n}$$\r\n",
    "\r\n",
    "Where i is the individual number, n the number of individuals and $d_i$ defined as follow:\r\n",
    "\r\n",
    "$d_i=rank(x_i)-rank(y_i)$\r\n",
    "\r\n",
    "Where of course $x_i$ and $y_i$ are the realization of **X** and **Y** for individual i."
   ],
   "metadata": {}
  },
  {
   "cell_type": "code",
   "execution_count": 14,
   "source": [
    "stats.spearmanr(C2022_fatacids, insulin_sensitiv)"
   ],
   "outputs": [
    {
     "output_type": "execute_result",
     "data": {
      "text/plain": [
       "SpearmanrResult(correlation=0.7438044752782768, pvalue=0.0035581937201355457)"
      ]
     },
     "metadata": {},
     "execution_count": 14
    }
   ],
   "metadata": {}
  },
  {
   "cell_type": "code",
   "execution_count": 15,
   "source": [
    "pg.corr(x=C2022_fatacids, y=insulin_sensitiv, method=\"spearman\")"
   ],
   "outputs": [
    {
     "output_type": "execute_result",
     "data": {
      "text/html": [
       "<div>\n",
       "<style scoped>\n",
       "    .dataframe tbody tr th:only-of-type {\n",
       "        vertical-align: middle;\n",
       "    }\n",
       "\n",
       "    .dataframe tbody tr th {\n",
       "        vertical-align: top;\n",
       "    }\n",
       "\n",
       "    .dataframe thead th {\n",
       "        text-align: right;\n",
       "    }\n",
       "</style>\n",
       "<table border=\"1\" class=\"dataframe\">\n",
       "  <thead>\n",
       "    <tr style=\"text-align: right;\">\n",
       "      <th></th>\n",
       "      <th>n</th>\n",
       "      <th>r</th>\n",
       "      <th>CI95%</th>\n",
       "      <th>p-val</th>\n",
       "      <th>power</th>\n",
       "    </tr>\n",
       "  </thead>\n",
       "  <tbody>\n",
       "    <tr>\n",
       "      <th>spearman</th>\n",
       "      <td>13</td>\n",
       "      <td>0.743804</td>\n",
       "      <td>[0.33, 0.92]</td>\n",
       "      <td>0.003558</td>\n",
       "      <td>0.877297</td>\n",
       "    </tr>\n",
       "  </tbody>\n",
       "</table>\n",
       "</div>"
      ],
      "text/plain": [
       "           n         r         CI95%     p-val     power\n",
       "spearman  13  0.743804  [0.33, 0.92]  0.003558  0.877297"
      ]
     },
     "metadata": {},
     "execution_count": 15
    }
   ],
   "metadata": {}
  },
  {
   "cell_type": "markdown",
   "source": [
    "#### Kendall tau correlation coefficient\n",
    "\n",
    "You have already seen that you could define a correlation coefficient in multiple manners using multiple metrics : multiplicative distances to the means for Pearson, ranking distances between the two random variables for Spearman. For completness let's rapidly present another way to measure correlation: Kendall tau.\n",
    "\n",
    "Kendal tau is based on the concept of concordant or discordant pairs. A concordant pair is a pair of individual i and j, $i<j$, for which the order relation between the two random variables stands : either $x_i>x_j$ and $y_i>y_j$ or $x_i<x_j$ and $y_i<y_j$. Discordant pairs have opposite signs between x and y.\n",
    "\n",
    "The coefficient is defined as follow:\n",
    "\n",
    "$$\\tau=\\frac{\\text{number of concordant pairs}-\\text{number of discordant pairs}}{\\frac{n(n-1)}{2}}$$\n",
    "\n",
    "Obviously this coefficient is comprised between -1 and 1, 0 meaning no correlation (indeed there is a total of $\\frac{n(n-1)}{2}$ unique pairs).\n",
    "\n",
    "A rank version also exists (which is mathematically equivalent to the expression above):\n",
    "\n",
    "$$\\tau_{rank}=\\frac{2}{n(n-1)}\\sum_{i<j} sgn(x_i-x_j)sgn(y_i-y_j)$$\n",
    "\n",
    "Both the Spearman and and Pearson correlation coefficent are relying on distances, which means they are sensitive to the intensity of the error term and to outliers.  Kendall tau is way less influenced by the scale of the variability since it relies only on an order relation.\n"
   ],
   "metadata": {}
  },
  {
   "cell_type": "code",
   "execution_count": 16,
   "source": [
    "print('Kendall_tau: {0:.3f}, Kendall_tau_rank: {1:.3f}'.format(\r\n",
    "    stats.kendalltau(C2022_fatacids, insulin_sensitiv)[0],\r\n",
    "    stats.mstats.kendalltau(C2022_fatacids, insulin_sensitiv)[0]))"
   ],
   "outputs": [
    {
     "output_type": "stream",
     "name": "stdout",
     "text": [
      "Kendall_tau: 0.520, Kendall_tau_rank: 0.520\n"
     ]
    }
   ],
   "metadata": {}
  },
  {
   "cell_type": "code",
   "execution_count": 17,
   "source": [
    "pg.corr(x=C2022_fatacids, y=insulin_sensitiv, method=\"kendall\")"
   ],
   "outputs": [
    {
     "output_type": "execute_result",
     "data": {
      "text/html": [
       "<div>\n",
       "<style scoped>\n",
       "    .dataframe tbody tr th:only-of-type {\n",
       "        vertical-align: middle;\n",
       "    }\n",
       "\n",
       "    .dataframe tbody tr th {\n",
       "        vertical-align: top;\n",
       "    }\n",
       "\n",
       "    .dataframe thead th {\n",
       "        text-align: right;\n",
       "    }\n",
       "</style>\n",
       "<table border=\"1\" class=\"dataframe\">\n",
       "  <thead>\n",
       "    <tr style=\"text-align: right;\">\n",
       "      <th></th>\n",
       "      <th>n</th>\n",
       "      <th>r</th>\n",
       "      <th>CI95%</th>\n",
       "      <th>p-val</th>\n",
       "      <th>power</th>\n",
       "    </tr>\n",
       "  </thead>\n",
       "  <tbody>\n",
       "    <tr>\n",
       "      <th>kendall</th>\n",
       "      <td>13</td>\n",
       "      <td>0.519524</td>\n",
       "      <td>[-0.04, 0.83]</td>\n",
       "      <td>0.014306</td>\n",
       "      <td>0.468205</td>\n",
       "    </tr>\n",
       "  </tbody>\n",
       "</table>\n",
       "</div>"
      ],
      "text/plain": [
       "          n         r          CI95%     p-val     power\n",
       "kendall  13  0.519524  [-0.04, 0.83]  0.014306  0.468205"
      ]
     },
     "metadata": {},
     "execution_count": 17
    }
   ],
   "metadata": {}
  },
  {
   "cell_type": "markdown",
   "source": [
    "##### Linear, monotonic and non-monotonic functions"
   ],
   "metadata": {}
  },
  {
   "cell_type": "code",
   "execution_count": 18,
   "source": [
    "sigma=1./5\r\n",
    "\r\n",
    "linear=[[u,(u)/100+sigma*np.random.randn()] for u in range(10,500)]\r\n",
    "monotonic=[[u,50*(0.8**(u/10))+sigma*np.random.randn()] for u in range(10,500)]\r\n",
    "non_monotonic=[[u,(u)**3+3*u**2+sigma*np.random.randn()] for u in np.arange(-1,1,1./250)]\r\n",
    "\r\n",
    "together=[linear,monotonic,non_monotonic]\r\n",
    "plt.subplots(133,figsize=(15,5))\r\n",
    "for i in range(3):\r\n",
    "    plt.subplot(1,3,i+1)\r\n",
    "    x=[u[0] for u in together[i]]\r\n",
    "    y=[u[1] for u in together[i]]\r\n",
    "    plt.scatter(x,y)\r\n",
    "    plt.title('Pearson: {0:.3f}, Spearman: {1:.3f}, Kendall: {2:.3f}'.format(\r\n",
    "        stats.pearsonr(x,y)[0],##just like that\r\n",
    "        stats.spearmanr(x,y)[0],\r\n",
    "        stats.kendalltau(x,y)[0]))\r\n",
    "plt.tight_layout()    \r\n",
    "plt.show()"
   ],
   "outputs": [
    {
     "output_type": "display_data",
     "data": {
      "image/png": "[encoded data removed]",
      "text/plain": [
       "<Figure size 1080x360 with 3 Axes>"
      ]
     },
     "metadata": {
      "needs_background": "light"
     }
    }
   ],
   "metadata": {}
  },
  {
   "cell_type": "markdown",
   "source": [
    "## Testing for a non-zero correlation between two variables ($t$-test for correlation)\r\n",
    "\r\n",
    "Imagine that we are given a sample of data for two variables and we are asked if the variables are correlated in the overall population. We can take a null hypothesis that the variables are not correlated, determine a t-statistic associated with a zero correlation and convert this to a p-value. The t-statistic associated with a correlation $r$ between two samples of length $n$ is often notated $t^*$ and is defined as \r\n",
    "\r\n",
    "$$ t^* = \\frac{r\\sqrt{n-2}}{\\sqrt{1-r^2}} $$\r\n",
    "\r\n",
    "$t^*$ can be converted to an associated p-value [using a $t$-distribution](https://en.wikipedia.org/wiki/Pearson_correlation_coefficient#Testing_using_Student's_t-distribution) in a similar way to the previous section, this time with $n - 2$ degrees of freedom in our $t$-distribution. As an example, let's calculate $t^*$ for the correlation between sales and customer rating in our sample and convert it to a p-value."
   ],
   "metadata": {}
  },
  {
   "cell_type": "code",
   "execution_count": 26,
   "source": [
    "r = pearson_r(insulin_sensitiv, C2022_fatacids)\r\n",
    "n = len(C2022_fatacids)\r\n",
    "\r\n",
    "t_ = r * (n - 2)**.5 / (1 - r**2)**.5\r\n",
    "print(f\"t ratio = {t_:.5f}\")\r\n",
    "\r\n",
    "pval = 2 * (1 - stats.t.cdf(x = t_, df=n-2))\r\n",
    "print(f\"The P value = {pval:.6f}\")"
   ],
   "outputs": [
    {
     "output_type": "stream",
     "name": "stdout",
     "text": [
      "t ratio = 4.00258\n",
      "The P value = 0.002077\n"
     ]
    }
   ],
   "metadata": {}
  },
  {
   "cell_type": "markdown",
   "source": [
    "### Correlation analysis from a dataframe\r\n",
    "\r\n",
    "Calculate the sample correlation between `total_donations` and `time_donating`. By using an appropriate hypothesis test, determine if these two variables are independent in the overall population."
   ],
   "metadata": {}
  },
  {
   "cell_type": "code",
   "execution_count": 28,
   "source": [
    "# let's get another toy dataset\r\n",
    "import peopleanalyticsdata as pad\r\n",
    "\r\n",
    "# pad.list_sets() # to get the list of the datasets included\r\n",
    "\r\n",
    "df = pad.charity_donation()\r\n",
    "# also from http://peopleanalytics-regression-book.org/data/charity_donation.csv\r\n",
    "\r\n",
    "df.head()"
   ],
   "outputs": [
    {
     "output_type": "execute_result",
     "data": {
      "text/html": [
       "<div>\n",
       "<style scoped>\n",
       "    .dataframe tbody tr th:only-of-type {\n",
       "        vertical-align: middle;\n",
       "    }\n",
       "\n",
       "    .dataframe tbody tr th {\n",
       "        vertical-align: top;\n",
       "    }\n",
       "\n",
       "    .dataframe thead th {\n",
       "        text-align: right;\n",
       "    }\n",
       "</style>\n",
       "<table border=\"1\" class=\"dataframe\">\n",
       "  <thead>\n",
       "    <tr style=\"text-align: right;\">\n",
       "      <th></th>\n",
       "      <th>n_donations</th>\n",
       "      <th>total_donations</th>\n",
       "      <th>time_donating</th>\n",
       "      <th>recent_donation</th>\n",
       "      <th>last_donation</th>\n",
       "      <th>gender</th>\n",
       "      <th>reside</th>\n",
       "      <th>age</th>\n",
       "    </tr>\n",
       "  </thead>\n",
       "  <tbody>\n",
       "    <tr>\n",
       "      <th>0</th>\n",
       "      <td>2</td>\n",
       "      <td>310</td>\n",
       "      <td>27</td>\n",
       "      <td>0</td>\n",
       "      <td>4</td>\n",
       "      <td>M</td>\n",
       "      <td>Urban Domestic</td>\n",
       "      <td>29</td>\n",
       "    </tr>\n",
       "    <tr>\n",
       "      <th>1</th>\n",
       "      <td>3</td>\n",
       "      <td>1200</td>\n",
       "      <td>22</td>\n",
       "      <td>0</td>\n",
       "      <td>6</td>\n",
       "      <td>M</td>\n",
       "      <td>Rural Domestic</td>\n",
       "      <td>41</td>\n",
       "    </tr>\n",
       "    <tr>\n",
       "      <th>2</th>\n",
       "      <td>3</td>\n",
       "      <td>1200</td>\n",
       "      <td>37</td>\n",
       "      <td>1</td>\n",
       "      <td>11</td>\n",
       "      <td>M</td>\n",
       "      <td>Urban Domestic</td>\n",
       "      <td>77</td>\n",
       "    </tr>\n",
       "    <tr>\n",
       "      <th>3</th>\n",
       "      <td>2</td>\n",
       "      <td>760</td>\n",
       "      <td>19</td>\n",
       "      <td>1</td>\n",
       "      <td>1</td>\n",
       "      <td>F</td>\n",
       "      <td>Overseas</td>\n",
       "      <td>66</td>\n",
       "    </tr>\n",
       "    <tr>\n",
       "      <th>4</th>\n",
       "      <td>6</td>\n",
       "      <td>2540</td>\n",
       "      <td>37</td>\n",
       "      <td>0</td>\n",
       "      <td>11</td>\n",
       "      <td>M</td>\n",
       "      <td>Urban Domestic</td>\n",
       "      <td>26</td>\n",
       "    </tr>\n",
       "  </tbody>\n",
       "</table>\n",
       "</div>"
      ],
      "text/plain": [
       "   n_donations  total_donations  time_donating  recent_donation  \\\n",
       "0            2              310             27                0   \n",
       "1            3             1200             22                0   \n",
       "2            3             1200             37                1   \n",
       "3            2              760             19                1   \n",
       "4            6             2540             37                0   \n",
       "\n",
       "   last_donation gender          reside  age  \n",
       "0              4      M  Urban Domestic   29  \n",
       "1              6      M  Rural Domestic   41  \n",
       "2             11      M  Urban Domestic   77  \n",
       "3              1      F        Overseas   66  \n",
       "4             11      M  Urban Domestic   26  "
      ]
     },
     "metadata": {},
     "execution_count": 28
    }
   ],
   "metadata": {}
  },
  {
   "cell_type": "code",
   "execution_count": 29,
   "source": [
    "df[['total_donations', 'time_donating']].corr()"
   ],
   "outputs": [
    {
     "output_type": "execute_result",
     "data": {
      "text/html": [
       "<div>\n",
       "<style scoped>\n",
       "    .dataframe tbody tr th:only-of-type {\n",
       "        vertical-align: middle;\n",
       "    }\n",
       "\n",
       "    .dataframe tbody tr th {\n",
       "        vertical-align: top;\n",
       "    }\n",
       "\n",
       "    .dataframe thead th {\n",
       "        text-align: right;\n",
       "    }\n",
       "</style>\n",
       "<table border=\"1\" class=\"dataframe\">\n",
       "  <thead>\n",
       "    <tr style=\"text-align: right;\">\n",
       "      <th></th>\n",
       "      <th>total_donations</th>\n",
       "      <th>time_donating</th>\n",
       "    </tr>\n",
       "  </thead>\n",
       "  <tbody>\n",
       "    <tr>\n",
       "      <th>total_donations</th>\n",
       "      <td>1.000000</td>\n",
       "      <td>0.616484</td>\n",
       "    </tr>\n",
       "    <tr>\n",
       "      <th>time_donating</th>\n",
       "      <td>0.616484</td>\n",
       "      <td>1.000000</td>\n",
       "    </tr>\n",
       "  </tbody>\n",
       "</table>\n",
       "</div>"
      ],
      "text/plain": [
       "                 total_donations  time_donating\n",
       "total_donations         1.000000       0.616484\n",
       "time_donating           0.616484       1.000000"
      ]
     },
     "metadata": {},
     "execution_count": 29
    }
   ],
   "metadata": {}
  },
  {
   "cell_type": "code",
   "execution_count": 30,
   "source": [
    "# more precise estimation of the correlation using scipy.stats\r\n",
    "r, p = stats.pearsonr(df['total_donations'], df['time_donating'])\r\n",
    "\r\n",
    "print(f\"Correlation coefficient r = {r:3.2f}, with P value = {p:.5f}\")"
   ],
   "outputs": [
    {
     "output_type": "stream",
     "name": "stdout",
     "text": [
      "Correlation coefficient r = 0.62, with P value = 0.00000\n"
     ]
    }
   ],
   "metadata": {}
  },
  {
   "cell_type": "code",
   "execution_count": 32,
   "source": [
    "sns.regplot(\r\n",
    "    x='total_donations',\r\n",
    "    y='time_donating',\r\n",
    "    data=df,\r\n",
    "    x_jitter=100,\r\n",
    ");"
   ],
   "outputs": [
    {
     "output_type": "display_data",
     "data": {
      "image/png": "[encoded data removed]",
      "text/plain": [
       "<Figure size 432x288 with 1 Axes>"
      ]
     },
     "metadata": {
      "needs_background": "light"
     }
    }
   ],
   "metadata": {}
  },
  {
   "cell_type": "markdown",
   "source": [
    "The null hypothesis is that there is no correlation between the two variables. Therefore, if the null hypothesis were true, what is the chance that 354 randomly picked subjects would have an $r$ greater than 0.62 or less than -0.62? The answer is almost 0."
   ],
   "metadata": {}
  },
  {
   "cell_type": "code",
   "execution_count": 33,
   "source": [
    "# confirmation using pingouin\r\n",
    "import pingouin as pg\r\n",
    "pg.corr(x=df['total_donations'], y=df['time_donating'])"
   ],
   "outputs": [
    {
     "output_type": "execute_result",
     "data": {
      "text/html": [
       "<div>\n",
       "<style scoped>\n",
       "    .dataframe tbody tr th:only-of-type {\n",
       "        vertical-align: middle;\n",
       "    }\n",
       "\n",
       "    .dataframe tbody tr th {\n",
       "        vertical-align: top;\n",
       "    }\n",
       "\n",
       "    .dataframe thead th {\n",
       "        text-align: right;\n",
       "    }\n",
       "</style>\n",
       "<table border=\"1\" class=\"dataframe\">\n",
       "  <thead>\n",
       "    <tr style=\"text-align: right;\">\n",
       "      <th></th>\n",
       "      <th>n</th>\n",
       "      <th>r</th>\n",
       "      <th>CI95%</th>\n",
       "      <th>p-val</th>\n",
       "      <th>BF10</th>\n",
       "      <th>power</th>\n",
       "    </tr>\n",
       "  </thead>\n",
       "  <tbody>\n",
       "    <tr>\n",
       "      <th>pearson</th>\n",
       "      <td>354</td>\n",
       "      <td>0.616484</td>\n",
       "      <td>[0.55, 0.68]</td>\n",
       "      <td>1.953668e-38</td>\n",
       "      <td>1.456e+35</td>\n",
       "      <td>1.0</td>\n",
       "    </tr>\n",
       "  </tbody>\n",
       "</table>\n",
       "</div>"
      ],
      "text/plain": [
       "           n         r         CI95%         p-val       BF10  power\n",
       "pearson  354  0.616484  [0.55, 0.68]  1.953668e-38  1.456e+35    1.0"
      ]
     },
     "metadata": {},
     "execution_count": 33
    }
   ],
   "metadata": {}
  },
  {
   "cell_type": "markdown",
   "source": [
    "## Confidence Interval\n",
    "\n",
    "Assuming that the data were randomly sampled from a larger population, there is a 95% chance that this range includes the population correlation coefficient."
   ],
   "metadata": {}
  },
  {
   "cell_type": "markdown",
   "source": [
    "### Fisher's r-to-z transformation\r\n",
    "\r\n",
    "The computation of the parametric confidence interval on the population value of Pearson's correlation $r$ is complicated by the fact that the **sampling distribution of r is not normally distributed**. The solution lies with [Fisher's z' transformation](https://en.wikipedia.org/wiki/Fisher%5ftransformation) described in the section on the sampling distribution of Pearson's r:\r\n",
    "\r\n",
    "1. Convert r to z (Fisher's Z-score) $ z = 0.5 . \\ln \\frac{1+r}{1-r} = \\text{arctanh}(r) $\r\n",
    "2. Compute a confidence interval in terms of z\r\n",
    "3. Convert the confidence interval back to r\r\n",
    "\r\n",
    "The $z$ variable is normally distributed under $H_0$ : $z=\\sqrt{\\frac{n-3}{1.06}}F(\\rho)$ using the Fisher transformation ($F(\\rho)=arctanh(\\rho)$).\r\n",
    "\r\n",
    "See also [https://en.wikipedia.org/wiki/Pearson_correlation_coefficient#Using_the_Fisher_transformation](https://en.wikipedia.org/wiki/Pearson_correlation_coefficient#Using_the_Fisher_transformation)"
   ],
   "metadata": {}
  },
  {
   "cell_type": "code",
   "execution_count": 20,
   "source": [
    "r, _ = stats.pearsonr(C2022_fatacids, insulin_sensitiv)\r\n",
    "z = np.arctanh(r)"
   ],
   "outputs": [],
   "metadata": {}
  },
  {
   "cell_type": "markdown",
   "source": [
    "The corresponding standard deviation is $\\text{SE} = \\dfrac{1}{\\sqrt{n-3}}$ where $n$ is the sample size."
   ],
   "metadata": {}
  },
  {
   "cell_type": "code",
   "execution_count": 21,
   "source": [
    "se = 1/np.sqrt(len(C2022_fatacids)-3)"
   ],
   "outputs": [],
   "metadata": {}
  },
  {
   "cell_type": "markdown",
   "source": [
    "CI under the transformation, i.e. in $z$-space, can be calculated as $\\text{ci}_z = z \\pm \\text{crit}_{\\alpha/2} . \\text{SE}$ where $\\text{crit}_{\\alpha/2}$ is the critical value of the **normal distribution** corresponding to the desired confidence level."
   ],
   "metadata": {}
  },
  {
   "cell_type": "code",
   "execution_count": 22,
   "source": [
    "alpha = 0.05\r\n",
    "crit = stats.norm.ppf(1-alpha/2) # here note that the distribution is not symetrical"
   ],
   "outputs": [],
   "metadata": {}
  },
  {
   "cell_type": "markdown",
   "source": [
    "These confidence intervals can then be easily converted back to r-space using $ \\text{ci}_r = \\frac{\\exp(2 . \\text{ci}_z) - 1}{\\exp(2 . \\text{ci}_z) + 1} = \\tanh(\\text{ci}_z)$"
   ],
   "metadata": {}
  },
  {
   "cell_type": "code",
   "execution_count": 23,
   "source": [
    "ci = np.tanh((z-crit*se, z+crit*se))\r\n",
    "print(f\"The confidence interval of the Pearson's coefficient r = {r:.2f} extends from {ci[0]:.4f} to {ci[1]:.4f}\")"
   ],
   "outputs": [
    {
     "output_type": "stream",
     "name": "stdout",
     "text": [
      "The confidence interval of the Pearson's coefficient r = 0.77 extends from 0.3804 to 0.9275\n"
     ]
    }
   ],
   "metadata": {}
  },
  {
   "cell_type": "markdown",
   "source": [
    "The second method relies on a t-test to evaluate if $\\rho$ is significantly different from 0.\n",
    "\n",
    "Following a permutation  argument (so looking at a null model where you break data correlation/class by creating all the possible arrangements of your data), you can rationalize the usage of the following test statistic: $t=\\rho\\sqrt{\\frac{n-2}{1-\\rho^2}}$, which follow a Student's t-distribution under the null hypothesis that $\\rho=0$."
   ],
   "metadata": {}
  },
  {
   "cell_type": "markdown",
   "source": [
    "#### Parametric confidence intervals using pingouin"
   ],
   "metadata": {}
  },
  {
   "cell_type": "code",
   "execution_count": 24,
   "source": [
    "pg.compute_esci(\r\n",
    "    stat=pg.compute_effsize(x:=insulin_sensitiv, y:=C2022_fatacids, eftype='r'),\r\n",
    "    nx=len(x),\r\n",
    "    ny=len(y),\r\n",
    "    eftype='r'\r\n",
    ")"
   ],
   "outputs": [
    {
     "output_type": "execute_result",
     "data": {
      "text/plain": [
       "array([0.38, 0.93])"
      ]
     },
     "metadata": {},
     "execution_count": 24
    }
   ],
   "metadata": {}
  },
  {
   "cell_type": "markdown",
   "source": [
    "## Bootstrapping analyses\r\n",
    "\r\n",
    "### Confidence Interval using boostrap replicates\r\n",
    "\r\n",
    "The bootstrap can be used to [construct confidence intervals for Pearson's correlation coefficient](https://en.wikipedia.org/wiki/Pearson_correlation_coefficient#Using_a_bootstrap). In the \"non-parametric\" bootstrap, $n$ pairs $(x_i, y_i)$ are resampled \"with replacement\" from the observed set of $n$ pairs, and the correlation coefficient $r$ is calculated based on the resampled data. This process is repeated a large number of times, and the empirical distribution of the resampled r values are used to approximate the sampling distribution of the statistic. A 95% confidence interval for ρ can be defined as the interval spanning from the 2.5th to the 97.5th percentile of the resampled $r$ values."
   ],
   "metadata": {}
  },
  {
   "cell_type": "code",
   "execution_count": 34,
   "source": [
    "def draw_bs_pairs(x, y, func=pearson_r, size=1):\r\n",
    "    \"\"\"\r\n",
    "    Perform pairs bootstrap and compute single statistics from the replicates\r\n",
    "    \"\"\"\r\n",
    "    # Set up array of indices to sample from: inds\r\n",
    "    inds = np.arange(len(x))\r\n",
    "    # Initialize replicates\r\n",
    "    bs_replicates = np.empty(size)\r\n",
    "    # Generate replicates\r\n",
    "    for i in range(size):\r\n",
    "        bs_inds = np.random.choice(inds, len(inds))\r\n",
    "        bs_x, bs_y = x[bs_inds], y[bs_inds] # go by pairs\r\n",
    "        bs_replicates[i] = func(bs_x, bs_y)\r\n",
    "\r\n",
    "    return bs_replicates"
   ],
   "outputs": [],
   "metadata": {}
  },
  {
   "cell_type": "code",
   "execution_count": 35,
   "source": [
    "bs_r = draw_bs_pairs(insulin_sensitiv, C2022_fatacids, func=pearson_r, size=10000)\r\n",
    "ci_bs = np.percentile(bs_r, [2.5, 97.5])\r\n",
    "print(f\"The 95% CI for the correlation coefficient obtained by bootstrap goes from {ci_bs[0]:.3f} to {ci_bs[1]:.3f}\")"
   ],
   "outputs": [
    {
     "output_type": "stream",
     "name": "stdout",
     "text": [
      "The 95% CI for the correlation coefficient obtained by bootstrap goes from 0.529 to 0.912\n"
     ]
    }
   ],
   "metadata": {
    "tags": []
   }
  },
  {
   "cell_type": "code",
   "execution_count": 36,
   "source": [
    "plt.hist(bs_r, bins=100)\r\n",
    "plt.xlabel(r\"Pearson $r$\")\r\n",
    "plt.axvline(x=ci_bs[0], color='red', ls='--')\r\n",
    "plt.axvline(x=ci_bs[1], color='red', ls='--');"
   ],
   "outputs": [
    {
     "output_type": "display_data",
     "data": {
      "image/png": "[encoded data removed]",
      "text/plain": [
       "<Figure size 432x288 with 1 Axes>"
      ]
     },
     "metadata": {
      "needs_background": "light"
     }
    }
   ],
   "metadata": {}
  },
  {
   "cell_type": "markdown",
   "source": [
    "### P value using boostrap replicates\n",
    "\n",
    "The null hypothesis is that there is no correlation between the two continuous variables. Therefore we can mix up all the values from all the pairs and use permutation. We therefore compare the Pearson correlation coeffiction from the permutation replicates to the observed $r$."
   ],
   "metadata": {}
  },
  {
   "cell_type": "code",
   "execution_count": 37,
   "source": [
    "perm_reps_r = np.empty(10000)\r\n",
    "\r\n",
    "for i in range(10000):\r\n",
    "    scrambled_insulin = np.random.permutation(insulin_sensitiv)\r\n",
    "    perm_reps_r[i] = pearson_r(scrambled_insulin, C2022_fatacids)\r\n",
    "\r\n",
    "p_val_reps = sum(perm_reps_r >= r) / 10000"
   ],
   "outputs": [],
   "metadata": {}
  },
  {
   "cell_type": "code",
   "execution_count": 38,
   "source": [
    "plt.hist(perm_reps_r, bins=100)\r\n",
    "plt.vlines(r, ymin=0, ymax=300, colors='red', linestyle='--')\r\n",
    "plt.xlabel(r\"Pearson $r$\");"
   ],
   "outputs": [
    {
     "output_type": "display_data",
     "data": {
      "image/png": "[encoded data removed]",
      "text/plain": [
       "<Figure size 432x288 with 1 Axes>"
      ]
     },
     "metadata": {
      "needs_background": "light"
     }
    }
   ],
   "metadata": {}
  },
  {
   "cell_type": "code",
   "execution_count": 39,
   "source": [
    "print(f'P value (two-tailed) using permutation bootstrap replicates = {p_val_reps:5.4f}')"
   ],
   "outputs": [
    {
     "output_type": "stream",
     "name": "stdout",
     "text": [
      "P value (two-tailed) using permutation bootstrap replicates = 0.0137\n"
     ]
    }
   ],
   "metadata": {}
  }
 ],
 "metadata": {
  "kernelspec": {
   "name": "python3",
   "display_name": "Python 3.9.6 64-bit"
  },
  "language_info": {
   "codemirror_mode": {
    "name": "ipython",
    "version": 3
   },
   "file_extension": ".py",
   "mimetype": "text/x-python",
   "name": "python",
   "nbconvert_exporter": "python",
   "pygments_lexer": "ipython3",
   "version": "3.9.6"
  },
  "interpreter": {
   "hash": "35e05afc3bbf8458d25376a416e873cf169d04b2fc4efc2b77204c35b02a6d38"
  }
 },
 "nbformat": 4,
 "nbformat_minor": 2
}