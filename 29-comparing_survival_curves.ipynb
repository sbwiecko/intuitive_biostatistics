{
 "cells": [
  {
   "cell_type": "markdown",
   "metadata": {},
   "source": [
    "# Comparing survival curves\n",
    "This example come from the SNO18 poster presented by VAXIMM in PD-L1lo and PD-L1hi groups."
   ]
  },
  {
   "cell_type": "code",
   "execution_count": 1,
   "metadata": {},
   "outputs": [],
   "source": [
    "import lifelines\n",
    "import pandas as pd\n",
    "import numpy as np\n",
    "import matplotlib.pyplot as plt\n",
    "%matplotlib inline"
   ]
  },
  {
   "cell_type": "code",
   "execution_count": 2,
   "metadata": {},
   "outputs": [],
   "source": [
    "from lifelines import KaplanMeierFitter"
   ]
  },
  {
   "cell_type": "code",
   "execution_count": 3,
   "metadata": {},
   "outputs": [],
   "source": [
    "data=pd.DataFrame({'T': [111,861,778,839,227,250,161,566],\n",
    "                  'E': [1,0,1,0,1,1,1,0],\n",
    "                 'pat': [2601,2702,2704,2605,2706,2607,2708,2714],\n",
    "                 'PD-L1_increase': [True,False,False,False,True,True,True,True]})"
   ]
  },
  {
   "cell_type": "code",
   "execution_count": 4,
   "metadata": {},
   "outputs": [
    {
     "data": {
      "text/html": [
       "<div>\n",
       "<style scoped>\n",
       "    .dataframe tbody tr th:only-of-type {\n",
       "        vertical-align: middle;\n",
       "    }\n",
       "\n",
       "    .dataframe tbody tr th {\n",
       "        vertical-align: top;\n",
       "    }\n",
       "\n",
       "    .dataframe thead th {\n",
       "        text-align: right;\n",
       "    }\n",
       "</style>\n",
       "<table border=\"1\" class=\"dataframe\">\n",
       "  <thead>\n",
       "    <tr style=\"text-align: right;\">\n",
       "      <th></th>\n",
       "      <th>T</th>\n",
       "      <th>E</th>\n",
       "      <th>pat</th>\n",
       "      <th>PD-L1_increase</th>\n",
       "    </tr>\n",
       "  </thead>\n",
       "  <tbody>\n",
       "    <tr>\n",
       "      <th>0</th>\n",
       "      <td>111</td>\n",
       "      <td>1</td>\n",
       "      <td>2601</td>\n",
       "      <td>True</td>\n",
       "    </tr>\n",
       "    <tr>\n",
       "      <th>1</th>\n",
       "      <td>861</td>\n",
       "      <td>0</td>\n",
       "      <td>2702</td>\n",
       "      <td>False</td>\n",
       "    </tr>\n",
       "    <tr>\n",
       "      <th>2</th>\n",
       "      <td>778</td>\n",
       "      <td>1</td>\n",
       "      <td>2704</td>\n",
       "      <td>False</td>\n",
       "    </tr>\n",
       "    <tr>\n",
       "      <th>3</th>\n",
       "      <td>839</td>\n",
       "      <td>0</td>\n",
       "      <td>2605</td>\n",
       "      <td>False</td>\n",
       "    </tr>\n",
       "    <tr>\n",
       "      <th>4</th>\n",
       "      <td>227</td>\n",
       "      <td>1</td>\n",
       "      <td>2706</td>\n",
       "      <td>True</td>\n",
       "    </tr>\n",
       "    <tr>\n",
       "      <th>5</th>\n",
       "      <td>250</td>\n",
       "      <td>1</td>\n",
       "      <td>2607</td>\n",
       "      <td>True</td>\n",
       "    </tr>\n",
       "    <tr>\n",
       "      <th>6</th>\n",
       "      <td>161</td>\n",
       "      <td>1</td>\n",
       "      <td>2708</td>\n",
       "      <td>True</td>\n",
       "    </tr>\n",
       "    <tr>\n",
       "      <th>7</th>\n",
       "      <td>566</td>\n",
       "      <td>0</td>\n",
       "      <td>2714</td>\n",
       "      <td>True</td>\n",
       "    </tr>\n",
       "  </tbody>\n",
       "</table>\n",
       "</div>"
      ],
      "text/plain": [
       "     T  E   pat  PD-L1_increase\n",
       "0  111  1  2601            True\n",
       "1  861  0  2702           False\n",
       "2  778  1  2704           False\n",
       "3  839  0  2605           False\n",
       "4  227  1  2706            True\n",
       "5  250  1  2607            True\n",
       "6  161  1  2708            True\n",
       "7  566  0  2714            True"
      ]
     },
     "execution_count": 4,
     "metadata": {},
     "output_type": "execute_result"
    }
   ],
   "source": [
    "data"
   ]
  },
  {
   "cell_type": "code",
   "execution_count": 5,
   "metadata": {},
   "outputs": [
    {
     "data": {
      "image/png": "[encoded data removed]",
      "text/plain": [
       "<Figure size 360x360 with 1 Axes>"
      ]
     },
     "metadata": {
      "needs_background": "light"
     },
     "output_type": "display_data"
    }
   ],
   "source": [
    "ix = data['PD-L1_increase'] == True\n",
    "\n",
    "kmf_PDL1 = KaplanMeierFitter()\n",
    "\n",
    "plt.rcParams[\"figure.figsize\"] = (5,5)\n",
    "\n",
    "kmf_PDL1.fit(data['T'][~ix], data['E'][~ix])\n",
    "ax=kmf_PDL1.plot(legend=None, show_censors=True, ci_alpha=.1, lw=5, c=\"#CC00CC\",\n",
    "              censor_styles={'marker':'|', 'ms': 15, 'mew':2, 'markerfacecolor':'red', \n",
    "                             'markeredgecolor': 'red'})\n",
    "\n",
    "kmf_PDL1.fit(data['T'][ix], data['E'][ix])\n",
    "kmf_PDL1.plot(ax=ax, legend=None, show_censors=True, ci_alpha=.1, lw=5, c=\"#0F99B2\",\n",
    "              censor_styles={'marker':'|', 'ms': 15, 'mew':2, 'markerfacecolor':'red', \n",
    "                             'markeredgecolor': 'red'},)\n",
    "\n",
    "plt.ylabel('Proportion survival', fontdict={'fontname':'arial', 'size': 18, 'weight': 'bold'})\n",
    "plt.ylim([0,1.05])\n",
    "plt.yticks(fontsize=16)\n",
    "plt.xlim([0, 900])\n",
    "plt.xticks([0,150, 300, 450, 600, 750, 900], fontsize=16)\n",
    "plt.setp(ax.spines.values(), linewidth=2)\n",
    "plt.xlabel('Days from start of treatment', fontdict={'fontname':'arial',\n",
    "                                                     'size': 18, 'weight': 'bold'})\n",
    "\n",
    "plt.tight_layout()\n",
    "plt.savefig('survival_pdl1.svg');"
   ]
  },
  {
   "cell_type": "code",
   "execution_count": 6,
   "metadata": {},
   "outputs": [],
   "source": [
    "from lifelines.statistics import logrank_test"
   ]
  },
  {
   "cell_type": "code",
   "execution_count": 7,
   "metadata": {
    "scrolled": true
   },
   "outputs": [
    {
     "name": "stdout",
     "output_type": "stream",
     "text": [
      "\n",
      "t_0=-1, alpha=0.95, null_distribution=chi squared, df=1\n",
      "\n",
      "test_statistic      p   \n",
      "        3.7385 0.0532  .\n",
      "---\n",
      "Signif. codes:  0 '***' 0.001 '**' 0.01 '*' 0.05 '.' 0.1 ' ' 1 \n"
     ]
    }
   ],
   "source": [
    "results = logrank_test(data['T'][ix], data['T'][~ix], data['E'][ix], data['E'][~ix], alpha=.95)\n",
    "\n",
    "results.print_summary()"
   ]
  }
 ],
 "metadata": {
  "kernelspec": {
   "display_name": "Python 3",
   "language": "python",
   "name": "python3"
  },
  "language_info": {
   "codemirror_mode": {
    "name": "ipython",
    "version": 3
   },
   "file_extension": ".py",
   "mimetype": "text/x-python",
   "name": "python",
   "nbconvert_exporter": "python",
   "pygments_lexer": "ipython3",
   "version": "3.7.1"
  }
 },
 "nbformat": 4,
 "nbformat_minor": 2
}
