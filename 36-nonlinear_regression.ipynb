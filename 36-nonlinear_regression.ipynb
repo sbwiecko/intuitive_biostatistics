{
 "cells": [
  {
   "cell_type": "markdown",
   "metadata": {},
   "source": [
    "# Example of nonlinear regression"
   ]
  },
  {
   "cell_type": "code",
   "execution_count": null,
   "metadata": {},
   "outputs": [],
   "source": [
    "import numpy as np\n",
    "import matplotlib.pyplot as plt\n",
    "%matplotlib inline\n",
    "from scipy import stats\n",
    "import statsmodels as sm"
   ]
  },
  {
   "cell_type": "markdown",
   "metadata": {},
   "source": [
    "## Quick exploration of the data"
   ]
  },
  {
   "cell_type": "code",
   "execution_count": 2,
   "metadata": {},
   "outputs": [],
   "source": [
    "# data from page 367\n",
    "norepi_log = np.arange(-8, -2.5, .5) # log scale\n",
    "relaxation = np.array([2.6, 10.5, 15.8, 21.1, 36.8, 57.9, 73.7, 89.5, 94.7, 100, 100])"
   ]
  },
  {
   "cell_type": "code",
   "execution_count": 3,
   "metadata": {},
   "outputs": [
    {
     "data": {
      "image/png": "[encoded data removed]",
      "text/plain": [
       "<Figure size 432x288 with 1 Axes>"
      ]
     },
     "metadata": {
      "needs_background": "light"
     },
     "output_type": "display_data"
    }
   ],
   "source": [
    "plt.plot(norepi_log, relaxation, 'ko', mfc='blue')\n",
    "plt.title(\"Bladder muscle relaxation data for one young rat\")\n",
    "plt.xlabel(\"Log[Norepinephrine, M]\")\n",
    "plt.ylabel(\"% relaxation\");"
   ]
  },
  {
   "cell_type": "markdown",
   "metadata": {},
   "source": [
    "## Fitting the model"
   ]
  },
  {
   "cell_type": "markdown",
   "metadata": {},
   "source": [
    "$$\n",
    "Y = Bottom + \\frac{Top - Bottom}{1 + 10^{(LogEC_{50} - X).HillSlope}}\n",
    "$$"
   ]
  },
  {
   "cell_type": "markdown",
   "metadata": {},
   "source": [
    "After choosing a model, the next step is to decide which of the parameters in the model should be fit to the data and which should be fixed to constant values. In this case, muscle relaxation must be zero with no added norepinephrine. So we will tell the model not to find the best-fit value of Bottom but rather to set it to a constant value of zero. We don't want to fix the top to 100, because the one goal of the study is to see whether that top plateay differs in old and young rats."
   ]
  },
  {
   "cell_type": "code",
   "execution_count": 4,
   "metadata": {},
   "outputs": [],
   "source": [
    "from scipy.optimize import curve_fit"
   ]
  },
  {
   "cell_type": "code",
   "execution_count": 5,
   "metadata": {},
   "outputs": [
    {
     "name": "stdout",
     "output_type": "stream",
     "text": [
      "[104.05305746  -5.63808944   0.62209876]\n"
     ]
    }
   ],
   "source": [
    "def logistic3(x, top, ec50, hill_slope):\n",
    "    \"\"\"3PL logistic equation\"\"\"\n",
    "    return (0 + ((top - 0) / (1 + 10**((ec50 - x) * hill_slope))))\n",
    "\n",
    "def logistic4(x, top, bottom, ec50, hill_slope):\n",
    "    \"\"\"4PL logistic equation - Used when bottom != 0\"\"\"\n",
    "    return (bottom + ((top - bottom) / (1 + 10**((ec50 - x) * hill_slope))))\n",
    "\n",
    "# initial guess for parameters\n",
    "p0 = [100, -6, .5] # top, ec50, hill_slope\n",
    "\n",
    "\n",
    "# fit the model equation 3PL to the data using least squares optimization\n",
    "best_vals, covar = curve_fit(logistic3, norepi_log, relaxation, p0=p0)\n",
    "print(best_vals)"
   ]
  },
  {
   "cell_type": "code",
   "execution_count": 6,
   "metadata": {},
   "outputs": [
    {
     "data": {
      "image/png": "[encoded data removed]",
      "text/plain": [
       "<Figure size 432x288 with 1 Axes>"
      ]
     },
     "metadata": {
      "needs_background": "light"
     },
     "output_type": "display_data"
    }
   ],
   "source": [
    "plt.plot(norepi_log, relaxation, 'ko', label='data') # original data points\n",
    "\n",
    "x=np.arange(-8, -2.5, step=.1)\n",
    "plt.plot(x, logistic3(x, *best_vals), 'r-', lw=3, label='fit')\n",
    "plt.title(\"Nonlinear regression curve (3PL)\")\n",
    "plt.xlabel(\"Log[Norepinephrine, M]\")\n",
    "plt.ylabel(\"% relaxation\")\n",
    "plt.legend();"
   ]
  },
  {
   "cell_type": "code",
   "execution_count": 7,
   "metadata": {},
   "outputs": [
    {
     "data": {
      "text/plain": [
       "2.300967897192361e-06"
      ]
     },
     "execution_count": 7,
     "metadata": {},
     "output_type": "execute_result"
    }
   ],
   "source": [
    "10**(best_vals[1]) # corresponds to EC50 = 2.3 µM"
   ]
  },
  {
   "cell_type": "markdown",
   "metadata": {},
   "source": [
    "### Confidence interval estimation"
   ]
  },
  {
   "cell_type": "markdown",
   "metadata": {},
   "source": [
    "Prism uses a standard method to compute the standard error and confidence interval for each parameter fit with nonlinear regression. Each parameter's standard error is computed using this equation:\n",
    "$$SE(P_i) = \\sqrt{(SS/DF) * Cov_{i,i}}$$\n",
    "where:\n",
    "$P_i$ : i-th adjustable(non-constant) parameter\n",
    "$SS$ : sum of squared residuals\n",
    "$DF$ : degrees of freedom (the number of data points minus number of parameters fit by regression)\n",
    "$Cov(_i,_i)$ : i-th diagonal element of covariance matrix"
   ]
  },
  {
   "cell_type": "markdown",
   "metadata": {},
   "source": [
    "Asymptotic confidence intervals are always centered on the best-fit value of the parameter, and extend the same distance above and below that value. The 95% confidence intervals are computed by this equation:\n",
    "\n",
    "FROM $[BestFit- t*SE]$  TO  $[BestFit+ t*SE]$\n",
    "\n",
    "where $BestFit$ is the best fit value for the parameter, $SE$ is its standard error,  and $t$ is the value from the t distribution for the desired level of confidence (95% is standard) and the number of degrees of freedom (which equals the number of data points minus the number of parameters fit by regression). With 95% confidence and many degrees of freedom (more than a few dozen), this multiplier is very close to 1.96. Note that the value of t is not computed from your data, but is a constant that depends on the confidence level you choose, the number of data points, and the number of parameters."
   ]
  },
  {
   "cell_type": "code",
   "execution_count": 8,
   "metadata": {},
   "outputs": [
    {
     "data": {
      "text/plain": [
       "array([[ 4.24161009e+00,  8.27167161e-02, -5.12799761e-02],\n",
       "       [ 8.27167161e-02,  2.65400288e-03, -9.97677693e-04],\n",
       "       [-5.12799761e-02, -9.97677693e-04,  1.28149795e-03]])"
      ]
     },
     "execution_count": 8,
     "metadata": {},
     "output_type": "execute_result"
    }
   ],
   "source": [
    "covar"
   ]
  },
  {
   "cell_type": "markdown",
   "metadata": {},
   "source": [
    "covar is the estimated covariance of best_val. The diagonals provide the variance of the parameter estimate. To compute one standard errors on the estimated coefficients use `perr = np.sqrt(np.diag(covar))`"
   ]
  },
  {
   "cell_type": "markdown",
   "metadata": {},
   "source": [
    "$$\n",
    "\\sum cov=\\left[ \\begin{array}{}\n",
    "\\sigma² & cov \\\\\n",
    "cov & \\sigma² \\\\ \\end{array} \\right]\n",
    "$$\n",
    "In the current case, $covar$ is the covariance matrix (inverted Hessian from last iteration), or covariance of the parameters around the optimal values. See also https://www.graphpad.com/guides/prism/7/curve-fitting/index.htm?reg_how_confidence_and_prediction_.htm\n",
    "Therefore this is not the covariance matrix of the variables, but of the estimated parameters, with $\\sigma²$ the variance of the errors around the mean of the predicted points on the OLS line (noise)\n",
    "$$Var(\\hat{\\beta})=\\sigma²(X^{T}X)^{-1}$$\n",
    "$$\\sigma²=\\frac{1}{df}\\sum(residuals)²$$"
   ]
  },
  {
   "cell_type": "code",
   "execution_count": 9,
   "metadata": {},
   "outputs": [
    {
     "data": {
      "text/plain": [
       "array([2.05951695, 0.05151702, 0.03579802])"
      ]
     },
     "execution_count": 9,
     "metadata": {},
     "output_type": "execute_result"
    }
   ],
   "source": [
    "np.sqrt(np.diag(covar)) # this returns the so-called standard error (see Intuitive Biostatistics)"
   ]
  },
  {
   "cell_type": "code",
   "execution_count": 10,
   "metadata": {},
   "outputs": [],
   "source": [
    "perr = np.sqrt(np.diag(covar)) # it looks like the 1-sigma of this matrix is the SE\n",
    "n = len(norepi_log)\n",
    "p = len(best_vals) # number of parameters fitted"
   ]
  },
  {
   "cell_type": "code",
   "execution_count": 11,
   "metadata": {},
   "outputs": [
    {
     "name": "stdout",
     "output_type": "stream",
     "text": [
      "95% CI for 'top' parameter: (99.30380284627736, 108.80231207460483)\n",
      "95% CI for 'EC50' parameter: (-5.756887891216683, -5.519290989802805)\n",
      "95% CI for 'Hill slope' parameter: (0.5395483822401705, 0.7046491283178209)\n"
     ]
    }
   ],
   "source": [
    "df = n - p # n data points minus parameters fitted\n",
    "t_ = stats.t(df=df).ppf((1+.95)/2) # two-tailed\n",
    "\n",
    "def return_ci(estimate, se):\n",
    "    return (estimate-t_*se, estimate+t_*se)\n",
    "\n",
    "print(f\"95% CI for 'top' parameter: {return_ci(best_vals[0], perr[0])}\")\n",
    "print(f\"95% CI for 'EC50' parameter: {return_ci(best_vals[1], perr[1])}\")\n",
    "print(f\"95% CI for 'Hill slope' parameter: {return_ci(best_vals[2], perr[2])}\")"
   ]
  },
  {
   "cell_type": "markdown",
   "metadata": {},
   "source": [
    "### Curve-fitting with lmfit library"
   ]
  },
  {
   "cell_type": "code",
   "execution_count": 12,
   "metadata": {},
   "outputs": [],
   "source": [
    "from lmfit import Model"
   ]
  },
  {
   "cell_type": "code",
   "execution_count": 23,
   "metadata": {},
   "outputs": [
    {
     "data": {
      "text/plain": [
       "['top', 'ec50', 'hill_slope']"
      ]
     },
     "execution_count": 23,
     "metadata": {},
     "output_type": "execute_result"
    }
   ],
   "source": [
    "gmodel = Model(logistic3)\n",
    "gmodel.param_names"
   ]
  },
  {
   "cell_type": "code",
   "execution_count": 24,
   "metadata": {},
   "outputs": [],
   "source": [
    "# set the initial values for parameters with **args\n",
    "params = gmodel.make_params(top=100, ec50=-5, hill_slope=.6)"
   ]
  },
  {
   "cell_type": "code",
   "execution_count": 25,
   "metadata": {},
   "outputs": [],
   "source": [
    "results = gmodel.fit(relaxation, x=norepi_log, params=params) # y parameter first!"
   ]
  },
  {
   "cell_type": "code",
   "execution_count": 26,
   "metadata": {},
   "outputs": [
    {
     "name": "stdout",
     "output_type": "stream",
     "text": [
      "[[Model]]\n",
      "    Model(logistic3)\n",
      "[[Fit Statistics]]\n",
      "    # fitting method   = leastsq\n",
      "    # function evals   = 25\n",
      "    # data points      = 11\n",
      "    # variables        = 3\n",
      "    chi-square         = 42.9570499\n",
      "    reduced chi-square = 5.36963124\n",
      "    Akaike info crit   = 20.9853605\n",
      "    Bayesian info crit = 22.1790464\n",
      "[[Variables]]\n",
      "    top:         104.053067 +/- 2.05950530 (1.98%) (init = 100)\n",
      "    ec50:       -5.63808917 +/- 0.05151681 (0.91%) (init = -5)\n",
      "    hill_slope:  0.62209862 +/- 0.03579814 (5.75%) (init = 0.6)\n",
      "[[Correlations]] (unreported correlations are < 0.100)\n",
      "    C(top, ec50)        =  0.780\n",
      "    C(top, hill_slope)  = -0.696\n",
      "    C(ec50, hill_slope) = -0.541\n",
      "\n"
     ]
    }
   ],
   "source": [
    "print(results.fit_report())"
   ]
  },
  {
   "cell_type": "code",
   "execution_count": 17,
   "metadata": {},
   "outputs": [
    {
     "data": {
      "text/plain": [
       "104.0530667445461"
      ]
     },
     "execution_count": 17,
     "metadata": {},
     "output_type": "execute_result"
    }
   ],
   "source": [
    "results.params['top'].value"
   ]
  },
  {
   "cell_type": "code",
   "execution_count": 18,
   "metadata": {},
   "outputs": [
    {
     "data": {
      "text/plain": [
       "Parameters([('top',\n",
       "             <Parameter 'top', value=104.0530667445461 +/- 2.06, bounds=[-inf:inf]>),\n",
       "            ('ec50',\n",
       "             <Parameter 'ec50', value=-5.638089169153799 +/- 0.0515, bounds=[-inf:inf]>),\n",
       "            ('hill_slope',\n",
       "             <Parameter 'hill_slope', value=0.6220986160835926 +/- 0.0358, bounds=[-inf:inf]>)])"
      ]
     },
     "execution_count": 18,
     "metadata": {},
     "output_type": "execute_result"
    }
   ],
   "source": [
    "results.params"
   ]
  },
  {
   "cell_type": "code",
   "execution_count": 19,
   "metadata": {},
   "outputs": [
    {
     "name": "stdout",
     "output_type": "stream",
     "text": [
      "               99.73%    95.45%    68.27%    _BEST_    68.27%    95.45%    99.73%\n",
      " top       :  96.26337  99.55253 101.95430 104.05307 106.29220 109.26004 114.26127\n",
      " ec50      :  -5.83994  -5.75227  -5.69059  -5.63809  -5.58330  -5.51218  -5.39524\n",
      " hill_slope:   0.48517   0.54229   0.58471   0.62210   0.66215   0.71515   0.80315\n"
     ]
    }
   ],
   "source": [
    "print(results.ci_report(with_offset=False))"
   ]
  },
  {
   "cell_type": "markdown",
   "metadata": {},
   "source": [
    "### Graphs"
   ]
  },
  {
   "cell_type": "code",
   "execution_count": 27,
   "metadata": {},
   "outputs": [
    {
     "data": {
      "image/png": "[encoded data removed]",
      "text/plain": [
       "<Figure size 504x288 with 2 Axes>"
      ]
     },
     "metadata": {
      "needs_background": "light"
     },
     "output_type": "display_data"
    },
    {
     "data": {
      "image/png": "[encoded data removed]",
      "text/plain": [
       "<Figure size 432x432 with 2 Axes>"
      ]
     },
     "metadata": {
      "needs_background": "light"
     },
     "output_type": "display_data"
    }
   ],
   "source": [
    "plt.figure(figsize=(7,4))\n",
    "plt.subplot(1,2,1)\n",
    "results.plot_fit() # ATTENTION every time we refit the model, parameters change\n",
    "plt.subplot(1,2,2)\n",
    "results.plot_residuals()\n",
    "\n",
    "results.plot() # make both residual and model_fit plots\n",
    "plt.tight_layout();"
   ]
  },
  {
   "cell_type": "code",
   "execution_count": 20,
   "metadata": {
    "scrolled": false
   },
   "outputs": [
    {
     "data": {
      "image/png": "[encoded data removed]",
      "text/plain": [
       "<Figure size 432x288 with 1 Axes>"
      ]
     },
     "metadata": {
      "needs_background": "light"
     },
     "output_type": "display_data"
    }
   ],
   "source": [
    "plt.plot(norepi_log, relaxation, 'ko', label='data') # original data points\n",
    "\n",
    "plt.plot(norepi_log, results.init_fit, 'b--', label='initial guess')\n",
    "plt.plot(norepi_log, results.best_fit, 'r-', label='best fit')\n",
    "plt.plot(norepi_log, results.eval(top=104, ec50=-6.1, hill_slope=.622),\n",
    "        '--', label='lower $EC_{50}$') # evaluation of parameters\n",
    "plt.title(\"Nonlinear regression curve (3PL) using lmfit\")\n",
    "plt.xlabel(\"Log[Norepinephrine, M]\")\n",
    "plt.ylabel(\"% relaxation\")\n",
    "plt.legend();"
   ]
  },
  {
   "cell_type": "markdown",
   "metadata": {},
   "source": [
    "### Goodness of fit"
   ]
  },
  {
   "cell_type": "code",
   "execution_count": 28,
   "metadata": {},
   "outputs": [
    {
     "name": "stdout",
     "output_type": "stream",
     "text": [
      "Absolute sum of squares (Chi-square):43.0\n"
     ]
    }
   ],
   "source": [
    "print(f\"Absolute sum of squares (Chi-square):{(results.residual**2).sum():3.1f}\")"
   ]
  },
  {
   "cell_type": "code",
   "execution_count": 29,
   "metadata": {},
   "outputs": [
    {
     "name": "stdout",
     "output_type": "stream",
     "text": [
      "R square using TSS and RSS: 0.9971202652833819\n"
     ]
    }
   ],
   "source": [
    "def compute_rss(y_estimate, y): \n",
    "  return sum(np.power(y - y_estimate, 2)) \n",
    "\n",
    "rss = compute_rss(results.best_fit, relaxation)\n",
    "tss = np.sum(np.power(relaxation - np.mean(relaxation), 2))\n",
    "print(f\"R square using TSS and RSS: {(tss-rss)/tss}\")"
   ]
  },
  {
   "cell_type": "markdown",
   "metadata": {},
   "source": [
    "R² is the fraction of the total variance of Y that is explained by the model. In this example, the curve comes very close to all the data points, so the R² is very high."
   ]
  },
  {
   "cell_type": "markdown",
   "metadata": {},
   "source": [
    "## Bootstrapping"
   ]
  },
  {
   "cell_type": "code",
   "execution_count": 57,
   "metadata": {},
   "outputs": [],
   "source": [
    "params = gmodel.make_params(top=100, ec50=-5, hill_slope=.6)\n",
    "results = gmodel.fit(relaxation, x=norepi_log, params=params) # need to rerun fit to erase last parameters\n",
    "\n",
    "# bootstrapping starts here:\n",
    "size=10000\n",
    "inds = np.arange(len(norepi_log))\n",
    "bs_top_reps = np.empty(size)\n",
    "bs_ec50_reps = np.empty(size)\n",
    "bs_hill_slope_reps = np.empty(size)\n",
    "  \n",
    "for _ in range(size):\n",
    "    bs_inds = np.random.choice(inds, len(inds))\n",
    "    bs_x, bs_y = norepi_log[bs_inds], relaxation[bs_inds]\n",
    "    results.fit(bs_y, x=bs_x, params=params)\n",
    "    bs_top_reps[_] = results.params['top'].value\n",
    "    bs_ec50_reps[_] = results.params['ec50'].value\n",
    "    bs_hill_slope_reps[_] = results.params['hill_slope'].value"
   ]
  },
  {
   "cell_type": "code",
   "execution_count": 58,
   "metadata": {},
   "outputs": [
    {
     "data": {
      "text/plain": [
       "array([1.01715707e+02, 6.67488632e+07])"
      ]
     },
     "execution_count": 58,
     "metadata": {},
     "output_type": "execute_result"
    }
   ],
   "source": [
    "np.percentile(bs_top_reps, [2.5, 97.5])"
   ]
  },
  {
   "cell_type": "code",
   "execution_count": 59,
   "metadata": {},
   "outputs": [
    {
     "data": {
      "text/plain": [
       "array([ -5.71800717, 150.10910291])"
      ]
     },
     "execution_count": 59,
     "metadata": {},
     "output_type": "execute_result"
    }
   ],
   "source": [
    "np.percentile(bs_ec50_reps, [2.5, 97.5])"
   ]
  },
  {
   "cell_type": "code",
   "execution_count": 60,
   "metadata": {},
   "outputs": [
    {
     "data": {
      "text/plain": [
       "array([0.23449334, 0.7053197 ])"
      ]
     },
     "execution_count": 60,
     "metadata": {},
     "output_type": "execute_result"
    }
   ],
   "source": [
    "np.percentile(bs_hill_slope_reps, [2.5, 97.5])"
   ]
  },
  {
   "cell_type": "code",
   "execution_count": 61,
   "metadata": {},
   "outputs": [
    {
     "data": {
      "image/png": "[encoded data removed]",
      "text/plain": [
       "<Figure size 432x288 with 1 Axes>"
      ]
     },
     "metadata": {
      "needs_background": "light"
     },
     "output_type": "display_data"
    }
   ],
   "source": [
    "# plt the 500 first pairs of parameters\n",
    "plt.plot(norepi_log, relaxation, 'bo', linestyle='None')\n",
    "\n",
    "for _ in range(500):\n",
    "    plt.plot(norepi_log, logistic3(norepi_log, bs_top_reps[_],\n",
    "                                         ec50=bs_ec50_reps[_],\n",
    "                                         hill_slope=bs_hill_slope_reps[_]),\n",
    "                 color='grey', lw=1, alpha=.1)\n",
    "    \n",
    "plt.xlabel('Log[norepinephrine, M]')\n",
    "plt.ylabel('% relaxation');"
   ]
  },
  {
   "cell_type": "markdown",
   "metadata": {},
   "source": [
    "## Comparing models"
   ]
  },
  {
   "cell_type": "markdown",
   "metadata": {},
   "source": [
    "We compare the fit of two dose-response models. The second curve represent a fit by a simpler model in which the Hill slope was fixed to a standard value of 1.0. The residuals from the fixed-slope model are much larger and not random. In contrast the residuals from the variable slope model are smaller and random (no obvious pattern)."
   ]
  },
  {
   "cell_type": "code",
   "execution_count": 62,
   "metadata": {},
   "outputs": [],
   "source": [
    "x = np.arange(-8, -2.5, .5) # log scale\n",
    "y = np.array([2.6, 10.5, 15.8, 21.1, 36.8, 57.9, 73.7, 89.5, 94.7, 100, 100])"
   ]
  },
  {
   "cell_type": "code",
   "execution_count": 63,
   "metadata": {},
   "outputs": [],
   "source": [
    "def logistic3_fixHill(x, top, ec50):\n",
    "    \"\"\"3PL logistic equation with fixed Hill slope\"\"\"\n",
    "    return (0 + ((top - 0) / (1 + 10**((ec50 - x) * 1))))"
   ]
  },
  {
   "cell_type": "code",
   "execution_count": 64,
   "metadata": {},
   "outputs": [
    {
     "data": {
      "text/plain": [
       "['top', 'ec50', 'hill_slope']"
      ]
     },
     "execution_count": 64,
     "metadata": {},
     "output_type": "execute_result"
    }
   ],
   "source": [
    "# initiation of the variable slope model\n",
    "gmodel_1 = Model(logistic3)\n",
    "gmodel_1.param_names"
   ]
  },
  {
   "cell_type": "code",
   "execution_count": 65,
   "metadata": {},
   "outputs": [
    {
     "data": {
      "text/plain": [
       "['top', 'ec50']"
      ]
     },
     "execution_count": 65,
     "metadata": {},
     "output_type": "execute_result"
    }
   ],
   "source": [
    "# initiation of the fixed slope model\n",
    "gmodel_2 = Model(logistic3_fixHill)\n",
    "gmodel_2.param_names"
   ]
  },
  {
   "cell_type": "code",
   "execution_count": 114,
   "metadata": {},
   "outputs": [],
   "source": [
    "# initiations of the p0s\n",
    "params_1 = gmodel_1.make_params(top=100, ec50=-5, hill_slope=.6) # variable slope\n",
    "params_2 = gmodel_2.make_params(top=100, ec50=-5)                # fixed slope"
   ]
  },
  {
   "cell_type": "code",
   "execution_count": 115,
   "metadata": {},
   "outputs": [],
   "source": [
    "# here we go!\n",
    "results_1 = gmodel_1.fit(relaxation, x=norepi_log, params=params_1)\n",
    "results_2 = gmodel_2.fit(relaxation, x=norepi_log, params=params_2)"
   ]
  },
  {
   "cell_type": "code",
   "execution_count": 116,
   "metadata": {},
   "outputs": [
    {
     "data": {
      "image/png": "[encoded data removed]",
      "text/plain": [
       "<Figure size 432x288 with 1 Axes>"
      ]
     },
     "metadata": {
      "needs_background": "light"
     },
     "output_type": "display_data"
    }
   ],
   "source": [
    "# let's plot both curves on the same graph\n",
    "plt.plot(norepi_log, relaxation, 'ko', label='data') # original data points\n",
    "\n",
    "plt.plot(norepi_log, results_1.best_fit, 'r-', label='variable slope')\n",
    "plt.plot(norepi_log, results_2.best_fit, 'b-', label='fixed slope')\n",
    "\n",
    "plt.title(\"Nonlinear regression curve (3PL) variable vs. fixed Hill slope\")\n",
    "plt.xlabel(\"Log[Norepinephrine, M]\")\n",
    "plt.ylabel(\"% relaxation\")\n",
    "plt.legend();"
   ]
  },
  {
   "cell_type": "code",
   "execution_count": 117,
   "metadata": {},
   "outputs": [
    {
     "data": {
      "image/png": "[encoded data removed]",
      "text/plain": [
       "<Figure size 504x288 with 2 Axes>"
      ]
     },
     "metadata": {
      "needs_background": "light"
     },
     "output_type": "display_data"
    }
   ],
   "source": [
    "# let's have a look at the residuals\n",
    "plt.figure(figsize=(7,4))\n",
    "plt.subplot(1,2,1)\n",
    "results_1.plot_residuals()\n",
    "plt.ylim(-15,15)\n",
    "plt.subplot(1,2,2)\n",
    "results_2.plot_residuals() # looks like we show the distance of the curve from the point\n",
    "plt.ylim(-15,15)\n",
    "plt.tight_layout();"
   ]
  },
  {
   "cell_type": "code",
   "execution_count": 118,
   "metadata": {},
   "outputs": [
    {
     "data": {
      "text/plain": [
       "array([ 0.81522906, -3.74228399, -2.84946779,  2.3506351 ,  2.03502154,\n",
       "       -0.74465642,  0.57540269, -2.49058172,  0.264254  , -0.59534315,\n",
       "        1.72876687])"
      ]
     },
     "execution_count": 118,
     "metadata": {},
     "output_type": "execute_result"
    }
   ],
   "source": [
    "results_1.residual"
   ]
  },
  {
   "cell_type": "code",
   "execution_count": 119,
   "metadata": {},
   "outputs": [
    {
     "data": {
      "image/png": "[encoded data removed]",
      "text/plain": [
       "<Figure size 432x288 with 1 Axes>"
      ]
     },
     "metadata": {
      "needs_background": "light"
     },
     "output_type": "display_data"
    }
   ],
   "source": [
    "plt.boxplot([results_1.residual, results_2.residual])\n",
    "plt.xticks([1,2], ['variable', 'fixed'])\n",
    "plt.ylabel(\"Residual\")\n",
    "plt.title(\"residuals from the two models\")\n",
    "plt.ylim(-11, 15)\n",
    "plt.axhline(0, linestyle='--', color='red', alpha=.2);"
   ]
  },
  {
   "cell_type": "markdown",
   "metadata": {},
   "source": [
    "H0 is that the simpler model is correct. In fact the alternative model fits much better (lower sum of squares) but has one fewer df. The calculations balance the difference in df with the difference in SS."
   ]
  },
  {
   "cell_type": "markdown",
   "metadata": {},
   "source": [
    "Hypothesis | Scatter from | Sum of squares | df\n",
    "---|---|---|---\n",
    "Null | Fixed slope | 358.1 | 9\n",
    "Alternative | Variable slope | 43.0 | 8\n",
    "Difference | Improvement | 315.1 | 1"
   ]
  },
  {
   "cell_type": "code",
   "execution_count": 121,
   "metadata": {},
   "outputs": [
    {
     "name": "stdout",
     "output_type": "stream",
     "text": [
      "Sum of squares for the fixed slope model: 358.1\n",
      "Degrees of freedom for the fixed slope model: 9\n",
      "Sum of squares for the variable slope model: 43.0\n",
      "Degrees of freedom for the variable slope model: 8\n"
     ]
    }
   ],
   "source": [
    "print(f\"Sum of squares for the fixed slope model: {np.sum(results_2.residual**2):4.1f}\")\n",
    "print(f\"Degrees of freedom for the fixed slope model: {len(x) - len(results_2.params)}\")\n",
    "print(f\"Sum of squares for the variable slope model: {np.sum(results_1.residual**2):4.1f}\")\n",
    "print(f\"Degrees of freedom for the variable slope model: {len(x) - len(results_1.params)}\")"
   ]
  },
  {
   "cell_type": "markdown",
   "metadata": {},
   "source": [
    "Computing an F ratio and P value from the fits of the 2 models\n",
    "\n",
    "Source of variation | Sum of squares | DF | MS | F ratio | P value\n",
    "---|---|---|---|---|---\n",
    "Difference | 315.1 | 1 | 315.1 | 58.6 | <0.0001\n",
    "Variable slope model | 43.0 | 8 | 5.4 |\n",
    "Fixed slope model |358.1 | 9"
   ]
  },
  {
   "cell_type": "code",
   "execution_count": 125,
   "metadata": {},
   "outputs": [],
   "source": [
    "MS_diff = (np.sum(results_2.residual**2) - np.sum(results_1.residual**2)) / (\n",
    "(len(x) - len(results_2.params)) - (len(x) - len(results_1.params)))"
   ]
  },
  {
   "cell_type": "code",
   "execution_count": 129,
   "metadata": {},
   "outputs": [],
   "source": [
    "MS_variable = np.sum(results_1.residual**2) / (len(x) - len(results_1.params))"
   ]
  },
  {
   "cell_type": "code",
   "execution_count": 130,
   "metadata": {},
   "outputs": [
    {
     "name": "stdout",
     "output_type": "stream",
     "text": [
      "F ratio : 58.68968193213107\n"
     ]
    }
   ],
   "source": [
    "F_ratio = MS_diff / MS_variable\n",
    "print(f\"F ratio : {F_ratio}\")"
   ]
  },
  {
   "cell_type": "code",
   "execution_count": 132,
   "metadata": {},
   "outputs": [
    {
     "name": "stdout",
     "output_type": "stream",
     "text": [
      "P values computed from the F ratio distribution: 0.00006\n"
     ]
    }
   ],
   "source": [
    "dfn, dfd = 1, 8\n",
    "p_value= 1 - stats.f(dfn, dfd).cdf(F_ratio)\n",
    "print(f\"P values computed from the F ratio distribution: {p_value:5.5f}\")"
   ]
  },
  {
   "cell_type": "markdown",
   "metadata": {},
   "source": [
    "If the fixed-slope model were correct, it is possible that random scatter of points made the curve fit so badly, but since the P value is less than 0.0001, this would happen less than 0.01% of the time. The low P value is strong evidence that the simple model is inadequate, and that more complicated model in which the program fits the Hill slope is preferable."
   ]
  }
 ],
 "metadata": {
  "kernelspec": {
   "display_name": "Python 3",
   "language": "python",
   "name": "python3"
  },
  "language_info": {
   "codemirror_mode": {
    "name": "ipython",
    "version": 3
   },
   "file_extension": ".py",
   "mimetype": "text/x-python",
   "name": "python",
   "nbconvert_exporter": "python",
   "pygments_lexer": "ipython3",
   "version": "3.7.1"
  }
 },
 "nbformat": 4,
 "nbformat_minor": 2
}
