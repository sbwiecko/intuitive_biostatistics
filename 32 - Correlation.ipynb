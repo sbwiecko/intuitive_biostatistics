{
 "cells": [
  {
   "cell_type": "markdown",
   "metadata": {},
   "source": [
    "# Correlation\n",
    "\n",
    "## Introduction\n",
    "\n",
    "In biology, it's often crucial to understand how different variables relate to each other. Does the abundance of a particular species increase with temperature? Is there a relationship between gene expression levels and disease severity? Correlation analysis provides the tools to quantify these relationships.\n",
    "\n",
    "This chapter explores correlation, a statistical method for measuring the strength and direction of the association between two continuous variables. We'll focus on Pearson correlation, which quantifies the linear relationship between variables. It's important to remember that **correlation** is distinct from **regression** (covered in the next chapter). While regression analyzes how one variable predicts another, correlation simply assesses the degree to which they move together. In correlation, X and Y are interchangeable, unlike in regression.\n",
    "\n",
    "While correlation assesses the general relationship between two variables, there are cases where we want to evaluate the agreement between two methods measuring the same quantity. For example, we might compare a new, less expensive assay to a gold-standard method. In these situations, [Bland-Altman plots](https://en.wikipedia.org/wiki/Bland%E2%80%93Altman_plot) are a valuable tool, but won't be discussed in this chapter, but the Pingouin package offers a [convenient function for comparing visually two sets of measurements](https://pingouin-stats.org/build/html/generated/pingouin.plot_blandaltman.html#r5bbb6e366078-2).\n",
    "\n",
    "We'll begin this chapter by visualizing relationships with scatter plots and exploring different types of correlation.  Next, we'll delve into the assumptions underlying correlation analysis, including linearity, normality, and the absence of outliers. We'll then introduce various measures of correlation, including covariance, Pearson's *r* correlation coefficient, Spearman's rank correlation, and Kendall's rank correlation, providing Python code examples for their calculation.\n",
    "\n",
    "The chapter will also cover statistical inference for correlation, including hypothesis testing to determine if a correlation is significantly different from zero, and methods for calculating confidence intervals. We'll explore both parametric approaches and bootstrapping, demonstrating their implementation in Python.\n",
    "\n",
    "Finally, we'll emphasize the crucial distinction between correlation and causation, illustrating this concept with biologically relevant examples. By the end of this chapter, you'll have a solid understanding of correlation analysis and be equipped to apply it to your own biological research using Python."
   ]
  },
  {
   "cell_type": "markdown",
   "metadata": {},
   "source": [
    "## Definitions\n",
    "\n",
    "### What is correlation?\n",
    "\n",
    "Correlation is a statistical measure that describes the strength and direction of the relationship between two continuous variables. In simpler terms, it tells us how strongly two things are related and whether they tend to move together in the same direction or in opposite directions.\n",
    "\n",
    "Imagine you're observing the height and weight of a group of people. You might notice that taller individuals generally weigh more. This suggests a positive correlation between height and weight - as one increases, the other tends to increase as well. Conversely, if you were looking at the relationship between exercise frequency and resting heart rate, you might find a negative correlation - people who exercise more often tend to have lower resting heart rates.\n",
    "\n",
    "### Types of correlation\n",
    "\n",
    "Correlation is a powerful tool because it allows us to quantify these relationships. Correlation can be classified into three main types based on the direction and strength of the relationship, with the **correlation coefficient**, often denoted by __*r*__, expressing this relationship as a number ranging **from -1 to +1**:\n",
    "\n",
    "- Positive correlation ($0 \\lt r \\le 1$): as one variable increases, the other tends to increase as well. A perfect positive correlation is represented by a correlation coefficient of +1, e.g., height and weight, study time and exam scores.\n",
    "- Negative correlation ($-1 \\le r \\lt 0$): as one variable increases, the other tends to decrease. A perfect negative correlation has a coefficient of -1, e.g., exercise and resting heart rate, stress and immune function.\n",
    "- No correlation ($r=0$): there is no apparent linear relationship between the variables. The correlation coefficient is close to 0, indicating that changes in one variable don't reliably predict changes in the other, e.g., shoe size and IQ, hair color and favorite movie genre.\n",
    "\n",
    "When two variables show a very large correlation, one can be said to be a **predictor** of the other, in the sense that knowing the value of one of the two variable allows us to make a reasonnable guess about the value of the second variable. Another way of looking at this relationship is to see those variable as redundant, in the sense that they carry the same information: knowing the value of both variable does not bring much more insight compared to knowing the value of only one.\n",
    "\n",
    "### Applications in biology\n",
    "\n",
    "Correlation analysis has numerous applications in biological research, including:\n",
    "\n",
    "- Gene expression analysis: identifying correlations between the expression levels of different genes to understand regulatory networks and pathways.\n",
    "- Ecology: studying the relationship between species abundance and environmental factors like temperature or rainfall.\n",
    "- Drug discovery: examining the correlation between drug dosage and therapeutic effect or side effects.\n",
    "- Evolutionary biology:investigating the correlation between morphological traits and environmental pressures.\n",
    "- Epidemiology: exploring the correlation between lifestyle factors (diet, exercise) and disease risk.\n",
    "\n",
    "By understanding and quantifying these relationships, biologists can gain valuable insights into complex biological processes and phenomena."
   ]
  },
  {
   "cell_type": "markdown",
   "metadata": {},
   "source": [
    "## Descriptive statistics and visualization\n",
    "\n",
    "To illustrate the concepts of correlation and how to explore relationships between variables, we'll use data from a study by [Borkman and colleagues](https://pubmed.ncbi.nlm.nih.gov/8418404/). They investigated the link between the fatty-acid composition of skeletal-muscle phospholipids and insulin sensitivity. Their research involved two groups of subjects, but we will focus on the group of 13 normal men, where insulin sensitivity was assessed using euglycemic-clamp studies, with muscle biopsies taken from the vastus lateralis. Specifically, we'll examine the relationship between insulin sensitivity and the percentage of C20-22 fatty acids in the muscle phospholipids, as summarized in Table 32.1 on page 319 from \"Intuitive Biostatistics 4th Edition\"."
   ]
  },
  {
   "cell_type": "code",
   "execution_count": 1,
   "metadata": {},
   "outputs": [
    {
     "data": {
      "text/html": [
       "<div>\n",
       "<style scoped>\n",
       "    .dataframe tbody tr th:only-of-type {\n",
       "        vertical-align: middle;\n",
       "    }\n",
       "\n",
       "    .dataframe tbody tr th {\n",
       "        vertical-align: top;\n",
       "    }\n",
       "\n",
       "    .dataframe thead th {\n",
       "        text-align: right;\n",
       "    }\n",
       "</style>\n",
       "<table border=\"1\" class=\"dataframe\">\n",
       "  <thead>\n",
       "    <tr style=\"text-align: right;\">\n",
       "      <th></th>\n",
       "      <th>per_C2022_fatacids</th>\n",
       "      <th>insulin_sensitivity</th>\n",
       "    </tr>\n",
       "  </thead>\n",
       "  <tbody>\n",
       "    <tr>\n",
       "      <th>0</th>\n",
       "      <td>17.9</td>\n",
       "      <td>250</td>\n",
       "    </tr>\n",
       "    <tr>\n",
       "      <th>1</th>\n",
       "      <td>18.3</td>\n",
       "      <td>220</td>\n",
       "    </tr>\n",
       "    <tr>\n",
       "      <th>2</th>\n",
       "      <td>18.3</td>\n",
       "      <td>145</td>\n",
       "    </tr>\n",
       "    <tr>\n",
       "      <th>3</th>\n",
       "      <td>18.4</td>\n",
       "      <td>115</td>\n",
       "    </tr>\n",
       "    <tr>\n",
       "      <th>4</th>\n",
       "      <td>18.4</td>\n",
       "      <td>230</td>\n",
       "    </tr>\n",
       "  </tbody>\n",
       "</table>\n",
       "</div>"
      ],
      "text/plain": [
       "   per_C2022_fatacids  insulin_sensitivity\n",
       "0                17.9                  250\n",
       "1                18.3                  220\n",
       "2                18.3                  145\n",
       "3                18.4                  115\n",
       "4                18.4                  230"
      ]
     },
     "execution_count": 1,
     "metadata": {},
     "output_type": "execute_result"
    }
   ],
   "source": [
    "import pandas as pd\n",
    "\n",
    "# Example data from the book, page 319 (directly into a DataFrame)\n",
    "df = pd.DataFrame({\n",
    "    # percentage of C20-22 fatty acids\n",
    "    'per_C2022_fatacids': [17.9, 18.3, 18.3, 18.4, 18.4, 20.2, 20.3, 21.8, 21.9, 22.1, 23.1, 24.2, 24.4],\n",
    "    # insulin sensitivity index\n",
    "    'insulin_sensitivity': [250, 220, 145, 115, 230, 200, 330, 400, 370, 260, 270, 530, 375],\n",
    "})\n",
    "\n",
    "df.head()"
   ]
  },
  {
   "cell_type": "markdown",
   "metadata": {},
   "source": [
    "### Descriptive statistics\n",
    "\n",
    "A crucial first step in any correlation analysis is to explore the data visually and through descriptive statistics. This allows us to identify potential patterns, outliers, and the overall distribution of the variables, which can inform our subsequent analysis and interpretation."
   ]
  },
  {
   "cell_type": "code",
   "execution_count": 2,
   "metadata": {},
   "outputs": [
    {
     "name": "stdout",
     "output_type": "stream",
     "text": [
      "Descriptive statistics using Pandas:\n"
     ]
    },
    {
     "data": {
      "text/html": [
       "<div>\n",
       "<style scoped>\n",
       "    .dataframe tbody tr th:only-of-type {\n",
       "        vertical-align: middle;\n",
       "    }\n",
       "\n",
       "    .dataframe tbody tr th {\n",
       "        vertical-align: top;\n",
       "    }\n",
       "\n",
       "    .dataframe thead th {\n",
       "        text-align: right;\n",
       "    }\n",
       "</style>\n",
       "<table border=\"1\" class=\"dataframe\">\n",
       "  <thead>\n",
       "    <tr style=\"text-align: right;\">\n",
       "      <th></th>\n",
       "      <th>per_C2022_fatacids</th>\n",
       "      <th>insulin_sensitivity</th>\n",
       "    </tr>\n",
       "  </thead>\n",
       "  <tbody>\n",
       "    <tr>\n",
       "      <th>count</th>\n",
       "      <td>13.000000</td>\n",
       "      <td>13.000000</td>\n",
       "    </tr>\n",
       "    <tr>\n",
       "      <th>mean</th>\n",
       "      <td>20.715385</td>\n",
       "      <td>284.230769</td>\n",
       "    </tr>\n",
       "    <tr>\n",
       "      <th>std</th>\n",
       "      <td>2.356850</td>\n",
       "      <td>113.886752</td>\n",
       "    </tr>\n",
       "    <tr>\n",
       "      <th>min</th>\n",
       "      <td>17.900000</td>\n",
       "      <td>115.000000</td>\n",
       "    </tr>\n",
       "    <tr>\n",
       "      <th>25%</th>\n",
       "      <td>18.400000</td>\n",
       "      <td>220.000000</td>\n",
       "    </tr>\n",
       "    <tr>\n",
       "      <th>50%</th>\n",
       "      <td>20.300000</td>\n",
       "      <td>260.000000</td>\n",
       "    </tr>\n",
       "    <tr>\n",
       "      <th>75%</th>\n",
       "      <td>22.100000</td>\n",
       "      <td>370.000000</td>\n",
       "    </tr>\n",
       "    <tr>\n",
       "      <th>max</th>\n",
       "      <td>24.400000</td>\n",
       "      <td>530.000000</td>\n",
       "    </tr>\n",
       "  </tbody>\n",
       "</table>\n",
       "</div>"
      ],
      "text/plain": [
       "       per_C2022_fatacids  insulin_sensitivity\n",
       "count           13.000000            13.000000\n",
       "mean            20.715385           284.230769\n",
       "std              2.356850           113.886752\n",
       "min             17.900000           115.000000\n",
       "25%             18.400000           220.000000\n",
       "50%             20.300000           260.000000\n",
       "75%             22.100000           370.000000\n",
       "max             24.400000           530.000000"
      ]
     },
     "execution_count": 2,
     "metadata": {},
     "output_type": "execute_result"
    }
   ],
   "source": [
    "# Display descriptive statistics using Pandas' describe()\n",
    "print(\"Descriptive statistics using Pandas:\")\n",
    "df.describe()"
   ]
  },
  {
   "cell_type": "code",
   "execution_count": 3,
   "metadata": {},
   "outputs": [
    {
     "name": "stdout",
     "output_type": "stream",
     "text": [
      "Additional Statistics using SciPy:\n",
      "Insulin Sensitivity:\n",
      " DescribeResult(nobs=13, minmax=(115, 530), mean=284.2307692307692, variance=12970.192307692307, skewness=0.5429430677319255, kurtosis=-0.19429352446593473)\n",
      "\n",
      "%C20-20 fatty acids:\n",
      " DescribeResult(nobs=13, minmax=(17.9, 24.4), mean=20.71538461538461, variance=5.55474358974359, skewness=0.2382148683128159, kurtosis=-1.3626759485656732)\n"
     ]
    }
   ],
   "source": [
    "from scipy.stats import describe\n",
    "\n",
    "# Display additional statistics using SciPy\n",
    "print(\"Additional Statistics using SciPy:\")\n",
    "print(\"Insulin Sensitivity:\\n\", describe(df['insulin_sensitivity']))\n",
    "print(\"\\n%C20-20 fatty acids:\\n\", describe(df['per_C2022_fatacids']))"
   ]
  },
  {
   "cell_type": "markdown",
   "metadata": {},
   "source": [
    "### Visualization\n",
    "\n",
    "(scatter_plot)=\n",
    "### Scatter plots\n",
    "\n",
    "Scatter plots are a fundamental tool for visualizing the relationship between two continuous variables. They provide an intuitive way to grasp the strength and direction of a correlation by displaying the data as a collection of points on a two-dimensional graph."
   ]
  },
  {
   "cell_type": "code",
   "execution_count": 4,
   "metadata": {},
   "outputs": [
    {
     "data": {
      "image/png": "[encoded data removed]",
      "text/plain": [
       "<Figure size 640x480 with 1 Axes>"
      ]
     },
     "metadata": {},
     "output_type": "display_data"
    }
   ],
   "source": [
    "import matplotlib.pyplot as plt\n",
    "import seaborn as sns\n",
    "\n",
    "plt.scatter(df['per_C2022_fatacids'], df['insulin_sensitivity'])\n",
    "\n",
    "plt.title('Correlation between %C20-22 and insulin sensitivity')\n",
    "plt.xlabel('%C20-22 fatty acids')\n",
    "plt.ylabel('Insulin sensitivity (mg/m²/min)')\n",
    "plt.axis((16, 26, 0, 600))\n",
    "sns.despine();"
   ]
  },
  {
   "cell_type": "markdown",
   "metadata": {},
   "source": [
    "Observing the scatter plot, we can see an upward trend in the data points. This indicates that individuals with higher percentages of C20-22 fatty acids in their muscle tissue tend to have higher insulin sensitivity. While there is some variability, the overall pattern suggests a positive association between these two variables."
   ]
  },
  {
   "cell_type": "markdown",
   "metadata": {},
   "source": [
    "### Correlation matrices and heatmaps\n",
    "\n",
    "Scatter plots are excellent for visualizing the relationship between two variables. However, biological datasets often contain many variables, and we might be interested in exploring the relationships between all possible pairs. For this purpose, we can use correlation matrices and heatmaps, which provide a concise overview of the correlations between **multiple variables**.\n",
    "\n",
    "A **correlation matrix** is a table that displays the correlation coefficients between all pairs of variables in a dataset. Each row and column represents a variable, and the cells at the intersection show the corresponding correlation coefficient. We'll delve deeper into the meaning and calculation of these correlation coefficients in the next section.\n",
    "\n",
    "A **heatmap** is a graphical representation of a correlation matrix, where the values of the correlation coefficients are represented by colors. Typically, a gradient of colors is used, with warmer colors (e.g., red) indicating stronger positive correlations, cooler colors (e.g., blue) indicating stronger negative correlations, and lighter colors (e.g., white or pale yellow) indicating weak or no correlation.\n",
    "\n",
    "Heatmaps make it easy to identify patterns of correlation at a glance. For example, we can quickly spot clusters of variables that are highly correlated with each other or identify variables that are negatively correlated with most other variables. Let's illustrate this concept using the [Palmer penguins dataset introduced in a previous chapter](https://sbwiecko.github.io/intuitive_biostatistics/30%20-%20Comparing%20Two%20Unpaired%20Means.html#working-with-real-world-data)."
   ]
  },
  {
   "cell_type": "code",
   "execution_count": 5,
   "metadata": {},
   "outputs": [
    {
     "data": {
      "text/html": [
       "<div>\n",
       "<style scoped>\n",
       "    .dataframe tbody tr th:only-of-type {\n",
       "        vertical-align: middle;\n",
       "    }\n",
       "\n",
       "    .dataframe tbody tr th {\n",
       "        vertical-align: top;\n",
       "    }\n",
       "\n",
       "    .dataframe thead th {\n",
       "        text-align: right;\n",
       "    }\n",
       "</style>\n",
       "<table border=\"1\" class=\"dataframe\">\n",
       "  <thead>\n",
       "    <tr style=\"text-align: right;\">\n",
       "      <th></th>\n",
       "      <th>species</th>\n",
       "      <th>island</th>\n",
       "      <th>bill_length_mm</th>\n",
       "      <th>bill_depth_mm</th>\n",
       "      <th>flipper_length_mm</th>\n",
       "      <th>body_mass_g</th>\n",
       "      <th>sex</th>\n",
       "    </tr>\n",
       "  </thead>\n",
       "  <tbody>\n",
       "    <tr>\n",
       "      <th>0</th>\n",
       "      <td>Adelie</td>\n",
       "      <td>Biscoe</td>\n",
       "      <td>37.8</td>\n",
       "      <td>18.3</td>\n",
       "      <td>174.0</td>\n",
       "      <td>3400.0</td>\n",
       "      <td>female</td>\n",
       "    </tr>\n",
       "    <tr>\n",
       "      <th>1</th>\n",
       "      <td>Adelie</td>\n",
       "      <td>Biscoe</td>\n",
       "      <td>37.7</td>\n",
       "      <td>18.7</td>\n",
       "      <td>180.0</td>\n",
       "      <td>3600.0</td>\n",
       "      <td>male</td>\n",
       "    </tr>\n",
       "    <tr>\n",
       "      <th>2</th>\n",
       "      <td>Adelie</td>\n",
       "      <td>Biscoe</td>\n",
       "      <td>35.9</td>\n",
       "      <td>19.2</td>\n",
       "      <td>189.0</td>\n",
       "      <td>3800.0</td>\n",
       "      <td>female</td>\n",
       "    </tr>\n",
       "    <tr>\n",
       "      <th>3</th>\n",
       "      <td>Adelie</td>\n",
       "      <td>Biscoe</td>\n",
       "      <td>38.2</td>\n",
       "      <td>18.1</td>\n",
       "      <td>185.0</td>\n",
       "      <td>3950.0</td>\n",
       "      <td>male</td>\n",
       "    </tr>\n",
       "    <tr>\n",
       "      <th>4</th>\n",
       "      <td>Adelie</td>\n",
       "      <td>Biscoe</td>\n",
       "      <td>38.8</td>\n",
       "      <td>17.2</td>\n",
       "      <td>180.0</td>\n",
       "      <td>3800.0</td>\n",
       "      <td>male</td>\n",
       "    </tr>\n",
       "  </tbody>\n",
       "</table>\n",
       "</div>"
      ],
      "text/plain": [
       "  species  island  bill_length_mm  bill_depth_mm  flipper_length_mm  \\\n",
       "0  Adelie  Biscoe            37.8           18.3              174.0   \n",
       "1  Adelie  Biscoe            37.7           18.7              180.0   \n",
       "2  Adelie  Biscoe            35.9           19.2              189.0   \n",
       "3  Adelie  Biscoe            38.2           18.1              185.0   \n",
       "4  Adelie  Biscoe            38.8           17.2              180.0   \n",
       "\n",
       "   body_mass_g     sex  \n",
       "0       3400.0  female  \n",
       "1       3600.0    male  \n",
       "2       3800.0  female  \n",
       "3       3950.0    male  \n",
       "4       3800.0    male  "
      ]
     },
     "execution_count": 5,
     "metadata": {},
     "output_type": "execute_result"
    }
   ],
   "source": [
    "import pingouin as pg\n",
    "\n",
    "# List all available datasets in pingouin (commented out)\n",
    "# pg.list_dataset()\n",
    "\n",
    "# Load the 'penguins' dataset\n",
    "penguins = pg.read_dataset('penguins')\n",
    "\n",
    "# Display the first 5 rows of the dataset\n",
    "penguins.head()"
   ]
  },
  {
   "cell_type": "code",
   "execution_count": 6,
   "metadata": {},
   "outputs": [
    {
     "data": {
      "image/png": "[encoded data removed]",
      "text/plain": [
       "<Figure size 640x480 with 2 Axes>"
      ]
     },
     "metadata": {},
     "output_type": "display_data"
    }
   ],
   "source": [
    "# Calculate the correlation matrix (excluding non-numeric columns)\n",
    "corr_matrix = penguins[['bill_length_mm', 'bill_depth_mm', 'flipper_length_mm', 'body_mass_g']].corr()\n",
    "\n",
    "# Create a heatmap\n",
    "sns.heatmap(corr_matrix, annot=True, cmap='vlag')\n",
    "plt.title('Correlation matrix heatmap for Palmer penguins dataset');"
   ]
  },
  {
   "cell_type": "markdown",
   "metadata": {},
   "source": [
    "When testing for multiple pairwise correlations, especially with a large number of correlation coefficients, it's important to adjust the P values to account for *multiple comparisons*, [as discussed in a previous chapter](https://sbwiecko.github.io/intuitive_biostatistics/15%20-%20P%20Values%20and%20Statistical%20Significance.html#the-challenge-of-multiple-comparisons). This helps control the false positive rate. The `pairwise_corr` function in the Pingouin library provides a convenient way to do this using the 'padjust' argument."
   ]
  },
  {
   "cell_type": "code",
   "execution_count": 7,
   "metadata": {},
   "outputs": [
    {
     "data": {
      "text/html": [
       "<div>\n",
       "<style scoped>\n",
       "    .dataframe tbody tr th:only-of-type {\n",
       "        vertical-align: middle;\n",
       "    }\n",
       "\n",
       "    .dataframe tbody tr th {\n",
       "        vertical-align: top;\n",
       "    }\n",
       "\n",
       "    .dataframe thead th {\n",
       "        text-align: right;\n",
       "    }\n",
       "</style>\n",
       "<table border=\"1\" class=\"dataframe\">\n",
       "  <thead>\n",
       "    <tr style=\"text-align: right;\">\n",
       "      <th></th>\n",
       "      <th>X</th>\n",
       "      <th>Y</th>\n",
       "      <th>method</th>\n",
       "      <th>alternative</th>\n",
       "      <th>n</th>\n",
       "      <th>r</th>\n",
       "      <th>CI95%</th>\n",
       "      <th>p-unc</th>\n",
       "      <th>p-corr</th>\n",
       "      <th>p-adjust</th>\n",
       "      <th>BF10</th>\n",
       "      <th>power</th>\n",
       "    </tr>\n",
       "  </thead>\n",
       "  <tbody>\n",
       "    <tr>\n",
       "      <th>0</th>\n",
       "      <td>bill_length_mm</td>\n",
       "      <td>bill_depth_mm</td>\n",
       "      <td>pearson</td>\n",
       "      <td>two-sided</td>\n",
       "      <td>342</td>\n",
       "      <td>-0.235</td>\n",
       "      <td>[-0.33, -0.13]</td>\n",
       "      <td>0.0</td>\n",
       "      <td>0.0</td>\n",
       "      <td>bonf</td>\n",
       "      <td>1005.717</td>\n",
       "      <td>0.993</td>\n",
       "    </tr>\n",
       "    <tr>\n",
       "      <th>1</th>\n",
       "      <td>bill_length_mm</td>\n",
       "      <td>flipper_length_mm</td>\n",
       "      <td>pearson</td>\n",
       "      <td>two-sided</td>\n",
       "      <td>342</td>\n",
       "      <td>0.656</td>\n",
       "      <td>[0.59, 0.71]</td>\n",
       "      <td>0.0</td>\n",
       "      <td>0.0</td>\n",
       "      <td>bonf</td>\n",
       "      <td>1.46e+40</td>\n",
       "      <td>1.000</td>\n",
       "    </tr>\n",
       "    <tr>\n",
       "      <th>2</th>\n",
       "      <td>bill_length_mm</td>\n",
       "      <td>body_mass_g</td>\n",
       "      <td>pearson</td>\n",
       "      <td>two-sided</td>\n",
       "      <td>342</td>\n",
       "      <td>0.595</td>\n",
       "      <td>[0.52, 0.66]</td>\n",
       "      <td>0.0</td>\n",
       "      <td>0.0</td>\n",
       "      <td>bonf</td>\n",
       "      <td>8.34e+30</td>\n",
       "      <td>1.000</td>\n",
       "    </tr>\n",
       "    <tr>\n",
       "      <th>3</th>\n",
       "      <td>bill_depth_mm</td>\n",
       "      <td>flipper_length_mm</td>\n",
       "      <td>pearson</td>\n",
       "      <td>two-sided</td>\n",
       "      <td>342</td>\n",
       "      <td>-0.584</td>\n",
       "      <td>[-0.65, -0.51]</td>\n",
       "      <td>0.0</td>\n",
       "      <td>0.0</td>\n",
       "      <td>bonf</td>\n",
       "      <td>2.679e+29</td>\n",
       "      <td>1.000</td>\n",
       "    </tr>\n",
       "    <tr>\n",
       "      <th>4</th>\n",
       "      <td>bill_depth_mm</td>\n",
       "      <td>body_mass_g</td>\n",
       "      <td>pearson</td>\n",
       "      <td>two-sided</td>\n",
       "      <td>342</td>\n",
       "      <td>-0.472</td>\n",
       "      <td>[-0.55, -0.39]</td>\n",
       "      <td>0.0</td>\n",
       "      <td>0.0</td>\n",
       "      <td>bonf</td>\n",
       "      <td>2.103e+17</td>\n",
       "      <td>1.000</td>\n",
       "    </tr>\n",
       "    <tr>\n",
       "      <th>5</th>\n",
       "      <td>flipper_length_mm</td>\n",
       "      <td>body_mass_g</td>\n",
       "      <td>pearson</td>\n",
       "      <td>two-sided</td>\n",
       "      <td>342</td>\n",
       "      <td>0.871</td>\n",
       "      <td>[0.84, 0.89]</td>\n",
       "      <td>0.0</td>\n",
       "      <td>0.0</td>\n",
       "      <td>bonf</td>\n",
       "      <td>1.87e+103</td>\n",
       "      <td>1.000</td>\n",
       "    </tr>\n",
       "  </tbody>\n",
       "</table>\n",
       "</div>"
      ],
      "text/plain": [
       "                   X                  Y   method alternative    n      r  \\\n",
       "0     bill_length_mm      bill_depth_mm  pearson   two-sided  342 -0.235   \n",
       "1     bill_length_mm  flipper_length_mm  pearson   two-sided  342  0.656   \n",
       "2     bill_length_mm        body_mass_g  pearson   two-sided  342  0.595   \n",
       "3      bill_depth_mm  flipper_length_mm  pearson   two-sided  342 -0.584   \n",
       "4      bill_depth_mm        body_mass_g  pearson   two-sided  342 -0.472   \n",
       "5  flipper_length_mm        body_mass_g  pearson   two-sided  342  0.871   \n",
       "\n",
       "            CI95%  p-unc  p-corr p-adjust       BF10  power  \n",
       "0  [-0.33, -0.13]    0.0     0.0     bonf   1005.717  0.993  \n",
       "1    [0.59, 0.71]    0.0     0.0     bonf   1.46e+40  1.000  \n",
       "2    [0.52, 0.66]    0.0     0.0     bonf   8.34e+30  1.000  \n",
       "3  [-0.65, -0.51]    0.0     0.0     bonf  2.679e+29  1.000  \n",
       "4  [-0.55, -0.39]    0.0     0.0     bonf  2.103e+17  1.000  \n",
       "5    [0.84, 0.89]    0.0     0.0     bonf  1.87e+103  1.000  "
      ]
     },
     "execution_count": 7,
     "metadata": {},
     "output_type": "execute_result"
    }
   ],
   "source": [
    "pg.pairwise_corr(\n",
    "    data=penguins,\n",
    "    columns=['bill_length_mm', 'bill_depth_mm', 'flipper_length_mm', 'body_mass_g'],\n",
    "    padjust='bonf',  # one-step Bonferroni correction\n",
    ").round(3)"
   ]
  },
  {
   "cell_type": "markdown",
   "metadata": {},
   "source": [
    "## Assumptions of correlation analysis\n",
    "\n",
    "Before we delve into the calculation and interpretation of correlation coefficients, it's essential to understand the assumptions that underlie correlation analysis. These assumptions are crucial because violating them can lead to misleading or inaccurate results.\n",
    "\n",
    "In this section, we'll examine the key assumptions of correlation analysis, focusing primarily on [Pearson's correlation coefficient](pearson), as it is the most commonly used method and has more stringent assumptions compared to non-parametric alternatives like [Spearman](spearman) and [Kendall](kandall):\n",
    "\n",
    "- **Linearity:** Pearson's correlation measures the strength of a linear relationship. This means that the relationship between the two variables should roughly follow a straight line pattern.\n",
    "- **Normality:** for hypothesis testing with Pearson's correlation, the data should be approximately normally distributed. This assumption is less critical for estimating the correlation coefficient itself but becomes important when assessing statistical significance.\n",
    "- **Homoscedasticity:** this assumption refers to the equal spread of data points across the range of values for both variables. In other words, the variability of one variable should be roughly the same across all values of the other variable.\n",
    "- **No outliers:** outliers, which are extreme data points that deviate significantly from the rest of the data, can have a disproportionate influence on the correlation coefficient.\n",
    "\n",
    "### Linearity\n",
    "\n",
    "The most important assumption for Pearson's correlation is linearity. This means that the relationship between the two variables should be linear. In other words, if we were to plot the variables on a scatter plot, we should be able to draw a straight line through the points that captures the general trend of the data.\n",
    "\n",
    "To assess linearity, the primary tool is the [scatter plot](scatter_plot). By examining the scatter plot of insulin sensitivity and C20-20 fatty acids that we created earlier, we can see that the points appear to cluster around a straight line, supporting the assumption of linearity.\n",
    "\n",
    "While the scatter plot provides a visual assessment, we can also calculate the Pearson correlation coefficient ($r$). We will see in the next section that a high absolute value of $r$ (e.g., above 0.7) can provide further support for a linear relationship. For a more detailed analysis, we can create a residual plot. This involves plotting the **residuals** (the differences between the observed values and the values predicted by a linear regression line) against the predicted values. If the residuals are randomly scattered around zero, it supports the linearity assumption. If there are clear patterns in the residuals, it suggests non-linearity."
   ]
  },
  {
   "cell_type": "code",
   "execution_count": 8,
   "metadata": {},
   "outputs": [
    {
     "data": {
      "image/png": "[encoded data removed]",
      "text/plain": [
       "<Figure size 640x480 with 1 Axes>"
      ]
     },
     "metadata": {},
     "output_type": "display_data"
    }
   ],
   "source": [
    "# Fit a linear regression model using Pingouin\n",
    "model = pg.linear_regression(\n",
    "    df['per_C2022_fatacids'],\n",
    "    df['insulin_sensitivity'],\n",
    "    # remove_na=True,\n",
    ")\n",
    "\n",
    "# Extract the residuals using the residuals_ attribute\n",
    "residuals = model.residuals_\n",
    "\n",
    "# Create a residual plot\n",
    "sns.residplot(\n",
    "    x=df['per_C2022_fatacids'],\n",
    "    y=residuals,\n",
    "    lowess=True,  # Adding a smooth curve to visualize the trend of the residuals\n",
    "    line_kws=dict(color=\"r\"))\n",
    "plt.title('Residual plot')\n",
    "plt.xlabel('%C20-22 fatty acids')\n",
    "plt.ylabel('Residuals');"
   ]
  },
  {
   "cell_type": "markdown",
   "metadata": {},
   "source": [
    "If the relationship appears non-linear, we have a few options:\n",
    "\n",
    "- **Transformations**: we may consider applying transformations to the data (e.g., logarithmic, square root, or reciprocal transformations) to see if we can *linearize* the relationship.\n",
    "- **Non-parametric** methods: we can use non-parametric correlation coefficients like [Spearman's rank correlation](spearman) or [Kendall's tau](kendall), which don't require the assumption of linearity."
   ]
  },
  {
   "cell_type": "markdown",
   "metadata": {},
   "source": [
    "### Normality\n",
    "\n",
    "The normality assumption in the context of correlation analysis refers to the assumption that *both variables being analyzed are approximately normally distributed*. This means that the distribution of the data points for each variable should roughly follow a bell-shaped curve.\n",
    "\n",
    "The normality assumption is particularly important when we want to perform *hypothesis tests* to determine the statistical significance of the correlation. Many common statistical tests for correlation rely on the assumption of normality. Normality is also assumed when calculating confidence intervals for the correlation coefficient.\n",
    "\n",
    "There are several methods to assess the normality of the data, as discussed in more details in [a previous chapter](https://sbwiecko.github.io/intuitive_biostatistics/24%20-%20Normality%20Tests%20and%20Outliers.html).\n",
    "\n",
    "Visual inspection includes:\n",
    "\n",
    "- Histograms: we can create histograms for each variable. A histogram provides a visual representation of the distribution of the data, allowing us to see [if it resembles a bell-shaped curve](https://sbwiecko.github.io/intuitive_biostatistics/24%20-%20Normality%20Tests%20and%20Outliers.html#variability-of-gaussian-samples).\n",
    "- Q-Q plots: we can also generate [Q-Q plots (quantile-quantile plots)](https://sbwiecko.github.io/intuitive_biostatistics/24%20-%20Normality%20Tests%20and%20Outliers.html#q-q-plots) for each variable. A Q-Q plot compares the quantiles of the data to the quantiles of a normal distribution. If the data is normally distributed, the points on the Q-Q plot should fall approximately along a straight line."
   ]
  },
  {
   "cell_type": "code",
   "execution_count": 9,
   "metadata": {},
   "outputs": [
    {
     "data": {
      "image/png": "[encoded data removed]",
      "text/plain": [
       "<Figure size 600x300 with 2 Axes>"
      ]
     },
     "metadata": {},
     "output_type": "display_data"
    }
   ],
   "source": [
    "# Plotting Q-Q plots\n",
    "fig, axes = plt.subplots(1, 2, figsize=(6, 3))\n",
    "\n",
    "for i, data in enumerate(df.columns):\n",
    "    pg.qqplot(\n",
    "        df[data],\n",
    "        dist='norm', # compare the data against the normal distribution\n",
    "        ax=axes[i],\n",
    "        confidence=0.95, # Add 95% confidence intervals\n",
    "    )\n",
    "    axes[i].set_title(f\"Q-Q plot: {data}\")\n",
    "\n",
    "plt.tight_layout();"
   ]
  },
  {
   "cell_type": "markdown",
   "metadata": {},
   "source": [
    "We can also leverage statistical tests:\n",
    "\n",
    "- [D'Agostino-Pearson omnibus K²](https://sbwiecko.github.io/intuitive_biostatistics/24%20-%20Normality%20Tests%20and%20Outliers.html#d-agostino-pearson-omnibus-k2-normality-test) and [Shapiro-Wilk](https://sbwiecko.github.io/intuitive_biostatistics/24%20-%20Normality%20Tests%20and%20Outliers.html#shapiro-wilk-test) tests: this are widely used statistical tests specifically designed to assess normality. They test the null hypothesis that the data is drawn from a normal distribution.\n",
    "- [Kolmogorov-Smirnov test](https://sbwiecko.github.io/intuitive_biostatistics/24%20-%20Normality%20Tests%20and%20Outliers.html#kolmogorov-smirnov-test): this is another test for normality, but it's generally less powerful than the Shapiro-Wilk test."
   ]
  },
  {
   "cell_type": "code",
   "execution_count": 10,
   "metadata": {},
   "outputs": [
    {
     "name": "stdout",
     "output_type": "stream",
     "text": [
      "Shapiro-Wilk test for normality:\n",
      "                           W      pval  normal\n",
      "per_C2022_fatacids  0.890774  0.099953    True\n",
      "                           W      pval  normal\n",
      "insulin_sensitivity  0.96256  0.792641    True\n"
     ]
    }
   ],
   "source": [
    "print(\"Shapiro-Wilk test for normality:\")\n",
    "print(pg.normality(df['per_C2022_fatacids']))\n",
    "print(pg.normality(df['insulin_sensitivity']))"
   ]
  },
  {
   "cell_type": "markdown",
   "metadata": {},
   "source": [
    "If the normality assumption is violated, we have several options:\n",
    "\n",
    "- Transformations: we may consider applying transformations to the data (e.g., logarithmic, square root) to see if we can normalize the distribution.\n",
    "- Non-parametric methods: we could use non-parametric correlation coefficients like [Spearman's rank correlation](spearman) or [Kendall's tau](kendall), which do not require the assumption of normality.\n",
    "- [Permutation tests](permutations): these are resampling-based methods that can be used to test the significance of the correlation without relying on distributional assumptions."
   ]
  },
  {
   "cell_type": "markdown",
   "metadata": {},
   "source": [
    "### Homoscedasticity\n",
    "\n",
    "The assumption of **homoscedasticity** (also known as homogeneity of variance) refers to the equal spread of data points across the range of values for both variables. In simpler terms, the variability of one variable should be roughly the same across all values of the other variable.\n",
    "\n",
    "Homoscedasticity is important for obtaining reliable estimates of the correlation coefficient. When the variability of one variable changes significantly across the range of the other variable, it can distort the correlation estimate. Violations of homoscedasticity can also affect the accuracy of hypothesis tests for correlation.\n",
    "\n",
    "The most common way to assess homoscedasticity is to examine the scatter plot of the two variables, looking for any *patterns in the spread* of the data points. If the spread of the points is roughly consistent across the range of values, it suggests homoscedasticity. If the spread appears to change (e.g., fanning out or narrowing in), it indicates heteroscedasticity (non-constant variance).\n",
    "\n",
    "Statistical tests can also be leveraged, as shown in [the chapter compairing unpaired means](https://sbwiecko.github.io/intuitive_biostatistics/30%20-%20Comparing%20Two%20Unpaired%20Means.html#homoscedasticity-testing). For example, Levene's test is a statistical test specifically designed to assess the equality of variances between groups. In the context of correlation, we can *divide the data into groups* based on the values of one variable and then test for equal variances in the other variable across those groups. Bartlett's test is another test for equality of variances, but it's more sensitive to deviations from normality."
   ]
  },
  {
   "cell_type": "code",
   "execution_count": 11,
   "metadata": {},
   "outputs": [
    {
     "name": "stdout",
     "output_type": "stream",
     "text": [
      "Levene's test for homoscedasticity:\n"
     ]
    },
    {
     "data": {
      "text/html": [
       "<div>\n",
       "<style scoped>\n",
       "    .dataframe tbody tr th:only-of-type {\n",
       "        vertical-align: middle;\n",
       "    }\n",
       "\n",
       "    .dataframe tbody tr th {\n",
       "        vertical-align: top;\n",
       "    }\n",
       "\n",
       "    .dataframe thead th {\n",
       "        text-align: right;\n",
       "    }\n",
       "</style>\n",
       "<table border=\"1\" class=\"dataframe\">\n",
       "  <thead>\n",
       "    <tr style=\"text-align: right;\">\n",
       "      <th></th>\n",
       "      <th>W</th>\n",
       "      <th>pval</th>\n",
       "      <th>equal_var</th>\n",
       "    </tr>\n",
       "  </thead>\n",
       "  <tbody>\n",
       "    <tr>\n",
       "      <th>levene</th>\n",
       "      <td>0.319637</td>\n",
       "      <td>0.583173</td>\n",
       "      <td>True</td>\n",
       "    </tr>\n",
       "  </tbody>\n",
       "</table>\n",
       "</div>"
      ],
      "text/plain": [
       "               W      pval  equal_var\n",
       "levene  0.319637  0.583173       True"
      ]
     },
     "execution_count": 11,
     "metadata": {},
     "output_type": "execute_result"
    }
   ],
   "source": [
    "# Divide the data into groups based on %C20-22 fatty acids\n",
    "cutoff = df['per_C2022_fatacids'].median()  # Use of the median as a cut-off\n",
    "low_fatacids = df['insulin_sensitivity'][df['per_C2022_fatacids'] <= cutoff].to_numpy()\n",
    "high_fatacids = df['insulin_sensitivity'][df['per_C2022_fatacids'] > cutoff].to_numpy()\n",
    "\n",
    "# Levene's test for homoscedasticity\n",
    "print(\"Levene's test for homoscedasticity:\")\n",
    "pg.homoscedasticity([low_fatacids, high_fatacids], method='levene')"
   ]
  },
  {
   "cell_type": "markdown",
   "metadata": {},
   "source": [
    "If the homoscedasticity assumption is violated, we can consider these options:\n",
    "\n",
    "- Transformations: transformations of the data (e.g., logarithmic, square root) might help stabilize the variance and reduce heteroscedasticity.\n",
    "- Non-parametric methods: non-parametric correlation coefficients like Spearman or Kendall are less sensitive to violations of homoscedasticity.\n",
    "- Other robust correlation methods: there are other robust correlation methods available that are less affected by heteroscedasticity, e.g., Winsorized correlation, biweight midcorrelation, percentage bend correlation, gamma correlation, etc. as [summarized elsewhere](https://cloud.r-project.org/web/packages/correlation/vignettes/types.html)."
   ]
  },
  {
   "cell_type": "markdown",
   "metadata": {},
   "source": [
    "### Outliers\n",
    "\n",
    "[As shown previously](https://sbwiecko.github.io/intuitive_biostatistics/24%20-%20Normality%20Tests%20and%20Outliers.html#outliers), **outliers** are data points that deviate significantly from the overall pattern of the data. They can have a disproportionate influence on the correlation coefficient, potentially leading to misleading results.\n",
    "\n",
    "Outliers can either inflate or deflate the correlation coefficient, giving a false impression of the true relationship between the variables. The presence of outliers can also lead to incorrect conclusions about the strength and direction of the correlation.\n",
    "\n",
    "We can carefully examine the scatter plot for any data points that are far removed from the main cluster of points. These are potential outliers. Boxplots can also help identify outliers by visually displaying the interquartile range (IQR) and any points that fall outside of the \"whiskers\" of the boxplot.\n",
    "\n",
    "Statistical methods include:\n",
    "\n",
    "- Z-scores: calculate the z-score for each data point. Data points with a z-score above a certain threshold (e.g., 2 or 3) can be considered potential outliers.\n",
    "- IQR method: identify outliers as data points that fall below (Q1 - 1.5 * IQR) or above (Q3 + 1.5 * IQR), where Q1 and Q3 are the first and third quartiles, respectively.\n",
    "- Grubb's, Dixon's Q, and other detection methods, as described in [the chapter about normality and outliers](https://sbwiecko.github.io/intuitive_biostatistics/24%20-%20Normality%20Tests%20and%20Outliers.html#statistical-outlier-detection)."
   ]
  },
  {
   "cell_type": "code",
   "execution_count": 12,
   "metadata": {},
   "outputs": [
    {
     "data": {
      "image/png": "[encoded data removed]",
      "text/plain": [
       "<Figure size 500x300 with 2 Axes>"
      ]
     },
     "metadata": {},
     "output_type": "display_data"
    }
   ],
   "source": [
    "# Create separate boxplots for each variable to respect each scale\n",
    "plt.figure(figsize=(5, 3))\n",
    "\n",
    "plt.subplot(1, 2, 1)\n",
    "sns.stripplot(\n",
    "    y=df['per_C2022_fatacids'],\n",
    "    size=8,\n",
    "    color='dodgerblue',\n",
    "    alpha=0.8)\n",
    "sns.boxplot(\n",
    "    y=df['per_C2022_fatacids'],\n",
    "    width=0.3,\n",
    "    boxprops={'facecolor': 'none'},  # Make the boxplot transparent\n",
    "    medianprops={'color': 'black'})\n",
    "plt.title('%C20-22 fatty acids')\n",
    "\n",
    "plt.subplot(1, 2, 2)\n",
    "sns.stripplot(\n",
    "    y=df['insulin_sensitivity'],\n",
    "    size=8,\n",
    "    color='crimson',\n",
    "    alpha=0.8)\n",
    "sns.boxplot(\n",
    "    y=df['insulin_sensitivity'],\n",
    "    width=0.3,\n",
    "    boxprops={'facecolor': 'none'},\n",
    "    medianprops={'color': 'black'})\n",
    "plt.title('Insulin sensitivity')\n",
    "\n",
    "plt.xticks()\n",
    "plt.tight_layout()\n",
    "sns.despine();"
   ]
  },
  {
   "cell_type": "markdown",
   "metadata": {},
   "source": [
    "## Measures of correlation\n",
    "\n",
    "In this section, we'll introduce different measures of correlation, each with its own way of capturing the relationship between variables.\n",
    "\n",
    "### Covariance\n",
    "\n",
    "**Covariance** measures the extent to which two variables change together. If $x = x_1, x_2, \\dots, x_n$ and $y = y_1, y_2, \\dots, y_n$ represent two variables, $\\bar{x}$ and $\\bar{y}$ are their respective means, and $n$ is the number of data points, then the **sample covariance**, often denoted $\\sigma$, is defined as:\n",
    "\n",
    "$$\\mathrm{cov_s}(x, y) = \\sigma_{xy} = \\frac{1}{n - 1} \\sum_{i=1}^{n}(x_i - \\bar{x})(y_i - \\bar{y})$$\n",
    "\n",
    "When two variables, $X$ and $Y$, are not correlated, the positive products $(x_i - \\bar{x})(y_i - \\bar{y})$ in the covariance formula will approximately balance out the negative ones, resulting in a covariance and correlation coefficient close to zero.\n",
    "\n",
    "**Population covariance** represents the true covariance between two variables in the *entire population* of interest. It's a parameter, meaning it's a fixed value that describes the population. It is defined as $\\mathrm{cov_p}(x, y) = \\frac{1}{n}\\sum_{i = 1}^{n}(x_i - \\bar{x})(y_i - \\bar{y})$. In most real-world scenarios, we don't have access to the entire population, so we can't directly calculate the population covariance."
   ]
  },
  {
   "cell_type": "code",
   "execution_count": 13,
   "metadata": {},
   "outputs": [
    {
     "name": "stdout",
     "output_type": "stream",
     "text": [
      "Covariance between %C20-22 fatty acids and insulin sensitivity: 206.67948717948718\n"
     ]
    }
   ],
   "source": [
    "import numpy as np\n",
    "\n",
    "# Calculate the covariance using NumPy\n",
    "covariance = np.cov(df['per_C2022_fatacids'], df['insulin_sensitivity'])[0, 1]\n",
    "print(\"Covariance between %C20-22 fatty acids and insulin sensitivity:\", covariance)"
   ]
  },
  {
   "cell_type": "markdown",
   "metadata": {},
   "source": [
    "The [Pandas `cov` method](https://pandas.pydata.org/docs/reference/api/pandas.DataFrame.cov.html) computes the pairwise covariance between columns of a DataFrame. The primary output is a **covariance matrix** ($\\Sigma$). This is a square matrix that shows the covariances between all possible pairs of columns in the DataFrame. The diagonal elements of the matrix represent the **variances** of individual columns (covariance of a variable with itself), and the off-diagonal elements represent the **covariances** between different pairs of columns:\n",
    "\n",
    "$$\\Sigma = \\begin{bmatrix}\\sigma_x^2 & \\sigma_{xy}\\\\ \\sigma_{yx} & \\sigma_y^2 \\end{bmatrix}$$"
   ]
  },
  {
   "cell_type": "code",
   "execution_count": 14,
   "metadata": {},
   "outputs": [
    {
     "name": "stdout",
     "output_type": "stream",
     "text": [
      "Covariance matrix of the dataframe:\n"
     ]
    },
    {
     "data": {
      "text/html": [
       "<div>\n",
       "<style scoped>\n",
       "    .dataframe tbody tr th:only-of-type {\n",
       "        vertical-align: middle;\n",
       "    }\n",
       "\n",
       "    .dataframe tbody tr th {\n",
       "        vertical-align: top;\n",
       "    }\n",
       "\n",
       "    .dataframe thead th {\n",
       "        text-align: right;\n",
       "    }\n",
       "</style>\n",
       "<table border=\"1\" class=\"dataframe\">\n",
       "  <thead>\n",
       "    <tr style=\"text-align: right;\">\n",
       "      <th></th>\n",
       "      <th>per_C2022_fatacids</th>\n",
       "      <th>insulin_sensitivity</th>\n",
       "    </tr>\n",
       "  </thead>\n",
       "  <tbody>\n",
       "    <tr>\n",
       "      <th>per_C2022_fatacids</th>\n",
       "      <td>5.554744</td>\n",
       "      <td>206.679487</td>\n",
       "    </tr>\n",
       "    <tr>\n",
       "      <th>insulin_sensitivity</th>\n",
       "      <td>206.679487</td>\n",
       "      <td>12970.192308</td>\n",
       "    </tr>\n",
       "  </tbody>\n",
       "</table>\n",
       "</div>"
      ],
      "text/plain": [
       "                     per_C2022_fatacids  insulin_sensitivity\n",
       "per_C2022_fatacids             5.554744           206.679487\n",
       "insulin_sensitivity          206.679487         12970.192308"
      ]
     },
     "execution_count": 14,
     "metadata": {},
     "output_type": "execute_result"
    }
   ],
   "source": [
    "print(\"Covariance matrix of the dataframe:\")\n",
    "df.cov(\n",
    "    ddof=1,  # sample covariance\n",
    ")\n",
    "# same as np.cov(df['per_C2022_fatacids'], df['insulin_sensitivity'])"
   ]
  },
  {
   "cell_type": "markdown",
   "metadata": {},
   "source": [
    "While covariance gives us the direction of the relationship, its value is dependent on the scales of the variables, making it difficult to compare covariances across different datasets. It also doesn't tell us the strength of the relationship. That's where the Pearson's correlation coefficient comes in."
   ]
  },
  {
   "cell_type": "markdown",
   "metadata": {},
   "source": [
    "(pearson)=\n",
    "### Pearson correlation coefficient\n",
    "\n",
    "#### How the Pearson correlation coefficient is calculated\n",
    "\n",
    "[The Pearson correlation coefficient](https://en.wikipedia.org/wiki/Pearson_correlation_coefficient), often denoted by $r$ or $r_{xy}$, is the most widely used measure of correlation. It quantifies the strength and direction of the *linear* relationship between two continuous variables. The Pearson correlation coefficient is calculated through the process:\n",
    "\n",
    "1. Calculate the average of all $X$ values. Same for all $Y$ values. These two averages define a point at the **center of gravity** of the data.\n",
    "2. Compare the position of each point with respect to that center, i.e., subtract the average $X$ value from each $X$ value, and subtract the average $Y$ value from each $Y$ value.\n",
    "3. Standardize those distances (from step 2) by dividing by the standard deviation of all $X$ values; do the same for the $Y$ distances. These **standardized distances** are now in standard deviation units.\n",
    "4. For each data point, multiply the two standardized distances (from step 3).\n",
    "5. Add up all the products from step 4.\n",
    "6. Divide the sum from step 5 by $(n-1)$, where $n$ is the number of XY pairs. This accounts for sample size and gives us the Pearson correlation coefficient."
   ]
  },
  {
   "cell_type": "code",
   "execution_count": 15,
   "metadata": {},
   "outputs": [],
   "source": [
    "def pearson_r_custom(x, y):\n",
    "    \"\"\"\n",
    "    Computes Pearson correlation coefficient between XY pairs,\n",
    "    illustrating the step-by-step calculation.\n",
    "    \"\"\"\n",
    "    n = len(x)  # Get the number of data points\n",
    "\n",
    "    # 1. Calculate the means\n",
    "    mean_x = np.mean(x)\n",
    "    mean_y = np.mean(y)\n",
    "\n",
    "    # 2. Calculate the distances to the center of gravity (array of data)\n",
    "    dist_x = x - mean_x\n",
    "    dist_y = y - mean_y\n",
    "\n",
    "    # 3. Standardize the distances\n",
    "    std_x = np.std(x, ddof=1)  # Use ddof=1 for sample standard deviation\n",
    "    std_y = np.std(y, ddof=1)\n",
    "    std_dist_x = dist_x / std_x\n",
    "    std_dist_y = dist_y / std_y\n",
    "\n",
    "    # 4. Multiply the standardized distances\n",
    "    products = std_dist_x * std_dist_y\n",
    "\n",
    "    # 5. Sum the products\n",
    "    sum_products = np.sum(products)\n",
    "\n",
    "    # 6. Divide by n-1\n",
    "    r = sum_products / (n - 1)\n",
    "\n",
    "    return r"
   ]
  },
  {
   "cell_type": "code",
   "execution_count": 16,
   "metadata": {},
   "outputs": [
    {
     "name": "stdout",
     "output_type": "stream",
     "text": [
      "Pearson correlation coefficient obtained with the custom function:\n",
      "0.7700025428371727\n"
     ]
    }
   ],
   "source": [
    "print(\"Pearson correlation coefficient obtained with the custom function:\")\n",
    "print(r_custom:=pearson_r_custom(df['per_C2022_fatacids'], df['insulin_sensitivity']))"
   ]
  },
  {
   "cell_type": "markdown",
   "metadata": {},
   "source": [
    "Thus, Pearson correlation coefficient divides the covariance by the product of the standard deviations of the two variables:\n",
    "\n",
    "$$r = \\frac{\\sigma_{xy}}{\\sigma_x \\sigma_y}$$\n",
    "\n",
    "That provides a standardized measure of the linear relationship between two variables, $x$ and $y$. This standardization creates a scale of $-1$ to $+1$ for $r$, allowing for an intuitive understanding of both the **direction** and **strength** of the relationship. A value of $-1$ indicates a perfect negative correlation, meaning that $x$ increases perfectly as $y$ decreases. Conversely, a value of $+1$ signifies a perfect positive correlation, where $x$ increases perfectly as $y$ increases. A value of $0$ indicates no linear relationship between the two variables. The magnitude of $r$ reflects the **strength** of the linear association. Values closer to $-1$ or $+1$ suggest a stronger relationship, while values closer to $0$ imply a weaker association. This **scale-independence** enables comparisons of correlation coefficients across different datasets with varying units of measurement."
   ]
  },
  {
   "cell_type": "markdown",
   "metadata": {},
   "source": [
    "#### The r² coefficient of determination\n",
    "\n",
    "The square of the Pearson correlation coefficient, denoted as  $r^2$, also known as the **coefficient of determination**, has a special interpretation. It represents the proportion of the total *variability* in one variable that can be *explained* by its linear relationship with the other variable, or expressed differently, $r^2$ is the fraction of the variance shared between the two variables.\n",
    "\n",
    "Obviously, $r^2$ values always range from 0 to 1, with 0 indicating that none of the variability in one variable is explained by its linear relationship with the other variable., and 1 indicating that all of the variability in one variable is explained by its linear relationship with the other variable.\n",
    "\n",
    "While  $r^2$  is often used in the context of regression analysis, as we will see in the next chapter about linear regression, it's important to remember that it can also be interpreted in the context of correlation without explicitly referring to regression."
   ]
  },
  {
   "cell_type": "code",
   "execution_count": 17,
   "metadata": {},
   "outputs": [
    {
     "name": "stdout",
     "output_type": "stream",
     "text": [
      "r² coefficient of determination = 0.5929\n"
     ]
    }
   ],
   "source": [
    "print(f\"r² coefficient of determination = {r_custom**2:.4f}\")"
   ]
  },
  {
   "cell_type": "markdown",
   "metadata": {},
   "source": [
    "An $r^2$ of 0.5929 means that 59.29% of the variance in one variable is shared with the other variable. In other words, 59.29% of the variation in one variable can be explained by its linear relationship with the other variable.\n",
    "\n",
    "The remaining 40.71% of the variance in each variable is explained by other factors that are not included in the correlation analysis. These other factors could include other variables, measurement error, non-linear effects, and random variation."
   ]
  },
  {
   "cell_type": "markdown",
   "metadata": {},
   "source": [
    "#### Python packages for computing Pearson $r$\n",
    "\n",
    "We can use many different ready-to-use functions to calculate correlation coefficients:\n",
    "- [`corrcoef` from NumPy](https://numpy.org/doc/stable/reference/generated/numpy.corrcoef.html)\n",
    "- [`corr` from Pandas](https://pandas.pydata.org/docs/reference/api/pandas.DataFrame.corr.html) as we saw at the beginning of the chapter while drawing a heatmap\n",
    "- [`pearsonr` from SciPy](https://docs.scipy.org/doc/scipy/reference/generated/scipy.stats.pearsonr.html) as shown below\n",
    "- [`compute_effsize` from Pingouin](https://pingouin-stats.org/build/html/generated/pingouin.compute_effsize.html) with method set to 'r' for 'Pearson correlation coefficient'\n",
    "- [`corr` from Pingouin](https://pingouin-stats.org/build/html/generated/pingouin.corr.html), function that provides additional information beyond the correlation coefficient, e.g., P value and confidence interval, which we'll discuss later in this chapter."
   ]
  },
  {
   "cell_type": "code",
   "execution_count": 18,
   "metadata": {},
   "outputs": [
    {
     "name": "stdout",
     "output_type": "stream",
     "text": [
      "Pearson correlation coefficient: 0.770003\n"
     ]
    }
   ],
   "source": [
    "from scipy.stats import pearsonr\n",
    "\n",
    "# Calculate the Pearson correlation coefficient\n",
    "pearson_r, pearson_p_value = pearsonr(df['per_C2022_fatacids'], df['insulin_sensitivity'])\n",
    "print(\"Pearson correlation coefficient:\", round(pearson_r, 6)) # type: ignore"
   ]
  },
  {
   "cell_type": "markdown",
   "metadata": {},
   "source": [
    "### Non-parametric methods\n",
    "\n",
    "(spearman)=\n",
    "#### Spearman rank correlation coefficient\n",
    "\n",
    "[The Spearman rank correlation coefficient](https://en.wikipedia.org/wiki/Spearman%27s_rank_correlation_coefficient), often denoted as $\\rho$, offers a **non-parametric** approach to assess the **monotonicity** of the relationship between two variables. Unlike the Pearson correlation, Spearman's correlation doesn't assume that the data is normally distributed, making it *robust to outliers* and suitable for *non-linear relationships*, as long as they are monotonic. A monotonic relationship is one that consistently increases or decreases, but not necessarily in a linear fashion.\n",
    "\n",
    "Mathematically, the Spearman correlation coefficient is equivalent to calculating the Pearson correlation coefficient on the ranked values of the variables. This means that instead of using the raw data, we rank the observations within each variable and then compute the correlation based on these ranks.\n",
    "\n",
    "A Spearman correlation of -1 indicates a perfect negative monotonic relationship (as one variable increases, the other strictly decreases), while +1 indicates a perfect positive monotonic relationship (both variables increase or decrease together). A value of 0 suggests no monotonic association.\n",
    "\n",
    "The formula to calculate Spearman's rank correlation coefficient between two variables, $X$ and $Y$, with $n$ observations is:\n",
    "\n",
    "$$\\rho = 1 - \\frac{6 \\sum d_i^2}{n(n^2 - 1)}$$\n",
    "where:\n",
    "\n",
    "- $i$ is the observation number\n",
    "- $n$ is the total number of observations\n",
    "- $d_i$ is the difference in **ranks** between the corresponding $X$ and $Y$ values for observation $i$: $d_i = \\mathrm{rank}(x_i) - \\mathrm{rank}(y_i)$"
   ]
  },
  {
   "cell_type": "code",
   "execution_count": 19,
   "metadata": {},
   "outputs": [],
   "source": [
    "def spearman_rho_custom(x, y):\n",
    "    \"\"\"\n",
    "    Computes Spearman's rank correlation coefficient between XY pairs,\n",
    "    illustrating the step-by-step calculation.\n",
    "    \"\"\"\n",
    "    n = len(x)\n",
    "\n",
    "    # 1. Rank the data using numpy.argsort\n",
    "    rank_x = np.argsort(x)\n",
    "    rank_y = np.argsort(y)\n",
    "    # 2. Calculate the difference in ranks (di) - array\n",
    "    d = rank_x - rank_y\n",
    "\n",
    "    # 3. Square the differences (di^2)\n",
    "    d_squared = d**2\n",
    "\n",
    "    # 4. Sum the squared differences\n",
    "    sum_d_squared = np.sum(d_squared)\n",
    "\n",
    "    # 5. Apply the Spearman formula\n",
    "    rho = 1 - 6 * sum_d_squared / (n * (n**2 - 1))\n",
    "\n",
    "    return rho"
   ]
  },
  {
   "cell_type": "code",
   "execution_count": 20,
   "metadata": {},
   "outputs": [
    {
     "name": "stdout",
     "output_type": "stream",
     "text": [
      "Spearman's rank correlation coefficient obtained with the custom function: 0.74725\n"
     ]
    }
   ],
   "source": [
    "print(\n",
    "    \"Spearman's rank correlation coefficient obtained with the custom function:\",\n",
    "    round(spearman_rho_custom(\n",
    "        df['per_C2022_fatacids'],\n",
    "        df['insulin_sensitivity']), 5)\n",
    ")"
   ]
  },
  {
   "cell_type": "markdown",
   "metadata": {},
   "source": [
    "(kendall)=\n",
    "#### Kendall rank correlation coefficient\n",
    "\n",
    "As we've explored, there are multiple ways to define a correlation coefficient. Pearson's correlation utilizes the *product of standardized distances* from the mean, while Spearman's correlation employs the *ranks of the data*. Now, let's introduce another approach to measuring correlation: Kendall's tau ($\\tau$).\n",
    "\n",
    "[Kendall's tau](https://en.wikipedia.org/wiki/Kendall_rank_correlation_coefficient) is based on the concept of **concordant and discordant pairs** of observations. A concordant pair, is a pair of observations $(i, j)$, where $i \\lt j$, is concordant if the order of the values for both variables is the same. That is, either  $x_i \\gt x_j$ and $y_i \\gt y_j$, or $x_i \\lt x_j$ and $y_i \\lt y_j$. In contrast, a discordant pair is discordant if the order of the values for the variables is opposite. That is, either $x_i \\gt x_j$ and $y_i \\lt y_j$, or $x_i \\lt x_j$ and $y_i \\gt y_j$.\n",
    "\n",
    "Kendall's tau is calculated as:\n",
    "\n",
    "$$\\tau = \\frac{\\text{number of concordant pairs} - \\text{number of discordant pairs}}{\\binom{n}{2}}$$\n",
    "\n",
    "where $n$ is the total number of observations. Note that $\\binom{n}{2} = n(n - 1) / 2$.\n",
    "\n",
    "The coefficient ranges from $-1$ to $+1$, with $0$ indicating no association. The denominator, $n(n - 1) / 2$, represents the total number of unique pairs of observations.\n",
    "\n",
    "An alternative way to express Kendall's tau, which is mathematically equivalent, is based on the ranks of the data:\n",
    "\n",
    "$$\\tau = \\frac{2}{n(n - 1)} \\sum_{i \\lt j} \\text{sgn}(x_i - x_j) \\ast \\text{sgn}(y_i - y_j)$$\n",
    "\n",
    "where $\\text{sgn()}$ is the sign function, i.e., -1 if negative, 0 if zero, +1 if positive.\n",
    "\n",
    "Compared to Pearson and Spearman, Kendall's tau is less influenced by the magnitude of differences between data points, making it more robust to outliers.\n",
    "It's also suitable for *ordinal data*, where the ranks of the values are more important than the exact magnitudes."
   ]
  },
  {
   "cell_type": "code",
   "execution_count": 21,
   "metadata": {},
   "outputs": [],
   "source": [
    "def kendall_tau_custom(x, y):\n",
    "    \"\"\"\n",
    "    Computes Kendall's tau correlation coefficient,\n",
    "    illustrating the step-by-step calculation.\n",
    "    \"\"\"\n",
    "    n = len(x)\n",
    "    \n",
    "    # Calculate the number of concordant and discordant pairs\n",
    "    concordant = 0\n",
    "    discordant = 0\n",
    "    for i in range(n):\n",
    "        for j in range(i + 1, n):  # Iterate through all unique pairs\n",
    "            if (x[i] > x[j] and y[i] > y[j]) or (x[i] < x[j] and y[i] < y[j]):\n",
    "                concordant += 1\n",
    "            elif (x[i] > x[j] and y[i] < y[j]) or (x[i] < x[j] and y[i] > y[j]):\n",
    "                discordant += 1\n",
    "\n",
    "    # Calculate Kendall's tau\n",
    "    tau = (concordant - discordant) / (n*(n-1)/2)\n",
    "    return tau"
   ]
  },
  {
   "cell_type": "code",
   "execution_count": 22,
   "metadata": {},
   "outputs": [
    {
     "name": "stdout",
     "output_type": "stream",
     "text": [
      "Kendall's tau correlation coefficient obtained with the custom function: 0.51282\n"
     ]
    }
   ],
   "source": [
    "print(\n",
    "    \"Kendall's tau correlation coefficient obtained with the custom function:\",\n",
    "    round(kendall_tau_custom(\n",
    "        df['per_C2022_fatacids'],\n",
    "        df['insulin_sensitivity']), 5)\n",
    ")"
   ]
  },
  {
   "cell_type": "markdown",
   "metadata": {},
   "source": [
    "#### Python package for computing Spearman $\\rho$ and Kendall $\\tau$\n",
    "\n",
    "To calculate the Spearman $\\rho$ correlation coefficient, we can use ready-to-use functions like [`spearmanr` from SciPy][https://docs.scipy.org/doc/scipy/reference/generated/scipy.stats.spearmanr.html], `corr` from Pandas by specifying the method as 'spearman', and `corr` from `pingouin` with method parameter set to 'spearman'.\n",
    "\n",
    "It is also possible to use `corrcoef` from NumPy, although we would first need to rank your data using `argsort`, as we did in the previous custom function `spearman_rho`, or using [`scipy.stats.rankdata`](https://docs.scipy.org/doc/scipy/reference/generated/scipy.stats.rankdata.html). "
   ]
  },
  {
   "cell_type": "code",
   "execution_count": 23,
   "metadata": {},
   "outputs": [
    {
     "name": "stdout",
     "output_type": "stream",
     "text": [
      "Spearman rank correlation coefficient: 0.7438\n"
     ]
    }
   ],
   "source": [
    "from scipy.stats import spearmanr\n",
    "\n",
    "# Calculate the Spearman rank correlation coefficient\n",
    "spearman_r, spearman_p_value = spearmanr(df['per_C2022_fatacids'], df['insulin_sensitivity'])\n",
    "print(\n",
    "    \"Spearman rank correlation coefficient:\",\n",
    "    round(spearman_r, 5) # type: ignore\n",
    ")"
   ]
  },
  {
   "cell_type": "markdown",
   "metadata": {},
   "source": [
    "Similarly for Kendall $\\tau$, we can leverage functions like [`kendalltau` from SciPy](https://docs.scipy.org/doc/scipy/reference/generated/scipy.stats.kendalltau.html),  `corr` from Pandas with the `method` parameter set to 'kendall', and `corr` from Pingouin with the `method` parameter set to 'kendall', to calculate Kendall's tau correlation coefficient."
   ]
  },
  {
   "cell_type": "code",
   "execution_count": 24,
   "metadata": {},
   "outputs": [
    {
     "name": "stdout",
     "output_type": "stream",
     "text": [
      "Kendall rank correlation coefficient: 0.51952\n"
     ]
    }
   ],
   "source": [
    "from scipy.stats import kendalltau\n",
    "\n",
    "# Calculate the Spearman rank correlation coefficient\n",
    "kendall_tau, kendall_p_value = kendalltau(df['per_C2022_fatacids'], df['insulin_sensitivity'])\n",
    "print(\n",
    "    \"Kendall rank correlation coefficient:\",\n",
    "    round(kendall_tau, 5)\n",
    ")"
   ]
  },
  {
   "cell_type": "markdown",
   "metadata": {},
   "source": [
    "#### Handling ties\n",
    "\n",
    "When working with data that contains ties (identical values), it's crucial to be aware of how ties are handled in the ranking process. Different methods for handling ties can lead to slightly different results in the calculation of Spearman's rank correlation coefficient. Common approaches for dealing with ties include assigning the average rank to tied values or using other tie-breaking methods. By default, `spearmanr` uses the 'average' rank method for handling **ties**, when `np.argsort`, i.e., in our custom function, uses an 'ordinal' rank method."
   ]
  },
  {
   "cell_type": "code",
   "execution_count": 25,
   "metadata": {},
   "outputs": [
    {
     "name": "stdout",
     "output_type": "stream",
     "text": [
      "Spearman rank correlation coefficient using np.corrcoef and pd.Series.rank (average): 0.7438\n"
     ]
    }
   ],
   "source": [
    "# Calculate the Spearman rank correlation coefficient using np.corrcoef and pd.Series.rank\n",
    "# Same results as `spearmanr`\n",
    "print(\n",
    "    \"Spearman rank correlation coefficient using np.corrcoef and pd.Series.rank (average):\",\n",
    "    round(\n",
    "        np.corrcoef(\n",
    "            df['per_C2022_fatacids'].rank(method='average'),\n",
    "            df['insulin_sensitivity'].rank(method='average')\n",
    "        )[0, 1], 5\n",
    "    )\n",
    ")"
   ]
  },
  {
   "cell_type": "code",
   "execution_count": 26,
   "metadata": {},
   "outputs": [
    {
     "name": "stdout",
     "output_type": "stream",
     "text": [
      "Spearman rank correlation coefficient using np.corrcoef and pd.Series.rank (ordinal): 0.74725\n"
     ]
    }
   ],
   "source": [
    "# Calculate the Spearman rank correlation coefficient using np.corrcoef and pd.Series.rank\n",
    "# Same as our custom function that uses numpy.argsort\n",
    "print(\n",
    "    \"Spearman rank correlation coefficient using np.corrcoef and pd.Series.rank (ordinal):\",\n",
    "    round(\n",
    "        np.corrcoef(\n",
    "            df['per_C2022_fatacids'].rank(method='first'),\n",
    "            df['insulin_sensitivity'].rank(method='first')\n",
    "        )[0, 1], 5\n",
    "    )\n",
    ")"
   ]
  },
  {
   "cell_type": "markdown",
   "metadata": {},
   "source": [
    "Similarly, the custom function provides a simplified illustration of Kendall's tau calculation but might not perfectly match the results from `scipy.stats.kendalltau` due to the complexities of tie handling. The `kendalltau` function has a more sophisticated approach to handling ties, which involves adjustments to the formula based on the number and types of ties present in the data, as [explained elsewhere](https://en.wikipedia.org/wiki/Kendall_rank_correlation_coefficient#Accounting_for_ties)."
   ]
  },
  {
   "cell_type": "code",
   "execution_count": 27,
   "metadata": {},
   "outputs": [],
   "source": [
    "def kendall_tau_b(x, y):\n",
    "    \"\"\"\n",
    "    Computes Kendall's tau-b correlation coefficient,\n",
    "    illustrating the step-by-step calculation with tie handling.\n",
    "    \"\"\"\n",
    "    n = len(x)\n",
    "\n",
    "    # Calculate the number of concordant, discordant, and tied pairs\n",
    "    concordant = 0\n",
    "    discordant = 0\n",
    "    ties_x = 0\n",
    "    ties_y = 0\n",
    "    for i in range(n):\n",
    "        for j in range(i + 1, n):\n",
    "            if (x[i] > x[j] and y[i] > y[j]) or (x[i] < x[j] and y[i] < y[j]):\n",
    "                concordant += 1\n",
    "            elif (x[i] > x[j] and y[i] < y[j]) or (x[i] < x[j] and y[i] > y[j]):\n",
    "                discordant += 1\n",
    "            elif x[i] == x[j]:\n",
    "                ties_x += 1\n",
    "            elif y[i] == y[j]:\n",
    "                ties_y += 1\n",
    "\n",
    "    # Calculate Kendall's tau-b\n",
    "    tau_b = (concordant - discordant) / np.sqrt(\n",
    "        (concordant + discordant + ties_x) * (concordant + discordant + ties_y)\n",
    "    )\n",
    "    return tau_b"
   ]
  },
  {
   "cell_type": "code",
   "execution_count": 28,
   "metadata": {},
   "outputs": [
    {
     "name": "stdout",
     "output_type": "stream",
     "text": [
      "Kendall's tau (tau_b) correlation coefficient obtained with tie handling: 0.51952\n"
     ]
    }
   ],
   "source": [
    "print(\n",
    "    \"Kendall's tau (tau_b) correlation coefficient obtained with tie handling:\",\n",
    "    round(kendall_tau_b(\n",
    "        df['per_C2022_fatacids'],\n",
    "        df['insulin_sensitivity']), 5)\n",
    ")"
   ]
  },
  {
   "cell_type": "markdown",
   "metadata": {},
   "source": [
    "It's important to consult the documentation of the specific function or software package we're using to understand how ties are handled. This will ensure that we interpret the results accurately and that the analysis is consistent with the chosen method for addressing ties. The issue of tie handling is not limited to correlation analysis. It's a general consideration in many non-parametric methods that involve ranking data, as the presence of ties can affect the resulting ranks and subsequent calculations."
   ]
  },
  {
   "cell_type": "markdown",
   "metadata": {},
   "source": [
    "### Exploration of non-linear patterns\n",
    "\n",
    "While Pearson's correlation is a powerful tool for quantifying *linear relationships*, many relationships in biology are non-linear. It's essential to understand how different correlation coefficients capture these non-linear patterns.\n",
    "\n",
    "- Linear relationships: Pearson's correlation is the ideal choice for measuring the strength of linear relationships, where the change in one variable is proportional to the change in the other. Both Spearman and Kendall will also detect linear relationships, but they might not be as efficient as Pearson's correlation.\n",
    "- Monotonic relationships: Spearman and Kendall's correlations are specifically designed to measure **monotonic relationships**, where the variables consistently increase or decrease together, but not necessarily in a linear fashion. Pearson's correlation might underestimate the strength of the relationship in these cases, especially if the pattern is strongly non-linear.\n",
    "- Non-monotonic relationships: neither Pearson, Spearman, nor Kendall is suitable for capturing non-monotonic relationships, where the direction of the association changes. For such patterns, alternative methods like *polynomial regression* or spline fitting might be more appropriate.\n",
    "\n",
    "Let's illustrate these concepts with some examples. The following plots show different types of relationships and the corresponding values of Pearson, Spearman, and Kendall correlation coefficients."
   ]
  },
  {
   "cell_type": "code",
   "execution_count": 29,
   "metadata": {},
   "outputs": [
    {
     "data": {
      "image/png": "[encoded data removed]",
      "text/plain": [
       "<Figure size 900x300 with 3 Axes>"
      ]
     },
     "metadata": {},
     "output_type": "display_data"
    }
   ],
   "source": [
    "sigma = 1.0 / 5\n",
    "\n",
    "# Generate data for each type of relationship\n",
    "linear = [[u, (u) / 100 + sigma * np.random.randn()] for u in range(10, 500)]\n",
    "monotonic = [[u, 50 * (0.8**(u / 10)) + sigma * np.random.randn()] for u in range(10, 300)]\n",
    "non_monotonic = [[u, (u)**3 + 3 * u**2 + sigma * np.random.randn()] for u in np.arange(-1.5, 1.5, 1.0 / 250)]\n",
    "\n",
    "# Combine the data\n",
    "data = {\n",
    "    \"Linear\": linear,\n",
    "    \"Monotonic\": monotonic,\n",
    "    \"Non-monotonic\": non_monotonic\n",
    "}\n",
    "\n",
    "# Create subplots\n",
    "fig, axes = plt.subplots(1, len(data), figsize=(9, 3))\n",
    "\n",
    "# Plot each relationship\n",
    "for i, (title, model) in enumerate(data.items()):\n",
    "    x = [point[0] for point in model]\n",
    "    y = [point[1] for point in model]\n",
    "    \n",
    "    axes[i].scatter(x, y, s=6)\n",
    "    \n",
    "    # Calculate and display correlation coefficients\n",
    "    pearson_corr = pearsonr(x, y)[0]\n",
    "    spearman_corr = spearmanr(x, y)[0]\n",
    "    kendall_corr = kendalltau(x, y)[0]\n",
    "    \n",
    "    axes[i].text(\n",
    "        x=.085, y=.95,\n",
    "        s=f\"Pearson: {pearson_corr:.3f}\\nSpearman: {spearman_corr:.3f}\\nKendall: {kendall_corr:.3f}\",\n",
    "        fontsize=8,\n",
    "        va='top',\n",
    "        transform=axes[i].transAxes  # Specifies that x,y coordinates are for axis\n",
    "    )\n",
    "    axes[i].set_title(title)\n",
    "\n",
    "plt.tight_layout();"
   ]
  },
  {
   "cell_type": "markdown",
   "metadata": {},
   "source": [
    "While both Spearman's rho and Kendall's tau are valuable tools for assessing correlation, Kendall's tau might be preferred in situations with *smaller sample sizes*, increased concern about *outliers*, *frequent tied values*, specific theoretical considerations (e.g., survival analysis or studies of event ordering), or when *computational efficiency* is a priority."
   ]
  },
  {
   "cell_type": "markdown",
   "metadata": {},
   "source": [
    "## Statistical inference\n",
    "\n",
    "### Testing for non-zero correlation\n",
    "\n",
    "#### Calculating the t-statistic for correlation\n",
    "\n",
    "Correlation coefficients provide a point estimate of the relationship between variables based on our sample data. However, we often want to go beyond the sample and infer whether a correlation exists in the *broader population*. Hypothesis testing allows us to do this.\n",
    "\n",
    "To test for a non-zero correlation between two variables, we can use a **t-test**, similar to t-test we discussed in previous chapters about the [comparison of two unpaired means](https://sbwiecko.github.io/intuitive_biostatistics/30%20-%20Comparing%20Two%20Unpaired%20Means.html) and in [paired data](https://sbwiecko.github.io/intuitive_biostatistics/31%20-%20Comparing%20Paired%20Data.html). This test assesses whether the observed correlation in our sample is statistically significant, meaning it's unlikely to have occurred by chance if there were no correlation in the population. We can state the hypotheses as follows:\n",
    "\n",
    "- Null hypothesis (H0): the population correlation coefficient is zero (no correlation).\n",
    "- Alternative hypothesis (H1): the population correlation coefficient is not zero (correlation exists).\n",
    "\n",
    "The test statistic for the t-test for correlation is defined as:\n",
    "\n",
    "$$t = \\frac{r}{\\mathrm{SE}(r)} = r \\sqrt{\\frac{n-2}{1 - r^2}}$$\n",
    "\n",
    "where:\n",
    "\n",
    "- $r$ is the sample correlation coefficient,\n",
    "- $n$ is the sample size.\n",
    "\n",
    "Degrees of freedom represent the number of independent pieces of information available to estimate a parameter. In the context of the t-test for correlation, we are estimating the population correlation coefficient based on the sample correlation coefficient. To calculate the sample correlation coefficient, we first need to estimate two other parameters: the mean of $X$ and the mean of $Y$. These two estimated parameters reduce the degrees of freedom. Each data point provides one piece of information. However, since we've already estimated two parameters from the data, we lose two degrees of freedom, thus $\\mathrm{DF} = n - 2$."
   ]
  },
  {
   "cell_type": "code",
   "execution_count": 30,
   "metadata": {},
   "outputs": [
    {
     "name": "stdout",
     "output_type": "stream",
     "text": [
      "t-statistic for correlation = 4.0026 with 11 degrees of freedom\n"
     ]
    }
   ],
   "source": [
    "# Calculate the t-statistic and DF for correlation\n",
    "n = len(df['per_C2022_fatacids'])  # Sample size\n",
    "df_corr = n - 2                    # Degrees of freedom\n",
    "t_stat_corr = pearson_r * np.sqrt((n - 2) / (1 - pearson_r**2)) # type: ignore\n",
    "\n",
    "# Print the t-statistic\n",
    "print(f\"t-statistic for correlation = {t_stat_corr:.4f} with {df_corr} degrees of freedom\")"
   ]
  },
  {
   "cell_type": "markdown",
   "metadata": {},
   "source": [
    "#### P value\n",
    "\n",
    "Having calculated the t-statistic and degrees of freedom, we can now determine the P value for the correlation. We'll use the t-distribution's cumulative distribution function (CDF) to compute the P value. This P value quantifies the probability of observing a correlation coefficient as extreme as the one calculated (or even more extreme) if the null hypothesis of no correlation were true."
   ]
  },
  {
   "cell_type": "code",
   "execution_count": 31,
   "metadata": {},
   "outputs": [
    {
     "name": "stdout",
     "output_type": "stream",
     "text": [
      "P value for the correlation coefficient = 0.00208\n"
     ]
    }
   ],
   "source": [
    "from scipy.stats import t as t_dist\n",
    "\n",
    "# Calculate the p-value (two-sided test)\n",
    "p_value = 2 * (1 - t_dist.cdf(abs(t_stat_corr), df_corr))\n",
    "\n",
    "# Print the results\n",
    "print(f\"P value for the correlation coefficient = {p_value:.5f}\")"
   ]
  },
  {
   "cell_type": "markdown",
   "metadata": {},
   "source": [
    "This low P value provides strong evidence against the null hypothesis, suggesting that there is a statistically significant correlation between the variables. More precisely, there is a 0.208% chance of obtaining a greater **absolute** correlation coefficient if the null hypothesis were true."
   ]
  },
  {
   "cell_type": "markdown",
   "metadata": {},
   "source": [
    "#### Visualizing t, critical and P values\n",
    "\n",
    "We can visualize how the P and critical values are determined based on the t-statistic ($t$) and the t-distribution."
   ]
  },
  {
   "cell_type": "code",
   "execution_count": 32,
   "metadata": {},
   "outputs": [
    {
     "data": {
      "image/png": "[encoded data removed]",
      "text/plain": [
       "<Figure size 640x480 with 1 Axes>"
      ]
     },
     "metadata": {},
     "output_type": "display_data"
    }
   ],
   "source": [
    "# Significance level (alpha)\n",
    "alpha = 0.05\n",
    "\n",
    "# Calculate critical t-values (two-tailed test)\n",
    "t_crit_lower = t_dist.ppf(alpha / 2, df_corr)\n",
    "t_crit_upper = t_dist.ppf(1 - alpha / 2, df_corr)\n",
    "\n",
    "# Generate x values for plotting\n",
    "x_t = np.linspace(-5, 5, 1000)\n",
    "hx_t = t_dist.pdf(x_t, df_corr)\n",
    "\n",
    "# Plot the t-distribution\n",
    "plt.plot(x_t, hx_t, lw=2, color='black')\n",
    "\n",
    "# Plot the critical t-values\n",
    "plt.axvline(\n",
    "    x=t_crit_lower, # type: ignore\n",
    "    color='orangered',\n",
    "    linestyle='--',)\n",
    "\n",
    "plt.axvline(\n",
    "    x=t_crit_upper, # type: ignore\n",
    "    color='orangered',\n",
    "    linestyle='--',\n",
    "    label=fr\"$t^\\ast$ ({t_crit_upper:.2f})\")\n",
    "\n",
    "# Shade the rejection regions (alpha)\n",
    "plt.fill_between(\n",
    "    x_t[x_t <= t_crit_lower],\n",
    "    hx_t[x_t <= t_crit_lower],\n",
    "    linestyle=\"-\",\n",
    "    linewidth=2,\n",
    "    color='tomato',\n",
    "    label=fr\"$\\alpha$ ({alpha})\")\n",
    "plt.fill_between(\n",
    "    x_t[x_t >= t_crit_upper],\n",
    "    hx_t[x_t >= t_crit_upper],\n",
    "    linestyle=\"-\",\n",
    "    linewidth=2,\n",
    "    color='tomato')\n",
    "\n",
    "# Plot the observed t-statistic\n",
    "plt.axvline(\n",
    "    x=t_stat_corr,\n",
    "    color='limegreen',\n",
    "    linestyle='-.',\n",
    "    label=fr\"$t$ ({t_stat_corr:.2f})\")\n",
    "\n",
    "# Shade the P value areas (two-tailed)\n",
    "plt.fill_between(\n",
    "    x_t[x_t <= -abs(t_stat_corr)],\n",
    "    hx_t[x_t <= -abs(t_stat_corr)],\n",
    "    color='greenyellow',\n",
    "    label=f\"P ({p_value:.3f})\")\n",
    "plt.fill_between(\n",
    "    x_t[x_t >= abs(t_stat_corr)],\n",
    "    hx_t[x_t >= abs(t_stat_corr)],\n",
    "    color='greenyellow')\n",
    "\n",
    "# Add labels and title\n",
    "plt.xlabel(r\"$t$\")\n",
    "plt.ylabel('Density')\n",
    "plt.margins(x=0.05, y=0)\n",
    "plt.yticks([])\n",
    "plt.title(f\"t distribution (DF={df_corr}) | Pearson correlation\")\n",
    "plt.legend();"
   ]
  },
  {
   "cell_type": "markdown",
   "metadata": {},
   "source": [
    "#### Effect size\n",
    "\n",
    "While statistical significance (P value) tells us whether a correlation is likely to exist in the population, it doesn't tell us how strong the correlation is. That's where **effect size** comes in.\n",
    "\n",
    "In correlation analysis, the correlation coefficient itself (Pearson's $r$, Spearman's $\\rho$, or Kendall's $\\tau$) serves as the effect size. It provides a standardized measure of the strength of the association between the variables:\n",
    "\n",
    "- Small effect: $|r| = 0.1$\n",
    "- Medium effect: $|r| = 0.3$\n",
    "- Large effect: $|r|  = 0.5$\n",
    "\n",
    "These are general guidelines, and the interpretation of effect size can vary depending on the specific research area and context.\n",
    "\n",
    "It's important to recognize that a statistically significant correlation might have a small effect size, indicating that the relationship, while likely present in the population, might not be practically meaningful. However, effect size is crucial because it allows us to compare the strength of correlations across different studies or variables. This is why effect sizes are essential for meta-analysis, which combines the results of multiple studies."
   ]
  },
  {
   "cell_type": "markdown",
   "metadata": {},
   "source": [
    "(ci)=\n",
    "### Confidence interval\n",
    "\n",
    "A confidence interval provides a range of plausible values for the true population correlation coefficient based on the sample correlation coefficient. It gives us an idea of the *precision* of our estimate. Similarly to what we discussed for confidence intervals of a [proportion](https://sbwiecko.github.io/intuitive_biostatistics/04%20-%20Confidence%20Interval%20of%20a%20Proportion.html#), of [survival data](https://sbwiecko.github.io/intuitive_biostatistics/05%20-%20Confidence%20Interval%20of%20Survival%20Data.html), of [counted data](https://sbwiecko.github.io/intuitive_biostatistics/06%20-%20Confidence%20Interval%20of%20Counted%20Data%20%28Poisson%20Distribution%29.html), for the [confidence interval of a mean](https://sbwiecko.github.io/intuitive_biostatistics/12%20-%20Confidence%20Interval%20of%20a%20Mean.html), or for the mean difference when assessing the significance of [paired difference mean](https://sbwiecko.github.io/intuitive_biostatistics/31%20-%20Comparing%20Paired%20Data.html#p-value-and-confidence-interval) or [mean differences in unpaired data](https://sbwiecko.github.io/intuitive_biostatistics/30%20-%20Comparing%20Two%20Unpaired%20Means.html#welch-s-p-value-and-confidence-interval), we need to compute the **margin of error**, which is often based on the **standard error**.\n",
    "\n",
    "A common method for calculating confidence intervals for Pearson's correlation coefficient is to use [**Fisher's r-to-z transformation**](https://en.wikipedia.org/wiki/Pearson_correlation_coefficient#Using_the_Fisher_transformation). This transformation helps to normalize the sampling distribution of the correlation coefficient, especially when the correlation is not close to zero. It works as follows:\n",
    "\n",
    "1. The correlation coefficient ($r$) is transformed to a z-score, also known as Fisher's Z-score, using the Fisher transformation:\n",
    "\n",
    "    $$z = 1/2 \\log\\left(\\frac{1 + r}{1 - r}\\right) = \\mathrm{arctanh}(r)$$\n",
    "\n",
    "2. The standard error of the transformed z-score is calculated as $\\mathrm{SE}_z = 1 / \\sqrt{n - 3}$, where $n$ is the sample size.\n",
    "3.  The confidence interval for the transformed z-score is calculated in the *z-space* using the **standard normal distribution**:\n",
    "\n",
    "    $$\\mathrm{CI}_z = z \\pm z^\\ast \\times \\mathrm{SE}_z$$\n",
    "\n",
    "    where $z^\\ast$, the critical value of $z$ at $\\alpha / 2$, is obtained from the standard normal distribution based on the desired confidence level ($\\alpha$).\n",
    "4.  The confidence interval in z-space is back-transformed to the original correlation scale (*r-space*) using the inverse Fisher transformation:\n",
    "\n",
    "    $$\\mathrm{CI}_r = \\frac{\\exp(2 \\mathrm{CI}_z) - 1}{\\exp(2 \\mathrm{CI}_z) + 1} = \\mathrm{tanh}(\\mathrm{CI}_z)$$"
   ]
  },
  {
   "cell_type": "code",
   "execution_count": 33,
   "metadata": {},
   "outputs": [
    {
     "name": "stdout",
     "output_type": "stream",
     "text": [
      "Pearson correlation coefficient: 0.770\n",
      "95% confidence interval for the correlation: [0.3804, 0.9275]\n"
     ]
    }
   ],
   "source": [
    "from scipy.stats import norm\n",
    "\n",
    "# Fisher's r-to-z transformation\n",
    "z = np.arctanh(pearson_r)  # type: ignore\n",
    "# or 0.5 * np.log((1 + r) / (1 - r))\n",
    "se = 1 / np.sqrt(n - 3)\n",
    "\n",
    "# Calculate the confidence interval (e.g., 95% confidence)\n",
    "confidence_level = 0.95\n",
    "critical_z = norm.ppf((1 + confidence_level) / 2)\n",
    "margin_of_error = critical_z * se\n",
    "ci_z = (z - margin_of_error, z + margin_of_error)  # CI in z-space\n",
    "\n",
    "# Back-transform to r-space\n",
    "ci_r = np.tanh(ci_z)  # or ci_r_lower = (np.exp(2 * ci_z[0]) - 1) / (np.exp(2 * ci_z[0]) + 1)...\n",
    "\n",
    "# Print the results\n",
    "print(f\"Pearson correlation coefficient: {pearson_r:.3f}\")\n",
    "print(f\"95% confidence interval for the correlation: [{ci_r[0]:.4f}, {ci_r[1]:.4f}]\")"
   ]
  },
  {
   "cell_type": "markdown",
   "metadata": {},
   "source": [
    "The [Pingouin function `compute_esci`](https://pingouin-stats.org/build/html/generated/pingouin.compute_esci.html) computes the parametric confidence interval around a Pearson $r$ correlation coefficient by applying the Fisher's r-to-z transformation."
   ]
  },
  {
   "cell_type": "code",
   "execution_count": 34,
   "metadata": {},
   "outputs": [
    {
     "name": "stdout",
     "output_type": "stream",
     "text": [
      "Parametric confidence intervals around Pearson r=0.77: [0.38 0.93]\n"
     ]
    }
   ],
   "source": [
    "x=df['per_C2022_fatacids']\n",
    "y=df['insulin_sensitivity']\n",
    "\n",
    "print(\n",
    "    f\"Parametric confidence intervals around Pearson r={pg.compute_effsize(x, y, eftype='r'):.2f}:\",\n",
    "    pg.compute_esci(\n",
    "        stat=pg.compute_effsize(x, y, eftype='r'),\n",
    "        nx=n, ny=n, eftype='r'\n",
    "    )\n",
    ")"
   ]
  },
  {
   "cell_type": "markdown",
   "metadata": {},
   "source": [
    "Based on the calculated 95% confidence interval of [0.3804, 0.9275], we can be 95% confident that the true population correlation coefficient between %C20-22 fatty acids and insulin sensitivity falls within this range. This assumes that our data is a representative random sample from the larger population."
   ]
  },
  {
   "cell_type": "markdown",
   "metadata": {},
   "source": [
    "### Performing statistical inference in Python\n",
    "\n",
    "As we've seen throughout this chapter, we can calculate correlation coefficients and perform statistical inference manually using Python libraries like NumPy, SciPy, and Pandas. However, there are also convenient functions available that streamline the process.\n",
    "\n",
    "The [Pingouin package offers a `corr` function](https://pingouin-stats.org/build/html/generated/pingouin.corr.html) that calculates correlation coefficients and provides additional information like P values and confidence intervals."
   ]
  },
  {
   "cell_type": "code",
   "execution_count": 35,
   "metadata": {},
   "outputs": [
    {
     "data": {
      "text/html": [
       "<div>\n",
       "<style scoped>\n",
       "    .dataframe tbody tr th:only-of-type {\n",
       "        vertical-align: middle;\n",
       "    }\n",
       "\n",
       "    .dataframe tbody tr th {\n",
       "        vertical-align: top;\n",
       "    }\n",
       "\n",
       "    .dataframe thead th {\n",
       "        text-align: right;\n",
       "    }\n",
       "</style>\n",
       "<table border=\"1\" class=\"dataframe\">\n",
       "  <thead>\n",
       "    <tr style=\"text-align: right;\">\n",
       "      <th></th>\n",
       "      <th>n</th>\n",
       "      <th>r</th>\n",
       "      <th>CI95%</th>\n",
       "      <th>p-val</th>\n",
       "      <th>BF10</th>\n",
       "      <th>power</th>\n",
       "    </tr>\n",
       "  </thead>\n",
       "  <tbody>\n",
       "    <tr>\n",
       "      <th>pearson</th>\n",
       "      <td>13</td>\n",
       "      <td>0.770003</td>\n",
       "      <td>[0.38, 0.93]</td>\n",
       "      <td>0.002077</td>\n",
       "      <td>23.947</td>\n",
       "      <td>0.912954</td>\n",
       "    </tr>\n",
       "  </tbody>\n",
       "</table>\n",
       "</div>"
      ],
      "text/plain": [
       "          n         r         CI95%     p-val    BF10     power\n",
       "pearson  13  0.770003  [0.38, 0.93]  0.002077  23.947  0.912954"
      ]
     },
     "execution_count": 35,
     "metadata": {},
     "output_type": "execute_result"
    }
   ],
   "source": [
    "# Calculate Pearson correlation with P value and confidence interval\n",
    "pg.corr(df['per_C2022_fatacids'], df['insulin_sensitivity'], method='pearson')"
   ]
  },
  {
   "cell_type": "markdown",
   "metadata": {},
   "source": [
    "The function also offers non-parametric methods such as Spearman and Kendall, as well as alternative hypothesis for one-sided test. Let's say we want to use Spearman correlation, and test if there is a *positive correlation* between the percentage of C20-20 fatty acids and insulin sensitivity in the population. We're specifically interested in whether the correlation is *greater than zero*."
   ]
  },
  {
   "cell_type": "code",
   "execution_count": 36,
   "metadata": {},
   "outputs": [
    {
     "data": {
      "text/html": [
       "<div>\n",
       "<style scoped>\n",
       "    .dataframe tbody tr th:only-of-type {\n",
       "        vertical-align: middle;\n",
       "    }\n",
       "\n",
       "    .dataframe tbody tr th {\n",
       "        vertical-align: top;\n",
       "    }\n",
       "\n",
       "    .dataframe thead th {\n",
       "        text-align: right;\n",
       "    }\n",
       "</style>\n",
       "<table border=\"1\" class=\"dataframe\">\n",
       "  <thead>\n",
       "    <tr style=\"text-align: right;\">\n",
       "      <th></th>\n",
       "      <th>n</th>\n",
       "      <th>r</th>\n",
       "      <th>CI95%</th>\n",
       "      <th>p-val</th>\n",
       "      <th>power</th>\n",
       "    </tr>\n",
       "  </thead>\n",
       "  <tbody>\n",
       "    <tr>\n",
       "      <th>spearman</th>\n",
       "      <td>13</td>\n",
       "      <td>0.743804</td>\n",
       "      <td>[0.41, 1.0]</td>\n",
       "      <td>0.001779</td>\n",
       "      <td>0.9322</td>\n",
       "    </tr>\n",
       "  </tbody>\n",
       "</table>\n",
       "</div>"
      ],
      "text/plain": [
       "           n         r        CI95%     p-val   power\n",
       "spearman  13  0.743804  [0.41, 1.0]  0.001779  0.9322"
      ]
     },
     "execution_count": 36,
     "metadata": {},
     "output_type": "execute_result"
    }
   ],
   "source": [
    "pg.corr(df['per_C2022_fatacids'], df['insulin_sensitivity'], method='spearman', alternative='greater')"
   ]
  },
  {
   "cell_type": "markdown",
   "metadata": {},
   "source": [
    "## Bootstrapping and permutation tests for correlation analysis\n",
    "\n",
    "As we've seen in previous chapters, [for example in paired t-test](https://sbwiecko.github.io/intuitive_biostatistics/31%20-%20Comparing%20Paired%20Data.html#bootstrapping-and-permutation-tests-for-paired-data), bootstrapping is a valuable tool for statistical inference, especially when dealing with *small sample sizes* or when the assumptions of traditional methods are not met. It allows us to estimate parameters and confidence intervals directly from the data without relying on strong distributional assumptions.\n",
    "\n",
    "[Recent research has explored the application of bootstrap and permutation methods to correlation analysis](https://jmasm.com/index.php/jmasm/article/view/1069/1069), and these methods have been shown to provide valid and robust inferences for correlation coefficients, especially when dealing with small sample sizes or non-linear relationships. By resampling or permuting the data, we can estimate the sampling distribution of the correlation coefficient under the null hypothesis or construct confidence intervals without relying on parametric assumptions.\n",
    "\n",
    "#### Generating bootstrap paired data\n",
    "\n",
    "The core idea behind bootstrapping for correlation analysis is to treat the observed sample of *paired* data points as a miniature representation of the population. We [resample pairs of observations with replacement](https://en.wikipedia.org/wiki/Pearson_correlation_coefficient#Using_a_bootstrap), preserving the relationship between the two measurements within each pair.\n",
    "\n",
    "Technically, this method involves resampling of $n$ $(x_i, y_i)$ pairs *with replacement* many times ($B$), and calculating the correlation coefficient for each resampled dataset. The empirical distribution of these resampled correlation coefficients is then used to approximate the sampling distribution of the statistic."
   ]
  },
  {
   "cell_type": "code",
   "execution_count": 37,
   "metadata": {},
   "outputs": [],
   "source": [
    "def draw_bs_pairs(x: np.array, y: np.array, func=pearsonr, size=1): # type: ignore\n",
    "    \"\"\"\n",
    "    Perform pairs bootstrap for correlation and compute single statistics \n",
    "    from the replicates.\n",
    "\n",
    "    This function performs pairs bootstrap resampling for correlation analysis.\n",
    "    It takes two arrays (x and y) and a function (func) as input. It resamples\n",
    "    pairs of data points from x and y with replacement and applies the \n",
    "    provided function to calculate a statistic (e.g., correlation coefficient) \n",
    "    for each bootstrap sample.\n",
    "\n",
    "    Args:\n",
    "      x: The first data array.\n",
    "      y: The second data array.\n",
    "      func: The function from scipy.stats to apply to the resampled data (default: pearsonr).\n",
    "      size: The number of bootstrap replicates to generate (default: 1).\n",
    "\n",
    "    Returns:\n",
    "      An array of bootstrap replicates of the statistic.\n",
    "    \"\"\"\n",
    "    # Set up array of indices to sample from\n",
    "    inds = np.arange(len(x))\n",
    "\n",
    "    # Initialize array to store bootstrap replicates\n",
    "    bs_replicates = np.empty(size)\n",
    "\n",
    "    # Generate replicates\n",
    "    for i in range(size):\n",
    "        # Resample indices with replacement\n",
    "        bs_inds = np.random.choice(inds, len(inds), replace=True)\n",
    "        \n",
    "        # Get the resampled data (go by pairs)\n",
    "        bs_x, bs_y = x[bs_inds], y[bs_inds]\n",
    "        \n",
    "        # Calculate the statistic using the provided function\n",
    "        bs_replicates[i], _ = func(bs_x, bs_y)  # Extract the correlation coefficient\n",
    "\n",
    "    return bs_replicates"
   ]
  },
  {
   "cell_type": "code",
   "execution_count": 38,
   "metadata": {},
   "outputs": [
    {
     "name": "stdout",
     "output_type": "stream",
     "text": [
      "[0.76800734 0.75033014 0.75872762 0.83040812 0.84306196 0.75067324\n",
      " 0.76837891 0.74724487 0.75046652 0.90883332]\n"
     ]
    }
   ],
   "source": [
    "# Set random seed for reproducibility\n",
    "np.random.seed(111)\n",
    "\n",
    "# Set the number of replicates\n",
    "B = 10_000\n",
    "\n",
    "# Generate bootstrap replicates of Pearson's r\n",
    "bs_replicates = draw_bs_pairs(\n",
    "    df['per_C2022_fatacids'].to_numpy(),  # Make sure we send an array\n",
    "    df['insulin_sensitivity'].to_numpy(),\n",
    "    func=pearsonr,\n",
    "    size=B)\n",
    "\n",
    "# Print the 10 first replicates\n",
    "print(bs_replicates[:10])"
   ]
  },
  {
   "cell_type": "markdown",
   "metadata": {},
   "source": [
    "We can also achieve the same result using a more concise and efficient \"pythonic\" implementation with list comprehension."
   ]
  },
  {
   "cell_type": "code",
   "execution_count": 39,
   "metadata": {},
   "outputs": [
    {
     "name": "stdout",
     "output_type": "stream",
     "text": [
      "[0.76800734 0.75033014 0.75872762 0.83040812 0.84306196 0.75067324\n",
      " 0.76837891 0.74724487 0.75046652 0.90883332]\n"
     ]
    }
   ],
   "source": [
    "np.random.seed(111)\n",
    "x=df['per_C2022_fatacids'].values\n",
    "y=df['insulin_sensitivity'].values\n",
    "inds=np.arange(len(x))\n",
    "\n",
    "bs_replicates_b = np.array([\n",
    "    pearsonr(x[bs_inds], y[bs_inds])[0]\n",
    "    for bs_inds in np.random.choice(inds, size=(B, len(inds)), replace=True)\n",
    "])\n",
    "\n",
    "# Print the 10 first replicates\n",
    "print(bs_replicates_b[:10])"
   ]
  },
  {
   "cell_type": "markdown",
   "metadata": {},
   "source": [
    "### Estimate of the confidence interval\n",
    "\n",
    "Once we have the bootstrap distribution of correlation coefficients, we can estimate the confidence interval by finding the percentiles corresponding to the desired confidence level. For a 95% confidence interval, we typically use the 2.5th and 97.5th percentiles of the bootstrap distribution. This means that 95% of the bootstrapped correlation coefficients fall within this interval, providing a range of plausible values for the true population correlation coefficient."
   ]
  },
  {
   "cell_type": "code",
   "execution_count": 40,
   "metadata": {
    "tags": []
   },
   "outputs": [
    {
     "name": "stdout",
     "output_type": "stream",
     "text": [
      "Bootstrap 95% CI estimate = [0.542 0.916]\n"
     ]
    }
   ],
   "source": [
    "# Calculate the 95% confidence interval using np.percentile\n",
    "bs_ci = np.round(np.percentile(bs_replicates, [2.5, 97.5]), 3)\n",
    "\n",
    "# Print the results\n",
    "print(f\"Bootstrap 95% CI estimate = {bs_ci}\")"
   ]
  },
  {
   "cell_type": "code",
   "execution_count": 41,
   "metadata": {},
   "outputs": [
    {
     "data": {
      "image/png": "[encoded data removed]",
      "text/plain": [
       "<Figure size 640x480 with 1 Axes>"
      ]
     },
     "metadata": {},
     "output_type": "display_data"
    }
   ],
   "source": [
    "# Plot the histogram of the bootstrap distribution of correlation coefficients\n",
    "plt.hist(\n",
    "    bs_replicates,\n",
    "    density=False,\n",
    "    bins='auto',\n",
    "    color='gold',\n",
    "    label=r'Bootstrap $r$')\n",
    "\n",
    "# Annotate the observed mean difference\n",
    "plt.axvline(\n",
    "    x=pearson_r,  # type: ignore\n",
    "    color='cornflowerblue',\n",
    "    linestyle='-', lw=2,\n",
    "    label=fr'Observed $r$ ({pearson_r:.3f})')\n",
    "\n",
    "# Add lines for the confidence interval\n",
    "plt.axvline(\n",
    "    x=bs_ci[0],\n",
    "    color='red',\n",
    "    linestyle='--',\n",
    "    label=f'2.5th ({bs_ci[0]:.3f})')\n",
    "plt.axvline(\n",
    "    x=bs_ci[1],\n",
    "    color='red',\n",
    "    linestyle='--',\n",
    "    label=f'97.5th ({bs_ci[1]:.3f})')\n",
    "\n",
    "# Add labels and title\n",
    "plt.xlabel(r'$r$')\n",
    "plt.ylabel('Frequency')\n",
    "plt.title(fr\"Bootstrap distribution of $r$ (B={B})\")\n",
    "plt.legend();"
   ]
  },
  {
   "cell_type": "markdown",
   "metadata": {},
   "source": [
    "Correlation coefficients have a bounded range (-1 to +1), so that, when the true correlation is near the boundaries, the bootstrap distribution can become *skewed* because it cannot extend beyond these limits. This is why we applied the [Fisher's r-to-z transformation for calculating the parametric confidence interval](ci). The skewness can affect the accuracy of the confidence interval calculated from the percentiles of the bootstrap distribution.\n",
    "\n",
    "One solution would be to apply a transformation (like Fisher's r-to-z transformation) to the correlation coefficients before bootstrapping to help reducing skewness and improving the accuracy of the confidence interval. Let's take this opportunity to use the [`pingouin` function `compute_bootci`](https://pingouin-stats.org/build/html/generated/pingouin.compute_bootci.html) that computes bootstrapped confidence intervals of univariate and bivariate functions."
   ]
  },
  {
   "cell_type": "code",
   "execution_count": 42,
   "metadata": {},
   "outputs": [
    {
     "name": "stdout",
     "output_type": "stream",
     "text": [
      "95% confidence interval (bootstrap with r-to-z transformation):\n"
     ]
    },
    {
     "data": {
      "text/plain": [
       "array([0.53704957, 0.91542046])"
      ]
     },
     "execution_count": 42,
     "metadata": {},
     "output_type": "execute_result"
    }
   ],
   "source": [
    "print(\"95% confidence interval (bootstrap with r-to-z transformation):\")\n",
    "np.tanh(\n",
    "    pg.compute_bootci(\n",
    "        x=df['per_C2022_fatacids'],\n",
    "        y=df['insulin_sensitivity'],\n",
    "        paired=True,  # Resample the pairs (x_i, y_i)\n",
    "        # r-to-z transformation\n",
    "        func=lambda x,y : np.arctanh(pearsonr(x, y)[0]), # type: ignore\n",
    "        # func='pearson',  # Use pearsonr for normal correlation\n",
    "        confidence=0.95,\n",
    "        method='per',  # Simple percentile\n",
    "        seed=111,\n",
    "        n_boot=10000,\n",
    "        return_dist=False,  # Set to False to only return the CI\n",
    "    )\n",
    ")"
   ]
  },
  {
   "cell_type": "markdown",
   "metadata": {},
   "source": [
    "There are also [more advanced bootstrapping methods that adjusts for bias and skewness](https://besjournals.onlinelibrary.wiley.com/doi/pdf/10.1111/1365-2656.12382) in the bootstrap distribution, for example *bias-corrected and accelerated* (BCa) bootstrap. They can provide more accurate confidence intervals, especially when the distribution is skewed. The `scipy.stats.pearsonr` function natively returns a 'result' object associate to a `confidence_interval` method that can computes a bootstrap confidence interval of the correlation coefficient statistic using the [`scipy.stats.bootstrap`](https://docs.scipy.org/doc/scipy/reference/generated/scipy.stats.bootstrap.html#scipy.stats.bootstrap). It's worth noting that the `compute_bootci` function in Pingouin uses a bias correction method for the bootstrap distribution that differs from the BCa method. "
   ]
  },
  {
   "cell_type": "code",
   "execution_count": 43,
   "metadata": {},
   "outputs": [
    {
     "name": "stdout",
     "output_type": "stream",
     "text": [
      "95% confidence interval (BCa):\n",
      " ConfidenceInterval(low=0.5252399567436714, high=0.9081916163196986)\n"
     ]
    }
   ],
   "source": [
    "from scipy.stats import BootstrapMethod\n",
    "\n",
    "method = BootstrapMethod(method='BCa', random_state=111)\n",
    "res = pearsonr(df['per_C2022_fatacids'], df['insulin_sensitivity'])\n",
    "ci_bca = res.confidence_interval(confidence_level=.95, method=method)\n",
    "\n",
    "print(\"95% confidence interval (BCa):\\n\", ci_bca)"
   ]
  },
  {
   "cell_type": "code",
   "execution_count": 44,
   "metadata": {},
   "outputs": [
    {
     "name": "stdout",
     "output_type": "stream",
     "text": [
      "P value obtained using bootstrapped t-statistics = 0.5382\n"
     ]
    }
   ],
   "source": [
    "import numpy as np\n",
    "from scipy.stats import pearsonr, t\n",
    "\n",
    "# ... (your DataFrame 'df' with 'C2022_fatacids' and 'insulin_sensitiv') ...\n",
    "\n",
    "def draw_bs_pairs_t_stat(x, y, size=1):\n",
    "    \"\"\"\n",
    "    Perform pairs bootstrap for correlation and compute t-statistics \n",
    "    from the replicates.\n",
    "    \"\"\"\n",
    "    inds = np.arange(len(x))\n",
    "    bs_t_stats = np.empty(size)\n",
    "    n = len(x)  # Calculate sample size here\n",
    "    for i in range(size):\n",
    "        bs_inds = np.random.choice(inds, len(inds), replace=True)\n",
    "        bs_x, bs_y = x[bs_inds], y[bs_inds]\n",
    "        r, _ = pearsonr(bs_x, bs_y)\n",
    "        t_stat = r * np.sqrt((n - 2) / (1 - r**2)) # type: ignore\n",
    "        bs_t_stats[i] = t_stat\n",
    "    return bs_t_stats\n",
    "\n",
    "# Set random seed for reproducibility\n",
    "np.random.seed(111)\n",
    "\n",
    "# Generate 10000 bootstrap replicates of the t-statistic\n",
    "n_replicates = 10000\n",
    "bs_t_replicates = draw_bs_pairs_t_stat(\n",
    "    df['per_C2022_fatacids'].values, df['insulin_sensitivity'].values, size=n_replicates\n",
    ")\n",
    "\n",
    "# Calculate the P value using bootstrapping, considering the direction of the observed t-statistic\n",
    "if t_stat_corr >= 0:\n",
    "    p_value_bs_shifted = np.sum(bs_t_replicates >= t_stat_corr) / len(bs_t_replicates)\n",
    "else:\n",
    "    p_value_bs_shifted = np.sum(bs_t_replicates <= t_stat_corr) / len(bs_t_replicates)\n",
    "\n",
    "# Print the P value\n",
    "print(f\"P value obtained using bootstrapped t-statistics = {p_value_bs_shifted:.4f}\")\n"
   ]
  },
  {
   "cell_type": "markdown",
   "metadata": {},
   "source": [
    "(permutations)=\n",
    "### P value using permutation\n",
    "\n",
    "Bootstrapping and permutation tests offer flexibility in testing hypotheses about correlation. We can manipulate the data to simulate the null hypothesis of no correlation, allowing us to calculate P values. The choice of test statistic in correlation analysis often depends on the specific hypothesis and the nature of the data. Common test statistics include the correlation coefficient Pearson's $r$, Spearman's $\\rho$, or Kendall's $\\tau$. But the flexibility of resampling methods allows us to explore other relevant statistics as well.\n",
    "\n",
    "**Permutation** tests are a common resampling method for hypothesis testing in correlation analysis. In this approach, we randomly shuffle the values of one of the variables while keeping the other variable fixed. This *shuffling* breaks the association between the variables, simulating the null hypothesis of no correlation. By calculating the correlation coefficient for each permuted dataset, we generate a permutation distribution of correlation coefficients under the null hypothesis. We can then compare the observed correlation from our original data to this permutation distribution to assess its significance (P value)."
   ]
  },
  {
   "cell_type": "code",
   "execution_count": 45,
   "metadata": {},
   "outputs": [],
   "source": [
    "def permute_for_correlation(x, y):\n",
    "    \"\"\"\n",
    "    Generates a permuted sample for correlation analysis \n",
    "    under the null hypothesis of no association.\n",
    "\n",
    "    Args:\n",
    "      x: The first data array.\n",
    "      y: The second data array.\n",
    "\n",
    "    Returns:\n",
    "      A new array with the values of x permuted randomly.\n",
    "    \"\"\"\n",
    "    # Permute the values of x\n",
    "    permuted_x = np.random.permutation(x)\n",
    "\n",
    "    return permuted_x, y  # Return the permuted x and the original y"
   ]
  },
  {
   "cell_type": "markdown",
   "metadata": {},
   "source": [
    "Next, we determine how frequently the correlation coefficients calculated from the permuted datasets are as extreme as, or even more extreme than, the observed correlation coefficient in our original data. This proportion represents the P value. In essence, it tells us the likelihood of observing a correlation as strong as the one we found, purely by chance, if there were truly no association between the variables (i.e., if the null hypothesis were true)."
   ]
  },
  {
   "cell_type": "code",
   "execution_count": 46,
   "metadata": {},
   "outputs": [
    {
     "name": "stdout",
     "output_type": "stream",
     "text": [
      "[-0.09216053  0.10482992 -0.06654712 -0.46068324  0.55469462  0.04537575]\n"
     ]
    }
   ],
   "source": [
    "# Set random seed for reproducibility\n",
    "np.random.seed(111)\n",
    "\n",
    "# Generate 10,000 permutation replicates of the correlation coefficient\n",
    "B = 10000\n",
    "permuted_corrs = np.empty(B)\n",
    "\n",
    "# Generate permuted correlation coefficients\n",
    "for i in range(B):\n",
    "    # Permute the data\n",
    "    permuted_x, y = permute_for_correlation(df['per_C2022_fatacids'], df['insulin_sensitivity'])\n",
    "    \n",
    "    # Calculate the correlation coefficient for this permuted sample\n",
    "    permuted_corrs[i] = pearsonr(permuted_x, y)[0]\n",
    "\n",
    "# Print the first 6 replicate correlation coefficients\n",
    "print(permuted_corrs[:6])"
   ]
  },
  {
   "cell_type": "code",
   "execution_count": 47,
   "metadata": {},
   "outputs": [
    {
     "name": "stdout",
     "output_type": "stream",
     "text": [
      "[-0.09216053  0.10482992 -0.06654712 -0.46068324  0.55469462  0.04537575]\n"
     ]
    }
   ],
   "source": [
    "# Same with a 'pythonic' implementation using list comprehension\n",
    "np.random.seed(111)\n",
    "x=df['per_C2022_fatacids'].values\n",
    "y=df['insulin_sensitivity'].values\n",
    "\n",
    "permuted_corrs_b = np.array([\n",
    "    pearsonr(np.random.permutation(x), y)[0] # type: ignore\n",
    "    for _ in range(B)\n",
    "])\n",
    "\n",
    "print(permuted_corrs_b[:6])"
   ]
  },
  {
   "cell_type": "code",
   "execution_count": 48,
   "metadata": {},
   "outputs": [
    {
     "name": "stdout",
     "output_type": "stream",
     "text": [
      "P value obtained using permutation = 0.0012\n"
     ]
    }
   ],
   "source": [
    "# Calculate the P value using the distribution of Pearson's r replicates of permuted pairs,\n",
    "# considering the direction of the observed correlation coefficient\n",
    "if pearson_r >= 0: # type: ignore\n",
    "    p_value_permutation = np.sum(permuted_corrs >= pearson_r) / len(permuted_corrs) # type: ignore\n",
    "else:\n",
    "    p_value_permutation = np.sum(permuted_corrs <= pearson_r) / len(permuted_corrs) # type: ignore\n",
    "\n",
    "# Print the p-value\n",
    "print(f\"P value obtained using permutation = {p_value_permutation:.4f}\")"
   ]
  },
  {
   "cell_type": "code",
   "execution_count": 49,
   "metadata": {},
   "outputs": [
    {
     "data": {
      "image/png": "[encoded data removed]",
      "text/plain": [
       "<Figure size 640x480 with 1 Axes>"
      ]
     },
     "metadata": {},
     "output_type": "display_data"
    }
   ],
   "source": [
    "import matplotlib.patches as mpatches\n",
    "\n",
    "# Plot the histogram of the Pearson r of shuffled pairs\n",
    "hist, bins, patches = plt.hist(\n",
    "    permuted_corrs,\n",
    "    density=False,\n",
    "    bins=int(B**.5),\n",
    "    color='gold',\n",
    "    # alpha=0.75,\n",
    ")\n",
    "\n",
    "# Annotate the observed mean difference\n",
    "plt.axvline(\n",
    "    x=pearson_r, # type: ignore\n",
    "    color='limegreen',\n",
    "    linestyle='-.', lw=2,\n",
    "    label=fr\"Observed $r$ ({pearson_r:.3f})\")\n",
    "\n",
    "# Determine the direction of the observed difference and plot accordingly\n",
    "if pearson_r >= 0: # type: ignore\n",
    "    # Plot the histogram of the mean differences >= observed mean difference \n",
    "    extreme_diffs = permuted_corrs[permuted_corrs >= pearson_r] # type: ignore\n",
    "    # Change the color of the bars based on the direction parameter\n",
    "    for i, bin_edge in enumerate(bins[:-1]):\n",
    "        if np.any(bin_edge >= extreme_diffs):\n",
    "            patches[i].set_facecolor('lime') # type: ignore\n",
    "else:\n",
    "    # Plot the histogram of the mean differences <= observed mean difference\n",
    "    extreme_diffs = permuted_corrs[permuted_mean_diffs <= pearson_r] # type: ignore\n",
    "    for i, bin_edge in enumerate(bins[:-1]):\n",
    "        if np.any(bin_edge <= extreme_diffs):\n",
    "            patches[i].set_facecolor('lime') # type: ignore\n",
    "\n",
    "# Add labels and title\n",
    "plt.xlabel(r'$r$')\n",
    "plt.ylabel('Frequency')\n",
    "plt.title(fr\"Distribution of $r$ under H0 (B={B})\")\n",
    "\n",
    "# Create a copy of the original patch for the legend\n",
    "original_patch = mpatches.Patch(color='gold', label=r'Permuted $r$')\n",
    "# Create a patch for the legend\n",
    "p_value_patch = mpatches.Patch(color='lime', label=f'P ({p_value_permutation:.4f})')\n",
    "\n",
    "# Add the patches to the legend\n",
    "plt.legend(handles=[original_patch, plt.gca().lines[0], p_value_patch]); # type: ignore"
   ]
  },
  {
   "cell_type": "markdown",
   "metadata": {},
   "source": [
    "All the P values we calculated for the correlation between the percentage of C20-22 fatty acids and insulin sensitivity are considerably smaller than the typical significance level of 0.05. This indicates strong evidence to reject the null hypothesis of no correlation between the variables. Therefore, we can confidently conclude that there is a statistically significant correlation between the percentage of C20-22 fatty acids and insulin sensitivity.\n",
    "\n",
    "The slightly different P values obtained from the various methods (parametric test, permutation test, bootstrapping) might reflect subtle differences in how these methods handle the data and estimate the P value. However, the overall conclusion of a statistically significant correlation remains consistent across all tests."
   ]
  },
  {
   "cell_type": "markdown",
   "metadata": {},
   "source": [
    "## Conclusion\n",
    "\n",
    "In this chapter, we explored **correlation** analysis, a fundamental statistical method for understanding the relationship between continuous variables. We focused on **Pearson's correlation coefficient**, which measures the strength and direction of linear relationships, and discussed its **assumptions**, **interpretation**, and **statistical inference**. We also introduced **non-parametric** correlation coefficients like Spearman's rho and Kendall's tau, which are suitable for non-linear monotonic relationships.\n",
    "\n",
    "We demonstrated how to calculate these correlation coefficients using Python libraries such as NumPy, SciPy, Pandas, and Pingouin. Additionally, we explored resampling methods like **bootstrapping** and **permutation** tests, which offer robust alternatives for statistical inference, especially when dealing with small sample sizes or violations of assumptions.\n",
    "\n",
    "It's crucial to emphasize that *correlation does not imply causation*. Even if we observe a strong correlation between two variables, we cannot conclude that one variable causes the other. There might be other confounding factors or underlying relationships that explain the observed correlation. For example, if we find a positive correlation between ice cream sales and drowning incidents, it doesn't mean that eating ice cream causes drowning. Both variables might be influenced by a third factor, such as warm weather, which leads to increased ice cream consumption and more people swimming.\n",
    "\n",
    "Therefore, it's essential to interpret correlation analysis cautiously and consider alternative explanations for the observed relationships. Further investigation, experimental studies, or more advanced statistical modeling might be needed to establish causal links between variables."
   ]
  },
  {
   "cell_type": "markdown",
   "metadata": {},
   "source": [
    "## Cheat sheet\n",
    "\n",
    "### Descriptive statistics and visualization\n",
    "\n",
    "```python\n",
    "# Display descriptive statistics using Pandas' describe()\n",
    "import pandas as pd\n",
    "df.describe()\n",
    "\n",
    "# Display additional statistics using SciPy\n",
    "from scipy.stats import describe\n",
    "describe(df[x])\n",
    "\n",
    "# Scatter plot\n",
    "import matplotlib.pyplot as plt\n",
    "plt.scatter(df[x], df[y])\n",
    "\n",
    "# Correlation matrix heatmap\n",
    "import seaborn as sns\n",
    "corr_matrix = df[[x, y, z]].corr()\n",
    "#pg.pairwise_corr(df, columns=[x, y, z], padjust='bonf')\n",
    "sns.heatmap(corr_matrix)\n",
    "```\n",
    "\n",
    "### Assessing assumptions\n",
    "\n",
    "```python\n",
    "# Linearity\n",
    "import pingouin as pg\n",
    "model = pg.linear_regression(df[x], df[y])\n",
    "residuals = model.residuals_\n",
    "sns.residplot(x=df[x], y=residuals, lowess=True)\n",
    "\n",
    "# Q-Q plot\n",
    "pg.qqplot(df[x], dist='norm', confidence=0.95)\n",
    "\n",
    "# Normality test\n",
    "pg.normality(df[x])\n",
    "\n",
    "# Homoscedasticity (divide the data into groups)\n",
    "cutoff = df[x].median()\n",
    "group1 = df[y][df[x] <= cutoff].to_numpy()\n",
    "group2 = df[y][df[x] > cutoff].to_numpy()\n",
    "pg.homoscedasticity([group1, group2], method='levene')\n",
    "\n",
    "# Outliers\n",
    "sns.stripplot(y=df[x])\n",
    "sns.boxplot(y=df[x])\n",
    "```\n",
    "\n",
    "### Measures of correlation\n",
    "\n",
    "```python\n",
    "# Covariance\n",
    "df.cov(ddof=1)\n",
    "# same as np.cov(df[x], df[y])\n",
    "\n",
    "# Pearson correlation coefficient\n",
    "from scipy.stats import pearsonr\n",
    "pearsonr(df[x], df[y])\n",
    "\n",
    "# Spearman rank correlation coefficient\n",
    "from scipy.stats import spearmanr\n",
    "spearmanr(df[x], df[y])\n",
    "\n",
    "# Kendall tau\n",
    "from scipy.stats import kendalltau\n",
    "kendalltau(df[x], df[y])\n",
    "```\n",
    "\n",
    "### Statistical inference\n",
    "\n",
    "```python\n",
    "# Calculate Pearson correlation with P value and confidence interval\n",
    "pg.corr(df[x], df[y], method='pearson', alternative='two-sided')\n",
    "```\n",
    "\n",
    "### Bootstrapping and permutations\n",
    "\n",
    "#### Bootstrap replicates and confidence intervals\n",
    "\n",
    "```python\n",
    "import numpy as np\n",
    "# Generate B bootstrap replicates of the pearson r\n",
    "# !Make sure to choose exactly N elements randomly **with replacement**\n",
    "B = 10_000\n",
    "x=df[x].values\n",
    "y=df[y].values\n",
    "inds=np.arange(len(x))\n",
    "\n",
    "bs_replicates = np.array([\n",
    "    pearsonr(x[bs_inds], y[bs_inds])[0]\n",
    "    for bs_inds in np.random.choice(inds, size=(B, len(inds)), replace=True)\n",
    "])\n",
    "\n",
    "# Confidence interval\n",
    "np.percentile(bs_replicates, [2.5, 97.5])\n",
    "```\n",
    "\n",
    "#### Bootstrap r-to-z transforms with Pingouin\n",
    "\n",
    "```python\n",
    "bs_ci_z, bs_z = pg.compute_bootci(\n",
    "    x=df[x],\n",
    "    y=df[y],\n",
    "    paired=True,  # Resample the pairs (x_i, y_i)\n",
    "    func=lambda x,y : np.arctanh(pearsonr(x, y)[0]),\n",
    "    method='per',\n",
    "    return_dist=True)\n",
    "\n",
    "# Back-transformation to the r-space\n",
    "bs_ci_r = np.tanh(bs_ci_z)\n",
    "```\n",
    "\n",
    "#### BCa bootstrap with SciPy\n",
    "\n",
    "```python\n",
    "from scipy.stats import BootstrapMethod\n",
    "\n",
    "method = BootstrapMethod(method='BCa')\n",
    "res = pearsonr(df[x], df[y])\n",
    "ci_bca = res.confidence_interval(method=method)\n",
    "```\n",
    "\n",
    "#### P value using permutation\n",
    "\n",
    "```python\n",
    "# Generate B replicates of r from permutated pairs\n",
    "B = 10_000\n",
    "x=df[x].values\n",
    "y=df[y].values\n",
    "\n",
    "permuted_corrs = np.array([\n",
    "    pearsonr(np.random.permutation(x), y)[0]\n",
    "    for _ in range(B)\n",
    "])\n",
    "\n",
    "# Calculate the P value using the distribution of Pearson's r replicates of permuted pairs,\n",
    "# considering the direction of the observed correlation coefficient\n",
    "if pearson_r >= 0:\n",
    "    p_value_permutation = np.sum(permuted_corrs >= pearson_r) / len(permuted_corrs)\n",
    "else:\n",
    "    p_value_permutation = np.sum(permuted_corrs <= pearson_r) / len(permuted_corrs)\n",
    "```"
   ]
  },
  {
   "cell_type": "markdown",
   "metadata": {},
   "source": [
    "## Session information\n",
    "\n",
    "The output below details all packages and version necessary to reproduce the results in this report."
   ]
  },
  {
   "cell_type": "code",
   "execution_count": 50,
   "metadata": {
    "tags": [
     "hide-input"
    ]
   },
   "outputs": [
    {
     "name": "stdout",
     "output_type": "stream",
     "text": [
      "Python 3.12.7\n",
      "-------------\n",
      "numpy: 1.26.4\n",
      "pandas: 2.2.2\n",
      "matplotlib: 3.9.2\n",
      "seaborn: 0.13.2\n",
      "scipy: 1.14.1\n",
      "pingouin: 0.5.5\n"
     ]
    }
   ],
   "source": [
    "!python --version\n",
    "print(\"-------------\")\n",
    "\n",
    "from importlib.metadata import version\n",
    "\n",
    "# List of packages we want to check the version\n",
    "packages = ['numpy', 'pandas', 'matplotlib', 'seaborn', 'scipy', 'pingouin']\n",
    "\n",
    "# Initialize an empty list to store the versions\n",
    "versions = []\n",
    "\n",
    "# Loop over the packages\n",
    "for package in packages:\n",
    "    try:\n",
    "        # Get the version of the package\n",
    "        package_version = version(package)\n",
    "        # Append the version to the list\n",
    "        versions.append(package_version)\n",
    "    except Exception:  # Use a more general exception for broader compatibility\n",
    "        versions.append('Not installed')\n",
    "\n",
    "# Print the versions\n",
    "for package, version in zip(packages, versions):\n",
    "    print(f'{package}: {version}')"
   ]
  }
 ],
 "metadata": {
  "kernelspec": {
   "display_name": ".env",
   "language": "python",
   "name": "python3"
  },
  "language_info": {
   "codemirror_mode": {
    "name": "ipython",
    "version": 3
   },
   "file_extension": ".py",
   "mimetype": "text/x-python",
   "name": "python",
   "nbconvert_exporter": "python",
   "pygments_lexer": "ipython3",
   "version": "3.12.7"
  }
 },
 "nbformat": 4,
 "nbformat_minor": 2
}
