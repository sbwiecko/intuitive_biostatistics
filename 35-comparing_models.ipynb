{
 "cells": [
  {
   "cell_type": "code",
   "execution_count": 41,
   "metadata": {},
   "outputs": [],
   "source": [
    "import numpy as np\n",
    "import pandas as pd\n",
    "from scipy import stats\n",
    "import matplotlib.pyplot as plt\n",
    "import seaborn as sns\n",
    "%matplotlib inline"
   ]
  },
  {
   "cell_type": "markdown",
   "metadata": {},
   "source": [
    "# Linear regression"
   ]
  },
  {
   "cell_type": "code",
   "execution_count": 2,
   "metadata": {},
   "outputs": [],
   "source": [
    "# data from chapter 32\n",
    "insulin_sensitiv = np.array([250, 220, 145, 115, 230, 200, 330, 400, 370, 260, 270, 530, 375])\n",
    "C2022_fatacids = np.array([17.9, 18.3, 18.3, 18.4, 18.4, 20.2, 20.3, 21.8, 21.9, 22.1, 23.1, 24.2, 24.4])"
   ]
  },
  {
   "cell_type": "markdown",
   "metadata": {},
   "source": [
    "## Graph"
   ]
  },
  {
   "cell_type": "code",
   "execution_count": 9,
   "metadata": {},
   "outputs": [
    {
     "data": {
      "image/png": "[encoded data removed]",
      "text/plain": [
       "<Figure size 576x288 with 2 Axes>"
      ]
     },
     "metadata": {
      "needs_background": "light"
     },
     "output_type": "display_data"
    }
   ],
   "source": [
    "res = stats.linregress(x=C2022_fatacids, y=insulin_sensitiv)\n",
    "\n",
    "plt.figure(figsize=(8,4))\n",
    "plt.subplot(1,2,2)\n",
    "plt.plot(C2022_fatacids, insulin_sensitiv, 'bo', linestyle='None')\n",
    "plt.ylim(0,600)\n",
    "\n",
    "x=np.array([17, 25])\n",
    "plt.plot(x, res.slope*x + res.intercept, 'r-', lw=4)\n",
    "\n",
    "plt.xlabel('%C20-22 fatty acids')\n",
    "plt.ylabel('Insulin sensitivity (mg/m²/min)')\n",
    "plt.title(\"Linear regression\")\n",
    "\n",
    "plt.subplot(1,2,1)\n",
    "plt.plot(C2022_fatacids, insulin_sensitiv, 'bo', linestyle='None')\n",
    "plt.ylim(0,600)\n",
    "\n",
    "x=np.array([17, 25])\n",
    "plt.plot(x, [np.mean(insulin_sensitiv)]*2, 'r-', lw=4)\n",
    "\n",
    "plt.xlabel('%C20-22 fatty acids')\n",
    "plt.ylabel('Insulin sensitivity (mg/m²/min)')\n",
    "plt.title(\"Null hypothesis\")\n",
    "\n",
    "plt.tight_layout();"
   ]
  },
  {
   "cell_type": "markdown",
   "metadata": {},
   "source": [
    "## $R²$"
   ]
  },
  {
   "cell_type": "code",
   "execution_count": 74,
   "metadata": {},
   "outputs": [
    {
     "name": "stdout",
     "output_type": "stream",
     "text": [
      "R² using TSS and RSS: 0.5929039159757119\n"
     ]
    }
   ],
   "source": [
    "def compute_rss(y_estimate, y): \n",
    "  return sum(np.power(y-y_estimate, 2)) \n",
    "\n",
    "def estimate_y(x, b_0, b_1): \n",
    "  return b_0 + b_1 * x\n",
    "\n",
    "y = insulin_sensitiv\n",
    "x = C2022_fatacids\n",
    "\n",
    "beta_0 = res.intercept\n",
    "beta_1 = res.slope\n",
    "\n",
    "rss = compute_rss(estimate_y(x, beta_0, beta_1), y)\n",
    "\n",
    "tss = np.sum(np.power(y - np.mean(y), 2))\n",
    "print(f\"R² using TSS and RSS: {(tss-rss)/tss}\")"
   ]
  },
  {
   "cell_type": "code",
   "execution_count": 16,
   "metadata": {},
   "outputs": [
    {
     "name": "stdout",
     "output_type": "stream",
     "text": [
      "scatter from regression line:  63361\n"
     ]
    }
   ],
   "source": [
    "print(f\"scatter from regression line: {rss:6.0f}\")"
   ]
  },
  {
   "cell_type": "code",
   "execution_count": 18,
   "metadata": {},
   "outputs": [
    {
     "name": "stdout",
     "output_type": "stream",
     "text": [
      "scatter from horizontal line (H0): 155642\n"
     ]
    }
   ],
   "source": [
    "print(f\"scatter from horizontal line (H0): {compute_rss(y, np.mean(y)):6.0f}\")"
   ]
  },
  {
   "cell_type": "code",
   "execution_count": 22,
   "metadata": {},
   "outputs": [
    {
     "name": "stdout",
     "output_type": "stream",
     "text": [
      "percentage of variation for the regression line : 40.7%\n"
     ]
    }
   ],
   "source": [
    "print(f\"percentage of variation for the regression line : {rss/compute_rss(y, np.mean(y)):3.1%}\")"
   ]
  },
  {
   "cell_type": "markdown",
   "metadata": {},
   "source": [
    "Comparing the fit of a horizontal line vs. best-fit linear regression line:\n",
    "\n",
    "Hypothesis | Scatter from | Sum of squares | Percentage of variation | $R²$\n",
    "---|---|---|---|---\n",
    "Null | Horizontal line | 155642 | 100.0% |\n",
    "Alternative | Regression line | 63361 | 40.7% |\n",
    "Difference | Improvement | 92281 | 59.3% | 0.593"
   ]
  },
  {
   "cell_type": "markdown",
   "metadata": {},
   "source": [
    "Scatter around the regression line accounts for 40.7% of the variation. Therefore the linear regression model itself accounts for $100\\% - 40.7\\% = 59.3\\% $ of the variation. This is the definition of $R²$, which equals 0.593."
   ]
  },
  {
   "cell_type": "markdown",
   "metadata": {},
   "source": [
    "## P value"
   ]
  },
  {
   "cell_type": "markdown",
   "metadata": {},
   "source": [
    "Comparaing the fit of a horizontal line vs the best-fit linear regression line:\n",
    "\n",
    "Source of variation | Hypothesis | Scatter from | Sum of squares | DF | MS | F ratio\n",
    "---|---|---|---|---|---|---\n",
    "Regression | Difference | Improvement | 92281 | 1 | 92.281 | 16.0\n",
    "Random | Alternative | Regression line | 63361 | 11 | 5760.1 |\n",
    "Total | Null | Horizontal line | 155642 | 12 | \\ |"
   ]
  },
  {
   "cell_type": "markdown",
   "metadata": {},
   "source": [
    "1. 'Total'shows the sum of squares of the distances from the fit of the null hypothesis, 13 data points $-$ one parameter (the mean) leaves $DF=12$.\n",
    "2. 'Random' shows the sum of squares from the linear regression, two parameters are fitted (slope and intercept) leaving 11 df.\n",
    "3. 'Regression' shows the difference.\n",
    "\n",
    "Mean square (MS) also called *variances* is the RSS divided by DF"
   ]
  },
  {
   "cell_type": "code",
   "execution_count": 32,
   "metadata": {},
   "outputs": [
    {
     "name": "stdout",
     "output_type": "stream",
     "text": [
      "F ratio : 16.0\n"
     ]
    }
   ],
   "source": [
    "F = 92281/5760.1\n",
    "print(f\"F ratio : {F:3.1f}\")"
   ]
  },
  {
   "cell_type": "markdown",
   "metadata": {},
   "source": [
    "The distribution of the *F ratio* is known when the null hypothesis is true"
   ]
  },
  {
   "cell_type": "code",
   "execution_count": 36,
   "metadata": {},
   "outputs": [
    {
     "name": "stdout",
     "output_type": "stream",
     "text": [
      "P values computed from the F ratio distribution: 0.0021\n"
     ]
    }
   ],
   "source": [
    "dfn, dfd = 1, 11\n",
    "p_value= 1 - stats.f(dfn, dfd).cdf(F)\n",
    "print(f\"P values computed from the F ratio distribution: {p_value:5.4f}\")"
   ]
  },
  {
   "cell_type": "markdown",
   "metadata": {},
   "source": [
    "# Unpaired t test"
   ]
  },
  {
   "cell_type": "code",
   "execution_count": 37,
   "metadata": {},
   "outputs": [],
   "source": [
    "# data come from chapter 30\n",
    "old = np.array([20.8, 2.8, 50, 33.3, 29.4, 38.9, 29.4, 52.6, 14.3])\n",
    "young=np.array([45.5, 55, 60.7, 61.5, 61.1, 65.5, 42.9, 37.5])"
   ]
  },
  {
   "cell_type": "markdown",
   "metadata": {},
   "source": [
    "To view the unpaired t test as a comparison of the fits of two models, consider it a special case of linear regression."
   ]
  },
  {
   "cell_type": "code",
   "execution_count": 53,
   "metadata": {},
   "outputs": [],
   "source": [
    "data = pd.DataFrame({'X': [0]*9+[1]*8, 'y':list(old) + list(young)})"
   ]
  },
  {
   "cell_type": "markdown",
   "metadata": {},
   "source": [
    "## Graph"
   ]
  },
  {
   "cell_type": "code",
   "execution_count": 63,
   "metadata": {},
   "outputs": [
    {
     "data": {
      "image/png": "[encoded data removed]",
      "text/plain": [
       "<Figure size 360x360 with 1 Axes>"
      ]
     },
     "metadata": {
      "needs_background": "light"
     },
     "output_type": "display_data"
    }
   ],
   "source": [
    "sns.lmplot('X', 'y', data=data)\n",
    "plt.xticks([0,1], ['Old ($X=0$)', 'Young ($X=1$)'])\n",
    "plt.xlim([-.5, 1.5])\n",
    "plt.ylim([0, 100])\n",
    "plt.ylabel(\"$\\%E_{max}$\")\n",
    "plt.title(\"Comparing two groups by linear regression\");"
   ]
  },
  {
   "cell_type": "markdown",
   "metadata": {},
   "source": [
    "The slope of the best-fit regression line equals the difference between the means, because X values are one unit apart. The slope is 23.55 with 95% CI ranging from 9.338% to 37.75%, matching the results reported by the unpaired t test. Same for the P value."
   ]
  },
  {
   "cell_type": "code",
   "execution_count": 64,
   "metadata": {},
   "outputs": [
    {
     "name": "stdout",
     "output_type": "stream",
     "text": [
      "                 Results: Ordinary least squares\n",
      "=================================================================\n",
      "Model:              OLS              Adj. R-squared:     0.418   \n",
      "Dependent Variable: y                AIC:                139.1606\n",
      "Date:               2018-10-15 15:34 BIC:                140.8271\n",
      "No. Observations:   17               Log-Likelihood:     -67.580 \n",
      "Df Model:           1                F-statistic:        12.47   \n",
      "Df Residuals:       15               Prob (F-statistic): 0.00302 \n",
      "R-squared:          0.454            Scale:              188.28  \n",
      "-------------------------------------------------------------------\n",
      "            Coef.    Std.Err.     t      P>|t|     [0.025    0.975]\n",
      "-------------------------------------------------------------------\n",
      "const      30.1667     4.5738   6.5955   0.0000   20.4178   39.9155\n",
      "x1         23.5458     6.6674   3.5315   0.0030    9.3346   37.7571\n",
      "-----------------------------------------------------------------\n",
      "Omnibus:               0.260        Durbin-Watson:          2.044\n",
      "Prob(Omnibus):         0.878        Jarque-Bera (JB):       0.358\n",
      "Skew:                  -0.240       Prob(JB):               0.836\n",
      "Kurtosis:              2.476        Condition No.:          3    \n",
      "=================================================================\n",
      "\n"
     ]
    },
    {
     "name": "stderr",
     "output_type": "stream",
     "text": [
      "c:\\program files\\python37\\lib\\site-packages\\scipy\\stats\\stats.py:1394: UserWarning: kurtosistest only valid for n>=20 ... continuing anyway, n=17\n",
      "  \"anyway, n=%i\" % int(n))\n"
     ]
    }
   ],
   "source": [
    "import statsmodels.api as sm\n",
    "X = data['X'].values\n",
    "y = data['y'].values\n",
    "\n",
    "X = sm.add_constant(X)\n",
    "results = sm.OLS(y, X).fit()\n",
    "print(results.summary2())"
   ]
  },
  {
   "cell_type": "markdown",
   "metadata": {},
   "source": [
    "## Goodness of fit and $R²$"
   ]
  },
  {
   "cell_type": "markdown",
   "metadata": {},
   "source": [
    "The t test recast as a comparison of models:\n",
    "\n",
    "Hypothesis | Scatter from | Sum of squares | Percentage of variation | $R²$\n",
    "---|---|---|---|---\n",
    "Null | Grand mean | 5172 | 100.0% |\n",
    "Alternative | Group meand | 2824 | 54.6% |\n",
    "Difference | Improvement | 2348 | 45.4% | 0.454"
   ]
  },
  {
   "cell_type": "code",
   "execution_count": 65,
   "metadata": {},
   "outputs": [
    {
     "name": "stdout",
     "output_type": "stream",
     "text": [
      "scatter from grand mean (H0):   5172\n"
     ]
    }
   ],
   "source": [
    "print(f\"scatter from grand mean (H0): {compute_rss(y, np.mean(y)):6.0f}\")"
   ]
  },
  {
   "cell_type": "code",
   "execution_count": 73,
   "metadata": {},
   "outputs": [
    {
     "name": "stdout",
     "output_type": "stream",
     "text": [
      "scatter from group means:   2824\n"
     ]
    }
   ],
   "source": [
    "beta_0_2 = results.params[0]\n",
    "beta_1_2 = results.params[1]\n",
    "\n",
    "X = data['X'].values\n",
    "y = data['y'].values\n",
    "\n",
    "rss_2 = compute_rss(estimate_y(X, beta_0_2, beta_1_2), y)\n",
    "print(f\"scatter from group means: {rss_2:6.0f}\")"
   ]
  },
  {
   "cell_type": "code",
   "execution_count": 77,
   "metadata": {},
   "outputs": [
    {
     "data": {
      "text/html": [
       "<div>\n",
       "<style scoped>\n",
       "    .dataframe tbody tr th:only-of-type {\n",
       "        vertical-align: middle;\n",
       "    }\n",
       "\n",
       "    .dataframe tbody tr th {\n",
       "        vertical-align: top;\n",
       "    }\n",
       "\n",
       "    .dataframe thead th {\n",
       "        text-align: right;\n",
       "    }\n",
       "</style>\n",
       "<table border=\"1\" class=\"dataframe\">\n",
       "  <thead>\n",
       "    <tr style=\"text-align: right;\">\n",
       "      <th></th>\n",
       "      <th>y</th>\n",
       "    </tr>\n",
       "    <tr>\n",
       "      <th>X</th>\n",
       "      <th></th>\n",
       "    </tr>\n",
       "  </thead>\n",
       "  <tbody>\n",
       "    <tr>\n",
       "      <th>0</th>\n",
       "      <td>30.166667</td>\n",
       "    </tr>\n",
       "    <tr>\n",
       "      <th>1</th>\n",
       "      <td>53.712500</td>\n",
       "    </tr>\n",
       "  </tbody>\n",
       "</table>\n",
       "</div>"
      ],
      "text/plain": [
       "           y\n",
       "X           \n",
       "0  30.166667\n",
       "1  53.712500"
      ]
     },
     "execution_count": 77,
     "metadata": {},
     "output_type": "execute_result"
    }
   ],
   "source": [
    "data.groupby('X').mean()"
   ]
  },
  {
   "cell_type": "code",
   "execution_count": 78,
   "metadata": {},
   "outputs": [],
   "source": [
    "data['dist_grand'] = data['y'] - data['y'].mean()"
   ]
  },
  {
   "cell_type": "code",
   "execution_count": 84,
   "metadata": {},
   "outputs": [],
   "source": [
    "data['dist_group'] = data.groupby('X')['y'].transform(lambda x: x - x.mean())"
   ]
  },
  {
   "cell_type": "code",
   "execution_count": 86,
   "metadata": {},
   "outputs": [
    {
     "data": {
      "text/html": [
       "<div>\n",
       "<style scoped>\n",
       "    .dataframe tbody tr th:only-of-type {\n",
       "        vertical-align: middle;\n",
       "    }\n",
       "\n",
       "    .dataframe tbody tr th {\n",
       "        vertical-align: top;\n",
       "    }\n",
       "\n",
       "    .dataframe thead th {\n",
       "        text-align: right;\n",
       "    }\n",
       "</style>\n",
       "<table border=\"1\" class=\"dataframe\">\n",
       "  <thead>\n",
       "    <tr style=\"text-align: right;\">\n",
       "      <th></th>\n",
       "      <th>X</th>\n",
       "      <th>y</th>\n",
       "      <th>dist_grand</th>\n",
       "      <th>dist_group</th>\n",
       "    </tr>\n",
       "  </thead>\n",
       "  <tbody>\n",
       "    <tr>\n",
       "      <th>0</th>\n",
       "      <td>0</td>\n",
       "      <td>20.8</td>\n",
       "      <td>-20.447059</td>\n",
       "      <td>-9.366667</td>\n",
       "    </tr>\n",
       "    <tr>\n",
       "      <th>1</th>\n",
       "      <td>0</td>\n",
       "      <td>2.8</td>\n",
       "      <td>-38.447059</td>\n",
       "      <td>-27.366667</td>\n",
       "    </tr>\n",
       "    <tr>\n",
       "      <th>2</th>\n",
       "      <td>0</td>\n",
       "      <td>50.0</td>\n",
       "      <td>8.752941</td>\n",
       "      <td>19.833333</td>\n",
       "    </tr>\n",
       "    <tr>\n",
       "      <th>3</th>\n",
       "      <td>0</td>\n",
       "      <td>33.3</td>\n",
       "      <td>-7.947059</td>\n",
       "      <td>3.133333</td>\n",
       "    </tr>\n",
       "    <tr>\n",
       "      <th>4</th>\n",
       "      <td>0</td>\n",
       "      <td>29.4</td>\n",
       "      <td>-11.847059</td>\n",
       "      <td>-0.766667</td>\n",
       "    </tr>\n",
       "  </tbody>\n",
       "</table>\n",
       "</div>"
      ],
      "text/plain": [
       "   X     y  dist_grand  dist_group\n",
       "0  0  20.8  -20.447059   -9.366667\n",
       "1  0   2.8  -38.447059  -27.366667\n",
       "2  0  50.0    8.752941   19.833333\n",
       "3  0  33.3   -7.947059    3.133333\n",
       "4  0  29.4  -11.847059   -0.766667"
      ]
     },
     "execution_count": 86,
     "metadata": {},
     "output_type": "execute_result"
    }
   ],
   "source": [
    "data.head()"
   ]
  },
  {
   "cell_type": "code",
   "execution_count": 181,
   "metadata": {},
   "outputs": [
    {
     "data": {
      "image/png": "[encoded data removed]",
      "text/plain": [
       "<Figure size 576x288 with 2 Axes>"
      ]
     },
     "metadata": {
      "needs_background": "light"
     },
     "output_type": "display_data"
    }
   ],
   "source": [
    "plt.figure(figsize=(8,4))\n",
    "plt.subplot(1,2,1)\n",
    "data['dist_group'].plot(marker='o', ms=10, linestyle='None')\n",
    "plt.xticks([])\n",
    "plt.ylim(-60, 40)\n",
    "plt.ylabel('Distance from mean')\n",
    "plt.title(\"Null\")\n",
    "plt.hlines(y=0, xmin=0, xmax=16, lw=3, colors='gray')\n",
    "\n",
    "plt.subplot(1,2,2)\n",
    "data['dist_grand'].plot(marker='+', ms=10, linestyle='None', c='r')\n",
    "plt.xticks([])\n",
    "plt.ylim(-60, 40)\n",
    "plt.ylabel('Distance from mean')\n",
    "plt.title(\"Alternative\")\n",
    "plt.hlines(y=0, xmin=0, xmax=16, lw=3, colors='gray')\n",
    "plt.tight_layout();"
   ]
  },
  {
   "cell_type": "code",
   "execution_count": 143,
   "metadata": {},
   "outputs": [
    {
     "data": {
      "text/plain": [
       "5172.222352941178"
      ]
     },
     "execution_count": 143,
     "metadata": {},
     "output_type": "execute_result"
    }
   ],
   "source": [
    "data['dist_grand'].apply(lambda x: x**2).sum() # sum of squares in H0"
   ]
  },
  {
   "cell_type": "code",
   "execution_count": 152,
   "metadata": {},
   "outputs": [
    {
     "data": {
      "text/plain": [
       "2824.14875"
      ]
     },
     "execution_count": 152,
     "metadata": {},
     "output_type": "execute_result"
    }
   ],
   "source": [
    "data.groupby('X')['dist_group'].transform(lambda x: x**2).sum()\n",
    "# sum of squares in the alternative hypothesis"
   ]
  },
  {
   "cell_type": "markdown",
   "metadata": {},
   "source": [
    "## P value"
   ]
  },
  {
   "cell_type": "markdown",
   "metadata": {},
   "source": [
    "The t test recast as a comparison of models:\n",
    "\n",
    "Source of variation | Hypothesis | Scatter from | Sum of squares | DF | MS | F ratio\n",
    "---|---|---|---|---|---|---\n",
    "Between groups | Difference | Improvement | 2348 | 1 | 2348.0 | 12.47\n",
    "Within groups | Alternative | Group mean | 2824 | 15 | 188.3 |\n",
    "Total | Null |Grand mean | 5172 | 16 | \\ |"
   ]
  },
  {
   "cell_type": "markdown",
   "metadata": {},
   "source": [
    "1. 'Total'shows the fit of the null hypothesis, 17 data points $-$ one parameter (grand mean) leaves $DF=16$.\n",
    "2. 'Within groups' shows the fit of the alternative model, two parameters are fitted (the mean of each group) leaving 15 df.\n",
    "3. 'Regression' shows the difference.\n",
    "\n",
    "Mean square (MS) also called *variances* is the RSS divided by DF"
   ]
  },
  {
   "cell_type": "code",
   "execution_count": 182,
   "metadata": {},
   "outputs": [
    {
     "name": "stdout",
     "output_type": "stream",
     "text": [
      "P values computed from the F ratio distribution: 0.0030\n"
     ]
    }
   ],
   "source": [
    "F = 2348/188.3\n",
    "dfn, dfd = 1, 15\n",
    "p_value= 1 - stats.f(dfn, dfd).cdf(F)\n",
    "print(f\"P values computed from the F ratio distribution: {p_value:5.4f}\")"
   ]
  },
  {
   "cell_type": "markdown",
   "metadata": {},
   "source": [
    "Viewed as linear regression, the slope is not zero. The goodness of fit of the two models is compared to see whether there is substantial evidence to reject the simpler (null hypothesis) model and accept the mode complicated alternative model."
   ]
  }
 ],
 "metadata": {
  "kernelspec": {
   "display_name": "Python 3",
   "language": "python",
   "name": "python3"
  },
  "language_info": {
   "codemirror_mode": {
    "name": "ipython",
    "version": 3
   },
   "file_extension": ".py",
   "mimetype": "text/x-python",
   "name": "python",
   "nbconvert_exporter": "python",
   "pygments_lexer": "ipython3",
   "version": "3.7.0"
  }
 },
 "nbformat": 4,
 "nbformat_minor": 2
}
