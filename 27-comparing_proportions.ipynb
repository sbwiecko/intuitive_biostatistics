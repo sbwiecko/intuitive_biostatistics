{
 "cells": [
  {
   "cell_type": "markdown",
   "metadata": {},
   "source": [
    "# Comparing proportions\n",
    "\n",
    "Let's prepare the data from thromboembolism study in a contingency table as follows:\n",
    "\n",
    "| treatment | recurrent | no recurrence | total |\n",
    "| --------- | --------- | ------------- | ----- |\n",
    "| placebo   |    73     |      756      |  829  |\n",
    "| Apixaban  |    14     |      826      |  840  |\n",
    "| total     |    87     |     1582      | 1669  |\n",
    "\n",
    "A contingency table displays the results of a study with a categorical outcome. Rows represent different treatments or exposures, columns represent different outcomes. Each value is an actual number of subjects."
   ]
  },
  {
   "cell_type": "code",
   "execution_count": 94,
   "metadata": {},
   "outputs": [],
   "source": [
    "import math\n",
    "\n",
    "import numpy as np\n",
    "import pandas as pd\n",
    "import matplotlib.pyplot as plt\n",
    "\n",
    "from scipy import stats"
   ]
  },
  {
   "cell_type": "code",
   "execution_count": 2,
   "metadata": {},
   "outputs": [],
   "source": [
    "table = np.array([[73, 756], [14, 826]]) # example data from page 264\n",
    "# contingency table (rows = alternative treatments, cols = alternative outcomes)"
   ]
  },
  {
   "cell_type": "code",
   "execution_count": 3,
   "metadata": {},
   "outputs": [
    {
     "data": {
      "text/plain": [
       "array([[ 73, 756],\n",
       "       [ 14, 826]])"
      ]
     },
     "execution_count": 3,
     "metadata": {},
     "output_type": "execute_result"
    }
   ],
   "source": [
    "table"
   ]
  },
  {
   "cell_type": "markdown",
   "metadata": {},
   "source": [
    "Form a Pandas dataframe, one could obtain a contingency table e.g.:\n",
    "```python\n",
    "table = pd.crosstab(\n",
    "\tdata['ed'].dropna()>2, # attention, np.nan > 2 gives False\n",
    "\tdata['dep.cons'],\n",
    "\tmargins=True) # margins are 'totals'\n",
    "```"
   ]
  },
  {
   "cell_type": "markdown",
   "metadata": {},
   "source": [
    "##  Fisher's test\n",
    "\n",
    "The goal of the analysis is to generalize about the general population of patients who have had a thromboembolism by computing CIs and a P value. The P value answers the question\n",
    ">if H0 were true, which is that the treatment **does not alter the risk** of recurrence, what is the chance that random sampling of subjects would result in incidence rates as different or more different from what we observe?\n",
    "\n",
    "Two statistical methods can be used to compute the P value. Most would agree that the best test to use if [_Fisher's exact test_](https://en.wikipedia.org/wiki/Fisher%27s_exact_test). With large sample sizes, Fisher's test is mathematically unwiedly, so a chi-square test is used instead. With large samples, the two compute nearly identical P values."
   ]
  },
  {
   "cell_type": "code",
   "execution_count": 4,
   "metadata": {},
   "outputs": [
    {
     "name": "stdout",
     "output_type": "stream",
     "text": [
      "Odds ratio\t 5.697089947089947\n",
      "P value\t\t 1.3340996598875717e-11\n"
     ]
    }
   ],
   "source": [
    "odds_ratio, p_value = stats.fisher_exact(table)\n",
    "\n",
    "print(\"Odds ratio\\t\", odds_ratio)\n",
    "print(\"P value\\t\\t\", p_value)"
   ]
  },
  {
   "cell_type": "markdown",
   "metadata": {},
   "source": [
    "### The attributable risk\n",
    "\n",
    "One way to summarize the results is to calculate the **difference between the two proportions** also called **attributabel risk**."
   ]
  },
  {
   "cell_type": "code",
   "execution_count": 5,
   "metadata": {},
   "outputs": [
    {
     "name": "stdout",
     "output_type": "stream",
     "text": [
      "attributable risk = 7.1%\n"
     ]
    }
   ],
   "source": [
    "attributable_risk = -np.diff(table[:,0]/(table[0].sum()))[0]\n",
    "print(f\"attributable risk = {100*attributable_risk:.1f}%\")"
   ]
  },
  {
   "cell_type": "markdown",
   "metadata": {},
   "source": [
    "### The population attributable risk\n",
    "\n",
    "While attributable risk helps us estimate the excess risk among the exposed that can be attributed to the risk factor, from a public health perspective it is often more useful to re-define the attributable risk in terms of the whole population, and thus to know the proportion of cases in the total population that can be attributed to the risk factor. For this calculation, we use the population attributable risk (PAR). Population attributable risk depends not only on the excess risk imposed by the exposure, but also on the share of the total population that is exposed:\n",
    "\n",
    "$$ \\mathrm{PAR} = p_0 - p_2 = (p_1 - p_2) \\frac{n_1}{N} $$\n",
    "\n",
    "with $p_0 = \\frac{a + c}{a + b + c + d}$, the proportion of all diseases out of total."
   ]
  },
  {
   "cell_type": "code",
   "execution_count": 6,
   "metadata": {},
   "outputs": [
    {
     "name": "stdout",
     "output_type": "stream",
     "text": [
      "population attributable risk = 3.5%\n"
     ]
    }
   ],
   "source": [
    "# in this study 'exposed' is the placebo group\n",
    "a, n1, c, n2 = 73, 829, 14, 840\n",
    "N = n1 + n2 # grand total\n",
    "p1 = a/n1\n",
    "p2 = c/n2\n",
    "\n",
    "print(f\"population attributable risk = {100*(p1-p2)*(n1/N):.1f}%\")"
   ]
  },
  {
   "cell_type": "markdown",
   "metadata": {},
   "source": [
    "### Number needed to treat\n",
    "\n",
    "This value, i.e. the reciprocal of the attributable risk, tells you how many patients would require treatment to reduce the expected nulber of case of a defined end point by one.\n",
    "Below, for every 14 patients who receive the treatment you'd expect to prevent a recurrent disease in one; the other 13 would receive no benefit from treatment."
   ]
  },
  {
   "cell_type": "code",
   "execution_count": 7,
   "metadata": {},
   "outputs": [
    {
     "name": "stdout",
     "output_type": "stream",
     "text": [
      "NTT = 14\n"
     ]
    }
   ],
   "source": [
    "print(f\"NTT = {1/attributable_risk:.0f}\")"
   ]
  },
  {
   "cell_type": "markdown",
   "metadata": {},
   "source": [
    "### Relative Risk\n",
    "\n",
    "The **Risk Ratio** or **Relative Risk** is 8.8/1.7 i.e. 5.2. Subjects treated with placebo were 5.2 times as likely as treated patients to have a recurrent disease.\n",
    "When we flip the ratio,  1.7/8.8 = 0.19, patients receiving the drug had 19% the risk of a recurrent disease than did patients receiving placebo. Beware which group is set as 'control' to interpret the RR. Here placebo is considered as 'risk' compared to the treatment with anticoagulant. When the relative risk associated with a factor is less than 1, then the factor is called a _protective factor_. Here the drug lowered the _absolute risk_ by 7.1% and reduced the _relative risk_ by 81%.\n",
    "\n",
    "$$\\mathrm{RR} = \\frac{a / n_1}{c / n_2} $$\n",
    "\n",
    "with\n",
    "\n",
    "| treatment   | disease | no disease | total |\n",
    "| ----------- | ------- | ---------- | ----- |\n",
    "| exposed     |    a    |      b     |   n1  |\n",
    "| not exposed |    c    |      d     |   n2  |\n",
    "| total       |   m1    |     m2     |   N   | \n",
    "\n",
    "\n",
    "Therefore, the Risk Ratio is the ratio of the probability to have disease ($a$) in the exposed group ($n_1$), $p_1 = a / n_1$ to the probability to have the disease ($c$) in the not exposed group ($n_2$), $p_2 = c / n_2$.\n",
    "\n",
    "To compute the RR we could also use $ \\log\\mathrm(RR) = \\log(p_1) -  \\log(p_2) $."
   ]
  },
  {
   "cell_type": "code",
   "execution_count": 8,
   "metadata": {},
   "outputs": [
    {
     "name": "stdout",
     "output_type": "stream",
     "text": [
      "Relative Risk = 5.283\n"
     ]
    }
   ],
   "source": [
    "rr = p1 / p2\n",
    "print(f\"Relative Risk = {rr:.3f}\")"
   ]
  },
  {
   "cell_type": "code",
   "execution_count": 9,
   "metadata": {},
   "outputs": [
    {
     "data": {
      "text/plain": [
       "5.28347406513872"
      ]
     },
     "execution_count": 9,
     "metadata": {},
     "output_type": "execute_result"
    }
   ],
   "source": [
    "np.exp(np.log(p1) - np.log(p2))"
   ]
  },
  {
   "cell_type": "markdown",
   "metadata": {},
   "source": [
    "### Odds Ratio\n",
    "\n",
    "The Risk Ratio (Relative Risk) is different from the Odds Ratio, from which is $\\text{odds} = \\frac{p}{1-p}$:\n",
    "\n",
    "$$\\mathrm{OR} = \\frac{a/b}{c/d} = \\frac{p_1 / (1 - p_1)}{p_2 / (1 - p_2)} $$\n",
    "\n",
    "We can also use $$ \\log\\mathrm(OR) = \\log(p_1) - \\log(1 - p_1) - \\log(p_2) + \\log(1 - p_2) $$"
   ]
  },
  {
   "cell_type": "code",
   "execution_count": 10,
   "metadata": {},
   "outputs": [
    {
     "name": "stdout",
     "output_type": "stream",
     "text": [
      "Odds ratio = 5.697\n"
     ]
    }
   ],
   "source": [
    "print(f\"Odds ratio = {(p1/(1-p1))/(p2/(1-p2)):.3f}\")"
   ]
  },
  {
   "cell_type": "code",
   "execution_count": 11,
   "metadata": {},
   "outputs": [
    {
     "data": {
      "text/plain": [
       "5.697089947089947"
      ]
     },
     "execution_count": 11,
     "metadata": {},
     "output_type": "execute_result"
    }
   ],
   "source": [
    "b, d = 756, 826\n",
    "(a/b)/(c/d)"
   ]
  },
  {
   "cell_type": "markdown",
   "metadata": {},
   "source": [
    "## Confidence intervals\n",
    "\n",
    "### 95% CI of the proportions\n",
    "\n",
    "Computing the CI using the modified Wald method by hand as follows:\n",
    "\n",
    "1. $p'=\\frac{s+2}{n+4}$ with $s$ the number of successes and $n$ the number of trials\n",
    "2. The margin of error is: $W=2\\sqrt{\\frac{p'(1-p')}{n+4}}$\n",
    "3. Finally, the 95% CI is from $(p'-W)$ to $(p'+W)$"
   ]
  },
  {
   "cell_type": "code",
   "execution_count": 12,
   "metadata": {},
   "outputs": [
    {
     "name": "stdout",
     "output_type": "stream",
     "text": [
      "The 95% CI for the 73/829 proprotion, i.e. 8.8%, is 7.0% to 11.0% acc. Wald method.\n"
     ]
    }
   ],
   "source": [
    "s,n = 73,829\n",
    "p = (s+2)/(n+4)\n",
    "W = 2 * (p * (1-p) / (n+4))**.5\n",
    "print(f\"The 95% CI for the {s}/{n} proprotion, i.e. {100*s/n:.1f}%, is {100*(p-W):.1f}% to {100*(p+W):.1f}% acc. Wald method.\")"
   ]
  },
  {
   "cell_type": "code",
   "execution_count": 13,
   "metadata": {},
   "outputs": [
    {
     "name": "stdout",
     "output_type": "stream",
     "text": [
      "The 95% CI for the 14/840 proprotion, i.e. 1.7%, is 1.0% to 2.8% acc. Wald method.\n"
     ]
    }
   ],
   "source": [
    "s,n = 14,840\n",
    "p = (s+2)/(n+4)\n",
    "W = 2 * (p * (1-p) / (n+4))**.5\n",
    "print(f\"The 95% CI for the {s}/{n} proprotion, i.e. {100*s/n:.1f}%, is {100*(p-W):.1f}% to {100*(p+W):.1f}% acc. Wald method.\")"
   ]
  },
  {
   "cell_type": "markdown",
   "metadata": {},
   "source": [
    "### 95% CI of the attributable risk\n",
    "\n",
    "With the attributable risk $ \\mathrm{AR} = p_1 - p_2$, the confidence interval is computing as follows:\n",
    "\n",
    "$$\\mathrm{CI} = \\mathrm{AR} \\pm z_{1 - \\alpha/2} \\times \\sqrt{p(1 - p)(1/n_1 + 1/n_2)} $$\n",
    "\n",
    "with $p = \\frac{m_1}{N}$ called the risk, which is the number of adverse outcomes divided by the total number of events, and $z_{1 - \\alpha/2}$ The z-value for standard normal distribution with left-tail probability."
   ]
  },
  {
   "cell_type": "code",
   "execution_count": 14,
   "metadata": {},
   "outputs": [
    {
     "name": "stdout",
     "output_type": "stream",
     "text": [
      "CI for the AR 0.07117 extends from 0.05006 to 0.09272\n",
      "The attributable risk percent = 81.07%\n"
     ]
    }
   ],
   "source": [
    "ar = p1 - p2\n",
    "m1 = a + c # total disease\n",
    "p = m1/N # risk\n",
    "\n",
    "conf=0.95\n",
    "z = stats.norm.ppf((1 + conf) /2)\n",
    "\n",
    "factor_ar = np.sqrt(p * (1 - p) * (1/n1 + 1/n2))\n",
    "\n",
    "print(f\"CI for the AR {attributable_risk:.5f} extends from {ar - z * factor_ar:.5f} to {ar + z * factor_ar:.5f}\")\n",
    "print(f\"The attributable risk percent = {100*(p1 - p2)/p1:.2f}%\")"
   ]
  },
  {
   "cell_type": "markdown",
   "metadata": {},
   "source": [
    "### CI of the NNT\n",
    "\n",
    "The CI of the NNT is obtained by taking the reciprocal of each end of the CI of the AR."
   ]
  },
  {
   "cell_type": "code",
   "execution_count": 15,
   "metadata": {},
   "outputs": [
    {
     "name": "stdout",
     "output_type": "stream",
     "text": [
      "CI for the NTT 14.1 extends from 10.79 to 19.98\n"
     ]
    }
   ],
   "source": [
    "print(f\"CI for the NTT {1/attributable_risk:.1f} extends from {1/(ar + z*factor_ar):.2f} to {1/(ar - z*factor_ar):.2f}\")"
   ]
  },
  {
   "cell_type": "markdown",
   "metadata": {},
   "source": [
    "### CI of the relative risk\n",
    "\n",
    "We use the following formula:\n",
    "\n",
    "$$ \\mathrm{CI} = \\mathrm{RR} \\pm z_{1 - \\alpha/2} \\times \\sqrt{1/a \\frac{b}{n_1} + 1/c \\frac{d}{n_2}} $$\n",
    "\n",
    "We can also use $$ \\log\\operatorname{Var}\\mathrm(RR) = \\frac{1 - p_1}{p_1} / n_1 + \\frac{1 - p_2}{p_2} / n_2 $$\n",
    "\n",
    "For tables with high number of events and 95% CI, $z_{1 - \\alpha/2} \\approx 1.96$"
   ]
  },
  {
   "cell_type": "code",
   "execution_count": 16,
   "metadata": {},
   "outputs": [
    {
     "name": "stdout",
     "output_type": "stream",
     "text": [
      "CI for the RR 5.283 extends from 3.007 to 9.284\n"
     ]
    }
   ],
   "source": [
    "factor_rr = np.sqrt((1/a * b/n1) + (1/c * d/n2))\n",
    "ci_rr = round(np.exp(np.log(rr) - z * factor_rr), 3), round(np.exp(np.log(rr) + z * factor_rr), 3)\n",
    "\n",
    "print(f\"CI for the RR {rr:.3f} extends from {ci_rr[0]:.3f} to {ci_rr[1]:.3f}\")"
   ]
  },
  {
   "cell_type": "markdown",
   "metadata": {},
   "source": [
    "### CI of the odds ratio\n",
    "\n",
    "To calculate the confidence interval, we use the log odds ratio, $\\log(\\mathrm{OR})$, and calculate its standard error:\n",
    "$$ \\mathrm{CI} = \\log(\\mathrm{OR}) \\pm z_{1 - \\alpha/2} \\times \\sqrt{1/a + 1/b + 1/c + 1/d} $$"
   ]
  },
  {
   "cell_type": "code",
   "execution_count": 17,
   "metadata": {},
   "outputs": [
    {
     "name": "stdout",
     "output_type": "stream",
     "text": [
      "CI for the OR 5.697 extends from 3.189 to 10.178\n"
     ]
    }
   ],
   "source": [
    "factor_or = (1/a + 1/b + 1/c + 1/d)**.5\n",
    "log_or = np.log(odds_ratio)\n",
    "ci_or = round(np.exp(log_or - z*factor_or), 3), round(np.exp(log_or + z*factor_or), 3)\n",
    "print(f\"CI for the OR {odds_ratio:.3f} extends from {ci_or[0]:.3f} to {ci_or[1]:.3f}\")"
   ]
  },
  {
   "cell_type": "markdown",
   "metadata": {},
   "source": [
    "### Some more toxicology data\n",
    "\n",
    "Data in toxicology studies are often counts of events. As such they can usually be entered into table form, e.g., tumors as events in two treatment groups. A well-known statistic for evaluating the hypothesis that the tumor rate in the treated group is equal to the tumor rate in the control groups, versus the alternative hypothesis that the tumor rate is higher in the treated group (a one-sided test statistic would be used), is the Fisher's exact test. It is used for the situation where the number of entries in the table is \"small\".  \n",
    "Fisher's exact test is not currently in statsmodels."
   ]
  },
  {
   "cell_type": "code",
   "execution_count": 85,
   "metadata": {},
   "outputs": [
    {
     "name": "stdout",
     "output_type": "stream",
     "text": [
      "Odds ratio\t\t 4.571428571428571\n",
      "P value (one-sided)\t 0.045823577644066686\n"
     ]
    }
   ],
   "source": [
    "table_tumors= pd.DataFrame(\n",
    "    data={\n",
    "        'treated': [8,42],\n",
    "        'control': [2,48]\n",
    "    },\n",
    "    index=['tumor', 'no tumor']\n",
    ")\n",
    "\n",
    "odds_ratio, p_value = stats.fisher_exact(table_tumors, alternative='greater')\n",
    "\n",
    "print(\"Odds ratio\\t\\t\", odds_ratio)\n",
    "print(\"P value (one-sided)\\t\", p_value)"
   ]
  },
  {
   "cell_type": "markdown",
   "metadata": {},
   "source": [
    "With a P value < 0.05, the correct conclusion would be that the treated group has a higher tumor rate."
   ]
  },
  {
   "cell_type": "markdown",
   "metadata": {},
   "source": [
    "## statsmodels Table2x2\n",
    "\n",
    "All the estimates and statistics, including the lower and upper confidence limits of the CIs, can be obtained using the statsmodels Table2x2 method.\n",
    "\n",
    "The p-value is based on a Wald-type z-test for the standard estimate of the log odds ratio. It uses the asymptotic approximation for the standard error. It is a large-sample test. Testing log odds = 0 is the same as testing for independence of rows/columns using the chi^2 test, difference of conditional proportions test, the likelihood rato test, or Fisher's exact test. These tests are all different in finite samples, but asymptotically equivalent."
   ]
  },
  {
   "cell_type": "code",
   "execution_count": 100,
   "metadata": {},
   "outputs": [
    {
     "name": "stdout",
     "output_type": "stream",
     "text": [
      "A 2x2 contingency table with counts:\n",
      "[[ 73. 756.]\n",
      " [ 14. 826.]]\n"
     ]
    }
   ],
   "source": [
    "import statsmodels.api as sm\n",
    "\n",
    "table = sm.stats.Table2x2(\n",
    "    [\n",
    "        [73, 756],\n",
    "        [14, 826]\n",
    "    ]\n",
    ")\n",
    "\n",
    "print(table)"
   ]
  },
  {
   "cell_type": "code",
   "execution_count": 19,
   "metadata": {},
   "outputs": [
    {
     "data": {
      "text/html": [
       "<table class=\"simpletable\">\n",
       "<tr>\n",
       "         <td></td>        <th>Estimate</th>  <th>SE</th>    <th>LCB</th>    <th>UCB</th>  <th>p-value</th>\n",
       "</tr>\n",
       "<tr>\n",
       "  <th>Odds ratio</th>        <td>5.697</td>      <td></td> <td>3.189</td> <td>10.178</td>   <td>0.000</td>\n",
       "</tr>\n",
       "<tr>\n",
       "  <th>Log odds ratio</th>    <td>1.740</td> <td>0.296</td> <td>1.160</td>  <td>2.320</td>   <td>0.000</td>\n",
       "</tr>\n",
       "<tr>\n",
       "  <th>Risk ratio</th>        <td>5.283</td>      <td></td> <td>3.007</td>  <td>9.284</td>   <td>0.000</td>\n",
       "</tr>\n",
       "<tr>\n",
       "  <th>Log risk ratio</th>    <td>1.665</td> <td>0.288</td> <td>1.101</td>  <td>2.228</td>   <td>0.000</td>\n",
       "</tr>\n",
       "</table>"
      ],
      "text/plain": [
       "<class 'statsmodels.iolib.table.SimpleTable'>"
      ]
     },
     "execution_count": 19,
     "metadata": {},
     "output_type": "execute_result"
    }
   ],
   "source": [
    "table.summary(method='normal')"
   ]
  },
  {
   "cell_type": "markdown",
   "metadata": {},
   "source": [
    "## Cochran-Armitage trend test\n",
    "\n",
    "This statistical test was developed to test an increasing trend, e.g., in tumor counts, with respect to increasing dose, in the case to toxicology DART studies: \n",
    "\n",
    "|                        | 0 dose (control) | 1 dose (low) | 2 doses (medium) | 3 doses (high) |\n",
    "|:---------------------- |:----------------:|:------------:|:----------------:|:--------------:|\n",
    "| animals with tumor     |          0       |       1      |         3        |        6       |\n",
    "| total animals examined |         50       |      50      |        50        |       50       |\n",
    "\n",
    "For example, using the previous count data, it appears clear that the proportion of tumors in each group is increasing with respect to increasing dose, with a [Cochran-Armitage][https://influentialpoints.com/Training/chi_square_test_for_trend.htm] statistic value of 2.9 and a 1-sided P value of 0.002, although currently, statsmodels doesn't give the same results as in R:\n",
    "\n",
    "```R\n",
    "library(DescTools)\n",
    "\n",
    "dose <- matrix(c(0,1,3,6,50,49,47,44), byrow=TRUE, nrow=2, dimnames=list(resp=c(1,0), dose=0:3))\n",
    "\n",
    "Desc(dose)\n",
    "\n",
    "# Summary:\n",
    "# n: 200, rows: 2, columns: 4\n",
    "\n",
    "# Pearson's Chi-squared test:\n",
    "#   X-squared = 8.8421, df = 3, p-value = 0.03147\n",
    "# Log likelihood ratio (G-test) test of independence:\n",
    "#   G = 10.213, X-squared df = 3, p-value = 0.01684\n",
    "# Mantel-Haenszel Chi-squared:\n",
    "#   X-squared = 8.3789, df = 1, p-value = 0.003796\n",
    "\n",
    "# Warning message:\n",
    "#   Exp. counts < 5: Chi-squared approx. may be incorrect!!\n",
    "\n",
    "\n",
    "# Contingency Coeff.     0.206\n",
    "# Cramer's V             0.210\n",
    "# Kendall Tau-b          -0.187\n",
    "\n",
    "\n",
    "#        dose       0      1      2      3    Sum\n",
    "# resp\n",
    "\n",
    "# 1      freq       0      1      3      6     10\n",
    "#        perc    0.0%   0.5%   1.5%   3.0%   5.0%\n",
    "#        p.row   0.0%  10.0%  30.0%  60.0%      .\n",
    "#        p.col   0.0%   2.0%   6.0%  12.0%      .\n",
    "\n",
    "# 0      freq      50     49     47     44    190\n",
    "#        perc   25.0%  24.5%  23.5%  22.0%  95.0%\n",
    "#        p.row  26.3%  25.8%  24.7%  23.2%      .\n",
    "#        p.col 100.0%  98.0%  94.0%  88.0%      .\n",
    "\n",
    "# Sum    freq      50     50     50     50    200\n",
    "#        perc   25.0%  25.0%  25.0%  25.0% 100.0%\n",
    "#        p.row      .      .      .      .      .\n",
    "#        p.col      .      .      .      .      .\n",
    "\n",
    "CochranArmitageTest(dose)\n",
    "#         Cochran-Armitage test for trend\n",
    "# data:  dose\n",
    "# Z = 2.9019, dim = 4, p-value = 0.003709\n",
    "# alternative hypothesis: two.sided\n",
    "\n",
    "CochranArmitageTest(dose, alternative=\"one.sided\")\n",
    "#         Cochran-Armitage test for trend\n",
    "# data:  dose\n",
    "# Z = 2.9019, dim = 4, p-value = 0.001855\n",
    "# alternative hypothesis: one.sided\n",
    "```"
   ]
  },
  {
   "cell_type": "code",
   "execution_count": 93,
   "metadata": {},
   "outputs": [
    {
     "name": "stdout",
     "output_type": "stream",
     "text": [
      "    0   1   2   3\n",
      "1   0   1   3   6\n",
      "0  50  49  47  44\n",
      "null_mean   15.71072319201995\n",
      "null_sd     3.5390390971784127\n",
      "pvalue      0.008669937476153359\n",
      "statistic   25.0\n",
      "zscore      2.624801973899118\n"
     ]
    }
   ],
   "source": [
    "table_tumors = pd.DataFrame(\n",
    "    data = {\n",
    "        0: [0,50],\n",
    "        1: [1,49],\n",
    "        2: [3,47],\n",
    "        3: [6,44]\n",
    "    },\n",
    "    index = [1,0],\n",
    ")\n",
    "\n",
    "stat_table = sm.stats.Table(table_tumors)\n",
    "\n",
    "print(stat_table.table_orig)\n",
    "print(stat_table.test_ordinal_association(\n",
    "    row_scores=np.array([1,0]),\n",
    "    col_scores=np.array([0,1,2,3]),\n",
    "))"
   ]
  },
  {
   "cell_type": "markdown",
   "metadata": {},
   "source": [
    "## Chi²\n",
    "\n",
    "### Comparing observed and expected proportions\n",
    "\n",
    "We take the example of the Mendel's peas experiment:\n",
    "\n",
    "| phenotype       | observed number | expected prop | expected number |\n",
    "|:--------------- |:---------------:|:-------------:|:---------------:|\n",
    "| round,   yellow |       315       |      9/16     |      312.75     |\n",
    "| round,   green  |       108       |      3/16     |      104.25     |\n",
    "| angular, yellow |       101       |      3/16     |      104.25     |\n",
    "| angular, green  |        32       |      1/16     |       34.75     |\n",
    "| TOTAL           |       556       |     16/16     |      556.00     |\n",
    "\n",
    "Is the discrepancy between the observed and expected distributions greater that we would expect to see by chance?\n",
    "\n",
    "To quantify the discrepancy between the observed and expected distributions, the chi-square test does the following for each category:\n",
    "\n",
    "$$\\chi^2 = \\sum \\frac{(\\text{observed} - \\text{expected})^2}{\\text{expected}} $$\n",
    "\n",
    "The P value answers the question\n",
    ">if the theory that generated the expected distribution is correct, what is the chance that random sampling would lead to a **deviation from expected as large or larger as that observed** in this experiment?"
   ]
  },
  {
   "cell_type": "code",
   "execution_count": 53,
   "metadata": {},
   "outputs": [
    {
     "data": {
      "text/plain": [
       "Power_divergenceResult(statistic=0.4700239808153477, pvalue=0.925425895103616)"
      ]
     },
     "execution_count": 53,
     "metadata": {},
     "output_type": "execute_result"
    }
   ],
   "source": [
    "stats.chisquare(f_obs=[315, 108, 101, 32], f_exp=[312.75, 104.25, 104.25, 34.75])"
   ]
  },
  {
   "cell_type": "markdown",
   "metadata": {},
   "source": [
    "With such a large P value, the deviation from the theory are small and consistent with random variation. The number of degrees of freedom equals the number of categories minus one. This test is based on some approximations.\n",
    "\n",
    "When there are only two categories, the _binomial test_ computes the exact P values without any approximation or worry about the sample size."
   ]
  },
  {
   "cell_type": "code",
   "execution_count": 54,
   "metadata": {},
   "outputs": [
    {
     "name": "stdout",
     "output_type": "stream",
     "text": [
      "chisq = 43.04, pvalue = 0.000\n"
     ]
    }
   ],
   "source": [
    "from statsmodels.stats.proportion import proportions_chisquare\n",
    "\n",
    "count = np.array([73, 14])\n",
    "nobs  = np.array([829, 840])\n",
    "\n",
    "# note that in this case (a two sample case with two sided\n",
    "# alternative), the test produces the same value as porportions_ztest\n",
    "# since the chi-square distribution is the square of a normal distribution\n",
    "\n",
    "chisq, pvalue, table = proportions_chisquare(count, nobs)\n",
    "print(f\"chisq = {chisq:.2f}, pvalue = {pvalue:.3f}\")"
   ]
  },
  {
   "cell_type": "markdown",
   "metadata": {},
   "source": [
    "The $\\chi^2$ statistic has an expected distribution that can be used to determine the p-value associated with this statistic. As with the $t$-distribution, the $\\chi^2$-distribution depends on the degrees of freedom. This is calculated by subtracting one from the number of rows and from the number of columns in the contingency table and multiplying them together. In the case below we have 2 rows and 2 columns, which calculates to 1 degrees of freedom. Armed with our $\\chi^2$ statistic and our degrees of freedom, we can now calculate the p-value for the hypothesis test."
   ]
  },
  {
   "cell_type": "code",
   "execution_count": 74,
   "metadata": {},
   "outputs": [
    {
     "name": "stdout",
     "output_type": "stream",
     "text": [
      "chi² = 43.038\n",
      "P value = 0.00000\n",
      "with 1 degrees of freedom\n"
     ]
    }
   ],
   "source": [
    "# with low P value we can reject H0 that data follow/are consistent with the theoritical distribution\n",
    "chi2, p, dof, expected = stats.chi2_contingency(\n",
    "    [[73, 829-73], [14, 840-14]],\n",
    "    lambda_='pearson',       # default stat\n",
    "    correction=False,        # scipy uses continuity correction by default, statsmodels does not\n",
    ")\n",
    "print(f\"chi² = {chi2:.3f}\")\n",
    "print(f\"P value = {p:.5f}\")\n",
    "print(f\"with {dof} degrees of freedom\")"
   ]
  },
  {
   "cell_type": "code",
   "execution_count": 56,
   "metadata": {},
   "outputs": [
    {
     "data": {
      "text/plain": [
       "array([[ 43.21330138, 785.78669862],\n",
       "       [ 43.78669862, 796.21330138]])"
      ]
     },
     "execution_count": 56,
     "metadata": {},
     "output_type": "execute_result"
    }
   ],
   "source": [
    "expected"
   ]
  },
  {
   "cell_type": "markdown",
   "metadata": {},
   "source": [
    "The observed values must be an integer, but the expected value, averaged over many experiments, can be a fraction. $\\chi^2$ is the statistic returned by the test."
   ]
  },
  {
   "cell_type": "markdown",
   "metadata": {},
   "source": [
    "### Calculations from a true dataframe"
   ]
  },
  {
   "cell_type": "code",
   "execution_count": 57,
   "metadata": {},
   "outputs": [
    {
     "data": {
      "text/html": [
       "<div>\n",
       "<style scoped>\n",
       "    .dataframe tbody tr th:only-of-type {\n",
       "        vertical-align: middle;\n",
       "    }\n",
       "\n",
       "    .dataframe tbody tr th {\n",
       "        vertical-align: top;\n",
       "    }\n",
       "\n",
       "    .dataframe thead th {\n",
       "        text-align: right;\n",
       "    }\n",
       "</style>\n",
       "<table border=\"1\" class=\"dataframe\">\n",
       "  <thead>\n",
       "    <tr style=\"text-align: right;\">\n",
       "      <th></th>\n",
       "      <th>n_donations</th>\n",
       "      <th>total_donations</th>\n",
       "      <th>time_donating</th>\n",
       "      <th>recent_donation</th>\n",
       "      <th>last_donation</th>\n",
       "      <th>gender</th>\n",
       "      <th>reside</th>\n",
       "      <th>age</th>\n",
       "    </tr>\n",
       "  </thead>\n",
       "  <tbody>\n",
       "    <tr>\n",
       "      <th>0</th>\n",
       "      <td>2</td>\n",
       "      <td>310</td>\n",
       "      <td>27</td>\n",
       "      <td>0</td>\n",
       "      <td>4</td>\n",
       "      <td>M</td>\n",
       "      <td>Urban Domestic</td>\n",
       "      <td>29</td>\n",
       "    </tr>\n",
       "    <tr>\n",
       "      <th>1</th>\n",
       "      <td>3</td>\n",
       "      <td>1200</td>\n",
       "      <td>22</td>\n",
       "      <td>0</td>\n",
       "      <td>6</td>\n",
       "      <td>M</td>\n",
       "      <td>Rural Domestic</td>\n",
       "      <td>41</td>\n",
       "    </tr>\n",
       "    <tr>\n",
       "      <th>2</th>\n",
       "      <td>3</td>\n",
       "      <td>1200</td>\n",
       "      <td>37</td>\n",
       "      <td>1</td>\n",
       "      <td>11</td>\n",
       "      <td>M</td>\n",
       "      <td>Urban Domestic</td>\n",
       "      <td>77</td>\n",
       "    </tr>\n",
       "    <tr>\n",
       "      <th>3</th>\n",
       "      <td>2</td>\n",
       "      <td>760</td>\n",
       "      <td>19</td>\n",
       "      <td>1</td>\n",
       "      <td>1</td>\n",
       "      <td>F</td>\n",
       "      <td>Overseas</td>\n",
       "      <td>66</td>\n",
       "    </tr>\n",
       "    <tr>\n",
       "      <th>4</th>\n",
       "      <td>6</td>\n",
       "      <td>2540</td>\n",
       "      <td>37</td>\n",
       "      <td>0</td>\n",
       "      <td>11</td>\n",
       "      <td>M</td>\n",
       "      <td>Urban Domestic</td>\n",
       "      <td>26</td>\n",
       "    </tr>\n",
       "  </tbody>\n",
       "</table>\n",
       "</div>"
      ],
      "text/plain": [
       "   n_donations  total_donations  time_donating  recent_donation  \\\n",
       "0            2              310             27                0   \n",
       "1            3             1200             22                0   \n",
       "2            3             1200             37                1   \n",
       "3            2              760             19                1   \n",
       "4            6             2540             37                0   \n",
       "\n",
       "   last_donation gender          reside  age  \n",
       "0              4      M  Urban Domestic   29  \n",
       "1              6      M  Rural Domestic   41  \n",
       "2             11      M  Urban Domestic   77  \n",
       "3              1      F        Overseas   66  \n",
       "4             11      M  Urban Domestic   26  "
      ]
     },
     "execution_count": 57,
     "metadata": {},
     "output_type": "execute_result"
    }
   ],
   "source": [
    "# let's get another toy dataset\n",
    "import peopleanalyticsdata as pad\n",
    "\n",
    "# pad.list_sets() # to get the list of the datasets included\n",
    "\n",
    "df = pad.charity_donation()\n",
    "# http://peopleanalytics-regression-book.org/data/charity_donation.csv\n",
    "\n",
    "df.head()"
   ]
  },
  {
   "cell_type": "markdown",
   "metadata": {},
   "source": [
    "By using an appropriate hypothesis test, determine if there is a difference in whether or not a recent donation was made according to where people reside."
   ]
  },
  {
   "cell_type": "code",
   "execution_count": 58,
   "metadata": {},
   "outputs": [
    {
     "data": {
      "text/html": [
       "<div>\n",
       "<style scoped>\n",
       "    .dataframe tbody tr th:only-of-type {\n",
       "        vertical-align: middle;\n",
       "    }\n",
       "\n",
       "    .dataframe tbody tr th {\n",
       "        vertical-align: top;\n",
       "    }\n",
       "\n",
       "    .dataframe thead th {\n",
       "        text-align: right;\n",
       "    }\n",
       "</style>\n",
       "<table border=\"1\" class=\"dataframe\">\n",
       "  <thead>\n",
       "    <tr style=\"text-align: right;\">\n",
       "      <th>recent_donation</th>\n",
       "      <th>0</th>\n",
       "      <th>1</th>\n",
       "    </tr>\n",
       "    <tr>\n",
       "      <th>reside</th>\n",
       "      <th></th>\n",
       "      <th></th>\n",
       "    </tr>\n",
       "  </thead>\n",
       "  <tbody>\n",
       "    <tr>\n",
       "      <th>Overseas</th>\n",
       "      <td>101</td>\n",
       "      <td>14</td>\n",
       "    </tr>\n",
       "    <tr>\n",
       "      <th>Rural Domestic</th>\n",
       "      <td>88</td>\n",
       "      <td>45</td>\n",
       "    </tr>\n",
       "    <tr>\n",
       "      <th>Urban Domestic</th>\n",
       "      <td>82</td>\n",
       "      <td>24</td>\n",
       "    </tr>\n",
       "  </tbody>\n",
       "</table>\n",
       "</div>"
      ],
      "text/plain": [
       "recent_donation    0   1\n",
       "reside                  \n",
       "Overseas         101  14\n",
       "Rural Domestic    88  45\n",
       "Urban Domestic    82  24"
      ]
     },
     "execution_count": 58,
     "metadata": {},
     "output_type": "execute_result"
    }
   ],
   "source": [
    "table = pd.crosstab(\n",
    "    df['reside'],\n",
    "    df['recent_donation'],\n",
    ")\n",
    "\n",
    "table"
   ]
  },
  {
   "cell_type": "code",
   "execution_count": 59,
   "metadata": {},
   "outputs": [
    {
     "data": {
      "text/plain": [
       "Rural Domestic    133\n",
       "Overseas          115\n",
       "Urban Domestic    106\n",
       "Name: reside, dtype: int64"
      ]
     },
     "execution_count": 59,
     "metadata": {},
     "output_type": "execute_result"
    }
   ],
   "source": [
    "# there are more than 3 categories, so we go for chi²\n",
    "df['reside'].value_counts()\n",
    "\n",
    "# If `reside` is not a good predictor for `recent_donation`, we should expect the same ratios accross the target classes."
   ]
  },
  {
   "cell_type": "code",
   "execution_count": 86,
   "metadata": {},
   "outputs": [
    {
     "name": "stdout",
     "output_type": "stream",
     "text": [
      "recent_donation           0          1\n",
      "reside                                \n",
      "Overseas          88.036723  26.963277\n",
      "Rural Domestic   101.816384  31.183616\n",
      "Urban Domestic    81.146893  24.853107\n"
     ]
    }
   ],
   "source": [
    "import pingouin as pg\n",
    "\n",
    "expected, observed, statistics = pg.chi2_independence(\n",
    "    x='reside',\n",
    "    y='recent_donation',\n",
    "    data=df\n",
    ")\n",
    "\n",
    "print(expected)"
   ]
  },
  {
   "cell_type": "code",
   "execution_count": 61,
   "metadata": {},
   "outputs": [
    {
     "name": "stdout",
     "output_type": "stream",
     "text": [
      "test                  lambda    chi2    dof    pval    cramer    power\n",
      "------------------  --------  ------  -----  ------  --------  -------\n",
      "pearson                1.000  16.176  2.000   0.000     0.214    0.959\n",
      "cressie-read           0.667  16.314  2.000   0.000     0.215    0.960\n",
      "log-likelihood         0.000  16.777  2.000   0.000     0.218    0.965\n",
      "freeman-tukey         -0.500  17.307  2.000   0.000     0.221    0.969\n",
      "mod-log-likelihood    -1.000  18.019  2.000   0.000     0.226    0.975\n",
      "neyman                -2.000  20.118  2.000   0.000     0.238    0.986\n",
      "\n"
     ]
    }
   ],
   "source": [
    "pg.print_table(statistics)"
   ]
  },
  {
   "cell_type": "markdown",
   "metadata": {},
   "source": [
    "Very low p-values indeed, the deviation from the null hypothesis is high and inconsistent with random variation. The site of residence qualifies as a good predictor for the people who made a recent donation."
   ]
  },
  {
   "cell_type": "markdown",
   "metadata": {},
   "source": [
    "### DART example\n",
    "\n",
    "In the following example, the expected value at position (1,1) equals $E_{1,1} = (70 \\times 50) / 140 = 25$."
   ]
  },
  {
   "cell_type": "code",
   "execution_count": 108,
   "metadata": {},
   "outputs": [
    {
     "data": {
      "image/png": "[encoded data removed]",
      "text/plain": [
       "<Figure size 200x200 with 3 Axes>"
      ]
     },
     "metadata": {},
     "output_type": "display_data"
    }
   ],
   "source": [
    "from statsmodels.graphics.mosaicplot import mosaic\n",
    "\n",
    "data_dart = np.array(\n",
    "    [\n",
    "        [30,20],\n",
    "        [40,50]\n",
    "    ]\n",
    ")\n",
    "fig, ax = plt.subplots(figsize=(2,2))\n",
    "mosaic(data_dart, title=r'$\\chi^2$ example', statistic=True, ax=ax);"
   ]
  },
  {
   "cell_type": "code",
   "execution_count": 115,
   "metadata": {},
   "outputs": [
    {
     "name": "stdout",
     "output_type": "stream",
     "text": [
      "[[25. 25.]\n",
      " [45. 45.]]\n"
     ]
    }
   ],
   "source": [
    "# expected values\n",
    "print(sm.stats.Table(data_dart).fittedvalues)"
   ]
  },
  {
   "cell_type": "code",
   "execution_count": 113,
   "metadata": {},
   "outputs": [
    {
     "name": "stdout",
     "output_type": "stream",
     "text": [
      "df          1\n",
      "pvalue      0.07775989643932946\n",
      "statistic   3.1111111111111107\n"
     ]
    }
   ],
   "source": [
    "print(sm.stats.Table(data_dart).test_nominal_association())"
   ]
  },
  {
   "cell_type": "markdown",
   "metadata": {},
   "source": [
    "Independence is the property that the row and column factors occur independently. Association is the lack of independence.  \n",
    "If the rows and columns of a table are unordered (i.e. are nominal factors), then the most common approach for formally assessing independence is using Pearson's $\\chi^2$ statistic.  \n",
    "The P value is above the traditional threshold of 0.05 so that, the conclusion is that a difference is not detected between the rates in the treated group as compared to the control."
   ]
  },
  {
   "cell_type": "markdown",
   "metadata": {},
   "source": [
    "#### Using scipy.stats"
   ]
  },
  {
   "cell_type": "code",
   "execution_count": 62,
   "metadata": {},
   "outputs": [
    {
     "name": "stdout",
     "output_type": "stream",
     "text": [
      "chi² = 16.176\n",
      "P value = 0.00031\n",
      "with 2 degrees of freedom\n",
      "expected counts are:\n",
      "[[ 88.03672316  26.96327684]\n",
      " [101.81638418  31.18361582]\n",
      " [ 81.14689266  24.85310734]]\n"
     ]
    }
   ],
   "source": [
    "from scipy.stats import chi2_contingency\n",
    "chi2, p, dof, expected = chi2_contingency(table)\n",
    "\n",
    "print(f\"chi² = {chi2:.3f}\")\n",
    "print(f\"P value = {p:.5f}\")\n",
    "print(f\"with {dof} degrees of freedom\")\n",
    "\n",
    "print(\"expected counts are:\")\n",
    "print(expected)"
   ]
  },
  {
   "cell_type": "markdown",
   "metadata": {},
   "source": [
    "## Case-control studies\n",
    "\n",
    "Two groups of subjects:\n",
    "- incident **cases**, with a **disease** or condition\n",
    "- **controls**, selected from the same population that produced the cases\n",
    "\n",
    "For example we can ask whether people with cholera are less likely to have been vaccinated than those who have not gotten cholera. We set the column totals by choosing how many cases and controls top study, and then determined whether each person had been previously vaccinated.\n",
    "\n",
    "| vaccine | cases | controls |\n",
    "| ------- |:-----:|:--------:|\n",
    "| yes     |  10   |    94    |\n",
    "| no      |  33   |    78    |\n",
    "| total   |  43   |   172    |\n",
    "\n",
    "Computing risks and the relative risk directly from a case-control study is invalid because it depends on the total number of controls.\n",
    "\n",
    "Results from a case-control study are summarized as an **odds ratio** which compares the **odds of exposure** (vaccination) in cases and controls. _The odds ratio equals the odds of the cases having been exposed to the possible risk factor, divided by the odds of the controls having been exposed_. Below the odds ratio of 0.25 quantifies the reduced odds of cholera among those who are vaccinated. We can conclude that a vaccinated person has 25% the chance of an unvaccinated person getting disease, or the vaccine is 75% effective in preventing disease.\n",
    "\n",
    "The Odds Ratio from a case-control study is almost always a good estimate of the Relative Risk. The Odds Ratio can be only interpret as Relative Risks when the **disease is rare**. But in fact OR can be interpreted as RR in most but not all case-control studies even those of common diseases."
   ]
  },
  {
   "cell_type": "code",
   "execution_count": 30,
   "metadata": {},
   "outputs": [
    {
     "name": "stdout",
     "output_type": "stream",
     "text": [
      "Odds ratio = 0.251\n"
     ]
    }
   ],
   "source": [
    "print(f\"Odds ratio = {(10/33)/(94/78):.3f}\")"
   ]
  },
  {
   "cell_type": "code",
   "execution_count": 31,
   "metadata": {},
   "outputs": [
    {
     "data": {
      "text/html": [
       "<table class=\"simpletable\">\n",
       "<tr>\n",
       "         <td></td>        <th>Estimate</th>  <th>SE</th>     <th>LCB</th>    <th>UCB</th>  <th>p-value</th>\n",
       "</tr>\n",
       "<tr>\n",
       "  <th>Odds ratio</th>        <td>0.251</td>      <td></td>  <td>0.117</td>  <td>0.542</td>   <td>0.000</td>\n",
       "</tr>\n",
       "<tr>\n",
       "  <th>Log odds ratio</th>   <td>-1.381</td> <td>0.392</td> <td>-2.149</td> <td>-0.612</td>   <td>0.000</td>\n",
       "</tr>\n",
       "<tr>\n",
       "  <th>Risk ratio</th>        <td>0.323</td>      <td></td>  <td>0.168</td>  <td>0.623</td>   <td>0.001</td>\n",
       "</tr>\n",
       "<tr>\n",
       "  <th>Log risk ratio</th>   <td>-1.129</td> <td>0.334</td> <td>-1.784</td> <td>-0.474</td>   <td>0.001</td>\n",
       "</tr>\n",
       "</table>"
      ],
      "text/plain": [
       "<class 'statsmodels.iolib.table.SimpleTable'>"
      ]
     },
     "execution_count": 31,
     "metadata": {},
     "output_type": "execute_result"
    }
   ],
   "source": [
    "sm.stats.Table2x2(\n",
    "    [\n",
    "        [10, 94],\n",
    "        [33, 78]\n",
    "    ]\n",
    ").summary(method='normal')"
   ]
  }
 ],
 "metadata": {
  "kernelspec": {
   "display_name": "Python 3.10.7 64-bit",
   "language": "python",
   "name": "python3"
  },
  "language_info": {
   "codemirror_mode": {
    "name": "ipython",
    "version": 3
   },
   "file_extension": ".py",
   "mimetype": "text/x-python",
   "name": "python",
   "nbconvert_exporter": "python",
   "pygments_lexer": "ipython3",
   "version": "3.10.7"
  },
  "vscode": {
   "interpreter": {
    "hash": "48fad77966b7472878a315f3b299a8a5fde8f3976a84f77b0641baae73a364c0"
   }
  }
 },
 "nbformat": 4,
 "nbformat_minor": 2
}
