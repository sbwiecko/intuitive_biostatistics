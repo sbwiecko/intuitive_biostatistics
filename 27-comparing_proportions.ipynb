{
 "cells": [
  {
   "cell_type": "markdown",
   "source": [
    "# Comparing proportions\n",
    "\n",
    "Let's prepare the data from thromboembolism study in a contingency table as follows:\n",
    "\n",
    "| treatment | recurrent | no recurrence | total |\n",
    "| --------- | --------- | ------------- | ----- |\n",
    "| placebo   |    73     |      756      |  829  |\n",
    "| Apixaban  |    14     |      826      |  840  |\n",
    "| total     |    87     |     1582      | 1669  |\n",
    "\n",
    "A contingency table displays the results of a study with a categorical outcome. Rows represent different treatments or exposures, columns represent different outcomes. Each value is an actual number of subjects."
   ],
   "metadata": {}
  },
  {
   "cell_type": "code",
   "execution_count": 46,
   "source": [
    "import math\r\n",
    "import numpy as np\r\n",
    "import pandas as pd\r\n",
    "from scipy import stats"
   ],
   "outputs": [],
   "metadata": {}
  },
  {
   "cell_type": "code",
   "execution_count": 47,
   "source": [
    "table = np.array([[73, 756], [14, 826]]) # example data from page 264\r\n",
    "# contingency table (rows = alternative treatments, cols = alternative outcomes)"
   ],
   "outputs": [],
   "metadata": {}
  },
  {
   "cell_type": "code",
   "execution_count": 48,
   "source": [
    "table"
   ],
   "outputs": [
    {
     "output_type": "execute_result",
     "data": {
      "text/plain": [
       "array([[ 73, 756],\n",
       "       [ 14, 826]])"
      ]
     },
     "metadata": {},
     "execution_count": 48
    }
   ],
   "metadata": {}
  },
  {
   "cell_type": "markdown",
   "source": [
    "Form a Pandas dataframe, one could obtain a contingency table e.g.:\n",
    "```python\n",
    "table = pd.crosstab(\n",
    "\tdata['ed'].dropna()>2, # attention, np.nan > 2 gives False\n",
    "\tdata['dep.cons'],\n",
    "\tmargins=True) # margins are 'totals'\n",
    "```"
   ],
   "metadata": {}
  },
  {
   "cell_type": "markdown",
   "source": [
    "##  Fisher's test\n",
    "\n",
    "The goal of the analysis is to generalize about the general population of patients who have had a thromboembolism by computing CIs and a P value. The P value answers the question\n",
    ">if H0 were true, which is that the treatment **does not alter the risk** of recurrence, what is the chance that random sampling of subjects would result in incidence rates as different or more different from what we observe?\n",
    "\n",
    "Use chi-square for large sample sizes or more than 2 outcomes."
   ],
   "metadata": {}
  },
  {
   "cell_type": "code",
   "execution_count": 49,
   "source": [
    "odds_ratio, p_value = stats.fisher_exact(table)\r\n",
    "\r\n",
    "print(\"Odds ratio\\t\", odds_ratio)\r\n",
    "print(\"P value\\t\\t\", p_value)"
   ],
   "outputs": [
    {
     "output_type": "stream",
     "name": "stdout",
     "text": [
      "Odds ratio\t 5.697089947089947\n",
      "P value\t\t 1.3340996598862038e-11\n"
     ]
    }
   ],
   "metadata": {}
  },
  {
   "cell_type": "markdown",
   "source": [
    "### The attributable risk\n",
    "\n",
    "One way to summarize the results is to calculate the **difference between the two proportions** also called **attributabel risk**."
   ],
   "metadata": {}
  },
  {
   "cell_type": "code",
   "execution_count": 50,
   "source": [
    "attributable_risk = -np.diff(table[:,0]/(table[0].sum()))[0]\r\n",
    "print(f\"attributable risk = {100*attributable_risk:.1f}%\")"
   ],
   "outputs": [
    {
     "output_type": "stream",
     "name": "stdout",
     "text": [
      "attributable risk = 7.1%\n"
     ]
    }
   ],
   "metadata": {}
  },
  {
   "cell_type": "markdown",
   "source": [
    "### Number needed to treat\n",
    "\n",
    "This value, i.e. the reciprocal of the attributable risk, tells you how many patients would require treatment to reduce the expected nulber of case of a defined end point by one.\n",
    "Below, for every 14 patients who receive the treatment you'd expect to prevent a recurrent disease in one; the other 13 would receive no benefit from treatment."
   ],
   "metadata": {}
  },
  {
   "cell_type": "code",
   "execution_count": 51,
   "source": [
    "print(f\"NTT = {1/attributable_risk:.0f}\")"
   ],
   "outputs": [
    {
     "output_type": "stream",
     "name": "stdout",
     "text": [
      "NTT = 14\n"
     ]
    }
   ],
   "metadata": {}
  },
  {
   "cell_type": "markdown",
   "source": [
    "### Relative Risk\r\n",
    "\r\n",
    "The **Risk Ratio** or **Relative Risk** is 8.8/1.7 i.e. 5.2. Subjects treated with placebo were 5.2 times as likely as treated patients to have a recurrent disease.\r\n",
    "When we flip the ratio,  1.7/8.8 = 0.19, patients receiving the drug had 19% the risk of a recurrent disease than did patients receiving placebo. Beware which group is set as 'control' to interpret the RR. Here placebo is considered as 'risk' compared to the treatment with anticoagulant. When the relative risk associated with a factor is less than 1, then the factor is called a _protective factor_. Here the drug lowered the _absolute risk_ by 7.1% and reduced the _relative risk_ by 81%.\r\n",
    "\r\n",
    "$$\\mathrm{RR} = \\frac{a / n_1}{c / n_2} $$\r\n",
    "\r\n",
    "with\r\n",
    "\r\n",
    "| treatment   | disease | no disease | total |\r\n",
    "| ----------- | ------- | ---------- | ----- |\r\n",
    "| exposed     |    a    |      b     |   n1  |\r\n",
    "| not exposed |    c    |      d     |   n2  |\r\n",
    "| total       |   m1    |     m2     |   N   | \r\n",
    "\r\n",
    "\r\n",
    "Therefore, the Risk Ratio is the ratio of the probability to have disease ($a$) in the exposed group ($n_1$), $p_1 = a / n_1$ to the probability to have the disease ($c$) in the not exposed group ($n_2$), $p_2 = c / n_2$.\r\n",
    "\r\n",
    "To compute the RR we could also use $ \\log\\mathrm(RR) = \\log(p_1) -  \\log(p_2) $."
   ],
   "metadata": {}
  },
  {
   "cell_type": "code",
   "execution_count": 88,
   "source": [
    "# in this study 'exposed' is the placebo group\r\n",
    "a, n1, c, n2 = 73, 829, 14, 840\r\n",
    "p1 = a/n1\r\n",
    "p2 = c/n2\r\n",
    "rr = p1 / p2\r\n",
    "print(f\"Relative Risk = {rr:.3f}\")"
   ],
   "outputs": [
    {
     "output_type": "stream",
     "name": "stdout",
     "text": [
      "Relative Risk = 5.283\n"
     ]
    }
   ],
   "metadata": {}
  },
  {
   "cell_type": "code",
   "execution_count": 89,
   "source": [
    "np.exp(np.log(p1) - np.log(p2))"
   ],
   "outputs": [
    {
     "output_type": "execute_result",
     "data": {
      "text/plain": [
       "5.28347406513872"
      ]
     },
     "metadata": {},
     "execution_count": 89
    }
   ],
   "metadata": {}
  },
  {
   "cell_type": "markdown",
   "source": [
    "### Odds Ratio\r\n",
    "\r\n",
    "The Risk Ratio (Relative Risk) is different from the Odds Ratio, from which is $\\text{odds} = \\frac{p}{1-p}$:\r\n",
    "\r\n",
    "$$\\mathrm{OR} = \\frac{p_1 / (1 - p_1)}{p_2 / (1 - p_2)} $$\r\n",
    "\r\n",
    "We can also use $$ \\log\\mathrm(OR) = \\log(p_1) - \\log(1 - p_1) - \\log(p_2) + \\log(1 - p_2) $$"
   ],
   "metadata": {}
  },
  {
   "cell_type": "code",
   "execution_count": 90,
   "source": [
    "print(f\"Odds ratio = {(p1/(1-p1))/(p2/(1-p2)):.3f}\")"
   ],
   "outputs": [
    {
     "output_type": "stream",
     "name": "stdout",
     "text": [
      "Odds ratio = 5.697\n"
     ]
    }
   ],
   "metadata": {}
  },
  {
   "cell_type": "markdown",
   "source": [
    "## Confidence intervals\r\n",
    "\r\n",
    "### 95% CI of the proportions\r\n",
    "\r\n",
    "Computing the CI using the modified Wald method by hand as follows:\r\n",
    "\r\n",
    "1. $p'=\\frac{s+2}{n+4}$ with $s$ the number of successes and $n$ the number of trials\r\n",
    "2. The margin of error is: $W=2\\sqrt{\\frac{p'(1-p')}{n+4}}$\r\n",
    "3. Finally, the 95% CI is from $(p'-W)$ to $(p'+W)$"
   ],
   "metadata": {}
  },
  {
   "cell_type": "code",
   "execution_count": 82,
   "source": [
    "s,n = 73,829\r\n",
    "p = (s+2)/(n+4)\r\n",
    "W = 2 * (p * (1-p) / (n+4))**.5\r\n",
    "print(f\"The 95% CI for the {s}/{n} proprotion, i.e. {100*s/n:.1f}%, is {100*(p-W):.1f}% to {100*(p+W):.1f}% acc. Wald method.\")"
   ],
   "outputs": [
    {
     "output_type": "stream",
     "name": "stdout",
     "text": [
      "The 95% CI for the 73/829 proprotion, i.e. 8.8%, is 7.0% to 11.0% acc. Wald method.\n"
     ]
    }
   ],
   "metadata": {}
  },
  {
   "cell_type": "code",
   "execution_count": 83,
   "source": [
    "s,n = 14,840\r\n",
    "p = (s+2)/(n+4)\r\n",
    "W = 2 * (p * (1-p) / (n+4))**.5\r\n",
    "print(f\"The 95% CI for the {s}/{n} proprotion, i.e. {100*s/n:.1f}%, is {100*(p-W):.1f}% to {100*(p+W):.1f}% acc. Wald method.\")"
   ],
   "outputs": [
    {
     "output_type": "stream",
     "name": "stdout",
     "text": [
      "The 95% CI for the 14/840 proprotion, i.e. 1.7%, is 1.0% to 2.8% acc. Wald method.\n"
     ]
    }
   ],
   "metadata": {}
  },
  {
   "cell_type": "markdown",
   "source": [
    "### 95% CI of the attributable risk\r\n",
    "\r\n",
    "With the attributable risk $ \\mathrm{AR} = p_1 - p_2$, the confidence interval is computing as follows:\r\n",
    "\r\n",
    "$$\\mathrm{CI} = \\mathrm{AR} \\pm Z_{\\alpha/2} \\times \\sqrt{\\frac{m_1}{N}(1 - \\frac{m_1}{N})(1/n_1 + 1/n_2)}$$"
   ],
   "metadata": {}
  },
  {
   "cell_type": "code",
   "execution_count": 91,
   "source": [
    "ar = p1 - p2\r\n",
    "m1 = a + c # total disease\r\n",
    "N = n1 + n2 # grand total\r\n",
    "factor_ar = 1.96 * np.sqrt(m1/N * (1 - m1/N) * (1/n1 + 1/n2))\r\n",
    "\r\n",
    "print(f\"CI for the AR {100*attributable_risk:.1f}% extends from {100*(ar - factor_ar):.1f}% to {100*(ar + factor_ar):.1f}%\")"
   ],
   "outputs": [
    {
     "output_type": "stream",
     "name": "stdout",
     "text": [
      "CI for the AR 7.1% extends from 5.0% to 9.3%\n"
     ]
    }
   ],
   "metadata": {}
  },
  {
   "cell_type": "markdown",
   "source": [
    "### CI of the NNT\n",
    "\n",
    "The CI of the NNT is obtained by taking the reciprocal of each end of the CI of the AR."
   ],
   "metadata": {}
  },
  {
   "cell_type": "code",
   "execution_count": 80,
   "source": [
    "print(f\"CI for the NTT {1/attributable_risk:.1f} extends from {1/(ar + factor_ar):.1f} to {1/(ar - factor_ar):.1f}\")"
   ],
   "outputs": [
    {
     "output_type": "stream",
     "name": "stdout",
     "text": [
      "CI for the NTT 14.1 extends from 10.2 to 22.7\n"
     ]
    }
   ],
   "metadata": {}
  },
  {
   "cell_type": "markdown",
   "source": [
    "### CI of the relative risk\r\n",
    "\r\n",
    "We use the following formula:\r\n",
    "\r\n",
    "$$\\text{CI} = \\exp(\\log(\\text{RR}) \\pm Z_{\\alpha/2} \\times \\sqrt{1/\\text{EE} \\times \\frac{\\text{EN}}{\\text{EE}+\\text{EN}} + 1/\\text{CE} \\times \\frac{\\text{CN}}{\\text{CE}+\\text{CN}}})$$\r\n",
    "\r\n",
    "We can also use $$ \\log\\operatorname{Var}\\mathrm(RR) = \\frac{1 - p_1}{p_1} / n_1 + \\frac{1 - p_2}{p_2} / n_2 $$\r\n",
    "\r\n",
    "For tables with high number of events and 95% CI, $Z_{\\alpha/2} \\approx 1.96$"
   ],
   "metadata": {}
  },
  {
   "cell_type": "code",
   "execution_count": 59,
   "source": [
    "conf=0.95\r\n",
    "t = stats.t(df = (73+756+14+826) - 1).ppf((1 + conf) /2)\r\n",
    "factor = t * np.sqrt((1/73 * 756/829) + (1/14 * 826/840))\r\n",
    "ci = round(np.exp(np.log(rr) - factor), 3), round(np.exp(np.log(rr) + factor), 3)\r\n",
    "\r\n",
    "print(f\"CI for the RR {rr:.3f} extends from {ci[0]:.3f} to {ci[1]:.3f}\")"
   ],
   "outputs": [
    {
     "output_type": "stream",
     "name": "stdout",
     "text": [
      "CI for the RR 5.283 extends from 3.005 to 9.288\n"
     ]
    }
   ],
   "metadata": {}
  },
  {
   "cell_type": "markdown",
   "source": [
    "### CI of the odds ratio\r\n",
    "\r\n",
    "To calculate the confidence interval, we use the log odds ratio, $ln(\\text{OR})$, and calculate its standard error:\r\n",
    "$ \\sqrt{\\frac{1}{\\text{EE}} + \\frac{1}{\\text{EN}} + \\frac{1}{\\text{CE}} + \\frac{1}{\\text{CN}}}$;  \r\n",
    "and then CI = $\\exp(\\ln(OR) \\pm Z_{\\alpha/2}*\\text{SEM}(OR))$"
   ],
   "metadata": {}
  },
  {
   "cell_type": "code",
   "execution_count": 63,
   "source": [
    "conf=0.95\r\n",
    "se_or = (1/73 + 1/756 + 1/14 + 1/826)**.5\r\n",
    "t = stats.t(df = (73+756+14+826) - 1).ppf((1 + conf) /2)\r\n",
    "W = t*se_or\r\n",
    "ci = round(np.exp(np.log(odds_ratio) - W), 3), round(np.exp(np.log(odds_ratio) + W), 3)\r\n",
    "print(ci)"
   ],
   "outputs": [
    {
     "output_type": "stream",
     "name": "stdout",
     "text": [
      "(3.188, 10.183)\n"
     ]
    }
   ],
   "metadata": {}
  },
  {
   "cell_type": "markdown",
   "source": [
    "## statsmodels Table2x2()\r\n",
    "\r\n",
    "All the estimates and statistics, including the lower and upper confidence limits of the CIs, can be obtained using the statsmodels Table2x2 method.\r\n",
    "\r\n",
    "The p-value is based on a Wald-type z-test for the standard estimate of the log odds ratio. It uses the asymptotic approximation for the standard error. It is a large-sample test. Testing log odds = 0 is the same as testing for independence of rows/columns using the chi^2 test, difference of conditional proportions test, the likelihood rato test, or Fisher's exact test. These tests are all different in finite samples, but asymptotically equivalent."
   ],
   "metadata": {}
  },
  {
   "cell_type": "code",
   "execution_count": 64,
   "source": [
    "import statsmodels.api as sm\r\n",
    "\r\n",
    "table = sm.stats.Table2x2(\r\n",
    "    [\r\n",
    "        [73, 756],\r\n",
    "        [14, 826]\r\n",
    "    ]\r\n",
    ")"
   ],
   "outputs": [],
   "metadata": {}
  },
  {
   "cell_type": "code",
   "execution_count": 65,
   "source": [
    "table.summary(method='normal')"
   ],
   "outputs": [
    {
     "output_type": "execute_result",
     "data": {
      "text/html": [
       "<table class=\"simpletable\">\n",
       "<tr>\n",
       "         <td></td>        <th>Estimate</th>  <th>SE</th>    <th>LCB</th>    <th>UCB</th>  <th>p-value</th>\n",
       "</tr>\n",
       "<tr>\n",
       "  <th>Odds ratio</th>        <td>5.697</td>      <td></td> <td>3.189</td> <td>10.178</td>   <td>0.000</td>\n",
       "</tr>\n",
       "<tr>\n",
       "  <th>Log odds ratio</th>    <td>1.740</td> <td>0.296</td> <td>1.160</td>  <td>2.320</td>   <td>0.000</td>\n",
       "</tr>\n",
       "<tr>\n",
       "  <th>Risk ratio</th>        <td>5.283</td>      <td></td> <td>3.007</td>  <td>9.284</td>   <td>0.000</td>\n",
       "</tr>\n",
       "<tr>\n",
       "  <th>Log risk ratio</th>    <td>1.665</td> <td>0.288</td> <td>1.101</td>  <td>2.228</td>   <td>0.000</td>\n",
       "</tr>\n",
       "</table>"
      ],
      "text/plain": [
       "<class 'statsmodels.iolib.table.SimpleTable'>"
      ]
     },
     "metadata": {},
     "execution_count": 65
    }
   ],
   "metadata": {}
  },
  {
   "cell_type": "markdown",
   "source": [
    "## Chi²\r\n",
    "\r\n",
    "### Comparing observed and expected proportions\r\n",
    "\r\n",
    "We take the example of the Mendel's peas experiment:\r\n",
    "\r\n",
    "| phenotype       | observed number | expected prop | expected number |\r\n",
    "|:--------------- |:---------------:|:-------------:|:---------------:|\r\n",
    "| round,   yellow |       315       |      9/16     |      312.75     |\r\n",
    "| round,   green  |       108       |      3/16     |      104.25     |\r\n",
    "| angular, yellow |       101       |      3/16     |      104.25     |\r\n",
    "| angular, green  |        32       |      1/16     |       34.75     |\r\n",
    "| TOTAL           |       556       |     16/16     |      556.00     |\r\n",
    "\r\n",
    "Is the discrepancy between the observed and expected distributions greater that we would expect to see by chance?\r\n",
    "\r\n",
    "To quantify the discrepancy between the observed and expected distributions, the chi-square test does the following for each category:\r\n",
    "\r\n",
    "$$\\chi^2 = \\sum \\frac{(\\text{observed} - \\text{expected})^2}{\\text{expected}} $$\r\n",
    "\r\n",
    "The P value answers the question\r\n",
    ">if the theory that generated the expected distribution is correct, what is the chance that random sampling would lead to a **deviation from expected as large or larger as that observed** in this experiment?"
   ],
   "metadata": {}
  },
  {
   "cell_type": "code",
   "execution_count": 66,
   "source": [
    "stats.chisquare(f_obs=[315, 108, 101, 32], f_exp=[312.75, 104.25, 104.25, 34.75])"
   ],
   "outputs": [
    {
     "output_type": "execute_result",
     "data": {
      "text/plain": [
       "Power_divergenceResult(statistic=0.4700239808153477, pvalue=0.925425895103616)"
      ]
     },
     "metadata": {},
     "execution_count": 66
    }
   ],
   "metadata": {}
  },
  {
   "cell_type": "markdown",
   "source": [
    "With such a large P value, the deviation from the theory are small and consistent with random variation. The number of degrees of freedom equals the number of categories minus one. This test is based on some approximations.\r\n",
    "\r\n",
    "When there are only two categories, the _binomial test_ computes the exact P values without any approximation or worry about the sample size."
   ],
   "metadata": {}
  },
  {
   "cell_type": "code",
   "execution_count": 67,
   "source": [
    "from statsmodels.stats.proportion import proportions_chisquare\r\n",
    "\r\n",
    "count = np.array([73, 14])\r\n",
    "nobs = np.array([829, 840])\r\n",
    "\r\n",
    "# note that in this case (a two sample case with two sided\r\n",
    "# alternative), the test produces the same value as porportions_ztest\r\n",
    "# since the chi-square distribution is the square of a normal distribution\r\n",
    "chisq, pvalue, table = proportions_chisquare(count, nobs)\r\n",
    "print(f\"chisq = {chisq:.2f}, pvalue = {pvalue:.3f}\")"
   ],
   "outputs": [
    {
     "output_type": "stream",
     "name": "stdout",
     "text": [
      "chisq = 43.04, pvalue = 0.000\n"
     ]
    }
   ],
   "metadata": {}
  },
  {
   "cell_type": "markdown",
   "source": [
    "The $\\chi^2$ statistic has an expected distribution that can be used to determine the p-value associated with this statistic. As with the $t$-distribution, the $\\chi^2$-distribution depends on the degrees of freedom. This is calculated by subtracting one from the number of rows and from the number of columns in the contingency table and multiplying them together. In the case below we have 2 rows and 2 columns, which calculates to 1 degrees of freedom. Armed with our $\\chi^2$ statistic and our degrees of freedom, we can now calculate the p-value for the hypothesis test."
   ],
   "metadata": {}
  },
  {
   "cell_type": "code",
   "execution_count": 68,
   "source": [
    "# with low P value we can reject H0 that data follow/are consistent with the theoritical distribution\r\n",
    "chi2, p, dof, expected = stats.chi2_contingency([[73, 756], [14, 826]], lambda_='pearson') # default stat\r\n",
    "print(f\"chi² = {chi2:.3f}\")\r\n",
    "print(f\"P value = {p:.5f}\")\r\n",
    "print(f\"with {dof} degrees of freedom\")"
   ],
   "outputs": [
    {
     "output_type": "stream",
     "name": "stdout",
     "text": [
      "chi² = 41.605\n",
      "P value = 0.00000\n",
      "with 1 degrees of freedom\n"
     ]
    }
   ],
   "metadata": {}
  },
  {
   "cell_type": "code",
   "execution_count": 69,
   "source": [
    "expected"
   ],
   "outputs": [
    {
     "output_type": "execute_result",
     "data": {
      "text/plain": [
       "array([[ 43.21330138, 785.78669862],\n",
       "       [ 43.78669862, 796.21330138]])"
      ]
     },
     "metadata": {},
     "execution_count": 69
    }
   ],
   "metadata": {}
  },
  {
   "cell_type": "markdown",
   "source": [
    "The observed values must be an integer, but the expected value, averaged over many experiments, can be a fraction. $\\chi^2$ is the statistic returned by the test."
   ],
   "metadata": {}
  },
  {
   "cell_type": "markdown",
   "source": [
    "### Calculations from a true dataframe"
   ],
   "metadata": {}
  },
  {
   "cell_type": "code",
   "execution_count": 70,
   "source": [
    "# let's get another toy dataset\r\n",
    "import peopleanalyticsdata as pad\r\n",
    "\r\n",
    "# pad.list_sets() # to get the list of the datasets included\r\n",
    "\r\n",
    "df = pad.charity_donation()\r\n",
    "# http://peopleanalytics-regression-book.org/data/charity_donation.csv\r\n",
    "\r\n",
    "df.head()"
   ],
   "outputs": [
    {
     "output_type": "execute_result",
     "data": {
      "text/html": [
       "<div>\n",
       "<style scoped>\n",
       "    .dataframe tbody tr th:only-of-type {\n",
       "        vertical-align: middle;\n",
       "    }\n",
       "\n",
       "    .dataframe tbody tr th {\n",
       "        vertical-align: top;\n",
       "    }\n",
       "\n",
       "    .dataframe thead th {\n",
       "        text-align: right;\n",
       "    }\n",
       "</style>\n",
       "<table border=\"1\" class=\"dataframe\">\n",
       "  <thead>\n",
       "    <tr style=\"text-align: right;\">\n",
       "      <th></th>\n",
       "      <th>n_donations</th>\n",
       "      <th>total_donations</th>\n",
       "      <th>time_donating</th>\n",
       "      <th>recent_donation</th>\n",
       "      <th>last_donation</th>\n",
       "      <th>gender</th>\n",
       "      <th>reside</th>\n",
       "      <th>age</th>\n",
       "    </tr>\n",
       "  </thead>\n",
       "  <tbody>\n",
       "    <tr>\n",
       "      <th>0</th>\n",
       "      <td>2</td>\n",
       "      <td>310</td>\n",
       "      <td>27</td>\n",
       "      <td>0</td>\n",
       "      <td>4</td>\n",
       "      <td>M</td>\n",
       "      <td>Urban Domestic</td>\n",
       "      <td>29</td>\n",
       "    </tr>\n",
       "    <tr>\n",
       "      <th>1</th>\n",
       "      <td>3</td>\n",
       "      <td>1200</td>\n",
       "      <td>22</td>\n",
       "      <td>0</td>\n",
       "      <td>6</td>\n",
       "      <td>M</td>\n",
       "      <td>Rural Domestic</td>\n",
       "      <td>41</td>\n",
       "    </tr>\n",
       "    <tr>\n",
       "      <th>2</th>\n",
       "      <td>3</td>\n",
       "      <td>1200</td>\n",
       "      <td>37</td>\n",
       "      <td>1</td>\n",
       "      <td>11</td>\n",
       "      <td>M</td>\n",
       "      <td>Urban Domestic</td>\n",
       "      <td>77</td>\n",
       "    </tr>\n",
       "    <tr>\n",
       "      <th>3</th>\n",
       "      <td>2</td>\n",
       "      <td>760</td>\n",
       "      <td>19</td>\n",
       "      <td>1</td>\n",
       "      <td>1</td>\n",
       "      <td>F</td>\n",
       "      <td>Overseas</td>\n",
       "      <td>66</td>\n",
       "    </tr>\n",
       "    <tr>\n",
       "      <th>4</th>\n",
       "      <td>6</td>\n",
       "      <td>2540</td>\n",
       "      <td>37</td>\n",
       "      <td>0</td>\n",
       "      <td>11</td>\n",
       "      <td>M</td>\n",
       "      <td>Urban Domestic</td>\n",
       "      <td>26</td>\n",
       "    </tr>\n",
       "  </tbody>\n",
       "</table>\n",
       "</div>"
      ],
      "text/plain": [
       "   n_donations  total_donations  time_donating  recent_donation  \\\n",
       "0            2              310             27                0   \n",
       "1            3             1200             22                0   \n",
       "2            3             1200             37                1   \n",
       "3            2              760             19                1   \n",
       "4            6             2540             37                0   \n",
       "\n",
       "   last_donation gender          reside  age  \n",
       "0              4      M  Urban Domestic   29  \n",
       "1              6      M  Rural Domestic   41  \n",
       "2             11      M  Urban Domestic   77  \n",
       "3              1      F        Overseas   66  \n",
       "4             11      M  Urban Domestic   26  "
      ]
     },
     "metadata": {},
     "execution_count": 70
    }
   ],
   "metadata": {}
  },
  {
   "cell_type": "markdown",
   "source": [
    "By using an appropriate hypothesis test, determine if there is a difference in whether or not a recent donation was made according to where people reside."
   ],
   "metadata": {}
  },
  {
   "cell_type": "code",
   "execution_count": 71,
   "source": [
    "table = pd.crosstab(\r\n",
    "    df['reside'],\r\n",
    "    df['recent_donation'],\r\n",
    ")\r\n",
    "\r\n",
    "table"
   ],
   "outputs": [
    {
     "output_type": "execute_result",
     "data": {
      "text/html": [
       "<div>\n",
       "<style scoped>\n",
       "    .dataframe tbody tr th:only-of-type {\n",
       "        vertical-align: middle;\n",
       "    }\n",
       "\n",
       "    .dataframe tbody tr th {\n",
       "        vertical-align: top;\n",
       "    }\n",
       "\n",
       "    .dataframe thead th {\n",
       "        text-align: right;\n",
       "    }\n",
       "</style>\n",
       "<table border=\"1\" class=\"dataframe\">\n",
       "  <thead>\n",
       "    <tr style=\"text-align: right;\">\n",
       "      <th>recent_donation</th>\n",
       "      <th>0</th>\n",
       "      <th>1</th>\n",
       "    </tr>\n",
       "    <tr>\n",
       "      <th>reside</th>\n",
       "      <th></th>\n",
       "      <th></th>\n",
       "    </tr>\n",
       "  </thead>\n",
       "  <tbody>\n",
       "    <tr>\n",
       "      <th>Overseas</th>\n",
       "      <td>101</td>\n",
       "      <td>14</td>\n",
       "    </tr>\n",
       "    <tr>\n",
       "      <th>Rural Domestic</th>\n",
       "      <td>88</td>\n",
       "      <td>45</td>\n",
       "    </tr>\n",
       "    <tr>\n",
       "      <th>Urban Domestic</th>\n",
       "      <td>82</td>\n",
       "      <td>24</td>\n",
       "    </tr>\n",
       "  </tbody>\n",
       "</table>\n",
       "</div>"
      ],
      "text/plain": [
       "recent_donation    0   1\n",
       "reside                  \n",
       "Overseas         101  14\n",
       "Rural Domestic    88  45\n",
       "Urban Domestic    82  24"
      ]
     },
     "metadata": {},
     "execution_count": 71
    }
   ],
   "metadata": {}
  },
  {
   "cell_type": "code",
   "execution_count": 72,
   "source": [
    "# there are more than 3 categories, so we go for chi²\r\n",
    "df['reside'].value_counts()\r\n",
    "\r\n",
    "# If `reside` is not a good predictor for `recent_donation`, we should expect the same ratios accross the target classes."
   ],
   "outputs": [
    {
     "output_type": "execute_result",
     "data": {
      "text/plain": [
       "Rural Domestic    133\n",
       "Overseas          115\n",
       "Urban Domestic    106\n",
       "Name: reside, dtype: int64"
      ]
     },
     "metadata": {},
     "execution_count": 72
    }
   ],
   "metadata": {}
  },
  {
   "cell_type": "code",
   "execution_count": 73,
   "source": [
    "import pingouin as pg\r\n",
    "expected, observed, statistics = pg.chi2_independence(\r\n",
    "    x='reside',\r\n",
    "    y='recent_donation',\r\n",
    "    data=df\r\n",
    ")\r\n",
    "\r\n",
    "expected"
   ],
   "outputs": [
    {
     "output_type": "execute_result",
     "data": {
      "text/html": [
       "<div>\n",
       "<style scoped>\n",
       "    .dataframe tbody tr th:only-of-type {\n",
       "        vertical-align: middle;\n",
       "    }\n",
       "\n",
       "    .dataframe tbody tr th {\n",
       "        vertical-align: top;\n",
       "    }\n",
       "\n",
       "    .dataframe thead th {\n",
       "        text-align: right;\n",
       "    }\n",
       "</style>\n",
       "<table border=\"1\" class=\"dataframe\">\n",
       "  <thead>\n",
       "    <tr style=\"text-align: right;\">\n",
       "      <th>recent_donation</th>\n",
       "      <th>0</th>\n",
       "      <th>1</th>\n",
       "    </tr>\n",
       "    <tr>\n",
       "      <th>reside</th>\n",
       "      <th></th>\n",
       "      <th></th>\n",
       "    </tr>\n",
       "  </thead>\n",
       "  <tbody>\n",
       "    <tr>\n",
       "      <th>Overseas</th>\n",
       "      <td>88.036723</td>\n",
       "      <td>26.963277</td>\n",
       "    </tr>\n",
       "    <tr>\n",
       "      <th>Rural Domestic</th>\n",
       "      <td>101.816384</td>\n",
       "      <td>31.183616</td>\n",
       "    </tr>\n",
       "    <tr>\n",
       "      <th>Urban Domestic</th>\n",
       "      <td>81.146893</td>\n",
       "      <td>24.853107</td>\n",
       "    </tr>\n",
       "  </tbody>\n",
       "</table>\n",
       "</div>"
      ],
      "text/plain": [
       "recent_donation           0          1\n",
       "reside                                \n",
       "Overseas          88.036723  26.963277\n",
       "Rural Domestic   101.816384  31.183616\n",
       "Urban Domestic    81.146893  24.853107"
      ]
     },
     "metadata": {},
     "execution_count": 73
    }
   ],
   "metadata": {}
  },
  {
   "cell_type": "code",
   "execution_count": 74,
   "source": [
    "pg.print_table(statistics)"
   ],
   "outputs": [
    {
     "output_type": "stream",
     "name": "stdout",
     "text": [
      "test                  lambda    chi2    dof    pval    cramer    power\n",
      "------------------  --------  ------  -----  ------  --------  -------\n",
      "pearson                1.000  16.176  2.000   0.000     0.214    0.959\n",
      "cressie-read           0.667  16.314  2.000   0.000     0.215    0.960\n",
      "log-likelihood         0.000  16.777  2.000   0.000     0.218    0.965\n",
      "freeman-tukey         -0.500  17.307  2.000   0.000     0.221    0.969\n",
      "mod-log-likelihood    -1.000  18.019  2.000   0.000     0.226    0.975\n",
      "neyman                -2.000  20.118  2.000   0.000     0.238    0.986\n",
      "\n"
     ]
    }
   ],
   "metadata": {}
  },
  {
   "cell_type": "markdown",
   "source": [
    "Very low p-values indeed, the deviation from the null hypothesis is high and inconsistent with random variation. The site of residence qualifies as a good predictor for the people who made a recent donation."
   ],
   "metadata": {}
  },
  {
   "cell_type": "markdown",
   "source": [
    "#### Using scipy.stats"
   ],
   "metadata": {}
  },
  {
   "cell_type": "code",
   "execution_count": 75,
   "source": [
    "from scipy.stats import chi2_contingency\r\n",
    "chi2, p, dof, expected = chi2_contingency(table)\r\n",
    "\r\n",
    "print(f\"chi² = {chi2:.3f}\")\r\n",
    "print(f\"P value = {p:.5f}\")\r\n",
    "print(f\"with {dof} degrees of freedom\")\r\n",
    "\r\n",
    "print(\"expected counts are:\")\r\n",
    "print(expected)"
   ],
   "outputs": [
    {
     "output_type": "stream",
     "name": "stdout",
     "text": [
      "chi² = 16.176\n",
      "P value = 0.00031\n",
      "with 2 degrees of freedom\n",
      "expected counts are:\n",
      "[[ 88.03672316  26.96327684]\n",
      " [101.81638418  31.18361582]\n",
      " [ 81.14689266  24.85310734]]\n"
     ]
    }
   ],
   "metadata": {}
  },
  {
   "cell_type": "markdown",
   "source": [
    "## Case-control studies\n",
    "\n",
    "Two groups of subjects:\n",
    "- incident **cases**, with a **disease** or condition\n",
    "- **controls**, selected from the same population that produced the cases\n",
    "\n",
    "For example we can ask whether people with cholera are less likely to have been vaccinated than those who have not gotten cholera. We set the column totals by choosing how many cases and controls top study, and then determined whether each person had been previously vaccinated.\n",
    "\n",
    "| vaccine | cases | controls |\n",
    "| ------- |:-----:|:--------:|\n",
    "| yes     |  10   |    94    |\n",
    "| no      |  33   |    78    |\n",
    "| total   |  43   |   172    |\n",
    "\n",
    "Computing risks and the relative risk directly from a case-control study is invalid because it depends on the total number of controls.\n",
    "\n",
    "Results from a case-control study are summarized as an **odds ratio** which compares the **odds of exposure** (vaccination) in cases and controls. _The odds ratio equals the odds of the cases having been exposed to the possible risk factor, divided by the odds of the controls having been exposed_. Below the odds ratio of 0.25 quantifies the reduced odds of cholera among those who are vaccinated. We can conclude that a vaccinated person has 25% the chance of an unvaccinated person getting disease, or the vaccine is 75% effective in preventing disease.\n",
    "\n",
    "The Odds Ratio from a case-control study is almost always a good estimate of the Relative Risk. The Odds Ratio can be only interpret as Relative Risks when the **disease is rare**. But in fact OR can be interpreted as RR in most but not all case-control studies even those of common diseases."
   ],
   "metadata": {}
  },
  {
   "cell_type": "code",
   "execution_count": 76,
   "source": [
    "print(f\"Odds ratio = {(10/33)/(94/78):.3f}\")"
   ],
   "outputs": [
    {
     "output_type": "stream",
     "name": "stdout",
     "text": [
      "Odds ratio = 0.251\n"
     ]
    }
   ],
   "metadata": {}
  },
  {
   "cell_type": "code",
   "execution_count": 77,
   "source": [
    "sm.stats.Table2x2(\r\n",
    "    [\r\n",
    "        [10, 94],\r\n",
    "        [33, 78]\r\n",
    "    ]\r\n",
    ").summary(method='normal')"
   ],
   "outputs": [
    {
     "output_type": "execute_result",
     "data": {
      "text/html": [
       "<table class=\"simpletable\">\n",
       "<tr>\n",
       "         <td></td>        <th>Estimate</th>  <th>SE</th>     <th>LCB</th>    <th>UCB</th>  <th>p-value</th>\n",
       "</tr>\n",
       "<tr>\n",
       "  <th>Odds ratio</th>        <td>0.251</td>      <td></td>  <td>0.117</td>  <td>0.542</td>   <td>0.000</td>\n",
       "</tr>\n",
       "<tr>\n",
       "  <th>Log odds ratio</th>   <td>-1.381</td> <td>0.392</td> <td>-2.149</td> <td>-0.612</td>   <td>0.000</td>\n",
       "</tr>\n",
       "<tr>\n",
       "  <th>Risk ratio</th>        <td>0.323</td>      <td></td>  <td>0.168</td>  <td>0.623</td>   <td>0.001</td>\n",
       "</tr>\n",
       "<tr>\n",
       "  <th>Log risk ratio</th>   <td>-1.129</td> <td>0.334</td> <td>-1.784</td> <td>-0.474</td>   <td>0.001</td>\n",
       "</tr>\n",
       "</table>"
      ],
      "text/plain": [
       "<class 'statsmodels.iolib.table.SimpleTable'>"
      ]
     },
     "metadata": {},
     "execution_count": 77
    }
   ],
   "metadata": {}
  },
  {
   "cell_type": "markdown",
   "source": [
    "### Another example"
   ],
   "metadata": {}
  },
  {
   "cell_type": "code",
   "execution_count": 78,
   "source": [
    "sm.stats.Table2x2(\r\n",
    "    [\r\n",
    "        [  25,   213],\r\n",
    "        [1935, 19216]\r\n",
    "    ]\r\n",
    ").summary(method='normal')"
   ],
   "outputs": [
    {
     "output_type": "execute_result",
     "data": {
      "text/html": [
       "<table class=\"simpletable\">\n",
       "<tr>\n",
       "         <td></td>        <th>Estimate</th>  <th>SE</th>     <th>LCB</th>   <th>UCB</th>  <th>p-value</th>\n",
       "</tr>\n",
       "<tr>\n",
       "  <th>Odds ratio</th>        <td>1.166</td>      <td></td>  <td>0.768</td> <td>1.769</td>   <td>0.471</td>\n",
       "</tr>\n",
       "<tr>\n",
       "  <th>Log odds ratio</th>    <td>0.153</td> <td>0.213</td> <td>-0.264</td> <td>0.570</td>   <td>0.471</td>\n",
       "</tr>\n",
       "<tr>\n",
       "  <th>Risk ratio</th>        <td>1.148</td>      <td></td>  <td>0.791</td> <td>1.668</td>   <td>0.468</td>\n",
       "</tr>\n",
       "<tr>\n",
       "  <th>Log risk ratio</th>    <td>0.138</td> <td>0.190</td> <td>-0.235</td> <td>0.511</td>   <td>0.468</td>\n",
       "</tr>\n",
       "</table>"
      ],
      "text/plain": [
       "<class 'statsmodels.iolib.table.SimpleTable'>"
      ]
     },
     "metadata": {},
     "execution_count": 78
    }
   ],
   "metadata": {}
  },
  {
   "cell_type": "markdown",
   "source": [
    "In the example above, the CI contains 1.0, so we conclude that there is no evidence of an association between the treatment and the outcome (cases)"
   ],
   "metadata": {}
  }
 ],
 "metadata": {
  "kernelspec": {
   "name": "python3",
   "display_name": "Python 3.9.6 64-bit"
  },
  "language_info": {
   "codemirror_mode": {
    "name": "ipython",
    "version": 3
   },
   "file_extension": ".py",
   "mimetype": "text/x-python",
   "name": "python",
   "nbconvert_exporter": "python",
   "pygments_lexer": "ipython3",
   "version": "3.9.6"
  },
  "interpreter": {
   "hash": "35e05afc3bbf8458d25376a416e873cf169d04b2fc4efc2b77204c35b02a6d38"
  }
 },
 "nbformat": 4,
 "nbformat_minor": 2
}