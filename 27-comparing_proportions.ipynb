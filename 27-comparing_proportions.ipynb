{
 "cells": [
  {
   "cell_type": "markdown",
   "source": [
    "# Comparing proportions\n",
    "\n",
    "Let's prepare the data from thromboembolism study in a contingency table as follows:\n",
    "\n",
    "| treatment | recurrent | no recurrence | total |\n",
    "| --------- | --------- | ------------- | ----- |\n",
    "| placebo   |    73     |      756      |  829  |\n",
    "| Apixaban  |    14     |      826      |  840  |\n",
    "| total     |    87     |     1582      | 1669  |\n",
    "\n",
    "A contingency table displays the results of a study with a categorical outcome. Rows represent different treatments or exposures, columns represent different outcomes. Each value is an actual number of subjects."
   ],
   "metadata": {}
  },
  {
   "cell_type": "code",
   "execution_count": 1,
   "source": [
    "import math\r\n",
    "import numpy as np\r\n",
    "from scipy import stats"
   ],
   "outputs": [],
   "metadata": {}
  },
  {
   "cell_type": "code",
   "execution_count": 3,
   "source": [
    "table = np.array([[73, 756], [14, 826]]) # example data from page 264\r\n",
    "# contingency table (rows = alternative treatments, cols = alternative outcomes)"
   ],
   "outputs": [],
   "metadata": {}
  },
  {
   "cell_type": "code",
   "execution_count": 4,
   "source": [
    "table"
   ],
   "outputs": [
    {
     "output_type": "execute_result",
     "data": {
      "text/plain": [
       "array([[ 73, 756],\n",
       "       [ 14, 826]])"
      ]
     },
     "metadata": {},
     "execution_count": 4
    }
   ],
   "metadata": {}
  },
  {
   "cell_type": "markdown",
   "source": [
    "Form a Pandas dataframe, one could obtain a contingency table e.g.:\n",
    "```python\n",
    "table = pd.crosstab(\n",
    "\tdata['ed'].dropna()>2, # attention, np.nan > 2 gives False\n",
    "\tdata['dep.cons'],\n",
    "\tmargins=True) # margins are 'totals'\n",
    "```"
   ],
   "metadata": {}
  },
  {
   "cell_type": "markdown",
   "source": [
    "##  Fisher's test\n",
    "\n",
    "The goal of the analysis is to generalize about the general population of patients who have had a thromboembolism by computing CIs and a P value. The P value answers the question\n",
    ">if H0 were true, which is that the treatment **does not alter the risk** of recurrence, what is the chance that random sampling of subjects would result in incidence rates as different or more different from what we observe?\n",
    "\n",
    "Use chi-square for large sample sizes or more than 2 outcomes."
   ],
   "metadata": {}
  },
  {
   "cell_type": "code",
   "execution_count": 7,
   "source": [
    "odds_ratio, p_value = stats.fisher_exact(table)\r\n",
    "\r\n",
    "print(\"Odds ratio\\t\", odds_ratio)\r\n",
    "print(\"P value\\t\\t\", p_value)"
   ],
   "outputs": [
    {
     "output_type": "stream",
     "name": "stdout",
     "text": [
      "Odds ratio\t 5.697089947089947\n",
      "P value\t\t 1.3340996598862038e-11\n"
     ]
    }
   ],
   "metadata": {}
  },
  {
   "cell_type": "markdown",
   "source": [
    "### The attributable risk\n",
    "\n",
    "One way to summarize the results is to calculate the **difference between the two proportions** also called **attributabel risk**."
   ],
   "metadata": {}
  },
  {
   "cell_type": "code",
   "execution_count": 8,
   "source": [
    "attributable_risk = -np.diff(table[:,0]/(table[0].sum()))[0]\r\n",
    "print(f\"attributable risk = {100*attributable_risk:.1f}%\")"
   ],
   "outputs": [
    {
     "output_type": "stream",
     "name": "stdout",
     "text": [
      "attributable risk = 7.1%\n"
     ]
    }
   ],
   "metadata": {}
  },
  {
   "cell_type": "markdown",
   "source": [
    "### Number needed to treat\n",
    "\n",
    "This value, i.e. the reciprocal of the attributable risk, tells you how many patients would require treatment to reduce the expected nulber of case of a defined end point by one.\n",
    "Below, for every 14 patients who receive the treatment you'd expect to prevent a recurrent disease in one; the other 13 would receive no benefit from treatment."
   ],
   "metadata": {}
  },
  {
   "cell_type": "code",
   "execution_count": 9,
   "source": [
    "print(f\"NTT = {1/attributable_risk:.0f}\")"
   ],
   "outputs": [
    {
     "output_type": "stream",
     "name": "stdout",
     "text": [
      "NTT = 14\n"
     ]
    }
   ],
   "metadata": {}
  },
  {
   "cell_type": "markdown",
   "source": [
    "### Relative Risk\n",
    "\n",
    "The **Risk Ratio** or **Relative Risk** is 8.8/1.7 i.e. 5.2. Subjects treated with placebo were 5.2 times as likely as treated patients to have a recurrent disease.\n",
    "When we flip the ratio,  1.7/8.8 = 0.19, patients receiving the drug had 19% the risk of a recurrent disease than did patients receiving placebo. Beware which group is set as 'control' to interpret the RR. Here placebo is considered as 'risk' compared to the treatment with anticoagulant. When the relative risk associated with a factor is less than 1, then the factor is called a _protective factor_. Here the drug lowered the _absolute risk_ by 7.1% and reduced the _relative risk_ by 81%.\n",
    "\n",
    "$$\\text{Risk Ratio} = \\frac{\\text{EE}}{\\text{EE}+\\text{EN}}/\\frac{\\text{CE}}{\\text{CE}+\\text{CN}}$$\n",
    "\n",
    "with\n",
    "\n",
    "| treatment | recurrent | no recurr |\n",
    "| --------- | --------- | --------- |\n",
    "| placebo   |    EE     |    EN     |\n",
    "| Apixaban  |    CE     |    CN     |\n",
    "\n",
    "\n",
    "with Event in Experimental group smaller than Non-Event, same in the Control group."
   ],
   "metadata": {}
  },
  {
   "cell_type": "code",
   "execution_count": 10,
   "source": [
    "rr = (73/829) / (14/840)\r\n",
    "print(f\"Relative Risk = {rr:.3f}\")"
   ],
   "outputs": [
    {
     "output_type": "stream",
     "name": "stdout",
     "text": [
      "Relative Risk = 5.283\n"
     ]
    }
   ],
   "metadata": {}
  },
  {
   "cell_type": "markdown",
   "source": [
    "### Odds Ratio\n",
    "\n",
    "The Risk Ratio (Relative Risk) is different from the Odds Ratio, from which is $\\text{odds} = \\frac{p}{1-p}$:\n",
    "\n",
    "$$\\text{OR} = \\frac{\\text{EE}/\\text{EN}}{\\text{CE}/\\text{CN}}$$"
   ],
   "metadata": {}
  },
  {
   "cell_type": "code",
   "execution_count": 11,
   "source": [
    "print(f\"Odds ratio = {(73/756)/(14/826):.3f}\")"
   ],
   "outputs": [
    {
     "output_type": "stream",
     "name": "stdout",
     "text": [
      "Odds ratio = 5.697\n"
     ]
    }
   ],
   "metadata": {}
  },
  {
   "cell_type": "markdown",
   "source": [
    "## Confidence intervals\n",
    "\n",
    "### 95% CI of the proportions\n",
    "\n",
    "Computing the CI using the modified Wald method by hand as follows:\n",
    "\n",
    "1. $p'=\\frac{s+2}{n+4}$ with $s$ the number of successes and $n$ the number of trials\n",
    "2. The margin of error is: $W=2\\sqrt{\\frac{p'(1-p')}{n+4}}$\n",
    "3. Finally, the 95% CI is from $(p'-W)$ to $(p'+W)$"
   ],
   "metadata": {}
  },
  {
   "cell_type": "code",
   "execution_count": 12,
   "source": [
    "s,n = 73,829\r\n",
    "p = (s+2)/(n+4)\r\n",
    "W = 2 * (p * (1-p) / (n+4))**.5\r\n",
    "print(f\"The 95% CI for the {s}/{n} proprotion, i.e. {100*s/n:.1f}%, is {100*(p-W):.1f}% to {100*(p+W):.1f}% acc. Wald method.\")"
   ],
   "outputs": [
    {
     "output_type": "stream",
     "name": "stdout",
     "text": [
      "The 95% CI for the 73/829 proprotion, i.e. 8.8%, is 7.0% to 11.0% acc. Wald method.\n"
     ]
    }
   ],
   "metadata": {}
  },
  {
   "cell_type": "code",
   "execution_count": 13,
   "source": [
    "s,n = 14,840\r\n",
    "p = (s+2)/(n+4)\r\n",
    "W = 2 * (p * (1-p) / (n+4))**.5\r\n",
    "print(f\"The 95% CI for the {s}/{n} proprotion, i.e. {100*s/n:.1f}%, is {100*(p-W):.1f}% to {100*(p+W):.1f}% acc. Wald method.\")"
   ],
   "outputs": [
    {
     "output_type": "stream",
     "name": "stdout",
     "text": [
      "The 95% CI for the 14/840 proprotion, i.e. 1.7%, is 1.0% to 2.8% acc. Wald method.\n"
     ]
    }
   ],
   "metadata": {}
  },
  {
   "cell_type": "markdown",
   "source": [
    "### 95% CI of the attributable risk\n",
    "\n",
    "With the attributable risk (AR) = p1 - p2, the confidence interval is computing as follows:\n",
    "\n",
    "$$\\text{CI} = \\text{AR} \\pm 1.96 \\times \\sqrt{p \\times (1-p) \\times (1/(\\text{EE}+\\text{EN}) + 1/(\\text{CE}+\\text{CN}))}$$\n",
    "\n",
    "where $p$ the risk, i.e. the number of events (EE) divided by the grand total."
   ],
   "metadata": {}
  },
  {
   "cell_type": "code",
   "execution_count": 14,
   "source": [
    "ar = attributable_risk # as computed earlier\r\n",
    "p = 73 / 1669 # risk is placebo\r\n",
    "factor_ntt = 1.96 * np.sqrt(p * (1-p) * (1/829 + 1/840))\r\n",
    "\r\n",
    "print(f\"CI for the AR {100*attributable_risk:.1f}% extends from {100*(ar - factor_ntt):.1f}% to {100*(ar + factor_ntt):.1f}%\")"
   ],
   "outputs": [
    {
     "output_type": "stream",
     "name": "stdout",
     "text": [
      "CI for the AR 7.1% extends from 5.2% to 9.1%\n"
     ]
    }
   ],
   "metadata": {}
  },
  {
   "cell_type": "markdown",
   "source": [
    "### CI of the NNT\n",
    "\n",
    "The CI of the NNT is obtained by taking the reciprocal of each end of the CI of the AR."
   ],
   "metadata": {}
  },
  {
   "cell_type": "code",
   "execution_count": 15,
   "source": [
    "print(f\"CI for the NTT {1/attributable_risk:.1f} extends from {1/(ar + factor_ntt):.1f} to {1/(ar - factor_ntt):.1f}\")"
   ],
   "outputs": [
    {
     "output_type": "stream",
     "name": "stdout",
     "text": [
      "CI for the NTT 14.1 extends from 11.0 to 19.4\n"
     ]
    }
   ],
   "metadata": {}
  },
  {
   "cell_type": "markdown",
   "source": [
    "### CI of the relative risk\n",
    "\n",
    "We use the following formula:\n",
    "\n",
    "$$\\text{CI} = \\exp(\\ln(\\text{RR}) \\pm Z_{\\alpha/2} \\times \\sqrt{1/\\text{EE} \\times \\frac{\\text{EN}}{\\text{EE}+\\text{EN}} + 1/\\text{CE} \\times \\frac{\\text{CN}}{\\text{CE}+\\text{CN}}})$$\n",
    "\n",
    "For tables with high numnber of events and 95% CI, $Z_{\\alpha/2} \\approx 1.96$"
   ],
   "metadata": {}
  },
  {
   "cell_type": "code",
   "execution_count": 16,
   "source": [
    "conf=0.95\r\n",
    "t = stats.t(df = (73+756+14+826) - 1).ppf((1 + conf) /2)\r\n",
    "factor = t * np.sqrt((1/73 * 756/829) + (1/14 * 826/840))\r\n",
    "ci = round(np.exp(np.log(rr) - factor), 3), round(np.exp(np.log(rr) + factor), 3)\r\n",
    "\r\n",
    "print(f\"CI for the AR {rr:.3f} extends from {ci[0]:.3f} to {ci[1]:.3f}\")"
   ],
   "outputs": [
    {
     "output_type": "stream",
     "name": "stdout",
     "text": [
      "CI for the AR 5.283 extends from 3.005 to 9.288\n"
     ]
    }
   ],
   "metadata": {}
  },
  {
   "cell_type": "markdown",
   "source": [
    "### CI of the odds ratio\n",
    "\n",
    "To calculate the confidence interval, we use the log odds ratio, $ln(\\text{OR})$, and calculate its standard error:\n",
    "$ \\sqrt{\\frac{1}{\\text{EE}} + \\frac{1}{\\text{EN}} + \\frac{1}{\\text{CE}} + \\frac{1}{\\text{CN}}}$;  \n",
    "and then CI = $\\exp(\\ln(OR) \\pm Z_{\\alpha/2}*\\text{SEM}(OR))$"
   ],
   "metadata": {}
  },
  {
   "cell_type": "code",
   "execution_count": 17,
   "source": [
    "conf=0.95\r\n",
    "se_or = (1/73 + 1/756 + 1/14 + 1/826)**.5\r\n",
    "t = stats.t(df = (73+756+14+826) - 1).ppf((1 + conf) /2)\r\n",
    "W = t*se_or\r\n",
    "ci = round(np.exp(np.log(odds_ratio) - W), 3), round(np.exp(np.log(odds_ratio) + W), 3)\r\n",
    "print(ci)"
   ],
   "outputs": [
    {
     "output_type": "stream",
     "name": "stdout",
     "text": [
      "(3.188, 10.183)\n"
     ]
    }
   ],
   "metadata": {}
  },
  {
   "cell_type": "markdown",
   "source": [
    "## statsmodels Table2x2()\n",
    "\n",
    "All the estimates and statistics, including the lower and upper confidence limits of the CIs, can be obtained using the statsmodels Table2x2 method.\n",
    "\n",
    "The p-value is based on a Wald-type z-test for the standard estimate of the log odds ratio. It uses the asymptotic approximation for the standard error. It is a large-sample test. Testing log odds = 0 is the same as testing for independence of rows/columns using the chi^2 test, difference of conditional proportions test, the likelihood rato test, or Fisher's exact test. These tests are all different in finite samples, but asymptotically equivalent."
   ],
   "metadata": {}
  },
  {
   "cell_type": "code",
   "execution_count": 18,
   "source": [
    "import statsmodels.api as sm\r\n",
    "\r\n",
    "table = sm.stats.Table2x2(\r\n",
    "    [\r\n",
    "        [73, 756],\r\n",
    "        [14, 826]\r\n",
    "    ]\r\n",
    ")"
   ],
   "outputs": [],
   "metadata": {}
  },
  {
   "cell_type": "code",
   "execution_count": 19,
   "source": [
    "table.summary(method='normal')"
   ],
   "outputs": [
    {
     "output_type": "execute_result",
     "data": {
      "text/plain": [
       "<class 'statsmodels.iolib.table.SimpleTable'>"
      ],
      "text/html": [
       "<table class=\"simpletable\">\n",
       "<tr>\n",
       "         <td></td>        <th>Estimate</th>  <th>SE</th>    <th>LCB</th>    <th>UCB</th>  <th>p-value</th>\n",
       "</tr>\n",
       "<tr>\n",
       "  <th>Odds ratio</th>        <td>5.697</td>      <td></td> <td>3.189</td> <td>10.178</td>   <td>0.000</td>\n",
       "</tr>\n",
       "<tr>\n",
       "  <th>Log odds ratio</th>    <td>1.740</td> <td>0.296</td> <td>1.160</td>  <td>2.320</td>   <td>0.000</td>\n",
       "</tr>\n",
       "<tr>\n",
       "  <th>Risk ratio</th>        <td>5.283</td>      <td></td> <td>3.007</td>  <td>9.284</td>   <td>0.000</td>\n",
       "</tr>\n",
       "<tr>\n",
       "  <th>Log risk ratio</th>    <td>1.665</td> <td>0.288</td> <td>1.101</td>  <td>2.228</td>   <td>0.000</td>\n",
       "</tr>\n",
       "</table>"
      ]
     },
     "metadata": {},
     "execution_count": 19
    }
   ],
   "metadata": {}
  },
  {
   "cell_type": "markdown",
   "source": [
    "## Chi²\r\n",
    "\r\n",
    "### Comparing observed and expected proportions\r\n",
    "\r\n",
    "We take the example of the Mendel's peas experiment:\r\n",
    "\r\n",
    "| phenotype       | observed number | expected prop | expected number |\r\n",
    "|:--------------- |:---------------:|:-------------:|:---------------:|\r\n",
    "| round,   yellow |       315       |      9/16     |      312.75     |\r\n",
    "| round,   green  |       108       |      3/16     |      104.25     |\r\n",
    "| angular, yellow |       101       |      3/16     |      104.25     |\r\n",
    "| angular, green  |        32       |      1/16     |       34.75     |\r\n",
    "| TOTAL           |       556       |     16/16     |      556.00     |\r\n",
    "\r\n",
    "Is the discrepancy between the observed and expected distributions greater that we would expect to see by chance?\r\n",
    "\r\n",
    "To quantify the discrepancy between the observed and expected distributions, the chi-square test does the following for each category:\r\n",
    "\r\n",
    "$$\\chi^2 = \\sum \\frac{(\\text{observed} - \\text{expected})^2}{\\text{expected}} $$\r\n",
    "\r\n",
    "The P value answers the question\r\n",
    ">if the theory that generated the expected distribution is correct, what is the chance that random sampling would lead to a **deviation from expected as large or larger as that observed** in this experiment?"
   ],
   "metadata": {}
  },
  {
   "cell_type": "code",
   "execution_count": 20,
   "source": [
    "stats.chisquare(f_obs=[315, 108, 101, 32], f_exp=[312.75, 104.25, 104.25, 34.75])"
   ],
   "outputs": [
    {
     "output_type": "execute_result",
     "data": {
      "text/plain": [
       "Power_divergenceResult(statistic=0.4700239808153477, pvalue=0.925425895103616)"
      ]
     },
     "metadata": {},
     "execution_count": 20
    }
   ],
   "metadata": {}
  },
  {
   "cell_type": "markdown",
   "source": [
    "With such a large P value, the deviation from the theory are small and consistent with random variation. The number of degrees of freedom equals the number of categories minus one. This test is based on some approximations.\n",
    "\n",
    "When there are only two categories, the _binomial test_ computes the exact P values without any approximation or worry about the sample size."
   ],
   "metadata": {}
  },
  {
   "cell_type": "code",
   "execution_count": 21,
   "source": [
    "from statsmodels.stats.proportion import proportions_chisquare\r\n",
    "\r\n",
    "count = np.array([73, 14])\r\n",
    "nobs = np.array([829, 840])\r\n",
    "\r\n",
    "# note that in this case (a two sample case with two sided\r\n",
    "# alternative), the test produces the same value as porportions_ztest\r\n",
    "# since the chi-square distribution is the square of a normal distribution\r\n",
    "chisq, pvalue, table = proportions_chisquare(count, nobs)\r\n",
    "print(f\"chisq = {chisq:.2f}, pvalue = {pvalue:.3f}\")"
   ],
   "outputs": [
    {
     "output_type": "stream",
     "name": "stdout",
     "text": [
      "chisq = 43.04, pvalue = 0.000\n"
     ]
    }
   ],
   "metadata": {}
  },
  {
   "cell_type": "markdown",
   "source": [
    "The $\\chi^2$ statistic has an expected distribution that can be used to determine the p-value associated with this statistic. As with the $t$-distribution, the $\\chi^2$-distribution depends on the degrees of freedom. This is calculated by subtracting one from the number of rows and from the number of columns in the contingency table and multiplying them together. In the case below we have 2 rows and 2 columns, which calculates to 1 degrees of freedom. Armed with our $\\chi^2$ statistic and our degrees of freedom, we can now calculate the p-value for the hypothesis test."
   ],
   "metadata": {}
  },
  {
   "cell_type": "code",
   "execution_count": 22,
   "source": [
    "# with low P value we can reject H0 that data follow/are consistent with the theoritical distribution\r\n",
    "chi2, p, dof, expected = stats.chi2_contingency([[73, 756], [14, 826]])\r\n",
    "print(f\"chi² = {chi2:.3f}\")\r\n",
    "print(f\"P value = {p:.5f}\")\r\n",
    "print(f\"with {dof} degrees of freedom\")"
   ],
   "outputs": [
    {
     "output_type": "stream",
     "name": "stdout",
     "text": [
      "chi² = 41.605\n",
      "P value = 0.00000\n",
      "with 1 degrees of freedom\n"
     ]
    }
   ],
   "metadata": {}
  },
  {
   "cell_type": "code",
   "execution_count": 23,
   "source": [
    "expected"
   ],
   "outputs": [
    {
     "output_type": "execute_result",
     "data": {
      "text/plain": [
       "array([[ 43.21330138, 785.78669862],\n",
       "       [ 43.78669862, 796.21330138]])"
      ]
     },
     "metadata": {},
     "execution_count": 23
    }
   ],
   "metadata": {}
  },
  {
   "cell_type": "markdown",
   "source": [
    "The observed values must be an integer, but the expected value, averaged over many experiments, can be a fraction. $\\chi^2$ is the statistic returned by the test."
   ],
   "metadata": {}
  },
  {
   "cell_type": "markdown",
   "source": [
    "## Case-control studies\n",
    "\n",
    "Two groups of subjects:\n",
    "- incident **cases**, with a **disease** or condition\n",
    "- **controls**, selected from the same population that produced the cases\n",
    "\n",
    "For example we can ask whether people with cholera are less likely to have been vaccinated than those who have not gotten cholera. We set the column totals by choosing how many cases and controls top study, and then determined whether each person had been previously vaccinated.\n",
    "\n",
    "| vaccine | cases | controls |\n",
    "| ------- |:-----:|:--------:|\n",
    "| yes     |  10   |    94    |\n",
    "| no      |  33   |    78    |\n",
    "| total   |  43   |   172    |\n",
    "\n",
    "Computing risks and the relative risk directly from a case-control study is invalid because it depends on the total number of controls.\n",
    "\n",
    "Results from a case-control study are summarized as an **odds ratio** which compares the **odds of exposure** (vaccination) in cases and controls. _The odds ratio equals the odds of the cases having been exposed to the possible risk factor, divided by the odds of the controls having been exposed_. Below the odds ratio of 0.25 quantifies the reduced odds of cholera among those who are vaccinated. We can conclude that a vaccinated person has 25% the chance of an unvaccinated person getting disease, or the vaccine is 75% effective in preventing disease.\n",
    "\n",
    "The Odds Ratio from a case-control study is almost always a good estimate of the Relative Risk. The Odds Ratio can be only interpret as Relative Risks when the **disease is rare**. But in fact OR can be interpreted as RR in most but not all case-control studies even those of common diseases."
   ],
   "metadata": {}
  },
  {
   "cell_type": "code",
   "execution_count": 22,
   "source": [
    "print(f\"Odds ratio = {(10/33)/(94/78):.3f}\")"
   ],
   "outputs": [
    {
     "output_type": "stream",
     "name": "stdout",
     "text": [
      "Odds ratio = 0.251\n"
     ]
    }
   ],
   "metadata": {}
  },
  {
   "cell_type": "code",
   "execution_count": 23,
   "source": [
    "sm.stats.Table2x2(\r\n",
    "    [\r\n",
    "        [10, 94],\r\n",
    "        [33, 78]\r\n",
    "    ]\r\n",
    ").summary(method='normal')"
   ],
   "outputs": [
    {
     "output_type": "execute_result",
     "data": {
      "text/plain": [
       "<class 'statsmodels.iolib.table.SimpleTable'>"
      ],
      "text/html": [
       "<table class=\"simpletable\">\n",
       "<tr>\n",
       "         <td></td>        <th>Estimate</th>  <th>SE</th>     <th>LCB</th>    <th>UCB</th>  <th>p-value</th>\n",
       "</tr>\n",
       "<tr>\n",
       "  <th>Odds ratio</th>        <td>0.251</td>      <td></td>  <td>0.117</td>  <td>0.542</td>   <td>0.000</td>\n",
       "</tr>\n",
       "<tr>\n",
       "  <th>Log odds ratio</th>   <td>-1.381</td> <td>0.392</td> <td>-2.149</td> <td>-0.612</td>   <td>0.000</td>\n",
       "</tr>\n",
       "<tr>\n",
       "  <th>Risk ratio</th>        <td>0.323</td>      <td></td>  <td>0.168</td>  <td>0.623</td>   <td>0.001</td>\n",
       "</tr>\n",
       "<tr>\n",
       "  <th>Log risk ratio</th>   <td>-1.129</td> <td>0.334</td> <td>-1.784</td> <td>-0.474</td>   <td>0.001</td>\n",
       "</tr>\n",
       "</table>"
      ]
     },
     "metadata": {},
     "execution_count": 23
    }
   ],
   "metadata": {}
  },
  {
   "cell_type": "markdown",
   "source": [
    "### Another example"
   ],
   "metadata": {}
  },
  {
   "cell_type": "code",
   "execution_count": 24,
   "source": [
    "sm.stats.Table2x2(\r\n",
    "    [\r\n",
    "        [  25,   213],\r\n",
    "        [1935, 19216]\r\n",
    "    ]\r\n",
    ").summary(method='normal')"
   ],
   "outputs": [
    {
     "output_type": "execute_result",
     "data": {
      "text/plain": [
       "<class 'statsmodels.iolib.table.SimpleTable'>"
      ],
      "text/html": [
       "<table class=\"simpletable\">\n",
       "<tr>\n",
       "         <td></td>        <th>Estimate</th>  <th>SE</th>     <th>LCB</th>   <th>UCB</th>  <th>p-value</th>\n",
       "</tr>\n",
       "<tr>\n",
       "  <th>Odds ratio</th>        <td>1.166</td>      <td></td>  <td>0.768</td> <td>1.769</td>   <td>0.471</td>\n",
       "</tr>\n",
       "<tr>\n",
       "  <th>Log odds ratio</th>    <td>0.153</td> <td>0.213</td> <td>-0.264</td> <td>0.570</td>   <td>0.471</td>\n",
       "</tr>\n",
       "<tr>\n",
       "  <th>Risk ratio</th>        <td>1.148</td>      <td></td>  <td>0.791</td> <td>1.668</td>   <td>0.468</td>\n",
       "</tr>\n",
       "<tr>\n",
       "  <th>Log risk ratio</th>    <td>0.138</td> <td>0.190</td> <td>-0.235</td> <td>0.511</td>   <td>0.468</td>\n",
       "</tr>\n",
       "</table>"
      ]
     },
     "metadata": {},
     "execution_count": 24
    }
   ],
   "metadata": {}
  },
  {
   "cell_type": "markdown",
   "source": [
    "In the example above, the CI contains 1.0, so we conclude that there is no evidence of an association between the treatment and the outcome (cases)"
   ],
   "metadata": {}
  }
 ],
 "metadata": {
  "kernelspec": {
   "name": "python3",
   "display_name": "Python 3.9.6 64-bit (system)"
  },
  "language_info": {
   "codemirror_mode": {
    "name": "ipython",
    "version": 3
   },
   "file_extension": ".py",
   "mimetype": "text/x-python",
   "name": "python",
   "nbconvert_exporter": "python",
   "pygments_lexer": "ipython3",
   "version": "3.9.6"
  },
  "interpreter": {
   "hash": "b51595f36012c8da2bf2284ebbd8d377d5c2d31fa7484164f2d2bcda7a09b462"
  }
 },
 "nbformat": 4,
 "nbformat_minor": 2
}