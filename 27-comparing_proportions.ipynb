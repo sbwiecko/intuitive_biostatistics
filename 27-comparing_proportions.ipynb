{
 "cells": [
  {
   "cell_type": "markdown",
   "metadata": {},
   "source": [
    "# case study (see page 264)"
   ]
  },
  {
   "cell_type": "code",
   "execution_count": 7,
   "metadata": {},
   "outputs": [],
   "source": [
    "import numpy as np\n",
    "from scipy import stats"
   ]
  },
  {
   "cell_type": "code",
   "execution_count": 2,
   "metadata": {},
   "outputs": [],
   "source": [
    "table = np.array([[73, 756], [14, 826]])\n",
    "# contingency table (rows = alternative treatments, cols = alternative outcomes)"
   ]
  },
  {
   "cell_type": "code",
   "execution_count": 3,
   "metadata": {},
   "outputs": [
    {
     "data": {
      "text/plain": [
       "array([[ 73, 756],\n",
       "       [ 14, 826]])"
      ]
     },
     "execution_count": 3,
     "metadata": {},
     "output_type": "execute_result"
    }
   ],
   "source": [
    "table"
   ]
  },
  {
   "cell_type": "markdown",
   "metadata": {},
   "source": [
    "##  Fisher's test"
   ]
  },
  {
   "cell_type": "code",
   "execution_count": 9,
   "metadata": {},
   "outputs": [],
   "source": [
    "# (use chi-square for large sample sizes or more oucomes)\n",
    "odds_ratio, p_value = stats.fisher_exact(table)"
   ]
  },
  {
   "cell_type": "code",
   "execution_count": 6,
   "metadata": {},
   "outputs": [
    {
     "name": "stdout",
     "output_type": "stream",
     "text": [
      "5.697089947089947\n",
      "1.3340996598862038e-11\n"
     ]
    }
   ],
   "source": [
    "print(odds_ratio)\n",
    "print(p_value)"
   ]
  },
  {
   "cell_type": "markdown",
   "metadata": {},
   "source": [
    "## confidence interval"
   ]
  },
  {
   "cell_type": "markdown",
   "metadata": {},
   "source": [
    "To calculate the confidence interval, we use the log odds ratio, log(or) = log(a*d/b*c), and calculate its standard error:\n",
    "$ \\sqrt{1/n_{00} + 1/n_{01} + 1/n_{10} + 1/n_{11}}$;  \n",
    "and then ci = $\\exp{\\log(OR) \\pm Z\\alpha/2*\\log(OR)}$"
   ]
  },
  {
   "cell_type": "code",
   "execution_count": 34,
   "metadata": {},
   "outputs": [
    {
     "name": "stdout",
     "output_type": "stream",
     "text": [
      "(3.1875006695657295, 10.182533975641583)\n"
     ]
    }
   ],
   "source": [
    "conf=0.95\n",
    "se_or = (1/73 + 1/756 + 1/14 + 1/826)**.5\n",
    "t = stats.t(df = (73+756+14+826) - 1).ppf((1 + conf) /2)\n",
    "W = t*se_or\n",
    "ci = np.exp(np.log(odds_ratio) - W), np.exp(np.log(odds_ratio) + W)\n",
    "print(ci)"
   ]
  },
  {
   "cell_type": "markdown",
   "metadata": {},
   "source": [
    "## statsmodels Table()"
   ]
  },
  {
   "cell_type": "code",
   "execution_count": 12,
   "metadata": {},
   "outputs": [],
   "source": [
    "import statsmodels.api as sm"
   ]
  },
  {
   "cell_type": "code",
   "execution_count": 36,
   "metadata": {},
   "outputs": [],
   "source": [
    "table = sm.stats.Table2x2(np.array([[73, 756], [14, 826]]))"
   ]
  },
  {
   "cell_type": "code",
   "execution_count": 37,
   "metadata": {},
   "outputs": [
    {
     "data": {
      "text/html": [
       "<table class=\"simpletable\">\n",
       "<tr>\n",
       "         <td></td>        <th>Estimate</th>  <th>SE</th>    <th>LCB</th>    <th>UCB</th>  <th>p-value</th>\n",
       "</tr>\n",
       "<tr>\n",
       "  <th>Odds ratio</th>        <td>5.697</td>      <td></td> <td>3.189</td> <td>10.178</td>   <td>0.000</td>\n",
       "</tr>\n",
       "<tr>\n",
       "  <th>Log odds ratio</th>    <td>1.740</td> <td>0.296</td> <td>1.160</td>  <td>2.320</td>   <td>0.000</td>\n",
       "</tr>\n",
       "<tr>\n",
       "  <th>Risk ratio</th>        <td>5.283</td>      <td></td> <td>3.007</td>  <td>9.284</td>   <td>0.000</td>\n",
       "</tr>\n",
       "<tr>\n",
       "  <th>Log risk ratio</th>    <td>1.665</td> <td>0.288</td> <td>1.101</td>  <td>2.228</td>   <td>0.000</td>\n",
       "</tr>\n",
       "</table>"
      ],
      "text/plain": [
       "<class 'statsmodels.iolib.table.SimpleTable'>"
      ]
     },
     "execution_count": 37,
     "metadata": {},
     "output_type": "execute_result"
    }
   ],
   "source": [
    "table.summary(method='normal')"
   ]
  },
  {
   "cell_type": "markdown",
   "metadata": {},
   "source": [
    "Risk ratio (relative risk) = $\\frac{\\frac{EE}{EE+EN}}{\\frac{CE}{CE+CN}}$, is different from odds_ratio (used for case studies with Event in Experimental group smaller than Non-Event, \n",
    "same in the control group: odds_ratio = $ \\frac{EE.CN}{EN.CE}$"
   ]
  },
  {
   "cell_type": "code",
   "execution_count": 9,
   "metadata": {},
   "outputs": [],
   "source": [
    "risk_ratio = (73/(73+756)) / (14/(14+826))"
   ]
  },
  {
   "cell_type": "markdown",
   "metadata": {},
   "source": [
    "subjects treated with placebo 5.2 times more likely than with apixaban to have recurrent thromboembolism."
   ]
  },
  {
   "cell_type": "code",
   "execution_count": 13,
   "metadata": {},
   "outputs": [
    {
     "name": "stdout",
     "output_type": "stream",
     "text": [
      "(0.07041488462935341, 0.10961261456629558)\n",
      "(0.009701518613066794, 0.027789354812008435)\n"
     ]
    }
   ],
   "source": [
    "from statsmodels.stats import proportion\n",
    "print(proportion.proportion_confint(73, 73+756, method='binom_test'))\n",
    "print(proportion.proportion_confint(14, 14+826, method='binom_test'))"
   ]
  },
  {
   "cell_type": "code",
   "execution_count": 15,
   "metadata": {},
   "outputs": [
    {
     "name": "stdout",
     "output_type": "stream",
     "text": [
      "0.8107305936073059\n"
     ]
    }
   ],
   "source": [
    "reduc_relativ_risk = 1 - 1/risk_ratio\n",
    "print(reduc_relativ_risk)"
   ]
  },
  {
   "cell_type": "markdown",
   "metadata": {},
   "source": [
    "drug reduced the relative risk by 81% (from 8.8% to 1.7%)"
   ]
  },
  {
   "cell_type": "code",
   "execution_count": 16,
   "metadata": {},
   "outputs": [
    {
     "name": "stdout",
     "output_type": "stream",
     "text": [
      "0.0713912344189787\n"
     ]
    }
   ],
   "source": [
    "# attribuable risk = difference between the two proportions\n",
    "diff_frac = 73/(73+756) - 14/(14+826)\n",
    "print(diff_frac)\n",
    "# drug lowers the absolute risk by 7.1%"
   ]
  },
  {
   "cell_type": "code",
   "execution_count": 18,
   "metadata": {},
   "outputs": [
    {
     "name": "stdout",
     "output_type": "stream",
     "text": [
      "[0.05931696 0.08388256]\n"
     ]
    }
   ],
   "source": [
    "bootstrap_diff_frac = [np.mean(np.random.binomial(1, 73/(73+756) - 14/(14+826), 1669)) for _ in range(10000)]\n",
    "ci_diff_frac = np.percentile(bootstrap_diff_frac, [2.5, 97.5])\n",
    "print(ci_diff_frac)"
   ]
  },
  {
   "cell_type": "code",
   "execution_count": 20,
   "metadata": {},
   "outputs": [
    {
     "name": "stdout",
     "output_type": "stream",
     "text": [
      "[11.92142857 16.85858586]\n"
     ]
    }
   ],
   "source": [
    "# NNT = number needed to treat\n",
    "# how many patients'd require treatment to reduce the expected number of cases by one\n",
    "nnt = 1/diff_frac\n",
    "ci_nnt = np.flip(1/ci_diff_frac) # tuple flipped\n",
    "print(ci_nnt)"
   ]
  },
  {
   "cell_type": "markdown",
   "metadata": {},
   "source": [
    "## Chi²"
   ]
  },
  {
   "cell_type": "code",
   "execution_count": 8,
   "metadata": {},
   "outputs": [
    {
     "name": "stdout",
     "output_type": "stream",
     "text": [
      "41.605457103156986\n",
      "1.1168109964257731e-10\n"
     ]
    }
   ],
   "source": [
    "# with low we reject H0 that data follow the theoritical distribution\n",
    "chi2, p, dof, expected = stats.chi2_contingency([[73, 756], [14, 826]])\n",
    "print(chi2)\n",
    "print(p)"
   ]
  },
  {
   "cell_type": "code",
   "execution_count": 11,
   "metadata": {},
   "outputs": [
    {
     "data": {
      "text/plain": [
       "Power_divergenceResult(statistic=0.4700239808153477, pvalue=0.925425895103616)"
      ]
     },
     "execution_count": 11,
     "metadata": {},
     "output_type": "execute_result"
    }
   ],
   "source": [
    "# for the Mendel's peas experiment\n",
    "stats.chisquare(f_obs=[315, 108, 101, 32], f_exp=[312.75, 104.25, 104.25,34.75])"
   ]
  }
 ],
 "metadata": {
  "kernelspec": {
   "display_name": "Python 3",
   "language": "python",
   "name": "python3"
  },
  "language_info": {
   "codemirror_mode": {
    "name": "ipython",
    "version": 3
   },
   "file_extension": ".py",
   "mimetype": "text/x-python",
   "name": "python",
   "nbconvert_exporter": "python",
   "pygments_lexer": "ipython3",
   "version": "3.7.1"
  }
 },
 "nbformat": 4,
 "nbformat_minor": 2
}
