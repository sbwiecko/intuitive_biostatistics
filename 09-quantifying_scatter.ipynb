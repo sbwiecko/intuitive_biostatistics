{
 "metadata": {
  "language_info": {
   "codemirror_mode": {
    "name": "ipython",
    "version": 3
   },
   "file_extension": ".py",
   "mimetype": "text/x-python",
   "name": "python",
   "nbconvert_exporter": "python",
   "pygments_lexer": "ipython3",
   "version": "3.9.5"
  },
  "orig_nbformat": 4,
  "kernelspec": {
   "name": "python3",
   "display_name": "Python 3.9.5 64-bit"
  },
  "interpreter": {
   "hash": "b51595f36012c8da2bf2284ebbd8d377d5c2d31fa7484164f2d2bcda7a09b462"
  }
 },
 "nbformat": 4,
 "nbformat_minor": 2,
 "cells": [
  {
   "source": [
    "# Quantifying scatter"
   ],
   "cell_type": "markdown",
   "metadata": {}
  },
  {
   "cell_type": "code",
   "execution_count": 1,
   "metadata": {},
   "outputs": [],
   "source": [
    "import numpy as np\n",
    "\n",
    "data = np.array([64.7, 65.4, 88.3, 64, 71.9])\n",
    "#np.concatenate(array_1, array_2, array_3)"
   ]
  },
  {
   "cell_type": "code",
   "execution_count": 3,
   "metadata": {},
   "outputs": [
    {
     "output_type": "stream",
     "name": "stdout",
     "text": [
      "The mean of the dataset is 70.86 and its standard deviation 10.25\n"
     ]
    }
   ],
   "source": [
    "print(f\"The mean of the dataset is {np.mean(data):.2f} and its standard deviation {np.std(data, ddof=1):.2f}\")\n",
    "# by default ddof=0 with np.std()"
   ]
  },
  {
   "source": [
    "The standard deviation accounts for the variation among the values, with an estimation of the spread of the distribution:\n",
    "$$\\text{SD}=\\sqrt{\\frac{\\sum(Y_i - \\bar{Y})^2}{n-1}}$$\n",
    "\n",
    "We can interpret the SD from the 3-$\\sigma$ rule of thumb: about 2/3 of the observations in a population usually lie within the rande defined by the mean minus 1 SD to the mean plus 1 SD. So that we have the follwing intervals:\n",
    "* \\[-1 SD; 1 SD\\] = 68%\n",
    "* \\[-2 SD; 2 SD\\] = 95%\n",
    "* \\[-3 SD; 3 SD\\] = 99.7%"
   ],
   "cell_type": "markdown",
   "metadata": {}
  },
  {
   "cell_type": "code",
   "execution_count": 4,
   "metadata": {},
   "outputs": [
    {
     "output_type": "execute_result",
     "data": {
      "text/plain": [
       "array([64.7, 71.9])"
      ]
     },
     "metadata": {},
     "execution_count": 4
    }
   ],
   "source": [
    "np.percentile(data, q=[25, 75])"
   ]
  },
  {
   "cell_type": "code",
   "execution_count": 18,
   "metadata": {},
   "outputs": [
    {
     "output_type": "execute_result",
     "data": {
      "text/plain": [
       "105.01299999999995"
      ]
     },
     "metadata": {},
     "execution_count": 18
    }
   ],
   "source": [
    "np.var(data, ddof=1)"
   ]
  },
  {
   "source": [
    "## More statistics using scipy.stats"
   ],
   "cell_type": "markdown",
   "metadata": {}
  },
  {
   "cell_type": "code",
   "execution_count": 10,
   "metadata": {},
   "outputs": [],
   "source": [
    "from scipy import stats"
   ]
  },
  {
   "source": [
    "### IQR"
   ],
   "cell_type": "markdown",
   "metadata": {}
  },
  {
   "cell_type": "code",
   "execution_count": 11,
   "metadata": {},
   "outputs": [
    {
     "output_type": "execute_result",
     "data": {
      "text/plain": [
       "7.200000000000003"
      ]
     },
     "metadata": {},
     "execution_count": 11
    }
   ],
   "source": [
    "stats.iqr(data)"
   ]
  },
  {
   "source": [
    "### descriptive summary"
   ],
   "cell_type": "markdown",
   "metadata": {}
  },
  {
   "cell_type": "code",
   "execution_count": 8,
   "metadata": {},
   "outputs": [
    {
     "output_type": "execute_result",
     "data": {
      "text/plain": [
       "DescribeResult(nobs=5, minmax=(64.0, 88.3), mean=70.86000000000001, variance=105.01299999999995, skewness=1.1912013156755001, kurtosis=-0.24972334599204293)"
      ]
     },
     "metadata": {},
     "execution_count": 8
    }
   ],
   "source": [
    "stats.describe(data) # ->nobs, minmax, mean, variance, skewness, kurtosis"
   ]
  },
  {
   "source": [
    "### SEM\n",
    "\n",
    "SEM quantifies how precisely we know the population mean, with the SEM from one sample the best estimate of what SD among sample means would be if we collected an infinite number of samples of a defined size (think about W = t * SEM)\n",
    "\n",
    "$$SEM=\\frac{SD}{\\sqrt{n}}$$"
   ],
   "cell_type": "markdown",
   "metadata": {}
  },
  {
   "cell_type": "code",
   "execution_count": 9,
   "metadata": {},
   "outputs": [
    {
     "output_type": "execute_result",
     "data": {
      "text/plain": [
       "4.582859369433017"
      ]
     },
     "metadata": {},
     "execution_count": 9
    }
   ],
   "source": [
    "stats.sem(data) # standard error of the mean, i.e. SEM = SD / sqrt(n)"
   ]
  },
  {
   "source": [
    "### Z-score\n",
    "\n",
    "Or how many SD distant from the mean; we considere an outlier data point with a |Z| > 3."
   ],
   "cell_type": "markdown",
   "metadata": {}
  },
  {
   "cell_type": "code",
   "execution_count": 12,
   "metadata": {},
   "outputs": [
    {
     "output_type": "execute_result",
     "data": {
      "text/plain": [
       "array([-0.6720695 , -0.59569796,  1.90274222, -0.74844103,  0.11346628])"
      ]
     },
     "metadata": {},
     "execution_count": 12
    }
   ],
   "source": [
    "stats.zscore(data, ddof=0)"
   ]
  },
  {
   "source": [
    "### Coefficient of variation (CV)\n",
    "\n",
    "CV equals the SD divided by the mean; if CV = 0.25, we know that the SD is 25% of the mean (a measure of variability)."
   ],
   "cell_type": "markdown",
   "metadata": {}
  },
  {
   "cell_type": "code",
   "execution_count": 13,
   "metadata": {},
   "outputs": [
    {
     "output_type": "execute_result",
     "data": {
      "text/plain": [
       "0.1293496858434382"
      ]
     },
     "metadata": {},
     "execution_count": 13
    }
   ],
   "source": [
    "stats.variation(data)"
   ]
  },
  {
   "source": [
    "### Geometric mean and standard deviation"
   ],
   "cell_type": "markdown",
   "metadata": {}
  },
  {
   "cell_type": "code",
   "execution_count": 16,
   "metadata": {},
   "outputs": [
    {
     "output_type": "execute_result",
     "data": {
      "text/plain": [
       "85.57807971033304"
      ]
     },
     "metadata": {},
     "execution_count": 16
    }
   ],
   "source": [
    "stats.gmean(array) # geometric mean, same as\n",
    "10**np.mean(np.log10(array))"
   ]
  },
  {
   "cell_type": "code",
   "execution_count": 19,
   "metadata": {},
   "outputs": [
    {
     "output_type": "execute_result",
     "data": {
      "text/plain": [
       "1.1038273439921256"
      ]
     },
     "metadata": {},
     "execution_count": 19
    }
   ],
   "source": [
    "10**np.std(np.log10(array)) # gives the GSD (no unit)"
   ]
  },
  {
   "source": [
    "The result is GM*/GSD, i.e. 2/3 of the values in this distribution are within GM/GSD and GM*GSD.\n",
    "\n",
    "The log of the product of 2 values equals the sum of the log of the 1st value + the log of the 2nd value; log converts multiplicative scatter (lognormal dist) to additive scatter (Gaussian). Lognormal dist are common, e.g. potentcy of drug (EC50, IC50, Km, Ki etc.), blood serum concentrations of many natural or toxic compounds etc."
   ],
   "cell_type": "markdown",
   "metadata": {}
  },
  {
   "source": [
    "### Weighted statistics"
   ],
   "cell_type": "markdown",
   "metadata": {}
  },
  {
   "cell_type": "code",
   "execution_count": 15,
   "metadata": {},
   "outputs": [
    {
     "output_type": "stream",
     "name": "stdout",
     "text": [
      "86.25\ninf\ninf\n"
     ]
    }
   ],
   "source": [
    "from statsmodels.stats.weightstats import DescrStatsW\n",
    "\n",
    "array = [90, 80, 75, 100, 85]\n",
    "weights=[.3, .2,.15, .15, .2]\n",
    "\n",
    "weighted_stats = DescrStatsW(array, weights=weights, ddof=1)\n",
    "print(weighted_stats.mean, weighted_stats.std, weighted_stats.var, sep='\\n')"
   ]
  }
 ]
}