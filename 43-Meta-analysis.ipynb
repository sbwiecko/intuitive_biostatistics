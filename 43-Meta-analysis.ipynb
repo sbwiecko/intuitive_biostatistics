{
 "cells": [
  {
   "cell_type": "markdown",
   "source": [
    "# Meta-analysis\r\n",
    "\r\n",
    "Meta-analysis is used to combine evidence from multiple studies, usually clinical trials testing the effectiveness of therapies or tests. The pooled evidence from multiple studies can give much more precise and reliable answers than any single study can. Although many researchers are convinced that meta-analyses are hugely important and helpful, others doubt that meta-analysis can consistently overcome the huge challenges and produce consistently useful results:\r\n",
    "\r\n",
    "- inconsistent criteria to define a disease => define which patients are included\r\n",
    "- different outcome variables => define which outcomes are included\r\n",
    "- unpublished studies/publication bias => seek unpublished data, review registries of study protocols\r\n",
    "- some studies are of higher quality than others => define what makes a study of high enough quality to be included\r\n",
    "- different languages => arrange for translation\r\n",
    "- not enough information to perform a proper analysis => estimate data from figures, obtain unpublished details from investigators\r\n",
    "- published data may be internally inconsistent => resolve inconsistencies without bias, request details from investigators\r\n",
    "- data from some patients may be included in multiple publications, redundant analyses => ask investigators to clarify which patients were included in more than one publication\r\n",
    "\r\n",
    "A meta-analysis pools weighted effect sizes, it calculates a pooled P value from the pooled effect size.\r\n",
    "\r\n",
    "Meta-analyses don't have to be huge, it can be helpful to combine the results from as few as two studies.\r\n",
    "\r\n",
    "## Assumptions of meta-analysis\r\n",
    "\r\n",
    "There are two general methods that are used, each of which is based on different assumptions:\r\n",
    "\r\n",
    "- _fixed effects_: this model assumes that all the subjects in all the studies were really sampled from one large population. Thus, all teh studies are estimating the same effect, and the only difference between studies is due to random selection of subjects.\r\n",
    "- _random effects_: this model assumes that each study population is unique. The difference among study results is due both to differences between the populations and to random selection of subjects. This model is more realistic and is used more frequently."
   ],
   "metadata": {}
  },
  {
   "cell_type": "code",
   "execution_count": 1,
   "source": [
    "# We use the data extracted from Figure 43.1 on page 455\r\n",
    "import numpy as np\r\n",
    "import pandas as pd\r\n",
    "import matplotlib.pyplot as plt\r\n",
    "import seaborn as sns"
   ],
   "outputs": [],
   "metadata": {}
  },
  {
   "cell_type": "code",
   "execution_count": 2,
   "source": [
    "mean = np.array([2.5, 1.4, 1.1, 1.2,  .8,  .8, 1.1, np.NaN, 1.2])\r\n",
    "lower= np.array([1.8,  .8,  .8,  .8,  .5,  .4,  .6, np.NaN,  .9])\r\n",
    "upper= np.array([4.4, 2.2, 1.8, 1.9, 1.4, 1.6, 2,   np.NaN, 1.4])\r\n",
    "W = (upper-lower)/2"
   ],
   "outputs": [],
   "metadata": {}
  },
  {
   "cell_type": "code",
   "execution_count": 26,
   "source": [
    "plt.figure(figsize=(4,5))\r\n",
    "plt.errorbar(\r\n",
    "    x=np.flip(mean),\r\n",
    "    y=np.arange(len(mean)),\r\n",
    "    xerr=np.flip(W),\r\n",
    "    fmt='o',\r\n",
    "    ms=8,\r\n",
    "    ecolor=['red']+['blue']*8,\r\n",
    "    elinewidth=3,\r\n",
    ")\r\n",
    "\r\n",
    "plt.xlabel(\"Odds ratio (with 95% CI)\")\r\n",
    "plt.xticks([0.5, 1, 2, 4.0])\r\n",
    "plt.ylabel(\"Trial ID\")\r\n",
    "plt.yticks(\r\n",
    "    list(range(0,9)),\r\n",
    "    ['Total', '', '49', '45', '50', '47', '46', '15', '14'])\r\n",
    "plt.axvline(x=1, color='red', linestyle='--')\r\n",
    "sns.despine();"
   ],
   "outputs": [
    {
     "output_type": "display_data",
     "data": {
      "image/png": "[encoded data removed]",
      "text/plain": [
       "<Figure size 288x360 with 1 Axes>"
      ]
     },
     "metadata": {
      "needs_background": "light"
     }
    }
   ],
   "metadata": {}
  },
  {
   "cell_type": "markdown",
   "source": [
    "## Results from a meta-analysis\r\n",
    "\r\n",
    "Part of a meta-analysis is a narrative report that summarizes the studies that have been done and evaluates their strengths and weaknesses. The rest of a meta-analysis is quantitative. The results of each study are summarized by one value, called the **effect size**, along with its CI. The effect size is usually a relative risk or odds ratio, but it could also be some other measure of treatment effect. Combining all the studies, the meta-analysis computes the pooled treatment effect, its CI and a pooled P value.\r\n",
    "\r\n",
    "The results for the individual studies and the pooled results are plotted on a **forest plot** or **blobbogram**.\r\n",
    "\r\n",
    "In the example above, the forest plot shows the results from 7 studies of the effectiveness of a drug, the horizontal axis is the odds ratio, a value of 1.0 means no effect; a value greater than 1.0 means the drug works better than placebo. The top 7 lines are results of individual studies. For each study, the plot shows the odds ratio and 95% confidence interval. At the very bottom, the graph shows the total (pooled) effect computed from all studies, also shown as an odds ratio with its 95% CI.\r\n",
    "\r\n",
    "In 6 of the 7 studies, the 95% CI includes 1.0. With 95% confidence, you cannot conclude from these six studies that the treatment works better than placebo. In only 1 of the studies, does the 95% CI not include 1.0. The data from this study, but not the others, would lead you to conclude with 95% confidence that the treatment worked better than placebo. The bottom part of the graph shows the total (pooled) effect as computed by the meta-analysis. The 95% CI ranges from 0.98 to 1.56, so the P value must be greater than 0.05. The overall odds ratio is 1.24. That is a small effect, but not a tiny one. The 95% CI includes 1.0 (no effect), but just barely."
   ],
   "metadata": {}
  },
  {
   "cell_type": "markdown",
   "source": [
    "## Implementation in Python\r\n",
    "\r\n",
    "Statsmodels include basic methods for [meta-analysis](https://www.statsmodels.org/stable/examples/notebooks/generated/metaanalysis1.html). The support for meta-analysis has 3 parts:\r\n",
    "\r\n",
    "- effect size functions: this currently includes `effectsize_smd` computes effect size and their standard errors for standardized mean difference, `effectsize_2proportions` computes effect sizes for comparing two independent proportions using risk difference, (log) risk ratio, (log) odds-ratio or arcsine square root transformation\r\n",
    "- The `combine_effects` computes **fixed and random effects estimate** for the overall mean or effect. The returned results instance includes a forest plot function.\r\n",
    "- helper functions to estimate the random effect variance, tau-squared"
   ],
   "metadata": {}
  },
  {
   "cell_type": "code",
   "execution_count": 64,
   "source": [
    "from statsmodels.stats.meta_analysis import (\r\n",
    "    effectsize_smd,\r\n",
    "    effectsize_2proportions,\r\n",
    "    combine_effects,\r\n",
    ")"
   ],
   "outputs": [],
   "metadata": {}
  },
  {
   "cell_type": "code",
   "execution_count": 78,
   "source": [
    "data = [\r\n",
    "    [\"Carroll\", 94, 22, 60, 92, 20, 60],\r\n",
    "    [\"Grant\", 98, 21, 65, 92, 22, 65],\r\n",
    "    [\"Peck\", 98, 28, 40, 88, 26, 40],\r\n",
    "    [\"Donat\", 94, 19, 200, 82, 17, 200],\r\n",
    "    [\"Stewart\", 98, 21, 50, 88, 22, 45],\r\n",
    "    [\"Young\", 96, 21, 85, 92, 22, 85],\r\n",
    "]\r\n",
    "colnames = [\"study\", \"mean_t\", \"sd_t\", \"n_t\", \"mean_c\", \"sd_c\", \"n_c\"]\r\n",
    "dframe1 = pd.DataFrame(data[1:], columns=colnames).set_index('study')\r\n",
    "\r\n",
    "mean2, sd2, nobs2, mean1, sd1, nobs1 = np.asarray(\r\n",
    "    dframe1\r\n",
    ").T"
   ],
   "outputs": [],
   "metadata": {}
  },
  {
   "cell_type": "code",
   "execution_count": 79,
   "source": [
    "dframe1"
   ],
   "outputs": [
    {
     "output_type": "execute_result",
     "data": {
      "text/html": [
       "<div>\n",
       "<style scoped>\n",
       "    .dataframe tbody tr th:only-of-type {\n",
       "        vertical-align: middle;\n",
       "    }\n",
       "\n",
       "    .dataframe tbody tr th {\n",
       "        vertical-align: top;\n",
       "    }\n",
       "\n",
       "    .dataframe thead th {\n",
       "        text-align: right;\n",
       "    }\n",
       "</style>\n",
       "<table border=\"1\" class=\"dataframe\">\n",
       "  <thead>\n",
       "    <tr style=\"text-align: right;\">\n",
       "      <th></th>\n",
       "      <th>mean_t</th>\n",
       "      <th>sd_t</th>\n",
       "      <th>n_t</th>\n",
       "      <th>mean_c</th>\n",
       "      <th>sd_c</th>\n",
       "      <th>n_c</th>\n",
       "    </tr>\n",
       "    <tr>\n",
       "      <th>study</th>\n",
       "      <th></th>\n",
       "      <th></th>\n",
       "      <th></th>\n",
       "      <th></th>\n",
       "      <th></th>\n",
       "      <th></th>\n",
       "    </tr>\n",
       "  </thead>\n",
       "  <tbody>\n",
       "    <tr>\n",
       "      <th>Grant</th>\n",
       "      <td>98</td>\n",
       "      <td>21</td>\n",
       "      <td>65</td>\n",
       "      <td>92</td>\n",
       "      <td>22</td>\n",
       "      <td>65</td>\n",
       "    </tr>\n",
       "    <tr>\n",
       "      <th>Peck</th>\n",
       "      <td>98</td>\n",
       "      <td>28</td>\n",
       "      <td>40</td>\n",
       "      <td>88</td>\n",
       "      <td>26</td>\n",
       "      <td>40</td>\n",
       "    </tr>\n",
       "    <tr>\n",
       "      <th>Donat</th>\n",
       "      <td>94</td>\n",
       "      <td>19</td>\n",
       "      <td>200</td>\n",
       "      <td>82</td>\n",
       "      <td>17</td>\n",
       "      <td>200</td>\n",
       "    </tr>\n",
       "    <tr>\n",
       "      <th>Stewart</th>\n",
       "      <td>98</td>\n",
       "      <td>21</td>\n",
       "      <td>50</td>\n",
       "      <td>88</td>\n",
       "      <td>22</td>\n",
       "      <td>45</td>\n",
       "    </tr>\n",
       "    <tr>\n",
       "      <th>Young</th>\n",
       "      <td>96</td>\n",
       "      <td>21</td>\n",
       "      <td>85</td>\n",
       "      <td>92</td>\n",
       "      <td>22</td>\n",
       "      <td>85</td>\n",
       "    </tr>\n",
       "  </tbody>\n",
       "</table>\n",
       "</div>"
      ],
      "text/plain": [
       "         mean_t  sd_t  n_t  mean_c  sd_c  n_c\n",
       "study                                        \n",
       "Grant        98    21   65      92    22   65\n",
       "Peck         98    28   40      88    26   40\n",
       "Donat        94    19  200      82    17  200\n",
       "Stewart      98    21   50      88    22   45\n",
       "Young        96    21   85      92    22   85"
      ]
     },
     "metadata": {},
     "execution_count": 79
    }
   ],
   "metadata": {}
  },
  {
   "cell_type": "code",
   "execution_count": 91,
   "source": [
    "# estimate effect size standardized mean difference\r\n",
    "eff1, var_eff1 = effectsize_smd(mean2, sd2, nobs2, mean1, sd1, nobs1)"
   ],
   "outputs": [],
   "metadata": {}
  },
  {
   "cell_type": "code",
   "execution_count": 92,
   "source": [
    "#Uone-step chi2, DerSimonian-Laird estimate for random effects variance tau\r\n",
    "res1 = combine_effects(eff1, var_eff1, method_re=\"chi2\", use_t=True, row_names=dframe1.index)"
   ],
   "outputs": [],
   "metadata": {}
  },
  {
   "cell_type": "code",
   "execution_count": 93,
   "source": [
    "print(res1.summary_frame())"
   ],
   "outputs": [
    {
     "output_type": "stream",
     "name": "stdout",
     "text": [
      "                        eff    sd_eff    ci_low    ci_upp      w_fe      w_re\n",
      "Grant              0.277356  0.176279 -0.068144  0.622857  0.151858  0.190752\n",
      "Peck               0.366546  0.225573 -0.075569  0.808662  0.092739  0.143423\n",
      "Donat              0.664385  0.102748  0.463002  0.865768  0.446980  0.289808\n",
      "Stewart            0.461808  0.208310  0.053527  0.870089  0.108747  0.158271\n",
      "Young              0.185165  0.153729 -0.116139  0.486468  0.199676  0.217747\n",
      "fixed effect       0.460272  0.068694  0.269547  0.650997  1.000000       NaN\n",
      "random effect      0.411431  0.107006  0.114335  0.708527       NaN  1.000000\n",
      "fixed effect wls   0.460272  0.099537  0.183914  0.736630  1.000000       NaN\n",
      "random effect wls  0.411431  0.091939  0.156168  0.666694       NaN  1.000000\n"
     ]
    },
    {
     "output_type": "stream",
     "name": "stderr",
     "text": [
      "C:\\Users\\Sébastien\\AppData\\Local\\Programs\\Python\\Python39\\lib\\site-packages\\statsmodels\\stats\\meta_analysis.py:106: UserWarning: `use_t=True` requires `nobs` for each sample or `ci_func`. Using normal distribution for confidence interval of individual samples.\n",
      "  warnings.warn(msg)\n"
     ]
    }
   ],
   "metadata": {}
  },
  {
   "cell_type": "code",
   "execution_count": 94,
   "source": [
    "res1.conf_int_samples(nobs=np.array(nobs1 + nobs2))"
   ],
   "outputs": [
    {
     "output_type": "execute_result",
     "data": {
      "text/plain": [
       "(array([-0.07141628, -0.08244568,  0.46238908,  0.04820269, -0.1183121 ]),\n",
       " array([0.62612908, 0.81553838, 0.86638112, 0.87541326, 0.48864139]))"
      ]
     },
     "metadata": {},
     "execution_count": 94
    }
   ],
   "metadata": {}
  },
  {
   "cell_type": "code",
   "execution_count": 95,
   "source": [
    "fig = res1.plot_forest()"
   ],
   "outputs": [
    {
     "output_type": "display_data",
     "data": {
      "image/png": "[encoded data removed]",
      "text/plain": [
       "<Figure size 432x288 with 1 Axes>"
      ]
     },
     "metadata": {
      "needs_background": "light"
     }
    }
   ],
   "metadata": {}
  },
  {
   "cell_type": "markdown",
   "source": [
    "Similarly, another example with the effect being the mean of measurements."
   ],
   "metadata": {}
  },
  {
   "cell_type": "code",
   "execution_count": 96,
   "source": [
    "eff2 = np.array([61.00, 61.40, 62.21, 62.30, 62.34, 62.60, 62.70, 62.84, 65.90])\r\n",
    "var_eff2 = np.array(\r\n",
    "    [0.2025, 1.2100, 0.0900, 0.2025, 0.3844, 0.5625, 0.0676, 0.0225, 1.8225]\r\n",
    ")\r\n",
    "rownames2 = [\"PTB\", \"NMi\", \"NIMC\", \"KRISS\", \"LGC\", \"NRC\", \"IRMM\", \"NIST\", \"LNE\"]"
   ],
   "outputs": [],
   "metadata": {}
  },
  {
   "cell_type": "code",
   "execution_count": 98,
   "source": [
    "res2_DL = combine_effects(eff2, var_eff2, method_re=\"dl\", use_t=True, row_names=rownames2)\r\n",
    "print(\"method RE:\", res2_DL.method_re)\r\n",
    "print(res2_DL.summary_frame())\r\n",
    "fig = res2_DL.plot_forest()"
   ],
   "outputs": [
    {
     "output_type": "stream",
     "name": "stdout",
     "text": [
      "method RE: dl\n",
      "                         eff    sd_eff     ci_low     ci_upp      w_fe  \\\n",
      "PTB                61.000000  0.450000  60.118016  61.881984  0.057436   \n",
      "NMi                61.400000  1.100000  59.244040  63.555960  0.009612   \n",
      "NIMC               62.210000  0.300000  61.622011  62.797989  0.129230   \n",
      "KRISS              62.300000  0.450000  61.418016  63.181984  0.057436   \n",
      "LGC                62.340000  0.620000  61.124822  63.555178  0.030257   \n",
      "NRC                62.600000  0.750000  61.130027  64.069973  0.020677   \n",
      "IRMM               62.700000  0.260000  62.190409  63.209591  0.172052   \n",
      "NIST               62.840000  0.150000  62.546005  63.133995  0.516920   \n",
      "LNE                65.900000  1.350000  63.254049  68.545951  0.006382   \n",
      "fixed effect       62.583397  0.107846  62.334704  62.832090  1.000000   \n",
      "random effect      62.390139  0.245750  61.823439  62.956838       NaN   \n",
      "fixed effect wls   62.583397  0.189889  62.145512  63.021282  1.000000   \n",
      "random effect wls  62.390139  0.294776  61.710384  63.069893       NaN   \n",
      "\n",
      "                       w_re  \n",
      "PTB                0.123113  \n",
      "NMi                0.040314  \n",
      "NIMC               0.159749  \n",
      "KRISS              0.123113  \n",
      "LGC                0.089810  \n",
      "NRC                0.071005  \n",
      "IRMM               0.169810  \n",
      "NIST               0.194471  \n",
      "LNE                0.028615  \n",
      "fixed effect            NaN  \n",
      "random effect      1.000000  \n",
      "fixed effect wls        NaN  \n",
      "random effect wls  1.000000  \n"
     ]
    },
    {
     "output_type": "stream",
     "name": "stderr",
     "text": [
      "C:\\Users\\Sébastien\\AppData\\Local\\Programs\\Python\\Python39\\lib\\site-packages\\statsmodels\\stats\\meta_analysis.py:106: UserWarning: `use_t=True` requires `nobs` for each sample or `ci_func`. Using normal distribution for confidence interval of individual samples.\n",
      "  warnings.warn(msg)\n"
     ]
    },
    {
     "output_type": "display_data",
     "data": {
      "image/png": "[encoded data removed]",
      "text/plain": [
       "<Figure size 432x288 with 1 Axes>"
      ]
     },
     "metadata": {
      "needs_background": "light"
     }
    }
   ],
   "metadata": {}
  },
  {
   "cell_type": "markdown",
   "source": [
    "### Funnel plots\r\n",
    "\r\n",
    "A funnel plot is a graph designed to check for the existence of publication bias; funnel plots are commonly used in systematic reviews and meta-analyses. In the absence of publication bias, it assumes that studies with high precision will be plotted near the average, and studies with low precision will be spread evenly on both sides of the average, creating a roughly funnel-shaped distribution. Deviation from this shape can indicate publication bias."
   ],
   "metadata": {}
  },
  {
   "cell_type": "code",
   "execution_count": 99,
   "source": [
    "from funnelplot.core import funnel\r\n"
   ],
   "outputs": [],
   "metadata": {}
  },
  {
   "cell_type": "markdown",
   "source": [
    "## Meta-analysis of individual participant data (IPD meta-analysis)\r\n",
    "\r\n",
    "A newer approach is for the meta-analysts to obtain the original data for each participant of each study, and reanalyze all the data together. This approach is considered the gold standard of meta-analysis and has determined definitive answers to clinical questions, which might not have been obtained from meta-analysis of summay data. This type of analysis ensures that the outcomes are defined in a consistent way, and that the data are analyzed using the same methods. Moreover, it can include more data than did the original paper because one get data at the root from the investigators, it can answer questions not posed by the original investigators, run subgroup analyses and account for confounding variables not considered by the original investigators."
   ],
   "metadata": {}
  }
 ],
 "metadata": {
  "kernelspec": {
   "name": "python3",
   "display_name": "Python 3.9.7 64-bit (system)"
  },
  "language_info": {
   "codemirror_mode": {
    "name": "ipython",
    "version": 3
   },
   "file_extension": ".py",
   "mimetype": "text/x-python",
   "name": "python",
   "nbconvert_exporter": "python",
   "pygments_lexer": "ipython3",
   "version": "3.9.7"
  },
  "interpreter": {
   "hash": "b51595f36012c8da2bf2284ebbd8d377d5c2d31fa7484164f2d2bcda7a09b462"
  }
 },
 "nbformat": 4,
 "nbformat_minor": 2
}