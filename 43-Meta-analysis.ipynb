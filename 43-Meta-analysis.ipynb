{
 "cells": [
  {
   "cell_type": "markdown",
   "source": [
    "# Meta-analysis\r\n",
    "\r\n",
    "Meta-analysis is used to combine evidence from multiple studies, usually clinical trials testing the effectiveness of therapies or tests. The pooled evidence from multiple studies can give much more precise and reliable answers than any single study can. Although many researchers are convinced that meta-analyses are hugely important and helpful, others doubt that meta-analysis can consistently overcome the huge challenges and produce consistently useful results:\r\n",
    "\r\n",
    "- inconsistent criteria to define a disease => define which patients are included\r\n",
    "- different outcome variables => define which outcomes are included\r\n",
    "- unpublished studies/publication bias => seek unpublished data, review registries of study protocols\r\n",
    "- some studies are of higher quality than others => define what makes a study of high enough quality to be included\r\n",
    "- different languages => arrange for translation\r\n",
    "- not enough information to perform a proper analysis => estimate data from figures, obtain unpublished details from investigators\r\n",
    "- published data may be internally inconsistent => resolve inconsistencies without bias, request details from investigators\r\n",
    "- data from some patients may be included in multiple publications, redundant analyses => ask investigators to clarify which patients were included in more than one publication\r\n",
    "\r\n",
    "A meta-analysis pools weighted effect sizes, it calculates a pooled P value from the pooled effect size.\r\n",
    "\r\n",
    "Meta-analyses don't have to be huge, it can be helpful to combine the results from as few as two studies.\r\n",
    "\r\n",
    "## Assumptions of meta-analysis\r\n",
    "\r\n",
    "There are two general methods that are used, each of which is based on different assumptions:\r\n",
    "\r\n",
    "- _fixed effects_: this model assumes that all the subjects in all the studies were really sampled from one large population. Thus, all teh studies are estimating the same effect, and the only difference between studies is due to random selection of subjects.\r\n",
    "- _random effects_: this model assumes that each study population is unique. The difference among study results is due both to differences between the populations and to random selection of subjects. This model is more realistic and is used more frequently."
   ],
   "metadata": {}
  },
  {
   "cell_type": "code",
   "execution_count": 174,
   "source": [
    "# We use the data extracted from Figure 43.1 on page 455\r\n",
    "import numpy as np\r\n",
    "import pandas as pd\r\n",
    "import matplotlib.pyplot as plt\r\n",
    "import seaborn as sns\r\n",
    "\r\n",
    "from scipy import stats"
   ],
   "outputs": [],
   "metadata": {}
  },
  {
   "cell_type": "code",
   "execution_count": 175,
   "source": [
    "mean = np.array([2.5, 1.4, 1.1, 1.2,  .8,  .8, 1.1, np.NaN, 1.2])\r\n",
    "lower= np.array([1.8,  .8,  .8,  .8,  .5,  .4,  .6, np.NaN,  .9])\r\n",
    "upper= np.array([4.4, 2.2, 1.8, 1.9, 1.4, 1.6, 2,   np.NaN, 1.4])\r\n",
    "W = (upper-lower)/2"
   ],
   "outputs": [],
   "metadata": {}
  },
  {
   "cell_type": "code",
   "execution_count": 176,
   "source": [
    "plt.figure(figsize=(4,5))\r\n",
    "plt.errorbar(\r\n",
    "    x=np.flip(mean),\r\n",
    "    y=np.arange(len(mean)),\r\n",
    "    xerr=np.flip(W),\r\n",
    "    fmt='o',\r\n",
    "    ms=8,\r\n",
    "    ecolor=['red']+['blue']*8,\r\n",
    "    elinewidth=3,\r\n",
    ")\r\n",
    "\r\n",
    "plt.xlabel(\"Odds ratio (with 95% CI)\")\r\n",
    "plt.xticks([0.5, 1, 2, 4.0])\r\n",
    "plt.ylabel(\"Trial ID\")\r\n",
    "plt.yticks(\r\n",
    "    list(range(0,9)),\r\n",
    "    ['Total', '', '49', '45', '50', '47', '46', '15', '14'])\r\n",
    "plt.axvline(x=1, color='red', linestyle='--')\r\n",
    "sns.despine();"
   ],
   "outputs": [
    {
     "output_type": "display_data",
     "data": {
      "image/png": "[encoded data removed]",
      "text/plain": [
       "<Figure size 288x360 with 1 Axes>"
      ]
     },
     "metadata": {
      "needs_background": "light"
     }
    }
   ],
   "metadata": {}
  },
  {
   "cell_type": "markdown",
   "source": [
    "## Results from a meta-analysis\r\n",
    "\r\n",
    "Part of a meta-analysis is a narrative report that summarizes the studies that have been done and evaluates their strengths and weaknesses. The rest of a meta-analysis is quantitative. The results of each study are summarized by one value, called the **effect size**, along with its CI. The effect size is usually a relative risk or odds ratio, but it could also be some other measure of treatment effect. Combining all the studies, the meta-analysis computes the pooled treatment effect, its CI and a pooled P value.\r\n",
    "\r\n",
    "The results for the individual studies and the pooled results are plotted on a **forest plot** or **blobbogram**.\r\n",
    "\r\n",
    "In the example above, the forest plot shows the results from 7 studies of the effectiveness of a drug, the horizontal axis is the odds ratio, a value of 1.0 means no effect; a value greater than 1.0 means the drug works better than placebo. The top 7 lines are results of individual studies. For each study, the plot shows the odds ratio and 95% confidence interval. At the very bottom, the graph shows the total (pooled) effect computed from all studies, also shown as an odds ratio with its 95% CI.\r\n",
    "\r\n",
    "In 6 of the 7 studies, the 95% CI includes 1.0. With 95% confidence, you cannot conclude from these six studies that the treatment works better than placebo. In only 1 of the studies, does the 95% CI not include 1.0. The data from this study, but not the others, would lead you to conclude with 95% confidence that the treatment worked better than placebo. The bottom part of the graph shows the total (pooled) effect as computed by the meta-analysis. The 95% CI ranges from 0.98 to 1.56, so the P value must be greater than 0.05. The overall odds ratio is 1.24. That is a small effect, but not a tiny one. The 95% CI includes 1.0 (no effect), but just barely.\r\n",
    "\r\n",
    "### Meta-analysis of individual participant data (IPD meta-analysis)\r\n",
    "\r\n",
    "A newer approach is for the meta-analysts to obtain the original data for each participant of each study, and reanalyze all the data together. This approach is considered the gold standard of meta-analysis and has determined definitive answers to clinical questions, which might not have been obtained from meta-analysis of summay data. This type of analysis ensures that the outcomes are defined in a consistent way, and that the data are analyzed using the same methods. Moreover, it can include more data than did the original paper because one get data at the root from the investigators, it can answer questions not posed by the original investigators, run subgroup analyses and account for confounding variables not considered by the original investigators."
   ],
   "metadata": {}
  },
  {
   "cell_type": "markdown",
   "source": [
    "## Meta-analysis of continuous data (standardized mean difference or SMD)\r\n",
    "\r\n",
    "### Implementation with statsmodels.stats.meta_analysis\r\n",
    "\r\n",
    "Statsmodels include basic methods for [meta-analysis](https://www.statsmodels.org/stable/examples/notebooks/generated/metaanalysis1.html). The support for meta-analysis has 3 parts:\r\n",
    "\r\n",
    "- effect size functions: this currently includes `effectsize_smd` computes effect size and their standard errors for standardized mean difference, `effectsize_2proportions` computes effect sizes for comparing two independent proportions using risk difference, (log) risk ratio, (log) odds-ratio or arcsine square root transformation\r\n",
    "- The `combine_effects` computes **fixed and random effects estimate** for the overall mean or effect. The returned results instance includes a forest plot function.\r\n",
    "- helper functions to estimate the random effect variance, tau-squared"
   ],
   "metadata": {}
  },
  {
   "cell_type": "code",
   "execution_count": 177,
   "source": [
    "from statsmodels.stats.meta_analysis import (\r\n",
    "    effectsize_smd,\r\n",
    "    effectsize_2proportions,\r\n",
    "    combine_effects,\r\n",
    ")"
   ],
   "outputs": [],
   "metadata": {}
  },
  {
   "cell_type": "code",
   "execution_count": 178,
   "source": [
    "data = [\r\n",
    "    [\"Carroll\", 94, 22, 60, 92, 20, 60],\r\n",
    "    [\"Grant\", 98, 21, 65, 92, 22, 65],\r\n",
    "    [\"Peck\", 98, 28, 40, 88, 26, 40],\r\n",
    "    [\"Donat\", 94, 19, 200, 82, 17, 200],\r\n",
    "    [\"Stewart\", 98, 21, 50, 88, 22, 45],\r\n",
    "    [\"Young\", 96, 21, 85, 92, 22, 85],\r\n",
    "]\r\n",
    "colnames = [\"study\", \"mean_t\", \"sd_t\", \"n_t\", \"mean_c\", \"sd_c\", \"n_c\"]\r\n",
    "dframe1 = pd.DataFrame(data, columns=colnames).set_index('study')\r\n",
    "\r\n",
    "mean2, sd2, nobs2, mean1, sd1, nobs1 = np.asarray(\r\n",
    "    dframe1\r\n",
    ").T"
   ],
   "outputs": [],
   "metadata": {}
  },
  {
   "cell_type": "code",
   "execution_count": 179,
   "source": [
    "dframe1"
   ],
   "outputs": [
    {
     "output_type": "execute_result",
     "data": {
      "text/html": [
       "<div>\n",
       "<style scoped>\n",
       "    .dataframe tbody tr th:only-of-type {\n",
       "        vertical-align: middle;\n",
       "    }\n",
       "\n",
       "    .dataframe tbody tr th {\n",
       "        vertical-align: top;\n",
       "    }\n",
       "\n",
       "    .dataframe thead th {\n",
       "        text-align: right;\n",
       "    }\n",
       "</style>\n",
       "<table border=\"1\" class=\"dataframe\">\n",
       "  <thead>\n",
       "    <tr style=\"text-align: right;\">\n",
       "      <th></th>\n",
       "      <th>mean_t</th>\n",
       "      <th>sd_t</th>\n",
       "      <th>n_t</th>\n",
       "      <th>mean_c</th>\n",
       "      <th>sd_c</th>\n",
       "      <th>n_c</th>\n",
       "    </tr>\n",
       "    <tr>\n",
       "      <th>study</th>\n",
       "      <th></th>\n",
       "      <th></th>\n",
       "      <th></th>\n",
       "      <th></th>\n",
       "      <th></th>\n",
       "      <th></th>\n",
       "    </tr>\n",
       "  </thead>\n",
       "  <tbody>\n",
       "    <tr>\n",
       "      <th>Carroll</th>\n",
       "      <td>94</td>\n",
       "      <td>22</td>\n",
       "      <td>60</td>\n",
       "      <td>92</td>\n",
       "      <td>20</td>\n",
       "      <td>60</td>\n",
       "    </tr>\n",
       "    <tr>\n",
       "      <th>Grant</th>\n",
       "      <td>98</td>\n",
       "      <td>21</td>\n",
       "      <td>65</td>\n",
       "      <td>92</td>\n",
       "      <td>22</td>\n",
       "      <td>65</td>\n",
       "    </tr>\n",
       "    <tr>\n",
       "      <th>Peck</th>\n",
       "      <td>98</td>\n",
       "      <td>28</td>\n",
       "      <td>40</td>\n",
       "      <td>88</td>\n",
       "      <td>26</td>\n",
       "      <td>40</td>\n",
       "    </tr>\n",
       "    <tr>\n",
       "      <th>Donat</th>\n",
       "      <td>94</td>\n",
       "      <td>19</td>\n",
       "      <td>200</td>\n",
       "      <td>82</td>\n",
       "      <td>17</td>\n",
       "      <td>200</td>\n",
       "    </tr>\n",
       "    <tr>\n",
       "      <th>Stewart</th>\n",
       "      <td>98</td>\n",
       "      <td>21</td>\n",
       "      <td>50</td>\n",
       "      <td>88</td>\n",
       "      <td>22</td>\n",
       "      <td>45</td>\n",
       "    </tr>\n",
       "    <tr>\n",
       "      <th>Young</th>\n",
       "      <td>96</td>\n",
       "      <td>21</td>\n",
       "      <td>85</td>\n",
       "      <td>92</td>\n",
       "      <td>22</td>\n",
       "      <td>85</td>\n",
       "    </tr>\n",
       "  </tbody>\n",
       "</table>\n",
       "</div>"
      ],
      "text/plain": [
       "         mean_t  sd_t  n_t  mean_c  sd_c  n_c\n",
       "study                                        \n",
       "Carroll      94    22   60      92    20   60\n",
       "Grant        98    21   65      92    22   65\n",
       "Peck         98    28   40      88    26   40\n",
       "Donat        94    19  200      82    17  200\n",
       "Stewart      98    21   50      88    22   45\n",
       "Young        96    21   85      92    22   85"
      ]
     },
     "metadata": {},
     "execution_count": 179
    }
   ],
   "metadata": {}
  },
  {
   "cell_type": "code",
   "execution_count": 180,
   "source": [
    "# one-step chi2, DerSimonian-Laird estimate for random effects variance tau\r\n",
    "eff1, var_eff1 = effectsize_smd(mean2, sd2, nobs2, mean1, sd1, nobs1)"
   ],
   "outputs": [],
   "metadata": {}
  },
  {
   "cell_type": "code",
   "execution_count": 181,
   "source": [
    "eff1"
   ],
   "outputs": [
    {
     "output_type": "execute_result",
     "data": {
      "text/plain": [
       "array([0.09452437, 0.2773564 , 0.36654635, 0.6643851 , 0.46180798,\n",
       "       0.18516464])"
      ]
     },
     "metadata": {},
     "execution_count": 181
    }
   ],
   "metadata": {}
  },
  {
   "cell_type": "code",
   "execution_count": 182,
   "source": [
    "#Uone-step chi2, DerSimonian-Laird estimate for random effects variance tau\r\n",
    "res1 = combine_effects(eff1, var_eff1, method_re=\"chi2\", use_t=False, row_names=dframe1.index)"
   ],
   "outputs": [],
   "metadata": {}
  },
  {
   "cell_type": "code",
   "execution_count": 183,
   "source": [
    "print(\"method RE:\", res1.method_re)\r\n",
    "print(\"tau2=\", res1.tau2)"
   ],
   "outputs": [
    {
     "output_type": "stream",
     "name": "stdout",
     "text": [
      "method RE: chi2\n",
      "tau2= 0.03723180584080541\n"
     ]
    }
   ],
   "metadata": {}
  },
  {
   "cell_type": "code",
   "execution_count": 184,
   "source": [
    "nobs=np.array(nobs1 + nobs2)\r\n",
    "print(res1.summary_frame())"
   ],
   "outputs": [
    {
     "output_type": "stream",
     "name": "stdout",
     "text": [
      "                        eff    sd_eff    ci_low    ci_upp      w_fe      w_re\n",
      "Carroll            0.094524  0.182680 -0.263521  0.452570  0.123885  0.157529\n",
      "Grant              0.277356  0.176279 -0.068144  0.622857  0.133045  0.162828\n",
      "Peck               0.366546  0.225573 -0.075569  0.808662  0.081250  0.126223\n",
      "Donat              0.664385  0.102748  0.463002  0.865768  0.391606  0.232734\n",
      "Stewart            0.461808  0.208310  0.053527  0.870089  0.095275  0.137949\n",
      "Young              0.185165  0.153729 -0.116139  0.486468  0.174939  0.182736\n",
      "fixed effect       0.414961  0.064298  0.288939  0.540984  1.000000       NaN\n",
      "random effect      0.358486  0.105462  0.151785  0.565187       NaN  1.000000\n",
      "fixed effect wls   0.414961  0.099237  0.220460  0.609462  1.000000       NaN\n",
      "random effect wls  0.358486  0.090328  0.181446  0.535526       NaN  1.000000\n"
     ]
    }
   ],
   "metadata": {}
  },
  {
   "cell_type": "code",
   "execution_count": 185,
   "source": [
    "res1.conf_int_samples(use_t=True, nobs=np.array(nobs1 + nobs2))"
   ],
   "outputs": [
    {
     "output_type": "execute_result",
     "data": {
      "text/plain": [
       "(array([-0.26719942, -0.07141628, -0.08244568,  0.46238908,  0.04820269,\n",
       "        -0.1183121 ]),\n",
       " array([0.45624817, 0.62612908, 0.81553838, 0.86638112, 0.87541326,\n",
       "        0.48864139]))"
      ]
     },
     "metadata": {},
     "execution_count": 185
    }
   ],
   "metadata": {}
  },
  {
   "cell_type": "code",
   "execution_count": 186,
   "source": [
    "fig = res1.plot_forest()"
   ],
   "outputs": [
    {
     "output_type": "display_data",
     "data": {
      "image/png": "[encoded data removed]",
      "text/plain": [
       "<Figure size 432x288 with 1 Axes>"
      ]
     },
     "metadata": {
      "needs_background": "light"
     }
    }
   ],
   "metadata": {}
  },
  {
   "cell_type": "markdown",
   "source": [
    "### Another example with the effect being the mean of measurements (fixed-effect)"
   ],
   "metadata": {}
  },
  {
   "cell_type": "code",
   "execution_count": 187,
   "source": [
    "eff2 = np.array(\r\n",
    "    [61.00,  61.40,  62.21,  62.30,  62.34,  62.60,  62.70,  62.84,  65.90 ]\r\n",
    ")\r\n",
    "var_eff2 = np.array(\r\n",
    "    [0.2025, 1.2100, 0.0900, 0.2025, 0.3844, 0.5625, 0.0676, 0.0225, 1.8225]\r\n",
    ")\r\n",
    "rownames2 = [\r\n",
    "    \"PTB\",   \"NMi\",  \"NIMC\", \"KRISS\",\"LGC\",  \"NRC\",  \"IRMM\", \"NIST\", \"LNE\" \r\n",
    "]"
   ],
   "outputs": [],
   "metadata": {}
  },
  {
   "cell_type": "code",
   "execution_count": 188,
   "source": [
    "res2_DL = combine_effects(eff2, var_eff2, method_re=\"dl\", use_t=True, row_names=rownames2)\r\n",
    "print(\"method RE:\", res2_DL.method_re)\r\n",
    "print(round(res2_DL.summary_frame(), 4))\r\n",
    "fig = res2_DL.plot_forest()"
   ],
   "outputs": [
    {
     "output_type": "stream",
     "name": "stdout",
     "text": [
      "method RE: dl\n",
      "                       eff  sd_eff   ci_low   ci_upp    w_fe    w_re\n",
      "PTB                61.0000  0.4500  60.1180  61.8820  0.0574  0.1231\n",
      "NMi                61.4000  1.1000  59.2440  63.5560  0.0096  0.0403\n",
      "NIMC               62.2100  0.3000  61.6220  62.7980  0.1292  0.1597\n",
      "KRISS              62.3000  0.4500  61.4180  63.1820  0.0574  0.1231\n",
      "LGC                62.3400  0.6200  61.1248  63.5552  0.0303  0.0898\n",
      "NRC                62.6000  0.7500  61.1300  64.0700  0.0207  0.0710\n",
      "IRMM               62.7000  0.2600  62.1904  63.2096  0.1721  0.1698\n",
      "NIST               62.8400  0.1500  62.5460  63.1340  0.5169  0.1945\n",
      "LNE                65.9000  1.3500  63.2540  68.5460  0.0064  0.0286\n",
      "fixed effect       62.5834  0.1078  62.3347  62.8321  1.0000     NaN\n",
      "random effect      62.3901  0.2457  61.8234  62.9568     NaN  1.0000\n",
      "fixed effect wls   62.5834  0.1899  62.1455  63.0213  1.0000     NaN\n",
      "random effect wls  62.3901  0.2948  61.7104  63.0699     NaN  1.0000\n"
     ]
    },
    {
     "output_type": "stream",
     "name": "stderr",
     "text": [
      "C:\\Users\\Sébastien\\AppData\\Local\\Programs\\Python\\Python39\\lib\\site-packages\\statsmodels\\stats\\meta_analysis.py:106: UserWarning: `use_t=True` requires `nobs` for each sample or `ci_func`. Using normal distribution for confidence interval of individual samples.\n",
      "  warnings.warn(msg)\n"
     ]
    },
    {
     "output_type": "display_data",
     "data": {
      "image/png": "[encoded data removed]",
      "text/plain": [
       "<Figure size 432x288 with 1 Axes>"
      ]
     },
     "metadata": {
      "needs_background": "light"
     }
    }
   ],
   "metadata": {}
  },
  {
   "cell_type": "markdown",
   "source": [
    "### Step-by-step Woolf method (fixed-effect)\r\n",
    "\r\n",
    "A very common and simple version of the meta-analysis procedure is commonly referred to as the inverse-variance method. This approach is implemented in its most basic form in RevMan, and is used behind the scenes in many meta-analyses of both dichotomous and continuous data.\r\n",
    "\r\n",
    "The inverse-variance method is so named because the weight given to each study is chosen to be the inverse of the variance of the effect estimate (i.e. 1 over the square of its standard error). Thus, larger studies, which have smaller standard errors, are given more weight than smaller studies, which have larger standard errors. This choice of weights minimizes the imprecision (uncertainty) of the pooled effect estimate.\r\n",
    "\r\n",
    "We assign **weights** based on the inverse of the variance rather than sample size. The inverse variance is roughly proportional to sample size, but is a more nuanced measure, and serves to minimize the variance of the combined effect so that $ w_i = \\frac{1}{v_i} $ with $v_i$ the within-study variance for studi $i$.\r\n",
    "\r\n",
    "A fixed-effect meta-analysis using the inverse-variance method calculates a weighted average as, i.e. the weighted mean is then computed as the sum of the products $w_iE_i$, where $E_i$ is the effect size if the individual study, divided by the sum of the weights:\r\n",
    "\r\n",
    "$$ \\bar{E} = \\frac{\\sum_{i=1}^kw_iE_i}{\\sum_{i=1}^kw_i} = \\frac{\\sum E_i(1/\\mathrm{SE_i}^2)}{\\sum (1/\\mathrm{SE_i}^2)} $$\r\n",
    "\r\n",
    "A fixed-effect meta-analysis is valid under an assumption that all effect estimates are estimating the same underlying intervention effect, which is referred to variously as a 'fixed-effect' assumption, a 'common-effect' assumption or an 'equal-effects' assumption.\r\n",
    "\r\n",
    "The variance of the combined effect is $ v = \\frac{1}{\\sum_{i=1}^kw_i} $, and $ \\mathrm{SE}(\\bar{E}) = \\sqrt{v} $.\r\n",
    "\r\n",
    "The 95% confidence interval for the mean combined effect would then be $ \\bar{E} \\pm z_{\\alpha/2}*\\mathrm{SE}(\\bar{E}) $ (see the video [\"Meta-analysis Prediction Intervals\"](https://www.youtube.com/watch?v=DPo88xtPUaA)), it tells nothing about the distribution of the different effect sizes measured but the precision of the mean effect sizes, depending on the number of studies.\r\n",
    "\r\n",
    "Finally, $ Z = \\frac{\\bar{E}}{\\mathrm{SE}(\\bar{E})} $, so for a two-tailed test $ p = 2[1-(\\phi(|Z|))] $ with $\\phi$ the standard normal cumulative function. In the context of Cochrane reviews is either an assumption of 'no effect of the intervention' or 'no differences in the effect of intervention between studies' (_no heterogeneity_). Thus, a P value that is very small indicates that the observed effect is very unlikely to have arisen purely by chance, and therefore provides evidence against the null hypothesis. "
   ],
   "metadata": {}
  },
  {
   "cell_type": "code",
   "execution_count": 189,
   "source": [
    "weights2 = 1 / var_eff2\r\n",
    "weights2"
   ],
   "outputs": [
    {
     "output_type": "execute_result",
     "data": {
      "text/plain": [
       "array([ 4.9382716 ,  0.82644628, 11.11111111,  4.9382716 ,  2.60145682,\n",
       "        1.77777778, 14.79289941, 44.44444444,  0.54869684])"
      ]
     },
     "metadata": {},
     "execution_count": 189
    }
   ],
   "metadata": {}
  },
  {
   "cell_type": "code",
   "execution_count": 190,
   "source": [
    "# getting weights from the combined results\r\n",
    "res2_DL.weights_fe"
   ],
   "outputs": [
    {
     "output_type": "execute_result",
     "data": {
      "text/plain": [
       "array([ 4.9382716 ,  0.82644628, 11.11111111,  4.9382716 ,  2.60145682,\n",
       "        1.77777778, 14.79289941, 44.44444444,  0.54869684])"
      ]
     },
     "metadata": {},
     "execution_count": 190
    }
   ],
   "metadata": {}
  },
  {
   "cell_type": "code",
   "execution_count": 191,
   "source": [
    "# below corresponds to the `w_fe` column\r\n",
    "res2_DL.weights_fe / sum(res2_DL.weights_fe)"
   ],
   "outputs": [
    {
     "output_type": "execute_result",
     "data": {
      "text/plain": [
       "array([0.05743554, 0.00961215, 0.12922996, 0.05743554, 0.03025675,\n",
       "       0.02067679, 0.17205172, 0.51691983, 0.00638173])"
      ]
     },
     "metadata": {},
     "execution_count": 191
    }
   ],
   "metadata": {}
  },
  {
   "cell_type": "code",
   "execution_count": 192,
   "source": [
    "E2 = eff2 * weights2\r\n",
    "E2"
   ],
   "outputs": [
    {
     "output_type": "execute_result",
     "data": {
      "text/plain": [
       "array([ 301.2345679 ,   50.74380165,  691.22222222,  307.65432099,\n",
       "        162.1748179 ,  111.28888889,  927.5147929 , 2792.88888889,\n",
       "         36.15912209])"
      ]
     },
     "metadata": {},
     "execution_count": 192
    }
   ],
   "metadata": {}
  },
  {
   "cell_type": "code",
   "execution_count": 193,
   "source": [
    "df2 = len(eff2) - 1\r\n",
    "\r\n",
    "E_bar2 = sum(E2) / sum(weights2)\r\n",
    "var_bar2 = 1 / sum(weights2)\r\n",
    "SE_bar2 = var_bar2**.5\r\n",
    "t_crit2 = stats.t(df=df2).ppf((1+.95)/2) # we used t-distribution with combine_effect()\r\n",
    "\r\n",
    "# Z2 = E_bar2/SE_bar2\r\n",
    "# pvalue_2 = 2 * (1 - stats.t.cdf(x = abs(Z2), df=df2))\r\n",
    "\r\n",
    "print(f\"Combined effect size = {E_bar2:.4f} with SE = {SE_bar2:.4f} and the 95% CI ranging from {E_bar2 - t_crit2*SE_bar2:.4f} to {E_bar2 + t_crit2*SE_bar2:.4f}\")\r\n",
    "#print(f\"Z statistic = {Z2:.2f} with an associated P value = {pvalue_2:.5f}\") # not sure that works"
   ],
   "outputs": [
    {
     "output_type": "stream",
     "name": "stdout",
     "text": [
      "Combined effect size = 62.5834 with SE = 0.1078 and the 95% CI ranging from 62.3347 to 62.8321\n"
     ]
    }
   ],
   "metadata": {}
  },
  {
   "cell_type": "markdown",
   "source": [
    "### Heterogeneity\r\n",
    "\r\n",
    "The classical measure of heterogeneity is **Cochran's $Q$**, which is calculated as the weighted sum of squared differences between individual study effects and the pooled effect across studies, with the weights being those used in the pooling method with $ Q = \\sum w_i(E_i-E)^2 $ where $ E = \\frac{\\sum w_iE_i}{\\sum w_i} $.\r\n",
    "\r\n",
    "$Q$ is distributed as a chi-square statistic with k (numer of studies) minus 1 degrees of freedom $Q \\sim \\chi^2(k-1)$.\r\n",
    "\r\n",
    "$Q$ has low power as a comprehensive test of heterogeneity, especially when the number of studies is small, i.e. most meta-analyses. Conversely, $Q$ has too much power as a test of heterogeneity if the number of studies is large.\r\n",
    "\r\n",
    "The $I^2$ statistic describes the percentage of variation across studies that is due to heterogeneity rather than chance\r\n",
    "\r\n",
    "$$ I^2 = 100\\%  \\frac{Q - \\mathrm{Df}}{Q} $$\r\n",
    "\r\n",
    "$I^2$ is an intuitive and simple expression of the inconsistency of studies' results. Unlike $Q$ it does not inherently depend upon the number of studies considered.\r\n",
    "\r\n",
    "A confidence interval for $I^2$ is constructed using either i) the iterative non-central chi-squared distribution method of Hedges and Piggott; or ii) the test-based method of Higgins and Thompson. The non-central chi-square method is currently the method of choice."
   ],
   "metadata": {}
  },
  {
   "cell_type": "code",
   "execution_count": 194,
   "source": [
    "res2_DL.test_homogeneity()"
   ],
   "outputs": [
    {
     "output_type": "execute_result",
     "data": {
      "text/plain": [
       "<class 'statsmodels.stats.base.HolderTuple'>\n",
       "statistic = 24.80189774185419\n",
       "pvalue = 0.001679351463714887\n",
       "df = 8\n",
       "distr = 'chi2'\n",
       "tuple = (24.80189774185419, 0.001679351463714887)"
      ]
     },
     "metadata": {},
     "execution_count": 194
    }
   ],
   "metadata": {}
  },
  {
   "cell_type": "code",
   "execution_count": 195,
   "source": [
    "Q2 = sum(res2_DL.weights_fe * (res2_DL.effect - res2_DL.mean_effect_fe)**2)\r\n",
    "I2 = (Q2 - df2)/Q2\r\n",
    "pvalue_homogen = 1 - stats.chi2.cdf(x = Q2, df=df2)\r\n",
    "\r\n",
    "print(f\"Cochrane Q = {Q2:.3f} and I² = {100*I2:.2f}%, with P value for homogeneitiy = {pvalue_homogen:.6f}\")"
   ],
   "outputs": [
    {
     "output_type": "stream",
     "name": "stdout",
     "text": [
      "Cochrane Q = 24.802 and I² = 67.74%, with P value for homogeneitiy = 0.001679\n"
     ]
    }
   ],
   "metadata": {}
  },
  {
   "cell_type": "code",
   "execution_count": 196,
   "source": [
    "res2_DL.i2"
   ],
   "outputs": [
    {
     "output_type": "execute_result",
     "data": {
      "text/plain": [
       "0.6774440374173594"
      ]
     },
     "metadata": {},
     "execution_count": 196
    }
   ],
   "metadata": {}
  },
  {
   "cell_type": "markdown",
   "source": [
    "### Random-effects models\r\n",
    "\r\n",
    "A variation on the inverse-variance method is to incorporate an assumption that the different studies are estimating different, yet related, intervention effects. This produces a random-effects meta-analysis, and the simplest version is known as the _DerSimonian and Laird method_.\r\n",
    "\r\n",
    "The random-effects meta-analysis approach incorporates an assumption that the different studies are estimating different, yet related, intervention effects. The approach allows us to address heterogeneity that cannot readily be explained by other factors. A random-effects meta-analysis model involves an assumption that the effects being estimated in the different studies follow some distribution. The model represents our lack of knowledge about why real, or apparent, intervention effects differ, by considering the differences as if they were random. The centre of the assumed distribution describes the average of the effects, while its width describes the degree of heterogeneity. The conventional choice of _distribution is a normal distribution_. It is difficult to establish the validity of any particular distributional assumption, and this is a common criticism of random-effects meta-analyses. The importance of the assumed shape for this distribution has not been widely studied.\r\n",
    "\r\n",
    "To undertake a random-effects meta-analysis, the standard errors of the study-specific estimates ($\\mathrm{SE}_i$) are adjusted to incorporate a measure of the extent of variation, or heterogeneity, among the intervention effects observed in different studies (this variation is often referred to as Tau-squared, $\\tau^2$, or Tau2). The amount of variation, and hence the adjustment, can be estimated from the intervention effects and standard errors of the studies included in the meta-analysis.\r\n",
    "\r\n",
    "In a heterogeneous set of studies, a random-effects meta-analysis will award relatively more weight to smaller studies than such studies would receive in a fixed-effect meta-analysis. This is because small studies are more informative for learning about the distribution of effects across studies than for learning about an assumed common intervention effect.\r\n",
    "\r\n",
    "Note that a random-effects model does not 'take account' of the heterogeneity, in the sense that it is no longer an issue. It is always preferable to explore possible causes of heterogeneity, although there may be too few studies to do this adequately.\r\n",
    "\r\n",
    "If there is very little variation between trials then $I^2$ will be low and a fixed effects model might be appropriate. With fixed effects all of the studies that you are trying to examine as a whole are considered to have been conducted under similar conditions with similar subjects - in other words, the only difference between studies is their power to detect the outcome of interest. An alternative approach, 'random effects', allows the study outcomes to vary in a normal distribution between studies. Many investigators consider the random effects approach to be a more natural choice than fixed effects, for example in medical decision making contexts.\r\n",
    "\r\n",
    "More data are required for random effects models to achieve the same statistical power as fixed effects models, and there is no 'exact' way to handle studies with small numbers when assuming random effects. This should not be a problem with most meta-analyses, however do not use random effects models with sparse datasets without expert statistical guidance."
   ],
   "metadata": {}
  },
  {
   "cell_type": "markdown",
   "source": [
    "## Meta-analysis for count data/proportions"
   ],
   "metadata": {}
  },
  {
   "cell_type": "code",
   "execution_count": 197,
   "source": [
    "import io\r\n",
    "\r\n",
    "ss = \"\"\"\\\r\n",
    "    study,nei,nci,e1i,c1i,e2i,c2i,e3i,c3i,e4i,c4i\r\n",
    "    1,19,22,16.0,20.0,11,12,4.0,8.0,4,3\r\n",
    "    2,34,35,22.0,22.0,18,12,15.0,8.0,15,6\r\n",
    "    3,72,68,44.0,40.0,21,15,10.0,3.0,3,0\r\n",
    "    4,22,20,19.0,12.0,14,5,5.0,4.0,2,3\r\n",
    "    5,70,32,62.0,27.0,42,13,26.0,6.0,15,5\r\n",
    "    6,183,94,130.0,65.0,80,33,47.0,14.0,30,11\r\n",
    "    7,26,50,24.0,30.0,13,18,5.0,10.0,3,9\r\n",
    "    8,61,55,51.0,44.0,37,30,19.0,19.0,11,15\r\n",
    "    9,36,25,30.0,17.0,23,12,13.0,4.0,10,4\r\n",
    "    10,45,35,43.0,35.0,19,14,8.0,4.0,6,0\r\n",
    "    11,246,208,169.0,139.0,106,76,67.0,42.0,51,35\r\n",
    "    12,386,141,279.0,97.0,170,46,97.0,21.0,73,8\r\n",
    "    13,59,32,56.0,30.0,34,17,21.0,9.0,20,7\r\n",
    "    14,45,15,42.0,10.0,18,3,9.0,1.0,9,1\r\n",
    "    15,14,18,14.0,18.0,13,14,12.0,13.0,9,12\r\n",
    "    16,26,19,21.0,15.0,12,10,6.0,4.0,5,1\r\n",
    "    17,74,75,,,42,40,,,23,30\"\"\"\r\n",
    "df3 = pd.read_csv(io.StringIO(ss))\r\n",
    "df3_sub = df3[[\"e2i\", \"nei\", \"c2i\", \"nci\"]]\r\n",
    "\r\n",
    "count1_3, nobs1_3, count2_3, nobs2_3 = df3_sub.values.T\r\n",
    "dta = df3_sub.values.T"
   ],
   "outputs": [],
   "metadata": {}
  },
  {
   "cell_type": "code",
   "execution_count": 198,
   "source": [
    "df3_sub.head()"
   ],
   "outputs": [
    {
     "output_type": "execute_result",
     "data": {
      "text/html": [
       "<div>\n",
       "<style scoped>\n",
       "    .dataframe tbody tr th:only-of-type {\n",
       "        vertical-align: middle;\n",
       "    }\n",
       "\n",
       "    .dataframe tbody tr th {\n",
       "        vertical-align: top;\n",
       "    }\n",
       "\n",
       "    .dataframe thead th {\n",
       "        text-align: right;\n",
       "    }\n",
       "</style>\n",
       "<table border=\"1\" class=\"dataframe\">\n",
       "  <thead>\n",
       "    <tr style=\"text-align: right;\">\n",
       "      <th></th>\n",
       "      <th>e2i</th>\n",
       "      <th>nei</th>\n",
       "      <th>c2i</th>\n",
       "      <th>nci</th>\n",
       "    </tr>\n",
       "  </thead>\n",
       "  <tbody>\n",
       "    <tr>\n",
       "      <th>0</th>\n",
       "      <td>11</td>\n",
       "      <td>19</td>\n",
       "      <td>12</td>\n",
       "      <td>22</td>\n",
       "    </tr>\n",
       "    <tr>\n",
       "      <th>1</th>\n",
       "      <td>18</td>\n",
       "      <td>34</td>\n",
       "      <td>12</td>\n",
       "      <td>35</td>\n",
       "    </tr>\n",
       "    <tr>\n",
       "      <th>2</th>\n",
       "      <td>21</td>\n",
       "      <td>72</td>\n",
       "      <td>15</td>\n",
       "      <td>68</td>\n",
       "    </tr>\n",
       "    <tr>\n",
       "      <th>3</th>\n",
       "      <td>14</td>\n",
       "      <td>22</td>\n",
       "      <td>5</td>\n",
       "      <td>20</td>\n",
       "    </tr>\n",
       "    <tr>\n",
       "      <th>4</th>\n",
       "      <td>42</td>\n",
       "      <td>70</td>\n",
       "      <td>13</td>\n",
       "      <td>32</td>\n",
       "    </tr>\n",
       "  </tbody>\n",
       "</table>\n",
       "</div>"
      ],
      "text/plain": [
       "   e2i  nei  c2i  nci\n",
       "0   11   19   12   22\n",
       "1   18   34   12   35\n",
       "2   21   72   15   68\n",
       "3   14   22    5   20\n",
       "4   42   70   13   32"
      ]
     },
     "metadata": {},
     "execution_count": 198
    }
   ],
   "metadata": {}
  },
  {
   "cell_type": "code",
   "execution_count": 199,
   "source": [
    "eff3, var_eff3 = effectsize_2proportions(*dta, statistic=\"rd\")"
   ],
   "outputs": [],
   "metadata": {}
  },
  {
   "cell_type": "code",
   "execution_count": 200,
   "source": [
    "res5 = combine_effects(\r\n",
    "    eff3, var_eff3, method_re=\"iterated\", use_t=False\r\n",
    ")  # , row_names=rownames)\r\n",
    "\r\n",
    "res5_df = res5.summary_frame()\r\n",
    "\r\n",
    "print(\"method RE:\", res5.method_re)\r\n",
    "print(res5.summary_frame())\r\n",
    "\r\n",
    "fig = res5.plot_forest()\r\n",
    "fig.set_figheight(8)"
   ],
   "outputs": [
    {
     "output_type": "stream",
     "name": "stdout",
     "text": [
      "method RE: iterated\n",
      "                        eff    sd_eff    ci_low    ci_upp      w_fe      w_re\n",
      "0                  0.033493  0.155240 -0.270773  0.337758  0.017454  0.017454\n",
      "1                  0.186555  0.117324 -0.043395  0.416505  0.030559  0.030559\n",
      "2                  0.071078  0.073470 -0.072919  0.215076  0.077928  0.077928\n",
      "3                  0.386364  0.141044  0.109922  0.662805  0.021145  0.021145\n",
      "4                  0.193750  0.104721 -0.011499  0.398999  0.038357  0.038357\n",
      "5                  0.086095  0.061385 -0.034218  0.206407  0.111630  0.111630\n",
      "6                  0.140000  0.119262 -0.093749  0.373749  0.029574  0.029574\n",
      "7                  0.061103  0.091761 -0.118746  0.240951  0.049956  0.049956\n",
      "8                  0.158889  0.128034 -0.092052  0.409830  0.025660  0.025660\n",
      "9                  0.022222  0.110807 -0.194956  0.239401  0.034259  0.034259\n",
      "10                 0.065510  0.045953 -0.024556  0.155575  0.199199  0.199199\n",
      "11                 0.114173  0.046876  0.022297  0.206049  0.191426  0.191426\n",
      "12                 0.045021  0.109182 -0.168971  0.259014  0.035286  0.035286\n",
      "13                 0.200000  0.126491 -0.047918  0.447918  0.026290  0.026290\n",
      "14                 0.150794  0.119749 -0.083910  0.385497  0.029334  0.029334\n",
      "15                -0.064777  0.150599 -0.359945  0.230390  0.018547  0.018547\n",
      "16                 0.034234  0.081457 -0.125418  0.193887  0.063395  0.063395\n",
      "fixed effect       0.096212  0.020509  0.056014  0.136410  1.000000       NaN\n",
      "random effect      0.096212  0.020509  0.056014  0.136410       NaN  1.000000\n",
      "fixed effect wls   0.096212  0.016521  0.063831  0.128593  1.000000       NaN\n",
      "random effect wls  0.096212  0.016521  0.063831  0.128593       NaN  1.000000\n"
     ]
    },
    {
     "output_type": "display_data",
     "data": {
      "image/png": "[encoded data removed]",
      "text/plain": [
       "<Figure size 432x576 with 1 Axes>"
      ]
     },
     "metadata": {
      "needs_background": "light"
     }
    }
   ],
   "metadata": {}
  },
  {
   "cell_type": "markdown",
   "source": [
    "### Example of the reboxetine study\r\n",
    "\r\n",
    "The analysis takes the data from the [article from Eyding et al. (2010)](https://www.bmj.com/content/341/bmj.c4737) discussed in page 455-456 and from which the forest plot in Figure 43.1 was derived."
   ],
   "metadata": {}
  },
  {
   "cell_type": "code",
   "execution_count": 233,
   "source": [
    "data_eyding = [\r\n",
    "    [\"014\",  60, 126,  34, 128],\r\n",
    "    [\"015\",  47, 110,  40, 111],\r\n",
    "    [\"046\", 132, 252, 124, 247],\r\n",
    "    [\"047\", 109, 238, 101, 239],\r\n",
    "    [\"050\",  48, 144,  54, 143],\r\n",
    "    [\"045\",  30,  88,  33,  86],\r\n",
    "    [\"049\",  29, 106,  27, 104],\r\n",
    "]\r\n",
    "colnames_eyding = [\"study\", \"count_t\", \"nobs_t\", \"count_c\", \"nobs_c\"]\r\n",
    "df_eyding = pd.DataFrame(data_eyding, columns=colnames_eyding).set_index('study')\r\n",
    "# sample 1 is treatment and sample 2 is control\r\n",
    "\r\n",
    "dta_eyding = df_eyding.values.T\r\n",
    "\r\n",
    "eff_eyding, var_eff_eyding = effectsize_2proportions(*dta_eyding, statistic=\"or\")\r\n",
    "# log-odds-ratio and log-risk-ratio can be transformed back to or and rr using the exp function\r\n",
    "\r\n",
    "res_eyding = combine_effects(\r\n",
    "    eff_eyding, var_eff_eyding, method_re=\"chi2\", use_t=False, row_names=df_eyding.index,\r\n",
    ")\r\n",
    "\r\n",
    "print(\"method RE:\", res_eyding.method_re)\r\n",
    "print(\"RE variance tau2:\", res_eyding.tau2)\r\n",
    "print(res_eyding.summary_frame().iloc[-4:])\r\n",
    "\r\n",
    "fig = res_eyding.plot_forest(\r\n",
    "    use_exp=True, # to show OR instead of logOR\r\n",
    ")\r\n",
    "fig.set_figheight(7)\r\n",
    "plt.axvline(x=1, ls='--', color='blue')\r\n",
    "\r\n",
    "plt.xscale('log')\r\n",
    "\r\n",
    "ax = plt.gca()\r\n",
    "\r\n",
    "# By default, a logarithmic scale uses a LogFormatter\r\n",
    "from matplotlib.ticker import ScalarFormatter\r\n",
    "\r\n",
    "ax.xaxis.set_major_formatter(ScalarFormatter())\r\n",
    "ax.set_xticks([.33, .5, 1, 2, 3, 5])\r\n",
    "\r\n",
    "ax.set_title('Forest plot - reboxetine study')\r\n",
    "ax.set_xlabel('Odds ratio (95% CI)')"
   ],
   "outputs": [
    {
     "output_type": "stream",
     "name": "stdout",
     "text": [
      "method RE: chi2\n",
      "RE variance tau2: 0.05605589416643271\n",
      "                        eff    sd_eff    ci_low    ci_upp  w_fe  w_re\n",
      "fixed effect       0.154119  0.089729 -0.021746  0.329984   1.0   NaN\n",
      "random effect      0.160783  0.129872 -0.093762  0.415328   NaN   1.0\n",
      "fixed effect wls   0.154119  0.125602 -0.092057  0.400295   1.0   NaN\n",
      "random effect wls  0.160783  0.136132 -0.106032  0.427598   NaN   1.0\n"
     ]
    },
    {
     "output_type": "execute_result",
     "data": {
      "text/plain": [
       "Text(0.5, 0, 'Odds ratio (95% CI)')"
      ]
     },
     "metadata": {},
     "execution_count": 233
    },
    {
     "output_type": "display_data",
     "data": {
      "image/png": "[encoded data removed]",
      "text/plain": [
       "<Figure size 432x504 with 1 Axes>"
      ]
     },
     "metadata": {
      "needs_background": "light"
     }
    }
   ],
   "metadata": {}
  },
  {
   "cell_type": "code",
   "execution_count": 202,
   "source": [
    "# Total effect\r\n",
    "stats.fisher_exact([[413, 1058], [455, 1064]])"
   ],
   "outputs": [
    {
     "output_type": "execute_result",
     "data": {
      "text/plain": [
       "(0.9128399011196743, 0.2595352712298463)"
      ]
     },
     "metadata": {},
     "execution_count": 202
    }
   ],
   "metadata": {}
  },
  {
   "cell_type": "code",
   "execution_count": 203,
   "source": [
    "res_eyding.test_homogeneity()"
   ],
   "outputs": [
    {
     "output_type": "execute_result",
     "data": {
      "text/plain": [
       "<class 'statsmodels.stats.base.HolderTuple'>\n",
       "statistic = 11.756574010710532\n",
       "pvalue = 0.0676249431325276\n",
       "df = 6\n",
       "distr = 'chi2'\n",
       "tuple = (11.756574010710532, 0.0676249431325276)"
      ]
     },
     "metadata": {},
     "execution_count": 203
    }
   ],
   "metadata": {}
  },
  {
   "cell_type": "code",
   "execution_count": 204,
   "source": [
    "# Total heterogeneity in %\r\n",
    "round(100 * res_eyding.i2, 1)"
   ],
   "outputs": [
    {
     "output_type": "execute_result",
     "data": {
      "text/plain": [
       "49.0"
      ]
     },
     "metadata": {},
     "execution_count": 204
    }
   ],
   "metadata": {}
  },
  {
   "cell_type": "code",
   "execution_count": 205,
   "source": [
    "# with with odds ratio instead of log odds ratio\r\n",
    "res_eyding_subframe = res_eyding.summary_frame().loc[\r\n",
    "    :'random effect',\r\n",
    "    ['eff', 'sd_eff', 'ci_low', 'ci_upp']\r\n",
    "]\r\n",
    "round(res_eyding_subframe.apply(np.exp), 2)"
   ],
   "outputs": [
    {
     "output_type": "execute_result",
     "data": {
      "text/html": [
       "<div>\n",
       "<style scoped>\n",
       "    .dataframe tbody tr th:only-of-type {\n",
       "        vertical-align: middle;\n",
       "    }\n",
       "\n",
       "    .dataframe tbody tr th {\n",
       "        vertical-align: top;\n",
       "    }\n",
       "\n",
       "    .dataframe thead th {\n",
       "        text-align: right;\n",
       "    }\n",
       "</style>\n",
       "<table border=\"1\" class=\"dataframe\">\n",
       "  <thead>\n",
       "    <tr style=\"text-align: right;\">\n",
       "      <th></th>\n",
       "      <th>eff</th>\n",
       "      <th>sd_eff</th>\n",
       "      <th>ci_low</th>\n",
       "      <th>ci_upp</th>\n",
       "    </tr>\n",
       "  </thead>\n",
       "  <tbody>\n",
       "    <tr>\n",
       "      <th>014</th>\n",
       "      <td>2.51</td>\n",
       "      <td>1.31</td>\n",
       "      <td>1.49</td>\n",
       "      <td>4.25</td>\n",
       "    </tr>\n",
       "    <tr>\n",
       "      <th>015</th>\n",
       "      <td>1.32</td>\n",
       "      <td>1.32</td>\n",
       "      <td>0.77</td>\n",
       "      <td>2.27</td>\n",
       "    </tr>\n",
       "    <tr>\n",
       "      <th>046</th>\n",
       "      <td>1.09</td>\n",
       "      <td>1.20</td>\n",
       "      <td>0.77</td>\n",
       "      <td>1.55</td>\n",
       "    </tr>\n",
       "    <tr>\n",
       "      <th>047</th>\n",
       "      <td>1.15</td>\n",
       "      <td>1.20</td>\n",
       "      <td>0.80</td>\n",
       "      <td>1.66</td>\n",
       "    </tr>\n",
       "    <tr>\n",
       "      <th>050</th>\n",
       "      <td>0.82</td>\n",
       "      <td>1.28</td>\n",
       "      <td>0.51</td>\n",
       "      <td>1.34</td>\n",
       "    </tr>\n",
       "    <tr>\n",
       "      <th>045</th>\n",
       "      <td>0.83</td>\n",
       "      <td>1.37</td>\n",
       "      <td>0.45</td>\n",
       "      <td>1.54</td>\n",
       "    </tr>\n",
       "    <tr>\n",
       "      <th>049</th>\n",
       "      <td>1.07</td>\n",
       "      <td>1.37</td>\n",
       "      <td>0.58</td>\n",
       "      <td>1.98</td>\n",
       "    </tr>\n",
       "    <tr>\n",
       "      <th>fixed effect</th>\n",
       "      <td>1.17</td>\n",
       "      <td>1.09</td>\n",
       "      <td>0.98</td>\n",
       "      <td>1.39</td>\n",
       "    </tr>\n",
       "    <tr>\n",
       "      <th>random effect</th>\n",
       "      <td>1.17</td>\n",
       "      <td>1.14</td>\n",
       "      <td>0.91</td>\n",
       "      <td>1.51</td>\n",
       "    </tr>\n",
       "  </tbody>\n",
       "</table>\n",
       "</div>"
      ],
      "text/plain": [
       "                eff  sd_eff  ci_low  ci_upp\n",
       "014            2.51    1.31    1.49    4.25\n",
       "015            1.32    1.32    0.77    2.27\n",
       "046            1.09    1.20    0.77    1.55\n",
       "047            1.15    1.20    0.80    1.66\n",
       "050            0.82    1.28    0.51    1.34\n",
       "045            0.83    1.37    0.45    1.54\n",
       "049            1.07    1.37    0.58    1.98\n",
       "fixed effect   1.17    1.09    0.98    1.39\n",
       "random effect  1.17    1.14    0.91    1.51"
      ]
     },
     "metadata": {},
     "execution_count": 205
    }
   ],
   "metadata": {}
  },
  {
   "cell_type": "code",
   "execution_count": 206,
   "source": [
    "# Odds ratio\r\n",
    "np.exp(res_eyding.eff)"
   ],
   "outputs": [
    {
     "output_type": "execute_result",
     "data": {
      "text/plain": [
       "array([2.51336898, 1.32420635, 1.09112903, 1.1545015 , 0.82407407,\n",
       "       0.830721  , 1.07407407])"
      ]
     },
     "metadata": {},
     "execution_count": 206
    }
   ],
   "metadata": {}
  },
  {
   "cell_type": "code",
   "execution_count": 207,
   "source": [
    "# 95% CI of the odds ratio\r\n",
    "np.exp(res_eyding.conf_int_samples())"
   ],
   "outputs": [
    {
     "output_type": "execute_result",
     "data": {
      "text/plain": [
       "array([[1.48615459, 0.7707871 , 0.76800148, 0.80402743, 0.50784043,\n",
       "        0.447326  , 0.58244518],\n",
       "       [4.25058316, 2.2749764 , 1.55020869, 1.65774656, 1.3372273 ,\n",
       "        1.5427169 , 1.98067586]])"
      ]
     },
     "metadata": {},
     "execution_count": 207
    }
   ],
   "metadata": {}
  },
  {
   "cell_type": "code",
   "execution_count": 208,
   "source": [
    "# Weights for fixed effect situation\r\n",
    "1/var_eff_eyding"
   ],
   "outputs": [
    {
     "output_type": "execute_result",
     "data": {
      "text/plain": [
       "array([13.9143513 , 13.11748621, 31.1490689 , 29.34821992, 16.39224046,\n",
       "       10.0254981 , 10.25706022])"
      ]
     },
     "metadata": {},
     "execution_count": 208
    }
   ],
   "metadata": {}
  },
  {
   "cell_type": "code",
   "execution_count": 209,
   "source": [
    "res_eyding.weights_fe"
   ],
   "outputs": [
    {
     "output_type": "execute_result",
     "data": {
      "text/plain": [
       "array([13.9143513 , 13.11748621, 31.1490689 , 29.34821992, 16.39224046,\n",
       "       10.0254981 , 10.25706022])"
      ]
     },
     "metadata": {},
     "execution_count": 209
    }
   ],
   "metadata": {}
  },
  {
   "cell_type": "code",
   "execution_count": 210,
   "source": [
    "# Relative weights for random effect situation\r\n",
    "res_eyding.weights_re / sum(res_eyding.weights_re)"
   ],
   "outputs": [
    {
     "output_type": "execute_result",
     "data": {
      "text/plain": [
       "array([0.13185003, 0.12749867, 0.19132125, 0.18713961, 0.14408635,\n",
       "       0.10825823, 0.10984586])"
      ]
     },
     "metadata": {},
     "execution_count": 210
    }
   ],
   "metadata": {}
  },
  {
   "cell_type": "code",
   "execution_count": 211,
   "source": [
    "res_eyding.weights_rel_re"
   ],
   "outputs": [
    {
     "output_type": "execute_result",
     "data": {
      "text/plain": [
       "array([0.13185003, 0.12749867, 0.19132125, 0.18713961, 0.14408635,\n",
       "       0.10825823, 0.10984586])"
      ]
     },
     "metadata": {},
     "execution_count": 211
    }
   ],
   "metadata": {}
  },
  {
   "cell_type": "markdown",
   "source": [
    "### Step-by-step\r\n",
    "\r\n",
    "Similarly to the previous example with the Woolf method, we can calculate the different parameters using $ \\log\\mathrm(OR) = \\log(p_1) - \\log(1 - p_1) - \\log(p_2) + \\log(1 - p_2) $ and $ \\log(\\operatorname{SE})= \\sqrt{1/a + 1/b + 1/c + 1/d} $, with $ p_1 = a/n_1 $  and $ p_2 = c/n_2 $, and $ n_1 = a + b $ the total number of exposed to treatment (disease + no disease), and $ n_2 = c + d $ the total numner of not exposed to treatment."
   ],
   "metadata": {}
  },
  {
   "cell_type": "code",
   "execution_count": 212,
   "source": [
    "# for example for stydy #014\r\n",
    "data014 = data_eyding[0][1:]\r\n",
    "print(data014)"
   ],
   "outputs": [
    {
     "output_type": "stream",
     "name": "stdout",
     "text": [
      "[60, 126, 34, 128]\n"
     ]
    }
   ],
   "metadata": {}
  },
  {
   "cell_type": "code",
   "execution_count": 213,
   "source": [
    "res_eyding.summary_frame().iloc[0]"
   ],
   "outputs": [
    {
     "output_type": "execute_result",
     "data": {
      "text/plain": [
       "eff       0.921624\n",
       "sd_eff    0.268083\n",
       "ci_low    0.396192\n",
       "ci_upp    1.447056\n",
       "w_fe      0.112028\n",
       "w_re      0.131850\n",
       "Name: 014, dtype: float64"
      ]
     },
     "metadata": {},
     "execution_count": 213
    }
   ],
   "metadata": {}
  },
  {
   "cell_type": "code",
   "execution_count": 214,
   "source": [
    "a, n1, c, n2 = data014\r\n",
    "b, d = n1 - a, n2 - c\r\n",
    "p1, p2 = a/n1, c/n2\r\n",
    "\r\n",
    "log_or_014 = np.log(p1) - np.log(1-p1) - np.log(p2) + np.log(1-p2)\r\n",
    "log_se_014 = np.sqrt(1/a + 1/b + 1/c + 1/d)\r\n",
    "\r\n",
    "conf=0.95\r\n",
    "z = stats.norm.ppf((1 + conf) /2) # same as stats.norm.isf((1 - conf) /2)\r\n",
    "\r\n",
    "print(f\"Log(OR) for study `014` = {log_or_014:.5f} with log(SE) = {log_se_014:.5f}\")\r\n",
    "print(f\"Its 95% CI extends from {log_or_014 - z*log_se_014:.4f} to {log_or_014 + z*log_se_014:.4f}\")\r\n",
    "\r\n",
    "print(f\"OR for study `014` = {np.exp(log_or_014):.2f} with SE = {np.exp(log_se_014):.2f}\")\r\n",
    "print(f\"Its 95% CI extends from {np.exp(log_or_014 - z*log_se_014):.2f} to {np.exp(log_or_014 + z*log_se_014):.2f}\")"
   ],
   "outputs": [
    {
     "output_type": "stream",
     "name": "stdout",
     "text": [
      "Log(OR) for study `014` = 0.92162 with log(SE) = 0.26808\n",
      "Its 95% CI extends from 0.3962 to 1.4471\n",
      "OR for study `014` = 2.51 with SE = 1.31\n",
      "Its 95% CI extends from 1.49 to 4.25\n"
     ]
    }
   ],
   "metadata": {}
  },
  {
   "cell_type": "markdown",
   "source": [
    "We can compute Cochran's $Q$ with $ Q = \\sum w_i(E_i-E)^2 $ where $ E = \\frac{\\sum w_iE_i}{\\sum w_i} $, as discussed earlier.\r\n",
    "\r\n",
    "Also remember that $ I^2 = 100\\%  \\frac{Q - \\mathrm{Df}}{Q} $."
   ],
   "metadata": {}
  },
  {
   "cell_type": "code",
   "execution_count": 215,
   "source": [
    "df_eyding = len(eff_eyding) - 1\r\n",
    "\r\n",
    "Q_eyding = sum(res_eyding.weights_fe * (res_eyding.effect - res_eyding.mean_effect_fe)**2)\r\n",
    "I_eyding = (Q_eyding - df_eyding)/Q_eyding\r\n",
    "pvalue_homogen_eyding = 1 - stats.chi2.cdf(x = Q_eyding, df=df_eyding)\r\n",
    "\r\n",
    "print(f\"Cochrane Q = {Q_eyding:.3f} and I² = {100*I_eyding:.1f}%, with P value for homogeneity = \\\r\n",
    "{pvalue_homogen_eyding:.3f}\")"
   ],
   "outputs": [
    {
     "output_type": "stream",
     "name": "stdout",
     "text": [
      "Cochrane Q = 11.757 and I² = 49.0%, with P value for homogeneity = 0.068\n"
     ]
    }
   ],
   "metadata": {}
  },
  {
   "cell_type": "markdown",
   "source": [
    "For the weight, in _fixed effect_ situation, $ \\mathrm{weight_{fe}} = \\frac{1}{\\operatorname{Var}} $ (see above). For the _random effect_ situation we needs to compute a $\\tau^2$ value that will serve as a correction.\r\n",
    "\r\n",
    "For the calculation of $\\tau^2$ using the $\\chi^2$ (also nammed DerSimonian and Laird) method, we need $ q = \\sum{w_iE_i^2} - \\frac{(\\sum{w_iE_i})^2}{\\sum{w_i}} $ and another constant  $ c = \\frac{\\sum{w_i} - \\sum{w_i^2}}{\\sum{w_i}} $.\r\n",
    "\r\n",
    "Thus, $ \\tau^2 = \\frac{q - \\mathrm{Df}}{c} $.\r\n",
    "\r\n",
    "Finally, the weights for the _random effect_ are obtained with $ \\mathrm{weight_{re}} = \\frac{1}{\\operatorname{Var} + \\tau^2} $"
   ],
   "metadata": {}
  },
  {
   "cell_type": "code",
   "execution_count": 216,
   "source": [
    "weights_eyding = 1/var_eff_eyding # weights fixed effect\r\n",
    "\r\n",
    "q_eyding = (weights_eyding * eff_eyding**2).sum() - ((weights_eyding * eff_eyding).sum())**2 / weights_eyding.sum()\r\n",
    "c_eyding = weights_eyding.sum() - (weights_eyding**2).sum() / weights_eyding.sum()\r\n",
    "tau_eyding = (q_eyding - df_eyding)/c_eyding\r\n",
    "weights_eyding_re = 1/(var_eff_eyding + tau_eyding) # weights random effect\r\n",
    "\r\n",
    "print(f\"tau2 = {tau_eyding:.3f}\")\r\n",
    "print(\"relative weights for random effect:\", weights_eyding_re/weights_eyding_re.sum())"
   ],
   "outputs": [
    {
     "output_type": "stream",
     "name": "stdout",
     "text": [
      "tau2 = 0.056\n",
      "relative weights for random effect: [0.13185003 0.12749867 0.19132125 0.18713961 0.14408635 0.10825823\n",
      " 0.10984586]\n"
     ]
    }
   ],
   "metadata": {}
  },
  {
   "cell_type": "code",
   "execution_count": 217,
   "source": [
    "# of note q is same as Cochrane's Q\r\n",
    "q_eyding"
   ],
   "outputs": [
    {
     "output_type": "execute_result",
     "data": {
      "text/plain": [
       "11.756574010710532"
      ]
     },
     "metadata": {},
     "execution_count": 217
    }
   ],
   "metadata": {}
  },
  {
   "cell_type": "code",
   "execution_count": 218,
   "source": [
    "E_eyding_re = eff_eyding * weights_eyding_re\r\n",
    "E_bar_eyding_re = sum(E_eyding_re) / sum(weights_eyding_re)\r\n",
    "var_bar_eyding_re = 1 / sum(weights_eyding_re)\r\n",
    "SE_bar_eyding_re= var_bar_eyding_re**.5\r\n",
    "t_crit_eyding = stats.norm().ppf((1+.95)/2) # we didn't use t-distribution with combine_effect()\r\n",
    "\r\n",
    "# Z_eyding_re = E_bar_eyding_re/SE_bar_eyding_re\r\n",
    "# pvalue_eyding_re = 2 * (1 - stats.t.cdf(x = abs(Z_eyding_re), df=df_eyding))\r\n",
    "\r\n",
    "print(f\"Combined effect size = {E_bar_eyding_re:.5f} with SE = {SE_bar_eyding_re:.5f} and the 95% CI ranging from {E_bar_eyding_re - t_crit_eyding*SE_bar_eyding_re:.4f} to {E_bar_eyding_re + t_crit_eyding*SE_bar_eyding_re:.4f}\")\r\n",
    "print(f\"The 95% CI of the total OR of {np.exp(E_bar_eyding_re):.2f} extends from {np.exp(E_bar_eyding_re - t_crit_eyding*SE_bar_eyding_re):.2f} to {np.exp(E_bar_eyding_re + t_crit_eyding*SE_bar_eyding_re):.2f}\")\r\n",
    "# print(f\"Z statistic = {Z_eyding_re:.2f} with an associated P value = {pvalue_eyding_re:.5f}\")"
   ],
   "outputs": [
    {
     "output_type": "stream",
     "name": "stdout",
     "text": [
      "Combined effect size = 0.16078 with SE = 0.12987 and the 95% CI ranging from -0.0938 to 0.4153\n",
      "The 95% CI of the total OR of 1.17 extends from 0.91 to 1.51\n"
     ]
    }
   ],
   "metadata": {}
  },
  {
   "cell_type": "markdown",
   "source": [
    "### Meta-analysis using flexible random-effects distribution models\r\n",
    "\r\n",
    "In meta-analysis in medical studies, random-effects models have been the primary statistical tools for quantitative evaluation of treatment effects that account for betweenstudies heterogeneity. Conventionally, the _normal distribution_ assumption has been adopted in most systematic reviews due to its computational and conceptual simplicity. However, the shape of the random-effects distribution reflects how the treatment effects parameters (e.g., mean difference, log relative risk) are distributed in the target population, and are directly associated with the fundamental heterogeneity of treatment effects. If the normal distribution assumption diverges drastically from the true heterogeneous structure, the overall results of the meta-analyses may be misleading.\r\n",
    "\r\n",
    "[New methods](https://arxiv.org/ftp/arxiv/papers/2003/2003.04598.pdf) propose the random-effects meta-analysis with flexible distribution models that can flexibly express skewness, kurtosis, and tailweight: (1) skew normal distribution, (2) skew t-distribution, (3) asymmetric Subbotin distribution, (4) Jones-Faddy distribution, and (5) sinh-arcsinh distribution.\r\n",
    "\r\n",
    "The overall conclusions and interpretations of meta-analyses can be dramatically altered if the normal distribution assumption is not suitable."
   ],
   "metadata": {}
  },
  {
   "cell_type": "markdown",
   "source": [
    "### Mantel-Hanszel odds-ratio using contingency tables\r\n",
    "\r\n",
    "the meta-analysis functions currently do not include the Mantel-Hanszel method. However, the fixed effects results can be computed directly using StratifiedTable as illustrated later. Here we use the `catheter` dataset from the R package `R meta`, with `n.trt` and `n.ctrl` the number of subjects , and `col.trt` and `col.ctrl` the number of events in the _treatment_ and _control_ groups respectively."
   ],
   "metadata": {}
  },
  {
   "cell_type": "code",
   "execution_count": 219,
   "source": [
    "catheter = pd.read_csv(\"https://raw.githubusercontent.com/sbwiecko/intro_statistique_R/master/data/catheter.csv\", index_col=0)\r\n",
    "\r\n",
    "catheter.head()"
   ],
   "outputs": [
    {
     "output_type": "execute_result",
     "data": {
      "text/html": [
       "<div>\n",
       "<style scoped>\n",
       "    .dataframe tbody tr th:only-of-type {\n",
       "        vertical-align: middle;\n",
       "    }\n",
       "\n",
       "    .dataframe tbody tr th {\n",
       "        vertical-align: top;\n",
       "    }\n",
       "\n",
       "    .dataframe thead th {\n",
       "        text-align: right;\n",
       "    }\n",
       "</style>\n",
       "<table border=\"1\" class=\"dataframe\">\n",
       "  <thead>\n",
       "    <tr style=\"text-align: right;\">\n",
       "      <th></th>\n",
       "      <th>Name</th>\n",
       "      <th>n.trt</th>\n",
       "      <th>n.ctrl</th>\n",
       "      <th>col.trt</th>\n",
       "      <th>col.ctrl</th>\n",
       "      <th>inf.trt</th>\n",
       "      <th>inf.ctrl</th>\n",
       "    </tr>\n",
       "  </thead>\n",
       "  <tbody>\n",
       "    <tr>\n",
       "      <th>1</th>\n",
       "      <td>Ciresi</td>\n",
       "      <td>124</td>\n",
       "      <td>127</td>\n",
       "      <td>15.0</td>\n",
       "      <td>21.0</td>\n",
       "      <td>13.0</td>\n",
       "      <td>14.0</td>\n",
       "    </tr>\n",
       "    <tr>\n",
       "      <th>2</th>\n",
       "      <td>George</td>\n",
       "      <td>44</td>\n",
       "      <td>35</td>\n",
       "      <td>10.0</td>\n",
       "      <td>25.0</td>\n",
       "      <td>1.0</td>\n",
       "      <td>3.0</td>\n",
       "    </tr>\n",
       "    <tr>\n",
       "      <th>3</th>\n",
       "      <td>Hannan</td>\n",
       "      <td>68</td>\n",
       "      <td>60</td>\n",
       "      <td>22.0</td>\n",
       "      <td>22.0</td>\n",
       "      <td>5.0</td>\n",
       "      <td>7.0</td>\n",
       "    </tr>\n",
       "    <tr>\n",
       "      <th>4</th>\n",
       "      <td>Heard</td>\n",
       "      <td>151</td>\n",
       "      <td>157</td>\n",
       "      <td>60.0</td>\n",
       "      <td>82.0</td>\n",
       "      <td>5.0</td>\n",
       "      <td>6.0</td>\n",
       "    </tr>\n",
       "    <tr>\n",
       "      <th>5</th>\n",
       "      <td>vanHeerden</td>\n",
       "      <td>28</td>\n",
       "      <td>26</td>\n",
       "      <td>4.0</td>\n",
       "      <td>10.0</td>\n",
       "      <td>NaN</td>\n",
       "      <td>NaN</td>\n",
       "    </tr>\n",
       "  </tbody>\n",
       "</table>\n",
       "</div>"
      ],
      "text/plain": [
       "         Name  n.trt  n.ctrl  col.trt  col.ctrl  inf.trt  inf.ctrl\n",
       "1      Ciresi    124     127     15.0      21.0     13.0      14.0\n",
       "2      George     44      35     10.0      25.0      1.0       3.0\n",
       "3      Hannan     68      60     22.0      22.0      5.0       7.0\n",
       "4       Heard    151     157     60.0      82.0      5.0       6.0\n",
       "5  vanHeerden     28      26      4.0      10.0      NaN       NaN"
      ]
     },
     "metadata": {},
     "execution_count": 219
    }
   ],
   "metadata": {}
  },
  {
   "cell_type": "code",
   "execution_count": 220,
   "source": [
    "df_catheter = catheter[[\"Name\", \"col.trt\", \"n.trt\",  \"col.ctrl\", \"n.ctrl\"]].set_index(\"Name\")\r\n",
    "df_catheter = df_catheter.iloc[[12,5,4,2,11,3,10,0,7,9,1]]\r\n",
    "df_catheter"
   ],
   "outputs": [
    {
     "output_type": "execute_result",
     "data": {
      "text/html": [
       "<div>\n",
       "<style scoped>\n",
       "    .dataframe tbody tr th:only-of-type {\n",
       "        vertical-align: middle;\n",
       "    }\n",
       "\n",
       "    .dataframe tbody tr th {\n",
       "        vertical-align: top;\n",
       "    }\n",
       "\n",
       "    .dataframe thead th {\n",
       "        text-align: right;\n",
       "    }\n",
       "</style>\n",
       "<table border=\"1\" class=\"dataframe\">\n",
       "  <thead>\n",
       "    <tr style=\"text-align: right;\">\n",
       "      <th></th>\n",
       "      <th>col.trt</th>\n",
       "      <th>n.trt</th>\n",
       "      <th>col.ctrl</th>\n",
       "      <th>n.ctrl</th>\n",
       "    </tr>\n",
       "    <tr>\n",
       "      <th>Name</th>\n",
       "      <th></th>\n",
       "      <th></th>\n",
       "      <th></th>\n",
       "      <th></th>\n",
       "    </tr>\n",
       "  </thead>\n",
       "  <tbody>\n",
       "    <tr>\n",
       "      <th>Tennenberg</th>\n",
       "      <td>8.0</td>\n",
       "      <td>137</td>\n",
       "      <td>32.0</td>\n",
       "      <td>145</td>\n",
       "    </tr>\n",
       "    <tr>\n",
       "      <th>Maki</th>\n",
       "      <td>28.0</td>\n",
       "      <td>208</td>\n",
       "      <td>47.0</td>\n",
       "      <td>195</td>\n",
       "    </tr>\n",
       "    <tr>\n",
       "      <th>vanHeerden</th>\n",
       "      <td>4.0</td>\n",
       "      <td>28</td>\n",
       "      <td>10.0</td>\n",
       "      <td>26</td>\n",
       "    </tr>\n",
       "    <tr>\n",
       "      <th>Hannan</th>\n",
       "      <td>22.0</td>\n",
       "      <td>68</td>\n",
       "      <td>22.0</td>\n",
       "      <td>60</td>\n",
       "    </tr>\n",
       "    <tr>\n",
       "      <th>Bach(b)</th>\n",
       "      <td>2.0</td>\n",
       "      <td>116</td>\n",
       "      <td>16.0</td>\n",
       "      <td>117</td>\n",
       "    </tr>\n",
       "    <tr>\n",
       "      <th>Heard</th>\n",
       "      <td>60.0</td>\n",
       "      <td>151</td>\n",
       "      <td>82.0</td>\n",
       "      <td>157</td>\n",
       "    </tr>\n",
       "    <tr>\n",
       "      <th>Collins</th>\n",
       "      <td>2.0</td>\n",
       "      <td>98</td>\n",
       "      <td>25.0</td>\n",
       "      <td>139</td>\n",
       "    </tr>\n",
       "    <tr>\n",
       "      <th>Ciresi</th>\n",
       "      <td>15.0</td>\n",
       "      <td>124</td>\n",
       "      <td>21.0</td>\n",
       "      <td>127</td>\n",
       "    </tr>\n",
       "    <tr>\n",
       "      <th>Ramsay</th>\n",
       "      <td>45.0</td>\n",
       "      <td>199</td>\n",
       "      <td>63.0</td>\n",
       "      <td>189</td>\n",
       "    </tr>\n",
       "    <tr>\n",
       "      <th>Trazzera</th>\n",
       "      <td>16.0</td>\n",
       "      <td>123</td>\n",
       "      <td>24.0</td>\n",
       "      <td>99</td>\n",
       "    </tr>\n",
       "    <tr>\n",
       "      <th>George</th>\n",
       "      <td>10.0</td>\n",
       "      <td>44</td>\n",
       "      <td>25.0</td>\n",
       "      <td>35</td>\n",
       "    </tr>\n",
       "  </tbody>\n",
       "</table>\n",
       "</div>"
      ],
      "text/plain": [
       "            col.trt  n.trt  col.ctrl  n.ctrl\n",
       "Name                                        \n",
       "Tennenberg      8.0    137      32.0     145\n",
       "Maki           28.0    208      47.0     195\n",
       "vanHeerden      4.0     28      10.0      26\n",
       "Hannan         22.0     68      22.0      60\n",
       "Bach(b)         2.0    116      16.0     117\n",
       "Heard          60.0    151      82.0     157\n",
       "Collins         2.0     98      25.0     139\n",
       "Ciresi         15.0    124      21.0     127\n",
       "Ramsay         45.0    199      63.0     189\n",
       "Trazzera       16.0    123      24.0      99\n",
       "George         10.0     44      25.0      35"
      ]
     },
     "metadata": {},
     "execution_count": 220
    }
   ],
   "metadata": {}
  },
  {
   "cell_type": "code",
   "execution_count": 221,
   "source": [
    "res_catheter = combine_effects(\r\n",
    "     *effectsize_2proportions(*df_catheter.values.T, statistic=\"or\"),\r\n",
    "     use_t=False,\r\n",
    "     row_names=df_catheter.index,\r\n",
    ")\r\n",
    "\r\n",
    "print(round(res_catheter.summary_frame().apply(np.exp), 2))\r\n",
    "\r\n",
    "fig = res_catheter.plot_forest(use_exp=True)\r\n",
    "fig.set_figheight(8)\r\n",
    "plt.gca().set_title('Forest plot - Catheter dataset')"
   ],
   "outputs": [
    {
     "output_type": "stream",
     "name": "stdout",
     "text": [
      "                    eff  sd_eff  ci_low  ci_upp  w_fe  w_re\n",
      "Tennenberg         0.22    1.52    0.10    0.49  1.07  1.10\n",
      "Maki               0.49    1.30    0.29    0.82  1.17  1.12\n",
      "vanHeerden         0.27    1.96    0.07    1.00  1.02  1.06\n",
      "Hannan             0.83    1.45    0.40    1.72  1.08  1.10\n",
      "Bach(b)            0.11    2.14    0.02    0.49  1.02  1.05\n",
      "Heard              0.60    1.26    0.38    0.95  1.23  1.13\n",
      "Collins            0.09    2.11    0.02    0.41  1.02  1.05\n",
      "Ciresi             0.69    1.44    0.34    1.42  1.09  1.11\n",
      "Ramsay             0.58    1.26    0.37    0.92  1.24  1.13\n",
      "Trazzera           0.47    1.43    0.23    0.94  1.09  1.11\n",
      "George             0.12    1.68    0.04    0.33  1.04  1.08\n",
      "fixed effect       0.47    1.11    0.38    0.58  2.72   NaN\n",
      "random effect      0.38    1.25    0.25    0.58   NaN  2.72\n",
      "fixed effect wls   0.47    1.18    0.34    0.65  2.72   NaN\n",
      "random effect wls  0.38    1.25    0.25    0.58   NaN  2.72\n"
     ]
    },
    {
     "output_type": "execute_result",
     "data": {
      "text/plain": [
       "Text(0.5, 1.0, 'Forest plot - Catheter dataset')"
      ]
     },
     "metadata": {},
     "execution_count": 221
    },
    {
     "output_type": "display_data",
     "data": {
      "image/png": "[encoded data removed]",
      "text/plain": [
       "<Figure size 432x576 with 1 Axes>"
      ]
     },
     "metadata": {
      "needs_background": "light"
     }
    }
   ],
   "metadata": {}
  },
  {
   "cell_type": "code",
   "execution_count": 222,
   "source": [
    "res_catheter.test_homogeneity()"
   ],
   "outputs": [
    {
     "output_type": "execute_result",
     "data": {
      "text/plain": [
       "<class 'statsmodels.stats.base.HolderTuple'>\n",
       "statistic = 24.90220481352818\n",
       "pvalue = 0.005533987983273774\n",
       "df = 10\n",
       "distr = 'chi2'\n",
       "tuple = (24.90220481352818, 0.005533987983273774)"
      ]
     },
     "metadata": {},
     "execution_count": 222
    }
   ],
   "metadata": {}
  },
  {
   "cell_type": "code",
   "execution_count": 223,
   "source": [
    "# we need to create a 2 x 2 x k contingency table to be used with StratifiedTable.\r\n",
    "t, nt, c, nc = df_catheter.values.T\r\n",
    "counts = np.column_stack([t, nt - t, c, nc - c])\r\n",
    "ctables = counts.T.reshape(2, 2, -1)\r\n",
    "ctables[:, :, 0]"
   ],
   "outputs": [
    {
     "output_type": "execute_result",
     "data": {
      "text/plain": [
       "array([[  8., 129.],\n",
       "       [ 32., 113.]])"
      ]
     },
     "metadata": {},
     "execution_count": 223
    }
   ],
   "metadata": {}
  },
  {
   "cell_type": "code",
   "execution_count": 224,
   "source": [
    "counts[0]"
   ],
   "outputs": [
    {
     "output_type": "execute_result",
     "data": {
      "text/plain": [
       "array([  8., 129.,  32., 113.])"
      ]
     },
     "metadata": {},
     "execution_count": 224
    }
   ],
   "metadata": {}
  },
  {
   "cell_type": "code",
   "execution_count": 225,
   "source": [
    "df_catheter.values.T.T[0]"
   ],
   "outputs": [
    {
     "output_type": "execute_result",
     "data": {
      "text/plain": [
       "array([  8., 137.,  32., 145.])"
      ]
     },
     "metadata": {},
     "execution_count": 225
    }
   ],
   "metadata": {}
  },
  {
   "cell_type": "code",
   "execution_count": 226,
   "source": [
    "import statsmodels.stats.api as smstats\r\n",
    "\r\n",
    "st = smstats.StratifiedTable(ctables.astype(np.float64))\r\n",
    "\r\n",
    "st.logodds_pooled_confint()"
   ],
   "outputs": [
    {
     "output_type": "execute_result",
     "data": {
      "text/plain": [
       "(-1.0102672315383547, -0.6084890097914877)"
      ]
     },
     "metadata": {},
     "execution_count": 226
    }
   ],
   "metadata": {}
  },
  {
   "cell_type": "code",
   "execution_count": 227,
   "source": [
    "print(st.test_equal_odds())"
   ],
   "outputs": [
    {
     "output_type": "stream",
     "name": "stdout",
     "text": [
      "pvalue      0.00266808399022056\n",
      "statistic   26.93358948598208\n"
     ]
    }
   ],
   "metadata": {}
  },
  {
   "cell_type": "code",
   "execution_count": 228,
   "source": [
    "# MHtest\r\n",
    "print(st.test_null_odds())"
   ],
   "outputs": [
    {
     "output_type": "stream",
     "name": "stdout",
     "text": [
      "pvalue      1.2212453270876722e-15\n",
      "statistic   64.11077206665642\n"
     ]
    }
   ],
   "metadata": {}
  },
  {
   "cell_type": "code",
   "execution_count": 229,
   "source": [
    "print(st.summary())"
   ],
   "outputs": [
    {
     "output_type": "stream",
     "name": "stdout",
     "text": [
      "                   Estimate   LCB    UCB  \n",
      "------------------------------------------\n",
      "Pooled odds           0.445   0.364  0.544\n",
      "Pooled log odds      -0.809  -1.010 -0.608\n",
      "Pooled risk ratio     0.560               \n",
      "                                          \n",
      "                 Statistic P-value \n",
      "-----------------------------------\n",
      "Test of OR=1        64.111   0.000 \n",
      "Test constant OR    26.934   0.003 \n",
      "                       \n",
      "-----------------------\n",
      "Number of tables   11  \n",
      "Min n              54  \n",
      "Max n             403  \n",
      "Avg n             235  \n",
      "Total n          2585  \n",
      "-----------------------\n"
     ]
    }
   ],
   "metadata": {}
  },
  {
   "cell_type": "code",
   "execution_count": 230,
   "source": [
    "print(round(res_catheter.summary_frame().apply(np.exp).iloc[-4:-3][['eff', 'ci_low', 'ci_upp']], 2))"
   ],
   "outputs": [
    {
     "output_type": "stream",
     "name": "stdout",
     "text": [
      "               eff  ci_low  ci_upp\n",
      "fixed effect  0.47    0.38    0.58\n"
     ]
    }
   ],
   "metadata": {}
  },
  {
   "cell_type": "markdown",
   "source": [
    "The results are not totally identical between the _Woolf and inverse variance_ (previous section), that can be used to estimate the pooled odds ratio with fixed effects, and the _Mantel-Haenszel_ method, which is generally the _most robust_ (see https://www.ncbi.nlm.nih.gov/pmc/articles/PMC5287121/).\r\n",
    "\r\n",
    "A confidence interval for the Mantel-Haenszel odds ratio in StatsDirect is calculated using the Robins, Breslow and Greenland variance formula (Robins et al., 1986) or by the method of Sato (1990) if the estimate of the odds ratio can not be determined. A chi-square test statistic is given with its associated probability that the pooled odds ratio is equal to one.\r\n",
    "\r\n",
    "There are at least two other ways to do a fixed effects meta-analysis of binary data. _Peto's method_ is a computationally simpler approximation to the Mantel-Haenszel approach. It is also possible to weight the individual odds ratios according to their estimated variances. The Mantel-Haenszel method is superior if there are trials with small numbers of events (less than 5 or so in either group)."
   ],
   "metadata": {}
  },
  {
   "cell_type": "markdown",
   "source": [
    "## Funnel plots\r\n",
    "\r\n",
    "A [funnel plot](https://psmu.improvement.nhs.uk/psc-shared-library/measurement-evidence-base/16-funnel-plots-for-comparing-institutional-performance/file) is a scatterplot of treatment effect against a measure of study precision. It is used primarily as a visual aid for detecting bias or systematic heterogeneity. A symmetric inverted funnel shape arises from a 'well-behaved' data set, in which publication bias is unlikely. An asymmetric funnel indicates a relationship between treatment effect estimate and study precision. This suggests the possibility of either publication bias or a systematic difference between studies of higher and lower precision (typically 'small study effects'). Asymmetry can also arise from use of an inappropriate effect measure. Whatever the cause, an asymmetric funnel plot leads to doubts over the appropriateness of a simple meta-analysis and suggests that there needs to be investigation of possible causes."
   ],
   "metadata": {}
  },
  {
   "cell_type": "code",
   "execution_count": 231,
   "source": [
    "from funnelplot.core import funnel\r\n",
    "from pydataset import data\r\n",
    "\r\n",
    "dataset=data('Caschool')\r\n",
    "dataset.head()\r\n"
   ],
   "outputs": [
    {
     "output_type": "execute_result",
     "data": {
      "text/html": [
       "<div>\n",
       "<style scoped>\n",
       "    .dataframe tbody tr th:only-of-type {\n",
       "        vertical-align: middle;\n",
       "    }\n",
       "\n",
       "    .dataframe tbody tr th {\n",
       "        vertical-align: top;\n",
       "    }\n",
       "\n",
       "    .dataframe thead th {\n",
       "        text-align: right;\n",
       "    }\n",
       "</style>\n",
       "<table border=\"1\" class=\"dataframe\">\n",
       "  <thead>\n",
       "    <tr style=\"text-align: right;\">\n",
       "      <th></th>\n",
       "      <th>distcod</th>\n",
       "      <th>county</th>\n",
       "      <th>district</th>\n",
       "      <th>grspan</th>\n",
       "      <th>enrltot</th>\n",
       "      <th>teachers</th>\n",
       "      <th>calwpct</th>\n",
       "      <th>mealpct</th>\n",
       "      <th>computer</th>\n",
       "      <th>testscr</th>\n",
       "      <th>compstu</th>\n",
       "      <th>expnstu</th>\n",
       "      <th>str</th>\n",
       "      <th>avginc</th>\n",
       "      <th>elpct</th>\n",
       "      <th>readscr</th>\n",
       "      <th>mathscr</th>\n",
       "    </tr>\n",
       "  </thead>\n",
       "  <tbody>\n",
       "    <tr>\n",
       "      <th>1</th>\n",
       "      <td>75119</td>\n",
       "      <td>Alameda</td>\n",
       "      <td>Sunol Glen Unified</td>\n",
       "      <td>KK-08</td>\n",
       "      <td>195</td>\n",
       "      <td>10.900000</td>\n",
       "      <td>0.510200</td>\n",
       "      <td>2.040800</td>\n",
       "      <td>67</td>\n",
       "      <td>690.799988</td>\n",
       "      <td>0.343590</td>\n",
       "      <td>6384.911133</td>\n",
       "      <td>17.889910</td>\n",
       "      <td>22.690001</td>\n",
       "      <td>0.000000</td>\n",
       "      <td>691.599976</td>\n",
       "      <td>690.000000</td>\n",
       "    </tr>\n",
       "    <tr>\n",
       "      <th>2</th>\n",
       "      <td>61499</td>\n",
       "      <td>Butte</td>\n",
       "      <td>Manzanita Elementary</td>\n",
       "      <td>KK-08</td>\n",
       "      <td>240</td>\n",
       "      <td>11.150000</td>\n",
       "      <td>15.416700</td>\n",
       "      <td>47.916698</td>\n",
       "      <td>101</td>\n",
       "      <td>661.200012</td>\n",
       "      <td>0.420833</td>\n",
       "      <td>5099.380859</td>\n",
       "      <td>21.524664</td>\n",
       "      <td>9.824000</td>\n",
       "      <td>4.583333</td>\n",
       "      <td>660.500000</td>\n",
       "      <td>661.900024</td>\n",
       "    </tr>\n",
       "    <tr>\n",
       "      <th>3</th>\n",
       "      <td>61549</td>\n",
       "      <td>Butte</td>\n",
       "      <td>Thermalito Union Elementary</td>\n",
       "      <td>KK-08</td>\n",
       "      <td>1550</td>\n",
       "      <td>82.900002</td>\n",
       "      <td>55.032299</td>\n",
       "      <td>76.322601</td>\n",
       "      <td>169</td>\n",
       "      <td>643.599976</td>\n",
       "      <td>0.109032</td>\n",
       "      <td>5501.954590</td>\n",
       "      <td>18.697226</td>\n",
       "      <td>8.978000</td>\n",
       "      <td>30.000002</td>\n",
       "      <td>636.299988</td>\n",
       "      <td>650.900024</td>\n",
       "    </tr>\n",
       "    <tr>\n",
       "      <th>4</th>\n",
       "      <td>61457</td>\n",
       "      <td>Butte</td>\n",
       "      <td>Golden Feather Union Elementary</td>\n",
       "      <td>KK-08</td>\n",
       "      <td>243</td>\n",
       "      <td>14.000000</td>\n",
       "      <td>36.475399</td>\n",
       "      <td>77.049202</td>\n",
       "      <td>85</td>\n",
       "      <td>647.700012</td>\n",
       "      <td>0.349794</td>\n",
       "      <td>7101.831055</td>\n",
       "      <td>17.357143</td>\n",
       "      <td>8.978000</td>\n",
       "      <td>0.000000</td>\n",
       "      <td>651.900024</td>\n",
       "      <td>643.500000</td>\n",
       "    </tr>\n",
       "    <tr>\n",
       "      <th>5</th>\n",
       "      <td>61523</td>\n",
       "      <td>Butte</td>\n",
       "      <td>Palermo Union Elementary</td>\n",
       "      <td>KK-08</td>\n",
       "      <td>1335</td>\n",
       "      <td>71.500000</td>\n",
       "      <td>33.108601</td>\n",
       "      <td>78.427002</td>\n",
       "      <td>171</td>\n",
       "      <td>640.849976</td>\n",
       "      <td>0.128090</td>\n",
       "      <td>5235.987793</td>\n",
       "      <td>18.671329</td>\n",
       "      <td>9.080333</td>\n",
       "      <td>13.857677</td>\n",
       "      <td>641.799988</td>\n",
       "      <td>639.900024</td>\n",
       "    </tr>\n",
       "  </tbody>\n",
       "</table>\n",
       "</div>"
      ],
      "text/plain": [
       "   distcod   county                         district grspan  enrltot  \\\n",
       "1    75119  Alameda               Sunol Glen Unified  KK-08      195   \n",
       "2    61499    Butte             Manzanita Elementary  KK-08      240   \n",
       "3    61549    Butte      Thermalito Union Elementary  KK-08     1550   \n",
       "4    61457    Butte  Golden Feather Union Elementary  KK-08      243   \n",
       "5    61523    Butte         Palermo Union Elementary  KK-08     1335   \n",
       "\n",
       "    teachers    calwpct    mealpct  computer     testscr   compstu  \\\n",
       "1  10.900000   0.510200   2.040800        67  690.799988  0.343590   \n",
       "2  11.150000  15.416700  47.916698       101  661.200012  0.420833   \n",
       "3  82.900002  55.032299  76.322601       169  643.599976  0.109032   \n",
       "4  14.000000  36.475399  77.049202        85  647.700012  0.349794   \n",
       "5  71.500000  33.108601  78.427002       171  640.849976  0.128090   \n",
       "\n",
       "       expnstu        str     avginc      elpct     readscr     mathscr  \n",
       "1  6384.911133  17.889910  22.690001   0.000000  691.599976  690.000000  \n",
       "2  5099.380859  21.524664   9.824000   4.583333  660.500000  661.900024  \n",
       "3  5501.954590  18.697226   8.978000  30.000002  636.299988  650.900024  \n",
       "4  7101.831055  17.357143   8.978000   0.000000  651.900024  643.500000  \n",
       "5  5235.987793  18.671329   9.080333  13.857677  641.799988  639.900024  "
      ]
     },
     "metadata": {},
     "execution_count": 231
    }
   ],
   "metadata": {}
  },
  {
   "cell_type": "code",
   "execution_count": 232,
   "source": [
    "funnel(df=data(\"Caschool\"), x=\"testscr\", group=\"county\", error_mode=\"data\");"
   ],
   "outputs": [
    {
     "output_type": "stream",
     "name": "stderr",
     "text": [
      "C:\\Users\\Sébastien\\AppData\\Local\\Programs\\Python\\Python39\\lib\\site-packages\\funnelplot\\core.py:14: RuntimeWarning: invalid value encountered in true_divide\n",
      "  return band / np.sqrt(group_size)\n",
      "C:\\Users\\Sébastien\\AppData\\Local\\Programs\\Python\\Python39\\lib\\site-packages\\funnelplot\\core.py:14: RuntimeWarning: divide by zero encountered in true_divide\n",
      "  return band / np.sqrt(group_size)\n",
      "C:\\Users\\Sébastien\\AppData\\Local\\Programs\\Python\\Python39\\lib\\site-packages\\funnelplot\\core.py:14: RuntimeWarning: divide by zero encountered in true_divide\n",
      "  return band / np.sqrt(group_size)\n",
      "C:\\Users\\Sébastien\\AppData\\Local\\Programs\\Python\\Python39\\lib\\site-packages\\funnelplot\\core.py:14: RuntimeWarning: divide by zero encountered in true_divide\n",
      "  return band / np.sqrt(group_size)\n",
      "C:\\Users\\Sébastien\\AppData\\Local\\Programs\\Python\\Python39\\lib\\site-packages\\funnelplot\\core.py:14: RuntimeWarning: divide by zero encountered in true_divide\n",
      "  return band / np.sqrt(group_size)\n",
      "C:\\Users\\Sébastien\\AppData\\Local\\Programs\\Python\\Python39\\lib\\site-packages\\funnelplot\\core.py:14: RuntimeWarning: divide by zero encountered in true_divide\n",
      "  return band / np.sqrt(group_size)\n",
      "C:\\Users\\Sébastien\\AppData\\Local\\Programs\\Python\\Python39\\lib\\site-packages\\funnelplot\\core.py:14: RuntimeWarning: divide by zero encountered in true_divide\n",
      "  return band / np.sqrt(group_size)\n",
      "C:\\Users\\Sébastien\\AppData\\Local\\Programs\\Python\\Python39\\lib\\site-packages\\funnelplot\\core.py:14: RuntimeWarning: divide by zero encountered in true_divide\n",
      "  return band / np.sqrt(group_size)\n",
      "C:\\Users\\Sébastien\\AppData\\Local\\Programs\\Python\\Python39\\lib\\site-packages\\funnelplot\\core.py:14: RuntimeWarning: divide by zero encountered in true_divide\n",
      "  return band / np.sqrt(group_size)\n",
      "C:\\Users\\Sébastien\\AppData\\Local\\Programs\\Python\\Python39\\lib\\site-packages\\funnelplot\\core.py:14: RuntimeWarning: divide by zero encountered in true_divide\n",
      "  return band / np.sqrt(group_size)\n"
     ]
    },
    {
     "output_type": "display_data",
     "data": {
      "image/png": "[encoded data removed]",
      "text/plain": [
       "<Figure size 432x288 with 1 Axes>"
      ]
     },
     "metadata": {
      "needs_background": "light"
     }
    }
   ],
   "metadata": {}
  },
  {
   "cell_type": "markdown",
   "source": [
    "However options are missing in Python to plot comprehensive visualizations of forest plots, subgroups and funnel plots, compared to R."
   ],
   "metadata": {}
  },
  {
   "cell_type": "markdown",
   "source": [
    "## Implementation in R using rmeta\r\n",
    "\r\n",
    "```r\r\n",
    "library('rmeta')\r\n",
    "data(catheter)\r\n",
    "\r\n",
    "a <- meta.MH( # Fixed effects (Mantel-Haenszel) meta-analysis\r\n",
    "    n.trt,\r\n",
    "    n.ctrl,\r\n",
    "    col.trt,\r\n",
    "    col.ctrl,\r\n",
    "    data=catheter,\r\n",
    "    names=Name,\r\n",
    "    subset=c(13,6,5,3,7,12,4,11,1,8,10,2))\r\n",
    "\r\n",
    "summary(a)\r\n",
    "\r\n",
    "# also possible\r\n",
    "metabin(\r\n",
    "    col.trt, # Number of events in experimental group\r\n",
    "    n.trt,   # Number of observations in experimental group\r\n",
    "    col.ctrl,# Number of events in control group\r\n",
    "    n.ctrl,  # Number of observations in control group\r\n",
    "    data=catheter,\r\n",
    "    sm=\"OR\", # summary measure\r\n",
    "    Q.Cochrane=FALSE,\r\n",
    "    method=\"MH\",\r\n",
    "    method.tau=\"DL\",\r\n",
    "    hakn=FALSE,\r\n",
    "    backtransf=FALSE)\r\n",
    "\r\n",
    "plot(a, summlabel='Total')\r\n",
    "funnelplot(a)\r\n",
    "\r\n",
    "metaplot(\r\n",
    "    a$logOR,\r\n",
    "    a$selogOR,\r\n",
    "    nn=a$selogOR^-2,\r\n",
    "    a$names, # equiv 1/a$selogOR^2\r\n",
    "    summn=a$logMH,\r\n",
    "    sumse=a$selogMH,\r\n",
    "    sumnn=a$selogMH^-2,\r\n",
    "    logeffect=TRUE,\r\n",
    "    colors=meta.colors(\r\n",
    "        box=\"magenta\",\r\n",
    "        lines=\"blue\",\r\n",
    "        zero=\"red\",\r\n",
    "        summary=\"orange\",\r\n",
    "        text=\"forestgreen\"))\r\n",
    "```"
   ],
   "metadata": {}
  }
 ],
 "metadata": {
  "kernelspec": {
   "name": "python3",
   "display_name": "Python 3.9.7 64-bit (system)"
  },
  "language_info": {
   "codemirror_mode": {
    "name": "ipython",
    "version": 3
   },
   "file_extension": ".py",
   "mimetype": "text/x-python",
   "name": "python",
   "nbconvert_exporter": "python",
   "pygments_lexer": "ipython3",
   "version": "3.9.7"
  },
  "interpreter": {
   "hash": "b51595f36012c8da2bf2284ebbd8d377d5c2d31fa7484164f2d2bcda7a09b462"
  }
 },
 "nbformat": 4,
 "nbformat_minor": 2
}