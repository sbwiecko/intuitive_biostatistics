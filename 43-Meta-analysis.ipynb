{
 "cells": [
  {
   "cell_type": "markdown",
   "source": [
    "# Meta-analysis\r\n",
    "\r\n",
    "Meta-analysis is used to combine evidence from multiple studies, usually clinical trials testing the effectiveness of therapies or tests. The pooled evidence from multiple studies can give much more precise and reliable answers than any single study can. Although many researchers are convinced that meta-analyses are hugely important and helpful, others doubt that meta-analysis can consistently overcome the huge challenges and produce consistently useful results:\r\n",
    "\r\n",
    "- inconsistent criteria to define a disease => define which patients are included\r\n",
    "- different outcome variables => define which outcomes are included\r\n",
    "- unpublished studies/publication bias => seek unpublished data, review registries of study protocols\r\n",
    "- some studies are of higher quality than others => define what makes a study of high enough quality to be included\r\n",
    "- different languages => arrange for translation\r\n",
    "- not enough information to perform a proper analysis => estimate data from figures, obtain unpublished details from investigators\r\n",
    "- published data may be internally inconsistent => resolve inconsistencies without bias, request details from investigators\r\n",
    "- data from some patients may be included in multiple publications, redundant analyses => ask investigators to clarify which patients were included in more than one publication\r\n",
    "\r\n",
    "A meta-analysis pools weighted effect sizes, it calculates a pooled P value from the pooled effect size.\r\n",
    "\r\n",
    "Meta-analyses don't have to be huge, it can be helpful to combine the results from as few as two studies.\r\n",
    "\r\n",
    "## Assumptions of meta-analysis\r\n",
    "\r\n",
    "There are two general methods that are used, each of which is based on different assumptions:\r\n",
    "\r\n",
    "- _fixed effects_: this model assumes that all the subjects in all the studies were really sampled from one large population. Thus, all teh studies are estimating the same effect, and the only difference between studies is due to random selection of subjects.\r\n",
    "- _random effects_: this model assumes that each study population is unique. The difference among study results is due both to differences between the populations and to random selection of subjects. This model is more realistic and is used more frequently."
   ],
   "metadata": {}
  },
  {
   "cell_type": "code",
   "execution_count": 1,
   "source": [
    "# We use the data extracted from Figure 43.1 on page 455\r\n",
    "import numpy as np\r\n",
    "import pandas as pd\r\n",
    "import matplotlib.pyplot as plt\r\n",
    "import seaborn as sns"
   ],
   "outputs": [],
   "metadata": {}
  },
  {
   "cell_type": "code",
   "execution_count": 2,
   "source": [
    "mean = np.array([2.5, 1.4, 1.1, 1.2,  .8,  .8, 1.1, np.NaN, 1.2])\r\n",
    "lower= np.array([1.8,  .8,  .8,  .8,  .5,  .4,  .6, np.NaN,  .9])\r\n",
    "upper= np.array([4.4, 2.2, 1.8, 1.9, 1.4, 1.6, 2,   np.NaN, 1.4])\r\n",
    "W = (upper-lower)/2"
   ],
   "outputs": [],
   "metadata": {}
  },
  {
   "cell_type": "code",
   "execution_count": 3,
   "source": [
    "plt.figure(figsize=(4,5))\r\n",
    "plt.errorbar(\r\n",
    "    x=np.flip(mean),\r\n",
    "    y=np.arange(len(mean)),\r\n",
    "    xerr=np.flip(W),\r\n",
    "    fmt='o',\r\n",
    "    ms=8,\r\n",
    "    ecolor=['red']+['blue']*8,\r\n",
    "    elinewidth=3,\r\n",
    ")\r\n",
    "\r\n",
    "plt.xlabel(\"Odds ratio (with 95% CI)\")\r\n",
    "plt.xticks([0.5, 1, 2, 4.0])\r\n",
    "plt.ylabel(\"Trial ID\")\r\n",
    "plt.yticks(\r\n",
    "    list(range(0,9)),\r\n",
    "    ['Total', '', '49', '45', '50', '47', '46', '15', '14'])\r\n",
    "plt.axvline(x=1, color='red', linestyle='--')\r\n",
    "sns.despine();"
   ],
   "outputs": [
    {
     "output_type": "display_data",
     "data": {
      "image/png": "[encoded data removed]",
      "text/plain": [
       "<Figure size 288x360 with 1 Axes>"
      ]
     },
     "metadata": {
      "needs_background": "light"
     }
    }
   ],
   "metadata": {}
  },
  {
   "cell_type": "markdown",
   "source": [
    "## Results from a meta-analysis\r\n",
    "\r\n",
    "Part of a meta-analysis is a narrative report that summarizes the studies that have been done and evaluates their strengths and weaknesses. The rest of a meta-analysis is quantitative. The results of each study are summarized by one value, called the **effect size**, along with its CI. The effect size is usually a relative risk or odds ratio, but it could also be some other measure of treatment effect. Combining all the studies, the meta-analysis computes the pooled treatment effect, its CI and a pooled P value.\r\n",
    "\r\n",
    "The results for the individual studies and the pooled results are plotted on a **forest plot** or **blobbogram**.\r\n",
    "\r\n",
    "In the example above, the forest plot shows the results from 7 studies of the effectiveness of a drug, the horizontal axis is the odds ratio, a value of 1.0 means no effect; a value greater than 1.0 means the drug works better than placebo. The top 7 lines are results of individual studies. For each study, the plot shows the odds ratio and 95% confidence interval. At the very bottom, the graph shows the total (pooled) effect computed from all studies, also shown as an odds ratio with its 95% CI.\r\n",
    "\r\n",
    "In 6 of the 7 studies, the 95% CI includes 1.0. With 95% confidence, you cannot conclude from these six studies that the treatment works better than placebo. In only 1 of the studies, does the 95% CI not include 1.0. The data from this study, but not the others, would lead you to conclude with 95% confidence that the treatment worked better than placebo. The bottom part of the graph shows the total (pooled) effect as computed by the meta-analysis. The 95% CI ranges from 0.98 to 1.56, so the P value must be greater than 0.05. The overall odds ratio is 1.24. That is a small effect, but not a tiny one. The 95% CI includes 1.0 (no effect), but just barely."
   ],
   "metadata": {}
  },
  {
   "cell_type": "markdown",
   "source": [
    "## Implementation with statsmodels.stats.meta_analysis\r\n",
    "\r\n",
    "Statsmodels include basic methods for [meta-analysis](https://www.statsmodels.org/stable/examples/notebooks/generated/metaanalysis1.html). The support for meta-analysis has 3 parts:\r\n",
    "\r\n",
    "- effect size functions: this currently includes `effectsize_smd` computes effect size and their standard errors for standardized mean difference, `effectsize_2proportions` computes effect sizes for comparing two independent proportions using risk difference, (log) risk ratio, (log) odds-ratio or arcsine square root transformation\r\n",
    "- The `combine_effects` computes **fixed and random effects estimate** for the overall mean or effect. The returned results instance includes a forest plot function.\r\n",
    "- helper functions to estimate the random effect variance, tau-squared"
   ],
   "metadata": {}
  },
  {
   "cell_type": "code",
   "execution_count": 4,
   "source": [
    "from statsmodels.stats.meta_analysis import (\r\n",
    "    effectsize_smd,\r\n",
    "    effectsize_2proportions,\r\n",
    "    combine_effects,\r\n",
    ")"
   ],
   "outputs": [],
   "metadata": {}
  },
  {
   "cell_type": "code",
   "execution_count": 10,
   "source": [
    "data = [\r\n",
    "    [\"Carroll\", 94, 22, 60, 92, 20, 60],\r\n",
    "    [\"Grant\", 98, 21, 65, 92, 22, 65],\r\n",
    "    [\"Peck\", 98, 28, 40, 88, 26, 40],\r\n",
    "    [\"Donat\", 94, 19, 200, 82, 17, 200],\r\n",
    "    [\"Stewart\", 98, 21, 50, 88, 22, 45],\r\n",
    "    [\"Young\", 96, 21, 85, 92, 22, 85],\r\n",
    "]\r\n",
    "colnames = [\"study\", \"mean_t\", \"sd_t\", \"n_t\", \"mean_c\", \"sd_c\", \"n_c\"]\r\n",
    "dframe1 = pd.DataFrame(data, columns=colnames).set_index('study')\r\n",
    "\r\n",
    "mean2, sd2, nobs2, mean1, sd1, nobs1 = np.asarray(\r\n",
    "    dframe1\r\n",
    ").T"
   ],
   "outputs": [],
   "metadata": {}
  },
  {
   "cell_type": "code",
   "execution_count": 11,
   "source": [
    "dframe1"
   ],
   "outputs": [
    {
     "output_type": "execute_result",
     "data": {
      "text/html": [
       "<div>\n",
       "<style scoped>\n",
       "    .dataframe tbody tr th:only-of-type {\n",
       "        vertical-align: middle;\n",
       "    }\n",
       "\n",
       "    .dataframe tbody tr th {\n",
       "        vertical-align: top;\n",
       "    }\n",
       "\n",
       "    .dataframe thead th {\n",
       "        text-align: right;\n",
       "    }\n",
       "</style>\n",
       "<table border=\"1\" class=\"dataframe\">\n",
       "  <thead>\n",
       "    <tr style=\"text-align: right;\">\n",
       "      <th></th>\n",
       "      <th>mean_t</th>\n",
       "      <th>sd_t</th>\n",
       "      <th>n_t</th>\n",
       "      <th>mean_c</th>\n",
       "      <th>sd_c</th>\n",
       "      <th>n_c</th>\n",
       "    </tr>\n",
       "    <tr>\n",
       "      <th>study</th>\n",
       "      <th></th>\n",
       "      <th></th>\n",
       "      <th></th>\n",
       "      <th></th>\n",
       "      <th></th>\n",
       "      <th></th>\n",
       "    </tr>\n",
       "  </thead>\n",
       "  <tbody>\n",
       "    <tr>\n",
       "      <th>Carroll</th>\n",
       "      <td>94</td>\n",
       "      <td>22</td>\n",
       "      <td>60</td>\n",
       "      <td>92</td>\n",
       "      <td>20</td>\n",
       "      <td>60</td>\n",
       "    </tr>\n",
       "    <tr>\n",
       "      <th>Grant</th>\n",
       "      <td>98</td>\n",
       "      <td>21</td>\n",
       "      <td>65</td>\n",
       "      <td>92</td>\n",
       "      <td>22</td>\n",
       "      <td>65</td>\n",
       "    </tr>\n",
       "    <tr>\n",
       "      <th>Peck</th>\n",
       "      <td>98</td>\n",
       "      <td>28</td>\n",
       "      <td>40</td>\n",
       "      <td>88</td>\n",
       "      <td>26</td>\n",
       "      <td>40</td>\n",
       "    </tr>\n",
       "    <tr>\n",
       "      <th>Donat</th>\n",
       "      <td>94</td>\n",
       "      <td>19</td>\n",
       "      <td>200</td>\n",
       "      <td>82</td>\n",
       "      <td>17</td>\n",
       "      <td>200</td>\n",
       "    </tr>\n",
       "    <tr>\n",
       "      <th>Stewart</th>\n",
       "      <td>98</td>\n",
       "      <td>21</td>\n",
       "      <td>50</td>\n",
       "      <td>88</td>\n",
       "      <td>22</td>\n",
       "      <td>45</td>\n",
       "    </tr>\n",
       "    <tr>\n",
       "      <th>Young</th>\n",
       "      <td>96</td>\n",
       "      <td>21</td>\n",
       "      <td>85</td>\n",
       "      <td>92</td>\n",
       "      <td>22</td>\n",
       "      <td>85</td>\n",
       "    </tr>\n",
       "  </tbody>\n",
       "</table>\n",
       "</div>"
      ],
      "text/plain": [
       "         mean_t  sd_t  n_t  mean_c  sd_c  n_c\n",
       "study                                        \n",
       "Carroll      94    22   60      92    20   60\n",
       "Grant        98    21   65      92    22   65\n",
       "Peck         98    28   40      88    26   40\n",
       "Donat        94    19  200      82    17  200\n",
       "Stewart      98    21   50      88    22   45\n",
       "Young        96    21   85      92    22   85"
      ]
     },
     "metadata": {},
     "execution_count": 11
    }
   ],
   "metadata": {}
  },
  {
   "cell_type": "code",
   "execution_count": 12,
   "source": [
    "# one-step chi2, DerSimonian-Laird estimate for random effects variance tau\r\n",
    "eff1, var_eff1 = effectsize_smd(mean2, sd2, nobs2, mean1, sd1, nobs1)"
   ],
   "outputs": [],
   "metadata": {}
  },
  {
   "cell_type": "code",
   "execution_count": 13,
   "source": [
    "eff1"
   ],
   "outputs": [
    {
     "output_type": "execute_result",
     "data": {
      "text/plain": [
       "array([0.09452437, 0.2773564 , 0.36654635, 0.6643851 , 0.46180798,\n",
       "       0.18516464])"
      ]
     },
     "metadata": {},
     "execution_count": 13
    }
   ],
   "metadata": {}
  },
  {
   "cell_type": "code",
   "execution_count": 39,
   "source": [
    "#Uone-step chi2, DerSimonian-Laird estimate for random effects variance tau\r\n",
    "res1 = combine_effects(eff1, var_eff1, method_re=\"chi2\", use_t=False, row_names=dframe1.index)"
   ],
   "outputs": [],
   "metadata": {}
  },
  {
   "cell_type": "code",
   "execution_count": 40,
   "source": [
    "nobs=np.array(nobs1 + nobs2)\r\n",
    "print(res1.summary_frame())"
   ],
   "outputs": [
    {
     "output_type": "stream",
     "name": "stdout",
     "text": [
      "                        eff    sd_eff    ci_low    ci_upp      w_fe      w_re\n",
      "Carroll            0.094524  0.182680 -0.263521  0.452570  0.123885  0.157529\n",
      "Grant              0.277356  0.176279 -0.068144  0.622857  0.133045  0.162828\n",
      "Peck               0.366546  0.225573 -0.075569  0.808662  0.081250  0.126223\n",
      "Donat              0.664385  0.102748  0.463002  0.865768  0.391606  0.232734\n",
      "Stewart            0.461808  0.208310  0.053527  0.870089  0.095275  0.137949\n",
      "Young              0.185165  0.153729 -0.116139  0.486468  0.174939  0.182736\n",
      "fixed effect       0.414961  0.064298  0.288939  0.540984  1.000000       NaN\n",
      "random effect      0.358486  0.105462  0.151785  0.565187       NaN  1.000000\n",
      "fixed effect wls   0.414961  0.099237  0.220460  0.609462  1.000000       NaN\n",
      "random effect wls  0.358486  0.090328  0.181446  0.535526       NaN  1.000000\n"
     ]
    }
   ],
   "metadata": {}
  },
  {
   "cell_type": "code",
   "execution_count": 51,
   "source": [
    "res1.conf_int_samples(use_t=True, nobs=np.array(nobs1 + nobs2))"
   ],
   "outputs": [
    {
     "output_type": "execute_result",
     "data": {
      "text/plain": [
       "(array([-0.26719942, -0.07141628, -0.08244568,  0.46238908,  0.04820269,\n",
       "        -0.1183121 ]),\n",
       " array([0.45624817, 0.62612908, 0.81553838, 0.86638112, 0.87541326,\n",
       "        0.48864139]))"
      ]
     },
     "metadata": {},
     "execution_count": 51
    }
   ],
   "metadata": {}
  },
  {
   "cell_type": "code",
   "execution_count": 42,
   "source": [
    "fig = res1.plot_forest()"
   ],
   "outputs": [
    {
     "output_type": "display_data",
     "data": {
      "image/png": "[encoded data removed]",
      "text/plain": [
       "<Figure size 432x288 with 1 Axes>"
      ]
     },
     "metadata": {
      "needs_background": "light"
     }
    }
   ],
   "metadata": {}
  },
  {
   "cell_type": "markdown",
   "source": [
    "Similarly, another example with the effect being the mean of measurements."
   ],
   "metadata": {}
  },
  {
   "cell_type": "code",
   "execution_count": 43,
   "source": [
    "eff2 = np.array(\r\n",
    "    [61.00,  61.40,  62.21,  62.30,  62.34,  62.60,  62.70,  62.84,  65.90 ]\r\n",
    ")\r\n",
    "var_eff2 = np.array(\r\n",
    "    [0.2025, 1.2100, 0.0900, 0.2025, 0.3844, 0.5625, 0.0676, 0.0225, 1.8225]\r\n",
    ")\r\n",
    "rownames2 = [\r\n",
    "    \"PTB\",   \"NMi\",  \"NIMC\", \"KRISS\",\"LGC\",  \"NRC\",  \"IRMM\", \"NIST\", \"LNE\" \r\n",
    "]"
   ],
   "outputs": [],
   "metadata": {}
  },
  {
   "cell_type": "code",
   "execution_count": 53,
   "source": [
    "res2_DL = combine_effects(eff2, var_eff2, method_re=\"dl\", use_t=True, row_names=rownames2)\r\n",
    "print(\"method RE:\", res2_DL.method_re)\r\n",
    "print(round(res2_DL.summary_frame(), 2))\r\n",
    "fig = res2_DL.plot_forest()"
   ],
   "outputs": [
    {
     "output_type": "stream",
     "name": "stdout",
     "text": [
      "method RE: dl\n",
      "                     eff  sd_eff  ci_low  ci_upp  w_fe  w_re\n",
      "PTB                61.00    0.45   60.12   61.88  0.06  0.12\n",
      "NMi                61.40    1.10   59.24   63.56  0.01  0.04\n",
      "NIMC               62.21    0.30   61.62   62.80  0.13  0.16\n",
      "KRISS              62.30    0.45   61.42   63.18  0.06  0.12\n",
      "LGC                62.34    0.62   61.12   63.56  0.03  0.09\n",
      "NRC                62.60    0.75   61.13   64.07  0.02  0.07\n",
      "IRMM               62.70    0.26   62.19   63.21  0.17  0.17\n",
      "NIST               62.84    0.15   62.55   63.13  0.52  0.19\n",
      "LNE                65.90    1.35   63.25   68.55  0.01  0.03\n",
      "fixed effect       62.58    0.11   62.33   62.83  1.00   NaN\n",
      "random effect      62.39    0.25   61.82   62.96   NaN  1.00\n",
      "fixed effect wls   62.58    0.19   62.15   63.02  1.00   NaN\n",
      "random effect wls  62.39    0.29   61.71   63.07   NaN  1.00\n"
     ]
    },
    {
     "output_type": "stream",
     "name": "stderr",
     "text": [
      "C:\\Users\\Sébastien\\AppData\\Local\\Programs\\Python\\Python39\\lib\\site-packages\\statsmodels\\stats\\meta_analysis.py:106: UserWarning: `use_t=True` requires `nobs` for each sample or `ci_func`. Using normal distribution for confidence interval of individual samples.\n",
      "  warnings.warn(msg)\n"
     ]
    },
    {
     "output_type": "display_data",
     "data": {
      "image/png": "[encoded data removed]",
      "text/plain": [
       "<Figure size 432x288 with 1 Axes>"
      ]
     },
     "metadata": {
      "needs_background": "light"
     }
    }
   ],
   "metadata": {}
  },
  {
   "cell_type": "markdown",
   "source": [
    "## Meta-analysis of proportions"
   ],
   "metadata": {}
  },
  {
   "cell_type": "code",
   "execution_count": 46,
   "source": [
    "import io\r\n",
    "\r\n",
    "ss = \"\"\"\\\r\n",
    "    study,nei,nci,e1i,c1i,e2i,c2i,e3i,c3i,e4i,c4i\r\n",
    "    1,19,22,16.0,20.0,11,12,4.0,8.0,4,3\r\n",
    "    2,34,35,22.0,22.0,18,12,15.0,8.0,15,6\r\n",
    "    3,72,68,44.0,40.0,21,15,10.0,3.0,3,0\r\n",
    "    4,22,20,19.0,12.0,14,5,5.0,4.0,2,3\r\n",
    "    5,70,32,62.0,27.0,42,13,26.0,6.0,15,5\r\n",
    "    6,183,94,130.0,65.0,80,33,47.0,14.0,30,11\r\n",
    "    7,26,50,24.0,30.0,13,18,5.0,10.0,3,9\r\n",
    "    8,61,55,51.0,44.0,37,30,19.0,19.0,11,15\r\n",
    "    9,36,25,30.0,17.0,23,12,13.0,4.0,10,4\r\n",
    "    10,45,35,43.0,35.0,19,14,8.0,4.0,6,0\r\n",
    "    11,246,208,169.0,139.0,106,76,67.0,42.0,51,35\r\n",
    "    12,386,141,279.0,97.0,170,46,97.0,21.0,73,8\r\n",
    "    13,59,32,56.0,30.0,34,17,21.0,9.0,20,7\r\n",
    "    14,45,15,42.0,10.0,18,3,9.0,1.0,9,1\r\n",
    "    15,14,18,14.0,18.0,13,14,12.0,13.0,9,12\r\n",
    "    16,26,19,21.0,15.0,12,10,6.0,4.0,5,1\r\n",
    "    17,74,75,,,42,40,,,23,30\"\"\"\r\n",
    "df3 = pd.read_csv(io.StringIO(ss))\r\n",
    "df3_sub = df3[[\"e2i\", \"nei\", \"c2i\", \"nci\"]]\r\n",
    "\r\n",
    "count1_3, nobs1_3, count2_3, nobs2_3 = df3_sub.values.T\r\n",
    "dta = df3_sub.values.T"
   ],
   "outputs": [],
   "metadata": {}
  },
  {
   "cell_type": "code",
   "execution_count": 47,
   "source": [
    "df3_sub.head()"
   ],
   "outputs": [
    {
     "output_type": "execute_result",
     "data": {
      "text/html": [
       "<div>\n",
       "<style scoped>\n",
       "    .dataframe tbody tr th:only-of-type {\n",
       "        vertical-align: middle;\n",
       "    }\n",
       "\n",
       "    .dataframe tbody tr th {\n",
       "        vertical-align: top;\n",
       "    }\n",
       "\n",
       "    .dataframe thead th {\n",
       "        text-align: right;\n",
       "    }\n",
       "</style>\n",
       "<table border=\"1\" class=\"dataframe\">\n",
       "  <thead>\n",
       "    <tr style=\"text-align: right;\">\n",
       "      <th></th>\n",
       "      <th>e2i</th>\n",
       "      <th>nei</th>\n",
       "      <th>c2i</th>\n",
       "      <th>nci</th>\n",
       "    </tr>\n",
       "  </thead>\n",
       "  <tbody>\n",
       "    <tr>\n",
       "      <th>0</th>\n",
       "      <td>11</td>\n",
       "      <td>19</td>\n",
       "      <td>12</td>\n",
       "      <td>22</td>\n",
       "    </tr>\n",
       "    <tr>\n",
       "      <th>1</th>\n",
       "      <td>18</td>\n",
       "      <td>34</td>\n",
       "      <td>12</td>\n",
       "      <td>35</td>\n",
       "    </tr>\n",
       "    <tr>\n",
       "      <th>2</th>\n",
       "      <td>21</td>\n",
       "      <td>72</td>\n",
       "      <td>15</td>\n",
       "      <td>68</td>\n",
       "    </tr>\n",
       "    <tr>\n",
       "      <th>3</th>\n",
       "      <td>14</td>\n",
       "      <td>22</td>\n",
       "      <td>5</td>\n",
       "      <td>20</td>\n",
       "    </tr>\n",
       "    <tr>\n",
       "      <th>4</th>\n",
       "      <td>42</td>\n",
       "      <td>70</td>\n",
       "      <td>13</td>\n",
       "      <td>32</td>\n",
       "    </tr>\n",
       "  </tbody>\n",
       "</table>\n",
       "</div>"
      ],
      "text/plain": [
       "   e2i  nei  c2i  nci\n",
       "0   11   19   12   22\n",
       "1   18   34   12   35\n",
       "2   21   72   15   68\n",
       "3   14   22    5   20\n",
       "4   42   70   13   32"
      ]
     },
     "metadata": {},
     "execution_count": 47
    }
   ],
   "metadata": {}
  },
  {
   "cell_type": "code",
   "execution_count": 48,
   "source": [
    "eff3, var_eff3 = effectsize_2proportions(*dta, statistic=\"rd\")"
   ],
   "outputs": [],
   "metadata": {}
  },
  {
   "cell_type": "code",
   "execution_count": 49,
   "source": [
    "res5 = combine_effects(\r\n",
    "    eff3, var_eff3, method_re=\"iterated\", use_t=False\r\n",
    ")  # , row_names=rownames)\r\n",
    "\r\n",
    "res5_df = res5.summary_frame()\r\n",
    "\r\n",
    "print(\"method RE:\", res5.method_re)\r\n",
    "print(\"RE variance tau2:\", res5.tau2)\r\n",
    "print(res5.summary_frame())\r\n",
    "\r\n",
    "fig = res5.plot_forest()\r\n",
    "fig.set_figheight(8)"
   ],
   "outputs": [
    {
     "output_type": "stream",
     "name": "stdout",
     "text": [
      "method RE: iterated\n",
      "RE variance tau2: 0\n",
      "                        eff    sd_eff    ci_low    ci_upp      w_fe      w_re\n",
      "0                  0.033493  0.155240 -0.270773  0.337758  0.017454  0.017454\n",
      "1                  0.186555  0.117324 -0.043395  0.416505  0.030559  0.030559\n",
      "2                  0.071078  0.073470 -0.072919  0.215076  0.077928  0.077928\n",
      "3                  0.386364  0.141044  0.109922  0.662805  0.021145  0.021145\n",
      "4                  0.193750  0.104721 -0.011499  0.398999  0.038357  0.038357\n",
      "5                  0.086095  0.061385 -0.034218  0.206407  0.111630  0.111630\n",
      "6                  0.140000  0.119262 -0.093749  0.373749  0.029574  0.029574\n",
      "7                  0.061103  0.091761 -0.118746  0.240951  0.049956  0.049956\n",
      "8                  0.158889  0.128034 -0.092052  0.409830  0.025660  0.025660\n",
      "9                  0.022222  0.110807 -0.194956  0.239401  0.034259  0.034259\n",
      "10                 0.065510  0.045953 -0.024556  0.155575  0.199199  0.199199\n",
      "11                 0.114173  0.046876  0.022297  0.206049  0.191426  0.191426\n",
      "12                 0.045021  0.109182 -0.168971  0.259014  0.035286  0.035286\n",
      "13                 0.200000  0.126491 -0.047918  0.447918  0.026290  0.026290\n",
      "14                 0.150794  0.119749 -0.083910  0.385497  0.029334  0.029334\n",
      "15                -0.064777  0.150599 -0.359945  0.230390  0.018547  0.018547\n",
      "16                 0.034234  0.081457 -0.125418  0.193887  0.063395  0.063395\n",
      "fixed effect       0.096212  0.020509  0.056014  0.136410  1.000000       NaN\n",
      "random effect      0.096212  0.020509  0.056014  0.136410       NaN  1.000000\n",
      "fixed effect wls   0.096212  0.016521  0.063831  0.128593  1.000000       NaN\n",
      "random effect wls  0.096212  0.016521  0.063831  0.128593       NaN  1.000000\n"
     ]
    },
    {
     "output_type": "display_data",
     "data": {
      "image/png": "[encoded data removed]",
      "text/plain": [
       "<Figure size 432x576 with 1 Axes>"
      ]
     },
     "metadata": {
      "needs_background": "light"
     }
    }
   ],
   "metadata": {}
  },
  {
   "cell_type": "markdown",
   "source": [
    "### Example of the reboxetine study\r\n",
    "\r\n",
    "The analysis takes the data from the [article from Eyding et al. (2010)](https://www.bmj.com/content/341/bmj.c4737) discussed in page 455-456 and from which the forest plot in Figure 43.1 was derived."
   ],
   "metadata": {}
  },
  {
   "cell_type": "code",
   "execution_count": 50,
   "source": [
    "data_eyding = [\r\n",
    "    [\"014\",  60, 126,  34, 128],\r\n",
    "    [\"015\",  47, 110,  40, 111],\r\n",
    "    [\"046\", 132, 252, 124, 247],\r\n",
    "    [\"047\", 109, 238, 101, 239],\r\n",
    "    [\"050\",  48, 144,  54, 143],\r\n",
    "    [\"045\",  30,  88,  33,  86],\r\n",
    "    [\"049\",  29, 106,  27, 104],\r\n",
    "]\r\n",
    "colnames_eyding = [\"study\", \"count_t\", \"nobs_t\", \"count_c\", \"nobs_c\"]\r\n",
    "df_eyding = pd.DataFrame(data_eyding, columns=colnames_eyding).set_index('study')\r\n",
    "# sample 1 is treatment and sample 2 is control\r\n",
    "\r\n",
    "dta_eyding = df_eyding.values.T\r\n",
    "\r\n",
    "eff_eyding, var_eff_eyding = effectsize_2proportions(*dta_eyding, statistic=\"or\")\r\n",
    "# log-odds-ratio and log-risk-ratio can be transformed back to or and rr using the exp function\r\n",
    "\r\n",
    "res_eyding = combine_effects(\r\n",
    "    eff_eyding, var_eff_eyding, method_re=\"iterated\", use_t=False, row_names=df_eyding.index,\r\n",
    ")\r\n",
    "\r\n",
    "print(\"method RE:\", res_eyding.method_re)\r\n",
    "print(\"RE variance tau2:\", res_eyding.tau2)\r\n",
    "print(res_eyding.summary_frame().iloc[-4:])\r\n",
    "\r\n",
    "fig = res_eyding.plot_forest()\r\n",
    "fig.set_figheight(8)\r\n",
    "plt.gca().set_title('Forest plot')"
   ],
   "outputs": [
    {
     "output_type": "stream",
     "name": "stdout",
     "text": [
      "method RE: iterated\n",
      "RE variance tau2: 0.06873490262843451\n",
      "                        eff    sd_eff    ci_low    ci_upp  w_fe  w_re\n",
      "fixed effect       0.154119  0.089729 -0.021746  0.329984   1.0   NaN\n",
      "random effect      0.161159  0.136957 -0.107272  0.429590   NaN   1.0\n",
      "fixed effect wls   0.154119  0.125602 -0.092057  0.400295   1.0   NaN\n",
      "random effect wls  0.161159  0.136957 -0.107272  0.429590   NaN   1.0\n"
     ]
    },
    {
     "output_type": "execute_result",
     "data": {
      "text/plain": [
       "Text(0.5, 1.0, 'Forest plot')"
      ]
     },
     "metadata": {},
     "execution_count": 50
    },
    {
     "output_type": "display_data",
     "data": {
      "image/png": "[encoded data removed]",
      "text/plain": [
       "<Figure size 432x576 with 1 Axes>"
      ]
     },
     "metadata": {
      "needs_background": "light"
     }
    }
   ],
   "metadata": {}
  },
  {
   "cell_type": "code",
   "execution_count": 26,
   "source": [
    "# with with odds ratio instead of log odds ratio\r\n",
    "round(res_eyding.summary_frame().apply(np.exp), 2)"
   ],
   "outputs": [
    {
     "output_type": "execute_result",
     "data": {
      "text/html": [
       "<div>\n",
       "<style scoped>\n",
       "    .dataframe tbody tr th:only-of-type {\n",
       "        vertical-align: middle;\n",
       "    }\n",
       "\n",
       "    .dataframe tbody tr th {\n",
       "        vertical-align: top;\n",
       "    }\n",
       "\n",
       "    .dataframe thead th {\n",
       "        text-align: right;\n",
       "    }\n",
       "</style>\n",
       "<table border=\"1\" class=\"dataframe\">\n",
       "  <thead>\n",
       "    <tr style=\"text-align: right;\">\n",
       "      <th></th>\n",
       "      <th>eff</th>\n",
       "      <th>sd_eff</th>\n",
       "      <th>ci_low</th>\n",
       "      <th>ci_upp</th>\n",
       "      <th>w_fe</th>\n",
       "      <th>w_re</th>\n",
       "    </tr>\n",
       "  </thead>\n",
       "  <tbody>\n",
       "    <tr>\n",
       "      <th>014</th>\n",
       "      <td>2.51</td>\n",
       "      <td>1.31</td>\n",
       "      <td>1.49</td>\n",
       "      <td>4.25</td>\n",
       "      <td>1.12</td>\n",
       "      <td>1.14</td>\n",
       "    </tr>\n",
       "    <tr>\n",
       "      <th>015</th>\n",
       "      <td>1.32</td>\n",
       "      <td>1.32</td>\n",
       "      <td>0.77</td>\n",
       "      <td>2.27</td>\n",
       "      <td>1.11</td>\n",
       "      <td>1.14</td>\n",
       "    </tr>\n",
       "    <tr>\n",
       "      <th>046</th>\n",
       "      <td>1.09</td>\n",
       "      <td>1.20</td>\n",
       "      <td>0.77</td>\n",
       "      <td>1.55</td>\n",
       "      <td>1.29</td>\n",
       "      <td>1.20</td>\n",
       "    </tr>\n",
       "    <tr>\n",
       "      <th>047</th>\n",
       "      <td>1.15</td>\n",
       "      <td>1.20</td>\n",
       "      <td>0.80</td>\n",
       "      <td>1.66</td>\n",
       "      <td>1.27</td>\n",
       "      <td>1.20</td>\n",
       "    </tr>\n",
       "    <tr>\n",
       "      <th>050</th>\n",
       "      <td>0.82</td>\n",
       "      <td>1.28</td>\n",
       "      <td>0.51</td>\n",
       "      <td>1.34</td>\n",
       "      <td>1.14</td>\n",
       "      <td>1.16</td>\n",
       "    </tr>\n",
       "    <tr>\n",
       "      <th>045</th>\n",
       "      <td>0.83</td>\n",
       "      <td>1.37</td>\n",
       "      <td>0.45</td>\n",
       "      <td>1.54</td>\n",
       "      <td>1.08</td>\n",
       "      <td>1.12</td>\n",
       "    </tr>\n",
       "    <tr>\n",
       "      <th>049</th>\n",
       "      <td>1.07</td>\n",
       "      <td>1.37</td>\n",
       "      <td>0.58</td>\n",
       "      <td>1.98</td>\n",
       "      <td>1.09</td>\n",
       "      <td>1.12</td>\n",
       "    </tr>\n",
       "    <tr>\n",
       "      <th>fixed effect</th>\n",
       "      <td>1.17</td>\n",
       "      <td>1.09</td>\n",
       "      <td>0.98</td>\n",
       "      <td>1.39</td>\n",
       "      <td>2.72</td>\n",
       "      <td>NaN</td>\n",
       "    </tr>\n",
       "    <tr>\n",
       "      <th>random effect</th>\n",
       "      <td>1.17</td>\n",
       "      <td>1.15</td>\n",
       "      <td>0.90</td>\n",
       "      <td>1.54</td>\n",
       "      <td>NaN</td>\n",
       "      <td>2.72</td>\n",
       "    </tr>\n",
       "    <tr>\n",
       "      <th>fixed effect wls</th>\n",
       "      <td>1.17</td>\n",
       "      <td>1.13</td>\n",
       "      <td>0.91</td>\n",
       "      <td>1.49</td>\n",
       "      <td>2.72</td>\n",
       "      <td>NaN</td>\n",
       "    </tr>\n",
       "    <tr>\n",
       "      <th>random effect wls</th>\n",
       "      <td>1.17</td>\n",
       "      <td>1.15</td>\n",
       "      <td>0.90</td>\n",
       "      <td>1.54</td>\n",
       "      <td>NaN</td>\n",
       "      <td>2.72</td>\n",
       "    </tr>\n",
       "  </tbody>\n",
       "</table>\n",
       "</div>"
      ],
      "text/plain": [
       "                    eff  sd_eff  ci_low  ci_upp  w_fe  w_re\n",
       "014                2.51    1.31    1.49    4.25  1.12  1.14\n",
       "015                1.32    1.32    0.77    2.27  1.11  1.14\n",
       "046                1.09    1.20    0.77    1.55  1.29  1.20\n",
       "047                1.15    1.20    0.80    1.66  1.27  1.20\n",
       "050                0.82    1.28    0.51    1.34  1.14  1.16\n",
       "045                0.83    1.37    0.45    1.54  1.08  1.12\n",
       "049                1.07    1.37    0.58    1.98  1.09  1.12\n",
       "fixed effect       1.17    1.09    0.98    1.39  2.72   NaN\n",
       "random effect      1.17    1.15    0.90    1.54   NaN  2.72\n",
       "fixed effect wls   1.17    1.13    0.91    1.49  2.72   NaN\n",
       "random effect wls  1.17    1.15    0.90    1.54   NaN  2.72"
      ]
     },
     "metadata": {},
     "execution_count": 26
    }
   ],
   "metadata": {}
  },
  {
   "cell_type": "code",
   "execution_count": 27,
   "source": [
    "# Odds ratio\r\n",
    "np.exp(res_eyding.eff)"
   ],
   "outputs": [
    {
     "output_type": "execute_result",
     "data": {
      "text/plain": [
       "array([2.51336898, 1.32420635, 1.09112903, 1.1545015 , 0.82407407,\n",
       "       0.830721  , 1.07407407])"
      ]
     },
     "metadata": {},
     "execution_count": 27
    }
   ],
   "metadata": {}
  },
  {
   "cell_type": "code",
   "execution_count": 28,
   "source": [
    "# 95% CI of the odds ratio\r\n",
    "np.exp(res_eyding.conf_int_samples())"
   ],
   "outputs": [
    {
     "output_type": "execute_result",
     "data": {
      "text/plain": [
       "array([[1.48615459, 0.7707871 , 0.76800148, 0.80402743, 0.50784043,\n",
       "        0.447326  , 0.58244518],\n",
       "       [4.25058316, 2.2749764 , 1.55020869, 1.65774656, 1.3372273 ,\n",
       "        1.5427169 , 1.98067586]])"
      ]
     },
     "metadata": {},
     "execution_count": 28
    }
   ],
   "metadata": {}
  },
  {
   "cell_type": "code",
   "execution_count": 29,
   "source": [
    "# Weight\r\n",
    "res_eyding.weights_rel_re"
   ],
   "outputs": [
    {
     "output_type": "execute_result",
     "data": {
      "text/plain": [
       "array([0.13340524, 0.12938762, 0.18601209, 0.18244788, 0.14457597,\n",
       "       0.11133151, 0.11283968])"
      ]
     },
     "metadata": {},
     "execution_count": 29
    }
   ],
   "metadata": {}
  },
  {
   "cell_type": "markdown",
   "source": [
    "### Example of the `rmeta` mackage with the catheter dataset\r\n",
    "\r\n",
    "Here we have `n.trt` and `n.ctrl` the number of subjects , and `col.trt` and `col.ctrl` the number of events in the _treatment_ and _control_ groups respectively."
   ],
   "metadata": {}
  },
  {
   "cell_type": "code",
   "execution_count": 30,
   "source": [
    "catheter = pd.read_csv(\"https://raw.githubusercontent.com/sbwiecko/intro_statistique_R/master/data/catheter.csv\", index_col=0)\r\n",
    "\r\n",
    "catheter.head()"
   ],
   "outputs": [
    {
     "output_type": "execute_result",
     "data": {
      "text/html": [
       "<div>\n",
       "<style scoped>\n",
       "    .dataframe tbody tr th:only-of-type {\n",
       "        vertical-align: middle;\n",
       "    }\n",
       "\n",
       "    .dataframe tbody tr th {\n",
       "        vertical-align: top;\n",
       "    }\n",
       "\n",
       "    .dataframe thead th {\n",
       "        text-align: right;\n",
       "    }\n",
       "</style>\n",
       "<table border=\"1\" class=\"dataframe\">\n",
       "  <thead>\n",
       "    <tr style=\"text-align: right;\">\n",
       "      <th></th>\n",
       "      <th>Name</th>\n",
       "      <th>n.trt</th>\n",
       "      <th>n.ctrl</th>\n",
       "      <th>col.trt</th>\n",
       "      <th>col.ctrl</th>\n",
       "      <th>inf.trt</th>\n",
       "      <th>inf.ctrl</th>\n",
       "    </tr>\n",
       "  </thead>\n",
       "  <tbody>\n",
       "    <tr>\n",
       "      <th>1</th>\n",
       "      <td>Ciresi</td>\n",
       "      <td>124</td>\n",
       "      <td>127</td>\n",
       "      <td>15.0</td>\n",
       "      <td>21.0</td>\n",
       "      <td>13.0</td>\n",
       "      <td>14.0</td>\n",
       "    </tr>\n",
       "    <tr>\n",
       "      <th>2</th>\n",
       "      <td>George</td>\n",
       "      <td>44</td>\n",
       "      <td>35</td>\n",
       "      <td>10.0</td>\n",
       "      <td>25.0</td>\n",
       "      <td>1.0</td>\n",
       "      <td>3.0</td>\n",
       "    </tr>\n",
       "    <tr>\n",
       "      <th>3</th>\n",
       "      <td>Hannan</td>\n",
       "      <td>68</td>\n",
       "      <td>60</td>\n",
       "      <td>22.0</td>\n",
       "      <td>22.0</td>\n",
       "      <td>5.0</td>\n",
       "      <td>7.0</td>\n",
       "    </tr>\n",
       "    <tr>\n",
       "      <th>4</th>\n",
       "      <td>Heard</td>\n",
       "      <td>151</td>\n",
       "      <td>157</td>\n",
       "      <td>60.0</td>\n",
       "      <td>82.0</td>\n",
       "      <td>5.0</td>\n",
       "      <td>6.0</td>\n",
       "    </tr>\n",
       "    <tr>\n",
       "      <th>5</th>\n",
       "      <td>vanHeerden</td>\n",
       "      <td>28</td>\n",
       "      <td>26</td>\n",
       "      <td>4.0</td>\n",
       "      <td>10.0</td>\n",
       "      <td>NaN</td>\n",
       "      <td>NaN</td>\n",
       "    </tr>\n",
       "  </tbody>\n",
       "</table>\n",
       "</div>"
      ],
      "text/plain": [
       "         Name  n.trt  n.ctrl  col.trt  col.ctrl  inf.trt  inf.ctrl\n",
       "1      Ciresi    124     127     15.0      21.0     13.0      14.0\n",
       "2      George     44      35     10.0      25.0      1.0       3.0\n",
       "3      Hannan     68      60     22.0      22.0      5.0       7.0\n",
       "4       Heard    151     157     60.0      82.0      5.0       6.0\n",
       "5  vanHeerden     28      26      4.0      10.0      NaN       NaN"
      ]
     },
     "metadata": {},
     "execution_count": 30
    }
   ],
   "metadata": {}
  },
  {
   "cell_type": "code",
   "execution_count": 59,
   "source": [
    "df_catheter = catheter[[\"Name\", \"col.trt\", \"n.trt\",  \"col.ctrl\", \"n.ctrl\"]].set_index(\"Name\")\r\n",
    "df_catheter = df_catheter.iloc[[12,5,4,2,6,11,3,10,0,7,9,1]]\r\n",
    "df_catheter"
   ],
   "outputs": [
    {
     "output_type": "execute_result",
     "data": {
      "text/html": [
       "<div>\n",
       "<style scoped>\n",
       "    .dataframe tbody tr th:only-of-type {\n",
       "        vertical-align: middle;\n",
       "    }\n",
       "\n",
       "    .dataframe tbody tr th {\n",
       "        vertical-align: top;\n",
       "    }\n",
       "\n",
       "    .dataframe thead th {\n",
       "        text-align: right;\n",
       "    }\n",
       "</style>\n",
       "<table border=\"1\" class=\"dataframe\">\n",
       "  <thead>\n",
       "    <tr style=\"text-align: right;\">\n",
       "      <th></th>\n",
       "      <th>col.trt</th>\n",
       "      <th>n.trt</th>\n",
       "      <th>col.ctrl</th>\n",
       "      <th>n.ctrl</th>\n",
       "    </tr>\n",
       "    <tr>\n",
       "      <th>Name</th>\n",
       "      <th></th>\n",
       "      <th></th>\n",
       "      <th></th>\n",
       "      <th></th>\n",
       "    </tr>\n",
       "  </thead>\n",
       "  <tbody>\n",
       "    <tr>\n",
       "      <th>Tennenberg</th>\n",
       "      <td>8.0</td>\n",
       "      <td>137</td>\n",
       "      <td>32.0</td>\n",
       "      <td>145</td>\n",
       "    </tr>\n",
       "    <tr>\n",
       "      <th>Maki</th>\n",
       "      <td>28.0</td>\n",
       "      <td>208</td>\n",
       "      <td>47.0</td>\n",
       "      <td>195</td>\n",
       "    </tr>\n",
       "    <tr>\n",
       "      <th>vanHeerden</th>\n",
       "      <td>4.0</td>\n",
       "      <td>28</td>\n",
       "      <td>10.0</td>\n",
       "      <td>26</td>\n",
       "    </tr>\n",
       "    <tr>\n",
       "      <th>Hannan</th>\n",
       "      <td>22.0</td>\n",
       "      <td>68</td>\n",
       "      <td>22.0</td>\n",
       "      <td>60</td>\n",
       "    </tr>\n",
       "    <tr>\n",
       "      <th>Bach(a)</th>\n",
       "      <td>0.0</td>\n",
       "      <td>14</td>\n",
       "      <td>4.0</td>\n",
       "      <td>12</td>\n",
       "    </tr>\n",
       "    <tr>\n",
       "      <th>Bach(b)</th>\n",
       "      <td>2.0</td>\n",
       "      <td>116</td>\n",
       "      <td>16.0</td>\n",
       "      <td>117</td>\n",
       "    </tr>\n",
       "    <tr>\n",
       "      <th>Heard</th>\n",
       "      <td>60.0</td>\n",
       "      <td>151</td>\n",
       "      <td>82.0</td>\n",
       "      <td>157</td>\n",
       "    </tr>\n",
       "    <tr>\n",
       "      <th>Collins</th>\n",
       "      <td>2.0</td>\n",
       "      <td>98</td>\n",
       "      <td>25.0</td>\n",
       "      <td>139</td>\n",
       "    </tr>\n",
       "    <tr>\n",
       "      <th>Ciresi</th>\n",
       "      <td>15.0</td>\n",
       "      <td>124</td>\n",
       "      <td>21.0</td>\n",
       "      <td>127</td>\n",
       "    </tr>\n",
       "    <tr>\n",
       "      <th>Ramsay</th>\n",
       "      <td>45.0</td>\n",
       "      <td>199</td>\n",
       "      <td>63.0</td>\n",
       "      <td>189</td>\n",
       "    </tr>\n",
       "    <tr>\n",
       "      <th>Trazzera</th>\n",
       "      <td>16.0</td>\n",
       "      <td>123</td>\n",
       "      <td>24.0</td>\n",
       "      <td>99</td>\n",
       "    </tr>\n",
       "    <tr>\n",
       "      <th>George</th>\n",
       "      <td>10.0</td>\n",
       "      <td>44</td>\n",
       "      <td>25.0</td>\n",
       "      <td>35</td>\n",
       "    </tr>\n",
       "  </tbody>\n",
       "</table>\n",
       "</div>"
      ],
      "text/plain": [
       "            col.trt  n.trt  col.ctrl  n.ctrl\n",
       "Name                                        \n",
       "Tennenberg      8.0    137      32.0     145\n",
       "Maki           28.0    208      47.0     195\n",
       "vanHeerden      4.0     28      10.0      26\n",
       "Hannan         22.0     68      22.0      60\n",
       "Bach(a)         0.0     14       4.0      12\n",
       "Bach(b)         2.0    116      16.0     117\n",
       "Heard          60.0    151      82.0     157\n",
       "Collins         2.0     98      25.0     139\n",
       "Ciresi         15.0    124      21.0     127\n",
       "Ramsay         45.0    199      63.0     189\n",
       "Trazzera       16.0    123      24.0      99\n",
       "George         10.0     44      25.0      35"
      ]
     },
     "metadata": {},
     "execution_count": 59
    }
   ],
   "metadata": {}
  },
  {
   "cell_type": "code",
   "execution_count": 64,
   "source": [
    "res_catheter = combine_effects(\r\n",
    "     *effectsize_2proportions(*df_catheter.values.T, statistic=\"or\"),\r\n",
    "     method_re=\"chi2\",\r\n",
    "     use_t=False,\r\n",
    "     row_names=df_catheter.index,\r\n",
    ")\r\n",
    "\r\n",
    "print(\"method RE:\", res_catheter.method_re)\r\n",
    "print(\"RE variance tau2:\", res_catheter.tau2)\r\n",
    "print(round(res_catheter.summary_frame().apply(np.exp), 2))\r\n",
    "\r\n",
    "fig = res_catheter.plot_forest()\r\n",
    "fig.set_figheight(8)\r\n",
    "plt.gca().set_title('Forest plot - Catheter dataset')"
   ],
   "outputs": [
    {
     "output_type": "stream",
     "name": "stdout",
     "text": [
      "method RE: chi2\n",
      "RE variance tau2: nan\n",
      "                    eff  sd_eff  ci_low  ci_upp  w_fe  w_re\n",
      "Tennenberg         0.22    1.52    0.10    0.49  1.07   NaN\n",
      "Maki               0.49    1.30    0.29    0.82  1.17   NaN\n",
      "vanHeerden         0.27    1.96    0.07    1.00  1.02   NaN\n",
      "Hannan             0.83    1.45    0.40    1.72  1.08   NaN\n",
      "Bach(a)            0.00     inf    0.00     NaN  1.00   NaN\n",
      "Bach(b)            0.11    2.14    0.02    0.49  1.02   NaN\n",
      "Heard              0.60    1.26    0.38    0.95  1.23   NaN\n",
      "Collins            0.09    2.11    0.02    0.41  1.02   NaN\n",
      "Ciresi             0.69    1.44    0.34    1.42  1.09   NaN\n",
      "Ramsay             0.58    1.26    0.37    0.92  1.24   NaN\n",
      "Trazzera           0.47    1.43    0.23    0.94  1.09   NaN\n",
      "George             0.12    1.68    0.04    0.33  1.04   NaN\n",
      "fixed effect        NaN    1.11     NaN     NaN  2.72   NaN\n",
      "random effect       NaN     NaN     NaN     NaN   NaN  2.72\n",
      "fixed effect wls    NaN     NaN     NaN     NaN  2.72   NaN\n",
      "random effect wls   NaN     NaN     NaN     NaN   NaN  2.72\n"
     ]
    },
    {
     "output_type": "stream",
     "name": "stderr",
     "text": [
      "C:\\Users\\Sébastien\\AppData\\Local\\Programs\\Python\\Python39\\lib\\site-packages\\statsmodels\\stats\\meta_analysis.py:472: RuntimeWarning: divide by zero encountered in log\n",
      "  log_or = np.log(p1) - np.log(1 - p1) - np.log(p2) + np.log(1 - p2)\n",
      "C:\\Users\\Sébastien\\AppData\\Local\\Programs\\Python\\Python39\\lib\\site-packages\\statsmodels\\stats\\meta_analysis.py:473: RuntimeWarning: divide by zero encountered in true_divide\n",
      "  log_or_var = 1 / (p1 * (1 - p1) * n1) + 1 / (p2 * (1 - p2) * n2)\n",
      "C:\\Users\\Sébastien\\AppData\\Local\\Programs\\Python\\Python39\\lib\\site-packages\\statsmodels\\stats\\meta_analysis.py:570: RuntimeWarning: invalid value encountered in multiply\n",
      "  eff_w_fe = weights_rel_fe * eff\n",
      "C:\\Users\\Sébastien\\AppData\\Local\\Programs\\Python\\Python39\\lib\\site-packages\\statsmodels\\stats\\meta_analysis.py:577: RuntimeWarning: invalid value encountered in multiply\n",
      "  q = (weights_fe * eff**2).sum(0)\n",
      "C:\\Users\\Sébastien\\AppData\\Local\\Programs\\Python\\Python39\\lib\\site-packages\\statsmodels\\stats\\meta_analysis.py:578: RuntimeWarning: invalid value encountered in multiply\n",
      "  q -= (weights_fe * eff).sum()**2 / w_total_fe\n",
      "C:\\Users\\Sébastien\\AppData\\Local\\Programs\\Python\\Python39\\lib\\site-packages\\statsmodels\\stats\\meta_analysis.py:113: RuntimeWarning: invalid value encountered in add\n",
      "  ci_upp = self.eff + crit * self.sd_eff\n"
     ]
    },
    {
     "output_type": "execute_result",
     "data": {
      "text/plain": [
       "Text(0.5, 1.0, 'Forest plot - Catheter dataset')"
      ]
     },
     "metadata": {},
     "execution_count": 64
    },
    {
     "output_type": "display_data",
     "data": {
      "image/png": "[encoded data removed]",
      "text/plain": [
       "<Figure size 432x576 with 1 Axes>"
      ]
     },
     "metadata": {
      "needs_background": "light"
     }
    }
   ],
   "metadata": {}
  },
  {
   "cell_type": "markdown",
   "source": [
    "### Mantel-Hanszel odds-ratio using contingency tables\r\n",
    "\r\n",
    "The fixed effect for the log-odds-ratio using the Mantel-Hanszel can be directly computed using StratifiedTable. We need to create a 2 x 2 x k contingency table to be used with StratifiedTable."
   ],
   "metadata": {}
  },
  {
   "cell_type": "code",
   "execution_count": 66,
   "source": [
    "t, nt, c, nc = df_catheter.values.T\r\n",
    "counts = np.column_stack([t, nt - t, c, nc - c])\r\n",
    "ctables = counts.T.reshape(2, 2, -1)\r\n",
    "ctables[:, :, 0]"
   ],
   "outputs": [
    {
     "output_type": "execute_result",
     "data": {
      "text/plain": [
       "array([[  8., 129.],\n",
       "       [ 32., 113.]])"
      ]
     },
     "metadata": {},
     "execution_count": 66
    }
   ],
   "metadata": {}
  },
  {
   "cell_type": "code",
   "execution_count": 67,
   "source": [
    "counts[0]"
   ],
   "outputs": [
    {
     "output_type": "execute_result",
     "data": {
      "text/plain": [
       "array([  8., 129.,  32., 113.])"
      ]
     },
     "metadata": {},
     "execution_count": 67
    }
   ],
   "metadata": {}
  },
  {
   "cell_type": "code",
   "execution_count": 69,
   "source": [
    "df_catheter.values.T.T[0]"
   ],
   "outputs": [
    {
     "output_type": "execute_result",
     "data": {
      "text/plain": [
       "array([  8., 137.,  32., 145.])"
      ]
     },
     "metadata": {},
     "execution_count": 69
    }
   ],
   "metadata": {}
  },
  {
   "cell_type": "code",
   "execution_count": 71,
   "source": [
    "import statsmodels.stats.api as smstats\r\n",
    "\r\n",
    "st = smstats.StratifiedTable(ctables.astype(np.float64))\r\n",
    "\r\n",
    "st.logodds_pooled_confint()"
   ],
   "outputs": [
    {
     "output_type": "execute_result",
     "data": {
      "text/plain": [
       "(-1.0242434916841336, -0.623679916949009)"
      ]
     },
     "metadata": {},
     "execution_count": 71
    }
   ],
   "metadata": {}
  },
  {
   "cell_type": "code",
   "execution_count": 72,
   "source": [
    "print(st.test_equal_odds())"
   ],
   "outputs": [
    {
     "output_type": "stream",
     "name": "stdout",
     "text": [
      "pvalue      0.0017280227707503482\n",
      "statistic   29.760017026250985\n"
     ]
    }
   ],
   "metadata": {}
  },
  {
   "cell_type": "code",
   "execution_count": 75,
   "source": [
    "# MHtest\r\n",
    "print(st.test_null_odds())"
   ],
   "outputs": [
    {
     "output_type": "stream",
     "name": "stdout",
     "text": [
      "pvalue      2.220446049250313e-16\n",
      "statistic   66.98283621049113\n"
     ]
    }
   ],
   "metadata": {}
  },
  {
   "cell_type": "code",
   "execution_count": 74,
   "source": [
    "print(st.summary())"
   ],
   "outputs": [
    {
     "output_type": "stream",
     "name": "stdout",
     "text": [
      "                   Estimate   LCB    UCB  \n",
      "------------------------------------------\n",
      "Pooled odds           0.439   0.359  0.536\n",
      "Pooled log odds      -0.824  -1.024 -0.624\n",
      "Pooled risk ratio     0.554               \n",
      "                                          \n",
      "                 Statistic P-value \n",
      "-----------------------------------\n",
      "Test of OR=1        66.983   0.000 \n",
      "Test constant OR    29.760   0.002 \n",
      "                       \n",
      "-----------------------\n",
      "Number of tables   12  \n",
      "Min n              26  \n",
      "Max n             403  \n",
      "Avg n             218  \n",
      "Total n          2611  \n",
      "-----------------------\n"
     ]
    }
   ],
   "metadata": {}
  },
  {
   "cell_type": "markdown",
   "source": [
    "### Implementation in R using rmeta\r\n",
    "\r\n",
    "```r\r\n",
    "library('rmeta')\r\n",
    "data(catheter)\r\n",
    "\r\n",
    "a <- meta.MH(\r\n",
    "    n.trt,\r\n",
    "    n.ctrl,\r\n",
    "    col.trt,\r\n",
    "    col.ctrl,\r\n",
    "    data=catheter,\r\n",
    "    names=Name,\r\n",
    "    subset=c(13,6,5,3,7,12,4,11,1,8,10,2))\r\n",
    "\r\n",
    "summary(a)\r\n",
    "\r\n",
    "plot(a, summlabel='Total')\r\n",
    "funnelplot(a)\r\n",
    "\r\n",
    "metaplot(\r\n",
    "    a$logOR,\r\n",
    "    a$selogOR,\r\n",
    "    nn=a$selogOR^-2,\r\n",
    "    a$names, # equiv 1/a$selogOR^2\r\n",
    "    summn=a$logMH,\r\n",
    "    sumse=a$selogMH,\r\n",
    "    sumnn=a$selogMH^-2,\r\n",
    "    logeffect=TRUE,\r\n",
    "    colors=meta.colors(\r\n",
    "        box=\"magenta\",\r\n",
    "        lines=\"blue\",\r\n",
    "        zero=\"red\",\r\n",
    "        summary=\"orange\",\r\n",
    "        text=\"forestgreen\"\r\n",
    "    )\r\n",
    ")\r\n",
    "```"
   ],
   "metadata": {}
  },
  {
   "cell_type": "markdown",
   "source": [
    "### Funnel plot\r\n",
    "\r\n",
    "A funnel plot is a scatterplot of treatment effect against a measure of study precision. It is used primarily as a visual aid for detecting bias or systematic heterogeneity. A symmetric inverted funnel shape arises from a 'well-behaved' data set, in which publication bias is unlikely. An asymmetric funnel indicates a relationship between treatment effect estimate and study precision. This suggests the possibility of either publication bias or a systematic difference between studies of higher and lower precision (typically 'small study effects'). Asymmetry can also arise from use of an inappropriate effect measure. Whatever the cause, an asymmetric funnel plot leads to doubts over the appropriateness of a simple meta-analysis and suggests that there needs to be investigation of possible causes."
   ],
   "metadata": {}
  },
  {
   "cell_type": "code",
   "execution_count": 99,
   "source": [
    "from funnelplot.core import funnel\r\n"
   ],
   "outputs": [],
   "metadata": {}
  },
  {
   "cell_type": "markdown",
   "source": [
    "## Meta-analysis of individual participant data (IPD meta-analysis)\r\n",
    "\r\n",
    "A newer approach is for the meta-analysts to obtain the original data for each participant of each study, and reanalyze all the data together. This approach is considered the gold standard of meta-analysis and has determined definitive answers to clinical questions, which might not have been obtained from meta-analysis of summay data. This type of analysis ensures that the outcomes are defined in a consistent way, and that the data are analyzed using the same methods. Moreover, it can include more data than did the original paper because one get data at the root from the investigators, it can answer questions not posed by the original investigators, run subgroup analyses and account for confounding variables not considered by the original investigators."
   ],
   "metadata": {}
  }
 ],
 "metadata": {
  "kernelspec": {
   "name": "python3",
   "display_name": "Python 3.9.7 64-bit (system)"
  },
  "language_info": {
   "codemirror_mode": {
    "name": "ipython",
    "version": 3
   },
   "file_extension": ".py",
   "mimetype": "text/x-python",
   "name": "python",
   "nbconvert_exporter": "python",
   "pygments_lexer": "ipython3",
   "version": "3.9.7"
  },
  "interpreter": {
   "hash": "b51595f36012c8da2bf2284ebbd8d377d5c2d31fa7484164f2d2bcda7a09b462"
  }
 },
 "nbformat": 4,
 "nbformat_minor": 2
}