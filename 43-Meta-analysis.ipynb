{
 "cells": [
  {
   "cell_type": "markdown",
   "metadata": {},
   "source": [
    "# Meta-analysis using Python\n",
    "We use the data extracted from Table 43.1 on page 455"
   ]
  },
  {
   "cell_type": "code",
   "execution_count": 5,
   "metadata": {},
   "outputs": [],
   "source": [
    "import numpy as np\n",
    "import pandas as pd\n",
    "import matplotlib.pyplot as plt\n",
    "%matplotlib inline"
   ]
  },
  {
   "cell_type": "code",
   "execution_count": 2,
   "metadata": {},
   "outputs": [],
   "source": [
    "mean = np.array([2.5, 1.4, 1.1, 1.2, .8, .85, 1.05, 1.2])\n",
    "lower= np.array([1.7, .8, .8, .85, .5, .4, .6, .9])\n",
    "upper= np.array([4.8, 2.2, 1.8, 1.9, 1.4, 1.6, 2, 1.6])\n",
    "W = (upper-lower)/2"
   ]
  },
  {
   "cell_type": "code",
   "execution_count": 3,
   "metadata": {},
   "outputs": [
    {
     "data": {
      "image/png": "[encoded data removed]",
      "text/plain": [
       "<Figure size 432x288 with 1 Axes>"
      ]
     },
     "metadata": {
      "needs_background": "light"
     },
     "output_type": "display_data"
    }
   ],
   "source": [
    "plt.errorbar(np.flip(mean), y=np.arange(len(mean)), xerr=W, fmt='o')\n",
    "plt.xscale('log')"
   ]
  },
  {
   "cell_type": "markdown",
   "metadata": {},
   "source": [
    "Doesn't look optimal, to be enhanced further with python, or waiting for a library dedicated to meta-analysis. For the time better to stick to R."
   ]
  },
  {
   "cell_type": "code",
   "execution_count": 4,
   "metadata": {},
   "outputs": [],
   "source": [
    "from statsmodels.stats.contingency_tables import StratifiedTable"
   ]
  },
  {
   "cell_type": "code",
   "execution_count": 46,
   "metadata": {},
   "outputs": [],
   "source": [
    "data=pd.read_csv(\"../data/catheter.csv\", index_col=0, usecols=[1,2,3,4,5])"
   ]
  },
  {
   "cell_type": "code",
   "execution_count": 47,
   "metadata": {},
   "outputs": [
    {
     "data": {
      "text/html": [
       "<div>\n",
       "<style scoped>\n",
       "    .dataframe tbody tr th:only-of-type {\n",
       "        vertical-align: middle;\n",
       "    }\n",
       "\n",
       "    .dataframe tbody tr th {\n",
       "        vertical-align: top;\n",
       "    }\n",
       "\n",
       "    .dataframe thead th {\n",
       "        text-align: right;\n",
       "    }\n",
       "</style>\n",
       "<table border=\"1\" class=\"dataframe\">\n",
       "  <thead>\n",
       "    <tr style=\"text-align: right;\">\n",
       "      <th></th>\n",
       "      <th>n.trt</th>\n",
       "      <th>n.ctrl</th>\n",
       "      <th>col.trt</th>\n",
       "      <th>col.ctrl</th>\n",
       "    </tr>\n",
       "    <tr>\n",
       "      <th>Name</th>\n",
       "      <th></th>\n",
       "      <th></th>\n",
       "      <th></th>\n",
       "      <th></th>\n",
       "    </tr>\n",
       "  </thead>\n",
       "  <tbody>\n",
       "    <tr>\n",
       "      <th>Ciresi</th>\n",
       "      <td>124</td>\n",
       "      <td>127</td>\n",
       "      <td>15.0</td>\n",
       "      <td>21.0</td>\n",
       "    </tr>\n",
       "    <tr>\n",
       "      <th>George</th>\n",
       "      <td>44</td>\n",
       "      <td>35</td>\n",
       "      <td>10.0</td>\n",
       "      <td>25.0</td>\n",
       "    </tr>\n",
       "    <tr>\n",
       "      <th>Hannan</th>\n",
       "      <td>68</td>\n",
       "      <td>60</td>\n",
       "      <td>22.0</td>\n",
       "      <td>22.0</td>\n",
       "    </tr>\n",
       "    <tr>\n",
       "      <th>Heard</th>\n",
       "      <td>151</td>\n",
       "      <td>157</td>\n",
       "      <td>60.0</td>\n",
       "      <td>82.0</td>\n",
       "    </tr>\n",
       "    <tr>\n",
       "      <th>vanHeerden</th>\n",
       "      <td>28</td>\n",
       "      <td>26</td>\n",
       "      <td>4.0</td>\n",
       "      <td>10.0</td>\n",
       "    </tr>\n",
       "    <tr>\n",
       "      <th>Maki</th>\n",
       "      <td>208</td>\n",
       "      <td>195</td>\n",
       "      <td>28.0</td>\n",
       "      <td>47.0</td>\n",
       "    </tr>\n",
       "    <tr>\n",
       "      <th>Bach(a)</th>\n",
       "      <td>14</td>\n",
       "      <td>12</td>\n",
       "      <td>0.0</td>\n",
       "      <td>4.0</td>\n",
       "    </tr>\n",
       "    <tr>\n",
       "      <th>Ramsay</th>\n",
       "      <td>199</td>\n",
       "      <td>189</td>\n",
       "      <td>45.0</td>\n",
       "      <td>63.0</td>\n",
       "    </tr>\n",
       "    <tr>\n",
       "      <th>Appavu</th>\n",
       "      <td>12</td>\n",
       "      <td>7</td>\n",
       "      <td>1.0</td>\n",
       "      <td>1.0</td>\n",
       "    </tr>\n",
       "    <tr>\n",
       "      <th>Trazzera</th>\n",
       "      <td>123</td>\n",
       "      <td>99</td>\n",
       "      <td>16.0</td>\n",
       "      <td>24.0</td>\n",
       "    </tr>\n",
       "    <tr>\n",
       "      <th>Collins</th>\n",
       "      <td>98</td>\n",
       "      <td>139</td>\n",
       "      <td>2.0</td>\n",
       "      <td>25.0</td>\n",
       "    </tr>\n",
       "    <tr>\n",
       "      <th>Bach(b)</th>\n",
       "      <td>116</td>\n",
       "      <td>117</td>\n",
       "      <td>2.0</td>\n",
       "      <td>16.0</td>\n",
       "    </tr>\n",
       "    <tr>\n",
       "      <th>Tennenberg</th>\n",
       "      <td>137</td>\n",
       "      <td>145</td>\n",
       "      <td>8.0</td>\n",
       "      <td>32.0</td>\n",
       "    </tr>\n",
       "    <tr>\n",
       "      <th>Pemberton</th>\n",
       "      <td>32</td>\n",
       "      <td>40</td>\n",
       "      <td>NaN</td>\n",
       "      <td>NaN</td>\n",
       "    </tr>\n",
       "    <tr>\n",
       "      <th>Logghe</th>\n",
       "      <td>338</td>\n",
       "      <td>342</td>\n",
       "      <td>NaN</td>\n",
       "      <td>NaN</td>\n",
       "    </tr>\n",
       "  </tbody>\n",
       "</table>\n",
       "</div>"
      ],
      "text/plain": [
       "            n.trt  n.ctrl  col.trt  col.ctrl\n",
       "Name                                        \n",
       "Ciresi        124     127     15.0      21.0\n",
       "George         44      35     10.0      25.0\n",
       "Hannan         68      60     22.0      22.0\n",
       "Heard         151     157     60.0      82.0\n",
       "vanHeerden     28      26      4.0      10.0\n",
       "Maki          208     195     28.0      47.0\n",
       "Bach(a)        14      12      0.0       4.0\n",
       "Ramsay        199     189     45.0      63.0\n",
       "Appavu         12       7      1.0       1.0\n",
       "Trazzera      123      99     16.0      24.0\n",
       "Collins        98     139      2.0      25.0\n",
       "Bach(b)       116     117      2.0      16.0\n",
       "Tennenberg    137     145      8.0      32.0\n",
       "Pemberton      32      40      NaN       NaN\n",
       "Logghe        338     342      NaN       NaN"
      ]
     },
     "execution_count": 47,
     "metadata": {},
     "output_type": "execute_result"
    }
   ],
   "source": [
    "data"
   ]
  },
  {
   "cell_type": "code",
   "execution_count": 52,
   "metadata": {},
   "outputs": [
    {
     "data": {
      "text/html": [
       "<div>\n",
       "<style scoped>\n",
       "    .dataframe tbody tr th:only-of-type {\n",
       "        vertical-align: middle;\n",
       "    }\n",
       "\n",
       "    .dataframe tbody tr th {\n",
       "        vertical-align: top;\n",
       "    }\n",
       "\n",
       "    .dataframe thead th {\n",
       "        text-align: right;\n",
       "    }\n",
       "</style>\n",
       "<table border=\"1\" class=\"dataframe\">\n",
       "  <thead>\n",
       "    <tr style=\"text-align: right;\">\n",
       "      <th></th>\n",
       "      <th>n.trt</th>\n",
       "      <th>n.ctrl</th>\n",
       "      <th>col.trt</th>\n",
       "      <th>col.ctrl</th>\n",
       "    </tr>\n",
       "    <tr>\n",
       "      <th>Name</th>\n",
       "      <th></th>\n",
       "      <th></th>\n",
       "      <th></th>\n",
       "      <th></th>\n",
       "    </tr>\n",
       "  </thead>\n",
       "  <tbody>\n",
       "    <tr>\n",
       "      <th>Bach(a)</th>\n",
       "      <td>14</td>\n",
       "      <td>12</td>\n",
       "      <td>0.0</td>\n",
       "      <td>4.0</td>\n",
       "    </tr>\n",
       "    <tr>\n",
       "      <th>Maki</th>\n",
       "      <td>208</td>\n",
       "      <td>195</td>\n",
       "      <td>28.0</td>\n",
       "      <td>47.0</td>\n",
       "    </tr>\n",
       "    <tr>\n",
       "      <th>Heard</th>\n",
       "      <td>151</td>\n",
       "      <td>157</td>\n",
       "      <td>60.0</td>\n",
       "      <td>82.0</td>\n",
       "    </tr>\n",
       "    <tr>\n",
       "      <th>Tennenberg</th>\n",
       "      <td>137</td>\n",
       "      <td>145</td>\n",
       "      <td>8.0</td>\n",
       "      <td>32.0</td>\n",
       "    </tr>\n",
       "    <tr>\n",
       "      <th>vanHeerden</th>\n",
       "      <td>28</td>\n",
       "      <td>26</td>\n",
       "      <td>4.0</td>\n",
       "      <td>10.0</td>\n",
       "    </tr>\n",
       "    <tr>\n",
       "      <th>Bach(b)</th>\n",
       "      <td>116</td>\n",
       "      <td>117</td>\n",
       "      <td>2.0</td>\n",
       "      <td>16.0</td>\n",
       "    </tr>\n",
       "    <tr>\n",
       "      <th>George</th>\n",
       "      <td>44</td>\n",
       "      <td>35</td>\n",
       "      <td>10.0</td>\n",
       "      <td>25.0</td>\n",
       "    </tr>\n",
       "    <tr>\n",
       "      <th>Appavu</th>\n",
       "      <td>12</td>\n",
       "      <td>7</td>\n",
       "      <td>1.0</td>\n",
       "      <td>1.0</td>\n",
       "    </tr>\n",
       "    <tr>\n",
       "      <th>Collins</th>\n",
       "      <td>98</td>\n",
       "      <td>139</td>\n",
       "      <td>2.0</td>\n",
       "      <td>25.0</td>\n",
       "    </tr>\n",
       "    <tr>\n",
       "      <th>Hannan</th>\n",
       "      <td>68</td>\n",
       "      <td>60</td>\n",
       "      <td>22.0</td>\n",
       "      <td>22.0</td>\n",
       "    </tr>\n",
       "  </tbody>\n",
       "</table>\n",
       "</div>"
      ],
      "text/plain": [
       "            n.trt  n.ctrl  col.trt  col.ctrl\n",
       "Name                                        \n",
       "Bach(a)        14      12      0.0       4.0\n",
       "Maki          208     195     28.0      47.0\n",
       "Heard         151     157     60.0      82.0\n",
       "Tennenberg    137     145      8.0      32.0\n",
       "vanHeerden     28      26      4.0      10.0\n",
       "Bach(b)       116     117      2.0      16.0\n",
       "George         44      35     10.0      25.0\n",
       "Appavu         12       7      1.0       1.0\n",
       "Collins        98     139      2.0      25.0\n",
       "Hannan         68      60     22.0      22.0"
      ]
     },
     "execution_count": 52,
     "metadata": {},
     "output_type": "execute_result"
    }
   ],
   "source": [
    "data.iloc[[6,5,3,12,4,11,1,8,10,2]]"
   ]
  },
  {
   "cell_type": "code",
   "execution_count": 56,
   "metadata": {},
   "outputs": [],
   "source": [
    "mat = np.asarray(data.iloc[[6,5,3,12,4,11,1,8,10,2]])\n",
    "tables = [np.reshape(x.tolist(), (2, 2)) for x in mat]"
   ]
  },
  {
   "cell_type": "code",
   "execution_count": 57,
   "metadata": {},
   "outputs": [
    {
     "data": {
      "text/plain": [
       "array([[ 14.,  12.,   0.,   4.],\n",
       "       [208., 195.,  28.,  47.],\n",
       "       [151., 157.,  60.,  82.],\n",
       "       [137., 145.,   8.,  32.],\n",
       "       [ 28.,  26.,   4.,  10.],\n",
       "       [116., 117.,   2.,  16.],\n",
       "       [ 44.,  35.,  10.,  25.],\n",
       "       [ 12.,   7.,   1.,   1.],\n",
       "       [ 98., 139.,   2.,  25.],\n",
       "       [ 68.,  60.,  22.,  22.]])"
      ]
     },
     "execution_count": 57,
     "metadata": {},
     "output_type": "execute_result"
    }
   ],
   "source": [
    "mat"
   ]
  },
  {
   "cell_type": "code",
   "execution_count": 58,
   "metadata": {},
   "outputs": [
    {
     "name": "stdout",
     "output_type": "stream",
     "text": [
      "                   Estimate   LCB    UCB \n",
      "-----------------------------------------\n",
      "Pooled odds           2.041   1.612 2.583\n",
      "Pooled log odds       0.713   0.478 0.949\n",
      "Pooled risk ratio     1.512              \n",
      "                                         \n",
      "                 Statistic P-value \n",
      "-----------------------------------\n",
      "Test of OR=1        35.866   0.000 \n",
      "Test constant OR    21.523   0.011 \n",
      "                       \n",
      "-----------------------\n",
      "Number of tables   10  \n",
      "Min n              21  \n",
      "Max n             478  \n",
      "Avg n             217  \n",
      "Total n          2170  \n",
      "-----------------------\n"
     ]
    }
   ],
   "source": [
    "st = sm.stats.StratifiedTable(tables)\n",
    "print(st.summary())"
   ]
  }
 ],
 "metadata": {
  "kernelspec": {
   "display_name": "Python 3",
   "language": "python",
   "name": "python3"
  },
  "language_info": {
   "codemirror_mode": {
    "name": "ipython",
    "version": 3
   },
   "file_extension": ".py",
   "mimetype": "text/x-python",
   "name": "python",
   "nbconvert_exporter": "python",
   "pygments_lexer": "ipython3",
   "version": "3.7.1"
  }
 },
 "nbformat": 4,
 "nbformat_minor": 2
}
