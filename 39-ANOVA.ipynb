{
 "cells": [
  {
   "cell_type": "markdown",
   "source": [
    "# ANOVA\r\n",
    "\r\n",
    "## Introduction\r\n",
    "\r\n",
    "One-way ANOVA compares the means of three or more groups, assuming that all values are sampled from Gaussian populations. It is called one-way ANOVA, because the groups are categorized by one scheme (e.g. treatment). Two-way ANOVA is used when the data are categorized by two schemes (e.g. treatment and gender).\r\n",
    "\r\n",
    "![flowchart for selecting the right ANOVA function](https://pingouin-stats.org/_images/flowchart_one_way_ANOVA.svg)\r\n",
    "\r\n",
    "The main problem with computing several t tests is multiple comparisons. As you include more groups in the study, you increase the chance of obtaining one or more P values less than 0.05 just by chance. If the null hypothesis were true, there would be a 5% chance that each particular t test would yield a P value less than 0.05, but with three comparisons, the chance that any one (or more) of the values would be less than 0.05 would be far higher that 5%\r\n",
    "\r\n",
    "One-way ANOVA can be seen as a regression model with a **single categorical predictor**. This predictor usually has **2+ categories**. In fact ANOVA compares the fit of several models to the data, and this can be done with regression techniques. The answers will be fundamentally identical, but they will look very different.\r\n",
    "\r\n",
    "Comparing three or more means with one-way ANOVA can be viewed as comparing the fit of the data to two different models:\r\n",
    "\r\n",
    "- null hypothesis; all populations share the same mean, and nothing but random sampling causes any differences between sample means\r\n",
    "- alternative hypothesis; all populations do not share the same means, at least one population has a mean different than the rest.\r\n",
    "\r\n",
    "### Interpreting a P value\r\n",
    "\r\n",
    "One-way ANOVA compares all the groups at once. The null hypothesis is that all groups were sampled from populations with identical means, i.e. there is no difference between means: $ \\overline{x_1} = \\overline{x_2} = ... = \\overline{x_i}$.\r\n",
    "\r\n",
    "The P value answers the question\r\n",
    ">if the null hypothesis were true, what is the chance of randomly picking samples with mean values as different (or more different) than those observed in the study?\r\n",
    "\r\n",
    "With a P value of 0.004, there is only 0.4% chance that the different means would be as far apart as actually observed or even further apart.\r\n",
    "\r\n",
    "### How it works\r\n",
    "\r\n",
    "The classic ANOVA is very powerful when the groups are **normally distributed** and have **equal variances** (homoscedasticity). It does not require all the samples to have the same number of values, though the two assumptions (Gaussian population and equal variance) matter much more when the sample size varies a lot between groups. When the groups have unequal variances, it is best to use the _Welch ANOVA_ that better controls for type I error.\r\n",
    "\r\n",
    "The main idea of ANOVA is to partition the variance (sums of squares) into several components. For example, in one-way ANOVA:\r\n",
    "\r\n",
    "$$ \\text{SS}_\\text{total} = \\text{SS}_\\text{effect} + \\text{SS}_\\text{error} $$\r\n",
    "$$ \\text{SS}_\\text{total} = \\sum_i \\sum_j (Y_{ij} - \\overline{Y})^2 $$\r\n",
    "$$ \\text{SS}_\\text{effect} = \\sum_i n_i (\\overline{Y_i} - \\overline{Y})^2 $$\r\n",
    "$$ \\text{SS}_\\text{error} = \\sum_i \\sum_j (Y_{ij} - \\overline{Y}_i)^2 $$\r\n",
    "\r\n",
    "where:\r\n",
    "\r\n",
    "- $ i=1,...,r $\r\n",
    "- $ j=1,...,n_i $\r\n",
    "- $ r $ the number of groups\r\n",
    "- $ n_i $ the number of observations for the $ i $ th group\r\n",
    "- $ N $ the total number of observations (in all groups)\r\n",
    "\r\n",
    "The **total variability** among all the values, ignoring which value came from which group, by **summing the squares of the difference of each value from the grand mean**. Some of the variation comes from **differences among the group means** because the group means are not all the same. **Sum the squares of each group mean from the grand mean and weight by sample size** to get the sum of squares resulting from treatment. The rest of the variation comes from **variability within each group**, quantified by **summing the squares of the differences of each value from its group mean**. This is also called the residual sum of squares or the error sum of squares.\r\n",
    "\r\n",
    "The F-statistics is then defined as:\r\n",
    "$$ F^* = \\frac{S_\\text{effect}^2}{S_\\text{error}^2} = \\frac{\\text{MS}_{\\text{effect}}}{\\text{MS}_{\\text{error}}} = \\frac{\\text{SS}_{\\text{effect}} / (r - 1)}{\\text{SS}_{\\text{error}} / (N - r)} $$\r\n",
    "\r\n",
    "and the P-value can be calculated using a F-distribution with $ r - 1, N - r $ degrees of freedom.\r\n",
    "\r\n",
    "The default effect size reported is the *partial eta-square*, which, **for one-way ANOVA is the same as eta-square and generalized eta-square**:\r\n",
    "$$ \\eta_p^2 = \\frac{\\text{SS}_{\\text{effect}}}{\\text{SS}_{\\text{effect}} + \\text{SS}_{\\text{error}}} $$\r\n",
    "$$ \\eta^2 = \\frac{\\text{SS}_{\\text{effect}}}{\\text{SS}_{\\text{total}}} $$\r\n",
    "\r\n",
    "It is interpreted in the same way as $R^2$. For example, an $\\eta^2$ of 0.053, only 5.3% of the total variability is the result of differences within the groups.\r\n",
    "\r\n",
    "Of note, the concept of one- and two-tailed P values does not apply in ANOVA. Because the means of the groups can be in many different orders, the P values has many tails."
   ],
   "metadata": {}
  },
  {
   "cell_type": "markdown",
   "source": [
    "## Partitioning the sum of squares"
   ],
   "metadata": {}
  },
  {
   "cell_type": "code",
   "execution_count": 1,
   "source": [
    "import numpy as np\r\n",
    "import pandas as pd\r\n",
    "\r\n",
    "from scipy import stats\r\n",
    "import pingouin as pg\r\n",
    "\r\n",
    "import matplotlib.pyplot as plt\r\n",
    "import seaborn as sns"
   ],
   "outputs": [],
   "metadata": {}
  },
  {
   "cell_type": "markdown",
   "source": [
    "This is the analysis of the variance: _comparing the ratio of systematic variance to unsystematic variance_ using sum of squares (SS), between the groups **SSB** (i.e. effect or $\\text{SS}_\\text{effect}$) and the variance within the group **SSW** (i.e. error, residual or $\\text{SS}_\\text{error}$), with $ \\text{SSW} + \\text{SSB} = \\text{SST} $.\r\n",
    "\r\n",
    "When F increase, then the variance between the group (SSB) is bigger than within the group (SSW).\r\n",
    "\r\n",
    "The group means are represented as deviations from the grand mean by grouping their coefficients under a single term $ y_{ij} = \\mu_{grand} + \\tau_j + \\epsilon_{ij} $"
   ],
   "metadata": {}
  },
  {
   "cell_type": "markdown",
   "source": [
    "One example of one-way ANOVA comparing 3 groups:  \r\n",
    "\r\n",
    "| Hypothesis  | Scatter from | SS    | Variation | $\\eta^2$ |\r\n",
    "| ----------- | ------------ | -----:| ---------:| -------- |\r\n",
    "| Null        | Grand mean   | 17.38 |  100.0%   |          |\r\n",
    "| Alternative | Group mean   | 16.45 |   94.7%   |          |\r\n",
    "| Difference  |              |  0.93 |    5.3%   |  0.053   |\r\n",
    "\r\n",
    "Of all the variation, 94.7% is the result of variation within the groups, leaving 5.3% of the total variation as the result of differences between the group means. *The sum of squares resulting from the treatment and the sum of squares within the groups always add up to the total sum of squares.*\r\n",
    "\r\n",
    "| Source variation | SS    | DF  | MS    | F ratio | P value |\r\n",
    "| ----------------:| -----:| ---:| ----- | ------  | ------- |\r\n",
    "|   Between groups |  0.93 | 2   | 0.460 |  5.69   |  0.004  |\r\n",
    "| + Within groups  | 16.45 | 202 | 0.081 |         |         |\r\n",
    "| =          Total | 17.38 | 204 |       |         |         |"
   ],
   "metadata": {}
  },
  {
   "cell_type": "markdown",
   "source": [
    "For the total, there are 205 values and only one parameter (grand mean) estimated, so $ \\text{DF} = 204$. For the SSW, 3 groups/parameters were fit (the mean of each group), so $ \\text{DF} = 205 - 3 = 202 $. If the null hypothesis were true, F would be likely to have a value close to 1."
   ],
   "metadata": {}
  },
  {
   "cell_type": "code",
   "execution_count": 2,
   "source": [
    "dfn, dfd = 2, 202 # DF at numerator is for 'within', at the denominator for 'within'\r\n",
    "F = .460 / .081\r\n",
    "\r\n",
    "print(f\"P values computed from the F ratio distribution: {1 - stats.f(dfn, dfd).cdf(F):.4f}\")"
   ],
   "outputs": [
    {
     "output_type": "stream",
     "name": "stdout",
     "text": [
      "P values computed from the F ratio distribution: 0.0040\n"
     ]
    }
   ],
   "metadata": {}
  },
  {
   "cell_type": "markdown",
   "source": [
    "The low P value means that the differences among group means would be very unlikely if in fact all the population means were equal.  \n",
    "The low R² means that the differences among group means are only a tiny fraction of the overall variability."
   ],
   "metadata": {}
  },
  {
   "cell_type": "markdown",
   "source": [
    "## Practical example of one-way ANOVA"
   ],
   "metadata": {}
  },
  {
   "cell_type": "code",
   "execution_count": 3,
   "source": [
    "# 0. Load an example dataset comparing pain threshold as a function of hair color\r\n",
    "data = pg.read_dataset('anova')\r\n",
    "data.head()"
   ],
   "outputs": [
    {
     "output_type": "execute_result",
     "data": {
      "text/html": [
       "<div>\n",
       "<style scoped>\n",
       "    .dataframe tbody tr th:only-of-type {\n",
       "        vertical-align: middle;\n",
       "    }\n",
       "\n",
       "    .dataframe tbody tr th {\n",
       "        vertical-align: top;\n",
       "    }\n",
       "\n",
       "    .dataframe thead th {\n",
       "        text-align: right;\n",
       "    }\n",
       "</style>\n",
       "<table border=\"1\" class=\"dataframe\">\n",
       "  <thead>\n",
       "    <tr style=\"text-align: right;\">\n",
       "      <th></th>\n",
       "      <th>Subject</th>\n",
       "      <th>Hair color</th>\n",
       "      <th>Pain threshold</th>\n",
       "    </tr>\n",
       "  </thead>\n",
       "  <tbody>\n",
       "    <tr>\n",
       "      <th>0</th>\n",
       "      <td>1</td>\n",
       "      <td>Light Blond</td>\n",
       "      <td>62</td>\n",
       "    </tr>\n",
       "    <tr>\n",
       "      <th>1</th>\n",
       "      <td>2</td>\n",
       "      <td>Light Blond</td>\n",
       "      <td>60</td>\n",
       "    </tr>\n",
       "    <tr>\n",
       "      <th>2</th>\n",
       "      <td>3</td>\n",
       "      <td>Light Blond</td>\n",
       "      <td>71</td>\n",
       "    </tr>\n",
       "    <tr>\n",
       "      <th>3</th>\n",
       "      <td>4</td>\n",
       "      <td>Light Blond</td>\n",
       "      <td>55</td>\n",
       "    </tr>\n",
       "    <tr>\n",
       "      <th>4</th>\n",
       "      <td>5</td>\n",
       "      <td>Light Blond</td>\n",
       "      <td>48</td>\n",
       "    </tr>\n",
       "  </tbody>\n",
       "</table>\n",
       "</div>"
      ],
      "text/plain": [
       "   Subject   Hair color  Pain threshold\n",
       "0        1  Light Blond              62\n",
       "1        2  Light Blond              60\n",
       "2        3  Light Blond              71\n",
       "3        4  Light Blond              55\n",
       "4        5  Light Blond              48"
      ]
     },
     "metadata": {},
     "execution_count": 3
    }
   ],
   "metadata": {}
  },
  {
   "cell_type": "code",
   "execution_count": 4,
   "source": [
    "sns.boxplot(x='Hair color', y='Pain threshold', data=data)\r\n",
    "sns.stripplot(x='Hair color', y='Pain threshold', data=data, color='black', size=10);"
   ],
   "outputs": [
    {
     "output_type": "display_data",
     "data": {
      "image/png": "[encoded data removed]",
      "text/plain": [
       "<Figure size 432x288 with 1 Axes>"
      ]
     },
     "metadata": {
      "needs_background": "light"
     }
    }
   ],
   "metadata": {}
  },
  {
   "cell_type": "markdown",
   "source": [
    "### Using pingouin"
   ],
   "metadata": {}
  },
  {
   "cell_type": "code",
   "execution_count": 5,
   "source": [
    "# 1. This is a between subject design, so the first step is to test for equality of variances\r\n",
    "pg.homoscedasticity(data=data, dv='Pain threshold', group='Hair color')"
   ],
   "outputs": [
    {
     "output_type": "execute_result",
     "data": {
      "text/html": [
       "<div>\n",
       "<style scoped>\n",
       "    .dataframe tbody tr th:only-of-type {\n",
       "        vertical-align: middle;\n",
       "    }\n",
       "\n",
       "    .dataframe tbody tr th {\n",
       "        vertical-align: top;\n",
       "    }\n",
       "\n",
       "    .dataframe thead th {\n",
       "        text-align: right;\n",
       "    }\n",
       "</style>\n",
       "<table border=\"1\" class=\"dataframe\">\n",
       "  <thead>\n",
       "    <tr style=\"text-align: right;\">\n",
       "      <th></th>\n",
       "      <th>W</th>\n",
       "      <th>pval</th>\n",
       "      <th>equal_var</th>\n",
       "    </tr>\n",
       "  </thead>\n",
       "  <tbody>\n",
       "    <tr>\n",
       "      <th>levene</th>\n",
       "      <td>0.392743</td>\n",
       "      <td>0.760016</td>\n",
       "      <td>True</td>\n",
       "    </tr>\n",
       "  </tbody>\n",
       "</table>\n",
       "</div>"
      ],
      "text/plain": [
       "               W      pval  equal_var\n",
       "levene  0.392743  0.760016       True"
      ]
     },
     "metadata": {},
     "execution_count": 5
    }
   ],
   "metadata": {}
  },
  {
   "cell_type": "code",
   "execution_count": 6,
   "source": [
    "# 2. If the groups have equal variances, we can use a regular one-way ANOVA\r\n",
    "aov = pg.anova(\r\n",
    "    data=data,\r\n",
    "    dv='Pain threshold',\r\n",
    "    between='Hair color',\r\n",
    "    detailed=True\r\n",
    ")\r\n",
    "aov.round(3)"
   ],
   "outputs": [
    {
     "output_type": "execute_result",
     "data": {
      "text/html": [
       "<div>\n",
       "<style scoped>\n",
       "    .dataframe tbody tr th:only-of-type {\n",
       "        vertical-align: middle;\n",
       "    }\n",
       "\n",
       "    .dataframe tbody tr th {\n",
       "        vertical-align: top;\n",
       "    }\n",
       "\n",
       "    .dataframe thead th {\n",
       "        text-align: right;\n",
       "    }\n",
       "</style>\n",
       "<table border=\"1\" class=\"dataframe\">\n",
       "  <thead>\n",
       "    <tr style=\"text-align: right;\">\n",
       "      <th></th>\n",
       "      <th>Source</th>\n",
       "      <th>SS</th>\n",
       "      <th>DF</th>\n",
       "      <th>MS</th>\n",
       "      <th>F</th>\n",
       "      <th>p-unc</th>\n",
       "      <th>np2</th>\n",
       "    </tr>\n",
       "  </thead>\n",
       "  <tbody>\n",
       "    <tr>\n",
       "      <th>0</th>\n",
       "      <td>Hair color</td>\n",
       "      <td>1360.726</td>\n",
       "      <td>3</td>\n",
       "      <td>453.575</td>\n",
       "      <td>6.791</td>\n",
       "      <td>0.004</td>\n",
       "      <td>0.576</td>\n",
       "    </tr>\n",
       "    <tr>\n",
       "      <th>1</th>\n",
       "      <td>Within</td>\n",
       "      <td>1001.800</td>\n",
       "      <td>15</td>\n",
       "      <td>66.787</td>\n",
       "      <td>NaN</td>\n",
       "      <td>NaN</td>\n",
       "      <td>NaN</td>\n",
       "    </tr>\n",
       "  </tbody>\n",
       "</table>\n",
       "</div>"
      ],
      "text/plain": [
       "       Source        SS  DF       MS      F  p-unc    np2\n",
       "0  Hair color  1360.726   3  453.575  6.791  0.004  0.576\n",
       "1      Within  1001.800  15   66.787    NaN    NaN    NaN"
      ]
     },
     "metadata": {},
     "execution_count": 6
    }
   ],
   "metadata": {}
  },
  {
   "cell_type": "code",
   "execution_count": 7,
   "source": [
    "# Same but using a standard eta-squared instead of a partial eta-squared effect size. Also\r\n",
    "# note how here we're using the anova function directly as a method (= built-in function)\r\n",
    "# of our pandas dataframe. In that case, we don't have to specify data anymore.\r\n",
    "data.anova(\r\n",
    "    dv='Pain threshold',\r\n",
    "    between='Hair color',\r\n",
    "    detailed=False,\r\n",
    "    effsize='n2',\r\n",
    ")"
   ],
   "outputs": [
    {
     "output_type": "execute_result",
     "data": {
      "text/html": [
       "<div>\n",
       "<style scoped>\n",
       "    .dataframe tbody tr th:only-of-type {\n",
       "        vertical-align: middle;\n",
       "    }\n",
       "\n",
       "    .dataframe tbody tr th {\n",
       "        vertical-align: top;\n",
       "    }\n",
       "\n",
       "    .dataframe thead th {\n",
       "        text-align: right;\n",
       "    }\n",
       "</style>\n",
       "<table border=\"1\" class=\"dataframe\">\n",
       "  <thead>\n",
       "    <tr style=\"text-align: right;\">\n",
       "      <th></th>\n",
       "      <th>Source</th>\n",
       "      <th>ddof1</th>\n",
       "      <th>ddof2</th>\n",
       "      <th>F</th>\n",
       "      <th>p-unc</th>\n",
       "      <th>n2</th>\n",
       "    </tr>\n",
       "  </thead>\n",
       "  <tbody>\n",
       "    <tr>\n",
       "      <th>0</th>\n",
       "      <td>Hair color</td>\n",
       "      <td>3</td>\n",
       "      <td>15</td>\n",
       "      <td>6.791407</td>\n",
       "      <td>0.004114</td>\n",
       "      <td>0.575962</td>\n",
       "    </tr>\n",
       "  </tbody>\n",
       "</table>\n",
       "</div>"
      ],
      "text/plain": [
       "       Source  ddof1  ddof2         F     p-unc        n2\n",
       "0  Hair color      3     15  6.791407  0.004114  0.575962"
      ]
     },
     "metadata": {},
     "execution_count": 7
    }
   ],
   "metadata": {}
  },
  {
   "cell_type": "code",
   "execution_count": 8,
   "source": [
    "# 3. If there is a main effect, we can proceed to post-hoc Tukey test\r\n",
    "pg.pairwise_tukey(data=data, dv='Pain threshold', between='Hair color')"
   ],
   "outputs": [
    {
     "output_type": "execute_result",
     "data": {
      "text/html": [
       "<div>\n",
       "<style scoped>\n",
       "    .dataframe tbody tr th:only-of-type {\n",
       "        vertical-align: middle;\n",
       "    }\n",
       "\n",
       "    .dataframe tbody tr th {\n",
       "        vertical-align: top;\n",
       "    }\n",
       "\n",
       "    .dataframe thead th {\n",
       "        text-align: right;\n",
       "    }\n",
       "</style>\n",
       "<table border=\"1\" class=\"dataframe\">\n",
       "  <thead>\n",
       "    <tr style=\"text-align: right;\">\n",
       "      <th></th>\n",
       "      <th>A</th>\n",
       "      <th>B</th>\n",
       "      <th>mean(A)</th>\n",
       "      <th>mean(B)</th>\n",
       "      <th>diff</th>\n",
       "      <th>se</th>\n",
       "      <th>T</th>\n",
       "      <th>p-tukey</th>\n",
       "      <th>hedges</th>\n",
       "    </tr>\n",
       "  </thead>\n",
       "  <tbody>\n",
       "    <tr>\n",
       "      <th>0</th>\n",
       "      <td>Dark Blond</td>\n",
       "      <td>Dark Brunette</td>\n",
       "      <td>51.2</td>\n",
       "      <td>37.4</td>\n",
       "      <td>13.8</td>\n",
       "      <td>5.168623</td>\n",
       "      <td>2.669957</td>\n",
       "      <td>0.074168</td>\n",
       "      <td>1.525213</td>\n",
       "    </tr>\n",
       "    <tr>\n",
       "      <th>1</th>\n",
       "      <td>Dark Blond</td>\n",
       "      <td>Light Blond</td>\n",
       "      <td>51.2</td>\n",
       "      <td>59.2</td>\n",
       "      <td>-8.0</td>\n",
       "      <td>5.168623</td>\n",
       "      <td>-1.547801</td>\n",
       "      <td>0.436903</td>\n",
       "      <td>-0.884182</td>\n",
       "    </tr>\n",
       "    <tr>\n",
       "      <th>2</th>\n",
       "      <td>Dark Blond</td>\n",
       "      <td>Light Brunette</td>\n",
       "      <td>51.2</td>\n",
       "      <td>42.5</td>\n",
       "      <td>8.7</td>\n",
       "      <td>5.482153</td>\n",
       "      <td>1.586968</td>\n",
       "      <td>0.416008</td>\n",
       "      <td>0.946285</td>\n",
       "    </tr>\n",
       "    <tr>\n",
       "      <th>3</th>\n",
       "      <td>Dark Brunette</td>\n",
       "      <td>Light Blond</td>\n",
       "      <td>37.4</td>\n",
       "      <td>59.2</td>\n",
       "      <td>-21.8</td>\n",
       "      <td>5.168623</td>\n",
       "      <td>-4.217758</td>\n",
       "      <td>0.003713</td>\n",
       "      <td>-2.409395</td>\n",
       "    </tr>\n",
       "    <tr>\n",
       "      <th>4</th>\n",
       "      <td>Dark Brunette</td>\n",
       "      <td>Light Brunette</td>\n",
       "      <td>37.4</td>\n",
       "      <td>42.5</td>\n",
       "      <td>-5.1</td>\n",
       "      <td>5.482153</td>\n",
       "      <td>-0.930291</td>\n",
       "      <td>0.769703</td>\n",
       "      <td>-0.554719</td>\n",
       "    </tr>\n",
       "    <tr>\n",
       "      <th>5</th>\n",
       "      <td>Light Blond</td>\n",
       "      <td>Light Brunette</td>\n",
       "      <td>59.2</td>\n",
       "      <td>42.5</td>\n",
       "      <td>16.7</td>\n",
       "      <td>5.482153</td>\n",
       "      <td>3.046249</td>\n",
       "      <td>0.036653</td>\n",
       "      <td>1.816432</td>\n",
       "    </tr>\n",
       "  </tbody>\n",
       "</table>\n",
       "</div>"
      ],
      "text/plain": [
       "               A               B  mean(A)  mean(B)  diff        se         T  \\\n",
       "0     Dark Blond   Dark Brunette     51.2     37.4  13.8  5.168623  2.669957   \n",
       "1     Dark Blond     Light Blond     51.2     59.2  -8.0  5.168623 -1.547801   \n",
       "2     Dark Blond  Light Brunette     51.2     42.5   8.7  5.482153  1.586968   \n",
       "3  Dark Brunette     Light Blond     37.4     59.2 -21.8  5.168623 -4.217758   \n",
       "4  Dark Brunette  Light Brunette     37.4     42.5  -5.1  5.482153 -0.930291   \n",
       "5    Light Blond  Light Brunette     59.2     42.5  16.7  5.482153  3.046249   \n",
       "\n",
       "    p-tukey    hedges  \n",
       "0  0.074168  1.525213  \n",
       "1  0.436903 -0.884182  \n",
       "2  0.416008  0.946285  \n",
       "3  0.003713 -2.409395  \n",
       "4  0.769703 -0.554719  \n",
       "5  0.036653  1.816432  "
      ]
     },
     "metadata": {},
     "execution_count": 8
    }
   ],
   "metadata": {}
  },
  {
   "cell_type": "markdown",
   "source": [
    "### Using scipy.stats"
   ],
   "metadata": {}
  },
  {
   "cell_type": "code",
   "execution_count": 9,
   "source": [
    "# The one-way ANOVA tests the null hypothesis that two or more groups have the same population mean.\r\n",
    "F, p = stats.f_oneway(\r\n",
    "    data[data['Hair color'] == 'Dark Blond']['Pain threshold'],\r\n",
    "    data[data['Hair color'] == 'Dark Brunette']['Pain threshold'],\r\n",
    "    data[data['Hair color'] == 'Light Blond']['Pain threshold'],\r\n",
    "    data[data['Hair color'] == 'Light Brunette']['Pain threshold'],\r\n",
    ")\r\n",
    "\r\n",
    "print(f\"F statistic = {F:.3f} with P value from the F distribution = {p:.5f}\")"
   ],
   "outputs": [
    {
     "output_type": "stream",
     "name": "stdout",
     "text": [
      "F statistic = 6.791 with P value from the F distribution = 0.00411\n"
     ]
    }
   ],
   "metadata": {}
  },
  {
   "cell_type": "markdown",
   "source": [
    "### Using statsmodels"
   ],
   "metadata": {}
  },
  {
   "cell_type": "code",
   "execution_count": 10,
   "source": [
    "import statsmodels.sandbox.stats as sandbox_stats\r\n",
    "import statsmodels.api as sm\r\n",
    "from statsmodels.formula.api import ols\r\n",
    "\r\n",
    "model = ols(\r\n",
    "    formula=\"Q('Pain threshold') ~ Q('Hair color')\",\r\n",
    "    data=data\r\n",
    ").fit() # we use OLS regression\r\n",
    "print(model.summary())"
   ],
   "outputs": [
    {
     "output_type": "stream",
     "name": "stdout",
     "text": [
      "                             OLS Regression Results                            \n",
      "===============================================================================\n",
      "Dep. Variable:     Q('Pain threshold')   R-squared:                       0.576\n",
      "Model:                             OLS   Adj. R-squared:                  0.491\n",
      "Method:                  Least Squares   F-statistic:                     6.791\n",
      "Date:                 Fri, 10 Sep 2021   Prob (F-statistic):            0.00411\n",
      "Time:                         16:42:04   Log-Likelihood:                -64.628\n",
      "No. Observations:                   19   AIC:                             137.3\n",
      "Df Residuals:                       15   BIC:                             141.0\n",
      "Df Model:                            3                                         \n",
      "Covariance Type:             nonrobust                                         \n",
      "=====================================================================================================\n",
      "                                        coef    std err          t      P>|t|      [0.025      0.975]\n",
      "-----------------------------------------------------------------------------------------------------\n",
      "Intercept                            51.2000      3.655     14.009      0.000      43.410      58.990\n",
      "Q('Hair color')[T.Dark Brunette]    -13.8000      5.169     -2.670      0.017     -24.817      -2.783\n",
      "Q('Hair color')[T.Light Blond]        8.0000      5.169      1.548      0.143      -3.017      19.017\n",
      "Q('Hair color')[T.Light Brunette]    -8.7000      5.482     -1.587      0.133     -20.385       2.985\n",
      "==============================================================================\n",
      "Omnibus:                        1.137   Durbin-Watson:                   2.021\n",
      "Prob(Omnibus):                  0.566   Jarque-Bera (JB):                0.979\n",
      "Skew:                           0.358   Prob(JB):                        0.613\n",
      "Kurtosis:                       2.150   Cond. No.                         4.70\n",
      "==============================================================================\n",
      "\n",
      "Notes:\n",
      "[1] Standard Errors assume that the covariance matrix of the errors is correctly specified.\n"
     ]
    },
    {
     "output_type": "stream",
     "name": "stderr",
     "text": [
      "C:\\Users\\Sébastien\\AppData\\Local\\Programs\\Python\\Python39\\lib\\site-packages\\scipy\\stats\\stats.py:1541: UserWarning: kurtosistest only valid for n>=20 ... continuing anyway, n=19\n",
      "  warnings.warn(\"kurtosistest only valid for n>=20 ... continuing \"\n"
     ]
    }
   ],
   "metadata": {}
  },
  {
   "cell_type": "code",
   "execution_count": 11,
   "source": [
    "anova_table = sm.stats.anova_lm(model)\r\n",
    "anova_table.round(4)"
   ],
   "outputs": [
    {
     "output_type": "execute_result",
     "data": {
      "text/html": [
       "<div>\n",
       "<style scoped>\n",
       "    .dataframe tbody tr th:only-of-type {\n",
       "        vertical-align: middle;\n",
       "    }\n",
       "\n",
       "    .dataframe tbody tr th {\n",
       "        vertical-align: top;\n",
       "    }\n",
       "\n",
       "    .dataframe thead th {\n",
       "        text-align: right;\n",
       "    }\n",
       "</style>\n",
       "<table border=\"1\" class=\"dataframe\">\n",
       "  <thead>\n",
       "    <tr style=\"text-align: right;\">\n",
       "      <th></th>\n",
       "      <th>df</th>\n",
       "      <th>sum_sq</th>\n",
       "      <th>mean_sq</th>\n",
       "      <th>F</th>\n",
       "      <th>PR(&gt;F)</th>\n",
       "    </tr>\n",
       "  </thead>\n",
       "  <tbody>\n",
       "    <tr>\n",
       "      <th>Q('Hair color')</th>\n",
       "      <td>3.0</td>\n",
       "      <td>1360.7263</td>\n",
       "      <td>453.5754</td>\n",
       "      <td>6.7914</td>\n",
       "      <td>0.0041</td>\n",
       "    </tr>\n",
       "    <tr>\n",
       "      <th>Residual</th>\n",
       "      <td>15.0</td>\n",
       "      <td>1001.8000</td>\n",
       "      <td>66.7867</td>\n",
       "      <td>NaN</td>\n",
       "      <td>NaN</td>\n",
       "    </tr>\n",
       "  </tbody>\n",
       "</table>\n",
       "</div>"
      ],
      "text/plain": [
       "                   df     sum_sq   mean_sq       F  PR(>F)\n",
       "Q('Hair color')   3.0  1360.7263  453.5754  6.7914  0.0041\n",
       "Residual         15.0  1001.8000   66.7867     NaN     NaN"
      ]
     },
     "metadata": {},
     "execution_count": 11
    }
   ],
   "metadata": {}
  },
  {
   "cell_type": "code",
   "execution_count": 12,
   "source": [
    "sm.stats.anova_lm(model, typ='II').round(3)"
   ],
   "outputs": [
    {
     "output_type": "execute_result",
     "data": {
      "text/html": [
       "<div>\n",
       "<style scoped>\n",
       "    .dataframe tbody tr th:only-of-type {\n",
       "        vertical-align: middle;\n",
       "    }\n",
       "\n",
       "    .dataframe tbody tr th {\n",
       "        vertical-align: top;\n",
       "    }\n",
       "\n",
       "    .dataframe thead th {\n",
       "        text-align: right;\n",
       "    }\n",
       "</style>\n",
       "<table border=\"1\" class=\"dataframe\">\n",
       "  <thead>\n",
       "    <tr style=\"text-align: right;\">\n",
       "      <th></th>\n",
       "      <th>sum_sq</th>\n",
       "      <th>df</th>\n",
       "      <th>F</th>\n",
       "      <th>PR(&gt;F)</th>\n",
       "    </tr>\n",
       "  </thead>\n",
       "  <tbody>\n",
       "    <tr>\n",
       "      <th>Q('Hair color')</th>\n",
       "      <td>1360.726</td>\n",
       "      <td>3.0</td>\n",
       "      <td>6.791</td>\n",
       "      <td>0.004</td>\n",
       "    </tr>\n",
       "    <tr>\n",
       "      <th>Residual</th>\n",
       "      <td>1001.800</td>\n",
       "      <td>15.0</td>\n",
       "      <td>NaN</td>\n",
       "      <td>NaN</td>\n",
       "    </tr>\n",
       "  </tbody>\n",
       "</table>\n",
       "</div>"
      ],
      "text/plain": [
       "                   sum_sq    df      F  PR(>F)\n",
       "Q('Hair color')  1360.726   3.0  6.791   0.004\n",
       "Residual         1001.800  15.0    NaN     NaN"
      ]
     },
     "metadata": {},
     "execution_count": 12
    }
   ],
   "metadata": {}
  },
  {
   "cell_type": "markdown",
   "source": [
    "### Using R\r\n",
    "\r\n",
    "A pipeline for one-way ANOVA analysis in R can be the following:\r\n",
    "\r\n",
    "```R\r\n",
    "# data import\r\n",
    "data <- read.csv2(\"PlantGrowth.csv\", sep = ',', dec='.')\r\n",
    "data <- data[-c(1)] # drop the 'X' (index) column\r\n",
    "\r\n",
    "# EDA\r\n",
    "head(data)\r\n",
    "str(data)\r\n",
    "levels(data$group) # check group encoding\r\n",
    "summary(data)\r\n",
    "\r\n",
    "# visualization\r\n",
    "boxplot(weight~group, data)\r\n",
    "\r\n",
    "# setup ANOVA as a linear regression model\r\n",
    "fit = lm(weight~group, data)\r\n",
    "\r\n",
    "plot(fit) # plots the following:\r\n",
    "# 1. Residuals vs Fitted\r\n",
    "# 2. Normal Q-Q\r\n",
    "# 3. Scale-Location\r\n",
    "# 4. Constant Leverage\r\n",
    "\r\n",
    "# ANOVA table\r\n",
    "aov = anova(fit)\r\n",
    "aov\r\n",
    "```"
   ],
   "metadata": {}
  },
  {
   "cell_type": "markdown",
   "source": [
    "## Computing manually"
   ],
   "metadata": {}
  },
  {
   "cell_type": "code",
   "execution_count": 13,
   "source": [
    "# parameters of the analysis\r\n",
    "r = data['Hair color'].nunique() # number of groups/conditions\r\n",
    "N = len(data)                    # number of total values\r\n",
    "DF_between = r - 1               # degrees of freedom for the effect Mean Square\r\n",
    "DF_within  = N - r               # degrees of freedom for the error  Mean Square\r\n",
    "\r\n",
    "print(f\"There are {r} different conditions and {N} total values\")\r\n",
    "print(f\"This leads to {DF_between} and {DF_within} degrees of freedom for the effect (SSB) and error (SSW) Mean Squares (MS) respectively\")\r\n",
    "\r\n",
    "\r\n",
    "# sums of squares\r\n",
    "SST = (\r\n",
    "    (\r\n",
    "        data['Pain threshold'] -\r\n",
    "        data['Pain threshold'].mean()\r\n",
    "    )**2\r\n",
    ").sum()\r\n",
    "\r\n",
    "SSW = (\r\n",
    "    data.groupby('Hair color')['Pain threshold']\r\n",
    "    .transform(lambda x: (x - x.mean())**2) \r\n",
    ").sum()\r\n",
    "\r\n",
    "SSB = SST - SSW\r\n",
    "\r\n",
    "print(f\"With SST = {SST:.1f} and SSW = {SSW:.1f}, we obtain SSB = {SSB:.1f}, and eta-squared = {SSB/SST:.6f}\")\r\n",
    "\r\n",
    "\r\n",
    "# MS\r\n",
    "MS_between = SSB / DF_between\r\n",
    "MS_within  = SSW / DF_within\r\n",
    "\r\n",
    "print(f\"MS for SSB = {MS_between:.1f} and for SSW = {MS_within:.1f}\")\r\n",
    "\r\n",
    "\r\n",
    "# F ratio and associated P value\r\n",
    "Fratio = MS_between / MS_within\r\n",
    "Pvalue = stats.f.sf(Fratio, DF_between, DF_within) # using here the `survival function 1 - cdf()`\r\n",
    "\r\n",
    "print(f\"Finally, with a F ratio = {Fratio:.6f}, the associated P value = {Pvalue:.6f}\")"
   ],
   "outputs": [
    {
     "output_type": "stream",
     "name": "stdout",
     "text": [
      "There are 4 different conditions and 19 total values\n",
      "This leads to 3 and 15 degrees of freedom for the effect (SSB) and error (SSW) Mean Squares (MS) respectively\n",
      "With SST = 2362.5 and SSW = 1001.8, we obtain SSB = 1360.7, and eta-squared = 0.575962\n",
      "MS for SSB = 453.6 and for SSW = 66.8\n",
      "Finally, with a F ratio = 6.791407, the associated P value = 0.004114\n"
     ]
    }
   ],
   "metadata": {}
  },
  {
   "cell_type": "code",
   "execution_count": 14,
   "source": [
    "# we could also compute SSB from scratch\r\n",
    "SSB = (\r\n",
    "    data.groupby('Hair color')['Pain threshold']\r\n",
    "    .apply(lambda x: x.count() * (x.mean() - data['Pain threshold'].mean())**2) \r\n",
    ").sum()\r\n",
    "\r\n",
    "print(f\"SSB computed from scratch = {SSB:.1f}\")"
   ],
   "outputs": [
    {
     "output_type": "stream",
     "name": "stdout",
     "text": [
      "SSB computed from scratch = 1360.7\n"
     ]
    }
   ],
   "metadata": {}
  },
  {
   "cell_type": "markdown",
   "source": [
    "### ANOVA table\r\n",
    "\r\n",
    "| Hypothesis  | Scatter from | SS     | Variation | $\\eta^2$ |\r\n",
    "| ----------- | ------------ | ------:| ---------:| -------- |\r\n",
    "| Null        | Grand mean   | 2362.5 |  100.0%   |          |\r\n",
    "| Alternative | Group mean   | 1001.8 |   42.4%   |          |\r\n",
    "| Difference  |              | 1360.7 |   57.6%   |  0.5760  |\r\n",
    "\r\n",
    "Of all the variation, 42.4% is the result of variation within the groups, leaving 57.6% of the total variation as the result of differences between the group means.\r\n",
    "\r\n",
    "| Source variation | SS     | DF  | MS    | F ratio | P value |\r\n",
    "| ----------------:| ------:| ---:| ----- | ------  | ------- |\r\n",
    "|  Between groups  | 1360.7 | 3   | 453.6 |  6.791  |  0.0041 |\r\n",
    "| + Within groups  | 1001.8 | 15  |  66.8 |         |         |\r\n",
    "| =         Total  | 2362.5 | 18  |       |         |         |"
   ],
   "metadata": {}
  },
  {
   "cell_type": "markdown",
   "source": [
    "### Visualization of the F distribution"
   ],
   "metadata": {}
  },
  {
   "cell_type": "code",
   "execution_count": 15,
   "source": [
    "F_crit = stats.f(DF_between, DF_within).ppf(.95)\r\n",
    "\r\n",
    "x = np.linspace(0, 18, num=500)\r\n",
    "rvf = stats.f(DF_between, DF_within)\r\n",
    "plt.plot(x, rvf.pdf(x), color='black')\r\n",
    "hx = rvf.pdf(x)\r\n",
    "\r\n",
    "plt.margins(y = 0)\r\n",
    "plt.ylim((0, .72))\r\n",
    "plt.xlim((0, Fratio+1))\r\n",
    "\r\n",
    "# Shade the probability p-value\r\n",
    "plt.fill_between(x[x <= Fratio], hx[x <= Fratio], edgecolor = None, color = 'limegreen')\r\n",
    "# plot the observed F ratio\r\n",
    "plt.axvline(x = Fratio, color = \"darkgreen\", linestyle = \"--\")\r\n",
    "# Shade the probability alpha\r\n",
    "plt.fill_between(\r\n",
    "    x[x >= F_crit], hx[x >= F_crit], \r\n",
    "    edgecolor = \"orangered\", linestyle = \"-\", linewidth = 2, facecolor = 'orangered')\r\n",
    "\r\n",
    "# plot the critical F value\r\n",
    "plt.axvline(x = F_crit, color = \"red\", linestyle = \"--\")\r\n",
    "\r\n",
    "ax=plt.gca()\r\n",
    "ax.set_xticks([F_crit, Fratio])\r\n",
    "ax.set_xticklabels([\"$F_{crit}$\", \"$F$\"], fontdict={'size': 10})\r\n",
    "ax.get_xticklabels()[0].set_color(\"red\")\r\n",
    "ax.get_xticklabels()[1].set_color(\"darkgreen\")\r\n",
    "plt.ylabel('Density function', fontdict={'size': 12})\r\n",
    "plt.title(f\"F distribution for DFeffect={DF_between} and DFerror={DF_within}\");"
   ],
   "outputs": [
    {
     "output_type": "display_data",
     "data": {
      "image/png": "[encoded data removed]",
      "text/plain": [
       "<Figure size 432x288 with 1 Axes>"
      ]
     },
     "metadata": {
      "needs_background": "light"
     }
    }
   ],
   "metadata": {}
  },
  {
   "cell_type": "markdown",
   "source": [
    "### Effect size\r\n",
    "\r\n",
    "Omega squared ($\\omega^2$) is another measure of the effect size, or the degree of association for a population. It is an estimate of **how much variance in the response variables are accounted for by the explanatory variables**. Omega squared is widely viewed as a lesser biased alternative to eta-squared, especially when sample sizes are small. Zero indicates no effect.\r\n",
    "$$ \\omega^2 = \\frac{\\sigma_Y^2 - \\sigma_{Y \\mid X}^2}{\\sigma_Y^2}\r\n",
    "= \\frac{df_\\text{effect} \\times (\\text{MS}_\\text{effect} - \\text{MS}_\\text{error})}{df_\\text{effect} \\times \\text{MS}_\\text{effect} + (N - df_\\text{effect}) \\times \\text{MS}_\\text{error}}\r\n",
    "= \\frac{df_\\text{effect} \\times (\\text{MS}_\\text{effect} - \\text{MS}_\\text{error})}{\\text{SS}_\\text{total} + \\text{MS}_\\text{error}}\r\n",
    "= \\frac{\\text{SS}_\\text{effect} - (r - 1) \\text{MS}_\\text{error}}{\\text{SS}_\\text{total} + \\text{MS}_\\text{error}}\r\n",
    "= \\frac{(r-1) \\times (F - 1)}{(r-1) \\times (F - 1) + N} $$"
   ],
   "metadata": {}
  },
  {
   "cell_type": "code",
   "execution_count": 16,
   "source": [
    "print(f\"omega squared = {DF_between * (MS_between - MS_within) / (DF_between * MS_between + (N - DF_between) * MS_within):.8f}\")\r\n",
    "print(f\"omega squared = {DF_between * (MS_between - MS_within) / (SST + MS_within):.8f}\")\r\n",
    "print(f\"omega squared = {(SSB - DF_between * MS_within) / (SST + MS_within):.8f}\")\r\n",
    "print(f\"omega squared = {(r-1) * (Fratio-1) / ((r-1) * (Fratio-1) + N):.8f}\")"
   ],
   "outputs": [
    {
     "output_type": "stream",
     "name": "stdout",
     "text": [
      "omega squared = 0.47765205\n",
      "omega squared = 0.47765205\n",
      "omega squared = 0.47765205\n",
      "omega squared = 0.47765205\n"
     ]
    }
   ],
   "metadata": {}
  },
  {
   "cell_type": "markdown",
   "source": [
    "### ANOVA reconstruction from summary data\r\n",
    "\r\n",
    "One-way ANOVA (but not repeated-measures ANOVA) can be [computed without raw data](https://www.youtube.com/watch?v=PPQRZsBSpI8), so long as you know the mean, sample size and SD (or SEM) of each group.\r\n",
    "\r\n",
    "When we look at the very first equations of $\\text{SS}_\\text{effect}$, $\\text{SS}_\\text{error}$ and $\\text{SS}_\\text{total}$, we see that we need the individual data points $ Y_{ij} $ in particular for computing $\\text{SS}_\\text{total}$. So we leave this equation apart.\r\n",
    "\r\n",
    "For $\\text{SS}_\\text{effect} = \\sum_i n_i (\\overline{Y_i} - \\overline{Y})^2 $, it's simply the sum of the squared difference between the group mean $ \\overline{Y_i} $ and the grand mean $ \\overline{Y} $ multiplied by the number of values in each group.\r\n",
    "\r\n",
    "In the example below, the **grand mean** $ = (41 + 38 + 14 + 37) / 4 = 32.5 $. _Beware this is only true when the sample sizes accross the groups are equal, otherwise we should compute the proper sample mean._\r\n",
    "\r\n",
    "| group | mean | $n_i$ | calculation  |\r\n",
    "| -----:| ---- | ----- |:------------:|\r\n",
    "|   A   |  41  |   8   | 8*(41-32.5)² |\r\n",
    "|   B   |  38  |   8   | 8*(38-32.5)² |\r\n",
    "|   C   |  14  |   8   | 8*(14-32.5)² |\r\n",
    "|   D   |  37  |   8   | 8*(37-32.5)² |\r\n",
    "|  sum  |      |       |     3720     |\r\n",
    "\r\n",
    "For $ \\text{SS}_\\text{error} = \\sum_i \\sum_j (Y_{ij} - \\overline{Y}_i)^2 $, we don't have access to the individual data points $ Y_{ij} $, but we have access to the standard deviation for each group. We know that the variance is the average of the sum of squares, with $ \\sigma_i^2 = \\frac{\\text{SS}_\\text{error}}{n_i - 1} $. Therefore $ \\text{SS}_\\text{error} $ is the sum of the squared standard deviation multiplied by the number or values minus 1 in each group as shown below:\r\n",
    "\r\n",
    "| group | SD  | $n_i$ | calculation |\r\n",
    "| -----:| --- | ----- |:-----------:|\r\n",
    "|   A   | 3.5 |   8   | (8-1)*3.5²  |\r\n",
    "|   B   | 4.6 |   8   | (8-1)*4.6²  |\r\n",
    "|   C   | 3.8 |   8   | (8-1)*3.8²  |\r\n",
    "|   D   | 4.9 |   8   | (8-1)*4.9²  |\r\n",
    "|  sum  |     |       |   503.02    |\r\n",
    "\r\n",
    "Let's compute the SSs using the Hair color dataset."
   ],
   "metadata": {}
  },
  {
   "cell_type": "code",
   "execution_count": 17,
   "source": [
    "grand_mean = data['Pain threshold'].mean()\r\n",
    "print(f\"grand mean = {grand_mean}\")\r\n",
    "\r\n",
    "# getting the count, mean and std for each group\r\n",
    "calc_table = data.groupby('Hair color').describe()['Pain threshold'].loc[:, ['count', 'mean', 'std']]\r\n",
    "\r\n",
    "calc_table['SSeffect'] = calc_table['count'] * (calc_table['mean'] - grand_mean)**2\r\n",
    "calc_table['SSerror']  = (calc_table['count'] - 1) * calc_table['std']**2\r\n",
    "calc_table.loc['sum'] = calc_table.sum(axis=0) # adding a new line as sum margin\r\n",
    "\r\n",
    "pg.print_table(calc_table.reset_index(), tablefmt='simple')\r\n",
    "\r\n",
    "print(f\"The values to be used in the ANOVA table are SSeffect = {calc_table.loc['sum','SSeffect']:.1f}, \\\r\n",
    "with DFeffect = {DF_between}, and SSerror = {calc_table.loc['sum','SSerror']:.1f} with DFerror = {DF_within}\")"
   ],
   "outputs": [
    {
     "output_type": "stream",
     "name": "stdout",
     "text": [
      "grand mean = 47.8421052631579\n",
      "Hair color        count     mean     std    SSeffect    SSerror\n",
      "--------------  -------  -------  ------  ----------  ---------\n",
      "Dark Blond        5.000   51.200   9.284      56.377    344.800\n",
      "Dark Brunette     5.000   37.400   8.325     545.188    277.200\n",
      "Light Blond       5.000   59.200   8.526     645.009    290.800\n",
      "Light Brunette    4.000   42.500   5.447     114.152     89.000\n",
      "sum              19.000  190.300  31.582    1360.726   1001.800\n",
      "\n",
      "The values to be used in the ANOVA table are SSeffect = 1360.7, with DFeffect = 3, and SSerror = 1001.8 with DFerror = 15\n"
     ]
    }
   ],
   "metadata": {}
  },
  {
   "cell_type": "markdown",
   "source": [
    "## Repeated-measures one-way ANOVA\r\n",
    "\r\n",
    "The difference between ordinary and repeated-measures ANOVA is the same as the difference between the unpaired and paired t tests. Use repeated-measures ANOVA to analyze data collected in three kinds if experiments:\r\n",
    "\r\n",
    "* measurements are made repeatedly for each subject (e.g. before, during and after)\r\n",
    "* subjects are recruited as matched sets or _blocks_, which are matched for variables such as age, postal code, diagnosis etc.\r\n",
    "* experiment is run several times, each time with several treatment handled in parallel\r\n",
    "\r\n",
    "More generally, you should use a repeated-measures test **whenever the value of one subject in the first group is expected to be closer to a particular value in the other group than to a random subject in the other group**.\r\n",
    "\r\n",
    "In one-way repeated-measures ANOVA, the total variance (sums of squares) is divided into three components $ \\text{SS}_{\\text{total}} = \\text{SS}_{\\text{effect}} + (\\text{SS}_{\\text{subjects}} + \\text{SS}_{\\text{error}}) $, with $ \\text{SS}_\\text{subjects} = r \\sum (\\overline Y_s - \\overline Y)^2 $ and $ \\overline Y_s $ the mean of the $ s $ th subject.\r\n",
    "\r\n",
    "The F statistic is defined as\r\n",
    "\r\n",
    "$$ F^* = \\frac{\\text{MS}_{\\text{effect}}}{\\text{MS}_{\\text{error}}} = \\frac{\\frac{\\text{SS}_{\\text{effect}}}{r-1}}{\\frac{\\text{SS}_{\\text{error}}}{(n - 1)(r - 1)}} $$\r\n",
    "\r\n",
    "and the P value can be calculated using a F-distribution with $ v_{\\text{effect}} = r - 1 $ and $ v_{\\text{error}} = (n - 1)(r - 1) $ degrees of freedom."
   ],
   "metadata": {}
  },
  {
   "cell_type": "markdown",
   "source": [
    "In one-way repeated-measures ANOVA, there is only one factor (treatment of timepoint) to study. The variation is divided into three components including within-subjects ($\\text{SS}_\\text{subjects}$), variation among the treatments or time points ($\\text{SS}_\\text{B}$), and residual variance ($\\text{SS}_\\text{E}$), as follows:\r\n",
    "\r\n",
    "| Source of variation  | Degree of freedom                 | Sum of squares       | Mean square       | F value     |\r\n",
    "| -------------------- | --------------------------------- | -------------------- | ----------------- | ----------- |\r\n",
    "| Subjects             | $\\text{DF}_\\text{S} = n - 1$      | $\\text{SS}_\\text{S}$ |                   |             |\r\n",
    "| Treatment/Time point | $\\text{DF}_\\text{B} = k - 1$      | $\\text{SS}_\\text{B}$ | $MS_B=SS_B/DF_B $ | $MS_B/MS_E$ |\r\n",
    "| Residuals or error   | $\\text{DF}_\\text{E} = (n-1)(k-1)$ | $\\text{SS}_\\text{E}$ | $MS_E=SS_E/DF_E $ |             |\r\n",
    "| Total                | $\\text{DF}_\\text{T} = nk-1$       | $\\text{SS}_\\text{T}$ |                   |             |"
   ],
   "metadata": {}
  },
  {
   "cell_type": "code",
   "execution_count": 18,
   "source": [
    "data_rm = pg.read_dataset('rm_anova')\r\n",
    "data_rm.head()"
   ],
   "outputs": [
    {
     "output_type": "execute_result",
     "data": {
      "text/html": [
       "<div>\n",
       "<style scoped>\n",
       "    .dataframe tbody tr th:only-of-type {\n",
       "        vertical-align: middle;\n",
       "    }\n",
       "\n",
       "    .dataframe tbody tr th {\n",
       "        vertical-align: top;\n",
       "    }\n",
       "\n",
       "    .dataframe thead th {\n",
       "        text-align: right;\n",
       "    }\n",
       "</style>\n",
       "<table border=\"1\" class=\"dataframe\">\n",
       "  <thead>\n",
       "    <tr style=\"text-align: right;\">\n",
       "      <th></th>\n",
       "      <th>Subject</th>\n",
       "      <th>Gender</th>\n",
       "      <th>Region</th>\n",
       "      <th>Education</th>\n",
       "      <th>DesireToKill</th>\n",
       "      <th>Disgustingness</th>\n",
       "      <th>Frighteningness</th>\n",
       "    </tr>\n",
       "  </thead>\n",
       "  <tbody>\n",
       "    <tr>\n",
       "      <th>0</th>\n",
       "      <td>1</td>\n",
       "      <td>Female</td>\n",
       "      <td>North</td>\n",
       "      <td>some</td>\n",
       "      <td>10.0</td>\n",
       "      <td>High</td>\n",
       "      <td>High</td>\n",
       "    </tr>\n",
       "    <tr>\n",
       "      <th>1</th>\n",
       "      <td>1</td>\n",
       "      <td>Female</td>\n",
       "      <td>North</td>\n",
       "      <td>some</td>\n",
       "      <td>9.0</td>\n",
       "      <td>High</td>\n",
       "      <td>Low</td>\n",
       "    </tr>\n",
       "    <tr>\n",
       "      <th>2</th>\n",
       "      <td>1</td>\n",
       "      <td>Female</td>\n",
       "      <td>North</td>\n",
       "      <td>some</td>\n",
       "      <td>6.0</td>\n",
       "      <td>Low</td>\n",
       "      <td>High</td>\n",
       "    </tr>\n",
       "    <tr>\n",
       "      <th>3</th>\n",
       "      <td>1</td>\n",
       "      <td>Female</td>\n",
       "      <td>North</td>\n",
       "      <td>some</td>\n",
       "      <td>6.0</td>\n",
       "      <td>Low</td>\n",
       "      <td>Low</td>\n",
       "    </tr>\n",
       "    <tr>\n",
       "      <th>4</th>\n",
       "      <td>2</td>\n",
       "      <td>Female</td>\n",
       "      <td>North</td>\n",
       "      <td>advance</td>\n",
       "      <td>10.0</td>\n",
       "      <td>High</td>\n",
       "      <td>High</td>\n",
       "    </tr>\n",
       "  </tbody>\n",
       "</table>\n",
       "</div>"
      ],
      "text/plain": [
       "   Subject  Gender Region Education  DesireToKill Disgustingness  \\\n",
       "0        1  Female  North      some          10.0           High   \n",
       "1        1  Female  North      some           9.0           High   \n",
       "2        1  Female  North      some           6.0            Low   \n",
       "3        1  Female  North      some           6.0            Low   \n",
       "4        2  Female  North   advance          10.0           High   \n",
       "\n",
       "  Frighteningness  \n",
       "0            High  \n",
       "1             Low  \n",
       "2            High  \n",
       "3             Low  \n",
       "4            High  "
      ]
     },
     "metadata": {},
     "execution_count": 18
    }
   ],
   "metadata": {}
  },
  {
   "cell_type": "code",
   "execution_count": 19,
   "source": [
    "pg.rm_anova(\r\n",
    "    dv='DesireToKill',\r\n",
    "    within='Disgustingness',\r\n",
    "    subject='Subject',\r\n",
    "    data=data_rm,\r\n",
    "    detailed=False,\r\n",
    "    effsize=\"ng2\"\r\n",
    ")"
   ],
   "outputs": [
    {
     "output_type": "execute_result",
     "data": {
      "text/html": [
       "<div>\n",
       "<style scoped>\n",
       "    .dataframe tbody tr th:only-of-type {\n",
       "        vertical-align: middle;\n",
       "    }\n",
       "\n",
       "    .dataframe tbody tr th {\n",
       "        vertical-align: top;\n",
       "    }\n",
       "\n",
       "    .dataframe thead th {\n",
       "        text-align: right;\n",
       "    }\n",
       "</style>\n",
       "<table border=\"1\" class=\"dataframe\">\n",
       "  <thead>\n",
       "    <tr style=\"text-align: right;\">\n",
       "      <th></th>\n",
       "      <th>Source</th>\n",
       "      <th>ddof1</th>\n",
       "      <th>ddof2</th>\n",
       "      <th>F</th>\n",
       "      <th>p-unc</th>\n",
       "      <th>ng2</th>\n",
       "      <th>eps</th>\n",
       "    </tr>\n",
       "  </thead>\n",
       "  <tbody>\n",
       "    <tr>\n",
       "      <th>0</th>\n",
       "      <td>Disgustingness</td>\n",
       "      <td>1</td>\n",
       "      <td>92</td>\n",
       "      <td>12.043878</td>\n",
       "      <td>0.000793</td>\n",
       "      <td>0.025784</td>\n",
       "      <td>1.0</td>\n",
       "    </tr>\n",
       "  </tbody>\n",
       "</table>\n",
       "</div>"
      ],
      "text/plain": [
       "           Source  ddof1  ddof2          F     p-unc       ng2  eps\n",
       "0  Disgustingness      1     92  12.043878  0.000793  0.025784  1.0"
      ]
     },
     "metadata": {},
     "execution_count": 19
    }
   ],
   "metadata": {}
  },
  {
   "cell_type": "markdown",
   "source": [
    "### Repeated measures two-way ANOVA\r\n",
    "\r\n",
    "In two-way repeated measures ANOVA, there are two within-subjects factors (treatments or time) to study. In the example below:\r\n",
    "\r\n",
    "- the same animals were first given inactive treatment and the response measured; then they were given the active treatment and the response measured again\r\n",
    "- the same animals are first measured for a response after a short duration and then later after a long duration\r\n",
    "- each animal was first given the inactive treatment and measured for a short and then a long duration; then the same animal was given the active treatment and measured for a short and then a long duration. This is a **repeated measures in both factors** design."
   ],
   "metadata": {}
  },
  {
   "cell_type": "code",
   "execution_count": 20,
   "source": [
    "# we use another dataset to illustrate the concept\r\n",
    "data_rm2 = pd.read_csv(\"https://reneshbedre.github.io/assets/posts/anova/plants_leaves_two_within.csv\")\r\n",
    "pg.print_table(data_rm2.head())\r\n",
    "\r\n",
    "sns.boxplot(\r\n",
    "    x='time',\r\n",
    "    y='num_leaves',\r\n",
    "    data=data_rm2,\r\n",
    "    hue='year',\r\n",
    "    palette='Set2',\r\n",
    ");"
   ],
   "outputs": [
    {
     "output_type": "stream",
     "name": "stdout",
     "text": [
      "plants    nutrient_level    year    time      num_leaves\n",
      "--------  ----------------  ------  ------  ------------\n",
      "P1        Low               Year1   Week1              4\n",
      "P2        Low               Year1   Week1              3\n",
      "P3        Low               Year1   Week1              6\n",
      "P4        Low               Year1   Week1              5\n",
      "P5        Low               Year1   Week1              5\n",
      "\n"
     ]
    },
    {
     "output_type": "display_data",
     "data": {
      "image/png": "[encoded data removed]",
      "text/plain": [
       "<Figure size 432x288 with 1 Axes>"
      ]
     },
     "metadata": {
      "needs_background": "light"
     }
    }
   ],
   "metadata": {}
  },
  {
   "cell_type": "code",
   "execution_count": 21,
   "source": [
    "pg.rm_anova(\r\n",
    "    dv='num_leaves',\r\n",
    "    within=['time', 'year'],\r\n",
    "    subject='plants',\r\n",
    "    data=data_rm2,\r\n",
    "    detailed=True,\r\n",
    ").round(4)"
   ],
   "outputs": [
    {
     "output_type": "execute_result",
     "data": {
      "text/html": [
       "<div>\n",
       "<style scoped>\n",
       "    .dataframe tbody tr th:only-of-type {\n",
       "        vertical-align: middle;\n",
       "    }\n",
       "\n",
       "    .dataframe tbody tr th {\n",
       "        vertical-align: top;\n",
       "    }\n",
       "\n",
       "    .dataframe thead th {\n",
       "        text-align: right;\n",
       "    }\n",
       "</style>\n",
       "<table border=\"1\" class=\"dataframe\">\n",
       "  <thead>\n",
       "    <tr style=\"text-align: right;\">\n",
       "      <th></th>\n",
       "      <th>Source</th>\n",
       "      <th>SS</th>\n",
       "      <th>ddof1</th>\n",
       "      <th>ddof2</th>\n",
       "      <th>MS</th>\n",
       "      <th>F</th>\n",
       "      <th>p-unc</th>\n",
       "      <th>p-GG-corr</th>\n",
       "      <th>np2</th>\n",
       "      <th>eps</th>\n",
       "    </tr>\n",
       "  </thead>\n",
       "  <tbody>\n",
       "    <tr>\n",
       "      <th>0</th>\n",
       "      <td>time</td>\n",
       "      <td>226.88</td>\n",
       "      <td>4</td>\n",
       "      <td>16</td>\n",
       "      <td>56.72</td>\n",
       "      <td>158.6573</td>\n",
       "      <td>0.0000</td>\n",
       "      <td>0.0000</td>\n",
       "      <td>0.9754</td>\n",
       "      <td>0.4212</td>\n",
       "    </tr>\n",
       "    <tr>\n",
       "      <th>1</th>\n",
       "      <td>year</td>\n",
       "      <td>18.00</td>\n",
       "      <td>1</td>\n",
       "      <td>4</td>\n",
       "      <td>18.00</td>\n",
       "      <td>3.6000</td>\n",
       "      <td>0.1306</td>\n",
       "      <td>0.1306</td>\n",
       "      <td>0.4737</td>\n",
       "      <td>1.0000</td>\n",
       "    </tr>\n",
       "    <tr>\n",
       "      <th>2</th>\n",
       "      <td>time * year</td>\n",
       "      <td>0.80</td>\n",
       "      <td>4</td>\n",
       "      <td>16</td>\n",
       "      <td>0.20</td>\n",
       "      <td>1.4545</td>\n",
       "      <td>0.2621</td>\n",
       "      <td>0.2917</td>\n",
       "      <td>0.2667</td>\n",
       "      <td>0.4416</td>\n",
       "    </tr>\n",
       "  </tbody>\n",
       "</table>\n",
       "</div>"
      ],
      "text/plain": [
       "        Source      SS  ddof1  ddof2     MS         F   p-unc  p-GG-corr  \\\n",
       "0         time  226.88      4     16  56.72  158.6573  0.0000     0.0000   \n",
       "1         year   18.00      1      4  18.00    3.6000  0.1306     0.1306   \n",
       "2  time * year    0.80      4     16   0.20    1.4545  0.2621     0.2917   \n",
       "\n",
       "      np2     eps  \n",
       "0  0.9754  0.4212  \n",
       "1  0.4737  1.0000  \n",
       "2  0.2667  0.4416  "
      ]
     },
     "metadata": {},
     "execution_count": 21
    }
   ],
   "metadata": {}
  },
  {
   "cell_type": "markdown",
   "source": [
    "We reject the null hypothesis in favor of the alternate hypothesis for time, but not for year and time + year interaction."
   ],
   "metadata": {}
  },
  {
   "cell_type": "markdown",
   "source": [
    "### Repeated-measures ANOVA with statsmodels"
   ],
   "metadata": {}
  },
  {
   "cell_type": "code",
   "execution_count": 22,
   "source": [
    "from statsmodels.stats.anova import AnovaRM\r\n",
    "\r\n",
    "res_rmANOVA = AnovaRM(\r\n",
    "    data=data_rm2,\r\n",
    "    depvar='num_leaves',\r\n",
    "    subject='plants',\r\n",
    "    within=['time', 'year'],\r\n",
    ")\r\n",
    "print(res_rmANOVA.fit())"
   ],
   "outputs": [
    {
     "output_type": "stream",
     "name": "stdout",
     "text": [
      "                 Anova\n",
      "========================================\n",
      "          F Value  Num DF  Den DF Pr > F\n",
      "----------------------------------------\n",
      "time      158.6573 4.0000 16.0000 0.0000\n",
      "year        3.6000 1.0000  4.0000 0.1306\n",
      "time:year   1.4545 4.0000 16.0000 0.2621\n",
      "========================================\n",
      "\n"
     ]
    }
   ],
   "metadata": {}
  },
  {
   "cell_type": "markdown",
   "source": [
    "## Two-way ANOVA (also called _two-factor ANOVA_)\r\n",
    "\r\n",
    "The data are divided in two ways because each data point is either from an animal given either an inactive or active treatment (one factor) given for either a short or long duration (second factor). If male and female animals were both included you'd need three-way ANOVA, so that each value would be categorized in three ways, i.e. treatment, duration and gender.\r\n",
    "\r\n",
    "Two-way ANOVA simultaneously tests 3 null hypotheses and so computes 3 P values:\r\n",
    "\r\n",
    "1. There is no **interaction between the two factors** (treatment and duration), i.e. H0 is that the difference in effects between durations is the same in animals given active or inactive treatment, or that the treatment causes the same change in response if given for short or long duration.\r\n",
    "2. The population means are identical for animals given placebo and active treatment (treatment, i.e. **first factor**), pooling short and long duration.\r\n",
    "3. The population means are identical for animals given a treatment for short vs. long duration (duration, i.e. **second factor**).\r\n",
    "\r\n",
    "\r\n",
    "### How two-way ANOVA works\r\n",
    "\r\n",
    "The bottom row of the ANOVA table quantifies the total variation among all the values, paying no attention to which row or column they are in. It is the **sum-of-squares of the squared difference between each value and the grand mean**. The rest of the table breaks this variability into four components: interaction, differences between rows (on the average), differences between columns (on the average) and variation amoing replicates in the same row and column. Each MS is divided by the residual MS to compute an F ratio, and this is used to obtain a P value.\r\n",
    "\r\n",
    "| Source of variation | Sum squares | DF |  MS   |\r\n",
    "| -------------------:|:----------- | -- | ----- |\r\n",
    "|   Interaction       |    12896    |  1 | 12896 |\r\n",
    "| \\+ Between rows     |     5764    |  1 |  5764 |\r\n",
    "| \\+ Between columns  |     3710    |  1 |  3710 |\r\n",
    "| \\+ Among replicates |      928    |  8 |   116 |\r\n",
    "| \\= Total            |    23298    | 11 |       |\r\n",
    "\r\n",
    "![Partionining of the sum of squares](https://www.marsja.se/wp-content/uploads/2016/03/two-way-anova-sum-of-squares.png)"
   ],
   "metadata": {}
  },
  {
   "cell_type": "code",
   "execution_count": 23,
   "source": [
    "# two-way ANOVA with balanced design (equal n for all level combinations)\r\n",
    "# but works similar with unbalanced design (thus requires statsmodels)\r\n",
    "data2 = pg.read_dataset('anova2')\r\n",
    "pg.print_table(data2.head())\r\n",
    "sns.pointplot(\r\n",
    "    data=data2,\r\n",
    "    x='Crop',\r\n",
    "    y='Yield',\r\n",
    "    hue='Blend',\r\n",
    "    dodge=True,\r\n",
    "    errwidth=2,\r\n",
    ");"
   ],
   "outputs": [
    {
     "output_type": "stream",
     "name": "stdout",
     "text": [
      "  Ss  Blend    Crop      Yield\n",
      "----  -------  ------  -------\n",
      "   1  Blend X  Wheat       123\n",
      "   2  Blend X  Wheat       156\n",
      "   3  Blend X  Wheat       112\n",
      "   4  Blend X  Wheat       100\n",
      "   5  Blend X  Corn        128\n",
      "\n"
     ]
    },
    {
     "output_type": "display_data",
     "data": {
      "image/png": "[encoded data removed]",
      "text/plain": [
       "<Figure size 432x288 with 1 Axes>"
      ]
     },
     "metadata": {
      "needs_background": "light"
     }
    }
   ],
   "metadata": {}
  },
  {
   "cell_type": "code",
   "execution_count": 24,
   "source": [
    "data2.anova(\r\n",
    "    dv=\"Yield\",\r\n",
    "    between=[\"Crop\", \"Blend\"],\r\n",
    "    detailed=True,\r\n",
    ").round(3)"
   ],
   "outputs": [
    {
     "output_type": "execute_result",
     "data": {
      "text/html": [
       "<div>\n",
       "<style scoped>\n",
       "    .dataframe tbody tr th:only-of-type {\n",
       "        vertical-align: middle;\n",
       "    }\n",
       "\n",
       "    .dataframe tbody tr th {\n",
       "        vertical-align: top;\n",
       "    }\n",
       "\n",
       "    .dataframe thead th {\n",
       "        text-align: right;\n",
       "    }\n",
       "</style>\n",
       "<table border=\"1\" class=\"dataframe\">\n",
       "  <thead>\n",
       "    <tr style=\"text-align: right;\">\n",
       "      <th></th>\n",
       "      <th>Source</th>\n",
       "      <th>SS</th>\n",
       "      <th>DF</th>\n",
       "      <th>MS</th>\n",
       "      <th>F</th>\n",
       "      <th>p-unc</th>\n",
       "      <th>np2</th>\n",
       "    </tr>\n",
       "  </thead>\n",
       "  <tbody>\n",
       "    <tr>\n",
       "      <th>0</th>\n",
       "      <td>Crop</td>\n",
       "      <td>2736.583</td>\n",
       "      <td>2</td>\n",
       "      <td>1368.292</td>\n",
       "      <td>2.525</td>\n",
       "      <td>0.108</td>\n",
       "      <td>0.219</td>\n",
       "    </tr>\n",
       "    <tr>\n",
       "      <th>1</th>\n",
       "      <td>Blend</td>\n",
       "      <td>2.042</td>\n",
       "      <td>1</td>\n",
       "      <td>2.042</td>\n",
       "      <td>0.004</td>\n",
       "      <td>0.952</td>\n",
       "      <td>0.000</td>\n",
       "    </tr>\n",
       "    <tr>\n",
       "      <th>2</th>\n",
       "      <td>Crop * Blend</td>\n",
       "      <td>2360.083</td>\n",
       "      <td>2</td>\n",
       "      <td>1180.042</td>\n",
       "      <td>2.178</td>\n",
       "      <td>0.142</td>\n",
       "      <td>0.195</td>\n",
       "    </tr>\n",
       "    <tr>\n",
       "      <th>3</th>\n",
       "      <td>Residual</td>\n",
       "      <td>9753.250</td>\n",
       "      <td>18</td>\n",
       "      <td>541.847</td>\n",
       "      <td>NaN</td>\n",
       "      <td>NaN</td>\n",
       "      <td>NaN</td>\n",
       "    </tr>\n",
       "  </tbody>\n",
       "</table>\n",
       "</div>"
      ],
      "text/plain": [
       "         Source        SS  DF        MS      F  p-unc    np2\n",
       "0          Crop  2736.583   2  1368.292  2.525  0.108  0.219\n",
       "1         Blend     2.042   1     2.042  0.004  0.952  0.000\n",
       "2  Crop * Blend  2360.083   2  1180.042  2.178  0.142  0.195\n",
       "3      Residual  9753.250  18   541.847    NaN    NaN    NaN"
      ]
     },
     "metadata": {},
     "execution_count": 24
    }
   ],
   "metadata": {}
  },
  {
   "cell_type": "code",
   "execution_count": 25,
   "source": [
    "grand_mean2 = data2['Yield'].mean()\r\n",
    "print(f\"grand mean for the two-way ANOVA = {grand_mean2}\")"
   ],
   "outputs": [
    {
     "output_type": "stream",
     "name": "stdout",
     "text": [
      "grand mean for the two-way ANOVA = 145.54166666666666\n"
     ]
    }
   ],
   "metadata": {}
  },
  {
   "cell_type": "code",
   "execution_count": 26,
   "source": [
    "data2_crop = data2.groupby('Crop').describe().loc[:, ('Yield', ['mean', 'count'])].droplevel(level=0, axis=1)\r\n",
    "data2_crop"
   ],
   "outputs": [
    {
     "output_type": "execute_result",
     "data": {
      "text/html": [
       "<div>\n",
       "<style scoped>\n",
       "    .dataframe tbody tr th:only-of-type {\n",
       "        vertical-align: middle;\n",
       "    }\n",
       "\n",
       "    .dataframe tbody tr th {\n",
       "        vertical-align: top;\n",
       "    }\n",
       "\n",
       "    .dataframe thead th {\n",
       "        text-align: right;\n",
       "    }\n",
       "</style>\n",
       "<table border=\"1\" class=\"dataframe\">\n",
       "  <thead>\n",
       "    <tr style=\"text-align: right;\">\n",
       "      <th></th>\n",
       "      <th>mean</th>\n",
       "      <th>count</th>\n",
       "    </tr>\n",
       "    <tr>\n",
       "      <th>Crop</th>\n",
       "      <th></th>\n",
       "      <th></th>\n",
       "    </tr>\n",
       "  </thead>\n",
       "  <tbody>\n",
       "    <tr>\n",
       "      <th>Corn</th>\n",
       "      <td>147.750</td>\n",
       "      <td>8.0</td>\n",
       "    </tr>\n",
       "    <tr>\n",
       "      <th>Soy</th>\n",
       "      <td>157.375</td>\n",
       "      <td>8.0</td>\n",
       "    </tr>\n",
       "    <tr>\n",
       "      <th>Wheat</th>\n",
       "      <td>131.500</td>\n",
       "      <td>8.0</td>\n",
       "    </tr>\n",
       "  </tbody>\n",
       "</table>\n",
       "</div>"
      ],
      "text/plain": [
       "          mean  count\n",
       "Crop                 \n",
       "Corn   147.750    8.0\n",
       "Soy    157.375    8.0\n",
       "Wheat  131.500    8.0"
      ]
     },
     "metadata": {},
     "execution_count": 26
    }
   ],
   "metadata": {}
  },
  {
   "cell_type": "markdown",
   "source": [
    "We first calculate the sum of squares for the 1st factor 'Crop'. For each Crop, we calculate the **difference of its group mean to the grand mean and square it, and add it up for all the individual values**.\r\n",
    "For example, the Yield mean in the Corn, Soy and Wheat Corn groups are respectively 147.75, 157.375 and 131.5, and the Yield grand mean equals 145.5, and there are 8 values un each groups."
   ],
   "metadata": {}
  },
  {
   "cell_type": "code",
   "execution_count": 27,
   "source": [
    "SS_crop = 8 * (147.75 - grand_mean2)**2 + 8 * (157.375 - grand_mean2)**2 + 8 * (131.5 - grand_mean2)**2\r\n",
    "print(f\"SS for factor 1 (Crop) = {SS_crop:.3f}\") # corresponds to the SS on the 1st line of the ANOVA table\r\n",
    "\r\n",
    "DF_crop = data2['Crop'].nunique() - 1\r\n",
    "print(f\"Degree of freedom for Crop factor: DF_crop = {DF_crop}\")"
   ],
   "outputs": [
    {
     "output_type": "stream",
     "name": "stdout",
     "text": [
      "SS for factor 1 (Crop) = 2736.583\n",
      "Degree of freedom for Crop factor: DF_crop = 2\n"
     ]
    }
   ],
   "metadata": {}
  },
  {
   "cell_type": "code",
   "execution_count": 28,
   "source": [
    "# we can run that directly in the data2_crop dataframe\r\n",
    "data2_crop['SS_crop'] = data2_crop['count'] * (data2_crop['mean'] - grand_mean2)**2\r\n",
    "data2_crop.loc['sum'] = data2_crop.sum(axis=0)\r\n",
    "data2_crop"
   ],
   "outputs": [
    {
     "output_type": "execute_result",
     "data": {
      "text/html": [
       "<div>\n",
       "<style scoped>\n",
       "    .dataframe tbody tr th:only-of-type {\n",
       "        vertical-align: middle;\n",
       "    }\n",
       "\n",
       "    .dataframe tbody tr th {\n",
       "        vertical-align: top;\n",
       "    }\n",
       "\n",
       "    .dataframe thead th {\n",
       "        text-align: right;\n",
       "    }\n",
       "</style>\n",
       "<table border=\"1\" class=\"dataframe\">\n",
       "  <thead>\n",
       "    <tr style=\"text-align: right;\">\n",
       "      <th></th>\n",
       "      <th>mean</th>\n",
       "      <th>count</th>\n",
       "      <th>SS_crop</th>\n",
       "    </tr>\n",
       "    <tr>\n",
       "      <th>Crop</th>\n",
       "      <th></th>\n",
       "      <th></th>\n",
       "      <th></th>\n",
       "    </tr>\n",
       "  </thead>\n",
       "  <tbody>\n",
       "    <tr>\n",
       "      <th>Corn</th>\n",
       "      <td>147.750</td>\n",
       "      <td>8.0</td>\n",
       "      <td>39.013889</td>\n",
       "    </tr>\n",
       "    <tr>\n",
       "      <th>Soy</th>\n",
       "      <td>157.375</td>\n",
       "      <td>8.0</td>\n",
       "      <td>1120.222222</td>\n",
       "    </tr>\n",
       "    <tr>\n",
       "      <th>Wheat</th>\n",
       "      <td>131.500</td>\n",
       "      <td>8.0</td>\n",
       "      <td>1577.347222</td>\n",
       "    </tr>\n",
       "    <tr>\n",
       "      <th>sum</th>\n",
       "      <td>436.625</td>\n",
       "      <td>24.0</td>\n",
       "      <td>2736.583333</td>\n",
       "    </tr>\n",
       "  </tbody>\n",
       "</table>\n",
       "</div>"
      ],
      "text/plain": [
       "          mean  count      SS_crop\n",
       "Crop                              \n",
       "Corn   147.750    8.0    39.013889\n",
       "Soy    157.375    8.0  1120.222222\n",
       "Wheat  131.500    8.0  1577.347222\n",
       "sum    436.625   24.0  2736.583333"
      ]
     },
     "metadata": {},
     "execution_count": 28
    }
   ],
   "metadata": {}
  },
  {
   "cell_type": "markdown",
   "source": [
    "For the sum of squares for the 2nd factor 'Blend', we use a similar approach."
   ],
   "metadata": {}
  },
  {
   "cell_type": "code",
   "execution_count": 29,
   "source": [
    "data2_blend = data2.groupby('Blend').describe().loc[:, ('Yield', ['mean', 'count'])].droplevel(level=0, axis=1)\r\n",
    "data2_blend['SS_blend'] = data2_blend['count'] * (data2_blend['mean'] - grand_mean2)**2\r\n",
    "data2_blend.loc['sum'] = data2_blend.sum(axis=0)\r\n",
    "data2_blend"
   ],
   "outputs": [
    {
     "output_type": "execute_result",
     "data": {
      "text/html": [
       "<div>\n",
       "<style scoped>\n",
       "    .dataframe tbody tr th:only-of-type {\n",
       "        vertical-align: middle;\n",
       "    }\n",
       "\n",
       "    .dataframe tbody tr th {\n",
       "        vertical-align: top;\n",
       "    }\n",
       "\n",
       "    .dataframe thead th {\n",
       "        text-align: right;\n",
       "    }\n",
       "</style>\n",
       "<table border=\"1\" class=\"dataframe\">\n",
       "  <thead>\n",
       "    <tr style=\"text-align: right;\">\n",
       "      <th></th>\n",
       "      <th>mean</th>\n",
       "      <th>count</th>\n",
       "      <th>SS_blend</th>\n",
       "    </tr>\n",
       "    <tr>\n",
       "      <th>Blend</th>\n",
       "      <th></th>\n",
       "      <th></th>\n",
       "      <th></th>\n",
       "    </tr>\n",
       "  </thead>\n",
       "  <tbody>\n",
       "    <tr>\n",
       "      <th>Blend X</th>\n",
       "      <td>145.250000</td>\n",
       "      <td>12.0</td>\n",
       "      <td>1.020833</td>\n",
       "    </tr>\n",
       "    <tr>\n",
       "      <th>Blend Y</th>\n",
       "      <td>145.833333</td>\n",
       "      <td>12.0</td>\n",
       "      <td>1.020833</td>\n",
       "    </tr>\n",
       "    <tr>\n",
       "      <th>sum</th>\n",
       "      <td>291.083333</td>\n",
       "      <td>24.0</td>\n",
       "      <td>2.041667</td>\n",
       "    </tr>\n",
       "  </tbody>\n",
       "</table>\n",
       "</div>"
      ],
      "text/plain": [
       "               mean  count  SS_blend\n",
       "Blend                               \n",
       "Blend X  145.250000   12.0  1.020833\n",
       "Blend Y  145.833333   12.0  1.020833\n",
       "sum      291.083333   24.0  2.041667"
      ]
     },
     "metadata": {},
     "execution_count": 29
    }
   ],
   "metadata": {}
  },
  {
   "cell_type": "code",
   "execution_count": 30,
   "source": [
    "SS_blend = 12 * (145.25 - grand_mean2)**2 + 12 * (145.833333 - grand_mean2)**2\r\n",
    "print(f\"SS for factor 2 (Blend) = {SS_blend:.3f}\") # corresponds to the SS on the 2nd line of the ANOVA table\r\n",
    "\r\n",
    "DF_blend = data2['Blend'].nunique() - 1\r\n",
    "print(f\"Degree of freedom for Blend factor: DF_blend = {DF_blend}\")"
   ],
   "outputs": [
    {
     "output_type": "stream",
     "name": "stdout",
     "text": [
      "SS for factor 2 (Blend) = 2.042\n",
      "Degree of freedom for Blend factor: DF_blend = 1\n"
     ]
    }
   ],
   "metadata": {}
  },
  {
   "cell_type": "markdown",
   "source": [
    "The approach for residuals/error is similar to the SSW computed for one-way ANOVA, here using the 'Crop' and 'Blend' subgroups and calculating the sum of squares for each individual value. The degree of freedom for the within sum of squares equals **the number of factor 'Crop' times the number of factors 'Blend' times the number of replicates in each combination of factor minus 1**. Of note, _the degrees of freedom for the interaction 'Crop*Blend' is equal to the product of the degrees of freedom for the individual factors._"
   ],
   "metadata": {}
  },
  {
   "cell_type": "code",
   "execution_count": 31,
   "source": [
    "SSW_2 = (\r\n",
    "    data2.groupby(['Crop', 'Blend'])['Yield']\r\n",
    "    .apply(lambda x: (x - x.mean())**2)\r\n",
    ").sum()\r\n",
    "\r\n",
    "print(f\"SS for residuals/within = {SSW_2:.3f}\") # corresponds to the SS on the last line of the ANOVA table\r\n",
    "\r\n",
    "replicates = data2.groupby(['Crop', 'Blend']).count().iloc[0,0]\r\n",
    "DF_W = (DF_crop + 1) * (DF_blend + 1) * (replicates - 1)\r\n",
    "print(f\"Degree of freedom for within: DF_within = {DF_W}\")"
   ],
   "outputs": [
    {
     "output_type": "stream",
     "name": "stdout",
     "text": [
      "SS for residuals/within = 9753.250\n",
      "Degree of freedom for within: DF_within = 18\n"
     ]
    }
   ],
   "metadata": {}
  },
  {
   "cell_type": "markdown",
   "source": [
    "Finally, we calculate the total SS, as the squared difference of each value to the grand mean. It's exactly the same as for one-way ANOVA. _The degrees of freedom total is equal to the total number of values minus 1._"
   ],
   "metadata": {}
  },
  {
   "cell_type": "code",
   "execution_count": 32,
   "source": [
    "SST_2 = (\r\n",
    "    (\r\n",
    "        data2['Yield'] -\r\n",
    "        data2['Yield'].mean() # or grand_mean2\r\n",
    "    )**2\r\n",
    ").sum()\r\n",
    "\r\n",
    "print(f\"SST = {SST_2:.3f}\") # corresponds to the sum of all the SS in the ANOVA table\r\n",
    "\r\n",
    "DF_T = len(data2) - 1\r\n",
    "print(f\"Degree of freedom Total DF_total = {DF_T}\")"
   ],
   "outputs": [
    {
     "output_type": "stream",
     "name": "stdout",
     "text": [
      "SST = 14851.958\n",
      "Degree of freedom Total DF_total = 23\n"
     ]
    }
   ],
   "metadata": {}
  },
  {
   "cell_type": "markdown",
   "source": [
    "We then complete the ANOVA table and compute the F ratio for each factor and interaction as in one-way ANOVA, first by completing the values for the interaction or 'both factors' row, knowing that the SS sum up together as the degrees of freedom:\r\n",
    "\r\n",
    "| Source of variation | Sum squares | DF |  MS    | F ratio | P value |\r\n",
    "|:-------------------:|:----------- | -- | ------ | ------- | ------- |\r\n",
    "|    Factor 1 (Crop)  |   2736.58   |  2 | 1368.3 |  2.525  |  0.108  | \r\n",
    "| \\+ Factor 2 (Blend) |      2.04   |  1 |    2.0 |  0.004  |  0.952  |\r\n",
    "| \\+ both factors     |   2360.08   |  2 | 1180.0 |  2.178  |  0.142  |\r\n",
    "| \\+ Within (error)   |   9753.25   | 18 |  541.8 |         |         |\r\n",
    "| \\= Total            |  14851.96   | 23 |        |         |         |"
   ],
   "metadata": {}
  },
  {
   "cell_type": "code",
   "execution_count": 33,
   "source": [
    "SSB_2 = SST_2 - (SS_blend + SS_crop + SSW_2)\r\n",
    "DF_B  = DF_T  - (DF_blend + DF_crop + DF_W )\r\n",
    "\r\n",
    "print(f\"SS for interaction SS_B = {SSB_2:.3f} with {DF_B} degrees of freedom\") # corresponds to the SS Crop*Blend in the ANOVA table"
   ],
   "outputs": [
    {
     "output_type": "stream",
     "name": "stdout",
     "text": [
      "SS for interaction SS_B = 2360.083 with 2 degrees of freedom\n"
     ]
    }
   ],
   "metadata": {}
  },
  {
   "cell_type": "code",
   "execution_count": 34,
   "source": [
    "MS_crop = SS_crop / DF_crop\r\n",
    "MS_blend= SS_blend/ DF_blend\r\n",
    "MS_W2   = SSW_2   / DF_W\r\n",
    "MS_B2   = SSB_2   / DF_B\r\n",
    "\r\n",
    "F_crop  = MS_crop / MS_W2\r\n",
    "F_blend = MS_blend/ MS_W2\r\n",
    "F_B2    = MS_B2   / MS_W2\r\n",
    "\r\n",
    "Pvalue_crop = stats.f.sf(F_crop, DF_crop, DF_W)\r\n",
    "Pvalue_blend= stats.f.sf(F_blend,DF_blend,DF_W)\r\n",
    "Pvalue_B2   = stats.f.sf(F_B2,   DF_B    ,DF_W)\r\n",
    "\r\n",
    "print(f\"*For factor Within, MS = {MS_W2:.2f}\")\r\n",
    "\r\n",
    "print(f\"*For factor Crop, P value = {Pvalue_crop:.3f} with F ratio = {F_crop:.3f}  and MS = {MS_crop:.2f}\")\r\n",
    "print(f\"*For factor Blend, P value = {Pvalue_blend:.3f} with F ratio = {F_blend:.3f} and MS = {MS_blend:.2f}\")\r\n",
    "print(f\"*For factor Crop*Blend, P value = {Pvalue_B2:.3f} with F ratio = {F_B2:.3f} and MS = {MS_B2:.2f}\")"
   ],
   "outputs": [
    {
     "output_type": "stream",
     "name": "stdout",
     "text": [
      "*For factor Within, MS = 541.85\n",
      "*For factor Crop, P value = 0.108 with F ratio = 2.525  and MS = 1368.29\n",
      "*For factor Blend, P value = 0.952 with F ratio = 0.004 and MS = 2.04\n",
      "*For factor Crop*Blend, P value = 0.142 with F ratio = 2.178 and MS = 1180.04\n"
     ]
    }
   ],
   "metadata": {}
  },
  {
   "cell_type": "markdown",
   "source": [
    "### ANCOVA\r\n",
    "\r\n",
    "Analysis of covariance (ANCOVA) is a general linear model which blends ANOVA and regression. It's a model that is equivalent to multiple linear regression when **at least one independent variable is categorical and at least one is continuous**.\r\n",
    "\r\n",
    "ANCOVA evaluates whether the means of a dependent variable (dv) are equal across levels of a categorical independent variable (between) often called a treatment, while statistically controlling for the effects of other continuous variables that are not of primary interest, known as covariates or nuisance variables (covar)."
   ],
   "metadata": {}
  },
  {
   "cell_type": "code",
   "execution_count": 35,
   "source": [
    "data_ancova = pg.read_dataset('ancova')\r\n",
    "data_ancova.head()"
   ],
   "outputs": [
    {
     "output_type": "execute_result",
     "data": {
      "text/html": [
       "<div>\n",
       "<style scoped>\n",
       "    .dataframe tbody tr th:only-of-type {\n",
       "        vertical-align: middle;\n",
       "    }\n",
       "\n",
       "    .dataframe tbody tr th {\n",
       "        vertical-align: top;\n",
       "    }\n",
       "\n",
       "    .dataframe thead th {\n",
       "        text-align: right;\n",
       "    }\n",
       "</style>\n",
       "<table border=\"1\" class=\"dataframe\">\n",
       "  <thead>\n",
       "    <tr style=\"text-align: right;\">\n",
       "      <th></th>\n",
       "      <th>Scores</th>\n",
       "      <th>Income</th>\n",
       "      <th>BMI</th>\n",
       "      <th>Method</th>\n",
       "    </tr>\n",
       "  </thead>\n",
       "  <tbody>\n",
       "    <tr>\n",
       "      <th>0</th>\n",
       "      <td>12</td>\n",
       "      <td>17.5</td>\n",
       "      <td>20</td>\n",
       "      <td>A</td>\n",
       "    </tr>\n",
       "    <tr>\n",
       "      <th>1</th>\n",
       "      <td>39</td>\n",
       "      <td>104.6</td>\n",
       "      <td>20</td>\n",
       "      <td>A</td>\n",
       "    </tr>\n",
       "    <tr>\n",
       "      <th>2</th>\n",
       "      <td>36</td>\n",
       "      <td>64.7</td>\n",
       "      <td>24</td>\n",
       "      <td>A</td>\n",
       "    </tr>\n",
       "    <tr>\n",
       "      <th>3</th>\n",
       "      <td>17</td>\n",
       "      <td>47.0</td>\n",
       "      <td>19</td>\n",
       "      <td>A</td>\n",
       "    </tr>\n",
       "    <tr>\n",
       "      <th>4</th>\n",
       "      <td>25</td>\n",
       "      <td>22.0</td>\n",
       "      <td>21</td>\n",
       "      <td>A</td>\n",
       "    </tr>\n",
       "  </tbody>\n",
       "</table>\n",
       "</div>"
      ],
      "text/plain": [
       "   Scores  Income  BMI Method\n",
       "0      12    17.5   20      A\n",
       "1      39   104.6   20      A\n",
       "2      36    64.7   24      A\n",
       "3      17    47.0   19      A\n",
       "4      25    22.0   21      A"
      ]
     },
     "metadata": {},
     "execution_count": 35
    }
   ],
   "metadata": {}
  },
  {
   "cell_type": "code",
   "execution_count": 36,
   "source": [
    "plt.figure(figsize=(10,4))\r\n",
    "plt.subplot(121)\r\n",
    "sns.lineplot(\r\n",
    "    x='Income',\r\n",
    "    y='Scores',\r\n",
    "    data=data_ancova,\r\n",
    "    hue='Method',\r\n",
    ")\r\n",
    "\r\n",
    "plt.subplot(122)\r\n",
    "sns.lineplot(\r\n",
    "    x='BMI',\r\n",
    "    y='Scores',\r\n",
    "    data=data_ancova,\r\n",
    "    hue='Method',\r\n",
    ");"
   ],
   "outputs": [
    {
     "output_type": "display_data",
     "data": {
      "image/png": "[encoded data removed]",
      "text/plain": [
       "<Figure size 720x288 with 2 Axes>"
      ]
     },
     "metadata": {
      "needs_background": "light"
     }
    }
   ],
   "metadata": {}
  },
  {
   "cell_type": "code",
   "execution_count": 71,
   "source": [
    "pg.plot_rm_corr(\r\n",
    "    data=data_ancova,\r\n",
    "    x='Income',\r\n",
    "    y='Scores',\r\n",
    "    subject='Method',\r\n",
    "    legend=True,\r\n",
    ");"
   ],
   "outputs": [
    {
     "output_type": "display_data",
     "data": {
      "image/png": "[encoded data removed]",
      "text/plain": [
       "<Figure size 333.375x288 with 1 Axes>"
      ]
     },
     "metadata": {
      "needs_background": "light"
     }
    }
   ],
   "metadata": {}
  },
  {
   "cell_type": "code",
   "execution_count": 37,
   "source": [
    "# Evaluating the scores with different method and income or BMI as a covariate\r\n",
    "pg.ancova(data=data_ancova, dv='Scores', covar=['Income', 'BMI'], between='Method')"
   ],
   "outputs": [
    {
     "output_type": "execute_result",
     "data": {
      "text/html": [
       "<div>\n",
       "<style scoped>\n",
       "    .dataframe tbody tr th:only-of-type {\n",
       "        vertical-align: middle;\n",
       "    }\n",
       "\n",
       "    .dataframe tbody tr th {\n",
       "        vertical-align: top;\n",
       "    }\n",
       "\n",
       "    .dataframe thead th {\n",
       "        text-align: right;\n",
       "    }\n",
       "</style>\n",
       "<table border=\"1\" class=\"dataframe\">\n",
       "  <thead>\n",
       "    <tr style=\"text-align: right;\">\n",
       "      <th></th>\n",
       "      <th>Source</th>\n",
       "      <th>SS</th>\n",
       "      <th>DF</th>\n",
       "      <th>F</th>\n",
       "      <th>p-unc</th>\n",
       "      <th>np2</th>\n",
       "    </tr>\n",
       "  </thead>\n",
       "  <tbody>\n",
       "    <tr>\n",
       "      <th>0</th>\n",
       "      <td>Method</td>\n",
       "      <td>552.284043</td>\n",
       "      <td>3</td>\n",
       "      <td>3.232550</td>\n",
       "      <td>0.036113</td>\n",
       "      <td>0.244288</td>\n",
       "    </tr>\n",
       "    <tr>\n",
       "      <th>1</th>\n",
       "      <td>Income</td>\n",
       "      <td>1573.952434</td>\n",
       "      <td>1</td>\n",
       "      <td>27.637304</td>\n",
       "      <td>0.000011</td>\n",
       "      <td>0.479504</td>\n",
       "    </tr>\n",
       "    <tr>\n",
       "      <th>2</th>\n",
       "      <td>BMI</td>\n",
       "      <td>60.013656</td>\n",
       "      <td>1</td>\n",
       "      <td>1.053790</td>\n",
       "      <td>0.312842</td>\n",
       "      <td>0.033934</td>\n",
       "    </tr>\n",
       "    <tr>\n",
       "      <th>3</th>\n",
       "      <td>Residual</td>\n",
       "      <td>1708.508657</td>\n",
       "      <td>30</td>\n",
       "      <td>NaN</td>\n",
       "      <td>NaN</td>\n",
       "      <td>NaN</td>\n",
       "    </tr>\n",
       "  </tbody>\n",
       "</table>\n",
       "</div>"
      ],
      "text/plain": [
       "     Source           SS  DF          F     p-unc       np2\n",
       "0    Method   552.284043   3   3.232550  0.036113  0.244288\n",
       "1    Income  1573.952434   1  27.637304  0.000011  0.479504\n",
       "2       BMI    60.013656   1   1.053790  0.312842  0.033934\n",
       "3  Residual  1708.508657  30        NaN       NaN       NaN"
      ]
     },
     "metadata": {},
     "execution_count": 37
    }
   ],
   "metadata": {}
  },
  {
   "cell_type": "markdown",
   "source": [
    "## Multiple comparison tests after ANOVA\r\n",
    "\r\n",
    "The goal is to compare every mean with every other mean. To avoid getting fooled by bogus statistically significant conclusions, the significance level is refined to apply to an entire family of comparisons, rather than to each individual comparisons. Using the new definition of statistical significance will reduce the chance of obtaining false reports of statistically significance (type I errors) but at the cost of reducing the power to detect real differences (type II errors).  "
   ],
   "metadata": {}
  },
  {
   "cell_type": "markdown",
   "source": [
    "### Tukey\r\n",
    "\r\n",
    "The results of Tukey (or more generally Tuker-Kramer test which allows for unequal sample size) include both CIs and conclusions about statistical significance."
   ],
   "metadata": {}
  },
  {
   "cell_type": "code",
   "execution_count": 39,
   "source": [
    "mult_comp = sm.stats.multicomp.MultiComparison(\r\n",
    "    data['Pain threshold'],\r\n",
    "    data['Hair color'],\r\n",
    ") # P values are computed but not displayed"
   ],
   "outputs": [],
   "metadata": {}
  },
  {
   "cell_type": "code",
   "execution_count": 40,
   "source": [
    "print(mult_comp.tukeyhsd())"
   ],
   "outputs": [
    {
     "output_type": "stream",
     "name": "stdout",
     "text": [
      "        Multiple Comparison of Means - Tukey HSD, FWER=0.05         \n",
      "====================================================================\n",
      "    group1        group2     meandiff p-adj   lower    upper  reject\n",
      "--------------------------------------------------------------------\n",
      "   Dark Blond  Dark Brunette    -13.8 0.0742 -28.6977  1.0977  False\n",
      "   Dark Blond    Light Blond      8.0 0.4369  -6.8977 22.8977  False\n",
      "   Dark Blond Light Brunette     -8.7  0.416 -24.5014  7.1014  False\n",
      "Dark Brunette    Light Blond     21.8 0.0037   6.9023 36.6977   True\n",
      "Dark Brunette Light Brunette      5.1 0.7697 -10.7014 20.9014  False\n",
      "  Light Blond Light Brunette    -16.7 0.0367 -32.5014 -0.8986   True\n",
      "--------------------------------------------------------------------\n"
     ]
    }
   ],
   "metadata": {
    "scrolled": false
   }
  },
  {
   "cell_type": "markdown",
   "source": [
    "These are multiple comparisons CIs, so the 95% confidence level applies to the entire family of comparisons, rather than to each individual interval. There is a 95% change that all three of these CIs include the true population value, leaving a 5% chance that any one or more of the intervals does not include the population value.  \r\n",
    "If a 95% CI for the difference between two means include zero (H0) then the difference is not statistically significant (P>0.05).  \r\n",
    "The 5% significance level is a **familywise significance level**, meaning that it applies to the entire set of comparisons. If the null hypothesis is true, there is a 5% chance that one or more of the comparisaons will be statistically significant. The _yes/no_ conclusions apply to each comparison individually. Said differently, there is a 95% chance that none of the comparisons will be declared statistically significant.\r\n",
    "\r\n",
    "In summary, for a family of comparisons, if all null hypotheses were true, there is a 5% chance that random sampling would lead to one or more incorrect conclusions that there is a real difference between the mean of two groups.\r\n",
    "\r\n",
    "In the previous multiple comparison table, the CI of the difference between the mean of `Dark Brunette` and `Light Blond` does not include zero, so that the difference is statistically significant.  \r\n",
    "\r\n",
    "It really doesn't make sense to think about whether one particular comparison is statistically significant (accounting for the rest). Instead, think that the method divides the family of comparisons into two piles, those that are deemed to be statistically significant and those that are not. **Think about the set of differences deemed to be statistically significant, not about individual comparisons.**"
   ],
   "metadata": {}
  },
  {
   "cell_type": "code",
   "execution_count": 42,
   "source": [
    "mult_comp_2 = sm.stats.multicomp.pairwise_tukeyhsd(\r\n",
    "    data['Pain threshold'],\r\n",
    "    data['Hair color'],\r\n",
    ")\r\n",
    "# Tukey's Honestly Significant Difference\r\n",
    "mult_comp_2.summary()"
   ],
   "outputs": [
    {
     "output_type": "execute_result",
     "data": {
      "text/html": [
       "<table class=\"simpletable\">\n",
       "<caption>Multiple Comparison of Means - Tukey HSD, FWER=0.05</caption>\n",
       "<tr>\n",
       "     <th>group1</th>         <th>group2</th>     <th>meandiff</th>  <th>p-adj</th>   <th>lower</th>   <th>upper</th>  <th>reject</th>\n",
       "</tr>\n",
       "<tr>\n",
       "   <td>Dark Blond</td>    <td>Dark Brunette</td>   <td>-13.8</td>  <td>0.0742</td> <td>-28.6977</td> <td>1.0977</td>   <td>False</td>\n",
       "</tr>\n",
       "<tr>\n",
       "   <td>Dark Blond</td>     <td>Light Blond</td>     <td>8.0</td>   <td>0.4369</td>  <td>-6.8977</td> <td>22.8977</td>  <td>False</td>\n",
       "</tr>\n",
       "<tr>\n",
       "   <td>Dark Blond</td>   <td>Light Brunette</td>   <td>-8.7</td>    <td>0.416</td> <td>-24.5014</td> <td>7.1014</td>   <td>False</td>\n",
       "</tr>\n",
       "<tr>\n",
       "  <td>Dark Brunette</td>   <td>Light Blond</td>    <td>21.8</td>   <td>0.0037</td>  <td>6.9023</td>  <td>36.6977</td>  <td>True</td> \n",
       "</tr>\n",
       "<tr>\n",
       "  <td>Dark Brunette</td> <td>Light Brunette</td>    <td>5.1</td>   <td>0.7697</td> <td>-10.7014</td> <td>20.9014</td>  <td>False</td>\n",
       "</tr>\n",
       "<tr>\n",
       "   <td>Light Blond</td>  <td>Light Brunette</td>   <td>-16.7</td>  <td>0.0367</td> <td>-32.5014</td> <td>-0.8986</td>  <td>True</td> \n",
       "</tr>\n",
       "</table>"
      ],
      "text/plain": [
       "<class 'statsmodels.iolib.table.SimpleTable'>"
      ]
     },
     "metadata": {},
     "execution_count": 42
    }
   ],
   "metadata": {
    "scrolled": true
   }
  },
  {
   "cell_type": "code",
   "execution_count": 74,
   "source": [
    "mult_comp_2.confint"
   ],
   "outputs": [
    {
     "output_type": "execute_result",
     "data": {
      "text/plain": [
       "array([[-28.69769066,   1.09769066],\n",
       "       [ -6.89769066,  22.89769066],\n",
       "       [-24.50138713,   7.10138713],\n",
       "       [  6.90230934,  36.69769066],\n",
       "       [-10.70138713,  20.90138713],\n",
       "       [-32.50138713,  -0.89861287]])"
      ]
     },
     "metadata": {},
     "execution_count": 74
    }
   ],
   "metadata": {}
  },
  {
   "cell_type": "code",
   "execution_count": 73,
   "source": [
    "np.diff(mult_comp_2.confint) # same CI for all three comparisons (see end of this part)"
   ],
   "outputs": [
    {
     "output_type": "execute_result",
     "data": {
      "text/plain": [
       "array([[29.79538132],\n",
       "       [29.79538132],\n",
       "       [31.60277427],\n",
       "       [29.79538132],\n",
       "       [31.60277427],\n",
       "       [31.60277427]])"
      ]
     },
     "metadata": {},
     "execution_count": 73
    }
   ],
   "metadata": {}
  },
  {
   "cell_type": "markdown",
   "source": [
    "When computing most multiple comparisons tests, the SD for difference between 2 means is not computed from the SDs of those two groups but rather from the pooled SD of all the groups. Given the assumptions of the analysis, there is a 95% chance that all of these CIs include the true population value, leaving a 5% chance that _any one or more_ of the intervals does not include the population value.  \r\n",
    "\r\n",
    "The margin of error of the CI is computed by multiplying the SE of the difference by a critical value that depends on the choice of test, the number of df, the degree of confidence desired and the number of comparisons:\r\n",
    "$$\r\n",
    "\\bar{y_i} - \\bar{y_j} \\pm t_{1-\\alpha/2}\\sqrt{\\frac{SSE}{n-k}\\left(\\frac{1}{n_i}+\\frac{1}{n_j}\\right)}\r\n",
    "$$\r\n",
    "\r\n",
    "with $$ t = \\frac{\\bar{x_i} - \\bar{x_j}}{\\sqrt{2 . \\mathrm{MS_w} / n}} $$\r\n",
    "\r\n",
    "and $\\mathrm{MSE} = \\frac{\\mathrm{SSE}}{n-k} = s_p^2$ (pooled variance)"
   ],
   "metadata": {}
  },
  {
   "cell_type": "code",
   "execution_count": 70,
   "source": [
    "_ = mult_comp_2.plot_simultaneous(\r\n",
    "    comparison_name='Dark Brunette',\r\n",
    "    xlabel='Pain threshold',\r\n",
    "    ylabel='Hair color',\r\n",
    ")"
   ],
   "outputs": [
    {
     "output_type": "stream",
     "name": "stderr",
     "text": [
      "C:\\Users\\Sébastien\\AppData\\Local\\Programs\\Python\\Python39\\lib\\site-packages\\statsmodels\\sandbox\\stats\\multicomp.py:775: UserWarning: FixedFormatter should only be used together with FixedLocator\n",
      "  ax1.set_yticklabels(np.insert(self.groupsunique.astype(str), 0, ''))\n"
     ]
    },
    {
     "output_type": "display_data",
     "data": {
      "image/png": "[encoded data removed]",
      "text/plain": [
       "<Figure size 720x432 with 1 Axes>"
      ]
     },
     "metadata": {
      "needs_background": "light"
     }
    }
   ],
   "metadata": {
    "scrolled": true
   }
  },
  {
   "cell_type": "markdown",
   "source": [
    "## Dunnett's test\n",
    "Compares the mean of each group to the mean of a control group without comparing the other groups among themselves. The test makes fewer comparisons than Tukey's method, so it generates narrower CIs and has more power to detect differences."
   ],
   "metadata": {}
  },
  {
   "cell_type": "markdown",
   "source": [
    "## Bonferroni's test\n",
    "Bonferroni's multiple comparisons test should be used when the experiment design requires comparing only selected pairs of means (different from Tukey -> all vs. all, and Dunnett -> all vs. control)."
   ],
   "metadata": {}
  },
  {
   "cell_type": "markdown",
   "source": [
    "results = mult_comp.allpairtest(stats.ttest_ind, method='bonf')\n",
    "results[0]"
   ],
   "metadata": {}
  },
  {
   "cell_type": "code",
   "execution_count": 45,
   "source": [
    "p_val_adj = .05 / 3\r\n",
    "p_val_adj"
   ],
   "outputs": [
    {
     "output_type": "execute_result",
     "data": {
      "text/plain": [
       "0.016666666666666666"
      ]
     },
     "metadata": {},
     "execution_count": 45
    }
   ],
   "metadata": {}
  },
  {
   "cell_type": "code",
   "execution_count": null,
   "source": [
    "res = stats.ttest_ind(data[data['group'] == 'ctrl']['weight'],\r\n",
    "                     data[data['group'] == 'trt1']['weight'])\r\n",
    "res"
   ],
   "outputs": [],
   "metadata": {}
  },
  {
   "cell_type": "code",
   "execution_count": null,
   "source": [
    "res.pvalue <= p_val_adj"
   ],
   "outputs": [],
   "metadata": {}
  },
  {
   "cell_type": "markdown",
   "source": [
    "The individual t-tests that are conducted have to have a p-value less than 0.01667 in order to be considered significant."
   ],
   "metadata": {}
  },
  {
   "cell_type": "code",
   "execution_count": null,
   "source": [
    "from statsmodels.sandbox.stats.multicomp import multipletests"
   ],
   "outputs": [],
   "metadata": {
    "scrolled": true
   }
  },
  {
   "cell_type": "code",
   "execution_count": null,
   "source": [
    "multipletests([.05, 0.3, 0.01], alpha=.05, method='bonferroni')"
   ],
   "outputs": [],
   "metadata": {}
  },
  {
   "cell_type": "markdown",
   "source": [
    "### allpairtest"
   ],
   "metadata": {}
  },
  {
   "cell_type": "code",
   "execution_count": 46,
   "source": [
    "mult_comp.allpairtest(stats.ttest_ind, method='bonf')[0]"
   ],
   "outputs": [
    {
     "output_type": "execute_result",
     "data": {
      "text/html": [
       "<table class=\"simpletable\">\n",
       "<caption>Test Multiple Comparison ttest_ind \n",
       "FWER=0.05 method=bonf\n",
       "alphacSidak=0.01, alphacBonf=0.008</caption>\n",
       "<tr>\n",
       "     <th>group1</th>         <th>group2</th>      <th>stat</th>    <th>pval</th>  <th>pval_corr</th> <th>reject</th>\n",
       "</tr>\n",
       "<tr>\n",
       "   <td>Dark Blond</td>    <td>Dark Brunette</td> <td>2.4746</td>  <td>0.0384</td>  <td>0.2306</td>    <td>False</td>\n",
       "</tr>\n",
       "<tr>\n",
       "   <td>Dark Blond</td>     <td>Light Blond</td>  <td>-1.4191</td> <td>0.1936</td>    <td>1.0</td>     <td>False</td>\n",
       "</tr>\n",
       "<tr>\n",
       "   <td>Dark Blond</td>   <td>Light Brunette</td> <td>1.6475</td>  <td>0.1435</td>  <td>0.8607</td>    <td>False</td>\n",
       "</tr>\n",
       "<tr>\n",
       "  <td>Dark Brunette</td>   <td>Light Blond</td>  <td>-4.0907</td> <td>0.0035</td>  <td>0.0209</td>    <td>True</td> \n",
       "</tr>\n",
       "<tr>\n",
       "  <td>Dark Brunette</td> <td>Light Brunette</td> <td>-1.0511</td> <td>0.3281</td>    <td>1.0</td>     <td>False</td>\n",
       "</tr>\n",
       "<tr>\n",
       "   <td>Light Blond</td>  <td>Light Brunette</td> <td>3.3797</td>  <td>0.0118</td>  <td>0.0706</td>    <td>False</td>\n",
       "</tr>\n",
       "</table>"
      ],
      "text/plain": [
       "<class 'statsmodels.iolib.table.SimpleTable'>"
      ]
     },
     "metadata": {},
     "execution_count": 46
    }
   ],
   "metadata": {}
  },
  {
   "cell_type": "markdown",
   "source": [
    "The pairwise.ttest for independent samples in R, as well as the Tukey HSD test in both R and statsmoldels, use the **joint variance across all samples**, while the pairwise ttest calculates the joint variance estimate for each pair of sample separately. _stats.ttest_ind_ just looks at one pair at a time:  "
   ],
   "metadata": {}
  },
  {
   "cell_type": "markdown",
   "source": [
    "```Rscipt\r\n",
    "pairwise.t.test(data$weight, data$group, p.adj = \"bonferroni\")\r\n",
    "\r\n",
    "data:  data$weight and data$group \r\n",
    "\r\n",
    "     ctrl  trt1 \r\n",
    "trt1 0.583 -    \r\n",
    "trt2 0.263 0.013\r\n",
    "\r\n",
    "P value adjustment method: bonferroni\r\n",
    "```"
   ],
   "metadata": {}
  },
  {
   "cell_type": "code",
   "execution_count": 54,
   "source": [
    "# pip install scikit-posthocs\r\n",
    "import scikit_posthocs as sp\r\n",
    "print(\r\n",
    "    sp.posthoc_ttest(\r\n",
    "        data,\r\n",
    "        val_col='Pain threshold',\r\n",
    "        group_col='Hair color',\r\n",
    "        pool_sd=True,\r\n",
    "        p_adjust='b'\r\n",
    "    )\r\n",
    ")"
   ],
   "outputs": [
    {
     "output_type": "stream",
     "name": "stdout",
     "text": [
      "                Light Blond  Dark Blond  Light Brunette  Dark Brunette\n",
      "Light Blond        1.000000    0.104878        0.855039       0.800231\n",
      "Dark Blond         0.104878    1.000000        0.004474       1.000000\n",
      "Light Brunette     0.855039    0.004474        1.000000       0.048994\n",
      "Dark Brunette      0.800231    1.000000        0.048994       1.000000\n"
     ]
    }
   ],
   "metadata": {}
  },
  {
   "cell_type": "code",
   "execution_count": 61,
   "source": [
    "pc = sp.posthoc_conover(\r\n",
    "    data,\r\n",
    "    val_col='Pain threshold',\r\n",
    "    group_col='Hair color',\r\n",
    ")\r\n",
    "\r\n",
    "# significance plots\r\n",
    "heatmap_args = {\r\n",
    "    'linewidths': 0.25,\r\n",
    "    'linecolor': '0.5',\r\n",
    "    'clip_on': False,\r\n",
    "    'square': True,\r\n",
    "    'cbar_ax_bbox': [0.80, 0.35, 0.04, 0.3]\r\n",
    "}\r\n",
    "\r\n",
    "sp.sign_plot(pc, **heatmap_args)"
   ],
   "outputs": [
    {
     "output_type": "execute_result",
     "data": {
      "text/plain": [
       "(<AxesSubplot:>, <matplotlib.colorbar.ColorbarBase at 0x1bc9f82f580>)"
      ]
     },
     "metadata": {},
     "execution_count": 61
    },
    {
     "output_type": "display_data",
     "data": {
      "image/png": "[encoded data removed]",
      "text/plain": [
       "<Figure size 432x288 with 2 Axes>"
      ]
     },
     "metadata": {
      "needs_background": "light"
     }
    }
   ],
   "metadata": {}
  },
  {
   "cell_type": "markdown",
   "source": [],
   "metadata": {}
  },
  {
   "cell_type": "markdown",
   "source": [
    "## Holm adjustment\n",
    "The Holm adjustment sequentially compares the lowest p-value with a Type I error rate that is reduced for each consecutive test. In our case, this means that our first p-value is tested at the .05/3 level (.017), second at the .05/2 level (.025), and third at the .05/1 level (.05). This method is generally considered superior to the Bonferroni adjustment."
   ],
   "metadata": {}
  },
  {
   "cell_type": "code",
   "execution_count": 57,
   "source": [
    "mult_comp.allpairtest(stats.ttest_ind, method='h')[0]"
   ],
   "outputs": [
    {
     "output_type": "execute_result",
     "data": {
      "text/html": [
       "<table class=\"simpletable\">\n",
       "<caption>Test Multiple Comparison ttest_ind \n",
       "FWER=0.05 method=h\n",
       "alphacSidak=0.01, alphacBonf=0.008</caption>\n",
       "<tr>\n",
       "     <th>group1</th>         <th>group2</th>      <th>stat</th>    <th>pval</th>  <th>pval_corr</th> <th>reject</th>\n",
       "</tr>\n",
       "<tr>\n",
       "   <td>Dark Blond</td>    <td>Dark Brunette</td> <td>2.4746</td>  <td>0.0384</td>  <td>0.1537</td>    <td>False</td>\n",
       "</tr>\n",
       "<tr>\n",
       "   <td>Dark Blond</td>     <td>Light Blond</td>  <td>-1.4191</td> <td>0.1936</td>  <td>0.4304</td>    <td>False</td>\n",
       "</tr>\n",
       "<tr>\n",
       "   <td>Dark Blond</td>   <td>Light Brunette</td> <td>1.6475</td>  <td>0.1435</td>  <td>0.4304</td>    <td>False</td>\n",
       "</tr>\n",
       "<tr>\n",
       "  <td>Dark Brunette</td>   <td>Light Blond</td>  <td>-4.0907</td> <td>0.0035</td>  <td>0.0209</td>    <td>True</td> \n",
       "</tr>\n",
       "<tr>\n",
       "  <td>Dark Brunette</td> <td>Light Brunette</td> <td>-1.0511</td> <td>0.3281</td>  <td>0.4304</td>    <td>False</td>\n",
       "</tr>\n",
       "<tr>\n",
       "   <td>Light Blond</td>  <td>Light Brunette</td> <td>3.3797</td>  <td>0.0118</td>  <td>0.0588</td>    <td>False</td>\n",
       "</tr>\n",
       "</table>"
      ],
      "text/plain": [
       "<class 'statsmodels.iolib.table.SimpleTable'>"
      ]
     },
     "metadata": {},
     "execution_count": 57
    }
   ],
   "metadata": {}
  },
  {
   "cell_type": "markdown",
   "source": [
    "### Post-hoc analysis with R\r\n",
    "\r\n",
    "A pipeline for post-hoc analysis upon ANOVA in R can be the following:\r\n",
    "\r\n",
    "```R\r\n",
    "# Post-hoc analysis\r\n",
    "library(\"lsmeans\") # needed for ANOVA analysis and post-hoc tests\r\n",
    "\r\n",
    "pairwise.t.test(data$weight, data$group, p.adj = \"none\") # using pooled SD\r\n",
    "pairwise.t.test(data$weight, data$group, p.adj = \"none\", pool.sd = FALSE) # no adjustment\r\n",
    "pairwise.t.test(data$weight, data$group, p.adj = \"bonferroni\")\r\n",
    "pairwise.t.test(data$weight, data$group, p.adj = \"holm\")\r\n",
    "\r\n",
    "summary(glht(fit, linfct=mcp(group=\"Dunnett\")))\r\n",
    "\r\n",
    "lsmeans(fit, pairwise ~ group) # results of Tukey's test with P values\r\n",
    "# see also TukeyHSD()\r\n",
    "```"
   ],
   "metadata": {}
  },
  {
   "cell_type": "markdown",
   "source": [],
   "metadata": {}
  }
 ],
 "metadata": {
  "interpreter": {
   "hash": "b51595f36012c8da2bf2284ebbd8d377d5c2d31fa7484164f2d2bcda7a09b462"
  },
  "kernelspec": {
   "name": "python3",
   "display_name": "Python 3.9.7 64-bit (system)"
  },
  "language_info": {
   "codemirror_mode": {
    "name": "ipython",
    "version": 3
   },
   "file_extension": ".py",
   "mimetype": "text/x-python",
   "name": "python",
   "nbconvert_exporter": "python",
   "pygments_lexer": "ipython3",
   "version": "3.9.7"
  }
 },
 "nbformat": 4,
 "nbformat_minor": 2
}