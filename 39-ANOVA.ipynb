{
 "cells": [
  {
   "cell_type": "markdown",
   "metadata": {},
   "source": [
    "# ANOVA\n",
    "\n",
    "## Introduction\n",
    "\n",
    "One-way ANOVA compares the means of three or more groups, assuming that all values are sampled from Gaussian populations. It is called one-way ANOVA, because the groups are categorized by one scheme (e.g. treatment). Two-way ANOVA is used when the data are categorized by two schemes (e.g. treatment and gender).\n",
    "\n",
    "![flowchart for selecting the right ANOVA function](https://pingouin-stats.org/_images/flowchart_one_way_ANOVA.svg)\n",
    "\n",
    "The main problem with computing several t tests is multiple comparisons. As you include more groups in the study, you increase the chance of obtaining one or more P values less than 0.05 just by chance. If the null hypothesis were true, there would be a 5% chance that each particular t test would yield a P value less than 0.05, but with three comparisons, the chance that any one (or more) of the values would be less than 0.05 would be far higher that 5%\n",
    "\n",
    "One-way ANOVA can be seen as a regression model with a **single categorical predictor**. This predictor usually has **2+ categories**. In fact ANOVA compares the fit of several models to the data, and this can be done with regression techniques. The answers will be fundamentally identical, but they will look very different.\n",
    "\n",
    "Comparing three or more means with one-way ANOVA can be viewed as comparing the fit of the data to two different models:\n",
    "\n",
    "- null hypothesis; all populations share the same mean, and nothing but random sampling causes any differences between sample means\n",
    "- alternative hypothesis; all populations do not share the same means, at least one population has a mean different than the rest.\n",
    "\n",
    "### Interpreting a P value\n",
    "\n",
    "One-way ANOVA compares all the groups at once. The null hypothesis is that all groups were sampled from populations with identical means, i.e. there is no difference between means: $ \\overline{x_1} = \\overline{x_2} = ... = \\overline{x_i}$.\n",
    "\n",
    "The P value answers the question\n",
    ">if the null hypothesis were true, what is the chance of randomly picking samples with mean values as different (or more different) than those observed in the study?\n",
    "\n",
    "With a P value of 0.004, there is only 0.4% chance that the different means would be as far apart as actually observed or even further apart.\n",
    "\n",
    "### How it works\n",
    "\n",
    "The classic ANOVA is very powerful when the groups are **normally distributed** and have **equal variances** (homoscedasticity). It does not require all the samples to have the same number of values, though the two assumptions (Gaussian population and equal variance) matter much more when the sample size varies a lot between groups. When the groups have unequal variances, it is best to use the _Welch ANOVA_ that better controls for type I error.\n",
    "\n",
    "The main idea of ANOVA is to partition the variance (sums of squares) into several components. For example, in one-way ANOVA:\n",
    "\n",
    "$$ \\text{SS}_\\text{total} = \\text{SS}_\\text{effect} + \\text{SS}_\\text{error} $$\n",
    "$$ \\text{SS}_\\text{total} = \\sum_i \\sum_j (Y_{ij} - \\overline{Y})^2 $$\n",
    "$$ \\text{SS}_\\text{effect} = \\sum_i n_i (\\overline{Y_i} - \\overline{Y})^2 $$\n",
    "$$ \\text{SS}_\\text{error} = \\sum_i \\sum_j (Y_{ij} - \\overline{Y}_i)^2 $$\n",
    "\n",
    "where:\n",
    "\n",
    "- $ i=1,...,r $\n",
    "- $ j=1,...,n_i $\n",
    "- $ r $ the number of groups\n",
    "- $ n_i $ the number of observations for the $ i $ th group\n",
    "- $ N $ the total number of observations (in all groups)\n",
    "\n",
    "The **total variability** among all the values, ignoring which value came from which group, by **summing the squares of the difference of each value from the grand mean**. Some of the variation comes from **differences among the group means** because the group means are not all the same. **Sum the squares of each group mean from the grand mean and weight by sample size** to get the sum of squares resulting from treatment. The rest of the variation comes from **variability within each group**, quantified by **summing the squares of the differences of each value from its group mean**. This is also called the residual sum of squares or the error sum of squares.\n",
    "\n",
    "The F-statistics is then defined as:\n",
    "$$ F^* = \\frac{S_\\text{effect}^2}{S_\\text{error}^2} = \\frac{\\text{MS}_{\\text{effect}}}{\\text{MS}_{\\text{error}}} = \\frac{\\text{SS}_{\\text{effect}} / (r - 1)}{\\text{SS}_{\\text{error}} / (N - r)} $$\n",
    "\n",
    "and the P-value can be calculated using a F-distribution with $ r - 1, N - r $ degrees of freedom.\n",
    "\n",
    "The default effect size reported is the *partial eta-square*, which, **for one-way ANOVA is the same as eta-square and generalized eta-square**:\n",
    "$$ \\eta_p^2 = \\frac{\\text{SS}_{\\text{effect}}}{\\text{SS}_{\\text{effect}} + \\text{SS}_{\\text{error}}} $$\n",
    "$$ \\eta^2 = \\frac{\\text{SS}_{\\text{effect}}}{\\text{SS}_{\\text{total}}} $$\n",
    "\n",
    "It is interpreted in the same way as $R^2$. For example, an $\\eta^2$ of 0.053, only 5.3% of the total variability is the result of differences within the groups.\n",
    "\n",
    "Of note, the concept of one- and two-tailed P values does not apply in ANOVA. Because the means of the groups can be in many different orders, the P values has many tails."
   ]
  },
  {
   "cell_type": "markdown",
   "metadata": {},
   "source": [
    "## Partitioning the sum of squares"
   ]
  },
  {
   "cell_type": "code",
   "execution_count": 2,
   "metadata": {},
   "outputs": [],
   "source": [
    "import numpy as np\n",
    "import pandas as pd\n",
    "\n",
    "from scipy import stats\n",
    "import pingouin as pg\n",
    "\n",
    "import matplotlib.pyplot as plt\n",
    "import seaborn as sns"
   ]
  },
  {
   "cell_type": "markdown",
   "metadata": {},
   "source": [
    "This is the analysis of the variance: _comparing the ratio of systematic variance to unsystematic variance_ using sum of squares (SS), between the groups **SSB** (i.e. effect or $\\text{SS}_\\text{effect}$) and the variance within the group **SSW** (i.e. error, residual or $\\text{SS}_\\text{error}$), with $ \\text{SSW} + \\text{SSB} = \\text{SST} $.\n",
    "\n",
    "When F increase, then the variance between the group (SSB) is bigger than within the group (SSW).\n",
    "\n",
    "The group means are represented as deviations from the grand mean by grouping their coefficients under a single term $ y_{ij} = \\mu_{grand} + \\tau_j + \\epsilon_{ij} $"
   ]
  },
  {
   "cell_type": "markdown",
   "metadata": {},
   "source": [
    "One example of one-way ANOVA comparing 3 groups:  \n",
    "\n",
    "| Hypothesis  | Scatter from | SS    | Variation | $\\eta^2$ |\n",
    "| ----------- | ------------ | -----:| ---------:| -------- |\n",
    "| Null        | Grand mean   | 17.38 |  100.0%   |          |\n",
    "| Alternative | Group mean   | 16.45 |   94.7%   |          |\n",
    "| Difference  |              |  0.93 |    5.3%   |  0.053   |\n",
    "\n",
    "Of all the variation, 94.7% is the result of variation within the groups, leaving 5.3% of the total variation as the result of differences between the group means. *The sum of squares resulting from the treatment and the sum of squares within the groups always add up to the total sum of squares.*\n",
    "\n",
    "| Source variation | SS    | DF  | MS    | F ratio | P value |\n",
    "| ----------------:| -----:| ---:| ----- | ------  | ------- |\n",
    "|   Between groups |  0.93 | 2   | 0.460 |  5.69   |  0.004  |\n",
    "| + Within groups  | 16.45 | 202 | 0.081 |         |         |\n",
    "| =          Total | 17.38 | 204 |       |         |         |"
   ]
  },
  {
   "cell_type": "markdown",
   "metadata": {},
   "source": [
    "For the total, there are 205 values and only one parameter (grand mean) estimated, so $ \\text{DF} = 204$. For the SSW, 3 groups/parameters were fit (the mean of each group), so $ \\text{DF} = 205 - 3 = 202 $. If the null hypothesis were true, F would be likely to have a value close to 1."
   ]
  },
  {
   "cell_type": "code",
   "execution_count": 3,
   "metadata": {},
   "outputs": [
    {
     "name": "stdout",
     "output_type": "stream",
     "text": [
      "P values computed from the F ratio distribution: 0.0040\n"
     ]
    }
   ],
   "source": [
    "dfn, dfd = 2, 202 # DF at numerator is for 'within', at the denominator for 'within'\n",
    "F = .460 / .081\n",
    "\n",
    "print(f\"P values computed from the F ratio distribution: {1 - stats.f(dfn, dfd).cdf(F):.4f}\")"
   ]
  },
  {
   "cell_type": "markdown",
   "metadata": {},
   "source": [
    "The low P value means that the differences among group means would be very unlikely if in fact all the population means were equal.  \n",
    "The low R² means that the differences among group means are only a tiny fraction of the overall variability."
   ]
  },
  {
   "cell_type": "markdown",
   "metadata": {},
   "source": [
    "## Practical example of one-way ANOVA"
   ]
  },
  {
   "cell_type": "code",
   "execution_count": 4,
   "metadata": {},
   "outputs": [
    {
     "data": {
      "text/html": [
       "<div>\n",
       "<style scoped>\n",
       "    .dataframe tbody tr th:only-of-type {\n",
       "        vertical-align: middle;\n",
       "    }\n",
       "\n",
       "    .dataframe tbody tr th {\n",
       "        vertical-align: top;\n",
       "    }\n",
       "\n",
       "    .dataframe thead th {\n",
       "        text-align: right;\n",
       "    }\n",
       "</style>\n",
       "<table border=\"1\" class=\"dataframe\">\n",
       "  <thead>\n",
       "    <tr style=\"text-align: right;\">\n",
       "      <th></th>\n",
       "      <th>Subject</th>\n",
       "      <th>Hair color</th>\n",
       "      <th>Pain threshold</th>\n",
       "    </tr>\n",
       "  </thead>\n",
       "  <tbody>\n",
       "    <tr>\n",
       "      <th>0</th>\n",
       "      <td>1</td>\n",
       "      <td>Light Blond</td>\n",
       "      <td>62</td>\n",
       "    </tr>\n",
       "    <tr>\n",
       "      <th>1</th>\n",
       "      <td>2</td>\n",
       "      <td>Light Blond</td>\n",
       "      <td>60</td>\n",
       "    </tr>\n",
       "    <tr>\n",
       "      <th>2</th>\n",
       "      <td>3</td>\n",
       "      <td>Light Blond</td>\n",
       "      <td>71</td>\n",
       "    </tr>\n",
       "    <tr>\n",
       "      <th>3</th>\n",
       "      <td>4</td>\n",
       "      <td>Light Blond</td>\n",
       "      <td>55</td>\n",
       "    </tr>\n",
       "    <tr>\n",
       "      <th>4</th>\n",
       "      <td>5</td>\n",
       "      <td>Light Blond</td>\n",
       "      <td>48</td>\n",
       "    </tr>\n",
       "  </tbody>\n",
       "</table>\n",
       "</div>"
      ],
      "text/plain": [
       "   Subject   Hair color  Pain threshold\n",
       "0        1  Light Blond              62\n",
       "1        2  Light Blond              60\n",
       "2        3  Light Blond              71\n",
       "3        4  Light Blond              55\n",
       "4        5  Light Blond              48"
      ]
     },
     "execution_count": 4,
     "metadata": {},
     "output_type": "execute_result"
    }
   ],
   "source": [
    "# 0. Load an example dataset comparing pain threshold as a function of hair color\n",
    "data = pg.read_dataset('anova')\n",
    "data.head()"
   ]
  },
  {
   "cell_type": "code",
   "execution_count": 5,
   "metadata": {},
   "outputs": [
    {
     "data": {
      "image/png": "[encoded data removed]",
      "text/plain": [
       "<Figure size 432x288 with 1 Axes>"
      ]
     },
     "metadata": {
      "needs_background": "light"
     },
     "output_type": "display_data"
    }
   ],
   "source": [
    "sns.boxplot(x='Hair color', y='Pain threshold', data=data)\n",
    "sns.stripplot(x='Hair color', y='Pain threshold', data=data, color='black', size=10);"
   ]
  },
  {
   "cell_type": "markdown",
   "metadata": {},
   "source": [
    "### Using pingouin"
   ]
  },
  {
   "cell_type": "code",
   "execution_count": 6,
   "metadata": {},
   "outputs": [
    {
     "data": {
      "text/html": [
       "<div>\n",
       "<style scoped>\n",
       "    .dataframe tbody tr th:only-of-type {\n",
       "        vertical-align: middle;\n",
       "    }\n",
       "\n",
       "    .dataframe tbody tr th {\n",
       "        vertical-align: top;\n",
       "    }\n",
       "\n",
       "    .dataframe thead th {\n",
       "        text-align: right;\n",
       "    }\n",
       "</style>\n",
       "<table border=\"1\" class=\"dataframe\">\n",
       "  <thead>\n",
       "    <tr style=\"text-align: right;\">\n",
       "      <th></th>\n",
       "      <th>W</th>\n",
       "      <th>pval</th>\n",
       "      <th>normal</th>\n",
       "    </tr>\n",
       "  </thead>\n",
       "  <tbody>\n",
       "    <tr>\n",
       "      <th>Light Blond</th>\n",
       "      <td>0.991032</td>\n",
       "      <td>0.983182</td>\n",
       "      <td>True</td>\n",
       "    </tr>\n",
       "    <tr>\n",
       "      <th>Dark Blond</th>\n",
       "      <td>0.939790</td>\n",
       "      <td>0.664456</td>\n",
       "      <td>True</td>\n",
       "    </tr>\n",
       "    <tr>\n",
       "      <th>Light Brunette</th>\n",
       "      <td>0.930607</td>\n",
       "      <td>0.597973</td>\n",
       "      <td>True</td>\n",
       "    </tr>\n",
       "    <tr>\n",
       "      <th>Dark Brunette</th>\n",
       "      <td>0.883214</td>\n",
       "      <td>0.324129</td>\n",
       "      <td>True</td>\n",
       "    </tr>\n",
       "  </tbody>\n",
       "</table>\n",
       "</div>"
      ],
      "text/plain": [
       "                       W      pval  normal\n",
       "Light Blond     0.991032  0.983182    True\n",
       "Dark Blond      0.939790  0.664456    True\n",
       "Light Brunette  0.930607  0.597973    True\n",
       "Dark Brunette   0.883214  0.324129    True"
      ]
     },
     "execution_count": 6,
     "metadata": {},
     "output_type": "execute_result"
    }
   ],
   "source": [
    "# 1. This is a between subject design, so the first step is to test for equality of variances\n",
    "pg.normality(data=data, dv='Pain threshold', group='Hair color')"
   ]
  },
  {
   "cell_type": "code",
   "execution_count": 7,
   "metadata": {},
   "outputs": [
    {
     "data": {
      "text/html": [
       "<div>\n",
       "<style scoped>\n",
       "    .dataframe tbody tr th:only-of-type {\n",
       "        vertical-align: middle;\n",
       "    }\n",
       "\n",
       "    .dataframe tbody tr th {\n",
       "        vertical-align: top;\n",
       "    }\n",
       "\n",
       "    .dataframe thead th {\n",
       "        text-align: right;\n",
       "    }\n",
       "</style>\n",
       "<table border=\"1\" class=\"dataframe\">\n",
       "  <thead>\n",
       "    <tr style=\"text-align: right;\">\n",
       "      <th></th>\n",
       "      <th>W</th>\n",
       "      <th>pval</th>\n",
       "      <th>equal_var</th>\n",
       "    </tr>\n",
       "  </thead>\n",
       "  <tbody>\n",
       "    <tr>\n",
       "      <th>levene</th>\n",
       "      <td>0.392743</td>\n",
       "      <td>0.760016</td>\n",
       "      <td>True</td>\n",
       "    </tr>\n",
       "  </tbody>\n",
       "</table>\n",
       "</div>"
      ],
      "text/plain": [
       "               W      pval  equal_var\n",
       "levene  0.392743  0.760016       True"
      ]
     },
     "execution_count": 7,
     "metadata": {},
     "output_type": "execute_result"
    }
   ],
   "source": [
    "# 3. Next step is to test for equality of variances\n",
    "pg.homoscedasticity(data=data, dv='Pain threshold', group='Hair color')"
   ]
  },
  {
   "cell_type": "code",
   "execution_count": 8,
   "metadata": {},
   "outputs": [
    {
     "data": {
      "text/html": [
       "<div>\n",
       "<style scoped>\n",
       "    .dataframe tbody tr th:only-of-type {\n",
       "        vertical-align: middle;\n",
       "    }\n",
       "\n",
       "    .dataframe tbody tr th {\n",
       "        vertical-align: top;\n",
       "    }\n",
       "\n",
       "    .dataframe thead th {\n",
       "        text-align: right;\n",
       "    }\n",
       "</style>\n",
       "<table border=\"1\" class=\"dataframe\">\n",
       "  <thead>\n",
       "    <tr style=\"text-align: right;\">\n",
       "      <th></th>\n",
       "      <th>Source</th>\n",
       "      <th>SS</th>\n",
       "      <th>DF</th>\n",
       "      <th>MS</th>\n",
       "      <th>F</th>\n",
       "      <th>p-unc</th>\n",
       "      <th>np2</th>\n",
       "    </tr>\n",
       "  </thead>\n",
       "  <tbody>\n",
       "    <tr>\n",
       "      <th>0</th>\n",
       "      <td>Hair color</td>\n",
       "      <td>1360.726</td>\n",
       "      <td>3</td>\n",
       "      <td>453.575</td>\n",
       "      <td>6.791</td>\n",
       "      <td>0.004</td>\n",
       "      <td>0.576</td>\n",
       "    </tr>\n",
       "    <tr>\n",
       "      <th>1</th>\n",
       "      <td>Within</td>\n",
       "      <td>1001.800</td>\n",
       "      <td>15</td>\n",
       "      <td>66.787</td>\n",
       "      <td>NaN</td>\n",
       "      <td>NaN</td>\n",
       "      <td>NaN</td>\n",
       "    </tr>\n",
       "  </tbody>\n",
       "</table>\n",
       "</div>"
      ],
      "text/plain": [
       "       Source        SS  DF       MS      F  p-unc    np2\n",
       "0  Hair color  1360.726   3  453.575  6.791  0.004  0.576\n",
       "1      Within  1001.800  15   66.787    NaN    NaN    NaN"
      ]
     },
     "execution_count": 8,
     "metadata": {},
     "output_type": "execute_result"
    }
   ],
   "source": [
    "# 3. If the groups have equal variances, we can use a regular one-way ANOVA\n",
    "aov = pg.anova(\n",
    "    data=data,\n",
    "    dv='Pain threshold',\n",
    "    between='Hair color',\n",
    "    detailed=True\n",
    ")\n",
    "aov.round(3)"
   ]
  },
  {
   "cell_type": "code",
   "execution_count": 9,
   "metadata": {},
   "outputs": [
    {
     "data": {
      "text/html": [
       "<div>\n",
       "<style scoped>\n",
       "    .dataframe tbody tr th:only-of-type {\n",
       "        vertical-align: middle;\n",
       "    }\n",
       "\n",
       "    .dataframe tbody tr th {\n",
       "        vertical-align: top;\n",
       "    }\n",
       "\n",
       "    .dataframe thead th {\n",
       "        text-align: right;\n",
       "    }\n",
       "</style>\n",
       "<table border=\"1\" class=\"dataframe\">\n",
       "  <thead>\n",
       "    <tr style=\"text-align: right;\">\n",
       "      <th></th>\n",
       "      <th>Source</th>\n",
       "      <th>ddof1</th>\n",
       "      <th>ddof2</th>\n",
       "      <th>F</th>\n",
       "      <th>p-unc</th>\n",
       "      <th>n2</th>\n",
       "    </tr>\n",
       "  </thead>\n",
       "  <tbody>\n",
       "    <tr>\n",
       "      <th>0</th>\n",
       "      <td>Hair color</td>\n",
       "      <td>3</td>\n",
       "      <td>15</td>\n",
       "      <td>6.791407</td>\n",
       "      <td>0.004114</td>\n",
       "      <td>0.575962</td>\n",
       "    </tr>\n",
       "  </tbody>\n",
       "</table>\n",
       "</div>"
      ],
      "text/plain": [
       "       Source  ddof1  ddof2         F     p-unc        n2\n",
       "0  Hair color      3     15  6.791407  0.004114  0.575962"
      ]
     },
     "execution_count": 9,
     "metadata": {},
     "output_type": "execute_result"
    }
   ],
   "source": [
    "# Same but using a standard eta-squared instead of a partial eta-squared effect size. Also\n",
    "# note how here we're using the anova function directly as a method (= built-in function)\n",
    "# of our pandas dataframe. In that case, we don't have to specify data anymore.\n",
    "data.anova(\n",
    "    dv='Pain threshold',\n",
    "    between='Hair color',\n",
    "    detailed=False,\n",
    "    effsize='n2',\n",
    ")"
   ]
  },
  {
   "cell_type": "code",
   "execution_count": 10,
   "metadata": {},
   "outputs": [
    {
     "data": {
      "text/html": [
       "<div>\n",
       "<style scoped>\n",
       "    .dataframe tbody tr th:only-of-type {\n",
       "        vertical-align: middle;\n",
       "    }\n",
       "\n",
       "    .dataframe tbody tr th {\n",
       "        vertical-align: top;\n",
       "    }\n",
       "\n",
       "    .dataframe thead th {\n",
       "        text-align: right;\n",
       "    }\n",
       "</style>\n",
       "<table border=\"1\" class=\"dataframe\">\n",
       "  <thead>\n",
       "    <tr style=\"text-align: right;\">\n",
       "      <th></th>\n",
       "      <th>A</th>\n",
       "      <th>B</th>\n",
       "      <th>mean(A)</th>\n",
       "      <th>mean(B)</th>\n",
       "      <th>diff</th>\n",
       "      <th>se</th>\n",
       "      <th>T</th>\n",
       "      <th>p-tukey</th>\n",
       "      <th>hedges</th>\n",
       "    </tr>\n",
       "  </thead>\n",
       "  <tbody>\n",
       "    <tr>\n",
       "      <th>0</th>\n",
       "      <td>Dark Blond</td>\n",
       "      <td>Dark Brunette</td>\n",
       "      <td>51.2</td>\n",
       "      <td>37.4</td>\n",
       "      <td>13.8</td>\n",
       "      <td>5.168623</td>\n",
       "      <td>2.669957</td>\n",
       "      <td>0.074168</td>\n",
       "      <td>1.525213</td>\n",
       "    </tr>\n",
       "    <tr>\n",
       "      <th>1</th>\n",
       "      <td>Dark Blond</td>\n",
       "      <td>Light Blond</td>\n",
       "      <td>51.2</td>\n",
       "      <td>59.2</td>\n",
       "      <td>-8.0</td>\n",
       "      <td>5.168623</td>\n",
       "      <td>-1.547801</td>\n",
       "      <td>0.436903</td>\n",
       "      <td>-0.884182</td>\n",
       "    </tr>\n",
       "    <tr>\n",
       "      <th>2</th>\n",
       "      <td>Dark Blond</td>\n",
       "      <td>Light Brunette</td>\n",
       "      <td>51.2</td>\n",
       "      <td>42.5</td>\n",
       "      <td>8.7</td>\n",
       "      <td>5.482153</td>\n",
       "      <td>1.586968</td>\n",
       "      <td>0.416008</td>\n",
       "      <td>0.946285</td>\n",
       "    </tr>\n",
       "    <tr>\n",
       "      <th>3</th>\n",
       "      <td>Dark Brunette</td>\n",
       "      <td>Light Blond</td>\n",
       "      <td>37.4</td>\n",
       "      <td>59.2</td>\n",
       "      <td>-21.8</td>\n",
       "      <td>5.168623</td>\n",
       "      <td>-4.217758</td>\n",
       "      <td>0.003713</td>\n",
       "      <td>-2.409395</td>\n",
       "    </tr>\n",
       "    <tr>\n",
       "      <th>4</th>\n",
       "      <td>Dark Brunette</td>\n",
       "      <td>Light Brunette</td>\n",
       "      <td>37.4</td>\n",
       "      <td>42.5</td>\n",
       "      <td>-5.1</td>\n",
       "      <td>5.482153</td>\n",
       "      <td>-0.930291</td>\n",
       "      <td>0.769703</td>\n",
       "      <td>-0.554719</td>\n",
       "    </tr>\n",
       "    <tr>\n",
       "      <th>5</th>\n",
       "      <td>Light Blond</td>\n",
       "      <td>Light Brunette</td>\n",
       "      <td>59.2</td>\n",
       "      <td>42.5</td>\n",
       "      <td>16.7</td>\n",
       "      <td>5.482153</td>\n",
       "      <td>3.046249</td>\n",
       "      <td>0.036653</td>\n",
       "      <td>1.816432</td>\n",
       "    </tr>\n",
       "  </tbody>\n",
       "</table>\n",
       "</div>"
      ],
      "text/plain": [
       "               A               B  mean(A)  mean(B)  diff        se         T  \\\n",
       "0     Dark Blond   Dark Brunette     51.2     37.4  13.8  5.168623  2.669957   \n",
       "1     Dark Blond     Light Blond     51.2     59.2  -8.0  5.168623 -1.547801   \n",
       "2     Dark Blond  Light Brunette     51.2     42.5   8.7  5.482153  1.586968   \n",
       "3  Dark Brunette     Light Blond     37.4     59.2 -21.8  5.168623 -4.217758   \n",
       "4  Dark Brunette  Light Brunette     37.4     42.5  -5.1  5.482153 -0.930291   \n",
       "5    Light Blond  Light Brunette     59.2     42.5  16.7  5.482153  3.046249   \n",
       "\n",
       "    p-tukey    hedges  \n",
       "0  0.074168  1.525213  \n",
       "1  0.436903 -0.884182  \n",
       "2  0.416008  0.946285  \n",
       "3  0.003713 -2.409395  \n",
       "4  0.769703 -0.554719  \n",
       "5  0.036653  1.816432  "
      ]
     },
     "execution_count": 10,
     "metadata": {},
     "output_type": "execute_result"
    }
   ],
   "source": [
    "# 4. If there is a main effect, we can proceed to post-hoc Tukey test\n",
    "pg.pairwise_tukey(data=data, dv='Pain threshold', between='Hair color')"
   ]
  },
  {
   "cell_type": "markdown",
   "metadata": {},
   "source": [
    "If all groups have the same number of values, then all CIs will have identical lengths. If the sample size are unequal, then the SE depends on the sample size. The CI will be wider when sample size is small and narrower when the sample size is larger (see later section on multiple comparisons)."
   ]
  },
  {
   "cell_type": "markdown",
   "metadata": {},
   "source": [
    "### Using scipy.stats"
   ]
  },
  {
   "cell_type": "code",
   "execution_count": 11,
   "metadata": {},
   "outputs": [
    {
     "name": "stdout",
     "output_type": "stream",
     "text": [
      "F statistic = 6.791 with P value from the F distribution = 0.00411\n"
     ]
    }
   ],
   "source": [
    "# The one-way ANOVA tests the null hypothesis that two or more groups have the same population mean.\n",
    "F, p = stats.f_oneway(\n",
    "    data[data['Hair color'] == 'Dark Blond']['Pain threshold'],\n",
    "    data[data['Hair color'] == 'Dark Brunette']['Pain threshold'],\n",
    "    data[data['Hair color'] == 'Light Blond']['Pain threshold'],\n",
    "    data[data['Hair color'] == 'Light Brunette']['Pain threshold'],\n",
    ")\n",
    "\n",
    "print(f\"F statistic = {F:.3f} with P value from the F distribution = {p:.5f}\")"
   ]
  },
  {
   "cell_type": "markdown",
   "metadata": {},
   "source": [
    "### Using statsmodels"
   ]
  },
  {
   "cell_type": "code",
   "execution_count": 12,
   "metadata": {},
   "outputs": [
    {
     "name": "stdout",
     "output_type": "stream",
     "text": [
      "                             OLS Regression Results                            \n",
      "===============================================================================\n",
      "Dep. Variable:     Q('Pain threshold')   R-squared:                       0.576\n",
      "Model:                             OLS   Adj. R-squared:                  0.491\n",
      "Method:                  Least Squares   F-statistic:                     6.791\n",
      "Date:                 Tue, 14 Sep 2021   Prob (F-statistic):            0.00411\n",
      "Time:                         13:33:32   Log-Likelihood:                -64.628\n",
      "No. Observations:                   19   AIC:                             137.3\n",
      "Df Residuals:                       15   BIC:                             141.0\n",
      "Df Model:                            3                                         \n",
      "Covariance Type:             nonrobust                                         \n",
      "=====================================================================================================\n",
      "                                        coef    std err          t      P>|t|      [0.025      0.975]\n",
      "-----------------------------------------------------------------------------------------------------\n",
      "Intercept                            51.2000      3.655     14.009      0.000      43.410      58.990\n",
      "Q('Hair color')[T.Dark Brunette]    -13.8000      5.169     -2.670      0.017     -24.817      -2.783\n",
      "Q('Hair color')[T.Light Blond]        8.0000      5.169      1.548      0.143      -3.017      19.017\n",
      "Q('Hair color')[T.Light Brunette]    -8.7000      5.482     -1.587      0.133     -20.385       2.985\n",
      "==============================================================================\n",
      "Omnibus:                        1.137   Durbin-Watson:                   2.021\n",
      "Prob(Omnibus):                  0.566   Jarque-Bera (JB):                0.979\n",
      "Skew:                           0.358   Prob(JB):                        0.613\n",
      "Kurtosis:                       2.150   Cond. No.                         4.70\n",
      "==============================================================================\n",
      "\n",
      "Notes:\n",
      "[1] Standard Errors assume that the covariance matrix of the errors is correctly specified.\n"
     ]
    },
    {
     "name": "stderr",
     "output_type": "stream",
     "text": [
      "C:\\Users\\WIECKOWS\\AppData\\Local\\Programs\\Python\\Python39\\lib\\site-packages\\scipy\\stats\\stats.py:1541: UserWarning: kurtosistest only valid for n>=20 ... continuing anyway, n=19\n",
      "  warnings.warn(\"kurtosistest only valid for n>=20 ... continuing \"\n"
     ]
    }
   ],
   "source": [
    "import statsmodels.sandbox.stats as sandbox_stats\n",
    "import statsmodels.api as sm\n",
    "from statsmodels.formula.api import ols\n",
    "\n",
    "model = ols(\n",
    "    formula=\"Q('Pain threshold') ~ Q('Hair color')\",\n",
    "    data=data\n",
    ").fit() # we use OLS regression\n",
    "print(model.summary())"
   ]
  },
  {
   "cell_type": "code",
   "execution_count": 13,
   "metadata": {},
   "outputs": [
    {
     "data": {
      "text/html": [
       "<div>\n",
       "<style scoped>\n",
       "    .dataframe tbody tr th:only-of-type {\n",
       "        vertical-align: middle;\n",
       "    }\n",
       "\n",
       "    .dataframe tbody tr th {\n",
       "        vertical-align: top;\n",
       "    }\n",
       "\n",
       "    .dataframe thead th {\n",
       "        text-align: right;\n",
       "    }\n",
       "</style>\n",
       "<table border=\"1\" class=\"dataframe\">\n",
       "  <thead>\n",
       "    <tr style=\"text-align: right;\">\n",
       "      <th></th>\n",
       "      <th>df</th>\n",
       "      <th>sum_sq</th>\n",
       "      <th>mean_sq</th>\n",
       "      <th>F</th>\n",
       "      <th>PR(&gt;F)</th>\n",
       "    </tr>\n",
       "  </thead>\n",
       "  <tbody>\n",
       "    <tr>\n",
       "      <th>Q('Hair color')</th>\n",
       "      <td>3.0</td>\n",
       "      <td>1360.7263</td>\n",
       "      <td>453.5754</td>\n",
       "      <td>6.7914</td>\n",
       "      <td>0.0041</td>\n",
       "    </tr>\n",
       "    <tr>\n",
       "      <th>Residual</th>\n",
       "      <td>15.0</td>\n",
       "      <td>1001.8000</td>\n",
       "      <td>66.7867</td>\n",
       "      <td>NaN</td>\n",
       "      <td>NaN</td>\n",
       "    </tr>\n",
       "  </tbody>\n",
       "</table>\n",
       "</div>"
      ],
      "text/plain": [
       "                   df     sum_sq   mean_sq       F  PR(>F)\n",
       "Q('Hair color')   3.0  1360.7263  453.5754  6.7914  0.0041\n",
       "Residual         15.0  1001.8000   66.7867     NaN     NaN"
      ]
     },
     "execution_count": 13,
     "metadata": {},
     "output_type": "execute_result"
    }
   ],
   "source": [
    "anova_table = sm.stats.anova_lm(model)\n",
    "anova_table.round(4)"
   ]
  },
  {
   "cell_type": "code",
   "execution_count": 14,
   "metadata": {},
   "outputs": [
    {
     "data": {
      "text/html": [
       "<div>\n",
       "<style scoped>\n",
       "    .dataframe tbody tr th:only-of-type {\n",
       "        vertical-align: middle;\n",
       "    }\n",
       "\n",
       "    .dataframe tbody tr th {\n",
       "        vertical-align: top;\n",
       "    }\n",
       "\n",
       "    .dataframe thead th {\n",
       "        text-align: right;\n",
       "    }\n",
       "</style>\n",
       "<table border=\"1\" class=\"dataframe\">\n",
       "  <thead>\n",
       "    <tr style=\"text-align: right;\">\n",
       "      <th></th>\n",
       "      <th>sum_sq</th>\n",
       "      <th>df</th>\n",
       "      <th>F</th>\n",
       "      <th>PR(&gt;F)</th>\n",
       "    </tr>\n",
       "  </thead>\n",
       "  <tbody>\n",
       "    <tr>\n",
       "      <th>Q('Hair color')</th>\n",
       "      <td>1360.726</td>\n",
       "      <td>3.0</td>\n",
       "      <td>6.791</td>\n",
       "      <td>0.004</td>\n",
       "    </tr>\n",
       "    <tr>\n",
       "      <th>Residual</th>\n",
       "      <td>1001.800</td>\n",
       "      <td>15.0</td>\n",
       "      <td>NaN</td>\n",
       "      <td>NaN</td>\n",
       "    </tr>\n",
       "  </tbody>\n",
       "</table>\n",
       "</div>"
      ],
      "text/plain": [
       "                   sum_sq    df      F  PR(>F)\n",
       "Q('Hair color')  1360.726   3.0  6.791   0.004\n",
       "Residual         1001.800  15.0    NaN     NaN"
      ]
     },
     "execution_count": 14,
     "metadata": {},
     "output_type": "execute_result"
    }
   ],
   "source": [
    "sm.stats.anova_lm(model, typ='II').round(3)"
   ]
  },
  {
   "cell_type": "markdown",
   "metadata": {},
   "source": [
    "### Using R\n",
    "\n",
    "A pipeline for one-way ANOVA analysis in R can be the following:\n",
    "\n",
    "```R\n",
    "# data import\n",
    "data <- read.csv2(\"PlantGrowth.csv\", sep = ',', dec='.')\n",
    "data <- data[-c(1)] # drop the 'X' (index) column\n",
    "\n",
    "# EDA\n",
    "head(data)\n",
    "str(data)\n",
    "levels(data$group) # check group encoding\n",
    "summary(data)\n",
    "\n",
    "# visualization\n",
    "boxplot(weight~group, data)\n",
    "\n",
    "# setup ANOVA as a linear regression model\n",
    "fit = lm(weight~group, data)\n",
    "\n",
    "plot(fit) # plots the following:\n",
    "# 1. Residuals vs Fitted\n",
    "# 2. Normal Q-Q\n",
    "# 3. Scale-Location\n",
    "# 4. Constant Leverage\n",
    "\n",
    "# ANOVA table\n",
    "aov = anova(fit)\n",
    "aov\n",
    "```"
   ]
  },
  {
   "cell_type": "markdown",
   "metadata": {},
   "source": [
    "## Computing manually"
   ]
  },
  {
   "cell_type": "code",
   "execution_count": 15,
   "metadata": {},
   "outputs": [
    {
     "name": "stdout",
     "output_type": "stream",
     "text": [
      "There are 4 different conditions and 19 total values\n",
      "This leads to 3 and 15 degrees of freedom for the effect (SSB) and error (SSW) Mean Squares (MS) respectively\n",
      "With SST = 2362.5 and SSW = 1001.8, we obtain SSB = 1360.7, and eta-squared = 0.575962\n",
      "MS for SSB = 453.6 and for SSW = 66.8\n",
      "Finally, with a F ratio = 6.791407, the associated P value = 0.004114\n"
     ]
    }
   ],
   "source": [
    "# parameters of the analysis\n",
    "r = data['Hair color'].nunique() # number of groups/conditions\n",
    "N = len(data)                    # number of total values\n",
    "DF_between = r - 1               # degrees of freedom for the effect Mean Square\n",
    "DF_within  = N - r               # degrees of freedom for the error  Mean Square\n",
    "\n",
    "print(f\"There are {r} different conditions and {N} total values\")\n",
    "print(f\"This leads to {DF_between} and {DF_within} degrees of freedom for the effect (SSB) and error (SSW) Mean Squares (MS) respectively\")\n",
    "\n",
    "\n",
    "# sums of squares\n",
    "SST = (\n",
    "    (\n",
    "        data['Pain threshold'] -\n",
    "        data['Pain threshold'].mean()\n",
    "    )**2\n",
    ").sum()\n",
    "\n",
    "SSW = (\n",
    "    data.groupby('Hair color')['Pain threshold']\n",
    "    .transform(lambda x: (x - x.mean())**2) \n",
    ").sum()\n",
    "\n",
    "SSB = SST - SSW\n",
    "\n",
    "print(f\"With SST = {SST:.1f} and SSW = {SSW:.1f}, we obtain SSB = {SSB:.1f}, and eta-squared = {SSB/SST:.6f}\")\n",
    "\n",
    "\n",
    "# MS\n",
    "MS_between = SSB / DF_between\n",
    "MS_within  = SSW / DF_within\n",
    "\n",
    "print(f\"MS for SSB = {MS_between:.1f} and for SSW = {MS_within:.1f}\")\n",
    "\n",
    "\n",
    "# F ratio and associated P value\n",
    "Fratio = MS_between / MS_within\n",
    "Pvalue = stats.f.sf(Fratio, DF_between, DF_within) # using here the `survival function 1 - cdf()`\n",
    "\n",
    "print(f\"Finally, with a F ratio = {Fratio:.6f}, the associated P value = {Pvalue:.6f}\")"
   ]
  },
  {
   "cell_type": "code",
   "execution_count": 16,
   "metadata": {},
   "outputs": [
    {
     "name": "stdout",
     "output_type": "stream",
     "text": [
      "SSB computed from scratch = 1360.7\n"
     ]
    }
   ],
   "source": [
    "# we could also compute SSB from scratch\n",
    "SSB = (\n",
    "    data.groupby('Hair color')['Pain threshold']\n",
    "    .apply(lambda x: x.count() * (x.mean() - data['Pain threshold'].mean())**2) \n",
    ").sum()\n",
    "\n",
    "print(f\"SSB computed from scratch = {SSB:.1f}\")"
   ]
  },
  {
   "cell_type": "markdown",
   "metadata": {},
   "source": [
    "### ANOVA table\n",
    "\n",
    "| Hypothesis  | Scatter from | SS     | Variation | $\\eta^2$ |\n",
    "| ----------- | ------------ | ------:| ---------:| -------- |\n",
    "| Null        | Grand mean   | 2362.5 |  100.0%   |          |\n",
    "| Alternative | Group mean   | 1001.8 |   42.4%   |          |\n",
    "| Difference  |              | 1360.7 |   57.6%   |  0.5760  |\n",
    "\n",
    "Of all the variation, 42.4% is the result of variation within the groups, leaving 57.6% of the total variation as the result of differences between the group means.\n",
    "\n",
    "| Source variation | SS     | DF  | MS    | F ratio | P value |\n",
    "| ----------------:| ------:| ---:| ----- | ------  | ------- |\n",
    "|  Between groups  | 1360.7 | 3   | 453.6 |  6.791  |  0.0041 |\n",
    "| + Within groups  | 1001.8 | 15  |  66.8 |         |         |\n",
    "| =         Total  | 2362.5 | 18  |       |         |         |"
   ]
  },
  {
   "cell_type": "markdown",
   "metadata": {},
   "source": [
    "### Visualization of the F-distribution"
   ]
  },
  {
   "cell_type": "code",
   "execution_count": 17,
   "metadata": {},
   "outputs": [
    {
     "data": {
      "image/png": "[encoded data removed]",
      "text/plain": [
       "<Figure size 432x288 with 1 Axes>"
      ]
     },
     "metadata": {
      "needs_background": "light"
     },
     "output_type": "display_data"
    }
   ],
   "source": [
    "F_crit = stats.f(DF_between, DF_within).ppf(.95)\n",
    "\n",
    "x = np.linspace(0, 18, num=500)\n",
    "rvf = stats.f(DF_between, DF_within)\n",
    "plt.plot(x, rvf.pdf(x), color='black')\n",
    "hx = rvf.pdf(x)\n",
    "\n",
    "plt.margins(y = 0)\n",
    "plt.ylim((0, .72))\n",
    "plt.xlim((0, Fratio+1))\n",
    "\n",
    "# Shade the probability p-value\n",
    "plt.fill_between(x[x <= Fratio], hx[x <= Fratio], edgecolor = None, color = 'limegreen')\n",
    "# plot the observed F ratio\n",
    "plt.axvline(x = Fratio, color = \"darkgreen\", linestyle = \"--\")\n",
    "# Shade the probability alpha\n",
    "plt.fill_between(\n",
    "    x[x >= F_crit], hx[x >= F_crit], \n",
    "    edgecolor = \"orangered\", linestyle = \"-\", linewidth = 2, facecolor = 'orangered')\n",
    "\n",
    "# plot the critical F value\n",
    "plt.axvline(x = F_crit, color = \"red\", linestyle = \"--\")\n",
    "\n",
    "ax=plt.gca()\n",
    "ax.set_xticks([F_crit, Fratio])\n",
    "ax.set_xticklabels([\"$F_{crit}$\", \"$F$\"], fontdict={'size': 10})\n",
    "ax.get_xticklabels()[0].set_color(\"red\")\n",
    "ax.get_xticklabels()[1].set_color(\"darkgreen\")\n",
    "plt.ylabel('Density function', fontdict={'size': 12})\n",
    "plt.title(f\"F distribution for DFeffect={DF_between} and DFerror={DF_within}\");"
   ]
  },
  {
   "cell_type": "markdown",
   "metadata": {},
   "source": [
    "### Effect size\n",
    "\n",
    "Omega squared ($\\omega^2$) is another measure of the effect size, or the degree of association for a population. It is an estimate of **how much variance in the response variables are accounted for by the explanatory variables**. Omega squared is widely viewed as a lesser biased alternative to eta-squared, especially when sample sizes are small. Zero indicates no effect.\n",
    "$$ \\omega^2 = \\frac{\\sigma_Y^2 - \\sigma_{Y \\mid X}^2}{\\sigma_Y^2}\n",
    "= \\frac{df_\\text{effect} \\times (\\text{MS}_\\text{effect} - \\text{MS}_\\text{error})}{df_\\text{effect} \\times \\text{MS}_\\text{effect} + (N - df_\\text{effect}) \\times \\text{MS}_\\text{error}}\n",
    "= \\frac{df_\\text{effect} \\times (\\text{MS}_\\text{effect} - \\text{MS}_\\text{error})}{\\text{SS}_\\text{total} + \\text{MS}_\\text{error}}\n",
    "= \\frac{\\text{SS}_\\text{effect} - (r - 1) \\text{MS}_\\text{error}}{\\text{SS}_\\text{total} + \\text{MS}_\\text{error}}\n",
    "= \\frac{(r-1) \\times (F - 1)}{(r-1) \\times (F - 1) + N} $$"
   ]
  },
  {
   "cell_type": "code",
   "execution_count": 18,
   "metadata": {},
   "outputs": [
    {
     "name": "stdout",
     "output_type": "stream",
     "text": [
      "omega squared = 0.47765205\n",
      "omega squared = 0.47765205\n",
      "omega squared = 0.47765205\n",
      "omega squared = 0.47765205\n"
     ]
    }
   ],
   "source": [
    "print(f\"omega squared = {DF_between * (MS_between - MS_within) / (DF_between * MS_between + (N - DF_between) * MS_within):.8f}\")\n",
    "print(f\"omega squared = {DF_between * (MS_between - MS_within) / (SST + MS_within):.8f}\")\n",
    "print(f\"omega squared = {(SSB - DF_between * MS_within) / (SST + MS_within):.8f}\")\n",
    "print(f\"omega squared = {(r-1) * (Fratio-1) / ((r-1) * (Fratio-1) + N):.8f}\")"
   ]
  },
  {
   "cell_type": "markdown",
   "metadata": {},
   "source": [
    "### ANOVA reconstruction from summary data\n",
    "\n",
    "One-way ANOVA (but not repeated-measures ANOVA) can be [computed without raw data](https://www.youtube.com/watch?v=PPQRZsBSpI8), so long as you know the mean, sample size and SD (or SEM) of each group.\n",
    "\n",
    "When we look at the very first equations of $\\text{SS}_\\text{effect}$, $\\text{SS}_\\text{error}$ and $\\text{SS}_\\text{total}$, we see that we need the individual data points $ Y_{ij} $ in particular for computing $\\text{SS}_\\text{total}$. So we leave this equation apart.\n",
    "\n",
    "For $\\text{SS}_\\text{effect} = \\sum_i n_i (\\overline{Y_i} - \\overline{Y})^2 $, it's simply the sum of the squared difference between the group mean $ \\overline{Y_i} $ and the grand mean $ \\overline{Y} $ multiplied by the number of values in each group.\n",
    "\n",
    "In the example below, the **grand mean** $ = (41 + 38 + 14 + 37) / 4 = 32.5 $. _Beware this is only true when the sample sizes accross the groups are equal, otherwise we should compute the proper sample mean._\n",
    "\n",
    "| group | mean | $n_i$ | calculation  |\n",
    "| -----:| ---- | ----- |:------------:|\n",
    "|   A   |  41  |   8   | 8*(41-32.5)² |\n",
    "|   B   |  38  |   8   | 8*(38-32.5)² |\n",
    "|   C   |  14  |   8   | 8*(14-32.5)² |\n",
    "|   D   |  37  |   8   | 8*(37-32.5)² |\n",
    "|  sum  |      |       |     3720     |\n",
    "\n",
    "For $ \\text{SS}_\\text{error} = \\sum_i \\sum_j (Y_{ij} - \\overline{Y}_i)^2 $, we don't have access to the individual data points $ Y_{ij} $, but we have access to the standard deviation for each group. We know that the variance is the average of the sum of squares, with $ \\sigma_i^2 = \\frac{\\text{SS}_\\text{error}}{n_i - 1} $. Therefore $ \\text{SS}_\\text{error} $ is the sum of the squared standard deviation multiplied by the number or values minus 1 in each group as shown below:\n",
    "\n",
    "| group | SD  | $n_i$ | calculation |\n",
    "| -----:| --- | ----- |:-----------:|\n",
    "|   A   | 3.5 |   8   | (8-1)*3.5²  |\n",
    "|   B   | 4.6 |   8   | (8-1)*4.6²  |\n",
    "|   C   | 3.8 |   8   | (8-1)*3.8²  |\n",
    "|   D   | 4.9 |   8   | (8-1)*4.9²  |\n",
    "|  sum  |     |       |   503.02    |\n",
    "\n",
    "Let's compute the SSs using the Hair color dataset."
   ]
  },
  {
   "cell_type": "code",
   "execution_count": 19,
   "metadata": {},
   "outputs": [
    {
     "name": "stdout",
     "output_type": "stream",
     "text": [
      "grand mean = 47.8421052631579\n",
      "Hair color        count     mean     std    SSeffect    SSerror\n",
      "--------------  -------  -------  ------  ----------  ---------\n",
      "Dark Blond        5.000   51.200   9.284      56.377    344.800\n",
      "Dark Brunette     5.000   37.400   8.325     545.188    277.200\n",
      "Light Blond       5.000   59.200   8.526     645.009    290.800\n",
      "Light Brunette    4.000   42.500   5.447     114.152     89.000\n",
      "sum              19.000  190.300  31.582    1360.726   1001.800\n",
      "\n",
      "The values to be used in the ANOVA table are SSeffect = 1360.7, with DFeffect = 3, and SSerror = 1001.8 with DFerror = 15\n"
     ]
    }
   ],
   "source": [
    "grand_mean = data['Pain threshold'].mean()\n",
    "print(f\"grand mean = {grand_mean}\")\n",
    "\n",
    "# getting the count, mean and std for each group\n",
    "calc_table = data.groupby('Hair color').describe()['Pain threshold'].loc[:, ['count', 'mean', 'std']]\n",
    "\n",
    "calc_table['SSeffect'] = calc_table['count'] * (calc_table['mean'] - grand_mean)**2\n",
    "calc_table['SSerror']  = (calc_table['count'] - 1) * calc_table['std']**2\n",
    "calc_table.loc['sum'] = calc_table.sum(axis=0) # adding a new line as sum margin\n",
    "\n",
    "pg.print_table(calc_table.reset_index(), tablefmt='simple')\n",
    "\n",
    "print(f\"The values to be used in the ANOVA table are SSeffect = {calc_table.loc['sum','SSeffect']:.1f}, \\\n",
    "with DFeffect = {DF_between}, and SSerror = {calc_table.loc['sum','SSerror']:.1f} with DFerror = {DF_within}\")"
   ]
  },
  {
   "cell_type": "markdown",
   "metadata": {},
   "source": [
    "## Repeated-measures one-way ANOVA\n",
    "\n",
    "The difference between ordinary and repeated-measures ANOVA is the same as the difference between the unpaired and paired t tests. Use repeated-measures ANOVA to analyze data collected in three kinds if experiments:\n",
    "\n",
    "* measurements are made repeatedly for each subject (e.g. before, during and after)\n",
    "* subjects are recruited as matched sets or _blocks_, which are matched for variables such as age, postal code, diagnosis etc.\n",
    "* experiment is run several times, each time with several treatment handled in parallel\n",
    "\n",
    "More generally, you should use a repeated-measures test **whenever the value of one subject in the first group is expected to be closer to a particular value in the other group than to a random subject in the other group**.\n",
    "\n",
    "In one-way repeated-measures ANOVA, the total variance (sums of squares) is divided into three components $ \\text{SS}_{\\text{total}} = \\text{SS}_{\\text{effect}} + (\\text{SS}_{\\text{subjects}} + \\text{SS}_{\\text{error}}) $, with $ \\text{SS}_\\text{subjects} = r \\sum (\\overline Y_s - \\overline Y)^2 $ and $ \\overline Y_s $ the mean of the $ s $ th subject.\n",
    "\n",
    "The F statistic is defined as\n",
    "\n",
    "$$ F^* = \\frac{\\text{MS}_{\\text{effect}}}{\\text{MS}_{\\text{error}}} = \\frac{\\frac{\\text{SS}_{\\text{effect}}}{r-1}}{\\frac{\\text{SS}_{\\text{error}}}{(n - 1)(r - 1)}} $$\n",
    "\n",
    "and the P value can be calculated using a F-distribution with $ v_{\\text{effect}} = r - 1 $ and $ v_{\\text{error}} = (n - 1)(r - 1) $ degrees of freedom."
   ]
  },
  {
   "cell_type": "markdown",
   "metadata": {},
   "source": [
    "In one-way repeated-measures ANOVA, there is only one factor (treatment of timepoint) to study. The variation is divided into three components including within-subjects ($\\text{SS}_\\text{subjects}$), variation among the treatments or time points ($\\text{SS}_\\text{B}$), and residual variance ($\\text{SS}_\\text{E}$), as follows:\n",
    "\n",
    "| Source of variation  | Degree of freedom                 | Sum of squares       | Mean square       | F value     |\n",
    "| -------------------- | --------------------------------- | -------------------- | ----------------- | ----------- |\n",
    "| Subjects             | $\\text{DF}_\\text{S} = n - 1$      | $\\text{SS}_\\text{S}$ |                   |             |\n",
    "| Treatment/Time point | $\\text{DF}_\\text{B} = k - 1$      | $\\text{SS}_\\text{B}$ | $MS_B=SS_B/DF_B $ | $MS_B/MS_E$ |\n",
    "| Residuals or error   | $\\text{DF}_\\text{E} = (n-1)(k-1)$ | $\\text{SS}_\\text{E}$ | $MS_E=SS_E/DF_E $ |             |\n",
    "| Total                | $\\text{DF}_\\text{T} = nk-1$       | $\\text{SS}_\\text{T}$ |                   |             |"
   ]
  },
  {
   "cell_type": "code",
   "execution_count": 20,
   "metadata": {},
   "outputs": [
    {
     "data": {
      "text/html": [
       "<div>\n",
       "<style scoped>\n",
       "    .dataframe tbody tr th:only-of-type {\n",
       "        vertical-align: middle;\n",
       "    }\n",
       "\n",
       "    .dataframe tbody tr th {\n",
       "        vertical-align: top;\n",
       "    }\n",
       "\n",
       "    .dataframe thead th {\n",
       "        text-align: right;\n",
       "    }\n",
       "</style>\n",
       "<table border=\"1\" class=\"dataframe\">\n",
       "  <thead>\n",
       "    <tr style=\"text-align: right;\">\n",
       "      <th></th>\n",
       "      <th>Subject</th>\n",
       "      <th>Gender</th>\n",
       "      <th>Region</th>\n",
       "      <th>Education</th>\n",
       "      <th>DesireToKill</th>\n",
       "      <th>Disgustingness</th>\n",
       "      <th>Frighteningness</th>\n",
       "    </tr>\n",
       "  </thead>\n",
       "  <tbody>\n",
       "    <tr>\n",
       "      <th>0</th>\n",
       "      <td>1</td>\n",
       "      <td>Female</td>\n",
       "      <td>North</td>\n",
       "      <td>some</td>\n",
       "      <td>10.0</td>\n",
       "      <td>High</td>\n",
       "      <td>High</td>\n",
       "    </tr>\n",
       "    <tr>\n",
       "      <th>1</th>\n",
       "      <td>1</td>\n",
       "      <td>Female</td>\n",
       "      <td>North</td>\n",
       "      <td>some</td>\n",
       "      <td>9.0</td>\n",
       "      <td>High</td>\n",
       "      <td>Low</td>\n",
       "    </tr>\n",
       "    <tr>\n",
       "      <th>2</th>\n",
       "      <td>1</td>\n",
       "      <td>Female</td>\n",
       "      <td>North</td>\n",
       "      <td>some</td>\n",
       "      <td>6.0</td>\n",
       "      <td>Low</td>\n",
       "      <td>High</td>\n",
       "    </tr>\n",
       "    <tr>\n",
       "      <th>3</th>\n",
       "      <td>1</td>\n",
       "      <td>Female</td>\n",
       "      <td>North</td>\n",
       "      <td>some</td>\n",
       "      <td>6.0</td>\n",
       "      <td>Low</td>\n",
       "      <td>Low</td>\n",
       "    </tr>\n",
       "    <tr>\n",
       "      <th>4</th>\n",
       "      <td>2</td>\n",
       "      <td>Female</td>\n",
       "      <td>North</td>\n",
       "      <td>advance</td>\n",
       "      <td>10.0</td>\n",
       "      <td>High</td>\n",
       "      <td>High</td>\n",
       "    </tr>\n",
       "  </tbody>\n",
       "</table>\n",
       "</div>"
      ],
      "text/plain": [
       "   Subject  Gender Region Education  DesireToKill Disgustingness  \\\n",
       "0        1  Female  North      some          10.0           High   \n",
       "1        1  Female  North      some           9.0           High   \n",
       "2        1  Female  North      some           6.0            Low   \n",
       "3        1  Female  North      some           6.0            Low   \n",
       "4        2  Female  North   advance          10.0           High   \n",
       "\n",
       "  Frighteningness  \n",
       "0            High  \n",
       "1             Low  \n",
       "2            High  \n",
       "3             Low  \n",
       "4            High  "
      ]
     },
     "execution_count": 20,
     "metadata": {},
     "output_type": "execute_result"
    }
   ],
   "source": [
    "data_rm = pg.read_dataset('rm_anova')\n",
    "data_rm.head()"
   ]
  },
  {
   "cell_type": "code",
   "execution_count": 21,
   "metadata": {},
   "outputs": [
    {
     "data": {
      "text/html": [
       "<div>\n",
       "<style scoped>\n",
       "    .dataframe tbody tr th:only-of-type {\n",
       "        vertical-align: middle;\n",
       "    }\n",
       "\n",
       "    .dataframe tbody tr th {\n",
       "        vertical-align: top;\n",
       "    }\n",
       "\n",
       "    .dataframe thead th {\n",
       "        text-align: right;\n",
       "    }\n",
       "</style>\n",
       "<table border=\"1\" class=\"dataframe\">\n",
       "  <thead>\n",
       "    <tr style=\"text-align: right;\">\n",
       "      <th></th>\n",
       "      <th>Source</th>\n",
       "      <th>SS</th>\n",
       "      <th>DF</th>\n",
       "      <th>MS</th>\n",
       "      <th>F</th>\n",
       "      <th>p-unc</th>\n",
       "      <th>ng2</th>\n",
       "      <th>eps</th>\n",
       "    </tr>\n",
       "  </thead>\n",
       "  <tbody>\n",
       "    <tr>\n",
       "      <th>0</th>\n",
       "      <td>Disgustingness</td>\n",
       "      <td>27.485215</td>\n",
       "      <td>1</td>\n",
       "      <td>27.485215</td>\n",
       "      <td>12.043878</td>\n",
       "      <td>0.000793</td>\n",
       "      <td>0.025784</td>\n",
       "      <td>1.0</td>\n",
       "    </tr>\n",
       "    <tr>\n",
       "      <th>1</th>\n",
       "      <td>Error</td>\n",
       "      <td>209.952285</td>\n",
       "      <td>92</td>\n",
       "      <td>2.282090</td>\n",
       "      <td>NaN</td>\n",
       "      <td>NaN</td>\n",
       "      <td>NaN</td>\n",
       "      <td>NaN</td>\n",
       "    </tr>\n",
       "  </tbody>\n",
       "</table>\n",
       "</div>"
      ],
      "text/plain": [
       "           Source          SS  DF         MS          F     p-unc       ng2  \\\n",
       "0  Disgustingness   27.485215   1  27.485215  12.043878  0.000793  0.025784   \n",
       "1           Error  209.952285  92   2.282090        NaN       NaN       NaN   \n",
       "\n",
       "   eps  \n",
       "0  1.0  \n",
       "1  NaN  "
      ]
     },
     "execution_count": 21,
     "metadata": {},
     "output_type": "execute_result"
    }
   ],
   "source": [
    "pg.rm_anova(\n",
    "    dv='DesireToKill',\n",
    "    within='Disgustingness',\n",
    "    subject='Subject',\n",
    "    data=data_rm,\n",
    "    detailed=True,\n",
    "    effsize=\"ng2\",\n",
    ")"
   ]
  },
  {
   "cell_type": "markdown",
   "metadata": {},
   "source": [
    "### Assumption of sphericity\n",
    "\n",
    "The assumption of sphericity can be tested using Mauchly's test of sphericity. The violation of the assumption of sphericity can lead to an increase in type II error (loss of statistical power) and the F value is not valid. If the P value exceeds 0.05, the data met the assumption of sphericity, and variances of differences of independent variables are equal."
   ]
  },
  {
   "cell_type": "code",
   "execution_count": 22,
   "metadata": {},
   "outputs": [
    {
     "name": "stdout",
     "output_type": "stream",
     "text": [
      "Does the data have the sphericity property: True.\n",
      "The Mauchly W statistic equals nan, with a chi² of nan and 1 degrees of freedom.\n",
      "The P value equals 1.0000\n"
     ]
    }
   ],
   "source": [
    "spher, W, chi2_spher, dof_spher, pval_spher = pg.sphericity(\n",
    "    dv='DesireToKill',\n",
    "    within='Disgustingness',\n",
    "    subject='Subject',\n",
    "    data=data_rm,\n",
    ")\n",
    "\n",
    "print(f\"Does the data have the sphericity property: {spher}.\\n\\\n",
    "The Mauchly W statistic equals {W:.3f}, with a chi² of {chi2_spher:.2f} and {dof_spher} degrees of freedom.\\n\\\n",
    "The P value equals {pval_spher:.4f}\")"
   ]
  },
  {
   "cell_type": "code",
   "execution_count": 23,
   "metadata": {},
   "outputs": [
    {
     "data": {
      "text/html": [
       "<div>\n",
       "<style scoped>\n",
       "    .dataframe tbody tr th:only-of-type {\n",
       "        vertical-align: middle;\n",
       "    }\n",
       "\n",
       "    .dataframe tbody tr th {\n",
       "        vertical-align: top;\n",
       "    }\n",
       "\n",
       "    .dataframe thead th {\n",
       "        text-align: right;\n",
       "    }\n",
       "</style>\n",
       "<table border=\"1\" class=\"dataframe\">\n",
       "  <thead>\n",
       "    <tr style=\"text-align: right;\">\n",
       "      <th></th>\n",
       "      <th>Source</th>\n",
       "      <th>ddof1</th>\n",
       "      <th>ddof2</th>\n",
       "      <th>F</th>\n",
       "      <th>p-unc</th>\n",
       "      <th>ng2</th>\n",
       "      <th>eps</th>\n",
       "    </tr>\n",
       "  </thead>\n",
       "  <tbody>\n",
       "    <tr>\n",
       "      <th>0</th>\n",
       "      <td>Disgustingness</td>\n",
       "      <td>1</td>\n",
       "      <td>92</td>\n",
       "      <td>12.043878</td>\n",
       "      <td>0.000793</td>\n",
       "      <td>0.025784</td>\n",
       "      <td>1.0</td>\n",
       "    </tr>\n",
       "  </tbody>\n",
       "</table>\n",
       "</div>"
      ],
      "text/plain": [
       "           Source  ddof1  ddof2          F     p-unc       ng2  eps\n",
       "0  Disgustingness      1     92  12.043878  0.000793  0.025784  1.0"
      ]
     },
     "execution_count": 23,
     "metadata": {},
     "output_type": "execute_result"
    }
   ],
   "source": [
    "pg.rm_anova(\n",
    "    dv='DesireToKill',\n",
    "    within='Disgustingness',\n",
    "    subject='Subject',\n",
    "    data=data_rm,\n",
    "    detailed=False,\n",
    "    effsize=\"ng2\",\n",
    "    correction='auto' # the default for one-way design is to compute Mauchly's test of\n",
    "                      # sphericity to determine whether the p-values needs to be corrected\n",
    ")"
   ]
  },
  {
   "cell_type": "markdown",
   "metadata": {},
   "source": [
    "### Mixed-design (split-plot) ANOVA\n",
    "\n",
    "In statistics, a mixed-design analysis of variance model, also known as a split-plot ANOVA, is used to **test for differences between two or more independent groups whilst subjecting participants to repeated measures**. Thus, in a mixed-design ANOVA model, one factor (a fixed effects factor) is a between-subjects variable and the other (a random effects factor) is a within-subjects variable. Thus, overall, the model is a type of mixed-effects model.\n",
    "\n",
    "A repeated measures design is used when multiple independent variables or measures exist in a data set, but all participants have been measured on each variable."
   ]
  },
  {
   "cell_type": "code",
   "execution_count": 24,
   "metadata": {},
   "outputs": [
    {
     "name": "stdout",
     "output_type": "stream",
     "text": [
      "  Scores  Time    Group      Subject\n",
      "--------  ------  -------  ---------\n",
      "   5.971  August  Control          0\n",
      "   4.309  August  Control          1\n",
      "   6.933  August  Control          2\n",
      "   5.187  August  Control          3\n",
      "   4.779  August  Control          4\n",
      "\n"
     ]
    },
    {
     "data": {
      "image/png": "[encoded data removed]",
      "text/plain": [
       "<Figure size 432x288 with 1 Axes>"
      ]
     },
     "metadata": {
      "needs_background": "light"
     },
     "output_type": "display_data"
    }
   ],
   "source": [
    "data_mixed = pg.read_dataset('mixed_anova')\n",
    "\n",
    "pg.print_table(data_mixed.head())\n",
    "\n",
    "sns.boxplot(\n",
    "    x='Time',\n",
    "    y='Scores',\n",
    "    data=data_mixed,\n",
    "    hue='Group',\n",
    "    palette='Set2',\n",
    ");"
   ]
  },
  {
   "cell_type": "code",
   "execution_count": 25,
   "metadata": {},
   "outputs": [
    {
     "data": {
      "text/html": [
       "<div>\n",
       "<style scoped>\n",
       "    .dataframe tbody tr th:only-of-type {\n",
       "        vertical-align: middle;\n",
       "    }\n",
       "\n",
       "    .dataframe tbody tr th {\n",
       "        vertical-align: top;\n",
       "    }\n",
       "\n",
       "    .dataframe thead th {\n",
       "        text-align: right;\n",
       "    }\n",
       "</style>\n",
       "<table border=\"1\" class=\"dataframe\">\n",
       "  <thead>\n",
       "    <tr style=\"text-align: right;\">\n",
       "      <th></th>\n",
       "      <th>Source</th>\n",
       "      <th>SS</th>\n",
       "      <th>DF1</th>\n",
       "      <th>DF2</th>\n",
       "      <th>MS</th>\n",
       "      <th>F</th>\n",
       "      <th>p-unc</th>\n",
       "      <th>np2</th>\n",
       "      <th>eps</th>\n",
       "    </tr>\n",
       "  </thead>\n",
       "  <tbody>\n",
       "    <tr>\n",
       "      <th>0</th>\n",
       "      <td>Group</td>\n",
       "      <td>5.459963</td>\n",
       "      <td>1</td>\n",
       "      <td>58</td>\n",
       "      <td>5.459963</td>\n",
       "      <td>5.051709</td>\n",
       "      <td>0.028420</td>\n",
       "      <td>0.080120</td>\n",
       "      <td>NaN</td>\n",
       "    </tr>\n",
       "    <tr>\n",
       "      <th>1</th>\n",
       "      <td>Time</td>\n",
       "      <td>7.628428</td>\n",
       "      <td>2</td>\n",
       "      <td>116</td>\n",
       "      <td>3.814214</td>\n",
       "      <td>4.027394</td>\n",
       "      <td>0.020369</td>\n",
       "      <td>0.064929</td>\n",
       "      <td>0.998751</td>\n",
       "    </tr>\n",
       "    <tr>\n",
       "      <th>2</th>\n",
       "      <td>Interaction</td>\n",
       "      <td>5.167192</td>\n",
       "      <td>2</td>\n",
       "      <td>116</td>\n",
       "      <td>2.583596</td>\n",
       "      <td>2.727996</td>\n",
       "      <td>0.069545</td>\n",
       "      <td>0.044922</td>\n",
       "      <td>NaN</td>\n",
       "    </tr>\n",
       "  </tbody>\n",
       "</table>\n",
       "</div>"
      ],
      "text/plain": [
       "        Source        SS  DF1  DF2        MS         F     p-unc       np2  \\\n",
       "0        Group  5.459963    1   58  5.459963  5.051709  0.028420  0.080120   \n",
       "1         Time  7.628428    2  116  3.814214  4.027394  0.020369  0.064929   \n",
       "2  Interaction  5.167192    2  116  2.583596  2.727996  0.069545  0.044922   \n",
       "\n",
       "        eps  \n",
       "0       NaN  \n",
       "1  0.998751  \n",
       "2       NaN  "
      ]
     },
     "execution_count": 25,
     "metadata": {},
     "output_type": "execute_result"
    }
   ],
   "source": [
    "pg.mixed_anova(\n",
    "    dv='Scores',\n",
    "    between='Group',\n",
    "    within='Time',\n",
    "    subject='Subject',\n",
    "    data=data_mixed,\n",
    ")"
   ]
  },
  {
   "cell_type": "markdown",
   "metadata": {},
   "source": [
    "### Repeated measures two-way ANOVA\n",
    "\n",
    "In two-way repeated measures ANOVA, there are two within-subjects factors (treatments or time) to study. In the example below:\n",
    "\n",
    "- the same animals were first given inactive treatment and the response measured; then they were given the active treatment and the response measured again\n",
    "- the same animals are first measured for a response after a short duration and then later after a long duration\n",
    "- each animal was first given the inactive treatment and measured for a short and then a long duration; then the same animal was given the active treatment and measured for a short and then a long duration. This is a **repeated measures in both factors** design."
   ]
  },
  {
   "cell_type": "code",
   "execution_count": 26,
   "metadata": {},
   "outputs": [
    {
     "name": "stdout",
     "output_type": "stream",
     "text": [
      "plants    nutrient_level    year    time      num_leaves\n",
      "--------  ----------------  ------  ------  ------------\n",
      "P1        Low               Year1   Week1              4\n",
      "P2        Low               Year1   Week1              3\n",
      "P3        Low               Year1   Week1              6\n",
      "P4        Low               Year1   Week1              5\n",
      "P5        Low               Year1   Week1              5\n",
      "\n"
     ]
    },
    {
     "data": {
      "image/png": "[encoded data removed]",
      "text/plain": [
       "<Figure size 432x288 with 1 Axes>"
      ]
     },
     "metadata": {
      "needs_background": "light"
     },
     "output_type": "display_data"
    }
   ],
   "source": [
    "# we use another dataset to illustrate the concept\n",
    "data_rm2 = pd.read_csv(\"https://reneshbedre.github.io/assets/posts/anova/plants_leaves_two_within.csv\")\n",
    "pg.print_table(data_rm2.head())\n",
    "\n",
    "sns.boxplot(\n",
    "    x='time',\n",
    "    y='num_leaves',\n",
    "    data=data_rm2,\n",
    "    hue='year',\n",
    "    palette='Set2',\n",
    ");"
   ]
  },
  {
   "cell_type": "code",
   "execution_count": 27,
   "metadata": {},
   "outputs": [
    {
     "data": {
      "text/html": [
       "<div>\n",
       "<style scoped>\n",
       "    .dataframe tbody tr th:only-of-type {\n",
       "        vertical-align: middle;\n",
       "    }\n",
       "\n",
       "    .dataframe tbody tr th {\n",
       "        vertical-align: top;\n",
       "    }\n",
       "\n",
       "    .dataframe thead th {\n",
       "        text-align: right;\n",
       "    }\n",
       "</style>\n",
       "<table border=\"1\" class=\"dataframe\">\n",
       "  <thead>\n",
       "    <tr style=\"text-align: right;\">\n",
       "      <th></th>\n",
       "      <th>Source</th>\n",
       "      <th>SS</th>\n",
       "      <th>ddof1</th>\n",
       "      <th>ddof2</th>\n",
       "      <th>MS</th>\n",
       "      <th>F</th>\n",
       "      <th>p-unc</th>\n",
       "      <th>p-GG-corr</th>\n",
       "      <th>np2</th>\n",
       "      <th>eps</th>\n",
       "    </tr>\n",
       "  </thead>\n",
       "  <tbody>\n",
       "    <tr>\n",
       "      <th>0</th>\n",
       "      <td>time</td>\n",
       "      <td>226.88</td>\n",
       "      <td>4</td>\n",
       "      <td>16</td>\n",
       "      <td>56.72</td>\n",
       "      <td>158.6573</td>\n",
       "      <td>0.0000</td>\n",
       "      <td>0.0000</td>\n",
       "      <td>0.9754</td>\n",
       "      <td>0.4212</td>\n",
       "    </tr>\n",
       "    <tr>\n",
       "      <th>1</th>\n",
       "      <td>year</td>\n",
       "      <td>18.00</td>\n",
       "      <td>1</td>\n",
       "      <td>4</td>\n",
       "      <td>18.00</td>\n",
       "      <td>3.6000</td>\n",
       "      <td>0.1306</td>\n",
       "      <td>0.1306</td>\n",
       "      <td>0.4737</td>\n",
       "      <td>1.0000</td>\n",
       "    </tr>\n",
       "    <tr>\n",
       "      <th>2</th>\n",
       "      <td>time * year</td>\n",
       "      <td>0.80</td>\n",
       "      <td>4</td>\n",
       "      <td>16</td>\n",
       "      <td>0.20</td>\n",
       "      <td>1.4545</td>\n",
       "      <td>0.2621</td>\n",
       "      <td>0.2917</td>\n",
       "      <td>0.2667</td>\n",
       "      <td>0.4416</td>\n",
       "    </tr>\n",
       "  </tbody>\n",
       "</table>\n",
       "</div>"
      ],
      "text/plain": [
       "        Source      SS  ddof1  ddof2     MS         F   p-unc  p-GG-corr  \\\n",
       "0         time  226.88      4     16  56.72  158.6573  0.0000     0.0000   \n",
       "1         year   18.00      1      4  18.00    3.6000  0.1306     0.1306   \n",
       "2  time * year    0.80      4     16   0.20    1.4545  0.2621     0.2917   \n",
       "\n",
       "      np2     eps  \n",
       "0  0.9754  0.4212  \n",
       "1  0.4737  1.0000  \n",
       "2  0.2667  0.4416  "
      ]
     },
     "execution_count": 27,
     "metadata": {},
     "output_type": "execute_result"
    }
   ],
   "source": [
    "pg.rm_anova(\n",
    "    dv='num_leaves',\n",
    "    within=['time', 'year'],\n",
    "    subject='plants',\n",
    "    data=data_rm2,\n",
    "    detailed=True,\n",
    ").round(4)"
   ]
  },
  {
   "cell_type": "markdown",
   "metadata": {},
   "source": [
    "We reject the null hypothesis in favor of the alternate hypothesis for time, but not for year and time + year interaction."
   ]
  },
  {
   "cell_type": "markdown",
   "metadata": {},
   "source": [
    "### Repeated-measures ANOVA with statsmodels"
   ]
  },
  {
   "cell_type": "code",
   "execution_count": 28,
   "metadata": {},
   "outputs": [
    {
     "name": "stdout",
     "output_type": "stream",
     "text": [
      "                 Anova\n",
      "========================================\n",
      "          F Value  Num DF  Den DF Pr > F\n",
      "----------------------------------------\n",
      "time      158.6573 4.0000 16.0000 0.0000\n",
      "year        3.6000 1.0000  4.0000 0.1306\n",
      "time:year   1.4545 4.0000 16.0000 0.2621\n",
      "========================================\n",
      "\n"
     ]
    }
   ],
   "source": [
    "from statsmodels.stats.anova import AnovaRM\n",
    "\n",
    "res_rmANOVA = AnovaRM(\n",
    "    data=data_rm2,\n",
    "    depvar='num_leaves',\n",
    "    subject='plants',\n",
    "    within=['time', 'year'],\n",
    ")\n",
    "print(res_rmANOVA.fit())"
   ]
  },
  {
   "cell_type": "markdown",
   "metadata": {},
   "source": [
    "## Two-way ANOVA (also called _two-factor ANOVA_)\n",
    "\n",
    "The data are divided in two ways because each data point is either from an animal given either an inactive or active treatment (one factor) given for either a short or long duration (second factor). If male and female animals were both included you'd need three-way ANOVA, so that each value would be categorized in three ways, i.e. treatment, duration and gender.\n",
    "\n",
    "Two-way ANOVA simultaneously tests 3 null hypotheses and so computes 3 P values:\n",
    "\n",
    "1. There is no **interaction between the two factors** (treatment and duration), i.e. H0 is that the difference in effects between durations is the same in animals given active or inactive treatment, or that the treatment causes the same change in response if given for short or long duration.\n",
    "2. The population means are identical for animals given placebo and active treatment (treatment, i.e. **first factor**), pooling short and long duration.\n",
    "3. The population means are identical for animals given a treatment for short vs. long duration (duration, i.e. **second factor**).\n",
    "\n",
    "\n",
    "### How two-way ANOVA works\n",
    "\n",
    "The bottom row of the ANOVA table quantifies the total variation among all the values, paying no attention to which row or column they are in. It is the **sum-of-squares of the squared difference between each value and the grand mean**. The rest of the table breaks this variability into four components: interaction, differences between rows (on the average), differences between columns (on the average) and variation amoing replicates in the same row and column. Each MS is divided by the residual MS to compute an F ratio, and this is used to obtain a P value.\n",
    "\n",
    "| Source of variation | Sum squares | DF |  MS   |\n",
    "| -------------------:|:----------- | -- | ----- |\n",
    "|   Interaction       |    12896    |  1 | 12896 |\n",
    "| \\+ Between rows     |     5764    |  1 |  5764 |\n",
    "| \\+ Between columns  |     3710    |  1 |  3710 |\n",
    "| \\+ Among replicates |      928    |  8 |   116 |\n",
    "| \\= Total            |    23298    | 11 |       |\n",
    "\n",
    "![Partionining of the sum of squares](https://www.marsja.se/wp-content/uploads/2016/03/two-way-anova-sum-of-squares.png)"
   ]
  },
  {
   "cell_type": "code",
   "execution_count": 29,
   "metadata": {},
   "outputs": [
    {
     "name": "stdout",
     "output_type": "stream",
     "text": [
      "  Ss  Blend    Crop      Yield\n",
      "----  -------  ------  -------\n",
      "   1  Blend X  Wheat       123\n",
      "   2  Blend X  Wheat       156\n",
      "   3  Blend X  Wheat       112\n",
      "   4  Blend X  Wheat       100\n",
      "   5  Blend X  Corn        128\n",
      "\n"
     ]
    },
    {
     "data": {
      "image/png": "[encoded data removed]",
      "text/plain": [
       "<Figure size 432x288 with 1 Axes>"
      ]
     },
     "metadata": {
      "needs_background": "light"
     },
     "output_type": "display_data"
    }
   ],
   "source": [
    "# two-way ANOVA with balanced design (equal n for all level combinations)\n",
    "# but works similar with unbalanced design (thus requires statsmodels)\n",
    "data2 = pg.read_dataset('anova2')\n",
    "pg.print_table(data2.head())\n",
    "sns.pointplot(\n",
    "    data=data2,\n",
    "    x='Crop',\n",
    "    y='Yield',\n",
    "    hue='Blend',\n",
    "    dodge=True,\n",
    "    errwidth=2,\n",
    ");"
   ]
  },
  {
   "cell_type": "code",
   "execution_count": 30,
   "metadata": {},
   "outputs": [
    {
     "data": {
      "text/html": [
       "<div>\n",
       "<style scoped>\n",
       "    .dataframe tbody tr th:only-of-type {\n",
       "        vertical-align: middle;\n",
       "    }\n",
       "\n",
       "    .dataframe tbody tr th {\n",
       "        vertical-align: top;\n",
       "    }\n",
       "\n",
       "    .dataframe thead th {\n",
       "        text-align: right;\n",
       "    }\n",
       "</style>\n",
       "<table border=\"1\" class=\"dataframe\">\n",
       "  <thead>\n",
       "    <tr style=\"text-align: right;\">\n",
       "      <th></th>\n",
       "      <th>Source</th>\n",
       "      <th>SS</th>\n",
       "      <th>DF</th>\n",
       "      <th>MS</th>\n",
       "      <th>F</th>\n",
       "      <th>p-unc</th>\n",
       "      <th>np2</th>\n",
       "    </tr>\n",
       "  </thead>\n",
       "  <tbody>\n",
       "    <tr>\n",
       "      <th>0</th>\n",
       "      <td>Crop</td>\n",
       "      <td>2736.583</td>\n",
       "      <td>2</td>\n",
       "      <td>1368.292</td>\n",
       "      <td>2.525</td>\n",
       "      <td>0.108</td>\n",
       "      <td>0.219</td>\n",
       "    </tr>\n",
       "    <tr>\n",
       "      <th>1</th>\n",
       "      <td>Blend</td>\n",
       "      <td>2.042</td>\n",
       "      <td>1</td>\n",
       "      <td>2.042</td>\n",
       "      <td>0.004</td>\n",
       "      <td>0.952</td>\n",
       "      <td>0.000</td>\n",
       "    </tr>\n",
       "    <tr>\n",
       "      <th>2</th>\n",
       "      <td>Crop * Blend</td>\n",
       "      <td>2360.083</td>\n",
       "      <td>2</td>\n",
       "      <td>1180.042</td>\n",
       "      <td>2.178</td>\n",
       "      <td>0.142</td>\n",
       "      <td>0.195</td>\n",
       "    </tr>\n",
       "    <tr>\n",
       "      <th>3</th>\n",
       "      <td>Residual</td>\n",
       "      <td>9753.250</td>\n",
       "      <td>18</td>\n",
       "      <td>541.847</td>\n",
       "      <td>NaN</td>\n",
       "      <td>NaN</td>\n",
       "      <td>NaN</td>\n",
       "    </tr>\n",
       "  </tbody>\n",
       "</table>\n",
       "</div>"
      ],
      "text/plain": [
       "         Source        SS  DF        MS      F  p-unc    np2\n",
       "0          Crop  2736.583   2  1368.292  2.525  0.108  0.219\n",
       "1         Blend     2.042   1     2.042  0.004  0.952  0.000\n",
       "2  Crop * Blend  2360.083   2  1180.042  2.178  0.142  0.195\n",
       "3      Residual  9753.250  18   541.847    NaN    NaN    NaN"
      ]
     },
     "execution_count": 30,
     "metadata": {},
     "output_type": "execute_result"
    }
   ],
   "source": [
    "data2.anova(\n",
    "    dv=\"Yield\",\n",
    "    between=[\"Crop\", \"Blend\"],\n",
    "    detailed=True,\n",
    ").round(3)"
   ]
  },
  {
   "cell_type": "code",
   "execution_count": 31,
   "metadata": {},
   "outputs": [
    {
     "name": "stdout",
     "output_type": "stream",
     "text": [
      "grand mean for the two-way ANOVA = 145.54166666666666\n"
     ]
    }
   ],
   "source": [
    "grand_mean2 = data2['Yield'].mean()\n",
    "print(f\"grand mean for the two-way ANOVA = {grand_mean2}\")"
   ]
  },
  {
   "cell_type": "code",
   "execution_count": 32,
   "metadata": {},
   "outputs": [
    {
     "data": {
      "text/html": [
       "<div>\n",
       "<style scoped>\n",
       "    .dataframe tbody tr th:only-of-type {\n",
       "        vertical-align: middle;\n",
       "    }\n",
       "\n",
       "    .dataframe tbody tr th {\n",
       "        vertical-align: top;\n",
       "    }\n",
       "\n",
       "    .dataframe thead th {\n",
       "        text-align: right;\n",
       "    }\n",
       "</style>\n",
       "<table border=\"1\" class=\"dataframe\">\n",
       "  <thead>\n",
       "    <tr style=\"text-align: right;\">\n",
       "      <th></th>\n",
       "      <th>mean</th>\n",
       "      <th>count</th>\n",
       "    </tr>\n",
       "    <tr>\n",
       "      <th>Crop</th>\n",
       "      <th></th>\n",
       "      <th></th>\n",
       "    </tr>\n",
       "  </thead>\n",
       "  <tbody>\n",
       "    <tr>\n",
       "      <th>Corn</th>\n",
       "      <td>147.750</td>\n",
       "      <td>8.0</td>\n",
       "    </tr>\n",
       "    <tr>\n",
       "      <th>Soy</th>\n",
       "      <td>157.375</td>\n",
       "      <td>8.0</td>\n",
       "    </tr>\n",
       "    <tr>\n",
       "      <th>Wheat</th>\n",
       "      <td>131.500</td>\n",
       "      <td>8.0</td>\n",
       "    </tr>\n",
       "  </tbody>\n",
       "</table>\n",
       "</div>"
      ],
      "text/plain": [
       "          mean  count\n",
       "Crop                 \n",
       "Corn   147.750    8.0\n",
       "Soy    157.375    8.0\n",
       "Wheat  131.500    8.0"
      ]
     },
     "execution_count": 32,
     "metadata": {},
     "output_type": "execute_result"
    }
   ],
   "source": [
    "data2_crop = data2.groupby('Crop').describe().loc[:, ('Yield', ['mean', 'count'])].droplevel(level=0, axis=1)\n",
    "data2_crop"
   ]
  },
  {
   "cell_type": "markdown",
   "metadata": {},
   "source": [
    "We first calculate the sum of squares for the 1st factor 'Crop'. For each Crop, we calculate the **difference of its group mean to the grand mean and square it, and add it up for all the individual values**.\n",
    "For example, the Yield mean in the Corn, Soy and Wheat Corn groups are respectively 147.75, 157.375 and 131.5, and the Yield grand mean equals 145.5, and there are 8 values un each groups."
   ]
  },
  {
   "cell_type": "code",
   "execution_count": 33,
   "metadata": {},
   "outputs": [
    {
     "name": "stdout",
     "output_type": "stream",
     "text": [
      "SS for factor 1 (Crop) = 2736.583\n",
      "Degree of freedom for Crop factor: DF_crop = 2\n"
     ]
    }
   ],
   "source": [
    "SS_crop = 8 * (147.75 - grand_mean2)**2 + 8 * (157.375 - grand_mean2)**2 + 8 * (131.5 - grand_mean2)**2\n",
    "print(f\"SS for factor 1 (Crop) = {SS_crop:.3f}\") # corresponds to the SS on the 1st line of the ANOVA table\n",
    "\n",
    "DF_crop = data2['Crop'].nunique() - 1\n",
    "print(f\"Degree of freedom for Crop factor: DF_crop = {DF_crop}\")"
   ]
  },
  {
   "cell_type": "code",
   "execution_count": 34,
   "metadata": {},
   "outputs": [
    {
     "data": {
      "text/html": [
       "<div>\n",
       "<style scoped>\n",
       "    .dataframe tbody tr th:only-of-type {\n",
       "        vertical-align: middle;\n",
       "    }\n",
       "\n",
       "    .dataframe tbody tr th {\n",
       "        vertical-align: top;\n",
       "    }\n",
       "\n",
       "    .dataframe thead th {\n",
       "        text-align: right;\n",
       "    }\n",
       "</style>\n",
       "<table border=\"1\" class=\"dataframe\">\n",
       "  <thead>\n",
       "    <tr style=\"text-align: right;\">\n",
       "      <th></th>\n",
       "      <th>mean</th>\n",
       "      <th>count</th>\n",
       "      <th>SS_crop</th>\n",
       "    </tr>\n",
       "    <tr>\n",
       "      <th>Crop</th>\n",
       "      <th></th>\n",
       "      <th></th>\n",
       "      <th></th>\n",
       "    </tr>\n",
       "  </thead>\n",
       "  <tbody>\n",
       "    <tr>\n",
       "      <th>Corn</th>\n",
       "      <td>147.750</td>\n",
       "      <td>8.0</td>\n",
       "      <td>39.013889</td>\n",
       "    </tr>\n",
       "    <tr>\n",
       "      <th>Soy</th>\n",
       "      <td>157.375</td>\n",
       "      <td>8.0</td>\n",
       "      <td>1120.222222</td>\n",
       "    </tr>\n",
       "    <tr>\n",
       "      <th>Wheat</th>\n",
       "      <td>131.500</td>\n",
       "      <td>8.0</td>\n",
       "      <td>1577.347222</td>\n",
       "    </tr>\n",
       "    <tr>\n",
       "      <th>sum</th>\n",
       "      <td>436.625</td>\n",
       "      <td>24.0</td>\n",
       "      <td>2736.583333</td>\n",
       "    </tr>\n",
       "  </tbody>\n",
       "</table>\n",
       "</div>"
      ],
      "text/plain": [
       "          mean  count      SS_crop\n",
       "Crop                              \n",
       "Corn   147.750    8.0    39.013889\n",
       "Soy    157.375    8.0  1120.222222\n",
       "Wheat  131.500    8.0  1577.347222\n",
       "sum    436.625   24.0  2736.583333"
      ]
     },
     "execution_count": 34,
     "metadata": {},
     "output_type": "execute_result"
    }
   ],
   "source": [
    "# we can run that directly in the data2_crop dataframe\n",
    "data2_crop['SS_crop'] = data2_crop['count'] * (data2_crop['mean'] - grand_mean2)**2\n",
    "data2_crop.loc['sum'] = data2_crop.sum(axis=0)\n",
    "data2_crop"
   ]
  },
  {
   "cell_type": "code",
   "execution_count": 35,
   "metadata": {},
   "outputs": [
    {
     "data": {
      "text/html": [
       "<div>\n",
       "<style scoped>\n",
       "    .dataframe tbody tr th:only-of-type {\n",
       "        vertical-align: middle;\n",
       "    }\n",
       "\n",
       "    .dataframe tbody tr th {\n",
       "        vertical-align: top;\n",
       "    }\n",
       "\n",
       "    .dataframe thead th {\n",
       "        text-align: right;\n",
       "    }\n",
       "</style>\n",
       "<table border=\"1\" class=\"dataframe\">\n",
       "  <thead>\n",
       "    <tr style=\"text-align: right;\">\n",
       "      <th></th>\n",
       "      <th>mean</th>\n",
       "      <th>count</th>\n",
       "      <th>SS_blend</th>\n",
       "    </tr>\n",
       "    <tr>\n",
       "      <th>Blend</th>\n",
       "      <th></th>\n",
       "      <th></th>\n",
       "      <th></th>\n",
       "    </tr>\n",
       "  </thead>\n",
       "  <tbody>\n",
       "    <tr>\n",
       "      <th>Blend X</th>\n",
       "      <td>145.250000</td>\n",
       "      <td>12.0</td>\n",
       "      <td>1.020833</td>\n",
       "    </tr>\n",
       "    <tr>\n",
       "      <th>Blend Y</th>\n",
       "      <td>145.833333</td>\n",
       "      <td>12.0</td>\n",
       "      <td>1.020833</td>\n",
       "    </tr>\n",
       "    <tr>\n",
       "      <th>sum</th>\n",
       "      <td>291.083333</td>\n",
       "      <td>24.0</td>\n",
       "      <td>2.041667</td>\n",
       "    </tr>\n",
       "  </tbody>\n",
       "</table>\n",
       "</div>"
      ],
      "text/plain": [
       "               mean  count  SS_blend\n",
       "Blend                               \n",
       "Blend X  145.250000   12.0  1.020833\n",
       "Blend Y  145.833333   12.0  1.020833\n",
       "sum      291.083333   24.0  2.041667"
      ]
     },
     "execution_count": 35,
     "metadata": {},
     "output_type": "execute_result"
    }
   ],
   "source": [
    "# For the sum of squares for the 2nd factor 'Blend', we use a similar approach.\n",
    "data2_blend = data2.groupby('Blend').describe().loc[:, ('Yield', ['mean', 'count'])].droplevel(level=0, axis=1)\n",
    "data2_blend['SS_blend'] = data2_blend['count'] * (data2_blend['mean'] - grand_mean2)**2\n",
    "data2_blend.loc['sum'] = data2_blend.sum(axis=0)\n",
    "data2_blend"
   ]
  },
  {
   "cell_type": "code",
   "execution_count": 36,
   "metadata": {},
   "outputs": [
    {
     "name": "stdout",
     "output_type": "stream",
     "text": [
      "SS for factor 2 (Blend) = 2.042\n",
      "Degree of freedom for Blend factor: DF_blend = 1\n"
     ]
    }
   ],
   "source": [
    "SS_blend = 12 * (145.25 - grand_mean2)**2 + 12 * (145.833333 - grand_mean2)**2\n",
    "print(f\"SS for factor 2 (Blend) = {SS_blend:.3f}\") # corresponds to the SS on the 2nd line of the ANOVA table\n",
    "\n",
    "DF_blend = data2['Blend'].nunique() - 1\n",
    "print(f\"Degree of freedom for Blend factor: DF_blend = {DF_blend}\")"
   ]
  },
  {
   "cell_type": "markdown",
   "metadata": {},
   "source": [
    "The approach for residuals/error is similar to the SSW computed for one-way ANOVA, here using the 'Crop' and 'Blend' subgroups and calculating the sum of squares for each individual value. The degree of freedom for the within sum of squares equals **the number of factor 'Crop' times the number of factors 'Blend' times the number of replicates in each combination of factor minus 1**. Of note, _the degrees of freedom for the interaction 'Crop*Blend' is equal to the product of the degrees of freedom for the individual factors._"
   ]
  },
  {
   "cell_type": "code",
   "execution_count": 37,
   "metadata": {},
   "outputs": [
    {
     "name": "stdout",
     "output_type": "stream",
     "text": [
      "SS for residuals/within = 9753.250\n",
      "Degree of freedom for within: DF_within = 18\n"
     ]
    }
   ],
   "source": [
    "SSW_2 = (\n",
    "    data2.groupby(['Crop', 'Blend'])['Yield']\n",
    "    .apply(lambda x: (x - x.mean())**2)\n",
    ").sum()\n",
    "\n",
    "print(f\"SS for residuals/within = {SSW_2:.3f}\") # corresponds to the SS on the last line of the ANOVA table\n",
    "\n",
    "replicates = data2.groupby(['Crop', 'Blend']).count().iloc[0,0]\n",
    "DF_W = (DF_crop + 1) * (DF_blend + 1) * (replicates - 1)\n",
    "print(f\"Degree of freedom for within: DF_within = {DF_W}\")"
   ]
  },
  {
   "cell_type": "markdown",
   "metadata": {},
   "source": [
    "Finally, we calculate the total SS, as the squared difference of each value to the grand mean. It's exactly the same as for one-way ANOVA. _The degrees of freedom total is equal to the total number of values minus 1._"
   ]
  },
  {
   "cell_type": "code",
   "execution_count": 38,
   "metadata": {},
   "outputs": [
    {
     "name": "stdout",
     "output_type": "stream",
     "text": [
      "SST = 14851.958\n",
      "Degree of freedom Total DF_total = 23\n"
     ]
    }
   ],
   "source": [
    "SST_2 = (\n",
    "    (\n",
    "        data2['Yield'] -\n",
    "        data2['Yield'].mean() # or grand_mean2\n",
    "    )**2\n",
    ").sum()\n",
    "\n",
    "print(f\"SST = {SST_2:.3f}\") # corresponds to the sum of all the SS in the ANOVA table\n",
    "\n",
    "DF_T = len(data2) - 1\n",
    "print(f\"Degree of freedom Total DF_total = {DF_T}\")"
   ]
  },
  {
   "cell_type": "markdown",
   "metadata": {},
   "source": [
    "We then complete the ANOVA table and compute the F ratio for each factor and interaction as in one-way ANOVA, first by completing the values for the interaction or 'both factors' row, knowing that the SS sum up together as the degrees of freedom:\n",
    "\n",
    "| Source of variation | Sum squares | DF |  MS    | F ratio | P value |\n",
    "|:-------------------:|:----------- | -- | ------ | ------- | ------- |\n",
    "|    Factor 1 (Crop)  |   2736.58   |  2 | 1368.3 |  2.525  |  0.108  | \n",
    "| \\+ Factor 2 (Blend) |      2.04   |  1 |    2.0 |  0.004  |  0.952  |\n",
    "| \\+ both factors     |   2360.08   |  2 | 1180.0 |  2.178  |  0.142  |\n",
    "| \\+ Within (error)   |   9753.25   | 18 |  541.8 |         |         |\n",
    "| \\= Total            |  14851.96   | 23 |        |         |         |"
   ]
  },
  {
   "cell_type": "code",
   "execution_count": 39,
   "metadata": {},
   "outputs": [
    {
     "name": "stdout",
     "output_type": "stream",
     "text": [
      "SS for interaction SS_B = 2360.083 with 2 degrees of freedom\n"
     ]
    }
   ],
   "source": [
    "SSB_2 = SST_2 - (SS_blend + SS_crop + SSW_2)\n",
    "DF_B  = DF_T  - (DF_blend + DF_crop + DF_W )\n",
    "\n",
    "print(f\"SS for interaction SS_B = {SSB_2:.3f} with {DF_B} degrees of freedom\") # corresponds to the SS Crop*Blend in the ANOVA table"
   ]
  },
  {
   "cell_type": "code",
   "execution_count": 40,
   "metadata": {},
   "outputs": [
    {
     "name": "stdout",
     "output_type": "stream",
     "text": [
      "*For factor Within, MS = 541.85\n",
      "*For factor Crop, P value = 0.108 with F ratio = 2.525  and MS = 1368.29\n",
      "*For factor Blend, P value = 0.952 with F ratio = 0.004 and MS = 2.04\n",
      "*For factor Crop*Blend, P value = 0.142 with F ratio = 2.178 and MS = 1180.04\n"
     ]
    }
   ],
   "source": [
    "MS_crop = SS_crop / DF_crop\n",
    "MS_blend= SS_blend/ DF_blend\n",
    "MS_W2   = SSW_2   / DF_W\n",
    "MS_B2   = SSB_2   / DF_B\n",
    "\n",
    "F_crop  = MS_crop / MS_W2\n",
    "F_blend = MS_blend/ MS_W2\n",
    "F_B2    = MS_B2   / MS_W2\n",
    "\n",
    "Pvalue_crop = stats.f.sf(F_crop, DF_crop, DF_W)\n",
    "Pvalue_blend= stats.f.sf(F_blend,DF_blend,DF_W)\n",
    "Pvalue_B2   = stats.f.sf(F_B2,   DF_B    ,DF_W)\n",
    "\n",
    "print(f\"*For factor Within, MS = {MS_W2:.2f}\")\n",
    "\n",
    "print(f\"*For factor Crop, P value = {Pvalue_crop:.3f} with F ratio = {F_crop:.3f}  and MS = {MS_crop:.2f}\")\n",
    "print(f\"*For factor Blend, P value = {Pvalue_blend:.3f} with F ratio = {F_blend:.3f} and MS = {MS_blend:.2f}\")\n",
    "print(f\"*For factor Crop*Blend, P value = {Pvalue_B2:.3f} with F ratio = {F_B2:.3f} and MS = {MS_B2:.2f}\")"
   ]
  },
  {
   "cell_type": "markdown",
   "metadata": {},
   "source": [
    "### ANCOVA\n",
    "\n",
    "Analysis of covariance (ANCOVA) is a general linear model which blends ANOVA and regression. It's a model that is equivalent to multiple linear regression when **at least one independent variable is categorical and at least one is continuous**.\n",
    "\n",
    "ANCOVA evaluates whether the means of a dependent variable (dv) are equal across levels of a categorical independent variable (between) often called a treatment, while statistically controlling for the effects of other continuous variables that are not of primary interest, known as covariates or nuisance variables (covar)."
   ]
  },
  {
   "cell_type": "code",
   "execution_count": 41,
   "metadata": {},
   "outputs": [
    {
     "data": {
      "text/html": [
       "<div>\n",
       "<style scoped>\n",
       "    .dataframe tbody tr th:only-of-type {\n",
       "        vertical-align: middle;\n",
       "    }\n",
       "\n",
       "    .dataframe tbody tr th {\n",
       "        vertical-align: top;\n",
       "    }\n",
       "\n",
       "    .dataframe thead th {\n",
       "        text-align: right;\n",
       "    }\n",
       "</style>\n",
       "<table border=\"1\" class=\"dataframe\">\n",
       "  <thead>\n",
       "    <tr style=\"text-align: right;\">\n",
       "      <th></th>\n",
       "      <th>Scores</th>\n",
       "      <th>Income</th>\n",
       "      <th>BMI</th>\n",
       "      <th>Method</th>\n",
       "    </tr>\n",
       "  </thead>\n",
       "  <tbody>\n",
       "    <tr>\n",
       "      <th>0</th>\n",
       "      <td>12</td>\n",
       "      <td>17.5</td>\n",
       "      <td>20</td>\n",
       "      <td>A</td>\n",
       "    </tr>\n",
       "    <tr>\n",
       "      <th>1</th>\n",
       "      <td>39</td>\n",
       "      <td>104.6</td>\n",
       "      <td>20</td>\n",
       "      <td>A</td>\n",
       "    </tr>\n",
       "    <tr>\n",
       "      <th>2</th>\n",
       "      <td>36</td>\n",
       "      <td>64.7</td>\n",
       "      <td>24</td>\n",
       "      <td>A</td>\n",
       "    </tr>\n",
       "    <tr>\n",
       "      <th>3</th>\n",
       "      <td>17</td>\n",
       "      <td>47.0</td>\n",
       "      <td>19</td>\n",
       "      <td>A</td>\n",
       "    </tr>\n",
       "    <tr>\n",
       "      <th>4</th>\n",
       "      <td>25</td>\n",
       "      <td>22.0</td>\n",
       "      <td>21</td>\n",
       "      <td>A</td>\n",
       "    </tr>\n",
       "  </tbody>\n",
       "</table>\n",
       "</div>"
      ],
      "text/plain": [
       "   Scores  Income  BMI Method\n",
       "0      12    17.5   20      A\n",
       "1      39   104.6   20      A\n",
       "2      36    64.7   24      A\n",
       "3      17    47.0   19      A\n",
       "4      25    22.0   21      A"
      ]
     },
     "execution_count": 41,
     "metadata": {},
     "output_type": "execute_result"
    }
   ],
   "source": [
    "data_ancova = pg.read_dataset('ancova')\n",
    "data_ancova.head()"
   ]
  },
  {
   "cell_type": "code",
   "execution_count": 42,
   "metadata": {},
   "outputs": [
    {
     "data": {
      "image/png": "[encoded data removed]",
      "text/plain": [
       "<Figure size 720x288 with 2 Axes>"
      ]
     },
     "metadata": {
      "needs_background": "light"
     },
     "output_type": "display_data"
    }
   ],
   "source": [
    "plt.figure(figsize=(10,4))\n",
    "plt.subplot(121)\n",
    "sns.lineplot(\n",
    "    x='Income',\n",
    "    y='Scores',\n",
    "    data=data_ancova,\n",
    "    hue='Method',\n",
    ")\n",
    "\n",
    "plt.subplot(122)\n",
    "sns.lineplot(\n",
    "    x='BMI',\n",
    "    y='Scores',\n",
    "    data=data_ancova,\n",
    "    hue='Method',\n",
    ");"
   ]
  },
  {
   "cell_type": "code",
   "execution_count": 43,
   "metadata": {},
   "outputs": [
    {
     "data": {
      "image/png": "[encoded data removed]",
      "text/plain": [
       "<Figure size 333.375x288 with 1 Axes>"
      ]
     },
     "metadata": {
      "needs_background": "light"
     },
     "output_type": "display_data"
    }
   ],
   "source": [
    "pg.plot_rm_corr(\n",
    "    data=data_ancova,\n",
    "    x='Income',\n",
    "    y='Scores',\n",
    "    subject='Method',\n",
    "    legend=True,\n",
    ");"
   ]
  },
  {
   "cell_type": "code",
   "execution_count": 44,
   "metadata": {},
   "outputs": [
    {
     "data": {
      "text/html": [
       "<div>\n",
       "<style scoped>\n",
       "    .dataframe tbody tr th:only-of-type {\n",
       "        vertical-align: middle;\n",
       "    }\n",
       "\n",
       "    .dataframe tbody tr th {\n",
       "        vertical-align: top;\n",
       "    }\n",
       "\n",
       "    .dataframe thead th {\n",
       "        text-align: right;\n",
       "    }\n",
       "</style>\n",
       "<table border=\"1\" class=\"dataframe\">\n",
       "  <thead>\n",
       "    <tr style=\"text-align: right;\">\n",
       "      <th></th>\n",
       "      <th>Source</th>\n",
       "      <th>SS</th>\n",
       "      <th>DF</th>\n",
       "      <th>F</th>\n",
       "      <th>p-unc</th>\n",
       "      <th>np2</th>\n",
       "    </tr>\n",
       "  </thead>\n",
       "  <tbody>\n",
       "    <tr>\n",
       "      <th>0</th>\n",
       "      <td>Method</td>\n",
       "      <td>552.284043</td>\n",
       "      <td>3</td>\n",
       "      <td>3.232550</td>\n",
       "      <td>0.036113</td>\n",
       "      <td>0.244288</td>\n",
       "    </tr>\n",
       "    <tr>\n",
       "      <th>1</th>\n",
       "      <td>Income</td>\n",
       "      <td>1573.952434</td>\n",
       "      <td>1</td>\n",
       "      <td>27.637304</td>\n",
       "      <td>0.000011</td>\n",
       "      <td>0.479504</td>\n",
       "    </tr>\n",
       "    <tr>\n",
       "      <th>2</th>\n",
       "      <td>BMI</td>\n",
       "      <td>60.013656</td>\n",
       "      <td>1</td>\n",
       "      <td>1.053790</td>\n",
       "      <td>0.312842</td>\n",
       "      <td>0.033934</td>\n",
       "    </tr>\n",
       "    <tr>\n",
       "      <th>3</th>\n",
       "      <td>Residual</td>\n",
       "      <td>1708.508657</td>\n",
       "      <td>30</td>\n",
       "      <td>NaN</td>\n",
       "      <td>NaN</td>\n",
       "      <td>NaN</td>\n",
       "    </tr>\n",
       "  </tbody>\n",
       "</table>\n",
       "</div>"
      ],
      "text/plain": [
       "     Source           SS  DF          F     p-unc       np2\n",
       "0    Method   552.284043   3   3.232550  0.036113  0.244288\n",
       "1    Income  1573.952434   1  27.637304  0.000011  0.479504\n",
       "2       BMI    60.013656   1   1.053790  0.312842  0.033934\n",
       "3  Residual  1708.508657  30        NaN       NaN       NaN"
      ]
     },
     "execution_count": 44,
     "metadata": {},
     "output_type": "execute_result"
    }
   ],
   "source": [
    "# Evaluating the scores with different method and income or BMI as a covariate\n",
    "pg.ancova(data=data_ancova, dv='Scores', covar=['Income', 'BMI'], between='Method')"
   ]
  },
  {
   "cell_type": "markdown",
   "metadata": {},
   "source": [
    "# Multiple comparison tests after ANOVA\n",
    "\n",
    "Depending on the scientific goals, ANOVA tests the overall null hypothesis that all the data come from the groups that have identical means. If that is your experimental question, i.e. do the data provide convincing evidence that the means are not all identical, then ANOVA is exactly what you want. If the experimental questions are more focused and can be answered by multiple comparisons tests, you can safely ignore the overall ANOVA results and jump right to the results of multiple comparisons. Note that the multiple comparisons calculations all use the mean square result from the ANOVA table. Consequently, even if you don't care about the value of F and the P value, the multiple comparisons tests still require that the ANOVA table be computed.\n",
    "\n",
    "The goal is to compare every mean with every other mean. To avoid getting fooled by bogus statistically significant conclusions, the significance level is refined to apply to an entire family of comparisons, rather than to each individual comparisons. Using the new definition of statistical significance will reduce the chance of obtaining false reports of statistically significance (type I errors) but at the cost of reducing the power to detect real differences (type II errors).  \n",
    "\n",
    "To choose a multiple comparison test, you must articulate the goals of the study:\n",
    "\n",
    "- compare each group mean to every other group mean (Tukey's/Tukey-Kramer)\n",
    "- each group mean to a control group mean (Dunnett)\n",
    "- only compare a small set of pairs of group means (Bonferroni or Holm)\n",
    "- or compare _constrasts_, e.g. the mean of groups A and B with the mean of groups C, D and E (Scheffe)\n",
    "\n",
    "Correcting for multiple comparisons reduces the risk of a Type I error but at the cost of increasing the risk of Type II error. [Rothman](https://pubmed.ncbi.nlm.nih.gov/2081237/) argues that this trade-off is not worth it and recommends that researchers not correct for multiple comparisons. Instead it is essential to report all the comparisons so that people reading the research can informally correct for multiple comparisons. This recommendation is sensible but not the mainstream.\n",
    "\n",
    "When one or a gew comparisons are clearly defined in advance as being critical, some statisticians advocate not using any correction for multiple comparisons. This approach is called _planned comparisons_. The statistical principles of this approach are fairly straightforward and do not generate much controversy, however that doesn't make it easy to decide what to do in a particular situation. Reasonable statisticians disagree."
   ]
  },
  {
   "cell_type": "markdown",
   "metadata": {},
   "source": [
    "## Tukey\n",
    "\n",
    "The results of Tukey (or more generally Tuker-Kramer test which allows for unequal sample size) include both CIs and conclusions about statistical significance."
   ]
  },
  {
   "cell_type": "code",
   "execution_count": 45,
   "metadata": {
    "scrolled": true
   },
   "outputs": [
    {
     "name": "stdout",
     "output_type": "stream",
     "text": [
      "        Multiple Comparison of Means - Tukey HSD, FWER=0.05         \n",
      "====================================================================\n",
      "    group1        group2     meandiff p-adj   lower    upper  reject\n",
      "--------------------------------------------------------------------\n",
      "   Dark Blond  Dark Brunette    -13.8 0.0742 -28.6977  1.0977  False\n",
      "   Dark Blond    Light Blond      8.0 0.4369  -6.8977 22.8977  False\n",
      "   Dark Blond Light Brunette     -8.7  0.416 -24.5014  7.1014  False\n",
      "Dark Brunette    Light Blond     21.8 0.0037   6.9023 36.6977   True\n",
      "Dark Brunette Light Brunette      5.1 0.7697 -10.7014 20.9014  False\n",
      "  Light Blond Light Brunette    -16.7 0.0367 -32.5014 -0.8986   True\n",
      "--------------------------------------------------------------------\n"
     ]
    }
   ],
   "source": [
    "mult_comp = sm.stats.multicomp.pairwise_tukeyhsd(\n",
    "    data['Pain threshold'],\n",
    "    data['Hair color'],\n",
    ")\n",
    "# Tukey's Honestly Significant Difference\n",
    "print(mult_comp.summary())"
   ]
  },
  {
   "cell_type": "markdown",
   "metadata": {},
   "source": [
    "These are multiple comparisons CIs, so the 95% confidence level applies to the entire family of comparisons, rather than to each individual interval. There is a 95% change that all three of these CIs include the true population value, leaving a 5% chance that any one or more of the intervals does not include the population value.  \n",
    "If a 95% CI for the difference between two means include zero (H0) then the difference is not statistically significant (P>0.05).  \n",
    "The 5% significance level is a **familywise significance level**, meaning that it applies to the entire set of comparisons. If the null hypothesis is true, there is a 5% chance that one or more of the comparisaons will be statistically significant. The _yes/no_ conclusions apply to each comparison individually. Said differently, there is a 95% chance that none of the comparisons will be declared statistically significant.\n",
    "\n",
    "In summary, for a family of comparisons, if all null hypotheses were true, there is a 5% chance that random sampling would lead to one or more incorrect conclusions that there is a real difference between the mean of two groups.\n",
    "\n",
    "In the previous multiple comparison table, the CI of the difference between the mean of `Dark Brunette` and `Light Blond` does not include zero, so that the difference is statistically significant.  \n",
    "\n",
    "It really doesn't make sense to think about whether one particular comparison is statistically significant (accounting for the rest). Instead, think that the method divides the family of comparisons into two piles, those that are deemed to be statistically significant and those that are not. **Think about the set of differences deemed to be statistically significant, not about individual comparisons.**"
   ]
  },
  {
   "cell_type": "code",
   "execution_count": 46,
   "metadata": {},
   "outputs": [
    {
     "data": {
      "text/plain": [
       "array([[29.79538132],\n",
       "       [29.79538132],\n",
       "       [31.60277427],\n",
       "       [29.79538132],\n",
       "       [31.60277427],\n",
       "       [31.60277427]])"
      ]
     },
     "execution_count": 46,
     "metadata": {},
     "output_type": "execute_result"
    }
   ],
   "source": [
    "np.diff(mult_comp.confint) # same CI for all three comparisons (see end of this part)"
   ]
  },
  {
   "cell_type": "markdown",
   "metadata": {},
   "source": [
    "When computing most multiple comparisons tests, the SD for difference between 2 means is not computed from the SDs of those two groups but rather from the pooled SD of all the groups. Given the assumptions of the analysis, there is a 95% chance that all of these CIs include the true population value, leaving a 5% chance that _any one or more_ of the intervals does not include the population value.  \n",
    "\n",
    "The margin of error of the CI is computed by multiplying the SE of the difference by a critical value that depends on the choice of test, the number of df, the degree of confidence desired and the number of comparisons:\n",
    "$$\n",
    "\\bar{y_i} - \\bar{y_j} \\pm t_{1-\\alpha/2}\\sqrt{\\frac{\\mathrm{SSE}}{n-k}\\left(\\frac{1}{n_i}+\\frac{1}{n_j}\\right)}\n",
    "$$\n",
    "\n",
    "with $$ t = \\frac{\\bar{x_i} - \\bar{x_j}}{\\sqrt{2 . \\mathrm{MS_w} / n}} $$\n",
    "\n",
    "and $$\\mathrm{MSE} = \\frac{\\mathrm{SSE}}{n-k} = s_p^2$$\n",
    "\n",
    "with $s_p^2$ the pooled variance."
   ]
  },
  {
   "cell_type": "code",
   "execution_count": 47,
   "metadata": {
    "scrolled": true
   },
   "outputs": [
    {
     "name": "stderr",
     "output_type": "stream",
     "text": [
      "C:\\Users\\WIECKOWS\\AppData\\Local\\Programs\\Python\\Python39\\lib\\site-packages\\statsmodels\\sandbox\\stats\\multicomp.py:775: UserWarning: FixedFormatter should only be used together with FixedLocator\n",
      "  ax1.set_yticklabels(np.insert(self.groupsunique.astype(str), 0, ''))\n"
     ]
    },
    {
     "data": {
      "image/png": "[encoded data removed]",
      "text/plain": [
       "<Figure size 720x432 with 1 Axes>"
      ]
     },
     "metadata": {
      "needs_background": "light"
     },
     "output_type": "display_data"
    }
   ],
   "source": [
    "_ = mult_comp.plot_simultaneous(\n",
    "    comparison_name='Light Blond',\n",
    "    xlabel='Pain threshold',\n",
    "    ylabel='Hair color',\n",
    ")"
   ]
  },
  {
   "cell_type": "markdown",
   "metadata": {},
   "source": [
    "## Dunnett's test\n",
    "\n",
    "If one of the groups in the study is considered the control group, then we should use Dunnett's test as the post-hoc test following the ANOVA. The Dunnett's test **compares the mean of each group to the mean of a control group** without comparing the other groups among themselves. The test makes fewer comparisons than Tukey's method, so it generates narrower CIs and has more power to detect differences.\n",
    "\n",
    "Unfortunately, Dunnett's test is not yet implemented in Python but [only in R](https://rdrr.io/cran/DescTools/man/DunnettTest.html), see also [PMCMRplus](https://rdrr.io/cran/PMCMRplus/). See also more recently another solution using Scipy and SAS description [here](https://github.com/maximtrp/scikit-posthocs/issues/24#issuecomment-1210047534).\n",
    "\n",
    "Yet we can perform the Dunnett's test manually. The Dunnett's test statistic is computed as $$ D = t_\\mathrm{Dunnett}\\sqrt{2\\frac{\\mathrm{MSW}}{n}} $$\n",
    "\n",
    "with $\\mathrm{MSW}$ the mean square of the within group and n the size of the group samples.\n",
    "\n",
    "Using the example of Pain Threshold in Hair colors, with $\\mathrm{MS} = 66.8$, we can look into the [Dunnett's table](https://www.statology.org/dunnetts-table/) to find the critical value for $n=5$, $N=4$ (number of groups including the control group) and $\\alpha=0.05$, $t_\\mathrm{Dunnett} = 3.29$. Thus $D = 65.86$.\n",
    "\n",
    "We now compare the differences in group means to the D value, for each group and the control group, here `Light Blond`. When the absolute difference between onoe group and the control group is higher than the D value, then we can say it reached the significance level of 0.05."
   ]
  },
  {
   "cell_type": "code",
   "execution_count": 48,
   "metadata": {},
   "outputs": [
    {
     "data": {
      "text/html": [
       "<div>\n",
       "<style scoped>\n",
       "    .dataframe tbody tr th:only-of-type {\n",
       "        vertical-align: middle;\n",
       "    }\n",
       "\n",
       "    .dataframe tbody tr th {\n",
       "        vertical-align: top;\n",
       "    }\n",
       "\n",
       "    .dataframe thead th {\n",
       "        text-align: right;\n",
       "    }\n",
       "</style>\n",
       "<table border=\"1\" class=\"dataframe\">\n",
       "  <thead>\n",
       "    <tr style=\"text-align: right;\">\n",
       "      <th></th>\n",
       "      <th>count</th>\n",
       "      <th>mean</th>\n",
       "      <th>std</th>\n",
       "      <th>min</th>\n",
       "      <th>25%</th>\n",
       "      <th>50%</th>\n",
       "      <th>75%</th>\n",
       "      <th>max</th>\n",
       "    </tr>\n",
       "    <tr>\n",
       "      <th>Hair color</th>\n",
       "      <th></th>\n",
       "      <th></th>\n",
       "      <th></th>\n",
       "      <th></th>\n",
       "      <th></th>\n",
       "      <th></th>\n",
       "      <th></th>\n",
       "      <th></th>\n",
       "    </tr>\n",
       "  </thead>\n",
       "  <tbody>\n",
       "    <tr>\n",
       "      <th>Dark Blond</th>\n",
       "      <td>5.0</td>\n",
       "      <td>51.2</td>\n",
       "      <td>9.284396</td>\n",
       "      <td>41.0</td>\n",
       "      <td>43.0</td>\n",
       "      <td>52.0</td>\n",
       "      <td>57.0</td>\n",
       "      <td>63.0</td>\n",
       "    </tr>\n",
       "    <tr>\n",
       "      <th>Dark Brunette</th>\n",
       "      <td>5.0</td>\n",
       "      <td>37.4</td>\n",
       "      <td>8.324662</td>\n",
       "      <td>30.0</td>\n",
       "      <td>32.0</td>\n",
       "      <td>35.0</td>\n",
       "      <td>39.0</td>\n",
       "      <td>51.0</td>\n",
       "    </tr>\n",
       "    <tr>\n",
       "      <th>Light Blond</th>\n",
       "      <td>5.0</td>\n",
       "      <td>59.2</td>\n",
       "      <td>8.526429</td>\n",
       "      <td>48.0</td>\n",
       "      <td>55.0</td>\n",
       "      <td>60.0</td>\n",
       "      <td>62.0</td>\n",
       "      <td>71.0</td>\n",
       "    </tr>\n",
       "    <tr>\n",
       "      <th>Light Brunette</th>\n",
       "      <td>4.0</td>\n",
       "      <td>42.5</td>\n",
       "      <td>5.446712</td>\n",
       "      <td>37.0</td>\n",
       "      <td>40.0</td>\n",
       "      <td>41.5</td>\n",
       "      <td>44.0</td>\n",
       "      <td>50.0</td>\n",
       "    </tr>\n",
       "  </tbody>\n",
       "</table>\n",
       "</div>"
      ],
      "text/plain": [
       "                count  mean       std   min   25%   50%   75%   max\n",
       "Hair color                                                         \n",
       "Dark Blond        5.0  51.2  9.284396  41.0  43.0  52.0  57.0  63.0\n",
       "Dark Brunette     5.0  37.4  8.324662  30.0  32.0  35.0  39.0  51.0\n",
       "Light Blond       5.0  59.2  8.526429  48.0  55.0  60.0  62.0  71.0\n",
       "Light Brunette    4.0  42.5  5.446712  37.0  40.0  41.5  44.0  50.0"
      ]
     },
     "execution_count": 48,
     "metadata": {},
     "output_type": "execute_result"
    }
   ],
   "source": [
    "data.groupby('Hair color')['Pain threshold'].describe()"
   ]
  },
  {
   "cell_type": "code",
   "execution_count": 49,
   "metadata": {},
   "outputs": [
    {
     "name": "stdout",
     "output_type": "stream",
     "text": [
      "The D critical value computed for that example = 17.01\n"
     ]
    }
   ],
   "source": [
    "D = 3.29 * (2*66.8/5)**.5\n",
    "print(f\"The D critical value computed for that example = {D:.2f}\")"
   ]
  },
  {
   "cell_type": "code",
   "execution_count": 50,
   "metadata": {},
   "outputs": [
    {
     "name": "stdout",
     "output_type": "stream",
     "text": [
      "Is the absolute difference between `Dark Blond` and `Light Blond` (control) higher than the D critical value: False\n",
      "Is the absolute difference between `Dark Brunette` and `Light Blond` (control) higher than the D critical value: True\n"
     ]
    }
   ],
   "source": [
    "print(f\"Is the absolute difference between `Dark Blond` and `Light Blond` (control) higher than the D critical value: {abs(51.2 - 59.2) > D}\")\n",
    "print(f\"Is the absolute difference between `Dark Brunette` and `Light Blond` (control) higher than the D critical value: {abs(37.4 - 59.2) > D}\")"
   ]
  },
  {
   "cell_type": "markdown",
   "metadata": {},
   "source": [
    "## Bonferroni's test\n",
    "\n",
    "Although Bonferroni's approach (see chapter on P values) can be used to compare all paris of means, it should not be used in this way because Tukey's test has more power. Similarly it should not be used to compare each group against a control because Dunnett's test has more power for that purpose.  \n",
    "\n",
    "Bonferroni's multiple comparisons test should be used **when the experiment design required comparing only selected pairs of means**. By making a limited set of comparisons, you get noarrower CIs and more statistical power to detect differences."
   ]
  },
  {
   "cell_type": "code",
   "execution_count": 51,
   "metadata": {},
   "outputs": [
    {
     "name": "stdout",
     "output_type": "stream",
     "text": [
      "0.19363526672361778 0.0034822355519029003\n"
     ]
    }
   ],
   "source": [
    "_, pval1 = stats.ttest_ind(\n",
    "    data[data['Hair color'] == 'Light Blond']['Pain threshold'],\n",
    "    data[data['Hair color'] == 'Dark Blond']['Pain threshold'],\n",
    ")\n",
    "\n",
    "_, pval2 = stats.ttest_ind(\n",
    "    data[data['Hair color'] == 'Light Blond']['Pain threshold'],\n",
    "    data[data['Hair color'] == 'Dark Brunette']['Pain threshold'],\n",
    ")\n",
    "\n",
    "print(pval1, pval2)"
   ]
  },
  {
   "cell_type": "code",
   "execution_count": 52,
   "metadata": {},
   "outputs": [
    {
     "data": {
      "text/plain": [
       "array([False,  True])"
      ]
     },
     "execution_count": 52,
     "metadata": {},
     "output_type": "execute_result"
    }
   ],
   "source": [
    "p_val_adj = .05 / 2 # 2 comparisons performed\n",
    "pvals = np.array([pval1, pval2])\n",
    "\n",
    "pvals <= p_val_adj"
   ]
  },
  {
   "cell_type": "markdown",
   "metadata": {},
   "source": [
    "The individual t-tests that are conducted have to have a p-value less than 0.025 in order to be considered significant, which is the case for the second comparison only."
   ]
  },
  {
   "cell_type": "code",
   "execution_count": 53,
   "metadata": {},
   "outputs": [
    {
     "data": {
      "text/plain": [
       "(array([False,  True]),\n",
       " array([0.38727053, 0.00696447]),\n",
       " 0.025320565519103666,\n",
       " 0.025)"
      ]
     },
     "execution_count": 53,
     "metadata": {},
     "output_type": "execute_result"
    }
   ],
   "source": [
    "from statsmodels.sandbox.stats.multicomp import multipletests\n",
    "multipletests(pvals, alpha=.05, method='bonferroni')"
   ]
  },
  {
   "cell_type": "markdown",
   "metadata": {},
   "source": [
    "### Implementing in pingouin\n",
    "\n",
    "The simplest way to adjust your P values is to use the conservative Bonferroni correction method which multiplies the raw P values by the number of tests m (i.e. length of the vector P_values), with $\\widetilde {p}_{{(i)}}= n \\cdot p_{{(i)}}$.\n",
    "\n",
    "Using the `method` argument set to 'bonf', we get a vector of same length but with adjusted P values. This adjustment approach corrects according to the family-wise error rate of at least one false positive (FamilywiseErrorRate (FWER)=Probability (FalsePositive≥1)).\n",
    "\n",
    "Less conservative methods are also included such as Sidak $$\\widetilde {p}_{{(i)}}= 1 - (1 - p_{{(i)}})^{n}$$\n",
    "Holm $$\\widetilde {p}_{{(i)}}=\\max _{{j\\leq i}}\\left\\{(n-j+1)p_{{(j)}}\\right\\}_{{1}}$$\n",
    "Benjamini & Hochberg $$P_{(k)}\\leq \\frac {k}{n}\\alpha$$\n",
    "and Benjamini & Yekutieli $$P_{(k)} \\leq \\frac{k}{n \\cdot c(n)} \\alpha$$, respectively.\n",
    "\n",
    "The first three methods are designed to give strong control of the family-wise error rate. Note that the Holm's method is usually preferred. The 'fdr_bh' and 'fdr_by' methods control the false discovery rate, i.e. the expected proportion of false discoveries amongst the rejected hypotheses. The false discovery rate is a less stringent condition than the family-wise error rate, so these methods are more powerful than the others.\n"
   ]
  },
  {
   "cell_type": "code",
   "execution_count": 54,
   "metadata": {},
   "outputs": [
    {
     "data": {
      "text/plain": [
       "(array([False,  True]), array([0.38727053, 0.00696447]))"
      ]
     },
     "execution_count": 54,
     "metadata": {},
     "output_type": "execute_result"
    }
   ],
   "source": [
    "pg.multicomp(\n",
    "    pvals, # from last comparisons\n",
    "    method='bonf',\n",
    ")"
   ]
  },
  {
   "cell_type": "code",
   "execution_count": 55,
   "metadata": {},
   "outputs": [
    {
     "data": {
      "text/html": [
       "<div>\n",
       "<style scoped>\n",
       "    .dataframe tbody tr th:only-of-type {\n",
       "        vertical-align: middle;\n",
       "    }\n",
       "\n",
       "    .dataframe tbody tr th {\n",
       "        vertical-align: top;\n",
       "    }\n",
       "\n",
       "    .dataframe thead th {\n",
       "        text-align: right;\n",
       "    }\n",
       "</style>\n",
       "<table border=\"1\" class=\"dataframe\">\n",
       "  <thead>\n",
       "    <tr style=\"text-align: right;\">\n",
       "      <th></th>\n",
       "      <th>Contrast</th>\n",
       "      <th>A</th>\n",
       "      <th>B</th>\n",
       "      <th>Paired</th>\n",
       "      <th>Parametric</th>\n",
       "      <th>T</th>\n",
       "      <th>dof</th>\n",
       "      <th>alternative</th>\n",
       "      <th>p-unc</th>\n",
       "      <th>p-corr</th>\n",
       "      <th>p-adjust</th>\n",
       "      <th>BF10</th>\n",
       "      <th>hedges</th>\n",
       "    </tr>\n",
       "  </thead>\n",
       "  <tbody>\n",
       "    <tr>\n",
       "      <th>0</th>\n",
       "      <td>Hair color</td>\n",
       "      <td>Dark Blond</td>\n",
       "      <td>Dark Brunette</td>\n",
       "      <td>False</td>\n",
       "      <td>True</td>\n",
       "      <td>2.474565</td>\n",
       "      <td>8.0</td>\n",
       "      <td>two-sided</td>\n",
       "      <td>0.038436</td>\n",
       "      <td>0.115308</td>\n",
       "      <td>bonf</td>\n",
       "      <td>2.183</td>\n",
       "      <td>1.413596</td>\n",
       "    </tr>\n",
       "    <tr>\n",
       "      <th>1</th>\n",
       "      <td>Hair color</td>\n",
       "      <td>Dark Blond</td>\n",
       "      <td>Light Blond</td>\n",
       "      <td>False</td>\n",
       "      <td>True</td>\n",
       "      <td>-1.419100</td>\n",
       "      <td>8.0</td>\n",
       "      <td>two-sided</td>\n",
       "      <td>0.193635</td>\n",
       "      <td>0.580906</td>\n",
       "      <td>bonf</td>\n",
       "      <td>0.875</td>\n",
       "      <td>-0.810661</td>\n",
       "    </tr>\n",
       "    <tr>\n",
       "      <th>2</th>\n",
       "      <td>Hair color</td>\n",
       "      <td>Dark Brunette</td>\n",
       "      <td>Light Blond</td>\n",
       "      <td>False</td>\n",
       "      <td>True</td>\n",
       "      <td>-4.090697</td>\n",
       "      <td>8.0</td>\n",
       "      <td>two-sided</td>\n",
       "      <td>0.003482</td>\n",
       "      <td>0.010447</td>\n",
       "      <td>bonf</td>\n",
       "      <td>10.877</td>\n",
       "      <td>-2.336811</td>\n",
       "    </tr>\n",
       "  </tbody>\n",
       "</table>\n",
       "</div>"
      ],
      "text/plain": [
       "     Contrast              A              B  Paired  Parametric         T  \\\n",
       "0  Hair color     Dark Blond  Dark Brunette   False        True  2.474565   \n",
       "1  Hair color     Dark Blond    Light Blond   False        True -1.419100   \n",
       "2  Hair color  Dark Brunette    Light Blond   False        True -4.090697   \n",
       "\n",
       "   dof alternative     p-unc    p-corr p-adjust    BF10    hedges  \n",
       "0  8.0   two-sided  0.038436  0.115308     bonf   2.183  1.413596  \n",
       "1  8.0   two-sided  0.193635  0.580906     bonf   0.875 -0.810661  \n",
       "2  8.0   two-sided  0.003482  0.010447     bonf  10.877 -2.336811  "
      ]
     },
     "execution_count": 55,
     "metadata": {},
     "output_type": "execute_result"
    }
   ],
   "source": [
    "idx = data['Hair color'] == 'Light Brunette' # we keep only 3 groups\n",
    "\n",
    "pg.pairwise_ttests(\n",
    "    dv='Pain threshold',\n",
    "    between='Hair color',\n",
    "    data=data[~idx],\n",
    "    padjust='bonf',\n",
    ")"
   ]
  },
  {
   "cell_type": "markdown",
   "metadata": {},
   "source": [
    "### allpairtest"
   ]
  },
  {
   "cell_type": "code",
   "execution_count": 56,
   "metadata": {},
   "outputs": [
    {
     "data": {
      "text/html": [
       "<table class=\"simpletable\">\n",
       "<caption>Test Multiple Comparison ttest_ind \n",
       "FWER=0.05 method=bonf\n",
       "alphacSidak=0.02, alphacBonf=0.017</caption>\n",
       "<tr>\n",
       "    <th>group1</th>       <th>group2</th>      <th>stat</th>   <th>pval</th>  <th>pval_corr</th> <th>reject</th>\n",
       "</tr>\n",
       "<tr>\n",
       "  <td>Light Blond</td>  <td>Dark Blond</td>   <td>1.4191</td> <td>0.1936</td>  <td>0.5809</td>    <td>False</td>\n",
       "</tr>\n",
       "<tr>\n",
       "  <td>Light Blond</td> <td>Dark Brunette</td> <td>4.0907</td> <td>0.0035</td>  <td>0.0104</td>    <td>True</td> \n",
       "</tr>\n",
       "<tr>\n",
       "  <td>Dark Blond</td>  <td>Dark Brunette</td> <td>2.4746</td> <td>0.0384</td>  <td>0.1153</td>    <td>False</td>\n",
       "</tr>\n",
       "</table>"
      ],
      "text/plain": [
       "<class 'statsmodels.iolib.table.SimpleTable'>"
      ]
     },
     "execution_count": 56,
     "metadata": {},
     "output_type": "execute_result"
    }
   ],
   "source": [
    "mult_comp2 = sm.stats.multicomp.MultiComparison(\n",
    "    data=data[~idx]['Pain threshold'],\n",
    "    groups=data[~idx]['Hair color'],\n",
    "    group_order=['Light Blond', 'Dark Blond', 'Dark Brunette']\n",
    ")\n",
    "\n",
    "mult_comp2.allpairtest(stats.ttest_ind, method='bonf')[0]"
   ]
  },
  {
   "cell_type": "markdown",
   "metadata": {},
   "source": [
    "NOTE - The pairwise.ttest for independent samples in R, as well as the Tukey HSD test in both R and statsmoldels, and JASP posthoc tests, use the **joint variance across all samples**, while the pairwise ttest calculates the joint variance estimate for each pair of sample separately.\n",
    "\n",
    "Pingouin and `stats.ttest_ind` don't pool the standard error for each factor but rather calculate each pairwise T-test completely independent of others:"
   ]
  },
  {
   "cell_type": "markdown",
   "metadata": {},
   "source": [
    "```Rscipt\n",
    "pairwise.t.test(data$weight, data$group, p.adj = \"bonferroni\")\n",
    "\n",
    "data:  data$weight and data$group \n",
    "\n",
    "     ctrl  trt1 \n",
    "trt1 0.583 -    \n",
    "trt2 0.263 0.013\n",
    "\n",
    "P value adjustment method: bonferroni\n",
    "```"
   ]
  },
  {
   "cell_type": "markdown",
   "metadata": {},
   "source": [
    "### NEW - scikit-posthocs\n",
    "\n",
    "[scikit-posthocs]() is a Python package which provides post hoc tests for pairwise multiple comparisons that are usually performed in statistical data analysis to assess the differences between group levels if a statistically significant result of ANOVA test has been obtained."
   ]
  },
  {
   "cell_type": "code",
   "execution_count": 57,
   "metadata": {},
   "outputs": [
    {
     "name": "stdout",
     "output_type": "stream",
     "text": [
      "                Light Blond  Dark Blond  Light Brunette  Dark Brunette\n",
      "Light Blond        1.000000    0.104878        0.855039       0.800231\n",
      "Dark Blond         0.104878    1.000000        0.004474       1.000000\n",
      "Light Brunette     0.855039    0.004474        1.000000       0.048994\n",
      "Dark Brunette      0.800231    1.000000        0.048994       1.000000\n"
     ]
    }
   ],
   "source": [
    "# pip install scikit-posthocs\n",
    "import scikit_posthocs as sp\n",
    "print(\n",
    "    sp.posthoc_ttest(\n",
    "        data,\n",
    "        val_col='Pain threshold',\n",
    "        group_col='Hair color',\n",
    "        pool_sd=True,\n",
    "        p_adjust='b'\n",
    "    )\n",
    ")"
   ]
  },
  {
   "cell_type": "markdown",
   "metadata": {},
   "source": [
    "### Visualization of the results of multiple comparisons tests"
   ]
  },
  {
   "cell_type": "code",
   "execution_count": 63,
   "metadata": {},
   "outputs": [
    {
     "data": {
      "image/png": "[encoded data removed]",
      "text/plain": [
       "<Figure size 432x288 with 2 Axes>"
      ]
     },
     "metadata": {
      "needs_background": "light"
     },
     "output_type": "display_data"
    }
   ],
   "source": [
    "pc = sp.posthoc_conover(\n",
    "    data,\n",
    "    val_col='Pain threshold',\n",
    "    group_col='Hair color',\n",
    ")\n",
    "\n",
    "cmap = ['1', '#fb6a4a',  '#08306b',  '#4292c6', '#c6dbef']\n",
    "\n",
    "# significance plots\n",
    "heatmap_args = {\n",
    "    'cmap': cmap,\n",
    "    'linewidths': 0.25,\n",
    "    'linecolor': '0.5',\n",
    "    'clip_on': False,\n",
    "    'square': True,\n",
    "    'cbar_ax_bbox': [0.80, 0.35, 0.04, 0.3]\n",
    "}\n",
    "\n",
    "sp.sign_plot(pc, **heatmap_args);"
   ]
  },
  {
   "cell_type": "code",
   "execution_count": 64,
   "metadata": {},
   "outputs": [
    {
     "data": {
      "text/html": [
       "<div>\n",
       "<style scoped>\n",
       "    .dataframe tbody tr th:only-of-type {\n",
       "        vertical-align: middle;\n",
       "    }\n",
       "\n",
       "    .dataframe tbody tr th {\n",
       "        vertical-align: top;\n",
       "    }\n",
       "\n",
       "    .dataframe thead th {\n",
       "        text-align: right;\n",
       "    }\n",
       "</style>\n",
       "<table border=\"1\" class=\"dataframe\">\n",
       "  <thead>\n",
       "    <tr style=\"text-align: right;\">\n",
       "      <th></th>\n",
       "      <th>0</th>\n",
       "    </tr>\n",
       "  </thead>\n",
       "  <tbody>\n",
       "    <tr>\n",
       "      <th>0</th>\n",
       "      <td>-</td>\n",
       "    </tr>\n",
       "    <tr>\n",
       "      <th>1</th>\n",
       "      <td>**</td>\n",
       "    </tr>\n",
       "  </tbody>\n",
       "</table>\n",
       "</div>"
      ],
      "text/plain": [
       "    0\n",
       "0   -\n",
       "1  **"
      ]
     },
     "execution_count": 64,
     "metadata": {},
     "output_type": "execute_result"
    }
   ],
   "source": [
    "sp.sign_table(pvals)"
   ]
  },
  {
   "cell_type": "markdown",
   "metadata": {},
   "source": [
    "## Holm adjustment\n",
    "\n",
    "The Holm multiple comparisons test is a powerful and versatile multiple comparisons test. It can be used to compare all pairs of means, compare each group mean to a control mean, or compare preselected pairs of means. The method starts with a set of P values and then determines which of these P values are low enough for the corresponding comparison to be declared statistically significant. It doesn't adjust the P values themselves but simply determines the conclusion for each one. The threshold for determining significance depends on the rank of the P values. **The threshold for the smallest P value is much smaller than the threshold for the largest P value.**\n",
    "\n",
    "The Holm adjustment sequentially compares the lowest p-value with a Type I error rate that is reduced for each consecutive test. In our case, this means that our first p-value is tested at the .05/3 level (.017), second at the .05/2 level (.025), and third at the .05/1 level (.05). This method is generally considered superior to the Bonferroni adjustment.\n",
    "\n",
    "The Holm's test can only be used to decide which comparisons are statistically significant and which are not, but cannot compute a set of CI.\n",
    "\n",
    "The Holm-Sidak test (different from the Sidak test related to Bonferroni test) is a modified version of Holm's test that is slightly more powerful, especially when there are many comparisons."
   ]
  },
  {
   "cell_type": "code",
   "execution_count": 59,
   "metadata": {},
   "outputs": [
    {
     "data": {
      "text/html": [
       "<table class=\"simpletable\">\n",
       "<caption>Test Multiple Comparison ttest_ind \n",
       "FWER=0.05 method=h\n",
       "alphacSidak=0.02, alphacBonf=0.017</caption>\n",
       "<tr>\n",
       "    <th>group1</th>       <th>group2</th>      <th>stat</th>   <th>pval</th>  <th>pval_corr</th> <th>reject</th>\n",
       "</tr>\n",
       "<tr>\n",
       "  <td>Light Blond</td>  <td>Dark Blond</td>   <td>1.4191</td> <td>0.1936</td>  <td>0.1936</td>    <td>False</td>\n",
       "</tr>\n",
       "<tr>\n",
       "  <td>Light Blond</td> <td>Dark Brunette</td> <td>4.0907</td> <td>0.0035</td>  <td>0.0104</td>    <td>True</td> \n",
       "</tr>\n",
       "<tr>\n",
       "  <td>Dark Blond</td>  <td>Dark Brunette</td> <td>2.4746</td> <td>0.0384</td>  <td>0.0769</td>    <td>False</td>\n",
       "</tr>\n",
       "</table>"
      ],
      "text/plain": [
       "<class 'statsmodels.iolib.table.SimpleTable'>"
      ]
     },
     "execution_count": 59,
     "metadata": {},
     "output_type": "execute_result"
    }
   ],
   "source": [
    "mult_comp2.allpairtest(stats.ttest_ind, method='h')[0]"
   ]
  },
  {
   "cell_type": "code",
   "execution_count": 60,
   "metadata": {},
   "outputs": [
    {
     "data": {
      "text/plain": [
       "(array([False,  True, False]), array([0.1936, 0.0105, 0.0768]))"
      ]
     },
     "execution_count": 60,
     "metadata": {},
     "output_type": "execute_result"
    }
   ],
   "source": [
    "pg.multicomp(\n",
    "    [0.1936, 0.0035, 0.0384], # from last comparisons\n",
    "    method='holm',\n",
    ")"
   ]
  },
  {
   "cell_type": "markdown",
   "metadata": {},
   "source": [
    "### Benjamini and Hochberg (a.k.a. BH step-up procedure)\n",
    "\n",
    "A philosophically different and more powerful adjustment method is that proposed by Benjamini and Hochberg. This method, rather than controlling the false positive rate (FWER) as in the Bonferroni method, controls the false discovery rate (FalseDiscoveryRate (FDR) = Expected (FalsePositive/ (FalsePositive + TruePositive))). In other words, **FDR is the expected proportion of false positives among all positives which rejected the null hypothesis and not among all the tests undertaken**. In the FDR method, P values are ranked in an ascending array and multiplied by m/k where k is the position of a P value in the sorted vector and m is the number of independent tests."
   ]
  },
  {
   "cell_type": "code",
   "execution_count": 61,
   "metadata": {},
   "outputs": [
    {
     "data": {
      "text/html": [
       "<div>\n",
       "<style scoped>\n",
       "    .dataframe tbody tr th:only-of-type {\n",
       "        vertical-align: middle;\n",
       "    }\n",
       "\n",
       "    .dataframe tbody tr th {\n",
       "        vertical-align: top;\n",
       "    }\n",
       "\n",
       "    .dataframe thead th {\n",
       "        text-align: right;\n",
       "    }\n",
       "</style>\n",
       "<table border=\"1\" class=\"dataframe\">\n",
       "  <thead>\n",
       "    <tr style=\"text-align: right;\">\n",
       "      <th></th>\n",
       "      <th>Contrast</th>\n",
       "      <th>A</th>\n",
       "      <th>B</th>\n",
       "      <th>Paired</th>\n",
       "      <th>Parametric</th>\n",
       "      <th>T</th>\n",
       "      <th>dof</th>\n",
       "      <th>alternative</th>\n",
       "      <th>p-unc</th>\n",
       "      <th>p-corr</th>\n",
       "      <th>p-adjust</th>\n",
       "      <th>BF10</th>\n",
       "      <th>hedges</th>\n",
       "    </tr>\n",
       "  </thead>\n",
       "  <tbody>\n",
       "    <tr>\n",
       "      <th>0</th>\n",
       "      <td>Hair color</td>\n",
       "      <td>Dark Blond</td>\n",
       "      <td>Dark Brunette</td>\n",
       "      <td>False</td>\n",
       "      <td>True</td>\n",
       "      <td>2.474565</td>\n",
       "      <td>8.0</td>\n",
       "      <td>two-sided</td>\n",
       "      <td>0.038436</td>\n",
       "      <td>0.057654</td>\n",
       "      <td>fdr_bh</td>\n",
       "      <td>2.183</td>\n",
       "      <td>1.413596</td>\n",
       "    </tr>\n",
       "    <tr>\n",
       "      <th>1</th>\n",
       "      <td>Hair color</td>\n",
       "      <td>Dark Blond</td>\n",
       "      <td>Light Blond</td>\n",
       "      <td>False</td>\n",
       "      <td>True</td>\n",
       "      <td>-1.419100</td>\n",
       "      <td>8.0</td>\n",
       "      <td>two-sided</td>\n",
       "      <td>0.193635</td>\n",
       "      <td>0.193635</td>\n",
       "      <td>fdr_bh</td>\n",
       "      <td>0.875</td>\n",
       "      <td>-0.810661</td>\n",
       "    </tr>\n",
       "    <tr>\n",
       "      <th>2</th>\n",
       "      <td>Hair color</td>\n",
       "      <td>Dark Brunette</td>\n",
       "      <td>Light Blond</td>\n",
       "      <td>False</td>\n",
       "      <td>True</td>\n",
       "      <td>-4.090697</td>\n",
       "      <td>8.0</td>\n",
       "      <td>two-sided</td>\n",
       "      <td>0.003482</td>\n",
       "      <td>0.010447</td>\n",
       "      <td>fdr_bh</td>\n",
       "      <td>10.877</td>\n",
       "      <td>-2.336811</td>\n",
       "    </tr>\n",
       "  </tbody>\n",
       "</table>\n",
       "</div>"
      ],
      "text/plain": [
       "     Contrast              A              B  Paired  Parametric         T  \\\n",
       "0  Hair color     Dark Blond  Dark Brunette   False        True  2.474565   \n",
       "1  Hair color     Dark Blond    Light Blond   False        True -1.419100   \n",
       "2  Hair color  Dark Brunette    Light Blond   False        True -4.090697   \n",
       "\n",
       "   dof alternative     p-unc    p-corr p-adjust    BF10    hedges  \n",
       "0  8.0   two-sided  0.038436  0.057654   fdr_bh   2.183  1.413596  \n",
       "1  8.0   two-sided  0.193635  0.193635   fdr_bh   0.875 -0.810661  \n",
       "2  8.0   two-sided  0.003482  0.010447   fdr_bh  10.877 -2.336811  "
      ]
     },
     "execution_count": 61,
     "metadata": {},
     "output_type": "execute_result"
    }
   ],
   "source": [
    "pg.pairwise_ttests(\n",
    "    dv='Pain threshold',\n",
    "    between='Hair color',\n",
    "    data=data[~idx],\n",
    "    padjust='fdr_bh',\n",
    ")"
   ]
  },
  {
   "cell_type": "code",
   "execution_count": 62,
   "metadata": {},
   "outputs": [
    {
     "data": {
      "text/plain": [
       "(array([False,  True, False]), array([0.1936, 0.0105, 0.0576]))"
      ]
     },
     "execution_count": 62,
     "metadata": {},
     "output_type": "execute_result"
    }
   ],
   "source": [
    "pg.multicomp(\n",
    "    [0.1936, 0.0035, 0.0384],\n",
    "    method='fdr_bh',\n",
    ")"
   ]
  },
  {
   "cell_type": "markdown",
   "metadata": {},
   "source": [
    "## Scheffe\n",
    "\n",
    "Scheffe's multiple comparisons test can make more elaborate comparisons than the other tests. To allow for the huge number of possible comparisons, the CIs generated by Scheffe's method are wider than those generated by other methods. Accordingly, the test has less statistical power to detect differences than do other multiple comparisons tests. The precise comparisons do not need to be defined as part of the experimental design.\n",
    "\n",
    "The method is not implemented in Python and should be use with [ScheffeTest in R](https://rdrr.io/cran/DescTools/man/ScheffeTest.html) (see below)."
   ]
  },
  {
   "cell_type": "markdown",
   "metadata": {},
   "source": [
    "## Post-hoc analysis with R\n",
    "\n",
    "A pipeline for post-hoc analysis upon ANOVA in R can be the following:\n",
    "\n",
    "```R\n",
    "# Post-hoc analysis\n",
    "library(\"lsmeans\") # needed for ANOVA analysis and post-hoc tests\n",
    "\n",
    "pairwise.t.test(data$weight, data$group, p.adj = \"none\") # using pooled SD\n",
    "pairwise.t.test(data$weight, data$group, p.adj = \"none\", pool.sd = FALSE) # no adjustment\n",
    "pairwise.t.test(data$weight, data$group, p.adj = \"bonferroni\")\n",
    "pairwise.t.test(data$weight, data$group, p.adj = \"holm\")\n",
    "\n",
    "summary(glht(fit, linfct=mcp(group=\"Dunnett\")))\n",
    "\n",
    "lsmeans(fit, pairwise ~ group) # results of Tukey's test with P values\n",
    "# see also TukeyHSD()\n",
    "\n",
    "# Scheffe's test\n",
    "# some special contrasts\n",
    "y <- c(7,33,26,27,21,6,14,19,6,11,11,18,14,18,19,14,9,12,6,24,7,10,1,10,42,\n",
    "  25,8,28,30,22,17,32,28,6,1,15,9,15,2,37,13,18,23,1,3,4,6,2)\n",
    "group <- factor(c(1,1,1,1,1,1,1,1,2,2,2,2,2,2,2,2,3,3,3,3,3,3,3,3,4,4,4,4,\n",
    "  4,4,4,4,5,5,5,5,5,5,5,5,6,6,6,6,6,6,6,6))\n",
    "\n",
    "r.aov <- aov(y ~ group)\n",
    "\n",
    "ScheffeTest(\n",
    "  r.aov, contrasts=matrix(\n",
    "    c(1,-0.5,-0.5,0,0,0,0,0,0,1,-0.5,-0.5),\n",
    "    ncol=2))\n",
    "```"
   ]
  },
  {
   "cell_type": "markdown",
   "metadata": {},
   "source": []
  }
 ],
 "metadata": {
  "interpreter": {
   "hash": "b51595f36012c8da2bf2284ebbd8d377d5c2d31fa7484164f2d2bcda7a09b462"
  },
  "kernelspec": {
   "display_name": "Python 3.9.7 64-bit (system)",
   "name": "python3"
  },
  "language_info": {
   "codemirror_mode": {
    "name": "ipython",
    "version": 3
   },
   "file_extension": ".py",
   "mimetype": "text/x-python",
   "name": "python",
   "nbconvert_exporter": "python",
   "pygments_lexer": "ipython3",
   "version": "3.9.7"
  }
 },
 "nbformat": 4,
 "nbformat_minor": 2
}
