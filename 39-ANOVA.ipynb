{
 "cells": [
  {
   "cell_type": "markdown",
   "source": [
    "# ANOVA\r\n",
    "\r\n",
    "## Introduction\r\n",
    "\r\n",
    "One-way ANOVA compares the means of three or more groups, assuming that all values are sampled from Gaussian populations. It is called one-way ANOVA, because the groups are categorized by one scheme (e.g. treatment). Two-way ANOVA is used when the data are categorized by two schemes (e.g. treatment and gender).\r\n",
    "\r\n",
    "![flowchart for selecting the right ANOVA function](https://pingouin-stats.org/_images/flowchart_one_way_ANOVA.svg)\r\n",
    "\r\n",
    "The main problem with computing several t tests is multiple comparisons. As you include more groups in the study, you increase the chance of obtaining one or more P values less than 0.05 just by chance. If the null hypothesis were true, there would be a 5% chance that each particular t test would yield a P value less than 0.05, but with three comparisons, the chance that any one (or more) of the values would be less than 0.05 would be far higher that 5%\r\n",
    "\r\n",
    "One-way ANOVA can be seen as a regression model with a **single categorical predictor**. This predictor usually has **2+ categories**. In fact ANOVA compares the fit of several models to the data, and this can be done with regression techniques. The answers will be fundamentally identical, but they will look very different.\r\n",
    "\r\n",
    "Comparing three or more means with one-way ANOVA can be viewed as comparing the fit of the data to two different models:\r\n",
    "\r\n",
    "- null hypothesis; all populations share the same mean, and nothing but random sampling causes any differences between sample means\r\n",
    "- alternative hypothesis; all populations do not share the same means, at least one population has a mean different than the rest.\r\n",
    "\r\n",
    "### Interpreting a P value\r\n",
    "\r\n",
    "One-way ANOVA compares all the groups at once. The null hypothesis is that all groups were sampled from populations with identical means, i.e. there is no difference between means: $ \\overline{x_1} = \\overline{x_2} = ... = \\overline{x_i}$.\r\n",
    "\r\n",
    "The P value answers the question\r\n",
    ">if the null hypothesis were true, what is the chance of randomly picking samples with mean values as different (or more different) than those observed in the study?\r\n",
    "\r\n",
    "With a P value of 0.004, there is only 0.4% chance that the different means would be as far apart as actually observed or even further apart.\r\n",
    "\r\n",
    "### How it works\r\n",
    "\r\n",
    "The classic ANOVA is very powerful when the groups are **normally distributed** and have **equal variances** (homoscedasticity). It does not require all the samples to have the same number of values, though the two assumptions (Gaussian population and equal variance) matter much more when the sample size varies a lot between groups. When the groups have unequal variances, it is best to use the _Welch ANOVA_ that better controls for type I error.\r\n",
    "\r\n",
    "The main idea of ANOVA is to partition the variance (sums of squares) into several components. For example, in one-way ANOVA:\r\n",
    "\r\n",
    "$$ \\text{SS}_\\text{total} = \\text{SS}_\\text{effect} + \\text{SS}_\\text{error} $$\r\n",
    "$$ \\text{SS}_\\text{total} = \\sum_i \\sum_j (Y_{ij} - \\overline{Y})^2 $$\r\n",
    "$$ \\text{SS}_\\text{effect} = \\sum_i n_i (\\overline{Y_i} - \\overline{Y})^2 $$\r\n",
    "$$ \\text{SS}_\\text{error} = \\sum_i \\sum_j (Y_{ij} - \\overline{Y}_i)^2 $$\r\n",
    "\r\n",
    "where:\r\n",
    "\r\n",
    "- $ i=1,...,r $\r\n",
    "- $ j=1,...,n_i $\r\n",
    "- $ r $ the number of groups\r\n",
    "- $ n_i $ the number of observations for the $ i $ th group\r\n",
    "- $ N $ the total number of observations (in all groups)\r\n",
    "\r\n",
    "The **total variability** among all the values, ignoring which value came from which group, by **summing the squares of the difference of each value from the grand mean**. Some of the variation comes from **differences among the group means** because the group means are not all the same. **Sum the squares of each group mean from the grand mean and weight by sample size** to get the sum of squares resulting from treatment. The rest of the variation comes from **variability within each group**, quantified by **summing the squares of the differences of each value from its group mean**. This is also called the residual sum of squares or the error sum of squares.\r\n",
    "\r\n",
    "The F-statistics is then defined as:\r\n",
    "$$ F^* = \\frac{S_\\text{effect}^2}{S_\\text{error}^2} = \\frac{\\text{MS}_{\\text{effect}}}{\\text{MS}_{\\text{error}}} = \\frac{\\text{SS}_{\\text{effect}} / (r - 1)}{\\text{SS}_{\\text{error}} / (N - r)} $$\r\n",
    "\r\n",
    "and the P-value can be calculated using a F-distribution with $ r - 1, N - r $ degrees of freedom.\r\n",
    "\r\n",
    "The default effect size reported is the *partial eta-square*, which, **for one-way ANOVA is the same as eta-square and generalized eta-square**:\r\n",
    "$$ \\eta_p^2 = \\frac{\\text{SS}_{\\text{effect}}}{\\text{SS}_{\\text{effect}} + \\text{SS}_{\\text{error}}} $$\r\n",
    "$$ \\eta^2 = \\frac{\\text{SS}_{\\text{effect}}}{\\text{SS}_{\\text{total}}} $$\r\n",
    "\r\n",
    "It is interpreted in the same way as $R^2$. For example, an $\\eta^2$ of 0.053, only 5.3% of the total variability is the result of differences within the groups.\r\n",
    "\r\n",
    "Of note, the concept of one- and two-tailed P values does not apply in ANOVA. Because the means of the groups can be in many different orders, the P values has many tails."
   ],
   "metadata": {}
  },
  {
   "cell_type": "markdown",
   "source": [
    "## Partitioning the sum of squares"
   ],
   "metadata": {}
  },
  {
   "cell_type": "code",
   "execution_count": 1,
   "source": [
    "import numpy as np\r\n",
    "import pandas as pd\r\n",
    "\r\n",
    "from scipy import stats\r\n",
    "import pingouin as pg\r\n",
    "\r\n",
    "import matplotlib.pyplot as plt\r\n",
    "import seaborn as sns"
   ],
   "outputs": [],
   "metadata": {}
  },
  {
   "cell_type": "markdown",
   "source": [
    "This is the analysis of the variance: _comparing the ratio of systematic variance to unsystematic variance_ using sum of squares (SS), between the groups **SSB** (i.e. effect or $\\text{SS}_\\text{effect}$) and the variance within the group **SSW** (i.e. error, residual or $\\text{SS}_\\text{error}$), with $ \\text{SSW} + \\text{SSB} = \\text{SST} $.\r\n",
    "\r\n",
    "When F increase, then the variance between the group (SSB) is bigger than within the group (SSW).\r\n",
    "\r\n",
    "The group means are represented as deviations from the grand mean by grouping their coefficients under a single term $ y_{ij} = \\mu_{grand} + \\tau_j + \\epsilon_{ij} $"
   ],
   "metadata": {}
  },
  {
   "cell_type": "markdown",
   "source": [
    "One example of one-way ANOVA comparing 3 groups:  \r\n",
    "\r\n",
    "| Hypothesis  | Scatter from | SS    | Variation | $\\eta^2$ |\r\n",
    "| ----------- | ------------ | -----:| ---------:| -------- |\r\n",
    "| Null        | Grand mean   | 17.38 |  100.0%   |          |\r\n",
    "| Alternative | Group mean   | 16.45 |   94.7%   |          |\r\n",
    "| Difference  |              |  0.93 |    5.3%   |  0.053   |\r\n",
    "\r\n",
    "Of all the variation, 94.7% is the result of variation within the groups, leaving 5.3% of the total variation as the result of differences between the group means. *The sum of squares resulting from the treatment and the sum of squares within the groups always add up to the total sum of squares.*\r\n",
    "\r\n",
    "| Source variation | SS    | DF  | MS    | F ratio | P value |\r\n",
    "| ----------------:| -----:| ---:| ----- | ------  | ------- |\r\n",
    "|   Between groups |  0.93 | 2   | 0.460 |  5.69   |  0.004  |\r\n",
    "| + Within groups  | 16.45 | 202 | 0.081 |         |         |\r\n",
    "| =          Total | 17.38 | 204 |       |         |         |"
   ],
   "metadata": {}
  },
  {
   "cell_type": "markdown",
   "source": [
    "For the total, there are 205 values and only one parameter (grand mean) estimated, so $ \\text{DF} = 204$. For the SSW, 3 groups/parameters were fit (the mean of each group), so $ \\text{DF} = 205 - 3 = 202 $. If the null hypothesis were true, F would be likely to have a value close to 1."
   ],
   "metadata": {}
  },
  {
   "cell_type": "code",
   "execution_count": 2,
   "source": [
    "dfn, dfd = 2, 202 # DF at numerator is for 'within', at the denominator for 'within'\r\n",
    "F = .460 / .081\r\n",
    "\r\n",
    "print(f\"P values computed from the F ratio distribution: {1 - stats.f(dfn, dfd).cdf(F):.4f}\")"
   ],
   "outputs": [
    {
     "output_type": "stream",
     "name": "stdout",
     "text": [
      "P values computed from the F ratio distribution: 0.0040\n"
     ]
    }
   ],
   "metadata": {}
  },
  {
   "cell_type": "markdown",
   "source": [
    "The low P value means that the differences among group means would be very unlikely if in fact all the population means were equal.  \n",
    "The low R² means that the differences among group means are only a tiny fraction of the overall variability."
   ],
   "metadata": {}
  },
  {
   "cell_type": "markdown",
   "source": [
    "## Practical example of one-way ANOVA"
   ],
   "metadata": {}
  },
  {
   "cell_type": "code",
   "execution_count": 3,
   "source": [
    "# 0. Load an example dataset comparing pain threshold as a function of hair color\r\n",
    "data = pg.read_dataset('anova')\r\n",
    "data.head()"
   ],
   "outputs": [
    {
     "output_type": "execute_result",
     "data": {
      "text/plain": [
       "   Subject   Hair color  Pain threshold\n",
       "0        1  Light Blond              62\n",
       "1        2  Light Blond              60\n",
       "2        3  Light Blond              71\n",
       "3        4  Light Blond              55\n",
       "4        5  Light Blond              48"
      ],
      "text/html": [
       "<div>\n",
       "<style scoped>\n",
       "    .dataframe tbody tr th:only-of-type {\n",
       "        vertical-align: middle;\n",
       "    }\n",
       "\n",
       "    .dataframe tbody tr th {\n",
       "        vertical-align: top;\n",
       "    }\n",
       "\n",
       "    .dataframe thead th {\n",
       "        text-align: right;\n",
       "    }\n",
       "</style>\n",
       "<table border=\"1\" class=\"dataframe\">\n",
       "  <thead>\n",
       "    <tr style=\"text-align: right;\">\n",
       "      <th></th>\n",
       "      <th>Subject</th>\n",
       "      <th>Hair color</th>\n",
       "      <th>Pain threshold</th>\n",
       "    </tr>\n",
       "  </thead>\n",
       "  <tbody>\n",
       "    <tr>\n",
       "      <th>0</th>\n",
       "      <td>1</td>\n",
       "      <td>Light Blond</td>\n",
       "      <td>62</td>\n",
       "    </tr>\n",
       "    <tr>\n",
       "      <th>1</th>\n",
       "      <td>2</td>\n",
       "      <td>Light Blond</td>\n",
       "      <td>60</td>\n",
       "    </tr>\n",
       "    <tr>\n",
       "      <th>2</th>\n",
       "      <td>3</td>\n",
       "      <td>Light Blond</td>\n",
       "      <td>71</td>\n",
       "    </tr>\n",
       "    <tr>\n",
       "      <th>3</th>\n",
       "      <td>4</td>\n",
       "      <td>Light Blond</td>\n",
       "      <td>55</td>\n",
       "    </tr>\n",
       "    <tr>\n",
       "      <th>4</th>\n",
       "      <td>5</td>\n",
       "      <td>Light Blond</td>\n",
       "      <td>48</td>\n",
       "    </tr>\n",
       "  </tbody>\n",
       "</table>\n",
       "</div>"
      ]
     },
     "metadata": {},
     "execution_count": 3
    }
   ],
   "metadata": {}
  },
  {
   "cell_type": "code",
   "execution_count": 4,
   "source": [
    "sns.boxplot(x='Hair color', y='Pain threshold', data=data)\r\n",
    "sns.stripplot(x='Hair color', y='Pain threshold', data=data, color='black', size=10);"
   ],
   "outputs": [
    {
     "output_type": "display_data",
     "data": {
      "text/plain": [
       "<Figure size 432x288 with 1 Axes>"
      ],
      "image/svg+xml": "<?xml version=\"1.0\" encoding=\"utf-8\" standalone=\"no\"?>\r\n<!DOCTYPE svg PUBLIC \"-//W3C//DTD SVG 1.1//EN\"\r\n  \"http://www.w3.org/Graphics/SVG/1.1/DTD/svg11.dtd\">\r\n<svg height=\"262.19625pt\" version=\"1.1\" viewBox=\"0 0 382.603125 262.19625\" width=\"382.603125pt\" xmlns=\"http://www.w3.org/2000/svg\" xmlns:xlink=\"http://www.w3.org/1999/xlink\">\r\n <metadata>\r\n  <rdf:RDF xmlns:cc=\"http://creativecommons.org/ns#\" xmlns:dc=\"http://purl.org/dc/elements/1.1/\" xmlns:rdf=\"http://www.w3.org/1999/02/22-rdf-syntax-ns#\">\r\n   <cc:Work>\r\n    <dc:type rdf:resource=\"http://purl.org/dc/dcmitype/StillImage\"/>\r\n    <dc:date>2021-08-26T16:15:30.371309</dc:date>\r\n    <dc:format>image/svg+xml</dc:format>\r\n    <dc:creator>\r\n     <cc:Agent>\r\n      <dc:title>Matplotlib v3.4.3, https://matplotlib.org/</dc:title>\r\n     </cc:Agent>\r\n    </dc:creator>\r\n   </cc:Work>\r\n  </rdf:RDF>\r\n </metadata>\r\n <defs>\r\n  <style type=\"text/css\">*{stroke-linecap:butt;stroke-linejoin:round;}</style>\r\n </defs>\r\n <g id=\"figure_1\">\r\n  <g id=\"patch_1\">\r\n   <path d=\"M 0 262.19625 \r\nL 382.603125 262.19625 \r\nL 382.603125 0 \r\nL 0 0 \r\nz\r\n\" style=\"fill:none;\"/>\r\n  </g>\r\n  <g id=\"axes_1\">\r\n   <g id=\"patch_2\">\r\n    <path d=\"M 40.603125 224.64 \r\nL 375.403125 224.64 \r\nL 375.403125 7.2 \r\nL 40.603125 7.2 \r\nz\r\n\" style=\"fill:#ffffff;\"/>\r\n   </g>\r\n   <g id=\"patch_3\">\r\n    <path clip-path=\"url(#p4464b371bd)\" d=\"M 48.973125 94.224213 \r\nL 115.933125 94.224213 \r\nL 115.933125 60.475211 \r\nL 48.973125 60.475211 \r\nL 48.973125 94.224213 \r\nz\r\n\" style=\"fill:#3274a1;stroke:#3d3d3d;stroke-linejoin:miter;stroke-width:1.5;\"/>\r\n   </g>\r\n   <g id=\"patch_4\">\r\n    <path clip-path=\"url(#p4464b371bd)\" d=\"M 132.673125 152.079645 \r\nL 199.633125 152.079645 \r\nL 199.633125 84.581641 \r\nL 132.673125 84.581641 \r\nL 132.673125 152.079645 \r\nz\r\n\" style=\"fill:#e1812c;stroke:#3d3d3d;stroke-linejoin:miter;stroke-width:1.5;\"/>\r\n   </g>\r\n   <g id=\"patch_5\">\r\n    <path clip-path=\"url(#p4464b371bd)\" d=\"M 216.373125 166.543503 \r\nL 283.333125 166.543503 \r\nL 283.333125 147.258359 \r\nL 216.373125 147.258359 \r\nL 216.373125 166.543503 \r\nz\r\n\" style=\"fill:#3a923a;stroke:#3d3d3d;stroke-linejoin:miter;stroke-width:1.5;\"/>\r\n   </g>\r\n   <g id=\"patch_6\">\r\n    <path clip-path=\"url(#p4464b371bd)\" d=\"M 300.073125 205.113792 \r\nL 367.033125 205.113792 \r\nL 367.033125 171.364789 \r\nL 300.073125 171.364789 \r\nL 300.073125 205.113792 \r\nz\r\n\" style=\"fill:#c03d3e;stroke:#3d3d3d;stroke-linejoin:miter;stroke-width:1.5;\"/>\r\n   </g>\r\n   <g id=\"matplotlib.axis_1\">\r\n    <g id=\"xtick_1\">\r\n     <g id=\"line2d_1\">\r\n      <defs>\r\n       <path d=\"M 0 0 \r\nL 0 3.5 \r\n\" id=\"m3e21d0f781\" style=\"stroke:#000000;stroke-width:0.8;\"/>\r\n      </defs>\r\n      <g>\r\n       <use style=\"stroke:#000000;stroke-width:0.8;\" x=\"82.453125\" xlink:href=\"#m3e21d0f781\" y=\"224.64\"/>\r\n      </g>\r\n     </g>\r\n     <g id=\"text_1\">\r\n      <!-- Light Blond -->\r\n      <g transform=\"translate(54.164062 239.238437)scale(0.1 -0.1)\">\r\n       <defs>\r\n        <path d=\"M 628 4666 \r\nL 1259 4666 \r\nL 1259 531 \r\nL 3531 531 \r\nL 3531 0 \r\nL 628 0 \r\nL 628 4666 \r\nz\r\n\" id=\"DejaVuSans-4c\" transform=\"scale(0.015625)\"/>\r\n        <path d=\"M 603 3500 \r\nL 1178 3500 \r\nL 1178 0 \r\nL 603 0 \r\nL 603 3500 \r\nz\r\nM 603 4863 \r\nL 1178 4863 \r\nL 1178 4134 \r\nL 603 4134 \r\nL 603 4863 \r\nz\r\n\" id=\"DejaVuSans-69\" transform=\"scale(0.015625)\"/>\r\n        <path d=\"M 2906 1791 \r\nQ 2906 2416 2648 2759 \r\nQ 2391 3103 1925 3103 \r\nQ 1463 3103 1205 2759 \r\nQ 947 2416 947 1791 \r\nQ 947 1169 1205 825 \r\nQ 1463 481 1925 481 \r\nQ 2391 481 2648 825 \r\nQ 2906 1169 2906 1791 \r\nz\r\nM 3481 434 \r\nQ 3481 -459 3084 -895 \r\nQ 2688 -1331 1869 -1331 \r\nQ 1566 -1331 1297 -1286 \r\nQ 1028 -1241 775 -1147 \r\nL 775 -588 \r\nQ 1028 -725 1275 -790 \r\nQ 1522 -856 1778 -856 \r\nQ 2344 -856 2625 -561 \r\nQ 2906 -266 2906 331 \r\nL 2906 616 \r\nQ 2728 306 2450 153 \r\nQ 2172 0 1784 0 \r\nQ 1141 0 747 490 \r\nQ 353 981 353 1791 \r\nQ 353 2603 747 3093 \r\nQ 1141 3584 1784 3584 \r\nQ 2172 3584 2450 3431 \r\nQ 2728 3278 2906 2969 \r\nL 2906 3500 \r\nL 3481 3500 \r\nL 3481 434 \r\nz\r\n\" id=\"DejaVuSans-67\" transform=\"scale(0.015625)\"/>\r\n        <path d=\"M 3513 2113 \r\nL 3513 0 \r\nL 2938 0 \r\nL 2938 2094 \r\nQ 2938 2591 2744 2837 \r\nQ 2550 3084 2163 3084 \r\nQ 1697 3084 1428 2787 \r\nQ 1159 2491 1159 1978 \r\nL 1159 0 \r\nL 581 0 \r\nL 581 4863 \r\nL 1159 4863 \r\nL 1159 2956 \r\nQ 1366 3272 1645 3428 \r\nQ 1925 3584 2291 3584 \r\nQ 2894 3584 3203 3211 \r\nQ 3513 2838 3513 2113 \r\nz\r\n\" id=\"DejaVuSans-68\" transform=\"scale(0.015625)\"/>\r\n        <path d=\"M 1172 4494 \r\nL 1172 3500 \r\nL 2356 3500 \r\nL 2356 3053 \r\nL 1172 3053 \r\nL 1172 1153 \r\nQ 1172 725 1289 603 \r\nQ 1406 481 1766 481 \r\nL 2356 481 \r\nL 2356 0 \r\nL 1766 0 \r\nQ 1100 0 847 248 \r\nQ 594 497 594 1153 \r\nL 594 3053 \r\nL 172 3053 \r\nL 172 3500 \r\nL 594 3500 \r\nL 594 4494 \r\nL 1172 4494 \r\nz\r\n\" id=\"DejaVuSans-74\" transform=\"scale(0.015625)\"/>\r\n        <path id=\"DejaVuSans-20\" transform=\"scale(0.015625)\"/>\r\n        <path d=\"M 1259 2228 \r\nL 1259 519 \r\nL 2272 519 \r\nQ 2781 519 3026 730 \r\nQ 3272 941 3272 1375 \r\nQ 3272 1813 3026 2020 \r\nQ 2781 2228 2272 2228 \r\nL 1259 2228 \r\nz\r\nM 1259 4147 \r\nL 1259 2741 \r\nL 2194 2741 \r\nQ 2656 2741 2882 2914 \r\nQ 3109 3088 3109 3444 \r\nQ 3109 3797 2882 3972 \r\nQ 2656 4147 2194 4147 \r\nL 1259 4147 \r\nz\r\nM 628 4666 \r\nL 2241 4666 \r\nQ 2963 4666 3353 4366 \r\nQ 3744 4066 3744 3513 \r\nQ 3744 3084 3544 2831 \r\nQ 3344 2578 2956 2516 \r\nQ 3422 2416 3680 2098 \r\nQ 3938 1781 3938 1306 \r\nQ 3938 681 3513 340 \r\nQ 3088 0 2303 0 \r\nL 628 0 \r\nL 628 4666 \r\nz\r\n\" id=\"DejaVuSans-42\" transform=\"scale(0.015625)\"/>\r\n        <path d=\"M 603 4863 \r\nL 1178 4863 \r\nL 1178 0 \r\nL 603 0 \r\nL 603 4863 \r\nz\r\n\" id=\"DejaVuSans-6c\" transform=\"scale(0.015625)\"/>\r\n        <path d=\"M 1959 3097 \r\nQ 1497 3097 1228 2736 \r\nQ 959 2375 959 1747 \r\nQ 959 1119 1226 758 \r\nQ 1494 397 1959 397 \r\nQ 2419 397 2687 759 \r\nQ 2956 1122 2956 1747 \r\nQ 2956 2369 2687 2733 \r\nQ 2419 3097 1959 3097 \r\nz\r\nM 1959 3584 \r\nQ 2709 3584 3137 3096 \r\nQ 3566 2609 3566 1747 \r\nQ 3566 888 3137 398 \r\nQ 2709 -91 1959 -91 \r\nQ 1206 -91 779 398 \r\nQ 353 888 353 1747 \r\nQ 353 2609 779 3096 \r\nQ 1206 3584 1959 3584 \r\nz\r\n\" id=\"DejaVuSans-6f\" transform=\"scale(0.015625)\"/>\r\n        <path d=\"M 3513 2113 \r\nL 3513 0 \r\nL 2938 0 \r\nL 2938 2094 \r\nQ 2938 2591 2744 2837 \r\nQ 2550 3084 2163 3084 \r\nQ 1697 3084 1428 2787 \r\nQ 1159 2491 1159 1978 \r\nL 1159 0 \r\nL 581 0 \r\nL 581 3500 \r\nL 1159 3500 \r\nL 1159 2956 \r\nQ 1366 3272 1645 3428 \r\nQ 1925 3584 2291 3584 \r\nQ 2894 3584 3203 3211 \r\nQ 3513 2838 3513 2113 \r\nz\r\n\" id=\"DejaVuSans-6e\" transform=\"scale(0.015625)\"/>\r\n        <path d=\"M 2906 2969 \r\nL 2906 4863 \r\nL 3481 4863 \r\nL 3481 0 \r\nL 2906 0 \r\nL 2906 525 \r\nQ 2725 213 2448 61 \r\nQ 2172 -91 1784 -91 \r\nQ 1150 -91 751 415 \r\nQ 353 922 353 1747 \r\nQ 353 2572 751 3078 \r\nQ 1150 3584 1784 3584 \r\nQ 2172 3584 2448 3432 \r\nQ 2725 3281 2906 2969 \r\nz\r\nM 947 1747 \r\nQ 947 1113 1208 752 \r\nQ 1469 391 1925 391 \r\nQ 2381 391 2643 752 \r\nQ 2906 1113 2906 1747 \r\nQ 2906 2381 2643 2742 \r\nQ 2381 3103 1925 3103 \r\nQ 1469 3103 1208 2742 \r\nQ 947 2381 947 1747 \r\nz\r\n\" id=\"DejaVuSans-64\" transform=\"scale(0.015625)\"/>\r\n       </defs>\r\n       <use xlink:href=\"#DejaVuSans-4c\"/>\r\n       <use x=\"55.712891\" xlink:href=\"#DejaVuSans-69\"/>\r\n       <use x=\"83.496094\" xlink:href=\"#DejaVuSans-67\"/>\r\n       <use x=\"146.972656\" xlink:href=\"#DejaVuSans-68\"/>\r\n       <use x=\"210.351562\" xlink:href=\"#DejaVuSans-74\"/>\r\n       <use x=\"249.560547\" xlink:href=\"#DejaVuSans-20\"/>\r\n       <use x=\"281.347656\" xlink:href=\"#DejaVuSans-42\"/>\r\n       <use x=\"349.951172\" xlink:href=\"#DejaVuSans-6c\"/>\r\n       <use x=\"377.734375\" xlink:href=\"#DejaVuSans-6f\"/>\r\n       <use x=\"438.916016\" xlink:href=\"#DejaVuSans-6e\"/>\r\n       <use x=\"502.294922\" xlink:href=\"#DejaVuSans-64\"/>\r\n      </g>\r\n     </g>\r\n    </g>\r\n    <g id=\"xtick_2\">\r\n     <g id=\"line2d_2\">\r\n      <g>\r\n       <use style=\"stroke:#000000;stroke-width:0.8;\" x=\"166.153125\" xlink:href=\"#m3e21d0f781\" y=\"224.64\"/>\r\n      </g>\r\n     </g>\r\n     <g id=\"text_2\">\r\n      <!-- Dark Blond -->\r\n      <g transform=\"translate(138.477344 239.238437)scale(0.1 -0.1)\">\r\n       <defs>\r\n        <path d=\"M 1259 4147 \r\nL 1259 519 \r\nL 2022 519 \r\nQ 2988 519 3436 956 \r\nQ 3884 1394 3884 2338 \r\nQ 3884 3275 3436 3711 \r\nQ 2988 4147 2022 4147 \r\nL 1259 4147 \r\nz\r\nM 628 4666 \r\nL 1925 4666 \r\nQ 3281 4666 3915 4102 \r\nQ 4550 3538 4550 2338 \r\nQ 4550 1131 3912 565 \r\nQ 3275 0 1925 0 \r\nL 628 0 \r\nL 628 4666 \r\nz\r\n\" id=\"DejaVuSans-44\" transform=\"scale(0.015625)\"/>\r\n        <path d=\"M 2194 1759 \r\nQ 1497 1759 1228 1600 \r\nQ 959 1441 959 1056 \r\nQ 959 750 1161 570 \r\nQ 1363 391 1709 391 \r\nQ 2188 391 2477 730 \r\nQ 2766 1069 2766 1631 \r\nL 2766 1759 \r\nL 2194 1759 \r\nz\r\nM 3341 1997 \r\nL 3341 0 \r\nL 2766 0 \r\nL 2766 531 \r\nQ 2569 213 2275 61 \r\nQ 1981 -91 1556 -91 \r\nQ 1019 -91 701 211 \r\nQ 384 513 384 1019 \r\nQ 384 1609 779 1909 \r\nQ 1175 2209 1959 2209 \r\nL 2766 2209 \r\nL 2766 2266 \r\nQ 2766 2663 2505 2880 \r\nQ 2244 3097 1772 3097 \r\nQ 1472 3097 1187 3025 \r\nQ 903 2953 641 2809 \r\nL 641 3341 \r\nQ 956 3463 1253 3523 \r\nQ 1550 3584 1831 3584 \r\nQ 2591 3584 2966 3190 \r\nQ 3341 2797 3341 1997 \r\nz\r\n\" id=\"DejaVuSans-61\" transform=\"scale(0.015625)\"/>\r\n        <path d=\"M 2631 2963 \r\nQ 2534 3019 2420 3045 \r\nQ 2306 3072 2169 3072 \r\nQ 1681 3072 1420 2755 \r\nQ 1159 2438 1159 1844 \r\nL 1159 0 \r\nL 581 0 \r\nL 581 3500 \r\nL 1159 3500 \r\nL 1159 2956 \r\nQ 1341 3275 1631 3429 \r\nQ 1922 3584 2338 3584 \r\nQ 2397 3584 2469 3576 \r\nQ 2541 3569 2628 3553 \r\nL 2631 2963 \r\nz\r\n\" id=\"DejaVuSans-72\" transform=\"scale(0.015625)\"/>\r\n        <path d=\"M 581 4863 \r\nL 1159 4863 \r\nL 1159 1991 \r\nL 2875 3500 \r\nL 3609 3500 \r\nL 1753 1863 \r\nL 3688 0 \r\nL 2938 0 \r\nL 1159 1709 \r\nL 1159 0 \r\nL 581 0 \r\nL 581 4863 \r\nz\r\n\" id=\"DejaVuSans-6b\" transform=\"scale(0.015625)\"/>\r\n       </defs>\r\n       <use xlink:href=\"#DejaVuSans-44\"/>\r\n       <use x=\"77.001953\" xlink:href=\"#DejaVuSans-61\"/>\r\n       <use x=\"138.28125\" xlink:href=\"#DejaVuSans-72\"/>\r\n       <use x=\"179.394531\" xlink:href=\"#DejaVuSans-6b\"/>\r\n       <use x=\"237.304688\" xlink:href=\"#DejaVuSans-20\"/>\r\n       <use x=\"269.091797\" xlink:href=\"#DejaVuSans-42\"/>\r\n       <use x=\"337.695312\" xlink:href=\"#DejaVuSans-6c\"/>\r\n       <use x=\"365.478516\" xlink:href=\"#DejaVuSans-6f\"/>\r\n       <use x=\"426.660156\" xlink:href=\"#DejaVuSans-6e\"/>\r\n       <use x=\"490.039062\" xlink:href=\"#DejaVuSans-64\"/>\r\n      </g>\r\n     </g>\r\n    </g>\r\n    <g id=\"xtick_3\">\r\n     <g id=\"line2d_3\">\r\n      <g>\r\n       <use style=\"stroke:#000000;stroke-width:0.8;\" x=\"249.853125\" xlink:href=\"#m3e21d0f781\" y=\"224.64\"/>\r\n      </g>\r\n     </g>\r\n     <g id=\"text_3\">\r\n      <!-- Light Brunette -->\r\n      <g transform=\"translate(213.889062 239.238437)scale(0.1 -0.1)\">\r\n       <defs>\r\n        <path d=\"M 544 1381 \r\nL 544 3500 \r\nL 1119 3500 \r\nL 1119 1403 \r\nQ 1119 906 1312 657 \r\nQ 1506 409 1894 409 \r\nQ 2359 409 2629 706 \r\nQ 2900 1003 2900 1516 \r\nL 2900 3500 \r\nL 3475 3500 \r\nL 3475 0 \r\nL 2900 0 \r\nL 2900 538 \r\nQ 2691 219 2414 64 \r\nQ 2138 -91 1772 -91 \r\nQ 1169 -91 856 284 \r\nQ 544 659 544 1381 \r\nz\r\nM 1991 3584 \r\nL 1991 3584 \r\nz\r\n\" id=\"DejaVuSans-75\" transform=\"scale(0.015625)\"/>\r\n        <path d=\"M 3597 1894 \r\nL 3597 1613 \r\nL 953 1613 \r\nQ 991 1019 1311 708 \r\nQ 1631 397 2203 397 \r\nQ 2534 397 2845 478 \r\nQ 3156 559 3463 722 \r\nL 3463 178 \r\nQ 3153 47 2828 -22 \r\nQ 2503 -91 2169 -91 \r\nQ 1331 -91 842 396 \r\nQ 353 884 353 1716 \r\nQ 353 2575 817 3079 \r\nQ 1281 3584 2069 3584 \r\nQ 2775 3584 3186 3129 \r\nQ 3597 2675 3597 1894 \r\nz\r\nM 3022 2063 \r\nQ 3016 2534 2758 2815 \r\nQ 2500 3097 2075 3097 \r\nQ 1594 3097 1305 2825 \r\nQ 1016 2553 972 2059 \r\nL 3022 2063 \r\nz\r\n\" id=\"DejaVuSans-65\" transform=\"scale(0.015625)\"/>\r\n       </defs>\r\n       <use xlink:href=\"#DejaVuSans-4c\"/>\r\n       <use x=\"55.712891\" xlink:href=\"#DejaVuSans-69\"/>\r\n       <use x=\"83.496094\" xlink:href=\"#DejaVuSans-67\"/>\r\n       <use x=\"146.972656\" xlink:href=\"#DejaVuSans-68\"/>\r\n       <use x=\"210.351562\" xlink:href=\"#DejaVuSans-74\"/>\r\n       <use x=\"249.560547\" xlink:href=\"#DejaVuSans-20\"/>\r\n       <use x=\"281.347656\" xlink:href=\"#DejaVuSans-42\"/>\r\n       <use x=\"349.951172\" xlink:href=\"#DejaVuSans-72\"/>\r\n       <use x=\"391.064453\" xlink:href=\"#DejaVuSans-75\"/>\r\n       <use x=\"454.443359\" xlink:href=\"#DejaVuSans-6e\"/>\r\n       <use x=\"517.822266\" xlink:href=\"#DejaVuSans-65\"/>\r\n       <use x=\"579.345703\" xlink:href=\"#DejaVuSans-74\"/>\r\n       <use x=\"618.554688\" xlink:href=\"#DejaVuSans-74\"/>\r\n       <use x=\"657.763672\" xlink:href=\"#DejaVuSans-65\"/>\r\n      </g>\r\n     </g>\r\n    </g>\r\n    <g id=\"xtick_4\">\r\n     <g id=\"line2d_4\">\r\n      <g>\r\n       <use style=\"stroke:#000000;stroke-width:0.8;\" x=\"333.553125\" xlink:href=\"#m3e21d0f781\" y=\"224.64\"/>\r\n      </g>\r\n     </g>\r\n     <g id=\"text_4\">\r\n      <!-- Dark Brunette -->\r\n      <g transform=\"translate(298.202344 239.238437)scale(0.1 -0.1)\">\r\n       <use xlink:href=\"#DejaVuSans-44\"/>\r\n       <use x=\"77.001953\" xlink:href=\"#DejaVuSans-61\"/>\r\n       <use x=\"138.28125\" xlink:href=\"#DejaVuSans-72\"/>\r\n       <use x=\"179.394531\" xlink:href=\"#DejaVuSans-6b\"/>\r\n       <use x=\"237.304688\" xlink:href=\"#DejaVuSans-20\"/>\r\n       <use x=\"269.091797\" xlink:href=\"#DejaVuSans-42\"/>\r\n       <use x=\"337.695312\" xlink:href=\"#DejaVuSans-72\"/>\r\n       <use x=\"378.808594\" xlink:href=\"#DejaVuSans-75\"/>\r\n       <use x=\"442.1875\" xlink:href=\"#DejaVuSans-6e\"/>\r\n       <use x=\"505.566406\" xlink:href=\"#DejaVuSans-65\"/>\r\n       <use x=\"567.089844\" xlink:href=\"#DejaVuSans-74\"/>\r\n       <use x=\"606.298828\" xlink:href=\"#DejaVuSans-74\"/>\r\n       <use x=\"645.507812\" xlink:href=\"#DejaVuSans-65\"/>\r\n      </g>\r\n     </g>\r\n    </g>\r\n    <g id=\"text_5\">\r\n     <!-- Hair color -->\r\n     <g transform=\"translate(183.832812 252.916562)scale(0.1 -0.1)\">\r\n      <defs>\r\n       <path d=\"M 628 4666 \r\nL 1259 4666 \r\nL 1259 2753 \r\nL 3553 2753 \r\nL 3553 4666 \r\nL 4184 4666 \r\nL 4184 0 \r\nL 3553 0 \r\nL 3553 2222 \r\nL 1259 2222 \r\nL 1259 0 \r\nL 628 0 \r\nL 628 4666 \r\nz\r\n\" id=\"DejaVuSans-48\" transform=\"scale(0.015625)\"/>\r\n       <path d=\"M 3122 3366 \r\nL 3122 2828 \r\nQ 2878 2963 2633 3030 \r\nQ 2388 3097 2138 3097 \r\nQ 1578 3097 1268 2742 \r\nQ 959 2388 959 1747 \r\nQ 959 1106 1268 751 \r\nQ 1578 397 2138 397 \r\nQ 2388 397 2633 464 \r\nQ 2878 531 3122 666 \r\nL 3122 134 \r\nQ 2881 22 2623 -34 \r\nQ 2366 -91 2075 -91 \r\nQ 1284 -91 818 406 \r\nQ 353 903 353 1747 \r\nQ 353 2603 823 3093 \r\nQ 1294 3584 2113 3584 \r\nQ 2378 3584 2631 3529 \r\nQ 2884 3475 3122 3366 \r\nz\r\n\" id=\"DejaVuSans-63\" transform=\"scale(0.015625)\"/>\r\n      </defs>\r\n      <use xlink:href=\"#DejaVuSans-48\"/>\r\n      <use x=\"75.195312\" xlink:href=\"#DejaVuSans-61\"/>\r\n      <use x=\"136.474609\" xlink:href=\"#DejaVuSans-69\"/>\r\n      <use x=\"164.257812\" xlink:href=\"#DejaVuSans-72\"/>\r\n      <use x=\"205.371094\" xlink:href=\"#DejaVuSans-20\"/>\r\n      <use x=\"237.158203\" xlink:href=\"#DejaVuSans-63\"/>\r\n      <use x=\"292.138672\" xlink:href=\"#DejaVuSans-6f\"/>\r\n      <use x=\"353.320312\" xlink:href=\"#DejaVuSans-6c\"/>\r\n      <use x=\"381.103516\" xlink:href=\"#DejaVuSans-6f\"/>\r\n      <use x=\"442.285156\" xlink:href=\"#DejaVuSans-72\"/>\r\n     </g>\r\n    </g>\r\n   </g>\r\n   <g id=\"matplotlib.axis_2\">\r\n    <g id=\"ytick_1\">\r\n     <g id=\"line2d_5\">\r\n      <defs>\r\n       <path d=\"M 0 0 \r\nL -3.5 0 \r\n\" id=\"m9564d30087\" style=\"stroke:#000000;stroke-width:0.8;\"/>\r\n      </defs>\r\n      <g>\r\n       <use style=\"stroke:#000000;stroke-width:0.8;\" x=\"40.603125\" xlink:href=\"#m9564d30087\" y=\"214.756364\"/>\r\n      </g>\r\n     </g>\r\n     <g id=\"text_6\">\r\n      <!-- 30 -->\r\n      <g transform=\"translate(20.878125 218.555582)scale(0.1 -0.1)\">\r\n       <defs>\r\n        <path d=\"M 2597 2516 \r\nQ 3050 2419 3304 2112 \r\nQ 3559 1806 3559 1356 \r\nQ 3559 666 3084 287 \r\nQ 2609 -91 1734 -91 \r\nQ 1441 -91 1130 -33 \r\nQ 819 25 488 141 \r\nL 488 750 \r\nQ 750 597 1062 519 \r\nQ 1375 441 1716 441 \r\nQ 2309 441 2620 675 \r\nQ 2931 909 2931 1356 \r\nQ 2931 1769 2642 2001 \r\nQ 2353 2234 1838 2234 \r\nL 1294 2234 \r\nL 1294 2753 \r\nL 1863 2753 \r\nQ 2328 2753 2575 2939 \r\nQ 2822 3125 2822 3475 \r\nQ 2822 3834 2567 4026 \r\nQ 2313 4219 1838 4219 \r\nQ 1578 4219 1281 4162 \r\nQ 984 4106 628 3988 \r\nL 628 4550 \r\nQ 988 4650 1302 4700 \r\nQ 1616 4750 1894 4750 \r\nQ 2613 4750 3031 4423 \r\nQ 3450 4097 3450 3541 \r\nQ 3450 3153 3228 2886 \r\nQ 3006 2619 2597 2516 \r\nz\r\n\" id=\"DejaVuSans-33\" transform=\"scale(0.015625)\"/>\r\n        <path d=\"M 2034 4250 \r\nQ 1547 4250 1301 3770 \r\nQ 1056 3291 1056 2328 \r\nQ 1056 1369 1301 889 \r\nQ 1547 409 2034 409 \r\nQ 2525 409 2770 889 \r\nQ 3016 1369 3016 2328 \r\nQ 3016 3291 2770 3770 \r\nQ 2525 4250 2034 4250 \r\nz\r\nM 2034 4750 \r\nQ 2819 4750 3233 4129 \r\nQ 3647 3509 3647 2328 \r\nQ 3647 1150 3233 529 \r\nQ 2819 -91 2034 -91 \r\nQ 1250 -91 836 529 \r\nQ 422 1150 422 2328 \r\nQ 422 3509 836 4129 \r\nQ 1250 4750 2034 4750 \r\nz\r\n\" id=\"DejaVuSans-30\" transform=\"scale(0.015625)\"/>\r\n       </defs>\r\n       <use xlink:href=\"#DejaVuSans-33\"/>\r\n       <use x=\"63.623047\" xlink:href=\"#DejaVuSans-30\"/>\r\n      </g>\r\n     </g>\r\n    </g>\r\n    <g id=\"ytick_2\">\r\n     <g id=\"line2d_6\">\r\n      <g>\r\n       <use style=\"stroke:#000000;stroke-width:0.8;\" x=\"40.603125\" xlink:href=\"#m9564d30087\" y=\"166.543503\"/>\r\n      </g>\r\n     </g>\r\n     <g id=\"text_7\">\r\n      <!-- 40 -->\r\n      <g transform=\"translate(20.878125 170.342722)scale(0.1 -0.1)\">\r\n       <defs>\r\n        <path d=\"M 2419 4116 \r\nL 825 1625 \r\nL 2419 1625 \r\nL 2419 4116 \r\nz\r\nM 2253 4666 \r\nL 3047 4666 \r\nL 3047 1625 \r\nL 3713 1625 \r\nL 3713 1100 \r\nL 3047 1100 \r\nL 3047 0 \r\nL 2419 0 \r\nL 2419 1100 \r\nL 313 1100 \r\nL 313 1709 \r\nL 2253 4666 \r\nz\r\n\" id=\"DejaVuSans-34\" transform=\"scale(0.015625)\"/>\r\n       </defs>\r\n       <use xlink:href=\"#DejaVuSans-34\"/>\r\n       <use x=\"63.623047\" xlink:href=\"#DejaVuSans-30\"/>\r\n      </g>\r\n     </g>\r\n    </g>\r\n    <g id=\"ytick_3\">\r\n     <g id=\"line2d_7\">\r\n      <g>\r\n       <use style=\"stroke:#000000;stroke-width:0.8;\" x=\"40.603125\" xlink:href=\"#m9564d30087\" y=\"118.330643\"/>\r\n      </g>\r\n     </g>\r\n     <g id=\"text_8\">\r\n      <!-- 50 -->\r\n      <g transform=\"translate(20.878125 122.129862)scale(0.1 -0.1)\">\r\n       <defs>\r\n        <path d=\"M 691 4666 \r\nL 3169 4666 \r\nL 3169 4134 \r\nL 1269 4134 \r\nL 1269 2991 \r\nQ 1406 3038 1543 3061 \r\nQ 1681 3084 1819 3084 \r\nQ 2600 3084 3056 2656 \r\nQ 3513 2228 3513 1497 \r\nQ 3513 744 3044 326 \r\nQ 2575 -91 1722 -91 \r\nQ 1428 -91 1123 -41 \r\nQ 819 9 494 109 \r\nL 494 744 \r\nQ 775 591 1075 516 \r\nQ 1375 441 1709 441 \r\nQ 2250 441 2565 725 \r\nQ 2881 1009 2881 1497 \r\nQ 2881 1984 2565 2268 \r\nQ 2250 2553 1709 2553 \r\nQ 1456 2553 1204 2497 \r\nQ 953 2441 691 2322 \r\nL 691 4666 \r\nz\r\n\" id=\"DejaVuSans-35\" transform=\"scale(0.015625)\"/>\r\n       </defs>\r\n       <use xlink:href=\"#DejaVuSans-35\"/>\r\n       <use x=\"63.623047\" xlink:href=\"#DejaVuSans-30\"/>\r\n      </g>\r\n     </g>\r\n    </g>\r\n    <g id=\"ytick_4\">\r\n     <g id=\"line2d_8\">\r\n      <g>\r\n       <use style=\"stroke:#000000;stroke-width:0.8;\" x=\"40.603125\" xlink:href=\"#m9564d30087\" y=\"70.117783\"/>\r\n      </g>\r\n     </g>\r\n     <g id=\"text_9\">\r\n      <!-- 60 -->\r\n      <g transform=\"translate(20.878125 73.917001)scale(0.1 -0.1)\">\r\n       <defs>\r\n        <path d=\"M 2113 2584 \r\nQ 1688 2584 1439 2293 \r\nQ 1191 2003 1191 1497 \r\nQ 1191 994 1439 701 \r\nQ 1688 409 2113 409 \r\nQ 2538 409 2786 701 \r\nQ 3034 994 3034 1497 \r\nQ 3034 2003 2786 2293 \r\nQ 2538 2584 2113 2584 \r\nz\r\nM 3366 4563 \r\nL 3366 3988 \r\nQ 3128 4100 2886 4159 \r\nQ 2644 4219 2406 4219 \r\nQ 1781 4219 1451 3797 \r\nQ 1122 3375 1075 2522 \r\nQ 1259 2794 1537 2939 \r\nQ 1816 3084 2150 3084 \r\nQ 2853 3084 3261 2657 \r\nQ 3669 2231 3669 1497 \r\nQ 3669 778 3244 343 \r\nQ 2819 -91 2113 -91 \r\nQ 1303 -91 875 529 \r\nQ 447 1150 447 2328 \r\nQ 447 3434 972 4092 \r\nQ 1497 4750 2381 4750 \r\nQ 2619 4750 2861 4703 \r\nQ 3103 4656 3366 4563 \r\nz\r\n\" id=\"DejaVuSans-36\" transform=\"scale(0.015625)\"/>\r\n       </defs>\r\n       <use xlink:href=\"#DejaVuSans-36\"/>\r\n       <use x=\"63.623047\" xlink:href=\"#DejaVuSans-30\"/>\r\n      </g>\r\n     </g>\r\n    </g>\r\n    <g id=\"ytick_5\">\r\n     <g id=\"line2d_9\">\r\n      <g>\r\n       <use style=\"stroke:#000000;stroke-width:0.8;\" x=\"40.603125\" xlink:href=\"#m9564d30087\" y=\"21.904922\"/>\r\n      </g>\r\n     </g>\r\n     <g id=\"text_10\">\r\n      <!-- 70 -->\r\n      <g transform=\"translate(20.878125 25.704141)scale(0.1 -0.1)\">\r\n       <defs>\r\n        <path d=\"M 525 4666 \r\nL 3525 4666 \r\nL 3525 4397 \r\nL 1831 0 \r\nL 1172 0 \r\nL 2766 4134 \r\nL 525 4134 \r\nL 525 4666 \r\nz\r\n\" id=\"DejaVuSans-37\" transform=\"scale(0.015625)\"/>\r\n       </defs>\r\n       <use xlink:href=\"#DejaVuSans-37\"/>\r\n       <use x=\"63.623047\" xlink:href=\"#DejaVuSans-30\"/>\r\n      </g>\r\n     </g>\r\n    </g>\r\n    <g id=\"text_11\">\r\n     <!-- Pain threshold -->\r\n     <g transform=\"translate(14.798438 151.465312)rotate(-90)scale(0.1 -0.1)\">\r\n      <defs>\r\n       <path d=\"M 1259 4147 \r\nL 1259 2394 \r\nL 2053 2394 \r\nQ 2494 2394 2734 2622 \r\nQ 2975 2850 2975 3272 \r\nQ 2975 3691 2734 3919 \r\nQ 2494 4147 2053 4147 \r\nL 1259 4147 \r\nz\r\nM 628 4666 \r\nL 2053 4666 \r\nQ 2838 4666 3239 4311 \r\nQ 3641 3956 3641 3272 \r\nQ 3641 2581 3239 2228 \r\nQ 2838 1875 2053 1875 \r\nL 1259 1875 \r\nL 1259 0 \r\nL 628 0 \r\nL 628 4666 \r\nz\r\n\" id=\"DejaVuSans-50\" transform=\"scale(0.015625)\"/>\r\n       <path d=\"M 2834 3397 \r\nL 2834 2853 \r\nQ 2591 2978 2328 3040 \r\nQ 2066 3103 1784 3103 \r\nQ 1356 3103 1142 2972 \r\nQ 928 2841 928 2578 \r\nQ 928 2378 1081 2264 \r\nQ 1234 2150 1697 2047 \r\nL 1894 2003 \r\nQ 2506 1872 2764 1633 \r\nQ 3022 1394 3022 966 \r\nQ 3022 478 2636 193 \r\nQ 2250 -91 1575 -91 \r\nQ 1294 -91 989 -36 \r\nQ 684 19 347 128 \r\nL 347 722 \r\nQ 666 556 975 473 \r\nQ 1284 391 1588 391 \r\nQ 1994 391 2212 530 \r\nQ 2431 669 2431 922 \r\nQ 2431 1156 2273 1281 \r\nQ 2116 1406 1581 1522 \r\nL 1381 1569 \r\nQ 847 1681 609 1914 \r\nQ 372 2147 372 2553 \r\nQ 372 3047 722 3315 \r\nQ 1072 3584 1716 3584 \r\nQ 2034 3584 2315 3537 \r\nQ 2597 3491 2834 3397 \r\nz\r\n\" id=\"DejaVuSans-73\" transform=\"scale(0.015625)\"/>\r\n      </defs>\r\n      <use xlink:href=\"#DejaVuSans-50\"/>\r\n      <use x=\"55.802734\" xlink:href=\"#DejaVuSans-61\"/>\r\n      <use x=\"117.082031\" xlink:href=\"#DejaVuSans-69\"/>\r\n      <use x=\"144.865234\" xlink:href=\"#DejaVuSans-6e\"/>\r\n      <use x=\"208.244141\" xlink:href=\"#DejaVuSans-20\"/>\r\n      <use x=\"240.03125\" xlink:href=\"#DejaVuSans-74\"/>\r\n      <use x=\"279.240234\" xlink:href=\"#DejaVuSans-68\"/>\r\n      <use x=\"342.619141\" xlink:href=\"#DejaVuSans-72\"/>\r\n      <use x=\"381.482422\" xlink:href=\"#DejaVuSans-65\"/>\r\n      <use x=\"443.005859\" xlink:href=\"#DejaVuSans-73\"/>\r\n      <use x=\"495.105469\" xlink:href=\"#DejaVuSans-68\"/>\r\n      <use x=\"558.484375\" xlink:href=\"#DejaVuSans-6f\"/>\r\n      <use x=\"619.666016\" xlink:href=\"#DejaVuSans-6c\"/>\r\n      <use x=\"647.449219\" xlink:href=\"#DejaVuSans-64\"/>\r\n     </g>\r\n    </g>\r\n   </g>\r\n   <g id=\"line2d_10\">\r\n    <path clip-path=\"url(#p4464b371bd)\" d=\"M 82.453125 94.224213 \r\nL 82.453125 127.973215 \r\n\" style=\"fill:none;stroke:#3d3d3d;stroke-linecap:square;stroke-width:1.5;\"/>\r\n   </g>\r\n   <g id=\"line2d_11\">\r\n    <path clip-path=\"url(#p4464b371bd)\" d=\"M 82.453125 60.475211 \r\nL 82.453125 17.083636 \r\n\" style=\"fill:none;stroke:#3d3d3d;stroke-linecap:square;stroke-width:1.5;\"/>\r\n   </g>\r\n   <g id=\"line2d_12\">\r\n    <path clip-path=\"url(#p4464b371bd)\" d=\"M 65.713125 127.973215 \r\nL 99.193125 127.973215 \r\n\" style=\"fill:none;stroke:#3d3d3d;stroke-linecap:square;stroke-width:1.5;\"/>\r\n   </g>\r\n   <g id=\"line2d_13\">\r\n    <path clip-path=\"url(#p4464b371bd)\" d=\"M 65.713125 17.083636 \r\nL 99.193125 17.083636 \r\n\" style=\"fill:none;stroke:#3d3d3d;stroke-linecap:square;stroke-width:1.5;\"/>\r\n   </g>\r\n   <g id=\"line2d_14\"/>\r\n   <g id=\"line2d_15\">\r\n    <path clip-path=\"url(#p4464b371bd)\" d=\"M 166.153125 152.079645 \r\nL 166.153125 161.722217 \r\n\" style=\"fill:none;stroke:#3d3d3d;stroke-linecap:square;stroke-width:1.5;\"/>\r\n   </g>\r\n   <g id=\"line2d_16\">\r\n    <path clip-path=\"url(#p4464b371bd)\" d=\"M 166.153125 84.581641 \r\nL 166.153125 55.653925 \r\n\" style=\"fill:none;stroke:#3d3d3d;stroke-linecap:square;stroke-width:1.5;\"/>\r\n   </g>\r\n   <g id=\"line2d_17\">\r\n    <path clip-path=\"url(#p4464b371bd)\" d=\"M 149.413125 161.722217 \r\nL 182.893125 161.722217 \r\n\" style=\"fill:none;stroke:#3d3d3d;stroke-linecap:square;stroke-width:1.5;\"/>\r\n   </g>\r\n   <g id=\"line2d_18\">\r\n    <path clip-path=\"url(#p4464b371bd)\" d=\"M 149.413125 55.653925 \r\nL 182.893125 55.653925 \r\n\" style=\"fill:none;stroke:#3d3d3d;stroke-linecap:square;stroke-width:1.5;\"/>\r\n   </g>\r\n   <g id=\"line2d_19\"/>\r\n   <g id=\"line2d_20\">\r\n    <path clip-path=\"url(#p4464b371bd)\" d=\"M 249.853125 166.543503 \r\nL 249.853125 181.007361 \r\n\" style=\"fill:none;stroke:#3d3d3d;stroke-linecap:square;stroke-width:1.5;\"/>\r\n   </g>\r\n   <g id=\"line2d_21\">\r\n    <path clip-path=\"url(#p4464b371bd)\" d=\"M 249.853125 147.258359 \r\nL 249.853125 118.330643 \r\n\" style=\"fill:none;stroke:#3d3d3d;stroke-linecap:square;stroke-width:1.5;\"/>\r\n   </g>\r\n   <g id=\"line2d_22\">\r\n    <path clip-path=\"url(#p4464b371bd)\" d=\"M 233.113125 181.007361 \r\nL 266.593125 181.007361 \r\n\" style=\"fill:none;stroke:#3d3d3d;stroke-linecap:square;stroke-width:1.5;\"/>\r\n   </g>\r\n   <g id=\"line2d_23\">\r\n    <path clip-path=\"url(#p4464b371bd)\" d=\"M 233.113125 118.330643 \r\nL 266.593125 118.330643 \r\n\" style=\"fill:none;stroke:#3d3d3d;stroke-linecap:square;stroke-width:1.5;\"/>\r\n   </g>\r\n   <g id=\"line2d_24\"/>\r\n   <g id=\"line2d_25\">\r\n    <path clip-path=\"url(#p4464b371bd)\" d=\"M 333.553125 205.113792 \r\nL 333.553125 214.756364 \r\n\" style=\"fill:none;stroke:#3d3d3d;stroke-linecap:square;stroke-width:1.5;\"/>\r\n   </g>\r\n   <g id=\"line2d_26\">\r\n    <path clip-path=\"url(#p4464b371bd)\" d=\"M 333.553125 171.364789 \r\nL 333.553125 171.364789 \r\n\" style=\"fill:none;stroke:#3d3d3d;stroke-linecap:square;stroke-width:1.5;\"/>\r\n   </g>\r\n   <g id=\"line2d_27\">\r\n    <path clip-path=\"url(#p4464b371bd)\" d=\"M 316.813125 214.756364 \r\nL 350.293125 214.756364 \r\n\" style=\"fill:none;stroke:#3d3d3d;stroke-linecap:square;stroke-width:1.5;\"/>\r\n   </g>\r\n   <g id=\"line2d_28\">\r\n    <path clip-path=\"url(#p4464b371bd)\" d=\"M 316.813125 171.364789 \r\nL 350.293125 171.364789 \r\n\" style=\"fill:none;stroke:#3d3d3d;stroke-linecap:square;stroke-width:1.5;\"/>\r\n   </g>\r\n   <g id=\"line2d_29\">\r\n    <defs>\r\n     <path d=\"M 0 3.535534 \r\nL 2.12132 0 \r\nL 0 -3.535534 \r\nL -2.12132 0 \r\nz\r\n\" id=\"mb3546f7d60\" style=\"stroke:#3d3d3d;stroke-linejoin:miter;\"/>\r\n    </defs>\r\n    <g clip-path=\"url(#p4464b371bd)\">\r\n     <use style=\"fill:#3d3d3d;stroke:#3d3d3d;stroke-linejoin:miter;\" x=\"333.553125\" xlink:href=\"#mb3546f7d60\" y=\"113.509357\"/>\r\n    </g>\r\n   </g>\r\n   <g id=\"line2d_30\">\r\n    <path clip-path=\"url(#p4464b371bd)\" d=\"M 48.973125 70.117783 \r\nL 115.933125 70.117783 \r\n\" style=\"fill:none;stroke:#3d3d3d;stroke-linecap:square;stroke-width:1.5;\"/>\r\n   </g>\r\n   <g id=\"line2d_31\">\r\n    <path clip-path=\"url(#p4464b371bd)\" d=\"M 132.673125 108.688071 \r\nL 199.633125 108.688071 \r\n\" style=\"fill:none;stroke:#3d3d3d;stroke-linecap:square;stroke-width:1.5;\"/>\r\n   </g>\r\n   <g id=\"line2d_32\">\r\n    <path clip-path=\"url(#p4464b371bd)\" d=\"M 216.373125 159.311574 \r\nL 283.333125 159.311574 \r\n\" style=\"fill:none;stroke:#3d3d3d;stroke-linecap:square;stroke-width:1.5;\"/>\r\n   </g>\r\n   <g id=\"line2d_33\">\r\n    <path clip-path=\"url(#p4464b371bd)\" d=\"M 300.073125 190.649933 \r\nL 367.033125 190.649933 \r\n\" style=\"fill:none;stroke:#3d3d3d;stroke-linecap:square;stroke-width:1.5;\"/>\r\n   </g>\r\n   <g id=\"patch_7\">\r\n    <path d=\"M 40.603125 224.64 \r\nL 40.603125 7.2 \r\n\" style=\"fill:none;stroke:#000000;stroke-linecap:square;stroke-linejoin:miter;stroke-width:0.8;\"/>\r\n   </g>\r\n   <g id=\"patch_8\">\r\n    <path d=\"M 375.403125 224.64 \r\nL 375.403125 7.2 \r\n\" style=\"fill:none;stroke:#000000;stroke-linecap:square;stroke-linejoin:miter;stroke-width:0.8;\"/>\r\n   </g>\r\n   <g id=\"patch_9\">\r\n    <path d=\"M 40.603125 224.64 \r\nL 375.403125 224.64 \r\n\" style=\"fill:none;stroke:#000000;stroke-linecap:square;stroke-linejoin:miter;stroke-width:0.8;\"/>\r\n   </g>\r\n   <g id=\"patch_10\">\r\n    <path d=\"M 40.603125 7.2 \r\nL 375.403125 7.2 \r\n\" style=\"fill:none;stroke:#000000;stroke-linecap:square;stroke-linejoin:miter;stroke-width:0.8;\"/>\r\n   </g>\r\n   <g id=\"PathCollection_1\">\r\n    <defs>\r\n     <path d=\"M 0 5 \r\nC 1.326016 5 2.597899 4.473168 3.535534 3.535534 \r\nC 4.473168 2.597899 5 1.326016 5 -0 \r\nC 5 -1.326016 4.473168 -2.597899 3.535534 -3.535534 \r\nC 2.597899 -4.473168 1.326016 -5 0 -5 \r\nC -1.326016 -5 -2.597899 -4.473168 -3.535534 -3.535534 \r\nC -4.473168 -2.597899 -5 -1.326016 -5 0 \r\nC -5 1.326016 -4.473168 2.597899 -3.535534 3.535534 \r\nC -2.597899 4.473168 -1.326016 5 0 5 \r\nz\r\n\" id=\"C0_0_ef70bf1cb9\"/>\r\n    </defs>\r\n    <g clip-path=\"url(#p4464b371bd)\">\r\n     <use x=\"86.944252\" xlink:href=\"#C0_0_ef70bf1cb9\" y=\"60.475211\"/>\r\n    </g>\r\n    <g clip-path=\"url(#p4464b371bd)\">\r\n     <use x=\"78.386947\" xlink:href=\"#C0_0_ef70bf1cb9\" y=\"70.117783\"/>\r\n    </g>\r\n    <g clip-path=\"url(#p4464b371bd)\">\r\n     <use x=\"81.070298\" xlink:href=\"#C0_0_ef70bf1cb9\" y=\"17.083636\"/>\r\n    </g>\r\n    <g clip-path=\"url(#p4464b371bd)\">\r\n     <use x=\"79.18333\" xlink:href=\"#C0_0_ef70bf1cb9\" y=\"94.224213\"/>\r\n    </g>\r\n    <g clip-path=\"url(#p4464b371bd)\">\r\n     <use x=\"80.648719\" xlink:href=\"#C0_0_ef70bf1cb9\" y=\"127.973215\"/>\r\n    </g>\r\n   </g>\r\n   <g id=\"PathCollection_2\">\r\n    <defs>\r\n     <path d=\"M 0 5 \r\nC 1.326016 5 2.597899 4.473168 3.535534 3.535534 \r\nC 4.473168 2.597899 5 1.326016 5 -0 \r\nC 5 -1.326016 4.473168 -2.597899 3.535534 -3.535534 \r\nC 2.597899 -4.473168 1.326016 -5 0 -5 \r\nC -1.326016 -5 -2.597899 -4.473168 -3.535534 -3.535534 \r\nC -4.473168 -2.597899 -5 -1.326016 -5 0 \r\nC -5 1.326016 -4.473168 2.597899 -3.535534 3.535534 \r\nC -2.597899 4.473168 -1.326016 5 0 5 \r\nz\r\n\" id=\"C1_0_e2b80afdb8\"/>\r\n    </defs>\r\n    <g clip-path=\"url(#p4464b371bd)\">\r\n     <use x=\"161.532358\" xlink:href=\"#C1_0_e2b80afdb8\" y=\"55.653925\"/>\r\n    </g>\r\n    <g clip-path=\"url(#p4464b371bd)\">\r\n     <use x=\"160.596025\" xlink:href=\"#C1_0_e2b80afdb8\" y=\"84.581641\"/>\r\n    </g>\r\n    <g clip-path=\"url(#p4464b371bd)\">\r\n     <use x=\"162.505426\" xlink:href=\"#C1_0_e2b80afdb8\" y=\"108.688071\"/>\r\n    </g>\r\n    <g clip-path=\"url(#p4464b371bd)\">\r\n     <use x=\"162.657716\" xlink:href=\"#C1_0_e2b80afdb8\" y=\"161.722217\"/>\r\n    </g>\r\n    <g clip-path=\"url(#p4464b371bd)\">\r\n     <use x=\"159.40873\" xlink:href=\"#C1_0_e2b80afdb8\" y=\"152.079645\"/>\r\n    </g>\r\n   </g>\r\n   <g id=\"PathCollection_3\">\r\n    <defs>\r\n     <path d=\"M 0 5 \r\nC 1.326016 5 2.597899 4.473168 3.535534 3.535534 \r\nC 4.473168 2.597899 5 1.326016 5 -0 \r\nC 5 -1.326016 4.473168 -2.597899 3.535534 -3.535534 \r\nC 2.597899 -4.473168 1.326016 -5 0 -5 \r\nC -1.326016 -5 -2.597899 -4.473168 -3.535534 -3.535534 \r\nC -4.473168 -2.597899 -5 -1.326016 -5 0 \r\nC -5 1.326016 -4.473168 2.597899 -3.535534 3.535534 \r\nC -2.597899 4.473168 -1.326016 5 0 5 \r\nz\r\n\" id=\"C2_0_db8adcf4c5\"/>\r\n    </defs>\r\n    <g clip-path=\"url(#p4464b371bd)\">\r\n     <use x=\"252.051495\" xlink:href=\"#C2_0_db8adcf4c5\" y=\"156.900931\"/>\r\n    </g>\r\n    <g clip-path=\"url(#p4464b371bd)\">\r\n     <use x=\"246.769434\" xlink:href=\"#C2_0_db8adcf4c5\" y=\"118.330643\"/>\r\n    </g>\r\n    <g clip-path=\"url(#p4464b371bd)\">\r\n     <use x=\"246.944521\" xlink:href=\"#C2_0_db8adcf4c5\" y=\"161.722217\"/>\r\n    </g>\r\n    <g clip-path=\"url(#p4464b371bd)\">\r\n     <use x=\"242.409737\" xlink:href=\"#C2_0_db8adcf4c5\" y=\"181.007361\"/>\r\n    </g>\r\n   </g>\r\n   <g id=\"PathCollection_4\">\r\n    <defs>\r\n     <path d=\"M 0 5 \r\nC 1.326016 5 2.597899 4.473168 3.535534 3.535534 \r\nC 4.473168 2.597899 5 1.326016 5 -0 \r\nC 5 -1.326016 4.473168 -2.597899 3.535534 -3.535534 \r\nC 2.597899 -4.473168 1.326016 -5 0 -5 \r\nC -1.326016 -5 -2.597899 -4.473168 -3.535534 -3.535534 \r\nC -4.473168 -2.597899 -5 -1.326016 -5 0 \r\nC -5 1.326016 -4.473168 2.597899 -3.535534 3.535534 \r\nC -2.597899 4.473168 -1.326016 5 0 5 \r\nz\r\n\" id=\"C3_0_c65a35ab52\"/>\r\n    </defs>\r\n    <g clip-path=\"url(#p4464b371bd)\">\r\n     <use x=\"339.27216\" xlink:href=\"#C3_0_c65a35ab52\" y=\"205.113792\"/>\r\n    </g>\r\n    <g clip-path=\"url(#p4464b371bd)\">\r\n     <use x=\"337.769786\" xlink:href=\"#C3_0_c65a35ab52\" y=\"171.364789\"/>\r\n    </g>\r\n    <g clip-path=\"url(#p4464b371bd)\">\r\n     <use x=\"338.331929\" xlink:href=\"#C3_0_c65a35ab52\" y=\"113.509357\"/>\r\n    </g>\r\n    <g clip-path=\"url(#p4464b371bd)\">\r\n     <use x=\"335.584317\" xlink:href=\"#C3_0_c65a35ab52\" y=\"214.756364\"/>\r\n    </g>\r\n    <g clip-path=\"url(#p4464b371bd)\">\r\n     <use x=\"338.471612\" xlink:href=\"#C3_0_c65a35ab52\" y=\"190.649933\"/>\r\n    </g>\r\n   </g>\r\n  </g>\r\n </g>\r\n <defs>\r\n  <clipPath id=\"p4464b371bd\">\r\n   <rect height=\"217.44\" width=\"334.8\" x=\"40.603125\" y=\"7.2\"/>\r\n  </clipPath>\r\n </defs>\r\n</svg>\r\n",
      "image/png": "[encoded data removed]"
     },
     "metadata": {
      "needs_background": "light"
     }
    }
   ],
   "metadata": {}
  },
  {
   "cell_type": "markdown",
   "source": [
    "### Using pingouin"
   ],
   "metadata": {}
  },
  {
   "cell_type": "code",
   "execution_count": 5,
   "source": [
    "# 1. This is a between subject design, so the first step is to test for equality of variances\r\n",
    "pg.homoscedasticity(data=data, dv='Pain threshold', group='Hair color')"
   ],
   "outputs": [
    {
     "output_type": "execute_result",
     "data": {
      "text/plain": [
       "               W      pval  equal_var\n",
       "levene  0.392743  0.760016       True"
      ],
      "text/html": [
       "<div>\n",
       "<style scoped>\n",
       "    .dataframe tbody tr th:only-of-type {\n",
       "        vertical-align: middle;\n",
       "    }\n",
       "\n",
       "    .dataframe tbody tr th {\n",
       "        vertical-align: top;\n",
       "    }\n",
       "\n",
       "    .dataframe thead th {\n",
       "        text-align: right;\n",
       "    }\n",
       "</style>\n",
       "<table border=\"1\" class=\"dataframe\">\n",
       "  <thead>\n",
       "    <tr style=\"text-align: right;\">\n",
       "      <th></th>\n",
       "      <th>W</th>\n",
       "      <th>pval</th>\n",
       "      <th>equal_var</th>\n",
       "    </tr>\n",
       "  </thead>\n",
       "  <tbody>\n",
       "    <tr>\n",
       "      <th>levene</th>\n",
       "      <td>0.392743</td>\n",
       "      <td>0.760016</td>\n",
       "      <td>True</td>\n",
       "    </tr>\n",
       "  </tbody>\n",
       "</table>\n",
       "</div>"
      ]
     },
     "metadata": {},
     "execution_count": 5
    }
   ],
   "metadata": {}
  },
  {
   "cell_type": "code",
   "execution_count": 6,
   "source": [
    "# 2. If the groups have equal variances, we can use a regular one-way ANOVA\r\n",
    "aov = pg.anova(\r\n",
    "    data=data,\r\n",
    "    dv='Pain threshold',\r\n",
    "    between='Hair color',\r\n",
    "    detailed=True\r\n",
    ")\r\n",
    "aov.round(3)"
   ],
   "outputs": [
    {
     "output_type": "execute_result",
     "data": {
      "text/plain": [
       "       Source        SS  DF       MS      F  p-unc    np2\n",
       "0  Hair color  1360.726   3  453.575  6.791  0.004  0.576\n",
       "1      Within  1001.800  15   66.787    NaN    NaN    NaN"
      ],
      "text/html": [
       "<div>\n",
       "<style scoped>\n",
       "    .dataframe tbody tr th:only-of-type {\n",
       "        vertical-align: middle;\n",
       "    }\n",
       "\n",
       "    .dataframe tbody tr th {\n",
       "        vertical-align: top;\n",
       "    }\n",
       "\n",
       "    .dataframe thead th {\n",
       "        text-align: right;\n",
       "    }\n",
       "</style>\n",
       "<table border=\"1\" class=\"dataframe\">\n",
       "  <thead>\n",
       "    <tr style=\"text-align: right;\">\n",
       "      <th></th>\n",
       "      <th>Source</th>\n",
       "      <th>SS</th>\n",
       "      <th>DF</th>\n",
       "      <th>MS</th>\n",
       "      <th>F</th>\n",
       "      <th>p-unc</th>\n",
       "      <th>np2</th>\n",
       "    </tr>\n",
       "  </thead>\n",
       "  <tbody>\n",
       "    <tr>\n",
       "      <th>0</th>\n",
       "      <td>Hair color</td>\n",
       "      <td>1360.726</td>\n",
       "      <td>3</td>\n",
       "      <td>453.575</td>\n",
       "      <td>6.791</td>\n",
       "      <td>0.004</td>\n",
       "      <td>0.576</td>\n",
       "    </tr>\n",
       "    <tr>\n",
       "      <th>1</th>\n",
       "      <td>Within</td>\n",
       "      <td>1001.800</td>\n",
       "      <td>15</td>\n",
       "      <td>66.787</td>\n",
       "      <td>NaN</td>\n",
       "      <td>NaN</td>\n",
       "      <td>NaN</td>\n",
       "    </tr>\n",
       "  </tbody>\n",
       "</table>\n",
       "</div>"
      ]
     },
     "metadata": {},
     "execution_count": 6
    }
   ],
   "metadata": {}
  },
  {
   "cell_type": "code",
   "execution_count": 7,
   "source": [
    "# Same but using a standard eta-squared instead of a partial eta-squared effect size. Also\r\n",
    "# note how here we're using the anova function directly as a method (= built-in function)\r\n",
    "# of our pandas dataframe. In that case, we don't have to specify data anymore.\r\n",
    "data.anova(\r\n",
    "    dv='Pain threshold',\r\n",
    "    between='Hair color',\r\n",
    "    detailed=False,\r\n",
    "    effsize='n2',\r\n",
    ")"
   ],
   "outputs": [
    {
     "output_type": "execute_result",
     "data": {
      "text/plain": [
       "       Source  ddof1  ddof2         F     p-unc        n2\n",
       "0  Hair color      3     15  6.791407  0.004114  0.575962"
      ],
      "text/html": [
       "<div>\n",
       "<style scoped>\n",
       "    .dataframe tbody tr th:only-of-type {\n",
       "        vertical-align: middle;\n",
       "    }\n",
       "\n",
       "    .dataframe tbody tr th {\n",
       "        vertical-align: top;\n",
       "    }\n",
       "\n",
       "    .dataframe thead th {\n",
       "        text-align: right;\n",
       "    }\n",
       "</style>\n",
       "<table border=\"1\" class=\"dataframe\">\n",
       "  <thead>\n",
       "    <tr style=\"text-align: right;\">\n",
       "      <th></th>\n",
       "      <th>Source</th>\n",
       "      <th>ddof1</th>\n",
       "      <th>ddof2</th>\n",
       "      <th>F</th>\n",
       "      <th>p-unc</th>\n",
       "      <th>n2</th>\n",
       "    </tr>\n",
       "  </thead>\n",
       "  <tbody>\n",
       "    <tr>\n",
       "      <th>0</th>\n",
       "      <td>Hair color</td>\n",
       "      <td>3</td>\n",
       "      <td>15</td>\n",
       "      <td>6.791407</td>\n",
       "      <td>0.004114</td>\n",
       "      <td>0.575962</td>\n",
       "    </tr>\n",
       "  </tbody>\n",
       "</table>\n",
       "</div>"
      ]
     },
     "metadata": {},
     "execution_count": 7
    }
   ],
   "metadata": {}
  },
  {
   "cell_type": "code",
   "execution_count": 8,
   "source": [
    "# 3. If there is a main effect, we can proceed to post-hoc Tukey test\r\n",
    "pg.pairwise_tukey(data=data, dv='Pain threshold', between='Hair color')"
   ],
   "outputs": [
    {
     "output_type": "execute_result",
     "data": {
      "text/plain": [
       "               A               B  mean(A)  mean(B)  diff        se         T  \\\n",
       "0     Dark Blond   Dark Brunette     51.2     37.4  13.8  5.168623  2.669957   \n",
       "1     Dark Blond     Light Blond     51.2     59.2  -8.0  5.168623 -1.547801   \n",
       "2     Dark Blond  Light Brunette     51.2     42.5   8.7  5.482153  1.586968   \n",
       "3  Dark Brunette     Light Blond     37.4     59.2 -21.8  5.168623 -4.217758   \n",
       "4  Dark Brunette  Light Brunette     37.4     42.5  -5.1  5.482153 -0.930291   \n",
       "5    Light Blond  Light Brunette     59.2     42.5  16.7  5.482153  3.046249   \n",
       "\n",
       "    p-tukey    hedges  \n",
       "0  0.074168  1.525213  \n",
       "1  0.436903 -0.884182  \n",
       "2  0.416008  0.946285  \n",
       "3  0.003713 -2.409395  \n",
       "4  0.769703 -0.554719  \n",
       "5  0.036653  1.816432  "
      ],
      "text/html": [
       "<div>\n",
       "<style scoped>\n",
       "    .dataframe tbody tr th:only-of-type {\n",
       "        vertical-align: middle;\n",
       "    }\n",
       "\n",
       "    .dataframe tbody tr th {\n",
       "        vertical-align: top;\n",
       "    }\n",
       "\n",
       "    .dataframe thead th {\n",
       "        text-align: right;\n",
       "    }\n",
       "</style>\n",
       "<table border=\"1\" class=\"dataframe\">\n",
       "  <thead>\n",
       "    <tr style=\"text-align: right;\">\n",
       "      <th></th>\n",
       "      <th>A</th>\n",
       "      <th>B</th>\n",
       "      <th>mean(A)</th>\n",
       "      <th>mean(B)</th>\n",
       "      <th>diff</th>\n",
       "      <th>se</th>\n",
       "      <th>T</th>\n",
       "      <th>p-tukey</th>\n",
       "      <th>hedges</th>\n",
       "    </tr>\n",
       "  </thead>\n",
       "  <tbody>\n",
       "    <tr>\n",
       "      <th>0</th>\n",
       "      <td>Dark Blond</td>\n",
       "      <td>Dark Brunette</td>\n",
       "      <td>51.2</td>\n",
       "      <td>37.4</td>\n",
       "      <td>13.8</td>\n",
       "      <td>5.168623</td>\n",
       "      <td>2.669957</td>\n",
       "      <td>0.074168</td>\n",
       "      <td>1.525213</td>\n",
       "    </tr>\n",
       "    <tr>\n",
       "      <th>1</th>\n",
       "      <td>Dark Blond</td>\n",
       "      <td>Light Blond</td>\n",
       "      <td>51.2</td>\n",
       "      <td>59.2</td>\n",
       "      <td>-8.0</td>\n",
       "      <td>5.168623</td>\n",
       "      <td>-1.547801</td>\n",
       "      <td>0.436903</td>\n",
       "      <td>-0.884182</td>\n",
       "    </tr>\n",
       "    <tr>\n",
       "      <th>2</th>\n",
       "      <td>Dark Blond</td>\n",
       "      <td>Light Brunette</td>\n",
       "      <td>51.2</td>\n",
       "      <td>42.5</td>\n",
       "      <td>8.7</td>\n",
       "      <td>5.482153</td>\n",
       "      <td>1.586968</td>\n",
       "      <td>0.416008</td>\n",
       "      <td>0.946285</td>\n",
       "    </tr>\n",
       "    <tr>\n",
       "      <th>3</th>\n",
       "      <td>Dark Brunette</td>\n",
       "      <td>Light Blond</td>\n",
       "      <td>37.4</td>\n",
       "      <td>59.2</td>\n",
       "      <td>-21.8</td>\n",
       "      <td>5.168623</td>\n",
       "      <td>-4.217758</td>\n",
       "      <td>0.003713</td>\n",
       "      <td>-2.409395</td>\n",
       "    </tr>\n",
       "    <tr>\n",
       "      <th>4</th>\n",
       "      <td>Dark Brunette</td>\n",
       "      <td>Light Brunette</td>\n",
       "      <td>37.4</td>\n",
       "      <td>42.5</td>\n",
       "      <td>-5.1</td>\n",
       "      <td>5.482153</td>\n",
       "      <td>-0.930291</td>\n",
       "      <td>0.769703</td>\n",
       "      <td>-0.554719</td>\n",
       "    </tr>\n",
       "    <tr>\n",
       "      <th>5</th>\n",
       "      <td>Light Blond</td>\n",
       "      <td>Light Brunette</td>\n",
       "      <td>59.2</td>\n",
       "      <td>42.5</td>\n",
       "      <td>16.7</td>\n",
       "      <td>5.482153</td>\n",
       "      <td>3.046249</td>\n",
       "      <td>0.036653</td>\n",
       "      <td>1.816432</td>\n",
       "    </tr>\n",
       "  </tbody>\n",
       "</table>\n",
       "</div>"
      ]
     },
     "metadata": {},
     "execution_count": 8
    }
   ],
   "metadata": {}
  },
  {
   "cell_type": "markdown",
   "source": [
    "### Using scipy.stats"
   ],
   "metadata": {}
  },
  {
   "cell_type": "code",
   "execution_count": 9,
   "source": [
    "# The one-way ANOVA tests the null hypothesis that two or more groups have the same population mean.\r\n",
    "F, p = stats.f_oneway(\r\n",
    "    data[data['Hair color'] == 'Dark Blond']['Pain threshold'],\r\n",
    "    data[data['Hair color'] == 'Dark Brunette']['Pain threshold'],\r\n",
    "    data[data['Hair color'] == 'Light Blond']['Pain threshold'],\r\n",
    "    data[data['Hair color'] == 'Light Brunette']['Pain threshold'],\r\n",
    ")\r\n",
    "\r\n",
    "print(f\"F statistic = {F:.3f} with P value from the F distribution = {p:.5f}\")"
   ],
   "outputs": [
    {
     "output_type": "stream",
     "name": "stdout",
     "text": [
      "F statistic = 6.791 with P value from the F distribution = 0.00411\n"
     ]
    }
   ],
   "metadata": {}
  },
  {
   "cell_type": "markdown",
   "source": [
    "### Using statsmodels"
   ],
   "metadata": {}
  },
  {
   "cell_type": "code",
   "execution_count": 10,
   "source": [
    "import statsmodels.sandbox.stats as sandbox_stats\r\n",
    "import statsmodels.api as sm\r\n",
    "from statsmodels.formula.api import ols\r\n",
    "\r\n",
    "model = ols(\r\n",
    "    formula=\"Q('Pain threshold') ~ Q('Hair color')\",\r\n",
    "    data=data\r\n",
    ").fit() # we use OLS regression\r\n",
    "print(model.summary())"
   ],
   "outputs": [
    {
     "output_type": "stream",
     "name": "stdout",
     "text": [
      "                             OLS Regression Results                            \n",
      "===============================================================================\n",
      "Dep. Variable:     Q('Pain threshold')   R-squared:                       0.576\n",
      "Model:                             OLS   Adj. R-squared:                  0.491\n",
      "Method:                  Least Squares   F-statistic:                     6.791\n",
      "Date:                 Thu, 26 Aug 2021   Prob (F-statistic):            0.00411\n",
      "Time:                         16:15:51   Log-Likelihood:                -64.628\n",
      "No. Observations:                   19   AIC:                             137.3\n",
      "Df Residuals:                       15   BIC:                             141.0\n",
      "Df Model:                            3                                         \n",
      "Covariance Type:             nonrobust                                         \n",
      "=====================================================================================================\n",
      "                                        coef    std err          t      P>|t|      [0.025      0.975]\n",
      "-----------------------------------------------------------------------------------------------------\n",
      "Intercept                            51.2000      3.655     14.009      0.000      43.410      58.990\n",
      "Q('Hair color')[T.Dark Brunette]    -13.8000      5.169     -2.670      0.017     -24.817      -2.783\n",
      "Q('Hair color')[T.Light Blond]        8.0000      5.169      1.548      0.143      -3.017      19.017\n",
      "Q('Hair color')[T.Light Brunette]    -8.7000      5.482     -1.587      0.133     -20.385       2.985\n",
      "==============================================================================\n",
      "Omnibus:                        1.137   Durbin-Watson:                   2.021\n",
      "Prob(Omnibus):                  0.566   Jarque-Bera (JB):                0.979\n",
      "Skew:                           0.358   Prob(JB):                        0.613\n",
      "Kurtosis:                       2.150   Cond. No.                         4.70\n",
      "==============================================================================\n",
      "\n",
      "Notes:\n",
      "[1] Standard Errors assume that the covariance matrix of the errors is correctly specified.\n"
     ]
    },
    {
     "output_type": "stream",
     "name": "stderr",
     "text": [
      "C:\\Users\\Sébastien\\AppData\\Local\\Programs\\Python\\Python39\\lib\\site-packages\\scipy\\stats\\stats.py:1541: UserWarning: kurtosistest only valid for n>=20 ... continuing anyway, n=19\n",
      "  warnings.warn(\"kurtosistest only valid for n>=20 ... continuing \"\n"
     ]
    }
   ],
   "metadata": {}
  },
  {
   "cell_type": "code",
   "execution_count": 11,
   "source": [
    "anova_table = sm.stats.anova_lm(model)\r\n",
    "anova_table.round(4)"
   ],
   "outputs": [
    {
     "output_type": "execute_result",
     "data": {
      "text/plain": [
       "                   df     sum_sq   mean_sq       F  PR(>F)\n",
       "Q('Hair color')   3.0  1360.7263  453.5754  6.7914  0.0041\n",
       "Residual         15.0  1001.8000   66.7867     NaN     NaN"
      ],
      "text/html": [
       "<div>\n",
       "<style scoped>\n",
       "    .dataframe tbody tr th:only-of-type {\n",
       "        vertical-align: middle;\n",
       "    }\n",
       "\n",
       "    .dataframe tbody tr th {\n",
       "        vertical-align: top;\n",
       "    }\n",
       "\n",
       "    .dataframe thead th {\n",
       "        text-align: right;\n",
       "    }\n",
       "</style>\n",
       "<table border=\"1\" class=\"dataframe\">\n",
       "  <thead>\n",
       "    <tr style=\"text-align: right;\">\n",
       "      <th></th>\n",
       "      <th>df</th>\n",
       "      <th>sum_sq</th>\n",
       "      <th>mean_sq</th>\n",
       "      <th>F</th>\n",
       "      <th>PR(&gt;F)</th>\n",
       "    </tr>\n",
       "  </thead>\n",
       "  <tbody>\n",
       "    <tr>\n",
       "      <th>Q('Hair color')</th>\n",
       "      <td>3.0</td>\n",
       "      <td>1360.7263</td>\n",
       "      <td>453.5754</td>\n",
       "      <td>6.7914</td>\n",
       "      <td>0.0041</td>\n",
       "    </tr>\n",
       "    <tr>\n",
       "      <th>Residual</th>\n",
       "      <td>15.0</td>\n",
       "      <td>1001.8000</td>\n",
       "      <td>66.7867</td>\n",
       "      <td>NaN</td>\n",
       "      <td>NaN</td>\n",
       "    </tr>\n",
       "  </tbody>\n",
       "</table>\n",
       "</div>"
      ]
     },
     "metadata": {},
     "execution_count": 11
    }
   ],
   "metadata": {}
  },
  {
   "cell_type": "code",
   "execution_count": 12,
   "source": [
    "sm.stats.anova_lm(model, typ='II').round(3)"
   ],
   "outputs": [
    {
     "output_type": "execute_result",
     "data": {
      "text/plain": [
       "                   sum_sq    df      F  PR(>F)\n",
       "Q('Hair color')  1360.726   3.0  6.791   0.004\n",
       "Residual         1001.800  15.0    NaN     NaN"
      ],
      "text/html": [
       "<div>\n",
       "<style scoped>\n",
       "    .dataframe tbody tr th:only-of-type {\n",
       "        vertical-align: middle;\n",
       "    }\n",
       "\n",
       "    .dataframe tbody tr th {\n",
       "        vertical-align: top;\n",
       "    }\n",
       "\n",
       "    .dataframe thead th {\n",
       "        text-align: right;\n",
       "    }\n",
       "</style>\n",
       "<table border=\"1\" class=\"dataframe\">\n",
       "  <thead>\n",
       "    <tr style=\"text-align: right;\">\n",
       "      <th></th>\n",
       "      <th>sum_sq</th>\n",
       "      <th>df</th>\n",
       "      <th>F</th>\n",
       "      <th>PR(&gt;F)</th>\n",
       "    </tr>\n",
       "  </thead>\n",
       "  <tbody>\n",
       "    <tr>\n",
       "      <th>Q('Hair color')</th>\n",
       "      <td>1360.726</td>\n",
       "      <td>3.0</td>\n",
       "      <td>6.791</td>\n",
       "      <td>0.004</td>\n",
       "    </tr>\n",
       "    <tr>\n",
       "      <th>Residual</th>\n",
       "      <td>1001.800</td>\n",
       "      <td>15.0</td>\n",
       "      <td>NaN</td>\n",
       "      <td>NaN</td>\n",
       "    </tr>\n",
       "  </tbody>\n",
       "</table>\n",
       "</div>"
      ]
     },
     "metadata": {},
     "execution_count": 12
    }
   ],
   "metadata": {}
  },
  {
   "cell_type": "markdown",
   "source": [
    "### Using R\r\n",
    "\r\n",
    "A pipeline for one-way ANOVA analysis in R can be the following:\r\n",
    "\r\n",
    "```R\r\n",
    "# data import\r\n",
    "data <- read.csv2(\"PlantGrowth.csv\", sep = ',', dec='.')\r\n",
    "data <- data[-c(1)] # drop the 'X' (index) column\r\n",
    "\r\n",
    "# EDA\r\n",
    "head(data)\r\n",
    "str(data)\r\n",
    "levels(data$group) # check group encoding\r\n",
    "summary(data)\r\n",
    "\r\n",
    "# visualization\r\n",
    "boxplot(weight~group, data)\r\n",
    "\r\n",
    "# setup ANOVA as a linear regression model\r\n",
    "fit = lm(weight~group, data)\r\n",
    "\r\n",
    "plot(fit) # plots the following:\r\n",
    "# 1. Residuals vs Fitted\r\n",
    "# 2. Normal Q-Q\r\n",
    "# 3. Scale-Location\r\n",
    "# 4. Constant Leverage\r\n",
    "\r\n",
    "# ANOVA table\r\n",
    "aov = anova(fit)\r\n",
    "aov\r\n",
    "\r\n",
    "# Post-hoc analysis\r\n",
    "library(\"lsmeans\") # needed for ANOVA analysis and post-hoc tests\r\n",
    "\r\n",
    "pairwise.t.test(data$weight, data$group, p.adj = \"none\") # using pooled SD\r\n",
    "pairwise.t.test(data$weight, data$group, p.adj = \"none\", pool.sd = FALSE) # no adjustment\r\n",
    "pairwise.t.test(data$weight, data$group, p.adj = \"bonferroni\")\r\n",
    "pairwise.t.test(data$weight, data$group, p.adj = \"holm\")\r\n",
    "\r\n",
    "summary(glht(fit, linfct=mcp(group=\"Dunnett\")))\r\n",
    "\r\n",
    "lsmeans(fit, pairwise ~ group) # results of Tukey's test with P values\r\n",
    "# see also TukeyHSD()\r\n",
    "```"
   ],
   "metadata": {}
  },
  {
   "cell_type": "markdown",
   "source": [
    "## Computing manually"
   ],
   "metadata": {}
  },
  {
   "cell_type": "code",
   "execution_count": 13,
   "source": [
    "# parameters of the analysis\r\n",
    "r = data['Hair color'].nunique() # number of groups/conditions\r\n",
    "N = len(data)                    # number of total values\r\n",
    "DF_between = r - 1               # degrees of freedom for the effect Mean Square\r\n",
    "DF_within  = N - r               # degrees of freedom for the error  Mean Square\r\n",
    "\r\n",
    "print(f\"There are {r} different conditions and {N} total values\")\r\n",
    "print(f\"This leads to {DF_between} and {DF_within} degrees of freedom for the effect (SSB) and error (SSW) Mean Squares (MS) respectively\")\r\n",
    "\r\n",
    "\r\n",
    "# sums of squares\r\n",
    "SST = (\r\n",
    "    (\r\n",
    "        data['Pain threshold'] -\r\n",
    "        data['Pain threshold'].mean()\r\n",
    "    )**2\r\n",
    ").sum()\r\n",
    "\r\n",
    "SSW = (\r\n",
    "    data.groupby('Hair color')['Pain threshold']\r\n",
    "    .transform(lambda x: (x - x.mean())**2) \r\n",
    ").sum()\r\n",
    "\r\n",
    "SSB = SST - SSW\r\n",
    "\r\n",
    "print(f\"With SST = {SST:.1f} and SSW = {SSW:.1f}, we obtain SSB = {SSB:.1f}, and eta-squared = {SSB/SST:.6f}\")\r\n",
    "\r\n",
    "\r\n",
    "# MS\r\n",
    "MS_between = SSB / DF_between\r\n",
    "MS_within  = SSW / DF_within\r\n",
    "\r\n",
    "print(f\"MS for SSB = {MS_between:.1f} and for SSW = {MS_within:.1f}\")\r\n",
    "\r\n",
    "\r\n",
    "# F ratio and associated P value\r\n",
    "Fratio = MS_between / MS_within\r\n",
    "Pvalue = stats.f.sf(Fratio, DF_between, DF_within) # using here the `survival function 1 - cdf()`\r\n",
    "\r\n",
    "print(f\"Finally, with a F ratio = {Fratio:.6f}, the associated P value = {Pvalue:.6f}\")"
   ],
   "outputs": [
    {
     "output_type": "stream",
     "name": "stdout",
     "text": [
      "There are 4 different conditions and 19 total values\n",
      "This leads to 3 and 15 degrees of freedom for the effect (SSB) and error (SSW) Mean Squares (MS) respectively\n",
      "With SST = 2362.5 and SSW = 1001.8, we obtain SSB = 1360.7, and eta-squared = 0.575962\n",
      "MS for SSB = 453.6 and for SSW = 66.8\n",
      "Finally, with a F ratio = 6.791407, the associated P value = 0.004114\n"
     ]
    }
   ],
   "metadata": {}
  },
  {
   "cell_type": "code",
   "execution_count": 14,
   "source": [
    "# we could also compute SSB from scratch\r\n",
    "SSB = (\r\n",
    "    data.groupby('Hair color')['Pain threshold']\r\n",
    "    .apply(lambda x: x.count() * (x.mean() - data['Pain threshold'].mean())**2) \r\n",
    ").sum()\r\n",
    "\r\n",
    "print(f\"SSB computed from scratch = {SSB:.1f}\")"
   ],
   "outputs": [
    {
     "output_type": "stream",
     "name": "stdout",
     "text": [
      "SSB computed from scratch = 1360.7\n"
     ]
    }
   ],
   "metadata": {}
  },
  {
   "cell_type": "markdown",
   "source": [
    "### ANOVA table\r\n",
    "\r\n",
    "| Hypothesis  | Scatter from | SS     | Variation | $\\eta^2$ |\r\n",
    "| ----------- | ------------ | ------:| ---------:| -------- |\r\n",
    "| Null        | Grand mean   | 2362.5 |  100.0%   |          |\r\n",
    "| Alternative | Group mean   | 1001.8 |   42.4%   |          |\r\n",
    "| Difference  |              | 1360.7 |   57.6%   |  0.5760  |\r\n",
    "\r\n",
    "Of all the variation, 42.4% is the result of variation within the groups, leaving 57.6% of the total variation as the result of differences between the group means.\r\n",
    "\r\n",
    "| Source variation | SS     | DF  | MS    | F ratio | P value |\r\n",
    "| ----------------:| ------:| ---:| ----- | ------  | ------- |\r\n",
    "|  Between groups  | 1360.7 | 3   | 453.6 |  6.791  |  0.0041 |\r\n",
    "| + Within groups  | 1001.8 | 15  |  66.8 |         |         |\r\n",
    "| =         Total  | 2362.5 | 18  |       |         |         |"
   ],
   "metadata": {}
  },
  {
   "cell_type": "markdown",
   "source": [
    "### Visualization of the F distribution"
   ],
   "metadata": {}
  },
  {
   "cell_type": "code",
   "execution_count": 15,
   "source": [
    "F_crit = stats.f(DF_between, DF_within).ppf(.95)\r\n",
    "\r\n",
    "x = np.linspace(0, 18, num=500)\r\n",
    "rvf = stats.f(DF_between, DF_within)\r\n",
    "plt.plot(x, rvf.pdf(x), color='black')\r\n",
    "hx = rvf.pdf(x)\r\n",
    "\r\n",
    "plt.margins(y = 0)\r\n",
    "plt.ylim((0, .72))\r\n",
    "plt.xlim((0, Fratio+1))\r\n",
    "\r\n",
    "# Shade the probability p-value\r\n",
    "plt.fill_between(x[x <= Fratio], hx[x <= Fratio], edgecolor = None, color = 'limegreen')\r\n",
    "# plot the observed F ratio\r\n",
    "plt.axvline(x = Fratio, color = \"darkgreen\", linestyle = \"--\")\r\n",
    "# Shade the probability alpha\r\n",
    "plt.fill_between(\r\n",
    "    x[x >= F_crit], hx[x >= F_crit], \r\n",
    "    edgecolor = \"orangered\", linestyle = \"-\", linewidth = 2, facecolor = 'orangered')\r\n",
    "\r\n",
    "# plot the critical F value\r\n",
    "plt.axvline(x = F_crit, color = \"red\", linestyle = \"--\")\r\n",
    "\r\n",
    "ax=plt.gca()\r\n",
    "ax.set_xticks([F_crit, Fratio])\r\n",
    "ax.set_xticklabels([\"$F_{crit}$\", \"$F$\"], fontdict={'size': 10})\r\n",
    "ax.get_xticklabels()[0].set_color(\"red\")\r\n",
    "ax.get_xticklabels()[1].set_color(\"darkgreen\")\r\n",
    "plt.ylabel('Density function', fontdict={'size': 12})\r\n",
    "plt.title(f\"F distribution for DFeffect={DF_between} and DFerror={DF_within}\");"
   ],
   "outputs": [
    {
     "output_type": "display_data",
     "data": {
      "text/plain": [
       "<Figure size 432x288 with 1 Axes>"
      ],
      "image/svg+xml": "<?xml version=\"1.0\" encoding=\"utf-8\" standalone=\"no\"?>\r\n<!DOCTYPE svg PUBLIC \"-//W3C//DTD SVG 1.1//EN\"\r\n  \"http://www.w3.org/Graphics/SVG/1.1/DTD/svg11.dtd\">\r\n<svg height=\"263.63625pt\" version=\"1.1\" viewBox=\"0 0 387.716875 263.63625\" width=\"387.716875pt\" xmlns=\"http://www.w3.org/2000/svg\" xmlns:xlink=\"http://www.w3.org/1999/xlink\">\r\n <metadata>\r\n  <rdf:RDF xmlns:cc=\"http://creativecommons.org/ns#\" xmlns:dc=\"http://purl.org/dc/elements/1.1/\" xmlns:rdf=\"http://www.w3.org/1999/02/22-rdf-syntax-ns#\">\r\n   <cc:Work>\r\n    <dc:type rdf:resource=\"http://purl.org/dc/dcmitype/StillImage\"/>\r\n    <dc:date>2021-08-26T16:20:37.455392</dc:date>\r\n    <dc:format>image/svg+xml</dc:format>\r\n    <dc:creator>\r\n     <cc:Agent>\r\n      <dc:title>Matplotlib v3.4.3, https://matplotlib.org/</dc:title>\r\n     </cc:Agent>\r\n    </dc:creator>\r\n   </cc:Work>\r\n  </rdf:RDF>\r\n </metadata>\r\n <defs>\r\n  <style type=\"text/css\">*{stroke-linecap:butt;stroke-linejoin:round;}</style>\r\n </defs>\r\n <g id=\"figure_1\">\r\n  <g id=\"patch_1\">\r\n   <path d=\"M 0 263.63625 \r\nL 387.716875 263.63625 \r\nL 387.716875 0 \r\nL 0 0 \r\nz\r\n\" style=\"fill:none;\"/>\r\n  </g>\r\n  <g id=\"axes_1\">\r\n   <g id=\"patch_2\">\r\n    <path d=\"M 45.716875 239.758125 \r\nL 380.516875 239.758125 \r\nL 380.516875 22.318125 \r\nL 45.716875 22.318125 \r\nz\r\n\" style=\"fill:#ffffff;\"/>\r\n   </g>\r\n   <g id=\"PolyCollection_1\">\r\n    <defs>\r\n     <path d=\"M 45.716875 -23.878125 \r\nL 45.716875 -23.878125 \r\nL 47.26691 -140.796626 \r\nL 48.816945 -178.938678 \r\nL 50.36698 -202.053526 \r\nL 51.917015 -216.991704 \r\nL 53.46705 -226.62572 \r\nL 55.017085 -232.5307 \r\nL 56.56712 -235.695444 \r\nL 58.117155 -236.793056 \r\nL 59.66719 -236.306683 \r\nL 61.217225 -234.596088 \r\nL 62.76726 -231.936306 \r\nL 64.317295 -228.541721 \r\nL 65.86733 -224.581877 \r\nL 67.417366 -220.192327 \r\nL 68.967401 -215.482334 \r\nL 70.517436 -210.540493 \r\nL 72.067471 -205.438937 \r\nL 73.617506 -200.236548 \r\nL 75.167541 -194.981436 \r\nL 76.717576 -189.712906 \r\nL 78.267611 -184.463004 \r\nL 79.817646 -179.257779 \r\nL 81.367681 -174.118294 \r\nL 82.917716 -169.061455 \r\nL 84.467751 -164.100703 \r\nL 86.017786 -159.246572 \r\nL 87.567821 -154.507165 \r\nL 89.117856 -149.888545 \r\nL 90.667891 -145.39507 \r\nL 92.217926 -141.029666 \r\nL 93.767961 -136.794062 \r\nL 95.317996 -132.688994 \r\nL 96.868031 -128.714364 \r\nL 98.418066 -124.869391 \r\nL 99.968101 -121.152727 \r\nL 101.518136 -117.562563 \r\nL 103.068171 -114.096715 \r\nL 104.618206 -110.752698 \r\nL 106.168241 -107.527791 \r\nL 107.718276 -104.419091 \r\nL 109.268312 -101.423558 \r\nL 110.818347 -98.538051 \r\nL 112.368382 -95.759368 \r\nL 113.918417 -93.084267 \r\nL 115.468452 -90.509491 \r\nL 117.018487 -88.031791 \r\nL 118.568522 -85.647938 \r\nL 120.118557 -83.354737 \r\nL 121.668592 -81.149041 \r\nL 123.218627 -79.027758 \r\nL 124.768662 -76.987859 \r\nL 126.318697 -75.026383 \r\nL 127.868732 -73.140441 \r\nL 129.418767 -71.327221 \r\nL 130.968802 -69.583991 \r\nL 132.518837 -67.908097 \r\nL 134.068872 -66.29697 \r\nL 135.618907 -64.748119 \r\nL 137.168942 -63.259135 \r\nL 138.718977 -61.827694 \r\nL 140.269012 -60.451547 \r\nL 141.819047 -59.128528 \r\nL 143.369082 -57.856546 \r\nL 144.919117 -56.633589 \r\nL 146.469152 -55.457716 \r\nL 148.019187 -54.327062 \r\nL 149.569222 -53.23983 \r\nL 151.119258 -52.194293 \r\nL 152.669293 -51.188792 \r\nL 154.219328 -50.221729 \r\nL 155.769363 -49.291571 \r\nL 157.319398 -48.396847 \r\nL 158.869433 -47.536141 \r\nL 160.419468 -46.708095 \r\nL 161.969503 -45.911406 \r\nL 163.519538 -45.144823 \r\nL 165.069573 -44.407145 \r\nL 166.619608 -43.69722 \r\nL 168.169643 -43.013943 \r\nL 169.719678 -42.356254 \r\nL 171.269713 -41.723136 \r\nL 172.819748 -41.113613 \r\nL 174.369783 -40.526749 \r\nL 175.919818 -39.961648 \r\nL 177.469853 -39.41745 \r\nL 179.019888 -38.893327 \r\nL 180.569923 -38.388491 \r\nL 182.119958 -37.902181 \r\nL 183.669993 -37.433669 \r\nL 185.220028 -36.982259 \r\nL 186.770063 -36.547281 \r\nL 188.320098 -36.128093 \r\nL 189.870133 -35.724079 \r\nL 191.420168 -35.33465 \r\nL 192.970203 -34.959239 \r\nL 194.520239 -34.597304 \r\nL 196.070274 -34.248323 \r\nL 197.620309 -33.911797 \r\nL 199.170344 -33.587248 \r\nL 200.720379 -33.274214 \r\nL 202.270414 -32.972256 \r\nL 203.820449 -32.68095 \r\nL 205.370484 -32.399891 \r\nL 206.920519 -32.128688 \r\nL 208.470554 -31.866968 \r\nL 210.020589 -31.614373 \r\nL 211.570624 -31.370558 \r\nL 213.120659 -31.135193 \r\nL 214.670694 -30.907961 \r\nL 216.220729 -30.688556 \r\nL 217.770764 -30.476688 \r\nL 219.320799 -30.272075 \r\nL 220.870834 -30.074447 \r\nL 222.420869 -29.883546 \r\nL 223.970904 -29.699124 \r\nL 225.520939 -29.520941 \r\nL 227.070974 -29.348769 \r\nL 228.621009 -29.182387 \r\nL 230.171044 -29.021584 \r\nL 231.721079 -28.866155 \r\nL 233.271114 -28.715907 \r\nL 234.821149 -28.570651 \r\nL 236.371185 -28.430206 \r\nL 237.92122 -28.294399 \r\nL 239.471255 -28.163064 \r\nL 241.02129 -28.036041 \r\nL 242.571325 -27.913174 \r\nL 244.12136 -27.794316 \r\nL 245.671395 -27.679325 \r\nL 247.22143 -27.568062 \r\nL 248.771465 -27.460398 \r\nL 250.3215 -27.356204 \r\nL 251.871535 -27.255359 \r\nL 253.42157 -27.157745 \r\nL 254.971605 -27.063249 \r\nL 256.52164 -26.971764 \r\nL 258.071675 -26.883183 \r\nL 259.62171 -26.797407 \r\nL 261.171745 -26.714338 \r\nL 262.72178 -26.633884 \r\nL 264.271815 -26.555954 \r\nL 265.82185 -26.480462 \r\nL 267.371885 -26.407324 \r\nL 268.92192 -26.336461 \r\nL 270.471955 -26.267795 \r\nL 272.02199 -26.201252 \r\nL 273.572025 -26.136759 \r\nL 275.12206 -26.074248 \r\nL 276.672095 -26.013653 \r\nL 278.222131 -25.954909 \r\nL 279.772166 -25.897954 \r\nL 281.322201 -25.842729 \r\nL 282.872236 -25.789176 \r\nL 284.422271 -25.737239 \r\nL 285.972306 -25.686867 \r\nL 287.522341 -25.638006 \r\nL 289.072376 -25.590607 \r\nL 290.622411 -25.544623 \r\nL 292.172446 -25.500007 \r\nL 293.722481 -25.456715 \r\nL 295.272516 -25.414704 \r\nL 296.822551 -25.373931 \r\nL 298.372586 -25.334358 \r\nL 299.922621 -25.295945 \r\nL 301.472656 -25.258656 \r\nL 303.022691 -25.222454 \r\nL 304.572726 -25.187304 \r\nL 306.122761 -25.153174 \r\nL 307.672796 -25.12003 \r\nL 309.222831 -25.087841 \r\nL 310.772866 -25.056578 \r\nL 312.322901 -25.026211 \r\nL 313.872936 -24.996712 \r\nL 315.422971 -24.968054 \r\nL 316.973006 -24.94021 \r\nL 318.523041 -24.913155 \r\nL 320.073077 -24.886865 \r\nL 321.623112 -24.861316 \r\nL 323.173147 -24.836484 \r\nL 324.723182 -24.812349 \r\nL 326.273217 -24.788888 \r\nL 327.823252 -24.766081 \r\nL 329.373287 -24.743908 \r\nL 330.923322 -24.72235 \r\nL 332.473357 -24.701387 \r\nL 334.023392 -24.681002 \r\nL 335.573427 -24.661178 \r\nL 337.123462 -24.641896 \r\nL 337.123462 -23.878125 \r\nL 337.123462 -23.878125 \r\nL 335.573427 -23.878125 \r\nL 334.023392 -23.878125 \r\nL 332.473357 -23.878125 \r\nL 330.923322 -23.878125 \r\nL 329.373287 -23.878125 \r\nL 327.823252 -23.878125 \r\nL 326.273217 -23.878125 \r\nL 324.723182 -23.878125 \r\nL 323.173147 -23.878125 \r\nL 321.623112 -23.878125 \r\nL 320.073077 -23.878125 \r\nL 318.523041 -23.878125 \r\nL 316.973006 -23.878125 \r\nL 315.422971 -23.878125 \r\nL 313.872936 -23.878125 \r\nL 312.322901 -23.878125 \r\nL 310.772866 -23.878125 \r\nL 309.222831 -23.878125 \r\nL 307.672796 -23.878125 \r\nL 306.122761 -23.878125 \r\nL 304.572726 -23.878125 \r\nL 303.022691 -23.878125 \r\nL 301.472656 -23.878125 \r\nL 299.922621 -23.878125 \r\nL 298.372586 -23.878125 \r\nL 296.822551 -23.878125 \r\nL 295.272516 -23.878125 \r\nL 293.722481 -23.878125 \r\nL 292.172446 -23.878125 \r\nL 290.622411 -23.878125 \r\nL 289.072376 -23.878125 \r\nL 287.522341 -23.878125 \r\nL 285.972306 -23.878125 \r\nL 284.422271 -23.878125 \r\nL 282.872236 -23.878125 \r\nL 281.322201 -23.878125 \r\nL 279.772166 -23.878125 \r\nL 278.222131 -23.878125 \r\nL 276.672095 -23.878125 \r\nL 275.12206 -23.878125 \r\nL 273.572025 -23.878125 \r\nL 272.02199 -23.878125 \r\nL 270.471955 -23.878125 \r\nL 268.92192 -23.878125 \r\nL 267.371885 -23.878125 \r\nL 265.82185 -23.878125 \r\nL 264.271815 -23.878125 \r\nL 262.72178 -23.878125 \r\nL 261.171745 -23.878125 \r\nL 259.62171 -23.878125 \r\nL 258.071675 -23.878125 \r\nL 256.52164 -23.878125 \r\nL 254.971605 -23.878125 \r\nL 253.42157 -23.878125 \r\nL 251.871535 -23.878125 \r\nL 250.3215 -23.878125 \r\nL 248.771465 -23.878125 \r\nL 247.22143 -23.878125 \r\nL 245.671395 -23.878125 \r\nL 244.12136 -23.878125 \r\nL 242.571325 -23.878125 \r\nL 241.02129 -23.878125 \r\nL 239.471255 -23.878125 \r\nL 237.92122 -23.878125 \r\nL 236.371185 -23.878125 \r\nL 234.821149 -23.878125 \r\nL 233.271114 -23.878125 \r\nL 231.721079 -23.878125 \r\nL 230.171044 -23.878125 \r\nL 228.621009 -23.878125 \r\nL 227.070974 -23.878125 \r\nL 225.520939 -23.878125 \r\nL 223.970904 -23.878125 \r\nL 222.420869 -23.878125 \r\nL 220.870834 -23.878125 \r\nL 219.320799 -23.878125 \r\nL 217.770764 -23.878125 \r\nL 216.220729 -23.878125 \r\nL 214.670694 -23.878125 \r\nL 213.120659 -23.878125 \r\nL 211.570624 -23.878125 \r\nL 210.020589 -23.878125 \r\nL 208.470554 -23.878125 \r\nL 206.920519 -23.878125 \r\nL 205.370484 -23.878125 \r\nL 203.820449 -23.878125 \r\nL 202.270414 -23.878125 \r\nL 200.720379 -23.878125 \r\nL 199.170344 -23.878125 \r\nL 197.620309 -23.878125 \r\nL 196.070274 -23.878125 \r\nL 194.520239 -23.878125 \r\nL 192.970203 -23.878125 \r\nL 191.420168 -23.878125 \r\nL 189.870133 -23.878125 \r\nL 188.320098 -23.878125 \r\nL 186.770063 -23.878125 \r\nL 185.220028 -23.878125 \r\nL 183.669993 -23.878125 \r\nL 182.119958 -23.878125 \r\nL 180.569923 -23.878125 \r\nL 179.019888 -23.878125 \r\nL 177.469853 -23.878125 \r\nL 175.919818 -23.878125 \r\nL 174.369783 -23.878125 \r\nL 172.819748 -23.878125 \r\nL 171.269713 -23.878125 \r\nL 169.719678 -23.878125 \r\nL 168.169643 -23.878125 \r\nL 166.619608 -23.878125 \r\nL 165.069573 -23.878125 \r\nL 163.519538 -23.878125 \r\nL 161.969503 -23.878125 \r\nL 160.419468 -23.878125 \r\nL 158.869433 -23.878125 \r\nL 157.319398 -23.878125 \r\nL 155.769363 -23.878125 \r\nL 154.219328 -23.878125 \r\nL 152.669293 -23.878125 \r\nL 151.119258 -23.878125 \r\nL 149.569222 -23.878125 \r\nL 148.019187 -23.878125 \r\nL 146.469152 -23.878125 \r\nL 144.919117 -23.878125 \r\nL 143.369082 -23.878125 \r\nL 141.819047 -23.878125 \r\nL 140.269012 -23.878125 \r\nL 138.718977 -23.878125 \r\nL 137.168942 -23.878125 \r\nL 135.618907 -23.878125 \r\nL 134.068872 -23.878125 \r\nL 132.518837 -23.878125 \r\nL 130.968802 -23.878125 \r\nL 129.418767 -23.878125 \r\nL 127.868732 -23.878125 \r\nL 126.318697 -23.878125 \r\nL 124.768662 -23.878125 \r\nL 123.218627 -23.878125 \r\nL 121.668592 -23.878125 \r\nL 120.118557 -23.878125 \r\nL 118.568522 -23.878125 \r\nL 117.018487 -23.878125 \r\nL 115.468452 -23.878125 \r\nL 113.918417 -23.878125 \r\nL 112.368382 -23.878125 \r\nL 110.818347 -23.878125 \r\nL 109.268312 -23.878125 \r\nL 107.718276 -23.878125 \r\nL 106.168241 -23.878125 \r\nL 104.618206 -23.878125 \r\nL 103.068171 -23.878125 \r\nL 101.518136 -23.878125 \r\nL 99.968101 -23.878125 \r\nL 98.418066 -23.878125 \r\nL 96.868031 -23.878125 \r\nL 95.317996 -23.878125 \r\nL 93.767961 -23.878125 \r\nL 92.217926 -23.878125 \r\nL 90.667891 -23.878125 \r\nL 89.117856 -23.878125 \r\nL 87.567821 -23.878125 \r\nL 86.017786 -23.878125 \r\nL 84.467751 -23.878125 \r\nL 82.917716 -23.878125 \r\nL 81.367681 -23.878125 \r\nL 79.817646 -23.878125 \r\nL 78.267611 -23.878125 \r\nL 76.717576 -23.878125 \r\nL 75.167541 -23.878125 \r\nL 73.617506 -23.878125 \r\nL 72.067471 -23.878125 \r\nL 70.517436 -23.878125 \r\nL 68.967401 -23.878125 \r\nL 67.417366 -23.878125 \r\nL 65.86733 -23.878125 \r\nL 64.317295 -23.878125 \r\nL 62.76726 -23.878125 \r\nL 61.217225 -23.878125 \r\nL 59.66719 -23.878125 \r\nL 58.117155 -23.878125 \r\nL 56.56712 -23.878125 \r\nL 55.017085 -23.878125 \r\nL 53.46705 -23.878125 \r\nL 51.917015 -23.878125 \r\nL 50.36698 -23.878125 \r\nL 48.816945 -23.878125 \r\nL 47.26691 -23.878125 \r\nL 45.716875 -23.878125 \r\nz\r\n\" id=\"mfef7c45d22\" style=\"stroke:#32cd32;\"/>\r\n    </defs>\r\n    <g clip-path=\"url(#pc2982102a2)\">\r\n     <use style=\"fill:#32cd32;stroke:#32cd32;\" x=\"0\" xlink:href=\"#mfef7c45d22\" y=\"263.63625\"/>\r\n    </g>\r\n   </g>\r\n   <g id=\"PolyCollection_2\">\r\n    <path clip-path=\"url(#pc2982102a2)\" d=\"M 188.320098 239.758125 \r\nL 188.320098 227.508157 \r\nL 189.870133 227.912171 \r\nL 191.420168 228.3016 \r\nL 192.970203 228.677011 \r\nL 194.520239 229.038946 \r\nL 196.070274 229.387927 \r\nL 197.620309 229.724453 \r\nL 199.170344 230.049002 \r\nL 200.720379 230.362036 \r\nL 202.270414 230.663994 \r\nL 203.820449 230.9553 \r\nL 205.370484 231.236359 \r\nL 206.920519 231.507562 \r\nL 208.470554 231.769282 \r\nL 210.020589 232.021877 \r\nL 211.570624 232.265692 \r\nL 213.120659 232.501057 \r\nL 214.670694 232.728289 \r\nL 216.220729 232.947694 \r\nL 217.770764 233.159562 \r\nL 219.320799 233.364175 \r\nL 220.870834 233.561803 \r\nL 222.420869 233.752704 \r\nL 223.970904 233.937126 \r\nL 225.520939 234.115309 \r\nL 227.070974 234.287481 \r\nL 228.621009 234.453863 \r\nL 230.171044 234.614666 \r\nL 231.721079 234.770095 \r\nL 233.271114 234.920343 \r\nL 234.821149 235.065599 \r\nL 236.371185 235.206044 \r\nL 237.92122 235.341851 \r\nL 239.471255 235.473186 \r\nL 241.02129 235.600209 \r\nL 242.571325 235.723076 \r\nL 244.12136 235.841934 \r\nL 245.671395 235.956925 \r\nL 247.22143 236.068188 \r\nL 248.771465 236.175852 \r\nL 250.3215 236.280046 \r\nL 251.871535 236.380891 \r\nL 253.42157 236.478505 \r\nL 254.971605 236.573001 \r\nL 256.52164 236.664486 \r\nL 258.071675 236.753067 \r\nL 259.62171 236.838843 \r\nL 261.171745 236.921912 \r\nL 262.72178 237.002366 \r\nL 264.271815 237.080296 \r\nL 265.82185 237.155788 \r\nL 267.371885 237.228926 \r\nL 268.92192 237.299789 \r\nL 270.471955 237.368455 \r\nL 272.02199 237.434998 \r\nL 273.572025 237.499491 \r\nL 275.12206 237.562002 \r\nL 276.672095 237.622597 \r\nL 278.222131 237.681341 \r\nL 279.772166 237.738296 \r\nL 281.322201 237.793521 \r\nL 282.872236 237.847074 \r\nL 284.422271 237.899011 \r\nL 285.972306 237.949383 \r\nL 287.522341 237.998244 \r\nL 289.072376 238.045643 \r\nL 290.622411 238.091627 \r\nL 292.172446 238.136243 \r\nL 293.722481 238.179535 \r\nL 295.272516 238.221546 \r\nL 296.822551 238.262319 \r\nL 298.372586 238.301892 \r\nL 299.922621 238.340305 \r\nL 301.472656 238.377594 \r\nL 303.022691 238.413796 \r\nL 304.572726 238.448946 \r\nL 306.122761 238.483076 \r\nL 307.672796 238.51622 \r\nL 309.222831 238.548409 \r\nL 310.772866 238.579672 \r\nL 312.322901 238.610039 \r\nL 313.872936 238.639538 \r\nL 315.422971 238.668196 \r\nL 316.973006 238.69604 \r\nL 318.523041 238.723095 \r\nL 320.073077 238.749385 \r\nL 321.623112 238.774934 \r\nL 323.173147 238.799766 \r\nL 324.723182 238.823901 \r\nL 326.273217 238.847362 \r\nL 327.823252 238.870169 \r\nL 329.373287 238.892342 \r\nL 330.923322 238.9139 \r\nL 332.473357 238.934863 \r\nL 334.023392 238.955248 \r\nL 335.573427 238.975072 \r\nL 337.123462 238.994354 \r\nL 338.673497 239.013108 \r\nL 340.223532 239.03135 \r\nL 341.773567 239.049097 \r\nL 343.323602 239.066363 \r\nL 344.873637 239.083162 \r\nL 346.423672 239.099508 \r\nL 347.973707 239.115414 \r\nL 349.523742 239.130893 \r\nL 351.073777 239.145959 \r\nL 352.623812 239.160623 \r\nL 354.173847 239.174896 \r\nL 355.723882 239.188791 \r\nL 357.273917 239.202318 \r\nL 358.823952 239.215488 \r\nL 360.373987 239.228311 \r\nL 361.924023 239.240798 \r\nL 363.474058 239.252958 \r\nL 365.024093 239.2648 \r\nL 366.574128 239.276334 \r\nL 368.124163 239.287568 \r\nL 369.674198 239.298511 \r\nL 371.224233 239.309171 \r\nL 372.774268 239.319557 \r\nL 374.324303 239.329675 \r\nL 375.874338 239.339534 \r\nL 377.424373 239.349141 \r\nL 378.974408 239.358503 \r\nL 380.524443 239.367627 \r\nL 382.074478 239.376519 \r\nL 383.624513 239.385186 \r\nL 385.174548 239.393635 \r\nL 386.724583 239.40187 \r\nL 388.274618 239.409899 \r\nL 389.824653 239.417726 \r\nL 391.374688 239.425358 \r\nL 392.924723 239.4328 \r\nL 394.474758 239.440057 \r\nL 396.024793 239.447134 \r\nL 397.574828 239.454035 \r\nL 399.124863 239.460767 \r\nL 400.674898 239.467333 \r\nL 402.224933 239.473737 \r\nL 403.774969 239.479985 \r\nL 405.325004 239.48608 \r\nL 406.875039 239.492026 \r\nL 408.425074 239.497828 \r\nL 409.975109 239.503489 \r\nL 411.525144 239.509014 \r\nL 413.075179 239.514405 \r\nL 414.625214 239.519666 \r\nL 416.175249 239.524801 \r\nL 417.725284 239.529813 \r\nL 419.275319 239.534705 \r\nL 420.825354 239.539481 \r\nL 422.375389 239.544143 \r\nL 423.925424 239.548695 \r\nL 425.475459 239.553138 \r\nL 427.025494 239.557477 \r\nL 428.575529 239.561714 \r\nL 430.125564 239.565851 \r\nL 431.675599 239.569892 \r\nL 433.225634 239.573837 \r\nL 434.775669 239.577691 \r\nL 436.325704 239.581455 \r\nL 437.875739 239.585132 \r\nL 439.425774 239.588724 \r\nL 440.975809 239.592232 \r\nL 442.525844 239.59566 \r\nL 444.075879 239.599009 \r\nL 445.625914 239.602281 \r\nL 447.17595 239.605479 \r\nL 448.725985 239.608603 \r\nL 450.27602 239.611656 \r\nL 451.826055 239.61464 \r\nL 453.37609 239.617556 \r\nL 454.926125 239.620406 \r\nL 456.47616 239.623192 \r\nL 458.026195 239.625915 \r\nL 459.57623 239.628577 \r\nL 461.126265 239.63118 \r\nL 462.6763 239.633724 \r\nL 464.226335 239.636211 \r\nL 465.77637 239.638643 \r\nL 467.326405 239.641021 \r\nL 468.87644 239.643346 \r\nL 470.426475 239.64562 \r\nL 471.97651 239.647844 \r\nL 473.526545 239.650019 \r\nL 475.07658 239.652146 \r\nL 476.626615 239.654227 \r\nL 478.17665 239.656262 \r\nL 479.726685 239.658253 \r\nL 481.27672 239.6602 \r\nL 482.826755 239.662105 \r\nL 484.37679 239.663969 \r\nL 485.926825 239.665793 \r\nL 487.47686 239.667577 \r\nL 489.026896 239.669323 \r\nL 490.576931 239.671031 \r\nL 492.126966 239.672703 \r\nL 493.677001 239.674339 \r\nL 495.227036 239.67594 \r\nL 496.777071 239.677507 \r\nL 498.327106 239.679041 \r\nL 499.877141 239.680543 \r\nL 501.427176 239.682012 \r\nL 502.977211 239.683451 \r\nL 504.527246 239.684859 \r\nL 506.077281 239.686238 \r\nL 507.627316 239.687588 \r\nL 509.177351 239.688909 \r\nL 510.727386 239.690204 \r\nL 512.277421 239.691471 \r\nL 513.827456 239.692711 \r\nL 515.377491 239.693927 \r\nL 516.927526 239.695117 \r\nL 518.477561 239.696282 \r\nL 520.027596 239.697423 \r\nL 521.577631 239.698541 \r\nL 523.127666 239.699636 \r\nL 524.677701 239.700709 \r\nL 526.227736 239.701759 \r\nL 527.777771 239.702789 \r\nL 529.327806 239.703797 \r\nL 530.877842 239.704785 \r\nL 532.427877 239.705753 \r\nL 533.977912 239.706701 \r\nL 535.527947 239.70763 \r\nL 537.077982 239.708541 \r\nL 538.628017 239.709433 \r\nL 540.178052 239.710307 \r\nL 541.728087 239.711164 \r\nL 543.278122 239.712004 \r\nL 544.828157 239.712827 \r\nL 546.378192 239.713633 \r\nL 547.928227 239.714424 \r\nL 549.478262 239.715199 \r\nL 551.028297 239.715959 \r\nL 552.578332 239.716703 \r\nL 554.128367 239.717433 \r\nL 555.678402 239.718149 \r\nL 557.228437 239.718851 \r\nL 558.778472 239.719539 \r\nL 560.328507 239.720213 \r\nL 561.878542 239.720875 \r\nL 563.428577 239.721523 \r\nL 564.978612 239.722159 \r\nL 566.528647 239.722783 \r\nL 568.078682 239.723395 \r\nL 569.628717 239.723994 \r\nL 571.178752 239.724583 \r\nL 572.728788 239.72516 \r\nL 574.278823 239.725726 \r\nL 575.828858 239.726281 \r\nL 577.378893 239.726825 \r\nL 578.928928 239.727359 \r\nL 580.478963 239.727883 \r\nL 582.028998 239.728397 \r\nL 583.579033 239.728902 \r\nL 585.129068 239.729396 \r\nL 586.679103 239.729882 \r\nL 588.229138 239.730358 \r\nL 589.779173 239.730825 \r\nL 591.329208 239.731284 \r\nL 592.879243 239.731734 \r\nL 594.429278 239.732176 \r\nL 595.979313 239.732609 \r\nL 597.529348 239.733034 \r\nL 599.079383 239.733452 \r\nL 600.629418 239.733861 \r\nL 602.179453 239.734263 \r\nL 603.729488 239.734658 \r\nL 605.279523 239.735045 \r\nL 606.829558 239.735426 \r\nL 608.379593 239.735799 \r\nL 609.929628 239.736165 \r\nL 611.479663 239.736525 \r\nL 613.029698 239.736878 \r\nL 614.579734 239.737225 \r\nL 616.129769 239.737565 \r\nL 617.679804 239.7379 \r\nL 619.229839 239.738228 \r\nL 620.779874 239.73855 \r\nL 622.329909 239.738867 \r\nL 623.879944 239.739177 \r\nL 625.429979 239.739482 \r\nL 626.980014 239.739782 \r\nL 628.530049 239.740076 \r\nL 630.080084 239.740365 \r\nL 631.630119 239.740649 \r\nL 633.180154 239.740928 \r\nL 634.730189 239.741202 \r\nL 636.280224 239.741471 \r\nL 637.830259 239.741735 \r\nL 639.380294 239.741995 \r\nL 640.930329 239.74225 \r\nL 642.480364 239.7425 \r\nL 644.030399 239.742746 \r\nL 645.580434 239.742988 \r\nL 647.130469 239.743226 \r\nL 648.680504 239.743459 \r\nL 650.230539 239.743688 \r\nL 651.780574 239.743914 \r\nL 653.330609 239.744135 \r\nL 654.880644 239.744352 \r\nL 656.43068 239.744566 \r\nL 657.980715 239.744776 \r\nL 659.53075 239.744983 \r\nL 661.080785 239.745186 \r\nL 662.63082 239.745385 \r\nL 664.180855 239.745581 \r\nL 665.73089 239.745774 \r\nL 667.280925 239.745963 \r\nL 668.83096 239.746149 \r\nL 670.380995 239.746332 \r\nL 671.93103 239.746512 \r\nL 673.481065 239.746688 \r\nL 675.0311 239.746862 \r\nL 676.581135 239.747033 \r\nL 678.13117 239.747201 \r\nL 679.681205 239.747366 \r\nL 681.23124 239.747528 \r\nL 682.781275 239.747688 \r\nL 684.33131 239.747845 \r\nL 685.881345 239.747999 \r\nL 687.43138 239.748151 \r\nL 688.981415 239.7483 \r\nL 690.53145 239.748446 \r\nL 692.081485 239.748591 \r\nL 693.63152 239.748732 \r\nL 695.181555 239.748872 \r\nL 696.73159 239.749009 \r\nL 698.281626 239.749144 \r\nL 699.831661 239.749277 \r\nL 701.381696 239.749407 \r\nL 702.931731 239.749535 \r\nL 704.481766 239.749662 \r\nL 706.031801 239.749786 \r\nL 707.581836 239.749908 \r\nL 709.131871 239.750028 \r\nL 710.681906 239.750146 \r\nL 712.231941 239.750263 \r\nL 713.781976 239.750377 \r\nL 715.332011 239.750489 \r\nL 716.882046 239.7506 \r\nL 718.432081 239.750709 \r\nL 719.982116 239.750816 \r\nL 721.532151 239.750922 \r\nL 723.082186 239.751025 \r\nL 724.632221 239.751127 \r\nL 726.182256 239.751228 \r\nL 727.732291 239.751327 \r\nL 729.282326 239.751424 \r\nL 730.832361 239.751519 \r\nL 732.382396 239.751614 \r\nL 733.932431 239.751706 \r\nL 735.482466 239.751798 \r\nL 737.032501 239.751887 \r\nL 738.582536 239.751976 \r\nL 740.132571 239.752063 \r\nL 741.682607 239.752148 \r\nL 743.232642 239.752232 \r\nL 744.782677 239.752315 \r\nL 746.332712 239.752397 \r\nL 747.882747 239.752477 \r\nL 749.432782 239.752556 \r\nL 750.982817 239.752634 \r\nL 752.532852 239.752711 \r\nL 754.082887 239.752786 \r\nL 755.632922 239.75286 \r\nL 757.182957 239.752933 \r\nL 758.732992 239.753005 \r\nL 760.283027 239.753076 \r\nL 761.833062 239.753146 \r\nL 763.383097 239.753215 \r\nL 764.933132 239.753282 \r\nL 766.483167 239.753349 \r\nL 768.033202 239.753414 \r\nL 769.583237 239.753479 \r\nL 771.133272 239.753543 \r\nL 772.683307 239.753605 \r\nL 774.233342 239.753667 \r\nL 775.783377 239.753728 \r\nL 777.333412 239.753787 \r\nL 778.883447 239.753846 \r\nL 780.433482 239.753904 \r\nL 781.983517 239.753961 \r\nL 783.533553 239.754018 \r\nL 785.083588 239.754073 \r\nL 786.633623 239.754128 \r\nL 788.183658 239.754181 \r\nL 789.733693 239.754234 \r\nL 791.283728 239.754286 \r\nL 792.833763 239.754338 \r\nL 794.383798 239.754388 \r\nL 795.933833 239.754438 \r\nL 797.483868 239.754487 \r\nL 799.033903 239.754536 \r\nL 800.583938 239.754583 \r\nL 802.133973 239.75463 \r\nL 803.684008 239.754677 \r\nL 805.234043 239.754722 \r\nL 806.784078 239.754767 \r\nL 808.334113 239.754811 \r\nL 809.884148 239.754855 \r\nL 811.434183 239.754898 \r\nL 812.984218 239.75494 \r\nL 814.534253 239.754982 \r\nL 816.084288 239.755023 \r\nL 817.634323 239.755064 \r\nL 819.184358 239.755104 \r\nL 819.184358 239.758125 \r\nL 819.184358 239.758125 \r\nL 817.634323 239.758125 \r\nL 816.084288 239.758125 \r\nL 814.534253 239.758125 \r\nL 812.984218 239.758125 \r\nL 811.434183 239.758125 \r\nL 809.884148 239.758125 \r\nL 808.334113 239.758125 \r\nL 806.784078 239.758125 \r\nL 805.234043 239.758125 \r\nL 803.684008 239.758125 \r\nL 802.133973 239.758125 \r\nL 800.583938 239.758125 \r\nL 799.033903 239.758125 \r\nL 797.483868 239.758125 \r\nL 795.933833 239.758125 \r\nL 794.383798 239.758125 \r\nL 792.833763 239.758125 \r\nL 791.283728 239.758125 \r\nL 789.733693 239.758125 \r\nL 788.183658 239.758125 \r\nL 786.633623 239.758125 \r\nL 785.083588 239.758125 \r\nL 783.533553 239.758125 \r\nL 781.983517 239.758125 \r\nL 780.433482 239.758125 \r\nL 778.883447 239.758125 \r\nL 777.333412 239.758125 \r\nL 775.783377 239.758125 \r\nL 774.233342 239.758125 \r\nL 772.683307 239.758125 \r\nL 771.133272 239.758125 \r\nL 769.583237 239.758125 \r\nL 768.033202 239.758125 \r\nL 766.483167 239.758125 \r\nL 764.933132 239.758125 \r\nL 763.383097 239.758125 \r\nL 761.833062 239.758125 \r\nL 760.283027 239.758125 \r\nL 758.732992 239.758125 \r\nL 757.182957 239.758125 \r\nL 755.632922 239.758125 \r\nL 754.082887 239.758125 \r\nL 752.532852 239.758125 \r\nL 750.982817 239.758125 \r\nL 749.432782 239.758125 \r\nL 747.882747 239.758125 \r\nL 746.332712 239.758125 \r\nL 744.782677 239.758125 \r\nL 743.232642 239.758125 \r\nL 741.682607 239.758125 \r\nL 740.132571 239.758125 \r\nL 738.582536 239.758125 \r\nL 737.032501 239.758125 \r\nL 735.482466 239.758125 \r\nL 733.932431 239.758125 \r\nL 732.382396 239.758125 \r\nL 730.832361 239.758125 \r\nL 729.282326 239.758125 \r\nL 727.732291 239.758125 \r\nL 726.182256 239.758125 \r\nL 724.632221 239.758125 \r\nL 723.082186 239.758125 \r\nL 721.532151 239.758125 \r\nL 719.982116 239.758125 \r\nL 718.432081 239.758125 \r\nL 716.882046 239.758125 \r\nL 715.332011 239.758125 \r\nL 713.781976 239.758125 \r\nL 712.231941 239.758125 \r\nL 710.681906 239.758125 \r\nL 709.131871 239.758125 \r\nL 707.581836 239.758125 \r\nL 706.031801 239.758125 \r\nL 704.481766 239.758125 \r\nL 702.931731 239.758125 \r\nL 701.381696 239.758125 \r\nL 699.831661 239.758125 \r\nL 698.281626 239.758125 \r\nL 696.73159 239.758125 \r\nL 695.181555 239.758125 \r\nL 693.63152 239.758125 \r\nL 692.081485 239.758125 \r\nL 690.53145 239.758125 \r\nL 688.981415 239.758125 \r\nL 687.43138 239.758125 \r\nL 685.881345 239.758125 \r\nL 684.33131 239.758125 \r\nL 682.781275 239.758125 \r\nL 681.23124 239.758125 \r\nL 679.681205 239.758125 \r\nL 678.13117 239.758125 \r\nL 676.581135 239.758125 \r\nL 675.0311 239.758125 \r\nL 673.481065 239.758125 \r\nL 671.93103 239.758125 \r\nL 670.380995 239.758125 \r\nL 668.83096 239.758125 \r\nL 667.280925 239.758125 \r\nL 665.73089 239.758125 \r\nL 664.180855 239.758125 \r\nL 662.63082 239.758125 \r\nL 661.080785 239.758125 \r\nL 659.53075 239.758125 \r\nL 657.980715 239.758125 \r\nL 656.43068 239.758125 \r\nL 654.880644 239.758125 \r\nL 653.330609 239.758125 \r\nL 651.780574 239.758125 \r\nL 650.230539 239.758125 \r\nL 648.680504 239.758125 \r\nL 647.130469 239.758125 \r\nL 645.580434 239.758125 \r\nL 644.030399 239.758125 \r\nL 642.480364 239.758125 \r\nL 640.930329 239.758125 \r\nL 639.380294 239.758125 \r\nL 637.830259 239.758125 \r\nL 636.280224 239.758125 \r\nL 634.730189 239.758125 \r\nL 633.180154 239.758125 \r\nL 631.630119 239.758125 \r\nL 630.080084 239.758125 \r\nL 628.530049 239.758125 \r\nL 626.980014 239.758125 \r\nL 625.429979 239.758125 \r\nL 623.879944 239.758125 \r\nL 622.329909 239.758125 \r\nL 620.779874 239.758125 \r\nL 619.229839 239.758125 \r\nL 617.679804 239.758125 \r\nL 616.129769 239.758125 \r\nL 614.579734 239.758125 \r\nL 613.029698 239.758125 \r\nL 611.479663 239.758125 \r\nL 609.929628 239.758125 \r\nL 608.379593 239.758125 \r\nL 606.829558 239.758125 \r\nL 605.279523 239.758125 \r\nL 603.729488 239.758125 \r\nL 602.179453 239.758125 \r\nL 600.629418 239.758125 \r\nL 599.079383 239.758125 \r\nL 597.529348 239.758125 \r\nL 595.979313 239.758125 \r\nL 594.429278 239.758125 \r\nL 592.879243 239.758125 \r\nL 591.329208 239.758125 \r\nL 589.779173 239.758125 \r\nL 588.229138 239.758125 \r\nL 586.679103 239.758125 \r\nL 585.129068 239.758125 \r\nL 583.579033 239.758125 \r\nL 582.028998 239.758125 \r\nL 580.478963 239.758125 \r\nL 578.928928 239.758125 \r\nL 577.378893 239.758125 \r\nL 575.828858 239.758125 \r\nL 574.278823 239.758125 \r\nL 572.728788 239.758125 \r\nL 571.178752 239.758125 \r\nL 569.628717 239.758125 \r\nL 568.078682 239.758125 \r\nL 566.528647 239.758125 \r\nL 564.978612 239.758125 \r\nL 563.428577 239.758125 \r\nL 561.878542 239.758125 \r\nL 560.328507 239.758125 \r\nL 558.778472 239.758125 \r\nL 557.228437 239.758125 \r\nL 555.678402 239.758125 \r\nL 554.128367 239.758125 \r\nL 552.578332 239.758125 \r\nL 551.028297 239.758125 \r\nL 549.478262 239.758125 \r\nL 547.928227 239.758125 \r\nL 546.378192 239.758125 \r\nL 544.828157 239.758125 \r\nL 543.278122 239.758125 \r\nL 541.728087 239.758125 \r\nL 540.178052 239.758125 \r\nL 538.628017 239.758125 \r\nL 537.077982 239.758125 \r\nL 535.527947 239.758125 \r\nL 533.977912 239.758125 \r\nL 532.427877 239.758125 \r\nL 530.877842 239.758125 \r\nL 529.327806 239.758125 \r\nL 527.777771 239.758125 \r\nL 526.227736 239.758125 \r\nL 524.677701 239.758125 \r\nL 523.127666 239.758125 \r\nL 521.577631 239.758125 \r\nL 520.027596 239.758125 \r\nL 518.477561 239.758125 \r\nL 516.927526 239.758125 \r\nL 515.377491 239.758125 \r\nL 513.827456 239.758125 \r\nL 512.277421 239.758125 \r\nL 510.727386 239.758125 \r\nL 509.177351 239.758125 \r\nL 507.627316 239.758125 \r\nL 506.077281 239.758125 \r\nL 504.527246 239.758125 \r\nL 502.977211 239.758125 \r\nL 501.427176 239.758125 \r\nL 499.877141 239.758125 \r\nL 498.327106 239.758125 \r\nL 496.777071 239.758125 \r\nL 495.227036 239.758125 \r\nL 493.677001 239.758125 \r\nL 492.126966 239.758125 \r\nL 490.576931 239.758125 \r\nL 489.026896 239.758125 \r\nL 487.47686 239.758125 \r\nL 485.926825 239.758125 \r\nL 484.37679 239.758125 \r\nL 482.826755 239.758125 \r\nL 481.27672 239.758125 \r\nL 479.726685 239.758125 \r\nL 478.17665 239.758125 \r\nL 476.626615 239.758125 \r\nL 475.07658 239.758125 \r\nL 473.526545 239.758125 \r\nL 471.97651 239.758125 \r\nL 470.426475 239.758125 \r\nL 468.87644 239.758125 \r\nL 467.326405 239.758125 \r\nL 465.77637 239.758125 \r\nL 464.226335 239.758125 \r\nL 462.6763 239.758125 \r\nL 461.126265 239.758125 \r\nL 459.57623 239.758125 \r\nL 458.026195 239.758125 \r\nL 456.47616 239.758125 \r\nL 454.926125 239.758125 \r\nL 453.37609 239.758125 \r\nL 451.826055 239.758125 \r\nL 450.27602 239.758125 \r\nL 448.725985 239.758125 \r\nL 447.17595 239.758125 \r\nL 445.625914 239.758125 \r\nL 444.075879 239.758125 \r\nL 442.525844 239.758125 \r\nL 440.975809 239.758125 \r\nL 439.425774 239.758125 \r\nL 437.875739 239.758125 \r\nL 436.325704 239.758125 \r\nL 434.775669 239.758125 \r\nL 433.225634 239.758125 \r\nL 431.675599 239.758125 \r\nL 430.125564 239.758125 \r\nL 428.575529 239.758125 \r\nL 427.025494 239.758125 \r\nL 425.475459 239.758125 \r\nL 423.925424 239.758125 \r\nL 422.375389 239.758125 \r\nL 420.825354 239.758125 \r\nL 419.275319 239.758125 \r\nL 417.725284 239.758125 \r\nL 416.175249 239.758125 \r\nL 414.625214 239.758125 \r\nL 413.075179 239.758125 \r\nL 411.525144 239.758125 \r\nL 409.975109 239.758125 \r\nL 408.425074 239.758125 \r\nL 406.875039 239.758125 \r\nL 405.325004 239.758125 \r\nL 403.774969 239.758125 \r\nL 402.224933 239.758125 \r\nL 400.674898 239.758125 \r\nL 399.124863 239.758125 \r\nL 397.574828 239.758125 \r\nL 396.024793 239.758125 \r\nL 394.474758 239.758125 \r\nL 392.924723 239.758125 \r\nL 391.374688 239.758125 \r\nL 389.824653 239.758125 \r\nL 388.274618 239.758125 \r\nL 386.724583 239.758125 \r\nL 385.174548 239.758125 \r\nL 383.624513 239.758125 \r\nL 382.074478 239.758125 \r\nL 380.524443 239.758125 \r\nL 378.974408 239.758125 \r\nL 377.424373 239.758125 \r\nL 375.874338 239.758125 \r\nL 374.324303 239.758125 \r\nL 372.774268 239.758125 \r\nL 371.224233 239.758125 \r\nL 369.674198 239.758125 \r\nL 368.124163 239.758125 \r\nL 366.574128 239.758125 \r\nL 365.024093 239.758125 \r\nL 363.474058 239.758125 \r\nL 361.924023 239.758125 \r\nL 360.373987 239.758125 \r\nL 358.823952 239.758125 \r\nL 357.273917 239.758125 \r\nL 355.723882 239.758125 \r\nL 354.173847 239.758125 \r\nL 352.623812 239.758125 \r\nL 351.073777 239.758125 \r\nL 349.523742 239.758125 \r\nL 347.973707 239.758125 \r\nL 346.423672 239.758125 \r\nL 344.873637 239.758125 \r\nL 343.323602 239.758125 \r\nL 341.773567 239.758125 \r\nL 340.223532 239.758125 \r\nL 338.673497 239.758125 \r\nL 337.123462 239.758125 \r\nL 335.573427 239.758125 \r\nL 334.023392 239.758125 \r\nL 332.473357 239.758125 \r\nL 330.923322 239.758125 \r\nL 329.373287 239.758125 \r\nL 327.823252 239.758125 \r\nL 326.273217 239.758125 \r\nL 324.723182 239.758125 \r\nL 323.173147 239.758125 \r\nL 321.623112 239.758125 \r\nL 320.073077 239.758125 \r\nL 318.523041 239.758125 \r\nL 316.973006 239.758125 \r\nL 315.422971 239.758125 \r\nL 313.872936 239.758125 \r\nL 312.322901 239.758125 \r\nL 310.772866 239.758125 \r\nL 309.222831 239.758125 \r\nL 307.672796 239.758125 \r\nL 306.122761 239.758125 \r\nL 304.572726 239.758125 \r\nL 303.022691 239.758125 \r\nL 301.472656 239.758125 \r\nL 299.922621 239.758125 \r\nL 298.372586 239.758125 \r\nL 296.822551 239.758125 \r\nL 295.272516 239.758125 \r\nL 293.722481 239.758125 \r\nL 292.172446 239.758125 \r\nL 290.622411 239.758125 \r\nL 289.072376 239.758125 \r\nL 287.522341 239.758125 \r\nL 285.972306 239.758125 \r\nL 284.422271 239.758125 \r\nL 282.872236 239.758125 \r\nL 281.322201 239.758125 \r\nL 279.772166 239.758125 \r\nL 278.222131 239.758125 \r\nL 276.672095 239.758125 \r\nL 275.12206 239.758125 \r\nL 273.572025 239.758125 \r\nL 272.02199 239.758125 \r\nL 270.471955 239.758125 \r\nL 268.92192 239.758125 \r\nL 267.371885 239.758125 \r\nL 265.82185 239.758125 \r\nL 264.271815 239.758125 \r\nL 262.72178 239.758125 \r\nL 261.171745 239.758125 \r\nL 259.62171 239.758125 \r\nL 258.071675 239.758125 \r\nL 256.52164 239.758125 \r\nL 254.971605 239.758125 \r\nL 253.42157 239.758125 \r\nL 251.871535 239.758125 \r\nL 250.3215 239.758125 \r\nL 248.771465 239.758125 \r\nL 247.22143 239.758125 \r\nL 245.671395 239.758125 \r\nL 244.12136 239.758125 \r\nL 242.571325 239.758125 \r\nL 241.02129 239.758125 \r\nL 239.471255 239.758125 \r\nL 237.92122 239.758125 \r\nL 236.371185 239.758125 \r\nL 234.821149 239.758125 \r\nL 233.271114 239.758125 \r\nL 231.721079 239.758125 \r\nL 230.171044 239.758125 \r\nL 228.621009 239.758125 \r\nL 227.070974 239.758125 \r\nL 225.520939 239.758125 \r\nL 223.970904 239.758125 \r\nL 222.420869 239.758125 \r\nL 220.870834 239.758125 \r\nL 219.320799 239.758125 \r\nL 217.770764 239.758125 \r\nL 216.220729 239.758125 \r\nL 214.670694 239.758125 \r\nL 213.120659 239.758125 \r\nL 211.570624 239.758125 \r\nL 210.020589 239.758125 \r\nL 208.470554 239.758125 \r\nL 206.920519 239.758125 \r\nL 205.370484 239.758125 \r\nL 203.820449 239.758125 \r\nL 202.270414 239.758125 \r\nL 200.720379 239.758125 \r\nL 199.170344 239.758125 \r\nL 197.620309 239.758125 \r\nL 196.070274 239.758125 \r\nL 194.520239 239.758125 \r\nL 192.970203 239.758125 \r\nL 191.420168 239.758125 \r\nL 189.870133 239.758125 \r\nL 188.320098 239.758125 \r\nz\r\n\" style=\"fill:#ff4500;stroke:#ff4500;stroke-width:2;\"/>\r\n   </g>\r\n   <g id=\"matplotlib.axis_1\">\r\n    <g id=\"xtick_1\">\r\n     <g id=\"line2d_1\">\r\n      <defs>\r\n       <path d=\"M 0 0 \r\nL 0 3.5 \r\n\" id=\"m012fd97c12\" style=\"stroke:#000000;stroke-width:0.8;\"/>\r\n      </defs>\r\n      <g>\r\n       <use style=\"stroke:#000000;stroke-width:0.8;\" x=\"186.977051\" xlink:href=\"#m012fd97c12\" y=\"239.758125\"/>\r\n      </g>\r\n     </g>\r\n     <g id=\"text_1\">\r\n      <!-- $F_{crit}$ -->\r\n      <g style=\"fill:#ff0000;\" transform=\"translate(178.227051 254.356563)scale(0.1 -0.1)\">\r\n       <defs>\r\n        <path d=\"M 1081 4666 \r\nL 3756 4666 \r\nL 3653 4134 \r\nL 1606 4134 \r\nL 1338 2759 \r\nL 3188 2759 \r\nL 3084 2228 \r\nL 1234 2228 \r\nL 800 0 \r\nL 172 0 \r\nL 1081 4666 \r\nz\r\n\" id=\"DejaVuSans-Oblique-46\" transform=\"scale(0.015625)\"/>\r\n        <path d=\"M 3431 3366 \r\nL 3316 2797 \r\nQ 3109 2947 2876 3022 \r\nQ 2644 3097 2394 3097 \r\nQ 2119 3097 1870 3000 \r\nQ 1622 2903 1453 2725 \r\nQ 1184 2453 1037 2087 \r\nQ 891 1722 891 1331 \r\nQ 891 859 1127 628 \r\nQ 1363 397 1844 397 \r\nQ 2081 397 2348 469 \r\nQ 2616 541 2906 684 \r\nL 2797 116 \r\nQ 2547 13 2283 -39 \r\nQ 2019 -91 1741 -91 \r\nQ 1044 -91 669 257 \r\nQ 294 606 294 1253 \r\nQ 294 1797 489 2255 \r\nQ 684 2713 1069 3078 \r\nQ 1331 3328 1684 3456 \r\nQ 2038 3584 2456 3584 \r\nQ 2700 3584 2940 3529 \r\nQ 3181 3475 3431 3366 \r\nz\r\n\" id=\"DejaVuSans-Oblique-63\" transform=\"scale(0.015625)\"/>\r\n        <path d=\"M 2853 2969 \r\nQ 2766 3016 2653 3041 \r\nQ 2541 3066 2413 3066 \r\nQ 1953 3066 1609 2717 \r\nQ 1266 2369 1153 1784 \r\nL 800 0 \r\nL 225 0 \r\nL 909 3500 \r\nL 1484 3500 \r\nL 1375 2956 \r\nQ 1603 3259 1920 3421 \r\nQ 2238 3584 2597 3584 \r\nQ 2691 3584 2781 3573 \r\nQ 2872 3563 2963 3538 \r\nL 2853 2969 \r\nz\r\n\" id=\"DejaVuSans-Oblique-72\" transform=\"scale(0.015625)\"/>\r\n        <path d=\"M 1172 4863 \r\nL 1747 4863 \r\nL 1606 4134 \r\nL 1031 4134 \r\nL 1172 4863 \r\nz\r\nM 909 3500 \r\nL 1484 3500 \r\nL 800 0 \r\nL 225 0 \r\nL 909 3500 \r\nz\r\n\" id=\"DejaVuSans-Oblique-69\" transform=\"scale(0.015625)\"/>\r\n        <path d=\"M 2706 3500 \r\nL 2619 3053 \r\nL 1472 3053 \r\nL 1100 1153 \r\nQ 1081 1047 1072 975 \r\nQ 1063 903 1063 863 \r\nQ 1063 663 1183 572 \r\nQ 1303 481 1569 481 \r\nL 2150 481 \r\nL 2053 0 \r\nL 1503 0 \r\nQ 991 0 739 200 \r\nQ 488 400 488 806 \r\nQ 488 878 497 964 \r\nQ 506 1050 525 1153 \r\nL 897 3053 \r\nL 409 3053 \r\nL 500 3500 \r\nL 978 3500 \r\nL 1172 4494 \r\nL 1747 4494 \r\nL 1556 3500 \r\nL 2706 3500 \r\nz\r\n\" id=\"DejaVuSans-Oblique-74\" transform=\"scale(0.015625)\"/>\r\n       </defs>\r\n       <use transform=\"translate(0 0.09375)\" xlink:href=\"#DejaVuSans-Oblique-46\"/>\r\n       <use transform=\"translate(57.519531 -16.3125)scale(0.7)\" xlink:href=\"#DejaVuSans-Oblique-63\"/>\r\n       <use transform=\"translate(96.005859 -16.3125)scale(0.7)\" xlink:href=\"#DejaVuSans-Oblique-72\"/>\r\n       <use transform=\"translate(124.785156 -16.3125)scale(0.7)\" xlink:href=\"#DejaVuSans-Oblique-69\"/>\r\n       <use transform=\"translate(144.233398 -16.3125)scale(0.7)\" xlink:href=\"#DejaVuSans-Oblique-74\"/>\r\n      </g>\r\n     </g>\r\n    </g>\r\n    <g id=\"xtick_2\">\r\n     <g id=\"line2d_2\">\r\n      <g>\r\n       <use style=\"stroke:#000000;stroke-width:0.8;\" x=\"337.546459\" xlink:href=\"#m012fd97c12\" y=\"239.758125\"/>\r\n      </g>\r\n     </g>\r\n     <g id=\"text_2\">\r\n      <!-- $F$ -->\r\n      <g style=\"fill:#006400;\" transform=\"translate(334.646459 254.356563)scale(0.1 -0.1)\">\r\n       <use transform=\"translate(0 0.09375)\" xlink:href=\"#DejaVuSans-Oblique-46\"/>\r\n      </g>\r\n     </g>\r\n    </g>\r\n   </g>\r\n   <g id=\"matplotlib.axis_2\">\r\n    <g id=\"ytick_1\">\r\n     <g id=\"line2d_3\">\r\n      <defs>\r\n       <path d=\"M 0 0 \r\nL -3.5 0 \r\n\" id=\"me62975dc5e\" style=\"stroke:#000000;stroke-width:0.8;\"/>\r\n      </defs>\r\n      <g>\r\n       <use style=\"stroke:#000000;stroke-width:0.8;\" x=\"45.716875\" xlink:href=\"#me62975dc5e\" y=\"239.758125\"/>\r\n      </g>\r\n     </g>\r\n     <g id=\"text_3\">\r\n      <!-- 0.0 -->\r\n      <g transform=\"translate(22.81375 243.557344)scale(0.1 -0.1)\">\r\n       <defs>\r\n        <path d=\"M 2034 4250 \r\nQ 1547 4250 1301 3770 \r\nQ 1056 3291 1056 2328 \r\nQ 1056 1369 1301 889 \r\nQ 1547 409 2034 409 \r\nQ 2525 409 2770 889 \r\nQ 3016 1369 3016 2328 \r\nQ 3016 3291 2770 3770 \r\nQ 2525 4250 2034 4250 \r\nz\r\nM 2034 4750 \r\nQ 2819 4750 3233 4129 \r\nQ 3647 3509 3647 2328 \r\nQ 3647 1150 3233 529 \r\nQ 2819 -91 2034 -91 \r\nQ 1250 -91 836 529 \r\nQ 422 1150 422 2328 \r\nQ 422 3509 836 4129 \r\nQ 1250 4750 2034 4750 \r\nz\r\n\" id=\"DejaVuSans-30\" transform=\"scale(0.015625)\"/>\r\n        <path d=\"M 684 794 \r\nL 1344 794 \r\nL 1344 0 \r\nL 684 0 \r\nL 684 794 \r\nz\r\n\" id=\"DejaVuSans-2e\" transform=\"scale(0.015625)\"/>\r\n       </defs>\r\n       <use xlink:href=\"#DejaVuSans-30\"/>\r\n       <use x=\"63.623047\" xlink:href=\"#DejaVuSans-2e\"/>\r\n       <use x=\"95.410156\" xlink:href=\"#DejaVuSans-30\"/>\r\n      </g>\r\n     </g>\r\n    </g>\r\n    <g id=\"ytick_2\">\r\n     <g id=\"line2d_4\">\r\n      <g>\r\n       <use style=\"stroke:#000000;stroke-width:0.8;\" x=\"45.716875\" xlink:href=\"#me62975dc5e\" y=\"209.558125\"/>\r\n      </g>\r\n     </g>\r\n     <g id=\"text_4\">\r\n      <!-- 0.1 -->\r\n      <g transform=\"translate(22.81375 213.357344)scale(0.1 -0.1)\">\r\n       <defs>\r\n        <path d=\"M 794 531 \r\nL 1825 531 \r\nL 1825 4091 \r\nL 703 3866 \r\nL 703 4441 \r\nL 1819 4666 \r\nL 2450 4666 \r\nL 2450 531 \r\nL 3481 531 \r\nL 3481 0 \r\nL 794 0 \r\nL 794 531 \r\nz\r\n\" id=\"DejaVuSans-31\" transform=\"scale(0.015625)\"/>\r\n       </defs>\r\n       <use xlink:href=\"#DejaVuSans-30\"/>\r\n       <use x=\"63.623047\" xlink:href=\"#DejaVuSans-2e\"/>\r\n       <use x=\"95.410156\" xlink:href=\"#DejaVuSans-31\"/>\r\n      </g>\r\n     </g>\r\n    </g>\r\n    <g id=\"ytick_3\">\r\n     <g id=\"line2d_5\">\r\n      <g>\r\n       <use style=\"stroke:#000000;stroke-width:0.8;\" x=\"45.716875\" xlink:href=\"#me62975dc5e\" y=\"179.358125\"/>\r\n      </g>\r\n     </g>\r\n     <g id=\"text_5\">\r\n      <!-- 0.2 -->\r\n      <g transform=\"translate(22.81375 183.157344)scale(0.1 -0.1)\">\r\n       <defs>\r\n        <path d=\"M 1228 531 \r\nL 3431 531 \r\nL 3431 0 \r\nL 469 0 \r\nL 469 531 \r\nQ 828 903 1448 1529 \r\nQ 2069 2156 2228 2338 \r\nQ 2531 2678 2651 2914 \r\nQ 2772 3150 2772 3378 \r\nQ 2772 3750 2511 3984 \r\nQ 2250 4219 1831 4219 \r\nQ 1534 4219 1204 4116 \r\nQ 875 4013 500 3803 \r\nL 500 4441 \r\nQ 881 4594 1212 4672 \r\nQ 1544 4750 1819 4750 \r\nQ 2544 4750 2975 4387 \r\nQ 3406 4025 3406 3419 \r\nQ 3406 3131 3298 2873 \r\nQ 3191 2616 2906 2266 \r\nQ 2828 2175 2409 1742 \r\nQ 1991 1309 1228 531 \r\nz\r\n\" id=\"DejaVuSans-32\" transform=\"scale(0.015625)\"/>\r\n       </defs>\r\n       <use xlink:href=\"#DejaVuSans-30\"/>\r\n       <use x=\"63.623047\" xlink:href=\"#DejaVuSans-2e\"/>\r\n       <use x=\"95.410156\" xlink:href=\"#DejaVuSans-32\"/>\r\n      </g>\r\n     </g>\r\n    </g>\r\n    <g id=\"ytick_4\">\r\n     <g id=\"line2d_6\">\r\n      <g>\r\n       <use style=\"stroke:#000000;stroke-width:0.8;\" x=\"45.716875\" xlink:href=\"#me62975dc5e\" y=\"149.158125\"/>\r\n      </g>\r\n     </g>\r\n     <g id=\"text_6\">\r\n      <!-- 0.3 -->\r\n      <g transform=\"translate(22.81375 152.957344)scale(0.1 -0.1)\">\r\n       <defs>\r\n        <path d=\"M 2597 2516 \r\nQ 3050 2419 3304 2112 \r\nQ 3559 1806 3559 1356 \r\nQ 3559 666 3084 287 \r\nQ 2609 -91 1734 -91 \r\nQ 1441 -91 1130 -33 \r\nQ 819 25 488 141 \r\nL 488 750 \r\nQ 750 597 1062 519 \r\nQ 1375 441 1716 441 \r\nQ 2309 441 2620 675 \r\nQ 2931 909 2931 1356 \r\nQ 2931 1769 2642 2001 \r\nQ 2353 2234 1838 2234 \r\nL 1294 2234 \r\nL 1294 2753 \r\nL 1863 2753 \r\nQ 2328 2753 2575 2939 \r\nQ 2822 3125 2822 3475 \r\nQ 2822 3834 2567 4026 \r\nQ 2313 4219 1838 4219 \r\nQ 1578 4219 1281 4162 \r\nQ 984 4106 628 3988 \r\nL 628 4550 \r\nQ 988 4650 1302 4700 \r\nQ 1616 4750 1894 4750 \r\nQ 2613 4750 3031 4423 \r\nQ 3450 4097 3450 3541 \r\nQ 3450 3153 3228 2886 \r\nQ 3006 2619 2597 2516 \r\nz\r\n\" id=\"DejaVuSans-33\" transform=\"scale(0.015625)\"/>\r\n       </defs>\r\n       <use xlink:href=\"#DejaVuSans-30\"/>\r\n       <use x=\"63.623047\" xlink:href=\"#DejaVuSans-2e\"/>\r\n       <use x=\"95.410156\" xlink:href=\"#DejaVuSans-33\"/>\r\n      </g>\r\n     </g>\r\n    </g>\r\n    <g id=\"ytick_5\">\r\n     <g id=\"line2d_7\">\r\n      <g>\r\n       <use style=\"stroke:#000000;stroke-width:0.8;\" x=\"45.716875\" xlink:href=\"#me62975dc5e\" y=\"118.958125\"/>\r\n      </g>\r\n     </g>\r\n     <g id=\"text_7\">\r\n      <!-- 0.4 -->\r\n      <g transform=\"translate(22.81375 122.757344)scale(0.1 -0.1)\">\r\n       <defs>\r\n        <path d=\"M 2419 4116 \r\nL 825 1625 \r\nL 2419 1625 \r\nL 2419 4116 \r\nz\r\nM 2253 4666 \r\nL 3047 4666 \r\nL 3047 1625 \r\nL 3713 1625 \r\nL 3713 1100 \r\nL 3047 1100 \r\nL 3047 0 \r\nL 2419 0 \r\nL 2419 1100 \r\nL 313 1100 \r\nL 313 1709 \r\nL 2253 4666 \r\nz\r\n\" id=\"DejaVuSans-34\" transform=\"scale(0.015625)\"/>\r\n       </defs>\r\n       <use xlink:href=\"#DejaVuSans-30\"/>\r\n       <use x=\"63.623047\" xlink:href=\"#DejaVuSans-2e\"/>\r\n       <use x=\"95.410156\" xlink:href=\"#DejaVuSans-34\"/>\r\n      </g>\r\n     </g>\r\n    </g>\r\n    <g id=\"ytick_6\">\r\n     <g id=\"line2d_8\">\r\n      <g>\r\n       <use style=\"stroke:#000000;stroke-width:0.8;\" x=\"45.716875\" xlink:href=\"#me62975dc5e\" y=\"88.758125\"/>\r\n      </g>\r\n     </g>\r\n     <g id=\"text_8\">\r\n      <!-- 0.5 -->\r\n      <g transform=\"translate(22.81375 92.557344)scale(0.1 -0.1)\">\r\n       <defs>\r\n        <path d=\"M 691 4666 \r\nL 3169 4666 \r\nL 3169 4134 \r\nL 1269 4134 \r\nL 1269 2991 \r\nQ 1406 3038 1543 3061 \r\nQ 1681 3084 1819 3084 \r\nQ 2600 3084 3056 2656 \r\nQ 3513 2228 3513 1497 \r\nQ 3513 744 3044 326 \r\nQ 2575 -91 1722 -91 \r\nQ 1428 -91 1123 -41 \r\nQ 819 9 494 109 \r\nL 494 744 \r\nQ 775 591 1075 516 \r\nQ 1375 441 1709 441 \r\nQ 2250 441 2565 725 \r\nQ 2881 1009 2881 1497 \r\nQ 2881 1984 2565 2268 \r\nQ 2250 2553 1709 2553 \r\nQ 1456 2553 1204 2497 \r\nQ 953 2441 691 2322 \r\nL 691 4666 \r\nz\r\n\" id=\"DejaVuSans-35\" transform=\"scale(0.015625)\"/>\r\n       </defs>\r\n       <use xlink:href=\"#DejaVuSans-30\"/>\r\n       <use x=\"63.623047\" xlink:href=\"#DejaVuSans-2e\"/>\r\n       <use x=\"95.410156\" xlink:href=\"#DejaVuSans-35\"/>\r\n      </g>\r\n     </g>\r\n    </g>\r\n    <g id=\"ytick_7\">\r\n     <g id=\"line2d_9\">\r\n      <g>\r\n       <use style=\"stroke:#000000;stroke-width:0.8;\" x=\"45.716875\" xlink:href=\"#me62975dc5e\" y=\"58.558125\"/>\r\n      </g>\r\n     </g>\r\n     <g id=\"text_9\">\r\n      <!-- 0.6 -->\r\n      <g transform=\"translate(22.81375 62.357344)scale(0.1 -0.1)\">\r\n       <defs>\r\n        <path d=\"M 2113 2584 \r\nQ 1688 2584 1439 2293 \r\nQ 1191 2003 1191 1497 \r\nQ 1191 994 1439 701 \r\nQ 1688 409 2113 409 \r\nQ 2538 409 2786 701 \r\nQ 3034 994 3034 1497 \r\nQ 3034 2003 2786 2293 \r\nQ 2538 2584 2113 2584 \r\nz\r\nM 3366 4563 \r\nL 3366 3988 \r\nQ 3128 4100 2886 4159 \r\nQ 2644 4219 2406 4219 \r\nQ 1781 4219 1451 3797 \r\nQ 1122 3375 1075 2522 \r\nQ 1259 2794 1537 2939 \r\nQ 1816 3084 2150 3084 \r\nQ 2853 3084 3261 2657 \r\nQ 3669 2231 3669 1497 \r\nQ 3669 778 3244 343 \r\nQ 2819 -91 2113 -91 \r\nQ 1303 -91 875 529 \r\nQ 447 1150 447 2328 \r\nQ 447 3434 972 4092 \r\nQ 1497 4750 2381 4750 \r\nQ 2619 4750 2861 4703 \r\nQ 3103 4656 3366 4563 \r\nz\r\n\" id=\"DejaVuSans-36\" transform=\"scale(0.015625)\"/>\r\n       </defs>\r\n       <use xlink:href=\"#DejaVuSans-30\"/>\r\n       <use x=\"63.623047\" xlink:href=\"#DejaVuSans-2e\"/>\r\n       <use x=\"95.410156\" xlink:href=\"#DejaVuSans-36\"/>\r\n      </g>\r\n     </g>\r\n    </g>\r\n    <g id=\"ytick_8\">\r\n     <g id=\"line2d_10\">\r\n      <g>\r\n       <use style=\"stroke:#000000;stroke-width:0.8;\" x=\"45.716875\" xlink:href=\"#me62975dc5e\" y=\"28.358125\"/>\r\n      </g>\r\n     </g>\r\n     <g id=\"text_10\">\r\n      <!-- 0.7 -->\r\n      <g transform=\"translate(22.81375 32.157344)scale(0.1 -0.1)\">\r\n       <defs>\r\n        <path d=\"M 525 4666 \r\nL 3525 4666 \r\nL 3525 4397 \r\nL 1831 0 \r\nL 1172 0 \r\nL 2766 4134 \r\nL 525 4134 \r\nL 525 4666 \r\nz\r\n\" id=\"DejaVuSans-37\" transform=\"scale(0.015625)\"/>\r\n       </defs>\r\n       <use xlink:href=\"#DejaVuSans-30\"/>\r\n       <use x=\"63.623047\" xlink:href=\"#DejaVuSans-2e\"/>\r\n       <use x=\"95.410156\" xlink:href=\"#DejaVuSans-37\"/>\r\n      </g>\r\n     </g>\r\n    </g>\r\n    <g id=\"text_11\">\r\n     <!-- Density function -->\r\n     <g transform=\"translate(16.318125 180.264375)rotate(-90)scale(0.12 -0.12)\">\r\n      <defs>\r\n       <path d=\"M 1259 4147 \r\nL 1259 519 \r\nL 2022 519 \r\nQ 2988 519 3436 956 \r\nQ 3884 1394 3884 2338 \r\nQ 3884 3275 3436 3711 \r\nQ 2988 4147 2022 4147 \r\nL 1259 4147 \r\nz\r\nM 628 4666 \r\nL 1925 4666 \r\nQ 3281 4666 3915 4102 \r\nQ 4550 3538 4550 2338 \r\nQ 4550 1131 3912 565 \r\nQ 3275 0 1925 0 \r\nL 628 0 \r\nL 628 4666 \r\nz\r\n\" id=\"DejaVuSans-44\" transform=\"scale(0.015625)\"/>\r\n       <path d=\"M 3597 1894 \r\nL 3597 1613 \r\nL 953 1613 \r\nQ 991 1019 1311 708 \r\nQ 1631 397 2203 397 \r\nQ 2534 397 2845 478 \r\nQ 3156 559 3463 722 \r\nL 3463 178 \r\nQ 3153 47 2828 -22 \r\nQ 2503 -91 2169 -91 \r\nQ 1331 -91 842 396 \r\nQ 353 884 353 1716 \r\nQ 353 2575 817 3079 \r\nQ 1281 3584 2069 3584 \r\nQ 2775 3584 3186 3129 \r\nQ 3597 2675 3597 1894 \r\nz\r\nM 3022 2063 \r\nQ 3016 2534 2758 2815 \r\nQ 2500 3097 2075 3097 \r\nQ 1594 3097 1305 2825 \r\nQ 1016 2553 972 2059 \r\nL 3022 2063 \r\nz\r\n\" id=\"DejaVuSans-65\" transform=\"scale(0.015625)\"/>\r\n       <path d=\"M 3513 2113 \r\nL 3513 0 \r\nL 2938 0 \r\nL 2938 2094 \r\nQ 2938 2591 2744 2837 \r\nQ 2550 3084 2163 3084 \r\nQ 1697 3084 1428 2787 \r\nQ 1159 2491 1159 1978 \r\nL 1159 0 \r\nL 581 0 \r\nL 581 3500 \r\nL 1159 3500 \r\nL 1159 2956 \r\nQ 1366 3272 1645 3428 \r\nQ 1925 3584 2291 3584 \r\nQ 2894 3584 3203 3211 \r\nQ 3513 2838 3513 2113 \r\nz\r\n\" id=\"DejaVuSans-6e\" transform=\"scale(0.015625)\"/>\r\n       <path d=\"M 2834 3397 \r\nL 2834 2853 \r\nQ 2591 2978 2328 3040 \r\nQ 2066 3103 1784 3103 \r\nQ 1356 3103 1142 2972 \r\nQ 928 2841 928 2578 \r\nQ 928 2378 1081 2264 \r\nQ 1234 2150 1697 2047 \r\nL 1894 2003 \r\nQ 2506 1872 2764 1633 \r\nQ 3022 1394 3022 966 \r\nQ 3022 478 2636 193 \r\nQ 2250 -91 1575 -91 \r\nQ 1294 -91 989 -36 \r\nQ 684 19 347 128 \r\nL 347 722 \r\nQ 666 556 975 473 \r\nQ 1284 391 1588 391 \r\nQ 1994 391 2212 530 \r\nQ 2431 669 2431 922 \r\nQ 2431 1156 2273 1281 \r\nQ 2116 1406 1581 1522 \r\nL 1381 1569 \r\nQ 847 1681 609 1914 \r\nQ 372 2147 372 2553 \r\nQ 372 3047 722 3315 \r\nQ 1072 3584 1716 3584 \r\nQ 2034 3584 2315 3537 \r\nQ 2597 3491 2834 3397 \r\nz\r\n\" id=\"DejaVuSans-73\" transform=\"scale(0.015625)\"/>\r\n       <path d=\"M 603 3500 \r\nL 1178 3500 \r\nL 1178 0 \r\nL 603 0 \r\nL 603 3500 \r\nz\r\nM 603 4863 \r\nL 1178 4863 \r\nL 1178 4134 \r\nL 603 4134 \r\nL 603 4863 \r\nz\r\n\" id=\"DejaVuSans-69\" transform=\"scale(0.015625)\"/>\r\n       <path d=\"M 1172 4494 \r\nL 1172 3500 \r\nL 2356 3500 \r\nL 2356 3053 \r\nL 1172 3053 \r\nL 1172 1153 \r\nQ 1172 725 1289 603 \r\nQ 1406 481 1766 481 \r\nL 2356 481 \r\nL 2356 0 \r\nL 1766 0 \r\nQ 1100 0 847 248 \r\nQ 594 497 594 1153 \r\nL 594 3053 \r\nL 172 3053 \r\nL 172 3500 \r\nL 594 3500 \r\nL 594 4494 \r\nL 1172 4494 \r\nz\r\n\" id=\"DejaVuSans-74\" transform=\"scale(0.015625)\"/>\r\n       <path d=\"M 2059 -325 \r\nQ 1816 -950 1584 -1140 \r\nQ 1353 -1331 966 -1331 \r\nL 506 -1331 \r\nL 506 -850 \r\nL 844 -850 \r\nQ 1081 -850 1212 -737 \r\nQ 1344 -625 1503 -206 \r\nL 1606 56 \r\nL 191 3500 \r\nL 800 3500 \r\nL 1894 763 \r\nL 2988 3500 \r\nL 3597 3500 \r\nL 2059 -325 \r\nz\r\n\" id=\"DejaVuSans-79\" transform=\"scale(0.015625)\"/>\r\n       <path id=\"DejaVuSans-20\" transform=\"scale(0.015625)\"/>\r\n       <path d=\"M 2375 4863 \r\nL 2375 4384 \r\nL 1825 4384 \r\nQ 1516 4384 1395 4259 \r\nQ 1275 4134 1275 3809 \r\nL 1275 3500 \r\nL 2222 3500 \r\nL 2222 3053 \r\nL 1275 3053 \r\nL 1275 0 \r\nL 697 0 \r\nL 697 3053 \r\nL 147 3053 \r\nL 147 3500 \r\nL 697 3500 \r\nL 697 3744 \r\nQ 697 4328 969 4595 \r\nQ 1241 4863 1831 4863 \r\nL 2375 4863 \r\nz\r\n\" id=\"DejaVuSans-66\" transform=\"scale(0.015625)\"/>\r\n       <path d=\"M 544 1381 \r\nL 544 3500 \r\nL 1119 3500 \r\nL 1119 1403 \r\nQ 1119 906 1312 657 \r\nQ 1506 409 1894 409 \r\nQ 2359 409 2629 706 \r\nQ 2900 1003 2900 1516 \r\nL 2900 3500 \r\nL 3475 3500 \r\nL 3475 0 \r\nL 2900 0 \r\nL 2900 538 \r\nQ 2691 219 2414 64 \r\nQ 2138 -91 1772 -91 \r\nQ 1169 -91 856 284 \r\nQ 544 659 544 1381 \r\nz\r\nM 1991 3584 \r\nL 1991 3584 \r\nz\r\n\" id=\"DejaVuSans-75\" transform=\"scale(0.015625)\"/>\r\n       <path d=\"M 3122 3366 \r\nL 3122 2828 \r\nQ 2878 2963 2633 3030 \r\nQ 2388 3097 2138 3097 \r\nQ 1578 3097 1268 2742 \r\nQ 959 2388 959 1747 \r\nQ 959 1106 1268 751 \r\nQ 1578 397 2138 397 \r\nQ 2388 397 2633 464 \r\nQ 2878 531 3122 666 \r\nL 3122 134 \r\nQ 2881 22 2623 -34 \r\nQ 2366 -91 2075 -91 \r\nQ 1284 -91 818 406 \r\nQ 353 903 353 1747 \r\nQ 353 2603 823 3093 \r\nQ 1294 3584 2113 3584 \r\nQ 2378 3584 2631 3529 \r\nQ 2884 3475 3122 3366 \r\nz\r\n\" id=\"DejaVuSans-63\" transform=\"scale(0.015625)\"/>\r\n       <path d=\"M 1959 3097 \r\nQ 1497 3097 1228 2736 \r\nQ 959 2375 959 1747 \r\nQ 959 1119 1226 758 \r\nQ 1494 397 1959 397 \r\nQ 2419 397 2687 759 \r\nQ 2956 1122 2956 1747 \r\nQ 2956 2369 2687 2733 \r\nQ 2419 3097 1959 3097 \r\nz\r\nM 1959 3584 \r\nQ 2709 3584 3137 3096 \r\nQ 3566 2609 3566 1747 \r\nQ 3566 888 3137 398 \r\nQ 2709 -91 1959 -91 \r\nQ 1206 -91 779 398 \r\nQ 353 888 353 1747 \r\nQ 353 2609 779 3096 \r\nQ 1206 3584 1959 3584 \r\nz\r\n\" id=\"DejaVuSans-6f\" transform=\"scale(0.015625)\"/>\r\n      </defs>\r\n      <use xlink:href=\"#DejaVuSans-44\"/>\r\n      <use x=\"77.001953\" xlink:href=\"#DejaVuSans-65\"/>\r\n      <use x=\"138.525391\" xlink:href=\"#DejaVuSans-6e\"/>\r\n      <use x=\"201.904297\" xlink:href=\"#DejaVuSans-73\"/>\r\n      <use x=\"254.003906\" xlink:href=\"#DejaVuSans-69\"/>\r\n      <use x=\"281.787109\" xlink:href=\"#DejaVuSans-74\"/>\r\n      <use x=\"320.996094\" xlink:href=\"#DejaVuSans-79\"/>\r\n      <use x=\"380.175781\" xlink:href=\"#DejaVuSans-20\"/>\r\n      <use x=\"411.962891\" xlink:href=\"#DejaVuSans-66\"/>\r\n      <use x=\"447.167969\" xlink:href=\"#DejaVuSans-75\"/>\r\n      <use x=\"510.546875\" xlink:href=\"#DejaVuSans-6e\"/>\r\n      <use x=\"573.925781\" xlink:href=\"#DejaVuSans-63\"/>\r\n      <use x=\"628.90625\" xlink:href=\"#DejaVuSans-74\"/>\r\n      <use x=\"668.115234\" xlink:href=\"#DejaVuSans-69\"/>\r\n      <use x=\"695.898438\" xlink:href=\"#DejaVuSans-6f\"/>\r\n      <use x=\"757.080078\" xlink:href=\"#DejaVuSans-6e\"/>\r\n     </g>\r\n    </g>\r\n   </g>\r\n   <g id=\"line2d_11\">\r\n    <path clip-path=\"url(#pc2982102a2)\" d=\"M 45.716875 239.758125 \r\nL 47.26691 122.839624 \r\nL 48.816945 84.697572 \r\nL 50.36698 61.582724 \r\nL 51.917015 46.644546 \r\nL 53.46705 37.01053 \r\nL 55.017085 31.10555 \r\nL 56.56712 27.940806 \r\nL 58.117155 26.843194 \r\nL 59.66719 27.329567 \r\nL 61.217225 29.040162 \r\nL 62.76726 31.699944 \r\nL 64.317295 35.094529 \r\nL 65.86733 39.054373 \r\nL 68.967401 48.153916 \r\nL 72.067471 58.197313 \r\nL 84.467751 99.535547 \r\nL 89.117856 113.747705 \r\nL 92.217926 122.606584 \r\nL 95.317996 130.947256 \r\nL 98.418066 138.766859 \r\nL 101.518136 146.073687 \r\nL 104.618206 152.883552 \r\nL 107.718276 159.217159 \r\nL 110.818347 165.098199 \r\nL 113.918417 170.551983 \r\nL 117.018487 175.604459 \r\nL 120.118557 180.281513 \r\nL 123.218627 184.608492 \r\nL 126.318697 188.609867 \r\nL 129.418767 192.309029 \r\nL 132.518837 195.728153 \r\nL 135.618907 198.888131 \r\nL 138.718977 201.808556 \r\nL 141.819047 204.507722 \r\nL 144.919117 207.002661 \r\nL 149.569222 210.39642 \r\nL 154.219328 213.414521 \r\nL 158.869433 216.100109 \r\nL 163.519538 218.491427 \r\nL 168.169643 220.622307 \r\nL 172.819748 222.522637 \r\nL 177.469853 224.2188 \r\nL 183.669993 226.202581 \r\nL 189.870133 227.912171 \r\nL 196.070274 229.387927 \r\nL 202.270414 230.663994 \r\nL 210.020589 232.021877 \r\nL 217.770764 233.159562 \r\nL 227.070974 234.287481 \r\nL 237.92122 235.341851 \r\nL 248.771465 236.175852 \r\nL 262.72178 237.002366 \r\nL 278.222131 237.681341 \r\nL 296.822551 238.262319 \r\nL 320.073077 238.749385 \r\nL 349.523742 239.130893 \r\nL 388.716875 239.412132 \r\nL 388.716875 239.412132 \r\n\" style=\"fill:none;stroke:#000000;stroke-linecap:square;stroke-width:1.5;\"/>\r\n   </g>\r\n   <g id=\"line2d_12\">\r\n    <path clip-path=\"url(#pc2982102a2)\" d=\"M 337.546459 239.758125 \r\nL 337.546459 22.318125 \r\n\" style=\"fill:none;stroke:#006400;stroke-dasharray:5.55,2.4;stroke-dashoffset:0;stroke-width:1.5;\"/>\r\n   </g>\r\n   <g id=\"line2d_13\">\r\n    <path clip-path=\"url(#pc2982102a2)\" d=\"M 186.977051 239.758125 \r\nL 186.977051 22.318125 \r\n\" style=\"fill:none;stroke:#ff0000;stroke-dasharray:5.55,2.4;stroke-dashoffset:0;stroke-width:1.5;\"/>\r\n   </g>\r\n   <g id=\"patch_3\">\r\n    <path d=\"M 45.716875 239.758125 \r\nL 45.716875 22.318125 \r\n\" style=\"fill:none;stroke:#000000;stroke-linecap:square;stroke-linejoin:miter;stroke-width:0.8;\"/>\r\n   </g>\r\n   <g id=\"patch_4\">\r\n    <path d=\"M 380.516875 239.758125 \r\nL 380.516875 22.318125 \r\n\" style=\"fill:none;stroke:#000000;stroke-linecap:square;stroke-linejoin:miter;stroke-width:0.8;\"/>\r\n   </g>\r\n   <g id=\"patch_5\">\r\n    <path d=\"M 45.716875 239.758125 \r\nL 380.516875 239.758125 \r\n\" style=\"fill:none;stroke:#000000;stroke-linecap:square;stroke-linejoin:miter;stroke-width:0.8;\"/>\r\n   </g>\r\n   <g id=\"patch_6\">\r\n    <path d=\"M 45.716875 22.318125 \r\nL 380.516875 22.318125 \r\n\" style=\"fill:none;stroke:#000000;stroke-linecap:square;stroke-linejoin:miter;stroke-width:0.8;\"/>\r\n   </g>\r\n   <g id=\"text_12\">\r\n    <!-- F distribution for DFeffect=3 and DFerror=15 -->\r\n    <g transform=\"translate(77.629375 16.318125)scale(0.12 -0.12)\">\r\n     <defs>\r\n      <path d=\"M 628 4666 \r\nL 3309 4666 \r\nL 3309 4134 \r\nL 1259 4134 \r\nL 1259 2759 \r\nL 3109 2759 \r\nL 3109 2228 \r\nL 1259 2228 \r\nL 1259 0 \r\nL 628 0 \r\nL 628 4666 \r\nz\r\n\" id=\"DejaVuSans-46\" transform=\"scale(0.015625)\"/>\r\n      <path d=\"M 2906 2969 \r\nL 2906 4863 \r\nL 3481 4863 \r\nL 3481 0 \r\nL 2906 0 \r\nL 2906 525 \r\nQ 2725 213 2448 61 \r\nQ 2172 -91 1784 -91 \r\nQ 1150 -91 751 415 \r\nQ 353 922 353 1747 \r\nQ 353 2572 751 3078 \r\nQ 1150 3584 1784 3584 \r\nQ 2172 3584 2448 3432 \r\nQ 2725 3281 2906 2969 \r\nz\r\nM 947 1747 \r\nQ 947 1113 1208 752 \r\nQ 1469 391 1925 391 \r\nQ 2381 391 2643 752 \r\nQ 2906 1113 2906 1747 \r\nQ 2906 2381 2643 2742 \r\nQ 2381 3103 1925 3103 \r\nQ 1469 3103 1208 2742 \r\nQ 947 2381 947 1747 \r\nz\r\n\" id=\"DejaVuSans-64\" transform=\"scale(0.015625)\"/>\r\n      <path d=\"M 2631 2963 \r\nQ 2534 3019 2420 3045 \r\nQ 2306 3072 2169 3072 \r\nQ 1681 3072 1420 2755 \r\nQ 1159 2438 1159 1844 \r\nL 1159 0 \r\nL 581 0 \r\nL 581 3500 \r\nL 1159 3500 \r\nL 1159 2956 \r\nQ 1341 3275 1631 3429 \r\nQ 1922 3584 2338 3584 \r\nQ 2397 3584 2469 3576 \r\nQ 2541 3569 2628 3553 \r\nL 2631 2963 \r\nz\r\n\" id=\"DejaVuSans-72\" transform=\"scale(0.015625)\"/>\r\n      <path d=\"M 3116 1747 \r\nQ 3116 2381 2855 2742 \r\nQ 2594 3103 2138 3103 \r\nQ 1681 3103 1420 2742 \r\nQ 1159 2381 1159 1747 \r\nQ 1159 1113 1420 752 \r\nQ 1681 391 2138 391 \r\nQ 2594 391 2855 752 \r\nQ 3116 1113 3116 1747 \r\nz\r\nM 1159 2969 \r\nQ 1341 3281 1617 3432 \r\nQ 1894 3584 2278 3584 \r\nQ 2916 3584 3314 3078 \r\nQ 3713 2572 3713 1747 \r\nQ 3713 922 3314 415 \r\nQ 2916 -91 2278 -91 \r\nQ 1894 -91 1617 61 \r\nQ 1341 213 1159 525 \r\nL 1159 0 \r\nL 581 0 \r\nL 581 4863 \r\nL 1159 4863 \r\nL 1159 2969 \r\nz\r\n\" id=\"DejaVuSans-62\" transform=\"scale(0.015625)\"/>\r\n      <path d=\"M 678 2906 \r\nL 4684 2906 \r\nL 4684 2381 \r\nL 678 2381 \r\nL 678 2906 \r\nz\r\nM 678 1631 \r\nL 4684 1631 \r\nL 4684 1100 \r\nL 678 1100 \r\nL 678 1631 \r\nz\r\n\" id=\"DejaVuSans-3d\" transform=\"scale(0.015625)\"/>\r\n      <path d=\"M 2194 1759 \r\nQ 1497 1759 1228 1600 \r\nQ 959 1441 959 1056 \r\nQ 959 750 1161 570 \r\nQ 1363 391 1709 391 \r\nQ 2188 391 2477 730 \r\nQ 2766 1069 2766 1631 \r\nL 2766 1759 \r\nL 2194 1759 \r\nz\r\nM 3341 1997 \r\nL 3341 0 \r\nL 2766 0 \r\nL 2766 531 \r\nQ 2569 213 2275 61 \r\nQ 1981 -91 1556 -91 \r\nQ 1019 -91 701 211 \r\nQ 384 513 384 1019 \r\nQ 384 1609 779 1909 \r\nQ 1175 2209 1959 2209 \r\nL 2766 2209 \r\nL 2766 2266 \r\nQ 2766 2663 2505 2880 \r\nQ 2244 3097 1772 3097 \r\nQ 1472 3097 1187 3025 \r\nQ 903 2953 641 2809 \r\nL 641 3341 \r\nQ 956 3463 1253 3523 \r\nQ 1550 3584 1831 3584 \r\nQ 2591 3584 2966 3190 \r\nQ 3341 2797 3341 1997 \r\nz\r\n\" id=\"DejaVuSans-61\" transform=\"scale(0.015625)\"/>\r\n     </defs>\r\n     <use xlink:href=\"#DejaVuSans-46\"/>\r\n     <use x=\"57.519531\" xlink:href=\"#DejaVuSans-20\"/>\r\n     <use x=\"89.306641\" xlink:href=\"#DejaVuSans-64\"/>\r\n     <use x=\"152.783203\" xlink:href=\"#DejaVuSans-69\"/>\r\n     <use x=\"180.566406\" xlink:href=\"#DejaVuSans-73\"/>\r\n     <use x=\"232.666016\" xlink:href=\"#DejaVuSans-74\"/>\r\n     <use x=\"271.875\" xlink:href=\"#DejaVuSans-72\"/>\r\n     <use x=\"312.988281\" xlink:href=\"#DejaVuSans-69\"/>\r\n     <use x=\"340.771484\" xlink:href=\"#DejaVuSans-62\"/>\r\n     <use x=\"404.248047\" xlink:href=\"#DejaVuSans-75\"/>\r\n     <use x=\"467.626953\" xlink:href=\"#DejaVuSans-74\"/>\r\n     <use x=\"506.835938\" xlink:href=\"#DejaVuSans-69\"/>\r\n     <use x=\"534.619141\" xlink:href=\"#DejaVuSans-6f\"/>\r\n     <use x=\"595.800781\" xlink:href=\"#DejaVuSans-6e\"/>\r\n     <use x=\"659.179688\" xlink:href=\"#DejaVuSans-20\"/>\r\n     <use x=\"690.966797\" xlink:href=\"#DejaVuSans-66\"/>\r\n     <use x=\"726.171875\" xlink:href=\"#DejaVuSans-6f\"/>\r\n     <use x=\"787.353516\" xlink:href=\"#DejaVuSans-72\"/>\r\n     <use x=\"828.466797\" xlink:href=\"#DejaVuSans-20\"/>\r\n     <use x=\"860.253906\" xlink:href=\"#DejaVuSans-44\"/>\r\n     <use x=\"937.255859\" xlink:href=\"#DejaVuSans-46\"/>\r\n     <use x=\"989.275391\" xlink:href=\"#DejaVuSans-65\"/>\r\n     <use x=\"1050.798828\" xlink:href=\"#DejaVuSans-66\"/>\r\n     <use x=\"1086.003906\" xlink:href=\"#DejaVuSans-66\"/>\r\n     <use x=\"1121.208984\" xlink:href=\"#DejaVuSans-65\"/>\r\n     <use x=\"1182.732422\" xlink:href=\"#DejaVuSans-63\"/>\r\n     <use x=\"1237.712891\" xlink:href=\"#DejaVuSans-74\"/>\r\n     <use x=\"1276.921875\" xlink:href=\"#DejaVuSans-3d\"/>\r\n     <use x=\"1360.710938\" xlink:href=\"#DejaVuSans-33\"/>\r\n     <use x=\"1424.333984\" xlink:href=\"#DejaVuSans-20\"/>\r\n     <use x=\"1456.121094\" xlink:href=\"#DejaVuSans-61\"/>\r\n     <use x=\"1517.400391\" xlink:href=\"#DejaVuSans-6e\"/>\r\n     <use x=\"1580.779297\" xlink:href=\"#DejaVuSans-64\"/>\r\n     <use x=\"1644.255859\" xlink:href=\"#DejaVuSans-20\"/>\r\n     <use x=\"1676.042969\" xlink:href=\"#DejaVuSans-44\"/>\r\n     <use x=\"1753.044922\" xlink:href=\"#DejaVuSans-46\"/>\r\n     <use x=\"1805.064453\" xlink:href=\"#DejaVuSans-65\"/>\r\n     <use x=\"1866.587891\" xlink:href=\"#DejaVuSans-72\"/>\r\n     <use x=\"1905.951172\" xlink:href=\"#DejaVuSans-72\"/>\r\n     <use x=\"1944.814453\" xlink:href=\"#DejaVuSans-6f\"/>\r\n     <use x=\"2005.996094\" xlink:href=\"#DejaVuSans-72\"/>\r\n     <use x=\"2047.109375\" xlink:href=\"#DejaVuSans-3d\"/>\r\n     <use x=\"2130.898438\" xlink:href=\"#DejaVuSans-31\"/>\r\n     <use x=\"2194.521484\" xlink:href=\"#DejaVuSans-35\"/>\r\n    </g>\r\n   </g>\r\n  </g>\r\n </g>\r\n <defs>\r\n  <clipPath id=\"pc2982102a2\">\r\n   <rect height=\"217.44\" width=\"334.8\" x=\"45.716875\" y=\"22.318125\"/>\r\n  </clipPath>\r\n </defs>\r\n</svg>\r\n",
      "image/png": "[encoded data removed]"
     },
     "metadata": {
      "needs_background": "light"
     }
    }
   ],
   "metadata": {}
  },
  {
   "cell_type": "markdown",
   "source": [
    "### Effect size\r\n",
    "\r\n",
    "Omega squared ($\\omega^2$) is another measure of the effect size, or the degree of association for a population. It is an estimate of **how much variance in the response variables are accounted for by the explanatory variables**. Omega squared is widely viewed as a lesser biased alternative to eta-squared, especially when sample sizes are small. Zero indicates no effect.\r\n",
    "$$ \\omega^2 = \\frac{\\sigma_Y^2 - \\sigma_{Y \\mid X}^2}{\\sigma_Y^2}\r\n",
    "= \\frac{df_\\text{effect} \\times (\\text{MS}_\\text{effect} - \\text{MS}_\\text{error})}{df_\\text{effect} \\times \\text{MS}_\\text{effect} + (N - df_\\text{effect}) \\times \\text{MS}_\\text{error}}\r\n",
    "= \\frac{df_\\text{effect} \\times (\\text{MS}_\\text{effect} - \\text{MS}_\\text{error})}{\\text{SS}_\\text{total} + \\text{MS}_\\text{error}}\r\n",
    "= \\frac{\\text{SS}_\\text{effect} - (r - 1) \\text{MS}_\\text{error}}{\\text{SS}_\\text{total} + \\text{MS}_\\text{error}}\r\n",
    "= \\frac{(r-1) \\times (F - 1)}{(r-1) \\times (F - 1) + N} $$"
   ],
   "metadata": {}
  },
  {
   "cell_type": "code",
   "execution_count": 16,
   "source": [
    "print(f\"omega squared = {DF_between * (MS_between - MS_within) / (DF_between * MS_between + (N - DF_between) * MS_within):.8f}\")\r\n",
    "print(f\"omega squared = {DF_between * (MS_between - MS_within) / (SST + MS_within):.8f}\")\r\n",
    "print(f\"omega squared = {(SSB - DF_between * MS_within) / (SST + MS_within):.8f}\")\r\n",
    "print(f\"omega squared = {(r-1) * (Fratio-1) / ((r-1) * (Fratio-1) + N):.8f}\")"
   ],
   "outputs": [
    {
     "output_type": "stream",
     "name": "stdout",
     "text": [
      "omega squared = 0.47765205\n",
      "omega squared = 0.47765205\n",
      "omega squared = 0.47765205\n",
      "omega squared = 0.47765205\n"
     ]
    }
   ],
   "metadata": {}
  },
  {
   "cell_type": "markdown",
   "source": [
    "### ANOVA reconstruction from summary data\r\n",
    "\r\n",
    "One-way ANOVA (but not repeated-measures ANOVA) can be [computed without raw data](https://www.youtube.com/watch?v=PPQRZsBSpI8), so long as you know the mean, sample size and SD (or SEM) of each group.\r\n",
    "\r\n",
    "When we look at the very first equations of $\\text{SS}_\\text{effect}$, $\\text{SS}_\\text{error}$ and $\\text{SS}_\\text{total}$, we see that we need the individual data points $ Y_{ij} $ in particular for computing $\\text{SS}_\\text{total}$. So we leave this equation apart.\r\n",
    "\r\n",
    "For $\\text{SS}_\\text{effect} = \\sum_i n_i (\\overline{Y_i} - \\overline{Y})^2 $, it's simply the sum of the squared difference between the group mean $ \\overline{Y_i} $ and the grand mean $ \\overline{Y} $ multiplied by the number of values in each group.\r\n",
    "\r\n",
    "In the example below, the **grand mean** $ = (41 + 38 + 14 + 37) / 4 = 32.5 $. _Beware this is only true when the sample sizes accross the groups are equal, otherwise we should compute the proper sample mean._\r\n",
    "\r\n",
    "| group | mean | $n_i$ | calculation  |\r\n",
    "| -----:| ---- | ----- |:------------:|\r\n",
    "|   A   |  41  |   8   | 8*(41-32.5)² |\r\n",
    "|   B   |  38  |   8   | 8*(38-32.5)² |\r\n",
    "|   C   |  14  |   8   | 8*(14-32.5)² |\r\n",
    "|   D   |  37  |   8   | 8*(37-32.5)² |\r\n",
    "|  sum  |      |       |     3720     |\r\n",
    "\r\n",
    "For $ \\text{SS}_\\text{error} = \\sum_i \\sum_j (Y_{ij} - \\overline{Y}_i)^2 $, we don't have access to the individual data points $ Y_{ij} $, but we have access to the standard deviation for each group. We know that the variance is the average of the sum of squares, with $ \\sigma_i^2 = \\frac{\\text{SS}_\\text{error}}{n_i - 1} $. Therefore $ \\text{SS}_\\text{error} $ is the sum of the squared standard deviation multiplied by the number or values minus 1 in each group as shown below:\r\n",
    "\r\n",
    "| group | SD  | $n_i$ | calculation |\r\n",
    "| -----:| --- | ----- |:-----------:|\r\n",
    "|   A   | 3.5 |   8   | (8-1)*3.5²  |\r\n",
    "|   B   | 4.6 |   8   | (8-1)*4.6²  |\r\n",
    "|   C   | 3.8 |   8   | (8-1)*3.8²  |\r\n",
    "|   D   | 4.9 |   8   | (8-1)*4.9²  |\r\n",
    "|  sum  |     |       |   503.02    |\r\n",
    "\r\n",
    "Let's compute the SSs using the Hair color dataset."
   ],
   "metadata": {}
  },
  {
   "cell_type": "code",
   "execution_count": 23,
   "source": [
    "grand_mean = data['Pain threshold'].mean()\r\n",
    "print(f\"grand mean = {grand_mean}\")\r\n",
    "\r\n",
    "# getting the count, mean and std for each group\r\n",
    "calc_table = data.groupby('Hair color').describe()['Pain threshold'].loc[:, ['count', 'mean', 'std']]\r\n",
    "\r\n",
    "calc_table['SSeffect'] = calc_table['count'] * (calc_table['mean'] - grand_mean)**2\r\n",
    "calc_table['SSerror']  = (calc_table['count'] - 1) * calc_table['std']**2\r\n",
    "calc_table.loc['sum'] = calc_table.sum(axis=0) # adding a new line as sum margin\r\n",
    "\r\n",
    "pg.print_table(calc_table.reset_index(), tablefmt='simple')\r\n",
    "\r\n",
    "print(f\"The values to be used in the ANOVA table are SSeffect = {calc_table.loc['sum','SSeffect']:.1f}, \\\r\n",
    "with DFeffect = {DF_between}, and SSerror = {calc_table.loc['sum','SSerror']:.1f} with DFerror = {DF_within}\")"
   ],
   "outputs": [
    {
     "output_type": "stream",
     "name": "stdout",
     "text": [
      "grand mean = 47.8421052631579\n",
      "Hair color        count     mean     std    SSeffect    SSerror\n",
      "--------------  -------  -------  ------  ----------  ---------\n",
      "Dark Blond        5.000   51.200   9.284      56.377    344.800\n",
      "Dark Brunette     5.000   37.400   8.325     545.188    277.200\n",
      "Light Blond       5.000   59.200   8.526     645.009    290.800\n",
      "Light Brunette    4.000   42.500   5.447     114.152     89.000\n",
      "sum              19.000  190.300  31.582    1360.726   1001.800\n",
      "\n",
      "The values to be used in the ANOVA table are SSeffect = 1360.7, with DFeffect = 3, and SSerror = 1001.8 with DFerror = 15\n"
     ]
    }
   ],
   "metadata": {}
  },
  {
   "cell_type": "markdown",
   "source": [
    "## Repeated-measures one-way ANOVA\r\n",
    "\r\n",
    "The difference between ordinary and repeated-measures ANOVA is the same as the difference between the unpaired and paired t tests. Use repeated-measures ANOVA to analyze data collected in three kinds if experiments:\r\n",
    "\r\n",
    "* measurements are made repeatedly for each subject (e.g. before, during and after)\r\n",
    "* subjects are recruited as matched sets or _blocks_, which are matched for variables such as age, postal code, diagnosis etc.\r\n",
    "* experiment is run several times, each time with several treatment handled in parallel\r\n",
    "\r\n",
    "More generally, you should use a repeated-measures test **whenever the value of one subject in the first group is expected to be closer to a particular value in the other group than to a random subject in the other group**.\r\n",
    "\r\n",
    "In one-way repeated-measures ANOVA, the total variance (sums of squares) is divided into three components $ \\text{SS}_{\\text{total}} = \\text{SS}_{\\text{effect}} + (\\text{SS}_{\\text{subjects}} + \\text{SS}_{\\text{error}}) $, with $ \\text{SS}_\\text{subjects} = r \\sum (\\overline Y_s - \\overline Y)^2 $ and $ \\overline Y_s $ the mean of the $ s $ th subject.\r\n",
    "\r\n",
    "The F statistic is defined as\r\n",
    "\r\n",
    "$$ F^* = \\frac{\\text{MS}_{\\text{effect}}}{\\text{MS}_{\\text{error}}} = \\frac{\\frac{\\text{SS}_{\\text{effect}}}{r-1}}{\\frac{\\text{SS}_{\\text{error}}}{(n - 1)(r - 1)}} $$\r\n",
    "\r\n",
    "and the P value can be calculated using a F-distribution with $ v_{\\text{effect}} = r - 1 $ and $ v_{\\text{error}} = (n - 1)(r - 1) $ degrees of freedom."
   ],
   "metadata": {}
  },
  {
   "cell_type": "markdown",
   "source": [
    "In one-way repeated-measures ANOVA, there is only one factor (treatment of timepoint) to study. The variation is divided into three components including within-subjects ($\\text{SS}_\\text{subjects}$), variation among the treatments or time points ($\\text{SS}_\\text{B}$), and residual variance ($\\text{SS}_\\text{E}$), as follows:\r\n",
    "\r\n",
    "| Source of variation  | Degree of freedom                 | Sum of squares       | Mean square       | F value     |\r\n",
    "| -------------------- | --------------------------------- | -------------------- | ----------------- | ----------- |\r\n",
    "| Subjects             | $\\text{DF}_\\text{S} = n - 1$      | $\\text{SS}_\\text{S}$ |                   |             |\r\n",
    "| Treatment/Time point | $\\text{DF}_\\text{B} = k - 1$      | $\\text{SS}_\\text{B}$ | $MS_B=SS_B/DF_B $ | $MS_B/MS_E$ |\r\n",
    "| Residuals or error   | $\\text{DF}_\\text{E} = (n-1)(k-1)$ | $\\text{SS}_\\text{E}$ | $MS_E=SS_E/DF_E $ |             |\r\n",
    "| Total                | $\\text{DF}_\\text{T} = nk-1$       | $\\text{SS}_\\text{T}$ |                   |             |"
   ],
   "metadata": {}
  },
  {
   "cell_type": "code",
   "execution_count": 39,
   "source": [
    "data_rm = pg.read_dataset('rm_anova')\r\n",
    "data_rm.head()"
   ],
   "outputs": [
    {
     "output_type": "execute_result",
     "data": {
      "text/plain": [
       "   Subject  Gender Region Education  DesireToKill Disgustingness  \\\n",
       "0        1  Female  North      some          10.0           High   \n",
       "1        1  Female  North      some           9.0           High   \n",
       "2        1  Female  North      some           6.0            Low   \n",
       "3        1  Female  North      some           6.0            Low   \n",
       "4        2  Female  North   advance          10.0           High   \n",
       "\n",
       "  Frighteningness  \n",
       "0            High  \n",
       "1             Low  \n",
       "2            High  \n",
       "3             Low  \n",
       "4            High  "
      ],
      "text/html": [
       "<div>\n",
       "<style scoped>\n",
       "    .dataframe tbody tr th:only-of-type {\n",
       "        vertical-align: middle;\n",
       "    }\n",
       "\n",
       "    .dataframe tbody tr th {\n",
       "        vertical-align: top;\n",
       "    }\n",
       "\n",
       "    .dataframe thead th {\n",
       "        text-align: right;\n",
       "    }\n",
       "</style>\n",
       "<table border=\"1\" class=\"dataframe\">\n",
       "  <thead>\n",
       "    <tr style=\"text-align: right;\">\n",
       "      <th></th>\n",
       "      <th>Subject</th>\n",
       "      <th>Gender</th>\n",
       "      <th>Region</th>\n",
       "      <th>Education</th>\n",
       "      <th>DesireToKill</th>\n",
       "      <th>Disgustingness</th>\n",
       "      <th>Frighteningness</th>\n",
       "    </tr>\n",
       "  </thead>\n",
       "  <tbody>\n",
       "    <tr>\n",
       "      <th>0</th>\n",
       "      <td>1</td>\n",
       "      <td>Female</td>\n",
       "      <td>North</td>\n",
       "      <td>some</td>\n",
       "      <td>10.0</td>\n",
       "      <td>High</td>\n",
       "      <td>High</td>\n",
       "    </tr>\n",
       "    <tr>\n",
       "      <th>1</th>\n",
       "      <td>1</td>\n",
       "      <td>Female</td>\n",
       "      <td>North</td>\n",
       "      <td>some</td>\n",
       "      <td>9.0</td>\n",
       "      <td>High</td>\n",
       "      <td>Low</td>\n",
       "    </tr>\n",
       "    <tr>\n",
       "      <th>2</th>\n",
       "      <td>1</td>\n",
       "      <td>Female</td>\n",
       "      <td>North</td>\n",
       "      <td>some</td>\n",
       "      <td>6.0</td>\n",
       "      <td>Low</td>\n",
       "      <td>High</td>\n",
       "    </tr>\n",
       "    <tr>\n",
       "      <th>3</th>\n",
       "      <td>1</td>\n",
       "      <td>Female</td>\n",
       "      <td>North</td>\n",
       "      <td>some</td>\n",
       "      <td>6.0</td>\n",
       "      <td>Low</td>\n",
       "      <td>Low</td>\n",
       "    </tr>\n",
       "    <tr>\n",
       "      <th>4</th>\n",
       "      <td>2</td>\n",
       "      <td>Female</td>\n",
       "      <td>North</td>\n",
       "      <td>advance</td>\n",
       "      <td>10.0</td>\n",
       "      <td>High</td>\n",
       "      <td>High</td>\n",
       "    </tr>\n",
       "  </tbody>\n",
       "</table>\n",
       "</div>"
      ]
     },
     "metadata": {},
     "execution_count": 39
    }
   ],
   "metadata": {}
  },
  {
   "cell_type": "code",
   "execution_count": 48,
   "source": [
    "pg.rm_anova(\r\n",
    "    dv='DesireToKill',\r\n",
    "    within='Disgustingness',\r\n",
    "    subject='Subject',\r\n",
    "    data=data_rm,\r\n",
    "    detailed=False,\r\n",
    "    effsize=\"ng2\"\r\n",
    ")"
   ],
   "outputs": [
    {
     "output_type": "execute_result",
     "data": {
      "text/plain": [
       "           Source  ddof1  ddof2          F     p-unc       ng2  eps\n",
       "0  Disgustingness      1     92  12.043878  0.000793  0.025784  1.0"
      ],
      "text/html": [
       "<div>\n",
       "<style scoped>\n",
       "    .dataframe tbody tr th:only-of-type {\n",
       "        vertical-align: middle;\n",
       "    }\n",
       "\n",
       "    .dataframe tbody tr th {\n",
       "        vertical-align: top;\n",
       "    }\n",
       "\n",
       "    .dataframe thead th {\n",
       "        text-align: right;\n",
       "    }\n",
       "</style>\n",
       "<table border=\"1\" class=\"dataframe\">\n",
       "  <thead>\n",
       "    <tr style=\"text-align: right;\">\n",
       "      <th></th>\n",
       "      <th>Source</th>\n",
       "      <th>ddof1</th>\n",
       "      <th>ddof2</th>\n",
       "      <th>F</th>\n",
       "      <th>p-unc</th>\n",
       "      <th>ng2</th>\n",
       "      <th>eps</th>\n",
       "    </tr>\n",
       "  </thead>\n",
       "  <tbody>\n",
       "    <tr>\n",
       "      <th>0</th>\n",
       "      <td>Disgustingness</td>\n",
       "      <td>1</td>\n",
       "      <td>92</td>\n",
       "      <td>12.043878</td>\n",
       "      <td>0.000793</td>\n",
       "      <td>0.025784</td>\n",
       "      <td>1.0</td>\n",
       "    </tr>\n",
       "  </tbody>\n",
       "</table>\n",
       "</div>"
      ]
     },
     "metadata": {},
     "execution_count": 48
    }
   ],
   "metadata": {}
  },
  {
   "cell_type": "markdown",
   "source": [
    "### Repeated measures two-way ANOVA\r\n",
    "\r\n",
    "In two-way repeated measures ANOVA, there are two within-subjects factors (treatments or time) to study. In the example below:\r\n",
    "\r\n",
    "- the same animals were first given inactive treatment and the response measured; then they were given the active treatment and the response measured again\r\n",
    "- the same animals are first measured for a response after a short duration and then later after a long duration\r\n",
    "- each animal was first given the inactive treatment and measured for a short and then a long duration; then the same animal was given the active treatment and measured for a short and then a long duration. This is a **repeated measures in both factors** design."
   ],
   "metadata": {}
  },
  {
   "cell_type": "code",
   "execution_count": 57,
   "source": [
    "# we use another dataset to illustrate the concept\r\n",
    "data_rm2 = pd.read_csv(\"https://reneshbedre.github.io/assets/posts/anova/plants_leaves_two_within.csv\")\r\n",
    "pg.print_table(data_rm2.head())\r\n",
    "\r\n",
    "sns.boxplot(\r\n",
    "    x='time',\r\n",
    "    y='num_leaves',\r\n",
    "    data=data_rm2,\r\n",
    "    hue='year',\r\n",
    "    palette='Set2',\r\n",
    ");"
   ],
   "outputs": [
    {
     "output_type": "stream",
     "name": "stdout",
     "text": [
      "plants    nutrient_level    year    time      num_leaves\n",
      "--------  ----------------  ------  ------  ------------\n",
      "P1        Low               Year1   Week1              4\n",
      "P2        Low               Year1   Week1              3\n",
      "P3        Low               Year1   Week1              6\n",
      "P4        Low               Year1   Week1              5\n",
      "P5        Low               Year1   Week1              5\n",
      "\n"
     ]
    },
    {
     "output_type": "display_data",
     "data": {
      "text/plain": [
       "<Figure size 432x288 with 1 Axes>"
      ],
      "image/svg+xml": "<?xml version=\"1.0\" encoding=\"utf-8\" standalone=\"no\"?>\r\n<!DOCTYPE svg PUBLIC \"-//W3C//DTD SVG 1.1//EN\"\r\n  \"http://www.w3.org/Graphics/SVG/1.1/DTD/svg11.dtd\">\r\n<svg height=\"262.19625pt\" version=\"1.1\" viewBox=\"0 0 382.88125 262.19625\" width=\"382.88125pt\" xmlns=\"http://www.w3.org/2000/svg\" xmlns:xlink=\"http://www.w3.org/1999/xlink\">\r\n <metadata>\r\n  <rdf:RDF xmlns:cc=\"http://creativecommons.org/ns#\" xmlns:dc=\"http://purl.org/dc/elements/1.1/\" xmlns:rdf=\"http://www.w3.org/1999/02/22-rdf-syntax-ns#\">\r\n   <cc:Work>\r\n    <dc:type rdf:resource=\"http://purl.org/dc/dcmitype/StillImage\"/>\r\n    <dc:date>2021-08-26T18:25:42.336717</dc:date>\r\n    <dc:format>image/svg+xml</dc:format>\r\n    <dc:creator>\r\n     <cc:Agent>\r\n      <dc:title>Matplotlib v3.4.3, https://matplotlib.org/</dc:title>\r\n     </cc:Agent>\r\n    </dc:creator>\r\n   </cc:Work>\r\n  </rdf:RDF>\r\n </metadata>\r\n <defs>\r\n  <style type=\"text/css\">*{stroke-linecap:butt;stroke-linejoin:round;}</style>\r\n </defs>\r\n <g id=\"figure_1\">\r\n  <g id=\"patch_1\">\r\n   <path d=\"M 0 262.19625 \r\nL 382.88125 262.19625 \r\nL 382.88125 0 \r\nL 0 0 \r\nz\r\n\" style=\"fill:none;\"/>\r\n  </g>\r\n  <g id=\"axes_1\">\r\n   <g id=\"patch_2\">\r\n    <path d=\"M 40.88125 224.64 \r\nL 375.68125 224.64 \r\nL 375.68125 7.2 \r\nL 40.88125 7.2 \r\nz\r\n\" style=\"fill:#ffffff;\"/>\r\n   </g>\r\n   <g id=\"patch_3\">\r\n    <path clip-path=\"url(#p7b10779755)\" d=\"M 47.84509 192.792727 \r\nL 74.09341 192.792727 \r\nL 74.09341 170.829091 \r\nL 47.84509 170.829091 \r\nL 47.84509 192.792727 \r\nz\r\n\" style=\"fill:#72b6a1;stroke:#595959;stroke-linejoin:miter;stroke-width:1.5;\"/>\r\n   </g>\r\n   <g id=\"patch_4\">\r\n    <path clip-path=\"url(#p7b10779755)\" d=\"M 74.62909 214.756364 \r\nL 100.87741 214.756364 \r\nL 100.87741 192.792727 \r\nL 74.62909 192.792727 \r\nL 74.62909 214.756364 \r\nz\r\n\" style=\"fill:#e99675;stroke:#595959;stroke-linejoin:miter;stroke-width:1.5;\"/>\r\n   </g>\r\n   <g id=\"patch_5\">\r\n    <path clip-path=\"url(#p7b10779755)\" d=\"M 114.80509 170.829091 \r\nL 141.05341 170.829091 \r\nL 141.05341 126.901818 \r\nL 114.80509 126.901818 \r\nL 114.80509 170.829091 \r\nz\r\n\" style=\"fill:#72b6a1;stroke:#595959;stroke-linejoin:miter;stroke-width:1.5;\"/>\r\n   </g>\r\n   <g id=\"patch_6\">\r\n    <path clip-path=\"url(#p7b10779755)\" d=\"M 141.58909 192.792727 \r\nL 167.83741 192.792727 \r\nL 167.83741 192.792727 \r\nL 141.58909 192.792727 \r\nL 141.58909 192.792727 \r\nz\r\n\" style=\"fill:#e99675;stroke:#595959;stroke-linejoin:miter;stroke-width:1.5;\"/>\r\n   </g>\r\n   <g id=\"patch_7\">\r\n    <path clip-path=\"url(#p7b10779755)\" d=\"M 181.76509 148.865455 \r\nL 208.01341 148.865455 \r\nL 208.01341 104.938182 \r\nL 181.76509 104.938182 \r\nL 181.76509 148.865455 \r\nz\r\n\" style=\"fill:#72b6a1;stroke:#595959;stroke-linejoin:miter;stroke-width:1.5;\"/>\r\n   </g>\r\n   <g id=\"patch_8\">\r\n    <path clip-path=\"url(#p7b10779755)\" d=\"M 208.54909 148.865455 \r\nL 234.79741 148.865455 \r\nL 234.79741 148.865455 \r\nL 208.54909 148.865455 \r\nL 208.54909 148.865455 \r\nz\r\n\" style=\"fill:#e99675;stroke:#595959;stroke-linejoin:miter;stroke-width:1.5;\"/>\r\n   </g>\r\n   <g id=\"patch_9\">\r\n    <path clip-path=\"url(#p7b10779755)\" d=\"M 248.72509 104.938182 \r\nL 274.97341 104.938182 \r\nL 274.97341 61.010909 \r\nL 248.72509 61.010909 \r\nL 248.72509 104.938182 \r\nz\r\n\" style=\"fill:#72b6a1;stroke:#595959;stroke-linejoin:miter;stroke-width:1.5;\"/>\r\n   </g>\r\n   <g id=\"patch_10\">\r\n    <path clip-path=\"url(#p7b10779755)\" d=\"M 275.50909 126.901818 \r\nL 301.75741 126.901818 \r\nL 301.75741 104.938182 \r\nL 275.50909 104.938182 \r\nL 275.50909 126.901818 \r\nz\r\n\" style=\"fill:#e99675;stroke:#595959;stroke-linejoin:miter;stroke-width:1.5;\"/>\r\n   </g>\r\n   <g id=\"patch_11\">\r\n    <path clip-path=\"url(#p7b10779755)\" d=\"M 315.68509 61.010909 \r\nL 341.93341 61.010909 \r\nL 341.93341 17.083636 \r\nL 315.68509 17.083636 \r\nL 315.68509 61.010909 \r\nz\r\n\" style=\"fill:#72b6a1;stroke:#595959;stroke-linejoin:miter;stroke-width:1.5;\"/>\r\n   </g>\r\n   <g id=\"patch_12\">\r\n    <path clip-path=\"url(#p7b10779755)\" d=\"M 342.46909 82.974545 \r\nL 368.71741 82.974545 \r\nL 368.71741 61.010909 \r\nL 342.46909 61.010909 \r\nL 342.46909 82.974545 \r\nz\r\n\" style=\"fill:#e99675;stroke:#595959;stroke-linejoin:miter;stroke-width:1.5;\"/>\r\n   </g>\r\n   <g id=\"patch_13\">\r\n    <path clip-path=\"url(#p7b10779755)\" d=\"M 74.36125 280.647273 \r\nL 74.36125 280.647273 \r\nL 74.36125 280.647273 \r\nL 74.36125 280.647273 \r\nz\r\n\" style=\"fill:#72b6a1;stroke:#595959;stroke-linejoin:miter;stroke-width:0.75;\"/>\r\n   </g>\r\n   <g id=\"patch_14\">\r\n    <path clip-path=\"url(#p7b10779755)\" d=\"M 74.36125 280.647273 \r\nL 74.36125 280.647273 \r\nL 74.36125 280.647273 \r\nL 74.36125 280.647273 \r\nz\r\n\" style=\"fill:#e99675;stroke:#595959;stroke-linejoin:miter;stroke-width:0.75;\"/>\r\n   </g>\r\n   <g id=\"matplotlib.axis_1\">\r\n    <g id=\"xtick_1\">\r\n     <g id=\"line2d_1\">\r\n      <defs>\r\n       <path d=\"M 0 0 \r\nL 0 3.5 \r\n\" id=\"m218e2ec328\" style=\"stroke:#000000;stroke-width:0.8;\"/>\r\n      </defs>\r\n      <g>\r\n       <use style=\"stroke:#000000;stroke-width:0.8;\" x=\"74.36125\" xlink:href=\"#m218e2ec328\" y=\"224.64\"/>\r\n      </g>\r\n     </g>\r\n     <g id=\"text_1\">\r\n      <!-- Week1 -->\r\n      <g transform=\"translate(57.481563 239.238437)scale(0.1 -0.1)\">\r\n       <defs>\r\n        <path d=\"M 213 4666 \r\nL 850 4666 \r\nL 1831 722 \r\nL 2809 4666 \r\nL 3519 4666 \r\nL 4500 722 \r\nL 5478 4666 \r\nL 6119 4666 \r\nL 4947 0 \r\nL 4153 0 \r\nL 3169 4050 \r\nL 2175 0 \r\nL 1381 0 \r\nL 213 4666 \r\nz\r\n\" id=\"DejaVuSans-57\" transform=\"scale(0.015625)\"/>\r\n        <path d=\"M 3597 1894 \r\nL 3597 1613 \r\nL 953 1613 \r\nQ 991 1019 1311 708 \r\nQ 1631 397 2203 397 \r\nQ 2534 397 2845 478 \r\nQ 3156 559 3463 722 \r\nL 3463 178 \r\nQ 3153 47 2828 -22 \r\nQ 2503 -91 2169 -91 \r\nQ 1331 -91 842 396 \r\nQ 353 884 353 1716 \r\nQ 353 2575 817 3079 \r\nQ 1281 3584 2069 3584 \r\nQ 2775 3584 3186 3129 \r\nQ 3597 2675 3597 1894 \r\nz\r\nM 3022 2063 \r\nQ 3016 2534 2758 2815 \r\nQ 2500 3097 2075 3097 \r\nQ 1594 3097 1305 2825 \r\nQ 1016 2553 972 2059 \r\nL 3022 2063 \r\nz\r\n\" id=\"DejaVuSans-65\" transform=\"scale(0.015625)\"/>\r\n        <path d=\"M 581 4863 \r\nL 1159 4863 \r\nL 1159 1991 \r\nL 2875 3500 \r\nL 3609 3500 \r\nL 1753 1863 \r\nL 3688 0 \r\nL 2938 0 \r\nL 1159 1709 \r\nL 1159 0 \r\nL 581 0 \r\nL 581 4863 \r\nz\r\n\" id=\"DejaVuSans-6b\" transform=\"scale(0.015625)\"/>\r\n        <path d=\"M 794 531 \r\nL 1825 531 \r\nL 1825 4091 \r\nL 703 3866 \r\nL 703 4441 \r\nL 1819 4666 \r\nL 2450 4666 \r\nL 2450 531 \r\nL 3481 531 \r\nL 3481 0 \r\nL 794 0 \r\nL 794 531 \r\nz\r\n\" id=\"DejaVuSans-31\" transform=\"scale(0.015625)\"/>\r\n       </defs>\r\n       <use xlink:href=\"#DejaVuSans-57\"/>\r\n       <use x=\"93.001953\" xlink:href=\"#DejaVuSans-65\"/>\r\n       <use x=\"154.525391\" xlink:href=\"#DejaVuSans-65\"/>\r\n       <use x=\"216.048828\" xlink:href=\"#DejaVuSans-6b\"/>\r\n       <use x=\"273.958984\" xlink:href=\"#DejaVuSans-31\"/>\r\n      </g>\r\n     </g>\r\n    </g>\r\n    <g id=\"xtick_2\">\r\n     <g id=\"line2d_2\">\r\n      <g>\r\n       <use style=\"stroke:#000000;stroke-width:0.8;\" x=\"141.32125\" xlink:href=\"#m218e2ec328\" y=\"224.64\"/>\r\n      </g>\r\n     </g>\r\n     <g id=\"text_2\">\r\n      <!-- Week2 -->\r\n      <g transform=\"translate(124.441563 239.238437)scale(0.1 -0.1)\">\r\n       <defs>\r\n        <path d=\"M 1228 531 \r\nL 3431 531 \r\nL 3431 0 \r\nL 469 0 \r\nL 469 531 \r\nQ 828 903 1448 1529 \r\nQ 2069 2156 2228 2338 \r\nQ 2531 2678 2651 2914 \r\nQ 2772 3150 2772 3378 \r\nQ 2772 3750 2511 3984 \r\nQ 2250 4219 1831 4219 \r\nQ 1534 4219 1204 4116 \r\nQ 875 4013 500 3803 \r\nL 500 4441 \r\nQ 881 4594 1212 4672 \r\nQ 1544 4750 1819 4750 \r\nQ 2544 4750 2975 4387 \r\nQ 3406 4025 3406 3419 \r\nQ 3406 3131 3298 2873 \r\nQ 3191 2616 2906 2266 \r\nQ 2828 2175 2409 1742 \r\nQ 1991 1309 1228 531 \r\nz\r\n\" id=\"DejaVuSans-32\" transform=\"scale(0.015625)\"/>\r\n       </defs>\r\n       <use xlink:href=\"#DejaVuSans-57\"/>\r\n       <use x=\"93.001953\" xlink:href=\"#DejaVuSans-65\"/>\r\n       <use x=\"154.525391\" xlink:href=\"#DejaVuSans-65\"/>\r\n       <use x=\"216.048828\" xlink:href=\"#DejaVuSans-6b\"/>\r\n       <use x=\"273.958984\" xlink:href=\"#DejaVuSans-32\"/>\r\n      </g>\r\n     </g>\r\n    </g>\r\n    <g id=\"xtick_3\">\r\n     <g id=\"line2d_3\">\r\n      <g>\r\n       <use style=\"stroke:#000000;stroke-width:0.8;\" x=\"208.28125\" xlink:href=\"#m218e2ec328\" y=\"224.64\"/>\r\n      </g>\r\n     </g>\r\n     <g id=\"text_3\">\r\n      <!-- Week3 -->\r\n      <g transform=\"translate(191.401563 239.238437)scale(0.1 -0.1)\">\r\n       <defs>\r\n        <path d=\"M 2597 2516 \r\nQ 3050 2419 3304 2112 \r\nQ 3559 1806 3559 1356 \r\nQ 3559 666 3084 287 \r\nQ 2609 -91 1734 -91 \r\nQ 1441 -91 1130 -33 \r\nQ 819 25 488 141 \r\nL 488 750 \r\nQ 750 597 1062 519 \r\nQ 1375 441 1716 441 \r\nQ 2309 441 2620 675 \r\nQ 2931 909 2931 1356 \r\nQ 2931 1769 2642 2001 \r\nQ 2353 2234 1838 2234 \r\nL 1294 2234 \r\nL 1294 2753 \r\nL 1863 2753 \r\nQ 2328 2753 2575 2939 \r\nQ 2822 3125 2822 3475 \r\nQ 2822 3834 2567 4026 \r\nQ 2313 4219 1838 4219 \r\nQ 1578 4219 1281 4162 \r\nQ 984 4106 628 3988 \r\nL 628 4550 \r\nQ 988 4650 1302 4700 \r\nQ 1616 4750 1894 4750 \r\nQ 2613 4750 3031 4423 \r\nQ 3450 4097 3450 3541 \r\nQ 3450 3153 3228 2886 \r\nQ 3006 2619 2597 2516 \r\nz\r\n\" id=\"DejaVuSans-33\" transform=\"scale(0.015625)\"/>\r\n       </defs>\r\n       <use xlink:href=\"#DejaVuSans-57\"/>\r\n       <use x=\"93.001953\" xlink:href=\"#DejaVuSans-65\"/>\r\n       <use x=\"154.525391\" xlink:href=\"#DejaVuSans-65\"/>\r\n       <use x=\"216.048828\" xlink:href=\"#DejaVuSans-6b\"/>\r\n       <use x=\"273.958984\" xlink:href=\"#DejaVuSans-33\"/>\r\n      </g>\r\n     </g>\r\n    </g>\r\n    <g id=\"xtick_4\">\r\n     <g id=\"line2d_4\">\r\n      <g>\r\n       <use style=\"stroke:#000000;stroke-width:0.8;\" x=\"275.24125\" xlink:href=\"#m218e2ec328\" y=\"224.64\"/>\r\n      </g>\r\n     </g>\r\n     <g id=\"text_4\">\r\n      <!-- Week4 -->\r\n      <g transform=\"translate(258.361563 239.238437)scale(0.1 -0.1)\">\r\n       <defs>\r\n        <path d=\"M 2419 4116 \r\nL 825 1625 \r\nL 2419 1625 \r\nL 2419 4116 \r\nz\r\nM 2253 4666 \r\nL 3047 4666 \r\nL 3047 1625 \r\nL 3713 1625 \r\nL 3713 1100 \r\nL 3047 1100 \r\nL 3047 0 \r\nL 2419 0 \r\nL 2419 1100 \r\nL 313 1100 \r\nL 313 1709 \r\nL 2253 4666 \r\nz\r\n\" id=\"DejaVuSans-34\" transform=\"scale(0.015625)\"/>\r\n       </defs>\r\n       <use xlink:href=\"#DejaVuSans-57\"/>\r\n       <use x=\"93.001953\" xlink:href=\"#DejaVuSans-65\"/>\r\n       <use x=\"154.525391\" xlink:href=\"#DejaVuSans-65\"/>\r\n       <use x=\"216.048828\" xlink:href=\"#DejaVuSans-6b\"/>\r\n       <use x=\"273.958984\" xlink:href=\"#DejaVuSans-34\"/>\r\n      </g>\r\n     </g>\r\n    </g>\r\n    <g id=\"xtick_5\">\r\n     <g id=\"line2d_5\">\r\n      <g>\r\n       <use style=\"stroke:#000000;stroke-width:0.8;\" x=\"342.20125\" xlink:href=\"#m218e2ec328\" y=\"224.64\"/>\r\n      </g>\r\n     </g>\r\n     <g id=\"text_5\">\r\n      <!-- Week5 -->\r\n      <g transform=\"translate(325.321563 239.238437)scale(0.1 -0.1)\">\r\n       <defs>\r\n        <path d=\"M 691 4666 \r\nL 3169 4666 \r\nL 3169 4134 \r\nL 1269 4134 \r\nL 1269 2991 \r\nQ 1406 3038 1543 3061 \r\nQ 1681 3084 1819 3084 \r\nQ 2600 3084 3056 2656 \r\nQ 3513 2228 3513 1497 \r\nQ 3513 744 3044 326 \r\nQ 2575 -91 1722 -91 \r\nQ 1428 -91 1123 -41 \r\nQ 819 9 494 109 \r\nL 494 744 \r\nQ 775 591 1075 516 \r\nQ 1375 441 1709 441 \r\nQ 2250 441 2565 725 \r\nQ 2881 1009 2881 1497 \r\nQ 2881 1984 2565 2268 \r\nQ 2250 2553 1709 2553 \r\nQ 1456 2553 1204 2497 \r\nQ 953 2441 691 2322 \r\nL 691 4666 \r\nz\r\n\" id=\"DejaVuSans-35\" transform=\"scale(0.015625)\"/>\r\n       </defs>\r\n       <use xlink:href=\"#DejaVuSans-57\"/>\r\n       <use x=\"93.001953\" xlink:href=\"#DejaVuSans-65\"/>\r\n       <use x=\"154.525391\" xlink:href=\"#DejaVuSans-65\"/>\r\n       <use x=\"216.048828\" xlink:href=\"#DejaVuSans-6b\"/>\r\n       <use x=\"273.958984\" xlink:href=\"#DejaVuSans-35\"/>\r\n      </g>\r\n     </g>\r\n    </g>\r\n    <g id=\"text_6\">\r\n     <!-- time -->\r\n     <g transform=\"translate(196.985156 252.916562)scale(0.1 -0.1)\">\r\n      <defs>\r\n       <path d=\"M 1172 4494 \r\nL 1172 3500 \r\nL 2356 3500 \r\nL 2356 3053 \r\nL 1172 3053 \r\nL 1172 1153 \r\nQ 1172 725 1289 603 \r\nQ 1406 481 1766 481 \r\nL 2356 481 \r\nL 2356 0 \r\nL 1766 0 \r\nQ 1100 0 847 248 \r\nQ 594 497 594 1153 \r\nL 594 3053 \r\nL 172 3053 \r\nL 172 3500 \r\nL 594 3500 \r\nL 594 4494 \r\nL 1172 4494 \r\nz\r\n\" id=\"DejaVuSans-74\" transform=\"scale(0.015625)\"/>\r\n       <path d=\"M 603 3500 \r\nL 1178 3500 \r\nL 1178 0 \r\nL 603 0 \r\nL 603 3500 \r\nz\r\nM 603 4863 \r\nL 1178 4863 \r\nL 1178 4134 \r\nL 603 4134 \r\nL 603 4863 \r\nz\r\n\" id=\"DejaVuSans-69\" transform=\"scale(0.015625)\"/>\r\n       <path d=\"M 3328 2828 \r\nQ 3544 3216 3844 3400 \r\nQ 4144 3584 4550 3584 \r\nQ 5097 3584 5394 3201 \r\nQ 5691 2819 5691 2113 \r\nL 5691 0 \r\nL 5113 0 \r\nL 5113 2094 \r\nQ 5113 2597 4934 2840 \r\nQ 4756 3084 4391 3084 \r\nQ 3944 3084 3684 2787 \r\nQ 3425 2491 3425 1978 \r\nL 3425 0 \r\nL 2847 0 \r\nL 2847 2094 \r\nQ 2847 2600 2669 2842 \r\nQ 2491 3084 2119 3084 \r\nQ 1678 3084 1418 2786 \r\nQ 1159 2488 1159 1978 \r\nL 1159 0 \r\nL 581 0 \r\nL 581 3500 \r\nL 1159 3500 \r\nL 1159 2956 \r\nQ 1356 3278 1631 3431 \r\nQ 1906 3584 2284 3584 \r\nQ 2666 3584 2933 3390 \r\nQ 3200 3197 3328 2828 \r\nz\r\n\" id=\"DejaVuSans-6d\" transform=\"scale(0.015625)\"/>\r\n      </defs>\r\n      <use xlink:href=\"#DejaVuSans-74\"/>\r\n      <use x=\"39.208984\" xlink:href=\"#DejaVuSans-69\"/>\r\n      <use x=\"66.992188\" xlink:href=\"#DejaVuSans-6d\"/>\r\n      <use x=\"164.404297\" xlink:href=\"#DejaVuSans-65\"/>\r\n     </g>\r\n    </g>\r\n   </g>\r\n   <g id=\"matplotlib.axis_2\">\r\n    <g id=\"ytick_1\">\r\n     <g id=\"line2d_6\">\r\n      <defs>\r\n       <path d=\"M 0 0 \r\nL -3.5 0 \r\n\" id=\"mac8594bfe0\" style=\"stroke:#000000;stroke-width:0.8;\"/>\r\n      </defs>\r\n      <g>\r\n       <use style=\"stroke:#000000;stroke-width:0.8;\" x=\"40.88125\" xlink:href=\"#mac8594bfe0\" y=\"192.792727\"/>\r\n      </g>\r\n     </g>\r\n     <g id=\"text_7\">\r\n      <!-- 4 -->\r\n      <g transform=\"translate(27.51875 196.591946)scale(0.1 -0.1)\">\r\n       <use xlink:href=\"#DejaVuSans-34\"/>\r\n      </g>\r\n     </g>\r\n    </g>\r\n    <g id=\"ytick_2\">\r\n     <g id=\"line2d_7\">\r\n      <g>\r\n       <use style=\"stroke:#000000;stroke-width:0.8;\" x=\"40.88125\" xlink:href=\"#mac8594bfe0\" y=\"148.865455\"/>\r\n      </g>\r\n     </g>\r\n     <g id=\"text_8\">\r\n      <!-- 6 -->\r\n      <g transform=\"translate(27.51875 152.664673)scale(0.1 -0.1)\">\r\n       <defs>\r\n        <path d=\"M 2113 2584 \r\nQ 1688 2584 1439 2293 \r\nQ 1191 2003 1191 1497 \r\nQ 1191 994 1439 701 \r\nQ 1688 409 2113 409 \r\nQ 2538 409 2786 701 \r\nQ 3034 994 3034 1497 \r\nQ 3034 2003 2786 2293 \r\nQ 2538 2584 2113 2584 \r\nz\r\nM 3366 4563 \r\nL 3366 3988 \r\nQ 3128 4100 2886 4159 \r\nQ 2644 4219 2406 4219 \r\nQ 1781 4219 1451 3797 \r\nQ 1122 3375 1075 2522 \r\nQ 1259 2794 1537 2939 \r\nQ 1816 3084 2150 3084 \r\nQ 2853 3084 3261 2657 \r\nQ 3669 2231 3669 1497 \r\nQ 3669 778 3244 343 \r\nQ 2819 -91 2113 -91 \r\nQ 1303 -91 875 529 \r\nQ 447 1150 447 2328 \r\nQ 447 3434 972 4092 \r\nQ 1497 4750 2381 4750 \r\nQ 2619 4750 2861 4703 \r\nQ 3103 4656 3366 4563 \r\nz\r\n\" id=\"DejaVuSans-36\" transform=\"scale(0.015625)\"/>\r\n       </defs>\r\n       <use xlink:href=\"#DejaVuSans-36\"/>\r\n      </g>\r\n     </g>\r\n    </g>\r\n    <g id=\"ytick_3\">\r\n     <g id=\"line2d_8\">\r\n      <g>\r\n       <use style=\"stroke:#000000;stroke-width:0.8;\" x=\"40.88125\" xlink:href=\"#mac8594bfe0\" y=\"104.938182\"/>\r\n      </g>\r\n     </g>\r\n     <g id=\"text_9\">\r\n      <!-- 8 -->\r\n      <g transform=\"translate(27.51875 108.737401)scale(0.1 -0.1)\">\r\n       <defs>\r\n        <path d=\"M 2034 2216 \r\nQ 1584 2216 1326 1975 \r\nQ 1069 1734 1069 1313 \r\nQ 1069 891 1326 650 \r\nQ 1584 409 2034 409 \r\nQ 2484 409 2743 651 \r\nQ 3003 894 3003 1313 \r\nQ 3003 1734 2745 1975 \r\nQ 2488 2216 2034 2216 \r\nz\r\nM 1403 2484 \r\nQ 997 2584 770 2862 \r\nQ 544 3141 544 3541 \r\nQ 544 4100 942 4425 \r\nQ 1341 4750 2034 4750 \r\nQ 2731 4750 3128 4425 \r\nQ 3525 4100 3525 3541 \r\nQ 3525 3141 3298 2862 \r\nQ 3072 2584 2669 2484 \r\nQ 3125 2378 3379 2068 \r\nQ 3634 1759 3634 1313 \r\nQ 3634 634 3220 271 \r\nQ 2806 -91 2034 -91 \r\nQ 1263 -91 848 271 \r\nQ 434 634 434 1313 \r\nQ 434 1759 690 2068 \r\nQ 947 2378 1403 2484 \r\nz\r\nM 1172 3481 \r\nQ 1172 3119 1398 2916 \r\nQ 1625 2713 2034 2713 \r\nQ 2441 2713 2670 2916 \r\nQ 2900 3119 2900 3481 \r\nQ 2900 3844 2670 4047 \r\nQ 2441 4250 2034 4250 \r\nQ 1625 4250 1398 4047 \r\nQ 1172 3844 1172 3481 \r\nz\r\n\" id=\"DejaVuSans-38\" transform=\"scale(0.015625)\"/>\r\n       </defs>\r\n       <use xlink:href=\"#DejaVuSans-38\"/>\r\n      </g>\r\n     </g>\r\n    </g>\r\n    <g id=\"ytick_4\">\r\n     <g id=\"line2d_9\">\r\n      <g>\r\n       <use style=\"stroke:#000000;stroke-width:0.8;\" x=\"40.88125\" xlink:href=\"#mac8594bfe0\" y=\"61.010909\"/>\r\n      </g>\r\n     </g>\r\n     <g id=\"text_10\">\r\n      <!-- 10 -->\r\n      <g transform=\"translate(21.15625 64.810128)scale(0.1 -0.1)\">\r\n       <defs>\r\n        <path d=\"M 2034 4250 \r\nQ 1547 4250 1301 3770 \r\nQ 1056 3291 1056 2328 \r\nQ 1056 1369 1301 889 \r\nQ 1547 409 2034 409 \r\nQ 2525 409 2770 889 \r\nQ 3016 1369 3016 2328 \r\nQ 3016 3291 2770 3770 \r\nQ 2525 4250 2034 4250 \r\nz\r\nM 2034 4750 \r\nQ 2819 4750 3233 4129 \r\nQ 3647 3509 3647 2328 \r\nQ 3647 1150 3233 529 \r\nQ 2819 -91 2034 -91 \r\nQ 1250 -91 836 529 \r\nQ 422 1150 422 2328 \r\nQ 422 3509 836 4129 \r\nQ 1250 4750 2034 4750 \r\nz\r\n\" id=\"DejaVuSans-30\" transform=\"scale(0.015625)\"/>\r\n       </defs>\r\n       <use xlink:href=\"#DejaVuSans-31\"/>\r\n       <use x=\"63.623047\" xlink:href=\"#DejaVuSans-30\"/>\r\n      </g>\r\n     </g>\r\n    </g>\r\n    <g id=\"ytick_5\">\r\n     <g id=\"line2d_10\">\r\n      <g>\r\n       <use style=\"stroke:#000000;stroke-width:0.8;\" x=\"40.88125\" xlink:href=\"#mac8594bfe0\" y=\"17.083636\"/>\r\n      </g>\r\n     </g>\r\n     <g id=\"text_11\">\r\n      <!-- 12 -->\r\n      <g transform=\"translate(21.15625 20.882855)scale(0.1 -0.1)\">\r\n       <use xlink:href=\"#DejaVuSans-31\"/>\r\n       <use x=\"63.623047\" xlink:href=\"#DejaVuSans-32\"/>\r\n      </g>\r\n     </g>\r\n    </g>\r\n    <g id=\"text_12\">\r\n     <!-- num_leaves -->\r\n     <g transform=\"translate(14.798438 145.798125)rotate(-90)scale(0.1 -0.1)\">\r\n      <defs>\r\n       <path d=\"M 3513 2113 \r\nL 3513 0 \r\nL 2938 0 \r\nL 2938 2094 \r\nQ 2938 2591 2744 2837 \r\nQ 2550 3084 2163 3084 \r\nQ 1697 3084 1428 2787 \r\nQ 1159 2491 1159 1978 \r\nL 1159 0 \r\nL 581 0 \r\nL 581 3500 \r\nL 1159 3500 \r\nL 1159 2956 \r\nQ 1366 3272 1645 3428 \r\nQ 1925 3584 2291 3584 \r\nQ 2894 3584 3203 3211 \r\nQ 3513 2838 3513 2113 \r\nz\r\n\" id=\"DejaVuSans-6e\" transform=\"scale(0.015625)\"/>\r\n       <path d=\"M 544 1381 \r\nL 544 3500 \r\nL 1119 3500 \r\nL 1119 1403 \r\nQ 1119 906 1312 657 \r\nQ 1506 409 1894 409 \r\nQ 2359 409 2629 706 \r\nQ 2900 1003 2900 1516 \r\nL 2900 3500 \r\nL 3475 3500 \r\nL 3475 0 \r\nL 2900 0 \r\nL 2900 538 \r\nQ 2691 219 2414 64 \r\nQ 2138 -91 1772 -91 \r\nQ 1169 -91 856 284 \r\nQ 544 659 544 1381 \r\nz\r\nM 1991 3584 \r\nL 1991 3584 \r\nz\r\n\" id=\"DejaVuSans-75\" transform=\"scale(0.015625)\"/>\r\n       <path d=\"M 3263 -1063 \r\nL 3263 -1509 \r\nL -63 -1509 \r\nL -63 -1063 \r\nL 3263 -1063 \r\nz\r\n\" id=\"DejaVuSans-5f\" transform=\"scale(0.015625)\"/>\r\n       <path d=\"M 603 4863 \r\nL 1178 4863 \r\nL 1178 0 \r\nL 603 0 \r\nL 603 4863 \r\nz\r\n\" id=\"DejaVuSans-6c\" transform=\"scale(0.015625)\"/>\r\n       <path d=\"M 2194 1759 \r\nQ 1497 1759 1228 1600 \r\nQ 959 1441 959 1056 \r\nQ 959 750 1161 570 \r\nQ 1363 391 1709 391 \r\nQ 2188 391 2477 730 \r\nQ 2766 1069 2766 1631 \r\nL 2766 1759 \r\nL 2194 1759 \r\nz\r\nM 3341 1997 \r\nL 3341 0 \r\nL 2766 0 \r\nL 2766 531 \r\nQ 2569 213 2275 61 \r\nQ 1981 -91 1556 -91 \r\nQ 1019 -91 701 211 \r\nQ 384 513 384 1019 \r\nQ 384 1609 779 1909 \r\nQ 1175 2209 1959 2209 \r\nL 2766 2209 \r\nL 2766 2266 \r\nQ 2766 2663 2505 2880 \r\nQ 2244 3097 1772 3097 \r\nQ 1472 3097 1187 3025 \r\nQ 903 2953 641 2809 \r\nL 641 3341 \r\nQ 956 3463 1253 3523 \r\nQ 1550 3584 1831 3584 \r\nQ 2591 3584 2966 3190 \r\nQ 3341 2797 3341 1997 \r\nz\r\n\" id=\"DejaVuSans-61\" transform=\"scale(0.015625)\"/>\r\n       <path d=\"M 191 3500 \r\nL 800 3500 \r\nL 1894 563 \r\nL 2988 3500 \r\nL 3597 3500 \r\nL 2284 0 \r\nL 1503 0 \r\nL 191 3500 \r\nz\r\n\" id=\"DejaVuSans-76\" transform=\"scale(0.015625)\"/>\r\n       <path d=\"M 2834 3397 \r\nL 2834 2853 \r\nQ 2591 2978 2328 3040 \r\nQ 2066 3103 1784 3103 \r\nQ 1356 3103 1142 2972 \r\nQ 928 2841 928 2578 \r\nQ 928 2378 1081 2264 \r\nQ 1234 2150 1697 2047 \r\nL 1894 2003 \r\nQ 2506 1872 2764 1633 \r\nQ 3022 1394 3022 966 \r\nQ 3022 478 2636 193 \r\nQ 2250 -91 1575 -91 \r\nQ 1294 -91 989 -36 \r\nQ 684 19 347 128 \r\nL 347 722 \r\nQ 666 556 975 473 \r\nQ 1284 391 1588 391 \r\nQ 1994 391 2212 530 \r\nQ 2431 669 2431 922 \r\nQ 2431 1156 2273 1281 \r\nQ 2116 1406 1581 1522 \r\nL 1381 1569 \r\nQ 847 1681 609 1914 \r\nQ 372 2147 372 2553 \r\nQ 372 3047 722 3315 \r\nQ 1072 3584 1716 3584 \r\nQ 2034 3584 2315 3537 \r\nQ 2597 3491 2834 3397 \r\nz\r\n\" id=\"DejaVuSans-73\" transform=\"scale(0.015625)\"/>\r\n      </defs>\r\n      <use xlink:href=\"#DejaVuSans-6e\"/>\r\n      <use x=\"63.378906\" xlink:href=\"#DejaVuSans-75\"/>\r\n      <use x=\"126.757812\" xlink:href=\"#DejaVuSans-6d\"/>\r\n      <use x=\"224.169922\" xlink:href=\"#DejaVuSans-5f\"/>\r\n      <use x=\"274.169922\" xlink:href=\"#DejaVuSans-6c\"/>\r\n      <use x=\"301.953125\" xlink:href=\"#DejaVuSans-65\"/>\r\n      <use x=\"363.476562\" xlink:href=\"#DejaVuSans-61\"/>\r\n      <use x=\"424.755859\" xlink:href=\"#DejaVuSans-76\"/>\r\n      <use x=\"483.935547\" xlink:href=\"#DejaVuSans-65\"/>\r\n      <use x=\"545.458984\" xlink:href=\"#DejaVuSans-73\"/>\r\n     </g>\r\n    </g>\r\n   </g>\r\n   <g id=\"line2d_11\">\r\n    <path clip-path=\"url(#p7b10779755)\" d=\"M 60.96925 192.792727 \r\nL 60.96925 214.756364 \r\n\" style=\"fill:none;stroke:#595959;stroke-linecap:square;stroke-width:1.5;\"/>\r\n   </g>\r\n   <g id=\"line2d_12\">\r\n    <path clip-path=\"url(#p7b10779755)\" d=\"M 60.96925 170.829091 \r\nL 60.96925 148.865455 \r\n\" style=\"fill:none;stroke:#595959;stroke-linecap:square;stroke-width:1.5;\"/>\r\n   </g>\r\n   <g id=\"line2d_13\">\r\n    <path clip-path=\"url(#p7b10779755)\" d=\"M 54.40717 214.756364 \r\nL 67.53133 214.756364 \r\n\" style=\"fill:none;stroke:#595959;stroke-linecap:square;stroke-width:1.5;\"/>\r\n   </g>\r\n   <g id=\"line2d_14\">\r\n    <path clip-path=\"url(#p7b10779755)\" d=\"M 54.40717 148.865455 \r\nL 67.53133 148.865455 \r\n\" style=\"fill:none;stroke:#595959;stroke-linecap:square;stroke-width:1.5;\"/>\r\n   </g>\r\n   <g id=\"line2d_15\"/>\r\n   <g id=\"line2d_16\">\r\n    <path clip-path=\"url(#p7b10779755)\" d=\"M 87.75325 214.756364 \r\nL 87.75325 214.756364 \r\n\" style=\"fill:none;stroke:#595959;stroke-linecap:square;stroke-width:1.5;\"/>\r\n   </g>\r\n   <g id=\"line2d_17\">\r\n    <path clip-path=\"url(#p7b10779755)\" d=\"M 87.75325 192.792727 \r\nL 87.75325 170.829091 \r\n\" style=\"fill:none;stroke:#595959;stroke-linecap:square;stroke-width:1.5;\"/>\r\n   </g>\r\n   <g id=\"line2d_18\">\r\n    <path clip-path=\"url(#p7b10779755)\" d=\"M 81.19117 214.756364 \r\nL 94.31533 214.756364 \r\n\" style=\"fill:none;stroke:#595959;stroke-linecap:square;stroke-width:1.5;\"/>\r\n   </g>\r\n   <g id=\"line2d_19\">\r\n    <path clip-path=\"url(#p7b10779755)\" d=\"M 81.19117 170.829091 \r\nL 94.31533 170.829091 \r\n\" style=\"fill:none;stroke:#595959;stroke-linecap:square;stroke-width:1.5;\"/>\r\n   </g>\r\n   <g id=\"line2d_20\"/>\r\n   <g id=\"line2d_21\">\r\n    <path clip-path=\"url(#p7b10779755)\" d=\"M 127.92925 170.829091 \r\nL 127.92925 192.792727 \r\n\" style=\"fill:none;stroke:#595959;stroke-linecap:square;stroke-width:1.5;\"/>\r\n   </g>\r\n   <g id=\"line2d_22\">\r\n    <path clip-path=\"url(#p7b10779755)\" d=\"M 127.92925 126.901818 \r\nL 127.92925 126.901818 \r\n\" style=\"fill:none;stroke:#595959;stroke-linecap:square;stroke-width:1.5;\"/>\r\n   </g>\r\n   <g id=\"line2d_23\">\r\n    <path clip-path=\"url(#p7b10779755)\" d=\"M 121.36717 192.792727 \r\nL 134.49133 192.792727 \r\n\" style=\"fill:none;stroke:#595959;stroke-linecap:square;stroke-width:1.5;\"/>\r\n   </g>\r\n   <g id=\"line2d_24\">\r\n    <path clip-path=\"url(#p7b10779755)\" d=\"M 121.36717 126.901818 \r\nL 134.49133 126.901818 \r\n\" style=\"fill:none;stroke:#595959;stroke-linecap:square;stroke-width:1.5;\"/>\r\n   </g>\r\n   <g id=\"line2d_25\"/>\r\n   <g id=\"line2d_26\">\r\n    <path clip-path=\"url(#p7b10779755)\" d=\"M 154.71325 192.792727 \r\nL 154.71325 192.792727 \r\n\" style=\"fill:none;stroke:#595959;stroke-linecap:square;stroke-width:1.5;\"/>\r\n   </g>\r\n   <g id=\"line2d_27\">\r\n    <path clip-path=\"url(#p7b10779755)\" d=\"M 154.71325 192.792727 \r\nL 154.71325 192.792727 \r\n\" style=\"fill:none;stroke:#595959;stroke-linecap:square;stroke-width:1.5;\"/>\r\n   </g>\r\n   <g id=\"line2d_28\">\r\n    <path clip-path=\"url(#p7b10779755)\" d=\"M 148.15117 192.792727 \r\nL 161.27533 192.792727 \r\n\" style=\"fill:none;stroke:#595959;stroke-linecap:square;stroke-width:1.5;\"/>\r\n   </g>\r\n   <g id=\"line2d_29\">\r\n    <path clip-path=\"url(#p7b10779755)\" d=\"M 148.15117 192.792727 \r\nL 161.27533 192.792727 \r\n\" style=\"fill:none;stroke:#595959;stroke-linecap:square;stroke-width:1.5;\"/>\r\n   </g>\r\n   <g id=\"line2d_30\">\r\n    <defs>\r\n     <path d=\"M 0 3.535534 \r\nL 2.12132 0 \r\nL 0 -3.535534 \r\nL -2.12132 0 \r\nz\r\n\" id=\"medbcc3682b\" style=\"stroke:#595959;stroke-linejoin:miter;\"/>\r\n    </defs>\r\n    <g clip-path=\"url(#p7b10779755)\">\r\n     <use style=\"fill:#595959;stroke:#595959;stroke-linejoin:miter;\" x=\"154.71325\" xlink:href=\"#medbcc3682b\" y=\"170.829091\"/>\r\n    </g>\r\n   </g>\r\n   <g id=\"line2d_31\">\r\n    <path clip-path=\"url(#p7b10779755)\" d=\"M 194.88925 148.865455 \r\nL 194.88925 148.865455 \r\n\" style=\"fill:none;stroke:#595959;stroke-linecap:square;stroke-width:1.5;\"/>\r\n   </g>\r\n   <g id=\"line2d_32\">\r\n    <path clip-path=\"url(#p7b10779755)\" d=\"M 194.88925 104.938182 \r\nL 194.88925 82.974545 \r\n\" style=\"fill:none;stroke:#595959;stroke-linecap:square;stroke-width:1.5;\"/>\r\n   </g>\r\n   <g id=\"line2d_33\">\r\n    <path clip-path=\"url(#p7b10779755)\" d=\"M 188.32717 148.865455 \r\nL 201.45133 148.865455 \r\n\" style=\"fill:none;stroke:#595959;stroke-linecap:square;stroke-width:1.5;\"/>\r\n   </g>\r\n   <g id=\"line2d_34\">\r\n    <path clip-path=\"url(#p7b10779755)\" d=\"M 188.32717 82.974545 \r\nL 201.45133 82.974545 \r\n\" style=\"fill:none;stroke:#595959;stroke-linecap:square;stroke-width:1.5;\"/>\r\n   </g>\r\n   <g id=\"line2d_35\"/>\r\n   <g id=\"line2d_36\">\r\n    <path clip-path=\"url(#p7b10779755)\" d=\"M 221.67325 148.865455 \r\nL 221.67325 148.865455 \r\n\" style=\"fill:none;stroke:#595959;stroke-linecap:square;stroke-width:1.5;\"/>\r\n   </g>\r\n   <g id=\"line2d_37\">\r\n    <path clip-path=\"url(#p7b10779755)\" d=\"M 221.67325 148.865455 \r\nL 221.67325 148.865455 \r\n\" style=\"fill:none;stroke:#595959;stroke-linecap:square;stroke-width:1.5;\"/>\r\n   </g>\r\n   <g id=\"line2d_38\">\r\n    <path clip-path=\"url(#p7b10779755)\" d=\"M 215.11117 148.865455 \r\nL 228.23533 148.865455 \r\n\" style=\"fill:none;stroke:#595959;stroke-linecap:square;stroke-width:1.5;\"/>\r\n   </g>\r\n   <g id=\"line2d_39\">\r\n    <path clip-path=\"url(#p7b10779755)\" d=\"M 215.11117 148.865455 \r\nL 228.23533 148.865455 \r\n\" style=\"fill:none;stroke:#595959;stroke-linecap:square;stroke-width:1.5;\"/>\r\n   </g>\r\n   <g id=\"line2d_40\">\r\n    <g clip-path=\"url(#p7b10779755)\">\r\n     <use style=\"fill:#595959;stroke:#595959;stroke-linejoin:miter;\" x=\"221.67325\" xlink:href=\"#medbcc3682b\" y=\"170.829091\"/>\r\n    </g>\r\n   </g>\r\n   <g id=\"line2d_41\">\r\n    <path clip-path=\"url(#p7b10779755)\" d=\"M 261.84925 104.938182 \r\nL 261.84925 148.865455 \r\n\" style=\"fill:none;stroke:#595959;stroke-linecap:square;stroke-width:1.5;\"/>\r\n   </g>\r\n   <g id=\"line2d_42\">\r\n    <path clip-path=\"url(#p7b10779755)\" d=\"M 261.84925 61.010909 \r\nL 261.84925 61.010909 \r\n\" style=\"fill:none;stroke:#595959;stroke-linecap:square;stroke-width:1.5;\"/>\r\n   </g>\r\n   <g id=\"line2d_43\">\r\n    <path clip-path=\"url(#p7b10779755)\" d=\"M 255.28717 148.865455 \r\nL 268.41133 148.865455 \r\n\" style=\"fill:none;stroke:#595959;stroke-linecap:square;stroke-width:1.5;\"/>\r\n   </g>\r\n   <g id=\"line2d_44\">\r\n    <path clip-path=\"url(#p7b10779755)\" d=\"M 255.28717 61.010909 \r\nL 268.41133 61.010909 \r\n\" style=\"fill:none;stroke:#595959;stroke-linecap:square;stroke-width:1.5;\"/>\r\n   </g>\r\n   <g id=\"line2d_45\"/>\r\n   <g id=\"line2d_46\">\r\n    <path clip-path=\"url(#p7b10779755)\" d=\"M 288.63325 126.901818 \r\nL 288.63325 126.901818 \r\n\" style=\"fill:none;stroke:#595959;stroke-linecap:square;stroke-width:1.5;\"/>\r\n   </g>\r\n   <g id=\"line2d_47\">\r\n    <path clip-path=\"url(#p7b10779755)\" d=\"M 288.63325 104.938182 \r\nL 288.63325 104.938182 \r\n\" style=\"fill:none;stroke:#595959;stroke-linecap:square;stroke-width:1.5;\"/>\r\n   </g>\r\n   <g id=\"line2d_48\">\r\n    <path clip-path=\"url(#p7b10779755)\" d=\"M 282.07117 126.901818 \r\nL 295.19533 126.901818 \r\n\" style=\"fill:none;stroke:#595959;stroke-linecap:square;stroke-width:1.5;\"/>\r\n   </g>\r\n   <g id=\"line2d_49\">\r\n    <path clip-path=\"url(#p7b10779755)\" d=\"M 282.07117 104.938182 \r\nL 295.19533 104.938182 \r\n\" style=\"fill:none;stroke:#595959;stroke-linecap:square;stroke-width:1.5;\"/>\r\n   </g>\r\n   <g id=\"line2d_50\"/>\r\n   <g id=\"line2d_51\">\r\n    <path clip-path=\"url(#p7b10779755)\" d=\"M 328.80925 61.010909 \r\nL 328.80925 82.974545 \r\n\" style=\"fill:none;stroke:#595959;stroke-linecap:square;stroke-width:1.5;\"/>\r\n   </g>\r\n   <g id=\"line2d_52\">\r\n    <path clip-path=\"url(#p7b10779755)\" d=\"M 328.80925 17.083636 \r\nL 328.80925 17.083636 \r\n\" style=\"fill:none;stroke:#595959;stroke-linecap:square;stroke-width:1.5;\"/>\r\n   </g>\r\n   <g id=\"line2d_53\">\r\n    <path clip-path=\"url(#p7b10779755)\" d=\"M 322.24717 82.974545 \r\nL 335.37133 82.974545 \r\n\" style=\"fill:none;stroke:#595959;stroke-linecap:square;stroke-width:1.5;\"/>\r\n   </g>\r\n   <g id=\"line2d_54\">\r\n    <path clip-path=\"url(#p7b10779755)\" d=\"M 322.24717 17.083636 \r\nL 335.37133 17.083636 \r\n\" style=\"fill:none;stroke:#595959;stroke-linecap:square;stroke-width:1.5;\"/>\r\n   </g>\r\n   <g id=\"line2d_55\"/>\r\n   <g id=\"line2d_56\">\r\n    <path clip-path=\"url(#p7b10779755)\" d=\"M 355.59325 82.974545 \r\nL 355.59325 82.974545 \r\n\" style=\"fill:none;stroke:#595959;stroke-linecap:square;stroke-width:1.5;\"/>\r\n   </g>\r\n   <g id=\"line2d_57\">\r\n    <path clip-path=\"url(#p7b10779755)\" d=\"M 355.59325 61.010909 \r\nL 355.59325 61.010909 \r\n\" style=\"fill:none;stroke:#595959;stroke-linecap:square;stroke-width:1.5;\"/>\r\n   </g>\r\n   <g id=\"line2d_58\">\r\n    <path clip-path=\"url(#p7b10779755)\" d=\"M 349.03117 82.974545 \r\nL 362.15533 82.974545 \r\n\" style=\"fill:none;stroke:#595959;stroke-linecap:square;stroke-width:1.5;\"/>\r\n   </g>\r\n   <g id=\"line2d_59\">\r\n    <path clip-path=\"url(#p7b10779755)\" d=\"M 349.03117 61.010909 \r\nL 362.15533 61.010909 \r\n\" style=\"fill:none;stroke:#595959;stroke-linecap:square;stroke-width:1.5;\"/>\r\n   </g>\r\n   <g id=\"line2d_60\"/>\r\n   <g id=\"line2d_61\">\r\n    <path clip-path=\"url(#p7b10779755)\" d=\"M 47.84509 170.829091 \r\nL 74.09341 170.829091 \r\n\" style=\"fill:none;stroke:#595959;stroke-linecap:square;stroke-width:1.5;\"/>\r\n   </g>\r\n   <g id=\"line2d_62\">\r\n    <path clip-path=\"url(#p7b10779755)\" d=\"M 74.62909 214.756364 \r\nL 100.87741 214.756364 \r\n\" style=\"fill:none;stroke:#595959;stroke-linecap:square;stroke-width:1.5;\"/>\r\n   </g>\r\n   <g id=\"line2d_63\">\r\n    <path clip-path=\"url(#p7b10779755)\" d=\"M 114.80509 148.865455 \r\nL 141.05341 148.865455 \r\n\" style=\"fill:none;stroke:#595959;stroke-linecap:square;stroke-width:1.5;\"/>\r\n   </g>\r\n   <g id=\"line2d_64\">\r\n    <path clip-path=\"url(#p7b10779755)\" d=\"M 141.58909 192.792727 \r\nL 167.83741 192.792727 \r\n\" style=\"fill:none;stroke:#595959;stroke-linecap:square;stroke-width:1.5;\"/>\r\n   </g>\r\n   <g id=\"line2d_65\">\r\n    <path clip-path=\"url(#p7b10779755)\" d=\"M 181.76509 126.901818 \r\nL 208.01341 126.901818 \r\n\" style=\"fill:none;stroke:#595959;stroke-linecap:square;stroke-width:1.5;\"/>\r\n   </g>\r\n   <g id=\"line2d_66\">\r\n    <path clip-path=\"url(#p7b10779755)\" d=\"M 208.54909 148.865455 \r\nL 234.79741 148.865455 \r\n\" style=\"fill:none;stroke:#595959;stroke-linecap:square;stroke-width:1.5;\"/>\r\n   </g>\r\n   <g id=\"line2d_67\">\r\n    <path clip-path=\"url(#p7b10779755)\" d=\"M 248.72509 104.938182 \r\nL 274.97341 104.938182 \r\n\" style=\"fill:none;stroke:#595959;stroke-linecap:square;stroke-width:1.5;\"/>\r\n   </g>\r\n   <g id=\"line2d_68\">\r\n    <path clip-path=\"url(#p7b10779755)\" d=\"M 275.50909 126.901818 \r\nL 301.75741 126.901818 \r\n\" style=\"fill:none;stroke:#595959;stroke-linecap:square;stroke-width:1.5;\"/>\r\n   </g>\r\n   <g id=\"line2d_69\">\r\n    <path clip-path=\"url(#p7b10779755)\" d=\"M 315.68509 61.010909 \r\nL 341.93341 61.010909 \r\n\" style=\"fill:none;stroke:#595959;stroke-linecap:square;stroke-width:1.5;\"/>\r\n   </g>\r\n   <g id=\"line2d_70\">\r\n    <path clip-path=\"url(#p7b10779755)\" d=\"M 342.46909 61.010909 \r\nL 368.71741 61.010909 \r\n\" style=\"fill:none;stroke:#595959;stroke-linecap:square;stroke-width:1.5;\"/>\r\n   </g>\r\n   <g id=\"patch_15\">\r\n    <path d=\"M 40.88125 224.64 \r\nL 40.88125 7.2 \r\n\" style=\"fill:none;stroke:#000000;stroke-linecap:square;stroke-linejoin:miter;stroke-width:0.8;\"/>\r\n   </g>\r\n   <g id=\"patch_16\">\r\n    <path d=\"M 375.68125 224.64 \r\nL 375.68125 7.2 \r\n\" style=\"fill:none;stroke:#000000;stroke-linecap:square;stroke-linejoin:miter;stroke-width:0.8;\"/>\r\n   </g>\r\n   <g id=\"patch_17\">\r\n    <path d=\"M 40.88125 224.64 \r\nL 375.68125 224.64 \r\n\" style=\"fill:none;stroke:#000000;stroke-linecap:square;stroke-linejoin:miter;stroke-width:0.8;\"/>\r\n   </g>\r\n   <g id=\"patch_18\">\r\n    <path d=\"M 40.88125 7.2 \r\nL 375.68125 7.2 \r\n\" style=\"fill:none;stroke:#000000;stroke-linecap:square;stroke-linejoin:miter;stroke-width:0.8;\"/>\r\n   </g>\r\n   <g id=\"legend_1\">\r\n    <g id=\"patch_19\">\r\n     <path d=\"M 47.88125 59.234375 \r\nL 107.41875 59.234375 \r\nQ 109.41875 59.234375 109.41875 57.234375 \r\nL 109.41875 14.2 \r\nQ 109.41875 12.2 107.41875 12.2 \r\nL 47.88125 12.2 \r\nQ 45.88125 12.2 45.88125 14.2 \r\nL 45.88125 57.234375 \r\nQ 45.88125 59.234375 47.88125 59.234375 \r\nz\r\n\" style=\"fill:#ffffff;opacity:0.8;stroke:#cccccc;stroke-linejoin:miter;\"/>\r\n    </g>\r\n    <g id=\"text_13\">\r\n     <!-- year -->\r\n     <g transform=\"translate(66.494531 23.798437)scale(0.1 -0.1)\">\r\n      <defs>\r\n       <path d=\"M 2059 -325 \r\nQ 1816 -950 1584 -1140 \r\nQ 1353 -1331 966 -1331 \r\nL 506 -1331 \r\nL 506 -850 \r\nL 844 -850 \r\nQ 1081 -850 1212 -737 \r\nQ 1344 -625 1503 -206 \r\nL 1606 56 \r\nL 191 3500 \r\nL 800 3500 \r\nL 1894 763 \r\nL 2988 3500 \r\nL 3597 3500 \r\nL 2059 -325 \r\nz\r\n\" id=\"DejaVuSans-79\" transform=\"scale(0.015625)\"/>\r\n       <path d=\"M 2631 2963 \r\nQ 2534 3019 2420 3045 \r\nQ 2306 3072 2169 3072 \r\nQ 1681 3072 1420 2755 \r\nQ 1159 2438 1159 1844 \r\nL 1159 0 \r\nL 581 0 \r\nL 581 3500 \r\nL 1159 3500 \r\nL 1159 2956 \r\nQ 1341 3275 1631 3429 \r\nQ 1922 3584 2338 3584 \r\nQ 2397 3584 2469 3576 \r\nQ 2541 3569 2628 3553 \r\nL 2631 2963 \r\nz\r\n\" id=\"DejaVuSans-72\" transform=\"scale(0.015625)\"/>\r\n      </defs>\r\n      <use xlink:href=\"#DejaVuSans-79\"/>\r\n      <use x=\"59.179688\" xlink:href=\"#DejaVuSans-65\"/>\r\n      <use x=\"120.703125\" xlink:href=\"#DejaVuSans-61\"/>\r\n      <use x=\"181.982422\" xlink:href=\"#DejaVuSans-72\"/>\r\n     </g>\r\n    </g>\r\n    <g id=\"patch_20\">\r\n     <path d=\"M 49.88125 38.476562 \r\nL 69.88125 38.476562 \r\nL 69.88125 31.476562 \r\nL 49.88125 31.476562 \r\nz\r\n\" style=\"fill:#72b6a1;stroke:#595959;stroke-linejoin:miter;stroke-width:0.75;\"/>\r\n    </g>\r\n    <g id=\"text_14\">\r\n     <!-- Year1 -->\r\n     <g transform=\"translate(77.88125 38.476562)scale(0.1 -0.1)\">\r\n      <defs>\r\n       <path d=\"M -13 4666 \r\nL 666 4666 \r\nL 1959 2747 \r\nL 3244 4666 \r\nL 3922 4666 \r\nL 2272 2222 \r\nL 2272 0 \r\nL 1638 0 \r\nL 1638 2222 \r\nL -13 4666 \r\nz\r\n\" id=\"DejaVuSans-59\" transform=\"scale(0.015625)\"/>\r\n      </defs>\r\n      <use xlink:href=\"#DejaVuSans-59\"/>\r\n      <use x=\"47.833984\" xlink:href=\"#DejaVuSans-65\"/>\r\n      <use x=\"109.357422\" xlink:href=\"#DejaVuSans-61\"/>\r\n      <use x=\"170.636719\" xlink:href=\"#DejaVuSans-72\"/>\r\n      <use x=\"211.75\" xlink:href=\"#DejaVuSans-31\"/>\r\n     </g>\r\n    </g>\r\n    <g id=\"patch_21\">\r\n     <path d=\"M 49.88125 53.154687 \r\nL 69.88125 53.154687 \r\nL 69.88125 46.154687 \r\nL 49.88125 46.154687 \r\nz\r\n\" style=\"fill:#e99675;stroke:#595959;stroke-linejoin:miter;stroke-width:0.75;\"/>\r\n    </g>\r\n    <g id=\"text_15\">\r\n     <!-- Year2 -->\r\n     <g transform=\"translate(77.88125 53.154687)scale(0.1 -0.1)\">\r\n      <use xlink:href=\"#DejaVuSans-59\"/>\r\n      <use x=\"47.833984\" xlink:href=\"#DejaVuSans-65\"/>\r\n      <use x=\"109.357422\" xlink:href=\"#DejaVuSans-61\"/>\r\n      <use x=\"170.636719\" xlink:href=\"#DejaVuSans-72\"/>\r\n      <use x=\"211.75\" xlink:href=\"#DejaVuSans-32\"/>\r\n     </g>\r\n    </g>\r\n   </g>\r\n  </g>\r\n </g>\r\n <defs>\r\n  <clipPath id=\"p7b10779755\">\r\n   <rect height=\"217.44\" width=\"334.8\" x=\"40.88125\" y=\"7.2\"/>\r\n  </clipPath>\r\n </defs>\r\n</svg>\r\n",
      "image/png": "[encoded data removed]"
     },
     "metadata": {
      "needs_background": "light"
     }
    }
   ],
   "metadata": {}
  },
  {
   "cell_type": "code",
   "execution_count": 55,
   "source": [
    "pg.rm_anova(\r\n",
    "    dv='num_leaves',\r\n",
    "    within=['time', 'year'],\r\n",
    "    subject='plants',\r\n",
    "    data=data_rm2,\r\n",
    "    detailed=True,\r\n",
    ").round(4)"
   ],
   "outputs": [
    {
     "output_type": "execute_result",
     "data": {
      "text/plain": [
       "        Source      SS  ddof1  ddof2     MS         F   p-unc  p-GG-corr  \\\n",
       "0         time  226.88      4     16  56.72  158.6573  0.0000     0.0000   \n",
       "1         year   18.00      1      4  18.00    3.6000  0.1306     0.1306   \n",
       "2  time * year    0.80      4     16   0.20    1.4545  0.2621     0.2917   \n",
       "\n",
       "      np2     eps  \n",
       "0  0.9754  0.4212  \n",
       "1  0.4737  1.0000  \n",
       "2  0.2667  0.4416  "
      ],
      "text/html": [
       "<div>\n",
       "<style scoped>\n",
       "    .dataframe tbody tr th:only-of-type {\n",
       "        vertical-align: middle;\n",
       "    }\n",
       "\n",
       "    .dataframe tbody tr th {\n",
       "        vertical-align: top;\n",
       "    }\n",
       "\n",
       "    .dataframe thead th {\n",
       "        text-align: right;\n",
       "    }\n",
       "</style>\n",
       "<table border=\"1\" class=\"dataframe\">\n",
       "  <thead>\n",
       "    <tr style=\"text-align: right;\">\n",
       "      <th></th>\n",
       "      <th>Source</th>\n",
       "      <th>SS</th>\n",
       "      <th>ddof1</th>\n",
       "      <th>ddof2</th>\n",
       "      <th>MS</th>\n",
       "      <th>F</th>\n",
       "      <th>p-unc</th>\n",
       "      <th>p-GG-corr</th>\n",
       "      <th>np2</th>\n",
       "      <th>eps</th>\n",
       "    </tr>\n",
       "  </thead>\n",
       "  <tbody>\n",
       "    <tr>\n",
       "      <th>0</th>\n",
       "      <td>time</td>\n",
       "      <td>226.88</td>\n",
       "      <td>4</td>\n",
       "      <td>16</td>\n",
       "      <td>56.72</td>\n",
       "      <td>158.6573</td>\n",
       "      <td>0.0000</td>\n",
       "      <td>0.0000</td>\n",
       "      <td>0.9754</td>\n",
       "      <td>0.4212</td>\n",
       "    </tr>\n",
       "    <tr>\n",
       "      <th>1</th>\n",
       "      <td>year</td>\n",
       "      <td>18.00</td>\n",
       "      <td>1</td>\n",
       "      <td>4</td>\n",
       "      <td>18.00</td>\n",
       "      <td>3.6000</td>\n",
       "      <td>0.1306</td>\n",
       "      <td>0.1306</td>\n",
       "      <td>0.4737</td>\n",
       "      <td>1.0000</td>\n",
       "    </tr>\n",
       "    <tr>\n",
       "      <th>2</th>\n",
       "      <td>time * year</td>\n",
       "      <td>0.80</td>\n",
       "      <td>4</td>\n",
       "      <td>16</td>\n",
       "      <td>0.20</td>\n",
       "      <td>1.4545</td>\n",
       "      <td>0.2621</td>\n",
       "      <td>0.2917</td>\n",
       "      <td>0.2667</td>\n",
       "      <td>0.4416</td>\n",
       "    </tr>\n",
       "  </tbody>\n",
       "</table>\n",
       "</div>"
      ]
     },
     "metadata": {},
     "execution_count": 55
    }
   ],
   "metadata": {}
  },
  {
   "cell_type": "markdown",
   "source": [
    "We reject the null hypothesis in favor of the alternate hypothesis for time, but not for year and time + year interaction."
   ],
   "metadata": {}
  },
  {
   "cell_type": "markdown",
   "source": [
    "### Repeated-measures ANOVA with statsmodels"
   ],
   "metadata": {}
  },
  {
   "cell_type": "code",
   "execution_count": 56,
   "source": [
    "from statsmodels.stats.anova import AnovaRM\r\n",
    "\r\n",
    "res_rmANOVA = AnovaRM(\r\n",
    "    data=data_rm2,\r\n",
    "    depvar='num_leaves',\r\n",
    "    subject='plants',\r\n",
    "    within=['time', 'year'],\r\n",
    ")\r\n",
    "print(res_rmANOVA.fit())"
   ],
   "outputs": [
    {
     "output_type": "stream",
     "name": "stdout",
     "text": [
      "                 Anova\n",
      "========================================\n",
      "          F Value  Num DF  Den DF Pr > F\n",
      "----------------------------------------\n",
      "time      158.6573 4.0000 16.0000 0.0000\n",
      "year        3.6000 1.0000  4.0000 0.1306\n",
      "time:year   1.4545 4.0000 16.0000 0.2621\n",
      "========================================\n",
      "\n"
     ]
    }
   ],
   "metadata": {}
  },
  {
   "cell_type": "markdown",
   "source": [
    "## Two-way ANOVA (also called _two-factor ANOVA_)\r\n",
    "\r\n",
    "The data are divided in two ways because each data point is either from an animal given either an inactive or active treatment (one factor) given for either a short or long duration (second factor). If male and female animals were both included you'd need three-way ANOVA, so that each value would be categorized in three ways, i.e. treatment, duration and gender.\r\n",
    "\r\n",
    "Two-way ANOVA simultaneously tests 3 null hypotheses and so computes 3 P values:\r\n",
    "\r\n",
    "1. There is no **interaction between the two factors** (treatment and duration), i.e. H0 is that the difference in effects between durations is the same in animals given active or inactive treatment, or that the treatment causes the same change in response if given for short or long duration.\r\n",
    "2. The population means are identical for animals given placebo and active treatment (treatment, i.e. **first factor**), pooling short and long duration.\r\n",
    "3. The population means are identical for animals given a treatment for short vs. long duration (duration, i.e. **second factor**).\r\n",
    "\r\n",
    "\r\n",
    "### How two-way ANOVA works\r\n",
    "\r\n",
    "The bottom row of the ANOVA table quantifies the total variation among all the values, paying no attention to which row or column they are in. It is the **sum-of-squares of the squared difference between each value and the grand mean**. The rest of the table breaks this variability into four components: interaction, differences between rows (on the average), differences between columns (on the average) and variation amoing replicates in the same row and column. Each MS is divided by the residual MS to compute an F ratio, and this is used to obtain a P value.\r\n",
    "\r\n",
    "| Source of variation | Sum squares | DF |  MS   |\r\n",
    "| -------------------:|:----------- | -- | ----- |\r\n",
    "|   Interaction       |    12896    |  1 | 12896 |\r\n",
    "| \\+ Between rows     |     5764    |  1 |  5764 |\r\n",
    "| \\+ Between columns  |     3710    |  1 |  3710 |\r\n",
    "| \\+ Among replicates |      928    |  8 |   116 |\r\n",
    "| \\= Total            |    23298    | 11 |       |\r\n",
    "\r\n",
    "![Partionining of the sum of squares](https://www.marsja.se/wp-content/uploads/2016/03/two-way-anova-sum-of-squares.png)"
   ],
   "metadata": {}
  },
  {
   "cell_type": "code",
   "execution_count": 59,
   "source": [
    "# two-way ANOVA with balanced design (equal n for all level combinations)\r\n",
    "# but works similar with unbalanced design (thus requires statsmodels)\r\n",
    "data2 = pg.read_dataset('anova2')\r\n",
    "pg.print_table(data2.head())\r\n",
    "sns.pointplot(\r\n",
    "    data=data2,\r\n",
    "    x='Crop',\r\n",
    "    y='Yield',\r\n",
    "    hue='Blend',\r\n",
    "    dodge=True,\r\n",
    "    errwidth=2,\r\n",
    ");"
   ],
   "outputs": [
    {
     "output_type": "stream",
     "name": "stdout",
     "text": [
      "  Ss  Blend    Crop      Yield\n",
      "----  -------  ------  -------\n",
      "   1  Blend X  Wheat       123\n",
      "   2  Blend X  Wheat       156\n",
      "   3  Blend X  Wheat       112\n",
      "   4  Blend X  Wheat       100\n",
      "   5  Blend X  Corn        128\n",
      "\n"
     ]
    },
    {
     "output_type": "display_data",
     "data": {
      "text/plain": [
       "<Figure size 432x288 with 1 Axes>"
      ],
      "image/svg+xml": "<?xml version=\"1.0\" encoding=\"utf-8\" standalone=\"no\"?>\r\n<!DOCTYPE svg PUBLIC \"-//W3C//DTD SVG 1.1//EN\"\r\n  \"http://www.w3.org/Graphics/SVG/1.1/DTD/svg11.dtd\">\r\n<svg height=\"262.19625pt\" version=\"1.1\" viewBox=\"0 0 388.965625 262.19625\" width=\"388.965625pt\" xmlns=\"http://www.w3.org/2000/svg\" xmlns:xlink=\"http://www.w3.org/1999/xlink\">\r\n <metadata>\r\n  <rdf:RDF xmlns:cc=\"http://creativecommons.org/ns#\" xmlns:dc=\"http://purl.org/dc/elements/1.1/\" xmlns:rdf=\"http://www.w3.org/1999/02/22-rdf-syntax-ns#\">\r\n   <cc:Work>\r\n    <dc:type rdf:resource=\"http://purl.org/dc/dcmitype/StillImage\"/>\r\n    <dc:date>2021-08-26T18:31:24.822754</dc:date>\r\n    <dc:format>image/svg+xml</dc:format>\r\n    <dc:creator>\r\n     <cc:Agent>\r\n      <dc:title>Matplotlib v3.4.3, https://matplotlib.org/</dc:title>\r\n     </cc:Agent>\r\n    </dc:creator>\r\n   </cc:Work>\r\n  </rdf:RDF>\r\n </metadata>\r\n <defs>\r\n  <style type=\"text/css\">*{stroke-linecap:butt;stroke-linejoin:round;}</style>\r\n </defs>\r\n <g id=\"figure_1\">\r\n  <g id=\"patch_1\">\r\n   <path d=\"M -0 262.19625 \r\nL 388.965625 262.19625 \r\nL 388.965625 0 \r\nL -0 0 \r\nz\r\n\" style=\"fill:none;\"/>\r\n  </g>\r\n  <g id=\"axes_1\">\r\n   <g id=\"patch_2\">\r\n    <path d=\"M 46.965625 224.64 \r\nL 381.765625 224.64 \r\nL 381.765625 7.2 \r\nL 46.965625 7.2 \r\nz\r\n\" style=\"fill:#ffffff;\"/>\r\n   </g>\r\n   <g id=\"PathCollection_1\">\r\n    <defs>\r\n     <path d=\"M 0 3.383948 \r\nC 0.897434 3.383948 1.758231 3.027394 2.392813 2.392813 \r\nC 3.027394 1.758231 3.383948 0.897434 3.383948 0 \r\nC 3.383948 -0.897434 3.027394 -1.758231 2.392813 -2.392813 \r\nC 1.758231 -3.027394 0.897434 -3.383948 0 -3.383948 \r\nC -0.897434 -3.383948 -1.758231 -3.027394 -2.392813 -2.392813 \r\nC -3.027394 -1.758231 -3.383948 -0.897434 -3.383948 0 \r\nC -3.383948 0.897434 -3.027394 1.758231 -2.392813 2.392813 \r\nC -1.758231 3.027394 -0.897434 3.383948 0 3.383948 \r\nz\r\n\" id=\"mdf5ba02fa7\" style=\"stroke:#1f77b4;stroke-width:2.025;\"/>\r\n    </defs>\r\n    <g clip-path=\"url(#p815fb004f0)\">\r\n     <use style=\"fill:#1f77b4;stroke:#1f77b4;stroke-width:2.025;\" x=\"99.975625\" xlink:href=\"#mdf5ba02fa7\" y=\"172.219194\"/>\r\n     <use style=\"fill:#1f77b4;stroke:#1f77b4;stroke-width:2.025;\" x=\"211.575625\" xlink:href=\"#mdf5ba02fa7\" y=\"124.052106\"/>\r\n     <use style=\"fill:#1f77b4;stroke:#1f77b4;stroke-width:2.025;\" x=\"323.175625\" xlink:href=\"#mdf5ba02fa7\" y=\"51.4887\"/>\r\n    </g>\r\n   </g>\r\n   <g id=\"line2d_1\">\r\n    <path clip-path=\"url(#p815fb004f0)\" d=\"M 99.975625 172.219194 \r\nL 211.575625 124.052106 \r\nL 323.175625 51.4887 \r\n\" style=\"fill:none;stroke:#1f77b4;stroke-linecap:square;stroke-width:2.7;\"/>\r\n   </g>\r\n   <g id=\"line2d_2\">\r\n    <path clip-path=\"url(#p815fb004f0)\" d=\"M 99.975625 214.756364 \r\nL 99.975625 116.545547 \r\n\" style=\"fill:none;stroke:#1f77b4;stroke-linecap:square;stroke-width:2;\"/>\r\n   </g>\r\n   <g id=\"line2d_3\">\r\n    <path clip-path=\"url(#p815fb004f0)\" d=\"M 211.575625 174.095834 \r\nL 211.575625 72.757284 \r\n\" style=\"fill:none;stroke:#1f77b4;stroke-linecap:square;stroke-width:2;\"/>\r\n   </g>\r\n   <g id=\"line2d_4\">\r\n    <path clip-path=\"url(#p815fb004f0)\" d=\"M 323.175625 80.88939 \r\nL 323.175625 17.083636 \r\n\" style=\"fill:none;stroke:#1f77b4;stroke-linecap:square;stroke-width:2;\"/>\r\n   </g>\r\n   <g id=\"matplotlib.axis_1\">\r\n    <g id=\"xtick_1\">\r\n     <g id=\"line2d_5\">\r\n      <defs>\r\n       <path d=\"M 0 0 \r\nL 0 3.5 \r\n\" id=\"m2b3a416335\" style=\"stroke:#000000;stroke-width:0.8;\"/>\r\n      </defs>\r\n      <g>\r\n       <use style=\"stroke:#000000;stroke-width:0.8;\" x=\"102.765625\" xlink:href=\"#m2b3a416335\" y=\"224.64\"/>\r\n      </g>\r\n     </g>\r\n     <g id=\"text_1\">\r\n      <!-- Wheat -->\r\n      <g transform=\"translate(86.552344 239.238437)scale(0.1 -0.1)\">\r\n       <defs>\r\n        <path d=\"M 213 4666 \r\nL 850 4666 \r\nL 1831 722 \r\nL 2809 4666 \r\nL 3519 4666 \r\nL 4500 722 \r\nL 5478 4666 \r\nL 6119 4666 \r\nL 4947 0 \r\nL 4153 0 \r\nL 3169 4050 \r\nL 2175 0 \r\nL 1381 0 \r\nL 213 4666 \r\nz\r\n\" id=\"DejaVuSans-57\" transform=\"scale(0.015625)\"/>\r\n        <path d=\"M 3513 2113 \r\nL 3513 0 \r\nL 2938 0 \r\nL 2938 2094 \r\nQ 2938 2591 2744 2837 \r\nQ 2550 3084 2163 3084 \r\nQ 1697 3084 1428 2787 \r\nQ 1159 2491 1159 1978 \r\nL 1159 0 \r\nL 581 0 \r\nL 581 4863 \r\nL 1159 4863 \r\nL 1159 2956 \r\nQ 1366 3272 1645 3428 \r\nQ 1925 3584 2291 3584 \r\nQ 2894 3584 3203 3211 \r\nQ 3513 2838 3513 2113 \r\nz\r\n\" id=\"DejaVuSans-68\" transform=\"scale(0.015625)\"/>\r\n        <path d=\"M 3597 1894 \r\nL 3597 1613 \r\nL 953 1613 \r\nQ 991 1019 1311 708 \r\nQ 1631 397 2203 397 \r\nQ 2534 397 2845 478 \r\nQ 3156 559 3463 722 \r\nL 3463 178 \r\nQ 3153 47 2828 -22 \r\nQ 2503 -91 2169 -91 \r\nQ 1331 -91 842 396 \r\nQ 353 884 353 1716 \r\nQ 353 2575 817 3079 \r\nQ 1281 3584 2069 3584 \r\nQ 2775 3584 3186 3129 \r\nQ 3597 2675 3597 1894 \r\nz\r\nM 3022 2063 \r\nQ 3016 2534 2758 2815 \r\nQ 2500 3097 2075 3097 \r\nQ 1594 3097 1305 2825 \r\nQ 1016 2553 972 2059 \r\nL 3022 2063 \r\nz\r\n\" id=\"DejaVuSans-65\" transform=\"scale(0.015625)\"/>\r\n        <path d=\"M 2194 1759 \r\nQ 1497 1759 1228 1600 \r\nQ 959 1441 959 1056 \r\nQ 959 750 1161 570 \r\nQ 1363 391 1709 391 \r\nQ 2188 391 2477 730 \r\nQ 2766 1069 2766 1631 \r\nL 2766 1759 \r\nL 2194 1759 \r\nz\r\nM 3341 1997 \r\nL 3341 0 \r\nL 2766 0 \r\nL 2766 531 \r\nQ 2569 213 2275 61 \r\nQ 1981 -91 1556 -91 \r\nQ 1019 -91 701 211 \r\nQ 384 513 384 1019 \r\nQ 384 1609 779 1909 \r\nQ 1175 2209 1959 2209 \r\nL 2766 2209 \r\nL 2766 2266 \r\nQ 2766 2663 2505 2880 \r\nQ 2244 3097 1772 3097 \r\nQ 1472 3097 1187 3025 \r\nQ 903 2953 641 2809 \r\nL 641 3341 \r\nQ 956 3463 1253 3523 \r\nQ 1550 3584 1831 3584 \r\nQ 2591 3584 2966 3190 \r\nQ 3341 2797 3341 1997 \r\nz\r\n\" id=\"DejaVuSans-61\" transform=\"scale(0.015625)\"/>\r\n        <path d=\"M 1172 4494 \r\nL 1172 3500 \r\nL 2356 3500 \r\nL 2356 3053 \r\nL 1172 3053 \r\nL 1172 1153 \r\nQ 1172 725 1289 603 \r\nQ 1406 481 1766 481 \r\nL 2356 481 \r\nL 2356 0 \r\nL 1766 0 \r\nQ 1100 0 847 248 \r\nQ 594 497 594 1153 \r\nL 594 3053 \r\nL 172 3053 \r\nL 172 3500 \r\nL 594 3500 \r\nL 594 4494 \r\nL 1172 4494 \r\nz\r\n\" id=\"DejaVuSans-74\" transform=\"scale(0.015625)\"/>\r\n       </defs>\r\n       <use xlink:href=\"#DejaVuSans-57\"/>\r\n       <use x=\"98.876953\" xlink:href=\"#DejaVuSans-68\"/>\r\n       <use x=\"162.255859\" xlink:href=\"#DejaVuSans-65\"/>\r\n       <use x=\"223.779297\" xlink:href=\"#DejaVuSans-61\"/>\r\n       <use x=\"285.058594\" xlink:href=\"#DejaVuSans-74\"/>\r\n      </g>\r\n     </g>\r\n    </g>\r\n    <g id=\"xtick_2\">\r\n     <g id=\"line2d_6\">\r\n      <g>\r\n       <use style=\"stroke:#000000;stroke-width:0.8;\" x=\"214.365625\" xlink:href=\"#m2b3a416335\" y=\"224.64\"/>\r\n      </g>\r\n     </g>\r\n     <g id=\"text_2\">\r\n      <!-- Corn -->\r\n      <g transform=\"translate(202.678125 239.238437)scale(0.1 -0.1)\">\r\n       <defs>\r\n        <path d=\"M 4122 4306 \r\nL 4122 3641 \r\nQ 3803 3938 3442 4084 \r\nQ 3081 4231 2675 4231 \r\nQ 1875 4231 1450 3742 \r\nQ 1025 3253 1025 2328 \r\nQ 1025 1406 1450 917 \r\nQ 1875 428 2675 428 \r\nQ 3081 428 3442 575 \r\nQ 3803 722 4122 1019 \r\nL 4122 359 \r\nQ 3791 134 3420 21 \r\nQ 3050 -91 2638 -91 \r\nQ 1578 -91 968 557 \r\nQ 359 1206 359 2328 \r\nQ 359 3453 968 4101 \r\nQ 1578 4750 2638 4750 \r\nQ 3056 4750 3426 4639 \r\nQ 3797 4528 4122 4306 \r\nz\r\n\" id=\"DejaVuSans-43\" transform=\"scale(0.015625)\"/>\r\n        <path d=\"M 1959 3097 \r\nQ 1497 3097 1228 2736 \r\nQ 959 2375 959 1747 \r\nQ 959 1119 1226 758 \r\nQ 1494 397 1959 397 \r\nQ 2419 397 2687 759 \r\nQ 2956 1122 2956 1747 \r\nQ 2956 2369 2687 2733 \r\nQ 2419 3097 1959 3097 \r\nz\r\nM 1959 3584 \r\nQ 2709 3584 3137 3096 \r\nQ 3566 2609 3566 1747 \r\nQ 3566 888 3137 398 \r\nQ 2709 -91 1959 -91 \r\nQ 1206 -91 779 398 \r\nQ 353 888 353 1747 \r\nQ 353 2609 779 3096 \r\nQ 1206 3584 1959 3584 \r\nz\r\n\" id=\"DejaVuSans-6f\" transform=\"scale(0.015625)\"/>\r\n        <path d=\"M 2631 2963 \r\nQ 2534 3019 2420 3045 \r\nQ 2306 3072 2169 3072 \r\nQ 1681 3072 1420 2755 \r\nQ 1159 2438 1159 1844 \r\nL 1159 0 \r\nL 581 0 \r\nL 581 3500 \r\nL 1159 3500 \r\nL 1159 2956 \r\nQ 1341 3275 1631 3429 \r\nQ 1922 3584 2338 3584 \r\nQ 2397 3584 2469 3576 \r\nQ 2541 3569 2628 3553 \r\nL 2631 2963 \r\nz\r\n\" id=\"DejaVuSans-72\" transform=\"scale(0.015625)\"/>\r\n        <path d=\"M 3513 2113 \r\nL 3513 0 \r\nL 2938 0 \r\nL 2938 2094 \r\nQ 2938 2591 2744 2837 \r\nQ 2550 3084 2163 3084 \r\nQ 1697 3084 1428 2787 \r\nQ 1159 2491 1159 1978 \r\nL 1159 0 \r\nL 581 0 \r\nL 581 3500 \r\nL 1159 3500 \r\nL 1159 2956 \r\nQ 1366 3272 1645 3428 \r\nQ 1925 3584 2291 3584 \r\nQ 2894 3584 3203 3211 \r\nQ 3513 2838 3513 2113 \r\nz\r\n\" id=\"DejaVuSans-6e\" transform=\"scale(0.015625)\"/>\r\n       </defs>\r\n       <use xlink:href=\"#DejaVuSans-43\"/>\r\n       <use x=\"69.824219\" xlink:href=\"#DejaVuSans-6f\"/>\r\n       <use x=\"131.005859\" xlink:href=\"#DejaVuSans-72\"/>\r\n       <use x=\"170.369141\" xlink:href=\"#DejaVuSans-6e\"/>\r\n      </g>\r\n     </g>\r\n    </g>\r\n    <g id=\"xtick_3\">\r\n     <g id=\"line2d_7\">\r\n      <g>\r\n       <use style=\"stroke:#000000;stroke-width:0.8;\" x=\"325.965625\" xlink:href=\"#m2b3a416335\" y=\"224.64\"/>\r\n      </g>\r\n     </g>\r\n     <g id=\"text_3\">\r\n      <!-- Soy -->\r\n      <g transform=\"translate(316.772656 239.238437)scale(0.1 -0.1)\">\r\n       <defs>\r\n        <path d=\"M 3425 4513 \r\nL 3425 3897 \r\nQ 3066 4069 2747 4153 \r\nQ 2428 4238 2131 4238 \r\nQ 1616 4238 1336 4038 \r\nQ 1056 3838 1056 3469 \r\nQ 1056 3159 1242 3001 \r\nQ 1428 2844 1947 2747 \r\nL 2328 2669 \r\nQ 3034 2534 3370 2195 \r\nQ 3706 1856 3706 1288 \r\nQ 3706 609 3251 259 \r\nQ 2797 -91 1919 -91 \r\nQ 1588 -91 1214 -16 \r\nQ 841 59 441 206 \r\nL 441 856 \r\nQ 825 641 1194 531 \r\nQ 1563 422 1919 422 \r\nQ 2459 422 2753 634 \r\nQ 3047 847 3047 1241 \r\nQ 3047 1584 2836 1778 \r\nQ 2625 1972 2144 2069 \r\nL 1759 2144 \r\nQ 1053 2284 737 2584 \r\nQ 422 2884 422 3419 \r\nQ 422 4038 858 4394 \r\nQ 1294 4750 2059 4750 \r\nQ 2388 4750 2728 4690 \r\nQ 3069 4631 3425 4513 \r\nz\r\n\" id=\"DejaVuSans-53\" transform=\"scale(0.015625)\"/>\r\n        <path d=\"M 2059 -325 \r\nQ 1816 -950 1584 -1140 \r\nQ 1353 -1331 966 -1331 \r\nL 506 -1331 \r\nL 506 -850 \r\nL 844 -850 \r\nQ 1081 -850 1212 -737 \r\nQ 1344 -625 1503 -206 \r\nL 1606 56 \r\nL 191 3500 \r\nL 800 3500 \r\nL 1894 763 \r\nL 2988 3500 \r\nL 3597 3500 \r\nL 2059 -325 \r\nz\r\n\" id=\"DejaVuSans-79\" transform=\"scale(0.015625)\"/>\r\n       </defs>\r\n       <use xlink:href=\"#DejaVuSans-53\"/>\r\n       <use x=\"63.476562\" xlink:href=\"#DejaVuSans-6f\"/>\r\n       <use x=\"124.658203\" xlink:href=\"#DejaVuSans-79\"/>\r\n      </g>\r\n     </g>\r\n    </g>\r\n    <g id=\"text_4\">\r\n     <!-- Crop -->\r\n     <g transform=\"translate(202.697656 252.916562)scale(0.1 -0.1)\">\r\n      <defs>\r\n       <path d=\"M 1159 525 \r\nL 1159 -1331 \r\nL 581 -1331 \r\nL 581 3500 \r\nL 1159 3500 \r\nL 1159 2969 \r\nQ 1341 3281 1617 3432 \r\nQ 1894 3584 2278 3584 \r\nQ 2916 3584 3314 3078 \r\nQ 3713 2572 3713 1747 \r\nQ 3713 922 3314 415 \r\nQ 2916 -91 2278 -91 \r\nQ 1894 -91 1617 61 \r\nQ 1341 213 1159 525 \r\nz\r\nM 3116 1747 \r\nQ 3116 2381 2855 2742 \r\nQ 2594 3103 2138 3103 \r\nQ 1681 3103 1420 2742 \r\nQ 1159 2381 1159 1747 \r\nQ 1159 1113 1420 752 \r\nQ 1681 391 2138 391 \r\nQ 2594 391 2855 752 \r\nQ 3116 1113 3116 1747 \r\nz\r\n\" id=\"DejaVuSans-70\" transform=\"scale(0.015625)\"/>\r\n      </defs>\r\n      <use xlink:href=\"#DejaVuSans-43\"/>\r\n      <use x=\"69.824219\" xlink:href=\"#DejaVuSans-72\"/>\r\n      <use x=\"108.6875\" xlink:href=\"#DejaVuSans-6f\"/>\r\n      <use x=\"169.869141\" xlink:href=\"#DejaVuSans-70\"/>\r\n     </g>\r\n    </g>\r\n   </g>\r\n   <g id=\"matplotlib.axis_2\">\r\n    <g id=\"ytick_1\">\r\n     <g id=\"line2d_8\">\r\n      <defs>\r\n       <path d=\"M 0 0 \r\nL -3.5 0 \r\n\" id=\"m4b763181ef\" style=\"stroke:#000000;stroke-width:0.8;\"/>\r\n      </defs>\r\n      <g>\r\n       <use style=\"stroke:#000000;stroke-width:0.8;\" x=\"46.965625\" xlink:href=\"#m4b763181ef\" y=\"204.122071\"/>\r\n      </g>\r\n     </g>\r\n     <g id=\"text_5\">\r\n      <!-- 110 -->\r\n      <g transform=\"translate(20.878125 207.92129)scale(0.1 -0.1)\">\r\n       <defs>\r\n        <path d=\"M 794 531 \r\nL 1825 531 \r\nL 1825 4091 \r\nL 703 3866 \r\nL 703 4441 \r\nL 1819 4666 \r\nL 2450 4666 \r\nL 2450 531 \r\nL 3481 531 \r\nL 3481 0 \r\nL 794 0 \r\nL 794 531 \r\nz\r\n\" id=\"DejaVuSans-31\" transform=\"scale(0.015625)\"/>\r\n        <path d=\"M 2034 4250 \r\nQ 1547 4250 1301 3770 \r\nQ 1056 3291 1056 2328 \r\nQ 1056 1369 1301 889 \r\nQ 1547 409 2034 409 \r\nQ 2525 409 2770 889 \r\nQ 3016 1369 3016 2328 \r\nQ 3016 3291 2770 3770 \r\nQ 2525 4250 2034 4250 \r\nz\r\nM 2034 4750 \r\nQ 2819 4750 3233 4129 \r\nQ 3647 3509 3647 2328 \r\nQ 3647 1150 3233 529 \r\nQ 2819 -91 2034 -91 \r\nQ 1250 -91 836 529 \r\nQ 422 1150 422 2328 \r\nQ 422 3509 836 4129 \r\nQ 1250 4750 2034 4750 \r\nz\r\n\" id=\"DejaVuSans-30\" transform=\"scale(0.015625)\"/>\r\n       </defs>\r\n       <use xlink:href=\"#DejaVuSans-31\"/>\r\n       <use x=\"63.623047\" xlink:href=\"#DejaVuSans-31\"/>\r\n       <use x=\"127.246094\" xlink:href=\"#DejaVuSans-30\"/>\r\n      </g>\r\n     </g>\r\n    </g>\r\n    <g id=\"ytick_2\">\r\n     <g id=\"line2d_9\">\r\n      <g>\r\n       <use style=\"stroke:#000000;stroke-width:0.8;\" x=\"46.965625\" xlink:href=\"#m4b763181ef\" y=\"179.100207\"/>\r\n      </g>\r\n     </g>\r\n     <g id=\"text_6\">\r\n      <!-- 120 -->\r\n      <g transform=\"translate(20.878125 182.899426)scale(0.1 -0.1)\">\r\n       <defs>\r\n        <path d=\"M 1228 531 \r\nL 3431 531 \r\nL 3431 0 \r\nL 469 0 \r\nL 469 531 \r\nQ 828 903 1448 1529 \r\nQ 2069 2156 2228 2338 \r\nQ 2531 2678 2651 2914 \r\nQ 2772 3150 2772 3378 \r\nQ 2772 3750 2511 3984 \r\nQ 2250 4219 1831 4219 \r\nQ 1534 4219 1204 4116 \r\nQ 875 4013 500 3803 \r\nL 500 4441 \r\nQ 881 4594 1212 4672 \r\nQ 1544 4750 1819 4750 \r\nQ 2544 4750 2975 4387 \r\nQ 3406 4025 3406 3419 \r\nQ 3406 3131 3298 2873 \r\nQ 3191 2616 2906 2266 \r\nQ 2828 2175 2409 1742 \r\nQ 1991 1309 1228 531 \r\nz\r\n\" id=\"DejaVuSans-32\" transform=\"scale(0.015625)\"/>\r\n       </defs>\r\n       <use xlink:href=\"#DejaVuSans-31\"/>\r\n       <use x=\"63.623047\" xlink:href=\"#DejaVuSans-32\"/>\r\n       <use x=\"127.246094\" xlink:href=\"#DejaVuSans-30\"/>\r\n      </g>\r\n     </g>\r\n    </g>\r\n    <g id=\"ytick_3\">\r\n     <g id=\"line2d_10\">\r\n      <g>\r\n       <use style=\"stroke:#000000;stroke-width:0.8;\" x=\"46.965625\" xlink:href=\"#m4b763181ef\" y=\"154.078343\"/>\r\n      </g>\r\n     </g>\r\n     <g id=\"text_7\">\r\n      <!-- 130 -->\r\n      <g transform=\"translate(20.878125 157.877562)scale(0.1 -0.1)\">\r\n       <defs>\r\n        <path d=\"M 2597 2516 \r\nQ 3050 2419 3304 2112 \r\nQ 3559 1806 3559 1356 \r\nQ 3559 666 3084 287 \r\nQ 2609 -91 1734 -91 \r\nQ 1441 -91 1130 -33 \r\nQ 819 25 488 141 \r\nL 488 750 \r\nQ 750 597 1062 519 \r\nQ 1375 441 1716 441 \r\nQ 2309 441 2620 675 \r\nQ 2931 909 2931 1356 \r\nQ 2931 1769 2642 2001 \r\nQ 2353 2234 1838 2234 \r\nL 1294 2234 \r\nL 1294 2753 \r\nL 1863 2753 \r\nQ 2328 2753 2575 2939 \r\nQ 2822 3125 2822 3475 \r\nQ 2822 3834 2567 4026 \r\nQ 2313 4219 1838 4219 \r\nQ 1578 4219 1281 4162 \r\nQ 984 4106 628 3988 \r\nL 628 4550 \r\nQ 988 4650 1302 4700 \r\nQ 1616 4750 1894 4750 \r\nQ 2613 4750 3031 4423 \r\nQ 3450 4097 3450 3541 \r\nQ 3450 3153 3228 2886 \r\nQ 3006 2619 2597 2516 \r\nz\r\n\" id=\"DejaVuSans-33\" transform=\"scale(0.015625)\"/>\r\n       </defs>\r\n       <use xlink:href=\"#DejaVuSans-31\"/>\r\n       <use x=\"63.623047\" xlink:href=\"#DejaVuSans-33\"/>\r\n       <use x=\"127.246094\" xlink:href=\"#DejaVuSans-30\"/>\r\n      </g>\r\n     </g>\r\n    </g>\r\n    <g id=\"ytick_4\">\r\n     <g id=\"line2d_11\">\r\n      <g>\r\n       <use style=\"stroke:#000000;stroke-width:0.8;\" x=\"46.965625\" xlink:href=\"#m4b763181ef\" y=\"129.056479\"/>\r\n      </g>\r\n     </g>\r\n     <g id=\"text_8\">\r\n      <!-- 140 -->\r\n      <g transform=\"translate(20.878125 132.855697)scale(0.1 -0.1)\">\r\n       <defs>\r\n        <path d=\"M 2419 4116 \r\nL 825 1625 \r\nL 2419 1625 \r\nL 2419 4116 \r\nz\r\nM 2253 4666 \r\nL 3047 4666 \r\nL 3047 1625 \r\nL 3713 1625 \r\nL 3713 1100 \r\nL 3047 1100 \r\nL 3047 0 \r\nL 2419 0 \r\nL 2419 1100 \r\nL 313 1100 \r\nL 313 1709 \r\nL 2253 4666 \r\nz\r\n\" id=\"DejaVuSans-34\" transform=\"scale(0.015625)\"/>\r\n       </defs>\r\n       <use xlink:href=\"#DejaVuSans-31\"/>\r\n       <use x=\"63.623047\" xlink:href=\"#DejaVuSans-34\"/>\r\n       <use x=\"127.246094\" xlink:href=\"#DejaVuSans-30\"/>\r\n      </g>\r\n     </g>\r\n    </g>\r\n    <g id=\"ytick_5\">\r\n     <g id=\"line2d_12\">\r\n      <g>\r\n       <use style=\"stroke:#000000;stroke-width:0.8;\" x=\"46.965625\" xlink:href=\"#m4b763181ef\" y=\"104.034614\"/>\r\n      </g>\r\n     </g>\r\n     <g id=\"text_9\">\r\n      <!-- 150 -->\r\n      <g transform=\"translate(20.878125 107.833833)scale(0.1 -0.1)\">\r\n       <defs>\r\n        <path d=\"M 691 4666 \r\nL 3169 4666 \r\nL 3169 4134 \r\nL 1269 4134 \r\nL 1269 2991 \r\nQ 1406 3038 1543 3061 \r\nQ 1681 3084 1819 3084 \r\nQ 2600 3084 3056 2656 \r\nQ 3513 2228 3513 1497 \r\nQ 3513 744 3044 326 \r\nQ 2575 -91 1722 -91 \r\nQ 1428 -91 1123 -41 \r\nQ 819 9 494 109 \r\nL 494 744 \r\nQ 775 591 1075 516 \r\nQ 1375 441 1709 441 \r\nQ 2250 441 2565 725 \r\nQ 2881 1009 2881 1497 \r\nQ 2881 1984 2565 2268 \r\nQ 2250 2553 1709 2553 \r\nQ 1456 2553 1204 2497 \r\nQ 953 2441 691 2322 \r\nL 691 4666 \r\nz\r\n\" id=\"DejaVuSans-35\" transform=\"scale(0.015625)\"/>\r\n       </defs>\r\n       <use xlink:href=\"#DejaVuSans-31\"/>\r\n       <use x=\"63.623047\" xlink:href=\"#DejaVuSans-35\"/>\r\n       <use x=\"127.246094\" xlink:href=\"#DejaVuSans-30\"/>\r\n      </g>\r\n     </g>\r\n    </g>\r\n    <g id=\"ytick_6\">\r\n     <g id=\"line2d_13\">\r\n      <g>\r\n       <use style=\"stroke:#000000;stroke-width:0.8;\" x=\"46.965625\" xlink:href=\"#m4b763181ef\" y=\"79.01275\"/>\r\n      </g>\r\n     </g>\r\n     <g id=\"text_10\">\r\n      <!-- 160 -->\r\n      <g transform=\"translate(20.878125 82.811969)scale(0.1 -0.1)\">\r\n       <defs>\r\n        <path d=\"M 2113 2584 \r\nQ 1688 2584 1439 2293 \r\nQ 1191 2003 1191 1497 \r\nQ 1191 994 1439 701 \r\nQ 1688 409 2113 409 \r\nQ 2538 409 2786 701 \r\nQ 3034 994 3034 1497 \r\nQ 3034 2003 2786 2293 \r\nQ 2538 2584 2113 2584 \r\nz\r\nM 3366 4563 \r\nL 3366 3988 \r\nQ 3128 4100 2886 4159 \r\nQ 2644 4219 2406 4219 \r\nQ 1781 4219 1451 3797 \r\nQ 1122 3375 1075 2522 \r\nQ 1259 2794 1537 2939 \r\nQ 1816 3084 2150 3084 \r\nQ 2853 3084 3261 2657 \r\nQ 3669 2231 3669 1497 \r\nQ 3669 778 3244 343 \r\nQ 2819 -91 2113 -91 \r\nQ 1303 -91 875 529 \r\nQ 447 1150 447 2328 \r\nQ 447 3434 972 4092 \r\nQ 1497 4750 2381 4750 \r\nQ 2619 4750 2861 4703 \r\nQ 3103 4656 3366 4563 \r\nz\r\n\" id=\"DejaVuSans-36\" transform=\"scale(0.015625)\"/>\r\n       </defs>\r\n       <use xlink:href=\"#DejaVuSans-31\"/>\r\n       <use x=\"63.623047\" xlink:href=\"#DejaVuSans-36\"/>\r\n       <use x=\"127.246094\" xlink:href=\"#DejaVuSans-30\"/>\r\n      </g>\r\n     </g>\r\n    </g>\r\n    <g id=\"ytick_7\">\r\n     <g id=\"line2d_14\">\r\n      <g>\r\n       <use style=\"stroke:#000000;stroke-width:0.8;\" x=\"46.965625\" xlink:href=\"#m4b763181ef\" y=\"53.990886\"/>\r\n      </g>\r\n     </g>\r\n     <g id=\"text_11\">\r\n      <!-- 170 -->\r\n      <g transform=\"translate(20.878125 57.790105)scale(0.1 -0.1)\">\r\n       <defs>\r\n        <path d=\"M 525 4666 \r\nL 3525 4666 \r\nL 3525 4397 \r\nL 1831 0 \r\nL 1172 0 \r\nL 2766 4134 \r\nL 525 4134 \r\nL 525 4666 \r\nz\r\n\" id=\"DejaVuSans-37\" transform=\"scale(0.015625)\"/>\r\n       </defs>\r\n       <use xlink:href=\"#DejaVuSans-31\"/>\r\n       <use x=\"63.623047\" xlink:href=\"#DejaVuSans-37\"/>\r\n       <use x=\"127.246094\" xlink:href=\"#DejaVuSans-30\"/>\r\n      </g>\r\n     </g>\r\n    </g>\r\n    <g id=\"ytick_8\">\r\n     <g id=\"line2d_15\">\r\n      <g>\r\n       <use style=\"stroke:#000000;stroke-width:0.8;\" x=\"46.965625\" xlink:href=\"#m4b763181ef\" y=\"28.969022\"/>\r\n      </g>\r\n     </g>\r\n     <g id=\"text_12\">\r\n      <!-- 180 -->\r\n      <g transform=\"translate(20.878125 32.768241)scale(0.1 -0.1)\">\r\n       <defs>\r\n        <path d=\"M 2034 2216 \r\nQ 1584 2216 1326 1975 \r\nQ 1069 1734 1069 1313 \r\nQ 1069 891 1326 650 \r\nQ 1584 409 2034 409 \r\nQ 2484 409 2743 651 \r\nQ 3003 894 3003 1313 \r\nQ 3003 1734 2745 1975 \r\nQ 2488 2216 2034 2216 \r\nz\r\nM 1403 2484 \r\nQ 997 2584 770 2862 \r\nQ 544 3141 544 3541 \r\nQ 544 4100 942 4425 \r\nQ 1341 4750 2034 4750 \r\nQ 2731 4750 3128 4425 \r\nQ 3525 4100 3525 3541 \r\nQ 3525 3141 3298 2862 \r\nQ 3072 2584 2669 2484 \r\nQ 3125 2378 3379 2068 \r\nQ 3634 1759 3634 1313 \r\nQ 3634 634 3220 271 \r\nQ 2806 -91 2034 -91 \r\nQ 1263 -91 848 271 \r\nQ 434 634 434 1313 \r\nQ 434 1759 690 2068 \r\nQ 947 2378 1403 2484 \r\nz\r\nM 1172 3481 \r\nQ 1172 3119 1398 2916 \r\nQ 1625 2713 2034 2713 \r\nQ 2441 2713 2670 2916 \r\nQ 2900 3119 2900 3481 \r\nQ 2900 3844 2670 4047 \r\nQ 2441 4250 2034 4250 \r\nQ 1625 4250 1398 4047 \r\nQ 1172 3844 1172 3481 \r\nz\r\n\" id=\"DejaVuSans-38\" transform=\"scale(0.015625)\"/>\r\n       </defs>\r\n       <use xlink:href=\"#DejaVuSans-31\"/>\r\n       <use x=\"63.623047\" xlink:href=\"#DejaVuSans-38\"/>\r\n       <use x=\"127.246094\" xlink:href=\"#DejaVuSans-30\"/>\r\n      </g>\r\n     </g>\r\n    </g>\r\n    <g id=\"text_13\">\r\n     <!-- Yield -->\r\n     <g transform=\"translate(14.798438 127.821562)rotate(-90)scale(0.1 -0.1)\">\r\n      <defs>\r\n       <path d=\"M -13 4666 \r\nL 666 4666 \r\nL 1959 2747 \r\nL 3244 4666 \r\nL 3922 4666 \r\nL 2272 2222 \r\nL 2272 0 \r\nL 1638 0 \r\nL 1638 2222 \r\nL -13 4666 \r\nz\r\n\" id=\"DejaVuSans-59\" transform=\"scale(0.015625)\"/>\r\n       <path d=\"M 603 3500 \r\nL 1178 3500 \r\nL 1178 0 \r\nL 603 0 \r\nL 603 3500 \r\nz\r\nM 603 4863 \r\nL 1178 4863 \r\nL 1178 4134 \r\nL 603 4134 \r\nL 603 4863 \r\nz\r\n\" id=\"DejaVuSans-69\" transform=\"scale(0.015625)\"/>\r\n       <path d=\"M 603 4863 \r\nL 1178 4863 \r\nL 1178 0 \r\nL 603 0 \r\nL 603 4863 \r\nz\r\n\" id=\"DejaVuSans-6c\" transform=\"scale(0.015625)\"/>\r\n       <path d=\"M 2906 2969 \r\nL 2906 4863 \r\nL 3481 4863 \r\nL 3481 0 \r\nL 2906 0 \r\nL 2906 525 \r\nQ 2725 213 2448 61 \r\nQ 2172 -91 1784 -91 \r\nQ 1150 -91 751 415 \r\nQ 353 922 353 1747 \r\nQ 353 2572 751 3078 \r\nQ 1150 3584 1784 3584 \r\nQ 2172 3584 2448 3432 \r\nQ 2725 3281 2906 2969 \r\nz\r\nM 947 1747 \r\nQ 947 1113 1208 752 \r\nQ 1469 391 1925 391 \r\nQ 2381 391 2643 752 \r\nQ 2906 1113 2906 1747 \r\nQ 2906 2381 2643 2742 \r\nQ 2381 3103 1925 3103 \r\nQ 1469 3103 1208 2742 \r\nQ 947 2381 947 1747 \r\nz\r\n\" id=\"DejaVuSans-64\" transform=\"scale(0.015625)\"/>\r\n      </defs>\r\n      <use xlink:href=\"#DejaVuSans-59\"/>\r\n      <use x=\"57.458984\" xlink:href=\"#DejaVuSans-69\"/>\r\n      <use x=\"85.242188\" xlink:href=\"#DejaVuSans-65\"/>\r\n      <use x=\"146.765625\" xlink:href=\"#DejaVuSans-6c\"/>\r\n      <use x=\"174.548828\" xlink:href=\"#DejaVuSans-64\"/>\r\n     </g>\r\n    </g>\r\n   </g>\r\n   <g id=\"PathCollection_2\">\r\n    <defs>\r\n     <path d=\"M 0 3.383948 \r\nC 0.897434 3.383948 1.758231 3.027394 2.392813 2.392813 \r\nC 3.027394 1.758231 3.383948 0.897434 3.383948 0 \r\nC 3.383948 -0.897434 3.027394 -1.758231 2.392813 -2.392813 \r\nC 1.758231 -3.027394 0.897434 -3.383948 0 -3.383948 \r\nC -0.897434 -3.383948 -1.758231 -3.027394 -2.392813 -2.392813 \r\nC -3.027394 -1.758231 -3.383948 -0.897434 -3.383948 0 \r\nC -3.383948 0.897434 -3.027394 1.758231 -2.392813 2.392813 \r\nC -1.758231 3.027394 -0.897434 3.383948 0 3.383948 \r\nz\r\n\" id=\"m027ea05a42\" style=\"stroke:#ff7f0e;stroke-width:2.025;\"/>\r\n    </defs>\r\n    <g clip-path=\"url(#p815fb004f0)\">\r\n     <use style=\"fill:#ff7f0e;stroke:#ff7f0e;stroke-width:2.025;\" x=\"105.555625\" xlink:href=\"#m027ea05a42\" y=\"128.430932\"/>\r\n     <use style=\"fill:#ff7f0e;stroke:#ff7f0e;stroke-width:2.025;\" x=\"217.155625\" xlink:href=\"#m027ea05a42\" y=\"95.276962\"/>\r\n     <use style=\"fill:#ff7f0e;stroke:#ff7f0e;stroke-width:2.025;\" x=\"328.755625\" xlink:href=\"#m027ea05a42\" y=\"119.67328\"/>\r\n    </g>\r\n   </g>\r\n   <g id=\"line2d_16\">\r\n    <path clip-path=\"url(#p815fb004f0)\" d=\"M 105.555625 128.430932 \r\nL 217.155625 95.276962 \r\nL 328.755625 119.67328 \r\n\" style=\"fill:none;stroke:#ff7f0e;stroke-linecap:square;stroke-width:2.7;\"/>\r\n   </g>\r\n   <g id=\"line2d_17\">\r\n    <path clip-path=\"url(#p815fb004f0)\" d=\"M 105.555625 169.717008 \r\nL 105.555625 74.008377 \r\n\" style=\"fill:none;stroke:#ff7f0e;stroke-linecap:square;stroke-width:2;\"/>\r\n   </g>\r\n   <g id=\"line2d_18\">\r\n    <path clip-path=\"url(#p815fb004f0)\" d=\"M 217.155625 164.087089 \r\nL 217.155625 26.466835 \r\n\" style=\"fill:none;stroke:#ff7f0e;stroke-linecap:square;stroke-width:2;\"/>\r\n   </g>\r\n   <g id=\"line2d_19\">\r\n    <path clip-path=\"url(#p815fb004f0)\" d=\"M 328.755625 142.818504 \r\nL 328.755625 93.400322 \r\n\" style=\"fill:none;stroke:#ff7f0e;stroke-linecap:square;stroke-width:2;\"/>\r\n   </g>\r\n   <g id=\"patch_3\">\r\n    <path d=\"M 46.965625 224.64 \r\nL 46.965625 7.2 \r\n\" style=\"fill:none;stroke:#000000;stroke-linecap:square;stroke-linejoin:miter;stroke-width:0.8;\"/>\r\n   </g>\r\n   <g id=\"patch_4\">\r\n    <path d=\"M 381.765625 224.64 \r\nL 381.765625 7.2 \r\n\" style=\"fill:none;stroke:#000000;stroke-linecap:square;stroke-linejoin:miter;stroke-width:0.8;\"/>\r\n   </g>\r\n   <g id=\"patch_5\">\r\n    <path d=\"M 46.965625 224.64 \r\nL 381.765625 224.64 \r\n\" style=\"fill:none;stroke:#000000;stroke-linecap:square;stroke-linejoin:miter;stroke-width:0.8;\"/>\r\n   </g>\r\n   <g id=\"patch_6\">\r\n    <path d=\"M 46.965625 7.2 \r\nL 381.765625 7.2 \r\n\" style=\"fill:none;stroke:#000000;stroke-linecap:square;stroke-linejoin:miter;stroke-width:0.8;\"/>\r\n   </g>\r\n   <g id=\"legend_1\">\r\n    <g id=\"patch_7\">\r\n     <path d=\"M 53.965625 59.234375 \r\nL 124.471875 59.234375 \r\nQ 126.471875 59.234375 126.471875 57.234375 \r\nL 126.471875 14.2 \r\nQ 126.471875 12.2 124.471875 12.2 \r\nL 53.965625 12.2 \r\nQ 51.965625 12.2 51.965625 14.2 \r\nL 51.965625 57.234375 \r\nQ 51.965625 59.234375 53.965625 59.234375 \r\nz\r\n\" style=\"fill:#ffffff;opacity:0.8;stroke:#cccccc;stroke-linejoin:miter;\"/>\r\n    </g>\r\n    <g id=\"text_14\">\r\n     <!-- Blend -->\r\n     <g transform=\"translate(74.979687 23.798437)scale(0.1 -0.1)\">\r\n      <defs>\r\n       <path d=\"M 1259 2228 \r\nL 1259 519 \r\nL 2272 519 \r\nQ 2781 519 3026 730 \r\nQ 3272 941 3272 1375 \r\nQ 3272 1813 3026 2020 \r\nQ 2781 2228 2272 2228 \r\nL 1259 2228 \r\nz\r\nM 1259 4147 \r\nL 1259 2741 \r\nL 2194 2741 \r\nQ 2656 2741 2882 2914 \r\nQ 3109 3088 3109 3444 \r\nQ 3109 3797 2882 3972 \r\nQ 2656 4147 2194 4147 \r\nL 1259 4147 \r\nz\r\nM 628 4666 \r\nL 2241 4666 \r\nQ 2963 4666 3353 4366 \r\nQ 3744 4066 3744 3513 \r\nQ 3744 3084 3544 2831 \r\nQ 3344 2578 2956 2516 \r\nQ 3422 2416 3680 2098 \r\nQ 3938 1781 3938 1306 \r\nQ 3938 681 3513 340 \r\nQ 3088 0 2303 0 \r\nL 628 0 \r\nL 628 4666 \r\nz\r\n\" id=\"DejaVuSans-42\" transform=\"scale(0.015625)\"/>\r\n      </defs>\r\n      <use xlink:href=\"#DejaVuSans-42\"/>\r\n      <use x=\"68.603516\" xlink:href=\"#DejaVuSans-6c\"/>\r\n      <use x=\"96.386719\" xlink:href=\"#DejaVuSans-65\"/>\r\n      <use x=\"157.910156\" xlink:href=\"#DejaVuSans-6e\"/>\r\n      <use x=\"221.289062\" xlink:href=\"#DejaVuSans-64\"/>\r\n     </g>\r\n    </g>\r\n    <g id=\"PathCollection_3\">\r\n     <g>\r\n      <use style=\"fill:#1f77b4;stroke:#1f77b4;stroke-width:2.025;\" x=\"65.965625\" xlink:href=\"#mdf5ba02fa7\" y=\"35.851562\"/>\r\n     </g>\r\n    </g>\r\n    <g id=\"text_15\">\r\n     <!-- Blend X -->\r\n     <g transform=\"translate(83.965625 38.476562)scale(0.1 -0.1)\">\r\n      <defs>\r\n       <path id=\"DejaVuSans-20\" transform=\"scale(0.015625)\"/>\r\n       <path d=\"M 403 4666 \r\nL 1081 4666 \r\nL 2241 2931 \r\nL 3406 4666 \r\nL 4084 4666 \r\nL 2584 2425 \r\nL 4184 0 \r\nL 3506 0 \r\nL 2194 1984 \r\nL 872 0 \r\nL 191 0 \r\nL 1856 2491 \r\nL 403 4666 \r\nz\r\n\" id=\"DejaVuSans-58\" transform=\"scale(0.015625)\"/>\r\n      </defs>\r\n      <use xlink:href=\"#DejaVuSans-42\"/>\r\n      <use x=\"68.603516\" xlink:href=\"#DejaVuSans-6c\"/>\r\n      <use x=\"96.386719\" xlink:href=\"#DejaVuSans-65\"/>\r\n      <use x=\"157.910156\" xlink:href=\"#DejaVuSans-6e\"/>\r\n      <use x=\"221.289062\" xlink:href=\"#DejaVuSans-64\"/>\r\n      <use x=\"284.765625\" xlink:href=\"#DejaVuSans-20\"/>\r\n      <use x=\"316.552734\" xlink:href=\"#DejaVuSans-58\"/>\r\n     </g>\r\n    </g>\r\n    <g id=\"PathCollection_4\">\r\n     <g>\r\n      <use style=\"fill:#ff7f0e;stroke:#ff7f0e;stroke-width:2.025;\" x=\"65.965625\" xlink:href=\"#m027ea05a42\" y=\"50.529687\"/>\r\n     </g>\r\n    </g>\r\n    <g id=\"text_16\">\r\n     <!-- Blend Y -->\r\n     <g transform=\"translate(83.965625 53.154687)scale(0.1 -0.1)\">\r\n      <use xlink:href=\"#DejaVuSans-42\"/>\r\n      <use x=\"68.603516\" xlink:href=\"#DejaVuSans-6c\"/>\r\n      <use x=\"96.386719\" xlink:href=\"#DejaVuSans-65\"/>\r\n      <use x=\"157.910156\" xlink:href=\"#DejaVuSans-6e\"/>\r\n      <use x=\"221.289062\" xlink:href=\"#DejaVuSans-64\"/>\r\n      <use x=\"284.765625\" xlink:href=\"#DejaVuSans-20\"/>\r\n      <use x=\"316.552734\" xlink:href=\"#DejaVuSans-59\"/>\r\n     </g>\r\n    </g>\r\n   </g>\r\n  </g>\r\n </g>\r\n <defs>\r\n  <clipPath id=\"p815fb004f0\">\r\n   <rect height=\"217.44\" width=\"334.8\" x=\"46.965625\" y=\"7.2\"/>\r\n  </clipPath>\r\n </defs>\r\n</svg>\r\n",
      "image/png": "[encoded data removed]"
     },
     "metadata": {
      "needs_background": "light"
     }
    }
   ],
   "metadata": {}
  },
  {
   "cell_type": "code",
   "execution_count": 74,
   "source": [
    "data2.anova(\r\n",
    "    dv=\"Yield\",\r\n",
    "    between=[\"Crop\", \"Blend\"],\r\n",
    "    detailed=True,\r\n",
    ").round(3)"
   ],
   "outputs": [
    {
     "output_type": "execute_result",
     "data": {
      "text/plain": [
       "         Source        SS  DF        MS      F  p-unc    np2\n",
       "0          Crop  2736.583   2  1368.292  2.525  0.108  0.219\n",
       "1         Blend     2.042   1     2.042  0.004  0.952  0.000\n",
       "2  Crop * Blend  2360.083   2  1180.042  2.178  0.142  0.195\n",
       "3      Residual  9753.250  18   541.847    NaN    NaN    NaN"
      ],
      "text/html": [
       "<div>\n",
       "<style scoped>\n",
       "    .dataframe tbody tr th:only-of-type {\n",
       "        vertical-align: middle;\n",
       "    }\n",
       "\n",
       "    .dataframe tbody tr th {\n",
       "        vertical-align: top;\n",
       "    }\n",
       "\n",
       "    .dataframe thead th {\n",
       "        text-align: right;\n",
       "    }\n",
       "</style>\n",
       "<table border=\"1\" class=\"dataframe\">\n",
       "  <thead>\n",
       "    <tr style=\"text-align: right;\">\n",
       "      <th></th>\n",
       "      <th>Source</th>\n",
       "      <th>SS</th>\n",
       "      <th>DF</th>\n",
       "      <th>MS</th>\n",
       "      <th>F</th>\n",
       "      <th>p-unc</th>\n",
       "      <th>np2</th>\n",
       "    </tr>\n",
       "  </thead>\n",
       "  <tbody>\n",
       "    <tr>\n",
       "      <th>0</th>\n",
       "      <td>Crop</td>\n",
       "      <td>2736.583</td>\n",
       "      <td>2</td>\n",
       "      <td>1368.292</td>\n",
       "      <td>2.525</td>\n",
       "      <td>0.108</td>\n",
       "      <td>0.219</td>\n",
       "    </tr>\n",
       "    <tr>\n",
       "      <th>1</th>\n",
       "      <td>Blend</td>\n",
       "      <td>2.042</td>\n",
       "      <td>1</td>\n",
       "      <td>2.042</td>\n",
       "      <td>0.004</td>\n",
       "      <td>0.952</td>\n",
       "      <td>0.000</td>\n",
       "    </tr>\n",
       "    <tr>\n",
       "      <th>2</th>\n",
       "      <td>Crop * Blend</td>\n",
       "      <td>2360.083</td>\n",
       "      <td>2</td>\n",
       "      <td>1180.042</td>\n",
       "      <td>2.178</td>\n",
       "      <td>0.142</td>\n",
       "      <td>0.195</td>\n",
       "    </tr>\n",
       "    <tr>\n",
       "      <th>3</th>\n",
       "      <td>Residual</td>\n",
       "      <td>9753.250</td>\n",
       "      <td>18</td>\n",
       "      <td>541.847</td>\n",
       "      <td>NaN</td>\n",
       "      <td>NaN</td>\n",
       "      <td>NaN</td>\n",
       "    </tr>\n",
       "  </tbody>\n",
       "</table>\n",
       "</div>"
      ]
     },
     "metadata": {},
     "execution_count": 74
    }
   ],
   "metadata": {}
  },
  {
   "cell_type": "code",
   "execution_count": 61,
   "source": [
    "grand_mean2 = data2['Yield'].mean()\r\n",
    "print(f\"grand mean for the two-way ANOVA = {grand_mean2}\")"
   ],
   "outputs": [
    {
     "output_type": "stream",
     "name": "stdout",
     "text": [
      "grand mean for the two-way ANOVA = 145.54166666666666\n"
     ]
    }
   ],
   "metadata": {}
  },
  {
   "cell_type": "code",
   "execution_count": 62,
   "source": [
    "data2_crop = data2.groupby('Crop').describe().loc[:, ('Yield', ['mean', 'count'])].droplevel(level=0, axis=1)\r\n",
    "data2_crop"
   ],
   "outputs": [
    {
     "output_type": "execute_result",
     "data": {
      "text/plain": [
       "          mean  count\n",
       "Crop                 \n",
       "Corn   147.750    8.0\n",
       "Soy    157.375    8.0\n",
       "Wheat  131.500    8.0"
      ],
      "text/html": [
       "<div>\n",
       "<style scoped>\n",
       "    .dataframe tbody tr th:only-of-type {\n",
       "        vertical-align: middle;\n",
       "    }\n",
       "\n",
       "    .dataframe tbody tr th {\n",
       "        vertical-align: top;\n",
       "    }\n",
       "\n",
       "    .dataframe thead th {\n",
       "        text-align: right;\n",
       "    }\n",
       "</style>\n",
       "<table border=\"1\" class=\"dataframe\">\n",
       "  <thead>\n",
       "    <tr style=\"text-align: right;\">\n",
       "      <th></th>\n",
       "      <th>mean</th>\n",
       "      <th>count</th>\n",
       "    </tr>\n",
       "    <tr>\n",
       "      <th>Crop</th>\n",
       "      <th></th>\n",
       "      <th></th>\n",
       "    </tr>\n",
       "  </thead>\n",
       "  <tbody>\n",
       "    <tr>\n",
       "      <th>Corn</th>\n",
       "      <td>147.750</td>\n",
       "      <td>8.0</td>\n",
       "    </tr>\n",
       "    <tr>\n",
       "      <th>Soy</th>\n",
       "      <td>157.375</td>\n",
       "      <td>8.0</td>\n",
       "    </tr>\n",
       "    <tr>\n",
       "      <th>Wheat</th>\n",
       "      <td>131.500</td>\n",
       "      <td>8.0</td>\n",
       "    </tr>\n",
       "  </tbody>\n",
       "</table>\n",
       "</div>"
      ]
     },
     "metadata": {},
     "execution_count": 62
    }
   ],
   "metadata": {}
  },
  {
   "cell_type": "markdown",
   "source": [
    "We first calculate the sum of squares for the 1st factor 'Crop'. For each Crop, we calculate the **difference of its group mean to the grand mean and square it, and add it up for all the individual values**.\r\n",
    "For example, the Yield mean in the Corn, Soy and Wheat Corn groups are respectively 147.75, 157.375 and 131.5, and the Yield grand mean equals 145.5, and there are 8 values un each groups."
   ],
   "metadata": {}
  },
  {
   "cell_type": "code",
   "execution_count": 76,
   "source": [
    "SS_crop = 8 * (147.75 - grand_mean2)**2 + 8 * (157.375 - grand_mean2)**2 + 8 * (131.5 - grand_mean2)**2\r\n",
    "print(f\"SS for factor 1 (Crop) = {SS_crop:.3f}\") # corresponds to the SS on the 1st line of the ANOVA table\r\n",
    "\r\n",
    "DF_crop = data2['Crop'].nunique() - 1\r\n",
    "print(f\"Degree of freedom for Crop factor: DF_crop = {DF_crop}\")"
   ],
   "outputs": [
    {
     "output_type": "stream",
     "name": "stdout",
     "text": [
      "SS for factor 1 (Crop) = 2736.583\n",
      "Degree of freedom for Crop factor: DF_crop = 2\n"
     ]
    }
   ],
   "metadata": {}
  },
  {
   "cell_type": "code",
   "execution_count": 65,
   "source": [
    "# we can run that directly in the data2_crop dataframe\r\n",
    "data2_crop['SS_crop'] = data2_crop['count'] * (data2_crop['mean'] - grand_mean2)**2\r\n",
    "data2_crop.loc['sum'] = data2_crop.sum(axis=0)\r\n",
    "data2_crop"
   ],
   "outputs": [
    {
     "output_type": "execute_result",
     "data": {
      "text/plain": [
       "          mean  count      SS_crop\n",
       "Crop                              \n",
       "Corn   147.750    8.0    39.013889\n",
       "Soy    157.375    8.0  1120.222222\n",
       "Wheat  131.500    8.0  1577.347222\n",
       "sum    436.625   24.0  2736.583333"
      ],
      "text/html": [
       "<div>\n",
       "<style scoped>\n",
       "    .dataframe tbody tr th:only-of-type {\n",
       "        vertical-align: middle;\n",
       "    }\n",
       "\n",
       "    .dataframe tbody tr th {\n",
       "        vertical-align: top;\n",
       "    }\n",
       "\n",
       "    .dataframe thead th {\n",
       "        text-align: right;\n",
       "    }\n",
       "</style>\n",
       "<table border=\"1\" class=\"dataframe\">\n",
       "  <thead>\n",
       "    <tr style=\"text-align: right;\">\n",
       "      <th></th>\n",
       "      <th>mean</th>\n",
       "      <th>count</th>\n",
       "      <th>SS_crop</th>\n",
       "    </tr>\n",
       "    <tr>\n",
       "      <th>Crop</th>\n",
       "      <th></th>\n",
       "      <th></th>\n",
       "      <th></th>\n",
       "    </tr>\n",
       "  </thead>\n",
       "  <tbody>\n",
       "    <tr>\n",
       "      <th>Corn</th>\n",
       "      <td>147.750</td>\n",
       "      <td>8.0</td>\n",
       "      <td>39.013889</td>\n",
       "    </tr>\n",
       "    <tr>\n",
       "      <th>Soy</th>\n",
       "      <td>157.375</td>\n",
       "      <td>8.0</td>\n",
       "      <td>1120.222222</td>\n",
       "    </tr>\n",
       "    <tr>\n",
       "      <th>Wheat</th>\n",
       "      <td>131.500</td>\n",
       "      <td>8.0</td>\n",
       "      <td>1577.347222</td>\n",
       "    </tr>\n",
       "    <tr>\n",
       "      <th>sum</th>\n",
       "      <td>436.625</td>\n",
       "      <td>24.0</td>\n",
       "      <td>2736.583333</td>\n",
       "    </tr>\n",
       "  </tbody>\n",
       "</table>\n",
       "</div>"
      ]
     },
     "metadata": {},
     "execution_count": 65
    }
   ],
   "metadata": {}
  },
  {
   "cell_type": "markdown",
   "source": [
    "For the sum of squares for the 2nd factor 'Blend', we use a similar approach."
   ],
   "metadata": {}
  },
  {
   "cell_type": "code",
   "execution_count": 66,
   "source": [
    "data2_blend = data2.groupby('Blend').describe().loc[:, ('Yield', ['mean', 'count'])].droplevel(level=0, axis=1)\r\n",
    "data2_blend['SS_blend'] = data2_blend['count'] * (data2_blend['mean'] - grand_mean2)**2\r\n",
    "data2_blend.loc['sum'] = data2_blend.sum(axis=0)\r\n",
    "data2_blend"
   ],
   "outputs": [
    {
     "output_type": "execute_result",
     "data": {
      "text/plain": [
       "               mean  count  SS_blend\n",
       "Blend                               \n",
       "Blend X  145.250000   12.0  1.020833\n",
       "Blend Y  145.833333   12.0  1.020833\n",
       "sum      291.083333   24.0  2.041667"
      ],
      "text/html": [
       "<div>\n",
       "<style scoped>\n",
       "    .dataframe tbody tr th:only-of-type {\n",
       "        vertical-align: middle;\n",
       "    }\n",
       "\n",
       "    .dataframe tbody tr th {\n",
       "        vertical-align: top;\n",
       "    }\n",
       "\n",
       "    .dataframe thead th {\n",
       "        text-align: right;\n",
       "    }\n",
       "</style>\n",
       "<table border=\"1\" class=\"dataframe\">\n",
       "  <thead>\n",
       "    <tr style=\"text-align: right;\">\n",
       "      <th></th>\n",
       "      <th>mean</th>\n",
       "      <th>count</th>\n",
       "      <th>SS_blend</th>\n",
       "    </tr>\n",
       "    <tr>\n",
       "      <th>Blend</th>\n",
       "      <th></th>\n",
       "      <th></th>\n",
       "      <th></th>\n",
       "    </tr>\n",
       "  </thead>\n",
       "  <tbody>\n",
       "    <tr>\n",
       "      <th>Blend X</th>\n",
       "      <td>145.250000</td>\n",
       "      <td>12.0</td>\n",
       "      <td>1.020833</td>\n",
       "    </tr>\n",
       "    <tr>\n",
       "      <th>Blend Y</th>\n",
       "      <td>145.833333</td>\n",
       "      <td>12.0</td>\n",
       "      <td>1.020833</td>\n",
       "    </tr>\n",
       "    <tr>\n",
       "      <th>sum</th>\n",
       "      <td>291.083333</td>\n",
       "      <td>24.0</td>\n",
       "      <td>2.041667</td>\n",
       "    </tr>\n",
       "  </tbody>\n",
       "</table>\n",
       "</div>"
      ]
     },
     "metadata": {},
     "execution_count": 66
    }
   ],
   "metadata": {}
  },
  {
   "cell_type": "code",
   "execution_count": 77,
   "source": [
    "SS_blend = 12 * (145.25 - grand_mean2)**2 + 12 * (145.833333 - grand_mean2)**2\r\n",
    "print(f\"SS for factor 2 (Blend) = {SS_blend:.3f}\") # corresponds to the SS on the 2nd line of the ANOVA table\r\n",
    "\r\n",
    "DF_blend = data2['Blend'].nunique() - 1\r\n",
    "print(f\"Degree of freedom for Blend factor: DF_blend = {DF_blend}\")"
   ],
   "outputs": [
    {
     "output_type": "stream",
     "name": "stdout",
     "text": [
      "SS for factor 2 (Blend) = 2.042\n",
      "Degree of freedom for Blend factor: DF_blend = 1\n"
     ]
    }
   ],
   "metadata": {}
  },
  {
   "cell_type": "markdown",
   "source": [
    "The approach for residuals/error is similar to the SSW computed for one-way ANOVA, here using the 'Crop' and 'Blend' subgroups and calculating the sum of squares for each individual value. The degree of freedom for the within sum of squares equals **the number of factor 'Crop' times the number of factors 'Blend' times the number of replicates in each combination of factor minus 1**. Of note, _the degrees of freedom for the interaction 'Crop*Blend' is equal to the product of the degrees of freedom for the individual factors._"
   ],
   "metadata": {}
  },
  {
   "cell_type": "code",
   "execution_count": 97,
   "source": [
    "SSW_2 = (\r\n",
    "    data2.groupby(['Crop', 'Blend'])['Yield']\r\n",
    "    .apply(lambda x: (x - x.mean())**2)\r\n",
    ").sum()\r\n",
    "\r\n",
    "print(f\"SS for residuals/within = {SSW_2:.3f}\") # corresponds to the SS on the last line of the ANOVA table\r\n",
    "\r\n",
    "replicates = data2.groupby(['Crop', 'Blend']).count().iloc[0,0]\r\n",
    "DF_W = (DF_crop + 1) * (DF_blend + 1) * (replicates - 1)\r\n",
    "print(f\"Degree of freedom for within: DF_within = {DF_W}\")"
   ],
   "outputs": [
    {
     "output_type": "stream",
     "name": "stdout",
     "text": [
      "SS for residuals/within = 9753.250\n",
      "Degree of freedom for within: DF_within = 18\n"
     ]
    }
   ],
   "metadata": {}
  },
  {
   "cell_type": "markdown",
   "source": [
    "Finally, we calculate the total SS, as the squared difference of each value to the grand mean. It's exactly the same as for one-way ANOVA. _The degrees of freedom total is equal to the total number of values minus 1._"
   ],
   "metadata": {}
  },
  {
   "cell_type": "code",
   "execution_count": 98,
   "source": [
    "SST_2 = (\r\n",
    "    (\r\n",
    "        data2['Yield'] -\r\n",
    "        data2['Yield'].mean() # or grand_mean2\r\n",
    "    )**2\r\n",
    ").sum()\r\n",
    "\r\n",
    "print(f\"SST = {SST_2:.3f}\") # corresponds to the sum of all the SS in the ANOVA table\r\n",
    "\r\n",
    "DF_T = len(data2) - 1\r\n",
    "print(f\"Degree of freedom Total DF_total = {DF_T}\")"
   ],
   "outputs": [
    {
     "output_type": "stream",
     "name": "stdout",
     "text": [
      "SST = 14851.958\n",
      "Degree of freedom Total DF_total = 23\n"
     ]
    }
   ],
   "metadata": {}
  },
  {
   "cell_type": "markdown",
   "source": [
    "We then complete the ANOVA table and compute the F ratio for each factor and interaction as in one-way ANOVA, first by completing the values for the interaction or 'both factors' row, knowing that the SS sum up together as the degrees of freedom:\r\n",
    "\r\n",
    "| Source of variation | Sum squares | DF |  MS    | F ratio | P value |\r\n",
    "|:-------------------:|:----------- | -- | ------ | ------- | ------- |\r\n",
    "|    Factor 1 (Crop)  |   2736.58   |  2 | 1368.3 |  2.525  |  0.108  | \r\n",
    "| \\+ Factor 2 (Blend) |      2.04   |  1 |    2.0 |  0.004  |  0.952  |\r\n",
    "| \\+ both factors     |   2360.08   |  2 | 1180.0 |  2.178  |  0.142  |\r\n",
    "| \\+ Within (error)   |   9753.25   | 18 |  541.8 |         |         |\r\n",
    "| \\= Total            |  14851.96   | 23 |        |         |         |"
   ],
   "metadata": {}
  },
  {
   "cell_type": "code",
   "execution_count": 99,
   "source": [
    "SSB_2 = SST_2 - (SS_blend + SS_crop + SSW_2)\r\n",
    "DF_B  = DF_T  - (DF_blend + DF_crop + DF_W )\r\n",
    "\r\n",
    "print(f\"SS for interaction SS_B = {SSB_2:.3f} with {DF_B} degrees of freedom\") # corresponds to the SS Crop*Blend in the ANOVA table"
   ],
   "outputs": [
    {
     "output_type": "stream",
     "name": "stdout",
     "text": [
      "SS for interaction SS_B = 2360.083 with 2 degrees of freedom\n"
     ]
    }
   ],
   "metadata": {}
  },
  {
   "cell_type": "code",
   "execution_count": 102,
   "source": [
    "MS_crop = SS_crop / DF_crop\r\n",
    "MS_blend= SS_blend/ DF_blend\r\n",
    "MS_W2   = SSW_2   / DF_W\r\n",
    "MS_B2   = SSB_2   / DF_B\r\n",
    "\r\n",
    "F_crop  = MS_crop / MS_W2\r\n",
    "F_blend = MS_blend/ MS_W2\r\n",
    "F_B2    = MS_B2   / MS_W2\r\n",
    "\r\n",
    "Pvalue_crop = stats.f.sf(F_crop, DF_crop, DF_W)\r\n",
    "Pvalue_blend= stats.f.sf(F_blend,DF_blend,DF_W)\r\n",
    "Pvalue_B2   = stats.f.sf(F_B2,   DF_B    ,DF_W)\r\n",
    "\r\n",
    "print(f\"*For factor Within, MS = {MS_W2:.2f}\")\r\n",
    "\r\n",
    "print(f\"*For factor Crop, P value = {Pvalue_crop:.3f} with F ratio = {F_crop:.3f}  and MS = {MS_crop:.2f}\")\r\n",
    "print(f\"*For factor Blend, P value = {Pvalue_blend:.3f} with F ratio = {F_blend:.3f} and MS = {MS_blend:.2f}\")\r\n",
    "print(f\"*For factor Crop*Blend, P value = {Pvalue_B2:.3f} with F ratio = {F_B2:.3f} and MS = {MS_B2:.2f}\")"
   ],
   "outputs": [
    {
     "output_type": "stream",
     "name": "stdout",
     "text": [
      "*For factor Within, MS = 541.85\n",
      "*For factor Crop, P value = 0.108 with F ratio = 2.525  and MS = 1368.29\n",
      "*For factor Blend, P value = 0.952 with F ratio = 0.004 and MS = 2.04\n",
      "*For factor Crop*Blend, P value = 0.142 with F ratio = 2.178 and MS = 1180.04\n"
     ]
    }
   ],
   "metadata": {}
  },
  {
   "cell_type": "markdown",
   "source": [
    "### ANCOVA\r\n",
    "\r\n",
    "Analysis of covariance (ANCOVA) is a general linear model which blends ANOVA and regression. It's a model that is equivalent to multiple linear regression when **at least one independent variable is categorical and at least one is continuous**.\r\n",
    "\r\n",
    "ANCOVA evaluates whether the means of a dependent variable (dv) are equal across levels of a categorical independent variable (between) often called a treatment, while statistically controlling for the effects of other continuous variables that are not of primary interest, known as covariates or nuisance variables (covar)."
   ],
   "metadata": {}
  },
  {
   "cell_type": "code",
   "execution_count": 36,
   "source": [
    "data_ancova = pg.read_dataset('ancova')\r\n",
    "data_ancova.head()"
   ],
   "outputs": [
    {
     "output_type": "execute_result",
     "data": {
      "text/plain": [
       "   Scores  Income  BMI Method\n",
       "0      12    17.5   20      A\n",
       "1      39   104.6   20      A\n",
       "2      36    64.7   24      A\n",
       "3      17    47.0   19      A\n",
       "4      25    22.0   21      A"
      ],
      "text/html": [
       "<div>\n",
       "<style scoped>\n",
       "    .dataframe tbody tr th:only-of-type {\n",
       "        vertical-align: middle;\n",
       "    }\n",
       "\n",
       "    .dataframe tbody tr th {\n",
       "        vertical-align: top;\n",
       "    }\n",
       "\n",
       "    .dataframe thead th {\n",
       "        text-align: right;\n",
       "    }\n",
       "</style>\n",
       "<table border=\"1\" class=\"dataframe\">\n",
       "  <thead>\n",
       "    <tr style=\"text-align: right;\">\n",
       "      <th></th>\n",
       "      <th>Scores</th>\n",
       "      <th>Income</th>\n",
       "      <th>BMI</th>\n",
       "      <th>Method</th>\n",
       "    </tr>\n",
       "  </thead>\n",
       "  <tbody>\n",
       "    <tr>\n",
       "      <th>0</th>\n",
       "      <td>12</td>\n",
       "      <td>17.5</td>\n",
       "      <td>20</td>\n",
       "      <td>A</td>\n",
       "    </tr>\n",
       "    <tr>\n",
       "      <th>1</th>\n",
       "      <td>39</td>\n",
       "      <td>104.6</td>\n",
       "      <td>20</td>\n",
       "      <td>A</td>\n",
       "    </tr>\n",
       "    <tr>\n",
       "      <th>2</th>\n",
       "      <td>36</td>\n",
       "      <td>64.7</td>\n",
       "      <td>24</td>\n",
       "      <td>A</td>\n",
       "    </tr>\n",
       "    <tr>\n",
       "      <th>3</th>\n",
       "      <td>17</td>\n",
       "      <td>47.0</td>\n",
       "      <td>19</td>\n",
       "      <td>A</td>\n",
       "    </tr>\n",
       "    <tr>\n",
       "      <th>4</th>\n",
       "      <td>25</td>\n",
       "      <td>22.0</td>\n",
       "      <td>21</td>\n",
       "      <td>A</td>\n",
       "    </tr>\n",
       "  </tbody>\n",
       "</table>\n",
       "</div>"
      ]
     },
     "metadata": {},
     "execution_count": 36
    }
   ],
   "metadata": {}
  },
  {
   "cell_type": "code",
   "execution_count": 37,
   "source": [
    "plt.figure(figsize=(10,4))\r\n",
    "plt.subplot(121)\r\n",
    "sns.lineplot(\r\n",
    "    x='Income',\r\n",
    "    y='Scores',\r\n",
    "    data=data_ancova,\r\n",
    "    hue='Method',\r\n",
    ")\r\n",
    "\r\n",
    "plt.subplot(122)\r\n",
    "sns.lineplot(\r\n",
    "    x='BMI',\r\n",
    "    y='Scores',\r\n",
    "    data=data_ancova,\r\n",
    "    hue='Method',\r\n",
    ");"
   ],
   "outputs": [
    {
     "output_type": "display_data",
     "data": {
      "text/plain": [
       "<Figure size 720x288 with 2 Axes>"
      ],
      "image/svg+xml": "<?xml version=\"1.0\" encoding=\"utf-8\" standalone=\"no\"?>\r\n<!DOCTYPE svg PUBLIC \"-//W3C//DTD SVG 1.1//EN\"\r\n  \"http://www.w3.org/Graphics/SVG/1.1/DTD/svg11.dtd\">\r\n<svg height=\"262.19625pt\" version=\"1.1\" viewBox=\"0 0 605.803125 262.19625\" width=\"605.803125pt\" xmlns=\"http://www.w3.org/2000/svg\" xmlns:xlink=\"http://www.w3.org/1999/xlink\">\r\n <metadata>\r\n  <rdf:RDF xmlns:cc=\"http://creativecommons.org/ns#\" xmlns:dc=\"http://purl.org/dc/elements/1.1/\" xmlns:rdf=\"http://www.w3.org/1999/02/22-rdf-syntax-ns#\">\r\n   <cc:Work>\r\n    <dc:type rdf:resource=\"http://purl.org/dc/dcmitype/StillImage\"/>\r\n    <dc:date>2021-08-26T16:53:09.319567</dc:date>\r\n    <dc:format>image/svg+xml</dc:format>\r\n    <dc:creator>\r\n     <cc:Agent>\r\n      <dc:title>Matplotlib v3.4.3, https://matplotlib.org/</dc:title>\r\n     </cc:Agent>\r\n    </dc:creator>\r\n   </cc:Work>\r\n  </rdf:RDF>\r\n </metadata>\r\n <defs>\r\n  <style type=\"text/css\">*{stroke-linecap:butt;stroke-linejoin:round;}</style>\r\n </defs>\r\n <g id=\"figure_1\">\r\n  <g id=\"patch_1\">\r\n   <path d=\"M 0 262.19625 \r\nL 605.803125 262.19625 \r\nL 605.803125 0 \r\nL 0 0 \r\nz\r\n\" style=\"fill:none;\"/>\r\n  </g>\r\n  <g id=\"axes_1\">\r\n   <g id=\"patch_2\">\r\n    <path d=\"M 40.603125 224.64 \r\nL 294.239489 224.64 \r\nL 294.239489 7.2 \r\nL 40.603125 7.2 \r\nz\r\n\" style=\"fill:#ffffff;\"/>\r\n   </g>\r\n   <g id=\"matplotlib.axis_1\">\r\n    <g id=\"xtick_1\">\r\n     <g id=\"line2d_1\">\r\n      <defs>\r\n       <path d=\"M 0 0 \r\nL 0 3.5 \r\n\" id=\"m518d938351\" style=\"stroke:#000000;stroke-width:0.8;\"/>\r\n      </defs>\r\n      <g>\r\n       <use style=\"stroke:#000000;stroke-width:0.8;\" x=\"71.138522\" xlink:href=\"#m518d938351\" y=\"224.64\"/>\r\n      </g>\r\n     </g>\r\n     <g id=\"text_1\">\r\n      <!-- 20 -->\r\n      <g transform=\"translate(64.776022 239.238437)scale(0.1 -0.1)\">\r\n       <defs>\r\n        <path d=\"M 1228 531 \r\nL 3431 531 \r\nL 3431 0 \r\nL 469 0 \r\nL 469 531 \r\nQ 828 903 1448 1529 \r\nQ 2069 2156 2228 2338 \r\nQ 2531 2678 2651 2914 \r\nQ 2772 3150 2772 3378 \r\nQ 2772 3750 2511 3984 \r\nQ 2250 4219 1831 4219 \r\nQ 1534 4219 1204 4116 \r\nQ 875 4013 500 3803 \r\nL 500 4441 \r\nQ 881 4594 1212 4672 \r\nQ 1544 4750 1819 4750 \r\nQ 2544 4750 2975 4387 \r\nQ 3406 4025 3406 3419 \r\nQ 3406 3131 3298 2873 \r\nQ 3191 2616 2906 2266 \r\nQ 2828 2175 2409 1742 \r\nQ 1991 1309 1228 531 \r\nz\r\n\" id=\"DejaVuSans-32\" transform=\"scale(0.015625)\"/>\r\n        <path d=\"M 2034 4250 \r\nQ 1547 4250 1301 3770 \r\nQ 1056 3291 1056 2328 \r\nQ 1056 1369 1301 889 \r\nQ 1547 409 2034 409 \r\nQ 2525 409 2770 889 \r\nQ 3016 1369 3016 2328 \r\nQ 3016 3291 2770 3770 \r\nQ 2525 4250 2034 4250 \r\nz\r\nM 2034 4750 \r\nQ 2819 4750 3233 4129 \r\nQ 3647 3509 3647 2328 \r\nQ 3647 1150 3233 529 \r\nQ 2819 -91 2034 -91 \r\nQ 1250 -91 836 529 \r\nQ 422 1150 422 2328 \r\nQ 422 3509 836 4129 \r\nQ 1250 4750 2034 4750 \r\nz\r\n\" id=\"DejaVuSans-30\" transform=\"scale(0.015625)\"/>\r\n       </defs>\r\n       <use xlink:href=\"#DejaVuSans-32\"/>\r\n       <use x=\"63.623047\" xlink:href=\"#DejaVuSans-30\"/>\r\n      </g>\r\n     </g>\r\n    </g>\r\n    <g id=\"xtick_2\">\r\n     <g id=\"line2d_2\">\r\n      <g>\r\n       <use style=\"stroke:#000000;stroke-width:0.8;\" x=\"121.155553\" xlink:href=\"#m518d938351\" y=\"224.64\"/>\r\n      </g>\r\n     </g>\r\n     <g id=\"text_2\">\r\n      <!-- 40 -->\r\n      <g transform=\"translate(114.793053 239.238437)scale(0.1 -0.1)\">\r\n       <defs>\r\n        <path d=\"M 2419 4116 \r\nL 825 1625 \r\nL 2419 1625 \r\nL 2419 4116 \r\nz\r\nM 2253 4666 \r\nL 3047 4666 \r\nL 3047 1625 \r\nL 3713 1625 \r\nL 3713 1100 \r\nL 3047 1100 \r\nL 3047 0 \r\nL 2419 0 \r\nL 2419 1100 \r\nL 313 1100 \r\nL 313 1709 \r\nL 2253 4666 \r\nz\r\n\" id=\"DejaVuSans-34\" transform=\"scale(0.015625)\"/>\r\n       </defs>\r\n       <use xlink:href=\"#DejaVuSans-34\"/>\r\n       <use x=\"63.623047\" xlink:href=\"#DejaVuSans-30\"/>\r\n      </g>\r\n     </g>\r\n    </g>\r\n    <g id=\"xtick_3\">\r\n     <g id=\"line2d_3\">\r\n      <g>\r\n       <use style=\"stroke:#000000;stroke-width:0.8;\" x=\"171.172584\" xlink:href=\"#m518d938351\" y=\"224.64\"/>\r\n      </g>\r\n     </g>\r\n     <g id=\"text_3\">\r\n      <!-- 60 -->\r\n      <g transform=\"translate(164.810084 239.238437)scale(0.1 -0.1)\">\r\n       <defs>\r\n        <path d=\"M 2113 2584 \r\nQ 1688 2584 1439 2293 \r\nQ 1191 2003 1191 1497 \r\nQ 1191 994 1439 701 \r\nQ 1688 409 2113 409 \r\nQ 2538 409 2786 701 \r\nQ 3034 994 3034 1497 \r\nQ 3034 2003 2786 2293 \r\nQ 2538 2584 2113 2584 \r\nz\r\nM 3366 4563 \r\nL 3366 3988 \r\nQ 3128 4100 2886 4159 \r\nQ 2644 4219 2406 4219 \r\nQ 1781 4219 1451 3797 \r\nQ 1122 3375 1075 2522 \r\nQ 1259 2794 1537 2939 \r\nQ 1816 3084 2150 3084 \r\nQ 2853 3084 3261 2657 \r\nQ 3669 2231 3669 1497 \r\nQ 3669 778 3244 343 \r\nQ 2819 -91 2113 -91 \r\nQ 1303 -91 875 529 \r\nQ 447 1150 447 2328 \r\nQ 447 3434 972 4092 \r\nQ 1497 4750 2381 4750 \r\nQ 2619 4750 2861 4703 \r\nQ 3103 4656 3366 4563 \r\nz\r\n\" id=\"DejaVuSans-36\" transform=\"scale(0.015625)\"/>\r\n       </defs>\r\n       <use xlink:href=\"#DejaVuSans-36\"/>\r\n       <use x=\"63.623047\" xlink:href=\"#DejaVuSans-30\"/>\r\n      </g>\r\n     </g>\r\n    </g>\r\n    <g id=\"xtick_4\">\r\n     <g id=\"line2d_4\">\r\n      <g>\r\n       <use style=\"stroke:#000000;stroke-width:0.8;\" x=\"221.189615\" xlink:href=\"#m518d938351\" y=\"224.64\"/>\r\n      </g>\r\n     </g>\r\n     <g id=\"text_4\">\r\n      <!-- 80 -->\r\n      <g transform=\"translate(214.827115 239.238437)scale(0.1 -0.1)\">\r\n       <defs>\r\n        <path d=\"M 2034 2216 \r\nQ 1584 2216 1326 1975 \r\nQ 1069 1734 1069 1313 \r\nQ 1069 891 1326 650 \r\nQ 1584 409 2034 409 \r\nQ 2484 409 2743 651 \r\nQ 3003 894 3003 1313 \r\nQ 3003 1734 2745 1975 \r\nQ 2488 2216 2034 2216 \r\nz\r\nM 1403 2484 \r\nQ 997 2584 770 2862 \r\nQ 544 3141 544 3541 \r\nQ 544 4100 942 4425 \r\nQ 1341 4750 2034 4750 \r\nQ 2731 4750 3128 4425 \r\nQ 3525 4100 3525 3541 \r\nQ 3525 3141 3298 2862 \r\nQ 3072 2584 2669 2484 \r\nQ 3125 2378 3379 2068 \r\nQ 3634 1759 3634 1313 \r\nQ 3634 634 3220 271 \r\nQ 2806 -91 2034 -91 \r\nQ 1263 -91 848 271 \r\nQ 434 634 434 1313 \r\nQ 434 1759 690 2068 \r\nQ 947 2378 1403 2484 \r\nz\r\nM 1172 3481 \r\nQ 1172 3119 1398 2916 \r\nQ 1625 2713 2034 2713 \r\nQ 2441 2713 2670 2916 \r\nQ 2900 3119 2900 3481 \r\nQ 2900 3844 2670 4047 \r\nQ 2441 4250 2034 4250 \r\nQ 1625 4250 1398 4047 \r\nQ 1172 3844 1172 3481 \r\nz\r\n\" id=\"DejaVuSans-38\" transform=\"scale(0.015625)\"/>\r\n       </defs>\r\n       <use xlink:href=\"#DejaVuSans-38\"/>\r\n       <use x=\"63.623047\" xlink:href=\"#DejaVuSans-30\"/>\r\n      </g>\r\n     </g>\r\n    </g>\r\n    <g id=\"xtick_5\">\r\n     <g id=\"line2d_5\">\r\n      <g>\r\n       <use style=\"stroke:#000000;stroke-width:0.8;\" x=\"271.206646\" xlink:href=\"#m518d938351\" y=\"224.64\"/>\r\n      </g>\r\n     </g>\r\n     <g id=\"text_5\">\r\n      <!-- 100 -->\r\n      <g transform=\"translate(261.662896 239.238437)scale(0.1 -0.1)\">\r\n       <defs>\r\n        <path d=\"M 794 531 \r\nL 1825 531 \r\nL 1825 4091 \r\nL 703 3866 \r\nL 703 4441 \r\nL 1819 4666 \r\nL 2450 4666 \r\nL 2450 531 \r\nL 3481 531 \r\nL 3481 0 \r\nL 794 0 \r\nL 794 531 \r\nz\r\n\" id=\"DejaVuSans-31\" transform=\"scale(0.015625)\"/>\r\n       </defs>\r\n       <use xlink:href=\"#DejaVuSans-31\"/>\r\n       <use x=\"63.623047\" xlink:href=\"#DejaVuSans-30\"/>\r\n       <use x=\"127.246094\" xlink:href=\"#DejaVuSans-30\"/>\r\n      </g>\r\n     </g>\r\n    </g>\r\n    <g id=\"text_6\">\r\n     <!-- Income -->\r\n     <g transform=\"translate(149.022088 252.916562)scale(0.1 -0.1)\">\r\n      <defs>\r\n       <path d=\"M 628 4666 \r\nL 1259 4666 \r\nL 1259 0 \r\nL 628 0 \r\nL 628 4666 \r\nz\r\n\" id=\"DejaVuSans-49\" transform=\"scale(0.015625)\"/>\r\n       <path d=\"M 3513 2113 \r\nL 3513 0 \r\nL 2938 0 \r\nL 2938 2094 \r\nQ 2938 2591 2744 2837 \r\nQ 2550 3084 2163 3084 \r\nQ 1697 3084 1428 2787 \r\nQ 1159 2491 1159 1978 \r\nL 1159 0 \r\nL 581 0 \r\nL 581 3500 \r\nL 1159 3500 \r\nL 1159 2956 \r\nQ 1366 3272 1645 3428 \r\nQ 1925 3584 2291 3584 \r\nQ 2894 3584 3203 3211 \r\nQ 3513 2838 3513 2113 \r\nz\r\n\" id=\"DejaVuSans-6e\" transform=\"scale(0.015625)\"/>\r\n       <path d=\"M 3122 3366 \r\nL 3122 2828 \r\nQ 2878 2963 2633 3030 \r\nQ 2388 3097 2138 3097 \r\nQ 1578 3097 1268 2742 \r\nQ 959 2388 959 1747 \r\nQ 959 1106 1268 751 \r\nQ 1578 397 2138 397 \r\nQ 2388 397 2633 464 \r\nQ 2878 531 3122 666 \r\nL 3122 134 \r\nQ 2881 22 2623 -34 \r\nQ 2366 -91 2075 -91 \r\nQ 1284 -91 818 406 \r\nQ 353 903 353 1747 \r\nQ 353 2603 823 3093 \r\nQ 1294 3584 2113 3584 \r\nQ 2378 3584 2631 3529 \r\nQ 2884 3475 3122 3366 \r\nz\r\n\" id=\"DejaVuSans-63\" transform=\"scale(0.015625)\"/>\r\n       <path d=\"M 1959 3097 \r\nQ 1497 3097 1228 2736 \r\nQ 959 2375 959 1747 \r\nQ 959 1119 1226 758 \r\nQ 1494 397 1959 397 \r\nQ 2419 397 2687 759 \r\nQ 2956 1122 2956 1747 \r\nQ 2956 2369 2687 2733 \r\nQ 2419 3097 1959 3097 \r\nz\r\nM 1959 3584 \r\nQ 2709 3584 3137 3096 \r\nQ 3566 2609 3566 1747 \r\nQ 3566 888 3137 398 \r\nQ 2709 -91 1959 -91 \r\nQ 1206 -91 779 398 \r\nQ 353 888 353 1747 \r\nQ 353 2609 779 3096 \r\nQ 1206 3584 1959 3584 \r\nz\r\n\" id=\"DejaVuSans-6f\" transform=\"scale(0.015625)\"/>\r\n       <path d=\"M 3328 2828 \r\nQ 3544 3216 3844 3400 \r\nQ 4144 3584 4550 3584 \r\nQ 5097 3584 5394 3201 \r\nQ 5691 2819 5691 2113 \r\nL 5691 0 \r\nL 5113 0 \r\nL 5113 2094 \r\nQ 5113 2597 4934 2840 \r\nQ 4756 3084 4391 3084 \r\nQ 3944 3084 3684 2787 \r\nQ 3425 2491 3425 1978 \r\nL 3425 0 \r\nL 2847 0 \r\nL 2847 2094 \r\nQ 2847 2600 2669 2842 \r\nQ 2491 3084 2119 3084 \r\nQ 1678 3084 1418 2786 \r\nQ 1159 2488 1159 1978 \r\nL 1159 0 \r\nL 581 0 \r\nL 581 3500 \r\nL 1159 3500 \r\nL 1159 2956 \r\nQ 1356 3278 1631 3431 \r\nQ 1906 3584 2284 3584 \r\nQ 2666 3584 2933 3390 \r\nQ 3200 3197 3328 2828 \r\nz\r\n\" id=\"DejaVuSans-6d\" transform=\"scale(0.015625)\"/>\r\n       <path d=\"M 3597 1894 \r\nL 3597 1613 \r\nL 953 1613 \r\nQ 991 1019 1311 708 \r\nQ 1631 397 2203 397 \r\nQ 2534 397 2845 478 \r\nQ 3156 559 3463 722 \r\nL 3463 178 \r\nQ 3153 47 2828 -22 \r\nQ 2503 -91 2169 -91 \r\nQ 1331 -91 842 396 \r\nQ 353 884 353 1716 \r\nQ 353 2575 817 3079 \r\nQ 1281 3584 2069 3584 \r\nQ 2775 3584 3186 3129 \r\nQ 3597 2675 3597 1894 \r\nz\r\nM 3022 2063 \r\nQ 3016 2534 2758 2815 \r\nQ 2500 3097 2075 3097 \r\nQ 1594 3097 1305 2825 \r\nQ 1016 2553 972 2059 \r\nL 3022 2063 \r\nz\r\n\" id=\"DejaVuSans-65\" transform=\"scale(0.015625)\"/>\r\n      </defs>\r\n      <use xlink:href=\"#DejaVuSans-49\"/>\r\n      <use x=\"29.492188\" xlink:href=\"#DejaVuSans-6e\"/>\r\n      <use x=\"92.871094\" xlink:href=\"#DejaVuSans-63\"/>\r\n      <use x=\"147.851562\" xlink:href=\"#DejaVuSans-6f\"/>\r\n      <use x=\"209.033203\" xlink:href=\"#DejaVuSans-6d\"/>\r\n      <use x=\"306.445312\" xlink:href=\"#DejaVuSans-65\"/>\r\n     </g>\r\n    </g>\r\n   </g>\r\n   <g id=\"matplotlib.axis_2\">\r\n    <g id=\"ytick_1\">\r\n     <g id=\"line2d_6\">\r\n      <defs>\r\n       <path d=\"M 0 0 \r\nL -3.5 0 \r\n\" id=\"meeaccd8d65\" style=\"stroke:#000000;stroke-width:0.8;\"/>\r\n      </defs>\r\n      <g>\r\n       <use style=\"stroke:#000000;stroke-width:0.8;\" x=\"40.603125\" xlink:href=\"#meeaccd8d65\" y=\"200.965243\"/>\r\n      </g>\r\n     </g>\r\n     <g id=\"text_7\">\r\n      <!-- 10 -->\r\n      <g transform=\"translate(20.878125 204.764462)scale(0.1 -0.1)\">\r\n       <use xlink:href=\"#DejaVuSans-31\"/>\r\n       <use x=\"63.623047\" xlink:href=\"#DejaVuSans-30\"/>\r\n      </g>\r\n     </g>\r\n    </g>\r\n    <g id=\"ytick_2\">\r\n     <g id=\"line2d_7\">\r\n      <g>\r\n       <use style=\"stroke:#000000;stroke-width:0.8;\" x=\"40.603125\" xlink:href=\"#meeaccd8d65\" y=\"154.994841\"/>\r\n      </g>\r\n     </g>\r\n     <g id=\"text_8\">\r\n      <!-- 20 -->\r\n      <g transform=\"translate(20.878125 158.79406)scale(0.1 -0.1)\">\r\n       <use xlink:href=\"#DejaVuSans-32\"/>\r\n       <use x=\"63.623047\" xlink:href=\"#DejaVuSans-30\"/>\r\n      </g>\r\n     </g>\r\n    </g>\r\n    <g id=\"ytick_3\">\r\n     <g id=\"line2d_8\">\r\n      <g>\r\n       <use style=\"stroke:#000000;stroke-width:0.8;\" x=\"40.603125\" xlink:href=\"#meeaccd8d65\" y=\"109.02444\"/>\r\n      </g>\r\n     </g>\r\n     <g id=\"text_9\">\r\n      <!-- 30 -->\r\n      <g transform=\"translate(20.878125 112.823658)scale(0.1 -0.1)\">\r\n       <defs>\r\n        <path d=\"M 2597 2516 \r\nQ 3050 2419 3304 2112 \r\nQ 3559 1806 3559 1356 \r\nQ 3559 666 3084 287 \r\nQ 2609 -91 1734 -91 \r\nQ 1441 -91 1130 -33 \r\nQ 819 25 488 141 \r\nL 488 750 \r\nQ 750 597 1062 519 \r\nQ 1375 441 1716 441 \r\nQ 2309 441 2620 675 \r\nQ 2931 909 2931 1356 \r\nQ 2931 1769 2642 2001 \r\nQ 2353 2234 1838 2234 \r\nL 1294 2234 \r\nL 1294 2753 \r\nL 1863 2753 \r\nQ 2328 2753 2575 2939 \r\nQ 2822 3125 2822 3475 \r\nQ 2822 3834 2567 4026 \r\nQ 2313 4219 1838 4219 \r\nQ 1578 4219 1281 4162 \r\nQ 984 4106 628 3988 \r\nL 628 4550 \r\nQ 988 4650 1302 4700 \r\nQ 1616 4750 1894 4750 \r\nQ 2613 4750 3031 4423 \r\nQ 3450 4097 3450 3541 \r\nQ 3450 3153 3228 2886 \r\nQ 3006 2619 2597 2516 \r\nz\r\n\" id=\"DejaVuSans-33\" transform=\"scale(0.015625)\"/>\r\n       </defs>\r\n       <use xlink:href=\"#DejaVuSans-33\"/>\r\n       <use x=\"63.623047\" xlink:href=\"#DejaVuSans-30\"/>\r\n      </g>\r\n     </g>\r\n    </g>\r\n    <g id=\"ytick_4\">\r\n     <g id=\"line2d_9\">\r\n      <g>\r\n       <use style=\"stroke:#000000;stroke-width:0.8;\" x=\"40.603125\" xlink:href=\"#meeaccd8d65\" y=\"63.054038\"/>\r\n      </g>\r\n     </g>\r\n     <g id=\"text_10\">\r\n      <!-- 40 -->\r\n      <g transform=\"translate(20.878125 66.853257)scale(0.1 -0.1)\">\r\n       <use xlink:href=\"#DejaVuSans-34\"/>\r\n       <use x=\"63.623047\" xlink:href=\"#DejaVuSans-30\"/>\r\n      </g>\r\n     </g>\r\n    </g>\r\n    <g id=\"ytick_5\">\r\n     <g id=\"line2d_10\">\r\n      <g>\r\n       <use style=\"stroke:#000000;stroke-width:0.8;\" x=\"40.603125\" xlink:href=\"#meeaccd8d65\" y=\"17.083636\"/>\r\n      </g>\r\n     </g>\r\n     <g id=\"text_11\">\r\n      <!-- 50 -->\r\n      <g transform=\"translate(20.878125 20.882855)scale(0.1 -0.1)\">\r\n       <defs>\r\n        <path d=\"M 691 4666 \r\nL 3169 4666 \r\nL 3169 4134 \r\nL 1269 4134 \r\nL 1269 2991 \r\nQ 1406 3038 1543 3061 \r\nQ 1681 3084 1819 3084 \r\nQ 2600 3084 3056 2656 \r\nQ 3513 2228 3513 1497 \r\nQ 3513 744 3044 326 \r\nQ 2575 -91 1722 -91 \r\nQ 1428 -91 1123 -41 \r\nQ 819 9 494 109 \r\nL 494 744 \r\nQ 775 591 1075 516 \r\nQ 1375 441 1709 441 \r\nQ 2250 441 2565 725 \r\nQ 2881 1009 2881 1497 \r\nQ 2881 1984 2565 2268 \r\nQ 2250 2553 1709 2553 \r\nQ 1456 2553 1204 2497 \r\nQ 953 2441 691 2322 \r\nL 691 4666 \r\nz\r\n\" id=\"DejaVuSans-35\" transform=\"scale(0.015625)\"/>\r\n       </defs>\r\n       <use xlink:href=\"#DejaVuSans-35\"/>\r\n       <use x=\"63.623047\" xlink:href=\"#DejaVuSans-30\"/>\r\n      </g>\r\n     </g>\r\n    </g>\r\n    <g id=\"text_12\">\r\n     <!-- Scores -->\r\n     <g transform=\"translate(14.798437 132.527031)rotate(-90)scale(0.1 -0.1)\">\r\n      <defs>\r\n       <path d=\"M 3425 4513 \r\nL 3425 3897 \r\nQ 3066 4069 2747 4153 \r\nQ 2428 4238 2131 4238 \r\nQ 1616 4238 1336 4038 \r\nQ 1056 3838 1056 3469 \r\nQ 1056 3159 1242 3001 \r\nQ 1428 2844 1947 2747 \r\nL 2328 2669 \r\nQ 3034 2534 3370 2195 \r\nQ 3706 1856 3706 1288 \r\nQ 3706 609 3251 259 \r\nQ 2797 -91 1919 -91 \r\nQ 1588 -91 1214 -16 \r\nQ 841 59 441 206 \r\nL 441 856 \r\nQ 825 641 1194 531 \r\nQ 1563 422 1919 422 \r\nQ 2459 422 2753 634 \r\nQ 3047 847 3047 1241 \r\nQ 3047 1584 2836 1778 \r\nQ 2625 1972 2144 2069 \r\nL 1759 2144 \r\nQ 1053 2284 737 2584 \r\nQ 422 2884 422 3419 \r\nQ 422 4038 858 4394 \r\nQ 1294 4750 2059 4750 \r\nQ 2388 4750 2728 4690 \r\nQ 3069 4631 3425 4513 \r\nz\r\n\" id=\"DejaVuSans-53\" transform=\"scale(0.015625)\"/>\r\n       <path d=\"M 2631 2963 \r\nQ 2534 3019 2420 3045 \r\nQ 2306 3072 2169 3072 \r\nQ 1681 3072 1420 2755 \r\nQ 1159 2438 1159 1844 \r\nL 1159 0 \r\nL 581 0 \r\nL 581 3500 \r\nL 1159 3500 \r\nL 1159 2956 \r\nQ 1341 3275 1631 3429 \r\nQ 1922 3584 2338 3584 \r\nQ 2397 3584 2469 3576 \r\nQ 2541 3569 2628 3553 \r\nL 2631 2963 \r\nz\r\n\" id=\"DejaVuSans-72\" transform=\"scale(0.015625)\"/>\r\n       <path d=\"M 2834 3397 \r\nL 2834 2853 \r\nQ 2591 2978 2328 3040 \r\nQ 2066 3103 1784 3103 \r\nQ 1356 3103 1142 2972 \r\nQ 928 2841 928 2578 \r\nQ 928 2378 1081 2264 \r\nQ 1234 2150 1697 2047 \r\nL 1894 2003 \r\nQ 2506 1872 2764 1633 \r\nQ 3022 1394 3022 966 \r\nQ 3022 478 2636 193 \r\nQ 2250 -91 1575 -91 \r\nQ 1294 -91 989 -36 \r\nQ 684 19 347 128 \r\nL 347 722 \r\nQ 666 556 975 473 \r\nQ 1284 391 1588 391 \r\nQ 1994 391 2212 530 \r\nQ 2431 669 2431 922 \r\nQ 2431 1156 2273 1281 \r\nQ 2116 1406 1581 1522 \r\nL 1381 1569 \r\nQ 847 1681 609 1914 \r\nQ 372 2147 372 2553 \r\nQ 372 3047 722 3315 \r\nQ 1072 3584 1716 3584 \r\nQ 2034 3584 2315 3537 \r\nQ 2597 3491 2834 3397 \r\nz\r\n\" id=\"DejaVuSans-73\" transform=\"scale(0.015625)\"/>\r\n      </defs>\r\n      <use xlink:href=\"#DejaVuSans-53\"/>\r\n      <use x=\"63.476562\" xlink:href=\"#DejaVuSans-63\"/>\r\n      <use x=\"118.457031\" xlink:href=\"#DejaVuSans-6f\"/>\r\n      <use x=\"179.638672\" xlink:href=\"#DejaVuSans-72\"/>\r\n      <use x=\"218.501953\" xlink:href=\"#DejaVuSans-65\"/>\r\n      <use x=\"280.025391\" xlink:href=\"#DejaVuSans-73\"/>\r\n     </g>\r\n    </g>\r\n   </g>\r\n   <g id=\"line2d_11\">\r\n    <path clip-path=\"url(#pfd0ad95bc8)\" d=\"M 52.132051 177.980042 \r\nL 64.886393 191.771163 \r\nL 71.138522 210.159323 \r\nL 76.140225 132.009641 \r\nL 138.661514 168.785962 \r\nL 182.926586 81.442199 \r\nL 220.43936 104.4274 \r\nL 282.710563 67.651078 \r\n\" style=\"fill:none;stroke:#1f77b4;stroke-linecap:square;stroke-width:1.5;\"/>\r\n   </g>\r\n   <g id=\"line2d_12\">\r\n    <path clip-path=\"url(#pfd0ad95bc8)\" d=\"M 107.650955 168.785962 \r\nL 135.910577 76.845159 \r\nL 139.91194 187.174123 \r\nL 145.663898 95.233319 \r\nL 198.181781 40.068837 \r\nL 198.431866 86.039239 \r\nL 215.687742 17.083636 \r\nL 233.193702 63.054038 \r\n\" style=\"fill:none;stroke:#ff7f0e;stroke-linecap:square;stroke-width:1.5;\"/>\r\n   </g>\r\n   <g id=\"line2d_13\">\r\n    <path clip-path=\"url(#pfd0ad95bc8)\" d=\"M 76.640396 205.562283 \r\nL 90.89525 136.606681 \r\nL 103.649592 187.174123 \r\nL 122.656064 177.980042 \r\nL 123.656405 187.174123 \r\nL 156.167475 104.4274 \r\nL 158.668326 53.859958 \r\nL 199.682292 154.994841 \r\nL 221.189615 104.4274 \r\nL 222.440041 150.397801 \r\n\" style=\"fill:none;stroke:#2ca02c;stroke-linecap:square;stroke-width:1.5;\"/>\r\n   </g>\r\n   <g id=\"line2d_14\">\r\n    <path clip-path=\"url(#pfd0ad95bc8)\" d=\"M 71.138522 182.577082 \r\nL 91.645505 214.756364 \r\nL 103.649592 200.965243 \r\nL 106.650614 159.591882 \r\nL 108.651296 191.771163 \r\nL 113.652999 210.159323 \r\nL 129.158278 164.188922 \r\nL 137.161003 159.591882 \r\nL 169.672073 127.4126 \r\nL 183.426757 132.009641 \r\n\" style=\"fill:none;stroke:#d62728;stroke-linecap:square;stroke-width:1.5;\"/>\r\n   </g>\r\n   <g id=\"line2d_15\"/>\r\n   <g id=\"line2d_16\"/>\r\n   <g id=\"line2d_17\"/>\r\n   <g id=\"line2d_18\"/>\r\n   <g id=\"patch_3\">\r\n    <path d=\"M 40.603125 224.64 \r\nL 40.603125 7.2 \r\n\" style=\"fill:none;stroke:#000000;stroke-linecap:square;stroke-linejoin:miter;stroke-width:0.8;\"/>\r\n   </g>\r\n   <g id=\"patch_4\">\r\n    <path d=\"M 294.239489 224.64 \r\nL 294.239489 7.2 \r\n\" style=\"fill:none;stroke:#000000;stroke-linecap:square;stroke-linejoin:miter;stroke-width:0.8;\"/>\r\n   </g>\r\n   <g id=\"patch_5\">\r\n    <path d=\"M 40.603125 224.64 \r\nL 294.239489 224.64 \r\n\" style=\"fill:none;stroke:#000000;stroke-linecap:square;stroke-linejoin:miter;stroke-width:0.8;\"/>\r\n   </g>\r\n   <g id=\"patch_6\">\r\n    <path d=\"M 40.603125 7.2 \r\nL 294.239489 7.2 \r\n\" style=\"fill:none;stroke:#000000;stroke-linecap:square;stroke-linejoin:miter;stroke-width:0.8;\"/>\r\n   </g>\r\n   <g id=\"legend_1\">\r\n    <g id=\"patch_7\">\r\n     <path d=\"M 47.603125 88.590625 \r\nL 89.109375 88.590625 \r\nQ 91.109375 88.590625 91.109375 86.590625 \r\nL 91.109375 14.2 \r\nQ 91.109375 12.2 89.109375 12.2 \r\nL 47.603125 12.2 \r\nQ 45.603125 12.2 45.603125 14.2 \r\nL 45.603125 86.590625 \r\nQ 45.603125 88.590625 47.603125 88.590625 \r\nz\r\n\" style=\"fill:#ffffff;opacity:0.8;stroke:#cccccc;stroke-linejoin:miter;\"/>\r\n    </g>\r\n    <g id=\"text_13\">\r\n     <!-- Method -->\r\n     <g transform=\"translate(49.603125 23.798437)scale(0.1 -0.1)\">\r\n      <defs>\r\n       <path d=\"M 628 4666 \r\nL 1569 4666 \r\nL 2759 1491 \r\nL 3956 4666 \r\nL 4897 4666 \r\nL 4897 0 \r\nL 4281 0 \r\nL 4281 4097 \r\nL 3078 897 \r\nL 2444 897 \r\nL 1241 4097 \r\nL 1241 0 \r\nL 628 0 \r\nL 628 4666 \r\nz\r\n\" id=\"DejaVuSans-4d\" transform=\"scale(0.015625)\"/>\r\n       <path d=\"M 1172 4494 \r\nL 1172 3500 \r\nL 2356 3500 \r\nL 2356 3053 \r\nL 1172 3053 \r\nL 1172 1153 \r\nQ 1172 725 1289 603 \r\nQ 1406 481 1766 481 \r\nL 2356 481 \r\nL 2356 0 \r\nL 1766 0 \r\nQ 1100 0 847 248 \r\nQ 594 497 594 1153 \r\nL 594 3053 \r\nL 172 3053 \r\nL 172 3500 \r\nL 594 3500 \r\nL 594 4494 \r\nL 1172 4494 \r\nz\r\n\" id=\"DejaVuSans-74\" transform=\"scale(0.015625)\"/>\r\n       <path d=\"M 3513 2113 \r\nL 3513 0 \r\nL 2938 0 \r\nL 2938 2094 \r\nQ 2938 2591 2744 2837 \r\nQ 2550 3084 2163 3084 \r\nQ 1697 3084 1428 2787 \r\nQ 1159 2491 1159 1978 \r\nL 1159 0 \r\nL 581 0 \r\nL 581 4863 \r\nL 1159 4863 \r\nL 1159 2956 \r\nQ 1366 3272 1645 3428 \r\nQ 1925 3584 2291 3584 \r\nQ 2894 3584 3203 3211 \r\nQ 3513 2838 3513 2113 \r\nz\r\n\" id=\"DejaVuSans-68\" transform=\"scale(0.015625)\"/>\r\n       <path d=\"M 2906 2969 \r\nL 2906 4863 \r\nL 3481 4863 \r\nL 3481 0 \r\nL 2906 0 \r\nL 2906 525 \r\nQ 2725 213 2448 61 \r\nQ 2172 -91 1784 -91 \r\nQ 1150 -91 751 415 \r\nQ 353 922 353 1747 \r\nQ 353 2572 751 3078 \r\nQ 1150 3584 1784 3584 \r\nQ 2172 3584 2448 3432 \r\nQ 2725 3281 2906 2969 \r\nz\r\nM 947 1747 \r\nQ 947 1113 1208 752 \r\nQ 1469 391 1925 391 \r\nQ 2381 391 2643 752 \r\nQ 2906 1113 2906 1747 \r\nQ 2906 2381 2643 2742 \r\nQ 2381 3103 1925 3103 \r\nQ 1469 3103 1208 2742 \r\nQ 947 2381 947 1747 \r\nz\r\n\" id=\"DejaVuSans-64\" transform=\"scale(0.015625)\"/>\r\n      </defs>\r\n      <use xlink:href=\"#DejaVuSans-4d\"/>\r\n      <use x=\"86.279297\" xlink:href=\"#DejaVuSans-65\"/>\r\n      <use x=\"147.802734\" xlink:href=\"#DejaVuSans-74\"/>\r\n      <use x=\"187.011719\" xlink:href=\"#DejaVuSans-68\"/>\r\n      <use x=\"250.390625\" xlink:href=\"#DejaVuSans-6f\"/>\r\n      <use x=\"311.572266\" xlink:href=\"#DejaVuSans-64\"/>\r\n     </g>\r\n    </g>\r\n    <g id=\"line2d_19\">\r\n     <path d=\"M 50.50625 34.976562 \r\nL 70.50625 34.976562 \r\n\" style=\"fill:none;stroke:#1f77b4;stroke-linecap:square;stroke-width:1.5;\"/>\r\n    </g>\r\n    <g id=\"line2d_20\"/>\r\n    <g id=\"text_14\">\r\n     <!-- A -->\r\n     <g transform=\"translate(78.50625 38.476562)scale(0.1 -0.1)\">\r\n      <defs>\r\n       <path d=\"M 2188 4044 \r\nL 1331 1722 \r\nL 3047 1722 \r\nL 2188 4044 \r\nz\r\nM 1831 4666 \r\nL 2547 4666 \r\nL 4325 0 \r\nL 3669 0 \r\nL 3244 1197 \r\nL 1141 1197 \r\nL 716 0 \r\nL 50 0 \r\nL 1831 4666 \r\nz\r\n\" id=\"DejaVuSans-41\" transform=\"scale(0.015625)\"/>\r\n      </defs>\r\n      <use xlink:href=\"#DejaVuSans-41\"/>\r\n     </g>\r\n    </g>\r\n    <g id=\"line2d_21\">\r\n     <path d=\"M 50.50625 49.654687 \r\nL 70.50625 49.654687 \r\n\" style=\"fill:none;stroke:#ff7f0e;stroke-linecap:square;stroke-width:1.5;\"/>\r\n    </g>\r\n    <g id=\"line2d_22\"/>\r\n    <g id=\"text_15\">\r\n     <!-- B -->\r\n     <g transform=\"translate(78.50625 53.154687)scale(0.1 -0.1)\">\r\n      <defs>\r\n       <path d=\"M 1259 2228 \r\nL 1259 519 \r\nL 2272 519 \r\nQ 2781 519 3026 730 \r\nQ 3272 941 3272 1375 \r\nQ 3272 1813 3026 2020 \r\nQ 2781 2228 2272 2228 \r\nL 1259 2228 \r\nz\r\nM 1259 4147 \r\nL 1259 2741 \r\nL 2194 2741 \r\nQ 2656 2741 2882 2914 \r\nQ 3109 3088 3109 3444 \r\nQ 3109 3797 2882 3972 \r\nQ 2656 4147 2194 4147 \r\nL 1259 4147 \r\nz\r\nM 628 4666 \r\nL 2241 4666 \r\nQ 2963 4666 3353 4366 \r\nQ 3744 4066 3744 3513 \r\nQ 3744 3084 3544 2831 \r\nQ 3344 2578 2956 2516 \r\nQ 3422 2416 3680 2098 \r\nQ 3938 1781 3938 1306 \r\nQ 3938 681 3513 340 \r\nQ 3088 0 2303 0 \r\nL 628 0 \r\nL 628 4666 \r\nz\r\n\" id=\"DejaVuSans-42\" transform=\"scale(0.015625)\"/>\r\n      </defs>\r\n      <use xlink:href=\"#DejaVuSans-42\"/>\r\n     </g>\r\n    </g>\r\n    <g id=\"line2d_23\">\r\n     <path d=\"M 50.50625 64.332812 \r\nL 70.50625 64.332812 \r\n\" style=\"fill:none;stroke:#2ca02c;stroke-linecap:square;stroke-width:1.5;\"/>\r\n    </g>\r\n    <g id=\"line2d_24\"/>\r\n    <g id=\"text_16\">\r\n     <!-- C -->\r\n     <g transform=\"translate(78.50625 67.832812)scale(0.1 -0.1)\">\r\n      <defs>\r\n       <path d=\"M 4122 4306 \r\nL 4122 3641 \r\nQ 3803 3938 3442 4084 \r\nQ 3081 4231 2675 4231 \r\nQ 1875 4231 1450 3742 \r\nQ 1025 3253 1025 2328 \r\nQ 1025 1406 1450 917 \r\nQ 1875 428 2675 428 \r\nQ 3081 428 3442 575 \r\nQ 3803 722 4122 1019 \r\nL 4122 359 \r\nQ 3791 134 3420 21 \r\nQ 3050 -91 2638 -91 \r\nQ 1578 -91 968 557 \r\nQ 359 1206 359 2328 \r\nQ 359 3453 968 4101 \r\nQ 1578 4750 2638 4750 \r\nQ 3056 4750 3426 4639 \r\nQ 3797 4528 4122 4306 \r\nz\r\n\" id=\"DejaVuSans-43\" transform=\"scale(0.015625)\"/>\r\n      </defs>\r\n      <use xlink:href=\"#DejaVuSans-43\"/>\r\n     </g>\r\n    </g>\r\n    <g id=\"line2d_25\">\r\n     <path d=\"M 50.50625 79.010937 \r\nL 70.50625 79.010937 \r\n\" style=\"fill:none;stroke:#d62728;stroke-linecap:square;stroke-width:1.5;\"/>\r\n    </g>\r\n    <g id=\"line2d_26\"/>\r\n    <g id=\"text_17\">\r\n     <!-- D -->\r\n     <g transform=\"translate(78.50625 82.510937)scale(0.1 -0.1)\">\r\n      <defs>\r\n       <path d=\"M 1259 4147 \r\nL 1259 519 \r\nL 2022 519 \r\nQ 2988 519 3436 956 \r\nQ 3884 1394 3884 2338 \r\nQ 3884 3275 3436 3711 \r\nQ 2988 4147 2022 4147 \r\nL 1259 4147 \r\nz\r\nM 628 4666 \r\nL 1925 4666 \r\nQ 3281 4666 3915 4102 \r\nQ 4550 3538 4550 2338 \r\nQ 4550 1131 3912 565 \r\nQ 3275 0 1925 0 \r\nL 628 0 \r\nL 628 4666 \r\nz\r\n\" id=\"DejaVuSans-44\" transform=\"scale(0.015625)\"/>\r\n      </defs>\r\n      <use xlink:href=\"#DejaVuSans-44\"/>\r\n     </g>\r\n    </g>\r\n   </g>\r\n  </g>\r\n  <g id=\"axes_2\">\r\n   <g id=\"patch_8\">\r\n    <path d=\"M 344.966761 224.64 \r\nL 598.603125 224.64 \r\nL 598.603125 7.2 \r\nL 344.966761 7.2 \r\nz\r\n\" style=\"fill:#ffffff;\"/>\r\n   </g>\r\n   <g id=\"PolyCollection_1\">\r\n    <defs>\r\n     <path d=\"M 398.419053 -194.545172 \r\nL 398.419053 -70.425087 \r\nL 398.419053 -194.545172 \r\nL 398.419053 -194.545172 \r\nz\r\n\" id=\"m5b3c196226\" style=\"stroke:#1f77b4;stroke-opacity:0.2;\"/>\r\n    </defs>\r\n    <g clip-path=\"url(#p075b95d15b)\">\r\n     <use style=\"fill:#1f77b4;fill-opacity:0.2;stroke:#1f77b4;stroke-opacity:0.2;\" x=\"0\" xlink:href=\"#m5b3c196226\" y=\"262.19625\"/>\r\n    </g>\r\n   </g>\r\n   <g id=\"PolyCollection_2\">\r\n    <path clip-path=\"url(#p075b95d15b)\" d=\"M 356.495687 63.054038 \r\nL 356.495687 187.174123 \r\nL 377.45737 76.845159 \r\nL 377.45737 17.083636 \r\nL 377.45737 17.083636 \r\nL 356.495687 63.054038 \r\nz\r\n\" style=\"fill:#ff7f0e;fill-opacity:0.2;stroke:#ff7f0e;stroke-opacity:0.2;\"/>\r\n    <path clip-path=\"url(#p075b95d15b)\" d=\"M 545.150833 86.039239 \r\nL 545.150833 168.785962 \r\nL 545.150833 86.039239 \r\nL 545.150833 86.039239 \r\nz\r\n\" style=\"fill:#ff7f0e;fill-opacity:0.2;stroke:#ff7f0e;stroke-opacity:0.2;\"/>\r\n   </g>\r\n   <g id=\"PolyCollection_3\">\r\n    <path clip-path=\"url(#p075b95d15b)\" d=\"M 356.495687 104.4274 \r\nL 356.495687 136.606681 \r\nL 356.495687 104.4274 \r\nL 356.495687 104.4274 \r\nz\r\n\" style=\"fill:#2ca02c;fill-opacity:0.2;stroke:#2ca02c;stroke-opacity:0.2;\"/>\r\n    <path clip-path=\"url(#p075b95d15b)\" d=\"M 419.380736 150.397801 \r\nL 419.380736 154.994841 \r\nL 440.342419 187.174123 \r\nL 440.342419 53.859958 \r\nL 440.342419 53.859958 \r\nL 419.380736 150.397801 \r\nz\r\n\" style=\"fill:#2ca02c;fill-opacity:0.2;stroke:#2ca02c;stroke-opacity:0.2;\"/>\r\n   </g>\r\n   <g id=\"PolyCollection_4\">\r\n    <path clip-path=\"url(#p075b95d15b)\" d=\"M 440.342419 132.009641 \r\nL 440.342419 159.591882 \r\nL 440.342419 132.009641 \r\nL 440.342419 132.009641 \r\nz\r\n\" style=\"fill:#d62728;fill-opacity:0.2;stroke:#d62728;stroke-opacity:0.2;\"/>\r\n    <path clip-path=\"url(#p075b95d15b)\" d=\"M 503.227468 191.771163 \r\nL 503.227468 210.159323 \r\nL 503.227468 191.771163 \r\nL 503.227468 191.771163 \r\nz\r\n\" style=\"fill:#d62728;fill-opacity:0.2;stroke:#d62728;stroke-opacity:0.2;\"/>\r\n   </g>\r\n   <g id=\"matplotlib.axis_3\">\r\n    <g id=\"xtick_6\">\r\n     <g id=\"line2d_27\">\r\n      <g>\r\n       <use style=\"stroke:#000000;stroke-width:0.8;\" x=\"356.495687\" xlink:href=\"#m518d938351\" y=\"224.64\"/>\r\n      </g>\r\n     </g>\r\n     <g id=\"text_18\">\r\n      <!-- 18 -->\r\n      <g transform=\"translate(350.133187 239.238437)scale(0.1 -0.1)\">\r\n       <use xlink:href=\"#DejaVuSans-31\"/>\r\n       <use x=\"63.623047\" xlink:href=\"#DejaVuSans-38\"/>\r\n      </g>\r\n     </g>\r\n    </g>\r\n    <g id=\"xtick_7\">\r\n     <g id=\"line2d_28\">\r\n      <g>\r\n       <use style=\"stroke:#000000;stroke-width:0.8;\" x=\"398.419053\" xlink:href=\"#m518d938351\" y=\"224.64\"/>\r\n      </g>\r\n     </g>\r\n     <g id=\"text_19\">\r\n      <!-- 20 -->\r\n      <g transform=\"translate(392.056553 239.238437)scale(0.1 -0.1)\">\r\n       <use xlink:href=\"#DejaVuSans-32\"/>\r\n       <use x=\"63.623047\" xlink:href=\"#DejaVuSans-30\"/>\r\n      </g>\r\n     </g>\r\n    </g>\r\n    <g id=\"xtick_8\">\r\n     <g id=\"line2d_29\">\r\n      <g>\r\n       <use style=\"stroke:#000000;stroke-width:0.8;\" x=\"440.342419\" xlink:href=\"#m518d938351\" y=\"224.64\"/>\r\n      </g>\r\n     </g>\r\n     <g id=\"text_20\">\r\n      <!-- 22 -->\r\n      <g transform=\"translate(433.979919 239.238437)scale(0.1 -0.1)\">\r\n       <use xlink:href=\"#DejaVuSans-32\"/>\r\n       <use x=\"63.623047\" xlink:href=\"#DejaVuSans-32\"/>\r\n      </g>\r\n     </g>\r\n    </g>\r\n    <g id=\"xtick_9\">\r\n     <g id=\"line2d_30\">\r\n      <g>\r\n       <use style=\"stroke:#000000;stroke-width:0.8;\" x=\"482.265785\" xlink:href=\"#m518d938351\" y=\"224.64\"/>\r\n      </g>\r\n     </g>\r\n     <g id=\"text_21\">\r\n      <!-- 24 -->\r\n      <g transform=\"translate(475.903285 239.238437)scale(0.1 -0.1)\">\r\n       <use xlink:href=\"#DejaVuSans-32\"/>\r\n       <use x=\"63.623047\" xlink:href=\"#DejaVuSans-34\"/>\r\n      </g>\r\n     </g>\r\n    </g>\r\n    <g id=\"xtick_10\">\r\n     <g id=\"line2d_31\">\r\n      <g>\r\n       <use style=\"stroke:#000000;stroke-width:0.8;\" x=\"524.189151\" xlink:href=\"#m518d938351\" y=\"224.64\"/>\r\n      </g>\r\n     </g>\r\n     <g id=\"text_22\">\r\n      <!-- 26 -->\r\n      <g transform=\"translate(517.826651 239.238437)scale(0.1 -0.1)\">\r\n       <use xlink:href=\"#DejaVuSans-32\"/>\r\n       <use x=\"63.623047\" xlink:href=\"#DejaVuSans-36\"/>\r\n      </g>\r\n     </g>\r\n    </g>\r\n    <g id=\"xtick_11\">\r\n     <g id=\"line2d_32\">\r\n      <g>\r\n       <use style=\"stroke:#000000;stroke-width:0.8;\" x=\"566.112516\" xlink:href=\"#m518d938351\" y=\"224.64\"/>\r\n      </g>\r\n     </g>\r\n     <g id=\"text_23\">\r\n      <!-- 28 -->\r\n      <g transform=\"translate(559.750016 239.238437)scale(0.1 -0.1)\">\r\n       <use xlink:href=\"#DejaVuSans-32\"/>\r\n       <use x=\"63.623047\" xlink:href=\"#DejaVuSans-38\"/>\r\n      </g>\r\n     </g>\r\n    </g>\r\n    <g id=\"text_24\">\r\n     <!-- BMI -->\r\n     <g transform=\"translate(462.565412 252.916562)scale(0.1 -0.1)\">\r\n      <use xlink:href=\"#DejaVuSans-42\"/>\r\n      <use x=\"68.603516\" xlink:href=\"#DejaVuSans-4d\"/>\r\n      <use x=\"154.882812\" xlink:href=\"#DejaVuSans-49\"/>\r\n     </g>\r\n    </g>\r\n   </g>\r\n   <g id=\"matplotlib.axis_4\">\r\n    <g id=\"ytick_6\">\r\n     <g id=\"line2d_33\">\r\n      <g>\r\n       <use style=\"stroke:#000000;stroke-width:0.8;\" x=\"344.966761\" xlink:href=\"#meeaccd8d65\" y=\"200.965243\"/>\r\n      </g>\r\n     </g>\r\n     <g id=\"text_25\">\r\n      <!-- 10 -->\r\n      <g transform=\"translate(325.241761 204.764462)scale(0.1 -0.1)\">\r\n       <use xlink:href=\"#DejaVuSans-31\"/>\r\n       <use x=\"63.623047\" xlink:href=\"#DejaVuSans-30\"/>\r\n      </g>\r\n     </g>\r\n    </g>\r\n    <g id=\"ytick_7\">\r\n     <g id=\"line2d_34\">\r\n      <g>\r\n       <use style=\"stroke:#000000;stroke-width:0.8;\" x=\"344.966761\" xlink:href=\"#meeaccd8d65\" y=\"154.994841\"/>\r\n      </g>\r\n     </g>\r\n     <g id=\"text_26\">\r\n      <!-- 20 -->\r\n      <g transform=\"translate(325.241761 158.79406)scale(0.1 -0.1)\">\r\n       <use xlink:href=\"#DejaVuSans-32\"/>\r\n       <use x=\"63.623047\" xlink:href=\"#DejaVuSans-30\"/>\r\n      </g>\r\n     </g>\r\n    </g>\r\n    <g id=\"ytick_8\">\r\n     <g id=\"line2d_35\">\r\n      <g>\r\n       <use style=\"stroke:#000000;stroke-width:0.8;\" x=\"344.966761\" xlink:href=\"#meeaccd8d65\" y=\"109.02444\"/>\r\n      </g>\r\n     </g>\r\n     <g id=\"text_27\">\r\n      <!-- 30 -->\r\n      <g transform=\"translate(325.241761 112.823658)scale(0.1 -0.1)\">\r\n       <use xlink:href=\"#DejaVuSans-33\"/>\r\n       <use x=\"63.623047\" xlink:href=\"#DejaVuSans-30\"/>\r\n      </g>\r\n     </g>\r\n    </g>\r\n    <g id=\"ytick_9\">\r\n     <g id=\"line2d_36\">\r\n      <g>\r\n       <use style=\"stroke:#000000;stroke-width:0.8;\" x=\"344.966761\" xlink:href=\"#meeaccd8d65\" y=\"63.054038\"/>\r\n      </g>\r\n     </g>\r\n     <g id=\"text_28\">\r\n      <!-- 40 -->\r\n      <g transform=\"translate(325.241761 66.853257)scale(0.1 -0.1)\">\r\n       <use xlink:href=\"#DejaVuSans-34\"/>\r\n       <use x=\"63.623047\" xlink:href=\"#DejaVuSans-30\"/>\r\n      </g>\r\n     </g>\r\n    </g>\r\n    <g id=\"ytick_10\">\r\n     <g id=\"line2d_37\">\r\n      <g>\r\n       <use style=\"stroke:#000000;stroke-width:0.8;\" x=\"344.966761\" xlink:href=\"#meeaccd8d65\" y=\"17.083636\"/>\r\n      </g>\r\n     </g>\r\n     <g id=\"text_29\">\r\n      <!-- 50 -->\r\n      <g transform=\"translate(325.241761 20.882855)scale(0.1 -0.1)\">\r\n       <use xlink:href=\"#DejaVuSans-35\"/>\r\n       <use x=\"63.623047\" xlink:href=\"#DejaVuSans-30\"/>\r\n      </g>\r\n     </g>\r\n    </g>\r\n    <g id=\"text_30\">\r\n     <!-- Scores -->\r\n     <g transform=\"translate(319.162074 132.527031)rotate(-90)scale(0.1 -0.1)\">\r\n      <use xlink:href=\"#DejaVuSans-53\"/>\r\n      <use x=\"63.476562\" xlink:href=\"#DejaVuSans-63\"/>\r\n      <use x=\"118.457031\" xlink:href=\"#DejaVuSans-6f\"/>\r\n      <use x=\"179.638672\" xlink:href=\"#DejaVuSans-72\"/>\r\n      <use x=\"218.501953\" xlink:href=\"#DejaVuSans-65\"/>\r\n      <use x=\"280.025391\" xlink:href=\"#DejaVuSans-73\"/>\r\n     </g>\r\n    </g>\r\n   </g>\r\n   <g id=\"line2d_38\">\r\n    <path clip-path=\"url(#p075b95d15b)\" d=\"M 377.45737 168.785962 \r\nL 398.419053 129.711121 \r\nL 419.380736 132.009641 \r\nL 482.265785 81.442199 \r\nL 545.150833 104.4274 \r\nL 566.112516 177.980042 \r\nL 587.074199 210.159323 \r\n\" style=\"fill:none;stroke:#1f77b4;stroke-linecap:square;stroke-width:1.5;\"/>\r\n   </g>\r\n   <g id=\"line2d_39\">\r\n    <path clip-path=\"url(#p075b95d15b)\" d=\"M 356.495687 115.153827 \r\nL 377.45737 46.964397 \r\nL 482.265785 40.068837 \r\nL 545.150833 127.4126 \r\n\" style=\"fill:none;stroke:#ff7f0e;stroke-linecap:square;stroke-width:1.5;\"/>\r\n   </g>\r\n   <g id=\"line2d_40\">\r\n    <path clip-path=\"url(#p075b95d15b)\" d=\"M 356.495687 120.51704 \r\nL 377.45737 187.174123 \r\nL 398.419053 104.4274 \r\nL 419.380736 152.696321 \r\nL 440.342419 139.671374 \r\nL 503.227468 205.562283 \r\n\" style=\"fill:none;stroke:#2ca02c;stroke-linecap:square;stroke-width:1.5;\"/>\r\n   </g>\r\n   <g id=\"line2d_41\">\r\n    <path clip-path=\"url(#p075b95d15b)\" d=\"M 356.495687 182.577082 \r\nL 398.419053 200.965243 \r\nL 419.380736 159.591882 \r\nL 440.342419 145.800761 \r\nL 482.265785 127.4126 \r\nL 503.227468 200.965243 \r\nL 524.189151 164.188922 \r\nL 545.150833 214.756364 \r\n\" style=\"fill:none;stroke:#d62728;stroke-linecap:square;stroke-width:1.5;\"/>\r\n   </g>\r\n   <g id=\"line2d_42\"/>\r\n   <g id=\"line2d_43\"/>\r\n   <g id=\"line2d_44\"/>\r\n   <g id=\"line2d_45\"/>\r\n   <g id=\"patch_9\">\r\n    <path d=\"M 344.966761 224.64 \r\nL 344.966761 7.2 \r\n\" style=\"fill:none;stroke:#000000;stroke-linecap:square;stroke-linejoin:miter;stroke-width:0.8;\"/>\r\n   </g>\r\n   <g id=\"patch_10\">\r\n    <path d=\"M 598.603125 224.64 \r\nL 598.603125 7.2 \r\n\" style=\"fill:none;stroke:#000000;stroke-linecap:square;stroke-linejoin:miter;stroke-width:0.8;\"/>\r\n   </g>\r\n   <g id=\"patch_11\">\r\n    <path d=\"M 344.966761 224.64 \r\nL 598.603125 224.64 \r\n\" style=\"fill:none;stroke:#000000;stroke-linecap:square;stroke-linejoin:miter;stroke-width:0.8;\"/>\r\n   </g>\r\n   <g id=\"patch_12\">\r\n    <path d=\"M 344.966761 7.2 \r\nL 598.603125 7.2 \r\n\" style=\"fill:none;stroke:#000000;stroke-linecap:square;stroke-linejoin:miter;stroke-width:0.8;\"/>\r\n   </g>\r\n   <g id=\"legend_2\">\r\n    <g id=\"patch_13\">\r\n     <path d=\"M 550.096875 88.590625 \r\nL 591.603125 88.590625 \r\nQ 593.603125 88.590625 593.603125 86.590625 \r\nL 593.603125 14.2 \r\nQ 593.603125 12.2 591.603125 12.2 \r\nL 550.096875 12.2 \r\nQ 548.096875 12.2 548.096875 14.2 \r\nL 548.096875 86.590625 \r\nQ 548.096875 88.590625 550.096875 88.590625 \r\nz\r\n\" style=\"fill:#ffffff;opacity:0.8;stroke:#cccccc;stroke-linejoin:miter;\"/>\r\n    </g>\r\n    <g id=\"text_31\">\r\n     <!-- Method -->\r\n     <g transform=\"translate(552.096875 23.798437)scale(0.1 -0.1)\">\r\n      <use xlink:href=\"#DejaVuSans-4d\"/>\r\n      <use x=\"86.279297\" xlink:href=\"#DejaVuSans-65\"/>\r\n      <use x=\"147.802734\" xlink:href=\"#DejaVuSans-74\"/>\r\n      <use x=\"187.011719\" xlink:href=\"#DejaVuSans-68\"/>\r\n      <use x=\"250.390625\" xlink:href=\"#DejaVuSans-6f\"/>\r\n      <use x=\"311.572266\" xlink:href=\"#DejaVuSans-64\"/>\r\n     </g>\r\n    </g>\r\n    <g id=\"line2d_46\">\r\n     <path d=\"M 553 34.976562 \r\nL 573 34.976562 \r\n\" style=\"fill:none;stroke:#1f77b4;stroke-linecap:square;stroke-width:1.5;\"/>\r\n    </g>\r\n    <g id=\"line2d_47\"/>\r\n    <g id=\"text_32\">\r\n     <!-- A -->\r\n     <g transform=\"translate(581 38.476562)scale(0.1 -0.1)\">\r\n      <use xlink:href=\"#DejaVuSans-41\"/>\r\n     </g>\r\n    </g>\r\n    <g id=\"line2d_48\">\r\n     <path d=\"M 553 49.654687 \r\nL 573 49.654687 \r\n\" style=\"fill:none;stroke:#ff7f0e;stroke-linecap:square;stroke-width:1.5;\"/>\r\n    </g>\r\n    <g id=\"line2d_49\"/>\r\n    <g id=\"text_33\">\r\n     <!-- B -->\r\n     <g transform=\"translate(581 53.154687)scale(0.1 -0.1)\">\r\n      <use xlink:href=\"#DejaVuSans-42\"/>\r\n     </g>\r\n    </g>\r\n    <g id=\"line2d_50\">\r\n     <path d=\"M 553 64.332812 \r\nL 573 64.332812 \r\n\" style=\"fill:none;stroke:#2ca02c;stroke-linecap:square;stroke-width:1.5;\"/>\r\n    </g>\r\n    <g id=\"line2d_51\"/>\r\n    <g id=\"text_34\">\r\n     <!-- C -->\r\n     <g transform=\"translate(581 67.832812)scale(0.1 -0.1)\">\r\n      <use xlink:href=\"#DejaVuSans-43\"/>\r\n     </g>\r\n    </g>\r\n    <g id=\"line2d_52\">\r\n     <path d=\"M 553 79.010937 \r\nL 573 79.010937 \r\n\" style=\"fill:none;stroke:#d62728;stroke-linecap:square;stroke-width:1.5;\"/>\r\n    </g>\r\n    <g id=\"line2d_53\"/>\r\n    <g id=\"text_35\">\r\n     <!-- D -->\r\n     <g transform=\"translate(581 82.510937)scale(0.1 -0.1)\">\r\n      <use xlink:href=\"#DejaVuSans-44\"/>\r\n     </g>\r\n    </g>\r\n   </g>\r\n  </g>\r\n </g>\r\n <defs>\r\n  <clipPath id=\"pfd0ad95bc8\">\r\n   <rect height=\"217.44\" width=\"253.636364\" x=\"40.603125\" y=\"7.2\"/>\r\n  </clipPath>\r\n  <clipPath id=\"p075b95d15b\">\r\n   <rect height=\"217.44\" width=\"253.636364\" x=\"344.966761\" y=\"7.2\"/>\r\n  </clipPath>\r\n </defs>\r\n</svg>\r\n",
      "image/png": "[encoded data removed]"
     },
     "metadata": {
      "needs_background": "light"
     }
    }
   ],
   "metadata": {}
  },
  {
   "cell_type": "code",
   "execution_count": 38,
   "source": [
    "# Evaluating the scores with different method and income or BMI as a covariate\r\n",
    "pg.ancova(data=data_ancova, dv='Scores', covar=['Income', 'BMI'], between='Method')"
   ],
   "outputs": [
    {
     "output_type": "execute_result",
     "data": {
      "text/plain": [
       "     Source           SS  DF          F     p-unc       np2\n",
       "0    Method   552.284043   3   3.232550  0.036113  0.244288\n",
       "1    Income  1573.952434   1  27.637304  0.000011  0.479504\n",
       "2       BMI    60.013656   1   1.053790  0.312842  0.033934\n",
       "3  Residual  1708.508657  30        NaN       NaN       NaN"
      ],
      "text/html": [
       "<div>\n",
       "<style scoped>\n",
       "    .dataframe tbody tr th:only-of-type {\n",
       "        vertical-align: middle;\n",
       "    }\n",
       "\n",
       "    .dataframe tbody tr th {\n",
       "        vertical-align: top;\n",
       "    }\n",
       "\n",
       "    .dataframe thead th {\n",
       "        text-align: right;\n",
       "    }\n",
       "</style>\n",
       "<table border=\"1\" class=\"dataframe\">\n",
       "  <thead>\n",
       "    <tr style=\"text-align: right;\">\n",
       "      <th></th>\n",
       "      <th>Source</th>\n",
       "      <th>SS</th>\n",
       "      <th>DF</th>\n",
       "      <th>F</th>\n",
       "      <th>p-unc</th>\n",
       "      <th>np2</th>\n",
       "    </tr>\n",
       "  </thead>\n",
       "  <tbody>\n",
       "    <tr>\n",
       "      <th>0</th>\n",
       "      <td>Method</td>\n",
       "      <td>552.284043</td>\n",
       "      <td>3</td>\n",
       "      <td>3.232550</td>\n",
       "      <td>0.036113</td>\n",
       "      <td>0.244288</td>\n",
       "    </tr>\n",
       "    <tr>\n",
       "      <th>1</th>\n",
       "      <td>Income</td>\n",
       "      <td>1573.952434</td>\n",
       "      <td>1</td>\n",
       "      <td>27.637304</td>\n",
       "      <td>0.000011</td>\n",
       "      <td>0.479504</td>\n",
       "    </tr>\n",
       "    <tr>\n",
       "      <th>2</th>\n",
       "      <td>BMI</td>\n",
       "      <td>60.013656</td>\n",
       "      <td>1</td>\n",
       "      <td>1.053790</td>\n",
       "      <td>0.312842</td>\n",
       "      <td>0.033934</td>\n",
       "    </tr>\n",
       "    <tr>\n",
       "      <th>3</th>\n",
       "      <td>Residual</td>\n",
       "      <td>1708.508657</td>\n",
       "      <td>30</td>\n",
       "      <td>NaN</td>\n",
       "      <td>NaN</td>\n",
       "      <td>NaN</td>\n",
       "    </tr>\n",
       "  </tbody>\n",
       "</table>\n",
       "</div>"
      ]
     },
     "metadata": {},
     "execution_count": 38
    }
   ],
   "metadata": {}
  },
  {
   "cell_type": "markdown",
   "source": [
    "## Multiple comparison tests after ANOVA\n",
    "\n",
    "The goal is to compare every mean with every other mean. The results of Tukey (or more generally Tuker-Kramer test which allows for unequal sample size) include:\n",
    "\n",
    "- both CIs\n",
    "- conclusions about statistical significance "
   ],
   "metadata": {}
  },
  {
   "cell_type": "code",
   "execution_count": null,
   "source": [
    "mult_comp = sm.stats.multicomp.MultiComparison(data['weight'], data['group'])"
   ],
   "outputs": [],
   "metadata": {}
  },
  {
   "cell_type": "markdown",
   "source": [
    "## Tukey"
   ],
   "metadata": {}
  },
  {
   "cell_type": "code",
   "execution_count": null,
   "source": [
    "print(mult_comp.tukeyhsd()) # P values are computed but not displayed"
   ],
   "outputs": [],
   "metadata": {
    "scrolled": false
   }
  },
  {
   "cell_type": "markdown",
   "source": [
    "These are multiple comparisons CIs, so the 95% confidence level applies to the entire family of comparisons, rather than to each individual interval. There is a 95% change that all three of these CIs include the true population value, leaving a 5% chance that any one or more of the intervals does not include the population value.  \n",
    "If a 95% CI for the difference between two means include zero ($H_0$) then the difference is not statistically significant (P>0.05).  \n",
    "The 5% significance level is a **familywise significance level**, meaning that it applies to the entire set of comparisons. If the null hypothesis is true, there is a 5% chance that one or more of the comparisaons will be statistically significant. The _yes/no_ conclusions apply to each comparison individually."
   ],
   "metadata": {}
  },
  {
   "cell_type": "code",
   "execution_count": null,
   "source": [
    "print(mult_comp.groupstats.groupmean)"
   ],
   "outputs": [],
   "metadata": {
    "scrolled": true
   }
  },
  {
   "cell_type": "code",
   "execution_count": null,
   "source": [
    "mult_comp_2 = sm.stats.multicomp.pairwise_tukeyhsd(data['weight'], data['group'])\r\n",
    "# Tukey’s Honestly Significant Difference\r\n",
    "mult_comp_2.summary()"
   ],
   "outputs": [],
   "metadata": {
    "scrolled": true
   }
  },
  {
   "cell_type": "code",
   "execution_count": null,
   "source": [
    "np.diff(mult_comp_2.confint) # same CI for all three comparisons (see end of this part), here n=10 in all groups"
   ],
   "outputs": [],
   "metadata": {}
  },
  {
   "cell_type": "markdown",
   "source": [
    "When computing most multiple comparisons tests, the SD for difference between 2 means is not computed from the SDs of those two groups but rather from the pooled SD of all the groups. The margin of error of the CI is computed by multiplying the SE of the difference by a critical value that depends on the choice of test, the number of df, the degree of confidence desired and the number of comparisons:\n",
    "$$\n",
    "\\bar{y_i} - \\bar{y_j} \\pm t_{1-\\alpha/2}\\sqrt{\\frac{SSE}{n-k}\\left(\\frac{1}{n_i}+\\frac{1}{n_j}\\right)}\n",
    "$$\n",
    "and $MSE = SSE/(n-k) = s_p²$ (pooled variance)"
   ],
   "metadata": {}
  },
  {
   "cell_type": "code",
   "execution_count": null,
   "source": [
    "_ = mult_comp_2.plot_simultaneous(comparison_name='ctrl', xlabel='weight', ylabel='group')"
   ],
   "outputs": [],
   "metadata": {
    "scrolled": true
   }
  },
  {
   "cell_type": "markdown",
   "source": [
    "## Dunnett's test\n",
    "Compares the mean of each group to the mean of a control group without comparing the other groups among themselves. The test makes fewer comparisons than Tukey's method, so it generates narrower CIs and has more power to detect differences."
   ],
   "metadata": {}
  },
  {
   "cell_type": "code",
   "execution_count": null,
   "source": [
    "# there is nothing well established in Python, so let's use R\r\n",
    "import rpy2.ipython\r\n",
    "%load_ext rpy2.ipython"
   ],
   "outputs": [],
   "metadata": {}
  },
  {
   "cell_type": "code",
   "execution_count": null,
   "source": [
    "%%R\r\n",
    "print(head(data))"
   ],
   "outputs": [],
   "metadata": {}
  },
  {
   "cell_type": "markdown",
   "source": [
    "This is not working, better to switch to a different notebook dedicated to analyses using R."
   ],
   "metadata": {}
  },
  {
   "cell_type": "markdown",
   "source": [
    "## Bonferroni's test\n",
    "Bonferroni's multiple comparisons test should be used when the experiment design requires comparing only selected pairs of means (different from Tukey -> all vs. all, and Dunnett -> all vs. control)."
   ],
   "metadata": {}
  },
  {
   "cell_type": "markdown",
   "source": [
    "results = mult_comp.allpairtest(stats.ttest_ind, method='bonf')\n",
    "results[0]"
   ],
   "metadata": {}
  },
  {
   "cell_type": "code",
   "execution_count": null,
   "source": [
    "p_val_adj = .05 / 3\r\n",
    "p_val_adj"
   ],
   "outputs": [],
   "metadata": {}
  },
  {
   "cell_type": "code",
   "execution_count": null,
   "source": [
    "res = stats.ttest_ind(data[data['group'] == 'ctrl']['weight'],\r\n",
    "                     data[data['group'] == 'trt1']['weight'])\r\n",
    "res"
   ],
   "outputs": [],
   "metadata": {}
  },
  {
   "cell_type": "code",
   "execution_count": null,
   "source": [
    "res.pvalue <= p_val_adj"
   ],
   "outputs": [],
   "metadata": {}
  },
  {
   "cell_type": "markdown",
   "source": [
    "The individual t-tests that are conducted have to have a p-value less than 0.01667 in order to be considered significant."
   ],
   "metadata": {}
  },
  {
   "cell_type": "code",
   "execution_count": null,
   "source": [
    "from statsmodels.sandbox.stats.multicomp import multipletests"
   ],
   "outputs": [],
   "metadata": {
    "scrolled": true
   }
  },
  {
   "cell_type": "code",
   "execution_count": null,
   "source": [
    "multipletests([.05, 0.3, 0.01], alpha=.05, method='bonferroni')"
   ],
   "outputs": [],
   "metadata": {}
  },
  {
   "cell_type": "markdown",
   "source": [
    "### allpairtest"
   ],
   "metadata": {}
  },
  {
   "cell_type": "code",
   "execution_count": null,
   "source": [
    "mult_comp.allpairtest(stats.ttest_ind, method='bonf')[0]"
   ],
   "outputs": [],
   "metadata": {}
  },
  {
   "cell_type": "markdown",
   "source": [
    "The pairwise.ttest for independent samples in R, as well as the Tukey HSD test in both R and statsmoldels, use the **joint variance across all samples**, while the pairwise ttest calculates the joint variance estimate for each pair of sample separately. _stats.ttest_ind_ just looks at one pair at a time:  "
   ],
   "metadata": {}
  },
  {
   "cell_type": "markdown",
   "source": [
    "```Rscipt\n",
    "pairwise.t.test(data$weight, data$group, p.adj = \"bonferroni\")\n",
    "\n",
    "data:  data$weight and data$group \n",
    "\n",
    "     ctrl  trt1 \n",
    "trt1 0.583 -    \n",
    "trt2 0.263 0.013\n",
    "\n",
    "P value adjustment method: bonferroni\n",
    "```"
   ],
   "metadata": {}
  },
  {
   "cell_type": "code",
   "execution_count": null,
   "source": [
    "# use scikit_posthocs instead\r\n",
    "import scikit_posthocs as sp\r\n",
    "print(sp.posthoc_ttest(data, 'weight', 'group', pool_sd=True, p_adjust='b'))"
   ],
   "outputs": [],
   "metadata": {}
  },
  {
   "cell_type": "markdown",
   "source": [
    "## Holm adjustment\n",
    "The Holm adjustment sequentially compares the lowest p-value with a Type I error rate that is reduced for each consecutive test. In our case, this means that our first p-value is tested at the .05/3 level (.017), second at the .05/2 level (.025), and third at the .05/1 level (.05). This method is generally considered superior to the Bonferroni adjustment."
   ],
   "metadata": {}
  },
  {
   "cell_type": "code",
   "execution_count": null,
   "source": [
    "mult_comp.allpairtest(stats.ttest_ind, method='h')[0]"
   ],
   "outputs": [],
   "metadata": {}
  },
  {
   "cell_type": "code",
   "execution_count": null,
   "source": [],
   "outputs": [],
   "metadata": {}
  }
 ],
 "metadata": {
  "interpreter": {
   "hash": "b51595f36012c8da2bf2284ebbd8d377d5c2d31fa7484164f2d2bcda7a09b462"
  },
  "kernelspec": {
   "name": "python3",
   "display_name": "Python 3.9.6 64-bit (system)"
  },
  "language_info": {
   "codemirror_mode": {
    "name": "ipython",
    "version": 3
   },
   "file_extension": ".py",
   "mimetype": "text/x-python",
   "name": "python",
   "nbconvert_exporter": "python",
   "pygments_lexer": "ipython3",
   "version": "3.9.6"
  }
 },
 "nbformat": 4,
 "nbformat_minor": 2
}