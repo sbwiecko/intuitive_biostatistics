{
 "cells": [
  {
   "cell_type": "markdown",
   "source": [
    "# ANOVA\r\n",
    "\r\n",
    "## Introduction\r\n",
    "\r\n",
    "One-way ANOVA compares the means of three or more groups, assuming that all values are sampled from Gaussian populations. It is called one-way ANOVA, because the groups are categorized by one scheme (e.g. treatment). Two-way ANOVA is used when the data are categorized by two schemes (e.g. treatment and gender).\r\n",
    "\r\n",
    "![flowchart for selecting the right ANOVA function](https://pingouin-stats.org/_images/flowchart_one_way_ANOVA.svg)\r\n",
    "\r\n",
    "The main problem with computing several t tests is multiple comparisons. As you include more groups in the study, you increase the chance of obtaining one or more P values less than 0.05 just by chance. If the null hypothesis were true, there would be a 5% chance that each particular t test would yield a P value less than 0.05, but with three comparisons, the chance that any one (or more) of the values would be less than 0.05 would be far higher that 5%\r\n",
    "\r\n",
    "One-way ANOVA can be seen as a regression model with a **single categorical predictor**. This predictor usually has **2+ categories**. In fact ANOVA compares the fit of several models to the data, and this can be done with regression techniques. The answers will be fundamentally identical, but they will look very different.\r\n",
    "\r\n",
    "Comparing three or more means with one-way ANOVA can be viewed as comparing the fit of the data to two different models:\r\n",
    "\r\n",
    "- null hypothesis; all populations share the same mean, and nothing but random sampling causes any differences between sample means\r\n",
    "- alternative hypothesis; all populations do not share the same means, at least one population has a mean different than the rest.\r\n",
    "\r\n",
    "### Interpreting a P value\r\n",
    "\r\n",
    "One-way ANOVA compares all the groups at once. The null hypothesis is that all groups were sampled from populations with identical means, i.e. there is no difference between means: $ \\overline{x_1} = \\overline{x_2} = ... = \\overline{x_i}$.\r\n",
    "\r\n",
    "The P value answers the question\r\n",
    ">if the null hypothesis were true, what is the chance of randomly picking samples with mean values as different (or more different) than those observed in the study?\r\n",
    "\r\n",
    "With a P value of 0.004, there is only 0.4% chance that the different means would be as far apart as actually observed or even further apart.\r\n",
    "\r\n",
    "### How it works\r\n",
    "\r\n",
    "The classic ANOVA is very powerful when the groups are **normally distributed** and have **equal variances** (homoscedasticity). It does not require all the samples to have the same number of values, though the two assumptions (Gaussian population and equal variance) matter much more when the sample size varies a lot between groups. When the groups have unequal variances, it is best to use the _Welch ANOVA_ that better controls for type I error.\r\n",
    "\r\n",
    "The main idea of ANOVA is to partition the variance (sums of squares) into several components. For example, in one-way ANOVA:\r\n",
    "\r\n",
    "$$ \\text{SS}_\\text{total} = \\text{SS}_\\text{effect} + \\text{SS}_\\text{error} $$\r\n",
    "$$ \\text{SS}_\\text{total} = \\sum_i \\sum_j (Y_{ij} - \\overline{Y})^2 $$\r\n",
    "$$ \\text{SS}_\\text{effect} = \\sum_i n_i (\\overline{Y_i} - \\overline{Y})^2 $$\r\n",
    "$$ \\text{SS}_\\text{error} = \\sum_i \\sum_j (Y_{ij} - \\overline{Y}_i)^2 $$\r\n",
    "\r\n",
    "where $ i=1,...,r; j=1,...,n_i $, $r$ is the number of groups, and $n_i$ the number of observations for the $i$ th group.\r\n",
    "\r\n",
    "The F-statistics is then defined as:\r\n",
    "$$ F^* = \\frac{\\text{MS}_{\\text{effect}}}{\\text{MS}_{\\text{error}}} = \\frac{\\text{SS}_{\\text{effect}} / (r - 1)}{\\text{SS}_{\\text{error}} / (n_t - r)} $$\r\n",
    "\r\n",
    "and the P-value can be calculated using a F-distribution with $r-1, n_t-1$ degrees of freedom.\r\n",
    "\r\n",
    "The default effect size reported is the **partial eta-square**, which, for one-way ANOVA is the same as eta-square and generalized eta-square:\r\n",
    "$$ \\eta_p^2 = \\frac{\\text{SS}_{\\text{effect}}}{\\text{SS}_{\\text{effect}} + \\text{SS}_{\\text{error}}}$$\r\n",
    "It is interpreted in the same way as $R^2$. For example, an $\\eta^2$ of 0.053, only 5.3% of the total variability is the result of differences within the groups.\r\n",
    "\r\n",
    "Of note, the concept of one- and two-tailed P values does not apply in ANOVA. Because the means of the groups can be in many different orders, the P values has many tails."
   ],
   "metadata": {}
  },
  {
   "cell_type": "markdown",
   "source": [
    "## Partitioning the sum of squares"
   ],
   "metadata": {}
  },
  {
   "cell_type": "code",
   "execution_count": 1,
   "source": [
    "import numpy as np\r\n",
    "import pandas as pd\r\n",
    "\r\n",
    "from scipy import stats\r\n",
    "import pingouin as pg\r\n",
    "\r\n",
    "import matplotlib.pyplot as plt\r\n",
    "import seaborn as sns"
   ],
   "outputs": [],
   "metadata": {}
  },
  {
   "cell_type": "markdown",
   "source": [
    "This is the analysis of the variance: _comparing the ratio of systematic variance to unsystematic variance_ using sum of squares (SS), between the groups `SSB` and the variance within the group `SSW` (i.e. error, residual), with $ \\text{SSW} + \\text{SSB} = \\text{SST} $.\r\n",
    "\r\n",
    "When F increase, then the variance between the group (SSB) is bigger than within the group (SSW).\r\n",
    "\r\n",
    "The group means are represented as deviations from the grand mean by grouping their coefficients under a single term $ y_{ij} = \\mu_{grand} + \\tau_j + \\epsilon_{ij} $"
   ],
   "metadata": {}
  },
  {
   "cell_type": "markdown",
   "source": [
    "One example of one-way ANOVA comparing 3 groups:  \r\n",
    "\r\n",
    "| Hypothesis  | Scatter from | SS    | Var    | R²    |\r\n",
    "| ----------- | ------------ | -----:| ------:| ----- |\r\n",
    "| Null        | Grand mean   | 17.38 | 100.0% |       |\r\n",
    "| Alternative | Group mean   | 16.45 |  94.7% |       |\r\n",
    "| Difference  |              |  0.93 |   5.3% | 0.053 |\r\n",
    "\r\n",
    "Of all the variation, 94.7% is the result of variation within the groups, leaving 5.3% of the total variation as the result of differences between the group means. **The sum of squares resulting from the treatment and the sum of sqaures within the groups always add up to the total sum of squares.**\r\n",
    "\r\n",
    "| Source variation | SS    | DF  | MS    | F ratio | P value |\r\n",
    "| ----------------:| -----:| ---:| ----- | ------  | ------- |\r\n",
    "|   Between groups |  0.93 | 2   | 0.460 |  5.69   |  0.004  |\r\n",
    "| + Within groups  | 16.45 | 202 | 0.081 |         |         |\r\n",
    "| =          Total | 17.38 | 204 |       |         |         |"
   ],
   "metadata": {}
  },
  {
   "cell_type": "markdown",
   "source": [
    "For the total, there are 205 values and only one parameter (grand mean) estimated, so $ \\text{DF} = 204$. For the SSW, 3 parameters were fit (the mean of each group), so $ \\text{DF} = 205 - 3 = 202 $. If the null hypothesis were true, F would be likely to have a value close to 1."
   ],
   "metadata": {}
  },
  {
   "cell_type": "code",
   "execution_count": 47,
   "source": [
    "dfn, dfd = 2, 202\r\n",
    "F = .460 / .081\r\n",
    "\r\n",
    "print(f\"P values computed from the F ratio distribution: {1 - stats.f(dfn, dfd).cdf(F):.4f}\")"
   ],
   "outputs": [
    {
     "output_type": "stream",
     "name": "stdout",
     "text": [
      "P values computed from the F ratio distribution: 0.0040\n"
     ]
    }
   ],
   "metadata": {}
  },
  {
   "cell_type": "markdown",
   "source": [
    "The low P value means that the differences among group means would be very unlikely if in fact all the population means were equal.  \n",
    "The low R² means that the differences among group means are only a tiny fraction of the overall variability."
   ],
   "metadata": {}
  },
  {
   "cell_type": "markdown",
   "source": [
    "## Practical example of one-way ANOVA"
   ],
   "metadata": {}
  },
  {
   "cell_type": "code",
   "execution_count": 14,
   "source": [
    "# 0. Load an example dataset comparing pain threshold as a function of hair color\r\n",
    "data = pg.read_dataset('anova')\r\n",
    "pg.print_table(data, tablefmt='github')"
   ],
   "outputs": [
    {
     "output_type": "stream",
     "name": "stdout",
     "text": [
      "|   Subject | Hair color     |   Pain threshold |\n",
      "|-----------|----------------|------------------|\n",
      "|         1 | Light Blond    |               62 |\n",
      "|         2 | Light Blond    |               60 |\n",
      "|         3 | Light Blond    |               71 |\n",
      "|         4 | Light Blond    |               55 |\n",
      "|         5 | Light Blond    |               48 |\n",
      "|         6 | Dark Blond     |               63 |\n",
      "|         7 | Dark Blond     |               57 |\n",
      "|         8 | Dark Blond     |               52 |\n",
      "|         9 | Dark Blond     |               41 |\n",
      "|        10 | Dark Blond     |               43 |\n",
      "|        11 | Light Brunette |               42 |\n",
      "|        12 | Light Brunette |               50 |\n",
      "|        13 | Light Brunette |               41 |\n",
      "|        14 | Light Brunette |               37 |\n",
      "|        15 | Dark Brunette  |               32 |\n",
      "|        16 | Dark Brunette  |               39 |\n",
      "|        17 | Dark Brunette  |               51 |\n",
      "|        18 | Dark Brunette  |               30 |\n",
      "|        19 | Dark Brunette  |               35 |\n",
      "\n"
     ]
    }
   ],
   "metadata": {}
  },
  {
   "cell_type": "code",
   "execution_count": 36,
   "source": [
    "sns.boxplot(x='Hair color', y='Pain threshold', data=data)\r\n",
    "sns.stripplot(x='Hair color', y='Pain threshold', data=data, color='black', size=10);"
   ],
   "outputs": [
    {
     "output_type": "display_data",
     "data": {
      "text/plain": [
       "<Figure size 432x288 with 1 Axes>"
      ],
      "image/svg+xml": "<?xml version=\"1.0\" encoding=\"utf-8\" standalone=\"no\"?>\r\n<!DOCTYPE svg PUBLIC \"-//W3C//DTD SVG 1.1//EN\"\r\n  \"http://www.w3.org/Graphics/SVG/1.1/DTD/svg11.dtd\">\r\n<svg height=\"262.19625pt\" version=\"1.1\" viewBox=\"0 0 382.603125 262.19625\" width=\"382.603125pt\" xmlns=\"http://www.w3.org/2000/svg\" xmlns:xlink=\"http://www.w3.org/1999/xlink\">\r\n <metadata>\r\n  <rdf:RDF xmlns:cc=\"http://creativecommons.org/ns#\" xmlns:dc=\"http://purl.org/dc/elements/1.1/\" xmlns:rdf=\"http://www.w3.org/1999/02/22-rdf-syntax-ns#\">\r\n   <cc:Work>\r\n    <dc:type rdf:resource=\"http://purl.org/dc/dcmitype/StillImage\"/>\r\n    <dc:date>2021-08-23T16:38:22.189806</dc:date>\r\n    <dc:format>image/svg+xml</dc:format>\r\n    <dc:creator>\r\n     <cc:Agent>\r\n      <dc:title>Matplotlib v3.4.3, https://matplotlib.org/</dc:title>\r\n     </cc:Agent>\r\n    </dc:creator>\r\n   </cc:Work>\r\n  </rdf:RDF>\r\n </metadata>\r\n <defs>\r\n  <style type=\"text/css\">*{stroke-linecap:butt;stroke-linejoin:round;}</style>\r\n </defs>\r\n <g id=\"figure_1\">\r\n  <g id=\"patch_1\">\r\n   <path d=\"M 0 262.19625 \r\nL 382.603125 262.19625 \r\nL 382.603125 0 \r\nL 0 0 \r\nz\r\n\" style=\"fill:none;\"/>\r\n  </g>\r\n  <g id=\"axes_1\">\r\n   <g id=\"patch_2\">\r\n    <path d=\"M 40.603125 224.64 \r\nL 375.403125 224.64 \r\nL 375.403125 7.2 \r\nL 40.603125 7.2 \r\nz\r\n\" style=\"fill:#ffffff;\"/>\r\n   </g>\r\n   <g id=\"patch_3\">\r\n    <path clip-path=\"url(#p217aa5bfd6)\" d=\"M 48.973125 94.224213 \r\nL 115.933125 94.224213 \r\nL 115.933125 60.475211 \r\nL 48.973125 60.475211 \r\nL 48.973125 94.224213 \r\nz\r\n\" style=\"fill:#3274a1;stroke:#3d3d3d;stroke-linejoin:miter;stroke-width:1.5;\"/>\r\n   </g>\r\n   <g id=\"patch_4\">\r\n    <path clip-path=\"url(#p217aa5bfd6)\" d=\"M 132.673125 152.079645 \r\nL 199.633125 152.079645 \r\nL 199.633125 84.581641 \r\nL 132.673125 84.581641 \r\nL 132.673125 152.079645 \r\nz\r\n\" style=\"fill:#e1812c;stroke:#3d3d3d;stroke-linejoin:miter;stroke-width:1.5;\"/>\r\n   </g>\r\n   <g id=\"patch_5\">\r\n    <path clip-path=\"url(#p217aa5bfd6)\" d=\"M 216.373125 166.543503 \r\nL 283.333125 166.543503 \r\nL 283.333125 147.258359 \r\nL 216.373125 147.258359 \r\nL 216.373125 166.543503 \r\nz\r\n\" style=\"fill:#3a923a;stroke:#3d3d3d;stroke-linejoin:miter;stroke-width:1.5;\"/>\r\n   </g>\r\n   <g id=\"patch_6\">\r\n    <path clip-path=\"url(#p217aa5bfd6)\" d=\"M 300.073125 205.113792 \r\nL 367.033125 205.113792 \r\nL 367.033125 171.364789 \r\nL 300.073125 171.364789 \r\nL 300.073125 205.113792 \r\nz\r\n\" style=\"fill:#c03d3e;stroke:#3d3d3d;stroke-linejoin:miter;stroke-width:1.5;\"/>\r\n   </g>\r\n   <g id=\"matplotlib.axis_1\">\r\n    <g id=\"xtick_1\">\r\n     <g id=\"line2d_1\">\r\n      <defs>\r\n       <path d=\"M 0 0 \r\nL 0 3.5 \r\n\" id=\"me3a7772b2b\" style=\"stroke:#000000;stroke-width:0.8;\"/>\r\n      </defs>\r\n      <g>\r\n       <use style=\"stroke:#000000;stroke-width:0.8;\" x=\"82.453125\" xlink:href=\"#me3a7772b2b\" y=\"224.64\"/>\r\n      </g>\r\n     </g>\r\n     <g id=\"text_1\">\r\n      <!-- Light Blond -->\r\n      <g transform=\"translate(54.164062 239.238437)scale(0.1 -0.1)\">\r\n       <defs>\r\n        <path d=\"M 628 4666 \r\nL 1259 4666 \r\nL 1259 531 \r\nL 3531 531 \r\nL 3531 0 \r\nL 628 0 \r\nL 628 4666 \r\nz\r\n\" id=\"DejaVuSans-4c\" transform=\"scale(0.015625)\"/>\r\n        <path d=\"M 603 3500 \r\nL 1178 3500 \r\nL 1178 0 \r\nL 603 0 \r\nL 603 3500 \r\nz\r\nM 603 4863 \r\nL 1178 4863 \r\nL 1178 4134 \r\nL 603 4134 \r\nL 603 4863 \r\nz\r\n\" id=\"DejaVuSans-69\" transform=\"scale(0.015625)\"/>\r\n        <path d=\"M 2906 1791 \r\nQ 2906 2416 2648 2759 \r\nQ 2391 3103 1925 3103 \r\nQ 1463 3103 1205 2759 \r\nQ 947 2416 947 1791 \r\nQ 947 1169 1205 825 \r\nQ 1463 481 1925 481 \r\nQ 2391 481 2648 825 \r\nQ 2906 1169 2906 1791 \r\nz\r\nM 3481 434 \r\nQ 3481 -459 3084 -895 \r\nQ 2688 -1331 1869 -1331 \r\nQ 1566 -1331 1297 -1286 \r\nQ 1028 -1241 775 -1147 \r\nL 775 -588 \r\nQ 1028 -725 1275 -790 \r\nQ 1522 -856 1778 -856 \r\nQ 2344 -856 2625 -561 \r\nQ 2906 -266 2906 331 \r\nL 2906 616 \r\nQ 2728 306 2450 153 \r\nQ 2172 0 1784 0 \r\nQ 1141 0 747 490 \r\nQ 353 981 353 1791 \r\nQ 353 2603 747 3093 \r\nQ 1141 3584 1784 3584 \r\nQ 2172 3584 2450 3431 \r\nQ 2728 3278 2906 2969 \r\nL 2906 3500 \r\nL 3481 3500 \r\nL 3481 434 \r\nz\r\n\" id=\"DejaVuSans-67\" transform=\"scale(0.015625)\"/>\r\n        <path d=\"M 3513 2113 \r\nL 3513 0 \r\nL 2938 0 \r\nL 2938 2094 \r\nQ 2938 2591 2744 2837 \r\nQ 2550 3084 2163 3084 \r\nQ 1697 3084 1428 2787 \r\nQ 1159 2491 1159 1978 \r\nL 1159 0 \r\nL 581 0 \r\nL 581 4863 \r\nL 1159 4863 \r\nL 1159 2956 \r\nQ 1366 3272 1645 3428 \r\nQ 1925 3584 2291 3584 \r\nQ 2894 3584 3203 3211 \r\nQ 3513 2838 3513 2113 \r\nz\r\n\" id=\"DejaVuSans-68\" transform=\"scale(0.015625)\"/>\r\n        <path d=\"M 1172 4494 \r\nL 1172 3500 \r\nL 2356 3500 \r\nL 2356 3053 \r\nL 1172 3053 \r\nL 1172 1153 \r\nQ 1172 725 1289 603 \r\nQ 1406 481 1766 481 \r\nL 2356 481 \r\nL 2356 0 \r\nL 1766 0 \r\nQ 1100 0 847 248 \r\nQ 594 497 594 1153 \r\nL 594 3053 \r\nL 172 3053 \r\nL 172 3500 \r\nL 594 3500 \r\nL 594 4494 \r\nL 1172 4494 \r\nz\r\n\" id=\"DejaVuSans-74\" transform=\"scale(0.015625)\"/>\r\n        <path id=\"DejaVuSans-20\" transform=\"scale(0.015625)\"/>\r\n        <path d=\"M 1259 2228 \r\nL 1259 519 \r\nL 2272 519 \r\nQ 2781 519 3026 730 \r\nQ 3272 941 3272 1375 \r\nQ 3272 1813 3026 2020 \r\nQ 2781 2228 2272 2228 \r\nL 1259 2228 \r\nz\r\nM 1259 4147 \r\nL 1259 2741 \r\nL 2194 2741 \r\nQ 2656 2741 2882 2914 \r\nQ 3109 3088 3109 3444 \r\nQ 3109 3797 2882 3972 \r\nQ 2656 4147 2194 4147 \r\nL 1259 4147 \r\nz\r\nM 628 4666 \r\nL 2241 4666 \r\nQ 2963 4666 3353 4366 \r\nQ 3744 4066 3744 3513 \r\nQ 3744 3084 3544 2831 \r\nQ 3344 2578 2956 2516 \r\nQ 3422 2416 3680 2098 \r\nQ 3938 1781 3938 1306 \r\nQ 3938 681 3513 340 \r\nQ 3088 0 2303 0 \r\nL 628 0 \r\nL 628 4666 \r\nz\r\n\" id=\"DejaVuSans-42\" transform=\"scale(0.015625)\"/>\r\n        <path d=\"M 603 4863 \r\nL 1178 4863 \r\nL 1178 0 \r\nL 603 0 \r\nL 603 4863 \r\nz\r\n\" id=\"DejaVuSans-6c\" transform=\"scale(0.015625)\"/>\r\n        <path d=\"M 1959 3097 \r\nQ 1497 3097 1228 2736 \r\nQ 959 2375 959 1747 \r\nQ 959 1119 1226 758 \r\nQ 1494 397 1959 397 \r\nQ 2419 397 2687 759 \r\nQ 2956 1122 2956 1747 \r\nQ 2956 2369 2687 2733 \r\nQ 2419 3097 1959 3097 \r\nz\r\nM 1959 3584 \r\nQ 2709 3584 3137 3096 \r\nQ 3566 2609 3566 1747 \r\nQ 3566 888 3137 398 \r\nQ 2709 -91 1959 -91 \r\nQ 1206 -91 779 398 \r\nQ 353 888 353 1747 \r\nQ 353 2609 779 3096 \r\nQ 1206 3584 1959 3584 \r\nz\r\n\" id=\"DejaVuSans-6f\" transform=\"scale(0.015625)\"/>\r\n        <path d=\"M 3513 2113 \r\nL 3513 0 \r\nL 2938 0 \r\nL 2938 2094 \r\nQ 2938 2591 2744 2837 \r\nQ 2550 3084 2163 3084 \r\nQ 1697 3084 1428 2787 \r\nQ 1159 2491 1159 1978 \r\nL 1159 0 \r\nL 581 0 \r\nL 581 3500 \r\nL 1159 3500 \r\nL 1159 2956 \r\nQ 1366 3272 1645 3428 \r\nQ 1925 3584 2291 3584 \r\nQ 2894 3584 3203 3211 \r\nQ 3513 2838 3513 2113 \r\nz\r\n\" id=\"DejaVuSans-6e\" transform=\"scale(0.015625)\"/>\r\n        <path d=\"M 2906 2969 \r\nL 2906 4863 \r\nL 3481 4863 \r\nL 3481 0 \r\nL 2906 0 \r\nL 2906 525 \r\nQ 2725 213 2448 61 \r\nQ 2172 -91 1784 -91 \r\nQ 1150 -91 751 415 \r\nQ 353 922 353 1747 \r\nQ 353 2572 751 3078 \r\nQ 1150 3584 1784 3584 \r\nQ 2172 3584 2448 3432 \r\nQ 2725 3281 2906 2969 \r\nz\r\nM 947 1747 \r\nQ 947 1113 1208 752 \r\nQ 1469 391 1925 391 \r\nQ 2381 391 2643 752 \r\nQ 2906 1113 2906 1747 \r\nQ 2906 2381 2643 2742 \r\nQ 2381 3103 1925 3103 \r\nQ 1469 3103 1208 2742 \r\nQ 947 2381 947 1747 \r\nz\r\n\" id=\"DejaVuSans-64\" transform=\"scale(0.015625)\"/>\r\n       </defs>\r\n       <use xlink:href=\"#DejaVuSans-4c\"/>\r\n       <use x=\"55.712891\" xlink:href=\"#DejaVuSans-69\"/>\r\n       <use x=\"83.496094\" xlink:href=\"#DejaVuSans-67\"/>\r\n       <use x=\"146.972656\" xlink:href=\"#DejaVuSans-68\"/>\r\n       <use x=\"210.351562\" xlink:href=\"#DejaVuSans-74\"/>\r\n       <use x=\"249.560547\" xlink:href=\"#DejaVuSans-20\"/>\r\n       <use x=\"281.347656\" xlink:href=\"#DejaVuSans-42\"/>\r\n       <use x=\"349.951172\" xlink:href=\"#DejaVuSans-6c\"/>\r\n       <use x=\"377.734375\" xlink:href=\"#DejaVuSans-6f\"/>\r\n       <use x=\"438.916016\" xlink:href=\"#DejaVuSans-6e\"/>\r\n       <use x=\"502.294922\" xlink:href=\"#DejaVuSans-64\"/>\r\n      </g>\r\n     </g>\r\n    </g>\r\n    <g id=\"xtick_2\">\r\n     <g id=\"line2d_2\">\r\n      <g>\r\n       <use style=\"stroke:#000000;stroke-width:0.8;\" x=\"166.153125\" xlink:href=\"#me3a7772b2b\" y=\"224.64\"/>\r\n      </g>\r\n     </g>\r\n     <g id=\"text_2\">\r\n      <!-- Dark Blond -->\r\n      <g transform=\"translate(138.477344 239.238437)scale(0.1 -0.1)\">\r\n       <defs>\r\n        <path d=\"M 1259 4147 \r\nL 1259 519 \r\nL 2022 519 \r\nQ 2988 519 3436 956 \r\nQ 3884 1394 3884 2338 \r\nQ 3884 3275 3436 3711 \r\nQ 2988 4147 2022 4147 \r\nL 1259 4147 \r\nz\r\nM 628 4666 \r\nL 1925 4666 \r\nQ 3281 4666 3915 4102 \r\nQ 4550 3538 4550 2338 \r\nQ 4550 1131 3912 565 \r\nQ 3275 0 1925 0 \r\nL 628 0 \r\nL 628 4666 \r\nz\r\n\" id=\"DejaVuSans-44\" transform=\"scale(0.015625)\"/>\r\n        <path d=\"M 2194 1759 \r\nQ 1497 1759 1228 1600 \r\nQ 959 1441 959 1056 \r\nQ 959 750 1161 570 \r\nQ 1363 391 1709 391 \r\nQ 2188 391 2477 730 \r\nQ 2766 1069 2766 1631 \r\nL 2766 1759 \r\nL 2194 1759 \r\nz\r\nM 3341 1997 \r\nL 3341 0 \r\nL 2766 0 \r\nL 2766 531 \r\nQ 2569 213 2275 61 \r\nQ 1981 -91 1556 -91 \r\nQ 1019 -91 701 211 \r\nQ 384 513 384 1019 \r\nQ 384 1609 779 1909 \r\nQ 1175 2209 1959 2209 \r\nL 2766 2209 \r\nL 2766 2266 \r\nQ 2766 2663 2505 2880 \r\nQ 2244 3097 1772 3097 \r\nQ 1472 3097 1187 3025 \r\nQ 903 2953 641 2809 \r\nL 641 3341 \r\nQ 956 3463 1253 3523 \r\nQ 1550 3584 1831 3584 \r\nQ 2591 3584 2966 3190 \r\nQ 3341 2797 3341 1997 \r\nz\r\n\" id=\"DejaVuSans-61\" transform=\"scale(0.015625)\"/>\r\n        <path d=\"M 2631 2963 \r\nQ 2534 3019 2420 3045 \r\nQ 2306 3072 2169 3072 \r\nQ 1681 3072 1420 2755 \r\nQ 1159 2438 1159 1844 \r\nL 1159 0 \r\nL 581 0 \r\nL 581 3500 \r\nL 1159 3500 \r\nL 1159 2956 \r\nQ 1341 3275 1631 3429 \r\nQ 1922 3584 2338 3584 \r\nQ 2397 3584 2469 3576 \r\nQ 2541 3569 2628 3553 \r\nL 2631 2963 \r\nz\r\n\" id=\"DejaVuSans-72\" transform=\"scale(0.015625)\"/>\r\n        <path d=\"M 581 4863 \r\nL 1159 4863 \r\nL 1159 1991 \r\nL 2875 3500 \r\nL 3609 3500 \r\nL 1753 1863 \r\nL 3688 0 \r\nL 2938 0 \r\nL 1159 1709 \r\nL 1159 0 \r\nL 581 0 \r\nL 581 4863 \r\nz\r\n\" id=\"DejaVuSans-6b\" transform=\"scale(0.015625)\"/>\r\n       </defs>\r\n       <use xlink:href=\"#DejaVuSans-44\"/>\r\n       <use x=\"77.001953\" xlink:href=\"#DejaVuSans-61\"/>\r\n       <use x=\"138.28125\" xlink:href=\"#DejaVuSans-72\"/>\r\n       <use x=\"179.394531\" xlink:href=\"#DejaVuSans-6b\"/>\r\n       <use x=\"237.304688\" xlink:href=\"#DejaVuSans-20\"/>\r\n       <use x=\"269.091797\" xlink:href=\"#DejaVuSans-42\"/>\r\n       <use x=\"337.695312\" xlink:href=\"#DejaVuSans-6c\"/>\r\n       <use x=\"365.478516\" xlink:href=\"#DejaVuSans-6f\"/>\r\n       <use x=\"426.660156\" xlink:href=\"#DejaVuSans-6e\"/>\r\n       <use x=\"490.039062\" xlink:href=\"#DejaVuSans-64\"/>\r\n      </g>\r\n     </g>\r\n    </g>\r\n    <g id=\"xtick_3\">\r\n     <g id=\"line2d_3\">\r\n      <g>\r\n       <use style=\"stroke:#000000;stroke-width:0.8;\" x=\"249.853125\" xlink:href=\"#me3a7772b2b\" y=\"224.64\"/>\r\n      </g>\r\n     </g>\r\n     <g id=\"text_3\">\r\n      <!-- Light Brunette -->\r\n      <g transform=\"translate(213.889062 239.238437)scale(0.1 -0.1)\">\r\n       <defs>\r\n        <path d=\"M 544 1381 \r\nL 544 3500 \r\nL 1119 3500 \r\nL 1119 1403 \r\nQ 1119 906 1312 657 \r\nQ 1506 409 1894 409 \r\nQ 2359 409 2629 706 \r\nQ 2900 1003 2900 1516 \r\nL 2900 3500 \r\nL 3475 3500 \r\nL 3475 0 \r\nL 2900 0 \r\nL 2900 538 \r\nQ 2691 219 2414 64 \r\nQ 2138 -91 1772 -91 \r\nQ 1169 -91 856 284 \r\nQ 544 659 544 1381 \r\nz\r\nM 1991 3584 \r\nL 1991 3584 \r\nz\r\n\" id=\"DejaVuSans-75\" transform=\"scale(0.015625)\"/>\r\n        <path d=\"M 3597 1894 \r\nL 3597 1613 \r\nL 953 1613 \r\nQ 991 1019 1311 708 \r\nQ 1631 397 2203 397 \r\nQ 2534 397 2845 478 \r\nQ 3156 559 3463 722 \r\nL 3463 178 \r\nQ 3153 47 2828 -22 \r\nQ 2503 -91 2169 -91 \r\nQ 1331 -91 842 396 \r\nQ 353 884 353 1716 \r\nQ 353 2575 817 3079 \r\nQ 1281 3584 2069 3584 \r\nQ 2775 3584 3186 3129 \r\nQ 3597 2675 3597 1894 \r\nz\r\nM 3022 2063 \r\nQ 3016 2534 2758 2815 \r\nQ 2500 3097 2075 3097 \r\nQ 1594 3097 1305 2825 \r\nQ 1016 2553 972 2059 \r\nL 3022 2063 \r\nz\r\n\" id=\"DejaVuSans-65\" transform=\"scale(0.015625)\"/>\r\n       </defs>\r\n       <use xlink:href=\"#DejaVuSans-4c\"/>\r\n       <use x=\"55.712891\" xlink:href=\"#DejaVuSans-69\"/>\r\n       <use x=\"83.496094\" xlink:href=\"#DejaVuSans-67\"/>\r\n       <use x=\"146.972656\" xlink:href=\"#DejaVuSans-68\"/>\r\n       <use x=\"210.351562\" xlink:href=\"#DejaVuSans-74\"/>\r\n       <use x=\"249.560547\" xlink:href=\"#DejaVuSans-20\"/>\r\n       <use x=\"281.347656\" xlink:href=\"#DejaVuSans-42\"/>\r\n       <use x=\"349.951172\" xlink:href=\"#DejaVuSans-72\"/>\r\n       <use x=\"391.064453\" xlink:href=\"#DejaVuSans-75\"/>\r\n       <use x=\"454.443359\" xlink:href=\"#DejaVuSans-6e\"/>\r\n       <use x=\"517.822266\" xlink:href=\"#DejaVuSans-65\"/>\r\n       <use x=\"579.345703\" xlink:href=\"#DejaVuSans-74\"/>\r\n       <use x=\"618.554688\" xlink:href=\"#DejaVuSans-74\"/>\r\n       <use x=\"657.763672\" xlink:href=\"#DejaVuSans-65\"/>\r\n      </g>\r\n     </g>\r\n    </g>\r\n    <g id=\"xtick_4\">\r\n     <g id=\"line2d_4\">\r\n      <g>\r\n       <use style=\"stroke:#000000;stroke-width:0.8;\" x=\"333.553125\" xlink:href=\"#me3a7772b2b\" y=\"224.64\"/>\r\n      </g>\r\n     </g>\r\n     <g id=\"text_4\">\r\n      <!-- Dark Brunette -->\r\n      <g transform=\"translate(298.202344 239.238437)scale(0.1 -0.1)\">\r\n       <use xlink:href=\"#DejaVuSans-44\"/>\r\n       <use x=\"77.001953\" xlink:href=\"#DejaVuSans-61\"/>\r\n       <use x=\"138.28125\" xlink:href=\"#DejaVuSans-72\"/>\r\n       <use x=\"179.394531\" xlink:href=\"#DejaVuSans-6b\"/>\r\n       <use x=\"237.304688\" xlink:href=\"#DejaVuSans-20\"/>\r\n       <use x=\"269.091797\" xlink:href=\"#DejaVuSans-42\"/>\r\n       <use x=\"337.695312\" xlink:href=\"#DejaVuSans-72\"/>\r\n       <use x=\"378.808594\" xlink:href=\"#DejaVuSans-75\"/>\r\n       <use x=\"442.1875\" xlink:href=\"#DejaVuSans-6e\"/>\r\n       <use x=\"505.566406\" xlink:href=\"#DejaVuSans-65\"/>\r\n       <use x=\"567.089844\" xlink:href=\"#DejaVuSans-74\"/>\r\n       <use x=\"606.298828\" xlink:href=\"#DejaVuSans-74\"/>\r\n       <use x=\"645.507812\" xlink:href=\"#DejaVuSans-65\"/>\r\n      </g>\r\n     </g>\r\n    </g>\r\n    <g id=\"text_5\">\r\n     <!-- Hair color -->\r\n     <g transform=\"translate(183.832812 252.916562)scale(0.1 -0.1)\">\r\n      <defs>\r\n       <path d=\"M 628 4666 \r\nL 1259 4666 \r\nL 1259 2753 \r\nL 3553 2753 \r\nL 3553 4666 \r\nL 4184 4666 \r\nL 4184 0 \r\nL 3553 0 \r\nL 3553 2222 \r\nL 1259 2222 \r\nL 1259 0 \r\nL 628 0 \r\nL 628 4666 \r\nz\r\n\" id=\"DejaVuSans-48\" transform=\"scale(0.015625)\"/>\r\n       <path d=\"M 3122 3366 \r\nL 3122 2828 \r\nQ 2878 2963 2633 3030 \r\nQ 2388 3097 2138 3097 \r\nQ 1578 3097 1268 2742 \r\nQ 959 2388 959 1747 \r\nQ 959 1106 1268 751 \r\nQ 1578 397 2138 397 \r\nQ 2388 397 2633 464 \r\nQ 2878 531 3122 666 \r\nL 3122 134 \r\nQ 2881 22 2623 -34 \r\nQ 2366 -91 2075 -91 \r\nQ 1284 -91 818 406 \r\nQ 353 903 353 1747 \r\nQ 353 2603 823 3093 \r\nQ 1294 3584 2113 3584 \r\nQ 2378 3584 2631 3529 \r\nQ 2884 3475 3122 3366 \r\nz\r\n\" id=\"DejaVuSans-63\" transform=\"scale(0.015625)\"/>\r\n      </defs>\r\n      <use xlink:href=\"#DejaVuSans-48\"/>\r\n      <use x=\"75.195312\" xlink:href=\"#DejaVuSans-61\"/>\r\n      <use x=\"136.474609\" xlink:href=\"#DejaVuSans-69\"/>\r\n      <use x=\"164.257812\" xlink:href=\"#DejaVuSans-72\"/>\r\n      <use x=\"205.371094\" xlink:href=\"#DejaVuSans-20\"/>\r\n      <use x=\"237.158203\" xlink:href=\"#DejaVuSans-63\"/>\r\n      <use x=\"292.138672\" xlink:href=\"#DejaVuSans-6f\"/>\r\n      <use x=\"353.320312\" xlink:href=\"#DejaVuSans-6c\"/>\r\n      <use x=\"381.103516\" xlink:href=\"#DejaVuSans-6f\"/>\r\n      <use x=\"442.285156\" xlink:href=\"#DejaVuSans-72\"/>\r\n     </g>\r\n    </g>\r\n   </g>\r\n   <g id=\"matplotlib.axis_2\">\r\n    <g id=\"ytick_1\">\r\n     <g id=\"line2d_5\">\r\n      <defs>\r\n       <path d=\"M 0 0 \r\nL -3.5 0 \r\n\" id=\"m2daf94718b\" style=\"stroke:#000000;stroke-width:0.8;\"/>\r\n      </defs>\r\n      <g>\r\n       <use style=\"stroke:#000000;stroke-width:0.8;\" x=\"40.603125\" xlink:href=\"#m2daf94718b\" y=\"214.756364\"/>\r\n      </g>\r\n     </g>\r\n     <g id=\"text_6\">\r\n      <!-- 30 -->\r\n      <g transform=\"translate(20.878125 218.555582)scale(0.1 -0.1)\">\r\n       <defs>\r\n        <path d=\"M 2597 2516 \r\nQ 3050 2419 3304 2112 \r\nQ 3559 1806 3559 1356 \r\nQ 3559 666 3084 287 \r\nQ 2609 -91 1734 -91 \r\nQ 1441 -91 1130 -33 \r\nQ 819 25 488 141 \r\nL 488 750 \r\nQ 750 597 1062 519 \r\nQ 1375 441 1716 441 \r\nQ 2309 441 2620 675 \r\nQ 2931 909 2931 1356 \r\nQ 2931 1769 2642 2001 \r\nQ 2353 2234 1838 2234 \r\nL 1294 2234 \r\nL 1294 2753 \r\nL 1863 2753 \r\nQ 2328 2753 2575 2939 \r\nQ 2822 3125 2822 3475 \r\nQ 2822 3834 2567 4026 \r\nQ 2313 4219 1838 4219 \r\nQ 1578 4219 1281 4162 \r\nQ 984 4106 628 3988 \r\nL 628 4550 \r\nQ 988 4650 1302 4700 \r\nQ 1616 4750 1894 4750 \r\nQ 2613 4750 3031 4423 \r\nQ 3450 4097 3450 3541 \r\nQ 3450 3153 3228 2886 \r\nQ 3006 2619 2597 2516 \r\nz\r\n\" id=\"DejaVuSans-33\" transform=\"scale(0.015625)\"/>\r\n        <path d=\"M 2034 4250 \r\nQ 1547 4250 1301 3770 \r\nQ 1056 3291 1056 2328 \r\nQ 1056 1369 1301 889 \r\nQ 1547 409 2034 409 \r\nQ 2525 409 2770 889 \r\nQ 3016 1369 3016 2328 \r\nQ 3016 3291 2770 3770 \r\nQ 2525 4250 2034 4250 \r\nz\r\nM 2034 4750 \r\nQ 2819 4750 3233 4129 \r\nQ 3647 3509 3647 2328 \r\nQ 3647 1150 3233 529 \r\nQ 2819 -91 2034 -91 \r\nQ 1250 -91 836 529 \r\nQ 422 1150 422 2328 \r\nQ 422 3509 836 4129 \r\nQ 1250 4750 2034 4750 \r\nz\r\n\" id=\"DejaVuSans-30\" transform=\"scale(0.015625)\"/>\r\n       </defs>\r\n       <use xlink:href=\"#DejaVuSans-33\"/>\r\n       <use x=\"63.623047\" xlink:href=\"#DejaVuSans-30\"/>\r\n      </g>\r\n     </g>\r\n    </g>\r\n    <g id=\"ytick_2\">\r\n     <g id=\"line2d_6\">\r\n      <g>\r\n       <use style=\"stroke:#000000;stroke-width:0.8;\" x=\"40.603125\" xlink:href=\"#m2daf94718b\" y=\"166.543503\"/>\r\n      </g>\r\n     </g>\r\n     <g id=\"text_7\">\r\n      <!-- 40 -->\r\n      <g transform=\"translate(20.878125 170.342722)scale(0.1 -0.1)\">\r\n       <defs>\r\n        <path d=\"M 2419 4116 \r\nL 825 1625 \r\nL 2419 1625 \r\nL 2419 4116 \r\nz\r\nM 2253 4666 \r\nL 3047 4666 \r\nL 3047 1625 \r\nL 3713 1625 \r\nL 3713 1100 \r\nL 3047 1100 \r\nL 3047 0 \r\nL 2419 0 \r\nL 2419 1100 \r\nL 313 1100 \r\nL 313 1709 \r\nL 2253 4666 \r\nz\r\n\" id=\"DejaVuSans-34\" transform=\"scale(0.015625)\"/>\r\n       </defs>\r\n       <use xlink:href=\"#DejaVuSans-34\"/>\r\n       <use x=\"63.623047\" xlink:href=\"#DejaVuSans-30\"/>\r\n      </g>\r\n     </g>\r\n    </g>\r\n    <g id=\"ytick_3\">\r\n     <g id=\"line2d_7\">\r\n      <g>\r\n       <use style=\"stroke:#000000;stroke-width:0.8;\" x=\"40.603125\" xlink:href=\"#m2daf94718b\" y=\"118.330643\"/>\r\n      </g>\r\n     </g>\r\n     <g id=\"text_8\">\r\n      <!-- 50 -->\r\n      <g transform=\"translate(20.878125 122.129862)scale(0.1 -0.1)\">\r\n       <defs>\r\n        <path d=\"M 691 4666 \r\nL 3169 4666 \r\nL 3169 4134 \r\nL 1269 4134 \r\nL 1269 2991 \r\nQ 1406 3038 1543 3061 \r\nQ 1681 3084 1819 3084 \r\nQ 2600 3084 3056 2656 \r\nQ 3513 2228 3513 1497 \r\nQ 3513 744 3044 326 \r\nQ 2575 -91 1722 -91 \r\nQ 1428 -91 1123 -41 \r\nQ 819 9 494 109 \r\nL 494 744 \r\nQ 775 591 1075 516 \r\nQ 1375 441 1709 441 \r\nQ 2250 441 2565 725 \r\nQ 2881 1009 2881 1497 \r\nQ 2881 1984 2565 2268 \r\nQ 2250 2553 1709 2553 \r\nQ 1456 2553 1204 2497 \r\nQ 953 2441 691 2322 \r\nL 691 4666 \r\nz\r\n\" id=\"DejaVuSans-35\" transform=\"scale(0.015625)\"/>\r\n       </defs>\r\n       <use xlink:href=\"#DejaVuSans-35\"/>\r\n       <use x=\"63.623047\" xlink:href=\"#DejaVuSans-30\"/>\r\n      </g>\r\n     </g>\r\n    </g>\r\n    <g id=\"ytick_4\">\r\n     <g id=\"line2d_8\">\r\n      <g>\r\n       <use style=\"stroke:#000000;stroke-width:0.8;\" x=\"40.603125\" xlink:href=\"#m2daf94718b\" y=\"70.117783\"/>\r\n      </g>\r\n     </g>\r\n     <g id=\"text_9\">\r\n      <!-- 60 -->\r\n      <g transform=\"translate(20.878125 73.917001)scale(0.1 -0.1)\">\r\n       <defs>\r\n        <path d=\"M 2113 2584 \r\nQ 1688 2584 1439 2293 \r\nQ 1191 2003 1191 1497 \r\nQ 1191 994 1439 701 \r\nQ 1688 409 2113 409 \r\nQ 2538 409 2786 701 \r\nQ 3034 994 3034 1497 \r\nQ 3034 2003 2786 2293 \r\nQ 2538 2584 2113 2584 \r\nz\r\nM 3366 4563 \r\nL 3366 3988 \r\nQ 3128 4100 2886 4159 \r\nQ 2644 4219 2406 4219 \r\nQ 1781 4219 1451 3797 \r\nQ 1122 3375 1075 2522 \r\nQ 1259 2794 1537 2939 \r\nQ 1816 3084 2150 3084 \r\nQ 2853 3084 3261 2657 \r\nQ 3669 2231 3669 1497 \r\nQ 3669 778 3244 343 \r\nQ 2819 -91 2113 -91 \r\nQ 1303 -91 875 529 \r\nQ 447 1150 447 2328 \r\nQ 447 3434 972 4092 \r\nQ 1497 4750 2381 4750 \r\nQ 2619 4750 2861 4703 \r\nQ 3103 4656 3366 4563 \r\nz\r\n\" id=\"DejaVuSans-36\" transform=\"scale(0.015625)\"/>\r\n       </defs>\r\n       <use xlink:href=\"#DejaVuSans-36\"/>\r\n       <use x=\"63.623047\" xlink:href=\"#DejaVuSans-30\"/>\r\n      </g>\r\n     </g>\r\n    </g>\r\n    <g id=\"ytick_5\">\r\n     <g id=\"line2d_9\">\r\n      <g>\r\n       <use style=\"stroke:#000000;stroke-width:0.8;\" x=\"40.603125\" xlink:href=\"#m2daf94718b\" y=\"21.904922\"/>\r\n      </g>\r\n     </g>\r\n     <g id=\"text_10\">\r\n      <!-- 70 -->\r\n      <g transform=\"translate(20.878125 25.704141)scale(0.1 -0.1)\">\r\n       <defs>\r\n        <path d=\"M 525 4666 \r\nL 3525 4666 \r\nL 3525 4397 \r\nL 1831 0 \r\nL 1172 0 \r\nL 2766 4134 \r\nL 525 4134 \r\nL 525 4666 \r\nz\r\n\" id=\"DejaVuSans-37\" transform=\"scale(0.015625)\"/>\r\n       </defs>\r\n       <use xlink:href=\"#DejaVuSans-37\"/>\r\n       <use x=\"63.623047\" xlink:href=\"#DejaVuSans-30\"/>\r\n      </g>\r\n     </g>\r\n    </g>\r\n    <g id=\"text_11\">\r\n     <!-- Pain threshold -->\r\n     <g transform=\"translate(14.798438 151.465312)rotate(-90)scale(0.1 -0.1)\">\r\n      <defs>\r\n       <path d=\"M 1259 4147 \r\nL 1259 2394 \r\nL 2053 2394 \r\nQ 2494 2394 2734 2622 \r\nQ 2975 2850 2975 3272 \r\nQ 2975 3691 2734 3919 \r\nQ 2494 4147 2053 4147 \r\nL 1259 4147 \r\nz\r\nM 628 4666 \r\nL 2053 4666 \r\nQ 2838 4666 3239 4311 \r\nQ 3641 3956 3641 3272 \r\nQ 3641 2581 3239 2228 \r\nQ 2838 1875 2053 1875 \r\nL 1259 1875 \r\nL 1259 0 \r\nL 628 0 \r\nL 628 4666 \r\nz\r\n\" id=\"DejaVuSans-50\" transform=\"scale(0.015625)\"/>\r\n       <path d=\"M 2834 3397 \r\nL 2834 2853 \r\nQ 2591 2978 2328 3040 \r\nQ 2066 3103 1784 3103 \r\nQ 1356 3103 1142 2972 \r\nQ 928 2841 928 2578 \r\nQ 928 2378 1081 2264 \r\nQ 1234 2150 1697 2047 \r\nL 1894 2003 \r\nQ 2506 1872 2764 1633 \r\nQ 3022 1394 3022 966 \r\nQ 3022 478 2636 193 \r\nQ 2250 -91 1575 -91 \r\nQ 1294 -91 989 -36 \r\nQ 684 19 347 128 \r\nL 347 722 \r\nQ 666 556 975 473 \r\nQ 1284 391 1588 391 \r\nQ 1994 391 2212 530 \r\nQ 2431 669 2431 922 \r\nQ 2431 1156 2273 1281 \r\nQ 2116 1406 1581 1522 \r\nL 1381 1569 \r\nQ 847 1681 609 1914 \r\nQ 372 2147 372 2553 \r\nQ 372 3047 722 3315 \r\nQ 1072 3584 1716 3584 \r\nQ 2034 3584 2315 3537 \r\nQ 2597 3491 2834 3397 \r\nz\r\n\" id=\"DejaVuSans-73\" transform=\"scale(0.015625)\"/>\r\n      </defs>\r\n      <use xlink:href=\"#DejaVuSans-50\"/>\r\n      <use x=\"55.802734\" xlink:href=\"#DejaVuSans-61\"/>\r\n      <use x=\"117.082031\" xlink:href=\"#DejaVuSans-69\"/>\r\n      <use x=\"144.865234\" xlink:href=\"#DejaVuSans-6e\"/>\r\n      <use x=\"208.244141\" xlink:href=\"#DejaVuSans-20\"/>\r\n      <use x=\"240.03125\" xlink:href=\"#DejaVuSans-74\"/>\r\n      <use x=\"279.240234\" xlink:href=\"#DejaVuSans-68\"/>\r\n      <use x=\"342.619141\" xlink:href=\"#DejaVuSans-72\"/>\r\n      <use x=\"381.482422\" xlink:href=\"#DejaVuSans-65\"/>\r\n      <use x=\"443.005859\" xlink:href=\"#DejaVuSans-73\"/>\r\n      <use x=\"495.105469\" xlink:href=\"#DejaVuSans-68\"/>\r\n      <use x=\"558.484375\" xlink:href=\"#DejaVuSans-6f\"/>\r\n      <use x=\"619.666016\" xlink:href=\"#DejaVuSans-6c\"/>\r\n      <use x=\"647.449219\" xlink:href=\"#DejaVuSans-64\"/>\r\n     </g>\r\n    </g>\r\n   </g>\r\n   <g id=\"line2d_10\">\r\n    <path clip-path=\"url(#p217aa5bfd6)\" d=\"M 82.453125 94.224213 \r\nL 82.453125 127.973215 \r\n\" style=\"fill:none;stroke:#3d3d3d;stroke-linecap:square;stroke-width:1.5;\"/>\r\n   </g>\r\n   <g id=\"line2d_11\">\r\n    <path clip-path=\"url(#p217aa5bfd6)\" d=\"M 82.453125 60.475211 \r\nL 82.453125 17.083636 \r\n\" style=\"fill:none;stroke:#3d3d3d;stroke-linecap:square;stroke-width:1.5;\"/>\r\n   </g>\r\n   <g id=\"line2d_12\">\r\n    <path clip-path=\"url(#p217aa5bfd6)\" d=\"M 65.713125 127.973215 \r\nL 99.193125 127.973215 \r\n\" style=\"fill:none;stroke:#3d3d3d;stroke-linecap:square;stroke-width:1.5;\"/>\r\n   </g>\r\n   <g id=\"line2d_13\">\r\n    <path clip-path=\"url(#p217aa5bfd6)\" d=\"M 65.713125 17.083636 \r\nL 99.193125 17.083636 \r\n\" style=\"fill:none;stroke:#3d3d3d;stroke-linecap:square;stroke-width:1.5;\"/>\r\n   </g>\r\n   <g id=\"line2d_14\"/>\r\n   <g id=\"line2d_15\">\r\n    <path clip-path=\"url(#p217aa5bfd6)\" d=\"M 166.153125 152.079645 \r\nL 166.153125 161.722217 \r\n\" style=\"fill:none;stroke:#3d3d3d;stroke-linecap:square;stroke-width:1.5;\"/>\r\n   </g>\r\n   <g id=\"line2d_16\">\r\n    <path clip-path=\"url(#p217aa5bfd6)\" d=\"M 166.153125 84.581641 \r\nL 166.153125 55.653925 \r\n\" style=\"fill:none;stroke:#3d3d3d;stroke-linecap:square;stroke-width:1.5;\"/>\r\n   </g>\r\n   <g id=\"line2d_17\">\r\n    <path clip-path=\"url(#p217aa5bfd6)\" d=\"M 149.413125 161.722217 \r\nL 182.893125 161.722217 \r\n\" style=\"fill:none;stroke:#3d3d3d;stroke-linecap:square;stroke-width:1.5;\"/>\r\n   </g>\r\n   <g id=\"line2d_18\">\r\n    <path clip-path=\"url(#p217aa5bfd6)\" d=\"M 149.413125 55.653925 \r\nL 182.893125 55.653925 \r\n\" style=\"fill:none;stroke:#3d3d3d;stroke-linecap:square;stroke-width:1.5;\"/>\r\n   </g>\r\n   <g id=\"line2d_19\"/>\r\n   <g id=\"line2d_20\">\r\n    <path clip-path=\"url(#p217aa5bfd6)\" d=\"M 249.853125 166.543503 \r\nL 249.853125 181.007361 \r\n\" style=\"fill:none;stroke:#3d3d3d;stroke-linecap:square;stroke-width:1.5;\"/>\r\n   </g>\r\n   <g id=\"line2d_21\">\r\n    <path clip-path=\"url(#p217aa5bfd6)\" d=\"M 249.853125 147.258359 \r\nL 249.853125 118.330643 \r\n\" style=\"fill:none;stroke:#3d3d3d;stroke-linecap:square;stroke-width:1.5;\"/>\r\n   </g>\r\n   <g id=\"line2d_22\">\r\n    <path clip-path=\"url(#p217aa5bfd6)\" d=\"M 233.113125 181.007361 \r\nL 266.593125 181.007361 \r\n\" style=\"fill:none;stroke:#3d3d3d;stroke-linecap:square;stroke-width:1.5;\"/>\r\n   </g>\r\n   <g id=\"line2d_23\">\r\n    <path clip-path=\"url(#p217aa5bfd6)\" d=\"M 233.113125 118.330643 \r\nL 266.593125 118.330643 \r\n\" style=\"fill:none;stroke:#3d3d3d;stroke-linecap:square;stroke-width:1.5;\"/>\r\n   </g>\r\n   <g id=\"line2d_24\"/>\r\n   <g id=\"line2d_25\">\r\n    <path clip-path=\"url(#p217aa5bfd6)\" d=\"M 333.553125 205.113792 \r\nL 333.553125 214.756364 \r\n\" style=\"fill:none;stroke:#3d3d3d;stroke-linecap:square;stroke-width:1.5;\"/>\r\n   </g>\r\n   <g id=\"line2d_26\">\r\n    <path clip-path=\"url(#p217aa5bfd6)\" d=\"M 333.553125 171.364789 \r\nL 333.553125 171.364789 \r\n\" style=\"fill:none;stroke:#3d3d3d;stroke-linecap:square;stroke-width:1.5;\"/>\r\n   </g>\r\n   <g id=\"line2d_27\">\r\n    <path clip-path=\"url(#p217aa5bfd6)\" d=\"M 316.813125 214.756364 \r\nL 350.293125 214.756364 \r\n\" style=\"fill:none;stroke:#3d3d3d;stroke-linecap:square;stroke-width:1.5;\"/>\r\n   </g>\r\n   <g id=\"line2d_28\">\r\n    <path clip-path=\"url(#p217aa5bfd6)\" d=\"M 316.813125 171.364789 \r\nL 350.293125 171.364789 \r\n\" style=\"fill:none;stroke:#3d3d3d;stroke-linecap:square;stroke-width:1.5;\"/>\r\n   </g>\r\n   <g id=\"line2d_29\">\r\n    <defs>\r\n     <path d=\"M 0 3.535534 \r\nL 2.12132 0 \r\nL 0 -3.535534 \r\nL -2.12132 0 \r\nz\r\n\" id=\"m8a059750a5\" style=\"stroke:#3d3d3d;stroke-linejoin:miter;\"/>\r\n    </defs>\r\n    <g clip-path=\"url(#p217aa5bfd6)\">\r\n     <use style=\"fill:#3d3d3d;stroke:#3d3d3d;stroke-linejoin:miter;\" x=\"333.553125\" xlink:href=\"#m8a059750a5\" y=\"113.509357\"/>\r\n    </g>\r\n   </g>\r\n   <g id=\"line2d_30\">\r\n    <path clip-path=\"url(#p217aa5bfd6)\" d=\"M 48.973125 70.117783 \r\nL 115.933125 70.117783 \r\n\" style=\"fill:none;stroke:#3d3d3d;stroke-linecap:square;stroke-width:1.5;\"/>\r\n   </g>\r\n   <g id=\"line2d_31\">\r\n    <path clip-path=\"url(#p217aa5bfd6)\" d=\"M 132.673125 108.688071 \r\nL 199.633125 108.688071 \r\n\" style=\"fill:none;stroke:#3d3d3d;stroke-linecap:square;stroke-width:1.5;\"/>\r\n   </g>\r\n   <g id=\"line2d_32\">\r\n    <path clip-path=\"url(#p217aa5bfd6)\" d=\"M 216.373125 159.311574 \r\nL 283.333125 159.311574 \r\n\" style=\"fill:none;stroke:#3d3d3d;stroke-linecap:square;stroke-width:1.5;\"/>\r\n   </g>\r\n   <g id=\"line2d_33\">\r\n    <path clip-path=\"url(#p217aa5bfd6)\" d=\"M 300.073125 190.649933 \r\nL 367.033125 190.649933 \r\n\" style=\"fill:none;stroke:#3d3d3d;stroke-linecap:square;stroke-width:1.5;\"/>\r\n   </g>\r\n   <g id=\"patch_7\">\r\n    <path d=\"M 40.603125 224.64 \r\nL 40.603125 7.2 \r\n\" style=\"fill:none;stroke:#000000;stroke-linecap:square;stroke-linejoin:miter;stroke-width:0.8;\"/>\r\n   </g>\r\n   <g id=\"patch_8\">\r\n    <path d=\"M 375.403125 224.64 \r\nL 375.403125 7.2 \r\n\" style=\"fill:none;stroke:#000000;stroke-linecap:square;stroke-linejoin:miter;stroke-width:0.8;\"/>\r\n   </g>\r\n   <g id=\"patch_9\">\r\n    <path d=\"M 40.603125 224.64 \r\nL 375.403125 224.64 \r\n\" style=\"fill:none;stroke:#000000;stroke-linecap:square;stroke-linejoin:miter;stroke-width:0.8;\"/>\r\n   </g>\r\n   <g id=\"patch_10\">\r\n    <path d=\"M 40.603125 7.2 \r\nL 375.403125 7.2 \r\n\" style=\"fill:none;stroke:#000000;stroke-linecap:square;stroke-linejoin:miter;stroke-width:0.8;\"/>\r\n   </g>\r\n   <g id=\"PathCollection_1\">\r\n    <defs>\r\n     <path d=\"M 0 5 \r\nC 1.326016 5 2.597899 4.473168 3.535534 3.535534 \r\nC 4.473168 2.597899 5 1.326016 5 -0 \r\nC 5 -1.326016 4.473168 -2.597899 3.535534 -3.535534 \r\nC 2.597899 -4.473168 1.326016 -5 0 -5 \r\nC -1.326016 -5 -2.597899 -4.473168 -3.535534 -3.535534 \r\nC -4.473168 -2.597899 -5 -1.326016 -5 0 \r\nC -5 1.326016 -4.473168 2.597899 -3.535534 3.535534 \r\nC -2.597899 4.473168 -1.326016 5 0 5 \r\nz\r\n\" id=\"C0_0_a6528dc1c2\"/>\r\n    </defs>\r\n    <g clip-path=\"url(#p217aa5bfd6)\">\r\n     <use x=\"85.046529\" xlink:href=\"#C0_0_a6528dc1c2\" y=\"60.475211\"/>\r\n    </g>\r\n    <g clip-path=\"url(#p217aa5bfd6)\">\r\n     <use x=\"89.139716\" xlink:href=\"#C0_0_a6528dc1c2\" y=\"70.117783\"/>\r\n    </g>\r\n    <g clip-path=\"url(#p217aa5bfd6)\">\r\n     <use x=\"90.56063\" xlink:href=\"#C0_0_a6528dc1c2\" y=\"17.083636\"/>\r\n    </g>\r\n    <g clip-path=\"url(#p217aa5bfd6)\">\r\n     <use x=\"83.828096\" xlink:href=\"#C0_0_a6528dc1c2\" y=\"94.224213\"/>\r\n    </g>\r\n    <g clip-path=\"url(#p217aa5bfd6)\">\r\n     <use x=\"80.330707\" xlink:href=\"#C0_0_a6528dc1c2\" y=\"127.973215\"/>\r\n    </g>\r\n   </g>\r\n   <g id=\"PathCollection_2\">\r\n    <defs>\r\n     <path d=\"M 0 5 \r\nC 1.326016 5 2.597899 4.473168 3.535534 3.535534 \r\nC 4.473168 2.597899 5 1.326016 5 -0 \r\nC 5 -1.326016 4.473168 -2.597899 3.535534 -3.535534 \r\nC 2.597899 -4.473168 1.326016 -5 0 -5 \r\nC -1.326016 -5 -2.597899 -4.473168 -3.535534 -3.535534 \r\nC -4.473168 -2.597899 -5 -1.326016 -5 0 \r\nC -5 1.326016 -4.473168 2.597899 -3.535534 3.535534 \r\nC -2.597899 4.473168 -1.326016 5 0 5 \r\nz\r\n\" id=\"C1_0_b52bedc1d0\"/>\r\n    </defs>\r\n    <g clip-path=\"url(#p217aa5bfd6)\">\r\n     <use x=\"173.099247\" xlink:href=\"#C1_0_b52bedc1d0\" y=\"55.653925\"/>\r\n    </g>\r\n    <g clip-path=\"url(#p217aa5bfd6)\">\r\n     <use x=\"174.203704\" xlink:href=\"#C1_0_b52bedc1d0\" y=\"84.581641\"/>\r\n    </g>\r\n    <g clip-path=\"url(#p217aa5bfd6)\">\r\n     <use x=\"167.677093\" xlink:href=\"#C1_0_b52bedc1d0\" y=\"108.688071\"/>\r\n    </g>\r\n    <g clip-path=\"url(#p217aa5bfd6)\">\r\n     <use x=\"169.60683\" xlink:href=\"#C1_0_b52bedc1d0\" y=\"161.722217\"/>\r\n    </g>\r\n    <g clip-path=\"url(#p217aa5bfd6)\">\r\n     <use x=\"174.252629\" xlink:href=\"#C1_0_b52bedc1d0\" y=\"152.079645\"/>\r\n    </g>\r\n   </g>\r\n   <g id=\"PathCollection_3\">\r\n    <defs>\r\n     <path d=\"M 0 5 \r\nC 1.326016 5 2.597899 4.473168 3.535534 3.535534 \r\nC 4.473168 2.597899 5 1.326016 5 -0 \r\nC 5 -1.326016 4.473168 -2.597899 3.535534 -3.535534 \r\nC 2.597899 -4.473168 1.326016 -5 0 -5 \r\nC -1.326016 -5 -2.597899 -4.473168 -3.535534 -3.535534 \r\nC -4.473168 -2.597899 -5 -1.326016 -5 0 \r\nC -5 1.326016 -4.473168 2.597899 -3.535534 3.535534 \r\nC -2.597899 4.473168 -1.326016 5 0 5 \r\nz\r\n\" id=\"C2_0_bc768cb58a\"/>\r\n    </defs>\r\n    <g clip-path=\"url(#p217aa5bfd6)\">\r\n     <use x=\"244.75083\" xlink:href=\"#C2_0_bc768cb58a\" y=\"156.900931\"/>\r\n    </g>\r\n    <g clip-path=\"url(#p217aa5bfd6)\">\r\n     <use x=\"249.231804\" xlink:href=\"#C2_0_bc768cb58a\" y=\"118.330643\"/>\r\n    </g>\r\n    <g clip-path=\"url(#p217aa5bfd6)\">\r\n     <use x=\"256.133848\" xlink:href=\"#C2_0_bc768cb58a\" y=\"161.722217\"/>\r\n    </g>\r\n    <g clip-path=\"url(#p217aa5bfd6)\">\r\n     <use x=\"245.568668\" xlink:href=\"#C2_0_bc768cb58a\" y=\"181.007361\"/>\r\n    </g>\r\n   </g>\r\n   <g id=\"PathCollection_4\">\r\n    <defs>\r\n     <path d=\"M 0 5 \r\nC 1.326016 5 2.597899 4.473168 3.535534 3.535534 \r\nC 4.473168 2.597899 5 1.326016 5 -0 \r\nC 5 -1.326016 4.473168 -2.597899 3.535534 -3.535534 \r\nC 2.597899 -4.473168 1.326016 -5 0 -5 \r\nC -1.326016 -5 -2.597899 -4.473168 -3.535534 -3.535534 \r\nC -4.473168 -2.597899 -5 -1.326016 -5 0 \r\nC -5 1.326016 -4.473168 2.597899 -3.535534 3.535534 \r\nC -2.597899 4.473168 -1.326016 5 0 5 \r\nz\r\n\" id=\"C3_0_4cfd4d3c1f\"/>\r\n    </defs>\r\n    <g clip-path=\"url(#p217aa5bfd6)\">\r\n     <use x=\"327.050186\" xlink:href=\"#C3_0_4cfd4d3c1f\" y=\"205.113792\"/>\r\n    </g>\r\n    <g clip-path=\"url(#p217aa5bfd6)\">\r\n     <use x=\"340.76057\" xlink:href=\"#C3_0_4cfd4d3c1f\" y=\"171.364789\"/>\r\n    </g>\r\n    <g clip-path=\"url(#p217aa5bfd6)\">\r\n     <use x=\"332.573995\" xlink:href=\"#C3_0_4cfd4d3c1f\" y=\"113.509357\"/>\r\n    </g>\r\n    <g clip-path=\"url(#p217aa5bfd6)\">\r\n     <use x=\"338.919582\" xlink:href=\"#C3_0_4cfd4d3c1f\" y=\"214.756364\"/>\r\n    </g>\r\n    <g clip-path=\"url(#p217aa5bfd6)\">\r\n     <use x=\"337.828975\" xlink:href=\"#C3_0_4cfd4d3c1f\" y=\"190.649933\"/>\r\n    </g>\r\n   </g>\r\n  </g>\r\n </g>\r\n <defs>\r\n  <clipPath id=\"p217aa5bfd6\">\r\n   <rect height=\"217.44\" width=\"334.8\" x=\"40.603125\" y=\"7.2\"/>\r\n  </clipPath>\r\n </defs>\r\n</svg>\r\n",
      "image/png": "[encoded data removed]"
     },
     "metadata": {
      "needs_background": "light"
     }
    }
   ],
   "metadata": {}
  },
  {
   "cell_type": "markdown",
   "source": [
    "### Using pingouin"
   ],
   "metadata": {}
  },
  {
   "cell_type": "code",
   "execution_count": 6,
   "source": [
    "# 1. This is a between subject design, so the first step is to test for equality of variances\r\n",
    "pg.homoscedasticity(data=data, dv='Pain threshold', group='Hair color')"
   ],
   "outputs": [
    {
     "output_type": "execute_result",
     "data": {
      "text/plain": [
       "               W      pval  equal_var\n",
       "levene  0.392743  0.760016       True"
      ],
      "text/html": [
       "<div>\n",
       "<style scoped>\n",
       "    .dataframe tbody tr th:only-of-type {\n",
       "        vertical-align: middle;\n",
       "    }\n",
       "\n",
       "    .dataframe tbody tr th {\n",
       "        vertical-align: top;\n",
       "    }\n",
       "\n",
       "    .dataframe thead th {\n",
       "        text-align: right;\n",
       "    }\n",
       "</style>\n",
       "<table border=\"1\" class=\"dataframe\">\n",
       "  <thead>\n",
       "    <tr style=\"text-align: right;\">\n",
       "      <th></th>\n",
       "      <th>W</th>\n",
       "      <th>pval</th>\n",
       "      <th>equal_var</th>\n",
       "    </tr>\n",
       "  </thead>\n",
       "  <tbody>\n",
       "    <tr>\n",
       "      <th>levene</th>\n",
       "      <td>0.392743</td>\n",
       "      <td>0.760016</td>\n",
       "      <td>True</td>\n",
       "    </tr>\n",
       "  </tbody>\n",
       "</table>\n",
       "</div>"
      ]
     },
     "metadata": {},
     "execution_count": 6
    }
   ],
   "metadata": {}
  },
  {
   "cell_type": "code",
   "execution_count": 18,
   "source": [
    "# 2. If the groups have equal variances, we can use a regular one-way ANOVA\r\n",
    "aov = pg.anova(\r\n",
    "    data=data,\r\n",
    "    dv='Pain threshold',\r\n",
    "    between='Hair color',\r\n",
    "    detailed=True\r\n",
    ")\r\n",
    "aov.round(3)"
   ],
   "outputs": [
    {
     "output_type": "execute_result",
     "data": {
      "text/plain": [
       "       Source        SS  DF       MS      F  p-unc    np2\n",
       "0  Hair color  1360.726   3  453.575  6.791  0.004  0.576\n",
       "1      Within  1001.800  15   66.787    NaN    NaN    NaN"
      ],
      "text/html": [
       "<div>\n",
       "<style scoped>\n",
       "    .dataframe tbody tr th:only-of-type {\n",
       "        vertical-align: middle;\n",
       "    }\n",
       "\n",
       "    .dataframe tbody tr th {\n",
       "        vertical-align: top;\n",
       "    }\n",
       "\n",
       "    .dataframe thead th {\n",
       "        text-align: right;\n",
       "    }\n",
       "</style>\n",
       "<table border=\"1\" class=\"dataframe\">\n",
       "  <thead>\n",
       "    <tr style=\"text-align: right;\">\n",
       "      <th></th>\n",
       "      <th>Source</th>\n",
       "      <th>SS</th>\n",
       "      <th>DF</th>\n",
       "      <th>MS</th>\n",
       "      <th>F</th>\n",
       "      <th>p-unc</th>\n",
       "      <th>np2</th>\n",
       "    </tr>\n",
       "  </thead>\n",
       "  <tbody>\n",
       "    <tr>\n",
       "      <th>0</th>\n",
       "      <td>Hair color</td>\n",
       "      <td>1360.726</td>\n",
       "      <td>3</td>\n",
       "      <td>453.575</td>\n",
       "      <td>6.791</td>\n",
       "      <td>0.004</td>\n",
       "      <td>0.576</td>\n",
       "    </tr>\n",
       "    <tr>\n",
       "      <th>1</th>\n",
       "      <td>Within</td>\n",
       "      <td>1001.800</td>\n",
       "      <td>15</td>\n",
       "      <td>66.787</td>\n",
       "      <td>NaN</td>\n",
       "      <td>NaN</td>\n",
       "      <td>NaN</td>\n",
       "    </tr>\n",
       "  </tbody>\n",
       "</table>\n",
       "</div>"
      ]
     },
     "metadata": {},
     "execution_count": 18
    }
   ],
   "metadata": {}
  },
  {
   "cell_type": "code",
   "execution_count": 19,
   "source": [
    "# Same but using a standard eta-squared instead of a partial eta-squared effect size. Also\r\n",
    "# note how here we're using the anova function directly as a method (= built-in function)\r\n",
    "# of our pandas dataframe. In that case, we don't have to specify data anymore.\r\n",
    "data.anova(\r\n",
    "    dv='Pain threshold',\r\n",
    "    between='Hair color',\r\n",
    "    detailed=False,\r\n",
    "    effsize='n2',\r\n",
    ")"
   ],
   "outputs": [
    {
     "output_type": "execute_result",
     "data": {
      "text/plain": [
       "       Source  ddof1  ddof2         F     p-unc        n2\n",
       "0  Hair color      3     15  6.791407  0.004114  0.575962"
      ],
      "text/html": [
       "<div>\n",
       "<style scoped>\n",
       "    .dataframe tbody tr th:only-of-type {\n",
       "        vertical-align: middle;\n",
       "    }\n",
       "\n",
       "    .dataframe tbody tr th {\n",
       "        vertical-align: top;\n",
       "    }\n",
       "\n",
       "    .dataframe thead th {\n",
       "        text-align: right;\n",
       "    }\n",
       "</style>\n",
       "<table border=\"1\" class=\"dataframe\">\n",
       "  <thead>\n",
       "    <tr style=\"text-align: right;\">\n",
       "      <th></th>\n",
       "      <th>Source</th>\n",
       "      <th>ddof1</th>\n",
       "      <th>ddof2</th>\n",
       "      <th>F</th>\n",
       "      <th>p-unc</th>\n",
       "      <th>n2</th>\n",
       "    </tr>\n",
       "  </thead>\n",
       "  <tbody>\n",
       "    <tr>\n",
       "      <th>0</th>\n",
       "      <td>Hair color</td>\n",
       "      <td>3</td>\n",
       "      <td>15</td>\n",
       "      <td>6.791407</td>\n",
       "      <td>0.004114</td>\n",
       "      <td>0.575962</td>\n",
       "    </tr>\n",
       "  </tbody>\n",
       "</table>\n",
       "</div>"
      ]
     },
     "metadata": {},
     "execution_count": 19
    }
   ],
   "metadata": {}
  },
  {
   "cell_type": "code",
   "execution_count": 17,
   "source": [
    "# 3. If there is a main effect, we can proceed to post-hoc Tukey test\r\n",
    "pg.pairwise_tukey(data=data, dv='Pain threshold', between='Hair color')"
   ],
   "outputs": [
    {
     "output_type": "execute_result",
     "data": {
      "text/plain": [
       "               A               B  mean(A)  mean(B)  diff        se         T  \\\n",
       "0     Dark Blond   Dark Brunette     51.2     37.4  13.8  5.168623  2.669957   \n",
       "1     Dark Blond     Light Blond     51.2     59.2  -8.0  5.168623 -1.547801   \n",
       "2     Dark Blond  Light Brunette     51.2     42.5   8.7  5.482153  1.586968   \n",
       "3  Dark Brunette     Light Blond     37.4     59.2 -21.8  5.168623 -4.217758   \n",
       "4  Dark Brunette  Light Brunette     37.4     42.5  -5.1  5.482153 -0.930291   \n",
       "5    Light Blond  Light Brunette     59.2     42.5  16.7  5.482153  3.046249   \n",
       "\n",
       "    p-tukey    hedges  \n",
       "0  0.074168  1.525213  \n",
       "1  0.436903 -0.884182  \n",
       "2  0.416008  0.946285  \n",
       "3  0.003713 -2.409395  \n",
       "4  0.769703 -0.554719  \n",
       "5  0.036653  1.816432  "
      ],
      "text/html": [
       "<div>\n",
       "<style scoped>\n",
       "    .dataframe tbody tr th:only-of-type {\n",
       "        vertical-align: middle;\n",
       "    }\n",
       "\n",
       "    .dataframe tbody tr th {\n",
       "        vertical-align: top;\n",
       "    }\n",
       "\n",
       "    .dataframe thead th {\n",
       "        text-align: right;\n",
       "    }\n",
       "</style>\n",
       "<table border=\"1\" class=\"dataframe\">\n",
       "  <thead>\n",
       "    <tr style=\"text-align: right;\">\n",
       "      <th></th>\n",
       "      <th>A</th>\n",
       "      <th>B</th>\n",
       "      <th>mean(A)</th>\n",
       "      <th>mean(B)</th>\n",
       "      <th>diff</th>\n",
       "      <th>se</th>\n",
       "      <th>T</th>\n",
       "      <th>p-tukey</th>\n",
       "      <th>hedges</th>\n",
       "    </tr>\n",
       "  </thead>\n",
       "  <tbody>\n",
       "    <tr>\n",
       "      <th>0</th>\n",
       "      <td>Dark Blond</td>\n",
       "      <td>Dark Brunette</td>\n",
       "      <td>51.2</td>\n",
       "      <td>37.4</td>\n",
       "      <td>13.8</td>\n",
       "      <td>5.168623</td>\n",
       "      <td>2.669957</td>\n",
       "      <td>0.074168</td>\n",
       "      <td>1.525213</td>\n",
       "    </tr>\n",
       "    <tr>\n",
       "      <th>1</th>\n",
       "      <td>Dark Blond</td>\n",
       "      <td>Light Blond</td>\n",
       "      <td>51.2</td>\n",
       "      <td>59.2</td>\n",
       "      <td>-8.0</td>\n",
       "      <td>5.168623</td>\n",
       "      <td>-1.547801</td>\n",
       "      <td>0.436903</td>\n",
       "      <td>-0.884182</td>\n",
       "    </tr>\n",
       "    <tr>\n",
       "      <th>2</th>\n",
       "      <td>Dark Blond</td>\n",
       "      <td>Light Brunette</td>\n",
       "      <td>51.2</td>\n",
       "      <td>42.5</td>\n",
       "      <td>8.7</td>\n",
       "      <td>5.482153</td>\n",
       "      <td>1.586968</td>\n",
       "      <td>0.416008</td>\n",
       "      <td>0.946285</td>\n",
       "    </tr>\n",
       "    <tr>\n",
       "      <th>3</th>\n",
       "      <td>Dark Brunette</td>\n",
       "      <td>Light Blond</td>\n",
       "      <td>37.4</td>\n",
       "      <td>59.2</td>\n",
       "      <td>-21.8</td>\n",
       "      <td>5.168623</td>\n",
       "      <td>-4.217758</td>\n",
       "      <td>0.003713</td>\n",
       "      <td>-2.409395</td>\n",
       "    </tr>\n",
       "    <tr>\n",
       "      <th>4</th>\n",
       "      <td>Dark Brunette</td>\n",
       "      <td>Light Brunette</td>\n",
       "      <td>37.4</td>\n",
       "      <td>42.5</td>\n",
       "      <td>-5.1</td>\n",
       "      <td>5.482153</td>\n",
       "      <td>-0.930291</td>\n",
       "      <td>0.769703</td>\n",
       "      <td>-0.554719</td>\n",
       "    </tr>\n",
       "    <tr>\n",
       "      <th>5</th>\n",
       "      <td>Light Blond</td>\n",
       "      <td>Light Brunette</td>\n",
       "      <td>59.2</td>\n",
       "      <td>42.5</td>\n",
       "      <td>16.7</td>\n",
       "      <td>5.482153</td>\n",
       "      <td>3.046249</td>\n",
       "      <td>0.036653</td>\n",
       "      <td>1.816432</td>\n",
       "    </tr>\n",
       "  </tbody>\n",
       "</table>\n",
       "</div>"
      ]
     },
     "metadata": {},
     "execution_count": 17
    }
   ],
   "metadata": {}
  },
  {
   "cell_type": "markdown",
   "source": [
    "### Using scipy.stats"
   ],
   "metadata": {}
  },
  {
   "cell_type": "code",
   "execution_count": 41,
   "source": [
    "# The one-way ANOVA tests the null hypothesis that two or more groups have the same population mean.\r\n",
    "F, p = stats.f_oneway(\r\n",
    "    data[data['Hair color'] == 'Dark Blond']['Pain threshold'],\r\n",
    "    data[data['Hair color'] == 'Dark Brunette']['Pain threshold'],\r\n",
    "    data[data['Hair color'] == 'Light Blond']['Pain threshold'],\r\n",
    "    data[data['Hair color'] == 'Light Brunette']['Pain threshold'],\r\n",
    ")\r\n",
    "\r\n",
    "print(f\"F statistic = {F:.2f} with P value from the F distribution = {p:.4f}\")"
   ],
   "outputs": [
    {
     "output_type": "stream",
     "name": "stdout",
     "text": [
      "F statistic = 6.79 with P value from the F distribution = 0.0041\n"
     ]
    }
   ],
   "metadata": {}
  },
  {
   "cell_type": "markdown",
   "source": [
    "### Computed manually"
   ],
   "metadata": {}
  },
  {
   "cell_type": "code",
   "execution_count": 26,
   "source": [
    "k = data['Hair color'].nunique()      # number of conditions\r\n",
    "N = len(data)                         # number of total values\r\n",
    "m = data.groupby('Hair color').size() # number of values in each group\r\n",
    "\r\n",
    "print(f\"There are {k} different conditions, {N} total values and the following number of values in each group:\\n\", m)"
   ],
   "outputs": [
    {
     "output_type": "stream",
     "name": "stdout",
     "text": [
      "There are 4 different conditions, 19 total values and the following number of values in each group:\n",
      " Hair color\n",
      "Dark Blond        5\n",
      "Dark Brunette     5\n",
      "Light Blond       5\n",
      "Light Brunette    4\n",
      "dtype: int64\n"
     ]
    }
   ],
   "metadata": {}
  },
  {
   "cell_type": "code",
   "execution_count": 43,
   "source": [
    "# total sum of squares\r\n",
    "SST = (\r\n",
    "    (data['Pain threshold'] - data['Pain threshold'].mean())**2\r\n",
    ").sum()\r\n",
    "\r\n",
    "print(f\"total sum of squares (grandmean)= {SST:.1f}\")"
   ],
   "outputs": [
    {
     "output_type": "stream",
     "name": "stdout",
     "text": [
      "total sum of squares (grandmean)= 2362.5\n"
     ]
    }
   ],
   "metadata": {}
  },
  {
   "cell_type": "code",
   "execution_count": 44,
   "source": [
    "SSW = (\r\n",
    "    data.groupby('Hair color')['Pain threshold']\r\n",
    "    .transform(lambda x: (x - x.mean())**2)\r\n",
    ").sum()\r\n",
    "\r\n",
    "print(f\"sum of squares within groups (group means)= {SSW:.1f}\")"
   ],
   "outputs": [
    {
     "output_type": "stream",
     "name": "stdout",
     "text": [
      "sum of squares within groups (group means)= 1001.8\n"
     ]
    }
   ],
   "metadata": {}
  },
  {
   "cell_type": "code",
   "execution_count": 13,
   "source": [
    "SSW/SST"
   ],
   "outputs": [
    {
     "output_type": "execute_result",
     "data": {
      "text/plain": [
       "0.7358517031678802"
      ]
     },
     "metadata": {},
     "execution_count": 13
    }
   ],
   "metadata": {}
  },
  {
   "cell_type": "code",
   "execution_count": 14,
   "source": [
    "SSB = SST - SSW\r\n",
    "SSB"
   ],
   "outputs": [
    {
     "output_type": "execute_result",
     "data": {
      "text/plain": [
       "3.7663400000000014"
      ]
     },
     "metadata": {},
     "execution_count": 14
    }
   ],
   "metadata": {}
  },
  {
   "cell_type": "code",
   "execution_count": 15,
   "source": [
    "SSB/SST"
   ],
   "outputs": [
    {
     "output_type": "execute_result",
     "data": {
      "text/plain": [
       "0.26414829683211977"
      ]
     },
     "metadata": {},
     "execution_count": 15
    }
   ],
   "metadata": {}
  },
  {
   "cell_type": "code",
   "execution_count": 16,
   "source": [
    "10.492/27"
   ],
   "outputs": [
    {
     "output_type": "execute_result",
     "data": {
      "text/plain": [
       "0.3885925925925926"
      ]
     },
     "metadata": {},
     "execution_count": 16
    }
   ],
   "metadata": {
    "scrolled": true
   }
  },
  {
   "cell_type": "code",
   "execution_count": 17,
   "source": [
    "3.766/2"
   ],
   "outputs": [
    {
     "output_type": "execute_result",
     "data": {
      "text/plain": [
       "1.883"
      ]
     },
     "metadata": {},
     "execution_count": 17
    }
   ],
   "metadata": {}
  },
  {
   "cell_type": "code",
   "execution_count": 18,
   "source": [
    "F_ratio = 1.883/.389\r\n",
    "F_ratio"
   ],
   "outputs": [
    {
     "output_type": "execute_result",
     "data": {
      "text/plain": [
       "4.840616966580977"
      ]
     },
     "metadata": {},
     "execution_count": 18
    }
   ],
   "metadata": {
    "scrolled": true
   }
  },
  {
   "cell_type": "code",
   "execution_count": 19,
   "source": [
    "dfn, dfd = 2, 27\r\n",
    "p_value= stats.f.sf(F, dfn, dfd) # using here the 'survival function 1 - cdf()'\r\n",
    "p_value"
   ],
   "outputs": [
    {
     "output_type": "execute_result",
     "data": {
      "text/plain": [
       "0.0159099583256229"
      ]
     },
     "metadata": {},
     "execution_count": 19
    }
   ],
   "metadata": {}
  },
  {
   "cell_type": "markdown",
   "source": [
    "We then fill the following table and then the ANOVA table:  \n",
    "\n",
    "Hypothesis | Scatter from | Sum of squares | Percentage of variation | $R²$\n",
    "---|---|---|---|---\n",
    "Null | Grand mean | 14.258 | 100.0% |\n",
    "Alternative | Group mean | 10.492 | 73.59% |\n",
    "Difference | - | 3.766 | 26.41% | 0.2641  \n",
    "\n",
    "Source of variation | Sum of squares | DF | MS | F ratio | P value\n",
    "---|---|---|---|---|---\n",
    "Between groups | 3.766 | 29-27 = 2 | 1.883 | 4.841 | 0.0159\n",
    "+ Within groups | 10.492 | N-k = 27 | 0.389 | \n",
    "= Total | 14.258 | N-1 (grandmean) = 29 |"
   ],
   "metadata": {}
  },
  {
   "cell_type": "markdown",
   "source": [
    "#### Effect size\n",
    "$\\eta²$ = R²  \n",
    "R² measures of much variance is explained by the model.  \n",
    "R² = SSB / SST"
   ],
   "metadata": {}
  },
  {
   "cell_type": "code",
   "execution_count": 20,
   "source": [
    "3.766/14.258"
   ],
   "outputs": [
    {
     "output_type": "execute_result",
     "data": {
      "text/plain": [
       "0.2641324168887642"
      ]
     },
     "metadata": {},
     "execution_count": 20
    }
   ],
   "metadata": {
    "scrolled": true
   }
  },
  {
   "cell_type": "markdown",
   "source": [
    "Omega squared (ω2) is a measure of effect size, or the degree of association for a population. It is an estimate of **how much variance in the response variables are accounted for by the explanatory variables**. Omega squared is widely viewed as a lesser biased alternative to eta-squared, especially when sample sizes are small. Zero indicates no effect.\n",
    "$$\n",
    "\\omega² = \\frac{SSB-(DF_B * MS_W)}{SST + MS_W}\n",
    "$$"
   ],
   "metadata": {}
  },
  {
   "cell_type": "code",
   "execution_count": 21,
   "source": [
    "omega2 = (SSB - (2*.389)) / (SST + .389)\r\n",
    "omega2"
   ],
   "outputs": [
    {
     "output_type": "execute_result",
     "data": {
      "text/plain": [
       "0.20401804275562346"
      ]
     },
     "metadata": {},
     "execution_count": 21
    }
   ],
   "metadata": {}
  },
  {
   "cell_type": "markdown",
   "source": [
    "### statsmodels"
   ],
   "metadata": {}
  },
  {
   "cell_type": "code",
   "execution_count": 22,
   "source": [
    "import statsmodels.sandbox.stats as sandbox_stats\r\n",
    "import statsmodels.api as sm\r\n",
    "from statsmodels.formula.api import ols\r\n",
    "\r\n",
    "model = ols('weight ~ group', data=data).fit() # we use OLS regression\r\n",
    "model.summary()"
   ],
   "outputs": [
    {
     "output_type": "execute_result",
     "data": {
      "text/plain": [
       "<class 'statsmodels.iolib.summary.Summary'>\n",
       "\"\"\"\n",
       "                            OLS Regression Results                            \n",
       "==============================================================================\n",
       "Dep. Variable:                 weight   R-squared:                       0.264\n",
       "Model:                            OLS   Adj. R-squared:                  0.210\n",
       "Method:                 Least Squares   F-statistic:                     4.846\n",
       "Date:                Thu, 15 Nov 2018   Prob (F-statistic):             0.0159\n",
       "Time:                        13:23:16   Log-Likelihood:                -26.810\n",
       "No. Observations:                  30   AIC:                             59.62\n",
       "Df Residuals:                      27   BIC:                             63.82\n",
       "Df Model:                           2                                         \n",
       "Covariance Type:            nonrobust                                         \n",
       "=================================================================================\n",
       "                    coef    std err          t      P>|t|      [0.025      0.975]\n",
       "---------------------------------------------------------------------------------\n",
       "Intercept         5.0320      0.197     25.527      0.000       4.628       5.436\n",
       "group[T.trt1]    -0.3710      0.279     -1.331      0.194      -0.943       0.201\n",
       "group[T.trt2]     0.4940      0.279      1.772      0.088      -0.078       1.066\n",
       "==============================================================================\n",
       "Omnibus:                        1.835   Durbin-Watson:                   2.704\n",
       "Prob(Omnibus):                  0.400   Jarque-Bera (JB):                1.406\n",
       "Skew:                           0.524   Prob(JB):                        0.495\n",
       "Kurtosis:                       2.835   Cond. No.                         3.73\n",
       "==============================================================================\n",
       "\n",
       "Warnings:\n",
       "[1] Standard Errors assume that the covariance matrix of the errors is correctly specified.\n",
       "\"\"\""
      ],
      "text/html": [
       "<table class=\"simpletable\">\n",
       "<caption>OLS Regression Results</caption>\n",
       "<tr>\n",
       "  <th>Dep. Variable:</th>         <td>weight</td>      <th>  R-squared:         </th> <td>   0.264</td>\n",
       "</tr>\n",
       "<tr>\n",
       "  <th>Model:</th>                   <td>OLS</td>       <th>  Adj. R-squared:    </th> <td>   0.210</td>\n",
       "</tr>\n",
       "<tr>\n",
       "  <th>Method:</th>             <td>Least Squares</td>  <th>  F-statistic:       </th> <td>   4.846</td>\n",
       "</tr>\n",
       "<tr>\n",
       "  <th>Date:</th>             <td>Thu, 15 Nov 2018</td> <th>  Prob (F-statistic):</th>  <td>0.0159</td> \n",
       "</tr>\n",
       "<tr>\n",
       "  <th>Time:</th>                 <td>13:23:16</td>     <th>  Log-Likelihood:    </th> <td> -26.810</td>\n",
       "</tr>\n",
       "<tr>\n",
       "  <th>No. Observations:</th>      <td>    30</td>      <th>  AIC:               </th> <td>   59.62</td>\n",
       "</tr>\n",
       "<tr>\n",
       "  <th>Df Residuals:</th>          <td>    27</td>      <th>  BIC:               </th> <td>   63.82</td>\n",
       "</tr>\n",
       "<tr>\n",
       "  <th>Df Model:</th>              <td>     2</td>      <th>                     </th>     <td> </td>   \n",
       "</tr>\n",
       "<tr>\n",
       "  <th>Covariance Type:</th>      <td>nonrobust</td>    <th>                     </th>     <td> </td>   \n",
       "</tr>\n",
       "</table>\n",
       "<table class=\"simpletable\">\n",
       "<tr>\n",
       "        <td></td>           <th>coef</th>     <th>std err</th>      <th>t</th>      <th>P>|t|</th>  <th>[0.025</th>    <th>0.975]</th>  \n",
       "</tr>\n",
       "<tr>\n",
       "  <th>Intercept</th>     <td>    5.0320</td> <td>    0.197</td> <td>   25.527</td> <td> 0.000</td> <td>    4.628</td> <td>    5.436</td>\n",
       "</tr>\n",
       "<tr>\n",
       "  <th>group[T.trt1]</th> <td>   -0.3710</td> <td>    0.279</td> <td>   -1.331</td> <td> 0.194</td> <td>   -0.943</td> <td>    0.201</td>\n",
       "</tr>\n",
       "<tr>\n",
       "  <th>group[T.trt2]</th> <td>    0.4940</td> <td>    0.279</td> <td>    1.772</td> <td> 0.088</td> <td>   -0.078</td> <td>    1.066</td>\n",
       "</tr>\n",
       "</table>\n",
       "<table class=\"simpletable\">\n",
       "<tr>\n",
       "  <th>Omnibus:</th>       <td> 1.835</td> <th>  Durbin-Watson:     </th> <td>   2.704</td>\n",
       "</tr>\n",
       "<tr>\n",
       "  <th>Prob(Omnibus):</th> <td> 0.400</td> <th>  Jarque-Bera (JB):  </th> <td>   1.406</td>\n",
       "</tr>\n",
       "<tr>\n",
       "  <th>Skew:</th>          <td> 0.524</td> <th>  Prob(JB):          </th> <td>   0.495</td>\n",
       "</tr>\n",
       "<tr>\n",
       "  <th>Kurtosis:</th>      <td> 2.835</td> <th>  Cond. No.          </th> <td>    3.73</td>\n",
       "</tr>\n",
       "</table><br/><br/>Warnings:<br/>[1] Standard Errors assume that the covariance matrix of the errors is correctly specified."
      ]
     },
     "metadata": {},
     "execution_count": 22
    }
   ],
   "metadata": {
    "scrolled": true
   }
  },
  {
   "cell_type": "code",
   "execution_count": 23,
   "source": [
    "anova_table = sm.stats.anova_lm(model, typ='II')\r\n",
    "anova_table"
   ],
   "outputs": [
    {
     "output_type": "execute_result",
     "data": {
      "text/plain": [
       "            sum_sq    df         F   PR(>F)\n",
       "group      3.76634   2.0  4.846088  0.01591\n",
       "Residual  10.49209  27.0       NaN      NaN"
      ],
      "text/html": [
       "<div>\n",
       "<style scoped>\n",
       "    .dataframe tbody tr th:only-of-type {\n",
       "        vertical-align: middle;\n",
       "    }\n",
       "\n",
       "    .dataframe tbody tr th {\n",
       "        vertical-align: top;\n",
       "    }\n",
       "\n",
       "    .dataframe thead th {\n",
       "        text-align: right;\n",
       "    }\n",
       "</style>\n",
       "<table border=\"1\" class=\"dataframe\">\n",
       "  <thead>\n",
       "    <tr style=\"text-align: right;\">\n",
       "      <th></th>\n",
       "      <th>sum_sq</th>\n",
       "      <th>df</th>\n",
       "      <th>F</th>\n",
       "      <th>PR(&gt;F)</th>\n",
       "    </tr>\n",
       "  </thead>\n",
       "  <tbody>\n",
       "    <tr>\n",
       "      <th>group</th>\n",
       "      <td>3.76634</td>\n",
       "      <td>2.0</td>\n",
       "      <td>4.846088</td>\n",
       "      <td>0.01591</td>\n",
       "    </tr>\n",
       "    <tr>\n",
       "      <th>Residual</th>\n",
       "      <td>10.49209</td>\n",
       "      <td>27.0</td>\n",
       "      <td>NaN</td>\n",
       "      <td>NaN</td>\n",
       "    </tr>\n",
       "  </tbody>\n",
       "</table>\n",
       "</div>"
      ]
     },
     "metadata": {},
     "execution_count": 23
    }
   ],
   "metadata": {}
  },
  {
   "cell_type": "markdown",
   "source": [
    "# Two-way ANOVA"
   ],
   "metadata": {}
  },
  {
   "cell_type": "markdown",
   "source": [
    "The data are divided in two ways because each data point is either from an animal given either an inactive or active treatment (one factor) given for either a short or long duration (second factor). If male and female animals were both included you'd need three-way ANOVA."
   ],
   "metadata": {}
  },
  {
   "cell_type": "markdown",
   "source": [
    "Two-way ANOVA simultaneously tests 3 null hypotheses and so computes 3 P values:\n",
    "1. there is no interaction between the two factors (treatment and duration);\n",
    "2. the population means are identical for animals given placebo and active treatment (treatment), pooling short+log duration;\n",
    "3. the population means are identical for animals given a treatment for short vs. long duration (duration)."
   ],
   "metadata": {}
  },
  {
   "cell_type": "markdown",
   "source": [
    "Source of variation | Sum of squares | DF | MS\n",
    "---|---|---|---\n",
    "Interaction | 12896 | 1 | 12896 \n",
    "+ Between rows | 5764 | 1 | 5764\n",
    "+ Between columns | 3710 | 1 | 3710\n",
    "+ Among replicates (residual) | 928 | 8 | 116\n",
    "= Total | 23298 | 11"
   ],
   "metadata": {}
  },
  {
   "cell_type": "markdown",
   "source": [
    "# Multiple comparison tests after ANOVA"
   ],
   "metadata": {}
  },
  {
   "cell_type": "markdown",
   "source": [
    "The goal is to compare every mean with every other mean. The results of Tukey (or more generally Tuker-Kramer test which allows for unequal sample size) include:\n",
    "- both CIs,\n",
    "- conclusions about statistical significance "
   ],
   "metadata": {}
  },
  {
   "cell_type": "code",
   "execution_count": 24,
   "source": [
    "mult_comp = sm.stats.multicomp.MultiComparison(data['weight'], data['group'])"
   ],
   "outputs": [],
   "metadata": {}
  },
  {
   "cell_type": "markdown",
   "source": [
    "## Tukey"
   ],
   "metadata": {}
  },
  {
   "cell_type": "code",
   "execution_count": 25,
   "source": [
    "print(mult_comp.tukeyhsd()) # P values are computed but not displayed"
   ],
   "outputs": [
    {
     "output_type": "stream",
     "name": "stdout",
     "text": [
      "Multiple Comparison of Means - Tukey HSD,FWER=0.05\n",
      "============================================\n",
      "group1 group2 meandiff  lower  upper  reject\n",
      "--------------------------------------------\n",
      " ctrl   trt1   -0.371  -1.0621 0.3201 False \n",
      " ctrl   trt2   0.494   -0.1971 1.1851 False \n",
      " trt1   trt2   0.865    0.1739 1.5561  True \n",
      "--------------------------------------------\n"
     ]
    }
   ],
   "metadata": {
    "scrolled": false
   }
  },
  {
   "cell_type": "markdown",
   "source": [
    "These are multiple comparisons CIs, so the 95% confidence level applies to the entire family of comparisons, rather than to each individual interval. There is a 95% change that all three of these CIs include the true population value, leaving a 5% chance that any one or more of the intervals does not include the population value.  \n",
    "If a 95% CI for the difference between two means include zero ($H_0$) then the difference is not statistically significant (P>0.05).  \n",
    "The 5% significance level is a **familywise significance level**, meaning that it applies to the entire set of comparisons. If the null hypothesis is true, there is a 5% chance that one or more of the comparisaons will be statistically significant. The _yes/no_ conclusions apply to each comparison individually."
   ],
   "metadata": {}
  },
  {
   "cell_type": "code",
   "execution_count": 26,
   "source": [
    "print(mult_comp.groupstats.groupmean)"
   ],
   "outputs": [
    {
     "output_type": "stream",
     "name": "stdout",
     "text": [
      "[5.032 4.661 5.526]\n"
     ]
    }
   ],
   "metadata": {
    "scrolled": true
   }
  },
  {
   "cell_type": "code",
   "execution_count": 27,
   "source": [
    "mult_comp_2 = sm.stats.multicomp.pairwise_tukeyhsd(data['weight'], data['group'])\r\n",
    "# Tukey’s Honestly Significant Difference\r\n",
    "mult_comp_2.summary()"
   ],
   "outputs": [
    {
     "output_type": "execute_result",
     "data": {
      "text/plain": [
       "<class 'statsmodels.iolib.table.SimpleTable'>"
      ],
      "text/html": [
       "<table class=\"simpletable\">\n",
       "<caption>Multiple Comparison of Means - Tukey HSD,FWER=0.05</caption>\n",
       "<tr>\n",
       "  <th>group1</th> <th>group2</th> <th>meandiff</th>  <th>lower</th>   <th>upper</th> <th>reject</th>\n",
       "</tr>\n",
       "<tr>\n",
       "   <td>ctrl</td>   <td>trt1</td>   <td>-0.371</td>  <td>-1.0621</td> <td>0.3201</td>  <td>False</td>\n",
       "</tr>\n",
       "<tr>\n",
       "   <td>ctrl</td>   <td>trt2</td>    <td>0.494</td>  <td>-0.1971</td> <td>1.1851</td>  <td>False</td>\n",
       "</tr>\n",
       "<tr>\n",
       "   <td>trt1</td>   <td>trt2</td>    <td>0.865</td>  <td>0.1739</td>  <td>1.5561</td>  <td>True</td> \n",
       "</tr>\n",
       "</table>"
      ]
     },
     "metadata": {},
     "execution_count": 27
    }
   ],
   "metadata": {
    "scrolled": true
   }
  },
  {
   "cell_type": "code",
   "execution_count": 28,
   "source": [
    "np.diff(mult_comp_2.confint) # same CI for all three comparisons (see end of this part), here n=10 in all groups"
   ],
   "outputs": [
    {
     "output_type": "execute_result",
     "data": {
      "text/plain": [
       "array([[1.38217336],\n",
       "       [1.38217336],\n",
       "       [1.38217336]])"
      ]
     },
     "metadata": {},
     "execution_count": 28
    }
   ],
   "metadata": {}
  },
  {
   "cell_type": "markdown",
   "source": [
    "When computing most multiple comparisons tests, the SD for difference between 2 means is not computed from the SDs of those two groups but rather from the pooled SD of all the groups. The margin of error of the CI is computed by multiplying the SE of the difference by a critical value that depends on the choice of test, the number of df, the degree of confidence desired and the number of comparisons:\n",
    "$$\n",
    "\\bar{y_i} - \\bar{y_j} \\pm t_{1-\\alpha/2}\\sqrt{\\frac{SSE}{n-k}\\left(\\frac{1}{n_i}+\\frac{1}{n_j}\\right)}\n",
    "$$\n",
    "and $MSE = SSE/(n-k) = s_p²$ (pooled variance)"
   ],
   "metadata": {}
  },
  {
   "cell_type": "code",
   "execution_count": 29,
   "source": [
    "_ = mult_comp_2.plot_simultaneous(comparison_name='ctrl', xlabel='weight', ylabel='group')"
   ],
   "outputs": [
    {
     "output_type": "display_data",
     "data": {
      "text/plain": [
       "<Figure size 720x432 with 1 Axes>"
      ],
      "image/png": "[encoded data removed]"
     },
     "metadata": {
      "needs_background": "light"
     }
    }
   ],
   "metadata": {
    "scrolled": true
   }
  },
  {
   "cell_type": "markdown",
   "source": [
    "## Dunnett's test\n",
    "Compares the mean of each group to the mean of a control group without comparing the other groups among themselves. The test makes fewer comparisons than Tukey's method, so it generates narrower CIs and has more power to detect differences."
   ],
   "metadata": {}
  },
  {
   "cell_type": "code",
   "execution_count": 30,
   "source": [
    "# there is nothing well established in Python, so let's use R\r\n",
    "import rpy2.ipython\r\n",
    "%load_ext rpy2.ipython"
   ],
   "outputs": [],
   "metadata": {}
  },
  {
   "cell_type": "code",
   "execution_count": 31,
   "source": [
    "%%R\r\n",
    "print(head(data))"
   ],
   "outputs": [],
   "metadata": {}
  },
  {
   "cell_type": "markdown",
   "source": [
    "This is not working, better to switch to a different notebook dedicated to analyses using R."
   ],
   "metadata": {}
  },
  {
   "cell_type": "markdown",
   "source": [
    "## Bonferroni's test\n",
    "Bonferroni's multiple comparisons test should be used when the experiment design requires comparing only selected pairs of means (different from Tukey -> all vs. all, and Dunnett -> all vs. control)."
   ],
   "metadata": {}
  },
  {
   "cell_type": "markdown",
   "source": [
    "results = mult_comp.allpairtest(stats.ttest_ind, method='bonf')\n",
    "results[0]"
   ],
   "metadata": {}
  },
  {
   "cell_type": "code",
   "execution_count": 32,
   "source": [
    "p_val_adj = .05 / 3\r\n",
    "p_val_adj"
   ],
   "outputs": [
    {
     "output_type": "execute_result",
     "data": {
      "text/plain": [
       "0.016666666666666666"
      ]
     },
     "metadata": {},
     "execution_count": 32
    }
   ],
   "metadata": {}
  },
  {
   "cell_type": "code",
   "execution_count": 33,
   "source": [
    "res = stats.ttest_ind(data[data['group'] == 'ctrl']['weight'],\r\n",
    "                     data[data['group'] == 'trt1']['weight'])\r\n",
    "res"
   ],
   "outputs": [
    {
     "output_type": "execute_result",
     "data": {
      "text/plain": [
       "Ttest_indResult(statistic=1.1912603818487009, pvalue=0.2490231659730067)"
      ]
     },
     "metadata": {},
     "execution_count": 33
    }
   ],
   "metadata": {}
  },
  {
   "cell_type": "code",
   "execution_count": 34,
   "source": [
    "res.pvalue <= p_val_adj"
   ],
   "outputs": [
    {
     "output_type": "execute_result",
     "data": {
      "text/plain": [
       "False"
      ]
     },
     "metadata": {},
     "execution_count": 34
    }
   ],
   "metadata": {}
  },
  {
   "cell_type": "markdown",
   "source": [
    "The individual t-tests that are conducted have to have a p-value less than 0.01667 in order to be considered significant."
   ],
   "metadata": {}
  },
  {
   "cell_type": "code",
   "execution_count": 38,
   "source": [
    "from statsmodels.sandbox.stats.multicomp import multipletests"
   ],
   "outputs": [],
   "metadata": {
    "scrolled": true
   }
  },
  {
   "cell_type": "code",
   "execution_count": 41,
   "source": [
    "multipletests([.05, 0.3, 0.01], alpha=.05, method='bonferroni')"
   ],
   "outputs": [
    {
     "output_type": "execute_result",
     "data": {
      "text/plain": [
       "(array([False, False,  True]),\n",
       " array([0.15, 0.9 , 0.03]),\n",
       " 0.016952427508441503,\n",
       " 0.016666666666666666)"
      ]
     },
     "metadata": {},
     "execution_count": 41
    }
   ],
   "metadata": {}
  },
  {
   "cell_type": "markdown",
   "source": [
    "### allpairtest"
   ],
   "metadata": {}
  },
  {
   "cell_type": "code",
   "execution_count": 100,
   "source": [
    "mult_comp.allpairtest(stats.ttest_ind, method='bonf')[0]"
   ],
   "outputs": [
    {
     "output_type": "execute_result",
     "data": {
      "text/plain": [
       "<class 'statsmodels.iolib.table.SimpleTable'>"
      ],
      "text/html": [
       "<table class=\"simpletable\">\n",
       "<caption>Test Multiple Comparison ttest_ind \n",
       "FWER=0.05 method=bonf\n",
       "alphacSidak=0.02, alphacBonf=0.017</caption>\n",
       "<tr>\n",
       "  <th>group1</th> <th>group2</th>  <th>stat</th>    <th>pval</th>  <th>pval_corr</th> <th>reject</th>\n",
       "</tr>\n",
       "<tr>\n",
       "   <td>ctrl</td>   <td>trt1</td>  <td>1.1913</td>   <td>0.249</td>  <td>0.7471</td>    <td>False</td>\n",
       "</tr>\n",
       "<tr>\n",
       "   <td>ctrl</td>   <td>trt2</td>  <td>-2.134</td>  <td>0.0469</td>  <td>0.1406</td>    <td>False</td>\n",
       "</tr>\n",
       "<tr>\n",
       "   <td>trt1</td>   <td>trt2</td>  <td>-3.0101</td> <td>0.0075</td>  <td>0.0226</td>    <td>True</td> \n",
       "</tr>\n",
       "</table>"
      ]
     },
     "metadata": {},
     "execution_count": 100
    }
   ],
   "metadata": {}
  },
  {
   "cell_type": "markdown",
   "source": [
    "The pairwise.ttest for independent samples in R, as well as the Tukey HSD test in both R and statsmoldels, use the **joint variance across all samples**, while the pairwise ttest calculates the joint variance estimate for each pair of sample separately. _stats.ttest_ind_ just looks at one pair at a time:  "
   ],
   "metadata": {}
  },
  {
   "cell_type": "markdown",
   "source": [
    "```Rscipt\n",
    "pairwise.t.test(data$weight, data$group, p.adj = \"bonferroni\")\n",
    "\n",
    "data:  data$weight and data$group \n",
    "\n",
    "     ctrl  trt1 \n",
    "trt1 0.583 -    \n",
    "trt2 0.263 0.013\n",
    "\n",
    "P value adjustment method: bonferroni\n",
    "```"
   ],
   "metadata": {}
  },
  {
   "cell_type": "code",
   "execution_count": 5,
   "source": [
    "# use scikit_posthocs instead\n",
    "import scikit_posthocs as sp\n",
    "print(sp.posthoc_ttest(data, 'weight', 'group', pool_sd=True, p_adjust='b'))"
   ],
   "outputs": [
    {
     "output_type": "stream",
     "name": "stdout",
     "text": [
      "          ctrl      trt1      trt2\n",
      "ctrl -1.000000  0.583164  0.263045\n",
      "trt1  0.583164 -1.000000  0.013378\n",
      "trt2  0.263045  0.013378 -1.000000\n"
     ]
    }
   ],
   "metadata": {}
  },
  {
   "cell_type": "markdown",
   "source": [
    "## Holm adjustment\n",
    "The Holm adjustment sequentially compares the lowest p-value with a Type I error rate that is reduced for each consecutive test. In our case, this means that our first p-value is tested at the .05/3 level (.017), second at the .05/2 level (.025), and third at the .05/1 level (.05). This method is generally considered superior to the Bonferroni adjustment."
   ],
   "metadata": {}
  },
  {
   "cell_type": "code",
   "execution_count": 97,
   "source": [
    "mult_comp.allpairtest(stats.ttest_ind, method='h')[0]"
   ],
   "outputs": [
    {
     "output_type": "execute_result",
     "data": {
      "text/plain": [
       "<class 'statsmodels.iolib.table.SimpleTable'>"
      ],
      "text/html": [
       "<table class=\"simpletable\">\n",
       "<caption>Test Multiple Comparison ttest_ind \n",
       "FWER=0.05 method=h\n",
       "alphacSidak=0.02, alphacBonf=0.017</caption>\n",
       "<tr>\n",
       "  <th>group1</th> <th>group2</th>  <th>stat</th>    <th>pval</th>  <th>pval_corr</th> <th>reject</th>\n",
       "</tr>\n",
       "<tr>\n",
       "   <td>ctrl</td>   <td>trt1</td>  <td>1.1913</td>   <td>0.249</td>   <td>0.249</td>    <td>False</td>\n",
       "</tr>\n",
       "<tr>\n",
       "   <td>ctrl</td>   <td>trt2</td>  <td>-2.134</td>  <td>0.0469</td>  <td>0.0937</td>    <td>False</td>\n",
       "</tr>\n",
       "<tr>\n",
       "   <td>trt1</td>   <td>trt2</td>  <td>-3.0101</td> <td>0.0075</td>  <td>0.0226</td>    <td>True</td> \n",
       "</tr>\n",
       "</table>"
      ]
     },
     "metadata": {},
     "execution_count": 97
    }
   ],
   "metadata": {}
  },
  {
   "cell_type": "code",
   "execution_count": null,
   "source": [],
   "outputs": [],
   "metadata": {}
  }
 ],
 "metadata": {
  "kernelspec": {
   "name": "python3",
   "display_name": "Python 3.9.6 64-bit (system)"
  },
  "language_info": {
   "codemirror_mode": {
    "name": "ipython",
    "version": 3
   },
   "file_extension": ".py",
   "mimetype": "text/x-python",
   "name": "python",
   "nbconvert_exporter": "python",
   "pygments_lexer": "ipython3",
   "version": "3.9.6"
  },
  "interpreter": {
   "hash": "b51595f36012c8da2bf2284ebbd8d377d5c2d31fa7484164f2d2bcda7a09b462"
  }
 },
 "nbformat": 4,
 "nbformat_minor": 2
}