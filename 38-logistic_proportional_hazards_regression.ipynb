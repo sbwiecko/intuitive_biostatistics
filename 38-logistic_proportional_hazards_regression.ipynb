{
 "cells": [
  {
   "cell_type": "markdown",
   "metadata": {},
   "source": [
    "# Logistic regression"
   ]
  },
  {
   "cell_type": "markdown",
   "metadata": {},
   "source": [
    "Logistic regression is used when the outcome (dependent variable) has two possible values or categories. Because it is almost always used with two or more independent variables, is should be called multiple logistic regression."
   ]
  },
  {
   "cell_type": "markdown",
   "metadata": {},
   "source": [
    "|Type of regression|Dependent var (Y)|Examples\n",
    "|---|---|---|\n",
    "|Linear|Continuous (interval, ratio)|Enzyme activity, renal function, weight etc.\n",
    "|Logistic|Binary (dichotomous)|Death during surgery, graduation, recurrence of cancer etc.\n",
    "|Proportional hazards|Elapsed time to event|Months until death, quarters in school before graduation etc."
   ]
  },
  {
   "cell_type": "markdown",
   "metadata": {},
   "source": [
    "The odds of an event occuring equals the probability that that event will occur divided by the probability that it will not occur. Every probability can be expressed as odds, every odds can be expressed as a probability."
   ]
  },
  {
   "cell_type": "markdown",
   "metadata": {},
   "source": [
    "The logistic regression model computes the odds from baseline odds and from odds ratios computed for each independent variable:\n",
    "$ Odds = (Baseline Odds).OR_1.OR_2.(...)OR_n $\n",
    "The baseline odds answers this question, if every single independent X variables equaled 0 what are te odds of a particular category? To make the baseline odds meaningful, we can encode that variable as $Age - 20 $ so that $X=0$ would encode people who are 20."
   ]
  },
  {
   "cell_type": "markdown",
   "metadata": {},
   "source": [
    "For each continuous variable such as the age, the corresponding odds ratio answers the question, for each additional year of age, by how much do the odds increase or decrease? If the OR associated with age equals 1.0, then the age is not related. If $OR>1$ then the odds increase by a set percentage for each additional year of age. For instance, an OR of 1.03 would mean that the odds of Y increase by 3% as a person grows older by one year."
   ]
  },
  {
   "cell_type": "markdown",
   "metadata": {},
   "source": [
    "$$\n",
    "Y_i = \\beta_0 + \\beta_1.X_{i,1} + \\beta_2.X_{i,2} + ... + \\beta_n.X_{i,n}\n",
    "$$\n",
    "with $Y_i$ the natural log of the odds for a particular participant, $\\beta_0$ the natural log of the baseline odds, $\\beta_2$ the natural log of the odds ratio for the first independent variable etc. For example:\n",
    "$$\n",
    "\\log\\left[\\frac{prob(HR_{suicide=oui})}{1-prob(HR_{suicide=oui})}\\right] = a + b \\times duree + c \\times a\n",
    "$$"
   ]
  },
  {
   "cell_type": "markdown",
   "metadata": {},
   "source": [
    "The Y value is the natural log of odds, which can be transformed to a probability. Since it implicitly embodies uncertainty, there is no need to explicitly add a random term to the model. Because there is no Gaussian distribution, the method of least squares is not used, instead logistic regression finds the values of the odds ratios using what is called a _maximum likelihood method_ (MLE)."
   ]
  },
  {
   "cell_type": "markdown",
   "metadata": {},
   "source": [
    "## Fitting a simple model"
   ]
  },
  {
   "cell_type": "code",
   "execution_count": 1,
   "metadata": {},
   "outputs": [],
   "source": [
    "# let's try the simplest example taken from the MOOC 'Introduction à la statistique avec R'\n",
    "import pandas as pd\n",
    "import numpy as np\n",
    "import statsmodels.api as sm"
   ]
  },
  {
   "cell_type": "code",
   "execution_count": 2,
   "metadata": {},
   "outputs": [
    {
     "data": {
      "text/html": [
       "<div>\n",
       "<style scoped>\n",
       "    .dataframe tbody tr th:only-of-type {\n",
       "        vertical-align: middle;\n",
       "    }\n",
       "\n",
       "    .dataframe tbody tr th {\n",
       "        vertical-align: top;\n",
       "    }\n",
       "\n",
       "    .dataframe thead th {\n",
       "        text-align: right;\n",
       "    }\n",
       "</style>\n",
       "<table border=\"1\" class=\"dataframe\">\n",
       "  <thead>\n",
       "    <tr style=\"text-align: right;\">\n",
       "      <th></th>\n",
       "      <th>age</th>\n",
       "      <th>prof</th>\n",
       "      <th>duree</th>\n",
       "      <th>discip</th>\n",
       "      <th>n.enfant</th>\n",
       "      <th>n.fratrie</th>\n",
       "      <th>ecole</th>\n",
       "      <th>separation</th>\n",
       "      <th>juge.enfant</th>\n",
       "      <th>place</th>\n",
       "      <th>...</th>\n",
       "      <th>subst.cons</th>\n",
       "      <th>scz.cons</th>\n",
       "      <th>char</th>\n",
       "      <th>rs</th>\n",
       "      <th>ed</th>\n",
       "      <th>dr</th>\n",
       "      <th>suicide.s</th>\n",
       "      <th>suicide.hr</th>\n",
       "      <th>suicide.past</th>\n",
       "      <th>dur.interv</th>\n",
       "    </tr>\n",
       "  </thead>\n",
       "  <tbody>\n",
       "    <tr>\n",
       "      <th>0</th>\n",
       "      <td>31.0</td>\n",
       "      <td>autre</td>\n",
       "      <td>4.0</td>\n",
       "      <td>0.0</td>\n",
       "      <td>2.0</td>\n",
       "      <td>4</td>\n",
       "      <td>1.0</td>\n",
       "      <td>0.0</td>\n",
       "      <td>0.0</td>\n",
       "      <td>0.0</td>\n",
       "      <td>...</td>\n",
       "      <td>0</td>\n",
       "      <td>0</td>\n",
       "      <td>1.0</td>\n",
       "      <td>2.0</td>\n",
       "      <td>1.0</td>\n",
       "      <td>1.0</td>\n",
       "      <td>0.0</td>\n",
       "      <td>0.0</td>\n",
       "      <td>0.0</td>\n",
       "      <td>NaN</td>\n",
       "    </tr>\n",
       "    <tr>\n",
       "      <th>1</th>\n",
       "      <td>49.0</td>\n",
       "      <td>NaN</td>\n",
       "      <td>NaN</td>\n",
       "      <td>0.0</td>\n",
       "      <td>7.0</td>\n",
       "      <td>3</td>\n",
       "      <td>2.0</td>\n",
       "      <td>1.0</td>\n",
       "      <td>0.0</td>\n",
       "      <td>0.0</td>\n",
       "      <td>...</td>\n",
       "      <td>0</td>\n",
       "      <td>0</td>\n",
       "      <td>1.0</td>\n",
       "      <td>2.0</td>\n",
       "      <td>2.0</td>\n",
       "      <td>1.0</td>\n",
       "      <td>0.0</td>\n",
       "      <td>0.0</td>\n",
       "      <td>0.0</td>\n",
       "      <td>70.0</td>\n",
       "    </tr>\n",
       "    <tr>\n",
       "      <th>2</th>\n",
       "      <td>50.0</td>\n",
       "      <td>prof.intermediaire</td>\n",
       "      <td>5.0</td>\n",
       "      <td>0.0</td>\n",
       "      <td>2.0</td>\n",
       "      <td>2</td>\n",
       "      <td>2.0</td>\n",
       "      <td>0.0</td>\n",
       "      <td>0.0</td>\n",
       "      <td>0.0</td>\n",
       "      <td>...</td>\n",
       "      <td>0</td>\n",
       "      <td>0</td>\n",
       "      <td>1.0</td>\n",
       "      <td>2.0</td>\n",
       "      <td>3.0</td>\n",
       "      <td>2.0</td>\n",
       "      <td>0.0</td>\n",
       "      <td>0.0</td>\n",
       "      <td>0.0</td>\n",
       "      <td>NaN</td>\n",
       "    </tr>\n",
       "    <tr>\n",
       "      <th>3</th>\n",
       "      <td>47.0</td>\n",
       "      <td>ouvrier</td>\n",
       "      <td>NaN</td>\n",
       "      <td>0.0</td>\n",
       "      <td>0.0</td>\n",
       "      <td>6</td>\n",
       "      <td>1.0</td>\n",
       "      <td>1.0</td>\n",
       "      <td>0.0</td>\n",
       "      <td>1.0</td>\n",
       "      <td>...</td>\n",
       "      <td>0</td>\n",
       "      <td>0</td>\n",
       "      <td>1.0</td>\n",
       "      <td>2.0</td>\n",
       "      <td>2.0</td>\n",
       "      <td>2.0</td>\n",
       "      <td>1.0</td>\n",
       "      <td>0.0</td>\n",
       "      <td>0.0</td>\n",
       "      <td>105.0</td>\n",
       "    </tr>\n",
       "    <tr>\n",
       "      <th>4</th>\n",
       "      <td>23.0</td>\n",
       "      <td>sans emploi</td>\n",
       "      <td>4.0</td>\n",
       "      <td>1.0</td>\n",
       "      <td>1.0</td>\n",
       "      <td>6</td>\n",
       "      <td>1.0</td>\n",
       "      <td>1.0</td>\n",
       "      <td>NaN</td>\n",
       "      <td>1.0</td>\n",
       "      <td>...</td>\n",
       "      <td>0</td>\n",
       "      <td>0</td>\n",
       "      <td>1.0</td>\n",
       "      <td>2.0</td>\n",
       "      <td>2.0</td>\n",
       "      <td>2.0</td>\n",
       "      <td>0.0</td>\n",
       "      <td>0.0</td>\n",
       "      <td>1.0</td>\n",
       "      <td>NaN</td>\n",
       "    </tr>\n",
       "  </tbody>\n",
       "</table>\n",
       "<p>5 rows × 26 columns</p>\n",
       "</div>"
      ],
      "text/plain": [
       "    age                prof  duree  discip  n.enfant  n.fratrie  ecole  \\\n",
       "0  31.0               autre    4.0     0.0       2.0          4    1.0   \n",
       "1  49.0                 NaN    NaN     0.0       7.0          3    2.0   \n",
       "2  50.0  prof.intermediaire    5.0     0.0       2.0          2    2.0   \n",
       "3  47.0             ouvrier    NaN     0.0       0.0          6    1.0   \n",
       "4  23.0         sans emploi    4.0     1.0       1.0          6    1.0   \n",
       "\n",
       "   separation  juge.enfant  place     ...      subst.cons  scz.cons  char  \\\n",
       "0         0.0          0.0    0.0     ...               0         0   1.0   \n",
       "1         1.0          0.0    0.0     ...               0         0   1.0   \n",
       "2         0.0          0.0    0.0     ...               0         0   1.0   \n",
       "3         1.0          0.0    1.0     ...               0         0   1.0   \n",
       "4         1.0          NaN    1.0     ...               0         0   1.0   \n",
       "\n",
       "    rs   ed   dr  suicide.s  suicide.hr  suicide.past  dur.interv  \n",
       "0  2.0  1.0  1.0        0.0         0.0           0.0         NaN  \n",
       "1  2.0  2.0  1.0        0.0         0.0           0.0        70.0  \n",
       "2  2.0  3.0  2.0        0.0         0.0           0.0         NaN  \n",
       "3  2.0  2.0  2.0        1.0         0.0           0.0       105.0  \n",
       "4  2.0  2.0  2.0        0.0         0.0           1.0         NaN  \n",
       "\n",
       "[5 rows x 26 columns]"
      ]
     },
     "execution_count": 2,
     "metadata": {},
     "output_type": "execute_result"
    }
   ],
   "source": [
    "data = pd.read_csv('../data/smp2.csv', delimiter=';')\n",
    "data.head()"
   ]
  },
  {
   "cell_type": "code",
   "execution_count": 3,
   "metadata": {},
   "outputs": [
    {
     "name": "stdout",
     "output_type": "stream",
     "text": [
      "<class 'pandas.core.frame.DataFrame'>\n",
      "RangeIndex: 799 entries, 0 to 798\n",
      "Data columns (total 26 columns):\n",
      "age             797 non-null float64\n",
      "prof            793 non-null object\n",
      "duree           576 non-null float64\n",
      "discip          793 non-null float64\n",
      "n.enfant        773 non-null float64\n",
      "n.fratrie       799 non-null int64\n",
      "ecole           794 non-null float64\n",
      "separation      788 non-null float64\n",
      "juge.enfant     794 non-null float64\n",
      "place           792 non-null float64\n",
      "abus            792 non-null float64\n",
      "grav.cons       795 non-null float64\n",
      "dep.cons        799 non-null int64\n",
      "ago.cons        799 non-null int64\n",
      "ptsd.cons       799 non-null int64\n",
      "alc.cons        799 non-null int64\n",
      "subst.cons      799 non-null int64\n",
      "scz.cons        799 non-null int64\n",
      "char            703 non-null float64\n",
      "rs              696 non-null float64\n",
      "ed              692 non-null float64\n",
      "dr              688 non-null float64\n",
      "suicide.s       758 non-null float64\n",
      "suicide.hr      760 non-null float64\n",
      "suicide.past    785 non-null float64\n",
      "dur.interv      749 non-null float64\n",
      "dtypes: float64(18), int64(7), object(1)\n",
      "memory usage: 162.4+ KB\n"
     ]
    }
   ],
   "source": [
    "data.info()"
   ]
  },
  {
   "cell_type": "code",
   "execution_count": 4,
   "metadata": {},
   "outputs": [
    {
     "name": "stdout",
     "output_type": "stream",
     "text": [
      "Optimization terminated successfully.\n",
      "         Current function value: 0.494196\n",
      "         Iterations 5\n"
     ]
    }
   ],
   "source": [
    "data_ = data.dropna(subset=['suicide.hr', 'abus'], how='any')\n",
    "y = data_['suicide.hr']\n",
    "X = data_['abus']\n",
    "X = sm.add_constant(X)\n",
    "model = sm.Logit(y, X)\n",
    "result = model.fit()"
   ]
  },
  {
   "cell_type": "code",
   "execution_count": 5,
   "metadata": {},
   "outputs": [
    {
     "data": {
      "text/html": [
       "<table class=\"simpletable\">\n",
       "<caption>Logit Regression Results</caption>\n",
       "<tr>\n",
       "  <th>Dep. Variable:</th>    <td>suicide.hr</td>    <th>  No. Observations:  </th>  <td>   753</td>  \n",
       "</tr>\n",
       "<tr>\n",
       "  <th>Model:</th>               <td>Logit</td>      <th>  Df Residuals:      </th>  <td>   751</td>  \n",
       "</tr>\n",
       "<tr>\n",
       "  <th>Method:</th>               <td>MLE</td>       <th>  Df Model:          </th>  <td>     1</td>  \n",
       "</tr>\n",
       "<tr>\n",
       "  <th>Date:</th>          <td>Thu, 08 Nov 2018</td> <th>  Pseudo R-squ.:     </th>  <td>0.02098</td> \n",
       "</tr>\n",
       "<tr>\n",
       "  <th>Time:</th>              <td>13:01:57</td>     <th>  Log-Likelihood:    </th> <td> -372.13</td> \n",
       "</tr>\n",
       "<tr>\n",
       "  <th>converged:</th>           <td>True</td>       <th>  LL-Null:           </th> <td> -380.11</td> \n",
       "</tr>\n",
       "<tr>\n",
       "  <th> </th>                      <td> </td>        <th>  LLR p-value:       </th> <td>6.494e-05</td>\n",
       "</tr>\n",
       "</table>\n",
       "<table class=\"simpletable\">\n",
       "<tr>\n",
       "    <td></td>       <th>coef</th>     <th>std err</th>      <th>z</th>      <th>P>|z|</th>  <th>[0.025</th>    <th>0.975]</th>  \n",
       "</tr>\n",
       "<tr>\n",
       "  <th>const</th> <td>   -1.6161</td> <td>    0.115</td> <td>  -14.003</td> <td> 0.000</td> <td>   -1.842</td> <td>   -1.390</td>\n",
       "</tr>\n",
       "<tr>\n",
       "  <th>abus</th>  <td>    0.7688</td> <td>    0.190</td> <td>    4.052</td> <td> 0.000</td> <td>    0.397</td> <td>    1.141</td>\n",
       "</tr>\n",
       "</table>"
      ],
      "text/plain": [
       "<class 'statsmodels.iolib.summary.Summary'>\n",
       "\"\"\"\n",
       "                           Logit Regression Results                           \n",
       "==============================================================================\n",
       "Dep. Variable:             suicide.hr   No. Observations:                  753\n",
       "Model:                          Logit   Df Residuals:                      751\n",
       "Method:                           MLE   Df Model:                            1\n",
       "Date:                Thu, 08 Nov 2018   Pseudo R-squ.:                 0.02098\n",
       "Time:                        13:01:57   Log-Likelihood:                -372.13\n",
       "converged:                       True   LL-Null:                       -380.11\n",
       "                                        LLR p-value:                 6.494e-05\n",
       "==============================================================================\n",
       "                 coef    std err          z      P>|z|      [0.025      0.975]\n",
       "------------------------------------------------------------------------------\n",
       "const         -1.6161      0.115    -14.003      0.000      -1.842      -1.390\n",
       "abus           0.7688      0.190      4.052      0.000       0.397       1.141\n",
       "==============================================================================\n",
       "\"\"\""
      ]
     },
     "execution_count": 5,
     "metadata": {},
     "output_type": "execute_result"
    }
   ],
   "source": [
    "result.summary()"
   ]
  },
  {
   "cell_type": "code",
   "execution_count": 6,
   "metadata": {},
   "outputs": [
    {
     "data": {
      "text/plain": [
       "const   -1.616082\n",
       "abus     0.768785\n",
       "dtype: float64"
      ]
     },
     "execution_count": 6,
     "metadata": {},
     "output_type": "execute_result"
    }
   ],
   "source": [
    "result.params"
   ]
  },
  {
   "cell_type": "code",
   "execution_count": 7,
   "metadata": {},
   "outputs": [
    {
     "data": {
      "text/html": [
       "<div>\n",
       "<style scoped>\n",
       "    .dataframe tbody tr th:only-of-type {\n",
       "        vertical-align: middle;\n",
       "    }\n",
       "\n",
       "    .dataframe tbody tr th {\n",
       "        vertical-align: top;\n",
       "    }\n",
       "\n",
       "    .dataframe thead th {\n",
       "        text-align: right;\n",
       "    }\n",
       "</style>\n",
       "<table border=\"1\" class=\"dataframe\">\n",
       "  <thead>\n",
       "    <tr style=\"text-align: right;\">\n",
       "      <th></th>\n",
       "      <th>0</th>\n",
       "      <th>1</th>\n",
       "    </tr>\n",
       "  </thead>\n",
       "  <tbody>\n",
       "    <tr>\n",
       "      <th>const</th>\n",
       "      <td>-1.842275</td>\n",
       "      <td>-1.389890</td>\n",
       "    </tr>\n",
       "    <tr>\n",
       "      <th>abus</th>\n",
       "      <td>0.396937</td>\n",
       "      <td>1.140632</td>\n",
       "    </tr>\n",
       "  </tbody>\n",
       "</table>\n",
       "</div>"
      ],
      "text/plain": [
       "              0         1\n",
       "const -1.842275 -1.389890\n",
       "abus   0.396937  1.140632"
      ]
     },
     "execution_count": 7,
     "metadata": {},
     "output_type": "execute_result"
    }
   ],
   "source": [
    "result.conf_int()"
   ]
  },
  {
   "cell_type": "code",
   "execution_count": 8,
   "metadata": {
    "scrolled": true
   },
   "outputs": [
    {
     "name": "stdout",
     "output_type": "stream",
     "text": [
      "Odds ratio: 2.16\n",
      "CI of the OR: [1.49 3.13]\n"
     ]
    }
   ],
   "source": [
    "OR = np.exp(result.params[1])\n",
    "CI_OR=np.round(np.exp(np.array([.396937, 1.140632])), 2)\n",
    "print(f\"Odds ratio: {OR:3.2f}\")\n",
    "print(f\"CI of the OR: {CI_OR}\")"
   ]
  },
  {
   "cell_type": "code",
   "execution_count": 9,
   "metadata": {},
   "outputs": [
    {
     "data": {
      "text/plain": [
       "array([0., 1.])"
      ]
     },
     "execution_count": 9,
     "metadata": {},
     "output_type": "execute_result"
    }
   ],
   "source": [
    "data_['abus'].unique()"
   ]
  },
  {
   "cell_type": "markdown",
   "metadata": {},
   "source": [
    "The independent variable has two possible values. The corresponding odds ratio is 1.0 for `abus=0`and 2.16 for `abus=1`, meaning that participant with `abus=1` has a bit more than twice the odds of being `suicide.hr`, with CI ranging from 1.49 to 3.13.\n",
    "If the H0 were true, the OR would equal 1.0, but the CI above doesn't include 1.0, so the corresponding P value must be less than 0.05."
   ]
  },
  {
   "cell_type": "markdown",
   "metadata": {},
   "source": [
    "### Analysis of the corresponding contingency table"
   ]
  },
  {
   "cell_type": "code",
   "execution_count": 10,
   "metadata": {},
   "outputs": [],
   "source": [
    "from scipy import stats"
   ]
  },
  {
   "cell_type": "code",
   "execution_count": 11,
   "metadata": {},
   "outputs": [
    {
     "name": "stdout",
     "output_type": "stream",
     "text": [
      "abus        0.0  1.0\n",
      "suicide.hr          \n",
      "0.0         453  147\n",
      "1.0          90   63\n",
      "Fischer's odds ratio: 2.157142857142857\n",
      "Fischer's P value: 7.357964669107829e-05\n"
     ]
    }
   ],
   "source": [
    "table = pd.crosstab(data_['suicide.hr'], data_['abus'])\n",
    "OR, pval = stats.fisher_exact(table)\n",
    "print(table)\n",
    "print(f\"Fischer's odds ratio: {OR}\")\n",
    "print(f\"Fischer's P value: {pval}\")"
   ]
  },
  {
   "cell_type": "markdown",
   "metadata": {},
   "source": [
    "## Fitting a more complex model"
   ]
  },
  {
   "cell_type": "code",
   "execution_count": 12,
   "metadata": {},
   "outputs": [],
   "source": [
    "data_ = data.dropna(\n",
    "    subset=['suicide.hr', 'abus', 'discip', 'duree', 'age'], how='any')"
   ]
  },
  {
   "cell_type": "code",
   "execution_count": 13,
   "metadata": {},
   "outputs": [
    {
     "name": "stdout",
     "output_type": "stream",
     "text": [
      "Optimization terminated successfully.\n",
      "         Current function value: 0.484332\n",
      "         Iterations 6\n",
      "                         Results: Logit\n",
      "=================================================================\n",
      "Model:              Logit            Pseudo R-squared: 0.042     \n",
      "Dependent Variable: suicide.hr       AIC:              542.7654  \n",
      "Date:               2018-11-08 13:02 BIC:              564.3150  \n",
      "No. Observations:   550              Log-Likelihood:   -266.38   \n",
      "Df Model:           4                LL-Null:          -277.97   \n",
      "Df Residuals:       545              LLR p-value:      0.00011671\n",
      "Converged:          1.0000           Scale:            1.0000    \n",
      "No. Iterations:     6.0000                                       \n",
      "-------------------------------------------------------------------\n",
      "           Coef.    Std.Err.      z      P>|z|     [0.025    0.975]\n",
      "-------------------------------------------------------------------\n",
      "const      0.1058     0.5304    0.1995   0.8418   -0.9338    1.1454\n",
      "abus       0.6161     0.2279    2.7031   0.0069    0.1694    1.0628\n",
      "discip     0.4713     0.2506    1.8810   0.0600   -0.0198    0.9624\n",
      "duree     -0.3640     0.1271   -2.8643   0.0042   -0.6130   -0.1149\n",
      "age       -0.0065     0.0093   -0.7002   0.4838   -0.0247    0.0117\n",
      "=================================================================\n",
      "\n"
     ]
    }
   ],
   "source": [
    "y = data_['suicide.hr']\n",
    "X = data_[['abus', 'discip', 'duree', 'age']]\n",
    "# duree is graduated from 1 to 5 --> better to get dummy\n",
    "X = sm.add_constant(X)\n",
    "model2 = sm.Logit(y, X)\n",
    "result2 = model2.fit()\n",
    "print(result2.summary2())"
   ]
  },
  {
   "cell_type": "code",
   "execution_count": 14,
   "metadata": {},
   "outputs": [
    {
     "data": {
      "text/plain": [
       "const     1.111641\n",
       "abus      1.851698\n",
       "discip    1.602105\n",
       "duree     0.694905\n",
       "age       0.993530\n",
       "dtype: float64"
      ]
     },
     "execution_count": 14,
     "metadata": {},
     "output_type": "execute_result"
    }
   ],
   "source": [
    "ORs = np.exp(result2.params)\n",
    "ORs"
   ]
  },
  {
   "cell_type": "code",
   "execution_count": 15,
   "metadata": {},
   "outputs": [
    {
     "data": {
      "text/plain": [
       "0.8600583546412884"
      ]
     },
     "execution_count": 15,
     "metadata": {},
     "output_type": "execute_result"
    }
   ],
   "source": [
    ".99**15"
   ]
  },
  {
   "cell_type": "markdown",
   "metadata": {},
   "source": [
    "The OR for `age` is 0.99. Every year, the odds ratio of `suicide.hr` goes down about 1%. The OR for a 40-y compared to a 25-y is $0.99^{15}$, with the exponent equals $40-15$. That means a 40-y persone has about 14% lower odds of being `suicide.hr` than a 25-y."
   ]
  },
  {
   "cell_type": "markdown",
   "metadata": {},
   "source": [
    "The same assumptions and attentions as for multiple regression applied to logistic regression (e.g. at least 5-10 events per variable, not too many independent variables in the model, etc.)"
   ]
  },
  {
   "cell_type": "markdown",
   "metadata": {},
   "source": [
    "## Using R-style formula"
   ]
  },
  {
   "cell_type": "code",
   "execution_count": 16,
   "metadata": {},
   "outputs": [],
   "source": [
    "import statsmodels.formula.api as smf"
   ]
  },
  {
   "cell_type": "code",
   "execution_count": 17,
   "metadata": {
    "scrolled": true
   },
   "outputs": [],
   "source": [
    "model2 = smf.logit(formula=\"Q('suicide.hr') ~ abus + discip + duree + age\", \n",
    "                 data=data_)"
   ]
  },
  {
   "cell_type": "code",
   "execution_count": 31,
   "metadata": {},
   "outputs": [
    {
     "name": "stdout",
     "output_type": "stream",
     "text": [
      "Optimization terminated successfully.\n",
      "         Current function value: 0.484332\n",
      "         Iterations 6\n"
     ]
    },
    {
     "data": {
      "text/html": [
       "<table class=\"simpletable\">\n",
       "<caption>Logit Regression Results</caption>\n",
       "<tr>\n",
       "  <th>Dep. Variable:</th>  <td>Q('suicide.hr')</td> <th>  No. Observations:  </th>  <td>   550</td>  \n",
       "</tr>\n",
       "<tr>\n",
       "  <th>Model:</th>               <td>Logit</td>      <th>  Df Residuals:      </th>  <td>   545</td>  \n",
       "</tr>\n",
       "<tr>\n",
       "  <th>Method:</th>               <td>MLE</td>       <th>  Df Model:          </th>  <td>     4</td>  \n",
       "</tr>\n",
       "<tr>\n",
       "  <th>Date:</th>          <td>Thu, 08 Nov 2018</td> <th>  Pseudo R-squ.:     </th>  <td>0.04169</td> \n",
       "</tr>\n",
       "<tr>\n",
       "  <th>Time:</th>              <td>13:03:46</td>     <th>  Log-Likelihood:    </th> <td> -266.38</td> \n",
       "</tr>\n",
       "<tr>\n",
       "  <th>converged:</th>           <td>True</td>       <th>  LL-Null:           </th> <td> -277.97</td> \n",
       "</tr>\n",
       "<tr>\n",
       "  <th> </th>                      <td> </td>        <th>  LLR p-value:       </th> <td>0.0001167</td>\n",
       "</tr>\n",
       "</table>\n",
       "<table class=\"simpletable\">\n",
       "<tr>\n",
       "      <td></td>         <th>coef</th>     <th>std err</th>      <th>z</th>      <th>P>|z|</th>  <th>[0.025</th>    <th>0.975]</th>  \n",
       "</tr>\n",
       "<tr>\n",
       "  <th>Intercept</th> <td>    0.1058</td> <td>    0.530</td> <td>    0.200</td> <td> 0.842</td> <td>   -0.934</td> <td>    1.145</td>\n",
       "</tr>\n",
       "<tr>\n",
       "  <th>abus</th>      <td>    0.6161</td> <td>    0.228</td> <td>    2.703</td> <td> 0.007</td> <td>    0.169</td> <td>    1.063</td>\n",
       "</tr>\n",
       "<tr>\n",
       "  <th>discip</th>    <td>    0.4713</td> <td>    0.251</td> <td>    1.881</td> <td> 0.060</td> <td>   -0.020</td> <td>    0.962</td>\n",
       "</tr>\n",
       "<tr>\n",
       "  <th>duree</th>     <td>   -0.3640</td> <td>    0.127</td> <td>   -2.864</td> <td> 0.004</td> <td>   -0.613</td> <td>   -0.115</td>\n",
       "</tr>\n",
       "<tr>\n",
       "  <th>age</th>       <td>   -0.0065</td> <td>    0.009</td> <td>   -0.700</td> <td> 0.484</td> <td>   -0.025</td> <td>    0.012</td>\n",
       "</tr>\n",
       "</table>"
      ],
      "text/plain": [
       "<class 'statsmodels.iolib.summary.Summary'>\n",
       "\"\"\"\n",
       "                           Logit Regression Results                           \n",
       "==============================================================================\n",
       "Dep. Variable:        Q('suicide.hr')   No. Observations:                  550\n",
       "Model:                          Logit   Df Residuals:                      545\n",
       "Method:                           MLE   Df Model:                            4\n",
       "Date:                Thu, 08 Nov 2018   Pseudo R-squ.:                 0.04169\n",
       "Time:                        13:03:46   Log-Likelihood:                -266.38\n",
       "converged:                       True   LL-Null:                       -277.97\n",
       "                                        LLR p-value:                 0.0001167\n",
       "==============================================================================\n",
       "                 coef    std err          z      P>|z|      [0.025      0.975]\n",
       "------------------------------------------------------------------------------\n",
       "Intercept      0.1058      0.530      0.200      0.842      -0.934       1.145\n",
       "abus           0.6161      0.228      2.703      0.007       0.169       1.063\n",
       "discip         0.4713      0.251      1.881      0.060      -0.020       0.962\n",
       "duree         -0.3640      0.127     -2.864      0.004      -0.613      -0.115\n",
       "age           -0.0065      0.009     -0.700      0.484      -0.025       0.012\n",
       "==============================================================================\n",
       "\"\"\""
      ]
     },
     "execution_count": 31,
     "metadata": {},
     "output_type": "execute_result"
    }
   ],
   "source": [
    "model2.fit().summary()"
   ]
  },
  {
   "cell_type": "markdown",
   "metadata": {},
   "source": [
    "## Interactions"
   ]
  },
  {
   "cell_type": "code",
   "execution_count": 18,
   "metadata": {},
   "outputs": [
    {
     "name": "stdout",
     "output_type": "stream",
     "text": [
      "               Results: Generalized linear model\n",
      "===============================================================\n",
      "Model:              GLM              AIC:            551.7420  \n",
      "Link Function:      logit            BIC:            -2905.7833\n",
      "Dependent Variable: suicide.hr       Log-Likelihood: -272.87   \n",
      "Date:               2018-11-08 13:02 LL-Null:        -277.97   \n",
      "No. Observations:   550              Deviance:       545.74    \n",
      "Df Model:           2                Pearson chi2:   550.      \n",
      "Df Residuals:       547              Scale:          1.0000    \n",
      "Method:             IRLS                                       \n",
      "---------------------------------------------------------------\n",
      "                Coef.  Std.Err.    z     P>|z|   [0.025  0.975]\n",
      "---------------------------------------------------------------\n",
      "const          -1.6547   0.1466 -11.2844 0.0000 -1.9421 -1.3673\n",
      "abus            0.5841   0.2239   2.6089 0.0091  0.1453  1.0229\n",
      "duree*discip    0.0856   0.0524   1.6347 0.1021 -0.0170  0.1883\n",
      "===============================================================\n",
      "\n"
     ]
    },
    {
     "name": "stderr",
     "output_type": "stream",
     "text": [
      "c:\\program files\\python37\\lib\\site-packages\\ipykernel_launcher.py:3: SettingWithCopyWarning: \n",
      "A value is trying to be set on a copy of a slice from a DataFrame.\n",
      "Try using .loc[row_indexer,col_indexer] = value instead\n",
      "\n",
      "See the caveats in the documentation: http://pandas.pydata.org/pandas-docs/stable/indexing.html#indexing-view-versus-copy\n",
      "  This is separate from the ipykernel package so we can avoid doing imports until\n"
     ]
    }
   ],
   "source": [
    "data_ = data.dropna(\n",
    "    subset=['suicide.hr', 'abus', 'discip', 'duree'], how='any')\n",
    "data_['duree*discip'] = data_['duree'] * data_['discip']\n",
    "\n",
    "y = data_['suicide.hr']\n",
    "X = data_[['abus', 'duree*discip']]\n",
    "\n",
    "X = sm.add_constant(X)\n",
    "model3 = sm.GLM(y, X, family=sm.families.Binomial())\n",
    "result3 = model3.fit()\n",
    "print(result3.summary2())"
   ]
  },
  {
   "cell_type": "markdown",
   "metadata": {},
   "source": [
    "# Proportional hazards regression"
   ]
  },
  {
   "cell_type": "markdown",
   "metadata": {},
   "source": [
    "is similar to logistic regression but is used when the outcome is elapsed time to an event and is often used for analyses of survival times."
   ]
  },
  {
   "cell_type": "code",
   "execution_count": 19,
   "metadata": {},
   "outputs": [],
   "source": [
    "from lifelines import KaplanMeierFitter\n",
    "import matplotlib.pyplot as plt\n",
    "%matplotlib inline"
   ]
  },
  {
   "cell_type": "code",
   "execution_count": 20,
   "metadata": {},
   "outputs": [],
   "source": [
    "surv = pd.read_csv('../data/alcool.csv', delimiter=';')"
   ]
  },
  {
   "cell_type": "code",
   "execution_count": 21,
   "metadata": {},
   "outputs": [
    {
     "data": {
      "text/html": [
       "<div>\n",
       "<style scoped>\n",
       "    .dataframe tbody tr th:only-of-type {\n",
       "        vertical-align: middle;\n",
       "    }\n",
       "\n",
       "    .dataframe tbody tr th {\n",
       "        vertical-align: top;\n",
       "    }\n",
       "\n",
       "    .dataframe thead th {\n",
       "        text-align: right;\n",
       "    }\n",
       "</style>\n",
       "<table border=\"1\" class=\"dataframe\">\n",
       "  <thead>\n",
       "    <tr style=\"text-align: right;\">\n",
       "      <th></th>\n",
       "      <th>t</th>\n",
       "      <th>SEVRE</th>\n",
       "      <th>AGE</th>\n",
       "      <th>SEXE</th>\n",
       "      <th>EDVNEG</th>\n",
       "    </tr>\n",
       "  </thead>\n",
       "  <tbody>\n",
       "    <tr>\n",
       "      <th>0</th>\n",
       "      <td>121</td>\n",
       "      <td>0</td>\n",
       "      <td>53</td>\n",
       "      <td>1</td>\n",
       "      <td>0</td>\n",
       "    </tr>\n",
       "    <tr>\n",
       "      <th>1</th>\n",
       "      <td>121</td>\n",
       "      <td>0</td>\n",
       "      <td>52</td>\n",
       "      <td>2</td>\n",
       "      <td>0</td>\n",
       "    </tr>\n",
       "    <tr>\n",
       "      <th>2</th>\n",
       "      <td>40</td>\n",
       "      <td>0</td>\n",
       "      <td>45</td>\n",
       "      <td>2</td>\n",
       "      <td>0</td>\n",
       "    </tr>\n",
       "    <tr>\n",
       "      <th>3</th>\n",
       "      <td>39</td>\n",
       "      <td>0</td>\n",
       "      <td>48</td>\n",
       "      <td>1</td>\n",
       "      <td>1</td>\n",
       "    </tr>\n",
       "    <tr>\n",
       "      <th>4</th>\n",
       "      <td>66</td>\n",
       "      <td>0</td>\n",
       "      <td>45</td>\n",
       "      <td>1</td>\n",
       "      <td>0</td>\n",
       "    </tr>\n",
       "  </tbody>\n",
       "</table>\n",
       "</div>"
      ],
      "text/plain": [
       "     t  SEVRE  AGE  SEXE  EDVNEG\n",
       "0  121      0   53     1       0\n",
       "1  121      0   52     2       0\n",
       "2   40      0   45     2       0\n",
       "3   39      0   48     1       1\n",
       "4   66      0   45     1       0"
      ]
     },
     "execution_count": 21,
     "metadata": {},
     "output_type": "execute_result"
    }
   ],
   "source": [
    "surv.head()"
   ]
  },
  {
   "cell_type": "markdown",
   "metadata": {},
   "source": [
    "## logrank test (categories)"
   ]
  },
  {
   "cell_type": "code",
   "execution_count": 22,
   "metadata": {},
   "outputs": [],
   "source": [
    "surv_ = surv[['t', 'SEVRE', 'SEXE', 'AGE']]"
   ]
  },
  {
   "cell_type": "code",
   "execution_count": 23,
   "metadata": {
    "scrolled": true
   },
   "outputs": [
    {
     "name": "stdout",
     "output_type": "stream",
     "text": [
      "   test_statistic         p\n",
      "0        0.023537  0.878069\n"
     ]
    },
    {
     "data": {
      "image/png": "[encoded data removed]",
      "text/plain": [
       "<Figure size 432x288 with 1 Axes>"
      ]
     },
     "metadata": {
      "needs_background": "light"
     },
     "output_type": "display_data"
    }
   ],
   "source": [
    "# survival analysis as a function of sex\n",
    "ix = surv_['SEXE'] == 1\n",
    "\n",
    "kmf2 = KaplanMeierFitter()\n",
    "\n",
    "#plt.rcParams[\"figure.figsize\"] = (6,4)\n",
    "\n",
    "kmf2.fit(surv_['t'][ix], surv_['SEVRE'][ix])\n",
    "ax=kmf2.plot(legend=None, show_censors=True, ci_alpha=.1, lw=2, c=\"#CC00CC\",\n",
    "              censor_styles={'marker':'|', 'ms': 15, 'mew':1, 'markerfacecolor':'red', \n",
    "                             'markeredgecolor': 'red'})\n",
    "\n",
    "kmf2.fit(surv_['t'][~ix], surv_['SEVRE'][~ix])\n",
    "kmf2.plot(ax=ax, legend=None, show_censors=True, ci_alpha=.1, lw=2, c=\"#0F99B2\",\n",
    "              censor_styles={'marker':'|', 'ms': 15, 'mew':1, 'markerfacecolor':'red', \n",
    "                             'markeredgecolor': 'red'},)\n",
    "\n",
    "plt.ylabel('Proportion survival', fontdict={'fontname':'arial', 'size': 18, 'weight': 'bold'})\n",
    "plt.ylim([0,1.05])\n",
    "#plt.yticks(fontsize=16)\n",
    "\n",
    "#plt.setp(ax.spines.values(), linewidth=2)\n",
    "plt.xlabel('Time', fontdict={'fontname':'arial','size': 18, 'weight': 'bold'})\n",
    "\n",
    "plt.tight_layout()\n",
    "\n",
    "from lifelines.statistics import logrank_test\n",
    "results = logrank_test(surv_['t'][ix], surv_['t'][~ix],\n",
    "                      surv_['SEVRE'][ix], surv_['SEVRE'][~ix])\n",
    "print(results.summary)"
   ]
  },
  {
   "cell_type": "markdown",
   "metadata": {},
   "source": [
    "The P value was 0.878, so the difference between the two survival curves was not considered to be statistically significant. Next we do a more sophisticated analysis that adjusts for differences in age, sexe etc."
   ]
  },
  {
   "cell_type": "markdown",
   "metadata": {},
   "source": [
    "## Cox regression (proportional hazards regression)"
   ]
  },
  {
   "cell_type": "markdown",
   "metadata": {},
   "source": [
    "Uses regression methods to fit the relative risk associated with each independent variable, along with a CI and P value testing the H0 that the population relative risk is 1.0."
   ]
  },
  {
   "cell_type": "markdown",
   "metadata": {},
   "source": [
    "the name implies we regress covariates (e.g., year elected, country, etc.) against a another variable – in this case durations and lifetimes. Similar to the logic in the first part of this tutorial, we cannot use traditional methods like linear regression.\n",
    "\n",
    "There are two popular competing techniques in survival regression: Cox’s model and Aalen’s additive model. Both models attempt to represent the hazard rate λ(t|x) as a function of t and some covariates x. In Cox’s model, the relationship is defined:\n",
    "$$\n",
    "λ(t|x)=b_0(t)exp(b_1x_1+...+b_dx_d)\n",
    "$$\n",
    "\n",
    "Lifelines has an implementation of the Cox propotional hazards regression model (implemented in R under coxph). The idea behind the model is that the log-hazard of an individual is a linear function of their static covariates and a population-level baseline hazard that changes over time. Mathematically:\n",
    "\n",
    "λ(t|x)=b0(t)baselineexp(∑i=1nbixi)log-partial hazardpartial hazard"
   ]
  },
  {
   "cell_type": "code",
   "execution_count": 24,
   "metadata": {},
   "outputs": [
    {
     "name": "stdout",
     "output_type": "stream",
     "text": [
      "n=125, number of events=27\n",
      "\n",
      "          coef  exp(coef)  se(coef)       z      p  lower 0.95  upper 0.95   \n",
      "AGE    -0.0473     0.9538    0.0237 -1.9993 0.0456     -0.0937     -0.0009  *\n",
      "SEXE   -0.0151     0.9850    0.6206 -0.0243 0.9806     -1.2314      1.2012   \n",
      "EDVNEG -0.4428     0.6422    1.0240 -0.4324 0.6655     -2.4499      1.5643   \n",
      "---\n",
      "Signif. codes:  0 '***' 0.001 '**' 0.01 '*' 0.05 '.' 0.1 ' ' 1 \n",
      "\n",
      "Concordance = 0.628\n",
      "Likelihood ratio test = 4.305 on 3 df, p=0.23034\n"
     ]
    }
   ],
   "source": [
    "from lifelines import CoxPHFitter\n",
    "cph = CoxPHFitter()\n",
    "cph.fit(surv, duration_col='t', event_col='SEVRE')\n",
    "cph.print_summary()"
   ]
  },
  {
   "cell_type": "code",
   "execution_count": 25,
   "metadata": {},
   "outputs": [
    {
     "data": {
      "text/plain": [
       "array([0.95380121, 0.91055589, 0.9991004 ])"
      ]
     },
     "execution_count": 25,
     "metadata": {},
     "output_type": "execute_result"
    }
   ],
   "source": [
    "np.exp(np.array([-.0473, -.0937, -.0009]))"
   ]
  },
  {
   "cell_type": "code",
   "execution_count": 26,
   "metadata": {},
   "outputs": [
    {
     "data": {
      "text/plain": [
       "1.0"
      ]
     },
     "execution_count": 26,
     "metadata": {},
     "output_type": "execute_result"
    }
   ],
   "source": [
    "np.exp(0)"
   ]
  },
  {
   "cell_type": "code",
   "execution_count": 27,
   "metadata": {},
   "outputs": [
    {
     "data": {
      "image/png": "[encoded data removed]",
      "text/plain": [
       "<Figure size 432x288 with 1 Axes>"
      ]
     },
     "metadata": {
      "needs_background": "light"
     },
     "output_type": "display_data"
    }
   ],
   "source": [
    "cph.plot()\n",
    "plt.axvline(0, linestyle='--', color='red');"
   ]
  },
  {
   "cell_type": "markdown",
   "metadata": {},
   "source": [
    "The slope of the survival curve, called _hazard_ is the rate of death (event) in a short time interval. When comparing two groups, we often assume that the ratio of hazard functions is constant over time. The hazards (death rates) may change over the course of the study, but at any time point the group A risk of dying is xx% the risk of the group B. The two hazard functions are proportional to one another, hence the name _proportional hazards regression_. If the assumption is true, then the difference between the survival curves can be quantified by a single number, a **relative risk**. If the ratio is 0.5 the relative risk of dying in one group is half the risk of dying in the other group."
   ]
  },
  {
   "cell_type": "code",
   "execution_count": 28,
   "metadata": {},
   "outputs": [
    {
     "data": {
      "text/plain": [
       "<matplotlib.axes._subplots.AxesSubplot at 0x2a5136e5198>"
      ]
     },
     "execution_count": 28,
     "metadata": {},
     "output_type": "execute_result"
    },
    {
     "data": {
      "image/png": "[encoded data removed]",
      "text/plain": [
       "<Figure size 432x288 with 1 Axes>"
      ]
     },
     "metadata": {
      "needs_background": "light"
     },
     "output_type": "display_data"
    }
   ],
   "source": [
    "# After fitting, we can plot what the survival curves look like as we vary a single covarite \n",
    "# while holding everything else equal. This is useful to understand the impact of a covariate, \n",
    "# given the model. \n",
    "\n",
    "cph.plot_covariate_groups('AGE', [0, 20, 40, 60])"
   ]
  },
  {
   "cell_type": "code",
   "execution_count": 29,
   "metadata": {},
   "outputs": [
    {
     "data": {
      "text/plain": [
       "<matplotlib.axes._subplots.AxesSubplot at 0x2a5137ec320>"
      ]
     },
     "execution_count": 29,
     "metadata": {},
     "output_type": "execute_result"
    },
    {
     "data": {
      "image/png": "[encoded data removed]",
      "text/plain": [
       "<Figure size 432x288 with 1 Axes>"
      ]
     },
     "metadata": {
      "needs_background": "light"
     },
     "output_type": "display_data"
    }
   ],
   "source": [
    "cph.plot_covariate_groups('SEXE', [1,2])\n",
    "# CI for SEXE and EDVNEG, therefore not much difference"
   ]
  },
  {
   "cell_type": "code",
   "execution_count": null,
   "metadata": {},
   "outputs": [],
   "source": []
  }
 ],
 "metadata": {
  "kernelspec": {
   "display_name": "Python 3",
   "language": "python",
   "name": "python3"
  },
  "language_info": {
   "codemirror_mode": {
    "name": "ipython",
    "version": 3
   },
   "file_extension": ".py",
   "mimetype": "text/x-python",
   "name": "python",
   "nbconvert_exporter": "python",
   "pygments_lexer": "ipython3",
   "version": "3.7.1"
  }
 },
 "nbformat": 4,
 "nbformat_minor": 2
}
