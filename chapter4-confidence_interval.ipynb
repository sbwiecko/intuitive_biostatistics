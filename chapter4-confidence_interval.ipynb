{
 "cells": [
  {
   "cell_type": "markdown",
   "metadata": {},
   "source": [
    "# the binomial distribution"
   ]
  },
  {
   "cell_type": "code",
   "execution_count": 1,
   "metadata": {},
   "outputs": [],
   "source": [
    "import numpy as np"
   ]
  },
  {
   "cell_type": "code",
   "execution_count": 2,
   "metadata": {},
   "outputs": [],
   "source": [
    "coins = np.random.binomial(10, .5, 10000)"
   ]
  },
  {
   "cell_type": "code",
   "execution_count": 3,
   "metadata": {},
   "outputs": [
    {
     "data": {
      "text/plain": [
       "5.0234"
      ]
     },
     "execution_count": 3,
     "metadata": {},
     "output_type": "execute_result"
    }
   ],
   "source": [
    "np.mean(coins)"
   ]
  },
  {
   "cell_type": "code",
   "execution_count": 4,
   "metadata": {},
   "outputs": [
    {
     "data": {
      "text/plain": [
       "array([5, 5, 5, ..., 3, 4, 5])"
      ]
     },
     "execution_count": 4,
     "metadata": {},
     "output_type": "execute_result"
    }
   ],
   "source": [
    "coins"
   ]
  },
  {
   "cell_type": "code",
   "execution_count": 5,
   "metadata": {},
   "outputs": [],
   "source": [
    "import matplotlib.pyplot as plt\n",
    "%matplotlib inline"
   ]
  },
  {
   "cell_type": "code",
   "execution_count": 6,
   "metadata": {},
   "outputs": [
    {
     "data": {
      "image/png": "[encoded data removed]",
      "text/plain": [
       "<matplotlib.figure.Figure at 0x2437e9c57b8>"
      ]
     },
     "metadata": {},
     "output_type": "display_data"
    }
   ],
   "source": [
    "plt.hist(coins, normed=True);"
   ]
  },
  {
   "cell_type": "code",
   "execution_count": 7,
   "metadata": {},
   "outputs": [
    {
     "name": "stdout",
     "output_type": "stream",
     "text": [
      "0.121\n"
     ]
    }
   ],
   "source": [
    "proba = np.sum(coins == 7) / 10000\n",
    "print(proba)"
   ]
  },
  {
   "cell_type": "code",
   "execution_count": 8,
   "metadata": {},
   "outputs": [
    {
     "data": {
      "text/plain": [
       "array([False, False, False, ..., False, False, False])"
      ]
     },
     "execution_count": 8,
     "metadata": {},
     "output_type": "execute_result"
    }
   ],
   "source": [
    "coins == 7"
   ]
  },
  {
   "cell_type": "code",
   "execution_count": 32,
   "metadata": {},
   "outputs": [],
   "source": [
    "from scipy.stats import binom"
   ]
  },
  {
   "cell_type": "code",
   "execution_count": 33,
   "metadata": {},
   "outputs": [],
   "source": [
    "n = 10\n",
    "p = .5\n",
    "mean, var = binom.stats(n, p)"
   ]
  },
  {
   "cell_type": "code",
   "execution_count": 37,
   "metadata": {},
   "outputs": [
    {
     "data": {
      "image/png": "[encoded data removed]",
      "text/plain": [
       "<matplotlib.figure.Figure at 0x24302371550>"
      ]
     },
     "metadata": {},
     "output_type": "display_data"
    }
   ],
   "source": [
    "x = np.arange(binom.ppf(.001, n, p),\n",
    "             binom.ppf(.999, n, p))\n",
    "plt.plot(x, binom.pmf(x, n, p), 'bo', ms=8)\n",
    "plt.vlines(x, 0, binom.pmf(x, n, p), colors='b', lw=5, alpha=.5);"
   ]
  },
  {
   "cell_type": "code",
   "execution_count": 21,
   "metadata": {},
   "outputs": [
    {
     "data": {
      "text/plain": [
       "array([1, 0, 0, ..., 1, 0, 2])"
      ]
     },
     "execution_count": 21,
     "metadata": {},
     "output_type": "execute_result"
    }
   ],
   "source": [
    "patients = np.random.binomial(30, .05, 10000)\n",
    "patients"
   ]
  },
  {
   "cell_type": "code",
   "execution_count": 22,
   "metadata": {},
   "outputs": [
    {
     "name": "stdout",
     "output_type": "stream",
     "text": [
      "0\n"
     ]
    }
   ],
   "source": [
    "proba_patients = np.sum(patients == 10)\n",
    "print(proba_patients)"
   ]
  },
  {
   "cell_type": "code",
   "execution_count": 25,
   "metadata": {},
   "outputs": [
    {
     "data": {
      "image/png": "[encoded data removed]",
      "text/plain": [
       "<matplotlib.figure.Figure at 0x2437f90b160>"
      ]
     },
     "metadata": {},
     "output_type": "display_data"
    }
   ],
   "source": [
    "plt.hist(patients, bins=20);"
   ]
  },
  {
   "cell_type": "code",
   "execution_count": 40,
   "metadata": {},
   "outputs": [],
   "source": [
    "democrates = np.random.binomial(600, .4, 10000)"
   ]
  },
  {
   "cell_type": "code",
   "execution_count": 41,
   "metadata": {},
   "outputs": [
    {
     "data": {
      "text/plain": [
       "array([232, 238, 215, ..., 229, 226, 231])"
      ]
     },
     "execution_count": 41,
     "metadata": {},
     "output_type": "execute_result"
    }
   ],
   "source": [
    "democrates"
   ]
  },
  {
   "cell_type": "code",
   "execution_count": 42,
   "metadata": {},
   "outputs": [
    {
     "name": "stdout",
     "output_type": "stream",
     "text": [
      "0.0013\n"
     ]
    }
   ],
   "source": [
    "proba_democrates = np.sum(democrates == .45*600) / 10000\n",
    "print(proba_democrates)"
   ]
  },
  {
   "cell_type": "code",
   "execution_count": 43,
   "metadata": {},
   "outputs": [
    {
     "data": {
      "text/plain": [
       "array([232, 238, 215, ..., 229, 226, 231])"
      ]
     },
     "execution_count": 43,
     "metadata": {},
     "output_type": "execute_result"
    }
   ],
   "source": [
    "democrates"
   ]
  },
  {
   "cell_type": "code",
   "execution_count": 51,
   "metadata": {},
   "outputs": [
    {
     "data": {
      "image/png": "[encoded data removed]",
      "text/plain": [
       "<matplotlib.figure.Figure at 0x243035fd5c0>"
      ]
     },
     "metadata": {},
     "output_type": "display_data"
    }
   ],
   "source": [
    "plt.hist(democrates, normed=True, bins=100);"
   ]
  },
  {
   "cell_type": "code",
   "execution_count": 52,
   "metadata": {},
   "outputs": [
    {
     "data": {
      "image/png": "[encoded data removed]",
      "text/plain": [
       "<matplotlib.figure.Figure at 0x24303760978>"
      ]
     },
     "metadata": {},
     "output_type": "display_data"
    }
   ],
   "source": [
    "n = 600\n",
    "p = 0.4\n",
    "\n",
    "x = np.arange(binom.ppf(.001, n, p),\n",
    "             binom.ppf(.999, n, p))\n",
    "plt.plot(x, binom.pmf(x, n, p), 'bo', ms=8);\n",
    "#plt.vlines(x, 0, binom.pmf(x, n, p), colors='b', lw=5, alpha=.5);"
   ]
  },
  {
   "cell_type": "markdown",
   "metadata": {},
   "source": [
    "# example of CI with basketball"
   ]
  },
  {
   "cell_type": "code",
   "execution_count": 54,
   "metadata": {},
   "outputs": [],
   "source": [
    "basket = np.random.binomial(20, .85, 10000)"
   ]
  },
  {
   "cell_type": "code",
   "execution_count": 55,
   "metadata": {},
   "outputs": [
    {
     "data": {
      "text/plain": [
       "array([19, 19, 18, ..., 16, 16, 19])"
      ]
     },
     "execution_count": 55,
     "metadata": {},
     "output_type": "execute_result"
    }
   ],
   "source": [
    "basket"
   ]
  },
  {
   "cell_type": "code",
   "execution_count": 60,
   "metadata": {},
   "outputs": [
    {
     "data": {
      "text/plain": [
       "array([14., 20.])"
      ]
     },
     "execution_count": 60,
     "metadata": {},
     "output_type": "execute_result"
    }
   ],
   "source": [
    "np.percentile(basket, [2.5, 97.5])"
   ]
  },
  {
   "cell_type": "code",
   "execution_count": 59,
   "metadata": {},
   "outputs": [
    {
     "data": {
      "image/png": "[encoded data removed]",
      "text/plain": [
       "<matplotlib.figure.Figure at 0x24303829f60>"
      ]
     },
     "metadata": {},
     "output_type": "display_data"
    }
   ],
   "source": [
    "plt.hist(basket, bins=10);"
   ]
  },
  {
   "cell_type": "code",
   "execution_count": 63,
   "metadata": {
    "scrolled": true
   },
   "outputs": [
    {
     "data": {
      "text/plain": [
       "(13.820016877152959, 20.14458312284704)"
      ]
     },
     "execution_count": 63,
     "metadata": {},
     "output_type": "execute_result"
    }
   ],
   "source": [
    "from scipy import stats\n",
    "conf_int = stats.norm.interval(.95, np.mean(basket), np.std(basket)) # method = normal !!!\n",
    "conf_int"
   ]
  },
  {
   "cell_type": "code",
   "execution_count": 65,
   "metadata": {},
   "outputs": [
    {
     "data": {
      "text/plain": [
       "(0.6277974742913475, 0.9578305921142214)"
      ]
     },
     "execution_count": 65,
     "metadata": {},
     "output_type": "execute_result"
    }
   ],
   "source": [
    "from statsmodels.stats import proportion\n",
    "conf_int = proportion.proportion_confint(17, 20, method='binom_test')   #count=number of successe,\n",
    "                                                                        #nobs =total number of trials\n",
    "conf_int"
   ]
  },
  {
   "cell_type": "code",
   "execution_count": 1,
   "metadata": {},
   "outputs": [
    {
     "data": {
      "text/plain": [
       "12.54"
      ]
     },
     "execution_count": 1,
     "metadata": {},
     "output_type": "execute_result"
    }
   ],
   "source": [
    ".627*20"
   ]
  },
  {
   "cell_type": "code",
   "execution_count": 43,
   "metadata": {},
   "outputs": [],
   "source": [
    "voters = np.random.binomial(100, .33, 10000)"
   ]
  },
  {
   "cell_type": "code",
   "execution_count": 44,
   "metadata": {},
   "outputs": [
    {
     "data": {
      "text/plain": [
       "33.0064"
      ]
     },
     "execution_count": 44,
     "metadata": {},
     "output_type": "execute_result"
    }
   ],
   "source": [
    "np.mean(voters)"
   ]
  },
  {
   "cell_type": "code",
   "execution_count": 48,
   "metadata": {},
   "outputs": [
    {
     "data": {
      "image/png": "[encoded data removed]",
      "text/plain": [
       "<matplotlib.figure.Figure at 0x1c0da558630>"
      ]
     },
     "metadata": {},
     "output_type": "display_data"
    }
   ],
   "source": [
    "plt.hist(voters);"
   ]
  },
  {
   "cell_type": "code",
   "execution_count": 49,
   "metadata": {},
   "outputs": [
    {
     "data": {
      "text/plain": [
       "array([24., 42.])"
      ]
     },
     "execution_count": 49,
     "metadata": {},
     "output_type": "execute_result"
    }
   ],
   "source": [
    "np.percentile(voters, [2.5, 97.5])"
   ]
  },
  {
   "cell_type": "code",
   "execution_count": 66,
   "metadata": {},
   "outputs": [
    {
     "data": {
      "text/plain": [
       "(0.24422179825109844, 0.4297484580574604)"
      ]
     },
     "execution_count": 66,
     "metadata": {},
     "output_type": "execute_result"
    }
   ],
   "source": [
    "conf_int_vot = proportion.proportion_confint(33, 100, method='binom_test')\n",
    "conf_int_vot"
   ]
  },
  {
   "cell_type": "code",
   "execution_count": 102,
   "metadata": {},
   "outputs": [],
   "source": [
    "bowl = np.random.binomial(15, .25, 10000)"
   ]
  },
  {
   "cell_type": "code",
   "execution_count": 77,
   "metadata": {},
   "outputs": [],
   "source": [
    "frac_red_bowl = bowl/15"
   ]
  },
  {
   "cell_type": "code",
   "execution_count": 78,
   "metadata": {
    "scrolled": true
   },
   "outputs": [
    {
     "data": {
      "image/png": "[encoded data removed]",
      "text/plain": [
       "<matplotlib.figure.Figure at 0x24304614c88>"
      ]
     },
     "metadata": {},
     "output_type": "display_data"
    }
   ],
   "source": [
    "plt.hist(frac_red_bowl, normed=True);"
   ]
  },
  {
   "cell_type": "code",
   "execution_count": 79,
   "metadata": {},
   "outputs": [
    {
     "data": {
      "text/plain": [
       "array([0.06666667, 0.46666667])"
      ]
     },
     "execution_count": 79,
     "metadata": {},
     "output_type": "execute_result"
    }
   ],
   "source": [
    "np.percentile(frac_red_bowl, [2.5, 97.5])"
   ]
  },
  {
   "cell_type": "code",
   "execution_count": 92,
   "metadata": {},
   "outputs": [
    {
     "data": {
      "text/plain": [
       "(0.0568468675901866, 0.465722221350045)"
      ]
     },
     "execution_count": 92,
     "metadata": {},
     "output_type": "execute_result"
    }
   ],
   "source": [
    "count = .25*15\n",
    "conf_int_bowl = proportion.proportion_confint(count, 15, method='binom_test')\n",
    "conf_int_bowl"
   ]
  },
  {
   "cell_type": "code",
   "execution_count": 125,
   "metadata": {},
   "outputs": [
    {
     "data": {
      "text/plain": [
       "array([2, 3, 1, 5, 0, 2, 3, 3, 7, 6, 4, 3, 5, 2, 3, 3, 3, 7, 6, 6, 6, 4,\n",
       "       2, 4, 2, 2, 2, 6, 4, 4, 4, 7, 0, 4, 4, 2, 5, 4, 1, 3, 2, 3, 3, 6,\n",
       "       4, 5, 6, 2, 4, 5, 6, 4, 2, 1, 3, 3, 4, 3, 8, 6, 6, 4, 4, 5, 2, 3,\n",
       "       1, 8, 3, 4, 4, 5, 2, 5, 5, 6, 5, 7, 1, 4, 4, 5, 5, 1, 4, 7, 3, 3,\n",
       "       7, 5, 4, 2, 8, 7, 5, 4, 2, 2, 1, 5])"
      ]
     },
     "execution_count": 125,
     "metadata": {},
     "output_type": "execute_result"
    }
   ],
   "source": [
    "A = np.random.binomial(15, .25, 100)\n",
    "A"
   ]
  },
  {
   "cell_type": "code",
   "execution_count": 126,
   "metadata": {},
   "outputs": [],
   "source": [
    "ci_A = [proportion.proportion_confint(i, 15, method='binom_test') for i in A]"
   ]
  },
  {
   "cell_type": "code",
   "execution_count": 127,
   "metadata": {},
   "outputs": [
    {
     "data": {
      "text/plain": [
       "[(0.024225732468536626, 0.3967139842509865),\n",
       " (0.056846867590246805, 0.4657222213498857),\n",
       " (0.003413712946570998, 0.3020686313190762),\n",
       " (0.1416639716421532, 0.6032860217311591),\n",
       " (0, 0.2222181175436198),\n",
       " (0.024225732468536626, 0.3967139842509865),\n",
       " (0.056846867590246805, 0.4657222213498857),\n",
       " (0.056846867590246805, 0.4657222213498857),\n",
       " (0.22221811260678587, 0.7060878588515205),\n",
       " (0.1908646861741716, 0.6676817724163027),\n",
       " (0.0966583339917372, 0.5342777848720284),\n",
       " (0.056846867590246805, 0.4657222213498857),\n",
       " (0.1416639716421532, 0.6032860217311591),\n",
       " (0.024225732468536626, 0.3967139842509865),\n",
       " (0.056846867590246805, 0.4657222213498857),\n",
       " (0.056846867590246805, 0.4657222213498857),\n",
       " (0.056846867590246805, 0.4657222213498857),\n",
       " (0.22221811260678587, 0.7060878588515205),\n",
       " (0.1908646861741716, 0.6676817724163027),\n",
       " (0.1908646861741716, 0.6676817724163027),\n",
       " (0.1908646861741716, 0.6676817724163027),\n",
       " (0.0966583339917372, 0.5342777848720284),\n",
       " (0.024225732468536626, 0.3967139842509865),\n",
       " (0.0966583339917372, 0.5342777848720284),\n",
       " (0.024225732468536626, 0.3967139842509865),\n",
       " (0.024225732468536626, 0.3967139842509865),\n",
       " (0.024225732468536626, 0.3967139842509865),\n",
       " (0.1908646861741716, 0.6676817724163027),\n",
       " (0.0966583339917372, 0.5342777848720284),\n",
       " (0.0966583339917372, 0.5342777848720284),\n",
       " (0.0966583339917372, 0.5342777848720284),\n",
       " (0.22221811260678587, 0.7060878588515205),\n",
       " (0, 0.2222181175436198),\n",
       " (0.0966583339917372, 0.5342777848720284),\n",
       " (0.0966583339917372, 0.5342777848720284),\n",
       " (0.024225732468536626, 0.3967139842509865),\n",
       " (0.1416639716421532, 0.6032860217311591),\n",
       " (0.0966583339917372, 0.5342777848720284),\n",
       " (0.003413712946570998, 0.3020686313190762),\n",
       " (0.056846867590246805, 0.4657222213498857),\n",
       " (0.024225732468536626, 0.3967139842509865),\n",
       " (0.056846867590246805, 0.4657222213498857),\n",
       " (0.056846867590246805, 0.4657222213498857),\n",
       " (0.1908646861741716, 0.6676817724163027),\n",
       " (0.0966583339917372, 0.5342777848720284),\n",
       " (0.1416639716421532, 0.6032860217311591),\n",
       " (0.1908646861741716, 0.6676817724163027),\n",
       " (0.024225732468536626, 0.3967139842509865),\n",
       " (0.0966583339917372, 0.5342777848720284),\n",
       " (0.1416639716421532, 0.6032860217311591),\n",
       " (0.1908646861741716, 0.6676817724163027),\n",
       " (0.0966583339917372, 0.5342777848720284),\n",
       " (0.024225732468536626, 0.3967139842509865),\n",
       " (0.003413712946570998, 0.3020686313190762),\n",
       " (0.056846867590246805, 0.4657222213498857),\n",
       " (0.056846867590246805, 0.4657222213498857),\n",
       " (0.0966583339917372, 0.5342777848720284),\n",
       " (0.056846867590246805, 0.4657222213498857),\n",
       " (0.2939121411484795, 0.7777818873932145),\n",
       " (0.1908646861741716, 0.6676817724163027),\n",
       " (0.1908646861741716, 0.6676817724163027),\n",
       " (0.0966583339917372, 0.5342777848720284),\n",
       " (0.0966583339917372, 0.5342777848720284),\n",
       " (0.1416639716421532, 0.6032860217311591),\n",
       " (0.024225732468536626, 0.3967139842509865),\n",
       " (0.056846867590246805, 0.4657222213498857),\n",
       " (0.003413712946570998, 0.3020686313190762),\n",
       " (0.2939121411484795, 0.7777818873932145),\n",
       " (0.056846867590246805, 0.4657222213498857),\n",
       " (0.0966583339917372, 0.5342777848720284),\n",
       " (0.0966583339917372, 0.5342777848720284),\n",
       " (0.1416639716421532, 0.6032860217311591),\n",
       " (0.024225732468536626, 0.3967139842509865),\n",
       " (0.1416639716421532, 0.6032860217311591),\n",
       " (0.1416639716421532, 0.6032860217311591),\n",
       " (0.1908646861741716, 0.6676817724163027),\n",
       " (0.1416639716421532, 0.6032860217311591),\n",
       " (0.22221811260678587, 0.7060878588515205),\n",
       " (0.003413712946570998, 0.3020686313190762),\n",
       " (0.0966583339917372, 0.5342777848720284),\n",
       " (0.0966583339917372, 0.5342777848720284),\n",
       " (0.1416639716421532, 0.6032860217311591),\n",
       " (0.1416639716421532, 0.6032860217311591),\n",
       " (0.003413712946570998, 0.3020686313190762),\n",
       " (0.0966583339917372, 0.5342777848720284),\n",
       " (0.22221811260678587, 0.7060878588515205),\n",
       " (0.056846867590246805, 0.4657222213498857),\n",
       " (0.056846867590246805, 0.4657222213498857),\n",
       " (0.22221811260678587, 0.7060878588515205),\n",
       " (0.1416639716421532, 0.6032860217311591),\n",
       " (0.0966583339917372, 0.5342777848720284),\n",
       " (0.024225732468536626, 0.3967139842509865),\n",
       " (0.2939121411484795, 0.7777818873932145),\n",
       " (0.22221811260678587, 0.7060878588515205),\n",
       " (0.1416639716421532, 0.6032860217311591),\n",
       " (0.0966583339917372, 0.5342777848720284),\n",
       " (0.024225732468536626, 0.3967139842509865),\n",
       " (0.024225732468536626, 0.3967139842509865),\n",
       " (0.003413712946570998, 0.3020686313190762),\n",
       " (0.1416639716421532, 0.6032860217311591)]"
      ]
     },
     "execution_count": 127,
     "metadata": {},
     "output_type": "execute_result"
    }
   ],
   "source": [
    "ci_A"
   ]
  },
  {
   "cell_type": "code",
   "execution_count": 134,
   "metadata": {},
   "outputs": [],
   "source": [
    "plt.figure(figsize=(12,6))\n",
    "plt.plot(A/15, 'b+', ci_A)\n",
    "plt.axhline(.25, )"
   ]
  },
  {
   "cell_type": "markdown",
   "metadata": {},
   "source": [
    "the orange or blue limit of the confidence intervales computed for each and every sample cross the theoritical mean value (0.25) exactely 5 times out of 100 samples"
   ]
  },
  {
   "cell_type": "code",
   "execution_count": null,
   "metadata": {},
   "outputs": [],
   "source": []
  }
 ],
 "metadata": {
  "kernelspec": {
   "display_name": "Python 3",
   "language": "python",
   "name": "python3"
  },
  "language_info": {
   "codemirror_mode": {
    "name": "ipython",
    "version": 3
   },
   "file_extension": ".py",
   "mimetype": "text/x-python",
   "name": "python",
   "nbconvert_exporter": "python",
   "pygments_lexer": "ipython3",
   "version": "3.6.4"
  }
 },
 "nbformat": 4,
 "nbformat_minor": 2
}
