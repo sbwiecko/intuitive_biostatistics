{
 "cells": [
  {
   "source": [
    "# Comparing two means: Unpaired t Test\n",
    "\n",
    "## Data visualization"
   ],
   "cell_type": "markdown",
   "metadata": {}
  },
  {
   "cell_type": "code",
   "execution_count": 67,
   "metadata": {},
   "outputs": [],
   "source": [
    "import numpy as np\n",
    "from scipy import stats\n",
    "import pingouin as pg\n",
    "\n",
    "import matplotlib.pyplot as plt\n",
    "import seaborn as sns"
   ]
  },
  {
   "cell_type": "code",
   "execution_count": 19,
   "metadata": {},
   "outputs": [],
   "source": [
    "# data from Table 30.1 (page 295)\n",
    "old = np.array([20.8, 2.8, 50, 33.3, 29.4, 38.9, 29.4, 52.6, 14.3])\n",
    "young=np.array([45.5, 55, 60.7, 61.5, 61.1, 65.5, 42.9, 37.5])"
   ]
  },
  {
   "cell_type": "code",
   "execution_count": 38,
   "metadata": {},
   "outputs": [
    {
     "output_type": "stream",
     "name": "stdout",
     "text": [
      "old\tD'Agostino-Pearson omnibus K2=0.11\tp-value=0.947\nyoung\tD'Agostino-Pearson omnibus K2=1.75\tp-value=0.418\nold\tShapiro-Wilk's normality test p-value\t0.9\nyoung\tShapiro-Wilk's normality test p-value\t0.238\n"
     ]
    }
   ],
   "source": [
    "k2, pval = stats.normaltest(old)\n",
    "print('old', f\"D'Agostino-Pearson omnibus K2={k2:.2f}\", f\"p-value={pval:.3f}\", sep='\\t')\n",
    "\n",
    "k2, pval = stats.normaltest(young)\n",
    "print('young', f\"D'Agostino-Pearson omnibus K2={k2:.2f}\", f\"p-value={pval:.3f}\", sep='\\t')\n",
    "\n",
    "\n",
    "tstat, pval = stats.shapiro(old)\n",
    "print('old', \"Shapiro-Wilk's normality test p-value\", round(pval, 3), sep='\\t')\n",
    "\n",
    "tstat, pval = stats.shapiro(young)\n",
    "print('young', \"Shapiro-Wilk's normality test p-value\", round(pval, 3), sep='\\t')\n",
    "# if the P value from a normality test is large, the data are not inconsistent with a Gaussian distribution "
   ]
  },
  {
   "cell_type": "code",
   "execution_count": 68,
   "metadata": {},
   "outputs": [
    {
     "output_type": "execute_result",
     "data": {
      "text/plain": [
       "          W      pval  normal\n",
       "0  0.970675  0.900443    True"
      ],
      "text/html": "<div>\n<style scoped>\n    .dataframe tbody tr th:only-of-type {\n        vertical-align: middle;\n    }\n\n    .dataframe tbody tr th {\n        vertical-align: top;\n    }\n\n    .dataframe thead th {\n        text-align: right;\n    }\n</style>\n<table border=\"1\" class=\"dataframe\">\n  <thead>\n    <tr style=\"text-align: right;\">\n      <th></th>\n      <th>W</th>\n      <th>pval</th>\n      <th>normal</th>\n    </tr>\n  </thead>\n  <tbody>\n    <tr>\n      <th>0</th>\n      <td>0.970675</td>\n      <td>0.900443</td>\n      <td>True</td>\n    </tr>\n  </tbody>\n</table>\n</div>"
     },
     "metadata": {},
     "execution_count": 68
    }
   ],
   "source": [
    "pg.normality(old)"
   ]
  },
  {
   "cell_type": "code",
   "execution_count": 69,
   "metadata": {},
   "outputs": [
    {
     "output_type": "execute_result",
     "data": {
      "text/plain": [
       "          W     pval  normal\n",
       "0  0.890741  0.23777    True"
      ],
      "text/html": "<div>\n<style scoped>\n    .dataframe tbody tr th:only-of-type {\n        vertical-align: middle;\n    }\n\n    .dataframe tbody tr th {\n        vertical-align: top;\n    }\n\n    .dataframe thead th {\n        text-align: right;\n    }\n</style>\n<table border=\"1\" class=\"dataframe\">\n  <thead>\n    <tr style=\"text-align: right;\">\n      <th></th>\n      <th>W</th>\n      <th>pval</th>\n      <th>normal</th>\n    </tr>\n  </thead>\n  <tbody>\n    <tr>\n      <th>0</th>\n      <td>0.890741</td>\n      <td>0.23777</td>\n      <td>True</td>\n    </tr>\n  </tbody>\n</table>\n</div>"
     },
     "metadata": {},
     "execution_count": 69
    }
   ],
   "source": [
    "pg.normality(young)"
   ]
  },
  {
   "cell_type": "code",
   "execution_count": 33,
   "metadata": {},
   "outputs": [
    {
     "output_type": "display_data",
     "data": {
      "text/plain": "<Figure size 432x288 with 1 Axes>",
      "image/svg+xml": "<?xml version=\"1.0\" encoding=\"utf-8\" standalone=\"no\"?>\r\n<!DOCTYPE svg PUBLIC \"-//W3C//DTD SVG 1.1//EN\"\r\n  \"http://www.w3.org/Graphics/SVG/1.1/DTD/svg11.dtd\">\r\n<svg height=\"248.518125pt\" version=\"1.1\" viewBox=\"0 0 382.603125 248.518125\" width=\"382.603125pt\" xmlns=\"http://www.w3.org/2000/svg\" xmlns:xlink=\"http://www.w3.org/1999/xlink\">\r\n <metadata>\r\n  <rdf:RDF xmlns:cc=\"http://creativecommons.org/ns#\" xmlns:dc=\"http://purl.org/dc/elements/1.1/\" xmlns:rdf=\"http://www.w3.org/1999/02/22-rdf-syntax-ns#\">\r\n   <cc:Work>\r\n    <dc:type rdf:resource=\"http://purl.org/dc/dcmitype/StillImage\"/>\r\n    <dc:date>2021-07-07T14:25:07.657855</dc:date>\r\n    <dc:format>image/svg+xml</dc:format>\r\n    <dc:creator>\r\n     <cc:Agent>\r\n      <dc:title>Matplotlib v3.4.2, https://matplotlib.org/</dc:title>\r\n     </cc:Agent>\r\n    </dc:creator>\r\n   </cc:Work>\r\n  </rdf:RDF>\r\n </metadata>\r\n <defs>\r\n  <style type=\"text/css\">*{stroke-linecap:butt;stroke-linejoin:round;}</style>\r\n </defs>\r\n <g id=\"figure_1\">\r\n  <g id=\"patch_1\">\r\n   <path d=\"M 0 248.518125 \r\nL 382.603125 248.518125 \r\nL 382.603125 0 \r\nL 0 0 \r\nz\r\n\" style=\"fill:none;\"/>\r\n  </g>\r\n  <g id=\"axes_1\">\r\n   <g id=\"patch_2\">\r\n    <path d=\"M 40.603125 224.64 \r\nL 375.403125 224.64 \r\nL 375.403125 7.2 \r\nL 40.603125 7.2 \r\nz\r\n\" style=\"fill:#ffffff;\"/>\r\n   </g>\r\n   <g id=\"patch_3\">\r\n    <path clip-path=\"url(#p595082634b)\" d=\"M 57.343125 158.008212 \r\nL 191.263125 158.008212 \r\nL 191.263125 100.944793 \r\nL 57.343125 100.944793 \r\nL 57.343125 158.008212 \r\nz\r\n\" style=\"fill:#3274a1;stroke:#3f3f3f;stroke-linejoin:miter;stroke-width:1.5;\"/>\r\n   </g>\r\n   <g id=\"patch_4\">\r\n    <path clip-path=\"url(#p595082634b)\" d=\"M 224.743125 82.186377 \r\nL 358.663125 82.186377 \r\nL 358.663125 30.640139 \r\nL 224.743125 30.640139 \r\nL 224.743125 82.186377 \r\nz\r\n\" style=\"fill:#e1812c;stroke:#3f3f3f;stroke-linejoin:miter;stroke-width:1.5;\"/>\r\n   </g>\r\n   <g id=\"matplotlib.axis_1\">\r\n    <g id=\"xtick_1\">\r\n     <g id=\"line2d_1\">\r\n      <defs>\r\n       <path d=\"M 0 0 \r\nL 0 3.5 \r\n\" id=\"ma23f6440e9\" style=\"stroke:#000000;stroke-width:0.8;\"/>\r\n      </defs>\r\n      <g>\r\n       <use style=\"stroke:#000000;stroke-width:0.8;\" x=\"124.303125\" xlink:href=\"#ma23f6440e9\" y=\"224.64\"/>\r\n      </g>\r\n     </g>\r\n     <g id=\"text_1\">\r\n      <!-- old -->\r\n      <g transform=\"translate(116.680469 239.238437)scale(0.1 -0.1)\">\r\n       <defs>\r\n        <path d=\"M 1959 3097 \r\nQ 1497 3097 1228 2736 \r\nQ 959 2375 959 1747 \r\nQ 959 1119 1226 758 \r\nQ 1494 397 1959 397 \r\nQ 2419 397 2687 759 \r\nQ 2956 1122 2956 1747 \r\nQ 2956 2369 2687 2733 \r\nQ 2419 3097 1959 3097 \r\nz\r\nM 1959 3584 \r\nQ 2709 3584 3137 3096 \r\nQ 3566 2609 3566 1747 \r\nQ 3566 888 3137 398 \r\nQ 2709 -91 1959 -91 \r\nQ 1206 -91 779 398 \r\nQ 353 888 353 1747 \r\nQ 353 2609 779 3096 \r\nQ 1206 3584 1959 3584 \r\nz\r\n\" id=\"DejaVuSans-6f\" transform=\"scale(0.015625)\"/>\r\n        <path d=\"M 603 4863 \r\nL 1178 4863 \r\nL 1178 0 \r\nL 603 0 \r\nL 603 4863 \r\nz\r\n\" id=\"DejaVuSans-6c\" transform=\"scale(0.015625)\"/>\r\n        <path d=\"M 2906 2969 \r\nL 2906 4863 \r\nL 3481 4863 \r\nL 3481 0 \r\nL 2906 0 \r\nL 2906 525 \r\nQ 2725 213 2448 61 \r\nQ 2172 -91 1784 -91 \r\nQ 1150 -91 751 415 \r\nQ 353 922 353 1747 \r\nQ 353 2572 751 3078 \r\nQ 1150 3584 1784 3584 \r\nQ 2172 3584 2448 3432 \r\nQ 2725 3281 2906 2969 \r\nz\r\nM 947 1747 \r\nQ 947 1113 1208 752 \r\nQ 1469 391 1925 391 \r\nQ 2381 391 2643 752 \r\nQ 2906 1113 2906 1747 \r\nQ 2906 2381 2643 2742 \r\nQ 2381 3103 1925 3103 \r\nQ 1469 3103 1208 2742 \r\nQ 947 2381 947 1747 \r\nz\r\n\" id=\"DejaVuSans-64\" transform=\"scale(0.015625)\"/>\r\n       </defs>\r\n       <use xlink:href=\"#DejaVuSans-6f\"/>\r\n       <use x=\"61.181641\" xlink:href=\"#DejaVuSans-6c\"/>\r\n       <use x=\"88.964844\" xlink:href=\"#DejaVuSans-64\"/>\r\n      </g>\r\n     </g>\r\n    </g>\r\n    <g id=\"xtick_2\">\r\n     <g id=\"line2d_2\">\r\n      <g>\r\n       <use style=\"stroke:#000000;stroke-width:0.8;\" x=\"291.703125\" xlink:href=\"#ma23f6440e9\" y=\"224.64\"/>\r\n      </g>\r\n     </g>\r\n     <g id=\"text_2\">\r\n      <!-- young -->\r\n      <g transform=\"translate(276.172656 239.238437)scale(0.1 -0.1)\">\r\n       <defs>\r\n        <path d=\"M 2059 -325 \r\nQ 1816 -950 1584 -1140 \r\nQ 1353 -1331 966 -1331 \r\nL 506 -1331 \r\nL 506 -850 \r\nL 844 -850 \r\nQ 1081 -850 1212 -737 \r\nQ 1344 -625 1503 -206 \r\nL 1606 56 \r\nL 191 3500 \r\nL 800 3500 \r\nL 1894 763 \r\nL 2988 3500 \r\nL 3597 3500 \r\nL 2059 -325 \r\nz\r\n\" id=\"DejaVuSans-79\" transform=\"scale(0.015625)\"/>\r\n        <path d=\"M 544 1381 \r\nL 544 3500 \r\nL 1119 3500 \r\nL 1119 1403 \r\nQ 1119 906 1312 657 \r\nQ 1506 409 1894 409 \r\nQ 2359 409 2629 706 \r\nQ 2900 1003 2900 1516 \r\nL 2900 3500 \r\nL 3475 3500 \r\nL 3475 0 \r\nL 2900 0 \r\nL 2900 538 \r\nQ 2691 219 2414 64 \r\nQ 2138 -91 1772 -91 \r\nQ 1169 -91 856 284 \r\nQ 544 659 544 1381 \r\nz\r\nM 1991 3584 \r\nL 1991 3584 \r\nz\r\n\" id=\"DejaVuSans-75\" transform=\"scale(0.015625)\"/>\r\n        <path d=\"M 3513 2113 \r\nL 3513 0 \r\nL 2938 0 \r\nL 2938 2094 \r\nQ 2938 2591 2744 2837 \r\nQ 2550 3084 2163 3084 \r\nQ 1697 3084 1428 2787 \r\nQ 1159 2491 1159 1978 \r\nL 1159 0 \r\nL 581 0 \r\nL 581 3500 \r\nL 1159 3500 \r\nL 1159 2956 \r\nQ 1366 3272 1645 3428 \r\nQ 1925 3584 2291 3584 \r\nQ 2894 3584 3203 3211 \r\nQ 3513 2838 3513 2113 \r\nz\r\n\" id=\"DejaVuSans-6e\" transform=\"scale(0.015625)\"/>\r\n        <path d=\"M 2906 1791 \r\nQ 2906 2416 2648 2759 \r\nQ 2391 3103 1925 3103 \r\nQ 1463 3103 1205 2759 \r\nQ 947 2416 947 1791 \r\nQ 947 1169 1205 825 \r\nQ 1463 481 1925 481 \r\nQ 2391 481 2648 825 \r\nQ 2906 1169 2906 1791 \r\nz\r\nM 3481 434 \r\nQ 3481 -459 3084 -895 \r\nQ 2688 -1331 1869 -1331 \r\nQ 1566 -1331 1297 -1286 \r\nQ 1028 -1241 775 -1147 \r\nL 775 -588 \r\nQ 1028 -725 1275 -790 \r\nQ 1522 -856 1778 -856 \r\nQ 2344 -856 2625 -561 \r\nQ 2906 -266 2906 331 \r\nL 2906 616 \r\nQ 2728 306 2450 153 \r\nQ 2172 0 1784 0 \r\nQ 1141 0 747 490 \r\nQ 353 981 353 1791 \r\nQ 353 2603 747 3093 \r\nQ 1141 3584 1784 3584 \r\nQ 2172 3584 2450 3431 \r\nQ 2728 3278 2906 2969 \r\nL 2906 3500 \r\nL 3481 3500 \r\nL 3481 434 \r\nz\r\n\" id=\"DejaVuSans-67\" transform=\"scale(0.015625)\"/>\r\n       </defs>\r\n       <use xlink:href=\"#DejaVuSans-79\"/>\r\n       <use x=\"59.179688\" xlink:href=\"#DejaVuSans-6f\"/>\r\n       <use x=\"120.361328\" xlink:href=\"#DejaVuSans-75\"/>\r\n       <use x=\"183.740234\" xlink:href=\"#DejaVuSans-6e\"/>\r\n       <use x=\"247.119141\" xlink:href=\"#DejaVuSans-67\"/>\r\n      </g>\r\n     </g>\r\n    </g>\r\n   </g>\r\n   <g id=\"matplotlib.axis_2\">\r\n    <g id=\"ytick_1\">\r\n     <g id=\"line2d_3\">\r\n      <defs>\r\n       <path d=\"M 0 0 \r\nL -3.5 0 \r\n\" id=\"m7869f2deb2\" style=\"stroke:#000000;stroke-width:0.8;\"/>\r\n      </defs>\r\n      <g>\r\n       <use style=\"stroke:#000000;stroke-width:0.8;\" x=\"40.603125\" xlink:href=\"#m7869f2deb2\" y=\"223.583854\"/>\r\n      </g>\r\n     </g>\r\n     <g id=\"text_3\">\r\n      <!-- 0 -->\r\n      <g transform=\"translate(27.240625 227.383073)scale(0.1 -0.1)\">\r\n       <defs>\r\n        <path d=\"M 2034 4250 \r\nQ 1547 4250 1301 3770 \r\nQ 1056 3291 1056 2328 \r\nQ 1056 1369 1301 889 \r\nQ 1547 409 2034 409 \r\nQ 2525 409 2770 889 \r\nQ 3016 1369 3016 2328 \r\nQ 3016 3291 2770 3770 \r\nQ 2525 4250 2034 4250 \r\nz\r\nM 2034 4750 \r\nQ 2819 4750 3233 4129 \r\nQ 3647 3509 3647 2328 \r\nQ 3647 1150 3233 529 \r\nQ 2819 -91 2034 -91 \r\nQ 1250 -91 836 529 \r\nQ 422 1150 422 2328 \r\nQ 422 3509 836 4129 \r\nQ 1250 4750 2034 4750 \r\nz\r\n\" id=\"DejaVuSans-30\" transform=\"scale(0.015625)\"/>\r\n       </defs>\r\n       <use xlink:href=\"#DejaVuSans-30\"/>\r\n      </g>\r\n     </g>\r\n    </g>\r\n    <g id=\"ytick_2\">\r\n     <g id=\"line2d_4\">\r\n      <g>\r\n       <use style=\"stroke:#000000;stroke-width:0.8;\" x=\"40.603125\" xlink:href=\"#m7869f2deb2\" y=\"192.057103\"/>\r\n      </g>\r\n     </g>\r\n     <g id=\"text_4\">\r\n      <!-- 10 -->\r\n      <g transform=\"translate(20.878125 195.856322)scale(0.1 -0.1)\">\r\n       <defs>\r\n        <path d=\"M 794 531 \r\nL 1825 531 \r\nL 1825 4091 \r\nL 703 3866 \r\nL 703 4441 \r\nL 1819 4666 \r\nL 2450 4666 \r\nL 2450 531 \r\nL 3481 531 \r\nL 3481 0 \r\nL 794 0 \r\nL 794 531 \r\nz\r\n\" id=\"DejaVuSans-31\" transform=\"scale(0.015625)\"/>\r\n       </defs>\r\n       <use xlink:href=\"#DejaVuSans-31\"/>\r\n       <use x=\"63.623047\" xlink:href=\"#DejaVuSans-30\"/>\r\n      </g>\r\n     </g>\r\n    </g>\r\n    <g id=\"ytick_3\">\r\n     <g id=\"line2d_5\">\r\n      <g>\r\n       <use style=\"stroke:#000000;stroke-width:0.8;\" x=\"40.603125\" xlink:href=\"#m7869f2deb2\" y=\"160.530352\"/>\r\n      </g>\r\n     </g>\r\n     <g id=\"text_5\">\r\n      <!-- 20 -->\r\n      <g transform=\"translate(20.878125 164.329571)scale(0.1 -0.1)\">\r\n       <defs>\r\n        <path d=\"M 1228 531 \r\nL 3431 531 \r\nL 3431 0 \r\nL 469 0 \r\nL 469 531 \r\nQ 828 903 1448 1529 \r\nQ 2069 2156 2228 2338 \r\nQ 2531 2678 2651 2914 \r\nQ 2772 3150 2772 3378 \r\nQ 2772 3750 2511 3984 \r\nQ 2250 4219 1831 4219 \r\nQ 1534 4219 1204 4116 \r\nQ 875 4013 500 3803 \r\nL 500 4441 \r\nQ 881 4594 1212 4672 \r\nQ 1544 4750 1819 4750 \r\nQ 2544 4750 2975 4387 \r\nQ 3406 4025 3406 3419 \r\nQ 3406 3131 3298 2873 \r\nQ 3191 2616 2906 2266 \r\nQ 2828 2175 2409 1742 \r\nQ 1991 1309 1228 531 \r\nz\r\n\" id=\"DejaVuSans-32\" transform=\"scale(0.015625)\"/>\r\n       </defs>\r\n       <use xlink:href=\"#DejaVuSans-32\"/>\r\n       <use x=\"63.623047\" xlink:href=\"#DejaVuSans-30\"/>\r\n      </g>\r\n     </g>\r\n    </g>\r\n    <g id=\"ytick_4\">\r\n     <g id=\"line2d_6\">\r\n      <g>\r\n       <use style=\"stroke:#000000;stroke-width:0.8;\" x=\"40.603125\" xlink:href=\"#m7869f2deb2\" y=\"129.003602\"/>\r\n      </g>\r\n     </g>\r\n     <g id=\"text_6\">\r\n      <!-- 30 -->\r\n      <g transform=\"translate(20.878125 132.80282)scale(0.1 -0.1)\">\r\n       <defs>\r\n        <path d=\"M 2597 2516 \r\nQ 3050 2419 3304 2112 \r\nQ 3559 1806 3559 1356 \r\nQ 3559 666 3084 287 \r\nQ 2609 -91 1734 -91 \r\nQ 1441 -91 1130 -33 \r\nQ 819 25 488 141 \r\nL 488 750 \r\nQ 750 597 1062 519 \r\nQ 1375 441 1716 441 \r\nQ 2309 441 2620 675 \r\nQ 2931 909 2931 1356 \r\nQ 2931 1769 2642 2001 \r\nQ 2353 2234 1838 2234 \r\nL 1294 2234 \r\nL 1294 2753 \r\nL 1863 2753 \r\nQ 2328 2753 2575 2939 \r\nQ 2822 3125 2822 3475 \r\nQ 2822 3834 2567 4026 \r\nQ 2313 4219 1838 4219 \r\nQ 1578 4219 1281 4162 \r\nQ 984 4106 628 3988 \r\nL 628 4550 \r\nQ 988 4650 1302 4700 \r\nQ 1616 4750 1894 4750 \r\nQ 2613 4750 3031 4423 \r\nQ 3450 4097 3450 3541 \r\nQ 3450 3153 3228 2886 \r\nQ 3006 2619 2597 2516 \r\nz\r\n\" id=\"DejaVuSans-33\" transform=\"scale(0.015625)\"/>\r\n       </defs>\r\n       <use xlink:href=\"#DejaVuSans-33\"/>\r\n       <use x=\"63.623047\" xlink:href=\"#DejaVuSans-30\"/>\r\n      </g>\r\n     </g>\r\n    </g>\r\n    <g id=\"ytick_5\">\r\n     <g id=\"line2d_7\">\r\n      <g>\r\n       <use style=\"stroke:#000000;stroke-width:0.8;\" x=\"40.603125\" xlink:href=\"#m7869f2deb2\" y=\"97.476851\"/>\r\n      </g>\r\n     </g>\r\n     <g id=\"text_7\">\r\n      <!-- 40 -->\r\n      <g transform=\"translate(20.878125 101.27607)scale(0.1 -0.1)\">\r\n       <defs>\r\n        <path d=\"M 2419 4116 \r\nL 825 1625 \r\nL 2419 1625 \r\nL 2419 4116 \r\nz\r\nM 2253 4666 \r\nL 3047 4666 \r\nL 3047 1625 \r\nL 3713 1625 \r\nL 3713 1100 \r\nL 3047 1100 \r\nL 3047 0 \r\nL 2419 0 \r\nL 2419 1100 \r\nL 313 1100 \r\nL 313 1709 \r\nL 2253 4666 \r\nz\r\n\" id=\"DejaVuSans-34\" transform=\"scale(0.015625)\"/>\r\n       </defs>\r\n       <use xlink:href=\"#DejaVuSans-34\"/>\r\n       <use x=\"63.623047\" xlink:href=\"#DejaVuSans-30\"/>\r\n      </g>\r\n     </g>\r\n    </g>\r\n    <g id=\"ytick_6\">\r\n     <g id=\"line2d_8\">\r\n      <g>\r\n       <use style=\"stroke:#000000;stroke-width:0.8;\" x=\"40.603125\" xlink:href=\"#m7869f2deb2\" y=\"65.9501\"/>\r\n      </g>\r\n     </g>\r\n     <g id=\"text_8\">\r\n      <!-- 50 -->\r\n      <g transform=\"translate(20.878125 69.749319)scale(0.1 -0.1)\">\r\n       <defs>\r\n        <path d=\"M 691 4666 \r\nL 3169 4666 \r\nL 3169 4134 \r\nL 1269 4134 \r\nL 1269 2991 \r\nQ 1406 3038 1543 3061 \r\nQ 1681 3084 1819 3084 \r\nQ 2600 3084 3056 2656 \r\nQ 3513 2228 3513 1497 \r\nQ 3513 744 3044 326 \r\nQ 2575 -91 1722 -91 \r\nQ 1428 -91 1123 -41 \r\nQ 819 9 494 109 \r\nL 494 744 \r\nQ 775 591 1075 516 \r\nQ 1375 441 1709 441 \r\nQ 2250 441 2565 725 \r\nQ 2881 1009 2881 1497 \r\nQ 2881 1984 2565 2268 \r\nQ 2250 2553 1709 2553 \r\nQ 1456 2553 1204 2497 \r\nQ 953 2441 691 2322 \r\nL 691 4666 \r\nz\r\n\" id=\"DejaVuSans-35\" transform=\"scale(0.015625)\"/>\r\n       </defs>\r\n       <use xlink:href=\"#DejaVuSans-35\"/>\r\n       <use x=\"63.623047\" xlink:href=\"#DejaVuSans-30\"/>\r\n      </g>\r\n     </g>\r\n    </g>\r\n    <g id=\"ytick_7\">\r\n     <g id=\"line2d_9\">\r\n      <g>\r\n       <use style=\"stroke:#000000;stroke-width:0.8;\" x=\"40.603125\" xlink:href=\"#m7869f2deb2\" y=\"34.423349\"/>\r\n      </g>\r\n     </g>\r\n     <g id=\"text_9\">\r\n      <!-- 60 -->\r\n      <g transform=\"translate(20.878125 38.222568)scale(0.1 -0.1)\">\r\n       <defs>\r\n        <path d=\"M 2113 2584 \r\nQ 1688 2584 1439 2293 \r\nQ 1191 2003 1191 1497 \r\nQ 1191 994 1439 701 \r\nQ 1688 409 2113 409 \r\nQ 2538 409 2786 701 \r\nQ 3034 994 3034 1497 \r\nQ 3034 2003 2786 2293 \r\nQ 2538 2584 2113 2584 \r\nz\r\nM 3366 4563 \r\nL 3366 3988 \r\nQ 3128 4100 2886 4159 \r\nQ 2644 4219 2406 4219 \r\nQ 1781 4219 1451 3797 \r\nQ 1122 3375 1075 2522 \r\nQ 1259 2794 1537 2939 \r\nQ 1816 3084 2150 3084 \r\nQ 2853 3084 3261 2657 \r\nQ 3669 2231 3669 1497 \r\nQ 3669 778 3244 343 \r\nQ 2819 -91 2113 -91 \r\nQ 1303 -91 875 529 \r\nQ 447 1150 447 2328 \r\nQ 447 3434 972 4092 \r\nQ 1497 4750 2381 4750 \r\nQ 2619 4750 2861 4703 \r\nQ 3103 4656 3366 4563 \r\nz\r\n\" id=\"DejaVuSans-36\" transform=\"scale(0.015625)\"/>\r\n       </defs>\r\n       <use xlink:href=\"#DejaVuSans-36\"/>\r\n       <use x=\"63.623047\" xlink:href=\"#DejaVuSans-30\"/>\r\n      </g>\r\n     </g>\r\n    </g>\r\n    <g id=\"text_10\">\r\n     <!-- %E$_{max}$ -->\r\n     <g transform=\"translate(14.798438 131.67)rotate(-90)scale(0.1 -0.1)\">\r\n      <defs>\r\n       <path d=\"M 4653 2053 \r\nQ 4381 2053 4226 1822 \r\nQ 4072 1591 4072 1178 \r\nQ 4072 772 4226 539 \r\nQ 4381 306 4653 306 \r\nQ 4919 306 5073 539 \r\nQ 5228 772 5228 1178 \r\nQ 5228 1588 5073 1820 \r\nQ 4919 2053 4653 2053 \r\nz\r\nM 4653 2450 \r\nQ 5147 2450 5437 2106 \r\nQ 5728 1763 5728 1178 \r\nQ 5728 594 5436 251 \r\nQ 5144 -91 4653 -91 \r\nQ 4153 -91 3862 251 \r\nQ 3572 594 3572 1178 \r\nQ 3572 1766 3864 2108 \r\nQ 4156 2450 4653 2450 \r\nz\r\nM 1428 4353 \r\nQ 1159 4353 1004 4120 \r\nQ 850 3888 850 3481 \r\nQ 850 3069 1003 2837 \r\nQ 1156 2606 1428 2606 \r\nQ 1700 2606 1854 2837 \r\nQ 2009 3069 2009 3481 \r\nQ 2009 3884 1853 4118 \r\nQ 1697 4353 1428 4353 \r\nz\r\nM 4250 4750 \r\nL 4750 4750 \r\nL 1831 -91 \r\nL 1331 -91 \r\nL 4250 4750 \r\nz\r\nM 1428 4750 \r\nQ 1922 4750 2215 4408 \r\nQ 2509 4066 2509 3481 \r\nQ 2509 2891 2217 2550 \r\nQ 1925 2209 1428 2209 \r\nQ 931 2209 642 2551 \r\nQ 353 2894 353 3481 \r\nQ 353 4063 643 4406 \r\nQ 934 4750 1428 4750 \r\nz\r\n\" id=\"DejaVuSans-25\" transform=\"scale(0.015625)\"/>\r\n       <path d=\"M 628 4666 \r\nL 3578 4666 \r\nL 3578 4134 \r\nL 1259 4134 \r\nL 1259 2753 \r\nL 3481 2753 \r\nL 3481 2222 \r\nL 1259 2222 \r\nL 1259 531 \r\nL 3634 531 \r\nL 3634 0 \r\nL 628 0 \r\nL 628 4666 \r\nz\r\n\" id=\"DejaVuSans-45\" transform=\"scale(0.015625)\"/>\r\n       <path d=\"M 5747 2113 \r\nL 5338 0 \r\nL 4763 0 \r\nL 5166 2094 \r\nQ 5191 2228 5203 2325 \r\nQ 5216 2422 5216 2491 \r\nQ 5216 2772 5059 2928 \r\nQ 4903 3084 4622 3084 \r\nQ 4203 3084 3875 2770 \r\nQ 3547 2456 3450 1953 \r\nL 3066 0 \r\nL 2491 0 \r\nL 2900 2094 \r\nQ 2925 2209 2937 2307 \r\nQ 2950 2406 2950 2484 \r\nQ 2950 2769 2794 2926 \r\nQ 2638 3084 2363 3084 \r\nQ 1938 3084 1609 2770 \r\nQ 1281 2456 1184 1953 \r\nL 800 0 \r\nL 225 0 \r\nL 909 3500 \r\nL 1484 3500 \r\nL 1375 2956 \r\nQ 1609 3263 1923 3423 \r\nQ 2238 3584 2597 3584 \r\nQ 2978 3584 3223 3384 \r\nQ 3469 3184 3519 2828 \r\nQ 3781 3197 4126 3390 \r\nQ 4472 3584 4856 3584 \r\nQ 5306 3584 5551 3325 \r\nQ 5797 3066 5797 2591 \r\nQ 5797 2488 5784 2364 \r\nQ 5772 2241 5747 2113 \r\nz\r\n\" id=\"DejaVuSans-Oblique-6d\" transform=\"scale(0.015625)\"/>\r\n       <path d=\"M 3438 1997 \r\nL 3047 0 \r\nL 2472 0 \r\nL 2578 531 \r\nQ 2325 219 2001 64 \r\nQ 1678 -91 1281 -91 \r\nQ 834 -91 548 182 \r\nQ 263 456 263 884 \r\nQ 263 1497 752 1853 \r\nQ 1241 2209 2100 2209 \r\nL 2900 2209 \r\nL 2931 2363 \r\nQ 2938 2388 2941 2417 \r\nQ 2944 2447 2944 2509 \r\nQ 2944 2788 2717 2942 \r\nQ 2491 3097 2081 3097 \r\nQ 1800 3097 1504 3025 \r\nQ 1209 2953 897 2809 \r\nL 997 3341 \r\nQ 1322 3463 1633 3523 \r\nQ 1944 3584 2234 3584 \r\nQ 2853 3584 3176 3315 \r\nQ 3500 3047 3500 2534 \r\nQ 3500 2431 3484 2292 \r\nQ 3469 2153 3438 1997 \r\nz\r\nM 2816 1759 \r\nL 2241 1759 \r\nQ 1534 1759 1195 1570 \r\nQ 856 1381 856 984 \r\nQ 856 709 1029 553 \r\nQ 1203 397 1509 397 \r\nQ 1978 397 2328 733 \r\nQ 2678 1069 2791 1631 \r\nL 2816 1759 \r\nz\r\n\" id=\"DejaVuSans-Oblique-61\" transform=\"scale(0.015625)\"/>\r\n       <path d=\"M 3841 3500 \r\nL 2234 1784 \r\nL 3219 0 \r\nL 2559 0 \r\nL 1819 1388 \r\nL 531 0 \r\nL -166 0 \r\nL 1556 1844 \r\nL 641 3500 \r\nL 1300 3500 \r\nL 1972 2234 \r\nL 3144 3500 \r\nL 3841 3500 \r\nz\r\n\" id=\"DejaVuSans-Oblique-78\" transform=\"scale(0.015625)\"/>\r\n      </defs>\r\n      <use transform=\"translate(0 0.78125)\" xlink:href=\"#DejaVuSans-25\"/>\r\n      <use transform=\"translate(95.019531 0.78125)\" xlink:href=\"#DejaVuSans-45\"/>\r\n      <use transform=\"translate(159.160156 -15.625)scale(0.7)\" xlink:href=\"#DejaVuSans-Oblique-6d\"/>\r\n      <use transform=\"translate(227.348633 -15.625)scale(0.7)\" xlink:href=\"#DejaVuSans-Oblique-61\"/>\r\n      <use transform=\"translate(270.244141 -15.625)scale(0.7)\" xlink:href=\"#DejaVuSans-Oblique-78\"/>\r\n     </g>\r\n    </g>\r\n   </g>\r\n   <g id=\"line2d_10\">\r\n    <path clip-path=\"url(#p595082634b)\" d=\"M 124.303125 158.008212 \r\nL 124.303125 214.756364 \r\n\" style=\"fill:none;stroke:#3f3f3f;stroke-linecap:square;stroke-width:1.5;\"/>\r\n   </g>\r\n   <g id=\"line2d_11\">\r\n    <path clip-path=\"url(#p595082634b)\" d=\"M 124.303125 100.944793 \r\nL 124.303125 57.753145 \r\n\" style=\"fill:none;stroke:#3f3f3f;stroke-linecap:square;stroke-width:1.5;\"/>\r\n   </g>\r\n   <g id=\"line2d_12\">\r\n    <path clip-path=\"url(#p595082634b)\" d=\"M 90.823125 214.756364 \r\nL 157.783125 214.756364 \r\n\" style=\"fill:none;stroke:#3f3f3f;stroke-linecap:square;stroke-width:1.5;\"/>\r\n   </g>\r\n   <g id=\"line2d_13\">\r\n    <path clip-path=\"url(#p595082634b)\" d=\"M 90.823125 57.753145 \r\nL 157.783125 57.753145 \r\n\" style=\"fill:none;stroke:#3f3f3f;stroke-linecap:square;stroke-width:1.5;\"/>\r\n   </g>\r\n   <g id=\"line2d_14\"/>\r\n   <g id=\"line2d_15\">\r\n    <path clip-path=\"url(#p595082634b)\" d=\"M 291.703125 82.186377 \r\nL 291.703125 105.358538 \r\n\" style=\"fill:none;stroke:#3f3f3f;stroke-linecap:square;stroke-width:1.5;\"/>\r\n   </g>\r\n   <g id=\"line2d_16\">\r\n    <path clip-path=\"url(#p595082634b)\" d=\"M 291.703125 30.640139 \r\nL 291.703125 17.083636 \r\n\" style=\"fill:none;stroke:#3f3f3f;stroke-linecap:square;stroke-width:1.5;\"/>\r\n   </g>\r\n   <g id=\"line2d_17\">\r\n    <path clip-path=\"url(#p595082634b)\" d=\"M 258.223125 105.358538 \r\nL 325.183125 105.358538 \r\n\" style=\"fill:none;stroke:#3f3f3f;stroke-linecap:square;stroke-width:1.5;\"/>\r\n   </g>\r\n   <g id=\"line2d_18\">\r\n    <path clip-path=\"url(#p595082634b)\" d=\"M 258.223125 17.083636 \r\nL 325.183125 17.083636 \r\n\" style=\"fill:none;stroke:#3f3f3f;stroke-linecap:square;stroke-width:1.5;\"/>\r\n   </g>\r\n   <g id=\"line2d_19\"/>\r\n   <g id=\"line2d_20\">\r\n    <path clip-path=\"url(#p595082634b)\" d=\"M 57.343125 130.895207 \r\nL 191.263125 130.895207 \r\n\" style=\"fill:none;stroke:#3f3f3f;stroke-linecap:square;stroke-width:1.5;\"/>\r\n   </g>\r\n   <g id=\"line2d_21\">\r\n    <path clip-path=\"url(#p595082634b)\" d=\"M 224.743125 41.201601 \r\nL 358.663125 41.201601 \r\n\" style=\"fill:none;stroke:#3f3f3f;stroke-linecap:square;stroke-width:1.5;\"/>\r\n   </g>\r\n   <g id=\"patch_5\">\r\n    <path d=\"M 40.603125 224.64 \r\nL 40.603125 7.2 \r\n\" style=\"fill:none;stroke:#000000;stroke-linecap:square;stroke-linejoin:miter;stroke-width:0.8;\"/>\r\n   </g>\r\n   <g id=\"patch_6\">\r\n    <path d=\"M 375.403125 224.64 \r\nL 375.403125 7.2 \r\n\" style=\"fill:none;stroke:#000000;stroke-linecap:square;stroke-linejoin:miter;stroke-width:0.8;\"/>\r\n   </g>\r\n   <g id=\"patch_7\">\r\n    <path d=\"M 40.603125 224.64 \r\nL 375.403125 224.64 \r\n\" style=\"fill:none;stroke:#000000;stroke-linecap:square;stroke-linejoin:miter;stroke-width:0.8;\"/>\r\n   </g>\r\n   <g id=\"patch_8\">\r\n    <path d=\"M 40.603125 7.2 \r\nL 375.403125 7.2 \r\n\" style=\"fill:none;stroke:#000000;stroke-linecap:square;stroke-linejoin:miter;stroke-width:0.8;\"/>\r\n   </g>\r\n   <g id=\"PathCollection_1\">\r\n    <defs>\r\n     <path d=\"M 0 5 \r\nC 1.326016 5 2.597899 4.473168 3.535534 3.535534 \r\nC 4.473168 2.597899 5 1.326016 5 -0 \r\nC 5 -1.326016 4.473168 -2.597899 3.535534 -3.535534 \r\nC 2.597899 -4.473168 1.326016 -5 0 -5 \r\nC -1.326016 -5 -2.597899 -4.473168 -3.535534 -3.535534 \r\nC -4.473168 -2.597899 -5 -1.326016 -5 0 \r\nC -5 1.326016 -4.473168 2.597899 -3.535534 3.535534 \r\nC -2.597899 4.473168 -1.326016 5 0 5 \r\nz\r\n\" id=\"C0_0_75e5bde495\"/>\r\n    </defs>\r\n    <g clip-path=\"url(#p595082634b)\">\r\n     <use x=\"124.303125\" xlink:href=\"#C0_0_75e5bde495\" y=\"214.756364\"/>\r\n    </g>\r\n    <g clip-path=\"url(#p595082634b)\">\r\n     <use x=\"124.303125\" xlink:href=\"#C0_0_75e5bde495\" y=\"178.5006\"/>\r\n    </g>\r\n    <g clip-path=\"url(#p595082634b)\">\r\n     <use x=\"124.303125\" xlink:href=\"#C0_0_75e5bde495\" y=\"158.008212\"/>\r\n    </g>\r\n    <g clip-path=\"url(#p595082634b)\">\r\n     <use x=\"124.303125\" xlink:href=\"#C0_0_75e5bde495\" y=\"130.895207\"/>\r\n    </g>\r\n    <g clip-path=\"url(#p595082634b)\">\r\n     <use x=\"113.803125\" xlink:href=\"#C0_0_75e5bde495\" y=\"130.895207\"/>\r\n    </g>\r\n    <g clip-path=\"url(#p595082634b)\">\r\n     <use x=\"124.303125\" xlink:href=\"#C0_0_75e5bde495\" y=\"118.599774\"/>\r\n    </g>\r\n    <g clip-path=\"url(#p595082634b)\">\r\n     <use x=\"124.303125\" xlink:href=\"#C0_0_75e5bde495\" y=\"100.944793\"/>\r\n    </g>\r\n    <g clip-path=\"url(#p595082634b)\">\r\n     <use x=\"124.303125\" xlink:href=\"#C0_0_75e5bde495\" y=\"65.9501\"/>\r\n    </g>\r\n    <g clip-path=\"url(#p595082634b)\">\r\n     <use x=\"118.28873\" xlink:href=\"#C0_0_75e5bde495\" y=\"57.753145\"/>\r\n    </g>\r\n   </g>\r\n   <g id=\"PathCollection_2\">\r\n    <defs>\r\n     <path d=\"M 0 5 \r\nC 1.326016 5 2.597899 4.473168 3.535534 3.535534 \r\nC 4.473168 2.597899 5 1.326016 5 -0 \r\nC 5 -1.326016 4.473168 -2.597899 3.535534 -3.535534 \r\nC 2.597899 -4.473168 1.326016 -5 0 -5 \r\nC -1.326016 -5 -2.597899 -4.473168 -3.535534 -3.535534 \r\nC -4.473168 -2.597899 -5 -1.326016 -5 0 \r\nC -5 1.326016 -4.473168 2.597899 -3.535534 3.535534 \r\nC -2.597899 4.473168 -1.326016 5 0 5 \r\nz\r\n\" id=\"C1_0_4643456363\"/>\r\n    </defs>\r\n    <g clip-path=\"url(#p595082634b)\">\r\n     <use x=\"291.703125\" xlink:href=\"#C1_0_4643456363\" y=\"105.358538\"/>\r\n    </g>\r\n    <g clip-path=\"url(#p595082634b)\">\r\n     <use x=\"291.703125\" xlink:href=\"#C1_0_4643456363\" y=\"88.334093\"/>\r\n    </g>\r\n    <g clip-path=\"url(#p595082634b)\">\r\n     <use x=\"285.68873\" xlink:href=\"#C1_0_4643456363\" y=\"80.137138\"/>\r\n    </g>\r\n    <g clip-path=\"url(#p595082634b)\">\r\n     <use x=\"291.703125\" xlink:href=\"#C1_0_4643456363\" y=\"50.186725\"/>\r\n    </g>\r\n    <g clip-path=\"url(#p595082634b)\">\r\n     <use x=\"291.703125\" xlink:href=\"#C1_0_4643456363\" y=\"32.216477\"/>\r\n    </g>\r\n    <g clip-path=\"url(#p595082634b)\">\r\n     <use x=\"281.28695\" xlink:href=\"#C1_0_4643456363\" y=\"30.955407\"/>\r\n    </g>\r\n    <g clip-path=\"url(#p595082634b)\">\r\n     <use x=\"301.863676\" xlink:href=\"#C1_0_4643456363\" y=\"29.694337\"/>\r\n    </g>\r\n    <g clip-path=\"url(#p595082634b)\">\r\n     <use x=\"291.703125\" xlink:href=\"#C1_0_4643456363\" y=\"17.083636\"/>\r\n    </g>\r\n   </g>\r\n  </g>\r\n </g>\r\n <defs>\r\n  <clipPath id=\"p595082634b\">\r\n   <rect height=\"217.44\" width=\"334.8\" x=\"40.603125\" y=\"7.2\"/>\r\n  </clipPath>\r\n </defs>\r\n</svg>\r\n",
      "image/png": "[encoded data removed]"
     },
     "metadata": {
      "needs_background": "light"
     }
    }
   ],
   "source": [
    "sns.boxplot(data=[old, young])\n",
    "sns.swarmplot(data=[old, young], color='black', size=10)\n",
    "plt.ylabel(r\"%E$_{max}$\")\n",
    "plt.xticks([0,1], ['old', 'young']);"
   ]
  },
  {
   "source": [
    "## Description of the data"
   ],
   "cell_type": "markdown",
   "metadata": {}
  },
  {
   "source": [
    "### Unpaired two-sample T test using scipy"
   ],
   "cell_type": "markdown",
   "metadata": {}
  },
  {
   "cell_type": "code",
   "execution_count": 140,
   "metadata": {},
   "outputs": [
    {
     "output_type": "execute_result",
     "data": {
      "text/plain": [
       "Ttest_indResult(statistic=3.6242456851120375, pvalue=0.002828426914881655)"
      ]
     },
     "metadata": {},
     "execution_count": 140
    }
   ],
   "source": [
    "stats.ttest_ind(young, old, equal_var=False) # also called the Welch's t-test"
   ]
  },
  {
   "cell_type": "code",
   "execution_count": 124,
   "metadata": {},
   "outputs": [
    {
     "output_type": "execute_result",
     "data": {
      "text/plain": [
       "Ttest_indResult(statistic=3.531487707161938, pvalue=0.0030218492023012695)"
      ]
     },
     "metadata": {},
     "execution_count": 124
    }
   ],
   "source": [
    "stats.ttest_ind(young, old, equal_var=True)"
   ]
  },
  {
   "source": [
    "### Unpaired (independent) two-sample T test using pingouin\n",
    "\n",
    "pingouin just calls the scipy.ttest_ind method"
   ],
   "cell_type": "markdown",
   "metadata": {}
  },
  {
   "cell_type": "code",
   "execution_count": 82,
   "metadata": {},
   "outputs": [
    {
     "output_type": "execute_result",
     "data": {
      "text/plain": [
       "               T  dof       tail     p-val          CI95%   cohen-d   BF10  \\\n",
       "T-test  3.531488   15  two-sided  0.003022  [9.33, 37.76]  1.715995  12.56   \n",
       "\n",
       "           power  \n",
       "T-test  0.909532  "
      ],
      "text/html": "<div>\n<style scoped>\n    .dataframe tbody tr th:only-of-type {\n        vertical-align: middle;\n    }\n\n    .dataframe tbody tr th {\n        vertical-align: top;\n    }\n\n    .dataframe thead th {\n        text-align: right;\n    }\n</style>\n<table border=\"1\" class=\"dataframe\">\n  <thead>\n    <tr style=\"text-align: right;\">\n      <th></th>\n      <th>T</th>\n      <th>dof</th>\n      <th>tail</th>\n      <th>p-val</th>\n      <th>CI95%</th>\n      <th>cohen-d</th>\n      <th>BF10</th>\n      <th>power</th>\n    </tr>\n  </thead>\n  <tbody>\n    <tr>\n      <th>T-test</th>\n      <td>3.531488</td>\n      <td>15</td>\n      <td>two-sided</td>\n      <td>0.003022</td>\n      <td>[9.33, 37.76]</td>\n      <td>1.715995</td>\n      <td>12.56</td>\n      <td>0.909532</td>\n    </tr>\n  </tbody>\n</table>\n</div>"
     },
     "metadata": {},
     "execution_count": 82
    }
   ],
   "source": [
    "pg.ttest(young, old, correction=False) # specify whether or not to correct for unequal variances using Welch separate variances T-test"
   ]
  },
  {
   "source": [
    "Because the 95% CI of the mean difference does not include zero, we are 95% confident that the mean response in old individuals is less than the mean response in young ones."
   ],
   "cell_type": "markdown",
   "metadata": {}
  },
  {
   "cell_type": "code",
   "execution_count": 6,
   "metadata": {},
   "outputs": [
    {
     "data": {
      "text/plain": [
       "DescribeResult(nobs=9, minmax=(2.8, 52.6), mean=30.16666666666667, variance=259.0375, skewness=-0.17569385392311104, kurtosis=-0.8080848898945967)"
      ]
     },
     "execution_count": 6,
     "metadata": {},
     "output_type": "execute_result"
    }
   ],
   "source": [
    "stats.describe(old)"
   ]
  },
  {
   "cell_type": "code",
   "execution_count": 7,
   "metadata": {},
   "outputs": [
    {
     "data": {
      "text/plain": [
       "DescribeResult(nobs=8, minmax=(37.5, 65.5), mean=53.7125, variance=107.4069642857143, skewness=-0.4421628669270582, kurtosis=-1.3632352105713499)"
      ]
     },
     "execution_count": 7,
     "metadata": {},
     "output_type": "execute_result"
    }
   ],
   "source": [
    "stats.describe(young)"
   ]
  },
  {
   "cell_type": "code",
   "execution_count": 119,
   "metadata": {},
   "outputs": [
    {
     "output_type": "stream",
     "name": "stdout",
     "text": [
      "mean difference = 23.546\n"
     ]
    }
   ],
   "source": [
    "mean_diff = np.mean(young) - np.mean(old)\n",
    "print(f\"mean difference = {mean_diff:5.3f}\")"
   ]
  },
  {
   "source": [
    "### Testing the assumption of equal variances (_homoscedasticity_)"
   ],
   "cell_type": "markdown",
   "metadata": {}
  },
  {
   "cell_type": "code",
   "execution_count": 49,
   "metadata": {},
   "outputs": [
    {
     "output_type": "stream",
     "name": "stdout",
     "text": [
      "The old individuals have an SD 1.55 times larger than that of young individuals.\nF ratio = 2.412\nP value for the F-test of equal variance=0.2631\n"
     ]
    }
   ],
   "source": [
    "ratio_var = np.std(old, ddof=1) / np.std(young, ddof=1) # ratio of the variances of the two groups\n",
    "print(f\"The old individuals have an SD {ratio_var:.2f} times larger than that of young individuals.\")\n",
    "\n",
    "F_ratio = ratio_var**2\n",
    "print(f\"F ratio = {F_ratio:5.3f}\")\n",
    "\n",
    "p_val = 2 * (1 - stats.f.cdf(F_ratio, len(old)-1, len(young)-1)) # for two-sided (see Crawley, the R book, p.355)\n",
    "print(f\"P value for the F-test of equal variance={p_val:.4f}\")"
   ]
  },
  {
   "source": [
    "If H0 of equal variances were true, there would be a 26% chance that random sampling would result in this large discrepancy between the two SD values as observed here (or larger still)."
   ],
   "cell_type": "markdown",
   "metadata": {}
  },
  {
   "cell_type": "code",
   "execution_count": 66,
   "metadata": {},
   "outputs": [
    {
     "output_type": "execute_result",
     "data": {
      "text/plain": [
       "                 T      pval  equal_var\n",
       "bartlett  1.290011  0.256046       True"
      ],
      "text/html": "<div>\n<style scoped>\n    .dataframe tbody tr th:only-of-type {\n        vertical-align: middle;\n    }\n\n    .dataframe tbody tr th {\n        vertical-align: top;\n    }\n\n    .dataframe thead th {\n        text-align: right;\n    }\n</style>\n<table border=\"1\" class=\"dataframe\">\n  <thead>\n    <tr style=\"text-align: right;\">\n      <th></th>\n      <th>T</th>\n      <th>pval</th>\n      <th>equal_var</th>\n    </tr>\n  </thead>\n  <tbody>\n    <tr>\n      <th>bartlett</th>\n      <td>1.290011</td>\n      <td>0.256046</td>\n      <td>True</td>\n    </tr>\n  </tbody>\n</table>\n</div>"
     },
     "metadata": {},
     "execution_count": 66
    }
   ],
   "source": [
    "pg.homoscedasticity([young, old], method=\"bartlett\")"
   ]
  },
  {
   "cell_type": "markdown",
   "metadata": {},
   "source": [
    "### t ratio\n",
    "\n",
    "The P value is computed from the _t ratio_ which is computed from the difference between the two sample means and the SD and sample size of each group, such as\n",
    "\n",
    "$$t=(\\overline{x} - \\overline{y}) / (\\frac{s_x^2}{n_x} + \\frac{s_y^2}{n_y})$$\n",
    "\n",
    "where $s_x^2$ and $s_y^2$ are the sample variances (squared standard deviation).\n",
    "\n",
    "Thus $t=\\frac{\\overline{x_d}}{s_{\\overline{x_d}}}$ and $s_{\\overline{x_d}} = \\frac{s_d}{\\sqrt n}$, where $\\overline{x_d}$ is the sample mean of the differences between the two samples, $n$ is the number of observations (sample size), $s_d$ is the sample standard deviation of the differences and $s_{\\overline{x_d}}$ is the estimated standard error of the mean of the differences. The P value is then calculated using a T-distribution with n−1 degrees of freedom."
   ]
  },
  {
   "cell_type": "code",
   "execution_count": 129,
   "metadata": {},
   "outputs": [],
   "source": [
    "se_old = np.std(old, ddof=1)     / len(old)  **.5 # equivalent to stats.sem(old)\r\n",
    "se_young = np.std(young, ddof=1) / len(young)**.5 # equivalent to stats.sem(young)\r\n",
    "se_diff = (se_old**2 + se_young**2)**.5"
   ]
  },
  {
   "cell_type": "code",
   "execution_count": 138,
   "metadata": {},
   "outputs": [
    {
     "output_type": "stream",
     "name": "stdout",
     "text": [
      "t ratio = 3.6242\n"
     ]
    }
   ],
   "source": [
    "t_ratio = mean_diff / se_diff\n",
    "print(f\"t ratio = {t_ratio:.4f}\")"
   ]
  },
  {
   "source": [
    "This gives the t ratio as for unequal variances!\n",
    "\n",
    "For equal variance: $$t = \\frac{\\overline{x} - \\overline{y}}{\\frac{(n_x - 1)s_x^2 + (n_y - 1)s_y^2}{n_x+n_y-2}\\times \\sqrt{1/n_x +1/n_y}}$$"
   ],
   "cell_type": "markdown",
   "metadata": {}
  },
  {
   "cell_type": "code",
   "execution_count": 145,
   "metadata": {},
   "outputs": [
    {
     "output_type": "stream",
     "name": "stdout",
     "text": [
      "t ratio computed for equal variances = 0.257\n"
     ]
    }
   ],
   "source": [
    "Df = len(old) + len(young) - 2 # this is true only for equal variances, otherwise use Welch–Satterthwaite method\n",
    "\n",
    "t_ratio = mean_diff / ( (1/len(old) + 1/len(young))**0.5 *\n",
    "    (((len(old) - 1) * np.std(old, ddof=1)**2 + (len(young) - 1) * np.std(young, ddof=1)**2 ) / Df)\n",
    ")\n",
    "\n",
    "print(f\"t ratio computed for equal variances = {t_ratio:.3f}\")"
   ]
  },
  {
   "cell_type": "code",
   "execution_count": 142,
   "metadata": {},
   "outputs": [],
   "source": [
    "t_ = stats.t(df=Df).ppf((1+.95)/2) # two-tailed\n",
    "CI_diff_mean = (mean_diff - t_*SEM_mean_diff, mean_diff + t_*SEM_mean_diff)"
   ]
  },
  {
   "cell_type": "code",
   "execution_count": 148,
   "metadata": {},
   "outputs": [
    {
     "output_type": "stream",
     "name": "stdout",
     "text": [
      "CI of the mean difference 23.55 is 9.70\n"
     ]
    }
   ],
   "source": [
    "print(f\"CI of the mean difference {mean_diff:.2f} is {CI_diff_mean[0]:.2f} - \")"
   ]
  },
  {
   "cell_type": "markdown",
   "metadata": {},
   "source": [
    "##### Computing CI and P value with bootstraping"
   ]
  },
  {
   "cell_type": "code",
   "execution_count": 22,
   "metadata": {},
   "outputs": [],
   "source": [
    "bs_old = np.array([np.mean(np.random.choice(old, size=len(old))) for _ in range(10000)])\n",
    "bs_young= np.array([np.mean(np.random.choice(young,size=len(young))) for _ in range(10000)])"
   ]
  },
  {
   "cell_type": "code",
   "execution_count": 28,
   "metadata": {},
   "outputs": [],
   "source": [
    "bs_mean_diff = bs_young - bs_old"
   ]
  },
  {
   "cell_type": "code",
   "execution_count": 29,
   "metadata": {},
   "outputs": [
    {
     "name": "stdout",
     "output_type": "stream",
     "text": [
      "mean difference using bootstraping = 23.61\n",
      "CI of the mean difference using bootstraping = [11.57413194 35.66055556]\n"
     ]
    }
   ],
   "source": [
    "CI_mean_diff_bs = np.percentile(bs_mean_diff, [2.5, 97.5])\n",
    "print(f\"mean difference using bootstraping = {np.mean(bs_mean_diff):5.2f}\")\n",
    "print(f\"CI of the mean difference using bootstraping = {CI_mean_diff_bs}\")"
   ]
  },
  {
   "cell_type": "code",
   "execution_count": 33,
   "metadata": {},
   "outputs": [],
   "source": [
    "# now we test the H0 hypothesis that both sets comes from the same population, same mean\n",
    "combined_mean = np.mean(np.concatenate([old, young]))"
   ]
  },
  {
   "cell_type": "code",
   "execution_count": 35,
   "metadata": {},
   "outputs": [],
   "source": [
    "young_shifted = young - np.mean(young) + combined_mean\n",
    "old_shifted = old - np.mean(old) + combined_mean"
   ]
  },
  {
   "cell_type": "code",
   "execution_count": 67,
   "metadata": {},
   "outputs": [],
   "source": [
    "bs_shifted_old = np.array([np.mean(np.random.choice(\n",
    "    old_shifted, size=len(old))) for _ in range(10000)])\n",
    "bs_shifted_young = np.array([np.mean(np.random.choice(\n",
    "    young_shifted, size=len(old))) for _ in range(10000)])\n",
    "bs_diff_shifted = bs_shifted_young - bs_shifter_old"
   ]
  },
  {
   "cell_type": "code",
   "execution_count": 72,
   "metadata": {},
   "outputs": [
    {
     "data": {
      "image/png": "[encoded data removed]",
      "text/plain": [
       "<Figure size 432x288 with 1 Axes>"
      ]
     },
     "metadata": {
      "needs_background": "light"
     },
     "output_type": "display_data"
    }
   ],
   "source": [
    "plt.hist(bs_diff_shifted, density=True, bins=100)\n",
    "#plt.vlines(mean_diff, 0, .01, color='red', linestyles='--')\n",
    "plt.annotate('mean_diff', xy=(mean_diff, 0), xytext=(mean_diff-7, .015),\n",
    "            arrowprops={'arrowstyle': '->', 'color': 'red'});"
   ]
  },
  {
   "cell_type": "code",
   "execution_count": 73,
   "metadata": {
    "scrolled": false
   },
   "outputs": [
    {
     "name": "stdout",
     "output_type": "stream",
     "text": [
      "P value obtained using bootstraping = 0.000000\n"
     ]
    }
   ],
   "source": [
    "P_value_bs = np.sum(bs_diff_shifted >= mean_diff) / len(bs_diff_shifted)\n",
    "print(f\"P value obtained using bootstraping = {P_value_bs:7.6f}\")"
   ]
  }
 ],
 "metadata": {
  "kernelspec": {
   "name": "python3",
   "display_name": "Python 3.9.6 64-bit"
  },
  "language_info": {
   "codemirror_mode": {
    "name": "ipython",
    "version": 3
   },
   "file_extension": ".py",
   "mimetype": "text/x-python",
   "name": "python",
   "nbconvert_exporter": "python",
   "pygments_lexer": "ipython3",
   "version": "3.9.6"
  },
  "interpreter": {
   "hash": "35e05afc3bbf8458d25376a416e873cf169d04b2fc4efc2b77204c35b02a6d38"
  }
 },
 "nbformat": 4,
 "nbformat_minor": 2
}