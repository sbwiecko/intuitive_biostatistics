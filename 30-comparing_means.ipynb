{
 "cells": [
  {
   "source": [
    "# Comparing two means: Unpaired t Test\n",
    "\n",
    "## Data visualization"
   ],
   "cell_type": "markdown",
   "metadata": {}
  },
  {
   "cell_type": "code",
   "execution_count": 1,
   "metadata": {},
   "outputs": [],
   "source": [
    "import numpy as np\n",
    "from scipy import stats\n",
    "import pingouin as pg\n",
    "\n",
    "import matplotlib.pyplot as plt\n",
    "import seaborn as sns"
   ]
  },
  {
   "cell_type": "code",
   "execution_count": 2,
   "metadata": {},
   "outputs": [],
   "source": [
    "# data from Table 30.1 (page 295)\n",
    "old = np.array([20.8, 2.8, 50, 33.3, 29.4, 38.9, 29.4, 52.6, 14.3])\n",
    "young=np.array([45.5, 55, 60.7, 61.5, 61.1, 65.5, 42.9, 37.5])"
   ]
  },
  {
   "cell_type": "code",
   "execution_count": 3,
   "metadata": {},
   "outputs": [
    {
     "output_type": "stream",
     "name": "stdout",
     "text": [
      "old\tD'Agostino-Pearson omnibus K2=0.11\tp-value=0.947\n",
      "young\tD'Agostino-Pearson omnibus K2=1.75\tp-value=0.418\n",
      "old\tShapiro-Wilk's normality test p-value\t0.9\n",
      "young\tShapiro-Wilk's normality test p-value\t0.238\n",
      "C:\\Users\\Sébastien\\AppData\\Local\\Programs\\Python\\Python39\\lib\\site-packages\\scipy\\stats\\stats.py:1541: UserWarning: kurtosistest only valid for n>=20 ... continuing anyway, n=9\n",
      "  warnings.warn(\"kurtosistest only valid for n>=20 ... continuing \"\n",
      "C:\\Users\\Sébastien\\AppData\\Local\\Programs\\Python\\Python39\\lib\\site-packages\\scipy\\stats\\stats.py:1541: UserWarning: kurtosistest only valid for n>=20 ... continuing anyway, n=8\n",
      "  warnings.warn(\"kurtosistest only valid for n>=20 ... continuing \"\n"
     ]
    }
   ],
   "source": [
    "k2, pval = stats.normaltest(old)\n",
    "print('old', f\"D'Agostino-Pearson omnibus K2={k2:.2f}\", f\"p-value={pval:.3f}\", sep='\\t')\n",
    "\n",
    "k2, pval = stats.normaltest(young)\n",
    "print('young', f\"D'Agostino-Pearson omnibus K2={k2:.2f}\", f\"p-value={pval:.3f}\", sep='\\t')\n",
    "\n",
    "\n",
    "tstat, pval = stats.shapiro(old)\n",
    "print('old', \"Shapiro-Wilk's normality test p-value\", round(pval, 3), sep='\\t')\n",
    "\n",
    "tstat, pval = stats.shapiro(young)\n",
    "print('young', \"Shapiro-Wilk's normality test p-value\", round(pval, 3), sep='\\t')\n",
    "# if the P value from a normality test is large, the data are not inconsistent with a Gaussian distribution "
   ]
  },
  {
   "cell_type": "code",
   "execution_count": 4,
   "metadata": {},
   "outputs": [
    {
     "output_type": "execute_result",
     "data": {
      "text/plain": [
       "          W      pval  normal\n",
       "0  0.970675  0.900443    True"
      ],
      "text/html": "<div>\n<style scoped>\n    .dataframe tbody tr th:only-of-type {\n        vertical-align: middle;\n    }\n\n    .dataframe tbody tr th {\n        vertical-align: top;\n    }\n\n    .dataframe thead th {\n        text-align: right;\n    }\n</style>\n<table border=\"1\" class=\"dataframe\">\n  <thead>\n    <tr style=\"text-align: right;\">\n      <th></th>\n      <th>W</th>\n      <th>pval</th>\n      <th>normal</th>\n    </tr>\n  </thead>\n  <tbody>\n    <tr>\n      <th>0</th>\n      <td>0.970675</td>\n      <td>0.900443</td>\n      <td>True</td>\n    </tr>\n  </tbody>\n</table>\n</div>"
     },
     "metadata": {},
     "execution_count": 4
    }
   ],
   "source": [
    "pg.normality(old)"
   ]
  },
  {
   "cell_type": "code",
   "execution_count": 5,
   "metadata": {},
   "outputs": [
    {
     "output_type": "execute_result",
     "data": {
      "text/plain": [
       "          W     pval  normal\n",
       "0  0.890741  0.23777    True"
      ],
      "text/html": "<div>\n<style scoped>\n    .dataframe tbody tr th:only-of-type {\n        vertical-align: middle;\n    }\n\n    .dataframe tbody tr th {\n        vertical-align: top;\n    }\n\n    .dataframe thead th {\n        text-align: right;\n    }\n</style>\n<table border=\"1\" class=\"dataframe\">\n  <thead>\n    <tr style=\"text-align: right;\">\n      <th></th>\n      <th>W</th>\n      <th>pval</th>\n      <th>normal</th>\n    </tr>\n  </thead>\n  <tbody>\n    <tr>\n      <th>0</th>\n      <td>0.890741</td>\n      <td>0.23777</td>\n      <td>True</td>\n    </tr>\n  </tbody>\n</table>\n</div>"
     },
     "metadata": {},
     "execution_count": 5
    }
   ],
   "source": [
    "pg.normality(young)"
   ]
  },
  {
   "cell_type": "code",
   "execution_count": 6,
   "metadata": {},
   "outputs": [
    {
     "output_type": "display_data",
     "data": {
      "text/plain": "<Figure size 432x288 with 1 Axes>",
      "image/svg+xml": "<?xml version=\"1.0\" encoding=\"utf-8\" standalone=\"no\"?>\r\n<!DOCTYPE svg PUBLIC \"-//W3C//DTD SVG 1.1//EN\"\r\n  \"http://www.w3.org/Graphics/SVG/1.1/DTD/svg11.dtd\">\r\n<svg height=\"248.518125pt\" version=\"1.1\" viewBox=\"0 0 382.603125 248.518125\" width=\"382.603125pt\" xmlns=\"http://www.w3.org/2000/svg\" xmlns:xlink=\"http://www.w3.org/1999/xlink\">\r\n <metadata>\r\n  <rdf:RDF xmlns:cc=\"http://creativecommons.org/ns#\" xmlns:dc=\"http://purl.org/dc/elements/1.1/\" xmlns:rdf=\"http://www.w3.org/1999/02/22-rdf-syntax-ns#\">\r\n   <cc:Work>\r\n    <dc:type rdf:resource=\"http://purl.org/dc/dcmitype/StillImage\"/>\r\n    <dc:date>2021-07-08T08:25:42.667631</dc:date>\r\n    <dc:format>image/svg+xml</dc:format>\r\n    <dc:creator>\r\n     <cc:Agent>\r\n      <dc:title>Matplotlib v3.4.2, https://matplotlib.org/</dc:title>\r\n     </cc:Agent>\r\n    </dc:creator>\r\n   </cc:Work>\r\n  </rdf:RDF>\r\n </metadata>\r\n <defs>\r\n  <style type=\"text/css\">*{stroke-linecap:butt;stroke-linejoin:round;}</style>\r\n </defs>\r\n <g id=\"figure_1\">\r\n  <g id=\"patch_1\">\r\n   <path d=\"M 0 248.518125 \r\nL 382.603125 248.518125 \r\nL 382.603125 0 \r\nL 0 0 \r\nz\r\n\" style=\"fill:none;\"/>\r\n  </g>\r\n  <g id=\"axes_1\">\r\n   <g id=\"patch_2\">\r\n    <path d=\"M 40.603125 224.64 \r\nL 375.403125 224.64 \r\nL 375.403125 7.2 \r\nL 40.603125 7.2 \r\nz\r\n\" style=\"fill:#ffffff;\"/>\r\n   </g>\r\n   <g id=\"patch_3\">\r\n    <path clip-path=\"url(#pb69852bc55)\" d=\"M 57.343125 158.008212 \r\nL 191.263125 158.008212 \r\nL 191.263125 100.944793 \r\nL 57.343125 100.944793 \r\nL 57.343125 158.008212 \r\nz\r\n\" style=\"fill:#3274a1;stroke:#3f3f3f;stroke-linejoin:miter;stroke-width:1.5;\"/>\r\n   </g>\r\n   <g id=\"patch_4\">\r\n    <path clip-path=\"url(#pb69852bc55)\" d=\"M 224.743125 82.186377 \r\nL 358.663125 82.186377 \r\nL 358.663125 30.640139 \r\nL 224.743125 30.640139 \r\nL 224.743125 82.186377 \r\nz\r\n\" style=\"fill:#e1812c;stroke:#3f3f3f;stroke-linejoin:miter;stroke-width:1.5;\"/>\r\n   </g>\r\n   <g id=\"matplotlib.axis_1\">\r\n    <g id=\"xtick_1\">\r\n     <g id=\"line2d_1\">\r\n      <defs>\r\n       <path d=\"M 0 0 \r\nL 0 3.5 \r\n\" id=\"m8d8c5984d3\" style=\"stroke:#000000;stroke-width:0.8;\"/>\r\n      </defs>\r\n      <g>\r\n       <use style=\"stroke:#000000;stroke-width:0.8;\" x=\"124.303125\" xlink:href=\"#m8d8c5984d3\" y=\"224.64\"/>\r\n      </g>\r\n     </g>\r\n     <g id=\"text_1\">\r\n      <!-- old -->\r\n      <g transform=\"translate(116.680469 239.238437)scale(0.1 -0.1)\">\r\n       <defs>\r\n        <path d=\"M 1959 3097 \r\nQ 1497 3097 1228 2736 \r\nQ 959 2375 959 1747 \r\nQ 959 1119 1226 758 \r\nQ 1494 397 1959 397 \r\nQ 2419 397 2687 759 \r\nQ 2956 1122 2956 1747 \r\nQ 2956 2369 2687 2733 \r\nQ 2419 3097 1959 3097 \r\nz\r\nM 1959 3584 \r\nQ 2709 3584 3137 3096 \r\nQ 3566 2609 3566 1747 \r\nQ 3566 888 3137 398 \r\nQ 2709 -91 1959 -91 \r\nQ 1206 -91 779 398 \r\nQ 353 888 353 1747 \r\nQ 353 2609 779 3096 \r\nQ 1206 3584 1959 3584 \r\nz\r\n\" id=\"DejaVuSans-6f\" transform=\"scale(0.015625)\"/>\r\n        <path d=\"M 603 4863 \r\nL 1178 4863 \r\nL 1178 0 \r\nL 603 0 \r\nL 603 4863 \r\nz\r\n\" id=\"DejaVuSans-6c\" transform=\"scale(0.015625)\"/>\r\n        <path d=\"M 2906 2969 \r\nL 2906 4863 \r\nL 3481 4863 \r\nL 3481 0 \r\nL 2906 0 \r\nL 2906 525 \r\nQ 2725 213 2448 61 \r\nQ 2172 -91 1784 -91 \r\nQ 1150 -91 751 415 \r\nQ 353 922 353 1747 \r\nQ 353 2572 751 3078 \r\nQ 1150 3584 1784 3584 \r\nQ 2172 3584 2448 3432 \r\nQ 2725 3281 2906 2969 \r\nz\r\nM 947 1747 \r\nQ 947 1113 1208 752 \r\nQ 1469 391 1925 391 \r\nQ 2381 391 2643 752 \r\nQ 2906 1113 2906 1747 \r\nQ 2906 2381 2643 2742 \r\nQ 2381 3103 1925 3103 \r\nQ 1469 3103 1208 2742 \r\nQ 947 2381 947 1747 \r\nz\r\n\" id=\"DejaVuSans-64\" transform=\"scale(0.015625)\"/>\r\n       </defs>\r\n       <use xlink:href=\"#DejaVuSans-6f\"/>\r\n       <use x=\"61.181641\" xlink:href=\"#DejaVuSans-6c\"/>\r\n       <use x=\"88.964844\" xlink:href=\"#DejaVuSans-64\"/>\r\n      </g>\r\n     </g>\r\n    </g>\r\n    <g id=\"xtick_2\">\r\n     <g id=\"line2d_2\">\r\n      <g>\r\n       <use style=\"stroke:#000000;stroke-width:0.8;\" x=\"291.703125\" xlink:href=\"#m8d8c5984d3\" y=\"224.64\"/>\r\n      </g>\r\n     </g>\r\n     <g id=\"text_2\">\r\n      <!-- young -->\r\n      <g transform=\"translate(276.172656 239.238437)scale(0.1 -0.1)\">\r\n       <defs>\r\n        <path d=\"M 2059 -325 \r\nQ 1816 -950 1584 -1140 \r\nQ 1353 -1331 966 -1331 \r\nL 506 -1331 \r\nL 506 -850 \r\nL 844 -850 \r\nQ 1081 -850 1212 -737 \r\nQ 1344 -625 1503 -206 \r\nL 1606 56 \r\nL 191 3500 \r\nL 800 3500 \r\nL 1894 763 \r\nL 2988 3500 \r\nL 3597 3500 \r\nL 2059 -325 \r\nz\r\n\" id=\"DejaVuSans-79\" transform=\"scale(0.015625)\"/>\r\n        <path d=\"M 544 1381 \r\nL 544 3500 \r\nL 1119 3500 \r\nL 1119 1403 \r\nQ 1119 906 1312 657 \r\nQ 1506 409 1894 409 \r\nQ 2359 409 2629 706 \r\nQ 2900 1003 2900 1516 \r\nL 2900 3500 \r\nL 3475 3500 \r\nL 3475 0 \r\nL 2900 0 \r\nL 2900 538 \r\nQ 2691 219 2414 64 \r\nQ 2138 -91 1772 -91 \r\nQ 1169 -91 856 284 \r\nQ 544 659 544 1381 \r\nz\r\nM 1991 3584 \r\nL 1991 3584 \r\nz\r\n\" id=\"DejaVuSans-75\" transform=\"scale(0.015625)\"/>\r\n        <path d=\"M 3513 2113 \r\nL 3513 0 \r\nL 2938 0 \r\nL 2938 2094 \r\nQ 2938 2591 2744 2837 \r\nQ 2550 3084 2163 3084 \r\nQ 1697 3084 1428 2787 \r\nQ 1159 2491 1159 1978 \r\nL 1159 0 \r\nL 581 0 \r\nL 581 3500 \r\nL 1159 3500 \r\nL 1159 2956 \r\nQ 1366 3272 1645 3428 \r\nQ 1925 3584 2291 3584 \r\nQ 2894 3584 3203 3211 \r\nQ 3513 2838 3513 2113 \r\nz\r\n\" id=\"DejaVuSans-6e\" transform=\"scale(0.015625)\"/>\r\n        <path d=\"M 2906 1791 \r\nQ 2906 2416 2648 2759 \r\nQ 2391 3103 1925 3103 \r\nQ 1463 3103 1205 2759 \r\nQ 947 2416 947 1791 \r\nQ 947 1169 1205 825 \r\nQ 1463 481 1925 481 \r\nQ 2391 481 2648 825 \r\nQ 2906 1169 2906 1791 \r\nz\r\nM 3481 434 \r\nQ 3481 -459 3084 -895 \r\nQ 2688 -1331 1869 -1331 \r\nQ 1566 -1331 1297 -1286 \r\nQ 1028 -1241 775 -1147 \r\nL 775 -588 \r\nQ 1028 -725 1275 -790 \r\nQ 1522 -856 1778 -856 \r\nQ 2344 -856 2625 -561 \r\nQ 2906 -266 2906 331 \r\nL 2906 616 \r\nQ 2728 306 2450 153 \r\nQ 2172 0 1784 0 \r\nQ 1141 0 747 490 \r\nQ 353 981 353 1791 \r\nQ 353 2603 747 3093 \r\nQ 1141 3584 1784 3584 \r\nQ 2172 3584 2450 3431 \r\nQ 2728 3278 2906 2969 \r\nL 2906 3500 \r\nL 3481 3500 \r\nL 3481 434 \r\nz\r\n\" id=\"DejaVuSans-67\" transform=\"scale(0.015625)\"/>\r\n       </defs>\r\n       <use xlink:href=\"#DejaVuSans-79\"/>\r\n       <use x=\"59.179688\" xlink:href=\"#DejaVuSans-6f\"/>\r\n       <use x=\"120.361328\" xlink:href=\"#DejaVuSans-75\"/>\r\n       <use x=\"183.740234\" xlink:href=\"#DejaVuSans-6e\"/>\r\n       <use x=\"247.119141\" xlink:href=\"#DejaVuSans-67\"/>\r\n      </g>\r\n     </g>\r\n    </g>\r\n   </g>\r\n   <g id=\"matplotlib.axis_2\">\r\n    <g id=\"ytick_1\">\r\n     <g id=\"line2d_3\">\r\n      <defs>\r\n       <path d=\"M 0 0 \r\nL -3.5 0 \r\n\" id=\"m5507122a07\" style=\"stroke:#000000;stroke-width:0.8;\"/>\r\n      </defs>\r\n      <g>\r\n       <use style=\"stroke:#000000;stroke-width:0.8;\" x=\"40.603125\" xlink:href=\"#m5507122a07\" y=\"223.583854\"/>\r\n      </g>\r\n     </g>\r\n     <g id=\"text_3\">\r\n      <!-- 0 -->\r\n      <g transform=\"translate(27.240625 227.383073)scale(0.1 -0.1)\">\r\n       <defs>\r\n        <path d=\"M 2034 4250 \r\nQ 1547 4250 1301 3770 \r\nQ 1056 3291 1056 2328 \r\nQ 1056 1369 1301 889 \r\nQ 1547 409 2034 409 \r\nQ 2525 409 2770 889 \r\nQ 3016 1369 3016 2328 \r\nQ 3016 3291 2770 3770 \r\nQ 2525 4250 2034 4250 \r\nz\r\nM 2034 4750 \r\nQ 2819 4750 3233 4129 \r\nQ 3647 3509 3647 2328 \r\nQ 3647 1150 3233 529 \r\nQ 2819 -91 2034 -91 \r\nQ 1250 -91 836 529 \r\nQ 422 1150 422 2328 \r\nQ 422 3509 836 4129 \r\nQ 1250 4750 2034 4750 \r\nz\r\n\" id=\"DejaVuSans-30\" transform=\"scale(0.015625)\"/>\r\n       </defs>\r\n       <use xlink:href=\"#DejaVuSans-30\"/>\r\n      </g>\r\n     </g>\r\n    </g>\r\n    <g id=\"ytick_2\">\r\n     <g id=\"line2d_4\">\r\n      <g>\r\n       <use style=\"stroke:#000000;stroke-width:0.8;\" x=\"40.603125\" xlink:href=\"#m5507122a07\" y=\"192.057103\"/>\r\n      </g>\r\n     </g>\r\n     <g id=\"text_4\">\r\n      <!-- 10 -->\r\n      <g transform=\"translate(20.878125 195.856322)scale(0.1 -0.1)\">\r\n       <defs>\r\n        <path d=\"M 794 531 \r\nL 1825 531 \r\nL 1825 4091 \r\nL 703 3866 \r\nL 703 4441 \r\nL 1819 4666 \r\nL 2450 4666 \r\nL 2450 531 \r\nL 3481 531 \r\nL 3481 0 \r\nL 794 0 \r\nL 794 531 \r\nz\r\n\" id=\"DejaVuSans-31\" transform=\"scale(0.015625)\"/>\r\n       </defs>\r\n       <use xlink:href=\"#DejaVuSans-31\"/>\r\n       <use x=\"63.623047\" xlink:href=\"#DejaVuSans-30\"/>\r\n      </g>\r\n     </g>\r\n    </g>\r\n    <g id=\"ytick_3\">\r\n     <g id=\"line2d_5\">\r\n      <g>\r\n       <use style=\"stroke:#000000;stroke-width:0.8;\" x=\"40.603125\" xlink:href=\"#m5507122a07\" y=\"160.530352\"/>\r\n      </g>\r\n     </g>\r\n     <g id=\"text_5\">\r\n      <!-- 20 -->\r\n      <g transform=\"translate(20.878125 164.329571)scale(0.1 -0.1)\">\r\n       <defs>\r\n        <path d=\"M 1228 531 \r\nL 3431 531 \r\nL 3431 0 \r\nL 469 0 \r\nL 469 531 \r\nQ 828 903 1448 1529 \r\nQ 2069 2156 2228 2338 \r\nQ 2531 2678 2651 2914 \r\nQ 2772 3150 2772 3378 \r\nQ 2772 3750 2511 3984 \r\nQ 2250 4219 1831 4219 \r\nQ 1534 4219 1204 4116 \r\nQ 875 4013 500 3803 \r\nL 500 4441 \r\nQ 881 4594 1212 4672 \r\nQ 1544 4750 1819 4750 \r\nQ 2544 4750 2975 4387 \r\nQ 3406 4025 3406 3419 \r\nQ 3406 3131 3298 2873 \r\nQ 3191 2616 2906 2266 \r\nQ 2828 2175 2409 1742 \r\nQ 1991 1309 1228 531 \r\nz\r\n\" id=\"DejaVuSans-32\" transform=\"scale(0.015625)\"/>\r\n       </defs>\r\n       <use xlink:href=\"#DejaVuSans-32\"/>\r\n       <use x=\"63.623047\" xlink:href=\"#DejaVuSans-30\"/>\r\n      </g>\r\n     </g>\r\n    </g>\r\n    <g id=\"ytick_4\">\r\n     <g id=\"line2d_6\">\r\n      <g>\r\n       <use style=\"stroke:#000000;stroke-width:0.8;\" x=\"40.603125\" xlink:href=\"#m5507122a07\" y=\"129.003602\"/>\r\n      </g>\r\n     </g>\r\n     <g id=\"text_6\">\r\n      <!-- 30 -->\r\n      <g transform=\"translate(20.878125 132.80282)scale(0.1 -0.1)\">\r\n       <defs>\r\n        <path d=\"M 2597 2516 \r\nQ 3050 2419 3304 2112 \r\nQ 3559 1806 3559 1356 \r\nQ 3559 666 3084 287 \r\nQ 2609 -91 1734 -91 \r\nQ 1441 -91 1130 -33 \r\nQ 819 25 488 141 \r\nL 488 750 \r\nQ 750 597 1062 519 \r\nQ 1375 441 1716 441 \r\nQ 2309 441 2620 675 \r\nQ 2931 909 2931 1356 \r\nQ 2931 1769 2642 2001 \r\nQ 2353 2234 1838 2234 \r\nL 1294 2234 \r\nL 1294 2753 \r\nL 1863 2753 \r\nQ 2328 2753 2575 2939 \r\nQ 2822 3125 2822 3475 \r\nQ 2822 3834 2567 4026 \r\nQ 2313 4219 1838 4219 \r\nQ 1578 4219 1281 4162 \r\nQ 984 4106 628 3988 \r\nL 628 4550 \r\nQ 988 4650 1302 4700 \r\nQ 1616 4750 1894 4750 \r\nQ 2613 4750 3031 4423 \r\nQ 3450 4097 3450 3541 \r\nQ 3450 3153 3228 2886 \r\nQ 3006 2619 2597 2516 \r\nz\r\n\" id=\"DejaVuSans-33\" transform=\"scale(0.015625)\"/>\r\n       </defs>\r\n       <use xlink:href=\"#DejaVuSans-33\"/>\r\n       <use x=\"63.623047\" xlink:href=\"#DejaVuSans-30\"/>\r\n      </g>\r\n     </g>\r\n    </g>\r\n    <g id=\"ytick_5\">\r\n     <g id=\"line2d_7\">\r\n      <g>\r\n       <use style=\"stroke:#000000;stroke-width:0.8;\" x=\"40.603125\" xlink:href=\"#m5507122a07\" y=\"97.476851\"/>\r\n      </g>\r\n     </g>\r\n     <g id=\"text_7\">\r\n      <!-- 40 -->\r\n      <g transform=\"translate(20.878125 101.27607)scale(0.1 -0.1)\">\r\n       <defs>\r\n        <path d=\"M 2419 4116 \r\nL 825 1625 \r\nL 2419 1625 \r\nL 2419 4116 \r\nz\r\nM 2253 4666 \r\nL 3047 4666 \r\nL 3047 1625 \r\nL 3713 1625 \r\nL 3713 1100 \r\nL 3047 1100 \r\nL 3047 0 \r\nL 2419 0 \r\nL 2419 1100 \r\nL 313 1100 \r\nL 313 1709 \r\nL 2253 4666 \r\nz\r\n\" id=\"DejaVuSans-34\" transform=\"scale(0.015625)\"/>\r\n       </defs>\r\n       <use xlink:href=\"#DejaVuSans-34\"/>\r\n       <use x=\"63.623047\" xlink:href=\"#DejaVuSans-30\"/>\r\n      </g>\r\n     </g>\r\n    </g>\r\n    <g id=\"ytick_6\">\r\n     <g id=\"line2d_8\">\r\n      <g>\r\n       <use style=\"stroke:#000000;stroke-width:0.8;\" x=\"40.603125\" xlink:href=\"#m5507122a07\" y=\"65.9501\"/>\r\n      </g>\r\n     </g>\r\n     <g id=\"text_8\">\r\n      <!-- 50 -->\r\n      <g transform=\"translate(20.878125 69.749319)scale(0.1 -0.1)\">\r\n       <defs>\r\n        <path d=\"M 691 4666 \r\nL 3169 4666 \r\nL 3169 4134 \r\nL 1269 4134 \r\nL 1269 2991 \r\nQ 1406 3038 1543 3061 \r\nQ 1681 3084 1819 3084 \r\nQ 2600 3084 3056 2656 \r\nQ 3513 2228 3513 1497 \r\nQ 3513 744 3044 326 \r\nQ 2575 -91 1722 -91 \r\nQ 1428 -91 1123 -41 \r\nQ 819 9 494 109 \r\nL 494 744 \r\nQ 775 591 1075 516 \r\nQ 1375 441 1709 441 \r\nQ 2250 441 2565 725 \r\nQ 2881 1009 2881 1497 \r\nQ 2881 1984 2565 2268 \r\nQ 2250 2553 1709 2553 \r\nQ 1456 2553 1204 2497 \r\nQ 953 2441 691 2322 \r\nL 691 4666 \r\nz\r\n\" id=\"DejaVuSans-35\" transform=\"scale(0.015625)\"/>\r\n       </defs>\r\n       <use xlink:href=\"#DejaVuSans-35\"/>\r\n       <use x=\"63.623047\" xlink:href=\"#DejaVuSans-30\"/>\r\n      </g>\r\n     </g>\r\n    </g>\r\n    <g id=\"ytick_7\">\r\n     <g id=\"line2d_9\">\r\n      <g>\r\n       <use style=\"stroke:#000000;stroke-width:0.8;\" x=\"40.603125\" xlink:href=\"#m5507122a07\" y=\"34.423349\"/>\r\n      </g>\r\n     </g>\r\n     <g id=\"text_9\">\r\n      <!-- 60 -->\r\n      <g transform=\"translate(20.878125 38.222568)scale(0.1 -0.1)\">\r\n       <defs>\r\n        <path d=\"M 2113 2584 \r\nQ 1688 2584 1439 2293 \r\nQ 1191 2003 1191 1497 \r\nQ 1191 994 1439 701 \r\nQ 1688 409 2113 409 \r\nQ 2538 409 2786 701 \r\nQ 3034 994 3034 1497 \r\nQ 3034 2003 2786 2293 \r\nQ 2538 2584 2113 2584 \r\nz\r\nM 3366 4563 \r\nL 3366 3988 \r\nQ 3128 4100 2886 4159 \r\nQ 2644 4219 2406 4219 \r\nQ 1781 4219 1451 3797 \r\nQ 1122 3375 1075 2522 \r\nQ 1259 2794 1537 2939 \r\nQ 1816 3084 2150 3084 \r\nQ 2853 3084 3261 2657 \r\nQ 3669 2231 3669 1497 \r\nQ 3669 778 3244 343 \r\nQ 2819 -91 2113 -91 \r\nQ 1303 -91 875 529 \r\nQ 447 1150 447 2328 \r\nQ 447 3434 972 4092 \r\nQ 1497 4750 2381 4750 \r\nQ 2619 4750 2861 4703 \r\nQ 3103 4656 3366 4563 \r\nz\r\n\" id=\"DejaVuSans-36\" transform=\"scale(0.015625)\"/>\r\n       </defs>\r\n       <use xlink:href=\"#DejaVuSans-36\"/>\r\n       <use x=\"63.623047\" xlink:href=\"#DejaVuSans-30\"/>\r\n      </g>\r\n     </g>\r\n    </g>\r\n    <g id=\"text_10\">\r\n     <!-- %E$_{max}$ -->\r\n     <g transform=\"translate(14.798438 131.67)rotate(-90)scale(0.1 -0.1)\">\r\n      <defs>\r\n       <path d=\"M 4653 2053 \r\nQ 4381 2053 4226 1822 \r\nQ 4072 1591 4072 1178 \r\nQ 4072 772 4226 539 \r\nQ 4381 306 4653 306 \r\nQ 4919 306 5073 539 \r\nQ 5228 772 5228 1178 \r\nQ 5228 1588 5073 1820 \r\nQ 4919 2053 4653 2053 \r\nz\r\nM 4653 2450 \r\nQ 5147 2450 5437 2106 \r\nQ 5728 1763 5728 1178 \r\nQ 5728 594 5436 251 \r\nQ 5144 -91 4653 -91 \r\nQ 4153 -91 3862 251 \r\nQ 3572 594 3572 1178 \r\nQ 3572 1766 3864 2108 \r\nQ 4156 2450 4653 2450 \r\nz\r\nM 1428 4353 \r\nQ 1159 4353 1004 4120 \r\nQ 850 3888 850 3481 \r\nQ 850 3069 1003 2837 \r\nQ 1156 2606 1428 2606 \r\nQ 1700 2606 1854 2837 \r\nQ 2009 3069 2009 3481 \r\nQ 2009 3884 1853 4118 \r\nQ 1697 4353 1428 4353 \r\nz\r\nM 4250 4750 \r\nL 4750 4750 \r\nL 1831 -91 \r\nL 1331 -91 \r\nL 4250 4750 \r\nz\r\nM 1428 4750 \r\nQ 1922 4750 2215 4408 \r\nQ 2509 4066 2509 3481 \r\nQ 2509 2891 2217 2550 \r\nQ 1925 2209 1428 2209 \r\nQ 931 2209 642 2551 \r\nQ 353 2894 353 3481 \r\nQ 353 4063 643 4406 \r\nQ 934 4750 1428 4750 \r\nz\r\n\" id=\"DejaVuSans-25\" transform=\"scale(0.015625)\"/>\r\n       <path d=\"M 628 4666 \r\nL 3578 4666 \r\nL 3578 4134 \r\nL 1259 4134 \r\nL 1259 2753 \r\nL 3481 2753 \r\nL 3481 2222 \r\nL 1259 2222 \r\nL 1259 531 \r\nL 3634 531 \r\nL 3634 0 \r\nL 628 0 \r\nL 628 4666 \r\nz\r\n\" id=\"DejaVuSans-45\" transform=\"scale(0.015625)\"/>\r\n       <path d=\"M 5747 2113 \r\nL 5338 0 \r\nL 4763 0 \r\nL 5166 2094 \r\nQ 5191 2228 5203 2325 \r\nQ 5216 2422 5216 2491 \r\nQ 5216 2772 5059 2928 \r\nQ 4903 3084 4622 3084 \r\nQ 4203 3084 3875 2770 \r\nQ 3547 2456 3450 1953 \r\nL 3066 0 \r\nL 2491 0 \r\nL 2900 2094 \r\nQ 2925 2209 2937 2307 \r\nQ 2950 2406 2950 2484 \r\nQ 2950 2769 2794 2926 \r\nQ 2638 3084 2363 3084 \r\nQ 1938 3084 1609 2770 \r\nQ 1281 2456 1184 1953 \r\nL 800 0 \r\nL 225 0 \r\nL 909 3500 \r\nL 1484 3500 \r\nL 1375 2956 \r\nQ 1609 3263 1923 3423 \r\nQ 2238 3584 2597 3584 \r\nQ 2978 3584 3223 3384 \r\nQ 3469 3184 3519 2828 \r\nQ 3781 3197 4126 3390 \r\nQ 4472 3584 4856 3584 \r\nQ 5306 3584 5551 3325 \r\nQ 5797 3066 5797 2591 \r\nQ 5797 2488 5784 2364 \r\nQ 5772 2241 5747 2113 \r\nz\r\n\" id=\"DejaVuSans-Oblique-6d\" transform=\"scale(0.015625)\"/>\r\n       <path d=\"M 3438 1997 \r\nL 3047 0 \r\nL 2472 0 \r\nL 2578 531 \r\nQ 2325 219 2001 64 \r\nQ 1678 -91 1281 -91 \r\nQ 834 -91 548 182 \r\nQ 263 456 263 884 \r\nQ 263 1497 752 1853 \r\nQ 1241 2209 2100 2209 \r\nL 2900 2209 \r\nL 2931 2363 \r\nQ 2938 2388 2941 2417 \r\nQ 2944 2447 2944 2509 \r\nQ 2944 2788 2717 2942 \r\nQ 2491 3097 2081 3097 \r\nQ 1800 3097 1504 3025 \r\nQ 1209 2953 897 2809 \r\nL 997 3341 \r\nQ 1322 3463 1633 3523 \r\nQ 1944 3584 2234 3584 \r\nQ 2853 3584 3176 3315 \r\nQ 3500 3047 3500 2534 \r\nQ 3500 2431 3484 2292 \r\nQ 3469 2153 3438 1997 \r\nz\r\nM 2816 1759 \r\nL 2241 1759 \r\nQ 1534 1759 1195 1570 \r\nQ 856 1381 856 984 \r\nQ 856 709 1029 553 \r\nQ 1203 397 1509 397 \r\nQ 1978 397 2328 733 \r\nQ 2678 1069 2791 1631 \r\nL 2816 1759 \r\nz\r\n\" id=\"DejaVuSans-Oblique-61\" transform=\"scale(0.015625)\"/>\r\n       <path d=\"M 3841 3500 \r\nL 2234 1784 \r\nL 3219 0 \r\nL 2559 0 \r\nL 1819 1388 \r\nL 531 0 \r\nL -166 0 \r\nL 1556 1844 \r\nL 641 3500 \r\nL 1300 3500 \r\nL 1972 2234 \r\nL 3144 3500 \r\nL 3841 3500 \r\nz\r\n\" id=\"DejaVuSans-Oblique-78\" transform=\"scale(0.015625)\"/>\r\n      </defs>\r\n      <use transform=\"translate(0 0.78125)\" xlink:href=\"#DejaVuSans-25\"/>\r\n      <use transform=\"translate(95.019531 0.78125)\" xlink:href=\"#DejaVuSans-45\"/>\r\n      <use transform=\"translate(159.160156 -15.625)scale(0.7)\" xlink:href=\"#DejaVuSans-Oblique-6d\"/>\r\n      <use transform=\"translate(227.348633 -15.625)scale(0.7)\" xlink:href=\"#DejaVuSans-Oblique-61\"/>\r\n      <use transform=\"translate(270.244141 -15.625)scale(0.7)\" xlink:href=\"#DejaVuSans-Oblique-78\"/>\r\n     </g>\r\n    </g>\r\n   </g>\r\n   <g id=\"line2d_10\">\r\n    <path clip-path=\"url(#pb69852bc55)\" d=\"M 124.303125 158.008212 \r\nL 124.303125 214.756364 \r\n\" style=\"fill:none;stroke:#3f3f3f;stroke-linecap:square;stroke-width:1.5;\"/>\r\n   </g>\r\n   <g id=\"line2d_11\">\r\n    <path clip-path=\"url(#pb69852bc55)\" d=\"M 124.303125 100.944793 \r\nL 124.303125 57.753145 \r\n\" style=\"fill:none;stroke:#3f3f3f;stroke-linecap:square;stroke-width:1.5;\"/>\r\n   </g>\r\n   <g id=\"line2d_12\">\r\n    <path clip-path=\"url(#pb69852bc55)\" d=\"M 90.823125 214.756364 \r\nL 157.783125 214.756364 \r\n\" style=\"fill:none;stroke:#3f3f3f;stroke-linecap:square;stroke-width:1.5;\"/>\r\n   </g>\r\n   <g id=\"line2d_13\">\r\n    <path clip-path=\"url(#pb69852bc55)\" d=\"M 90.823125 57.753145 \r\nL 157.783125 57.753145 \r\n\" style=\"fill:none;stroke:#3f3f3f;stroke-linecap:square;stroke-width:1.5;\"/>\r\n   </g>\r\n   <g id=\"line2d_14\"/>\r\n   <g id=\"line2d_15\">\r\n    <path clip-path=\"url(#pb69852bc55)\" d=\"M 291.703125 82.186377 \r\nL 291.703125 105.358538 \r\n\" style=\"fill:none;stroke:#3f3f3f;stroke-linecap:square;stroke-width:1.5;\"/>\r\n   </g>\r\n   <g id=\"line2d_16\">\r\n    <path clip-path=\"url(#pb69852bc55)\" d=\"M 291.703125 30.640139 \r\nL 291.703125 17.083636 \r\n\" style=\"fill:none;stroke:#3f3f3f;stroke-linecap:square;stroke-width:1.5;\"/>\r\n   </g>\r\n   <g id=\"line2d_17\">\r\n    <path clip-path=\"url(#pb69852bc55)\" d=\"M 258.223125 105.358538 \r\nL 325.183125 105.358538 \r\n\" style=\"fill:none;stroke:#3f3f3f;stroke-linecap:square;stroke-width:1.5;\"/>\r\n   </g>\r\n   <g id=\"line2d_18\">\r\n    <path clip-path=\"url(#pb69852bc55)\" d=\"M 258.223125 17.083636 \r\nL 325.183125 17.083636 \r\n\" style=\"fill:none;stroke:#3f3f3f;stroke-linecap:square;stroke-width:1.5;\"/>\r\n   </g>\r\n   <g id=\"line2d_19\"/>\r\n   <g id=\"line2d_20\">\r\n    <path clip-path=\"url(#pb69852bc55)\" d=\"M 57.343125 130.895207 \r\nL 191.263125 130.895207 \r\n\" style=\"fill:none;stroke:#3f3f3f;stroke-linecap:square;stroke-width:1.5;\"/>\r\n   </g>\r\n   <g id=\"line2d_21\">\r\n    <path clip-path=\"url(#pb69852bc55)\" d=\"M 224.743125 41.201601 \r\nL 358.663125 41.201601 \r\n\" style=\"fill:none;stroke:#3f3f3f;stroke-linecap:square;stroke-width:1.5;\"/>\r\n   </g>\r\n   <g id=\"patch_5\">\r\n    <path d=\"M 40.603125 224.64 \r\nL 40.603125 7.2 \r\n\" style=\"fill:none;stroke:#000000;stroke-linecap:square;stroke-linejoin:miter;stroke-width:0.8;\"/>\r\n   </g>\r\n   <g id=\"patch_6\">\r\n    <path d=\"M 375.403125 224.64 \r\nL 375.403125 7.2 \r\n\" style=\"fill:none;stroke:#000000;stroke-linecap:square;stroke-linejoin:miter;stroke-width:0.8;\"/>\r\n   </g>\r\n   <g id=\"patch_7\">\r\n    <path d=\"M 40.603125 224.64 \r\nL 375.403125 224.64 \r\n\" style=\"fill:none;stroke:#000000;stroke-linecap:square;stroke-linejoin:miter;stroke-width:0.8;\"/>\r\n   </g>\r\n   <g id=\"patch_8\">\r\n    <path d=\"M 40.603125 7.2 \r\nL 375.403125 7.2 \r\n\" style=\"fill:none;stroke:#000000;stroke-linecap:square;stroke-linejoin:miter;stroke-width:0.8;\"/>\r\n   </g>\r\n   <g id=\"PathCollection_1\">\r\n    <defs>\r\n     <path d=\"M 0 5 \r\nC 1.326016 5 2.597899 4.473168 3.535534 3.535534 \r\nC 4.473168 2.597899 5 1.326016 5 -0 \r\nC 5 -1.326016 4.473168 -2.597899 3.535534 -3.535534 \r\nC 2.597899 -4.473168 1.326016 -5 0 -5 \r\nC -1.326016 -5 -2.597899 -4.473168 -3.535534 -3.535534 \r\nC -4.473168 -2.597899 -5 -1.326016 -5 0 \r\nC -5 1.326016 -4.473168 2.597899 -3.535534 3.535534 \r\nC -2.597899 4.473168 -1.326016 5 0 5 \r\nz\r\n\" id=\"C0_0_962ddfe3cd\"/>\r\n    </defs>\r\n    <g clip-path=\"url(#pb69852bc55)\">\r\n     <use x=\"124.303125\" xlink:href=\"#C0_0_962ddfe3cd\" y=\"214.756364\"/>\r\n    </g>\r\n    <g clip-path=\"url(#pb69852bc55)\">\r\n     <use x=\"124.303125\" xlink:href=\"#C0_0_962ddfe3cd\" y=\"178.5006\"/>\r\n    </g>\r\n    <g clip-path=\"url(#pb69852bc55)\">\r\n     <use x=\"124.303125\" xlink:href=\"#C0_0_962ddfe3cd\" y=\"158.008212\"/>\r\n    </g>\r\n    <g clip-path=\"url(#pb69852bc55)\">\r\n     <use x=\"124.303125\" xlink:href=\"#C0_0_962ddfe3cd\" y=\"130.895207\"/>\r\n    </g>\r\n    <g clip-path=\"url(#pb69852bc55)\">\r\n     <use x=\"113.803125\" xlink:href=\"#C0_0_962ddfe3cd\" y=\"130.895207\"/>\r\n    </g>\r\n    <g clip-path=\"url(#pb69852bc55)\">\r\n     <use x=\"124.303125\" xlink:href=\"#C0_0_962ddfe3cd\" y=\"118.599774\"/>\r\n    </g>\r\n    <g clip-path=\"url(#pb69852bc55)\">\r\n     <use x=\"124.303125\" xlink:href=\"#C0_0_962ddfe3cd\" y=\"100.944793\"/>\r\n    </g>\r\n    <g clip-path=\"url(#pb69852bc55)\">\r\n     <use x=\"124.303125\" xlink:href=\"#C0_0_962ddfe3cd\" y=\"65.9501\"/>\r\n    </g>\r\n    <g clip-path=\"url(#pb69852bc55)\">\r\n     <use x=\"118.28873\" xlink:href=\"#C0_0_962ddfe3cd\" y=\"57.753145\"/>\r\n    </g>\r\n   </g>\r\n   <g id=\"PathCollection_2\">\r\n    <defs>\r\n     <path d=\"M 0 5 \r\nC 1.326016 5 2.597899 4.473168 3.535534 3.535534 \r\nC 4.473168 2.597899 5 1.326016 5 -0 \r\nC 5 -1.326016 4.473168 -2.597899 3.535534 -3.535534 \r\nC 2.597899 -4.473168 1.326016 -5 0 -5 \r\nC -1.326016 -5 -2.597899 -4.473168 -3.535534 -3.535534 \r\nC -4.473168 -2.597899 -5 -1.326016 -5 0 \r\nC -5 1.326016 -4.473168 2.597899 -3.535534 3.535534 \r\nC -2.597899 4.473168 -1.326016 5 0 5 \r\nz\r\n\" id=\"C1_0_d7cb099329\"/>\r\n    </defs>\r\n    <g clip-path=\"url(#pb69852bc55)\">\r\n     <use x=\"291.703125\" xlink:href=\"#C1_0_d7cb099329\" y=\"105.358538\"/>\r\n    </g>\r\n    <g clip-path=\"url(#pb69852bc55)\">\r\n     <use x=\"291.703125\" xlink:href=\"#C1_0_d7cb099329\" y=\"88.334093\"/>\r\n    </g>\r\n    <g clip-path=\"url(#pb69852bc55)\">\r\n     <use x=\"285.68873\" xlink:href=\"#C1_0_d7cb099329\" y=\"80.137138\"/>\r\n    </g>\r\n    <g clip-path=\"url(#pb69852bc55)\">\r\n     <use x=\"291.703125\" xlink:href=\"#C1_0_d7cb099329\" y=\"50.186725\"/>\r\n    </g>\r\n    <g clip-path=\"url(#pb69852bc55)\">\r\n     <use x=\"291.703125\" xlink:href=\"#C1_0_d7cb099329\" y=\"32.216477\"/>\r\n    </g>\r\n    <g clip-path=\"url(#pb69852bc55)\">\r\n     <use x=\"281.28695\" xlink:href=\"#C1_0_d7cb099329\" y=\"30.955407\"/>\r\n    </g>\r\n    <g clip-path=\"url(#pb69852bc55)\">\r\n     <use x=\"301.863676\" xlink:href=\"#C1_0_d7cb099329\" y=\"29.694337\"/>\r\n    </g>\r\n    <g clip-path=\"url(#pb69852bc55)\">\r\n     <use x=\"291.703125\" xlink:href=\"#C1_0_d7cb099329\" y=\"17.083636\"/>\r\n    </g>\r\n   </g>\r\n  </g>\r\n </g>\r\n <defs>\r\n  <clipPath id=\"pb69852bc55\">\r\n   <rect height=\"217.44\" width=\"334.8\" x=\"40.603125\" y=\"7.2\"/>\r\n  </clipPath>\r\n </defs>\r\n</svg>\r\n",
      "image/png": "[encoded data removed]"
     },
     "metadata": {
      "needs_background": "light"
     }
    }
   ],
   "source": [
    "sns.boxplot(data=[old, young])\n",
    "sns.swarmplot(data=[old, young], color='black', size=10)\n",
    "plt.ylabel(r\"%E$_{max}$\")\n",
    "plt.xticks([0,1], ['old', 'young']);"
   ]
  },
  {
   "source": [
    "## Description of the data"
   ],
   "cell_type": "markdown",
   "metadata": {}
  },
  {
   "source": [
    "### Unpaired two-sample T test using scipy"
   ],
   "cell_type": "markdown",
   "metadata": {}
  },
  {
   "cell_type": "code",
   "execution_count": 7,
   "metadata": {},
   "outputs": [
    {
     "output_type": "execute_result",
     "data": {
      "text/plain": [
       "Ttest_indResult(statistic=3.6242456851120375, pvalue=0.002828426914881655)"
      ]
     },
     "metadata": {},
     "execution_count": 7
    }
   ],
   "source": [
    "stats.ttest_ind(young, old, equal_var=False) # also called the Welch's t-test"
   ]
  },
  {
   "cell_type": "code",
   "execution_count": 8,
   "metadata": {},
   "outputs": [
    {
     "output_type": "execute_result",
     "data": {
      "text/plain": [
       "Ttest_indResult(statistic=3.531487707161938, pvalue=0.0030218492023012695)"
      ]
     },
     "metadata": {},
     "execution_count": 8
    }
   ],
   "source": [
    "stats.ttest_ind(young, old, equal_var=True)"
   ]
  },
  {
   "source": [
    "### Unpaired (independent) two-sample T test using pingouin\n",
    "\n",
    "pingouin just calls the scipy.ttest_ind method"
   ],
   "cell_type": "markdown",
   "metadata": {}
  },
  {
   "cell_type": "code",
   "execution_count": 9,
   "metadata": {},
   "outputs": [
    {
     "output_type": "execute_result",
     "data": {
      "text/plain": [
       "               T  dof       tail     p-val          CI95%   cohen-d   BF10  \\\n",
       "T-test  3.531488   15  two-sided  0.003022  [9.33, 37.76]  1.715995  12.56   \n",
       "\n",
       "           power  \n",
       "T-test  0.909532  "
      ],
      "text/html": "<div>\n<style scoped>\n    .dataframe tbody tr th:only-of-type {\n        vertical-align: middle;\n    }\n\n    .dataframe tbody tr th {\n        vertical-align: top;\n    }\n\n    .dataframe thead th {\n        text-align: right;\n    }\n</style>\n<table border=\"1\" class=\"dataframe\">\n  <thead>\n    <tr style=\"text-align: right;\">\n      <th></th>\n      <th>T</th>\n      <th>dof</th>\n      <th>tail</th>\n      <th>p-val</th>\n      <th>CI95%</th>\n      <th>cohen-d</th>\n      <th>BF10</th>\n      <th>power</th>\n    </tr>\n  </thead>\n  <tbody>\n    <tr>\n      <th>T-test</th>\n      <td>3.531488</td>\n      <td>15</td>\n      <td>two-sided</td>\n      <td>0.003022</td>\n      <td>[9.33, 37.76]</td>\n      <td>1.715995</td>\n      <td>12.56</td>\n      <td>0.909532</td>\n    </tr>\n  </tbody>\n</table>\n</div>"
     },
     "metadata": {},
     "execution_count": 9
    }
   ],
   "source": [
    "pg.ttest(young, old, correction=False) # specify whether or not to correct for unequal variances using Welch separate variances T-test"
   ]
  },
  {
   "source": [
    "Because the 95% CI of the mean difference does not include zero, we are 95% confident that the mean response in old individuals is less than the mean response in young ones."
   ],
   "cell_type": "markdown",
   "metadata": {}
  },
  {
   "cell_type": "code",
   "execution_count": 10,
   "metadata": {},
   "outputs": [
    {
     "output_type": "execute_result",
     "data": {
      "text/plain": [
       "DescribeResult(nobs=9, minmax=(2.8, 52.6), mean=30.16666666666667, variance=259.0375, skewness=-0.17569385392311104, kurtosis=-0.8080848898945967)"
      ]
     },
     "metadata": {},
     "execution_count": 10
    }
   ],
   "source": [
    "stats.describe(old)"
   ]
  },
  {
   "cell_type": "code",
   "execution_count": 11,
   "metadata": {},
   "outputs": [
    {
     "output_type": "execute_result",
     "data": {
      "text/plain": [
       "DescribeResult(nobs=8, minmax=(37.5, 65.5), mean=53.7125, variance=107.4069642857143, skewness=-0.4421628669270582, kurtosis=-1.3632352105713499)"
      ]
     },
     "metadata": {},
     "execution_count": 11
    }
   ],
   "source": [
    "stats.describe(young)"
   ]
  },
  {
   "cell_type": "code",
   "execution_count": 12,
   "metadata": {},
   "outputs": [
    {
     "output_type": "stream",
     "name": "stdout",
     "text": [
      "mean difference = 23.546\n"
     ]
    }
   ],
   "source": [
    "mean_diff = np.mean(young) - np.mean(old)\n",
    "print(f\"mean difference = {mean_diff:5.3f}\")"
   ]
  },
  {
   "source": [
    "### Testing the assumption of equal variances (_homoscedasticity_)"
   ],
   "cell_type": "markdown",
   "metadata": {}
  },
  {
   "cell_type": "code",
   "execution_count": 13,
   "metadata": {},
   "outputs": [
    {
     "output_type": "stream",
     "name": "stdout",
     "text": [
      "The old individuals have an SD 1.55 times larger than that of young individuals.\nF ratio = 2.412\nP value for the F-test of equal variance=0.2631\n"
     ]
    }
   ],
   "source": [
    "ratio_var = np.std(old, ddof=1) / np.std(young, ddof=1) # ratio of the variances of the two groups\n",
    "print(f\"The old individuals have an SD {ratio_var:.2f} times larger than that of young individuals.\")\n",
    "\n",
    "F_ratio = ratio_var**2\n",
    "print(f\"F ratio = {F_ratio:5.3f}\")\n",
    "\n",
    "p_val = 2 * (1 - stats.f.cdf(F_ratio, len(old)-1, len(young)-1)) # for two-sided (see Crawley, the R book, p.355)\n",
    "print(f\"P value for the F-test of equal variance={p_val:.4f}\")"
   ]
  },
  {
   "source": [
    "If H0 of equal variances were true, there would be a 26% chance that random sampling would result in this large discrepancy between the two SD values as observed here (or larger still).\n",
    "\n",
    "What if the P value is small, indicating that the assumption of equal variances is unlikely to be true? There is no real consensus, but in biology we may ignore the result. The t-test is fairly robust to violations of the assumption of equal variances as long as the sample size isn't tiny and the two samples have an equal, or nearly equal, number of observations."
   ],
   "cell_type": "markdown",
   "metadata": {}
  },
  {
   "cell_type": "code",
   "execution_count": 36,
   "metadata": {},
   "outputs": [
    {
     "output_type": "execute_result",
     "data": {
      "text/plain": [
       "               W      pval  equal_var\n",
       "levene  0.686405  0.420378       True"
      ],
      "text/html": "<div>\n<style scoped>\n    .dataframe tbody tr th:only-of-type {\n        vertical-align: middle;\n    }\n\n    .dataframe tbody tr th {\n        vertical-align: top;\n    }\n\n    .dataframe thead th {\n        text-align: right;\n    }\n</style>\n<table border=\"1\" class=\"dataframe\">\n  <thead>\n    <tr style=\"text-align: right;\">\n      <th></th>\n      <th>W</th>\n      <th>pval</th>\n      <th>equal_var</th>\n    </tr>\n  </thead>\n  <tbody>\n    <tr>\n      <th>levene</th>\n      <td>0.686405</td>\n      <td>0.420378</td>\n      <td>True</td>\n    </tr>\n  </tbody>\n</table>\n</div>"
     },
     "metadata": {},
     "execution_count": 36
    }
   ],
   "source": [
    "pg.homoscedasticity([young, old], method='levene') #test statistic W for Levene (using F-distribution), T for Bartlett (chi²)"
   ]
  },
  {
   "cell_type": "markdown",
   "metadata": {},
   "source": [
    "### t ratio\n",
    "\n",
    "The P value is computed from the _t ratio_ which is computed from the difference between the two sample means and the SD and sample size of each group, such as\n",
    "\n",
    "$$t=(\\overline x_1 - \\overline x_2 - 0) / \\sqrt{s^2(\\frac{1}{n_1} + \\frac{1}{n_2})}$$\n",
    "\n",
    "writing differently:\n",
    "\n",
    "$$t=(\\overline x_1 - \\overline x_2 - 0) / s.\\sqrt{\\frac{1}{n_1} + \\frac{1}{n_2}}$$\n",
    "\n",
    "$$s^2=\\frac{\\sum_{i=1}^{n_1}(x_i - \\overline x_1)^2 + \\sum_{j=1}^{n_2}(x_j - \\overline x_2)^2}{n_1+n_2-2}$$\n",
    "\n",
    "where $\\overline x_1$ and $\\overline x_2$ are the sample means, $s^2$ is the **pooled sample variance**, $n_1$ and $n_2$ are the sample sizes and $t$ is a Student t quantile with $n_1 + n_2 - 2$ degrees of freedom (Df).\n",
    "\n",
    "We can compute the **pooled standard deviation** as follows:\n",
    "\n",
    "$$\\sigma = \\sqrt{\\frac{(n_1-1)\\sigma_1^2 + (n_2-1)\\sigma_2^2}{n_1+n_2-2}}$$"
   ]
  },
  {
   "cell_type": "code",
   "execution_count": 81,
   "metadata": {},
   "outputs": [
    {
     "output_type": "stream",
     "name": "stdout",
     "text": [
      "t ratio = 3.53149 with 15 degrees of freedom, assuming equal variance\n"
     ]
    }
   ],
   "source": [
    "Df = len(old) + len(young) - 2 # this is true only for equal variances, otherwise use Welch–Satterthwaite method\n",
    "\n",
    "s_old = (len(old) - 1)*np.std(old,  ddof=1)**2\n",
    "s_young=(len(young)-1)*np.std(young,ddof=1)**2\n",
    "s_pooled = (s_old + s_young) / Df\n",
    "\n",
    "t_ratio = mean_diff / ((1/len(old) + 1/len(young)) * s_pooled)**0.5\n",
    "print(f\"t ratio = {t_ratio:.5f} with {Df} degrees of freedom, assuming equal variance\")"
   ]
  },
  {
   "source": [
    "#### t ratio for unequal variances"
   ],
   "cell_type": "markdown",
   "metadata": {}
  },
  {
   "cell_type": "code",
   "execution_count": 56,
   "metadata": {},
   "outputs": [],
   "source": [
    "se_old = np.std(old, ddof=1)     / len(old)  **.5 # equivalent to stats.sem(old)\n",
    "se_young = np.std(young, ddof=1) / len(young)**.5 # equivalent to stats.sem(young)\n",
    "se_pooled = (s_old**2 + s_young**2)**.5"
   ]
  },
  {
   "cell_type": "code",
   "execution_count": 57,
   "metadata": {},
   "outputs": [
    {
     "output_type": "stream",
     "name": "stdout",
     "text": [
      "t ratio = 3.62425\n"
     ]
    }
   ],
   "source": [
    "t_ratio = mean_diff / se_pooled\n",
    "print(f\"t ratio = {t_ratio:.5f}\")"
   ]
  },
  {
   "source": [
    "This gives the t ratio as for unequal variances! For the situation of unequal variances, the Satterthwaite's approximate t test is used, a method in the Behrens-Welch family where $d$ is the Behrens-Welch test statistic evaluated as a Student t quantile with _df freedom using Satterthwaite's approximation_:\n",
    "\n",
    "$$d=(\\overline x_1 - \\overline x_2) / \\sqrt{(\\frac{s_1^2}{n_1} + \\frac{s_2^2}{n_2})}$$\n",
    "\n",
    "Note that is often more robust, i.e. in detecting difference between means, to use the nonparametric Mann-Whitney test as an alternative method in the presence of unequal variances."
   ],
   "cell_type": "markdown",
   "metadata": {}
  },
  {
   "source": [
    "### t statistic and Confidence Interval\n",
    "\n",
    "In fact $t=(\\overline x_1 - \\overline x_2 - 0) / \\text{SE}$.\n",
    "In order to compute the CI, we need to obtain the **pooled standard error** $\\text{SE} = s.\\sqrt{\\frac{1}{n_1} + \\frac{1}{n_2}}$"
   ],
   "cell_type": "markdown",
   "metadata": {}
  },
  {
   "cell_type": "code",
   "execution_count": 84,
   "metadata": {},
   "outputs": [],
   "source": [
    "SE = s_pooled**.5 * (1/len(old) + 1/len(young))**.5\n",
    "t_ = stats.t(df=Df).ppf((1+.95)/2) # two-tailed\n",
    "CI_diff_mean = (mean_diff - t_ * SE, mean_diff + t_ * SE)"
   ]
  },
  {
   "cell_type": "code",
   "execution_count": 85,
   "metadata": {},
   "outputs": [
    {
     "output_type": "execute_result",
     "data": {
      "text/plain": [
       "6.667397789770537"
      ]
     },
     "metadata": {},
     "execution_count": 85
    }
   ],
   "source": [
    "SE"
   ]
  },
  {
   "cell_type": "code",
   "execution_count": 89,
   "metadata": {},
   "outputs": [
    {
     "output_type": "stream",
     "name": "stdout",
     "text": [
      "the mean difference 23.55 CI (95%) extends from 9.335 to 37.757\n"
     ]
    }
   ],
   "source": [
    "print(f\"the mean difference {mean_diff:.2f} CI (95%) extends from {CI_diff_mean[0]:.3f} to {CI_diff_mean[1]:.3f}\")"
   ]
  },
  {
   "source": [
    "### Rules of thumbs for interpreting error bars that overlap or not\n",
    "\n",
    "|  Type  |    overlap    |  no overlap   |\n",
    "| ------ | ------------- | ------------- |\n",
    "|   SD   | no conclusion | no conclusion |\n",
    "|  SEM   |   P > 0.05    | no conclusion |\n",
    "| 95% CI | no conclusion |   P < 0.05    |"
   ],
   "cell_type": "markdown",
   "metadata": {}
  },
  {
   "cell_type": "markdown",
   "metadata": {},
   "source": [
    "## Computing CI and P value with bootstraping\n",
    "\n",
    "The P value is obtained by computing the sampling distribution of a test statistic under the null hypothesis and then, the percentile of the observed test statistic in the distribution.\n",
    "\n",
    "Here H0 is that the data are equally distributed over the 2 groups, so H1 is that the groups are different, i.e. the difference of their means is different from 0.\n",
    "\n",
    "For bootstraping we use permutation replicate, with the **test statistic being the difference between the means**. The P value is therefore the probability of obtaining a value of the test statistic that is at least as extreme as what observed, under the assumption of H0.\n",
    "\n",
    "For testing for the same distribution, we use permutation test, for same mean, mean shifting as below."
   ]
  },
  {
   "source": [
    "### Mean Difference of the means and CI"
   ],
   "cell_type": "markdown",
   "metadata": {}
  },
  {
   "cell_type": "code",
   "execution_count": 90,
   "metadata": {},
   "outputs": [],
   "source": [
    "# we create 10000 replicates of the difference of the means\n",
    "bs_old = np.array([np.mean(np.random.choice(old, size=len(old))) for _ in range(10000)])\n",
    "bs_young= np.array([np.mean(np.random.choice(young,size=len(young))) for _ in range(10000)])\n",
    "\n",
    "bs_mean_diff = bs_young - bs_old"
   ]
  },
  {
   "cell_type": "code",
   "execution_count": 95,
   "metadata": {},
   "outputs": [
    {
     "output_type": "stream",
     "name": "stdout",
     "text": [
      "mean difference using bootstraping = 23.54\ncorresponding 95% CI of the mean difference of the means = [11.46 35.82]\n"
     ]
    }
   ],
   "source": [
    "CI_mean_diff_bs = np.round(np.percentile(bs_mean_diff, [2.5, 97.5]), 2)\n",
    "print(f\"mean difference using bootstraping = {np.mean(bs_mean_diff):5.2f}\")\n",
    "print(f\"corresponding 95% CI of the mean difference of the means = {CI_mean_diff_bs}\")"
   ]
  },
  {
   "source": [
    "### Boostrap replicates"
   ],
   "cell_type": "markdown",
   "metadata": {}
  },
  {
   "cell_type": "code",
   "execution_count": 113,
   "metadata": {},
   "outputs": [],
   "source": [
    "# We test H0 that data have the same mean\n",
    "combined_mean = np.mean(np.concatenate([old, young]))"
   ]
  },
  {
   "cell_type": "code",
   "execution_count": 114,
   "metadata": {},
   "outputs": [],
   "source": [
    "# We create shifts in both groups\n",
    "young_shifted = young - np.mean(young) + combined_mean\n",
    "old_shifted   = old   - np.mean(old)   + combined_mean"
   ]
  },
  {
   "cell_type": "code",
   "execution_count": 118,
   "metadata": {},
   "outputs": [],
   "source": [
    "# We draw bootstrap replicates with same size as the original dataset\n",
    "np.random.seed(999)\n",
    "bs_shifted_young = np.array([np.mean(np.random.choice(young_shifted, size=len(young))) for _ in range(10000)])\n",
    "bs_shifted_old   = np.array([np.mean(np.random.choice(old_shifted,   size=len(old)))   for _ in range(10000)])\n",
    "bs_diff_shifted  = bs_shifted_young - bs_shifted_old # same test statistic as for the original difference of the means"
   ]
  },
  {
   "cell_type": "code",
   "execution_count": 119,
   "metadata": {},
   "outputs": [
    {
     "output_type": "display_data",
     "data": {
      "text/plain": "<Figure size 432x288 with 1 Axes>",
      "image/svg+xml": "<?xml version=\"1.0\" encoding=\"utf-8\" standalone=\"no\"?>\r\n<!DOCTYPE svg PUBLIC \"-//W3C//DTD SVG 1.1//EN\"\r\n  \"http://www.w3.org/Graphics/SVG/1.1/DTD/svg11.dtd\">\r\n<svg height=\"248.518125pt\" version=\"1.1\" viewBox=\"0 0 378.465625 248.518125\" width=\"378.465625pt\" xmlns=\"http://www.w3.org/2000/svg\" xmlns:xlink=\"http://www.w3.org/1999/xlink\">\r\n <metadata>\r\n  <rdf:RDF xmlns:cc=\"http://creativecommons.org/ns#\" xmlns:dc=\"http://purl.org/dc/elements/1.1/\" xmlns:rdf=\"http://www.w3.org/1999/02/22-rdf-syntax-ns#\">\r\n   <cc:Work>\r\n    <dc:type rdf:resource=\"http://purl.org/dc/dcmitype/StillImage\"/>\r\n    <dc:date>2021-07-08T13:14:06.822748</dc:date>\r\n    <dc:format>image/svg+xml</dc:format>\r\n    <dc:creator>\r\n     <cc:Agent>\r\n      <dc:title>Matplotlib v3.4.2, https://matplotlib.org/</dc:title>\r\n     </cc:Agent>\r\n    </dc:creator>\r\n   </cc:Work>\r\n  </rdf:RDF>\r\n </metadata>\r\n <defs>\r\n  <style type=\"text/css\">*{stroke-linecap:butt;stroke-linejoin:round;}</style>\r\n </defs>\r\n <g id=\"figure_1\">\r\n  <g id=\"patch_1\">\r\n   <path d=\"M 0 248.518125 \r\nL 378.465625 248.518125 \r\nL 378.465625 0 \r\nL 0 0 \r\nz\r\n\" style=\"fill:none;\"/>\r\n  </g>\r\n  <g id=\"axes_1\">\r\n   <g id=\"patch_2\">\r\n    <path d=\"M 36.465625 224.64 \r\nL 371.265625 224.64 \r\nL 371.265625 7.2 \r\nL 36.465625 7.2 \r\nz\r\n\" style=\"fill:#ffffff;\"/>\r\n   </g>\r\n   <g id=\"patch_3\">\r\n    <path clip-path=\"url(#p52e9ec70ff)\" d=\"M 51.683807 224.64 \r\nL 54.727443 224.64 \r\nL 54.727443 223.421849 \r\nL 51.683807 223.421849 \r\nz\r\n\" style=\"fill:#1f77b4;\"/>\r\n   </g>\r\n   <g id=\"patch_4\">\r\n    <path clip-path=\"url(#p52e9ec70ff)\" d=\"M 54.727443 224.64 \r\nL 57.77108 224.64 \r\nL 57.77108 224.030924 \r\nL 54.727443 224.030924 \r\nz\r\n\" style=\"fill:#1f77b4;\"/>\r\n   </g>\r\n   <g id=\"patch_5\">\r\n    <path clip-path=\"url(#p52e9ec70ff)\" d=\"M 57.77108 224.64 \r\nL 60.814716 224.64 \r\nL 60.814716 222.812773 \r\nL 57.77108 222.812773 \r\nz\r\n\" style=\"fill:#1f77b4;\"/>\r\n   </g>\r\n   <g id=\"patch_6\">\r\n    <path clip-path=\"url(#p52e9ec70ff)\" d=\"M 60.814716 224.64 \r\nL 63.858352 224.64 \r\nL 63.858352 224.030924 \r\nL 60.814716 224.030924 \r\nz\r\n\" style=\"fill:#1f77b4;\"/>\r\n   </g>\r\n   <g id=\"patch_7\">\r\n    <path clip-path=\"url(#p52e9ec70ff)\" d=\"M 63.858352 224.64 \r\nL 66.901989 224.64 \r\nL 66.901989 222.203697 \r\nL 63.858352 222.203697 \r\nz\r\n\" style=\"fill:#1f77b4;\"/>\r\n   </g>\r\n   <g id=\"patch_8\">\r\n    <path clip-path=\"url(#p52e9ec70ff)\" d=\"M 66.901989 224.64 \r\nL 69.945625 224.64 \r\nL 69.945625 224.030924 \r\nL 66.901989 224.030924 \r\nz\r\n\" style=\"fill:#1f77b4;\"/>\r\n   </g>\r\n   <g id=\"patch_9\">\r\n    <path clip-path=\"url(#p52e9ec70ff)\" d=\"M 69.945625 224.64 \r\nL 72.989261 224.64 \r\nL 72.989261 220.985546 \r\nL 69.945625 220.985546 \r\nz\r\n\" style=\"fill:#1f77b4;\"/>\r\n   </g>\r\n   <g id=\"patch_10\">\r\n    <path clip-path=\"url(#p52e9ec70ff)\" d=\"M 72.989261 224.64 \r\nL 76.032898 224.64 \r\nL 76.032898 222.203697 \r\nL 72.989261 222.203697 \r\nz\r\n\" style=\"fill:#1f77b4;\"/>\r\n   </g>\r\n   <g id=\"patch_11\">\r\n    <path clip-path=\"url(#p52e9ec70ff)\" d=\"M 76.032898 224.64 \r\nL 79.076534 224.64 \r\nL 79.076534 222.812773 \r\nL 76.032898 222.812773 \r\nz\r\n\" style=\"fill:#1f77b4;\"/>\r\n   </g>\r\n   <g id=\"patch_12\">\r\n    <path clip-path=\"url(#p52e9ec70ff)\" d=\"M 79.076534 224.64 \r\nL 82.12017 224.64 \r\nL 82.12017 221.594622 \r\nL 79.076534 221.594622 \r\nz\r\n\" style=\"fill:#1f77b4;\"/>\r\n   </g>\r\n   <g id=\"patch_13\">\r\n    <path clip-path=\"url(#p52e9ec70ff)\" d=\"M 82.12017 224.64 \r\nL 85.163807 224.64 \r\nL 85.163807 219.158319 \r\nL 82.12017 219.158319 \r\nz\r\n\" style=\"fill:#1f77b4;\"/>\r\n   </g>\r\n   <g id=\"patch_14\">\r\n    <path clip-path=\"url(#p52e9ec70ff)\" d=\"M 85.163807 224.64 \r\nL 88.207443 224.64 \r\nL 88.207443 217.331092 \r\nL 85.163807 217.331092 \r\nz\r\n\" style=\"fill:#1f77b4;\"/>\r\n   </g>\r\n   <g id=\"patch_15\">\r\n    <path clip-path=\"url(#p52e9ec70ff)\" d=\"M 88.207443 224.64 \r\nL 91.25108 224.64 \r\nL 91.25108 219.158319 \r\nL 88.207443 219.158319 \r\nz\r\n\" style=\"fill:#1f77b4;\"/>\r\n   </g>\r\n   <g id=\"patch_16\">\r\n    <path clip-path=\"url(#p52e9ec70ff)\" d=\"M 91.25108 224.64 \r\nL 94.294716 224.64 \r\nL 94.294716 214.285714 \r\nL 91.25108 214.285714 \r\nz\r\n\" style=\"fill:#1f77b4;\"/>\r\n   </g>\r\n   <g id=\"patch_17\">\r\n    <path clip-path=\"url(#p52e9ec70ff)\" d=\"M 94.294716 224.64 \r\nL 97.338352 224.64 \r\nL 97.338352 208.804034 \r\nL 94.294716 208.804034 \r\nz\r\n\" style=\"fill:#1f77b4;\"/>\r\n   </g>\r\n   <g id=\"patch_18\">\r\n    <path clip-path=\"url(#p52e9ec70ff)\" d=\"M 97.338352 224.64 \r\nL 100.381989 224.64 \r\nL 100.381989 214.89479 \r\nL 97.338352 214.89479 \r\nz\r\n\" style=\"fill:#1f77b4;\"/>\r\n   </g>\r\n   <g id=\"patch_19\">\r\n    <path clip-path=\"url(#p52e9ec70ff)\" d=\"M 100.381989 224.64 \r\nL 103.425625 224.64 \r\nL 103.425625 205.14958 \r\nL 100.381989 205.14958 \r\nz\r\n\" style=\"fill:#1f77b4;\"/>\r\n   </g>\r\n   <g id=\"patch_20\">\r\n    <path clip-path=\"url(#p52e9ec70ff)\" d=\"M 103.425625 224.64 \r\nL 106.469261 224.64 \r\nL 106.469261 203.931429 \r\nL 103.425625 203.931429 \r\nz\r\n\" style=\"fill:#1f77b4;\"/>\r\n   </g>\r\n   <g id=\"patch_21\">\r\n    <path clip-path=\"url(#p52e9ec70ff)\" d=\"M 106.469261 224.64 \r\nL 109.512898 224.64 \r\nL 109.512898 206.367731 \r\nL 106.469261 206.367731 \r\nz\r\n\" style=\"fill:#1f77b4;\"/>\r\n   </g>\r\n   <g id=\"patch_22\">\r\n    <path clip-path=\"url(#p52e9ec70ff)\" d=\"M 109.512898 224.64 \r\nL 112.556534 224.64 \r\nL 112.556534 201.495126 \r\nL 109.512898 201.495126 \r\nz\r\n\" style=\"fill:#1f77b4;\"/>\r\n   </g>\r\n   <g id=\"patch_23\">\r\n    <path clip-path=\"url(#p52e9ec70ff)\" d=\"M 112.556534 224.64 \r\nL 115.60017 224.64 \r\nL 115.60017 192.968067 \r\nL 112.556534 192.968067 \r\nz\r\n\" style=\"fill:#1f77b4;\"/>\r\n   </g>\r\n   <g id=\"patch_24\">\r\n    <path clip-path=\"url(#p52e9ec70ff)\" d=\"M 115.60017 224.64 \r\nL 118.643807 224.64 \r\nL 118.643807 188.095462 \r\nL 115.60017 188.095462 \r\nz\r\n\" style=\"fill:#1f77b4;\"/>\r\n   </g>\r\n   <g id=\"patch_25\">\r\n    <path clip-path=\"url(#p52e9ec70ff)\" d=\"M 118.643807 224.64 \r\nL 121.687443 224.64 \r\nL 121.687443 184.441008 \r\nL 118.643807 184.441008 \r\nz\r\n\" style=\"fill:#1f77b4;\"/>\r\n   </g>\r\n   <g id=\"patch_26\">\r\n    <path clip-path=\"url(#p52e9ec70ff)\" d=\"M 121.687443 224.64 \r\nL 124.73108 224.64 \r\nL 124.73108 172.259496 \r\nL 121.687443 172.259496 \r\nz\r\n\" style=\"fill:#1f77b4;\"/>\r\n   </g>\r\n   <g id=\"patch_27\">\r\n    <path clip-path=\"url(#p52e9ec70ff)\" d=\"M 124.73108 224.64 \r\nL 127.774716 224.64 \r\nL 127.774716 169.214118 \r\nL 124.73108 169.214118 \r\nz\r\n\" style=\"fill:#1f77b4;\"/>\r\n   </g>\r\n   <g id=\"patch_28\">\r\n    <path clip-path=\"url(#p52e9ec70ff)\" d=\"M 127.774716 224.64 \r\nL 130.818352 224.64 \r\nL 130.818352 169.214118 \r\nL 127.774716 169.214118 \r\nz\r\n\" style=\"fill:#1f77b4;\"/>\r\n   </g>\r\n   <g id=\"patch_29\">\r\n    <path clip-path=\"url(#p52e9ec70ff)\" d=\"M 130.818352 224.64 \r\nL 133.861989 224.64 \r\nL 133.861989 161.90521 \r\nL 130.818352 161.90521 \r\nz\r\n\" style=\"fill:#1f77b4;\"/>\r\n   </g>\r\n   <g id=\"patch_30\">\r\n    <path clip-path=\"url(#p52e9ec70ff)\" d=\"M 133.861989 224.64 \r\nL 136.905625 224.64 \r\nL 136.905625 158.859832 \r\nL 133.861989 158.859832 \r\nz\r\n\" style=\"fill:#1f77b4;\"/>\r\n   </g>\r\n   <g id=\"patch_31\">\r\n    <path clip-path=\"url(#p52e9ec70ff)\" d=\"M 136.905625 224.64 \r\nL 139.949261 224.64 \r\nL 139.949261 124.142521 \r\nL 136.905625 124.142521 \r\nz\r\n\" style=\"fill:#1f77b4;\"/>\r\n   </g>\r\n   <g id=\"patch_32\">\r\n    <path clip-path=\"url(#p52e9ec70ff)\" d=\"M 139.949261 224.64 \r\nL 142.992898 224.64 \r\nL 142.992898 144.851092 \r\nL 139.949261 144.851092 \r\nz\r\n\" style=\"fill:#1f77b4;\"/>\r\n   </g>\r\n   <g id=\"patch_33\">\r\n    <path clip-path=\"url(#p52e9ec70ff)\" d=\"M 142.992898 224.64 \r\nL 146.036534 224.64 \r\nL 146.036534 132.66958 \r\nL 142.992898 132.66958 \r\nz\r\n\" style=\"fill:#1f77b4;\"/>\r\n   </g>\r\n   <g id=\"patch_34\">\r\n    <path clip-path=\"url(#p52e9ec70ff)\" d=\"M 146.036534 224.64 \r\nL 149.08017 224.64 \r\nL 149.08017 108.91563 \r\nL 146.036534 108.91563 \r\nz\r\n\" style=\"fill:#1f77b4;\"/>\r\n   </g>\r\n   <g id=\"patch_35\">\r\n    <path clip-path=\"url(#p52e9ec70ff)\" d=\"M 149.08017 224.64 \r\nL 152.123807 224.64 \r\nL 152.123807 102.215798 \r\nL 149.08017 102.215798 \r\nz\r\n\" style=\"fill:#1f77b4;\"/>\r\n   </g>\r\n   <g id=\"patch_36\">\r\n    <path clip-path=\"url(#p52e9ec70ff)\" d=\"M 152.123807 224.64 \r\nL 155.167443 224.64 \r\nL 155.167443 96.125042 \r\nL 152.123807 96.125042 \r\nz\r\n\" style=\"fill:#1f77b4;\"/>\r\n   </g>\r\n   <g id=\"patch_37\">\r\n    <path clip-path=\"url(#p52e9ec70ff)\" d=\"M 155.167443 224.64 \r\nL 158.21108 224.64 \r\nL 158.21108 91.861513 \r\nL 155.167443 91.861513 \r\nz\r\n\" style=\"fill:#1f77b4;\"/>\r\n   </g>\r\n   <g id=\"patch_38\">\r\n    <path clip-path=\"url(#p52e9ec70ff)\" d=\"M 158.21108 224.64 \r\nL 161.254716 224.64 \r\nL 161.254716 83.334454 \r\nL 158.21108 83.334454 \r\nz\r\n\" style=\"fill:#1f77b4;\"/>\r\n   </g>\r\n   <g id=\"patch_39\">\r\n    <path clip-path=\"url(#p52e9ec70ff)\" d=\"M 161.254716 224.64 \r\nL 164.298352 224.64 \r\nL 164.298352 61.407731 \r\nL 161.254716 61.407731 \r\nz\r\n\" style=\"fill:#1f77b4;\"/>\r\n   </g>\r\n   <g id=\"patch_40\">\r\n    <path clip-path=\"url(#p52e9ec70ff)\" d=\"M 164.298352 224.64 \r\nL 167.341989 224.64 \r\nL 167.341989 70.543866 \r\nL 164.298352 70.543866 \r\nz\r\n\" style=\"fill:#1f77b4;\"/>\r\n   </g>\r\n   <g id=\"patch_41\">\r\n    <path clip-path=\"url(#p52e9ec70ff)\" d=\"M 167.341989 224.64 \r\nL 170.385625 224.64 \r\nL 170.385625 62.016807 \r\nL 167.341989 62.016807 \r\nz\r\n\" style=\"fill:#1f77b4;\"/>\r\n   </g>\r\n   <g id=\"patch_42\">\r\n    <path clip-path=\"url(#p52e9ec70ff)\" d=\"M 170.385625 224.64 \r\nL 173.429261 224.64 \r\nL 173.429261 40.090084 \r\nL 170.385625 40.090084 \r\nz\r\n\" style=\"fill:#1f77b4;\"/>\r\n   </g>\r\n   <g id=\"patch_43\">\r\n    <path clip-path=\"url(#p52e9ec70ff)\" d=\"M 173.429261 224.64 \r\nL 176.472898 224.64 \r\nL 176.472898 57.144202 \r\nL 173.429261 57.144202 \r\nz\r\n\" style=\"fill:#1f77b4;\"/>\r\n   </g>\r\n   <g id=\"patch_44\">\r\n    <path clip-path=\"url(#p52e9ec70ff)\" d=\"M 176.472898 224.64 \r\nL 179.516534 224.64 \r\nL 179.516534 35.826555 \r\nL 176.472898 35.826555 \r\nz\r\n\" style=\"fill:#1f77b4;\"/>\r\n   </g>\r\n   <g id=\"patch_45\">\r\n    <path clip-path=\"url(#p52e9ec70ff)\" d=\"M 179.516534 224.64 \r\nL 182.56017 224.64 \r\nL 182.56017 46.18084 \r\nL 179.516534 46.18084 \r\nz\r\n\" style=\"fill:#1f77b4;\"/>\r\n   </g>\r\n   <g id=\"patch_46\">\r\n    <path clip-path=\"url(#p52e9ec70ff)\" d=\"M 182.56017 224.64 \r\nL 185.603807 224.64 \r\nL 185.603807 44.353613 \r\nL 182.56017 44.353613 \r\nz\r\n\" style=\"fill:#1f77b4;\"/>\r\n   </g>\r\n   <g id=\"patch_47\">\r\n    <path clip-path=\"url(#p52e9ec70ff)\" d=\"M 185.603807 224.64 \r\nL 188.647443 224.64 \r\nL 188.647443 50.44437 \r\nL 185.603807 50.44437 \r\nz\r\n\" style=\"fill:#1f77b4;\"/>\r\n   </g>\r\n   <g id=\"patch_48\">\r\n    <path clip-path=\"url(#p52e9ec70ff)\" d=\"M 188.647443 224.64 \r\nL 191.69108 224.64 \r\nL 191.69108 42.526387 \r\nL 188.647443 42.526387 \r\nz\r\n\" style=\"fill:#1f77b4;\"/>\r\n   </g>\r\n   <g id=\"patch_49\">\r\n    <path clip-path=\"url(#p52e9ec70ff)\" d=\"M 191.69108 224.64 \r\nL 194.734716 224.64 \r\nL 194.734716 24.863193 \r\nL 191.69108 24.863193 \r\nz\r\n\" style=\"fill:#1f77b4;\"/>\r\n   </g>\r\n   <g id=\"patch_50\">\r\n    <path clip-path=\"url(#p52e9ec70ff)\" d=\"M 194.734716 224.64 \r\nL 197.778352 224.64 \r\nL 197.778352 17.554286 \r\nL 194.734716 17.554286 \r\nz\r\n\" style=\"fill:#1f77b4;\"/>\r\n   </g>\r\n   <g id=\"patch_51\">\r\n    <path clip-path=\"url(#p52e9ec70ff)\" d=\"M 197.778352 224.64 \r\nL 200.821989 224.64 \r\nL 200.821989 55.92605 \r\nL 197.778352 55.92605 \r\nz\r\n\" style=\"fill:#1f77b4;\"/>\r\n   </g>\r\n   <g id=\"patch_52\">\r\n    <path clip-path=\"url(#p52e9ec70ff)\" d=\"M 200.821989 224.64 \r\nL 203.865625 224.64 \r\nL 203.865625 57.144202 \r\nL 200.821989 57.144202 \r\nz\r\n\" style=\"fill:#1f77b4;\"/>\r\n   </g>\r\n   <g id=\"patch_53\">\r\n    <path clip-path=\"url(#p52e9ec70ff)\" d=\"M 203.865625 224.64 \r\nL 206.909261 224.64 \r\nL 206.909261 62.625882 \r\nL 203.865625 62.625882 \r\nz\r\n\" style=\"fill:#1f77b4;\"/>\r\n   </g>\r\n   <g id=\"patch_54\">\r\n    <path clip-path=\"url(#p52e9ec70ff)\" d=\"M 206.909261 224.64 \r\nL 209.952898 224.64 \r\nL 209.952898 65.062185 \r\nL 206.909261 65.062185 \r\nz\r\n\" style=\"fill:#1f77b4;\"/>\r\n   </g>\r\n   <g id=\"patch_55\">\r\n    <path clip-path=\"url(#p52e9ec70ff)\" d=\"M 209.952898 224.64 \r\nL 212.996534 224.64 \r\nL 212.996534 82.725378 \r\nL 209.952898 82.725378 \r\nz\r\n\" style=\"fill:#1f77b4;\"/>\r\n   </g>\r\n   <g id=\"patch_56\">\r\n    <path clip-path=\"url(#p52e9ec70ff)\" d=\"M 212.996534 224.64 \r\nL 216.04017 224.64 \r\nL 216.04017 79.68 \r\nL 212.996534 79.68 \r\nz\r\n\" style=\"fill:#1f77b4;\"/>\r\n   </g>\r\n   <g id=\"patch_57\">\r\n    <path clip-path=\"url(#p52e9ec70ff)\" d=\"M 216.04017 224.64 \r\nL 219.083807 224.64 \r\nL 219.083807 79.68 \r\nL 216.04017 79.68 \r\nz\r\n\" style=\"fill:#1f77b4;\"/>\r\n   </g>\r\n   <g id=\"patch_58\">\r\n    <path clip-path=\"url(#p52e9ec70ff)\" d=\"M 219.083807 224.64 \r\nL 222.127443 224.64 \r\nL 222.127443 97.343193 \r\nL 219.083807 97.343193 \r\nz\r\n\" style=\"fill:#1f77b4;\"/>\r\n   </g>\r\n   <g id=\"patch_59\">\r\n    <path clip-path=\"url(#p52e9ec70ff)\" d=\"M 222.127443 224.64 \r\nL 225.17108 224.64 \r\nL 225.17108 86.988908 \r\nL 222.127443 86.988908 \r\nz\r\n\" style=\"fill:#1f77b4;\"/>\r\n   </g>\r\n   <g id=\"patch_60\">\r\n    <path clip-path=\"url(#p52e9ec70ff)\" d=\"M 225.17108 224.64 \r\nL 228.214716 224.64 \r\nL 228.214716 116.224538 \r\nL 225.17108 116.224538 \r\nz\r\n\" style=\"fill:#1f77b4;\"/>\r\n   </g>\r\n   <g id=\"patch_61\">\r\n    <path clip-path=\"url(#p52e9ec70ff)\" d=\"M 228.214716 224.64 \r\nL 231.258352 224.64 \r\nL 231.258352 88.816134 \r\nL 228.214716 88.816134 \r\nz\r\n\" style=\"fill:#1f77b4;\"/>\r\n   </g>\r\n   <g id=\"patch_62\">\r\n    <path clip-path=\"url(#p52e9ec70ff)\" d=\"M 231.258352 224.64 \r\nL 234.301989 224.64 \r\nL 234.301989 134.496807 \r\nL 231.258352 134.496807 \r\nz\r\n\" style=\"fill:#1f77b4;\"/>\r\n   </g>\r\n   <g id=\"patch_63\">\r\n    <path clip-path=\"url(#p52e9ec70ff)\" d=\"M 234.301989 224.64 \r\nL 237.345625 224.64 \r\nL 237.345625 134.496807 \r\nL 234.301989 134.496807 \r\nz\r\n\" style=\"fill:#1f77b4;\"/>\r\n   </g>\r\n   <g id=\"patch_64\">\r\n    <path clip-path=\"url(#p52e9ec70ff)\" d=\"M 237.345625 224.64 \r\nL 240.389261 224.64 \r\nL 240.389261 134.496807 \r\nL 237.345625 134.496807 \r\nz\r\n\" style=\"fill:#1f77b4;\"/>\r\n   </g>\r\n   <g id=\"patch_65\">\r\n    <path clip-path=\"url(#p52e9ec70ff)\" d=\"M 240.389261 224.64 \r\nL 243.432898 224.64 \r\nL 243.432898 139.978487 \r\nL 240.389261 139.978487 \r\nz\r\n\" style=\"fill:#1f77b4;\"/>\r\n   </g>\r\n   <g id=\"patch_66\">\r\n    <path clip-path=\"url(#p52e9ec70ff)\" d=\"M 243.432898 224.64 \r\nL 246.476534 224.64 \r\nL 246.476534 150.332773 \r\nL 243.432898 150.332773 \r\nz\r\n\" style=\"fill:#1f77b4;\"/>\r\n   </g>\r\n   <g id=\"patch_67\">\r\n    <path clip-path=\"url(#p52e9ec70ff)\" d=\"M 246.476534 224.64 \r\nL 249.52017 224.64 \r\nL 249.52017 160.077983 \r\nL 246.476534 160.077983 \r\nz\r\n\" style=\"fill:#1f77b4;\"/>\r\n   </g>\r\n   <g id=\"patch_68\">\r\n    <path clip-path=\"url(#p52e9ec70ff)\" d=\"M 249.52017 224.64 \r\nL 252.563807 224.64 \r\nL 252.563807 164.341513 \r\nL 249.52017 164.341513 \r\nz\r\n\" style=\"fill:#1f77b4;\"/>\r\n   </g>\r\n   <g id=\"patch_69\">\r\n    <path clip-path=\"url(#p52e9ec70ff)\" d=\"M 252.563807 224.64 \r\nL 255.607443 224.64 \r\nL 255.607443 172.868571 \r\nL 252.563807 172.868571 \r\nz\r\n\" style=\"fill:#1f77b4;\"/>\r\n   </g>\r\n   <g id=\"patch_70\">\r\n    <path clip-path=\"url(#p52e9ec70ff)\" d=\"M 255.607443 224.64 \r\nL 258.65108 224.64 \r\nL 258.65108 176.523025 \r\nL 255.607443 176.523025 \r\nz\r\n\" style=\"fill:#1f77b4;\"/>\r\n   </g>\r\n   <g id=\"patch_71\">\r\n    <path clip-path=\"url(#p52e9ec70ff)\" d=\"M 258.65108 224.64 \r\nL 261.694716 224.64 \r\nL 261.694716 185.65916 \r\nL 258.65108 185.65916 \r\nz\r\n\" style=\"fill:#1f77b4;\"/>\r\n   </g>\r\n   <g id=\"patch_72\">\r\n    <path clip-path=\"url(#p52e9ec70ff)\" d=\"M 261.694716 224.64 \r\nL 264.738352 224.64 \r\nL 264.738352 185.050084 \r\nL 261.694716 185.050084 \r\nz\r\n\" style=\"fill:#1f77b4;\"/>\r\n   </g>\r\n   <g id=\"patch_73\">\r\n    <path clip-path=\"url(#p52e9ec70ff)\" d=\"M 264.738352 224.64 \r\nL 267.781989 224.64 \r\nL 267.781989 196.622521 \r\nL 264.738352 196.622521 \r\nz\r\n\" style=\"fill:#1f77b4;\"/>\r\n   </g>\r\n   <g id=\"patch_74\">\r\n    <path clip-path=\"url(#p52e9ec70ff)\" d=\"M 267.781989 224.64 \r\nL 270.825625 224.64 \r\nL 270.825625 203.322353 \r\nL 267.781989 203.322353 \r\nz\r\n\" style=\"fill:#1f77b4;\"/>\r\n   </g>\r\n   <g id=\"patch_75\">\r\n    <path clip-path=\"url(#p52e9ec70ff)\" d=\"M 270.825625 224.64 \r\nL 273.869261 224.64 \r\nL 273.869261 206.976807 \r\nL 270.825625 206.976807 \r\nz\r\n\" style=\"fill:#1f77b4;\"/>\r\n   </g>\r\n   <g id=\"patch_76\">\r\n    <path clip-path=\"url(#p52e9ec70ff)\" d=\"M 273.869261 224.64 \r\nL 276.912898 224.64 \r\nL 276.912898 214.285714 \r\nL 273.869261 214.285714 \r\nz\r\n\" style=\"fill:#1f77b4;\"/>\r\n   </g>\r\n   <g id=\"patch_77\">\r\n    <path clip-path=\"url(#p52e9ec70ff)\" d=\"M 276.912898 224.64 \r\nL 279.956534 224.64 \r\nL 279.956534 212.458487 \r\nL 276.912898 212.458487 \r\nz\r\n\" style=\"fill:#1f77b4;\"/>\r\n   </g>\r\n   <g id=\"patch_78\">\r\n    <path clip-path=\"url(#p52e9ec70ff)\" d=\"M 279.956534 224.64 \r\nL 283.00017 224.64 \r\nL 283.00017 214.285714 \r\nL 279.956534 214.285714 \r\nz\r\n\" style=\"fill:#1f77b4;\"/>\r\n   </g>\r\n   <g id=\"patch_79\">\r\n    <path clip-path=\"url(#p52e9ec70ff)\" d=\"M 283.00017 224.64 \r\nL 286.043807 224.64 \r\nL 286.043807 216.112941 \r\nL 283.00017 216.112941 \r\nz\r\n\" style=\"fill:#1f77b4;\"/>\r\n   </g>\r\n   <g id=\"patch_80\">\r\n    <path clip-path=\"url(#p52e9ec70ff)\" d=\"M 286.043807 224.64 \r\nL 289.087443 224.64 \r\nL 289.087443 216.112941 \r\nL 286.043807 216.112941 \r\nz\r\n\" style=\"fill:#1f77b4;\"/>\r\n   </g>\r\n   <g id=\"patch_81\">\r\n    <path clip-path=\"url(#p52e9ec70ff)\" d=\"M 289.087443 224.64 \r\nL 292.13108 224.64 \r\nL 292.13108 222.203697 \r\nL 289.087443 222.203697 \r\nz\r\n\" style=\"fill:#1f77b4;\"/>\r\n   </g>\r\n   <g id=\"patch_82\">\r\n    <path clip-path=\"url(#p52e9ec70ff)\" d=\"M 292.13108 224.64 \r\nL 295.174716 224.64 \r\nL 295.174716 219.767395 \r\nL 292.13108 219.767395 \r\nz\r\n\" style=\"fill:#1f77b4;\"/>\r\n   </g>\r\n   <g id=\"patch_83\">\r\n    <path clip-path=\"url(#p52e9ec70ff)\" d=\"M 295.174716 224.64 \r\nL 298.218352 224.64 \r\nL 298.218352 218.549244 \r\nL 295.174716 218.549244 \r\nz\r\n\" style=\"fill:#1f77b4;\"/>\r\n   </g>\r\n   <g id=\"patch_84\">\r\n    <path clip-path=\"url(#p52e9ec70ff)\" d=\"M 298.218352 224.64 \r\nL 301.261989 224.64 \r\nL 301.261989 223.421849 \r\nL 298.218352 223.421849 \r\nz\r\n\" style=\"fill:#1f77b4;\"/>\r\n   </g>\r\n   <g id=\"patch_85\">\r\n    <path clip-path=\"url(#p52e9ec70ff)\" d=\"M 301.261989 224.64 \r\nL 304.305625 224.64 \r\nL 304.305625 218.549244 \r\nL 301.261989 218.549244 \r\nz\r\n\" style=\"fill:#1f77b4;\"/>\r\n   </g>\r\n   <g id=\"patch_86\">\r\n    <path clip-path=\"url(#p52e9ec70ff)\" d=\"M 304.305625 224.64 \r\nL 307.349261 224.64 \r\nL 307.349261 224.64 \r\nL 304.305625 224.64 \r\nz\r\n\" style=\"fill:#1f77b4;\"/>\r\n   </g>\r\n   <g id=\"patch_87\">\r\n    <path clip-path=\"url(#p52e9ec70ff)\" d=\"M 307.349261 224.64 \r\nL 310.392898 224.64 \r\nL 310.392898 224.030924 \r\nL 307.349261 224.030924 \r\nz\r\n\" style=\"fill:#1f77b4;\"/>\r\n   </g>\r\n   <g id=\"patch_88\">\r\n    <path clip-path=\"url(#p52e9ec70ff)\" d=\"M 310.392898 224.64 \r\nL 313.436534 224.64 \r\nL 313.436534 220.376471 \r\nL 310.392898 220.376471 \r\nz\r\n\" style=\"fill:#1f77b4;\"/>\r\n   </g>\r\n   <g id=\"patch_89\">\r\n    <path clip-path=\"url(#p52e9ec70ff)\" d=\"M 313.436534 224.64 \r\nL 316.48017 224.64 \r\nL 316.48017 222.203697 \r\nL 313.436534 222.203697 \r\nz\r\n\" style=\"fill:#1f77b4;\"/>\r\n   </g>\r\n   <g id=\"patch_90\">\r\n    <path clip-path=\"url(#p52e9ec70ff)\" d=\"M 316.48017 224.64 \r\nL 319.523807 224.64 \r\nL 319.523807 222.203697 \r\nL 316.48017 222.203697 \r\nz\r\n\" style=\"fill:#1f77b4;\"/>\r\n   </g>\r\n   <g id=\"patch_91\">\r\n    <path clip-path=\"url(#p52e9ec70ff)\" d=\"M 319.523807 224.64 \r\nL 322.567443 224.64 \r\nL 322.567443 224.64 \r\nL 319.523807 224.64 \r\nz\r\n\" style=\"fill:#1f77b4;\"/>\r\n   </g>\r\n   <g id=\"patch_92\">\r\n    <path clip-path=\"url(#p52e9ec70ff)\" d=\"M 322.567443 224.64 \r\nL 325.61108 224.64 \r\nL 325.61108 224.030924 \r\nL 322.567443 224.030924 \r\nz\r\n\" style=\"fill:#1f77b4;\"/>\r\n   </g>\r\n   <g id=\"patch_93\">\r\n    <path clip-path=\"url(#p52e9ec70ff)\" d=\"M 325.61108 224.64 \r\nL 328.654716 224.64 \r\nL 328.654716 224.64 \r\nL 325.61108 224.64 \r\nz\r\n\" style=\"fill:#1f77b4;\"/>\r\n   </g>\r\n   <g id=\"patch_94\">\r\n    <path clip-path=\"url(#p52e9ec70ff)\" d=\"M 328.654716 224.64 \r\nL 331.698352 224.64 \r\nL 331.698352 224.64 \r\nL 328.654716 224.64 \r\nz\r\n\" style=\"fill:#1f77b4;\"/>\r\n   </g>\r\n   <g id=\"patch_95\">\r\n    <path clip-path=\"url(#p52e9ec70ff)\" d=\"M 331.698352 224.64 \r\nL 334.741989 224.64 \r\nL 334.741989 224.030924 \r\nL 331.698352 224.030924 \r\nz\r\n\" style=\"fill:#1f77b4;\"/>\r\n   </g>\r\n   <g id=\"patch_96\">\r\n    <path clip-path=\"url(#p52e9ec70ff)\" d=\"M 334.741989 224.64 \r\nL 337.785625 224.64 \r\nL 337.785625 224.64 \r\nL 334.741989 224.64 \r\nz\r\n\" style=\"fill:#1f77b4;\"/>\r\n   </g>\r\n   <g id=\"patch_97\">\r\n    <path clip-path=\"url(#p52e9ec70ff)\" d=\"M 337.785625 224.64 \r\nL 340.829261 224.64 \r\nL 340.829261 224.64 \r\nL 337.785625 224.64 \r\nz\r\n\" style=\"fill:#1f77b4;\"/>\r\n   </g>\r\n   <g id=\"patch_98\">\r\n    <path clip-path=\"url(#p52e9ec70ff)\" d=\"M 340.829261 224.64 \r\nL 343.872898 224.64 \r\nL 343.872898 224.64 \r\nL 340.829261 224.64 \r\nz\r\n\" style=\"fill:#1f77b4;\"/>\r\n   </g>\r\n   <g id=\"patch_99\">\r\n    <path clip-path=\"url(#p52e9ec70ff)\" d=\"M 343.872898 224.64 \r\nL 346.916534 224.64 \r\nL 346.916534 224.64 \r\nL 343.872898 224.64 \r\nz\r\n\" style=\"fill:#1f77b4;\"/>\r\n   </g>\r\n   <g id=\"patch_100\">\r\n    <path clip-path=\"url(#p52e9ec70ff)\" d=\"M 346.916534 224.64 \r\nL 349.96017 224.64 \r\nL 349.96017 224.64 \r\nL 346.916534 224.64 \r\nz\r\n\" style=\"fill:#1f77b4;\"/>\r\n   </g>\r\n   <g id=\"patch_101\">\r\n    <path clip-path=\"url(#p52e9ec70ff)\" d=\"M 349.96017 224.64 \r\nL 353.003807 224.64 \r\nL 353.003807 224.64 \r\nL 349.96017 224.64 \r\nz\r\n\" style=\"fill:#1f77b4;\"/>\r\n   </g>\r\n   <g id=\"patch_102\">\r\n    <path clip-path=\"url(#p52e9ec70ff)\" d=\"M 353.003807 224.64 \r\nL 356.047443 224.64 \r\nL 356.047443 224.030924 \r\nL 353.003807 224.030924 \r\nz\r\n\" style=\"fill:#1f77b4;\"/>\r\n   </g>\r\n   <g id=\"matplotlib.axis_1\">\r\n    <g id=\"xtick_1\">\r\n     <g id=\"line2d_1\">\r\n      <defs>\r\n       <path d=\"M 0 0 \r\nL 0 3.5 \r\n\" id=\"m1ef5ee2f5e\" style=\"stroke:#000000;stroke-width:0.8;\"/>\r\n      </defs>\r\n      <g>\r\n       <use style=\"stroke:#000000;stroke-width:0.8;\" x=\"57.829541\" xlink:href=\"#m1ef5ee2f5e\" y=\"224.64\"/>\r\n      </g>\r\n     </g>\r\n     <g id=\"text_1\">\r\n      <!-- −20 -->\r\n      <g transform=\"translate(47.277197 239.238437)scale(0.1 -0.1)\">\r\n       <defs>\r\n        <path d=\"M 678 2272 \r\nL 4684 2272 \r\nL 4684 1741 \r\nL 678 1741 \r\nL 678 2272 \r\nz\r\n\" id=\"DejaVuSans-2212\" transform=\"scale(0.015625)\"/>\r\n        <path d=\"M 1228 531 \r\nL 3431 531 \r\nL 3431 0 \r\nL 469 0 \r\nL 469 531 \r\nQ 828 903 1448 1529 \r\nQ 2069 2156 2228 2338 \r\nQ 2531 2678 2651 2914 \r\nQ 2772 3150 2772 3378 \r\nQ 2772 3750 2511 3984 \r\nQ 2250 4219 1831 4219 \r\nQ 1534 4219 1204 4116 \r\nQ 875 4013 500 3803 \r\nL 500 4441 \r\nQ 881 4594 1212 4672 \r\nQ 1544 4750 1819 4750 \r\nQ 2544 4750 2975 4387 \r\nQ 3406 4025 3406 3419 \r\nQ 3406 3131 3298 2873 \r\nQ 3191 2616 2906 2266 \r\nQ 2828 2175 2409 1742 \r\nQ 1991 1309 1228 531 \r\nz\r\n\" id=\"DejaVuSans-32\" transform=\"scale(0.015625)\"/>\r\n        <path d=\"M 2034 4250 \r\nQ 1547 4250 1301 3770 \r\nQ 1056 3291 1056 2328 \r\nQ 1056 1369 1301 889 \r\nQ 1547 409 2034 409 \r\nQ 2525 409 2770 889 \r\nQ 3016 1369 3016 2328 \r\nQ 3016 3291 2770 3770 \r\nQ 2525 4250 2034 4250 \r\nz\r\nM 2034 4750 \r\nQ 2819 4750 3233 4129 \r\nQ 3647 3509 3647 2328 \r\nQ 3647 1150 3233 529 \r\nQ 2819 -91 2034 -91 \r\nQ 1250 -91 836 529 \r\nQ 422 1150 422 2328 \r\nQ 422 3509 836 4129 \r\nQ 1250 4750 2034 4750 \r\nz\r\n\" id=\"DejaVuSans-30\" transform=\"scale(0.015625)\"/>\r\n       </defs>\r\n       <use xlink:href=\"#DejaVuSans-2212\"/>\r\n       <use x=\"83.789062\" xlink:href=\"#DejaVuSans-32\"/>\r\n       <use x=\"147.412109\" xlink:href=\"#DejaVuSans-30\"/>\r\n      </g>\r\n     </g>\r\n    </g>\r\n    <g id=\"xtick_2\">\r\n     <g id=\"line2d_2\">\r\n      <g>\r\n       <use style=\"stroke:#000000;stroke-width:0.8;\" x=\"123.190379\" xlink:href=\"#m1ef5ee2f5e\" y=\"224.64\"/>\r\n      </g>\r\n     </g>\r\n     <g id=\"text_2\">\r\n      <!-- −10 -->\r\n      <g transform=\"translate(112.638036 239.238437)scale(0.1 -0.1)\">\r\n       <defs>\r\n        <path d=\"M 794 531 \r\nL 1825 531 \r\nL 1825 4091 \r\nL 703 3866 \r\nL 703 4441 \r\nL 1819 4666 \r\nL 2450 4666 \r\nL 2450 531 \r\nL 3481 531 \r\nL 3481 0 \r\nL 794 0 \r\nL 794 531 \r\nz\r\n\" id=\"DejaVuSans-31\" transform=\"scale(0.015625)\"/>\r\n       </defs>\r\n       <use xlink:href=\"#DejaVuSans-2212\"/>\r\n       <use x=\"83.789062\" xlink:href=\"#DejaVuSans-31\"/>\r\n       <use x=\"147.412109\" xlink:href=\"#DejaVuSans-30\"/>\r\n      </g>\r\n     </g>\r\n    </g>\r\n    <g id=\"xtick_3\">\r\n     <g id=\"line2d_3\">\r\n      <g>\r\n       <use style=\"stroke:#000000;stroke-width:0.8;\" x=\"188.551218\" xlink:href=\"#m1ef5ee2f5e\" y=\"224.64\"/>\r\n      </g>\r\n     </g>\r\n     <g id=\"text_3\">\r\n      <!-- 0 -->\r\n      <g transform=\"translate(185.369968 239.238437)scale(0.1 -0.1)\">\r\n       <use xlink:href=\"#DejaVuSans-30\"/>\r\n      </g>\r\n     </g>\r\n    </g>\r\n    <g id=\"xtick_4\">\r\n     <g id=\"line2d_4\">\r\n      <g>\r\n       <use style=\"stroke:#000000;stroke-width:0.8;\" x=\"253.912056\" xlink:href=\"#m1ef5ee2f5e\" y=\"224.64\"/>\r\n      </g>\r\n     </g>\r\n     <g id=\"text_4\">\r\n      <!-- 10 -->\r\n      <g transform=\"translate(247.549556 239.238437)scale(0.1 -0.1)\">\r\n       <use xlink:href=\"#DejaVuSans-31\"/>\r\n       <use x=\"63.623047\" xlink:href=\"#DejaVuSans-30\"/>\r\n      </g>\r\n     </g>\r\n    </g>\r\n    <g id=\"xtick_5\">\r\n     <g id=\"line2d_5\">\r\n      <g>\r\n       <use style=\"stroke:#000000;stroke-width:0.8;\" x=\"319.272894\" xlink:href=\"#m1ef5ee2f5e\" y=\"224.64\"/>\r\n      </g>\r\n     </g>\r\n     <g id=\"text_5\">\r\n      <!-- 20 -->\r\n      <g transform=\"translate(312.910394 239.238437)scale(0.1 -0.1)\">\r\n       <use xlink:href=\"#DejaVuSans-32\"/>\r\n       <use x=\"63.623047\" xlink:href=\"#DejaVuSans-30\"/>\r\n      </g>\r\n     </g>\r\n    </g>\r\n   </g>\r\n   <g id=\"matplotlib.axis_2\">\r\n    <g id=\"ytick_1\">\r\n     <g id=\"line2d_6\">\r\n      <defs>\r\n       <path d=\"M 0 0 \r\nL -3.5 0 \r\n\" id=\"mf6b38243a8\" style=\"stroke:#000000;stroke-width:0.8;\"/>\r\n      </defs>\r\n      <g>\r\n       <use style=\"stroke:#000000;stroke-width:0.8;\" x=\"36.465625\" xlink:href=\"#mf6b38243a8\" y=\"224.64\"/>\r\n      </g>\r\n     </g>\r\n     <g id=\"text_6\">\r\n      <!-- 0.00 -->\r\n      <g transform=\"translate(7.2 228.439219)scale(0.1 -0.1)\">\r\n       <defs>\r\n        <path d=\"M 684 794 \r\nL 1344 794 \r\nL 1344 0 \r\nL 684 0 \r\nL 684 794 \r\nz\r\n\" id=\"DejaVuSans-2e\" transform=\"scale(0.015625)\"/>\r\n       </defs>\r\n       <use xlink:href=\"#DejaVuSans-30\"/>\r\n       <use x=\"63.623047\" xlink:href=\"#DejaVuSans-2e\"/>\r\n       <use x=\"95.410156\" xlink:href=\"#DejaVuSans-30\"/>\r\n       <use x=\"159.033203\" xlink:href=\"#DejaVuSans-30\"/>\r\n      </g>\r\n     </g>\r\n    </g>\r\n    <g id=\"ytick_2\">\r\n     <g id=\"line2d_7\">\r\n      <g>\r\n       <use style=\"stroke:#000000;stroke-width:0.8;\" x=\"36.465625\" xlink:href=\"#mf6b38243a8\" y=\"196.277378\"/>\r\n      </g>\r\n     </g>\r\n     <g id=\"text_7\">\r\n      <!-- 0.01 -->\r\n      <g transform=\"translate(7.2 200.076597)scale(0.1 -0.1)\">\r\n       <use xlink:href=\"#DejaVuSans-30\"/>\r\n       <use x=\"63.623047\" xlink:href=\"#DejaVuSans-2e\"/>\r\n       <use x=\"95.410156\" xlink:href=\"#DejaVuSans-30\"/>\r\n       <use x=\"159.033203\" xlink:href=\"#DejaVuSans-31\"/>\r\n      </g>\r\n     </g>\r\n    </g>\r\n    <g id=\"ytick_3\">\r\n     <g id=\"line2d_8\">\r\n      <g>\r\n       <use style=\"stroke:#000000;stroke-width:0.8;\" x=\"36.465625\" xlink:href=\"#mf6b38243a8\" y=\"167.914756\"/>\r\n      </g>\r\n     </g>\r\n     <g id=\"text_8\">\r\n      <!-- 0.02 -->\r\n      <g transform=\"translate(7.2 171.713975)scale(0.1 -0.1)\">\r\n       <use xlink:href=\"#DejaVuSans-30\"/>\r\n       <use x=\"63.623047\" xlink:href=\"#DejaVuSans-2e\"/>\r\n       <use x=\"95.410156\" xlink:href=\"#DejaVuSans-30\"/>\r\n       <use x=\"159.033203\" xlink:href=\"#DejaVuSans-32\"/>\r\n      </g>\r\n     </g>\r\n    </g>\r\n    <g id=\"ytick_4\">\r\n     <g id=\"line2d_9\">\r\n      <g>\r\n       <use style=\"stroke:#000000;stroke-width:0.8;\" x=\"36.465625\" xlink:href=\"#mf6b38243a8\" y=\"139.552134\"/>\r\n      </g>\r\n     </g>\r\n     <g id=\"text_9\">\r\n      <!-- 0.03 -->\r\n      <g transform=\"translate(7.2 143.351353)scale(0.1 -0.1)\">\r\n       <defs>\r\n        <path d=\"M 2597 2516 \r\nQ 3050 2419 3304 2112 \r\nQ 3559 1806 3559 1356 \r\nQ 3559 666 3084 287 \r\nQ 2609 -91 1734 -91 \r\nQ 1441 -91 1130 -33 \r\nQ 819 25 488 141 \r\nL 488 750 \r\nQ 750 597 1062 519 \r\nQ 1375 441 1716 441 \r\nQ 2309 441 2620 675 \r\nQ 2931 909 2931 1356 \r\nQ 2931 1769 2642 2001 \r\nQ 2353 2234 1838 2234 \r\nL 1294 2234 \r\nL 1294 2753 \r\nL 1863 2753 \r\nQ 2328 2753 2575 2939 \r\nQ 2822 3125 2822 3475 \r\nQ 2822 3834 2567 4026 \r\nQ 2313 4219 1838 4219 \r\nQ 1578 4219 1281 4162 \r\nQ 984 4106 628 3988 \r\nL 628 4550 \r\nQ 988 4650 1302 4700 \r\nQ 1616 4750 1894 4750 \r\nQ 2613 4750 3031 4423 \r\nQ 3450 4097 3450 3541 \r\nQ 3450 3153 3228 2886 \r\nQ 3006 2619 2597 2516 \r\nz\r\n\" id=\"DejaVuSans-33\" transform=\"scale(0.015625)\"/>\r\n       </defs>\r\n       <use xlink:href=\"#DejaVuSans-30\"/>\r\n       <use x=\"63.623047\" xlink:href=\"#DejaVuSans-2e\"/>\r\n       <use x=\"95.410156\" xlink:href=\"#DejaVuSans-30\"/>\r\n       <use x=\"159.033203\" xlink:href=\"#DejaVuSans-33\"/>\r\n      </g>\r\n     </g>\r\n    </g>\r\n    <g id=\"ytick_5\">\r\n     <g id=\"line2d_10\">\r\n      <g>\r\n       <use style=\"stroke:#000000;stroke-width:0.8;\" x=\"36.465625\" xlink:href=\"#mf6b38243a8\" y=\"111.189513\"/>\r\n      </g>\r\n     </g>\r\n     <g id=\"text_10\">\r\n      <!-- 0.04 -->\r\n      <g transform=\"translate(7.2 114.988731)scale(0.1 -0.1)\">\r\n       <defs>\r\n        <path d=\"M 2419 4116 \r\nL 825 1625 \r\nL 2419 1625 \r\nL 2419 4116 \r\nz\r\nM 2253 4666 \r\nL 3047 4666 \r\nL 3047 1625 \r\nL 3713 1625 \r\nL 3713 1100 \r\nL 3047 1100 \r\nL 3047 0 \r\nL 2419 0 \r\nL 2419 1100 \r\nL 313 1100 \r\nL 313 1709 \r\nL 2253 4666 \r\nz\r\n\" id=\"DejaVuSans-34\" transform=\"scale(0.015625)\"/>\r\n       </defs>\r\n       <use xlink:href=\"#DejaVuSans-30\"/>\r\n       <use x=\"63.623047\" xlink:href=\"#DejaVuSans-2e\"/>\r\n       <use x=\"95.410156\" xlink:href=\"#DejaVuSans-30\"/>\r\n       <use x=\"159.033203\" xlink:href=\"#DejaVuSans-34\"/>\r\n      </g>\r\n     </g>\r\n    </g>\r\n    <g id=\"ytick_6\">\r\n     <g id=\"line2d_11\">\r\n      <g>\r\n       <use style=\"stroke:#000000;stroke-width:0.8;\" x=\"36.465625\" xlink:href=\"#mf6b38243a8\" y=\"82.826891\"/>\r\n      </g>\r\n     </g>\r\n     <g id=\"text_11\">\r\n      <!-- 0.05 -->\r\n      <g transform=\"translate(7.2 86.62611)scale(0.1 -0.1)\">\r\n       <defs>\r\n        <path d=\"M 691 4666 \r\nL 3169 4666 \r\nL 3169 4134 \r\nL 1269 4134 \r\nL 1269 2991 \r\nQ 1406 3038 1543 3061 \r\nQ 1681 3084 1819 3084 \r\nQ 2600 3084 3056 2656 \r\nQ 3513 2228 3513 1497 \r\nQ 3513 744 3044 326 \r\nQ 2575 -91 1722 -91 \r\nQ 1428 -91 1123 -41 \r\nQ 819 9 494 109 \r\nL 494 744 \r\nQ 775 591 1075 516 \r\nQ 1375 441 1709 441 \r\nQ 2250 441 2565 725 \r\nQ 2881 1009 2881 1497 \r\nQ 2881 1984 2565 2268 \r\nQ 2250 2553 1709 2553 \r\nQ 1456 2553 1204 2497 \r\nQ 953 2441 691 2322 \r\nL 691 4666 \r\nz\r\n\" id=\"DejaVuSans-35\" transform=\"scale(0.015625)\"/>\r\n       </defs>\r\n       <use xlink:href=\"#DejaVuSans-30\"/>\r\n       <use x=\"63.623047\" xlink:href=\"#DejaVuSans-2e\"/>\r\n       <use x=\"95.410156\" xlink:href=\"#DejaVuSans-30\"/>\r\n       <use x=\"159.033203\" xlink:href=\"#DejaVuSans-35\"/>\r\n      </g>\r\n     </g>\r\n    </g>\r\n    <g id=\"ytick_7\">\r\n     <g id=\"line2d_12\">\r\n      <g>\r\n       <use style=\"stroke:#000000;stroke-width:0.8;\" x=\"36.465625\" xlink:href=\"#mf6b38243a8\" y=\"54.464269\"/>\r\n      </g>\r\n     </g>\r\n     <g id=\"text_12\">\r\n      <!-- 0.06 -->\r\n      <g transform=\"translate(7.2 58.263488)scale(0.1 -0.1)\">\r\n       <defs>\r\n        <path d=\"M 2113 2584 \r\nQ 1688 2584 1439 2293 \r\nQ 1191 2003 1191 1497 \r\nQ 1191 994 1439 701 \r\nQ 1688 409 2113 409 \r\nQ 2538 409 2786 701 \r\nQ 3034 994 3034 1497 \r\nQ 3034 2003 2786 2293 \r\nQ 2538 2584 2113 2584 \r\nz\r\nM 3366 4563 \r\nL 3366 3988 \r\nQ 3128 4100 2886 4159 \r\nQ 2644 4219 2406 4219 \r\nQ 1781 4219 1451 3797 \r\nQ 1122 3375 1075 2522 \r\nQ 1259 2794 1537 2939 \r\nQ 1816 3084 2150 3084 \r\nQ 2853 3084 3261 2657 \r\nQ 3669 2231 3669 1497 \r\nQ 3669 778 3244 343 \r\nQ 2819 -91 2113 -91 \r\nQ 1303 -91 875 529 \r\nQ 447 1150 447 2328 \r\nQ 447 3434 972 4092 \r\nQ 1497 4750 2381 4750 \r\nQ 2619 4750 2861 4703 \r\nQ 3103 4656 3366 4563 \r\nz\r\n\" id=\"DejaVuSans-36\" transform=\"scale(0.015625)\"/>\r\n       </defs>\r\n       <use xlink:href=\"#DejaVuSans-30\"/>\r\n       <use x=\"63.623047\" xlink:href=\"#DejaVuSans-2e\"/>\r\n       <use x=\"95.410156\" xlink:href=\"#DejaVuSans-30\"/>\r\n       <use x=\"159.033203\" xlink:href=\"#DejaVuSans-36\"/>\r\n      </g>\r\n     </g>\r\n    </g>\r\n    <g id=\"ytick_8\">\r\n     <g id=\"line2d_13\">\r\n      <g>\r\n       <use style=\"stroke:#000000;stroke-width:0.8;\" x=\"36.465625\" xlink:href=\"#mf6b38243a8\" y=\"26.101647\"/>\r\n      </g>\r\n     </g>\r\n     <g id=\"text_13\">\r\n      <!-- 0.07 -->\r\n      <g transform=\"translate(7.2 29.900866)scale(0.1 -0.1)\">\r\n       <defs>\r\n        <path d=\"M 525 4666 \r\nL 3525 4666 \r\nL 3525 4397 \r\nL 1831 0 \r\nL 1172 0 \r\nL 2766 4134 \r\nL 525 4134 \r\nL 525 4666 \r\nz\r\n\" id=\"DejaVuSans-37\" transform=\"scale(0.015625)\"/>\r\n       </defs>\r\n       <use xlink:href=\"#DejaVuSans-30\"/>\r\n       <use x=\"63.623047\" xlink:href=\"#DejaVuSans-2e\"/>\r\n       <use x=\"95.410156\" xlink:href=\"#DejaVuSans-30\"/>\r\n       <use x=\"159.033203\" xlink:href=\"#DejaVuSans-37\"/>\r\n      </g>\r\n     </g>\r\n    </g>\r\n   </g>\r\n   <g id=\"patch_103\">\r\n    <path d=\"M 36.465625 224.64 \r\nL 36.465625 7.2 \r\n\" style=\"fill:none;stroke:#000000;stroke-linecap:square;stroke-linejoin:miter;stroke-width:0.8;\"/>\r\n   </g>\r\n   <g id=\"patch_104\">\r\n    <path d=\"M 371.265625 224.64 \r\nL 371.265625 7.2 \r\n\" style=\"fill:none;stroke:#000000;stroke-linecap:square;stroke-linejoin:miter;stroke-width:0.8;\"/>\r\n   </g>\r\n   <g id=\"patch_105\">\r\n    <path d=\"M 36.465625 224.64 \r\nL 371.265625 224.64 \r\n\" style=\"fill:none;stroke:#000000;stroke-linecap:square;stroke-linejoin:miter;stroke-width:0.8;\"/>\r\n   </g>\r\n   <g id=\"patch_106\">\r\n    <path d=\"M 36.465625 7.2 \r\nL 371.265625 7.2 \r\n\" style=\"fill:none;stroke:#000000;stroke-linecap:square;stroke-linejoin:miter;stroke-width:0.8;\"/>\r\n   </g>\r\n   <g id=\"patch_107\">\r\n    <path d=\"M 325.54568 188.268393 \r\nQ 333.575261 205.546238 341.133652 221.81019 \r\n\" style=\"fill:none;stroke:#ff0000;stroke-linecap:round;\"/>\r\n    <path d=\"M 341.261581 217.339884 \r\nL 341.133652 221.81019 \r\nL 337.634165 219.025663 \r\n\" style=\"fill:none;stroke:#ff0000;stroke-linecap:round;\"/>\r\n   </g>\r\n   <g id=\"text_14\">\r\n    <!-- mean_diff -->\r\n    <g transform=\"translate(296.696171 182.096067)scale(0.1 -0.1)\">\r\n     <defs>\r\n      <path d=\"M 3328 2828 \r\nQ 3544 3216 3844 3400 \r\nQ 4144 3584 4550 3584 \r\nQ 5097 3584 5394 3201 \r\nQ 5691 2819 5691 2113 \r\nL 5691 0 \r\nL 5113 0 \r\nL 5113 2094 \r\nQ 5113 2597 4934 2840 \r\nQ 4756 3084 4391 3084 \r\nQ 3944 3084 3684 2787 \r\nQ 3425 2491 3425 1978 \r\nL 3425 0 \r\nL 2847 0 \r\nL 2847 2094 \r\nQ 2847 2600 2669 2842 \r\nQ 2491 3084 2119 3084 \r\nQ 1678 3084 1418 2786 \r\nQ 1159 2488 1159 1978 \r\nL 1159 0 \r\nL 581 0 \r\nL 581 3500 \r\nL 1159 3500 \r\nL 1159 2956 \r\nQ 1356 3278 1631 3431 \r\nQ 1906 3584 2284 3584 \r\nQ 2666 3584 2933 3390 \r\nQ 3200 3197 3328 2828 \r\nz\r\n\" id=\"DejaVuSans-6d\" transform=\"scale(0.015625)\"/>\r\n      <path d=\"M 3597 1894 \r\nL 3597 1613 \r\nL 953 1613 \r\nQ 991 1019 1311 708 \r\nQ 1631 397 2203 397 \r\nQ 2534 397 2845 478 \r\nQ 3156 559 3463 722 \r\nL 3463 178 \r\nQ 3153 47 2828 -22 \r\nQ 2503 -91 2169 -91 \r\nQ 1331 -91 842 396 \r\nQ 353 884 353 1716 \r\nQ 353 2575 817 3079 \r\nQ 1281 3584 2069 3584 \r\nQ 2775 3584 3186 3129 \r\nQ 3597 2675 3597 1894 \r\nz\r\nM 3022 2063 \r\nQ 3016 2534 2758 2815 \r\nQ 2500 3097 2075 3097 \r\nQ 1594 3097 1305 2825 \r\nQ 1016 2553 972 2059 \r\nL 3022 2063 \r\nz\r\n\" id=\"DejaVuSans-65\" transform=\"scale(0.015625)\"/>\r\n      <path d=\"M 2194 1759 \r\nQ 1497 1759 1228 1600 \r\nQ 959 1441 959 1056 \r\nQ 959 750 1161 570 \r\nQ 1363 391 1709 391 \r\nQ 2188 391 2477 730 \r\nQ 2766 1069 2766 1631 \r\nL 2766 1759 \r\nL 2194 1759 \r\nz\r\nM 3341 1997 \r\nL 3341 0 \r\nL 2766 0 \r\nL 2766 531 \r\nQ 2569 213 2275 61 \r\nQ 1981 -91 1556 -91 \r\nQ 1019 -91 701 211 \r\nQ 384 513 384 1019 \r\nQ 384 1609 779 1909 \r\nQ 1175 2209 1959 2209 \r\nL 2766 2209 \r\nL 2766 2266 \r\nQ 2766 2663 2505 2880 \r\nQ 2244 3097 1772 3097 \r\nQ 1472 3097 1187 3025 \r\nQ 903 2953 641 2809 \r\nL 641 3341 \r\nQ 956 3463 1253 3523 \r\nQ 1550 3584 1831 3584 \r\nQ 2591 3584 2966 3190 \r\nQ 3341 2797 3341 1997 \r\nz\r\n\" id=\"DejaVuSans-61\" transform=\"scale(0.015625)\"/>\r\n      <path d=\"M 3513 2113 \r\nL 3513 0 \r\nL 2938 0 \r\nL 2938 2094 \r\nQ 2938 2591 2744 2837 \r\nQ 2550 3084 2163 3084 \r\nQ 1697 3084 1428 2787 \r\nQ 1159 2491 1159 1978 \r\nL 1159 0 \r\nL 581 0 \r\nL 581 3500 \r\nL 1159 3500 \r\nL 1159 2956 \r\nQ 1366 3272 1645 3428 \r\nQ 1925 3584 2291 3584 \r\nQ 2894 3584 3203 3211 \r\nQ 3513 2838 3513 2113 \r\nz\r\n\" id=\"DejaVuSans-6e\" transform=\"scale(0.015625)\"/>\r\n      <path d=\"M 3263 -1063 \r\nL 3263 -1509 \r\nL -63 -1509 \r\nL -63 -1063 \r\nL 3263 -1063 \r\nz\r\n\" id=\"DejaVuSans-5f\" transform=\"scale(0.015625)\"/>\r\n      <path d=\"M 2906 2969 \r\nL 2906 4863 \r\nL 3481 4863 \r\nL 3481 0 \r\nL 2906 0 \r\nL 2906 525 \r\nQ 2725 213 2448 61 \r\nQ 2172 -91 1784 -91 \r\nQ 1150 -91 751 415 \r\nQ 353 922 353 1747 \r\nQ 353 2572 751 3078 \r\nQ 1150 3584 1784 3584 \r\nQ 2172 3584 2448 3432 \r\nQ 2725 3281 2906 2969 \r\nz\r\nM 947 1747 \r\nQ 947 1113 1208 752 \r\nQ 1469 391 1925 391 \r\nQ 2381 391 2643 752 \r\nQ 2906 1113 2906 1747 \r\nQ 2906 2381 2643 2742 \r\nQ 2381 3103 1925 3103 \r\nQ 1469 3103 1208 2742 \r\nQ 947 2381 947 1747 \r\nz\r\n\" id=\"DejaVuSans-64\" transform=\"scale(0.015625)\"/>\r\n      <path d=\"M 603 3500 \r\nL 1178 3500 \r\nL 1178 0 \r\nL 603 0 \r\nL 603 3500 \r\nz\r\nM 603 4863 \r\nL 1178 4863 \r\nL 1178 4134 \r\nL 603 4134 \r\nL 603 4863 \r\nz\r\n\" id=\"DejaVuSans-69\" transform=\"scale(0.015625)\"/>\r\n      <path d=\"M 2375 4863 \r\nL 2375 4384 \r\nL 1825 4384 \r\nQ 1516 4384 1395 4259 \r\nQ 1275 4134 1275 3809 \r\nL 1275 3500 \r\nL 2222 3500 \r\nL 2222 3053 \r\nL 1275 3053 \r\nL 1275 0 \r\nL 697 0 \r\nL 697 3053 \r\nL 147 3053 \r\nL 147 3500 \r\nL 697 3500 \r\nL 697 3744 \r\nQ 697 4328 969 4595 \r\nQ 1241 4863 1831 4863 \r\nL 2375 4863 \r\nz\r\n\" id=\"DejaVuSans-66\" transform=\"scale(0.015625)\"/>\r\n     </defs>\r\n     <use xlink:href=\"#DejaVuSans-6d\"/>\r\n     <use x=\"97.412109\" xlink:href=\"#DejaVuSans-65\"/>\r\n     <use x=\"158.935547\" xlink:href=\"#DejaVuSans-61\"/>\r\n     <use x=\"220.214844\" xlink:href=\"#DejaVuSans-6e\"/>\r\n     <use x=\"283.59375\" xlink:href=\"#DejaVuSans-5f\"/>\r\n     <use x=\"333.59375\" xlink:href=\"#DejaVuSans-64\"/>\r\n     <use x=\"397.070312\" xlink:href=\"#DejaVuSans-69\"/>\r\n     <use x=\"424.853516\" xlink:href=\"#DejaVuSans-66\"/>\r\n     <use x=\"460.058594\" xlink:href=\"#DejaVuSans-66\"/>\r\n    </g>\r\n   </g>\r\n  </g>\r\n </g>\r\n <defs>\r\n  <clipPath id=\"p52e9ec70ff\">\r\n   <rect height=\"217.44\" width=\"334.8\" x=\"36.465625\" y=\"7.2\"/>\r\n  </clipPath>\r\n </defs>\r\n</svg>\r\n",
      "image/png": "[encoded data removed]"
     },
     "metadata": {
      "needs_background": "light"
     }
    }
   ],
   "source": [
    "plt.hist(bs_diff_shifted, density=True, bins=100)\n",
    "plt.annotate('mean_diff', xy=(mean_diff, 0), xytext=(mean_diff-7, .015),\n",
    "            arrowprops={'arrowstyle': '->', 'color': 'red'});"
   ]
  },
  {
   "cell_type": "code",
   "execution_count": 120,
   "metadata": {
    "scrolled": false
   },
   "outputs": [
    {
     "output_type": "stream",
     "name": "stdout",
     "text": [
      "P value obtained using bootstraping = 0.000100\n"
     ]
    }
   ],
   "source": [
    "P_value_bs = np.sum(bs_diff_shifted >= mean_diff) / len(bs_diff_shifted)\n",
    "print(f\"P value obtained using bootstraping = {P_value_bs:7.6f}\")"
   ]
  }
 ],
 "metadata": {
  "kernelspec": {
   "name": "python3",
   "display_name": "Python 3.9.6 64-bit"
  },
  "language_info": {
   "codemirror_mode": {
    "name": "ipython",
    "version": 3
   },
   "file_extension": ".py",
   "mimetype": "text/x-python",
   "name": "python",
   "nbconvert_exporter": "python",
   "pygments_lexer": "ipython3",
   "version": "3.9.6"
  },
  "interpreter": {
   "hash": "b51595f36012c8da2bf2284ebbd8d377d5c2d31fa7484164f2d2bcda7a09b462"
  }
 },
 "nbformat": 4,
 "nbformat_minor": 2
}