{
 "cells": [
  {
   "cell_type": "markdown",
   "source": [
    "# Comparing two means: Unpaired t Test\r\n",
    "\r\n",
    "## Introduction\r\n",
    "\r\n",
    "Observations about the distribution of statistics on samples of random variables allow us to construct tests for hypotheses of difference or similarity. Such hypothesis testing is useful in itself for simple bivariate analysis in practice settings, but it will be particularly critical in later chapters in determining whether models are useful or not.\r\n",
    "\r\n",
    "The purpose of hypothesis testing is to establish a high degree of statistical certainty regarding a claim of difference in a population based on the properties of a sample. Consistent with a high burden of proof, we start from the hypothesis that there is no difference, called the *null hypothesis*.  We only reject the null hypothesis if the statistical properties of the sample data render it very unlikely, in which case we confirm the *alternative hypothesis* that a statistical difference does exist in the population.\r\n",
    "\r\n",
    "Most hypothesis tests can return a p-value, which is the maximum probability of finding the sample results (or results that are more extreme or unusual than the sample results) when the null hypothesis is true for the population. The analyst must decide on the level of p-value needed to reject the null hypothesis. This threshold is referred to as the significance level $\\alpha$ (alpha). A common standard is to set $\\alpha$ at 0.05.That is, we reject the null hypothesis if the p-value that we find for our sample results is less than 0.05. If we reject the null hypothesis at $\\alpha = 0.05$, this means that the results we observe in the sample are so extreme or unusual that they would only occur by chance at most 1 in 20 times if the null hypothesis were true. An alpha of 0.05 is not the only standard of certainty used in research and practice, and in some fields of study smaller alphas are the norm, particularly if erroneous conclusions might have very serious consequences.\r\n",
    "\r\n",
    "Three of the most common types of hypothesis tests are:\r\n",
    "\r\n",
    "1. Testing for a difference in the means of two groups -> calculate a **test statistic**.\r\n",
    "2. Testing for a non-zero correlation between two variables -> determine an **expected distribution** for that test statistic.\r\n",
    "3. Testing for a difference in frequency distributions between different categories -> determine where our calculated statistic falls in that distribution in order to assess the **likelihood of our sample** occurring if the null hypothesis is true."
   ],
   "metadata": {}
  },
  {
   "cell_type": "markdown",
   "source": [
    "## Descriptive statistics of the two samples"
   ],
   "metadata": {}
  },
  {
   "cell_type": "code",
   "execution_count": 1,
   "source": [
    "import numpy as np\r\n",
    "from scipy import stats\r\n",
    "import pingouin as pg\r\n",
    "\r\n",
    "import matplotlib.pyplot as plt\r\n",
    "import seaborn as sns"
   ],
   "outputs": [],
   "metadata": {}
  },
  {
   "cell_type": "code",
   "execution_count": 2,
   "source": [
    "# data from Table 30.1 (page 295)\r\n",
    "old = np.array([20.8, 2.8, 50, 33.3, 29.4, 38.9, 29.4, 52.6, 14.3])\r\n",
    "young=np.array([45.5, 55, 60.7, 61.5, 61.1, 65.5, 42.9, 37.5])"
   ],
   "outputs": [],
   "metadata": {}
  },
  {
   "cell_type": "markdown",
   "source": [
    "### Normality testing"
   ],
   "metadata": {}
  },
  {
   "cell_type": "code",
   "execution_count": 3,
   "source": [
    "k2, pval = stats.normaltest(old)\r\n",
    "print('old', f\"D'Agostino-Pearson omnibus K2={k2:.2f}\", f\"p-value={pval:.3f}\", sep='\\t')\r\n",
    "k2, pval = stats.normaltest(young)\r\n",
    "print('young', f\"D'Agostino-Pearson omnibus K2={k2:.2f}\", f\"p-value={pval:.3f}\", sep='\\t')\r\n",
    "\r\n",
    "tstat, pval = stats.shapiro(old)\r\n",
    "print('old', \"Shapiro-Wilk's normality test p-value\", round(pval, 3), sep='\\t')\r\n",
    "tstat, pval = stats.shapiro(young)\r\n",
    "print('young', \"Shapiro-Wilk's normality test p-value\", round(pval, 3), sep='\\t')\r\n",
    "# if the P value from a normality test is large, the data are not inconsistent with a Gaussian distribution "
   ],
   "outputs": [
    {
     "output_type": "stream",
     "name": "stdout",
     "text": [
      "old\tD'Agostino-Pearson omnibus K2=0.11\tp-value=0.947\n",
      "young\tD'Agostino-Pearson omnibus K2=1.75\tp-value=0.418\n",
      "old\tShapiro-Wilk's normality test p-value\t0.9\n",
      "young\tShapiro-Wilk's normality test p-value\t0.238\n"
     ]
    },
    {
     "output_type": "stream",
     "name": "stderr",
     "text": [
      "C:\\Users\\WIECKOWS\\AppData\\Local\\Programs\\Python\\Python39\\lib\\site-packages\\scipy\\stats\\stats.py:1541: UserWarning: kurtosistest only valid for n>=20 ... continuing anyway, n=9\n",
      "  warnings.warn(\"kurtosistest only valid for n>=20 ... continuing \"\n",
      "C:\\Users\\WIECKOWS\\AppData\\Local\\Programs\\Python\\Python39\\lib\\site-packages\\scipy\\stats\\stats.py:1541: UserWarning: kurtosistest only valid for n>=20 ... continuing anyway, n=8\n",
      "  warnings.warn(\"kurtosistest only valid for n>=20 ... continuing \"\n"
     ]
    }
   ],
   "metadata": {}
  },
  {
   "cell_type": "code",
   "execution_count": 4,
   "source": [
    "pg.normality(old)"
   ],
   "outputs": [
    {
     "output_type": "execute_result",
     "data": {
      "text/html": [
       "<div>\n",
       "<style scoped>\n",
       "    .dataframe tbody tr th:only-of-type {\n",
       "        vertical-align: middle;\n",
       "    }\n",
       "\n",
       "    .dataframe tbody tr th {\n",
       "        vertical-align: top;\n",
       "    }\n",
       "\n",
       "    .dataframe thead th {\n",
       "        text-align: right;\n",
       "    }\n",
       "</style>\n",
       "<table border=\"1\" class=\"dataframe\">\n",
       "  <thead>\n",
       "    <tr style=\"text-align: right;\">\n",
       "      <th></th>\n",
       "      <th>W</th>\n",
       "      <th>pval</th>\n",
       "      <th>normal</th>\n",
       "    </tr>\n",
       "  </thead>\n",
       "  <tbody>\n",
       "    <tr>\n",
       "      <th>0</th>\n",
       "      <td>0.970675</td>\n",
       "      <td>0.900443</td>\n",
       "      <td>True</td>\n",
       "    </tr>\n",
       "  </tbody>\n",
       "</table>\n",
       "</div>"
      ],
      "text/plain": [
       "          W      pval  normal\n",
       "0  0.970675  0.900443    True"
      ]
     },
     "metadata": {},
     "execution_count": 4
    }
   ],
   "metadata": {}
  },
  {
   "cell_type": "code",
   "execution_count": 5,
   "source": [
    "pg.normality(young)"
   ],
   "outputs": [
    {
     "output_type": "execute_result",
     "data": {
      "text/html": [
       "<div>\n",
       "<style scoped>\n",
       "    .dataframe tbody tr th:only-of-type {\n",
       "        vertical-align: middle;\n",
       "    }\n",
       "\n",
       "    .dataframe tbody tr th {\n",
       "        vertical-align: top;\n",
       "    }\n",
       "\n",
       "    .dataframe thead th {\n",
       "        text-align: right;\n",
       "    }\n",
       "</style>\n",
       "<table border=\"1\" class=\"dataframe\">\n",
       "  <thead>\n",
       "    <tr style=\"text-align: right;\">\n",
       "      <th></th>\n",
       "      <th>W</th>\n",
       "      <th>pval</th>\n",
       "      <th>normal</th>\n",
       "    </tr>\n",
       "  </thead>\n",
       "  <tbody>\n",
       "    <tr>\n",
       "      <th>0</th>\n",
       "      <td>0.890741</td>\n",
       "      <td>0.23777</td>\n",
       "      <td>True</td>\n",
       "    </tr>\n",
       "  </tbody>\n",
       "</table>\n",
       "</div>"
      ],
      "text/plain": [
       "          W     pval  normal\n",
       "0  0.890741  0.23777    True"
      ]
     },
     "metadata": {},
     "execution_count": 5
    }
   ],
   "metadata": {}
  },
  {
   "cell_type": "markdown",
   "source": [
    "### Testing the assumption of equal variances (_homoscedasticity_)"
   ],
   "metadata": {}
  },
  {
   "cell_type": "code",
   "execution_count": 6,
   "source": [
    "stats.describe(old), stats.describe(young)"
   ],
   "outputs": [
    {
     "output_type": "execute_result",
     "data": {
      "text/plain": [
       "(DescribeResult(nobs=9, minmax=(2.8, 52.6), mean=30.16666666666667, variance=259.0375, skewness=-0.17569385392311104, kurtosis=-0.8080848898945967),\n",
       " DescribeResult(nobs=8, minmax=(37.5, 65.5), mean=53.7125, variance=107.4069642857143, skewness=-0.4421628669270582, kurtosis=-1.3632352105713499))"
      ]
     },
     "metadata": {},
     "execution_count": 6
    }
   ],
   "metadata": {}
  },
  {
   "cell_type": "code",
   "execution_count": 7,
   "source": [
    "ratio_var = np.std(old, ddof=1) / np.std(young, ddof=1) # ratio of the variances of the two groups\r\n",
    "print(f\"The old individuals have an SD {ratio_var:.2f} times larger than that of young individuals.\")\r\n",
    "\r\n",
    "F_ratio = ratio_var**2\r\n",
    "print(f\"F ratio = {F_ratio:5.3f}\")\r\n",
    "\r\n",
    "p_val = 2 * (1 - stats.f.cdf(F_ratio, len(old)-1, len(young)-1)) # for two-sided (see Crawley, the R book, p.355)\r\n",
    "print(f\"P value for the F-test of equal variance={p_val:.4f}\")"
   ],
   "outputs": [
    {
     "output_type": "stream",
     "name": "stdout",
     "text": [
      "The old individuals have an SD 1.55 times larger than that of young individuals.\n",
      "F ratio = 2.412\n",
      "P value for the F-test of equal variance=0.2631\n"
     ]
    }
   ],
   "metadata": {}
  },
  {
   "cell_type": "markdown",
   "source": [
    "If the null hypothesis of equal variances were true, there would be a 26% chance that random sampling would result in this large discrepancy between the two SD values as observed here (or larger still).\r\n",
    "\r\n",
    "What if the P value is small, indicating that the assumption of equal variances is unlikely to be true? There is no real consensus, but in biology we may ignore the result. The t-test is fairly robust to violations of the assumption of equal variances as long as the sample size isn't tiny and the two samples have an equal, or nearly equal, number of observations."
   ],
   "metadata": {}
  },
  {
   "cell_type": "code",
   "execution_count": 8,
   "source": [
    "pg.homoscedasticity([young, old], method='levene') #test statistic W for Levene (using F-distribution), T for Bartlett (chi²)"
   ],
   "outputs": [
    {
     "output_type": "execute_result",
     "data": {
      "text/html": [
       "<div>\n",
       "<style scoped>\n",
       "    .dataframe tbody tr th:only-of-type {\n",
       "        vertical-align: middle;\n",
       "    }\n",
       "\n",
       "    .dataframe tbody tr th {\n",
       "        vertical-align: top;\n",
       "    }\n",
       "\n",
       "    .dataframe thead th {\n",
       "        text-align: right;\n",
       "    }\n",
       "</style>\n",
       "<table border=\"1\" class=\"dataframe\">\n",
       "  <thead>\n",
       "    <tr style=\"text-align: right;\">\n",
       "      <th></th>\n",
       "      <th>W</th>\n",
       "      <th>pval</th>\n",
       "      <th>equal_var</th>\n",
       "    </tr>\n",
       "  </thead>\n",
       "  <tbody>\n",
       "    <tr>\n",
       "      <th>levene</th>\n",
       "      <td>0.686405</td>\n",
       "      <td>0.420378</td>\n",
       "      <td>True</td>\n",
       "    </tr>\n",
       "  </tbody>\n",
       "</table>\n",
       "</div>"
      ],
      "text/plain": [
       "               W      pval  equal_var\n",
       "levene  0.686405  0.420378       True"
      ]
     },
     "metadata": {},
     "execution_count": 8
    }
   ],
   "metadata": {}
  },
  {
   "cell_type": "markdown",
   "source": [
    "### Visualization"
   ],
   "metadata": {}
  },
  {
   "cell_type": "code",
   "execution_count": 9,
   "source": [
    "sns.boxplot(data=[old, young]) # we can also plot a list of arrays!\r\n",
    "sns.swarmplot(data=[old, young], color='black', size=10)\r\n",
    "plt.ylabel(r\"%E$_{max}$\")\r\n",
    "plt.xticks([0,1], ['old', 'young']);"
   ],
   "outputs": [
    {
     "output_type": "display_data",
     "data": {
      "image/png": "[encoded data removed]",
      "text/plain": [
       "<Figure size 432x288 with 1 Axes>"
      ]
     },
     "metadata": {
      "needs_background": "light"
     }
    }
   ],
   "metadata": {}
  },
  {
   "cell_type": "markdown",
   "source": [
    "## Testing for a difference in means"
   ],
   "metadata": {}
  },
  {
   "cell_type": "code",
   "execution_count": 10,
   "source": [
    "mean_diff = np.mean(young) - np.mean(old)\r\n",
    "print(f\"mean difference = {mean_diff:5.3f}\")"
   ],
   "outputs": [
    {
     "output_type": "stream",
     "name": "stdout",
     "text": [
      "mean difference = 23.546\n"
     ]
    }
   ],
   "metadata": {}
  },
  {
   "cell_type": "code",
   "execution_count": 11,
   "source": [
    "stats.ttest_ind(young, old, equal_var=True)"
   ],
   "outputs": [
    {
     "output_type": "execute_result",
     "data": {
      "text/plain": [
       "Ttest_indResult(statistic=3.531487707161938, pvalue=0.0030218492023012695)"
      ]
     },
     "metadata": {},
     "execution_count": 11
    }
   ],
   "metadata": {}
  },
  {
   "cell_type": "code",
   "execution_count": 12,
   "source": [
    "# pingouin ttest method calls the scipy.ttest_ind method but also add some important information incl. CI\r\n",
    "pg.ttest(young, old, correction=False) # specify whether or not to correct for unequal variances using Welch separate variances T-test"
   ],
   "outputs": [
    {
     "output_type": "execute_result",
     "data": {
      "text/html": [
       "<div>\n",
       "<style scoped>\n",
       "    .dataframe tbody tr th:only-of-type {\n",
       "        vertical-align: middle;\n",
       "    }\n",
       "\n",
       "    .dataframe tbody tr th {\n",
       "        vertical-align: top;\n",
       "    }\n",
       "\n",
       "    .dataframe thead th {\n",
       "        text-align: right;\n",
       "    }\n",
       "</style>\n",
       "<table border=\"1\" class=\"dataframe\">\n",
       "  <thead>\n",
       "    <tr style=\"text-align: right;\">\n",
       "      <th></th>\n",
       "      <th>T</th>\n",
       "      <th>dof</th>\n",
       "      <th>alternative</th>\n",
       "      <th>p-val</th>\n",
       "      <th>CI95%</th>\n",
       "      <th>cohen-d</th>\n",
       "      <th>BF10</th>\n",
       "      <th>power</th>\n",
       "    </tr>\n",
       "  </thead>\n",
       "  <tbody>\n",
       "    <tr>\n",
       "      <th>T-test</th>\n",
       "      <td>3.531488</td>\n",
       "      <td>15</td>\n",
       "      <td>two-sided</td>\n",
       "      <td>0.003022</td>\n",
       "      <td>[9.33, 37.76]</td>\n",
       "      <td>1.715995</td>\n",
       "      <td>12.56</td>\n",
       "      <td>0.909532</td>\n",
       "    </tr>\n",
       "  </tbody>\n",
       "</table>\n",
       "</div>"
      ],
      "text/plain": [
       "               T  dof alternative     p-val          CI95%   cohen-d   BF10  \\\n",
       "T-test  3.531488   15   two-sided  0.003022  [9.33, 37.76]  1.715995  12.56   \n",
       "\n",
       "           power  \n",
       "T-test  0.909532  "
      ]
     },
     "metadata": {},
     "execution_count": 12
    }
   ],
   "metadata": {}
  },
  {
   "cell_type": "markdown",
   "source": [
    "Because the 95% CI of the mean difference does not include zero, we are 95% confident that the mean response in old individuals is less than the mean response in young ones."
   ],
   "metadata": {}
  },
  {
   "cell_type": "markdown",
   "source": [
    "### The t ratio for equal variance\r\n",
    "\r\n",
    "The P value is computed from the _t ratio_ which is computed from the difference between the two sample means and the SD and sample size of each group, such as\r\n",
    "\r\n",
    "$$ t = \\frac{(\\overline x_1 - \\overline x_2 - 0)}{\\sqrt{s^2(\\frac{1}{n_1} + \\frac{1}{n_2})}} = \\frac{(\\overline x_1 - \\overline x_2 - 0)}{s \\sqrt{\\frac{1}{n_1} + \\frac{1}{n_2}}} $$\r\n",
    "\r\n",
    "$$ s^2=\\frac{\\sum_{i=1}^{n_1}(x_i - \\overline x_1)^2 + \\sum_{j=1}^{n_2}(x_j - \\overline x_2)^2}{n_1+n_2-2} $$\r\n",
    "\r\n",
    "where $\\overline x_1$ and $\\overline x_2$ are the sample means, $s^2$ is the **pooled sample variance**, $n_1$ and $n_2$ are the sample sizes and $t$ is a Student t quantile with $n_1 + n_2 - 2$ degrees of freedom (Df).\r\n",
    "\r\n",
    "We can compute the **pooled standard deviation** as follows:\r\n",
    "\r\n",
    "$$ s = \\sqrt{\\frac{(n_1-1)\\sigma_1^2 + (n_2-1)\\sigma_2^2}{n_1+n_2-2}} $$"
   ],
   "metadata": {}
  },
  {
   "cell_type": "markdown",
   "source": [
    "#### What happens for 2 populations with same variance and same sample size?\r\n",
    "\r\n",
    "In the situation where $n_1 = n_2 = n$ and $\\sigma_1^2 = \\sigma_2^2 = \\sigma^2$, then\r\n",
    "\r\n",
    "$$ s = \\sqrt{\\frac{(n-1)\\sigma^2 + (n-1)\\sigma^2}{n + n - 2}} = \\sqrt{\\frac{2(n-1)\\sigma^2}{2 (n -1)}} = \\sigma $$\r\n",
    "\r\n",
    "Therefore\r\n",
    "\r\n",
    "$$ t = \\frac{\\overline x_1 - \\overline x_2}{\\sigma\\sqrt{2/n}} $$"
   ],
   "metadata": {}
  },
  {
   "cell_type": "code",
   "execution_count": 13,
   "source": [
    "n_old  = len(old)\r\n",
    "n_young= len(young)\r\n",
    "Df = n_old + n_young - 2 # this is true only for equal variances, otherwise use Welch-Satterthwaite method (see later)\r\n",
    "\r\n",
    "s_old = (n_old - 1)*np.std(old,  ddof=1)**2 # with SE = SD / sqrt(n)\r\n",
    "s_young=(n_young-1)*np.std(young,ddof=1)**2\r\n",
    "s_pooled = ((s_old + s_young) / Df)**.5\r\n",
    "\r\n",
    "SE_pooled = (s_pooled * (1/n_old + 1/n_young)**0.5)\r\n",
    "\r\n",
    "t_ratio = mean_diff / SE_pooled\r\n",
    "\r\n",
    "print(f\"t ratio = {t_ratio:.6f} with {Df} degrees of freedom, assuming equal variance, with pooled SE = {SE_pooled:.2f}\")"
   ],
   "outputs": [
    {
     "output_type": "stream",
     "name": "stdout",
     "text": [
      "t ratio = 3.531488 with 15 degrees of freedom, assuming equal variance, with pooled SE = 6.67\n"
     ]
    }
   ],
   "metadata": {}
  },
  {
   "cell_type": "code",
   "execution_count": 14,
   "source": [
    "t_ = stats.t(df=Df).ppf((1+.95)/2) # two-tailed\r\n",
    "\r\n",
    "CI_diff_mean = (mean_diff - t_ * SE_pooled, mean_diff + t_ * SE_pooled)\r\n",
    "\r\n",
    "print(f\"the mean difference {mean_diff:.2f} CI (95%) extends from {CI_diff_mean[0]:.3f} to {CI_diff_mean[1]:.3f}\")"
   ],
   "outputs": [
    {
     "output_type": "stream",
     "name": "stdout",
     "text": [
      "the mean difference 23.55 CI (95%) extends from 9.335 to 37.757\n"
     ]
    }
   ],
   "metadata": {}
  },
  {
   "cell_type": "markdown",
   "source": [
    "### t ratio and degrees of freedom for unequal variances\r\n",
    "\r\n",
    "For the situation of unequal variances, the Satterthwaite's approximate t test is used, a method in the Behrens-Welch family where $d$ is the Behrens-Welch test statistic evaluated as a Student t quantile with _df freedom using Satterthwaite's approximation_:\r\n",
    "\r\n",
    "$$d=(\\overline x_1 - \\overline x_2) / \\sqrt{\\frac{s_1^2}{n_1} + \\frac{s_2^2}{n_2}}$$\r\n",
    "\r\n",
    "Note that is often more robust, i.e. in detecting difference between means, to use the nonparametric Mann-Whitney test as an alternative method in the presence of unequal variances.\r\n",
    "\r\n",
    "We calculate the standard error of the combined sample using the formula:\r\n",
    "\r\n",
    "$$ s_\\mathrm{unequal} = \\sqrt{\\frac{\\sigma_1^2}{n_1} + \\frac{\\sigma_2^2}{n_2}} $$\r\n",
    "\r\n",
    "where $\\sigma_{\\mathrm{1}}$ and $\\sigma_{\\mathrm{2}}$ are the standard deviations of the two samples and $n_{\\mathrm{1}}$ and $n_{\\mathrm{2}}$ are the two sample sizes.\r\n",
    "\r\n",
    "We use a special formula called the [Welch-Satterthwaite approximation](https://en.wikipedia.org/wiki/Welch-Satterthwaite_equation) to calculate the degrees of freedom for the two samples\r\n",
    "\r\n",
    "$$ \\mathrm{DF} = \\frac{\\mathrm{s_\\mathrm{unequal}}^4}{\\frac{\\sigma_1^4}{n_1-1} + \\frac{\\sigma_2^4}{n_2-1}} $$"
   ],
   "metadata": {}
  },
  {
   "cell_type": "code",
   "execution_count": 26,
   "source": [
    "se_old =   np.std(old, ddof=1)   / n_old  **.5 # equivalent to stats.sem(old), with SE = SD / sqrt(n)\r\n",
    "se_young = np.std(young, ddof=1) / n_young**.5\r\n",
    "\r\n",
    "SE_pooled_unequal = (se_old**2 + se_young**2)**.5\r\n",
    "\r\n",
    "df_unequal = SE_pooled_unequal**4/(se_old**4/(len(old)-1) + se_young**4/(len(young)-1))\r\n",
    "\r\n",
    "t_ratio_unequal = mean_diff / SE_pooled_unequal\r\n",
    "print(f\"t ratio = {t_ratio_unequal:.6f} with {df_unequal:.4f} degrees of freedom, assuming unequal variance, with pooled SE = {SE_pooled_unequal:.2f}\")"
   ],
   "outputs": [
    {
     "output_type": "stream",
     "name": "stdout",
     "text": [
      "t ratio = 3.624246 with 13.7780 degrees of freedom, assuming unequal variance, with pooled SE = 6.50\n"
     ]
    }
   ],
   "metadata": {}
  },
  {
   "cell_type": "code",
   "execution_count": 25,
   "source": [
    "t_unequal = stats.t(df=df_unequal).ppf((1+.95)/2) # two-tailed\r\n",
    "\r\n",
    "CI_diff_mean_unequal = (mean_diff - t_unequal * SE_pooled_unequal, mean_diff + t_unequal * SE_pooled_unequal)\r\n",
    "\r\n",
    "print(f\"the mean difference {mean_diff:.2f} CI (95%) extends from {CI_diff_mean_unequal[0]:.3f} to {CI_diff_mean_unequal[1]:.3f}\")"
   ],
   "outputs": [
    {
     "output_type": "stream",
     "name": "stdout",
     "text": [
      "the mean difference 23.55 CI (95%) extends from 9.591 to 37.501\n"
     ]
    }
   ],
   "metadata": {}
  },
  {
   "cell_type": "markdown",
   "source": [
    "#### Confirmation with scipy.stats and pingouin methods"
   ],
   "metadata": {}
  },
  {
   "cell_type": "code",
   "execution_count": 20,
   "source": [
    "stats.ttest_ind(young, old, equal_var=False) # also called the Welch's t-test"
   ],
   "outputs": [
    {
     "output_type": "execute_result",
     "data": {
      "text/plain": [
       "Ttest_indResult(statistic=3.6242456851120375, pvalue=0.002828426914881655)"
      ]
     },
     "metadata": {},
     "execution_count": 20
    }
   ],
   "metadata": {}
  },
  {
   "cell_type": "code",
   "execution_count": 21,
   "source": [
    "pg.ttest(young, old, correction=True) # specify whether or not to correct for unequal variances using Welch separate variances T-test"
   ],
   "outputs": [
    {
     "output_type": "execute_result",
     "data": {
      "text/html": [
       "<div>\n",
       "<style scoped>\n",
       "    .dataframe tbody tr th:only-of-type {\n",
       "        vertical-align: middle;\n",
       "    }\n",
       "\n",
       "    .dataframe tbody tr th {\n",
       "        vertical-align: top;\n",
       "    }\n",
       "\n",
       "    .dataframe thead th {\n",
       "        text-align: right;\n",
       "    }\n",
       "</style>\n",
       "<table border=\"1\" class=\"dataframe\">\n",
       "  <thead>\n",
       "    <tr style=\"text-align: right;\">\n",
       "      <th></th>\n",
       "      <th>T</th>\n",
       "      <th>dof</th>\n",
       "      <th>alternative</th>\n",
       "      <th>p-val</th>\n",
       "      <th>CI95%</th>\n",
       "      <th>cohen-d</th>\n",
       "      <th>BF10</th>\n",
       "      <th>power</th>\n",
       "    </tr>\n",
       "  </thead>\n",
       "  <tbody>\n",
       "    <tr>\n",
       "      <th>T-test</th>\n",
       "      <td>3.624246</td>\n",
       "      <td>13.777968</td>\n",
       "      <td>two-sided</td>\n",
       "      <td>0.002828</td>\n",
       "      <td>[9.59, 37.5]</td>\n",
       "      <td>1.715995</td>\n",
       "      <td>14.51</td>\n",
       "      <td>0.909532</td>\n",
       "    </tr>\n",
       "  </tbody>\n",
       "</table>\n",
       "</div>"
      ],
      "text/plain": [
       "               T        dof alternative     p-val         CI95%   cohen-d  \\\n",
       "T-test  3.624246  13.777968   two-sided  0.002828  [9.59, 37.5]  1.715995   \n",
       "\n",
       "         BF10     power  \n",
       "T-test  14.51  0.909532  "
      ]
     },
     "metadata": {},
     "execution_count": 21
    }
   ],
   "metadata": {}
  },
  {
   "cell_type": "markdown",
   "source": [
    "### P value\r\n",
    "\r\n",
    "To find the p-value by hand, we need to use the t-Distribution with Df degrees of freedom."
   ],
   "metadata": {}
  },
  {
   "cell_type": "code",
   "execution_count": 27,
   "source": [
    "pval = 2 * (1 - stats.t.cdf(x = abs(t_ratio), df=Df))  # two-sided pvalue = Prob(abs(t)>t_ratio)\r\n",
    "print(f\"The P value = {pval:.7f}, assuming equal variance\")\r\n",
    "\r\n",
    "pval_unequal = 2 * (1 - stats.t.cdf(x = abs(t_ratio_unequal), df=df_unequal))  # two-sided pvalue = Prob(abs(t)>t_ratio)\r\n",
    "print(f\"The P value = {pval_unequal:.7f}, assuming unequal variance\")"
   ],
   "outputs": [
    {
     "output_type": "stream",
     "name": "stdout",
     "text": [
      "The P value = 0.0030218, assuming equal variance\n",
      "The P value = 0.0028284, assuming unequal variance\n"
     ]
    }
   ],
   "metadata": {}
  },
  {
   "cell_type": "markdown",
   "source": [
    "#### Visualization of the t-critical value and t-statistic"
   ],
   "metadata": {}
  },
  {
   "cell_type": "code",
   "execution_count": 28,
   "source": [
    "x = np.linspace(start = -4, stop = 4, num = int(1e5))\r\n",
    "hx = stats.t.pdf(x, df = Df)\r\n",
    "\r\n",
    "# Plot the density\r\n",
    "fig, ax = plt.subplots(num = 2, figsize = (9, 6))\r\n",
    "plt.plot(x, hx, color = \"black\")\r\n",
    "plt.margins(y = 0)\r\n",
    "plt.ylim((0, 0.41))\r\n",
    "# Shade the probability p-value\r\n",
    "plt.fill_between(x[x <= t_ratio], hx[x <= t_ratio], edgecolor = None, color = 'limegreen')\r\n",
    "# plot the observed t-statictic:\r\n",
    "plt.axvline(x = t_ratio, color = \"darkgreen\", linestyle = \"--\")\r\n",
    "# Shade the probability alpha / 2\r\n",
    "plt.fill_between(\r\n",
    "    x[x <= -np.abs(t_)], hx[x <= -np.abs(t_)],\r\n",
    "    edgecolor = \"orangered\", linestyle = \"-\", linewidth = 2, facecolor = 'orangered')\r\n",
    "# Shade the probability 1 - alpha / 2\r\n",
    "plt.fill_between(\r\n",
    "    x[x >= np.abs(t_)], hx[x >= np.abs(t_)], \r\n",
    "    edgecolor = \"orangered\", linestyle = \"-\", linewidth = 2, facecolor = 'orangered')\r\n",
    "\r\n",
    "# plot the critical value -|t_c| and t_c|:\r\n",
    "plt.axvline(x = -np.abs(t_), color = \"red\", linestyle = \"--\")\r\n",
    "plt.axvline(x = np.abs(t_), color = \"red\", linestyle = \"--\")\r\n",
    "\r\n",
    "ax.set_xticks([-np.abs(t_), t_ratio, np.abs(t_)])\r\n",
    "ax.set_xticklabels([\"$-|t_c|$\", \"$t_{stat}$\", \"$|t_c|$\"], fontdict={'size': 12})\r\n",
    "ax.get_xticklabels()[0].set_color(\"red\")\r\n",
    "ax.get_xticklabels()[1].set_color(\"darkgreen\")\r\n",
    "ax.get_xticklabels()[2].set_color(\"red\")\r\n",
    "plt.ylabel('Density function', fontdict={'size': 14})\r\n",
    "plt.title(f\"P-value for the two-tail test for Df={Df}; $H_1: \\\\beta_1 \\\\neq 0$\", fontdict={'size': 16});"
   ],
   "outputs": [
    {
     "output_type": "display_data",
     "data": {
      "image/png": "[encoded data removed]",
      "text/plain": [
       "<Figure size 648x432 with 1 Axes>"
      ]
     },
     "metadata": {
      "needs_background": "light"
     }
    }
   ],
   "metadata": {}
  },
  {
   "cell_type": "markdown",
   "source": [
    "The red dashed lines in this diagram represent the 95% confidence interval around the mean difference of our two samples. The 'tails' of the curve outside of these two lines each represent a maximum of 0.025 probability for the true population mean. So we can see that the position of the green dot-dashed line can correspond to a *maximum probability* that the population mean difference is zero.\r\n",
    "This is the *p-value* of the hypothesis test. We call this type of hypothesis test a *two-tailed* test, because the tested population mean can be either higher or lower than the sample mean, thus it can appear in any of the two tails for the null hypothesis to be rejected. *One-tailed* tests are used when you are testing for an alternative hypothesis that the difference is specifically 'less than zero' or 'greater than zero'.\r\n",
    "\r\n",
    "The p-value can be derived by calculating the standard error multiple associated with zero in the $t$-distribution (called the *$t$-statistic* or *$t$-value*), by applying a conversion function to obtain the upper tail probability and then multiplying by 2 to get the probability associated with both tails of the distribution."
   ],
   "metadata": {}
  },
  {
   "cell_type": "markdown",
   "source": [
    "### Rules of thumbs for interpreting error bars that overlap or not\r\n",
    "\r\n",
    "|  Type  |    overlap    |  no overlap   |\r\n",
    "| ------ | ------------- | ------------- |\r\n",
    "|   SD   | no conclusion | no conclusion |\r\n",
    "|  SEM   |   P > 0.05    | no conclusion |\r\n",
    "| 95% CI | no conclusion |   P < 0.05    |"
   ],
   "metadata": {}
  },
  {
   "cell_type": "markdown",
   "source": [
    "### Methods with dataframes\r\n",
    "\r\n",
    "By using an appropriate hypothesis test, determine if the mean age of those who made a recent donation is different from those who did not."
   ],
   "metadata": {}
  },
  {
   "cell_type": "code",
   "execution_count": 29,
   "source": [
    "# let's get another toy dataset\r\n",
    "import peopleanalyticsdata as pad\r\n",
    "\r\n",
    "# pad.list_sets() # to get the list of the datasets included\r\n",
    "\r\n",
    "df = pad.charity_donation()\r\n",
    "# also from http://peopleanalytics-regression-book.org/data/charity_donation.csv\r\n",
    "\r\n",
    "df.head()"
   ],
   "outputs": [
    {
     "output_type": "execute_result",
     "data": {
      "text/html": [
       "<div>\n",
       "<style scoped>\n",
       "    .dataframe tbody tr th:only-of-type {\n",
       "        vertical-align: middle;\n",
       "    }\n",
       "\n",
       "    .dataframe tbody tr th {\n",
       "        vertical-align: top;\n",
       "    }\n",
       "\n",
       "    .dataframe thead th {\n",
       "        text-align: right;\n",
       "    }\n",
       "</style>\n",
       "<table border=\"1\" class=\"dataframe\">\n",
       "  <thead>\n",
       "    <tr style=\"text-align: right;\">\n",
       "      <th></th>\n",
       "      <th>n_donations</th>\n",
       "      <th>total_donations</th>\n",
       "      <th>time_donating</th>\n",
       "      <th>recent_donation</th>\n",
       "      <th>last_donation</th>\n",
       "      <th>gender</th>\n",
       "      <th>reside</th>\n",
       "      <th>age</th>\n",
       "    </tr>\n",
       "  </thead>\n",
       "  <tbody>\n",
       "    <tr>\n",
       "      <th>0</th>\n",
       "      <td>2</td>\n",
       "      <td>310</td>\n",
       "      <td>27</td>\n",
       "      <td>0</td>\n",
       "      <td>4</td>\n",
       "      <td>M</td>\n",
       "      <td>Urban Domestic</td>\n",
       "      <td>29</td>\n",
       "    </tr>\n",
       "    <tr>\n",
       "      <th>1</th>\n",
       "      <td>3</td>\n",
       "      <td>1200</td>\n",
       "      <td>22</td>\n",
       "      <td>0</td>\n",
       "      <td>6</td>\n",
       "      <td>M</td>\n",
       "      <td>Rural Domestic</td>\n",
       "      <td>41</td>\n",
       "    </tr>\n",
       "    <tr>\n",
       "      <th>2</th>\n",
       "      <td>3</td>\n",
       "      <td>1200</td>\n",
       "      <td>37</td>\n",
       "      <td>1</td>\n",
       "      <td>11</td>\n",
       "      <td>M</td>\n",
       "      <td>Urban Domestic</td>\n",
       "      <td>77</td>\n",
       "    </tr>\n",
       "    <tr>\n",
       "      <th>3</th>\n",
       "      <td>2</td>\n",
       "      <td>760</td>\n",
       "      <td>19</td>\n",
       "      <td>1</td>\n",
       "      <td>1</td>\n",
       "      <td>F</td>\n",
       "      <td>Overseas</td>\n",
       "      <td>66</td>\n",
       "    </tr>\n",
       "    <tr>\n",
       "      <th>4</th>\n",
       "      <td>6</td>\n",
       "      <td>2540</td>\n",
       "      <td>37</td>\n",
       "      <td>0</td>\n",
       "      <td>11</td>\n",
       "      <td>M</td>\n",
       "      <td>Urban Domestic</td>\n",
       "      <td>26</td>\n",
       "    </tr>\n",
       "  </tbody>\n",
       "</table>\n",
       "</div>"
      ],
      "text/plain": [
       "   n_donations  total_donations  time_donating  recent_donation  \\\n",
       "0            2              310             27                0   \n",
       "1            3             1200             22                0   \n",
       "2            3             1200             37                1   \n",
       "3            2              760             19                1   \n",
       "4            6             2540             37                0   \n",
       "\n",
       "   last_donation gender          reside  age  \n",
       "0              4      M  Urban Domestic   29  \n",
       "1              6      M  Rural Domestic   41  \n",
       "2             11      M  Urban Domestic   77  \n",
       "3              1      F        Overseas   66  \n",
       "4             11      M  Urban Domestic   26  "
      ]
     },
     "metadata": {},
     "execution_count": 29
    }
   ],
   "metadata": {}
  },
  {
   "cell_type": "code",
   "execution_count": 30,
   "source": [
    "# binary dependent variable\r\n",
    "df['recent_donation'].unique()"
   ],
   "outputs": [
    {
     "output_type": "execute_result",
     "data": {
      "text/plain": [
       "array([0, 1], dtype=int64)"
      ]
     },
     "metadata": {},
     "execution_count": 30
    }
   ],
   "metadata": {}
  },
  {
   "cell_type": "code",
   "execution_count": 31,
   "source": [
    "sns.boxplot(\r\n",
    "    x='recent_donation',\r\n",
    "    y='age',\r\n",
    "    data=df\r\n",
    ")\r\n",
    "\r\n",
    "sns.stripplot(\r\n",
    "    x='recent_donation',\r\n",
    "    y='age',\r\n",
    "    data=df,\r\n",
    "    color='black',\r\n",
    ");"
   ],
   "outputs": [
    {
     "output_type": "display_data",
     "data": {
      "image/png": "[encoded data removed]",
      "text/plain": [
       "<Figure size 432x288 with 1 Axes>"
      ]
     },
     "metadata": {
      "needs_background": "light"
     }
    }
   ],
   "metadata": {}
  },
  {
   "cell_type": "code",
   "execution_count": 32,
   "source": [
    "# we first check for equal variance, although it doesn't look True on the plot\r\n",
    "pg.homoscedasticity(\r\n",
    "    data=df,\r\n",
    "    dv='age', # long format dataframe\r\n",
    "    group='recent_donation'\r\n",
    ")"
   ],
   "outputs": [
    {
     "output_type": "execute_result",
     "data": {
      "text/html": [
       "<div>\n",
       "<style scoped>\n",
       "    .dataframe tbody tr th:only-of-type {\n",
       "        vertical-align: middle;\n",
       "    }\n",
       "\n",
       "    .dataframe tbody tr th {\n",
       "        vertical-align: top;\n",
       "    }\n",
       "\n",
       "    .dataframe thead th {\n",
       "        text-align: right;\n",
       "    }\n",
       "</style>\n",
       "<table border=\"1\" class=\"dataframe\">\n",
       "  <thead>\n",
       "    <tr style=\"text-align: right;\">\n",
       "      <th></th>\n",
       "      <th>W</th>\n",
       "      <th>pval</th>\n",
       "      <th>equal_var</th>\n",
       "    </tr>\n",
       "  </thead>\n",
       "  <tbody>\n",
       "    <tr>\n",
       "      <th>levene</th>\n",
       "      <td>14.446737</td>\n",
       "      <td>0.00017</td>\n",
       "      <td>False</td>\n",
       "    </tr>\n",
       "  </tbody>\n",
       "</table>\n",
       "</div>"
      ],
      "text/plain": [
       "                W     pval  equal_var\n",
       "levene  14.446737  0.00017      False"
      ]
     },
     "metadata": {},
     "execution_count": 32
    }
   ],
   "metadata": {}
  },
  {
   "cell_type": "code",
   "execution_count": 33,
   "source": [
    "# because the variances aren't equal, we use the Welch's t-test\r\n",
    "ix = df['recent_donation'] == 1\r\n",
    "\r\n",
    "pg.ttest(\r\n",
    "    x=df[ix] ['age'],\r\n",
    "    y=df[~ix]['age'],\r\n",
    "    correction=True, # Welch's t-test\r\n",
    ")"
   ],
   "outputs": [
    {
     "output_type": "execute_result",
     "data": {
      "text/html": [
       "<div>\n",
       "<style scoped>\n",
       "    .dataframe tbody tr th:only-of-type {\n",
       "        vertical-align: middle;\n",
       "    }\n",
       "\n",
       "    .dataframe tbody tr th {\n",
       "        vertical-align: top;\n",
       "    }\n",
       "\n",
       "    .dataframe thead th {\n",
       "        text-align: right;\n",
       "    }\n",
       "</style>\n",
       "<table border=\"1\" class=\"dataframe\">\n",
       "  <thead>\n",
       "    <tr style=\"text-align: right;\">\n",
       "      <th></th>\n",
       "      <th>T</th>\n",
       "      <th>dof</th>\n",
       "      <th>alternative</th>\n",
       "      <th>p-val</th>\n",
       "      <th>CI95%</th>\n",
       "      <th>cohen-d</th>\n",
       "      <th>BF10</th>\n",
       "      <th>power</th>\n",
       "    </tr>\n",
       "  </thead>\n",
       "  <tbody>\n",
       "    <tr>\n",
       "      <th>T-test</th>\n",
       "      <td>10.207145</td>\n",
       "      <td>105.150578</td>\n",
       "      <td>two-sided</td>\n",
       "      <td>2.069049e-17</td>\n",
       "      <td>[16.51, 24.48]</td>\n",
       "      <td>1.577989</td>\n",
       "      <td>2.514e+18</td>\n",
       "      <td>1.0</td>\n",
       "    </tr>\n",
       "  </tbody>\n",
       "</table>\n",
       "</div>"
      ],
      "text/plain": [
       "                T         dof alternative         p-val           CI95%  \\\n",
       "T-test  10.207145  105.150578   two-sided  2.069049e-17  [16.51, 24.48]   \n",
       "\n",
       "         cohen-d       BF10  power  \n",
       "T-test  1.577989  2.514e+18    1.0  "
      ]
     },
     "metadata": {},
     "execution_count": 33
    }
   ],
   "metadata": {}
  },
  {
   "cell_type": "code",
   "execution_count": 34,
   "source": [
    "# confirmed using pingouin\r\n",
    "pg.ttest(\r\n",
    "    x=df[ix] ['age'],\r\n",
    "    y=df[~ix]['age'],\r\n",
    "    correction='auto', # automatically uses Welch T-test when the sample sizes are unequal (default)\r\n",
    ")"
   ],
   "outputs": [
    {
     "output_type": "execute_result",
     "data": {
      "text/html": [
       "<div>\n",
       "<style scoped>\n",
       "    .dataframe tbody tr th:only-of-type {\n",
       "        vertical-align: middle;\n",
       "    }\n",
       "\n",
       "    .dataframe tbody tr th {\n",
       "        vertical-align: top;\n",
       "    }\n",
       "\n",
       "    .dataframe thead th {\n",
       "        text-align: right;\n",
       "    }\n",
       "</style>\n",
       "<table border=\"1\" class=\"dataframe\">\n",
       "  <thead>\n",
       "    <tr style=\"text-align: right;\">\n",
       "      <th></th>\n",
       "      <th>T</th>\n",
       "      <th>dof</th>\n",
       "      <th>alternative</th>\n",
       "      <th>p-val</th>\n",
       "      <th>CI95%</th>\n",
       "      <th>cohen-d</th>\n",
       "      <th>BF10</th>\n",
       "      <th>power</th>\n",
       "    </tr>\n",
       "  </thead>\n",
       "  <tbody>\n",
       "    <tr>\n",
       "      <th>T-test</th>\n",
       "      <td>10.207145</td>\n",
       "      <td>105.150578</td>\n",
       "      <td>two-sided</td>\n",
       "      <td>2.069049e-17</td>\n",
       "      <td>[16.51, 24.48]</td>\n",
       "      <td>1.577989</td>\n",
       "      <td>2.514e+18</td>\n",
       "      <td>1.0</td>\n",
       "    </tr>\n",
       "  </tbody>\n",
       "</table>\n",
       "</div>"
      ],
      "text/plain": [
       "                T         dof alternative         p-val           CI95%  \\\n",
       "T-test  10.207145  105.150578   two-sided  2.069049e-17  [16.51, 24.48]   \n",
       "\n",
       "         cohen-d       BF10  power  \n",
       "T-test  1.577989  2.514e+18    1.0  "
      ]
     },
     "metadata": {},
     "execution_count": 34
    }
   ],
   "metadata": {}
  },
  {
   "cell_type": "markdown",
   "source": [
    "### One-sided t-test\r\n",
    "\r\n",
    "By using an appropriate hypothesis test, determine if the age of those who have recently donated is at least 10 years older than those who have not recently donated in the population.\r\n",
    "\r\n",
    "We are trying to establish if $\\bar{x_1} - 10 > \\bar{x_0}$ in the population. Alternatively stated, we are testing if $\\overline{x_1 - 10} > \\bar{x_0}$ in the population, so we are doing a _t_-test in our sample to compare $x1 - 10$ with $x0$. Our null hypothesis is that there is no difference between the means of $x1 - 10$ and $x0$. Our alternative hypothesis is that the mean of $x1 - 10$ is greater than the mean of $x0$. This requires a one sided t-test."
   ],
   "metadata": {}
  },
  {
   "cell_type": "code",
   "execution_count": 35,
   "source": [
    "pg.ttest(\r\n",
    "    x=df[ix] ['age'] - 10,\r\n",
    "    y=df[~ix]['age'],\r\n",
    "    alternative='greater' #`greater` tests against the alternative hypothesis that the mean of x is greater than the mean of y\r\n",
    ")"
   ],
   "outputs": [
    {
     "output_type": "execute_result",
     "data": {
      "text/html": [
       "<div>\n",
       "<style scoped>\n",
       "    .dataframe tbody tr th:only-of-type {\n",
       "        vertical-align: middle;\n",
       "    }\n",
       "\n",
       "    .dataframe tbody tr th {\n",
       "        vertical-align: top;\n",
       "    }\n",
       "\n",
       "    .dataframe thead th {\n",
       "        text-align: right;\n",
       "    }\n",
       "</style>\n",
       "<table border=\"1\" class=\"dataframe\">\n",
       "  <thead>\n",
       "    <tr style=\"text-align: right;\">\n",
       "      <th></th>\n",
       "      <th>T</th>\n",
       "      <th>dof</th>\n",
       "      <th>alternative</th>\n",
       "      <th>p-val</th>\n",
       "      <th>CI95%</th>\n",
       "      <th>cohen-d</th>\n",
       "      <th>BF10</th>\n",
       "      <th>power</th>\n",
       "    </tr>\n",
       "  </thead>\n",
       "  <tbody>\n",
       "    <tr>\n",
       "      <th>T-test</th>\n",
       "      <td>5.226802</td>\n",
       "      <td>105.150578</td>\n",
       "      <td>greater</td>\n",
       "      <td>4.403095e-07</td>\n",
       "      <td>[7.16, inf]</td>\n",
       "      <td>0.808046</td>\n",
       "      <td>8.275e+04</td>\n",
       "      <td>1.0</td>\n",
       "    </tr>\n",
       "  </tbody>\n",
       "</table>\n",
       "</div>"
      ],
      "text/plain": [
       "               T         dof alternative         p-val        CI95%   cohen-d  \\\n",
       "T-test  5.226802  105.150578     greater  4.403095e-07  [7.16, inf]  0.808046   \n",
       "\n",
       "             BF10  power  \n",
       "T-test  8.275e+04    1.0  "
      ]
     },
     "metadata": {},
     "execution_count": 35
    }
   ],
   "metadata": {}
  },
  {
   "cell_type": "markdown",
   "source": [
    "The p-value of this test meets an alpha standard of 0.001 and this confirms the alternate hypothesis that those who donated are at least ten years older than those who did not."
   ],
   "metadata": {}
  },
  {
   "cell_type": "code",
   "execution_count": 37,
   "source": [
    "# alternatively we can use ttest_ind method from scipy.stats\r\n",
    "\r\n",
    "stats.ttest_ind(\r\n",
    "    df[ix] ['age'] - 10,\r\n",
    "    df[~ix]['age'],\r\n",
    "    equal_var=False,\r\n",
    "    alternative='greater', # defines the alternative hypothesis\r\n",
    ")"
   ],
   "outputs": [
    {
     "output_type": "execute_result",
     "data": {
      "text/plain": [
       "Ttest_indResult(statistic=5.2268021732859635, pvalue=4.4030947228348503e-07)"
      ]
     },
     "metadata": {},
     "execution_count": 37
    }
   ],
   "metadata": {}
  },
  {
   "cell_type": "code",
   "execution_count": 38,
   "source": [
    "stats.ttest_ind(\r\n",
    "    df[ix] ['age'],\r\n",
    "    df[~ix]['age'] + 10,\r\n",
    "    equal_var=False,\r\n",
    "    alternative='greater', # defines the alternative hypothesis\r\n",
    ")"
   ],
   "outputs": [
    {
     "output_type": "execute_result",
     "data": {
      "text/plain": [
       "Ttest_indResult(statistic=5.2268021732859635, pvalue=4.4030947228348503e-07)"
      ]
     },
     "metadata": {},
     "execution_count": 38
    }
   ],
   "metadata": {}
  },
  {
   "cell_type": "code",
   "execution_count": 39,
   "source": [
    "# using statsmodels\r\n",
    "import statsmodels.api as sm\r\n",
    "\r\n",
    "sm.stats.ttest_ind(\r\n",
    "    df[ix] ['age'],\r\n",
    "    df[~ix]['age'],\r\n",
    "    usevar='unequal',\r\n",
    "    alternative='larger',\r\n",
    "    value=10 # difference between the means under the null hypothesis\r\n",
    ")"
   ],
   "outputs": [
    {
     "output_type": "execute_result",
     "data": {
      "text/plain": [
       "(5.2268021732859635, 4.4030947228348514e-07, 105.15057759463707)"
      ]
     },
     "metadata": {},
     "execution_count": 39
    }
   ],
   "metadata": {}
  },
  {
   "cell_type": "markdown",
   "source": [
    "## Computing CI and P value with bootstraping\r\n",
    "\r\n",
    "The P value is obtained by computing the sampling distribution of a test statistic under the null hypothesis and then, the percentile of the observed test statistic in the distribution.\r\n",
    "\r\n",
    "Here H0 is that the data are equally distributed over the 2 groups, so H1 is that the groups are different, i.e. the difference of their means is different from 0.\r\n",
    "\r\n",
    "For bootstraping we use permutation replicate, with the **test statistic being the difference between the means**. The P value is therefore the probability of obtaining a value of the test statistic that is at least as extreme as what observed, under the assumption of H0.\r\n",
    "\r\n",
    "For testing for the same distribution, we use permutation test, for same mean, mean shifting as below."
   ],
   "metadata": {}
  },
  {
   "cell_type": "markdown",
   "source": [
    "### Mean Difference of the means and CI"
   ],
   "metadata": {}
  },
  {
   "cell_type": "code",
   "execution_count": 40,
   "source": [
    "# we create 10000 replicates of the difference of the means\r\n",
    "bs_old = np.array( [np.mean(np.random.choice(old, size=len(old)))    for _ in range(10000)])\r\n",
    "bs_young= np.array([np.mean(np.random.choice(young,size=len(young))) for _ in range(10000)])\r\n",
    "\r\n",
    "bs_mean_diff = bs_young - bs_old"
   ],
   "outputs": [],
   "metadata": {}
  },
  {
   "cell_type": "code",
   "execution_count": 41,
   "source": [
    "CI_mean_diff_bs = np.round(np.percentile(bs_mean_diff, [2.5, 97.5]), 2)\r\n",
    "print(f\"mean difference using bootstraping = {np.mean(bs_mean_diff):5.2f}\")\r\n",
    "print(f\"corresponding 95% CI of the mean difference of the means = {CI_mean_diff_bs}\")"
   ],
   "outputs": [
    {
     "output_type": "stream",
     "name": "stdout",
     "text": [
      "mean difference using bootstraping = 23.48\n",
      "corresponding 95% CI of the mean difference of the means = [11.4  35.61]\n"
     ]
    }
   ],
   "metadata": {}
  },
  {
   "cell_type": "markdown",
   "source": [
    "### Boostrap replicates"
   ],
   "metadata": {}
  },
  {
   "cell_type": "code",
   "execution_count": 42,
   "source": [
    "# We test H0 that data have the same mean\r\n",
    "combined_mean = np.mean(np.concatenate([old, young]))"
   ],
   "outputs": [],
   "metadata": {}
  },
  {
   "cell_type": "code",
   "execution_count": 43,
   "source": [
    "# We create shifts in both groups\r\n",
    "young_shifted = young - np.mean(young) + combined_mean\r\n",
    "old_shifted   = old   - np.mean(old)   + combined_mean"
   ],
   "outputs": [],
   "metadata": {}
  },
  {
   "cell_type": "code",
   "execution_count": 44,
   "source": [
    "# We draw bootstrap replicates with same size as the original dataset\r\n",
    "np.random.seed(999)\r\n",
    "bs_shifted_young = np.array([np.mean(np.random.choice(young_shifted, size=len(young))) for _ in range(10000)])\r\n",
    "bs_shifted_old   = np.array([np.mean(np.random.choice(old_shifted,   size=len(old)))   for _ in range(10000)])\r\n",
    "bs_diff_shifted  = bs_shifted_young - bs_shifted_old # same test statistic as for the original difference of the means"
   ],
   "outputs": [],
   "metadata": {}
  },
  {
   "cell_type": "code",
   "execution_count": 45,
   "source": [
    "plt.hist(bs_diff_shifted, density=True, bins=100)\r\n",
    "plt.annotate(\r\n",
    "    'mean_diff',\r\n",
    "    xy=(mean_diff, 0),\r\n",
    "    xytext=(mean_diff-7, .015),\r\n",
    "    arrowprops={'arrowstyle': '->', 'color': 'red'}\r\n",
    ");"
   ],
   "outputs": [
    {
     "output_type": "display_data",
     "data": {
      "image/png": "[encoded data removed]",
      "text/plain": [
       "<Figure size 432x288 with 1 Axes>"
      ]
     },
     "metadata": {
      "needs_background": "light"
     }
    }
   ],
   "metadata": {}
  },
  {
   "cell_type": "code",
   "execution_count": 46,
   "source": [
    "P_value_bs = np.sum(bs_diff_shifted >= mean_diff) / len(bs_diff_shifted)\r\n",
    "print(f\"P value obtained using bootstraping = {P_value_bs:7.6f}\")"
   ],
   "outputs": [
    {
     "output_type": "stream",
     "name": "stdout",
     "text": [
      "P value obtained using bootstraping = 0.000100\n"
     ]
    }
   ],
   "metadata": {
    "scrolled": false
   }
  }
 ],
 "metadata": {
  "kernelspec": {
   "name": "python3",
   "display_name": "Python 3.9.6 64-bit"
  },
  "language_info": {
   "codemirror_mode": {
    "name": "ipython",
    "version": 3
   },
   "file_extension": ".py",
   "mimetype": "text/x-python",
   "name": "python",
   "nbconvert_exporter": "python",
   "pygments_lexer": "ipython3",
   "version": "3.9.6"
  },
  "interpreter": {
   "hash": "35e05afc3bbf8458d25376a416e873cf169d04b2fc4efc2b77204c35b02a6d38"
  }
 },
 "nbformat": 4,
 "nbformat_minor": 2
}