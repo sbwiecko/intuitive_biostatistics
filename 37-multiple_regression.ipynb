{
 "cells": [
  {
   "cell_type": "markdown",
   "metadata": {},
   "source": [
    "# Definitions"
   ]
  },
  {
   "cell_type": "markdown",
   "metadata": {},
   "source": [
    "**Multiple regression** extends simple linear regression to allow for multiple independent (X) variables:  \n",
    "- to assess the impact of one variable after accounting for others,\n",
    "- to create an equation for making useful predictions,\n",
    "- to understand scientifically how much changes in each of several variables contribute to explaining an outcome of interest.  \n",
    "\n",
    "Multiple linear regression --> the outcome variable is continuous.  \n",
    "Logistic regression --> binary outcome.  \n",
    "Proportional hazards regression --> survival times."
   ]
  },
  {
   "cell_type": "markdown",
   "metadata": {},
   "source": [
    "A regression model predicts one variable Y from one or more other variables X.  \n",
    "The Y variable is called *dependent variable*, *the response variable*, or *the outcome variable*.  \n",
    "The X variables are called *independent variables*, *explanatory variables*, or *predictor variables*.  \n",
    "Each independent variable can be:\n",
    "+ continuous (e.g. age, blood pressure, weight)\n",
    "+ binary/dummy variable (e.g. code for gender)\n",
    "+ categorical with 3 or more categories (e.g. school classes, countries)"
   ]
  },
  {
   "cell_type": "markdown",
   "metadata": {},
   "source": [
    "The multiple regression model defines the dependent variables as a function of the independent variables and a set of parameters or *regression coefficients*. Regression methods find the values of each parameter that make the model predictions come as close as possible to the data. This approach is analoguous to linear regression.  \n",
    "Multiple regression is also called *multivariable regression* refering to models with 2 or more X variables."
   ]
  },
  {
   "cell_type": "markdown",
   "metadata": {},
   "source": [
    "Methods exist that can simultaneously analyze several outcomes (Y variables) at once = *multivariate methods*, e.g. factor analysis, cluster analysis, PCA and MANOVA. *Univariate methods* deal witha single Y."
   ]
  },
  {
   "cell_type": "markdown",
   "metadata": {},
   "source": [
    "# Data"
   ]
  },
  {
   "cell_type": "markdown",
   "metadata": {},
   "source": [
    "We will use the data from the MOOC 'Introducton à la statistique avec R' which deals with multiple regression."
   ]
  },
  {
   "cell_type": "code",
   "execution_count": 3,
   "metadata": {},
   "outputs": [],
   "source": [
    "import numpy as np\n",
    "import pandas as pd\n",
    "import matplotlib.pyplot as plt\n",
    "%matplotlib inline\n",
    "import statsmodels.api as sm"
   ]
  },
  {
   "cell_type": "code",
   "execution_count": 22,
   "metadata": {
    "scrolled": true
   },
   "outputs": [
    {
     "data": {
      "text/html": [
       "<div>\n",
       "<style scoped>\n",
       "    .dataframe tbody tr th:only-of-type {\n",
       "        vertical-align: middle;\n",
       "    }\n",
       "\n",
       "    .dataframe tbody tr th {\n",
       "        vertical-align: top;\n",
       "    }\n",
       "\n",
       "    .dataframe thead th {\n",
       "        text-align: right;\n",
       "    }\n",
       "</style>\n",
       "<table border=\"1\" class=\"dataframe\">\n",
       "  <thead>\n",
       "    <tr style=\"text-align: right;\">\n",
       "      <th></th>\n",
       "      <th>age</th>\n",
       "      <th>prof</th>\n",
       "      <th>duree</th>\n",
       "      <th>discip</th>\n",
       "      <th>n.enfant</th>\n",
       "      <th>n.fratrie</th>\n",
       "      <th>ecole</th>\n",
       "      <th>separation</th>\n",
       "      <th>juge.enfant</th>\n",
       "      <th>place</th>\n",
       "      <th>abus</th>\n",
       "      <th>grav.cons</th>\n",
       "      <th>dep.cons</th>\n",
       "      <th>ago.cons</th>\n",
       "      <th>ptsd.cons</th>\n",
       "      <th>alc.cons</th>\n",
       "      <th>subst.cons</th>\n",
       "      <th>scz.cons</th>\n",
       "      <th>char</th>\n",
       "      <th>rs</th>\n",
       "      <th>ed</th>\n",
       "      <th>dr</th>\n",
       "      <th>suicide.s</th>\n",
       "      <th>suicide.hr</th>\n",
       "      <th>suicide.past</th>\n",
       "      <th>dur.interv</th>\n",
       "    </tr>\n",
       "  </thead>\n",
       "  <tbody>\n",
       "    <tr>\n",
       "      <th>0</th>\n",
       "      <td>31.0</td>\n",
       "      <td>autre</td>\n",
       "      <td>4.0</td>\n",
       "      <td>0.0</td>\n",
       "      <td>2.0</td>\n",
       "      <td>4</td>\n",
       "      <td>1.0</td>\n",
       "      <td>0.0</td>\n",
       "      <td>0.0</td>\n",
       "      <td>0.0</td>\n",
       "      <td>0.0</td>\n",
       "      <td>1.0</td>\n",
       "      <td>0</td>\n",
       "      <td>1</td>\n",
       "      <td>0</td>\n",
       "      <td>0</td>\n",
       "      <td>0</td>\n",
       "      <td>0</td>\n",
       "      <td>1.0</td>\n",
       "      <td>2.0</td>\n",
       "      <td>1.0</td>\n",
       "      <td>1.0</td>\n",
       "      <td>0.0</td>\n",
       "      <td>0.0</td>\n",
       "      <td>0.0</td>\n",
       "      <td>NaN</td>\n",
       "    </tr>\n",
       "    <tr>\n",
       "      <th>1</th>\n",
       "      <td>49.0</td>\n",
       "      <td>NaN</td>\n",
       "      <td>NaN</td>\n",
       "      <td>0.0</td>\n",
       "      <td>7.0</td>\n",
       "      <td>3</td>\n",
       "      <td>2.0</td>\n",
       "      <td>1.0</td>\n",
       "      <td>0.0</td>\n",
       "      <td>0.0</td>\n",
       "      <td>0.0</td>\n",
       "      <td>2.0</td>\n",
       "      <td>0</td>\n",
       "      <td>0</td>\n",
       "      <td>0</td>\n",
       "      <td>0</td>\n",
       "      <td>0</td>\n",
       "      <td>0</td>\n",
       "      <td>1.0</td>\n",
       "      <td>2.0</td>\n",
       "      <td>2.0</td>\n",
       "      <td>1.0</td>\n",
       "      <td>0.0</td>\n",
       "      <td>0.0</td>\n",
       "      <td>0.0</td>\n",
       "      <td>70.0</td>\n",
       "    </tr>\n",
       "    <tr>\n",
       "      <th>2</th>\n",
       "      <td>50.0</td>\n",
       "      <td>prof.intermediaire</td>\n",
       "      <td>5.0</td>\n",
       "      <td>0.0</td>\n",
       "      <td>2.0</td>\n",
       "      <td>2</td>\n",
       "      <td>2.0</td>\n",
       "      <td>0.0</td>\n",
       "      <td>0.0</td>\n",
       "      <td>0.0</td>\n",
       "      <td>0.0</td>\n",
       "      <td>2.0</td>\n",
       "      <td>0</td>\n",
       "      <td>0</td>\n",
       "      <td>0</td>\n",
       "      <td>0</td>\n",
       "      <td>0</td>\n",
       "      <td>0</td>\n",
       "      <td>1.0</td>\n",
       "      <td>2.0</td>\n",
       "      <td>3.0</td>\n",
       "      <td>2.0</td>\n",
       "      <td>0.0</td>\n",
       "      <td>0.0</td>\n",
       "      <td>0.0</td>\n",
       "      <td>NaN</td>\n",
       "    </tr>\n",
       "    <tr>\n",
       "      <th>3</th>\n",
       "      <td>47.0</td>\n",
       "      <td>ouvrier</td>\n",
       "      <td>NaN</td>\n",
       "      <td>0.0</td>\n",
       "      <td>0.0</td>\n",
       "      <td>6</td>\n",
       "      <td>1.0</td>\n",
       "      <td>1.0</td>\n",
       "      <td>0.0</td>\n",
       "      <td>1.0</td>\n",
       "      <td>0.0</td>\n",
       "      <td>1.0</td>\n",
       "      <td>0</td>\n",
       "      <td>0</td>\n",
       "      <td>0</td>\n",
       "      <td>0</td>\n",
       "      <td>0</td>\n",
       "      <td>0</td>\n",
       "      <td>1.0</td>\n",
       "      <td>2.0</td>\n",
       "      <td>2.0</td>\n",
       "      <td>2.0</td>\n",
       "      <td>1.0</td>\n",
       "      <td>0.0</td>\n",
       "      <td>0.0</td>\n",
       "      <td>105.0</td>\n",
       "    </tr>\n",
       "    <tr>\n",
       "      <th>4</th>\n",
       "      <td>23.0</td>\n",
       "      <td>sans emploi</td>\n",
       "      <td>4.0</td>\n",
       "      <td>1.0</td>\n",
       "      <td>1.0</td>\n",
       "      <td>6</td>\n",
       "      <td>1.0</td>\n",
       "      <td>1.0</td>\n",
       "      <td>NaN</td>\n",
       "      <td>1.0</td>\n",
       "      <td>0.0</td>\n",
       "      <td>2.0</td>\n",
       "      <td>1</td>\n",
       "      <td>0</td>\n",
       "      <td>0</td>\n",
       "      <td>0</td>\n",
       "      <td>0</td>\n",
       "      <td>0</td>\n",
       "      <td>1.0</td>\n",
       "      <td>2.0</td>\n",
       "      <td>2.0</td>\n",
       "      <td>2.0</td>\n",
       "      <td>0.0</td>\n",
       "      <td>0.0</td>\n",
       "      <td>1.0</td>\n",
       "      <td>NaN</td>\n",
       "    </tr>\n",
       "  </tbody>\n",
       "</table>\n",
       "</div>"
      ],
      "text/plain": [
       "    age                prof  duree     ...      suicide.hr  suicide.past  dur.interv\n",
       "0  31.0               autre    4.0     ...             0.0           0.0         NaN\n",
       "1  49.0                 NaN    NaN     ...             0.0           0.0        70.0\n",
       "2  50.0  prof.intermediaire    5.0     ...             0.0           0.0         NaN\n",
       "3  47.0             ouvrier    NaN     ...             0.0           0.0       105.0\n",
       "4  23.0         sans emploi    4.0     ...             0.0           1.0         NaN\n",
       "\n",
       "[5 rows x 26 columns]"
      ]
     },
     "execution_count": 22,
     "metadata": {},
     "output_type": "execute_result"
    }
   ],
   "source": [
    "data = pd.read_csv('./data/smp2.csv', delimiter=';')\n",
    "data.head()"
   ]
  },
  {
   "cell_type": "code",
   "execution_count": 23,
   "metadata": {},
   "outputs": [
    {
     "name": "stdout",
     "output_type": "stream",
     "text": [
      "<class 'pandas.core.frame.DataFrame'>\n",
      "RangeIndex: 799 entries, 0 to 798\n",
      "Data columns (total 26 columns):\n",
      "age             797 non-null float64\n",
      "prof            793 non-null object\n",
      "duree           576 non-null float64\n",
      "discip          793 non-null float64\n",
      "n.enfant        773 non-null float64\n",
      "n.fratrie       799 non-null int64\n",
      "ecole           794 non-null float64\n",
      "separation      788 non-null float64\n",
      "juge.enfant     794 non-null float64\n",
      "place           792 non-null float64\n",
      "abus            792 non-null float64\n",
      "grav.cons       795 non-null float64\n",
      "dep.cons        799 non-null int64\n",
      "ago.cons        799 non-null int64\n",
      "ptsd.cons       799 non-null int64\n",
      "alc.cons        799 non-null int64\n",
      "subst.cons      799 non-null int64\n",
      "scz.cons        799 non-null int64\n",
      "char            703 non-null float64\n",
      "rs              696 non-null float64\n",
      "ed              692 non-null float64\n",
      "dr              688 non-null float64\n",
      "suicide.s       758 non-null float64\n",
      "suicide.hr      760 non-null float64\n",
      "suicide.past    785 non-null float64\n",
      "dur.interv      749 non-null float64\n",
      "dtypes: float64(18), int64(7), object(1)\n",
      "memory usage: 162.4+ KB\n"
     ]
    }
   ],
   "source": [
    "data.info()"
   ]
  },
  {
   "cell_type": "markdown",
   "metadata": {},
   "source": [
    "## Simple linear regression"
   ]
  },
  {
   "cell_type": "code",
   "execution_count": 27,
   "metadata": {},
   "outputs": [
    {
     "data": {
      "image/png": "[encoded data removed]",
      "text/plain": [
       "<Figure size 360x360 with 1 Axes>"
      ]
     },
     "metadata": {
      "needs_background": "light"
     },
     "output_type": "display_data"
    }
   ],
   "source": [
    "plt.figure(figsize=(5,5)).gca()\n",
    "plt.plot(data['dur.interv'], data['age'], 'bo', markersize=2, linestyle='None')\n",
    "plt.ylabel('Age')\n",
    "plt.xlabel(\"Durée d'intervention\");"
   ]
  },
  {
   "cell_type": "code",
   "execution_count": 115,
   "metadata": {},
   "outputs": [
    {
     "name": "stdout",
     "output_type": "stream",
     "text": [
      "                            OLS Regression Results                            \n",
      "==============================================================================\n",
      "Dep. Variable:                    age   R-squared:                       0.007\n",
      "Model:                            OLS   Adj. R-squared:                  0.006\n",
      "Method:                 Least Squares   F-statistic:                     5.516\n",
      "Date:                Fri, 19 Oct 2018   Prob (F-statistic):             0.0191\n",
      "Time:                        20:57:19   Log-Likelihood:                -2991.2\n",
      "No. Observations:                 747   AIC:                             5986.\n",
      "Df Residuals:                     745   BIC:                             5996.\n",
      "Df Model:                           1                                         \n",
      "Covariance Type:            nonrobust                                         \n",
      "==============================================================================\n",
      "                 coef    std err          t      P>|t|      [0.025      0.975]\n",
      "------------------------------------------------------------------------------\n",
      "const         35.4908      1.611     22.026      0.000      32.328      38.654\n",
      "dur.interv     0.0582      0.025      2.349      0.019       0.010       0.107\n",
      "==============================================================================\n",
      "Omnibus:                       43.795   Durbin-Watson:                   1.591\n",
      "Prob(Omnibus):                  0.000   Jarque-Bera (JB):               50.685\n",
      "Skew:                           0.637   Prob(JB):                     9.86e-12\n",
      "Kurtosis:                       2.925   Cond. No.                         216.\n",
      "==============================================================================\n",
      "\n",
      "Warnings:\n",
      "[1] Standard Errors assume that the covariance matrix of the errors is correctly specified.\n"
     ]
    }
   ],
   "source": [
    "data_ = data.dropna(subset=['age', 'dur.interv']) # drop any Nan in the indicated subset\n",
    "y = data_['age']\n",
    "X = data_['dur.interv']\n",
    "\n",
    "X = sm.add_constant(X)\n",
    "mod = sm.OLS(y, X)\n",
    "est = mod.fit()\n",
    "print(est.summary())"
   ]
  },
  {
   "cell_type": "markdown",
   "metadata": {},
   "source": [
    "## Multiple linear regression"
   ]
  },
  {
   "cell_type": "markdown",
   "metadata": {},
   "source": [
    "Let's compute of the parameters for independent variables *age*, *dep.cons*, *subst.cons* and *scz.cons* using the model:\n",
    "$$\n",
    "Y_i = \\beta_0 + \\beta_1.X_{i, age} + \\beta_2.X_{i, dep.cons} + \\beta_3.X_{i, subst.cons} + \\beta_4.X_{i, scz.cons} + \\epsilon_i\n",
    "$$\n",
    "with subscript _i_ refering to the particular participant, and with the 3 last variables designated as **dummy variables** because those values were chosen arbitrarily to designate two groups (yes or no)."
   ]
  },
  {
   "cell_type": "markdown",
   "metadata": {},
   "source": [
    "Each regression coefficient represents the average change in Y when we change the corresponding X value by 1.0. For example, $\\beta_4$ is the average difference in Y between those who have _scz.cons_ and those who don't.  \n",
    "The intercept $\\beta_0$ is the predicted average value of Y when all the X values are zero, and might only have a mathematical meaning."
   ]
  },
  {
   "cell_type": "code",
   "execution_count": 92,
   "metadata": {},
   "outputs": [
    {
     "name": "stdout",
     "output_type": "stream",
     "text": [
      "                            OLS Regression Results                            \n",
      "==============================================================================\n",
      "Dep. Variable:             dur.interv   R-squared:                       0.058\n",
      "Model:                            OLS   Adj. R-squared:                  0.053\n",
      "Method:                 Least Squares   F-statistic:                     11.49\n",
      "Date:                Fri, 19 Oct 2018   Prob (F-statistic):           4.69e-09\n",
      "Time:                        16:33:56   Log-Likelihood:                -3260.7\n",
      "No. Observations:                 747   AIC:                             6531.\n",
      "Df Residuals:                     742   BIC:                             6554.\n",
      "Df Model:                           4                                         \n",
      "Covariance Type:            nonrobust                                         \n",
      "==============================================================================\n",
      "                 coef    std err          t      P>|t|      [0.025      0.975]\n",
      "------------------------------------------------------------------------------\n",
      "const         48.9011      2.622     18.649      0.000      43.753      54.049\n",
      "age            0.2210      0.057      3.871      0.000       0.109       0.333\n",
      "dep.cons       7.3893      1.448      5.104      0.000       4.547      10.232\n",
      "subst.cons     5.2516      1.743      3.013      0.003       1.829       8.674\n",
      "scz.cons       2.2726      2.523      0.901      0.368      -2.681       7.226\n",
      "==============================================================================\n",
      "Omnibus:                       28.567   Durbin-Watson:                   1.072\n",
      "Prob(Omnibus):                  0.000   Jarque-Bera (JB):               31.557\n",
      "Skew:                           0.452   Prob(JB):                     1.40e-07\n",
      "Kurtosis:                       3.445   Cond. No.                         167.\n",
      "==============================================================================\n",
      "\n",
      "Warnings:\n",
      "[1] Standard Errors assume that the covariance matrix of the errors is correctly specified.\n"
     ]
    }
   ],
   "source": [
    "data_ = data.dropna(subset=['dur.interv', 'age', 'dep.cons', 'subst.cons', 'scz.cons'])\n",
    "y = data_['dur.interv']\n",
    "X = data_[['age', 'dep.cons', 'subst.cons', 'scz.cons']]\n",
    "\n",
    "X = sm.add_constant(X)\n",
    "mod = sm.OLS(y, X)\n",
    "est = mod.fit()\n",
    "print(est.summary())"
   ]
  },
  {
   "cell_type": "markdown",
   "metadata": {},
   "source": [
    "The investigator's goal was to answer the question, after adjusting for effects of the other variables, is there a substantial linear relationship between the *age* and *dur.interv*.  \n",
    "The best-fit value of $\\beta_1$ was 0.2210. This means that, on average, and after accounting for differences in the other variables, an increase in *age* of one unit is associated with an increase of *dur.interv* of 0.2210. The 95% CI ranges from 0.109 to 0.333.  \n",
    "For the dummy variables, for example *dep.cons*, $\\beta_2$ was 7.3893. That variable is coded as zero if the participant had no *dep.cons* and 1 if he had. Therefore, on average, participant who had *dep.cons* had an *dur.interv* that was 7.389 units higher that of participants who had not."
   ]
  },
  {
   "cell_type": "markdown",
   "metadata": {},
   "source": [
    "### Statistical significance"
   ]
  },
  {
   "cell_type": "markdown",
   "metadata": {},
   "source": [
    "Multiple regression computes a P value for each parameter in the model testing the null hypothesis that the true value of that parameter is zero. Why zero? When a regression coefficient equals zero, then the corresponding independent variable has **no effect in the model**.  \n",
    "The CI of $\\beta_4$ runs from a negative to a positive number, including the value defining H0, then the P value must be greater thant 0.05."
   ]
  },
  {
   "cell_type": "markdown",
   "metadata": {},
   "source": [
    "$R²$ equals 0.058, this means that only 5.8% of the variability in Y is explained by the model.  \n",
    "With multiple regression models which have more than two independent variables, we cannot visualize the best-fit line superimposed on the data. A way to visualize how well a multiple regression model fit the data is presented below.  \n",
    "For each point/participant, the prediction is computed from the other variables for that participant and the best-fit parameter values."
   ]
  },
  {
   "cell_type": "code",
   "execution_count": 79,
   "metadata": {},
   "outputs": [
    {
     "name": "stderr",
     "output_type": "stream",
     "text": [
      "c:\\program files\\python37\\lib\\site-packages\\ipykernel_launcher.py:1: SettingWithCopyWarning: \n",
      "A value is trying to be set on a copy of a slice from a DataFrame.\n",
      "Try using .loc[row_indexer,col_indexer] = value instead\n",
      "\n",
      "See the caveats in the documentation: http://pandas.pydata.org/pandas-docs/stable/indexing.html#indexing-view-versus-copy\n",
      "  \"\"\"Entry point for launching an IPython kernel.\n"
     ]
    }
   ],
   "source": [
    "data_['pred'] = est.predict(X)"
   ]
  },
  {
   "cell_type": "code",
   "execution_count": 76,
   "metadata": {},
   "outputs": [
    {
     "data": {
      "image/png": "[encoded data removed]",
      "text/plain": [
       "<Figure size 432x288 with 1 Axes>"
      ]
     },
     "metadata": {
      "needs_background": "light"
     },
     "output_type": "display_data"
    }
   ],
   "source": [
    "import seaborn as sns\n",
    "sns.regplot('dur.interv', 'pred', data=data_, ci=None, marker='+', \n",
    "            x_jitter=3, y_jitter=2, color='brown');"
   ]
  },
  {
   "cell_type": "code",
   "execution_count": 95,
   "metadata": {},
   "outputs": [
    {
     "data": {
      "image/png": "[encoded data removed]",
      "text/plain": [
       "<Figure size 432x288 with 1 Axes>"
      ]
     },
     "metadata": {
      "needs_background": "light"
     },
     "output_type": "display_data"
    }
   ],
   "source": [
    "plt.hist(est.resid, bins=10); # one of the validity condition for the multiple regression is\n",
    "# the absence of evident correlative structure in the distribution of the noise (residues)"
   ]
  },
  {
   "cell_type": "code",
   "execution_count": 50,
   "metadata": {},
   "outputs": [],
   "source": [
    "from scipy import stats"
   ]
  },
  {
   "cell_type": "code",
   "execution_count": 53,
   "metadata": {},
   "outputs": [
    {
     "name": "stdout",
     "output_type": "stream",
     "text": [
      "0.058329849335087426\n"
     ]
    }
   ],
   "source": [
    "Rsq = stats.pearsonr(data_['dur.interv'], data_['pred'])[0]**2\n",
    "print(Rsq)"
   ]
  },
  {
   "cell_type": "markdown",
   "metadata": {},
   "source": [
    "The predicted and actual data values are correlated, with $R²$ equal to 0.058. By definition this is identical to the overall $R²$ computed by multiple regression!"
   ]
  },
  {
   "cell_type": "markdown",
   "metadata": {},
   "source": [
    "Even if the independent variables are completely unable to predict the dependent variable, $R²$ will be greater than zero, limiting the usefulness of $R²$ as a way to quantify goodness of fit, especially with small sample sizes.  \n",
    "Adjusted $R²$ estimates how well the model is expected to fit new data. This measure accounts for the number od independent variables and is always smaller than $R²$.\n",
    "$$\n",
    "R^2_{adj} = 1 - \\left[\\frac{(1-R²)(n-1)}{n-k-1}\\right]\n",
    "$$"
   ]
  },
  {
   "cell_type": "code",
   "execution_count": 66,
   "metadata": {
    "scrolled": true
   },
   "outputs": [
    {
     "name": "stdout",
     "output_type": "stream",
     "text": [
      "R² adjusted = 0.053\n"
     ]
    }
   ],
   "source": [
    "n = est.nobs\n",
    "k = len(est.params) - 1 # minus 'const'\n",
    "Rsq_adj = 1 - ((1-Rsq)*(n-1)) / (n-k-1)\n",
    "print(f\"R² adjusted = {Rsq_adj:4.3f}\")"
   ]
  },
  {
   "cell_type": "markdown",
   "metadata": {},
   "source": [
    "Rules of thumb specify that the number of participants (n) should be somewhere between 10-40 times the number of variables (k). With ca. 800 participants, we may analyze 20 independent variables."
   ]
  },
  {
   "cell_type": "markdown",
   "metadata": {},
   "source": [
    "### Selection of the variable?"
   ]
  },
  {
   "cell_type": "markdown",
   "metadata": {},
   "source": [
    "The authors of the example presented in the chapter 37 of Intuitive Biostatistics 4th stated that the collected data for more variables for each participant and that the fit of the model was not improved when the model also account for smoking, mean blood pressure, residence in urban vs. rural etc. Consequently, the omitted these variables from the model whose fit they reported. In other words they computed a P value for each independent variable in the model, removed variables for which P values were greater than 0.05 and then reran the model wothout those variables (backward-stepwise selection of step-down).  \n",
    "\n",
    "Deciding how to construct models is a difficult problem..."
   ]
  },
  {
   "cell_type": "code",
   "execution_count": 80,
   "metadata": {},
   "outputs": [
    {
     "data": {
      "text/plain": [
       "Index(['age', 'prof', 'duree', 'discip', 'n.enfant', 'n.fratrie', 'ecole',\n",
       "       'separation', 'juge.enfant', 'place', 'abus', 'grav.cons', 'dep.cons',\n",
       "       'ago.cons', 'ptsd.cons', 'alc.cons', 'subst.cons', 'scz.cons', 'char',\n",
       "       'rs', 'ed', 'dr', 'suicide.s', 'suicide.hr', 'suicide.past',\n",
       "       'dur.interv'],\n",
       "      dtype='object')"
      ]
     },
     "execution_count": 80,
     "metadata": {},
     "output_type": "execute_result"
    }
   ],
   "source": [
    "data.columns"
   ]
  },
  {
   "cell_type": "code",
   "execution_count": 81,
   "metadata": {
    "scrolled": true
   },
   "outputs": [
    {
     "name": "stdout",
     "output_type": "stream",
     "text": [
      "                 Results: Ordinary least squares\n",
      "==================================================================\n",
      "Model:              OLS              Adj. R-squared:     0.071    \n",
      "Dependent Variable: dur.interv       AIC:                6310.4284\n",
      "Date:               2018-10-19 15:40 BIC:                6351.6667\n",
      "No. Observations:   722              Log-Likelihood:     -3146.2  \n",
      "Df Model:           8                F-statistic:        7.891    \n",
      "Df Residuals:       713              Prob (F-statistic): 3.33e-10 \n",
      "R-squared:          0.081            Scale:              361.38   \n",
      "-------------------------------------------------------------------\n",
      "                Coef.   Std.Err.     t     P>|t|    [0.025   0.975]\n",
      "-------------------------------------------------------------------\n",
      "const          44.2043    3.1398  14.0788  0.0000  38.0400  50.3687\n",
      "age             0.1943    0.0636   3.0545  0.0023   0.0694   0.3192\n",
      "n.enfant        0.8929    0.4232   2.1100  0.0352   0.0621   1.7236\n",
      "grav.cons       1.3273    0.5282   2.5126  0.0122   0.2902   2.3644\n",
      "dep.cons        5.3050    1.6507   3.2138  0.0014   2.0642   8.5458\n",
      "ago.cons       -2.0663    2.0192  -1.0233  0.3065  -6.0305   1.8980\n",
      "alc.cons        4.6952    1.9905   2.3588  0.0186   0.7873   8.6032\n",
      "subst.cons      4.2152    1.8435   2.2865  0.0225   0.5958   7.8346\n",
      "scz.cons        0.4231    2.6815   0.1578  0.8747  -4.8415   5.6878\n",
      "------------------------------------------------------------------\n",
      "Omnibus:               26.097       Durbin-Watson:          1.077 \n",
      "Prob(Omnibus):         0.000        Jarque-Bera (JB):       28.298\n",
      "Skew:                  0.446        Prob(JB):               0.000 \n",
      "Kurtosis:              3.381        Condition No.:          191   \n",
      "==================================================================\n",
      "\n"
     ]
    }
   ],
   "source": [
    "# let's try to fit the data with more variables\n",
    "var = ['age', 'n.enfant', 'grav.cons', 'dep.cons', 'ago.cons', 'alc.cons', \n",
    "       'subst.cons', 'scz.cons']\n",
    "data_ = data.dropna(subset=['dur.interv']+var)\n",
    "\n",
    "y = data_['dur.interv']\n",
    "X = data_[var]\n",
    "\n",
    "X = sm.add_constant(X)\n",
    "mod = sm.OLS(y, X)\n",
    "est = mod.fit()\n",
    "print(est.summary2())"
   ]
  },
  {
   "cell_type": "markdown",
   "metadata": {},
   "source": [
    "## Interactions among independent variables"
   ]
  },
  {
   "cell_type": "markdown",
   "metadata": {},
   "source": [
    "What if the effects of one variable matter more with another variable? To include interaction between 2 variables, add a new term in the model equation with a new parameter multiplyied by the product of e.g. dep.cons ($X_2$) times subst.cons ($X_3$):\n",
    "$$\n",
    "Y_i = \\beta_0 + \\beta_1.X_{i, age} + \\beta_2.X_{i, dep.cons} + \\beta_3.X_{i, subst.cons} + \\beta_4.X_{i, scz.cons} + \\beta_{2,3}.X_{i, dep.cons}.X_{i, subst.cons} + \\epsilon_i\n",
    "$$"
   ]
  },
  {
   "cell_type": "code",
   "execution_count": 103,
   "metadata": {},
   "outputs": [
    {
     "name": "stdout",
     "output_type": "stream",
     "text": [
      "                 Results: Ordinary least squares\n",
      "==================================================================\n",
      "Model:              OLS              Adj. R-squared:     0.054    \n",
      "Dependent Variable: dur.interv       AIC:                6531.3868\n",
      "Date:               2018-10-19 16:56 BIC:                6559.0831\n",
      "No. Observations:   747              Log-Likelihood:     -3259.7  \n",
      "Df Model:           5                F-statistic:        9.588    \n",
      "Df Residuals:       741              Prob (F-statistic): 7.02e-09 \n",
      "R-squared:          0.061            Scale:              364.17   \n",
      "-------------------------------------------------------------------\n",
      "                Coef.   Std.Err.     t     P>|t|    [0.025   0.975]\n",
      "-------------------------------------------------------------------\n",
      "const          49.5169    2.6579  18.6303  0.0000  44.2991  54.7348\n",
      "age             0.2173    0.0571   3.8045  0.0002   0.1052   0.3294\n",
      "dep.cons        6.1578    1.6977   3.6270  0.0003   2.8248   9.4908\n",
      "subst.cons      3.1724    2.2985   1.3802  0.1679  -1.3399   7.6848\n",
      "scz.cons        1.9723    2.5309   0.7793  0.4361  -2.9963   6.9410\n",
      "interaction     4.4969    3.2430   1.3867  0.1660  -1.8696  10.8634\n",
      "------------------------------------------------------------------\n",
      "Omnibus:               29.591       Durbin-Watson:          1.078 \n",
      "Prob(Omnibus):         0.000        Jarque-Bera (JB):       32.889\n",
      "Skew:                  0.459        Prob(JB):               0.000 \n",
      "Kurtosis:              3.462        Condition No.:          232   \n",
      "==================================================================\n",
      "\n"
     ]
    },
    {
     "name": "stderr",
     "output_type": "stream",
     "text": [
      "c:\\program files\\python37\\lib\\site-packages\\ipykernel_launcher.py:4: SettingWithCopyWarning: \n",
      "A value is trying to be set on a copy of a slice from a DataFrame.\n",
      "Try using .loc[row_indexer,col_indexer] = value instead\n",
      "\n",
      "See the caveats in the documentation: http://pandas.pydata.org/pandas-docs/stable/indexing.html#indexing-view-versus-copy\n",
      "  after removing the cwd from sys.path.\n"
     ]
    }
   ],
   "source": [
    "# let's try to fit the data with more variables\n",
    "var = ['age', 'dep.cons', 'subst.cons', 'scz.cons']\n",
    "data_ = data.dropna(subset=['dur.interv']+var)\n",
    "data_['interaction'] = data['dep.cons']*data['subst.cons'] # math multiplication\n",
    "\n",
    "y = data_['dur.interv']\n",
    "X = data_[var+['interaction']]\n",
    "\n",
    "X = sm.add_constant(X)\n",
    "mod = sm.OLS(y, X)\n",
    "est = mod.fit()\n",
    "print(est.summary2())"
   ]
  },
  {
   "cell_type": "markdown",
   "metadata": {},
   "source": [
    "ATTENTION, the effects of the single variables of the interaction cannont be interpreted..."
   ]
  },
  {
   "cell_type": "markdown",
   "metadata": {},
   "source": [
    "### patsy formula (R-style)"
   ]
  },
  {
   "cell_type": "code",
   "execution_count": 138,
   "metadata": {},
   "outputs": [
    {
     "name": "stdout",
     "output_type": "stream",
     "text": [
      "                       Results: Ordinary least squares\n",
      "=============================================================================\n",
      "Model:                   OLS                 Adj. R-squared:        0.040    \n",
      "Dependent Variable:      Q('dur.interv')     AIC:                   6540.6674\n",
      "Date:                    2018-10-20 14:24    BIC:                   6559.1317\n",
      "No. Observations:        747                 Log-Likelihood:        -3266.3  \n",
      "Df Model:                3                   F-statistic:           11.38    \n",
      "Df Residuals:            743                 Prob (F-statistic):    2.66e-07 \n",
      "R-squared:               0.044               Scale:                 369.70   \n",
      "-----------------------------------------------------------------------------\n",
      "                               Coef.  Std.Err.    t    P>|t|   [0.025  0.975]\n",
      "-----------------------------------------------------------------------------\n",
      "Intercept                     52.6832   2.3309 22.6022 0.0000 48.1073 57.2591\n",
      "age                            0.1966   0.0545  3.6083 0.0003  0.0896  0.3036\n",
      "Q('scz.cons')                  2.0508   2.5486  0.8047 0.4213 -2.9526  7.0541\n",
      "Q('dep.cons'):Q('subst.cons') 11.2797   2.1915  5.1469 0.0000  6.9774 15.5821\n",
      "-----------------------------------------------------------------------------\n",
      "Omnibus:                  29.466           Durbin-Watson:              1.088 \n",
      "Prob(Omnibus):            0.000            Jarque-Bera (JB):           32.326\n",
      "Skew:                     0.468            Prob(JB):                   0.000 \n",
      "Kurtosis:                 3.402            Condition No.:              154   \n",
      "=============================================================================\n",
      "\n"
     ]
    }
   ],
   "source": [
    "import statsmodels.formula.api as smf\n",
    "#statsmodels allows users to fit statistical models using R-style formulas. Internally, statsmodels uses the patsy \n",
    "#package to convert formulas and data to the matrices that are used in model fitting.\n",
    "\n",
    "model = smf.ols(formula=                                            # V\n",
    "                \"Q('dur.interv') ~ age + Q('scz.cons') + Q('dep.cons'):Q('subst.cons')\", \n",
    "                data=data_)\n",
    "# Q() is a way to ‘quote’ variable names, especially ones that do not otherwise \n",
    "# meet Python’s variable name rules, such as with a dot in the variable name\n",
    "\n",
    "#“:” adds a new column to the design matrix with the product of the other two columns.\n",
    "#“*” will also include the individual columns that were multiplied together:\n",
    "\n",
    "results = model.fit()\n",
    "print(results.summary2()) # R-style formula just works the same!"
   ]
  },
  {
   "cell_type": "code",
   "execution_count": 139,
   "metadata": {
    "scrolled": true
   },
   "outputs": [
    {
     "name": "stdout",
     "output_type": "stream",
     "text": [
      "                       Results: Ordinary least squares\n",
      "=============================================================================\n",
      "Model:                   OLS                 Adj. R-squared:        0.054    \n",
      "Dependent Variable:      Q('dur.interv')     AIC:                   6531.3868\n",
      "Date:                    2018-10-20 14:24    BIC:                   6559.0831\n",
      "No. Observations:        747                 Log-Likelihood:        -3259.7  \n",
      "Df Model:                5                   F-statistic:           9.588    \n",
      "Df Residuals:            741                 Prob (F-statistic):    7.02e-09 \n",
      "R-squared:               0.061               Scale:                 364.17   \n",
      "-----------------------------------------------------------------------------\n",
      "                               Coef.  Std.Err.    t    P>|t|   [0.025  0.975]\n",
      "-----------------------------------------------------------------------------\n",
      "Intercept                     49.5169   2.6579 18.6303 0.0000 44.2991 54.7348\n",
      "age                            0.2173   0.0571  3.8045 0.0002  0.1052  0.3294\n",
      "Q('scz.cons')                  1.9723   2.5309  0.7793 0.4361 -2.9963  6.9410\n",
      "Q('dep.cons')                  6.1578   1.6977  3.6270 0.0003  2.8248  9.4908\n",
      "Q('subst.cons')                3.1724   2.2985  1.3802 0.1679 -1.3399  7.6848\n",
      "Q('dep.cons'):Q('subst.cons')  4.4969   3.2430  1.3867 0.1660 -1.8696 10.8634\n",
      "-----------------------------------------------------------------------------\n",
      "Omnibus:                  29.591           Durbin-Watson:              1.078 \n",
      "Prob(Omnibus):            0.000            Jarque-Bera (JB):           32.889\n",
      "Skew:                     0.459            Prob(JB):                   0.000 \n",
      "Kurtosis:                 3.462            Condition No.:              232   \n",
      "=============================================================================\n",
      "\n"
     ]
    }
   ],
   "source": [
    "model = smf.ols(formula=                                            # V\n",
    "                \"Q('dur.interv') ~ age + Q('scz.cons') + Q('dep.cons')*Q('subst.cons')\", \n",
    "                data=data_)\n",
    "\n",
    "#“:” adds a new column to the design matrix with the product of the other two columns.\n",
    "#“*” will also include the individual columns that were multiplied together:\n",
    "\n",
    "results = model.fit()\n",
    "print(results.summary2())"
   ]
  },
  {
   "cell_type": "markdown",
   "metadata": {},
   "source": [
    "#### removal of the intercept parameter"
   ]
  },
  {
   "cell_type": "code",
   "execution_count": 136,
   "metadata": {},
   "outputs": [
    {
     "name": "stdout",
     "output_type": "stream",
     "text": [
      "                       Results: Ordinary least squares\n",
      "=============================================================================\n",
      "Model:                   OLS                 Adj. R-squared:        0.853    \n",
      "Dependent Variable:      Q('dur.interv')     AIC:                   6929.5606\n",
      "Date:                    2018-10-20 14:23    BIC:                   6943.4087\n",
      "No. Observations:        747                 Log-Likelihood:        -3461.8  \n",
      "Df Model:                3                   F-statistic:           1441.    \n",
      "Df Residuals:            744                 Prob (F-statistic):    2.40e-309\n",
      "R-squared:               0.853               Scale:                 623.06   \n",
      "-----------------------------------------------------------------------------\n",
      "                               Coef.  Std.Err.    t    P>|t|   [0.025  0.975]\n",
      "-----------------------------------------------------------------------------\n",
      "age                            1.3579   0.0235 57.7363 0.0000  1.3118  1.4041\n",
      "Q('scz.cons')                  6.6538   3.2980  2.0175 0.0440  0.1793 13.1283\n",
      "Q('dep.cons'):Q('subst.cons') 27.6992   2.6842 10.3195 0.0000 22.4298 32.9687\n",
      "-----------------------------------------------------------------------------\n",
      "Omnibus:                  2.927            Durbin-Watson:               1.402\n",
      "Prob(Omnibus):            0.231            Jarque-Bera (JB):            2.769\n",
      "Skew:                     0.120            Prob(JB):                    0.250\n",
      "Kurtosis:                 3.178            Condition No.:               152  \n",
      "=============================================================================\n",
      "\n"
     ]
    }
   ],
   "source": [
    "# intercept automatically added using patsy formula, can be removed usng -1\n",
    "model = smf.ols(formula=\n",
    "                \"Q('dur.interv') ~ age + Q('scz.cons') + Q('dep.cons'):Q('subst.cons') -1\", \n",
    "                data=data_)\n",
    "results = model.fit()\n",
    "print(results.summary2())"
   ]
  },
  {
   "cell_type": "markdown",
   "metadata": {},
   "source": [
    "We can also use functions like in $y$ ~ $a + a:b + np.log(x)$"
   ]
  },
  {
   "cell_type": "markdown",
   "metadata": {},
   "source": [
    "### Categorical variable > 2 classes"
   ]
  },
  {
   "cell_type": "code",
   "execution_count": 113,
   "metadata": {},
   "outputs": [
    {
     "data": {
      "text/plain": [
       "count         793\n",
       "unique          8\n",
       "top       ouvrier\n",
       "freq          227\n",
       "Name: prof, dtype: object"
      ]
     },
     "execution_count": 113,
     "metadata": {},
     "output_type": "execute_result"
    }
   ],
   "source": [
    "# let's introduce the categorical variable 'prof'\n",
    "data['prof'].describe()"
   ]
  },
  {
   "cell_type": "markdown",
   "metadata": {},
   "source": [
    "#### using pd.get_dummies"
   ]
  },
  {
   "cell_type": "code",
   "execution_count": 154,
   "metadata": {},
   "outputs": [],
   "source": [
    "# preparation of the subset, i.e. selection of the variables and dropna\n",
    "var = ['age', 'dep.cons', 'subst.cons', 'scz.cons', 'prof']\n",
    "df = data.dropna(subset=['dur.interv']+var)\n",
    "\n",
    "# getting dummies\n",
    "dummies = pd.get_dummies(df['prof'], drop_first=True)\n",
    "data_ = pd.concat([df, dummies], axis=1)"
   ]
  },
  {
   "cell_type": "code",
   "execution_count": 155,
   "metadata": {},
   "outputs": [
    {
     "data": {
      "text/plain": [
       "Index(['age', 'prof', 'duree', 'discip', 'n.enfant', 'n.fratrie', 'ecole',\n",
       "       'separation', 'juge.enfant', 'place', 'abus', 'grav.cons', 'dep.cons',\n",
       "       'ago.cons', 'ptsd.cons', 'alc.cons', 'subst.cons', 'scz.cons', 'char',\n",
       "       'rs', 'ed', 'dr', 'suicide.s', 'suicide.hr', 'suicide.past',\n",
       "       'dur.interv', 'artisan', 'autre', 'cadre', 'employe', 'ouvrier',\n",
       "       'prof.intermediaire', 'sans emploi'],\n",
       "      dtype='object')"
      ]
     },
     "execution_count": 155,
     "metadata": {},
     "output_type": "execute_result"
    }
   ],
   "source": [
    "data_.columns"
   ]
  },
  {
   "cell_type": "code",
   "execution_count": 157,
   "metadata": {},
   "outputs": [
    {
     "name": "stdout",
     "output_type": "stream",
     "text": [
      "                  Results: Ordinary least squares\n",
      "====================================================================\n",
      "Model:                OLS              Adj. R-squared:     0.052    \n",
      "Dependent Variable:   dur.interv       AIC:                6504.1550\n",
      "Date:                 2018-10-20 14:39 BIC:                6559.4834\n",
      "No. Observations:     743              Log-Likelihood:     -3240.1  \n",
      "Df Model:             11               F-statistic:        4.692    \n",
      "Df Residuals:         731              Prob (F-statistic): 5.82e-07 \n",
      "R-squared:            0.066            Scale:              365.04   \n",
      "--------------------------------------------------------------------\n",
      "                    Coef.   Std.Err.    t    P>|t|   [0.025   0.975]\n",
      "--------------------------------------------------------------------\n",
      "const               62.7920  10.2078  6.1514 0.0000  42.7519 82.8321\n",
      "age                  0.2129   0.0588  3.6180 0.0003   0.0974  0.3284\n",
      "dep.cons             7.3679   1.4584  5.0521 0.0000   4.5048 10.2311\n",
      "subst.cons           5.3459   1.7690  3.0220 0.0026   1.8729  8.8188\n",
      "scz.cons             2.5044   2.5473  0.9831 0.3259  -2.4966  7.5054\n",
      "artisan            -11.4851   9.8294 -1.1685 0.2430 -30.7823  7.8120\n",
      "autre              -10.2875  10.3348 -0.9954 0.3199 -30.5770 10.0020\n",
      "cadre              -19.2964  10.3857 -1.8580 0.0636 -39.6857  1.0930\n",
      "employe            -13.5581   9.7634 -1.3887 0.1654 -32.7257  5.6096\n",
      "ouvrier            -14.0127   9.7211 -1.4415 0.1499 -33.0973  5.0719\n",
      "prof.intermediaire -13.0193   9.9691 -1.3060 0.1920 -32.5908  6.5522\n",
      "sans emploi        -14.2787   9.7178 -1.4693 0.1422 -33.3568  4.7995\n",
      "--------------------------------------------------------------------\n",
      "Omnibus:               29.873        Durbin-Watson:           1.083 \n",
      "Prob(Omnibus):         0.000         Jarque-Bera (JB):        33.335\n",
      "Skew:                  0.461         Prob(JB):                0.000 \n",
      "Kurtosis:              3.475         Condition No.:           1615  \n",
      "====================================================================\n",
      "* The condition number is large (2e+03). This might indicate\n",
      "strong multicollinearity or other numerical problems.\n"
     ]
    }
   ],
   "source": [
    "var = ['age', 'dep.cons', 'subst.cons', 'scz.cons', \n",
    "        'artisan', 'autre', 'cadre', 'employe', 'ouvrier',\n",
    "       'prof.intermediaire', 'sans emploi']\n",
    "\n",
    "y = data_['dur.interv']\n",
    "X = data_[var]\n",
    "\n",
    "X = sm.add_constant(X)\n",
    "mod = sm.OLS(y, X)\n",
    "est = mod.fit()\n",
    "print(est.summary2())"
   ]
  },
  {
   "cell_type": "markdown",
   "metadata": {},
   "source": [
    "#### using patsy"
   ]
  },
  {
   "cell_type": "code",
   "execution_count": 123,
   "metadata": {},
   "outputs": [
    {
     "name": "stdout",
     "output_type": "stream",
     "text": [
      "                      Results: Ordinary least squares\n",
      "============================================================================\n",
      "Model:                  OLS                 Adj. R-squared:        0.052    \n",
      "Dependent Variable:     Q('dur.interv')     AIC:                   6504.1550\n",
      "Date:                   2018-10-19 21:12    BIC:                   6559.4834\n",
      "No. Observations:       743                 Log-Likelihood:        -3240.1  \n",
      "Df Model:               11                  F-statistic:           4.692    \n",
      "Df Residuals:           731                 Prob (F-statistic):    5.82e-07 \n",
      "R-squared:              0.066               Scale:                 365.04   \n",
      "----------------------------------------------------------------------------\n",
      "                            Coef.   Std.Err.    t    P>|t|   [0.025   0.975]\n",
      "----------------------------------------------------------------------------\n",
      "Intercept                   62.7920  10.2078  6.1514 0.0000  42.7519 82.8321\n",
      "prof[T.artisan]            -11.4851   9.8294 -1.1685 0.2430 -30.7823  7.8120\n",
      "prof[T.autre]              -10.2875  10.3348 -0.9954 0.3199 -30.5770 10.0020\n",
      "prof[T.cadre]              -19.2964  10.3857 -1.8580 0.0636 -39.6857  1.0930\n",
      "prof[T.employe]            -13.5581   9.7634 -1.3887 0.1654 -32.7257  5.6096\n",
      "prof[T.ouvrier]            -14.0127   9.7211 -1.4415 0.1499 -33.0973  5.0719\n",
      "prof[T.prof.intermediaire] -13.0193   9.9691 -1.3060 0.1920 -32.5908  6.5522\n",
      "prof[T.sans emploi]        -14.2787   9.7178 -1.4693 0.1422 -33.3568  4.7995\n",
      "age                          0.2129   0.0588  3.6180 0.0003   0.0974  0.3284\n",
      "Q('dep.cons')                7.3679   1.4584  5.0521 0.0000   4.5048 10.2311\n",
      "Q('subst.cons')              5.3459   1.7690  3.0220 0.0026   1.8729  8.8188\n",
      "Q('scz.cons')                2.5044   2.5473  0.9831 0.3259  -2.4966  7.5054\n",
      "----------------------------------------------------------------------------\n",
      "Omnibus:                 29.873           Durbin-Watson:              1.083 \n",
      "Prob(Omnibus):           0.000            Jarque-Bera (JB):           33.335\n",
      "Skew:                    0.461            Prob(JB):                   0.000 \n",
      "Kurtosis:                3.475            Condition No.:              1615  \n",
      "============================================================================\n",
      "* The condition number is large (2e+03). This might indicate\n",
      "strong multicollinearity or other numerical problems.\n"
     ]
    }
   ],
   "source": [
    "var = ['age', 'dep.cons', 'subst.cons', 'scz.cons', 'prof']\n",
    "data_ = data.dropna(subset=['dur.interv']+var)\n",
    "\n",
    "y = data_['dur.interv']\n",
    "X = data_[var]\n",
    "\n",
    "model = smf.ols(formula=\"Q('dur.interv') ~ age + Q('dep.cons') + Q('subst.cons') + Q(\\\n",
    "                'scz.cons') + prof\", data=data_)\n",
    "#patsy determined that elements of 'prof' were text strings, so it treated Prof as a categorical \n",
    "#variable. patsy’s default is also to include an intercept, so we automatically dropped one \n",
    "# of the Prof categories\n",
    "\n",
    "est = model.fit()\n",
    "print(est.summary2())"
   ]
  },
  {
   "cell_type": "markdown",
   "metadata": {},
   "source": [
    "#### relevel"
   ]
  },
  {
   "cell_type": "markdown",
   "metadata": {},
   "source": [
    "Using pc.get_dummies it is possible to not drop_first and then drop the new reference."
   ]
  },
  {
   "cell_type": "code",
   "execution_count": 158,
   "metadata": {
    "scrolled": true
   },
   "outputs": [
    {
     "name": "stdout",
     "output_type": "stream",
     "text": [
      "                                       Results: Ordinary least squares\n",
      "==============================================================================================================\n",
      "Model:                              OLS                            Adj. R-squared:                   0.052    \n",
      "Dependent Variable:                 Q('dur.interv')                AIC:                              6504.1550\n",
      "Date:                               2018-10-20 14:45               BIC:                              6559.4834\n",
      "No. Observations:                   743                            Log-Likelihood:                   -3240.1  \n",
      "Df Model:                           11                             F-statistic:                      4.692    \n",
      "Df Residuals:                       731                            Prob (F-statistic):               5.82e-07 \n",
      "R-squared:                          0.066                          Scale:                            365.04   \n",
      "--------------------------------------------------------------------------------------------------------------\n",
      "                                                               Coef.  Std.Err.    t    P>|t|   [0.025   0.975]\n",
      "--------------------------------------------------------------------------------------------------------------\n",
      "Intercept                                                     48.7793   2.8394 17.1796 0.0000  43.2050 54.3536\n",
      "C(prof, Treatment(reference='ouvrier'))[T.agriculteur]        14.0127   9.7211  1.4415 0.1499  -5.0719 33.0973\n",
      "C(prof, Treatment(reference='ouvrier'))[T.artisan]             2.5275   2.4899  1.0151 0.3104  -2.3606  7.4157\n",
      "C(prof, Treatment(reference='ouvrier'))[T.autre]               3.7252   3.9964  0.9321 0.3516  -4.1205 11.5710\n",
      "C(prof, Treatment(reference='ouvrier'))[T.cadre]              -5.2837   4.2557 -1.2416 0.2148 -13.6384  3.0711\n",
      "C(prof, Treatment(reference='ouvrier'))[T.employe]             0.4546   2.1266  0.2138 0.8308  -3.7203  4.6296\n",
      "C(prof, Treatment(reference='ouvrier'))[T.prof.intermediaire]  0.9934   2.9581  0.3358 0.7371  -4.8139  6.8008\n",
      "C(prof, Treatment(reference='ouvrier'))[T.sans emploi]        -0.2660   1.8773 -0.1417 0.8874  -3.9514  3.4195\n",
      "age                                                            0.2129   0.0588  3.6180 0.0003   0.0974  0.3284\n",
      "Q('dep.cons')                                                  7.3679   1.4584  5.0521 0.0000   4.5048 10.2311\n",
      "Q('subst.cons')                                                5.3459   1.7690  3.0220 0.0026   1.8729  8.8188\n",
      "Q('scz.cons')                                                  2.5044   2.5473  0.9831 0.3259  -2.4966  7.5054\n",
      "--------------------------------------------------------------------------------------------------------------\n",
      "Omnibus:                             29.873                      Durbin-Watson:                         1.083 \n",
      "Prob(Omnibus):                       0.000                       Jarque-Bera (JB):                      33.335\n",
      "Skew:                                0.461                       Prob(JB):                              0.000 \n",
      "Kurtosis:                            3.475                       Condition No.:                         574   \n",
      "==============================================================================================================\n",
      "\n"
     ]
    }
   ],
   "source": [
    "model = smf.ols(formula=\"Q('dur.interv') ~ age + Q('dep.cons') + Q('subst.cons') + Q(\\\n",
    "                'scz.cons') + C(prof, Treatment(reference='ouvrier'))\", data=data_)\n",
    "# If prof had been an integer variable that we wanted to treat explicitly as categorical, we \n",
    "# could have done so by using the C() operator, which by the way utilizes the Treatment relevel()\n",
    "\n",
    "est = model.fit()\n",
    "print(est.summary2())"
   ]
  }
 ],
 "metadata": {
  "kernelspec": {
   "display_name": "Python 3",
   "language": "python",
   "name": "python3"
  },
  "language_info": {
   "codemirror_mode": {
    "name": "ipython",
    "version": 3
   },
   "file_extension": ".py",
   "mimetype": "text/x-python",
   "name": "python",
   "nbconvert_exporter": "python",
   "pygments_lexer": "ipython3",
   "version": "3.7.0"
  }
 },
 "nbformat": 4,
 "nbformat_minor": 2
}
