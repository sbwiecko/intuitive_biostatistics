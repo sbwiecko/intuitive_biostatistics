{
 "cells": [
  {
   "cell_type": "markdown",
   "source": [
    "# Putting it all together\n",
    "\n",
    "## The key concepts of statistics\n",
    "\n",
    "See also [the essential concepts of statistics](https://www.graphpad.com/support/faqid/1486/)\n",
    "\n",
    "* Many statistical terms are also **ordinary words**\n",
    "* Statistics helps you make **general conclusions** from limited data\n",
    "* Statistical conclusions are always presented in terms of **probability**\n",
    "* All statistical tests are based on **assumptions**\n",
    "* The **SD and SEM** are quite different\n",
    "* **CIs** quantifies precision\n",
    "* Every P value tests a **null hypothesis**\n",
    "* The **sample size** has a huge effect on the P value\n",
    "* \"**Statistically significant**\" does not mean the effect is large or scientifically important\n",
    "* \"**Not statistically significant**\" does not mean the effect is absent, small, or scientifically irrelevant\n",
    "* The concept of statistical significance is designed to help you make a **decision** based on one result\n",
    "* **Multiple comparison**s make it hard to interpret statistical results\n",
    "* **Correlation** does not prove causation\n",
    "* **Published statistics** tend to be optimistic\n",
    "* Decisions about how to analyze data should be made **in advance**\n",
    "* Statistics is only **part of interpreting** data\n",
    "* Statistical calculations are helpful, but should not augment (not replace) **looking at graphs** of the data"
   ],
   "metadata": {}
  },
  {
   "cell_type": "markdown",
   "source": [
    "## Statistical traps to avoid\n",
    "\n",
    "1. Focusing on P values and statistical significance rather than effect size\n",
    "2. Testing hypotheses suggested by the data\n",
    "3. Analyzing without a plan - \"P-hacking\"\n",
    "4. Making a conclusion about causation when the data only show correlation\n",
    "5. Overinterpreting studies that measure a proxy or surrogate outcome\n",
    "6. Overinterpreting data from an obserevation study\n",
    "7. Making conclusions about individuals when the data were only collected for groups\n",
    "8. Focusing only on means without asking about variability or unusual values\n",
    "9. Comparing statistically singificant with not statistically significant\n",
    "10. Missing important findings because data combine populations\n",
    "11. Invalid multiple regression analyses as a result of an omitted variable\n",
    "12. Overfitting\n",
    "13. Mixing up the significance level with the FPRP\n",
    "14. Not recognizing how common false positive findings are\n",
    "15. Not realizing how likely it is that a \"significant\" conclusions from a speculative experiment is a false positive\n",
    "16. Not realizing that many published studies have little statistical power\n",
    "17. Trying to detect small signals when there is lots of noise\n",
    "18. Unnecessary dichotomizing\n",
    "19. Inflating sample size by pseudoreplication"
   ],
   "metadata": {}
  },
  {
   "cell_type": "markdown",
   "source": [
    "## Capstone example\n",
    "\n",
    "The case of the eight naked $\\mathrm{IC_{50}}$."
   ],
   "metadata": {}
  },
  {
   "cell_type": "code",
   "execution_count": 25,
   "source": [
    "import numpy as np\r\n",
    "import pandas as pd\r\n",
    "import matplotlib.pyplot as plt\r\n",
    "import seaborn as sns\r\n",
    "\r\n",
    "from scipy import stats\r\n",
    "import pingouin as pg"
   ],
   "outputs": [],
   "metadata": {}
  },
  {
   "cell_type": "code",
   "execution_count": 77,
   "source": [
    "# IC50 values in nM\r\n",
    "tmq = np.array([5.5, 12, 19, 47])\r\n",
    "mtx = np.array([0.83, 1.1, 1.9, 5.8])\r\n",
    "\r\n",
    "tmq_std = tmq.std(ddof=1)\r\n",
    "mtx_std = mtx.std(ddof=1)\r\n",
    "\r\n",
    "print(f\"SD for `tmq` = {tmq_std:.1f}\")\r\n",
    "print(f\"SD for `mtx` = {mtx_std:.2f}\")\r\n",
    "\r\n",
    "print(stats.describe(tmq))\r\n",
    "print(stats.describe(mtx))"
   ],
   "outputs": [
    {
     "output_type": "stream",
     "name": "stdout",
     "text": [
      "SD for `tmq` = 18.3\n",
      "SD for `mtx` = 2.31\n",
      "DescribeResult(nobs=4, minmax=(5.5, 47.0), mean=20.875, variance=333.7291666666667, skewness=0.8517015328954141, kurtosis=-0.8933084062681806)\n",
      "DescribeResult(nobs=4, minmax=(0.83, 5.8), mean=2.4074999999999998, variance=5.321558333333333, skewness=1.0269271449617998, kurtosis=-0.7770708873536587)\n"
     ]
    }
   ],
   "metadata": {}
  },
  {
   "cell_type": "code",
   "execution_count": 50,
   "source": [
    "pg.ttest(tmq, mtx)"
   ],
   "outputs": [
    {
     "output_type": "execute_result",
     "data": {
      "text/html": [
       "<div>\n",
       "<style scoped>\n",
       "    .dataframe tbody tr th:only-of-type {\n",
       "        vertical-align: middle;\n",
       "    }\n",
       "\n",
       "    .dataframe tbody tr th {\n",
       "        vertical-align: top;\n",
       "    }\n",
       "\n",
       "    .dataframe thead th {\n",
       "        text-align: right;\n",
       "    }\n",
       "</style>\n",
       "<table border=\"1\" class=\"dataframe\">\n",
       "  <thead>\n",
       "    <tr style=\"text-align: right;\">\n",
       "      <th></th>\n",
       "      <th>T</th>\n",
       "      <th>dof</th>\n",
       "      <th>alternative</th>\n",
       "      <th>p-val</th>\n",
       "      <th>CI95%</th>\n",
       "      <th>cohen-d</th>\n",
       "      <th>BF10</th>\n",
       "      <th>power</th>\n",
       "    </tr>\n",
       "  </thead>\n",
       "  <tbody>\n",
       "    <tr>\n",
       "      <th>T-test</th>\n",
       "      <td>2.005884</td>\n",
       "      <td>6</td>\n",
       "      <td>two-sided</td>\n",
       "      <td>0.091676</td>\n",
       "      <td>[-4.06, 41.0]</td>\n",
       "      <td>1.418374</td>\n",
       "      <td>1.359</td>\n",
       "      <td>0.392929</td>\n",
       "    </tr>\n",
       "  </tbody>\n",
       "</table>\n",
       "</div>"
      ],
      "text/plain": [
       "               T  dof alternative     p-val          CI95%   cohen-d   BF10  \\\n",
       "T-test  2.005884    6   two-sided  0.091676  [-4.06, 41.0]  1.418374  1.359   \n",
       "\n",
       "           power  \n",
       "T-test  0.392929  "
      ]
     },
     "metadata": {},
     "execution_count": 50
    }
   ],
   "metadata": {}
  },
  {
   "cell_type": "code",
   "execution_count": 64,
   "source": [
    "sns.boxplot(data=[tmq, mtx])\r\n",
    "sns.stripplot(data=[tmq, mtx], color='k', size=10)\r\n",
    "plt.xticks([0,1], ['TMQ', 'MTX'])\r\n",
    "plt.ylabel(\"$\\mathrm{EC_{50}}$ in nM\");"
   ],
   "outputs": [
    {
     "output_type": "display_data",
     "data": {
      "image/png": "[encoded data removed]",
      "text/plain": [
       "<Figure size 432x288 with 1 Axes>"
      ]
     },
     "metadata": {
      "needs_background": "light"
     }
    }
   ],
   "metadata": {}
  },
  {
   "cell_type": "markdown",
   "source": [
    "### One-tailed t test"
   ],
   "metadata": {}
  },
  {
   "cell_type": "code",
   "execution_count": 52,
   "source": [
    "pg.ttest(tmq, mtx, alternative='less')"
   ],
   "outputs": [
    {
     "output_type": "execute_result",
     "data": {
      "text/html": [
       "<div>\n",
       "<style scoped>\n",
       "    .dataframe tbody tr th:only-of-type {\n",
       "        vertical-align: middle;\n",
       "    }\n",
       "\n",
       "    .dataframe tbody tr th {\n",
       "        vertical-align: top;\n",
       "    }\n",
       "\n",
       "    .dataframe thead th {\n",
       "        text-align: right;\n",
       "    }\n",
       "</style>\n",
       "<table border=\"1\" class=\"dataframe\">\n",
       "  <thead>\n",
       "    <tr style=\"text-align: right;\">\n",
       "      <th></th>\n",
       "      <th>T</th>\n",
       "      <th>dof</th>\n",
       "      <th>alternative</th>\n",
       "      <th>p-val</th>\n",
       "      <th>CI95%</th>\n",
       "      <th>cohen-d</th>\n",
       "      <th>BF10</th>\n",
       "      <th>power</th>\n",
       "    </tr>\n",
       "  </thead>\n",
       "  <tbody>\n",
       "    <tr>\n",
       "      <th>T-test</th>\n",
       "      <td>2.005884</td>\n",
       "      <td>6</td>\n",
       "      <td>less</td>\n",
       "      <td>0.954162</td>\n",
       "      <td>[-inf, 36.36]</td>\n",
       "      <td>1.418374</td>\n",
       "      <td>0.368</td>\n",
       "      <td>0.000273</td>\n",
       "    </tr>\n",
       "  </tbody>\n",
       "</table>\n",
       "</div>"
      ],
      "text/plain": [
       "               T  dof alternative     p-val          CI95%   cohen-d   BF10  \\\n",
       "T-test  2.005884    6        less  0.954162  [-inf, 36.36]  1.418374  0.368   \n",
       "\n",
       "           power  \n",
       "T-test  0.000273  "
      ]
     },
     "metadata": {},
     "execution_count": 52
    }
   ],
   "metadata": {}
  },
  {
   "cell_type": "markdown",
   "source": [
    "### Equal SDs"
   ],
   "metadata": {}
  },
  {
   "cell_type": "code",
   "execution_count": 78,
   "source": [
    "ratio_var = tmq_std / mtx_std # ratio of the variances of the two groups\r\n",
    "print(f\"The `tmq` individuals have an SD {ratio_var:.2f} times larger than that of `mtx`\")\r\n",
    "\r\n",
    "F_ratio = ratio_var**2\r\n",
    "print(f\"F ratio = {F_ratio:5.3f}\")\r\n",
    "\r\n",
    "p_val = 2 * (1 - stats.f.cdf(F_ratio, len(tmq)-1, len(mtx)-1)) # for two-sided (see Crawley, the R book, p.355)\r\n",
    "print(f\"P value for the F-test of equal variance={p_val:.4f}\")"
   ],
   "outputs": [
    {
     "output_type": "stream",
     "name": "stdout",
     "text": [
      "The `tmq` individuals have an SD 7.92 times larger than that of `mtx`\n",
      "F ratio = 62.713\n",
      "P value for the F-test of equal variance=0.0066\n"
     ]
    }
   ],
   "metadata": {}
  },
  {
   "cell_type": "code",
   "execution_count": 47,
   "source": [
    "print(pg.homoscedasticity([tmq, mtx], method='bartlett')) #test statistic W for Levene (using F-distribution), T for Bartlett (chi²)\r\n",
    "print(pg.homoscedasticity([tmq, mtx], method='levene'))"
   ],
   "outputs": [
    {
     "output_type": "stream",
     "name": "stdout",
     "text": [
      "                 T     pval  equal_var\n",
      "bartlett  7.158623  0.00746      False\n",
      "               W      pval  equal_var\n",
      "levene  2.537678  0.162266       True\n"
     ]
    }
   ],
   "metadata": {}
  },
  {
   "cell_type": "code",
   "execution_count": 54,
   "source": [
    "pg.ttest(tmq, mtx, correction=True) # we force correction to unequal variance as Levene method shows equal variance"
   ],
   "outputs": [
    {
     "output_type": "execute_result",
     "data": {
      "text/html": [
       "<div>\n",
       "<style scoped>\n",
       "    .dataframe tbody tr th:only-of-type {\n",
       "        vertical-align: middle;\n",
       "    }\n",
       "\n",
       "    .dataframe tbody tr th {\n",
       "        vertical-align: top;\n",
       "    }\n",
       "\n",
       "    .dataframe thead th {\n",
       "        text-align: right;\n",
       "    }\n",
       "</style>\n",
       "<table border=\"1\" class=\"dataframe\">\n",
       "  <thead>\n",
       "    <tr style=\"text-align: right;\">\n",
       "      <th></th>\n",
       "      <th>T</th>\n",
       "      <th>dof</th>\n",
       "      <th>alternative</th>\n",
       "      <th>p-val</th>\n",
       "      <th>CI95%</th>\n",
       "      <th>cohen-d</th>\n",
       "      <th>BF10</th>\n",
       "      <th>power</th>\n",
       "    </tr>\n",
       "  </thead>\n",
       "  <tbody>\n",
       "    <tr>\n",
       "      <th>T-test</th>\n",
       "      <td>2.005884</td>\n",
       "      <td>3.09565</td>\n",
       "      <td>two-sided</td>\n",
       "      <td>0.135702</td>\n",
       "      <td>[-10.33, 47.26]</td>\n",
       "      <td>1.418374</td>\n",
       "      <td>1.359</td>\n",
       "      <td>0.392929</td>\n",
       "    </tr>\n",
       "  </tbody>\n",
       "</table>\n",
       "</div>"
      ],
      "text/plain": [
       "               T      dof alternative     p-val            CI95%   cohen-d  \\\n",
       "T-test  2.005884  3.09565   two-sided  0.135702  [-10.33, 47.26]  1.418374   \n",
       "\n",
       "         BF10     power  \n",
       "T-test  1.359  0.392929  "
      ]
     },
     "metadata": {},
     "execution_count": 54
    }
   ],
   "metadata": {}
  },
  {
   "cell_type": "markdown",
   "source": [
    "### Unpaired t test as linear or nonlinear regression"
   ],
   "metadata": {}
  },
  {
   "cell_type": "code",
   "execution_count": 55,
   "source": [
    "data = pd.DataFrame(\r\n",
    "    {\r\n",
    "        'X':[0]*len(tmq) + [1]*len(mtx),\r\n",
    "        'y':np.concatenate([tmq, mtx])\r\n",
    "    }\r\n",
    ")\r\n",
    "\r\n",
    "data"
   ],
   "outputs": [
    {
     "output_type": "execute_result",
     "data": {
      "text/html": [
       "<div>\n",
       "<style scoped>\n",
       "    .dataframe tbody tr th:only-of-type {\n",
       "        vertical-align: middle;\n",
       "    }\n",
       "\n",
       "    .dataframe tbody tr th {\n",
       "        vertical-align: top;\n",
       "    }\n",
       "\n",
       "    .dataframe thead th {\n",
       "        text-align: right;\n",
       "    }\n",
       "</style>\n",
       "<table border=\"1\" class=\"dataframe\">\n",
       "  <thead>\n",
       "    <tr style=\"text-align: right;\">\n",
       "      <th></th>\n",
       "      <th>X</th>\n",
       "      <th>y</th>\n",
       "    </tr>\n",
       "  </thead>\n",
       "  <tbody>\n",
       "    <tr>\n",
       "      <th>0</th>\n",
       "      <td>0</td>\n",
       "      <td>5.50</td>\n",
       "    </tr>\n",
       "    <tr>\n",
       "      <th>1</th>\n",
       "      <td>0</td>\n",
       "      <td>12.00</td>\n",
       "    </tr>\n",
       "    <tr>\n",
       "      <th>2</th>\n",
       "      <td>0</td>\n",
       "      <td>19.00</td>\n",
       "    </tr>\n",
       "    <tr>\n",
       "      <th>3</th>\n",
       "      <td>0</td>\n",
       "      <td>47.00</td>\n",
       "    </tr>\n",
       "    <tr>\n",
       "      <th>4</th>\n",
       "      <td>1</td>\n",
       "      <td>0.83</td>\n",
       "    </tr>\n",
       "    <tr>\n",
       "      <th>5</th>\n",
       "      <td>1</td>\n",
       "      <td>1.10</td>\n",
       "    </tr>\n",
       "    <tr>\n",
       "      <th>6</th>\n",
       "      <td>1</td>\n",
       "      <td>1.90</td>\n",
       "    </tr>\n",
       "    <tr>\n",
       "      <th>7</th>\n",
       "      <td>1</td>\n",
       "      <td>5.80</td>\n",
       "    </tr>\n",
       "  </tbody>\n",
       "</table>\n",
       "</div>"
      ],
      "text/plain": [
       "   X      y\n",
       "0  0   5.50\n",
       "1  0  12.00\n",
       "2  0  19.00\n",
       "3  0  47.00\n",
       "4  1   0.83\n",
       "5  1   1.10\n",
       "6  1   1.90\n",
       "7  1   5.80"
      ]
     },
     "metadata": {},
     "execution_count": 55
    }
   ],
   "metadata": {}
  },
  {
   "cell_type": "code",
   "execution_count": 66,
   "source": [
    "fig, ax = plt.subplots(figsize=(6,5))\r\n",
    "sns.regplot(x='X', y='y', data=data, ax=ax)\r\n",
    "plt.xticks([0,1], ['TMQ (X=0)', 'MTX (X=1)'])\r\n",
    "plt.xlabel('')\r\n",
    "plt.ylabel(\"$\\%E_{max}$\")\r\n",
    "plt.title(\"Comparing two groups by linear regression\")\r\n",
    "sns.despine();"
   ],
   "outputs": [
    {
     "output_type": "display_data",
     "data": {
      "image/png": "[encoded data removed]",
      "text/plain": [
       "<Figure size 432x360 with 1 Axes>"
      ]
     },
     "metadata": {
      "needs_background": "light"
     }
    }
   ],
   "metadata": {}
  },
  {
   "cell_type": "code",
   "execution_count": 67,
   "source": [
    "lm = pg.linear_regression(X=data['X'], y=data['y'])\r\n",
    "lm.round(3)"
   ],
   "outputs": [
    {
     "output_type": "execute_result",
     "data": {
      "text/html": [
       "<div>\n",
       "<style scoped>\n",
       "    .dataframe tbody tr th:only-of-type {\n",
       "        vertical-align: middle;\n",
       "    }\n",
       "\n",
       "    .dataframe tbody tr th {\n",
       "        vertical-align: top;\n",
       "    }\n",
       "\n",
       "    .dataframe thead th {\n",
       "        text-align: right;\n",
       "    }\n",
       "</style>\n",
       "<table border=\"1\" class=\"dataframe\">\n",
       "  <thead>\n",
       "    <tr style=\"text-align: right;\">\n",
       "      <th></th>\n",
       "      <th>names</th>\n",
       "      <th>coef</th>\n",
       "      <th>se</th>\n",
       "      <th>T</th>\n",
       "      <th>pval</th>\n",
       "      <th>r2</th>\n",
       "      <th>adj_r2</th>\n",
       "      <th>CI[2.5%]</th>\n",
       "      <th>CI[97.5%]</th>\n",
       "    </tr>\n",
       "  </thead>\n",
       "  <tbody>\n",
       "    <tr>\n",
       "      <th>0</th>\n",
       "      <td>Intercept</td>\n",
       "      <td>20.875</td>\n",
       "      <td>6.510</td>\n",
       "      <td>3.207</td>\n",
       "      <td>0.018</td>\n",
       "      <td>0.401</td>\n",
       "      <td>0.302</td>\n",
       "      <td>4.945</td>\n",
       "      <td>36.805</td>\n",
       "    </tr>\n",
       "    <tr>\n",
       "      <th>1</th>\n",
       "      <td>X</td>\n",
       "      <td>-18.468</td>\n",
       "      <td>9.207</td>\n",
       "      <td>-2.006</td>\n",
       "      <td>0.092</td>\n",
       "      <td>0.401</td>\n",
       "      <td>0.302</td>\n",
       "      <td>-40.995</td>\n",
       "      <td>4.060</td>\n",
       "    </tr>\n",
       "  </tbody>\n",
       "</table>\n",
       "</div>"
      ],
      "text/plain": [
       "       names    coef     se      T   pval     r2  adj_r2  CI[2.5%]  CI[97.5%]\n",
       "0  Intercept  20.875  6.510  3.207  0.018  0.401   0.302     4.945     36.805\n",
       "1          X -18.468  9.207 -2.006  0.092  0.401   0.302   -40.995      4.060"
      ]
     },
     "metadata": {},
     "execution_count": 67
    }
   ],
   "metadata": {}
  },
  {
   "cell_type": "markdown",
   "source": [
    "### Weighted linear regression\n",
    "\n",
    "The three approaches to weighting that will be used are among those outlined [here](https://onlinecourses.science.psu.edu/stat462/node/186) (one of the approaches is modified slightly)."
   ],
   "metadata": {}
  },
  {
   "cell_type": "code",
   "execution_count": 88,
   "source": [
    "import statsmodels.formula.api as smf \r\n",
    "\r\n",
    "model_ols = smf.ols(\"y ~ X\", data=data).fit() \r\n",
    "print(model_ols.summary())"
   ],
   "outputs": [
    {
     "output_type": "stream",
     "name": "stdout",
     "text": [
      "                            OLS Regression Results                            \n",
      "==============================================================================\n",
      "Dep. Variable:                      y   R-squared:                       0.401\n",
      "Model:                            OLS   Adj. R-squared:                  0.302\n",
      "Method:                 Least Squares   F-statistic:                     4.024\n",
      "Date:                Fri, 08 Oct 2021   Prob (F-statistic):             0.0917\n",
      "Time:                        12:48:53   Log-Likelihood:                -30.733\n",
      "No. Observations:                   8   AIC:                             65.47\n",
      "Df Residuals:                       6   BIC:                             65.62\n",
      "Df Model:                           1                                         \n",
      "Covariance Type:            nonrobust                                         \n",
      "==============================================================================\n",
      "                 coef    std err          t      P>|t|      [0.025      0.975]\n",
      "------------------------------------------------------------------------------\n",
      "Intercept     20.8750      6.510      3.207      0.018       4.945      36.805\n",
      "X            -18.4675      9.207     -2.006      0.092     -40.995       4.060\n",
      "==============================================================================\n",
      "Omnibus:                        7.805   Durbin-Watson:                   1.631\n",
      "Prob(Omnibus):                  0.020   Jarque-Bera (JB):                2.245\n",
      "Skew:                           1.179   Prob(JB):                        0.325\n",
      "Kurtosis:                       4.083   Cond. No.                         2.62\n",
      "==============================================================================\n",
      "\n",
      "Notes:\n",
      "[1] Standard Errors assume that the covariance matrix of the errors is correctly specified.\n"
     ]
    },
    {
     "output_type": "stream",
     "name": "stderr",
     "text": [
      "C:\\Users\\WIECKOWS\\AppData\\Local\\Programs\\Python\\Python39\\lib\\site-packages\\scipy\\stats\\stats.py:1541: UserWarning: kurtosistest only valid for n>=20 ... continuing anyway, n=8\n",
      "  warnings.warn(\"kurtosistest only valid for n>=20 ... continuing \"\n"
     ]
    }
   ],
   "metadata": {}
  },
  {
   "cell_type": "code",
   "execution_count": 92,
   "source": [
    "# fitted values (need a constant term for intercept)\r\n",
    "model_fitted_y = model_ols.fittedvalues\r\n",
    "# model residuals\r\n",
    "model_residuals = model_ols.resid\r\n",
    "# normalized residuals\r\n",
    "model_norm_residuals = model_ols.get_influence().resid_studentized_internal\r\n",
    "# absolute residuals\r\n",
    "model_abs_resid = np.abs(model_residuals)"
   ],
   "outputs": [],
   "metadata": {}
  },
  {
   "cell_type": "code",
   "execution_count": 103,
   "source": [
    "plot_lm_1 = plt.figure(1)\r\n",
    "plot_lm_1.axes[0] = sns.residplot(\r\n",
    "    model_fitted_y, 'y', data=data,\r\n",
    "    lowess=True,\r\n",
    "    #scatter_kws={'alpha': 0.5},\r\n",
    "    line_kws={'color': 'red', 'lw': 2, 'alpha': 0.8}\r\n",
    ")\r\n",
    "plot_lm_1.axes[0].set_title('Residuals vs Fitted')\r\n",
    "plot_lm_1.axes[0].set_xlabel('Fitted values')\r\n",
    "plot_lm_1.axes[0].set_ylabel('Residuals')\r\n",
    "\r\n",
    "plt.xlim((0,25))\r\n",
    "plt.ylim((-20, 40))\r\n",
    "plt.tight_layout()\r\n",
    "sns.despine();"
   ],
   "outputs": [
    {
     "output_type": "stream",
     "name": "stderr",
     "text": [
      "C:\\Users\\WIECKOWS\\AppData\\Local\\Programs\\Python\\Python39\\lib\\site-packages\\seaborn\\_decorators.py:36: FutureWarning: Pass the following variables as keyword args: x, y. From version 0.12, the only valid positional argument will be `data`, and passing other arguments without an explicit keyword will result in an error or misinterpretation.\n",
      "  warnings.warn(\n"
     ]
    },
    {
     "output_type": "display_data",
     "data": {
      "image/png": "[encoded data removed]",
      "text/plain": [
       "<Figure size 432x288 with 1 Axes>"
      ]
     },
     "metadata": {
      "needs_background": "light"
     }
    }
   ],
   "metadata": {}
  },
  {
   "cell_type": "code",
   "execution_count": 91,
   "source": [
    "# The weight here is the inverse of the fitted values obtained from the OLS model\r\n",
    "import statsmodels.api as sm\r\n",
    "\r\n",
    "# An interecept is not included by default, so we have to add it manually\r\n",
    "y=data[\"y\"]\r\n",
    "y=y.tolist()\r\n",
    "X=data[\"X\"]\r\n",
    "X=X.tolist()\r\n",
    "## add a intercept point\r\n",
    "X = sm.add_constant(X)\r\n",
    "\r\n",
    "model_fitted_y = model_ols.fittedvalues\r\n",
    "data[\"weight_1\"] = model_fitted_y\r\n",
    "data[\"weight_1\"] = data[\"weight_1\"]**-1\r\n",
    "model_wls_1 = sm.WLS(y, X, data['weight_1'])\r\n",
    "mod_res_1 = model_wls_1.fit()\r\n",
    "print(mod_res_1.summary())\r\n"
   ],
   "outputs": [
    {
     "output_type": "stream",
     "name": "stdout",
     "text": [
      "                            WLS Regression Results                            \n",
      "==============================================================================\n",
      "Dep. Variable:                      y   R-squared:                       0.518\n",
      "Model:                            WLS   Adj. R-squared:                  0.437\n",
      "Method:                 Least Squares   F-statistic:                     6.440\n",
      "Date:                Fri, 08 Oct 2021   Prob (F-statistic):             0.0442\n",
      "Time:                        12:53:06   Log-Likelihood:                -26.868\n",
      "No. Observations:                   8   AIC:                             57.74\n",
      "Df Residuals:                       6   BIC:                             57.89\n",
      "Df Model:                           1                                         \n",
      "Covariance Type:            nonrobust                                         \n",
      "==============================================================================\n",
      "                 coef    std err          t      P>|t|      [0.025      0.975]\n",
      "------------------------------------------------------------------------------\n",
      "const         20.8750      6.891      3.029      0.023       4.014      37.736\n",
      "x1           -18.4675      7.277     -2.538      0.044     -36.275      -0.660\n",
      "==============================================================================\n",
      "Omnibus:                        4.873   Durbin-Watson:                   1.720\n",
      "Prob(Omnibus):                  0.087   Jarque-Bera (JB):                1.513\n",
      "Skew:                           1.053   Prob(JB):                        0.469\n",
      "Kurtosis:                       3.318   Cond. No.                         6.06\n",
      "==============================================================================\n",
      "\n",
      "Notes:\n",
      "[1] Standard Errors assume that the covariance matrix of the errors is correctly specified.\n"
     ]
    },
    {
     "output_type": "stream",
     "name": "stderr",
     "text": [
      "C:\\Users\\WIECKOWS\\AppData\\Local\\Programs\\Python\\Python39\\lib\\site-packages\\scipy\\stats\\stats.py:1541: UserWarning: kurtosistest only valid for n>=20 ... continuing anyway, n=8\n",
      "  warnings.warn(\"kurtosistest only valid for n>=20 ... continuing \"\n"
     ]
    }
   ],
   "metadata": {}
  },
  {
   "cell_type": "code",
   "execution_count": 110,
   "source": [
    "# Here we regress the absolute values of the residuals against the predictor\r\n",
    "data[\"temp\"] = model_abs_resid\r\n",
    "model_temp = smf.ols(\"temp ~ X\", data=data).fit()\r\n",
    "weight_2 = model_temp.fittedvalues\r\n",
    "weight_2 = weight_2**-2\r\n",
    "data['weight_2'] = weight_2\r\n",
    "\r\n",
    "mod_wls = sm.WLS(y, X, data['weight_2'])\r\n",
    "mod_res = mod_wls.fit()\r\n",
    "print(mod_res.summary())"
   ],
   "outputs": [
    {
     "output_type": "stream",
     "name": "stdout",
     "text": [
      "                            WLS Regression Results                            \n",
      "==============================================================================\n",
      "Dep. Variable:                      y   R-squared:                       0.408\n",
      "Model:                            WLS   Adj. R-squared:                  0.309\n",
      "Method:                 Least Squares   F-statistic:                     4.132\n",
      "Date:                Fri, 08 Oct 2021   Prob (F-statistic):             0.0883\n",
      "Time:                        13:05:38   Log-Likelihood:                -25.167\n",
      "No. Observations:                   8   AIC:                             54.33\n",
      "Df Residuals:                       6   BIC:                             54.49\n",
      "Df Model:                           1                                         \n",
      "Covariance Type:            nonrobust                                         \n",
      "==============================================================================\n",
      "                 coef    std err          t      P>|t|      [0.025      0.975]\n",
      "------------------------------------------------------------------------------\n",
      "const         20.8750      9.009      2.317      0.060      -1.169      42.919\n",
      "x1           -18.4675      9.085     -2.033      0.088     -40.697       3.762\n",
      "==============================================================================\n",
      "Omnibus:                        2.433   Durbin-Watson:                   1.686\n",
      "Prob(Omnibus):                  0.296   Jarque-Bera (JB):                1.401\n",
      "Skew:                           0.936   Prob(JB):                        0.496\n",
      "Kurtosis:                       2.163   Cond. No.                         15.5\n",
      "==============================================================================\n",
      "\n",
      "Notes:\n",
      "[1] Standard Errors assume that the covariance matrix of the errors is correctly specified.\n"
     ]
    },
    {
     "output_type": "stream",
     "name": "stderr",
     "text": [
      "C:\\Users\\WIECKOWS\\AppData\\Local\\Programs\\Python\\Python39\\lib\\site-packages\\scipy\\stats\\stats.py:1541: UserWarning: kurtosistest only valid for n>=20 ... continuing anyway, n=8\n",
      "  warnings.warn(\"kurtosistest only valid for n>=20 ... continuing \"\n"
     ]
    }
   ],
   "metadata": {}
  },
  {
   "cell_type": "code",
   "execution_count": 111,
   "source": [
    "# Here we regress the squared residuals against the predictor\r\n",
    "data[\"temp\"] = model_residuals**2\r\n",
    "model_temp = smf.ols(\"temp ~ X\", data=data).fit()\r\n",
    "weight_3 = model_temp.fittedvalues\r\n",
    "weight_3 = abs(weight_3)\r\n",
    "weight_3 = weight_3**-1\r\n",
    "data['weight_3'] = weight_3\r\n",
    "\r\n",
    "mod_wls = sm.WLS(y, X, data['weight_3'])\r\n",
    "mod_res = mod_wls.fit()\r\n",
    "print(mod_res.summary())"
   ],
   "outputs": [
    {
     "output_type": "stream",
     "name": "stdout",
     "text": [
      "                            WLS Regression Results                            \n",
      "==============================================================================\n",
      "Dep. Variable:                      y   R-squared:                       0.401\n",
      "Model:                            WLS   Adj. R-squared:                  0.302\n",
      "Method:                 Least Squares   F-statistic:                     4.024\n",
      "Date:                Fri, 08 Oct 2021   Prob (F-statistic):             0.0917\n",
      "Time:                        13:06:12   Log-Likelihood:                -25.165\n",
      "No. Observations:                   8   AIC:                             54.33\n",
      "Df Residuals:                       6   BIC:                             54.49\n",
      "Df Model:                           1                                         \n",
      "Covariance Type:            nonrobust                                         \n",
      "==============================================================================\n",
      "                 coef    std err          t      P>|t|      [0.025      0.975]\n",
      "------------------------------------------------------------------------------\n",
      "const         20.8750      9.134      2.285      0.062      -1.475      43.225\n",
      "x1           -18.4675      9.207     -2.006      0.092     -40.995       4.060\n",
      "==============================================================================\n",
      "Omnibus:                        2.449   Durbin-Watson:                   1.681\n",
      "Prob(Omnibus):                  0.294   Jarque-Bera (JB):                1.409\n",
      "Skew:                           0.939   Prob(JB):                        0.494\n",
      "Kurtosis:                       2.165   Cond. No.                         15.9\n",
      "==============================================================================\n",
      "\n",
      "Notes:\n",
      "[1] Standard Errors assume that the covariance matrix of the errors is correctly specified.\n"
     ]
    },
    {
     "output_type": "stream",
     "name": "stderr",
     "text": [
      "C:\\Users\\WIECKOWS\\AppData\\Local\\Programs\\Python\\Python39\\lib\\site-packages\\scipy\\stats\\stats.py:1541: UserWarning: kurtosistest only valid for n>=20 ... continuing anyway, n=8\n",
      "  warnings.warn(\"kurtosistest only valid for n>=20 ... continuing \"\n"
     ]
    }
   ],
   "metadata": {}
  },
  {
   "cell_type": "code",
   "execution_count": 113,
   "source": [
    "# Same as in the book, with weighting with the reciprocal of the square of the predicted y\r\n",
    "data[\"weight_4\"] = model_fitted_y**-2\r\n",
    "model_wls_4 = sm.WLS(y, X, data['weight_4'])\r\n",
    "mod_res_4 = model_wls_4.fit()\r\n",
    "print(mod_res_4.summary())"
   ],
   "outputs": [
    {
     "output_type": "stream",
     "name": "stdout",
     "text": [
      "                            WLS Regression Results                            \n",
      "==============================================================================\n",
      "Dep. Variable:                      y   R-squared:                       0.379\n",
      "Model:                            WLS   Adj. R-squared:                  0.276\n",
      "Method:                 Least Squares   F-statistic:                     3.669\n",
      "Date:                Fri, 08 Oct 2021   Prob (F-statistic):              0.104\n",
      "Time:                        13:09:51   Log-Likelihood:                -25.181\n",
      "No. Observations:                   8   AIC:                             54.36\n",
      "Df Residuals:                       6   BIC:                             54.52\n",
      "Df Model:                           1                                         \n",
      "Covariance Type:            nonrobust                                         \n",
      "==============================================================================\n",
      "                 coef    std err          t      P>|t|      [0.025      0.975]\n",
      "------------------------------------------------------------------------------\n",
      "const         20.8750      9.577      2.180      0.072      -2.560      44.310\n",
      "x1           -18.4675      9.641     -1.916      0.104     -42.058       5.123\n",
      "==============================================================================\n",
      "Omnibus:                        2.519   Durbin-Watson:                   1.661\n",
      "Prob(Omnibus):                  0.284   Jarque-Bera (JB):                1.431\n",
      "Skew:                           0.954   Prob(JB):                        0.489\n",
      "Kurtosis:                       2.193   Cond. No.                         17.4\n",
      "==============================================================================\n",
      "\n",
      "Notes:\n",
      "[1] Standard Errors assume that the covariance matrix of the errors is correctly specified.\n"
     ]
    },
    {
     "output_type": "stream",
     "name": "stderr",
     "text": [
      "C:\\Users\\WIECKOWS\\AppData\\Local\\Programs\\Python\\Python39\\lib\\site-packages\\scipy\\stats\\stats.py:1541: UserWarning: kurtosistest only valid for n>=20 ... continuing anyway, n=8\n",
      "  warnings.warn(\"kurtosistest only valid for n>=20 ... continuing \"\n"
     ]
    }
   ],
   "metadata": {}
  },
  {
   "cell_type": "markdown",
   "source": [
    "### Nonparametric Mann-Whitney test\n",
    "\n",
    "Normality tests are rarely helpful when used as part of an analysis of a particular experiment, it should be preferred to collect many values (dozens to hundreds) while characterizing an experimental assay, and then examine the distribution of these values using various test, including normality tests to decide how these kinds of data should be analyzed. That decision then applies to all experiments that use the assay."
   ],
   "metadata": {}
  },
  {
   "cell_type": "code",
   "execution_count": 115,
   "source": [
    "import pingouin as pg\r\n",
    "\r\n",
    "pg.mwu(tmq, mtx, method='exact', alternative='two-sided')"
   ],
   "outputs": [
    {
     "output_type": "execute_result",
     "data": {
      "text/html": [
       "<div>\n",
       "<style scoped>\n",
       "    .dataframe tbody tr th:only-of-type {\n",
       "        vertical-align: middle;\n",
       "    }\n",
       "\n",
       "    .dataframe tbody tr th {\n",
       "        vertical-align: top;\n",
       "    }\n",
       "\n",
       "    .dataframe thead th {\n",
       "        text-align: right;\n",
       "    }\n",
       "</style>\n",
       "<table border=\"1\" class=\"dataframe\">\n",
       "  <thead>\n",
       "    <tr style=\"text-align: right;\">\n",
       "      <th></th>\n",
       "      <th>U-val</th>\n",
       "      <th>alternative</th>\n",
       "      <th>p-val</th>\n",
       "      <th>RBC</th>\n",
       "      <th>CLES</th>\n",
       "    </tr>\n",
       "  </thead>\n",
       "  <tbody>\n",
       "    <tr>\n",
       "      <th>MWU</th>\n",
       "      <td>15.0</td>\n",
       "      <td>two-sided</td>\n",
       "      <td>0.057143</td>\n",
       "      <td>-0.875</td>\n",
       "      <td>0.9375</td>\n",
       "    </tr>\n",
       "  </tbody>\n",
       "</table>\n",
       "</div>"
      ],
      "text/plain": [
       "     U-val alternative     p-val    RBC    CLES\n",
       "MWU   15.0   two-sided  0.057143 -0.875  0.9375"
      ]
     },
     "metadata": {},
     "execution_count": 115
    }
   ],
   "metadata": {}
  },
  {
   "cell_type": "markdown",
   "source": [
    "### Increase sample size\n",
    "\n",
    "Remind than for unpaired values, the Cohen $d$ equals \n",
    "\n",
    "$$ d = \\frac{\\overline{X} - \\overline{Y}}{\\sqrt{\\frac{(n_{1} - 1)\\sigma_{1}^{2} + (n_{2} - 1) \\sigma_{2}^{2}}{n1 + n2 - 2}}} $$\n",
    "\n",
    "For a comparison between 2 groups with the same sample size ($n_1 = n_2 = n$) but different variance values $\\sigma_1^2 \\neq \\sigma_2^2$, the equation can be simplified to\n",
    "\n",
    "$$ d = \\frac{\\overline{X} - \\overline{Y}}{\\sqrt{\\frac{(n - 1)(\\sigma_1^2 + \\sigma_2^2)}{2 (n - 1)}}} = \\frac{\\overline{X} - \\overline{Y}}{\\sqrt{\\frac{\\sigma_1^2 + \\sigma_2^2}{2}}} $$"
   ],
   "metadata": {}
  },
  {
   "cell_type": "code",
   "execution_count": 119,
   "source": [
    "min_mean_diff = 20 # a bit higher than observed\r\n",
    "s = np.sqrt(np.mean([tmq_std**2, mtx_std**2]))\r\n",
    "d = min_mean_diff / s\r\n",
    "n = np.arange(4, 20)  # Incrementing sample size\r\n",
    "\r\n",
    "# Compute the achieved power\r\n",
    "pwr = pg.power_ttest(d=d, n=n, contrast='two-samples', alternative='two-sided')\r\n",
    "\r\n",
    "# Plotting\r\n",
    "plt.plot(n, pwr, 'ko-.')\r\n",
    "plt.axhline(0.8, color='r', ls=':')\r\n",
    "plt.xlabel('Sample size')\r\n",
    "plt.ylabel('Power (1 - type II error)')\r\n",
    "plt.title('Achieved power of a unpaired T-test')\r\n",
    "sns.despine()"
   ],
   "outputs": [
    {
     "output_type": "display_data",
     "data": {
      "image/png": "[encoded data removed]",
      "text/plain": [
       "<Figure size 432x288 with 1 Axes>"
      ]
     },
     "metadata": {
      "needs_background": "light"
     }
    }
   ],
   "metadata": {}
  },
  {
   "cell_type": "code",
   "execution_count": 129,
   "source": [
    "#Compute required sample size given d, power and alpha\r\n",
    "pg.power_ttest(d=d, power=0.8, contrast='two-samples', alternative='two-sided')"
   ],
   "outputs": [
    {
     "output_type": "execute_result",
     "data": {
      "text/plain": [
       "7.741973852441344"
      ]
     },
     "metadata": {},
     "execution_count": 129
    }
   ],
   "metadata": {}
  },
  {
   "cell_type": "markdown",
   "source": [
    "### Lognormal data"
   ],
   "metadata": {}
  },
  {
   "cell_type": "code",
   "execution_count": 137,
   "source": [
    "tmq_log = np.log10(tmq)\r\n",
    "mtx_log = np.log10(mtx)\r\n",
    "\r\n",
    "tmq_log_std = tmq_log.std(ddof=1)\r\n",
    "mtx_log_std = mtx_log.std(ddof=1)\r\n",
    "\r\n",
    "print(f\"SD for log(`tmq`) = {tmq_log_std:.3f}\")\r\n",
    "print(f\"SD for log(`mtx`) = {mtx_log_std:.3f}\")\r\n",
    "\r\n",
    "print(stats.describe(tmq_log))\r\n",
    "print(stats.describe(mtx_log))\r\n",
    "\r\n",
    "print(f\"Geometric mean for `tmq` = {10**tmq_log.mean():.2f} nM\")\r\n",
    "print(f\"Geometric mean for `mtx` = {10**mtx_log.mean():.2f} nM\")"
   ],
   "outputs": [
    {
     "output_type": "stream",
     "name": "stdout",
     "text": [
      "SD for log(`tmq`) = 0.389\n",
      "SD for log(`mtx`) = 0.373\n",
      "DescribeResult(nobs=4, minmax=(0.7403626894942439, 1.6720978579357175), mean=1.1925988486076038, variance=0.15157434582612236, skewness=0.11046645653536111, kurtosis=-1.163960323879744)\n",
      "DescribeResult(nobs=4, minmax=(-0.08092190762392612, 0.7634279935629372), mean=0.25066309301251627, variance=0.13915321204113287, skewness=0.6615634785142156, kurtosis=-1.091763840545427)\n",
      "Geometric mean for `tmq` = 15.58 nM\n",
      "Geometric mean for `mtx` = 1.78 nM\n"
     ]
    }
   ],
   "metadata": {}
  },
  {
   "cell_type": "code",
   "execution_count": 146,
   "source": [
    "plt.figure(figsize=(8,4))\r\n",
    "plt.subplot(121)\r\n",
    "sns.boxplot(data=[tmq_log, mtx_log])\r\n",
    "sns.stripplot(data=[tmq_log, mtx_log], color='k', size=10)\r\n",
    "plt.xticks([0,1], ['TMQ', 'MTX'])\r\n",
    "plt.yticks([-1, 0, 1, 2])\r\n",
    "plt.ylabel(\"$\\log(\\mathrm{IC_{50}}\\mathrm{, nM})$\")\r\n",
    "\r\n",
    "plt.subplot(122)\r\n",
    "sns.boxplot(data=[tmq, mtx])\r\n",
    "sns.stripplot(data=[tmq, mtx], color='k', size=10)\r\n",
    "plt.yscale('log')\r\n",
    "plt.xticks([0,1], ['TMQ', 'MTX'])\r\n",
    "plt.ylabel(\"$\\mathrm{IC_{50}}$ in nM\")\r\n",
    "\r\n",
    "plt.tight_layout();"
   ],
   "outputs": [
    {
     "output_type": "display_data",
     "data": {
      "image/png": "[encoded data removed]",
      "text/plain": [
       "<Figure size 576x288 with 2 Axes>"
      ]
     },
     "metadata": {
      "needs_background": "light"
     }
    }
   ],
   "metadata": {}
  },
  {
   "cell_type": "code",
   "execution_count": 149,
   "source": [
    "ttest_log = pg.ttest(tmq_log, mtx_log)\r\n",
    "ttest_log.round(2)"
   ],
   "outputs": [
    {
     "output_type": "execute_result",
     "data": {
      "text/html": [
       "<div>\n",
       "<style scoped>\n",
       "    .dataframe tbody tr th:only-of-type {\n",
       "        vertical-align: middle;\n",
       "    }\n",
       "\n",
       "    .dataframe tbody tr th {\n",
       "        vertical-align: top;\n",
       "    }\n",
       "\n",
       "    .dataframe thead th {\n",
       "        text-align: right;\n",
       "    }\n",
       "</style>\n",
       "<table border=\"1\" class=\"dataframe\">\n",
       "  <thead>\n",
       "    <tr style=\"text-align: right;\">\n",
       "      <th></th>\n",
       "      <th>T</th>\n",
       "      <th>dof</th>\n",
       "      <th>alternative</th>\n",
       "      <th>p-val</th>\n",
       "      <th>CI95%</th>\n",
       "      <th>cohen-d</th>\n",
       "      <th>BF10</th>\n",
       "      <th>power</th>\n",
       "    </tr>\n",
       "  </thead>\n",
       "  <tbody>\n",
       "    <tr>\n",
       "      <th>T-test</th>\n",
       "      <td>3.49</td>\n",
       "      <td>6</td>\n",
       "      <td>two-sided</td>\n",
       "      <td>0.01</td>\n",
       "      <td>[0.28, 1.6]</td>\n",
       "      <td>2.47</td>\n",
       "      <td>4.393</td>\n",
       "      <td>0.83</td>\n",
       "    </tr>\n",
       "  </tbody>\n",
       "</table>\n",
       "</div>"
      ],
      "text/plain": [
       "           T  dof alternative  p-val        CI95%  cohen-d   BF10  power\n",
       "T-test  3.49    6   two-sided   0.01  [0.28, 1.6]     2.47  4.393   0.83"
      ]
     },
     "metadata": {},
     "execution_count": 149
    }
   ],
   "metadata": {}
  },
  {
   "cell_type": "code",
   "execution_count": 155,
   "source": [
    "diff_log_means = abs(tmq_log.mean() - mtx_log.mean())\r\n",
    "print(f\"The difference between the log(means) = {diff_log_means:.3f} which corresponds to a potency ratio of {10**diff_log_means:.2f}\")\r\n",
    "print(f\"And the 95% CI of the potency ratio ranging from {10**ttest_log.loc['T-test', 'CI95%'][0]:.2f} to {10**ttest_log.loc['T-test', 'CI95%'][1]:.2f}\")"
   ],
   "outputs": [
    {
     "output_type": "stream",
     "name": "stdout",
     "text": [
      "The difference between the log(means) = 0.942 which corresponds to a potency ratio of 8.75\n",
      "And the 95% CI of the potency ratio ranging from 1.91 to 39.81\n"
     ]
    }
   ],
   "metadata": {}
  },
  {
   "cell_type": "markdown",
   "source": [
    "### Sample size calculations revisited\n",
    "\n",
    "Note that the power from the last t-test was greater than 0.8."
   ],
   "metadata": {}
  },
  {
   "cell_type": "code",
   "execution_count": 170,
   "source": [
    "min_mean_diff_log = np.log10(8) # eightfold difference in potency\r\n",
    "s_log = 0.40 # because the SD was comparable for the lognormal values\r\n",
    "d_log = min_mean_diff_log/ s_log\r\n",
    "n = np.arange(2, 10)  # Incrementing sample size\r\n",
    "\r\n",
    "# Compute the achieved power\r\n",
    "pwr_log = pg.power_ttest(d=d_log, n=n, contrast='two-samples', alternative='two-sided')\r\n",
    "\r\n",
    "# Plotting\r\n",
    "plt.plot(n, pwr_log, 'ks-', ms=6)\r\n",
    "plt.axhline(0.8, color='r', ls=':')\r\n",
    "plt.xlabel('Sample size')\r\n",
    "plt.ylabel('Power (1 - type II error)')\r\n",
    "plt.title('Achieved power of a unpaired T-test')\r\n",
    "sns.despine()"
   ],
   "outputs": [
    {
     "output_type": "display_data",
     "data": {
      "image/png": "[encoded data removed]",
      "text/plain": [
       "<Figure size 432x288 with 1 Axes>"
      ]
     },
     "metadata": {
      "needs_background": "light"
     }
    }
   ],
   "metadata": {}
  },
  {
   "cell_type": "code",
   "execution_count": 157,
   "source": [
    "pg.power_ttest(d=d_log, power=0.8, contrast='two-samples', alternative='two-sided')"
   ],
   "outputs": [
    {
     "output_type": "execute_result",
     "data": {
      "text/plain": [
       "4.289295994250316"
      ]
     },
     "metadata": {},
     "execution_count": 157
    }
   ],
   "metadata": {}
  },
  {
   "cell_type": "markdown",
   "source": [
    "### Simulations\n",
    "\n",
    "Simulating data is a powerful tool that can reveal deep insights into data analysis approaches. Learning to simulate data is not hard, and it is a skill well worth acquiring if you plan to design experiments and analyze scientific data. And you can save a lot of time in the lab by using simulations to test the design of your experiments.\n",
    "\n",
    "For the example above, because the violation of all thress assumptions (lognormal distribution, unequal variance and differences examined rather than ratios) discourages the use of the standard t test on untransformed $\\mathrm{IC_{50}}$ values, this approach has much less statistical power (43.0% vs.  83.6%)."
   ],
   "metadata": {}
  },
  {
   "cell_type": "code",
   "execution_count": 214,
   "source": [
    "np.random.seed(111)\r\n",
    "mean_1, mean_2         = 2, 20 # 2 and 20 nM corresp to MTX and TMQ\r\n",
    "mean_log_1, mean_log_2 = np.log10(mean_1), np.log10(mean_2)\r\n",
    "sd_log                 = 0.4 # used for the ratios of the means\r\n",
    "sd1, sd2               = 2, 18 # used for the difference of the means\r\n",
    "obs                    = [4, 7] # number of samples in each group\r\n",
    "sims                   = 10_000 # number of simulations\r\n",
    "\r\n",
    "for o in obs:\r\n",
    "\tp_values     = np.array([])\r\n",
    "\tp_values_log = np.array([])\r\n",
    "\r\n",
    "\tsample_1     = stats.norm(loc=mean_1, scale=sd1)\r\n",
    "\tsample_2     = stats.norm(loc=mean_2, scale=sd2)\r\n",
    "\r\n",
    "\tsample_1_log = stats.norm(loc=mean_log_1, scale=sd_log)\r\n",
    "\tsample_2_log = stats.norm(loc=mean_log_2, scale=sd_log)\r\n",
    "\r\n",
    "\tfor _ in range(sims):\r\n",
    "\t\t# t test for untransformed values\r\n",
    "\t\tstat, p_value = stats.ttest_ind(sample_1.rvs(size=o), sample_2.rvs(size=o))\r\n",
    "\t\tp_values = np.append(p_values, p_value)\r\n",
    "\r\n",
    "\t\t# t test for lognormal values\r\n",
    "\t\tstat, p_value = stats.ttest_ind(sample_1_log.rvs(size=o), sample_2_log.rvs(size=o))\r\n",
    "\t\tp_values_log = np.append(p_values_log, p_value)\r\n",
    "\r\n",
    "\tprint(f\"For {sims} simulations and n = {o} in each group:\")\r\n",
    "\tprint(f\"Proportion of experiments with P<0.05 is {100 * sum(p_values<0.05) / len(p_values):.1f}% for untransformed values\")\r\n",
    "\tprint(f\"Proportion of experiments with P<0.05 is {100 * sum(p_values_log<0.05) / len(p_values):.1f}% for lognormal values\")\r\n",
    "\tprint(\"------------------------------------------\")"
   ],
   "outputs": [
    {
     "output_type": "stream",
     "name": "stdout",
     "text": [
      "For 10000 simulations and n = 4 in each group:\n",
      "Proportion of experiments with P<0.05 is 43.0% for untransformed values\n",
      "Proportion of experiments with P<0.05 is 83.6% for lognormal values\n",
      "------------------------------------------\n",
      "For 10000 simulations and n = 7 in each group:\n",
      "Proportion of experiments with P<0.05 is 67.4% for untransformed values\n",
      "Proportion of experiments with P<0.05 is 99.1% for lognormal values\n",
      "------------------------------------------\n"
     ]
    }
   ],
   "metadata": {}
  },
  {
   "cell_type": "markdown",
   "source": [
    "In other words, these numbers show the **power** of the experimental design, i.e. the number of experiments that show statistical significance knowing that the true effect is real (the null hypotesis is false).\n",
    "\n",
    "Increasing the sample size to n=7 increases the power to 67.4% for the t test of the untransformed values. However, it also barely changes the Type I error rates."
   ],
   "metadata": {}
  },
  {
   "cell_type": "code",
   "execution_count": 224,
   "source": [
    "np.random.seed(111)\r\n",
    "mean         = 20 # same mean\r\n",
    "mean_log     = np.log10(mean)\r\n",
    "sd_log       = 0.4 # used for the ratios of the means\r\n",
    "sd           = 20 # used for the difference of the means\r\n",
    "obs          = [4, 7] # number of samples in each group\r\n",
    "sims         = 50_000 # number of simulations\r\n",
    "\r\n",
    "for o in obs:\r\n",
    "\tp_values     = np.array([])\r\n",
    "\tp_values_log = np.array([])\r\n",
    "\r\n",
    "\tsample_1     = stats.norm(loc=mean, scale=sd)\r\n",
    "\r\n",
    "\tsample_1_log = stats.norm(loc=mean_log, scale=sd_log)\r\n",
    "\r\n",
    "\tfor _ in range(sims):\r\n",
    "\t\t# t test for untransformed values\r\n",
    "\t\tstat, p_value = stats.ttest_ind(sample_1.rvs(size=o), sample_1.rvs(size=o))\r\n",
    "\t\tp_values = np.append(p_values, p_value)\r\n",
    "\r\n",
    "\t\t# t test for lognormal values\r\n",
    "\t\tstat, p_value = stats.ttest_ind(sample_1_log.rvs(size=o), sample_1_log.rvs(size=o))\r\n",
    "\t\tp_values_log = np.append(p_values_log, p_value)\r\n",
    "\r\n",
    "\tprint(f\"For {sims} simulations and n = {o} in each group:\")\r\n",
    "\tprint(f\"Proportion of experiments with P<0.05 is {100 * sum(p_values<0.05) / len(p_values):.1f}% for untransformed values\")\r\n",
    "\tprint(f\"Proportion of experiments with P<0.05 is {100 * sum(p_values_log<0.05) / len(p_values):.1f}% for lognormal values\")\r\n",
    "\tprint(\"------------------------------------------\")"
   ],
   "outputs": [
    {
     "output_type": "stream",
     "name": "stdout",
     "text": [
      "For 50000 simulations and n = 4 in each group:\n",
      "Proportion of experiments with P<0.05 is 4.8% for untransformed values\n",
      "Proportion of experiments with P<0.05 is 5.0% for lognormal values\n",
      "------------------------------------------\n",
      "For 50000 simulations and n = 7 in each group:\n",
      "Proportion of experiments with P<0.05 is 4.8% for untransformed values\n",
      "Proportion of experiments with P<0.05 is 5.1% for lognormal values\n",
      "------------------------------------------\n"
     ]
    }
   ],
   "metadata": {}
  },
  {
   "cell_type": "markdown",
   "source": [
    "## Checklist for reporting statistical methods and results\n",
    "\n",
    "You may also want to consult similar guides by [Curtis and colleagues (2015)](https://pubmed.ncbi.nlm.nih.gov/29520785/) and by [Altman and colleagues (1983)](https://www.ncbi.nlm.nih.gov/pmc/articles/PMC1547706/).\n",
    "\n",
    "### Reporting methods used for data analysis\n",
    "\n",
    "- Reporting the analyses before the analyses: normalization, logarithms, smoothing, baseline, outliers -> explain\n",
    "- Reporting sample size: different animals or technical replicates?\n",
    "- Reporting use of statistical tests: full name of the test, options selected, programs and versions used and if possible post the scripts or analysis steps\n",
    "- Reporting planning (or lack of planning) of analyses: state if and how the analyses were planned\n",
    "\n",
    "### Graphing data\n",
    "\n",
    "- General principles: present the data clearly, with enough details; consider posting the raw data for reproducibility\n",
    "- Graphing variability: when possible, graph individual data, not summary of the data\n",
    "\n",
    "### Reporting statistical results\n",
    "\n",
    "- Reporting and graphing effect size: how big was the difference, how strongly were the variables correlated. Report with a CI\n",
    "- Reporting P values: use a number rather than an inequality, clearly state the null hypothesis if there is any possible ambiguity; one- or two-sided?\n",
    "- Reporting statistical hypothesis testing: report the preset threshold P value and the model\n",
    "  - If not making a decision based on P value, then the idea of statistical hypothesis isn't useful, report effect with its CI\n",
    "  - Use _large, substantial, relevant_ when discussing the biological impact of a results instead of _significant_\n",
    "- Reporting regression results with one independent variable: what model you fit to the data, with all details about the parameters and assumptions\n",
    "  - Report the best-fit values with their CIs\n",
    "  - Consider reporting the covariation matrix to show how independent or interwined the parameters are\n",
    "  - Consider also graphing the confidence bands\n",
    "  - Report goodness of fit (sum-of-squares, SD of residuals, $R^2$ or all three)\n",
    "- Reporting regression results with multiple independent variables: all points above + show Y values predicted by the model\n",
    "- Reporting multiple comparisons: all steps must be documented, follow-up testing after ANOVA\n"
   ],
   "metadata": {}
  },
  {
   "cell_type": "markdown",
   "source": [
    "## Choosing a statistical test\r\n",
    "\r\n",
    "### Continuous data from **normal/Gaussian distribution** (biological measures, etc.)\r\n",
    "\r\n",
    "- Test Gaussian assumption\r\n",
    "  - **normality** tests\r\n",
    "  - **outliers** tests\r\n",
    "- Describe one sample\r\n",
    "  - **frequency** distribution\r\n",
    "  - sample **mean**\r\n",
    "  - sample **SD**\r\n",
    "  - minimum and maximum value, **range**\r\n",
    "  - 25th and 75th **percentiles**\r\n",
    "- Inference about one population\r\n",
    "  - **one-sample t** test\r\n",
    "- Compare two unmatched groups\r\n",
    "  - **unpaired t** test\r\n",
    "- Compare two matched groups\r\n",
    "  - **paired t** test\r\n",
    "- Compare three or more unmatched groups\r\n",
    "  - **one-way ANOVA** + multiple comparisons tests\r\n",
    "- Compare three or more matched groups\r\n",
    "  - **repeated-measures ANOVA** + multiple comparisons tests\r\n",
    "- Quantify association between two variables\r\n",
    "  - **Pearson**'s correlation\r\n",
    "- Explain/predict one variable from another\r\n",
    "  - simple **linear regression** (single independent variable)\r\n",
    "  - simple **nonlinear regression**\r\n",
    "- Explain/predict one variable from several others\r\n",
    "  - **multiple linear** regression (more than one independent variables)\r\n",
    "  - **multiple nonlinear** regression\r\n",
    "\r\n",
    "### Continuous data from **non-Gaussian distribution** (or ranked data; scores, etc.)\r\n",
    "\r\n",
    "- Describe one sample\r\n",
    "  - **frequency** distribution\r\n",
    "  - sample **median**\r\n",
    "  - minimum and maximum value, **range**\r\n",
    "  - 25th and 75th **percentiles**\r\n",
    "- Inference about one population\r\n",
    "  - **Wilcoxon's rank-sum** test\r\n",
    "- Compare two unmatched groups\r\n",
    "  - **Mann-Whitney** test\r\n",
    "- Compare two matched groups\r\n",
    "  - **Wilcoxon's matched pairs** test\r\n",
    "- Compare three or more unmatched groups\r\n",
    "  - **Kruskal-Wallis** test + Dunn's posttest\r\n",
    "- Compare three or more matched groups\r\n",
    "  - **Friedman**'s test\r\n",
    "- Quantify association between two variables\r\n",
    "  - **Spearman**'s correlation\r\n",
    "\r\n",
    "### **Survival times** or time to an event (survival, etc.)\r\n",
    "\r\n",
    "- Describe one sample\r\n",
    "  - **Kaplan-Meier** surival curve\r\n",
    "  - **median survival time**\r\n",
    "  - 5-year survival percentage\r\n",
    "- Inference about one population\r\n",
    "  - **confidence bands** around survival curve\r\n",
    "  - CI of median survival\r\n",
    "- Compare two unmatched groups\r\n",
    "  - **log-rank** test\r\n",
    "  - Gehan-Breslow test\r\n",
    "  - **CI of ratio** of median survival times\r\n",
    "  - **CI of hazard ratio**\r\n",
    "- Compare two matched groups\r\n",
    "  - conditional proportional **hazards regression**\r\n",
    "- Compare three or more unmatched groups\r\n",
    "  - log-rank test\r\n",
    "  - Gehan-Breslow test\r\n",
    "- Compare three or more matched groups\r\n",
    "  - conditional proportional hazards regression\r\n",
    "- Explain/predict one variable from one or several others\r\n",
    "  - **Cox's proportional hazards regression**\r\n",
    "\r\n",
    "### **Binomial** (yes/no, etc.)\r\n",
    "\r\n",
    "- Describe one sample\r\n",
    "  - **proportion**\r\n",
    "- Inference about one population\r\n",
    "  - **CI** of proportion\r\n",
    "  - **binomial** test to compare observed distribution with theoritical (expected) distribution\r\n",
    "- Compare two unmatched groups\r\n",
    "  - **Fisher**'s exact test\r\n",
    "- Compare two matched groups\r\n",
    "  - **McNemar**'s test\r\n",
    "- Compare three or more unmatched groups\r\n",
    "  - **Chi-square** test\r\n",
    "  - Chi-square test for trend\r\n",
    "- Compare three or more matched groups\r\n",
    "  - **Cochran's Q**\r\n",
    "- Explain/predict one variable from one or several others\r\n",
    "  - **Logistic regression**"
   ],
   "metadata": {}
  },
  {
   "cell_type": "markdown",
   "source": [],
   "metadata": {}
  }
 ],
 "metadata": {
  "interpreter": {
   "hash": "35e05afc3bbf8458d25376a416e873cf169d04b2fc4efc2b77204c35b02a6d38"
  },
  "kernelspec": {
   "display_name": "Python 3.9.6 64-bit",
   "name": "python3"
  },
  "language_info": {
   "codemirror_mode": {
    "name": "ipython",
    "version": 3
   },
   "file_extension": ".py",
   "mimetype": "text/x-python",
   "name": "python",
   "nbconvert_exporter": "python",
   "pygments_lexer": "ipython3",
   "version": "3.9.6"
  },
  "orig_nbformat": 4
 },
 "nbformat": 4,
 "nbformat_minor": 2
}