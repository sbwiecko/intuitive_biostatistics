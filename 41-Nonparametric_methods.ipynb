{
 "cells": [
  {
   "cell_type": "markdown",
   "metadata": {},
   "source": [
    "# Nonparametric methods\n",
    "Nonparametric methods are not based on the assumption that the values are samples from a Gaussian distribution. These methods work by ignoring the actual data values and instead analyzing only their **ranks**, from low to high values.  \n",
    "This approach ensures that the test isn't affected much by outliers."
   ]
  },
  {
   "cell_type": "code",
   "execution_count": 17,
   "metadata": {},
   "outputs": [],
   "source": [
    "import numpy as np\n",
    "import matplotlib.pyplot as plt\n",
    "%matplotlib inline\n",
    "\n",
    "import scipy.stats as ss"
   ]
  },
  {
   "cell_type": "markdown",
   "metadata": {},
   "source": [
    "## Comparing 2 unpaired groups: Mann-Whitney/Wilcoxon rank-sum test\n",
    "The data come from Chapter 30. Two values tie for ranks 4 and 5, so both are assigned a rank of 4.5"
   ]
  },
  {
   "cell_type": "code",
   "execution_count": 55,
   "metadata": {},
   "outputs": [],
   "source": [
    "old_rank = np.array([3, 1, 11, 6, 4.5, 8, 4.5, 12, 2])\n",
    "young_rank=np.array([10, 13, 14, 16, 15, 17, 9, 7])"
   ]
  },
  {
   "cell_type": "code",
   "execution_count": 9,
   "metadata": {},
   "outputs": [
    {
     "data": {
      "image/png": "[encoded data removed]",
      "text/plain": [
       "<Figure size 432x288 with 1 Axes>"
      ]
     },
     "metadata": {
      "needs_background": "light"
     },
     "output_type": "display_data"
    }
   ],
   "source": [
    "plt.boxplot([old_rank, young_rank])\n",
    "plt.xticks([1,2], ['old', 'young'])\n",
    "plt.ylabel('rank');"
   ]
  },
  {
   "cell_type": "markdown",
   "metadata": {},
   "source": [
    "### Method\n",
    "1. Rank the values;\n",
    "2. Sum the ranks in each group;\n",
    "3. Calculate the mean rank of each group;  \n",
    "If the means of the ranks in the two groups are very different, the P value will be small.\n",
    "4. Compute a P value for the null hypothesis that the distribution of ranks is totally random.\n",
    "If there are ties, different programs might calculate a different P value.  \n",
    "The null hypothesis is that the distributions of both groups are identical, so that there is a 50% probability that an observation from a value randomly selected from one population exceeds an observation randomly selected from the other population."
   ]
  },
  {
   "cell_type": "code",
   "execution_count": 10,
   "metadata": {},
   "outputs": [
    {
     "name": "stdout",
     "output_type": "stream",
     "text": [
      "52.0 101\n"
     ]
    }
   ],
   "source": [
    "sum_group_old = np.sum(old_rank)\n",
    "sum_group_young=np.sum(young_rank)\n",
    "print(sum_group_old, sum_group_young)"
   ]
  },
  {
   "cell_type": "code",
   "execution_count": 44,
   "metadata": {},
   "outputs": [
    {
     "name": "stdout",
     "output_type": "stream",
     "text": [
      "5.777777777777778 12.625\n"
     ]
    }
   ],
   "source": [
    "mean_group_old = np.mean(old_rank)\n",
    "mean_group_young=np.mean(young_rank)\n",
    "print(mean_group_old, mean_group_young)"
   ]
  },
  {
   "cell_type": "markdown",
   "metadata": {},
   "source": [
    "### Starting from raw data"
   ]
  },
  {
   "cell_type": "code",
   "execution_count": 48,
   "metadata": {},
   "outputs": [],
   "source": [
    "old = np.array([20.8, 2.8, 50, 33.3, 29.4, 38.9, 29.4, 52.6, 14.3])\n",
    "young=np.array([45.5, 55, 60.7, 61.5, 61.1, 65.5, 42.9, 37.5])"
   ]
  },
  {
   "cell_type": "code",
   "execution_count": 54,
   "metadata": {},
   "outputs": [
    {
     "data": {
      "text/plain": [
       "array([ 3. ,  1. , 11. ,  6. ,  4.5,  8. ,  4.5, 12. ,  2. , 10. , 13. ,\n",
       "       14. , 16. , 15. , 17. ,  9. ,  7. ])"
      ]
     },
     "execution_count": 54,
     "metadata": {},
     "output_type": "execute_result"
    }
   ],
   "source": [
    "ss.rankdata(np.concatenate([old, young]))"
   ]
  },
  {
   "cell_type": "code",
   "execution_count": 49,
   "metadata": {},
   "outputs": [
    {
     "data": {
      "text/plain": [
       "RanksumsResult(statistic=-2.790526301083191, pvalue=0.0052622424628052285)"
      ]
     },
     "execution_count": 49,
     "metadata": {},
     "output_type": "execute_result"
    }
   ],
   "source": [
    "ss.ranksums(old, young)"
   ]
  },
  {
   "cell_type": "markdown",
   "metadata": {},
   "source": [
    "This test should be used to compare two samples from continuous distributions. It does not handle ties between measurements in x and y. For tie-handling and an optional continuity correction see scipy.stats.mannwhitneyu"
   ]
  },
  {
   "cell_type": "code",
   "execution_count": 66,
   "metadata": {},
   "outputs": [
    {
     "data": {
      "text/plain": [
       "MannwhitneyuResult(statistic=7.0, pvalue=0.0030338920618032113)"
      ]
     },
     "execution_count": 66,
     "metadata": {},
     "output_type": "execute_result"
    }
   ],
   "source": [
    "ss.mannwhitneyu(old, young)"
   ]
  },
  {
   "cell_type": "markdown",
   "metadata": {},
   "source": [
    "## Comparing 2 paired groups: Wilcoxon matched-pairs signed-rank test\n",
    "It tests the null hypothesis that there is no difference in the population and so the differences between matched pairs will be randomly positive or negative."
   ]
  },
  {
   "cell_type": "markdown",
   "metadata": {},
   "source": [
    "### Method\n",
    "1. Calculate the difference between each matched pair, keeping track of the sign (decrease = negative);\n",
    "2. Rank the _absolute_ value of the differences, temporarily ignoring the sign;\n",
    "3. Add up the ranks of all positive differences and the ranks of all the negative differences;\n",
    "4. Compute the difference between those two sums;\n",
    "5. Compute a P value: if the H$_0$ were true, what would be the chance of randomly choosing samples such that the sums of the absolute values of the positive and negative ranks would differ by X or more?"
   ]
  },
  {
   "cell_type": "markdown",
   "metadata": {},
   "source": [
    "### Example from chapter 31"
   ]
  },
  {
   "cell_type": "code",
   "execution_count": 56,
   "metadata": {},
   "outputs": [],
   "source": [
    "cross = np.array([23.5, 12, 21, 22, 19.125, 21.5, 22.125, 20.375,\n",
    "                 18.250, 21.625, 23.250, 21, 22.125, 23, 12])\n",
    "self =  np.array([17.375, 20.375, 20, 20, 18.375, 18.625, 18.625, 15.25,\n",
    "                 16.5, 18, 16.25, 18, 12.75, 15.5, 18])"
   ]
  },
  {
   "cell_type": "code",
   "execution_count": 57,
   "metadata": {},
   "outputs": [],
   "source": [
    "diff = cross - self"
   ]
  },
  {
   "cell_type": "code",
   "execution_count": 58,
   "metadata": {},
   "outputs": [
    {
     "data": {
      "text/plain": [
       "array([ 6.125, -8.375,  1.   ,  2.   ,  0.75 ,  2.875,  3.5  ,  5.125,\n",
       "        1.75 ,  3.625,  7.   ,  3.   ,  9.375,  7.5  , -6.   ])"
      ]
     },
     "execution_count": 58,
     "metadata": {},
     "output_type": "execute_result"
    }
   ],
   "source": [
    "diff"
   ]
  },
  {
   "cell_type": "code",
   "execution_count": 60,
   "metadata": {},
   "outputs": [
    {
     "data": {
      "text/plain": [
       "array([11., 14.,  2.,  4.,  1.,  5.,  7.,  9.,  3.,  8., 12.,  6., 15.,\n",
       "       13., 10.])"
      ]
     },
     "execution_count": 60,
     "metadata": {},
     "output_type": "execute_result"
    }
   ],
   "source": [
    "rank = ss.rankdata(np.absolute(diff))\n",
    "rank"
   ]
  },
  {
   "cell_type": "code",
   "execution_count": 61,
   "metadata": {},
   "outputs": [
    {
     "data": {
      "text/plain": [
       "(96.0, 24.0)"
      ]
     },
     "execution_count": 61,
     "metadata": {},
     "output_type": "execute_result"
    }
   ],
   "source": [
    "sum_rank_pos = np.sum(rank[diff > 0])\n",
    "sum_rank_neg = np.sum(rank[diff < 0])\n",
    "sum_rank_pos, sum_rank_neg"
   ]
  },
  {
   "cell_type": "code",
   "execution_count": 64,
   "metadata": {},
   "outputs": [
    {
     "data": {
      "text/plain": [
       "72.0"
      ]
     },
     "execution_count": 64,
     "metadata": {},
     "output_type": "execute_result"
    }
   ],
   "source": [
    "sum_rank_pos - sum_rank_neg"
   ]
  },
  {
   "cell_type": "code",
   "execution_count": 63,
   "metadata": {},
   "outputs": [
    {
     "data": {
      "text/plain": [
       "WilcoxonResult(statistic=24.0, pvalue=0.04088813291185591)"
      ]
     },
     "execution_count": 63,
     "metadata": {},
     "output_type": "execute_result"
    }
   ],
   "source": [
    "ss.wilcoxon(cross, self)"
   ]
  },
  {
   "cell_type": "markdown",
   "metadata": {},
   "source": [
    "## Nonparamtric correlation - Spearman's rank correlation\n",
    "It separately ranks the X and Y values and then computes the correlation between the two sets of ranks. Pearson correlation quantifies the _linear_ relationship between X and Y, while Spearman quantifies the _monotonic_ relationship between X and Y."
   ]
  },
  {
   "cell_type": "markdown",
   "metadata": {},
   "source": [
    "### Example from chapter 32"
   ]
  },
  {
   "cell_type": "code",
   "execution_count": 67,
   "metadata": {},
   "outputs": [],
   "source": [
    "insulin_sensitiv = np.array([250, 220, 145, 115, 230, 200, 330, 400, 370, 260, 270, 530, 375])\n",
    "C2022_fatacids = np.array([17.9, 18.3, 18.3, 18.4, 18.4, 20.2, 20.3, 21.8, 21.9, 22.1, 23.1, 24.2, 24.4])"
   ]
  },
  {
   "cell_type": "code",
   "execution_count": 71,
   "metadata": {},
   "outputs": [
    {
     "data": {
      "image/png": "[encoded data removed]",
      "text/plain": [
       "<Figure size 432x288 with 1 Axes>"
      ]
     },
     "metadata": {
      "needs_background": "light"
     },
     "output_type": "display_data"
    }
   ],
   "source": [
    "plt.plot(C2022_fatacids, insulin_sensitiv, 'b+', linestyle='none');"
   ]
  },
  {
   "cell_type": "code",
   "execution_count": 72,
   "metadata": {},
   "outputs": [
    {
     "data": {
      "text/plain": [
       "[<matplotlib.lines.Line2D at 0x26b092b3d30>]"
      ]
     },
     "execution_count": 72,
     "metadata": {},
     "output_type": "execute_result"
    },
    {
     "data": {
      "image/png": "[encoded data removed]",
      "text/plain": [
       "<Figure size 432x288 with 1 Axes>"
      ]
     },
     "metadata": {
      "needs_background": "light"
     },
     "output_type": "display_data"
    }
   ],
   "source": [
    "X_rank = ss.rankdata(C2022_fatacids)\n",
    "Y_rank = ss.rankdata(insulin_sensitiv)\n",
    "plt.plot(X_rank, Y_rank, 'ro', linestyle='none')"
   ]
  },
  {
   "cell_type": "code",
   "execution_count": 82,
   "metadata": {},
   "outputs": [
    {
     "name": "stdout",
     "output_type": "stream",
     "text": [
      "the nonparametric correlation coefficient rs is 0.7438044752782766\n"
     ]
    }
   ],
   "source": [
    "r_s = np.corrcoef(X_rank, Y_rank)[0,1]\n",
    "print(f\"the nonparametric correlation coefficient rs is {r_s:}\")"
   ]
  },
  {
   "cell_type": "code",
   "execution_count": 80,
   "metadata": {},
   "outputs": [
    {
     "data": {
      "text/plain": [
       "SpearmanrResult(correlation=0.7438044752782768, pvalue=0.0035581937201355457)"
      ]
     },
     "execution_count": 80,
     "metadata": {},
     "output_type": "execute_result"
    }
   ],
   "source": [
    "ss.spearmanr(C2022_fatacids, insulin_sensitiv)"
   ]
  },
  {
   "cell_type": "markdown",
   "metadata": {},
   "source": [
    "The P value tests the H0 that there is no rank correlation in the overall population."
   ]
  },
  {
   "cell_type": "markdown",
   "metadata": {},
   "source": [
    "## Nonparametric ANOVA\n",
    "See Kruskal-Wallis test (one-way ANOVA) and Friedman's test (repeated-measures one-way ANOVA). These tests first rank the data from low to high and then analyze the distribution of the ranks amoing groups."
   ]
  },
  {
   "cell_type": "code",
   "execution_count": null,
   "metadata": {},
   "outputs": [],
   "source": []
  }
 ],
 "metadata": {
  "kernelspec": {
   "display_name": "Python 3",
   "language": "python",
   "name": "python3"
  },
  "language_info": {
   "codemirror_mode": {
    "name": "ipython",
    "version": 3
   },
   "file_extension": ".py",
   "mimetype": "text/x-python",
   "name": "python",
   "nbconvert_exporter": "python",
   "pygments_lexer": "ipython3",
   "version": "3.7.1"
  }
 },
 "nbformat": 4,
 "nbformat_minor": 2
}
