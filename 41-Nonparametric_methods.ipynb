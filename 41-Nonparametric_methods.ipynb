{
 "cells": [
  {
   "cell_type": "markdown",
   "source": [
    "# Nonparametric methods\r\n",
    "\r\n",
    "Nonparametric methods are not based on the assumption that the values (unpaired t tests and ANOVA) or the set of differences (between paired/matched values like in paired t tests and repeated measures ANOVA) are sampled from a Gaussian distribution, i.e. that can be defined by parameters. These methods work by ignoring the actual data values and instead analyzing only their **ranks**, from low to high values. This approach ensures that the test isn't affected much by outliers.\r\n",
    "\r\n",
    "Computer-intensive resampling and bootstrapping methods also do not assume a specified distribution so they are also nonparametric.\r\n",
    "\r\n",
    "Note - _Biological data never follow a Gaussian distribution precisely, because a Gaussian distribution extends infinitely in both directions and so includes both infinitely low negative numbers and infinitely high positive numbers. But, many kinds of biological data follow a bell-shaped distribution that is approximately Gaussian. Because ANOVA, t tests, and other statistical tests work well even if the distribution is only approximately Gaussian, especially with large samples, these tests are used routinely in many fields of science._\r\n",
    "\r\n",
    "Besides the advantages of nonparametric tests that don't require the assumption of sampling from a Gaussian population, these tests are less powerful when the data are Gaussian, the results are usually not reported with CIs and they are not readily extended to regression models. In general, the problem comes with small samples.\r\n",
    "\r\n",
    "| Distribution | Test          | Small samples               | Large samples                               |\r\n",
    "| ------------ | ------------- | --------------------------- | ------------------------------------------- |\r\n",
    "| Gaussian     | Nonparametric | Misleading, little power    | Nearly as powerful as parametric tests      |\r\n",
    "| Non-Gaussian | Parametric    | Misleading, not very robust | Robust to violations of Gaussian assumption |\r\n",
    "| Not sure     | Normality     | Not very helpful            | Helpful                                     |\r\n",
    "\r\n",
    "Indeed, the central limit theorem ensures that parametric tests work well with large samples even if the data are sampled from non-Gaussian populations, i.e. they are robust to mild deviations from Gaussian distributions so long as the samples are large.\r\n",
    "\r\n",
    "![selection of the nonparamettric method](https://pingouin-stats.org/_images/flowchart_nonparametric.svg)"
   ],
   "metadata": {}
  },
  {
   "cell_type": "code",
   "execution_count": 1,
   "source": [
    "import numpy as np\r\n",
    "import pandas as pd\r\n",
    "import matplotlib.pyplot as plt\r\n",
    "import seaborn as sns\r\n",
    "\r\n",
    "from scipy import stats"
   ],
   "outputs": [],
   "metadata": {}
  },
  {
   "cell_type": "markdown",
   "source": [
    "## Comparing two unpaired groups\r\n",
    "\r\n",
    "If we have two groups with observations $x_1, x_2, …, x_m$ and $y_1, y_2, …, y_n$ sampled from X and Y populations, then **Mann-Whitney U/Wilcoxon rank-sum test** compares each observation $x_i$ from sample x with each observation $y_j$ from sample y. The null hypothesis $p(x_i > y_j)=0.5$; the alternative hypothesis is therefore $p(x_i > y_j) \\neq 0.5$.\r\n",
    "\r\n",
    "Above two-sided alternative hypothesis tests that there is equal probability of $x_i$ is greater or lesser than $y_j$ (both groups came from same population), one-sided alternative hypothesis tests probability of $x_i$ is greater than $y_j$ and vice versa.\r\n",
    "\r\n",
    "We can also state the two-sided hypothesis in terms of median as, Null hypothesis: Two groups have equal median; Alternative hypothesis: Two groups does not have equal median.\r\n",
    "\r\n",
    "One-sided alternative hypothesis tests median from one group can be greater or lesser than other group.\r\n",
    "\r\n",
    "The data analyzed below come from the chapter on t tests. Two values tie for ranks 4 and 5, so both are assigned a rank of 4.5"
   ],
   "metadata": {}
  },
  {
   "cell_type": "code",
   "execution_count": 2,
   "source": [
    "old_rank  = np.array([3, 1, 11, 6, 4.5, 8, 4.5, 12, 2])\r\n",
    "young_rank= np.array([10, 13, 14, 16, 15, 17, 9, 7])"
   ],
   "outputs": [],
   "metadata": {}
  },
  {
   "cell_type": "code",
   "execution_count": 3,
   "source": [
    "sns.swarmplot(data=[old_rank, young_rank], size=10, color='black')\r\n",
    "plt.xticks([0,1], ['old', 'young'])\r\n",
    "plt.ylabel('rank');"
   ],
   "outputs": [
    {
     "output_type": "display_data",
     "data": {
      "image/png": "[encoded data removed]",
      "text/plain": [
       "<Figure size 432x288 with 1 Axes>"
      ]
     },
     "metadata": {
      "needs_background": "light"
     }
    }
   ],
   "metadata": {}
  },
  {
   "cell_type": "markdown",
   "source": [
    "### Method\r\n",
    "\r\n",
    "1. Rank the values.\r\n",
    "2. Sum the ranks in each group.\r\n",
    "3. Calculate the mean rank of each group. If the means of the ranks in the two groups are very different, the P value will be small.\r\n",
    "4. Compute a P value for the null hypothesis that the distribution of ranks is totally random.\r\n",
    "\r\n",
    "If there are ties, different programs might calculate a different P value.\r\n",
    "\r\n",
    "The null hypothesis is that the distributions of both groups are identical, so that there is a 50% probability that an observation from a value randomly selected from one population exceeds an observation randomly selected from the other population. Based on the null hypothesis, the P value answers the question\r\n",
    ">if the distribution of ranks between two groups were distributed randomly, what is the probability that the difference between the mean ranks would be this large or even larger?²\r\n",
    "\r\n",
    "Say differently, The Mann-Whitney U test (also called Wilcoxon rank-sum test) is a non-parametric test of the null hypothesis that it is equally likely that a randomly selected value from one sample will be less than or greater than a randomly selected value from a second sample. The test assumes that the two samples are independent. The rank biserial correlation is the difference between the proportion of favorable evidence minus the proportion of unfavorable evidence. The common language effect size is the proportion of pairs where x is higher than y."
   ],
   "metadata": {}
  },
  {
   "cell_type": "code",
   "execution_count": 4,
   "source": [
    "mean_rank_old  = np.mean(old_rank)\r\n",
    "mean_rank_young= np.mean(young_rank)\r\n",
    "\r\n",
    "print(f\"The mean of the ranks for `old`={mean_rank_old:.3f}, and for `young`={mean_rank_young:.3f}\")"
   ],
   "outputs": [
    {
     "output_type": "stream",
     "name": "stdout",
     "text": [
      "The mean of the ranks for `old`=5.778, and for `young`=12.625\n"
     ]
    }
   ],
   "metadata": {}
  },
  {
   "cell_type": "code",
   "execution_count": 5,
   "source": [
    "old =  np.array([20.8, 2.8, 50, 33.3, 29.4, 38.9, 29.4, 52.6, 14.3])\r\n",
    "young= np.array([45.5, 55, 60.7, 61.5, 61.1, 65.5, 42.9, 37.5])"
   ],
   "outputs": [],
   "metadata": {}
  },
  {
   "cell_type": "code",
   "execution_count": 6,
   "source": [
    "sns.swarmplot(data=[old, young], size=10, color='black')\r\n",
    "plt.xticks([0,1], ['old', 'young'])\r\n",
    "plt.ylabel('actual values');"
   ],
   "outputs": [
    {
     "output_type": "display_data",
     "data": {
      "image/png": "[encoded data removed]",
      "text/plain": [
       "<Figure size 432x288 with 1 Axes>"
      ]
     },
     "metadata": {
      "needs_background": "light"
     }
    }
   ],
   "metadata": {}
  },
  {
   "cell_type": "markdown",
   "source": [
    "Calculate the U statistics for each group as $U_x = mn+\\frac{m(m+1)}{2}-R_x$ and $U_y = mn+\\frac{n(n+1)}{2}-R_y$, where $m$ is the number of samples drawn from population X, $n$ the number of samples drawn from population Y, and $R_x$, $R_y$ is the sum of the ranks attributed to population X and Y.\r\n",
    "\r\n",
    "The U statistics is the minimum of U statistics of both groups $U=min(U_x,U_y)$.\r\n",
    "\r\n",
    "The p value is calculated based on the comparison between the [critical value](https://sphweb.bumc.bu.edu/otlt/mph-modules/bs/bs704_nonparametric/Mann-Whitney-Table-CriticalValues.pdf) and the U value. If $U \\leq U_{critical}$, we reject the null hypothesis and vice versa."
   ],
   "metadata": {}
  },
  {
   "cell_type": "code",
   "execution_count": 7,
   "source": [
    "stats.rankdata(np.concatenate([old, young]))"
   ],
   "outputs": [
    {
     "output_type": "execute_result",
     "data": {
      "text/plain": [
       "array([ 3. ,  1. , 11. ,  6. ,  4.5,  8. ,  4.5, 12. ,  2. , 10. , 13. ,\n",
       "       14. , 16. , 15. , 17. ,  9. ,  7. ])"
      ]
     },
     "metadata": {},
     "execution_count": 7
    }
   ],
   "metadata": {}
  },
  {
   "cell_type": "code",
   "execution_count": 8,
   "source": [
    "sum_rank_old  = np.sum(old_rank)\r\n",
    "sum_rank_young= np.sum(young_rank)\r\n",
    "\r\n",
    "len_old  = len(old)\r\n",
    "len_young= len(young)\r\n",
    "\r\n",
    "print(f\"The mean of the ranks for `old`={sum_rank_old} of length {len_old}, \\\r\n",
    "and for `young`={sum_rank_young} or len {len_young}\")\r\n",
    "\r\n",
    "U_old  = len_old * len_young + len(old)*(  len(old)  +1)/2 - sum_rank_old\r\n",
    "U_young= len_old * len_young + len(young)*(len(young)+1)/2 - sum_rank_young\r\n",
    "\r\n",
    "print(f\"U`old`={U_old}, and U`young`={U_young}, thus U={min(U_old,U_young)}\")\r\n",
    "\r\n",
    "print(f\"Critical U=15 for alpha=0.05\")"
   ],
   "outputs": [
    {
     "output_type": "stream",
     "name": "stdout",
     "text": [
      "The mean of the ranks for `old`=52.0 of length 9, and for `young`=101 or len 8\n",
      "U`old`=65.0, and U`young`=7.0, thus U=7.0\n",
      "Critical U=15 for alpha=0.05\n"
     ]
    }
   ],
   "metadata": {}
  },
  {
   "cell_type": "markdown",
   "source": [
    "### Using scipy.stats"
   ],
   "metadata": {}
  },
  {
   "cell_type": "code",
   "execution_count": 9,
   "source": [
    "stats.mannwhitneyu(old, young, method='exact', alternative='two-sided') # with 'exact' no correction is made for ties"
   ],
   "outputs": [
    {
     "output_type": "execute_result",
     "data": {
      "text/plain": [
       "MannwhitneyuResult(statistic=7.0, pvalue=0.0037021801727684074)"
      ]
     },
     "metadata": {},
     "execution_count": 9
    }
   ],
   "metadata": {}
  },
  {
   "cell_type": "markdown",
   "source": [
    "It certainly is not impossible that random sampling of values from two identical populations would lead to sums of ranks this far apart, but it would be very unlikely. Accordingly, we conclude that the difference between the young and old group values is statistically significant.\r\n",
    "\r\n",
    "NOTE - p value obtained from mannwhitneyu is based on the normal approximation and not exact. Set use_continuity=False for exact p value. Normal approximation is useful when sample size is large. Both exact and normal approximation p value should be roughly similar."
   ],
   "metadata": {}
  },
  {
   "cell_type": "code",
   "execution_count": 11,
   "source": [
    "stats.mannwhitneyu(old, young, use_continuity=False)"
   ],
   "outputs": [
    {
     "output_type": "execute_result",
     "data": {
      "text/plain": [
       "MannwhitneyuResult(statistic=7.0, pvalue=0.0052344878643829085)"
      ]
     },
     "metadata": {},
     "execution_count": 11
    }
   ],
   "metadata": {}
  },
  {
   "cell_type": "markdown",
   "source": [
    "Note - The `ranksums` method should be used to compare two samples from continuous distributions. It does not handle ties between measurements in x and y. For tie-handling and an optional continuity correction see [scipy.stats.mannwhitneyu](https://docs.scipy.org/doc/scipy/reference/generated/scipy.stats.mannwhitneyu.html#scipy.stats.mannwhitneyu)."
   ],
   "metadata": {}
  },
  {
   "cell_type": "code",
   "execution_count": 12,
   "source": [
    "stats.ranksums(old, young)"
   ],
   "outputs": [
    {
     "output_type": "execute_result",
     "data": {
      "text/plain": [
       "RanksumsResult(statistic=-2.790526301083191, pvalue=0.0052622424628052285)"
      ]
     },
     "metadata": {},
     "execution_count": 12
    }
   ],
   "metadata": {}
  },
  {
   "cell_type": "markdown",
   "source": [
    "### Using pingouin"
   ],
   "metadata": {}
  },
  {
   "cell_type": "code",
   "execution_count": 13,
   "source": [
    "import pingouin as pg\r\n",
    "\r\n",
    "pg.mwu(old, young, method='exact', alternative='two-sided')"
   ],
   "outputs": [
    {
     "output_type": "execute_result",
     "data": {
      "text/html": [
       "<div>\n",
       "<style scoped>\n",
       "    .dataframe tbody tr th:only-of-type {\n",
       "        vertical-align: middle;\n",
       "    }\n",
       "\n",
       "    .dataframe tbody tr th {\n",
       "        vertical-align: top;\n",
       "    }\n",
       "\n",
       "    .dataframe thead th {\n",
       "        text-align: right;\n",
       "    }\n",
       "</style>\n",
       "<table border=\"1\" class=\"dataframe\">\n",
       "  <thead>\n",
       "    <tr style=\"text-align: right;\">\n",
       "      <th></th>\n",
       "      <th>U-val</th>\n",
       "      <th>alternative</th>\n",
       "      <th>p-val</th>\n",
       "      <th>RBC</th>\n",
       "      <th>CLES</th>\n",
       "    </tr>\n",
       "  </thead>\n",
       "  <tbody>\n",
       "    <tr>\n",
       "      <th>MWU</th>\n",
       "      <td>7.0</td>\n",
       "      <td>two-sided</td>\n",
       "      <td>0.003702</td>\n",
       "      <td>0.805556</td>\n",
       "      <td>0.097222</td>\n",
       "    </tr>\n",
       "  </tbody>\n",
       "</table>\n",
       "</div>"
      ],
      "text/plain": [
       "     U-val alternative     p-val       RBC      CLES\n",
       "MWU    7.0   two-sided  0.003702  0.805556  0.097222"
      ]
     },
     "metadata": {},
     "execution_count": 13
    }
   ],
   "metadata": {}
  },
  {
   "cell_type": "markdown",
   "source": [
    "### Off scale values\r\n",
    "\r\n",
    "If some values are too high or too low to be quantified, parametric tests cannot be used, because those values are not known. Assign values too low to measure an arbitrary very low value and assign values too high to measure an arbitrary very high value. Because the nonparametric test only knows about the relative ranks of the values, it won't matter that you didn't enter those extreme values precisely."
   ],
   "metadata": {}
  },
  {
   "cell_type": "markdown",
   "source": [
    "## Comparing 2 paired groups\r\n",
    "\r\n",
    "**Wilcoxon matched-pairs signed-rank test** ( tests the null hypothesis that there is no difference in the population and so the differences between matched pairs will be randomly positive or negative. The Wilcoxon signed-rank test tests the null hypothesis that two related paired samples come from the same distribution. In particular, it tests whether the distribution of the differences x - y is symmetric about zero."
   ],
   "metadata": {}
  },
  {
   "cell_type": "markdown",
   "source": [
    "### Method\r\n",
    "\r\n",
    "1. Calculate the difference between each matched pair, keeping track of the sign (decrease = negative);\r\n",
    "2. Rank the _absolute_ value of the differences, temporarily ignoring the sign;\r\n",
    "3. Add up the ranks of all positive differences and the ranks of all the negative differences;\r\n",
    "4. Compute the difference between those two sums;\r\n",
    "5. Compute a P value: if the the null hypothesis were true, what would be the chance of randomly choosing samples such that the sums of the absolute values of the positive and negative ranks would differ by X or more?\r\n",
    "\r\n",
    "The Wilcoxon signed rank test uses the sum of the signed ranks as the test statistic $W$:\r\n",
    "\r\n",
    "$$ W=\\sum _{{i=1}}^{{N}}[\\operatorname{sgn}(x_{{2,i}}-x_{{1,i}})\\cdot R_{i}] $$\r\n",
    "\r\n",
    "Here, the $i$-th of N measurement pairs is indicated by $x_i=(x_{1,i},x_{2,i})$ and $R_i$ denotes the rank of the pair. The rank simply represents the position of an observation in an ordered list of $|x_{2,i} - x_{1,i}|$. The inuition of the test statistic is that pairs with large absolute differences will have large ranks $R_i$. Thus, these pairs are the determining factors of $W$, while pairs exhibiting small absolute differences have a low $R_i$ and therefore little influence on the outcome of the test. Since the test statistic is based on ranks rather than the measurements themselves, the Wilcoxon signed rank test can be thought of as testing for shifts in median values between two groups.\r\n"
   ],
   "metadata": {}
  },
  {
   "cell_type": "code",
   "execution_count": 14,
   "source": [
    "# example data from the chapter on paired groups\r\n",
    "cross_val = np.array(\r\n",
    "    [23.5, 12, 21, 22, 19.125, 21.5, 22.125, 20.375, 18.250, 21.625, 23.250, 21, 22.125, 23, 12]\r\n",
    ")\r\n",
    "self_val =  np.array(\r\n",
    "    [17.375, 20.375, 20, 20, 18.375, 18.625, 18.625, 15.25,16.5, 18, 16.25, 18, 12.75, 15.5, 18]\r\n",
    ")"
   ],
   "outputs": [],
   "metadata": {}
  },
  {
   "cell_type": "code",
   "execution_count": 15,
   "source": [
    "df = pd.DataFrame(data={\r\n",
    "    'cross_fertilized': cross_val,\r\n",
    "    'self_fertilized' : self_val\r\n",
    "    }\r\n",
    ")\r\n",
    "\r\n",
    "ax = pg.plot_paired(\r\n",
    "    # crazy data reshaping to fit the needs for a long-format dataFrame...\r\n",
    "    data=df.reset_index().melt(\r\n",
    "        value_vars=['cross_fertilized', 'self_fertilized'],\r\n",
    "        id_vars='index',\r\n",
    "        var_name='fertilization',\r\n",
    "        value_name='plant_height'),\r\n",
    "    dv='plant_height',\r\n",
    "    within='fertilization',\r\n",
    "    subject='index',\r\n",
    "    boxplot=True,\r\n",
    "    orient='v',\r\n",
    "    boxplot_in_front=False,\r\n",
    "    figsize=(4,4.5),\r\n",
    "    boxplot_kwargs={'color': 'white'},\r\n",
    ")"
   ],
   "outputs": [
    {
     "output_type": "display_data",
     "data": {
      "image/png": "[encoded data removed]",
      "text/plain": [
       "<Figure size 400x450 with 1 Axes>"
      ]
     },
     "metadata": {
      "needs_background": "light"
     }
    }
   ],
   "metadata": {}
  },
  {
   "cell_type": "code",
   "execution_count": 16,
   "source": [
    "diff = cross_val - self_val\r\n",
    "print(\"The array of differences between pairs is:\", diff, sep='\\n')"
   ],
   "outputs": [
    {
     "output_type": "stream",
     "name": "stdout",
     "text": [
      "The array of differences between pairs is:\n",
      "[ 6.125 -8.375  1.     2.     0.75   2.875  3.5    5.125  1.75   3.625\n",
      "  7.     3.     9.375  7.5   -6.   ]\n"
     ]
    }
   ],
   "metadata": {}
  },
  {
   "cell_type": "markdown",
   "source": [
    "The first warning arises because the test ranks differences in the extra values of pairs. If two pairs share the same difference, ties arise during ranking. **Why are ties a problem?** The rank assigned to ties is based on the average of the ranks they span. Thus, if there are many ties, this reduces the expressiveness of the test statistic rendering the Wilcoxon test inappropriate. Since we only have a single tie here, this is not a problem.\r\n",
    "\r\n",
    "The second warning relates to pairs where the difference is 0. **Why are zeros a problem?** Remember that the null hypothesis is that the differences of the pairs are centered around 0. However, observing differences where the value is exactly 0 do not give us any information for the rejection of the null. Therefore, _these pairs are discarded when computing the test statistic._ If this is the case for many of the pairs, the statistical power of the test would drop considerably. Again, this is not a problem for us as only a single zero value is present."
   ],
   "metadata": {}
  },
  {
   "cell_type": "code",
   "execution_count": 17,
   "source": [
    "rank = stats.rankdata(np.absolute(diff))\r\n",
    "print(\"The ranks of the obsolute value of the difference is:\", rank, sep='\\n')"
   ],
   "outputs": [
    {
     "output_type": "stream",
     "name": "stdout",
     "text": [
      "The ranks of the obsolute value of the difference is:\n",
      "[11. 14.  2.  4.  1.  5.  7.  9.  3.  8. 12.  6. 15. 13. 10.]\n"
     ]
    }
   ],
   "metadata": {}
  },
  {
   "cell_type": "code",
   "execution_count": 18,
   "source": [
    "W_pos = np.sum(rank[diff > 0])\r\n",
    "W_neg = np.sum(rank[diff < 0])\r\n",
    "print(f\"The sum of the ranks of all positive differences W+ = {W_pos} and the one for all the negative differences W- = {W_neg}\")"
   ],
   "outputs": [
    {
     "output_type": "stream",
     "name": "stdout",
     "text": [
      "The sum of the ranks of all positive differences W+ = 96.0 and the one for all the negative differences W- = 24.0\n"
     ]
    }
   ],
   "metadata": {}
  },
  {
   "cell_type": "code",
   "execution_count": 20,
   "source": [
    "print(f\"The difference between those two sum={W_pos - W_neg}, and the W statistics={min(W_pos,W_neg)}\")"
   ],
   "outputs": [
    {
     "output_type": "stream",
     "name": "stdout",
     "text": [
      "The difference between those two sum=72.0, and the W statistics=24.0\n"
     ]
    }
   ],
   "metadata": {}
  },
  {
   "cell_type": "markdown",
   "source": [
    "Use [tables of critical values for the Wilcoxon signed rank sum test](https://www.real-statistics.com/statistics-tables/wilcoxon-signed-ranks-table/) to find the probability of observing a value of W or more extreme. Most tables give both one-sided and two-sided p-values. If not, double the one-sided p-value to obtain the two-sided p-value. This is an exact test. The critical value is the value that a test statistic must exceed in order for the null hypothesis to be rejected. Thus, with a W statistics slightly lower than the critcal value, the P value should be around the alpha set for the analysis, i.e. $P \\approx 0.05$.\r\n",
    "\r\n",
    "The P value is approximated for small samples using tables. When both sample sizes are 10 or greater, we can treat the distribution of $W$ as if it were $\\mathrm{Normal}(\\mu_A, \\sigma_A)$."
   ],
   "metadata": {}
  },
  {
   "cell_type": "code",
   "execution_count": 21,
   "source": [
    "print(f\"Critical W=25 for alpha=0.05 and n={len(diff)}\")"
   ],
   "outputs": [
    {
     "output_type": "stream",
     "name": "stdout",
     "text": [
      "Critical W=25 for alpha=0.05 and n=15\n"
     ]
    }
   ],
   "metadata": {}
  },
  {
   "cell_type": "markdown",
   "source": [
    "### Using scipy.stats and pingouin\r\n",
    "\r\n",
    "To derive the p-value with `wilcoxon`, the exact distribution (mode == 'exact') can be used for sample sizes of up to 25. The default mode == 'auto' uses the exact distribution if there are at most 25 observations and no ties, otherwise a normal approximation is used (mode == 'approx')."
   ],
   "metadata": {}
  },
  {
   "cell_type": "code",
   "execution_count": 22,
   "source": [
    "stats.wilcoxon(x=cross_val, y=self_val, mode='exact')"
   ],
   "outputs": [
    {
     "output_type": "execute_result",
     "data": {
      "text/plain": [
       "WilcoxonResult(statistic=24.0, pvalue=0.041259765625)"
      ]
     },
     "metadata": {},
     "execution_count": 22
    }
   ],
   "metadata": {}
  },
  {
   "cell_type": "code",
   "execution_count": 23,
   "source": [
    "stats.wilcoxon(diff) # we can also plug in the method the array of the differences"
   ],
   "outputs": [
    {
     "output_type": "execute_result",
     "data": {
      "text/plain": [
       "WilcoxonResult(statistic=24.0, pvalue=0.041259765625)"
      ]
     },
     "metadata": {},
     "execution_count": 23
    }
   ],
   "metadata": {}
  },
  {
   "cell_type": "code",
   "execution_count": 24,
   "source": [
    "pg.wilcoxon(cross_val, self_val, alternative='two-sided')"
   ],
   "outputs": [
    {
     "output_type": "execute_result",
     "data": {
      "text/html": [
       "<div>\n",
       "<style scoped>\n",
       "    .dataframe tbody tr th:only-of-type {\n",
       "        vertical-align: middle;\n",
       "    }\n",
       "\n",
       "    .dataframe tbody tr th {\n",
       "        vertical-align: top;\n",
       "    }\n",
       "\n",
       "    .dataframe thead th {\n",
       "        text-align: right;\n",
       "    }\n",
       "</style>\n",
       "<table border=\"1\" class=\"dataframe\">\n",
       "  <thead>\n",
       "    <tr style=\"text-align: right;\">\n",
       "      <th></th>\n",
       "      <th>W-val</th>\n",
       "      <th>alternative</th>\n",
       "      <th>p-val</th>\n",
       "      <th>RBC</th>\n",
       "      <th>CLES</th>\n",
       "    </tr>\n",
       "  </thead>\n",
       "  <tbody>\n",
       "    <tr>\n",
       "      <th>Wilcoxon</th>\n",
       "      <td>24.0</td>\n",
       "      <td>two-sided</td>\n",
       "      <td>0.04126</td>\n",
       "      <td>0.6</td>\n",
       "      <td>0.824444</td>\n",
       "    </tr>\n",
       "  </tbody>\n",
       "</table>\n",
       "</div>"
      ],
      "text/plain": [
       "          W-val alternative    p-val  RBC      CLES\n",
       "Wilcoxon   24.0   two-sided  0.04126  0.6  0.824444"
      ]
     },
     "metadata": {},
     "execution_count": 24
    }
   ],
   "metadata": {}
  },
  {
   "cell_type": "markdown",
   "source": [
    "## Spearman's rank correlation\r\n",
    "\r\n",
    "It separately ranks the X and Y values and then computes the correlation between the two sets of ranks. Pearson correlation quantifies the _linear_ relationship between X and Y, while Spearman quantifies the _monotonic_ relationship between X and Y.\r\n",
    "\r\n",
    "_The nonparametric correlation methods have been discussed in details in the chapter about linear regression._"
   ],
   "metadata": {}
  },
  {
   "cell_type": "markdown",
   "source": [
    "## Nonparametric ANOVA\r\n",
    "\r\n",
    "See **Kruskal-Wallis test** (one-way ANOVA) and **Friedman's test** (repeated-measures one-way ANOVA). These tests first rank the data from low to high and then analyze the distribution of the ranks among groups.\r\n",
    "\r\n",
    "The Kruskal-Wallis H-test tests the null hypothesis that the population median of all of the groups are equal. The test works on 2 or more independent samples, which may have different sizes. Due to the assumption that _H has a chi square distribution_, the number of samples in each group must not be too small. A typical rule is that each sample must have at least 5 measurements.\r\n",
    "\r\n",
    "### Kruskal-Wallis test"
   ],
   "metadata": {}
  },
  {
   "cell_type": "code",
   "execution_count": 25,
   "source": [
    "# 0. Load an example dataset comparing pain threshold as a function of hair color\r\n",
    "data = pg.read_dataset('anova')\r\n",
    "data.head()"
   ],
   "outputs": [
    {
     "output_type": "execute_result",
     "data": {
      "text/html": [
       "<div>\n",
       "<style scoped>\n",
       "    .dataframe tbody tr th:only-of-type {\n",
       "        vertical-align: middle;\n",
       "    }\n",
       "\n",
       "    .dataframe tbody tr th {\n",
       "        vertical-align: top;\n",
       "    }\n",
       "\n",
       "    .dataframe thead th {\n",
       "        text-align: right;\n",
       "    }\n",
       "</style>\n",
       "<table border=\"1\" class=\"dataframe\">\n",
       "  <thead>\n",
       "    <tr style=\"text-align: right;\">\n",
       "      <th></th>\n",
       "      <th>Subject</th>\n",
       "      <th>Hair color</th>\n",
       "      <th>Pain threshold</th>\n",
       "    </tr>\n",
       "  </thead>\n",
       "  <tbody>\n",
       "    <tr>\n",
       "      <th>0</th>\n",
       "      <td>1</td>\n",
       "      <td>Light Blond</td>\n",
       "      <td>62</td>\n",
       "    </tr>\n",
       "    <tr>\n",
       "      <th>1</th>\n",
       "      <td>2</td>\n",
       "      <td>Light Blond</td>\n",
       "      <td>60</td>\n",
       "    </tr>\n",
       "    <tr>\n",
       "      <th>2</th>\n",
       "      <td>3</td>\n",
       "      <td>Light Blond</td>\n",
       "      <td>71</td>\n",
       "    </tr>\n",
       "    <tr>\n",
       "      <th>3</th>\n",
       "      <td>4</td>\n",
       "      <td>Light Blond</td>\n",
       "      <td>55</td>\n",
       "    </tr>\n",
       "    <tr>\n",
       "      <th>4</th>\n",
       "      <td>5</td>\n",
       "      <td>Light Blond</td>\n",
       "      <td>48</td>\n",
       "    </tr>\n",
       "  </tbody>\n",
       "</table>\n",
       "</div>"
      ],
      "text/plain": [
       "   Subject   Hair color  Pain threshold\n",
       "0        1  Light Blond              62\n",
       "1        2  Light Blond              60\n",
       "2        3  Light Blond              71\n",
       "3        4  Light Blond              55\n",
       "4        5  Light Blond              48"
      ]
     },
     "metadata": {},
     "execution_count": 25
    }
   ],
   "metadata": {}
  },
  {
   "cell_type": "code",
   "execution_count": 26,
   "source": [
    "sns.boxplot(x='Hair color', y='Pain threshold', data=data)\r\n",
    "sns.stripplot(x='Hair color', y='Pain threshold', data=data, color='black', size=10);"
   ],
   "outputs": [
    {
     "output_type": "display_data",
     "data": {
      "image/png": "[encoded data removed]",
      "text/plain": [
       "<Figure size 432x288 with 1 Axes>"
      ]
     },
     "metadata": {
      "needs_background": "light"
     }
    }
   ],
   "metadata": {}
  },
  {
   "cell_type": "code",
   "execution_count": 27,
   "source": [
    "X=[\r\n",
    "    data[data['Hair color'] == 'Dark Blond']['Pain threshold'],\r\n",
    "    data[data['Hair color'] == 'Dark Brunette']['Pain threshold'],\r\n",
    "    data[data['Hair color'] == 'Light Blond']['Pain threshold'],\r\n",
    "    data[data['Hair color'] == 'Light Brunette']['Pain threshold'],\r\n",
    "]\r\n",
    "\r\n",
    "stats.kruskal(*X)"
   ],
   "outputs": [
    {
     "output_type": "execute_result",
     "data": {
      "text/plain": [
       "KruskalResult(statistic=10.588630377524138, pvalue=0.014171563303136903)"
      ]
     },
     "metadata": {},
     "execution_count": 27
    }
   ],
   "metadata": {}
  },
  {
   "cell_type": "code",
   "execution_count": 28,
   "source": [
    "# Post hoc pairwise test for multiple comparisons of mean rank sums (Dunn's test)\r\n",
    "# May be used after Kruskal-Wallis one-way ANOVA by ranks to do pairwise comparisons\r\n",
    "import scikit_posthocs as sp\r\n",
    "\r\n",
    "print(sp.posthoc_dunn(X, p_adjust='bonferroni'))"
   ],
   "outputs": [
    {
     "output_type": "stream",
     "name": "stdout",
     "text": [
      "          1         2         3         4\n",
      "1  1.000000  0.182573  1.000000  1.000000\n",
      "2  0.182573  1.000000  0.017315  1.000000\n",
      "3  1.000000  0.017315  1.000000  0.228586\n",
      "4  1.000000  1.000000  0.228586  1.000000\n"
     ]
    }
   ],
   "metadata": {}
  },
  {
   "cell_type": "code",
   "execution_count": 29,
   "source": [
    "# with pingouin\r\n",
    "pg.kruskal(\r\n",
    "    data=data,\r\n",
    "    dv='Pain threshold',\r\n",
    "    between='Hair color'\r\n",
    ")"
   ],
   "outputs": [
    {
     "output_type": "execute_result",
     "data": {
      "text/html": [
       "<div>\n",
       "<style scoped>\n",
       "    .dataframe tbody tr th:only-of-type {\n",
       "        vertical-align: middle;\n",
       "    }\n",
       "\n",
       "    .dataframe tbody tr th {\n",
       "        vertical-align: top;\n",
       "    }\n",
       "\n",
       "    .dataframe thead th {\n",
       "        text-align: right;\n",
       "    }\n",
       "</style>\n",
       "<table border=\"1\" class=\"dataframe\">\n",
       "  <thead>\n",
       "    <tr style=\"text-align: right;\">\n",
       "      <th></th>\n",
       "      <th>Source</th>\n",
       "      <th>ddof1</th>\n",
       "      <th>H</th>\n",
       "      <th>p-unc</th>\n",
       "    </tr>\n",
       "  </thead>\n",
       "  <tbody>\n",
       "    <tr>\n",
       "      <th>Kruskal</th>\n",
       "      <td>Hair color</td>\n",
       "      <td>3</td>\n",
       "      <td>10.58863</td>\n",
       "      <td>0.014172</td>\n",
       "    </tr>\n",
       "  </tbody>\n",
       "</table>\n",
       "</div>"
      ],
      "text/plain": [
       "             Source  ddof1         H     p-unc\n",
       "Kruskal  Hair color      3  10.58863  0.014172"
      ]
     },
     "metadata": {},
     "execution_count": 29
    }
   ],
   "metadata": {}
  },
  {
   "cell_type": "code",
   "execution_count": 30,
   "source": [
    "# Non-parametric pairwise paired tests\r\n",
    "pg.pairwise_ttests(\r\n",
    "    data=data,\r\n",
    "    dv='Pain threshold',\r\n",
    "    between='Hair color',\r\n",
    "    padjust='bonf',\r\n",
    "    parametric=False, # use pg.wilcoxon or pg.mwu for paired and unpaired samples respectively\r\n",
    ")"
   ],
   "outputs": [
    {
     "output_type": "execute_result",
     "data": {
      "text/html": [
       "<div>\n",
       "<style scoped>\n",
       "    .dataframe tbody tr th:only-of-type {\n",
       "        vertical-align: middle;\n",
       "    }\n",
       "\n",
       "    .dataframe tbody tr th {\n",
       "        vertical-align: top;\n",
       "    }\n",
       "\n",
       "    .dataframe thead th {\n",
       "        text-align: right;\n",
       "    }\n",
       "</style>\n",
       "<table border=\"1\" class=\"dataframe\">\n",
       "  <thead>\n",
       "    <tr style=\"text-align: right;\">\n",
       "      <th></th>\n",
       "      <th>Contrast</th>\n",
       "      <th>A</th>\n",
       "      <th>B</th>\n",
       "      <th>Paired</th>\n",
       "      <th>Parametric</th>\n",
       "      <th>U-val</th>\n",
       "      <th>alternative</th>\n",
       "      <th>p-unc</th>\n",
       "      <th>p-corr</th>\n",
       "      <th>p-adjust</th>\n",
       "      <th>hedges</th>\n",
       "    </tr>\n",
       "  </thead>\n",
       "  <tbody>\n",
       "    <tr>\n",
       "      <th>0</th>\n",
       "      <td>Hair color</td>\n",
       "      <td>Dark Blond</td>\n",
       "      <td>Dark Brunette</td>\n",
       "      <td>False</td>\n",
       "      <td>False</td>\n",
       "      <td>23.0</td>\n",
       "      <td>two-sided</td>\n",
       "      <td>0.031746</td>\n",
       "      <td>0.190476</td>\n",
       "      <td>bonf</td>\n",
       "      <td>1.413596</td>\n",
       "    </tr>\n",
       "    <tr>\n",
       "      <th>1</th>\n",
       "      <td>Hair color</td>\n",
       "      <td>Dark Blond</td>\n",
       "      <td>Light Blond</td>\n",
       "      <td>False</td>\n",
       "      <td>False</td>\n",
       "      <td>7.0</td>\n",
       "      <td>two-sided</td>\n",
       "      <td>0.309524</td>\n",
       "      <td>1.000000</td>\n",
       "      <td>bonf</td>\n",
       "      <td>-0.810661</td>\n",
       "    </tr>\n",
       "    <tr>\n",
       "      <th>2</th>\n",
       "      <td>Hair color</td>\n",
       "      <td>Dark Blond</td>\n",
       "      <td>Light Brunette</td>\n",
       "      <td>False</td>\n",
       "      <td>False</td>\n",
       "      <td>16.5</td>\n",
       "      <td>two-sided</td>\n",
       "      <td>0.139983</td>\n",
       "      <td>0.839895</td>\n",
       "      <td>bonf</td>\n",
       "      <td>0.982361</td>\n",
       "    </tr>\n",
       "    <tr>\n",
       "      <th>3</th>\n",
       "      <td>Hair color</td>\n",
       "      <td>Dark Brunette</td>\n",
       "      <td>Light Blond</td>\n",
       "      <td>False</td>\n",
       "      <td>False</td>\n",
       "      <td>1.0</td>\n",
       "      <td>two-sided</td>\n",
       "      <td>0.015873</td>\n",
       "      <td>0.095238</td>\n",
       "      <td>bonf</td>\n",
       "      <td>-2.336811</td>\n",
       "    </tr>\n",
       "    <tr>\n",
       "      <th>4</th>\n",
       "      <td>Hair color</td>\n",
       "      <td>Dark Brunette</td>\n",
       "      <td>Light Brunette</td>\n",
       "      <td>False</td>\n",
       "      <td>False</td>\n",
       "      <td>5.0</td>\n",
       "      <td>two-sided</td>\n",
       "      <td>0.285714</td>\n",
       "      <td>1.000000</td>\n",
       "      <td>bonf</td>\n",
       "      <td>-0.626769</td>\n",
       "    </tr>\n",
       "    <tr>\n",
       "      <th>5</th>\n",
       "      <td>Hair color</td>\n",
       "      <td>Light Blond</td>\n",
       "      <td>Light Brunette</td>\n",
       "      <td>False</td>\n",
       "      <td>False</td>\n",
       "      <td>19.0</td>\n",
       "      <td>two-sided</td>\n",
       "      <td>0.031746</td>\n",
       "      <td>0.190476</td>\n",
       "      <td>bonf</td>\n",
       "      <td>2.015280</td>\n",
       "    </tr>\n",
       "  </tbody>\n",
       "</table>\n",
       "</div>"
      ],
      "text/plain": [
       "     Contrast              A               B  Paired  Parametric  U-val  \\\n",
       "0  Hair color     Dark Blond   Dark Brunette   False       False   23.0   \n",
       "1  Hair color     Dark Blond     Light Blond   False       False    7.0   \n",
       "2  Hair color     Dark Blond  Light Brunette   False       False   16.5   \n",
       "3  Hair color  Dark Brunette     Light Blond   False       False    1.0   \n",
       "4  Hair color  Dark Brunette  Light Brunette   False       False    5.0   \n",
       "5  Hair color    Light Blond  Light Brunette   False       False   19.0   \n",
       "\n",
       "  alternative     p-unc    p-corr p-adjust    hedges  \n",
       "0   two-sided  0.031746  0.190476     bonf  1.413596  \n",
       "1   two-sided  0.309524  1.000000     bonf -0.810661  \n",
       "2   two-sided  0.139983  0.839895     bonf  0.982361  \n",
       "3   two-sided  0.015873  0.095238     bonf -2.336811  \n",
       "4   two-sided  0.285714  1.000000     bonf -0.626769  \n",
       "5   two-sided  0.031746  0.190476     bonf  2.015280  "
      ]
     },
     "metadata": {},
     "execution_count": 30
    }
   ],
   "metadata": {}
  },
  {
   "cell_type": "markdown",
   "source": [
    "### Friedman's test\r\n",
    "\r\n",
    "The Friedman test is equivalent to the test of significance of Kendalls's coefficient of concordance (Kendall's W). Most commonly a Q statistic, which has asymptotical chi-squared distribution, is computed and used for testing. However, some statisticians showed the _chi-squared test to be overly conservative for small numbers of samples and repeated measures_. Instead they _recommend the F test_, which has the correct size and behaves like a permutation test, but is computationaly much easier."
   ],
   "metadata": {}
  },
  {
   "cell_type": "code",
   "execution_count": 31,
   "source": [
    "data_rm = pg.read_dataset('rm_anova')\r\n",
    "data_rm.head()"
   ],
   "outputs": [
    {
     "output_type": "execute_result",
     "data": {
      "text/html": [
       "<div>\n",
       "<style scoped>\n",
       "    .dataframe tbody tr th:only-of-type {\n",
       "        vertical-align: middle;\n",
       "    }\n",
       "\n",
       "    .dataframe tbody tr th {\n",
       "        vertical-align: top;\n",
       "    }\n",
       "\n",
       "    .dataframe thead th {\n",
       "        text-align: right;\n",
       "    }\n",
       "</style>\n",
       "<table border=\"1\" class=\"dataframe\">\n",
       "  <thead>\n",
       "    <tr style=\"text-align: right;\">\n",
       "      <th></th>\n",
       "      <th>Subject</th>\n",
       "      <th>Gender</th>\n",
       "      <th>Region</th>\n",
       "      <th>Education</th>\n",
       "      <th>DesireToKill</th>\n",
       "      <th>Disgustingness</th>\n",
       "      <th>Frighteningness</th>\n",
       "    </tr>\n",
       "  </thead>\n",
       "  <tbody>\n",
       "    <tr>\n",
       "      <th>0</th>\n",
       "      <td>1</td>\n",
       "      <td>Female</td>\n",
       "      <td>North</td>\n",
       "      <td>some</td>\n",
       "      <td>10.0</td>\n",
       "      <td>High</td>\n",
       "      <td>High</td>\n",
       "    </tr>\n",
       "    <tr>\n",
       "      <th>1</th>\n",
       "      <td>1</td>\n",
       "      <td>Female</td>\n",
       "      <td>North</td>\n",
       "      <td>some</td>\n",
       "      <td>9.0</td>\n",
       "      <td>High</td>\n",
       "      <td>Low</td>\n",
       "    </tr>\n",
       "    <tr>\n",
       "      <th>2</th>\n",
       "      <td>1</td>\n",
       "      <td>Female</td>\n",
       "      <td>North</td>\n",
       "      <td>some</td>\n",
       "      <td>6.0</td>\n",
       "      <td>Low</td>\n",
       "      <td>High</td>\n",
       "    </tr>\n",
       "    <tr>\n",
       "      <th>3</th>\n",
       "      <td>1</td>\n",
       "      <td>Female</td>\n",
       "      <td>North</td>\n",
       "      <td>some</td>\n",
       "      <td>6.0</td>\n",
       "      <td>Low</td>\n",
       "      <td>Low</td>\n",
       "    </tr>\n",
       "    <tr>\n",
       "      <th>4</th>\n",
       "      <td>2</td>\n",
       "      <td>Female</td>\n",
       "      <td>North</td>\n",
       "      <td>advance</td>\n",
       "      <td>10.0</td>\n",
       "      <td>High</td>\n",
       "      <td>High</td>\n",
       "    </tr>\n",
       "  </tbody>\n",
       "</table>\n",
       "</div>"
      ],
      "text/plain": [
       "   Subject  Gender Region Education  DesireToKill Disgustingness  \\\n",
       "0        1  Female  North      some          10.0           High   \n",
       "1        1  Female  North      some           9.0           High   \n",
       "2        1  Female  North      some           6.0            Low   \n",
       "3        1  Female  North      some           6.0            Low   \n",
       "4        2  Female  North   advance          10.0           High   \n",
       "\n",
       "  Frighteningness  \n",
       "0            High  \n",
       "1             Low  \n",
       "2            High  \n",
       "3             Low  \n",
       "4            High  "
      ]
     },
     "metadata": {},
     "execution_count": 31
    }
   ],
   "metadata": {}
  },
  {
   "cell_type": "code",
   "execution_count": 32,
   "source": [
    "pg.friedman(\r\n",
    "    data=data_rm,\r\n",
    "    dv='DesireToKill',\r\n",
    "    within='Disgustingness',\r\n",
    "    subject='Subject',\r\n",
    ")"
   ],
   "outputs": [
    {
     "output_type": "execute_result",
     "data": {
      "text/html": [
       "<div>\n",
       "<style scoped>\n",
       "    .dataframe tbody tr th:only-of-type {\n",
       "        vertical-align: middle;\n",
       "    }\n",
       "\n",
       "    .dataframe tbody tr th {\n",
       "        vertical-align: top;\n",
       "    }\n",
       "\n",
       "    .dataframe thead th {\n",
       "        text-align: right;\n",
       "    }\n",
       "</style>\n",
       "<table border=\"1\" class=\"dataframe\">\n",
       "  <thead>\n",
       "    <tr style=\"text-align: right;\">\n",
       "      <th></th>\n",
       "      <th>Source</th>\n",
       "      <th>W</th>\n",
       "      <th>ddof1</th>\n",
       "      <th>Q</th>\n",
       "      <th>p-unc</th>\n",
       "    </tr>\n",
       "  </thead>\n",
       "  <tbody>\n",
       "    <tr>\n",
       "      <th>Friedman</th>\n",
       "      <td>Disgustingness</td>\n",
       "      <td>0.099224</td>\n",
       "      <td>1</td>\n",
       "      <td>9.227848</td>\n",
       "      <td>0.002384</td>\n",
       "    </tr>\n",
       "  </tbody>\n",
       "</table>\n",
       "</div>"
      ],
      "text/plain": [
       "                  Source         W  ddof1         Q     p-unc\n",
       "Friedman  Disgustingness  0.099224      1  9.227848  0.002384"
      ]
     },
     "metadata": {},
     "execution_count": 32
    }
   ],
   "metadata": {}
  },
  {
   "cell_type": "code",
   "execution_count": 33,
   "source": [
    "pg.friedman(\r\n",
    "    data=data_rm,\r\n",
    "    dv='DesireToKill',\r\n",
    "    within='Disgustingness',\r\n",
    "    subject='Subject',\r\n",
    "    method='f',\r\n",
    ")"
   ],
   "outputs": [
    {
     "output_type": "execute_result",
     "data": {
      "text/html": [
       "<div>\n",
       "<style scoped>\n",
       "    .dataframe tbody tr th:only-of-type {\n",
       "        vertical-align: middle;\n",
       "    }\n",
       "\n",
       "    .dataframe tbody tr th {\n",
       "        vertical-align: top;\n",
       "    }\n",
       "\n",
       "    .dataframe thead th {\n",
       "        text-align: right;\n",
       "    }\n",
       "</style>\n",
       "<table border=\"1\" class=\"dataframe\">\n",
       "  <thead>\n",
       "    <tr style=\"text-align: right;\">\n",
       "      <th></th>\n",
       "      <th>Source</th>\n",
       "      <th>W</th>\n",
       "      <th>ddof1</th>\n",
       "      <th>ddof2</th>\n",
       "      <th>F</th>\n",
       "      <th>p-unc</th>\n",
       "    </tr>\n",
       "  </thead>\n",
       "  <tbody>\n",
       "    <tr>\n",
       "      <th>Friedman</th>\n",
       "      <td>Disgustingness</td>\n",
       "      <td>0.099224</td>\n",
       "      <td>0.978495</td>\n",
       "      <td>90.021505</td>\n",
       "      <td>10.13418</td>\n",
       "      <td>0.002138</td>\n",
       "    </tr>\n",
       "  </tbody>\n",
       "</table>\n",
       "</div>"
      ],
      "text/plain": [
       "                  Source         W     ddof1      ddof2         F     p-unc\n",
       "Friedman  Disgustingness  0.099224  0.978495  90.021505  10.13418  0.002138"
      ]
     },
     "metadata": {},
     "execution_count": 33
    }
   ],
   "metadata": {}
  }
 ],
 "metadata": {
  "kernelspec": {
   "name": "python3",
   "display_name": "Python 3.9.7 64-bit (system)"
  },
  "language_info": {
   "codemirror_mode": {
    "name": "ipython",
    "version": 3
   },
   "file_extension": ".py",
   "mimetype": "text/x-python",
   "name": "python",
   "nbconvert_exporter": "python",
   "pygments_lexer": "ipython3",
   "version": "3.9.7"
  },
  "interpreter": {
   "hash": "b51595f36012c8da2bf2284ebbd8d377d5c2d31fa7484164f2d2bcda7a09b462"
  }
 },
 "nbformat": 4,
 "nbformat_minor": 2
}