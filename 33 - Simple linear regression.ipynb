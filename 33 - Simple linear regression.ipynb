{
 "cells": [
  {
   "cell_type": "markdown",
   "metadata": {},
   "source": [
    "# Simple linear regression\n",
    "\n",
    "One way to think about linear regression is that it fits the \"best line\" through a graph of data points. Another way to look at it is that linear regression fits a simple model to the data to determine the most likely values of the parameters that define that model (slope and intercept)."
   ]
  },
  {
   "cell_type": "markdown",
   "metadata": {},
   "source": [
    "## Linear regression results"
   ]
  },
  {
   "cell_type": "code",
   "execution_count": 1,
   "metadata": {},
   "outputs": [],
   "source": [
    "import numpy as np\n",
    "import pandas as pd\n",
    "\n",
    "from scipy import stats\n",
    "import statsmodels.api as sm\n",
    "import pingouin as pg\n",
    "from sklearn.linear_model import LinearRegression\n",
    "\n",
    "import matplotlib.pyplot as plt\n",
    "import seaborn as sns"
   ]
  },
  {
   "cell_type": "code",
   "execution_count": 2,
   "metadata": {},
   "outputs": [],
   "source": [
    "# example data from the book, page 319\n",
    "insulin_sensitiv = np.array([250, 220, 145, 115, 230, 200, 330, 400, 370, 260, 270, 530, 375])\n",
    "C2022_fatacids = np.array([17.9, 18.3, 18.3, 18.4, 18.4, 20.2, 20.3, 21.8, 21.9, 22.1, 23.1, 24.2, 24.4])"
   ]
  },
  {
   "cell_type": "markdown",
   "metadata": {},
   "source": [
    "#### scipy.stats"
   ]
  },
  {
   "cell_type": "code",
   "execution_count": 3,
   "metadata": {},
   "outputs": [
    {
     "name": "stdout",
     "output_type": "stream",
     "text": [
      "LinregressResult(slope=37.20774574745539, intercept=-486.54199459921034, rvalue=0.7700025428371727, pvalue=0.002077012151479462, stderr=9.295940157270161, intercept_stderr=193.71602138413147)\n"
     ]
    }
   ],
   "source": [
    "res = stats.linregress(x=C2022_fatacids, y=insulin_sensitiv)\n",
    "print(res)"
   ]
  },
  {
   "cell_type": "markdown",
   "metadata": {},
   "source": [
    "The best-fit value for the **slope** is 37.2, this means that when %C20-22 increased by 1.0, the average insulin sensitivity is expected to increase by 37.2 mg/m²/min.\n",
    "\n",
    "Although the CI is fairly wide, it does not include zero, which is a strong evidence that the observed relationship between lipid content of the muscles and insulin sensitivity is very unlikely to be a coincidence of random sampling.\n",
    "\n",
    "The **intercept** is the value of the insulin sensitivity when the %C20-22 equals zero. For this example, the Y-intercept is not a scientifically relevant value, because extrapolating back to zero is not helpful and negative values for insulin sensitivity are not biologically possible. In conclusion, these results tell us that the linear model cannot be correct when extrapolated way beyond the range of the data."
   ]
  },
  {
   "cell_type": "markdown",
   "metadata": {},
   "source": [
    "#### pingouin"
   ]
  },
  {
   "cell_type": "code",
   "execution_count": 4,
   "metadata": {},
   "outputs": [
    {
     "data": {
      "text/html": [
       "<div>\n",
       "<style scoped>\n",
       "    .dataframe tbody tr th:only-of-type {\n",
       "        vertical-align: middle;\n",
       "    }\n",
       "\n",
       "    .dataframe tbody tr th {\n",
       "        vertical-align: top;\n",
       "    }\n",
       "\n",
       "    .dataframe thead th {\n",
       "        text-align: right;\n",
       "    }\n",
       "</style>\n",
       "<table border=\"1\" class=\"dataframe\">\n",
       "  <thead>\n",
       "    <tr style=\"text-align: right;\">\n",
       "      <th></th>\n",
       "      <th>names</th>\n",
       "      <th>coef</th>\n",
       "      <th>se</th>\n",
       "      <th>T</th>\n",
       "      <th>pval</th>\n",
       "      <th>r2</th>\n",
       "      <th>adj_r2</th>\n",
       "      <th>CI[2.5%]</th>\n",
       "      <th>CI[97.5%]</th>\n",
       "    </tr>\n",
       "  </thead>\n",
       "  <tbody>\n",
       "    <tr>\n",
       "      <th>0</th>\n",
       "      <td>Intercept</td>\n",
       "      <td>-486.542</td>\n",
       "      <td>193.716</td>\n",
       "      <td>-2.512</td>\n",
       "      <td>0.029</td>\n",
       "      <td>0.593</td>\n",
       "      <td>0.556</td>\n",
       "      <td>-912.908</td>\n",
       "      <td>-60.176</td>\n",
       "    </tr>\n",
       "    <tr>\n",
       "      <th>1</th>\n",
       "      <td>x1</td>\n",
       "      <td>37.208</td>\n",
       "      <td>9.296</td>\n",
       "      <td>4.003</td>\n",
       "      <td>0.002</td>\n",
       "      <td>0.593</td>\n",
       "      <td>0.556</td>\n",
       "      <td>16.748</td>\n",
       "      <td>57.668</td>\n",
       "    </tr>\n",
       "  </tbody>\n",
       "</table>\n",
       "</div>"
      ],
      "text/plain": [
       "       names     coef       se      T   pval     r2  adj_r2  CI[2.5%]  \\\n",
       "0  Intercept -486.542  193.716 -2.512  0.029  0.593   0.556  -912.908   \n",
       "1         x1   37.208    9.296  4.003  0.002  0.593   0.556    16.748   \n",
       "\n",
       "   CI[97.5%]  \n",
       "0    -60.176  \n",
       "1     57.668  "
      ]
     },
     "execution_count": 4,
     "metadata": {},
     "output_type": "execute_result"
    }
   ],
   "source": [
    "lm = pg.linear_regression(X=C2022_fatacids, y=insulin_sensitiv)\n",
    "lm.round(3)"
   ]
  },
  {
   "cell_type": "markdown",
   "metadata": {},
   "source": [
    "The **R²** value (noted as either r² or R² for linear regression, and R² exclusively for non-linear and multiple regressions) quantifies the **goodness of fit** and means that 59% of all variance in insulin sensitivity can be accounted for the linear regression model, and the remaining 41% of the variance may be caused by other factors, measurement errors, biological variation, or a nonlinear relationship between insulin sensitivity and %C20-22.\n",
    "\n",
    "For the **P value**, with linear regression the null hypothesis is that there really is no linear relationship between the 2 groups of data. If H0 were true, the best-fit line in the overall population would be horizontal with a slope of zero. The P value answers the question, if that null hypothesis was true, what is the chance that linear regression of data from a random sample of subjects would have a slope as far (or farther) from zero as that which is actually observed? In this example, the P value = 0.0021 is tniy, so we conclude that the null hypothesis is very unlikely to be true and that the observed relationship is unlikely to be caused by a coincidence of random sampling."
   ]
  },
  {
   "cell_type": "code",
   "execution_count": 5,
   "metadata": {},
   "outputs": [
    {
     "data": {
      "text/plain": [
       "{'names': ['Intercept', 'x1'],\n",
       " 'coef': array([-486.5419946 ,   37.20774575]),\n",
       " 'se': array([193.71602138,   9.29594016]),\n",
       " 'T': array([-2.51162496,  4.00258017]),\n",
       " 'pval': array([0.02890283, 0.00207701]),\n",
       " 'r2': 0.5929039159757126,\n",
       " 'adj_r2': 0.5558951810644137,\n",
       " 'CI[2.5%]': array([-912.90808294,   16.74751941]),\n",
       " 'CI[97.5%]': array([-60.17590626,  57.66797208]),\n",
       " 'df_model': 1,\n",
       " 'df_resid': 11,\n",
       " 'residuals': array([  70.52334572,   25.64024742,  -49.35975258,  -83.08052715,\n",
       "          31.91947285,  -65.0544695 ,   61.22475593,   75.4131373 ,\n",
       "          41.69236273,  -75.74918642, -102.95693217,  116.11454751,\n",
       "         -46.32700164]),\n",
       " 'X': array([[ 1. , 17.9],\n",
       "        [ 1. , 18.3],\n",
       "        [ 1. , 18.3],\n",
       "        [ 1. , 18.4],\n",
       "        [ 1. , 18.4],\n",
       "        [ 1. , 20.2],\n",
       "        [ 1. , 20.3],\n",
       "        [ 1. , 21.8],\n",
       "        [ 1. , 21.9],\n",
       "        [ 1. , 22.1],\n",
       "        [ 1. , 23.1],\n",
       "        [ 1. , 24.2],\n",
       "        [ 1. , 24.4]]),\n",
       " 'y': array([250, 220, 145, 115, 230, 200, 330, 400, 370, 260, 270, 530, 375]),\n",
       " 'pred': array([179.47665428, 194.35975258, 194.35975258, 198.08052715,\n",
       "        198.08052715, 265.0544695 , 268.77524407, 324.5868627 ,\n",
       "        328.30763727, 335.74918642, 372.95693217, 413.88545249,\n",
       "        421.32700164])}"
      ]
     },
     "execution_count": 5,
     "metadata": {},
     "output_type": "execute_result"
    }
   ],
   "source": [
    "# returns results as a dictionnary instead of a dataframe\n",
    "pg.linear_regression(X=C2022_fatacids, y=insulin_sensitiv, as_dataframe=False)"
   ]
  },
  {
   "cell_type": "code",
   "execution_count": 6,
   "metadata": {},
   "outputs": [
    {
     "data": {
      "text/plain": [
       "array([-486.5419946 ,   37.20774575])"
      ]
     },
     "execution_count": 6,
     "metadata": {},
     "output_type": "execute_result"
    }
   ],
   "source": [
    "# many more options e.g. remove_na\n",
    "pg.linear_regression(X=C2022_fatacids, y=insulin_sensitiv, remove_na=True, coef_only=True)"
   ]
  },
  {
   "cell_type": "code",
   "execution_count": 7,
   "metadata": {},
   "outputs": [
    {
     "data": {
      "text/plain": [
       "array([-486.5419946 ,   37.20774575])"
      ]
     },
     "execution_count": 7,
     "metadata": {},
     "output_type": "execute_result"
    }
   ],
   "source": [
    "# weighted linear regression\n",
    "w = [1]*len(C2022_fatacids)\n",
    "pg.linear_regression(X=C2022_fatacids, y=insulin_sensitiv, weights=w, coef_only=True)"
   ]
  },
  {
   "cell_type": "markdown",
   "metadata": {},
   "source": [
    "### statsmodels\n",
    "\n",
    "There is no R (or statsmodels)-like summary table in scipy.stats or sklearn-learn. Instead, there is statsmodels.regression.linear_model.OLS method."
   ]
  },
  {
   "cell_type": "code",
   "execution_count": 8,
   "metadata": {},
   "outputs": [
    {
     "name": "stdout",
     "output_type": "stream",
     "text": [
      "                 Results: Ordinary least squares\n",
      "=================================================================\n",
      "Model:              OLS              Adj. R-squared:     0.556   \n",
      "Dependent Variable: y                AIC:                151.2840\n",
      "Date:               2021-09-09 10:42 BIC:                152.4139\n",
      "No. Observations:   13               Log-Likelihood:     -73.642 \n",
      "Df Model:           1                F-statistic:        16.02   \n",
      "Df Residuals:       11               Prob (F-statistic): 0.00208 \n",
      "R-squared:          0.593            Scale:              5760.1  \n",
      "------------------------------------------------------------------\n",
      "           Coef.    Std.Err.     t     P>|t|     [0.025    0.975] \n",
      "------------------------------------------------------------------\n",
      "const    -486.5420  193.7160  -2.5116  0.0289  -912.9081  -60.1759\n",
      "x1         37.2077    9.2959   4.0026  0.0021    16.7475   57.6680\n",
      "-----------------------------------------------------------------\n",
      "Omnibus:              3.503        Durbin-Watson:           2.172\n",
      "Prob(Omnibus):        0.173        Jarque-Bera (JB):        1.139\n",
      "Skew:                 0.023        Prob(JB):                0.566\n",
      "Kurtosis:             1.550        Condition No.:           192  \n",
      "=================================================================\n",
      "\n"
     ]
    },
    {
     "name": "stderr",
     "output_type": "stream",
     "text": [
      "C:\\Users\\WIECKOWS\\AppData\\Local\\Programs\\Python\\Python39\\lib\\site-packages\\scipy\\stats\\stats.py:1541: UserWarning: kurtosistest only valid for n>=20 ... continuing anyway, n=13\n",
      "  warnings.warn(\"kurtosistest only valid for n>=20 ... continuing \"\n"
     ]
    }
   ],
   "source": [
    "y = insulin_sensitiv\n",
    "X = sm.add_constant(C2022_fatacids)\n",
    "results = sm.OLS(y, X).fit()\n",
    "print(results.summary2())"
   ]
  },
  {
   "cell_type": "code",
   "execution_count": 9,
   "metadata": {},
   "outputs": [
    {
     "name": "stdout",
     "output_type": "stream",
     "text": [
      "                             OLS Regression Results                            \n",
      "===============================================================================\n",
      "Dep. Variable:     insulin_sensitivity   R-squared:                       0.593\n",
      "Model:                             OLS   Adj. R-squared:                  0.556\n",
      "Method:                  Least Squares   F-statistic:                     16.02\n",
      "Date:                 Thu, 09 Sep 2021   Prob (F-statistic):            0.00208\n",
      "Time:                         10:42:08   Log-Likelihood:                -73.642\n",
      "No. Observations:                   13   AIC:                             151.3\n",
      "Df Residuals:                       11   BIC:                             152.4\n",
      "Df Model:                            1                                         \n",
      "Covariance Type:             nonrobust                                         \n",
      "==============================================================================\n",
      "                 coef    std err          t      P>|t|      [0.025      0.975]\n",
      "------------------------------------------------------------------------------\n",
      "Intercept   -486.5420    193.716     -2.512      0.029    -912.908     -60.176\n",
      "pct_C2022     37.2077      9.296      4.003      0.002      16.748      57.668\n",
      "==============================================================================\n",
      "Omnibus:                        3.503   Durbin-Watson:                   2.172\n",
      "Prob(Omnibus):                  0.173   Jarque-Bera (JB):                1.139\n",
      "Skew:                           0.023   Prob(JB):                        0.566\n",
      "Kurtosis:                       1.550   Cond. No.                         192.\n",
      "==============================================================================\n",
      "\n",
      "Notes:\n",
      "[1] Standard Errors assume that the covariance matrix of the errors is correctly specified.\n"
     ]
    },
    {
     "name": "stderr",
     "output_type": "stream",
     "text": [
      "C:\\Users\\WIECKOWS\\AppData\\Local\\Programs\\Python\\Python39\\lib\\site-packages\\scipy\\stats\\stats.py:1541: UserWarning: kurtosistest only valid for n>=20 ... continuing anyway, n=13\n",
      "  warnings.warn(\"kurtosistest only valid for n>=20 ... continuing \"\n"
     ]
    }
   ],
   "source": [
    "import statsmodels.formula.api as smf  # possible to use R-like formula with a dataframe\n",
    "\n",
    "df = pd.DataFrame(\n",
    "    data={'pct_C2022':        C2022_fatacids,\n",
    "         'insulin_sensitivity':insulin_sensitiv})\n",
    "\n",
    "model = smf.ols(formula='insulin_sensitivity ~ pct_C2022', data=df)\n",
    "# use formula='insulin_sensitivity ~ pct_C2022 +0' to removing the intercept, i.e. with categorical data\n",
    "\n",
    "results_model = model.fit()\n",
    "print(results_model.summary())"
   ]
  },
  {
   "cell_type": "markdown",
   "metadata": {},
   "source": [
    "The first panel gives you an overview of the fit quality:\n",
    "* You recognize the good old $R^2$ and $R_a^2$\n",
    "* The F-statistic and its associated P-value test the hypothesis that all the coefficients are 0 (normality assumption)\n",
    "* You should also recognize the log-likelihood (normality assumption)\n",
    "* AIC and BIC respectively Aikike Information Criterion and Bayesian Information Criterion are equivalent of likelihood but that you can use to compare non nested models.\n",
    "\n",
    "The second panel is quite self explanatory, just be careful with this t-test which again makes the assumption that errors are normally distributed, same for the standard error and the 95% confidence interval.\n",
    "\n",
    "The third panel is a summary of a few statistical tests that will give you a sense of how all of the hypothesis needed for OLS are plausible:\n",
    "* Omnibus and Prob(omnibus): this is a test for normality of residuals. Low P-values means that your linear model is not adapted\n",
    "* Durbin-Watson : tests autocorrelation in the error terms (2 is no autocorrelation, less than 1 is bad)\n",
    "* Jarque-Bera: tests if the skewness and kurtosis of your errors are looking like a normal distribution. If the Pvalue is high then they look normal.\n",
    "* Condition Number : sensibility to noise of the fit.Skewness and kurtosis of your noise (both 0 for normally distributed noise)."
   ]
  },
  {
   "cell_type": "code",
   "execution_count": 10,
   "metadata": {},
   "outputs": [
    {
     "data": {
      "text/plain": [
       "0    294.820666\n",
       "dtype: float64"
      ]
     },
     "execution_count": 10,
     "metadata": {},
     "output_type": "execute_result"
    }
   ],
   "source": [
    "results_model.predict(\n",
    "    exog={'pct_C2022': [21]}\n",
    ")"
   ]
  },
  {
   "cell_type": "markdown",
   "metadata": {},
   "source": [
    "#### Get more from the result table generated by statsmodels"
   ]
  },
  {
   "cell_type": "code",
   "execution_count": 11,
   "metadata": {},
   "outputs": [
    {
     "name": "stderr",
     "output_type": "stream",
     "text": [
      "C:\\Users\\WIECKOWS\\AppData\\Local\\Programs\\Python\\Python39\\lib\\site-packages\\scipy\\stats\\stats.py:1541: UserWarning: kurtosistest only valid for n>=20 ... continuing anyway, n=13\n",
      "  warnings.warn(\"kurtosistest only valid for n>=20 ... continuing \"\n"
     ]
    },
    {
     "data": {
      "text/html": [
       "<table class=\"simpletable\">\n",
       "<caption>OLS Regression Results</caption>\n",
       "<tr>\n",
       "  <th>Dep. Variable:</th>            <td>y</td>        <th>  R-squared:         </th> <td>   0.593</td>\n",
       "</tr>\n",
       "<tr>\n",
       "  <th>Model:</th>                   <td>OLS</td>       <th>  Adj. R-squared:    </th> <td>   0.556</td>\n",
       "</tr>\n",
       "<tr>\n",
       "  <th>Method:</th>             <td>Least Squares</td>  <th>  F-statistic:       </th> <td>   16.02</td>\n",
       "</tr>\n",
       "<tr>\n",
       "  <th>Date:</th>             <td>Thu, 09 Sep 2021</td> <th>  Prob (F-statistic):</th>  <td>0.00208</td>\n",
       "</tr>\n",
       "<tr>\n",
       "  <th>Time:</th>                 <td>10:42:08</td>     <th>  Log-Likelihood:    </th> <td> -73.642</td>\n",
       "</tr>\n",
       "<tr>\n",
       "  <th>No. Observations:</th>      <td>    13</td>      <th>  AIC:               </th> <td>   151.3</td>\n",
       "</tr>\n",
       "<tr>\n",
       "  <th>Df Residuals:</th>          <td>    11</td>      <th>  BIC:               </th> <td>   152.4</td>\n",
       "</tr>\n",
       "<tr>\n",
       "  <th>Df Model:</th>              <td>     1</td>      <th>                     </th>     <td> </td>   \n",
       "</tr>\n",
       "<tr>\n",
       "  <th>Covariance Type:</th>      <td>nonrobust</td>    <th>                     </th>     <td> </td>   \n",
       "</tr>\n",
       "</table>"
      ],
      "text/plain": [
       "<IPython.core.display.HTML object>"
      ]
     },
     "execution_count": 11,
     "metadata": {},
     "output_type": "execute_result"
    }
   ],
   "source": [
    "from IPython.core.display import HTML\n",
    "HTML(results.summary().tables[0].as_html())"
   ]
  },
  {
   "cell_type": "code",
   "execution_count": 12,
   "metadata": {},
   "outputs": [
    {
     "name": "stdout",
     "output_type": "stream",
     "text": [
      "the parameters of the model [-486.5419946    37.20774575]\n",
      "loglikelihood model insulin_sensitivity ~ pct_C2022: -73.64199323217251\n"
     ]
    }
   ],
   "source": [
    "print('the parameters of the model', results.params)\n",
    "print('loglikelihood model insulin_sensitivity ~ pct_C2022:', results.llf)"
   ]
  },
  {
   "cell_type": "markdown",
   "metadata": {},
   "source": [
    "### numpy polyfit"
   ]
  },
  {
   "cell_type": "code",
   "execution_count": 13,
   "metadata": {},
   "outputs": [
    {
     "data": {
      "text/plain": [
       "array([  37.20774575, -486.5419946 ])"
      ]
     },
     "execution_count": 13,
     "metadata": {},
     "output_type": "execute_result"
    }
   ],
   "source": [
    "np.polyfit(C2022_fatacids, insulin_sensitiv, deg=1)"
   ]
  },
  {
   "cell_type": "markdown",
   "metadata": {},
   "source": [
    "### scikit-learn"
   ]
  },
  {
   "cell_type": "code",
   "execution_count": 14,
   "metadata": {},
   "outputs": [
    {
     "name": "stdout",
     "output_type": "stream",
     "text": [
      "[[37.20774575]]\n",
      "[-486.5419946]\n"
     ]
    }
   ],
   "source": [
    "model = LinearRegression(fit_intercept=True).fit(C2022_fatacids.reshape(-1,1), insulin_sensitiv.reshape(-1,1))\n",
    "print(model.coef_)\n",
    "print(model.intercept_)"
   ]
  },
  {
   "cell_type": "markdown",
   "metadata": {},
   "source": [
    "## R-squared"
   ]
  },
  {
   "cell_type": "code",
   "execution_count": 15,
   "metadata": {},
   "outputs": [
    {
     "name": "stdout",
     "output_type": "stream",
     "text": [
      "R²: 0.592903915975712\n"
     ]
    }
   ],
   "source": [
    "Rsq = res.rvalue**2\n",
    "print(f\"R²: {Rsq}\")"
   ]
  },
  {
   "cell_type": "markdown",
   "metadata": {},
   "source": [
    "59% of all variance in insulin sensitivity can be accounted for the linear regression model and the remaining 41% of the variance may be caused by other factors, measurement errors, biological variation or a nonlinear relationship between both parameters.\n",
    "\n",
    "R² equals the difference of total sum of squares (TSS), _i.e. around the mean of the Y values_, to residual sum of squares (RSS), _i.e. around the regression line_, divided by the TSS:\n",
    "\n",
    "$$ R^2 = \\frac{\\text{TSS}-\\text{RSS}}{\\text{TSS}} = 1 - \\frac{\\text{RSS}}{\\text{TSS}} $$"
   ]
  },
  {
   "cell_type": "code",
   "execution_count": 16,
   "metadata": {},
   "outputs": [
    {
     "name": "stdout",
     "output_type": "stream",
     "text": [
      "R² using TSS and RSS: 0.5929\n"
     ]
    }
   ],
   "source": [
    "def compute_rss(y_estimate, y): \n",
    "  return sum(np.power(y - y_estimate, 2)) \n",
    "\n",
    "def estimate_y(x, b_0, b_1): \n",
    "  return b_0 + b_1 * x\n",
    "\n",
    "beta_0 = res.intercept\n",
    "beta_1 = res.slope\n",
    "\n",
    "rss = compute_rss(estimate_y(C2022_fatacids, beta_0, beta_1), insulin_sensitiv)\n",
    "\n",
    "tss = np.sum(np.power(insulin_sensitiv - np.mean(insulin_sensitiv), 2))\n",
    "print(f\"R² using TSS and RSS: {(tss-rss)/tss:.4f}\")"
   ]
  },
  {
   "cell_type": "markdown",
   "metadata": {},
   "source": [
    "One natural way to benchmark how good a job your model does of explaining the outcome is to compare it to a situation where you have no input and no model at all. In this situation, all you have is your outcome values, which _can be considered a random variable with a mean and a variance_. In the case of all our observations, we have multiple values with a mean. We can consider the horizontal line representing the mean of $y$ as the 'random model', and we can calculate the residuals around the mean. Recall the definition of the population variance of $y$, notated as $\\mathrm{Var}(y)$. Note that it is defined as the average of the squares of the residuals around the mean of $y$. Therefore $\\mathrm{Var}(y)$ represents the average squared residual error of a random model (see also Chapter 35 - Comparing models)."
   ]
  },
  {
   "cell_type": "markdown",
   "metadata": {},
   "source": [
    "## Standard error of the regression\n",
    "\n",
    "The standard error of the regression $S$, also known as the _standard error of the estimate_, represents the average distance that the observed values fall from the regression line. Conveniently, it tells you how wrong the regression model is on average using the units of the response variable. Smaller values are better because it indicates that the observations are closer to the fitted line:\n",
    "\n",
    "$$ s_{\\widehat {\\beta }}={\\sqrt {\\frac {{\\frac {1}{n-2}}\\sum _{i=1}^{n}{\\widehat {\\varepsilon }}_{i}^{\\,2}}{\\sum _{i=1}^{n}(x_{i}-{\\bar {x}})^{2}}}} $$\n",
    "\n",
    "We lose 2 degrees of freedom because we estimate the two parameters $\\beta_0$ and $\\beta_1$.\n",
    "\n",
    "In contrast, $R^2$ provides the relative measure of the percentage of the dependent variable variance that the model explains."
   ]
  },
  {
   "cell_type": "code",
   "execution_count": 17,
   "metadata": {},
   "outputs": [
    {
     "name": "stdout",
     "output_type": "stream",
     "text": [
      "S = 9.29594\n"
     ]
    }
   ],
   "source": [
    "S = (\n",
    "    (rss/(len(insulin_sensitiv) - 2)) \n",
    "    /\n",
    "    np.sum(np.power(C2022_fatacids - np.mean(C2022_fatacids), 2))\n",
    ")**.5\n",
    "\n",
    "print(f\"S = {S:.5f}\")"
   ]
  },
  {
   "cell_type": "code",
   "execution_count": 18,
   "metadata": {},
   "outputs": [
    {
     "data": {
      "text/plain": [
       "63361.373970041794"
      ]
     },
     "execution_count": 18,
     "metadata": {},
     "output_type": "execute_result"
    }
   ],
   "source": [
    "rss"
   ]
  },
  {
   "cell_type": "markdown",
   "metadata": {},
   "source": [
    "## Visualization\n",
    "\n",
    "### Diagnostic plots for linear regression\n",
    "\n",
    "We can check if a model works well for data in many different ways. We pay great attention to regression results, such as slope coefficients, p-values, or R² that tell us how well a model represents given data. That’s not the whole picture though. **Residuals** could show how poorly a model represents data. Residuals are leftover of the outcome variable after fitting a model (predictors) to data and they could reveal unexplained patterns in the data by the fitted model. Using this information, not only could you check if linear regression assumptions are met, but you could improve your model in an exploratory way."
   ]
  },
  {
   "cell_type": "code",
   "execution_count": 19,
   "metadata": {},
   "outputs": [
    {
     "data": {
      "image/png": "[encoded data removed]",
      "text/plain": [
       "<Figure size 1152x288 with 4 Axes>"
      ]
     },
     "metadata": {
      "needs_background": "light"
     },
     "output_type": "display_data"
    }
   ],
   "source": [
    "plt.figure(figsize=(16,4))\n",
    "\n",
    "plt.subplot(141)\n",
    "# plot the data points\n",
    "plt.plot(C2022_fatacids, insulin_sensitiv, 'bo', linestyle='None')\n",
    "plt.ylim(0,600)\n",
    "# plot the regression line\n",
    "x=np.array([17, 25])\n",
    "plt.plot(x, res.slope*x + res.intercept, 'r-', lw=4)\n",
    "plt.title('Best-fit linear regression (scipy.stats)')\n",
    "plt.xlim((17, 25))\n",
    "plt.xlabel('%C20-22 fatty acids')\n",
    "plt.ylim(0,600)\n",
    "plt.ylabel('Insulin sensitivity (mg/m²/min)')\n",
    "\n",
    "plt.subplot(142)\n",
    "sns.regplot(x=C2022_fatacids, y=insulin_sensitiv)\n",
    "plt.title('Best-fit linear regression (seaborn)')\n",
    "plt.xlim((17, 25))\n",
    "plt.xlabel('%C20-22 fatty acids')\n",
    "plt.ylim(0,600)\n",
    "plt.ylabel('Insulin sensitivity (mg/m²/min)')\n",
    "\n",
    "plt.subplot(143)\n",
    "sns.residplot(x=C2022_fatacids, y=insulin_sensitiv, lowess=True, color=\"g\") #Locally Weighted Scatterplot Smoothing\n",
    "plt.title('Residuals of linear regression (seaborn)')\n",
    "plt.xlim((17, 25))\n",
    "plt.xlabel('%C20-22 fatty acids')\n",
    "plt.ylabel('Residuals')\n",
    "\n",
    "plt.subplot(144)\n",
    "# Preprocessing steps\n",
    "model_norm_residuals = results.get_influence().resid_studentized_internal\n",
    "model_norm_residuals_abs_sqrt = np.sqrt(np.abs(model_norm_residuals))\n",
    "# Create the scale-location plot\n",
    "sns.regplot(x=results.fittedvalues, y=model_norm_residuals_abs_sqrt, ci=None, lowess=True)\n",
    "plt.title(\"Scale-location plot (statsmodels)\")\n",
    "plt.xlabel(\"Fitted values\")\n",
    "plt.xlim((150,450))\n",
    "plt.ylabel(\"Sqrt abs val of standardized residuals\")\n",
    "\n",
    "sns.despine()\n",
    "plt.tight_layout();"
   ]
  },
  {
   "cell_type": "markdown",
   "metadata": {},
   "source": [
    "On the second graph, the shaded area show the 95% confidence bands of the regression line, which combine the CIs of the slope and the intercept. If the assumptions of linear regression are true, you can 95% sure that the overall best-fit regression line lies somewhere within the shaded confidence bands.\n",
    "\n",
    "The curvature of the 95% CI bands simply is a way to enclose possible straight lines (see _boostrapping_).\n",
    "\n",
    "Only a few data points are included within the confidence bands, if the sample was much larger, the best-fit line would be determined more precisely, so the confidence bands would be narrower and a smaller fraction of data points would be included within the confidence bands.\n",
    "\n",
    "The **residual plot** shows if residuals have non-linear patterns. There could be a non-linear relationship between predictor variables and an outcome variable and the pattern could show up in this plot if the model doesn’t capture the non-linear relationship. If you find _equally spread residuals around a horizontal line without distinct patterns_, that is a good indication you don’t have non-linear relationships.\n",
    "\n",
    "The **scale-location plot**, also called 'Spread-Location plot', shows if residuals are spread equally along the ranges of predictors. This is how you can check the assumption of equal variance (**homoscedasticity**). It’s good if you see a _horizontal line with equally (randomly) spread points_."
   ]
  },
  {
   "cell_type": "markdown",
   "metadata": {},
   "source": [
    "#### Residuals vs Leverage\n",
    "\n",
    "**[Leverage](https://en.wikipedia.org/wiki/Leverage_(statistics)) and [influence](https://en.wikipedia.org/wiki/Influential_observation)** are important concepts for determining whether your model is overly affected by some unusual data points:\n",
    "\n",
    "- leverage is a measure of how far away the independent variable values of an observation are from those of the other observations\n",
    "- influential observation in an observation whose deletion from the dataset would noticeably change the result of the calculation\n",
    "\n",
    " Cook's distance or Cook's D is a commonly used estimate of the influence of a data point when performing a least-squares regression analysis."
   ]
  },
  {
   "cell_type": "code",
   "execution_count": 20,
   "metadata": {},
   "outputs": [
    {
     "name": "stdout",
     "output_type": "stream",
     "text": [
      "    pct_C2022  insulin_sensitivity  leverage  cooks_dist\n",
      "11       24.2                  530  0.259088    0.552364\n",
      "10       23.1                  270  0.162231    0.212685\n",
      "3        18.4                  115  0.157350    0.132773\n",
      "0        17.9                  250  0.195836    0.130740\n",
      "12       24.4                  375  0.280599    0.101007\n"
     ]
    }
   ],
   "source": [
    "summary_info = results.get_influence().summary_frame()\n",
    "df['leverage'] = summary_info[\"hat_diag\"]\n",
    "df['cooks_dist'] = summary_info[\"cooks_d\"]\n",
    "print(df.sort_values(by='cooks_dist', ascending=False).head())"
   ]
  },
  {
   "cell_type": "markdown",
   "metadata": {},
   "source": [
    "#### Q-Q plot\n",
    "\n",
    "In an appropriate model we expect our errors to be random, so we would therefore expect our **residuals to be normally distributed** over sufficient numbers of observations. If our residuals are distributed differently, this is again an indicator of an inappropriate model and can result in inaccurate estimates of confidence intervals and the statistical significance of coefficients.\n",
    "\n",
    "The quickest way to determine if residuals in your sample are consistent with a normal distribution is to run a quantile-quantile plot (or Q-Q plot) on the residuals. This will plot the observed quantiles of your sample against the theoretical quantiles of a normal distribution. The closer this plot looks like a perfect correlation, the more certain you can be that this normality assumption holds."
   ]
  },
  {
   "cell_type": "code",
   "execution_count": 21,
   "metadata": {},
   "outputs": [
    {
     "name": "stderr",
     "output_type": "stream",
     "text": [
      "C:\\Users\\WIECKOWS\\AppData\\Local\\Programs\\Python\\Python39\\lib\\site-packages\\statsmodels\\graphics\\gofplots.py:993: UserWarning: marker is redundantly defined by the 'marker' keyword argument and the fmt string \"bo\" (-> marker='o'). The keyword argument will take precedence.\n",
      "  ax.plot(x, y, fmt, **plot_style)\n"
     ]
    },
    {
     "data": {
      "image/png": "[encoded data removed]",
      "text/plain": [
       "<Figure size 432x288 with 1 Axes>"
      ]
     },
     "metadata": {
      "needs_background": "light"
     },
     "output_type": "display_data"
    }
   ],
   "source": [
    "# create a Q-Q plot of the residuals\n",
    "from statsmodels.api import qqplot\n",
    "qqplot(results.resid, fit=True, line='45')\n",
    "plt.title('Q-Q plot of the residuals (statsmodels)');"
   ]
  },
  {
   "cell_type": "markdown",
   "metadata": {},
   "source": [
    "## Confidence interval\n",
    "\n",
    "After your fitting, you would probably like to know the confidence interval for each of your estimated $\\beta$, as well as if they are truly necessary (significantly different from zero). For both **you can't truly do anything without making an hypothesis about the statistic of the noise**: here comes the part where assuming your noise to be normally distributed ($N(0,\\sigma^2)$) becomes important, but potentially wrong too. In summary, confidence intervals were devised to give a plausible set of values to the estimates one might have if one repeated the experiment a very large number of times. Typically, in any such situation, we seek to know a 95% confidence interval to set a standard of certainty around the values we are interpreting.\n",
    "\n",
    "The 95% confidence interval corresponds to approximately two standard errors above or below the estimated value. For a given coefficient, if this confidence interval includes zero, you cannot reject the hypothesis that the variable has no relationship with the outcome. Another indicator of this is the `Pr(>|t|)` column of the coefficient summary, which represents the *p-value* of the null hypothesis that the input variable has no relationship with the outcome. If this value is less than a certain threshold (usually 0.05), you can conclude that this variable has a statistically significant relationship with the outcome.\n",
    "\n",
    "For the confidence interval, if you have an infinite amount of data, and your noise distribution is not heavytailed, you can show that the estimators are well described by a normal statistic (there is convergence in the distribution so that $(\\hat{\\pmb\\beta}-\\pmb\\beta)\\rightarrow N(0,\\sigma^2 (\\pmb X^T \\pmb X)^{-1})$). So for big amount of points relative to the number of estimated parameters, you are not making a big mistake by writting: $\\beta_p \\in [\\hat{\\beta_p} \\pm z_{1-\\frac{\\alpha}{2}}\\sqrt{\\hat{\\sigma}^2 [(\\pmb X^T \\pmb X)^{-1}]_{p,p}}]$.\n",
    "\n",
    "If you don't have a huge amount of data you need to show that you have an incentive about your noise statistic to use these kind of confidence intervals.\n",
    "\n",
    "For the significance of the coefficients, **if you know that your noise is normally distributed then you can use a t-test**.\n",
    "\n",
    "It is possible to compute the CI using the SE stderr and the critical t ratio for a df of 13 - 2 (we know the slope AND intercept) and alpha = 95% (two-tailed)."
   ]
  },
  {
   "cell_type": "code",
   "execution_count": 22,
   "metadata": {},
   "outputs": [],
   "source": [
    "alpha = .95\n",
    "df = len(insulin_sensitiv) - 2\n",
    "t_ = stats.t(df=df).ppf((1+alpha)/2)"
   ]
  },
  {
   "cell_type": "code",
   "execution_count": 23,
   "metadata": {},
   "outputs": [
    {
     "name": "stdout",
     "output_type": "stream",
     "text": [
      "Best-fit value of the slope: 37.21 with 95% CI from 16.75 to 57.67\n"
     ]
    }
   ],
   "source": [
    "CI_slope = (\n",
    "    res.slope - t_*res.stderr,\n",
    "    res.slope + t_*res.stderr\n",
    ")\n",
    "print(f\"Best-fit value of the slope: {res.slope:.2f} with 95% CI from {CI_slope[0]:.2f} to {CI_slope[1]:.2f}\")"
   ]
  },
  {
   "cell_type": "markdown",
   "metadata": {},
   "source": [
    "Although the CI is wide, it does not include 0 and doesn't even come close to 0. This is a strong evidence that the observed relationship is very unlikely to be a coincidence of random sampling."
   ]
  },
  {
   "cell_type": "markdown",
   "metadata": {},
   "source": [
    "### Computing the CI bands"
   ]
  },
  {
   "cell_type": "code",
   "execution_count": 24,
   "metadata": {},
   "outputs": [
    {
     "data": {
      "image/png": "[encoded data removed]",
      "text/plain": [
       "<Figure size 432x360 with 1 Axes>"
      ]
     },
     "metadata": {
      "needs_background": "light"
     },
     "output_type": "display_data"
    }
   ],
   "source": [
    "x,y = C2022_fatacids, insulin_sensitiv\n",
    "\n",
    "def plot_ci_manual(t, s_err, n, x, x2, y2, ax=None):\n",
    "    \"\"\"Return an axes of confidence bands using a simple approach.\n",
    "    Notes\n",
    "    -----\n",
    "    .. math:: \\left| \\: \\hat{\\mu}_{y|x0} - \\mu_{y|x0} \\: \\right| \\; \\leq \\; T_{n-2}^{.975} \\; \\hat{\\sigma} \\; \\sqrt{\\frac{1}{n}+\\frac{(x_0-\\bar{x})^2}{\\sum_{i=1}^n{(x_i-\\bar{x})^2}}}\n",
    "    .. math:: \\hat{\\sigma} = \\sqrt{\\sum_{i=1}^n{\\frac{(y_i-\\hat{y})^2}{n-2}}}\n",
    "    References\n",
    "    ----------\n",
    "    .. [1]: M. Duarte.  \"Curve fitting,\" Jupyter Notebook.\n",
    "       http://nbviewer.ipython.org/github/demotu/BMC/blob/master/notebooks/CurveFitting.ipynb\n",
    "    \"\"\"\n",
    "\n",
    "    if ax is None:\n",
    "        ax = plt.gca()\n",
    "\n",
    "    ci = t * s_err * np.sqrt(1/n + (x2-np.mean(x))**2 / np.sum((x-np.mean(x))**2))\n",
    "    ax.fill_between(x2, y2+ci, y2-ci, color='lightcoral')\n",
    "    \n",
    "    return ax\n",
    "\n",
    "def plot_ci_bootstrap(n, x, y, resid, nboot=500, ax=None):\n",
    "    \"\"\"Return an axes of confidence bands using a bootstrap approach.\n",
    "    Notes\n",
    "    -----\n",
    "    The bootstrap approach iteratively resampling residuals.\n",
    "    It plots `nboot` number of straight lines and outlines the shape of a band.\n",
    "    The density of overlapping lines indicates improved confidence.\n",
    "    Returns\n",
    "    -------\n",
    "    ax : axes\n",
    "        - Cluster of lines\n",
    "        - Upper and Lower bounds (high and low) (optional)  Note: sensitive to outliers\n",
    "    References\n",
    "    ----------\n",
    "    .. [1] J. Stults. \"Visualizing Confidence Intervals\", Various Consequences.\n",
    "       http://www.variousconsequences.com/2010/02/visualizing-confidence-intervals.html\n",
    "    \"\"\"\n",
    "\n",
    "    if ax is None:\n",
    "        ax = plt.gca()\n",
    "    bootindex = np.random.randint\n",
    "    for _ in range(nboot):\n",
    "        resamp_resid = resid[bootindex(0, len(resid)-1, len(resid))]\n",
    "        # Make coeffs of for polys\n",
    "        pc = np.polyfit(x, y + resamp_resid, 1)                   \n",
    "        # Plot bootstrap cluster\n",
    "        ax.plot(x, sp.polyval(pc, x), \"b-\", linewidth=2, alpha=3.0/float(nboot))\n",
    "    return ax\n",
    "\n",
    "# Modeling with Numpy\n",
    "p, cov = np.polyfit(x, y, 1, cov=True)  # parameters and covariance from of the fit\n",
    "y_model = np.polyval(p, x)              # model using the fit parameters; NOTE: parameters here are coefficients\n",
    "\n",
    "# Statistics\n",
    "n = y.size                              # number of observations\n",
    "m = p.size                              # number of parameters\n",
    "DF = n - m                              # degrees of freedom\n",
    "t = stats.t.ppf((1+0.95)/2, n - m)      # used for CI and PI bands\n",
    "\n",
    "# Estimates of Error in Data/Model\n",
    "resid = y - y_model                           \n",
    "chi2 = np.sum((resid/y_model)**2)       # chi-squared; estimates error in data\n",
    "chi2_red = chi2/(DF)                    # reduced chi-squared; measures goodness of fit\n",
    "s_err = np.sqrt(np.sum(resid**2)/(DF))  # standard deviation of the error\n",
    "\n",
    "\n",
    "# Plotting --------------------------------------------------------------------\n",
    "fig, ax = plt.subplots(figsize=(6,5))\n",
    "\n",
    "# Data\n",
    "ax.plot(x, y, '.', markersize=14, markerfacecolor=\"royalblue\")\n",
    "\n",
    "# Fit\n",
    "ax.plot(x, y_model, \"-\", color=\"gold\", linewidth=3, label=\"Fit\")  \n",
    "\n",
    "x2 = np.linspace(np.min(x), np.max(x), 100)\n",
    "y2 = np.linspace(np.min(y_model), np.max(y_model), 100)\n",
    "\n",
    "# Confidence Interval (select one)\n",
    "plot_ci_manual(t, s_err, n, x, x2, y2, ax=ax)\n",
    "#plot_ci_bootstrap(n, x, y, resid, ax=ax)\n",
    "\n",
    "# Prediction Interval\n",
    "pi = t*s_err*np.sqrt(1+1/n+(x2-np.mean(x))**2/np.sum((x-np.mean(x))**2))   \n",
    "ax.fill_between(x2, y2+pi, y2-pi, color=\"None\", linestyle=\"--\")\n",
    "ax.plot(x2, y2-pi, \"--\", color=\"forestgreen\", lw=2, label=\"95% Prediction Limits\")\n",
    "ax.plot(x2, y2+pi, \"--\", color=\"forestgreen\", lw=2)\n",
    "\n",
    "\n",
    "# Figure Modifications --------------------------------------------------------\n",
    "# Labels\n",
    "plt.title(\"Fit Plot and Confidence Interval\", fontsize=\"12\", fontweight=\"bold\")\n",
    "plt.xlabel('%C20-22 fatty acids')\n",
    "plt.ylabel('Insulin sensitivity (mg/m²/min)')\n",
    "plt.xlim(np.min(x)-.5,np.max(x)+.5)\n",
    "\n",
    "# Custom legend\n",
    "handles, labels = ax.get_legend_handles_labels()\n",
    "anyArtist = plt.Line2D((0,1), (0,0), color=\"lightcoral\")  # Create custom artists\n",
    "legend = plt.legend(\n",
    "    [handle for i,handle in enumerate(handles) if i in (0,1)] + [anyArtist],\n",
    "    [label for i,label in enumerate(labels) if i in (0,1)] + [\"95% Confidence Limits\"],\n",
    "    loc=9, bbox_to_anchor=(0, -0.21, 1., .102), ncol=3, mode=\"expand\")  \n",
    "frame = legend.get_frame().set_edgecolor(\"0.5\")\n",
    "\n",
    "# Save Figure\n",
    "plt.tight_layout();"
   ]
  },
  {
   "cell_type": "markdown",
   "metadata": {},
   "source": [
    "## Bootstrapping\n",
    "\n",
    "### Confidence Intervals"
   ]
  },
  {
   "cell_type": "code",
   "execution_count": 25,
   "metadata": {},
   "outputs": [],
   "source": [
    "def draw_bs_pairs_linreg(x, y, size=10000):\n",
    "    inds = np.arange(len(x))\n",
    "    bs_slope_reps = np.empty(size)\n",
    "    bs_intercept_reps = np.empty(size)\n",
    "    for i in range(size):\n",
    "        bs_inds=np.random.choice(inds, len(inds))\n",
    "        bs_x, bs_y = x[bs_inds], y[bs_inds]\n",
    "        \n",
    "        bs_slope_reps[i], bs_intercept_reps[i] = np.polyfit(bs_x, bs_y, deg=1)\n",
    "    return bs_slope_reps, bs_intercept_reps"
   ]
  },
  {
   "cell_type": "code",
   "execution_count": 26,
   "metadata": {},
   "outputs": [],
   "source": [
    "# numpy has also a least squares polynomial fit method\n",
    "slope, intercept = np.polyfit(C2022_fatacids, insulin_sensitiv, deg=1)"
   ]
  },
  {
   "cell_type": "code",
   "execution_count": 27,
   "metadata": {},
   "outputs": [],
   "source": [
    "bs_slope, bs_intercept = draw_bs_pairs_linreg(C2022_fatacids, insulin_sensitiv)"
   ]
  },
  {
   "cell_type": "code",
   "execution_count": 28,
   "metadata": {},
   "outputs": [
    {
     "name": "stdout",
     "output_type": "stream",
     "text": [
      "CI of the slope using bootstraping: [18.43209224 56.57744556]\n",
      "CI of the intercept using bootstraping: [-879.70919095 -109.12031934]\n"
     ]
    }
   ],
   "source": [
    "CI_slope_bs = np.percentile(bs_slope, [2.5, 97.5])\n",
    "CI_intercept_bs = np.percentile(bs_intercept, [2.5, 97.5])\n",
    "print(f\"CI of the slope using bootstraping: {CI_slope_bs}\")\n",
    "print(f\"CI of the intercept using bootstraping: {CI_intercept_bs}\")"
   ]
  },
  {
   "cell_type": "code",
   "execution_count": 29,
   "metadata": {},
   "outputs": [
    {
     "data": {
      "image/png": "[encoded data removed]",
      "text/plain": [
       "<Figure size 432x360 with 1 Axes>"
      ]
     },
     "metadata": {
      "needs_background": "light"
     },
     "output_type": "display_data"
    }
   ],
   "source": [
    "# plot the 200 first pairs of parameters\n",
    "plt.figure(figsize=(6,5))\n",
    "plt.ylim(0,600)\n",
    "x=np.array([17, 25])\n",
    "\n",
    "for i in range(200):\n",
    "    plt.plot(x, bs_slope[i]*x + bs_intercept[i], 'k-', lw=1, alpha=.25)\n",
    "# plot the real data points\n",
    "plt.plot(C2022_fatacids, insulin_sensitiv, '.', ms=14, c='orangered', linestyle='None')\n",
    "\n",
    "plt.xlabel('%C20-22 fatty acids')\n",
    "plt.ylabel('Insulin sensitivity (mg/m²/min)')\n",
    "plt.margins(.02)\n",
    "sns.despine();"
   ]
  },
  {
   "cell_type": "markdown",
   "metadata": {},
   "source": [
    "### P-value"
   ]
  },
  {
   "cell_type": "code",
   "execution_count": 30,
   "metadata": {},
   "outputs": [
    {
     "name": "stdout",
     "output_type": "stream",
     "text": [
      "P value: 0.0021\n"
     ]
    }
   ],
   "source": [
    "print(f\"P value: {res.pvalue:.4f}\")"
   ]
  },
  {
   "cell_type": "markdown",
   "metadata": {},
   "source": [
    "H0: no linear relationship between both parameters. If H0 was true, the best-fit line would be **horizontal with a slope of zero**.\n",
    "If H0 was true, what is the chance that linear regression of data from a random sample of subjects would have a slope as far or farther from zero as that which is observed?"
   ]
  },
  {
   "cell_type": "code",
   "execution_count": 31,
   "metadata": {},
   "outputs": [],
   "source": [
    "# permutation of one group of values from the dataset, computation the slope 10000 times and estimatation of the P ratio\n",
    "slope_bs = [\n",
    "    stats.linregress(\n",
    "        C2022_fatacids,                         # original X values\n",
    "        np.random.permutation(insulin_sensitiv) # permuted Y values\n",
    "    ).slope for _ in range(10000)\n",
    "]"
   ]
  },
  {
   "cell_type": "code",
   "execution_count": 32,
   "metadata": {},
   "outputs": [],
   "source": [
    "P_values_bs = np.sum(slope_bs >= res.slope) / 10000"
   ]
  },
  {
   "cell_type": "code",
   "execution_count": 33,
   "metadata": {},
   "outputs": [
    {
     "name": "stdout",
     "output_type": "stream",
     "text": [
      "P value from boostraping: 0.0009\n"
     ]
    }
   ],
   "source": [
    "print(f'P value from boostraping: {P_values_bs:.4f}')"
   ]
  },
  {
   "cell_type": "code",
   "execution_count": 34,
   "metadata": {},
   "outputs": [
    {
     "data": {
      "image/png": "[encoded data removed]",
      "text/plain": [
       "<Figure size 432x288 with 1 Axes>"
      ]
     },
     "metadata": {
      "needs_background": "light"
     },
     "output_type": "display_data"
    }
   ],
   "source": [
    "plt.hist(slope_bs, bins=100)\n",
    "plt.vlines(res.slope, ymin=0, ymax=250, linestyle='--', colors='red');"
   ]
  },
  {
   "cell_type": "markdown",
   "metadata": {},
   "source": [
    "## Fitting models to data\n",
    "\n",
    "We are interested in the relationship between one of this variable that we will call the *response variable* ($Y$) and the other variables that we will call *covariables* ($X$). \n",
    "Of course our measurments are not perfect so there is some noise associated to it ($\\epsilon$). We can rewrite the equation as $ \\text{response} = \\text{signal} + \\text{noise}$.\n",
    "In mathematical term we are interested in a class of problem that we can write as $ Y = f(X)+\\epsilon$.\n",
    "\n",
    "The model analyzed below defines insulin sensitivity (_the dependend variable_) as a function of of %C20-22 (_the independent variable_) and the slope and the intercept (_the parameters_), without true _constants_ here.\n",
    "\n",
    "The function $f$ is called the regression function, and today we will be interested in looking at a particular form of those function: **linear combination**. A particular case of linear combination would be a single covariable with an intercept like $y_i=\\beta x_i+c$.\n",
    "\n",
    "In our example, the linear regression used to fit the model to the data wan be written as $ Y_i = \\beta_0 + \\beta_1.X_i + \\epsilon_i $.\n",
    "The **intercept** $\\beta_0$ and **slope** $\\beta_1$ are parameters that each have a single true underlyinh population value. In contrast, the **random component** $\\epsilon$ of the model takes on a different value for each data point. These random values are assumed to follow a Gaussian distribution with a mean of zero.\n",
    "\n",
    "A more general case would have more covariables and would be written like:\n",
    "\n",
    "$$f(\\textbf{X}_i,\\pmb{\\beta})=\\sum_{p} \\beta_p x_{i,p}= \\textbf{X}_{i}^{T}\\pmb{\\beta}$$\n",
    "\n",
    "Where *$X_i$* is a vector of p covariables associated to point individual i.\n",
    "\n",
    "Note that for now nothing is said about the nature of the $x_{i,p}$, for example some could be constant instead of being a variable and thus you could go back to a more specific affine function (like $\\beta x+c$).\n",
    "\n",
    "So of course now the game become to best choose the vector of parameters $\\pmb{\\beta}$. For that there are two main methods (sorry Bayesian people...):\n",
    "- (Ordinary) Least Square fit\n",
    "- Maximum Likelihood\n",
    "\n",
    "Least square fit is the most intuitive and easy to get a hold on. Maximum likelihood is a bit more advanced in terms of the concepts it utilizes, but being introduce to it will allow you to manipulate cool concepts that you will need by the end of this notebook and if you keep learning about statistics in general. \n",
    "\n",
    "Underlying those different methods, there are different models:\n",
    "\n",
    "- Linear models\n",
    "- Generalized linear models\n",
    "\n",
    "The way we wrote the function linking $Y$ to $X$ above, have the noise term $\\epsilon$ outside of the function. So one would say that this function only try to represent the mean of the response variable $Y$ along the curve, and as importantly, it does it looking at linear function. \n",
    "This is what we actually do in the framework of Linear models: we only aim to fit the mean response using linear funcitons.\n",
    "\n",
    "Generalized linear model, in another hand, are more flexible: they allow us to transform the mean response and to fit that transformed response with a linear model. It is very powerfull, as now we could better modeled response variable with broader properties (count data, categorical data etc....), but significantly more complicated and so we will not talk about those methods here."
   ]
  },
  {
   "cell_type": "markdown",
   "metadata": {},
   "source": [
    "### Least square\n",
    "\n",
    "For clarity let's define once for all some variables: we have a sample of size $n$, for each individual on this sample there are $p+1$ measurments, $p$ covariables and one response variable. In the least square method we are interested in making the smallest overall distance error between our model and the response variable. Typically we want to find the $\\beta$ that minimizes:\n",
    "\n",
    "$S(\\pmb\\beta)=\\sum_i (y_i-f(\\textbf{X},\\pmb{\\beta}))^2=\\sum_i \\epsilon_i^2$\n",
    "\n",
    "in mathematical terms you are looking for $\\hat{\\pmb\\beta}=\\text{arg min}_{\\pmb\\beta}S(\\pmb\\beta)$. Here the sum is over $i$, which counts the number of individuals.\n",
    "\n",
    "> The hat $\\hat{.}$, is a notation we use to denote our estimate of the true value of something. So in that sense $\\hat{\\pmb\\beta}$ is the estimate of the \"real\" coefficient values, and $\\hat{Y}$ is the estimation of $Y$ given by our model (also called the model predictions).\n",
    "\n",
    "While we could use various optimization algorithms to find the best value for $\\beta$, \n",
    "when the system is overdetermined (*i.e.*, you have more points than coefficients $\\beta_i$) an analytical solution exists. It is of the form:\n",
    "\n",
    "$$\\hat{\\pmb\\beta}=(\\pmb X^T \\pmb X)^{-1}\\pmb X^T \\pmb Y$$\n",
    "\n",
    "### Underlying hypothesis\n",
    "\n",
    "There are a couple of important hypothesis behind this method:\n",
    "\n",
    "- **Correct specification** : have a good incentive for the function you use\n",
    "- **Strict exogeneity** : the errors are centered around the true value of y\n",
    "- **No linear dependance** : you can not reconstruct one of your covariable by summing a subset of your covariables with some set of constant weights \n",
    "- **Spherical errors**: \n",
    "    - Homoscedasticity : the spread of the error is the same along the curve (for example not true for counts data).\n",
    "    - No autocorrelation : error are not correlated along the curve.\n",
    "\n",
    "**Normality is not strictly needed for Least Square fitting**, neither for the variables nor for their errors.\n",
    ">The results of linear regression are based on the assumption that the **residuals** are Gaussian.\n",
    "\n",
    "However you may need that hypothesis downstream in your analysis, for instance when using a test statistic. If you errors are normally distributed, then Least Square fitting and Maximum Likelihood are equivalent, showing that your method for choosing $\\pmb\\beta$ is efficient and sound.\n",
    "\n",
    "If the points with high or low X values tend to be farther from the best-fit line, the assumption that the SD is the same everywhere (homoscedasticity) is violated. Therefore, linear regression can be calculated by **differentially weighting** the data points, giving more weight to the points with small variability and less weight to the points with lots of variability.\n",
    "\n",
    "Finally, within that set of constraints and even if the method is called Linear Models, it is possible to fit polynomials of a degree bigger than 1. To do so you just have to precompute the monomials and add them to your set of covariables.\n",
    "\n",
    "For example:\n",
    "$y=\\beta x +c$ is a linear combination of x\n",
    "\n",
    "$y=\\beta_{1}x+\\beta_{2}x^{2}+\\beta_{3}x^{3}$ is still a linear combination of features (covariables) $x$, $x^{2}$ and $x^{3}$, and **X** becomes {$x,x^2,x^3$\\}"
   ]
  },
  {
   "cell_type": "markdown",
   "metadata": {},
   "source": [
    "### Goodness of fit\n",
    "\n",
    "To have an idea of how good your fit is, you can either directly use the **Mean Squared Error (MSE)** or the adjusted coefficient of determination $\\pmb R^2_a$.\n",
    "\n",
    "The MSE is defined as follow:\n",
    "\n",
    "$$\\text{MSE}=\\frac{\\sum (y_i-\\hat{y_i})^2}{n-2}$$ \n",
    "\n",
    "and accounts for what your model is missing. That could be the simple inherent variance induced by the noise term or the noise term and a missing term that your model doesn't take into account. By its nature, this metric makes it hard to compare between different hypothetical fitting models or different dataset.\n",
    "\n",
    "A better normalized metric is the **adjusted coefficient of determination $\\pmb R^2_a$**. \n",
    "The adjusted part is very necessary when we work in the context of multiple linear regression (more than one covariable). \n",
    "\n",
    "Let's start by defining the coefficient of determination $\\pmb R^2$. This coefficient partitions the variance present in your data between what is taken into account by your model and what is not.\n",
    "\n",
    "$R^2=1-\\frac{\\text{SSE}}{\\text{SST}}$, where SSE is the sum of squared errors ($\\sum_i (y_i-\\hat{y_i})^2$) and SST in the sum of squares total ($\\sum_i (y_i-\\bar{y})^2$).\n",
    "\n",
    "For the adjusted coefficient of determination you have to take into account that SSE and SST don't have the same degree of freedom and you should adjust for that.\n",
    "$R^2_a=1-\\frac{n-1}{n-p}(1-R^2)$, with $p$ the number of covariables and $n$ the number of individuals.\n",
    "\n",
    "> Note : you can see that when there is only one covariable then $R^2_a = R^2$"
   ]
  },
  {
   "cell_type": "markdown",
   "metadata": {},
   "source": [
    "#### Regularization\n",
    "\n",
    "If you don't have access to the noise properties (*i.e.* you have no good reason to say it is normally distributed), you can always use a technic called regularization which is going to penalize covariables that are not really important to your fit. This is more on the machine learning side, and so a lot should be said about how to properly use  this technic (splitting your dataset between train, validation and test set, *etc.*). \n",
    "But let's just check what the principle behind it is and I will give an additionnal example on it later on.\n",
    "\n",
    "The only thing that this method does is to add a penalization term to the least square minimization method seen before. \n",
    "This penalization is based on the size of the parameters estimated. \n",
    "The rational is that some time, parameters estimated will be inflated to compensate the fact that the covariable is not really important to fit the data, but is rather important to understand the noise. So regularization minimizes square error while balancing the overall size of the parameters.\n",
    "\n",
    "Broadly, it can looks like that:\n",
    "\n",
    "* $S(\\pmb{\\beta}) + \\frac{1}{C}\\Sigma^{n}_{i=1}|\\beta_{i}|$ , l1 regularization (Lasso) C being the inverse of the weight that you put on that regularization \n",
    "\n",
    "* $S(\\pmb{\\beta}) + \\frac{1}{C}\\Sigma^{n}_{i=1}\\beta_{i}^{2}$ , l2 regularization (Ridge) \n",
    "\n",
    "* $S(\\pmb{\\beta}) + \\frac{1}{C}\\Sigma^{n}_{i=1}(\\alpha|\\beta_{i}|+(1-\\alpha)\\beta_{i}^{2})$ , elasticnet\n",
    "\n",
    "How to choose this C, or sometime $\\alpha$, is related to the field of machine learning and has to do with splitting your data set into train, validation and test sets. We will not go deeper than that but statsmodels has it implemented `statsmodels.regression.linear_model.OLS.fit_regularized` and scikitlearn, a python library specialized in machine learning has even more option. \n",
    "\n",
    "This is really just for culture, there are many more things to learn before applying those technics rigorously."
   ]
  },
  {
   "cell_type": "markdown",
   "metadata": {},
   "source": [
    "### If hypotheses for OLS aren't true?\n",
    "\n",
    "When the homoscedasticity of your data is not true you have a few possibilities:\n",
    "- you can transform your data so your data become homoscedastic (for example you could use variance stabilizing transformation, or a simple log transform or other...)\n",
    "- you can change your loss function that we previously called $S(\\beta)$ to reweight the different members of that equation by taking into account the discrepancy in terms of variance. That only works if there is no correlation between the error terms. In that case the method is called Weighted Least Square and it simply transformed to $S(\\pmb\\beta)=\\sum_i \\frac{1}{\\sigma_i^2} (y_i-f(\\textbf{X},\\pmb{\\beta}))^2$.\n",
    "- if there is a correlation between the different error terms then it becomes more complicated, but technics exist such as Generalized Least Square model\n",
    "\n",
    "Finally if you know  what statistics your measurement follow, you can bypass all of those problems (and encounter others :-)) by using a maximum likelihood estimation rather than an LS method. By doing so you will have to put yourself in the framework of Generalized Linear Models."
   ]
  },
  {
   "cell_type": "markdown",
   "metadata": {},
   "source": [
    "### Maximum Likelihood Estimation\n",
    "\n",
    "MLE is a method that is used to estimate parameters of a probablililty distribution, and is usefull for model choosing. It is done by maximizing the likelihood function. In the case that we are interested in (i.e. independant identically distributed) this likelihood function is simply the product of a density function values over the entire sample. It is a parametric method since it needs to have an a priory about the density function for it to work. Since it is a product, most of the time we would rather work with the log likelihood function which transforms this product into a sum.\n",
    "\n",
    "So we would like to maximize $l$, the loglikelihood function, by choosing a set of parameters $\\Theta$. Where $l$ is of the form $l(\\Theta;Y)=\\sum_i ln(p(y_i|\\Theta))$, where $Y$ is a random variable and $p()$ is the density function associated to $Y$. So you want to find the following estimation for $\\pmb\\Theta$:\n",
    "\n",
    "$$\\hat{\\pmb\\Theta}=\\text{arg max}_{\\pmb\\Theta}l(\\pmb\\Theta;Y)$$\n",
    "\n",
    "Of note, the regression line determined by the OLS method is identical to the line determined by MLE calculations, i.e. given any hypothetical set of parameter values, it is possible to compute the chance of observing our particular data. MLE finds the set of parameter values for which the observed data are most probable. Given the assumption that scatter follows a Gaussian distribution (with a uniform SD), it can be proven that the MLE approach and the OLS approach generate identical results, i.e. _minimizing the sum of the squares finds values for the paramaters that are most likely to be correct._\n",
    "\n",
    "Let's take the example of a gaussian where you would like to estimate the $\\sigma$ and the $\\mu$, given your data. As they are simulated data we chose that $\\mu=2$ and $\\sigma=0.5$:"
   ]
  },
  {
   "cell_type": "code",
   "execution_count": 35,
   "metadata": {},
   "outputs": [
    {
     "name": "stdout",
     "output_type": "stream",
     "text": [
      "the data that we observed [2.1890487337978084, 1.4710499253047065, 1.476792571255515, 2.199132203217377, 1.740979788963625, 2.33492411469311, 2.594267177468156, 2.2711179114449838, 2.5572502467625, 1.2825084127097965]\n"
     ]
    },
    {
     "data": {
      "image/png": "[encoded data removed]",
      "text/plain": [
       "<Figure size 720x360 with 2 Axes>"
      ]
     },
     "metadata": {
      "needs_background": "light"
     },
     "output_type": "display_data"
    }
   ],
   "source": [
    "from matplotlib import collections  as mc\n",
    "\n",
    "def gaussian_dist(x,mu,sigma):\n",
    "    \"\"\" returns the probability of observing x in a normal distribution of mean mu and standard deviation sigma \"\"\"\n",
    "    return 1./(sigma*np.sqrt(2*np.pi))*np.exp(-1./(2*sigma**2)*(x-mu)**2)\n",
    "    # note: this is equivalent to stats.norm.pdf(x, mu, sigma)\n",
    "\n",
    "X_small=np.random.randn(10)*0.5+2 # this is our observed data, with (mean=2, sd=0.5)\n",
    "\n",
    "m=[2,0.5] # we will try 2 possible combinations of paramters (mean=2, sd=0.5) and (mean=0.5, sd=0.5) \n",
    "s=[0.5,0.5]\n",
    "\n",
    "\n",
    "fig, ax = plt.subplots(ncols=len(m) , figsize = (10,5))\n",
    "X_small_=[[v,0] for v in X_small]\n",
    "\n",
    "x=np.arange(-2,4,0.005) # we will plot between -2 and 4\n",
    "\n",
    "print('the data that we observed', [v[0] for v in X_small_])\n",
    "\n",
    "for q in range(len(m)): # for each of the parameter combinations we want to try\n",
    "    ax[q].plot(X_small,[0]*len(X_small),'k+') # we plot the observed data as crosses\n",
    "\n",
    "    ax[q].plot(x, stats.norm.pdf(x, loc=m[q], scale=s[q]), 'k') # we plot the distribution we are testing\n",
    "    \n",
    "    Predicted = stats.norm.pdf(X_small, loc=m[q], scale=s[q])\n",
    "\n",
    "    Predicted_= [i for i in zip(X_small,Predicted)] # this is to plot segments\n",
    "    lc = mc.LineCollection(zip(X_small_,Predicted_) , colors='red',linewidths=5,alpha=0.7,label='Predicted likelihood')\n",
    "    ax[q].add_collection(lc)\n",
    "    ax[q].legend(loc='best',fontsize=10)\n",
    "    \n",
    "    # the log likelihood of this set of parameters is the sum of the log of the probability densities of the sample\n",
    "    sum_like=sum(np.log(Predicted))     \n",
    "    ax[q].set_title('$\\mu$: {} - $\\sigma$: {:.2f} - log likelihood: {:.2f}'.format(m[q],s[q],sum_like) ,fontsize=13)\n",
    "    \n",
    "    ax[q].set_xlabel('X')\n",
    "    ax[q].set_ylabel('Likelihood')\n",
    "\n",
    "plt.tight_layout();"
   ]
  },
  {
   "cell_type": "markdown",
   "metadata": {},
   "source": [
    "Multiplying those red bars is exactly what the maximum likelihood does. Basically, you shift your theoritical distribution to the right or the left (trying different means), and you narrow it or widen it (trying different variances). For each of those try you multiply those red bars together, and the combination of parameters giving highest result is the one maximizing the likelihood of your data being produced by that distribution with those parameters.\n",
    "\n",
    "It is important to point out here that **even when our data are actually coming from a certain distribution, there will (almost) always be a difference between the theoretical distribution and the recovered one**, as to have perfect match you would need an infinite number of data points."
   ]
  }
 ],
 "metadata": {
  "kernelspec": {
   "display_name": ".env",
   "language": "python",
   "name": "python3"
  },
  "language_info": {
   "codemirror_mode": {
    "name": "ipython",
    "version": 3
   },
   "file_extension": ".py",
   "mimetype": "text/x-python",
   "name": "python",
   "nbconvert_exporter": "python",
   "pygments_lexer": "ipython3",
   "version": "3.12.7"
  }
 },
 "nbformat": 4,
 "nbformat_minor": 2
}
