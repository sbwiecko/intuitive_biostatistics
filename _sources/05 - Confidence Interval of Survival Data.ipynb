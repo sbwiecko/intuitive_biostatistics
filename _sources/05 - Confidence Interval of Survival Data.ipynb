{
 "cells": [
  {
   "cell_type": "markdown",
   "metadata": {},
   "source": [
    "# Confidence Interval of Survival Data\n",
    "\n",
    "## Introduction\n",
    "\n",
    "**Survival analysis** is a branch of statistics that deals with the analysis of time-to-event data, often referred to as 'survival data'.\n",
    "\n",
    "The **event** can be anything from the death of an organism (hence **'survival'**), to the failure of a mechanical system, to the recovery of a sick patient.\n",
    "\n",
    "A **confidence interval** in survival analysis gives a range of values, derived from the data, that is likely to contain the true value of an unknown population parameter. In the context of survival analysis, a confidence interval might be used to describe the uncertainty around a survival time estimate.\n",
    "\n",
    "## Survival data\n",
    "\n",
    "### The `lifelines` library\n",
    "\n",
    "In Python, the [`lifelines` library](https://lifelines.readthedocs.io/en/stable/index.html) is commonly used for survival analysis. It provides a simple and intuitive API for fitting survival models, and also includes functions for visualizing survival data. Here's a basic example of how you might calculate a confidence interval for a survival function estimate using the KaplanMeierFitter class in lifelines:"
   ]
  },
  {
   "cell_type": "code",
   "execution_count": 1,
   "metadata": {},
   "outputs": [
    {
     "name": "stdout",
     "output_type": "stream",
     "text": [
      "lifelines version: 0.28.0\n"
     ]
    }
   ],
   "source": [
    "import pandas as pd\n",
    "import matplotlib.pyplot as plt\n",
    "import lifelines\n",
    "\n",
    "print('lifelines version:', lifelines.__version__)"
   ]
  },
  {
   "cell_type": "code",
   "execution_count": 2,
   "metadata": {},
   "outputs": [
    {
     "data": {
      "text/html": [
       "<div>\n",
       "<style scoped>\n",
       "    .dataframe tbody tr th:only-of-type {\n",
       "        vertical-align: middle;\n",
       "    }\n",
       "\n",
       "    .dataframe tbody tr th {\n",
       "        vertical-align: top;\n",
       "    }\n",
       "\n",
       "    .dataframe thead th {\n",
       "        text-align: right;\n",
       "    }\n",
       "</style>\n",
       "<table border=\"1\" class=\"dataframe\">\n",
       "  <thead>\n",
       "    <tr style=\"text-align: right;\">\n",
       "      <th></th>\n",
       "      <th>YEARS</th>\n",
       "      <th>EVENT</th>\n",
       "    </tr>\n",
       "  </thead>\n",
       "  <tbody>\n",
       "    <tr>\n",
       "      <th>1</th>\n",
       "      <td>6.54</td>\n",
       "      <td>0</td>\n",
       "    </tr>\n",
       "    <tr>\n",
       "      <th>3</th>\n",
       "      <td>6.17</td>\n",
       "      <td>0</td>\n",
       "    </tr>\n",
       "    <tr>\n",
       "      <th>6</th>\n",
       "      <td>3.67</td>\n",
       "      <td>0</td>\n",
       "    </tr>\n",
       "    <tr>\n",
       "      <th>0</th>\n",
       "      <td>4.07</td>\n",
       "      <td>1</td>\n",
       "    </tr>\n",
       "    <tr>\n",
       "      <th>2</th>\n",
       "      <td>1.39</td>\n",
       "      <td>1</td>\n",
       "    </tr>\n",
       "    <tr>\n",
       "      <th>4</th>\n",
       "      <td>5.89</td>\n",
       "      <td>1</td>\n",
       "    </tr>\n",
       "    <tr>\n",
       "      <th>5</th>\n",
       "      <td>4.76</td>\n",
       "      <td>1</td>\n",
       "    </tr>\n",
       "  </tbody>\n",
       "</table>\n",
       "</div>"
      ],
      "text/plain": [
       "   YEARS  EVENT\n",
       "1   6.54      0\n",
       "3   6.17      0\n",
       "6   3.67      0\n",
       "0   4.07      1\n",
       "2   1.39      1\n",
       "4   5.89      1\n",
       "5   4.76      1"
      ]
     },
     "execution_count": 2,
     "metadata": {},
     "output_type": "execute_result"
    }
   ],
   "source": [
    "from lifelines import KaplanMeierFitter\n",
    "\n",
    "# Assume we have some survival data in the following two lists:\n",
    "# `durations` is a list of durations until the event or censorship\n",
    "# `event_observed` is a binary list where 1 indicates the event, \n",
    "# i.e., death, occurred, and 0 indicates censorship\n",
    "\n",
    "# example of the survival data from pages 47-48 of the book Intuitive Biostatistics\n",
    "durations = [4.07, 6.54, 1.39, 6.17, 5.89, 4.76, 3.67]\n",
    "event_observed  = [  1 ,  0  ,  1  ,  0  ,  1  ,  1  ,  0  ]\n",
    "\n",
    "# we create a dataframe with those data\n",
    "data = pd.DataFrame(\n",
    "    {\n",
    "        'YEARS': durations,\n",
    "        'EVENT': event_observed,\n",
    "    }\n",
    ")\n",
    "\n",
    "# sorted durations\n",
    "data.sort_values(by='EVENT')"
   ]
  },
  {
   "cell_type": "code",
   "execution_count": 3,
   "metadata": {},
   "outputs": [
    {
     "data": {
      "text/plain": [
       "<lifelines.KaplanMeierFitter:\"KM_estimate\", fitted with 7 total observations, 3 right-censored observations>"
      ]
     },
     "execution_count": 3,
     "metadata": {},
     "output_type": "execute_result"
    }
   ],
   "source": [
    "# Create a fitter instance\n",
    "kmf = KaplanMeierFitter()\n",
    "\n",
    "# Fit the data to the model\n",
    "kmf.fit(\n",
    "    durations=durations,\n",
    "    event_observed=event_observed,\n",
    ")"
   ]
  },
  {
   "cell_type": "markdown",
   "metadata": {},
   "source": [
    "The `kmf._median` attribute gives us the **median survival time**. In the context of survival analysis, the median survival time is the smallest time at which the survival probability drops to 0.5 or below. In other words, it's the time by which half of the population has experienced the event of interest."
   ]
  },
  {
   "cell_type": "code",
   "execution_count": 4,
   "metadata": {},
   "outputs": [
    {
     "name": "stdout",
     "output_type": "stream",
     "text": [
      "Median survival time: 5.89\n"
     ]
    }
   ],
   "source": [
    "print(\"Median survival time:\", kmf.median_survival_time_)"
   ]
  },
  {
   "cell_type": "markdown",
   "metadata": {},
   "source": [
    "Please note that the median survival time might be `inf` (infinity) for some datasets. This happens when the survival function never goes below 0.5, which means that more than half of the population survives till the end of the observation period. In such cases, the median survival time is undefined and is conventionally considered to be infinite."
   ]
  },
  {
   "cell_type": "markdown",
   "metadata": {},
   "source": [
    "The survival function estimate and its confidence intervals can be accessed with:"
   ]
  },
  {
   "cell_type": "code",
   "execution_count": 5,
   "metadata": {},
   "outputs": [
    {
     "data": {
      "text/html": [
       "<div>\n",
       "<style scoped>\n",
       "    .dataframe tbody tr th:only-of-type {\n",
       "        vertical-align: middle;\n",
       "    }\n",
       "\n",
       "    .dataframe tbody tr th {\n",
       "        vertical-align: top;\n",
       "    }\n",
       "\n",
       "    .dataframe thead th {\n",
       "        text-align: right;\n",
       "    }\n",
       "</style>\n",
       "<table border=\"1\" class=\"dataframe\">\n",
       "  <thead>\n",
       "    <tr style=\"text-align: right;\">\n",
       "      <th></th>\n",
       "      <th>KM_estimate</th>\n",
       "    </tr>\n",
       "    <tr>\n",
       "      <th>timeline</th>\n",
       "      <th></th>\n",
       "    </tr>\n",
       "  </thead>\n",
       "  <tbody>\n",
       "    <tr>\n",
       "      <th>0.00</th>\n",
       "      <td>1.000000</td>\n",
       "    </tr>\n",
       "    <tr>\n",
       "      <th>1.39</th>\n",
       "      <td>0.857143</td>\n",
       "    </tr>\n",
       "    <tr>\n",
       "      <th>3.67</th>\n",
       "      <td>0.857143</td>\n",
       "    </tr>\n",
       "    <tr>\n",
       "      <th>4.07</th>\n",
       "      <td>0.685714</td>\n",
       "    </tr>\n",
       "    <tr>\n",
       "      <th>4.76</th>\n",
       "      <td>0.514286</td>\n",
       "    </tr>\n",
       "    <tr>\n",
       "      <th>5.89</th>\n",
       "      <td>0.342857</td>\n",
       "    </tr>\n",
       "    <tr>\n",
       "      <th>6.17</th>\n",
       "      <td>0.342857</td>\n",
       "    </tr>\n",
       "    <tr>\n",
       "      <th>6.54</th>\n",
       "      <td>0.342857</td>\n",
       "    </tr>\n",
       "  </tbody>\n",
       "</table>\n",
       "</div>"
      ],
      "text/plain": [
       "          KM_estimate\n",
       "timeline             \n",
       "0.00         1.000000\n",
       "1.39         0.857143\n",
       "3.67         0.857143\n",
       "4.07         0.685714\n",
       "4.76         0.514286\n",
       "5.89         0.342857\n",
       "6.17         0.342857\n",
       "6.54         0.342857"
      ]
     },
     "execution_count": 5,
     "metadata": {},
     "output_type": "execute_result"
    }
   ],
   "source": [
    "kmf.survival_function_"
   ]
  },
  {
   "cell_type": "code",
   "execution_count": 6,
   "metadata": {},
   "outputs": [
    {
     "data": {
      "text/html": [
       "<div>\n",
       "<style scoped>\n",
       "    .dataframe tbody tr th:only-of-type {\n",
       "        vertical-align: middle;\n",
       "    }\n",
       "\n",
       "    .dataframe tbody tr th {\n",
       "        vertical-align: top;\n",
       "    }\n",
       "\n",
       "    .dataframe thead th {\n",
       "        text-align: right;\n",
       "    }\n",
       "</style>\n",
       "<table border=\"1\" class=\"dataframe\">\n",
       "  <thead>\n",
       "    <tr style=\"text-align: right;\">\n",
       "      <th></th>\n",
       "      <th>KM_estimate_lower_0.95</th>\n",
       "      <th>KM_estimate_upper_0.95</th>\n",
       "    </tr>\n",
       "  </thead>\n",
       "  <tbody>\n",
       "    <tr>\n",
       "      <th>0.00</th>\n",
       "      <td>1.000000</td>\n",
       "      <td>1.000000</td>\n",
       "    </tr>\n",
       "    <tr>\n",
       "      <th>1.39</th>\n",
       "      <td>0.334054</td>\n",
       "      <td>0.978561</td>\n",
       "    </tr>\n",
       "    <tr>\n",
       "      <th>3.67</th>\n",
       "      <td>0.334054</td>\n",
       "      <td>0.978561</td>\n",
       "    </tr>\n",
       "    <tr>\n",
       "      <th>4.07</th>\n",
       "      <td>0.212797</td>\n",
       "      <td>0.912112</td>\n",
       "    </tr>\n",
       "    <tr>\n",
       "      <th>4.76</th>\n",
       "      <td>0.117760</td>\n",
       "      <td>0.813249</td>\n",
       "    </tr>\n",
       "    <tr>\n",
       "      <th>5.89</th>\n",
       "      <td>0.048108</td>\n",
       "      <td>0.685484</td>\n",
       "    </tr>\n",
       "    <tr>\n",
       "      <th>6.17</th>\n",
       "      <td>0.048108</td>\n",
       "      <td>0.685484</td>\n",
       "    </tr>\n",
       "    <tr>\n",
       "      <th>6.54</th>\n",
       "      <td>0.048108</td>\n",
       "      <td>0.685484</td>\n",
       "    </tr>\n",
       "  </tbody>\n",
       "</table>\n",
       "</div>"
      ],
      "text/plain": [
       "      KM_estimate_lower_0.95  KM_estimate_upper_0.95\n",
       "0.00                1.000000                1.000000\n",
       "1.39                0.334054                0.978561\n",
       "3.67                0.334054                0.978561\n",
       "4.07                0.212797                0.912112\n",
       "4.76                0.117760                0.813249\n",
       "5.89                0.048108                0.685484\n",
       "6.17                0.048108                0.685484\n",
       "6.54                0.048108                0.685484"
      ]
     },
     "execution_count": 6,
     "metadata": {},
     "output_type": "execute_result"
    }
   ],
   "source": [
    "kmf.confidence_interval_"
   ]
  },
  {
   "cell_type": "markdown",
   "metadata": {},
   "source": [
    "This gives us the survival function estimates along with their confidence intervals. The first table corresponds to the \"% survival\", and the second table to the \"lower limit\" and \"upper limit\" in the table 5.3 of the book.\n",
    "\n",
    "Remember, the interpretation of confidence intervals in the context of survival data is the same as in other areas of statistics. A 95% confidence interval means that if we were to repeat our study many times, we would expect the true survival function to fall within our estimated interval in 95% of studies."
   ]
  },
  {
   "cell_type": "markdown",
   "metadata": {},
   "source": [
    "The `lifelines` API provides many other utilities, for example the function called `survival_table_from_events` is used to create a survival table given some durations and censoring vectors. The survival table provides a summary of the number of individuals at risk, the number of events, and the number of censored observations at each unique time point in the data."
   ]
  },
  {
   "cell_type": "code",
   "execution_count": 7,
   "metadata": {},
   "outputs": [
    {
     "name": "stdout",
     "output_type": "stream",
     "text": [
      "          removed  observed  censored  entrance  at_risk\n",
      "event_at                                                \n",
      "0.00            0         0         0         7        7\n",
      "1.39            1         1         0         0        7\n",
      "3.67            1         0         1         0        6\n",
      "4.07            1         1         0         0        5\n",
      "4.76            1         1         0         0        4\n",
      "5.89            1         1         0         0        3\n",
      "6.17            1         0         1         0        2\n",
      "6.54            1         0         1         0        1\n"
     ]
    }
   ],
   "source": [
    "from lifelines.utils import survival_table_from_events\n",
    "\n",
    "# Create the survival table\n",
    "table = survival_table_from_events(durations, event_observed)\n",
    "\n",
    "print(table)"
   ]
  },
  {
   "cell_type": "markdown",
   "metadata": {},
   "source": [
    "This prints a DataFrame that includes the following columns:\n",
    "\n",
    "- `removed`: the number of individuals that had an event or were censored at each time point.\n",
    "- `observed`: the number of individuals that had an event at each time point.\n",
    "- `censored`: the number of individuals that were censored at each time point.\n",
    "- `entrance`: the number of individuals that entered the risk set at each time point. This is usually 0 for all time points except the first one.\n",
    "- `at_risk`: the number of individuals that are at risk of having an event at each time point.\n",
    "\n",
    "And `lifelines.utils.survival_events_from_table` is the inverse of the function survival_table_from_events:"
   ]
  },
  {
   "cell_type": "code",
   "execution_count": 8,
   "metadata": {},
   "outputs": [
    {
     "name": "stdout",
     "output_type": "stream",
     "text": [
      "Durations of observation: [4.07 6.54 1.39 6.17 5.89 4.76 3.67]\n"
     ]
    }
   ],
   "source": [
    "# need to create new columns in order to prepare a lifelines Table\n",
    "data['observed'] = data['EVENT'] == 1\n",
    "data['censored'] = data['EVENT'] == 0\n",
    "\n",
    "# Transforming survival-table data into lifelines format\n",
    "from lifelines.utils import survival_events_from_table\n",
    "\n",
    "T, E, W = survival_events_from_table(\n",
    "    data.set_index('YEARS'),\n",
    "    observed_deaths_col='observed',\n",
    "    censored_col='censored')\n",
    "\n",
    "print(\"Durations of observation:\", T)"
   ]
  },
  {
   "cell_type": "markdown",
   "metadata": {},
   "source": [
    "### Plotting the survival function\n",
    "\n",
    "We can then plot the survival function with confidence intervals using `kmf.plot_survival_function()`."
   ]
  },
  {
   "cell_type": "code",
   "execution_count": 9,
   "metadata": {},
   "outputs": [
    {
     "data": {
      "image/png": "[encoded data removed]",
      "text/plain": [
       "<Figure size 600x500 with 2 Axes>"
      ]
     },
     "metadata": {},
     "output_type": "display_data"
    }
   ],
   "source": [
    "# let's see how it looks\n",
    "plt.figure(figsize=(6,5))\n",
    "\n",
    "kmf.plot(\n",
    "    show_censors=True,\n",
    "    ci_show=True,\n",
    "    legend=False,\n",
    "    lw=3,\n",
    "    c='red',\n",
    "    at_risk_counts=True, # adds summary tables below the plot\n",
    ")\n",
    "plt.xlabel('Time (years)')\n",
    "plt.ylabel('Suvival probability estimate')\n",
    "plt.title('Survival function of the population');"
   ]
  },
  {
   "cell_type": "markdown",
   "metadata": {},
   "source": [
    "`kmf.plot_survival_function()` plots the Kaplan-Meier estimate of the survival function. The y-axis represents the probability that the event of interest has not yet occurred, while the x-axis represents time.\n",
    "\n",
    "The shaded area around the survival function line represents the confidence interval. By default, it's a 95% confidence interval, meaning we are 95% confident that the true survival function lies within this area."
   ]
  },
  {
   "cell_type": "markdown",
   "metadata": {},
   "source": [
    "## Kaplan-Meier estimator\n",
    "\n",
    "### Fraction surviving\n",
    "\n",
    "The **fraction surviving**, often represented as $S(t)$, is a fundamental concept in survival analysis. It represents the probability that an individual survives from the time origin (t=0) to a specified future time t.\n",
    "\n",
    "The survival function S(t), also known as the probability that life is longer than $t$, is given by $S(t) = P(T > t)$, where T is the random lifetime taken from the population.\n",
    "\n",
    "In the context of survival analysis, \"surviving\" doesn't necessarily mean \"not dying.\" Instead, it means \"not experiencing the event of interest.\" The event could be anything: death, failure of a machine, recovery from a disease, etc.\n",
    "\n",
    "Now, let's consider the example of the 7 individuals in the previous study. Let's focus on the 3 first events:\n",
    "\n",
    "1. At time t1, one event (death) occurs. So, the fraction surviving drops by 1/7 (since all 7 individuals were at risk at this time). The survival probability at time t1 is thus $S(t_1) = 6/7$.\n",
    "2. At time t2, one individual is censored. This means they leave the study or the study ends before they have the event. Censoring does not affect the survival probability, so $S(t_2) = S(t_1) = 6/7$.\n",
    "3. At time t3, another event occurs. Now, only 5 individuals were at risk (since one event occurred at t1, reducing the at-risk group to 6, and one individual was censored at t2, further reducing the at-risk group to 5), so the fraction surviving drops by 1/5. The survival fraction at time t3 is thus $S(t_3) = S(t_2) * (1 - 1/5) = (6/7) * (4/5)$. And so on.\n",
    "\n",
    "We can compute the surviving fractions manually as follows:"
   ]
  },
  {
   "cell_type": "code",
   "execution_count": 10,
   "metadata": {},
   "outputs": [
    {
     "name": "stdout",
     "output_type": "stream",
     "text": [
      "0.8571428571428571\n",
      "0.6857142857142857\n",
      "0.5142857142857142\n"
     ]
    }
   ],
   "source": [
    "print(6/7)\n",
    "print(6/7 * 4/5)\n",
    "print(6/7 * 4/5 * 3/4)"
   ]
  },
  {
   "cell_type": "markdown",
   "metadata": {},
   "source": [
    "### Survival function\n",
    "\n",
    "In survival analysis, the survival function S(t) is often estimated using the product of conditional survival probabilities. This is the basis for the Kaplan-Meier estimator, which is one of the most commonly used methods in survival analysis.\n",
    "\n",
    "The Kaplan-Meier estimate of the survival function at time t is given by:\n",
    "$$\\hat{S}(t) = \\prod_{k \\mid t_k \\le{t}}(1 - \\frac{d_k}{n_k})$$\n",
    "\n",
    "where:\n",
    "\n",
    "- The product is over all times $t_i$ up to and including $t$ where at least one event occurred.\n",
    "- $d_i$ is the number of events that occurred at time $t_i$.\n",
    "- $n_i$ is the number of individuals at risk at time $t_i$, i.e., the number of individuals who have not yet had an event and have not been censored before time $t_i$.\n",
    "\n",
    "This product ensures that the survival function estimate is properly adjusted at each time an event occurs, taking into account the decreasing number of individuals at risk.\n",
    "\n",
    "Also note that\n",
    "$$\\hat{S}(t_j) = \\prod_{i=1}^j\\frac{n_i - d_i}{n_i} = \\frac{n_j - d_j}{n_j} \\times \\prod_{i=1}^{j-1} \\frac{n_i - d_i}{n_i} = \\frac{n_j - d_j}{n_j} \\times \\hat{S}(t_{j-1})$$"
   ]
  },
  {
   "cell_type": "code",
   "execution_count": 11,
   "metadata": {},
   "outputs": [
    {
     "name": "stdout",
     "output_type": "stream",
     "text": [
      "Time: 1.39, Survival fraction S(t): 0.8571428571428572\n",
      "Time: 3.67, Survival fraction S(t): 0.8571428571428572\n",
      "Time: 4.07, Survival fraction S(t): 0.6857142857142858\n",
      "Time: 4.76, Survival fraction S(t): 0.5142857142857143\n",
      "Time: 5.89, Survival fraction S(t): 0.3428571428571429\n",
      "Time: 6.17, Survival fraction S(t): 0.3428571428571429\n",
      "Time: 6.54, Survival fraction S(t): 0.3428571428571429\n"
     ]
    }
   ],
   "source": [
    "import numpy as np\n",
    "\n",
    "# convert back from Series to array\n",
    "durations = data['YEARS'].to_numpy()\n",
    "event_observed = data['EVENT'].to_numpy()\n",
    "\n",
    "# Sort durations and event_observed by durations\n",
    "sort_indices = np.argsort(durations)\n",
    "durations_sorted = durations[sort_indices]\n",
    "events_sorted = event_observed[sort_indices]\n",
    "\n",
    "n_at_risk = len(durations_sorted)  # initial number at risk\n",
    "survival_prob = 1.0  # initial survival probability\n",
    "\n",
    "for i in range(len(durations_sorted)):\n",
    "    if events_sorted[i]:  # if event occurred\n",
    "        survival_prob *= (1 - 1/n_at_risk)\n",
    "    print(f\"Time: {durations_sorted[i]}, Survival fraction S(t): {survival_prob}\")\n",
    "    n_at_risk -= 1  # decrease number at risk"
   ]
  },
  {
   "cell_type": "code",
   "execution_count": 12,
   "metadata": {},
   "outputs": [
    {
     "data": {
      "text/plain": [
       "0.6857142857142858"
      ]
     },
     "execution_count": 12,
     "metadata": {},
     "output_type": "execute_result"
    }
   ],
   "source": [
    "# for example at t=4.07\n",
    "# at the 2nd timepoint, no event were observed (censored)\n",
    "(1 - 1/7) * (1 - 0/6) * (1 - 1/5)"
   ]
  },
  {
   "cell_type": "markdown",
   "metadata": {},
   "source": [
    "We won't rewrite the entire `lifelines` library, but here is an example of how we could have written the Kaplan-Meier survival function:"
   ]
  },
  {
   "cell_type": "code",
   "execution_count": 13,
   "metadata": {},
   "outputs": [],
   "source": [
    "def kaplan_meier(durations, event_observed):\n",
    "    \"\"\"\n",
    "    Estimates the survival function using the Kaplan-Meier method.\n",
    "\n",
    "    Args:\n",
    "        durations: A numpy array of event times.\n",
    "        event_observed: A numpy array of indicators (1 for event, 0 for censoring) \n",
    "        at each time point.\n",
    "\n",
    "    Returns:\n",
    "        A tuple containing three numpy arrays:\n",
    "            - survival_probsorted: Estimated survival probabilities at each time point (sorted).\n",
    "            - events_sorted: Unique event (sorted).\n",
    "            - durations_sorted: Unique event times (sorted).\n",
    "            \n",
    "    \"\"\"\n",
    "\n",
    "    # Sort durations and event_observed by durations\n",
    "    sort_indices = np.argsort(durations)\n",
    "    durations_sorted = np.array(durations)[sort_indices]\n",
    "    events_sorted = np.array(event_observed)[sort_indices]\n",
    "\n",
    "    # Initialize variables\n",
    "    n_at_risk = len(durations_sorted)  # initial number at risk\n",
    "    survival_prob_sorted = np.ones_like(durations_sorted)  # initial survival probabilities\n",
    "\n",
    "    for i in range(len(durations_sorted)):\n",
    "        if events_sorted[i] == 1:  # if event occurred\n",
    "            survival_prob_sorted[i:] *= (1 - 1/n_at_risk)\n",
    "        n_at_risk -= 1  # decrease number at risk\n",
    "\n",
    "    return survival_prob_sorted, events_sorted, durations_sorted"
   ]
  },
  {
   "cell_type": "code",
   "execution_count": 14,
   "metadata": {},
   "outputs": [
    {
     "name": "stdout",
     "output_type": "stream",
     "text": [
      "(array([0.85714286, 0.85714286, 0.68571429, 0.51428571, 0.34285714,\n",
      "       0.34285714, 0.34285714]), array([1, 0, 1, 1, 1, 0, 0], dtype=int64), array([1.39, 3.67, 4.07, 4.76, 5.89, 6.17, 6.54]))\n"
     ]
    }
   ],
   "source": [
    "print(kaplan_meier(data['YEARS'], data['EVENT']))"
   ]
  },
  {
   "cell_type": "markdown",
   "metadata": {},
   "source": [
    "## Confidence interval\n",
    "\n",
    "### The basics\n",
    "\n",
    "The confidence interval for the survival function at each time point is typically calculated in using the [Greenwood's formula](https://bookdown.org/sestelo/sa_financial/pointwise-confidence-interval-for-st.html), which provides an estimate of the variance of the survival function. The formula for the variance at time $t$ using the so-called \"linear\" or \"plain\" method is:\n",
    "\n",
    "$$\\sigma^2(S(t)) = S^2(t) \\times \\sum_{t_i \\le{t}} \\frac{d_i}{n_i (n_i - d_i)}$$\n",
    "\n",
    "where:\n",
    "\n",
    "- $S(t)$ is the Kaplan-Meier estimate of the survival function at time $t$.\n",
    "- The sum is over all times $t_i$ up to and including $t$ where at least one event occurred.\n",
    "- $d_i$ is the number of events that occurred at time $t_i$\n",
    "- $n_i$ is the number of individuals at risk at time $t_i$.\n",
    "\n",
    "Therefore, assuming that the sample follow a Normal distribution, so that $S(t) \\pm z \\times \\text{SE}(t)$, the confidence interval, can be determinted:\n",
    "\n",
    "$$\\text{IC}_{0.95}[S(t)] = S(t) \\pm 1.96 \\times \\sigma(S(t))$$\n",
    "\n",
    "where $z$ is the z-score for the desired confidence level (for example, z = 1.96 for a 95% confidence interval), and $\\sigma(S(t_j))$ the **standard error** (will be discussed in later chapters). The common practice is to clip the interval at $[0,1]$.\n",
    "\n",
    "Note that these calculations assume that the number of events at each time point and the number of individuals at risk are _large enough_ for the Central Limit Theorem to hold. If these numbers are small, the confidence intervals may not be accurate."
   ]
  },
  {
   "cell_type": "markdown",
   "metadata": {},
   "source": [
    "### Step-by-step example\n",
    "\n",
    "The z-values, also known as **z-scores**, correspond to the number of standard deviations away from the mean in a standard normal distribution. They are used to calculate confidence intervals in statistics. These values are derived from the standard normal distribution and are used to calculate the margin of error for confidence intervals."
   ]
  },
  {
   "cell_type": "code",
   "execution_count": 15,
   "metadata": {},
   "outputs": [
    {
     "name": "stdout",
     "output_type": "stream",
     "text": [
      "Z-value for 99% confidence: 2.5758293035489004\n",
      "Z-value for 95% confidence: 1.959963984540054\n"
     ]
    }
   ],
   "source": [
    "from scipy.stats import norm\n",
    "\n",
    "# For a 99% confidence level\n",
    "z_99 = norm.ppf(0.995)  # Two-tailed test, so we use 0.995 instead of 0.99\n",
    "print(f\"Z-value for 99% confidence: {z_99}\")\n",
    "\n",
    "# For a 95% confidence level\n",
    "z_95 = norm.ppf(0.975)  # Two-tailed test, so we use 0.975 instead of 0.95\n",
    "print(f\"Z-value for 95% confidence: {z_95}\")"
   ]
  },
  {
   "cell_type": "markdown",
   "metadata": {},
   "source": [
    "Let's take the first events in our example:\n",
    "\n",
    "| time to event | number at risk | observed | S(t)  | e = d/(n*(n-d)) | sum(e) | SE(t) | LCL   | UCL   |\n",
    "| ------------- | -------------- | -------- | ----- | --------------- | ------ | ----- | ----- | ----- |\n",
    "| 1.39          | 7              | 1        | .8571 | 0.024           | 0.024  | 0.132 | 0.598 | 1.116 |\n",
    "| 3.67          | 6              | 0        | .8571 | 0               | 0.024  | 0.132 | 0.598 | 1.116 |\n",
    "| 4.07          | 5              | 1        | .6857 | 0.050           | 0.074  | 0.186 | 0.321 | 1.051 |\n",
    "| 4.76          | 4              | 1        | .5143 | 0.083           | 0.157  | 0.204 | 0.115 | 0.914 |"
   ]
  },
  {
   "cell_type": "code",
   "execution_count": 16,
   "metadata": {},
   "outputs": [
    {
     "name": "stdout",
     "output_type": "stream",
     "text": [
      "S(t1) = 0.8571\n",
      "e1 = 0.024\n",
      "sum(e) = 0.024\n",
      "SE(t1) = 0.132\n",
      "The confidence interval (plain type) limits are [0.598 - 1.116]\n"
     ]
    }
   ],
   "source": [
    "# breakdown calculation for the first event\n",
    "S1 = (1 - 1/7)\n",
    "e1 = 1/(7*(7-1))\n",
    "sum_e1 = e1\n",
    "SE1 = S1 * np.sqrt(sum_e1)\n",
    "print(f\"S(t1) = {S1:.4f}\")\n",
    "print(f\"e1 = {e1:.3f}\")\n",
    "print(f\"sum(e) = {sum_e1:.3f}\")\n",
    "print(f\"SE(t1) = {SE1:.3f}\")\n",
    "print(f\"The confidence interval (plain type) limits are \\\n",
    "[{S1 - 1.96*SE1:.3f} - {S1 + 1.96*SE1:.3f}]\")"
   ]
  },
  {
   "cell_type": "markdown",
   "metadata": {},
   "source": [
    "When no event is observed, $d=0$ and $e=0$, so that the sum of $e$ doesn't change nor the survival function or its standard error."
   ]
  },
  {
   "cell_type": "code",
   "execution_count": 17,
   "metadata": {},
   "outputs": [
    {
     "name": "stdout",
     "output_type": "stream",
     "text": [
      "S(t3) = 0.6857\n",
      "e3 = 0.050\n",
      "sum(e) = 0.074\n",
      "SE(t3) = 0.186\n",
      "The confidence interval (plain type) limits are [0.321 - 1.051]\n"
     ]
    }
   ],
   "source": [
    "# breakdown calculation for the third event\n",
    "S3 = (1 - 1/7) * (1 - 0/6) * (1 - 1/5)\n",
    "e3 = 1 / (5*(5 - 1))\n",
    "sum_e3 = e1 + 0 + e3\n",
    "SE3 = S3 * np.sqrt(sum_e3)\n",
    "print(f\"S(t3) = {S3:.4f}\")\n",
    "print(f\"e3 = {e3:.3f}\")\n",
    "print(f\"sum(e) = {sum_e3:.3f}\")\n",
    "print(f\"SE(t3) = {SE3:.3f}\")\n",
    "print(f\"The confidence interval (plain type) limits are \\\n",
    "[{S3 - 1.96*SE3:.3f} - {S3 + 1.96*SE3:.3f}]\")"
   ]
  },
  {
   "cell_type": "code",
   "execution_count": 18,
   "metadata": {},
   "outputs": [
    {
     "name": "stdout",
     "output_type": "stream",
     "text": [
      "S(t4) = 0.5143\n",
      "e4 = 0.083\n",
      "sum(e) = 0.157\n",
      "SE(t4) = 0.204\n",
      "The confidence interval (plain type) limits are [0.115 - 0.914]\n"
     ]
    }
   ],
   "source": [
    "# breakdown calculation for the 4th event\n",
    "S4 = (1 - 1/7) * (1 - 0/6) * (1 - 1/5) * (1 - 1/4)\n",
    "e4 = 1 / (4* (4 - 1))\n",
    "sum_e4 = e1 + 0 + e3 + e4\n",
    "SE4 = S4 * np.sqrt(sum_e4)\n",
    "print(f\"S(t4) = {S4:.4f}\")\n",
    "print(f\"e4 = {e4:.3f}\")\n",
    "print(f\"sum(e) = {sum_e4:.3f}\")\n",
    "print(f\"SE(t4) = {SE4:.3f}\")\n",
    "print(f\"The confidence interval (plain type) limits are \\\n",
    "[{S4 - 1.96*SE4:.3f} - {S4 + 1.96*SE4:.3f}]\")"
   ]
  },
  {
   "cell_type": "markdown",
   "metadata": {},
   "source": [
    "### Log survival\n",
    "\n",
    "In survival analysis, confidence intervals are often calculated on the log scale, where the _complimentary log-log transformation_ $v(t) = \\log(-\\log(S(t)))$ is used a few reasons:\n",
    "\n",
    "1. Symmetry: Survival probabilities are bound between 0 and 1, and their distribution can be skewed, especially when probabilities are close to the boundaries. Taking the logarithm helps to symmetrize the distribution, which is a key assumption for the calculation of confidence intervals.\n",
    "2. Stabilizing Variance: The variance of survival probabilities can change over time, and it can be particularly high when probabilities are close to 0 or 1. The log transformation can help to stabilize the variance, making the statistical analysis more reliable.\n",
    "3. Multiplicative Effects: In many cases, particularly in the context of survival analysis, the effects are multiplicative rather than additive. The log transformation converts multiplicative effects on the original scale to additive effects on the log scale, which simplifies the analysis, i.e., $\\log {S(t)} = \\log \\prod (1 - \\frac{d_k}{n_k}) = \\sum{\\log (1 - \\frac{d_k}{n_k})}$.\n",
    "4. Avoiding Impossible Values: When calculating confidence intervals for survival probabilities, it's possible to get values that fall outside the range [0, 1], which doesn't make sense for probabilities. The log transformation followed by exponentiation (when calculating the confidence interval bounds) ensures that the confidence intervals fall within the appropriate range.\n",
    "\n",
    "The log transformation helps to normalize the distribution, which is a key assumption in the calculation of confidence intervals. Thus, the standard error on the complimentary log-log scale can be estimated by $\\sigma(t)/\\log S(t)$, and we can construct confidence intervals via:\n",
    "\n",
    "$$\\text{SE}(t) = \\sqrt{\\frac{\\sum \\frac{d_i}{n_i(n_i - d_i)}}{\\sum \\log \\frac{n_i - d_i}{n_i}}}$$\n",
    "\n",
    "Finally, we can transform back to the original scale (i.e., the scale of the survival function) by exponentiating the lower and upper limits of the confidence interval for the log survival function:\n",
    "\n",
    "$$\\text{IC}_{0.95}[S(t)] = S(t)^{\\exp(\\pm 1.96 \\times \\text{SE}(t))}$$"
   ]
  },
  {
   "cell_type": "markdown",
   "metadata": {},
   "source": [
    "Let's take the first events in our example:\n",
    "\n",
    "| time to event | n | d | S(t)  | e     | sum(e) | l = log((n-d)/n) | sum(l) | SElog(t) | LCL   | UCL   |\n",
    "| ------------- | - | - | ----- | ----- | ------ | ---------------- | ------ | -------- | ----- | ----- |\n",
    "| 1.39          | 7 | 1 | .8571 | 0.024 | 0.024  | -0.154           | -0.154 | 1.001    | .3340 | .9786 |\n",
    "| 3.67          | 6 | 0 | .8571 | 0     | 0.024  | 0                | -0.154 | 1.001    | .3340 | .9786 |\n",
    "| 4.07          | 5 | 1 | .6857 | 0.050 | 0.074  | -0.223           | -0.377 | 0.720    | .2128 | .9121 |\n",
    "| 4.76          | 4 | 1 | .5143 | 0.083 | 0.157  | -0.288           | -0.665 | 0.596    | .1178 | .8133 |"
   ]
  },
  {
   "cell_type": "code",
   "execution_count": 19,
   "metadata": {},
   "outputs": [
    {
     "name": "stdout",
     "output_type": "stream",
     "text": [
      "l1 = -0.154\n",
      "sum(l) = -0.154\n",
      "SElog(t1) = 1.001\n",
      "The confidence interval (plain type) limits are [0.3340 - 0.9786]\n"
     ]
    }
   ],
   "source": [
    "# breakdown calculation for the first and second events\n",
    "l1 = np.log((7-1)/7)\n",
    "sum_l1 = l1\n",
    "SEl1 = np.sqrt(sum_e1 / sum_l1**2)\n",
    "print(f\"l1 = {l1:.3f}\")\n",
    "print(f\"sum(l) = {sum_l1:.3f}\")\n",
    "print(f\"SElog(t1) = {SEl1:.3f}\")\n",
    "print(f\"The confidence interval (plain type) limits are \\\n",
    "[{S1**np.exp(1.96*SEl1):.4f} - {S1**np.exp(-1.96*SEl1):.4f}]\")"
   ]
  },
  {
   "cell_type": "markdown",
   "metadata": {},
   "source": [
    "Note that when $d=0$, then $l=\\log(n/n)=\\log(1)=0$."
   ]
  },
  {
   "cell_type": "code",
   "execution_count": 20,
   "metadata": {},
   "outputs": [
    {
     "name": "stdout",
     "output_type": "stream",
     "text": [
      "l3 = -0.223\n",
      "sum(l) = -0.377\n",
      "SElog(t3) = 0.720\n",
      "The confidence interval (plain type) limits are [0.2128 - 0.9121]\n"
     ]
    }
   ],
   "source": [
    "# breakdown calculation for the third event\n",
    "l3 = np.log((5-1)/5)\n",
    "sum_l3 = l1 + l3\n",
    "SEl3 = np.sqrt(sum_e3 / sum_l3**2)\n",
    "print(f\"l3 = {l3:.3f}\")\n",
    "print(f\"sum(l) = {sum_l3:.3f}\")\n",
    "print(f\"SElog(t3) = {SEl3:.3f}\")\n",
    "print(f\"The confidence interval (plain type) limits are \\\n",
    "[{S3**np.exp(1.96*SEl3):.4f} - {S3**np.exp(-1.96*SEl3):.4f}]\")"
   ]
  },
  {
   "cell_type": "code",
   "execution_count": 21,
   "metadata": {},
   "outputs": [
    {
     "name": "stdout",
     "output_type": "stream",
     "text": [
      "l4 = -0.288\n",
      "sum(l) = -0.665\n",
      "SElog(t4) = 0.596\n",
      "The confidence interval (plain type) limits are [0.1178 - 0.8133]\n"
     ]
    }
   ],
   "source": [
    "# breakdown calculation for the 4th event\n",
    "l4 = np.log((4-1)/4)\n",
    "sum_l4 = l1 + l3 + l4\n",
    "SEl4 = np.sqrt(sum_e4 / sum_l4**2)\n",
    "print(f\"l4 = {l4:.3f}\")\n",
    "print(f\"sum(l) = {sum_l4:.3f}\")\n",
    "print(f\"SElog(t4) = {SEl4:.3f}\")\n",
    "print(f\"The confidence interval (plain type) limits are \\\n",
    "[{S4**np.exp(1.96*SEl4):.4f} - {S4**np.exp(-1.96*SEl4):.4f}]\")"
   ]
  },
  {
   "cell_type": "markdown",
   "metadata": {},
   "source": [
    "### Process automation with scripts\n",
    "\n",
    "While libraries like `lifelines` offer convenient functions for various statistical analyses, understanding the underlying calculations is valuable. This section dives into creating one script to calculate confidence intervals."
   ]
  },
  {
   "cell_type": "code",
   "execution_count": 22,
   "metadata": {},
   "outputs": [],
   "source": [
    "from scipy.stats import norm\n",
    "\n",
    "def greenwood_confidence_interval(\n",
    "        survival_prob_sorted, event_indicators_sorted, alpha=.05, method=\"log-log\"):\n",
    "    \"\"\"\n",
    "    Calculates the confidence intervals, plain and log-log, for a Kaplan-Meier curve, \n",
    "    assuming pre-sorted data, using the Greenwood variance estimate.\n",
    "\n",
    "    Args:\n",
    "        survival_prob_sorted: A numpy array of estimated survival probabilities \n",
    "        at each time point (assumed to be sorted).\n",
    "        event_indicators: A numpy array of indicators (1 for event, 0 for censoring) \n",
    "        at each time point (assumed to be sorted).\n",
    "        alpha: Significance level (e.g., 0.05 for 95% confidence interval)\n",
    "        method: if not \"log-log\" then the function return the \"plain\" \n",
    "        or \"linear\" confidence intervals\n",
    "\n",
    "    Returns:\n",
    "        A tuple containing two numpy arrays:\n",
    "            standard error using the given method (log-log by default) and alpha (95% by default).\n",
    "            lower and upper bounds of the confidence interval using the given method and alpha.\n",
    "    \"\"\"\n",
    "\n",
    "    # Use inverse normal cumulative distribution for z-score\n",
    "    z = norm.ppf(1 - alpha/2)  # Two-tailed test, so we use 0.975 instead of 0.95\n",
    "\n",
    "    # first we calculate the term in the sum for the variance\n",
    "    # di is indeed the array `event_indicators_sorted`\n",
    "    \n",
    "    # we need the number of individual at risk remaining at each time point\n",
    "    n = len(d:=event_indicators_sorted)+1 - np.cumsum(np.ones_like(d))\n",
    "\n",
    "    # and then compute the cumulative sums of the terms\n",
    "    sum_e = np.cumsum(d / (n * (n-d)))\n",
    "\n",
    "    # then we compute the cumulative sums of the log of the term for the log-log method\n",
    "    sum_l = np.cumsum(np.log((n - d)/n))\n",
    "    \n",
    "    # if the method is different from \"log-log\", then we return the \"plain\" or \"linear\" SE and CI\n",
    "    if method != \"log-log\":\n",
    "        SE = survival_prob_sorted * np.sqrt(sum_e)\n",
    "        return SE, np.array([survival_prob_sorted - z*SE, survival_prob_sorted + z*SE])\n",
    "    else:\n",
    "        SE = np.sqrt(sum_e / sum_l**2)\n",
    "        return SE, np.array(\n",
    "            [survival_prob_sorted**np.exp(1.96*SE), survival_prob_sorted**np.exp(-1.96*SE)])"
   ]
  },
  {
   "cell_type": "code",
   "execution_count": 23,
   "metadata": {},
   "outputs": [
    {
     "name": "stdout",
     "output_type": "stream",
     "text": [
      "[0.33404067 0.33404067 0.21278887 0.11775418 0.04810556 0.04810556\n",
      " 0.04810556]\n",
      "[0.97856182 0.97856182 0.91211394 0.81325222 0.68548852 0.68548852\n",
      " 0.68548852]\n"
     ]
    }
   ],
   "source": [
    "# Example usage (assuming you have your Kaplan-Meier estimates)\n",
    "survival_prob_sorted, event_indicators_sorted, _ = kaplan_meier(data['YEARS'], data['EVENT'])\n",
    "\n",
    "SE, (lower_bound, upper_bound) = greenwood_confidence_interval(\n",
    "    survival_prob_sorted, event_indicators_sorted)\n",
    "\n",
    "# lower_bound and upper_bound contain the confidence interval for each time point\n",
    "print(lower_bound)\n",
    "print(upper_bound)"
   ]
  },
  {
   "cell_type": "markdown",
   "metadata": {},
   "source": [
    "## Conclusion\n",
    "\n",
    "Survival analysis is a branch of statistics that deals with time-to-event data. It's used in a variety of fields, from medical research to machine failure analysis. The `lifelines` library provides a high-level, intuitive API for survival analysis in Python, making it accessible for both statisticians and non-statisticians.\n",
    "\n",
    "Here are some key points about lifelines:\n",
    "\n",
    "- Easy to use: `lifelines` provides a simple and intuitive interface for fitting survival models, calculating survival probabilities, and visualizing survival data.\n",
    "- Comprehensive: `lifelines` includes a variety of survival models, such as the Kaplan-Meier estimator and the Cox proportional hazards model, allowing you to choose the model that best fits your data.\n",
    "- Handles censoring: One of the key challenges in survival analysis is dealing with censored data. `lifelines` handles right-censored data natively, making it easier to work with this type of data.\n",
    "- Confidence intervals: `lifelines` automatically calculates confidence intervals for survival function estimates, providing a measure of uncertainty around these estimates.\n",
    "- Plotting capabilities: `lifelines` includes functions for plotting survival functions and hazard functions, providing a visual way to understand your survival data.\n",
    "\n",
    "In this chapter, we've seen how to use lifelines to calculate survival probabilities, create survival tables, and estimate confidence intervals. We've also discussed some of the theory behind survival analysis, including the concept of \"at risk\" individuals and the calculation of survival fractions.\n",
    "\n",
    "In conclusion, lifelines is a powerful tool for survival analysis in Python. Whether you're a researcher studying patient survival times, a data scientist predicting customer churn, or an engineer analyzing machine failure times, lifelines has the tools you need to analyze your data and draw meaningful conclusions."
   ]
  },
  {
   "cell_type": "markdown",
   "metadata": {},
   "source": [
    "## Session Information\n",
    "\n",
    "The output below details all packages and version necessary to reproduce the results in this report."
   ]
  },
  {
   "cell_type": "code",
   "execution_count": 24,
   "metadata": {
    "tags": [
     "hide-input"
    ]
   },
   "outputs": [
    {
     "name": "stdout",
     "output_type": "stream",
     "text": [
      "Python 3.12.3\n",
      "-------------\n",
      "numpy: 1.26.4\n",
      "pandas: 2.2.1\n",
      "lifelines: 0.28.0\n",
      "scipy: 1.12.0\n",
      "statsmodels: 0.14.2\n",
      "matplotlib: 3.8.3\n"
     ]
    }
   ],
   "source": [
    "!python --version\n",
    "print(\"-------------\")\n",
    "# List of packages we want to check the version\n",
    "packages = ['numpy', 'pandas', 'lifelines', 'scipy', 'statsmodels', 'matplotlib',]\n",
    "\n",
    "# Initialize an empty list to store the versions\n",
    "versions = []\n",
    "\n",
    "# Loop over the packages\n",
    "for package in packages:\n",
    "    # Get the version of the package\n",
    "    output = !pip show {package} | findstr \"Version\"\n",
    "    # If the output is not empty, get the version\n",
    "    if output:\n",
    "        version = output[0].split()[-1]\n",
    "    else:\n",
    "        version = 'Not installed'\n",
    "    # Append the version to the list\n",
    "    versions.append(version)\n",
    "\n",
    "# Print the versions\n",
    "for package, version in zip(packages, versions):\n",
    "    print(f'{package}: {version}')"
   ]
  }
 ],
 "metadata": {
  "interpreter": {
   "hash": "35e05afc3bbf8458d25376a416e873cf169d04b2fc4efc2b77204c35b02a6d38"
  },
  "kernelspec": {
   "display_name": "Python 3.9.5 64-bit",
   "name": "python3"
  },
  "language_info": {
   "codemirror_mode": {
    "name": "ipython",
    "version": 3
   },
   "file_extension": ".py",
   "mimetype": "text/x-python",
   "name": "python",
   "nbconvert_exporter": "python",
   "pygments_lexer": "ipython3",
   "version": "3.12.3"
  }
 },
 "nbformat": 4,
 "nbformat_minor": 2
}
