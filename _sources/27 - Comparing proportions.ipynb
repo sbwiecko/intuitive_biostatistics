{
 "cells": [
  {
   "cell_type": "markdown",
   "metadata": {},
   "source": [
    "# Comparing proportions\n",
    "\n",
    "## Introduction\n",
    "\n",
    "This chapter embarks on an exploration of the methodologies and Python tools that empower us to analyze and interpret scenarios where outcomes are classified into **categories**. Whether we're investigating the prevalence of a disease, the effectiveness of a treatment, or the association between risk factors and outcomes, the comparison of proportions provides a statistical lens through which we can discern meaningful relationships.\n",
    "\n",
    "Proportions, representing the _fraction of individuals or events falling into specific categories_, offer a concise and intuitive way to summarize categorical data. The comparison of proportions extends this simplicity to uncover potential disparities or associations. By examining the **differences or ratios** between proportions derived from distinct groups or conditions, we gain insights into:\n",
    "\n",
    "- Disease prevalence: how does the occurrence of a condition vary across populations or over time?\n",
    "- Treatment efficacy: does a new intervention lead to a higher proportion of successful outcomes compared to a standard treatment or a control group?\n",
    "- Risk factor analysis: is there a correlation between exposure to certain factors and the likelihood of developing a specific health outcome?\n",
    "- Trend assessment: does the proportion of individuals exhibiting a particular trait change systematically across ordered categories (e.g., dosage levels in toxicology)?\n",
    "\n",
    "We will go through a versatile toolkit for comparing proportions, leveraging the capabilities of Python to perform robust analyses:\n",
    "\n",
    "- Contingency tables: the foundation for **organizing and visualizing** categorical relationships.\n",
    "- Fisher's Exact test: the go-to for _small sample sizes_ when comparing proportions.\n",
    "- Chi-Squared test: a powerful workhorse for _larger samples_, assessing the significance of observed differences.\n",
    "- Cochran-Armitage trend test: a specialized tool for detecting trends in proportions across **ordered categories** - particularly relevant in toxicology studies.\n",
    "- Case-control studies: a retrospective approach that investigates if past exposures are more common among individuals with a disease compared to those without.\n",
    "\n",
    "## Fisher's exact test\n",
    "\n",
    "The core idea of Fisher's test is to calculate the probability of obtaining the exact distribution of the data (or one more extreme) if there were truly no association between the variables (the null hypothesis H0). It does this by considering all possible ways the data could be arranged while keeping the row and column totals fixed. This allows for a precise P value calculation, even when other tests might falter.\n",
    "\n",
    "### When to use Fisher's test\n",
    "\n",
    "When dealing with categorical data in biostatistics, we often find ourselves in situations where sample sizes are limited. This is where Fisher's exact test shines. Unlike other tests that rely on approximations (which may not be accurate with small samples), Fisher's test provides an exact calculation of the probability of observing the data (or something more extreme) under the null hypothesis of no association.\n",
    "\n",
    "Fisher's test is particularly well-suited for:\n",
    "\n",
    "- Small sample sizes: if the contingency table has cells with expected counts less than 5, Fisher's test is often the preferred choice.\n",
    "- Rare events: when we're dealing with outcomes that occur infrequently, Fisher's test is more reliable than tests that rely on large-sample assumptions.\n",
    "- 2x2 tables: while Fisher's test can be extended to larger tables, it's most commonly used for situations with two categorical variables, each having two levels (e.g., treatment vs. control, success vs. failure).\n",
    "\n",
    "### Contingency table\n",
    "\n",
    "A contingency table is a structured way to organize the results of a study where both the predictor (e.g., treatment or exposure) and the outcome are categorical. Rows typically correspond to the different levels of the predictor, while columns represent the different possible outcomes. The values within the table show the **count** of subjects falling into each combination of predictor and outcome. We can use [`scipy.stats.contingency` functions](https://docs.scipy.org/doc/scipy/reference/stats.contingency.html) or [`pandas.crosstab`](https://pandas.pydata.org/docs/reference/api/pandas.crosstab.html) to create and analyze contingency tables."
   ]
  },
  {
   "cell_type": "code",
   "execution_count": 4,
   "metadata": {},
   "outputs": [
    {
     "name": "stdout",
     "output_type": "stream",
     "text": [
      "With `scipy.stats.contingency`\n",
      "------------------------------\n",
      "The object containing all atributes is:\n",
      "CrosstabResult(elements=(array([1, 2]), array([0, 1])), count=array([[2, 2],\n",
      "       [1, 2]]))\n",
      "The `treatment` (rows) elements are: [1 2]\n",
      "The `outcome` (columns) elements are: [0 1]\n",
      "The actual contingency table is:\n",
      "[[2 2]\n",
      " [1 2]]\n",
      "\n",
      "With `pandas.crosstab`\n",
      "----------------------\n",
      "outcome    0  1  All\n",
      "treatment           \n",
      "1          2  2    4\n",
      "2          1  2    3\n",
      "All        3  4    7\n"
     ]
    }
   ],
   "source": [
    "import numpy as np\n",
    "from scipy.stats import contingency\n",
    "\n",
    "# Example data\n",
    "treatment = np.array([1, 1, 2, 2, 1, 2, 1]) # 1 = Drug A, 2 = Drug B\n",
    "outcome   = np.array([0, 1, 0, 1, 1, 1, 0]) # 0 = No response, 1 = Response\n",
    "\n",
    "\n",
    "# Create contingency table with scipy.stats.contingency\n",
    "res = contingency.crosstab(treatment, outcome) # treatment will be the rows, outcome the columns\n",
    "\n",
    "print(\"With `scipy.stats.contingency`\")\n",
    "print(\"------------------------------\")\n",
    "print(f\"The object containing all atributes is:\\n{res}\")\n",
    "print(f\"The `treatment` (rows) elements are: {res.elements[0]}\") # type: ignore\n",
    "print(f\"The `outcome` (columns) elements are: {res.elements[1]}\") # type: ignore\n",
    "print(f\"The actual contingency table is:\\n{res.count}\")\n",
    "\n",
    "# If the data is already in a Pandas DataFrame we can use pandas.crosstab\n",
    "import pandas as pd\n",
    "\n",
    "# Assuming the Dataframe has columns named \"treatment\" and \"outcome\"\n",
    "df = pd.DataFrame({\"treatment\": treatment, \"outcome\": outcome})\n",
    "\n",
    "\n",
    "# Creating contingency table using pd.crosstab\n",
    "table = pd.crosstab(\n",
    "    df[\"treatment\"].dropna(),  # Remove NaN values if expected\n",
    "    df[\"outcome\"],\n",
    "    margins=True,     # Include row and column totals\n",
    "    dropna=False      # Keep rows/columns with zero counts\n",
    ")\n",
    "\n",
    "print(\"\\nWith `pandas.crosstab`\")\n",
    "print(\"----------------------\")\n",
    "print(table)"
   ]
  },
  {
   "cell_type": "markdown",
   "metadata": {},
   "source": [
    "Let's prepare the data derived from the study from [Agnelli and colleagues](https://pubmed.ncbi.nlm.nih.gov/23216615/), and where each value is an actual number of patients, in a contingency table.\n",
    "\n",
    "| Treatment        | Recurrent VTE | No recurrence | Total |\n",
    "| ---------------- | ------------- | ------------- | ----- |\n",
    "| Placebo          |       73      |      756      |  829  |\n",
    "| Apixaban, 2.5 mg |       14      |      826      |  840  |\n",
    "| Total            |       87      |     1582      | 1669  |\n",
    "\n",
    "The goal of this analysis is to draw conclusions about the _general population_ of patients who have experienced a thromboembolism. This is achieved by calculating confidence intervals (CIs) and a P value. The P value helps us answer a critical question: if the treatment truly doesn't affect the risk of recurrence (our null hypothesis, H0), what's the probability of observing incidence rates as different (or even more different) than what we see in our study, simply due to random chance?\n",
    "\n",
    "The most appropriate statistical test for this situation is Fisher's exact test. However, Fisher's test can become computationally challenging with large sample sizes. In those cases, the chi-square test (as discussed later) serves as a practical alternative, yielding nearly identical P values. The Fisher's exact test is performed with [`scipy.stats.fisher_exact`](https://docs.scipy.org/doc/scipy-1.13.1/reference/generated/scipy.stats.fisher_exact.html) on a 2x2 contingency table."
   ]
  },
  {
   "cell_type": "code",
   "execution_count": 5,
   "metadata": {},
   "outputs": [
    {
     "name": "stdout",
     "output_type": "stream",
     "text": [
      "          recurrence  no_recurrence\n",
      "placebo           73            756\n",
      "apixaban          14            826\n"
     ]
    }
   ],
   "source": [
    "# Contingency table with rows = alternative treatments, cols = alternative outcomes\n",
    "# table = np.array([[73, 756], [14, 826]])\n",
    "\n",
    "table_df = pd.DataFrame(\n",
    "    {   # pre-aggregated data\n",
    "        'recurrence':    [73, 14],\n",
    "        'no_recurrence': [756, 826],\n",
    "    },\n",
    "    index=['placebo', 'apixaban'],\n",
    ")\n",
    "\n",
    "print(table_df)"
   ]
  },
  {
   "cell_type": "markdown",
   "metadata": {},
   "source": [
    "### P value\n",
    "\n",
    "#### Hypergeometric distribution\n",
    "\n",
    "Fisher's exact test relies on the [hypergeometric distribution](https://en.wikipedia.org/wiki/Hypergeometric_distribution) to compute the exact probability of observing a given contingency table (or one more extreme) under the null hypothesis of no association. Briefly, the hypergeometric distribution describes the probability of obtaining a specific number of successes in a sample drawn without replacement from a finite population containing two types of objects (e.g., cases and controls, exposed and unexposed).\n",
    "\n",
    "Assume the null hypothesis of independence is true, and constrain the marginal counts to be as observed. What is the chance of getting this exact table and what is the chance of getting a table at least as extreme?\n",
    "\n",
    "Imagine an urn with n white balls and _M - n_ black balls. Draw k balls _without replacement_, and let k be the number of white balls in the sample:\n",
    "\n",
    "|             | white | black |       |\n",
    "| ----------- |:-----:|:-----:|:-----:|\n",
    "| sampled     |   k   | N - k |   N   |\n",
    "| not sampled |       |       | M - N |\n",
    "|             |   n   | M - n |   M   |\n",
    "\n",
    "k follows a hypergeometric distribution $K \\sim \\text{Hypergeometric}(M, n, N)$, with\n",
    "\n",
    "$$\n",
    "P(K=k) = \\frac{\\binom{n}{k} \\binom{M - n}{N - k}}{\\binom{M}{N}}\n",
    "$$\n",
    "\n",
    "For example, we can use the probability mass function (PMF) from [`scipy.stats.hypergeom`](https://docs.scipy.org/doc/scipy/reference/generated/scipy.stats.hypergeom.html) to solve the following configuration:\n",
    "\n",
    "|             | 0  | 1  |    |\n",
    "| ----------- |:--:|:--:|:--:|\n",
    "| sampled     | 18 |    | 20 |\n",
    "| not sampled |    |    | 20 |\n",
    "|             | 29 | 11 | 40 |"
   ]
  },
  {
   "cell_type": "code",
   "execution_count": 6,
   "metadata": {},
   "outputs": [
    {
     "name": "stdout",
     "output_type": "stream",
     "text": [
      "P(K=18) = 0.013804\n"
     ]
    }
   ],
   "source": [
    "from scipy.stats import hypergeom\n",
    "\n",
    "k, M, n, N = 18, 40, 29, 20\n",
    "pmf_hypergeom = hypergeom.pmf(k=k, M=M, n=n, N=N)\n",
    "print(f\"P(K=18) = {pmf_hypergeom:.5}\")"
   ]
  },
  {
   "cell_type": "markdown",
   "metadata": {},
   "source": [
    "#### Relationship between hypergeometric distribution and P value\n",
    "\n",
    "In the context of Fisher's test, the \"successes\" are the individuals with the outcome of interest (e.g., cases in a case-control study), and the \"population\" is the total number of individuals in the study. The row and column totals in the contingency table define the number of successes and the sample sizes in each group. The probability of observing a particular contingency table with values a, b, c, and d is given by the hypergeometric probability mass function:\n",
    "\n",
    "$$P(a) = \\frac{\\binom{a+b}{a} \\binom{c+d}{c}}{\\binom{a+b+c+d}{a+c}}$$\n",
    "\n",
    "The P value for Fisher's exact test of independence can be obtained using either the cumulative distribution function (CDF) or the survival function (SF) of the hypergeometric distribution, [as explained in greater details elsewhere](https://docs.scipy.org/doc/scipy/reference/generated/scipy.stats.fisher_exact.html), depending on the directionality of the test:\n",
    "\n",
    "- One-tailed test (right tail): when the alternative hypothesis suggests a higher number of successes than expected, the P value is calculated using the survival function (SF), which gives the probability of observing a value greater than or equal to the observed value: $P = P(K \\ge k) = \\text{SF}(k - 1)$, where $K$ is the random variable representing the number of successes, and $k$ is the observed number of successes.\n",
    "- One-tailed test (left tail): when the alternative hypothesis suggests a lower number of successes than expected, the P value is calculated using the cumulative distribution function (CDF), which gives the probability of observing a value less than or equal to the observed value: $P = P(K \\le k) = \\text{CDF}(k)$\n",
    "- Two-tailed test: in a two-tailed test, we typically consider deviations in both directions (_more extreme associations_ in either direction) from the observed table. Therefore, to obtain the two-sided P value, we often double the P value obtained from the one-sided calculation (using either the CDF or SF, depending on which tail is more extreme)."
   ]
  },
  {
   "cell_type": "code",
   "execution_count": 10,
   "metadata": {},
   "outputs": [
    {
     "name": "stdout",
     "output_type": "stream",
     "text": [
      "Fisher's exact test (two-Sided); P value: 0.0310\n",
      "One-sided P value (>= 18 'successes'): 0.0155\n",
      "Two-sided P value: 0.0310\n",
      "Probabilities of individual tables (more extreme than observed):\n",
      "  k = 9:\t0.0001\n",
      "  k = 10:\t0.0016\n",
      "  k = 11:\t0.0138\n",
      "  k = 18:\t0.0138\n",
      "  k = 19:\t0.0016\n",
      "  k = 20:\t0.0001\n"
     ]
    }
   ],
   "source": [
    "from scipy.stats import fisher_exact, hypergeom\n",
    "\n",
    "# Contingency table \n",
    "table = [[18, 2], [11, 9]]\n",
    "\n",
    "# Perform Fisher's exact test\n",
    "odds_ratio, p_value = fisher_exact(table, alternative='two-sided')\n",
    "print(f\"Fisher's exact test (two-Sided); P value: {p_value:.4f}\")\n",
    "\n",
    "# Parameters for the hypergeometric distribution (from contingency table)\n",
    "M = table[0][0] + table[0][1] + table[1][0] + table[1][1]\n",
    "n = table[0][0] + table[1][0]\n",
    "N = table[0][0] + table[0][1]\n",
    "\n",
    "# 1. Calculate one-sided P value (more extreme in one direction)\n",
    "k=18  # number of successes\n",
    "p_value_one_sided = hypergeom.sf(k=k - 1, M=M, n=n, N=N)\n",
    "print(f\"One-sided P value (>= {k} 'successes'): {p_value_one_sided:.4f}\")\n",
    "\n",
    "# 2. Calculate two-sided P value (more extreme in either direction)\n",
    "p_value_two_sided = 2 * p_value_one_sided  # Assuming symmetry\n",
    "print(f\"Two-sided P value: {p_value_two_sided:.4f}\")\n",
    "\n",
    "# 3. Probabilities of individual tables\n",
    "print(\"Probabilities of individual tables (more extreme than observed):\")\n",
    "for k in [9, 10, 11, 18, 19, 20]:  # Consider tables with more extreme 'successes'\n",
    "    prob = hypergeom.pmf(k=k, M=M, n=n, N=N)\n",
    "    print(f\"  k = {k}:\\t{prob:.4f}\")"
   ]
  },
  {
   "cell_type": "markdown",
   "metadata": {},
   "source": [
    "#### Interpreting the P value"
   ]
  },
  {
   "cell_type": "code",
   "execution_count": null,
   "metadata": {},
   "outputs": [
    {
     "name": "stdout",
     "output_type": "stream",
     "text": [
      "P value in the apixaban study: 1.334e-11\n"
     ]
    }
   ],
   "source": [
    "# Assuming 'table' is our 2x2 contingency table (NumPy array or list of lists)\n",
    "# For pre-aggregated data we can do:\n",
    "table = table_df.to_numpy() # converts DataFrame to NumPy array\n",
    "odds_ratio, p_value = fisher_exact(table)\n",
    "\n",
    "print(f\"P value in the apixaban study: {p_value:.3e}\")"
   ]
  },
  {
   "cell_type": "markdown",
   "metadata": {},
   "source": [
    "A very low P value typically leads to the rejection of the null hypothesis. It's unlikely that the observed results (the distribution of data in the contingency table) occurred purely by chance if there were truly no association between the variables. Said differently, the low P value indicates that there's a statistically significant **association** between the two categorical variables."
   ]
  },
  {
   "cell_type": "markdown",
   "metadata": {},
   "source": [
    "### Calculating and interpreting risk metrics\n",
    "\n",
    "#### Absolute risk reduction (ARR) and attributable risk (AR)\n",
    "\n",
    "In the context of evaluating treatments, the **absolute risk reduction (ARR)**, also known as **attributable risk (AR)** or risk difference, is a key measure that quantifies the absolute difference in the risk of an outcome between the treatment group and the control (or placebo) group. It provides a direct estimate of the reduction in risk that can be attributed to the treatment. The foundation of ARR is the concept of **risk**, which is simply the probability of an event (e.g., disease, side effect, recovery) occurring within a specific time period. Risk is often expressed as a percentage or a decimal:\n",
    "\n",
    "$$\\text{Risk} = p = \\frac{\\text{Number of events in the group}}{\\text{Total number of individuals in the group}}$$\n",
    "\n",
    "While ARR and AR are mathematically equivalent, their usage and interpretation differ slightly:\n",
    "\n",
    "- ARR: typically used when the _exposure or intervention is beneficial_, emphasizing the positive impact of reducing the risk of an undesirable outcome. The control or placebo group will be in the first row of the contingency table.\n",
    "- AR : more commonly used when the _exposure is harmful_, highlighting the excess risk associated with that exposure. The exposed group will be in the first row of the contingency table, like in the example of the oral contraceptive study discussed later.\n",
    "\n",
    "We can calculate ARR as:\n",
    "\n",
    "$$\n",
    "\\begin{aligned}\n",
    "\\text{ARR} &= \\text{Risk in Control group} - \\text{Risk in Treatment group} \\\\\n",
    "&= p_1 - p_2\n",
    "\\end{aligned}\n",
    "$$\n",
    "\n",
    "And we can write AR as:\n",
    "\n",
    "$$\n",
    "\\begin{aligned}\n",
    "\\text{AR} &= \\text{Risk in Exposed group} - \\text{Risk in Unexposed group} \\\\\n",
    "&= p_1 - p_2\n",
    "\\end{aligned}\n",
    "$$\n",
    "\n",
    "where $p_1$ is the risk in the control or exposed group, and $p_2$ the risk in the treatment or unexposed group. In the context of treatment evaluation, the placebo group is usually considered the reference, as we are interested in the effect of the treatment relative to the placebo."
   ]
  },
  {
   "cell_type": "code",
   "execution_count": null,
   "metadata": {},
   "outputs": [
    {
     "name": "stdout",
     "output_type": "stream",
     "text": [
      "Abosulte risk redution (ARR): 7.14%\n"
     ]
    }
   ],
   "source": [
    "def calculate_arr(table):\n",
    "    \"\"\"Calculates absolute risk reduction / attributable risk from a 2x2 contingency table.\n",
    "\n",
    "    Args:\n",
    "        table (np.ndarray): A 2x2 NumPy array representing the contingency table.\n",
    "            Rows: Control or Exposed/Treatment or Unexposed, Columns: Disease/No Disease\n",
    "\n",
    "    Returns:\n",
    "        float: The absolute risk reduction.\n",
    "    \"\"\"\n",
    "    \n",
    "    # Check if table is 2x2\n",
    "    if table.shape != (2, 2):\n",
    "        raise ValueError(\"Input table must be a 2x2 NumPy array.\")\n",
    "\n",
    "    # Calculate risk in exposed and unexposed groups\n",
    "    risk_control =   table[0, 0] / np.sum(table[0, :])\n",
    "    risk_treatment = table[1, 0] / np.sum(table[1, :])\n",
    "\n",
    "    # Calculate attributable risk\n",
    "    ar = risk_control - risk_treatment\n",
    "    return ar\n",
    "\n",
    "# Application to our Apixaban example\n",
    "arr = calculate_arr(table_df.to_numpy())\n",
    "\n",
    "print(f\"Abosulte risk redution (ARR): {100*arr:.2f}%\")"
   ]
  },
  {
   "cell_type": "markdown",
   "metadata": {},
   "source": [
    "The interpretation of ARR (or AR) depends on whether it's positive or negative. A positive value indicates risk reduction, while a negative value indicates risk increase:\n",
    "\n",
    "- ARR > 0: this is the most desirable outcome. It indicates that the placebo group experiences a higher risk of the outcome than the treatment group. A positive ARR suggests a potential beneficial effect of the treatment, as it reduces the absolute risk.\n",
    "- ARR = 0: this suggests there's no difference in risk between the placebo and treatment groups. The treatment, in this case, does not appear to alter the likelihood of the outcome.\n",
    "- ARR < 0: this scenario is less common when evaluating treatment efficacy. It would imply that the placebo group has a lower risk of the outcome than the treatment group. While mathematically possible, this finding would raise concerns about potential biases or confounding factors in the study design or execution. It would warrant further investigation to understand why the placebo appears to be \"protective\" compared to the active treatment."
   ]
  },
  {
   "cell_type": "markdown",
   "metadata": {},
   "source": [
    "#### Population attributable risk (PAR)\n",
    "\n",
    "While AR tells us how much extra risk an exposed group faces compared to an unexposed group, public health officials often want a broader perspective. They need to know how much of a disease's overall burden in the _entire population_ can be linked to a specific risk factor. This is where population attributable risk (PAR) comes in.\n",
    "\n",
    "PAR quantifies the proportion of cases in the entire population that we could potentially prevent if we eliminated the risk factor. It gives us a powerful tool to assess the public health impact of an exposure:\n",
    "\n",
    "$$\\text{PAR} = p_0 - p_2 = (p_1 - p_2) \\times n_1 / N$$\n",
    "\n",
    "where $p_0$ is the overall proportion of the disease in the entire population, $p_1$ the proportion of the disease in the exposed group, $p_2$ the proportion of the disease in the unexposed group, $n_1$ the number of exposed individuals and $N$ the total number of individuals in the population, therefore $n_1 / N$ is the _exposure prevalence_.\n",
    "\n",
    "PAR isn't just about how much riskier a factor makes things for exposed individuals (that's AR). It also considers how common that exposure is in the population. The more widespread the exposure, the larger its potential impact on the entire population, even if the individual risk increase (AR) is relatively small.\n",
    "\n",
    "For example, imagine a study where the contingency table looks like this:\n",
    "\n",
    "| Oral contraceptive | Thromboembolism | No thromboembolism |\n",
    "| ------------------ | --------------- | ------------------ |\n",
    "| Yes                | 150             | 850                |\n",
    "| No                 | 50              | 950                |\n",
    "\n",
    "And let's assume that 20% of the population uses oral contraceptives (the exposure in this case)."
   ]
  },
  {
   "cell_type": "code",
   "execution_count": null,
   "metadata": {},
   "outputs": [
    {
     "name": "stdout",
     "output_type": "stream",
     "text": [
      "Population attributable risk (PAR): 2.00%\n"
     ]
    }
   ],
   "source": [
    "p_exposed   = 150 / (150 + 850)\n",
    "p_unexposed =  50 / ( 50 + 950)\n",
    "exposure_prevalence = 0.20\n",
    "\n",
    "PAR = (p_exposed - p_unexposed) * exposure_prevalence\n",
    "print(f\"Population attributable risk (PAR): {100*PAR:.2f}%\")"
   ]
  },
  {
   "cell_type": "markdown",
   "metadata": {},
   "source": [
    "The PAR of 0.02 (or 2%) indicates that if oral contraceptive use were eliminated from the population, we could potentially prevent 2% of all thromboembolism cases."
   ]
  },
  {
   "cell_type": "markdown",
   "metadata": {},
   "source": [
    "#### Number needed to treat (NTT)\n",
    "\n",
    "The number needed to treat (NNT), or number needed to harm (NNH), is a practical and clinically relevant measure that tells us how many patients need to receive a treatment in order to prevent _one additional adverse outcome_ (or achieve one positive outcome). It's calculated as the reciprocal of the absolute risk reduction:\n",
    "\n",
    "$$\\text{NTT} = 1 / \\text{ARR}$$"
   ]
  },
  {
   "cell_type": "code",
   "execution_count": null,
   "metadata": {},
   "outputs": [
    {
     "name": "stdout",
     "output_type": "stream",
     "text": [
      "Number needed to treat (NNT): 14\n"
     ]
    }
   ],
   "source": [
    "def calculate_nnt(absolute_risk_reduction):\n",
    "    \"\"\"Calculates number needed to treat (NNT) or number needed to harm (NNH).\n",
    "\n",
    "    Args:\n",
    "        absolute_risk_reduction (float): The absolute risk reduction (risk difference or AR).\n",
    "\n",
    "    Returns:\n",
    "        int or float: \n",
    "            - If ARR > 0: NNT (rounded to nearest integer).\n",
    "            - If ARR < 0: NNH (rounded to nearest integer).\n",
    "            - If ARR = 0: None (no effect)\n",
    "    \"\"\"\n",
    "\n",
    "    if absolute_risk_reduction > 0:\n",
    "        return round(1 / absolute_risk_reduction)  # NNT\n",
    "    elif absolute_risk_reduction < 0:\n",
    "        return round(-1 / absolute_risk_reduction) # NNH\n",
    "    else:\n",
    "        return None  # No effect\n",
    "\n",
    "# Application to our Apixaban example\n",
    "nnt = calculate_nnt(arr)\n",
    "print(f\"Number needed to treat (NNT): {nnt}\") "
   ]
  },
  {
   "cell_type": "markdown",
   "metadata": {},
   "source": [
    "\n",
    "A _lower NNT_ indicates a _more effective_ treatment. For example, an NNT of 5 means that we need to treat only 5 patients to prevent one additional bad outcome compared to the control group. A _higher NNT_ indicates a _less effective_ treatment. For example, an NNT of 100 means we need to treat 100 patients to prevent one additional bad outcome."
   ]
  },
  {
   "cell_type": "markdown",
   "metadata": {},
   "source": [
    "#### Relative risk (RR)\n",
    "\n",
    "The relative risk (RR), also known as the **risk ratio**, compares the risk of an event (such as disease recurrence) occurring in one group versus another. It's a powerful tool for quantifying how much more (or less) likely an outcome is when exposed to a particular factor or treatment.\n",
    "\n",
    "In its simplest form, the RR is calculated by dividing the risk in the exposed group by the risk in the unexposed (or control) group:\n",
    "\n",
    "$$\n",
    "\\begin{aligned}\n",
    "\\text{RR} &= \\frac{\\text{Risk in exposed group}}{\\text{Risk in unexposed group}} \\\\\n",
    "&= \\frac{p_1}{p_2} \\\\\n",
    "&= \\frac{a / (a + b)}{c / (c + d)}\n",
    "\\end{aligned}\n",
    "$$\n",
    "\n",
    "when the contingency table looks like this:\n",
    "\n",
    "|           | Event | No event |\n",
    "| --------- | ----- | -------- |\n",
    "| Exposed   |   a   |     b    |\n",
    "| Unexposed |   c   |     d    |"
   ]
  },
  {
   "cell_type": "code",
   "execution_count": null,
   "metadata": {},
   "outputs": [
    {
     "name": "stdout",
     "output_type": "stream",
     "text": [
      "Relative risk (from table): 5.283\n",
      "Relative risk (from proportions, with reference = placebo): 0.189\n",
      "Relative risk (from scipy.stats.contingency): 5.283\n"
     ]
    }
   ],
   "source": [
    "def calculate_rr(table_or_p1, p2=None):\n",
    "    \"\"\"Calculates relative risk (RR) from a contingency table or proportions.\n",
    "\n",
    "    Args:\n",
    "        table_or_p1: Either a 2x2 NumPy array representing a contingency table, \n",
    "        or the proportion (float) of events in the exposed group.\n",
    "        p2 (float, optional): If table_or_p1 is a proportion, this should be \n",
    "        the proportion of events in the unexposed group.\n",
    "\n",
    "    Returns:\n",
    "        float: The relative risk (RR) or None if calculation is not possible.\n",
    "    \"\"\"\n",
    "    if p2 is None:\n",
    "        # Input is a contingency table\n",
    "        if not isinstance(table_or_p1, np.ndarray) or table_or_p1.shape != (2, 2):\n",
    "            raise ValueError(\"Invalid input: Must provide a 2x2 NumPy array.\")\n",
    "\n",
    "        a, b, c, d = table_or_p1.ravel()\n",
    "        p1 = a / (a + b)\n",
    "        p2 = c / (c + d)\n",
    "    else:\n",
    "        # Input is already proportions\n",
    "        p1 = table_or_p1\n",
    "\n",
    "    # Check for division by zero\n",
    "    if p2 == 0:\n",
    "        return None\n",
    "\n",
    "    rr = p1 / p2\n",
    "    return rr\n",
    "\n",
    "\n",
    "# Calculate from contingency table\n",
    "rr = calculate_rr(table_df.to_numpy())\n",
    "print(f\"Relative risk (from table): {rr:.3f}\")\n",
    "\n",
    "# Calculate from proportions\n",
    "p2 = 73 / 829  # placebo\n",
    "p1 = 14 / 840  # Apixaban\n",
    "\n",
    "rr_from_proportions = calculate_rr(p1, p2)\n",
    "print(f\"Relative risk (from proportions, with reference = placebo): {rr_from_proportions:.3f}\")\n",
    "\n",
    "\n",
    "# Alternative method for obtaining the RR using scipy.stats.contingency.relative_risk\n",
    "a, b, c, d = table_df.to_numpy().ravel()\n",
    "print(f\"Relative risk (from scipy.stats.contingency): {contingency.relative_risk(\n",
    "    exposed_cases=a,\n",
    "    exposed_total=a+b,\n",
    "    control_cases=c,\n",
    "    control_total=c+d\n",
    ").relative_risk:.3f}\")"
   ]
  },
  {
   "cell_type": "markdown",
   "metadata": {},
   "source": [
    "- RR > 1: the risk is higher in the 'exposed' group, _i.e., the first row of the contingency table_). For example, an RR of 2 means the exposed group has twice the risk of the event compared to the unexposed group.\n",
    "- RR = 1: the risk is the same in both groups (no association).\n",
    "- RR < 1: the risk is lower in the 'exposed' group. In this case, the exposure is considered a protective factor. For instance, an RR of 0.5 means the exposed group has half the risk of the event compared to the unexposed group.\n",
    "\n",
    "<u>Note:</u> The order of the rows in the contingency table matters for interpreting the relative risk (RR). If the first row represents the placebo group and the second row represents the Apixaban group, the fundamental meaning of the RR value itself doesn't change, but the reference group against which we're comparing does.\n",
    "\n",
    "When we calculated the RR using our original contingency table, with the _placebo group as the reference in the first row_, we obtained an RR of 5.283. This means that subjects in the placebo group were over _five times more likely_ to experience a recurrent disease compared to those who received the treatment.\n",
    "\n",
    "Alternatively, if we directly submitted the proportions $p_1$ (risk in the treatment group) and $p_2$ (risk in the placebo group) to the `calculate_rr` function, we obtain an RR of 0.189. This can be interpreted in two ways:\n",
    "\n",
    "1. Risk reduction: patients receiving the drug had only 18.9% of the risk of recurrent disease compared to those receiving the placebo. In other words, the treatment significantly reduced the risk.\n",
    "2. Protective effect: the treatment exhibited a protective effect, reducing the relative risk of recurrent disease by a substantial margin of 1 - 0.189 = 81.1%.\n",
    "\n",
    "The reciprocal of the RR, i.e., $1/\\text{RR}$, provides the inverse interpretation. For example, if $\\text{RR} = 0.2$, then $1/\\text{RR} = 5$, meaning the first group has 5 times the risk of the second group."
   ]
  },
  {
   "cell_type": "markdown",
   "metadata": {},
   "source": [
    "#### LogRR\n",
    "\n",
    "The log transformation of the relative risk log(RR) is a valuable tool in biostatistical analysis:\n",
    "\n",
    "- Symmetry: RR is not symmetric around 1. An RR of 2 (doubling of risk) is not the opposite of an RR of 0.5 (halving of risk). However, the log transformation makes the scale symmetric around 0. This means that a log(RR) of 0.693 (corresponding to an RR of 2) is the exact opposite of a log(RR) of -0.693 (corresponding to an RR of 0.5). This symmetry is helpful for statistical calculations and interpretations.\n",
    "- Normal approximation: the distribution of log(RR) tends to be more normally distributed than the distribution of RR itself. Many statistical tests assume a normal distribution, so working with log(RR) allows us to use these tests more appropriately.\n",
    "- Confidence intervals: when calculating confidence intervals for RR, a log transformation can make the intervals more symmetrical and accurate, especially when the RR is far from 1.\n",
    "- Meta-analysis: in meta-analyses that combine results from multiple studies, log(RR) is often used as the effect measure. This is because log(RR) allows for easier pooling of results and better statistical properties.\n",
    "\n",
    "Calculating the log(RR) is straightforward. You simply take the natural logarithm of the relative risk:\n",
    "\n",
    "$$\\log(\\text{RR}) = \\ln(\\text{RR})$$\n",
    "\n",
    "As we saw, the RR is the ratio of the risk in the exposed group $p_1$ to the risk in the unexposed group $p_2$, so we can also write:\n",
    "\n",
    "$$\\log(\\text{RR}) = \\log\\left(\\frac{p_1}{p_2}\\right) = \\log{p_1} - \\log{p_2}$$"
   ]
  },
  {
   "cell_type": "code",
   "execution_count": null,
   "metadata": {},
   "outputs": [
    {
     "name": "stdout",
     "output_type": "stream",
     "text": [
      "Log(RR): 1.665\n",
      "Corresponding relative risk: 5.283\n"
     ]
    }
   ],
   "source": [
    "import math\n",
    "\n",
    "log_rr = math.log(rr) # type: ignore\n",
    "print(f\"Log(RR): {log_rr:.3f}\")\n",
    "print(f\"Corresponding relative risk: {math.exp(log_rr):.3f}\")"
   ]
  },
  {
   "cell_type": "markdown",
   "metadata": {},
   "source": [
    "#### Odds ratio (OR)\n",
    "\n",
    "The odds ratio (OR) is another way to quantify the association between an exposure and an outcome. While relative risk compares the probabilities of an event occurring in two groups, the odds ratio compares the **odds** of the event.\n",
    "\n",
    "Odds are slightly different from probabilities. The odds of an event are calculated as the probability of the event happening divided by the probability of it not happening:\n",
    "\n",
    "$$\\text{Odds} = \\frac{\\text{Probability of event}}{\\text{Probability of no event}} = \\frac{p}{1-p}$$\n",
    "\n",
    "OR is then the ratio of the odds of the event in the exposed group to the odds of the event in the unexposed group:\n",
    "\n",
    "$$\\text{OR} = \\frac{\\text{Odds in exposed group}}{\\text{Odds in unexposed group}}$$\n",
    "\n",
    "Mathematically, the OR formula is:\n",
    "\n",
    "$$\n",
    "\\begin{aligned}\n",
    "\\text{OR} &= \\frac{p_1 / (1 - p_1)}{p_2 / (1 - p_2)} \\\\\n",
    "&= \\frac{a / (a + b)}{c / (c + d)} \\times \\frac{1 - c / (c + d)}{1 - a / (a + b)} \\\\\n",
    "&= \\frac{a / (a + b)}{c / (c + d)} \\times \\frac{\\frac{\\cancel{c} + d - \\cancel{c}}{c + d}}{\\frac{\\cancel{a} + b - \\cancel{a}}{a + b}} \\\\\n",
    "&= \\frac{a \\cancel{(c + d)}}{c \\cancel{(a + b)}} \\times \\frac{d \\cancel{(a + b)}}{b \\cancel{(c + d)}} \\\\\n",
    "&= \\frac{ad}{bc}\n",
    "\\end{aligned}\n",
    "$$"
   ]
  },
  {
   "cell_type": "code",
   "execution_count": null,
   "metadata": {},
   "outputs": [
    {
     "name": "stdout",
     "output_type": "stream",
     "text": [
      "Odds ratio: 5.697\n",
      "(Relative risk was: 5.283)\n",
      "Odds ratio (from scipy.stats.contingency): 5.697\n"
     ]
    }
   ],
   "source": [
    "def calculate_or(table):\n",
    "    \"\"\"Calculates odds ratio (OR) from a 2x2 contingency table.\n",
    "\n",
    "    Args:\n",
    "        table: A 2x2 NumPy array representing the contingency table\n",
    "               in the format [[a, b], [c, d]].\n",
    "\n",
    "    Returns:\n",
    "        float: The odds ratio (OR).\n",
    "    \"\"\"\n",
    "    if not isinstance(table, np.ndarray) or table.shape != (2, 2):\n",
    "        raise ValueError(\"Invalid input: Must provide a 2x2 NumPy array.\")\n",
    "\n",
    "    a, b, c, d = table.ravel()\n",
    "    return (a * d) / (b * c)\n",
    "\n",
    "# Application with the Apixaban example\n",
    "oddsratio = calculate_or(table_df.to_numpy())\n",
    "print(f\"Odds ratio: {oddsratio:.3f}\")\n",
    "print(f\"(Relative risk was: {rr:.3f})\")\n",
    "\n",
    "# Alternative method for obtaining the RR using scipy.stats.contingency.odds_ratio\n",
    "a, b, c, d = table_df.to_numpy().ravel()\n",
    "print(\n",
    "    f\"Odds ratio (from scipy.stats.contingency): {contingency.odds_ratio(\n",
    "        table=table_df.to_numpy(),\n",
    "        kind='sample'\n",
    "    ).statistic:.3f}\"\n",
    ")"
   ]
  },
  {
   "cell_type": "markdown",
   "metadata": {},
   "source": [
    "The odds ratio and relative risk are related but not identical.  The key distinction is that the RR deals with probabilities, while the OR deals with odds:\n",
    "\n",
    "- OR > 1: the odds of the event are higher in the 'exposed'/reference group, i.e., in the current case the placebo/control group.\n",
    "- OR = 1: the odds of the event are the same in both groups (no association).\n",
    "- OR < 1: the odds of the event are lower in the 'exposed'/reference group, suggesting a protective effect of the exposure.\n",
    "\n",
    "When the event is rare (low incidence or prevalence), the _OR and RR are very close_ in value and can be interpreted similarly. In contrast, when the event is more common, the OR tends to overestimate the magnitude of association compared to the RR. The more common the event, the greater the discrepancy.\n",
    "\n",
    "Actually, [`scipy.stats.fisher_exact`](https://docs.scipy.org/doc/scipy-1.13.1/reference/generated/scipy.stats.fisher_exact.html) provides the odds ratio directly from the contingency table, as seen in the section about P value."
   ]
  },
  {
   "cell_type": "code",
   "execution_count": null,
   "metadata": {},
   "outputs": [
    {
     "name": "stdout",
     "output_type": "stream",
     "text": [
      "Odds ratio (from `fisher_exact`): 5.697\n"
     ]
    }
   ],
   "source": [
    "print(f\"Odds ratio (from `fisher_exact`): {odds_ratio:.3f}\")"
   ]
  },
  {
   "cell_type": "markdown",
   "metadata": {},
   "source": [
    "#### LogOR\n",
    "\n",
    "Similar to log(RR), the log(OR) transformation creates symmetry around zero, where log(OR) = 0 indicates no effect (OR = 1). Positive log(OR) values indicate increased odds, while negative values indicate decreased odds. It can be interpreted as the _additive effect_ of a predictor on the log odds of the outcome. This can be helpful in understanding the relative contributions of multiple predictors to the outcome.\n",
    "\n",
    "Additionally, log(OR) tends to be more normally distributed than the OR itself, making it suitable for many statistical tests that assume normality. \n",
    "\n",
    "Calculating confidence intervals (CIs) for the OR directly can result in asymmetrical and potentially inaccurate intervals, especially when the OR is far from 1. By taking the log(OR), we can calculate CIs on the log scale, which tend to be more symmetric and reliable. We can then transform these CIs back to the original OR scale to get meaningful estimates of the association's precision.\n",
    "\n",
    "Moreover, log(OR) is the preferred effect measure in many _meta-analyses_. This allows for easier pooling of results from different studies and facilitates statistical calculations like weighting studies based on their precision.\n",
    "\n",
    "Finally, in logistic regression, a common statistical model for analyzing binary outcomes, the log(OR) is directly estimated as the coefficient for a predictor variable. This makes log(OR) a fundamental building block for understanding the relationships between predictors and outcomes in these models.\n",
    "\n",
    "Because $\\text{OR} = \\frac{p_1/(1 - p_1)}{p_2/(1 - p_2)}$, we can write:\n",
    "\n",
    "$$\\log(\\text{OR}) = \\ln(\\text{OR}) = \\log(p_1) - \\log(1 - p_1) - \\log(p_2) + \\log(1 - p_2)$$"
   ]
  },
  {
   "cell_type": "code",
   "execution_count": null,
   "metadata": {},
   "outputs": [
    {
     "name": "stdout",
     "output_type": "stream",
     "text": [
      "Log(OR) as the natural logarithm of OR: 1.740\n",
      "Log(OR) obtained with the manual calculation: 1.740\n",
      "Odds ratio calculated as the exponential of log(OR): 5.697\n"
     ]
    }
   ],
   "source": [
    "log_odds_ratio = math.log(odds_ratio) # type: ignore\n",
    "print(f\"Log(OR) as the natural logarithm of OR: {log_odds_ratio:.3f}\")\n",
    "\n",
    "# log(OR) obtained with calculations\n",
    "a,b,c,d = table_df.to_numpy().ravel()\n",
    "p1 = a / (a + b)\n",
    "p2 = c / (c + d)\n",
    "\n",
    "log_odds_ratio_calc = math.log(p1) - math.log(1 - p1) - math.log(p2) + math.log(1 - p2)\n",
    "print(f\"Log(OR) obtained with the manual calculation: {log_odds_ratio_calc:.3f}\")\n",
    "\n",
    "# Odds ratio obtained for the log(OR)\n",
    "print(f\"Odds ratio calculated as the exponential of log(OR): {math.exp(log_odds_ratio_calc):.3f}\")"
   ]
  },
  {
   "cell_type": "markdown",
   "metadata": {},
   "source": [
    "### Confidence intervals\n",
    "\n",
    "In the previous sections, we've explored several key measures for comparing proportions: ARR, NNT, RR, and OR. However, these values are just point estimates derived from our sample data. To truly understand the reliability of these estimates and draw meaningful conclusions about the broader population, we need to consider their confidence intervals (CIs).\n",
    "\n",
    "A confidence interval provides a _range of plausible values for a population parameter_ (like ARR, NTT, RR, or OR) based on the sample data. It tells us how confident we can be that the true population value falls within that range. A 95% confidence interval, for example, means that if we were to repeat our study many times, we would expect _95% of the calculated intervals to contain the true population value_.\n",
    "\n",
    "Confidence intervals are crucial for several reasons:\n",
    "\n",
    "- Estimating precision: they quantify the uncertainty surrounding our point estimates. A wider CI indicates more uncertainty, while a narrower CI suggests greater **precision**.\n",
    "- Statistical significance: if a CI for a measure like RR or OR does not include 1, it typically indicates a *statistically significant association* between the exposure and outcome.\n",
    "- Clinical relevance: CIs help us assess the practical importance of our findings. A wide CI around a large RR might suggest that the effect could be clinically meaningful, even if the exact magnitude is uncertain.\n",
    "\n",
    "The methods for calculating confidence intervals vary depending on the specific measure (ARR, NNT, RR, OR) and the underlying statistical assumptions, e.g., normal approximation (a simple approach that works for large samples), exact methods (more accurate for smaller samples), and bootstrapping (a versatile resampling technique that can be applied to various scenarios), though they are typically calculated as:\n",
    "\n",
    "$$\\text{CI}^{1 - \\alpha} = \\hat{\\theta} \\pm c^\\ast \\times s_{\\hat{\\theta}}$$\n",
    "\n",
    "where $\\text{CI}^{1 - \\alpha}$ represents the confidence interval at $1 - \\alpha$ confidence level, $\\hat{\\theta}$ the point estimate of the population parameter, $c^\\ast$ the critical value from the relevant distribution corresponding to the desired confidence level and if relevant, given degrees of freedom, e.g., t-distribution ($t_{\\alpha/2, df}$), standard normal ($z_{\\alpha/2}$), etc., and $s_{\\hat{\\theta}}$ the standard error (SE) of the point estimate."
   ]
  },
  {
   "cell_type": "markdown",
   "metadata": {},
   "source": [
    "#### CI for proportions\n",
    "\n",
    "As discussed in our earlier chapter on confidence intervals for proportions, several methods can be employed to estimate the CI around the proportion of patients experiencing disease progression. In this analysis, we'll focus on the proportion of patients with disease progression in both the placebo group (73 out of 829) and the apixaban-treated group (14 out of 840). Let's utilize the 'normal' method available in the `statsmodels.stats.proportion` module for this calculation.\n",
    "\n",
    "The normal approximation is considered valid when the sample size is sufficiently large. A common rule of thumb is that both of the following conditions should hold: $n \\times p \\ge 5$ and $n \\times (1 - p) \\ge 5$. _The underlying true proportion is not too close to 0 or 1. If the proportion is very close to either extreme, other methods like the [Wilson score interval](https://en.wikipedia.org/wiki/Binomial_proportion_confidence_interval) might be more appropriate._"
   ]
  },
  {
   "cell_type": "code",
   "execution_count": null,
   "metadata": {},
   "outputs": [
    {
     "name": "stdout",
     "output_type": "stream",
     "text": [
      "Proportion and 95% CI\n",
      "---------------------\n",
      "placebo group:\t0.0881, (0.069, 0.107)\n",
      "apixaban group:\t0.0167, (0.008, 0.025)\n"
     ]
    }
   ],
   "source": [
    "from statsmodels.stats.proportion import proportion_confint\n",
    "import warnings\n",
    "warnings.filterwarnings(\"ignore\") # statsmodels gives a lot of warnings\n",
    "\n",
    "# Application with the Apixaban example\n",
    "a,b,c,d = table_df.to_numpy().ravel()\n",
    "\n",
    "# Set 95% confidence interval\n",
    "conf=0.95\n",
    "\n",
    "# Calculate CI for placebo group (using normal approximation)\n",
    "ci_placebo = proportion_confint(count=a, nobs=a+b, alpha=1-conf, method='normal')\n",
    "\n",
    "# Calculate CI for apixaban group\n",
    "ci_apixaban = proportion_confint(count=c, nobs=c+d, alpha=1-conf, method='normal')\n",
    "\n",
    "print(f\"Proportion and {100*conf:.0f}% CI\")\n",
    "print('-'*21)\n",
    "# We round each bound of the returned tuples using a generator\n",
    "print(\n",
    "    f\"placebo group:\\t{a/(a+b):.4f}, {tuple(round(bound, 3) for bound in ci_placebo)}\") # type: ignore\n",
    "print(\n",
    "    f\"apixaban group:\\t{c/(c+d):.4f}, {tuple(round(bound, 3) for bound in ci_apixaban)}\") # type: ignore"
   ]
  },
  {
   "cell_type": "markdown",
   "metadata": {},
   "source": [
    "#### CI for ARR\n",
    "\n",
    "##### Standard approximations\n",
    "\n",
    "While the ARR gives us a single point estimate of the treatment effect, the confidence interval provides a range of plausible values within which we can be 95% confident that the true population ARR lies.\n",
    "\n",
    "The confidence interval for ARR is calculated as follows:\n",
    "\n",
    "$$\\text{CI} = \\text{ARR} \\pm z^\\ast \\times s_\\text{ARR}$$\n",
    "\n",
    "where $\\text{ARR} = p_1 - p_2$ is the absolute risk reduction, $z^\\ast$ is the critical z-value from the standard normal distribution corresponding to the desired level of confidence (e.g., 1.96 for a 95% CI), and $s_\\text{ARR} = s_{p_1 - p_2}$ is the standard error of the absolute risk reduction.\n",
    "\n",
    "Because the standard error of a difference between two proportions is calculated as $s_{p_1 - p_2} = \\sqrt{\\mathrm{Var}(p_1) + \\mathrm{Var}(p_2)}$, the variance of a sample proportion $x$ is estimated as $\\mathrm{Var}(x) = x (1 - x)/n$ where $n$ is the sample size, and we can express $p_1$ and $p_2$ in terms of the ovarall risk $p$ and the ARR, substituting these into the formula for $s_{p_1 - p_2}$ and simplifying, we arrive at:\n",
    "\n",
    "$$\n",
    "\\begin{align}\n",
    "s_{p_1 - p_2} &= \\sqrt{p_1 (1 - p_1) /n_1 + p_2 (1 - p_2) /n_2} \\\\\n",
    "&\\approx \\sqrt{p (1 - p) /n_1 + p (1 - p) /n_2} \\\\\n",
    "&\\approx \\sqrt{p (1 - p) (1/n_1 + 1/n_2)}\n",
    "\\end{align}\n",
    "$$\n",
    "\n",
    "by approximating both $p_1$ and $p_2$ using the overall risk $p$, calculated as $p = m_1/N$, where $m_1$ is the total number of events in the population $(a + c)$, and $N$ is the total sample size $(a + b + c + d)$, and $n_1$ and $n_2$ are the sample sizes of the control/exposed and treatment/unexposed groups respectively, because we are dealing with _rare events_."
   ]
  },
  {
   "cell_type": "code",
   "execution_count": null,
   "metadata": {},
   "outputs": [
    {
     "name": "stdout",
     "output_type": "stream",
     "text": [
      "Absolute risk reduction (ARR): 7.139%\n",
      "95% confidence interval for ARR: (5.01%, 9.27%)\n"
     ]
    }
   ],
   "source": [
    "from scipy.stats import norm\n",
    "\n",
    "def calculate_arr_ci(table, conf=0.95):\n",
    "    \"\"\"Calculates absolute risk reduction (ARR) and its confidence interval (CI) \n",
    "    from a 2x2 contingency table.\n",
    "\n",
    "    Args:\n",
    "        table (np.ndarray): A 2x2 NumPy array representing the contingency table.\n",
    "        conf (float, optional): Confidence level (default: 0.95).\n",
    "\n",
    "    Returns:\n",
    "        tuple: A tuple containing:\n",
    "            - ARR (float): The absolute risk reduction.\n",
    "            - ci_lower (float): Lower bound of the confidence interval.\n",
    "            - ci_upper (float): Upper bound of the confidence interval.\n",
    "    \"\"\"\n",
    "    if table.shape != (2, 2):\n",
    "        raise ValueError(\"Input table must be a 2x2 array.\")\n",
    "\n",
    "    a, b, c, d = table.ravel()\n",
    "\n",
    "    # Risk calculations\n",
    "    p1 = a / (a + b)\n",
    "    p2 = c / (c + d)\n",
    "    arr = p1 - p2\n",
    "\n",
    "    # Standard error of AR\n",
    "    N = a + b + c + d  # total number of observations\n",
    "    p_bar = (a + c) / N # overall risk\n",
    "    se_arr = np.sqrt(p_bar * (1 - p_bar) * (1 / (a + b) + 1 / (c + d)))\n",
    "\n",
    "    # Z-score for desired confidence level\n",
    "    z = norm.ppf((1 + conf) / 2)\n",
    "\n",
    "    # Confidence interval (adjust for negative AR if necessary)\n",
    "    ci_lower = arr - z * se_arr\n",
    "    ci_upper = arr + z * se_arr\n",
    "   \n",
    "    return arr, ci_lower, ci_upper\n",
    "\n",
    "# Application with the Apixaban example\n",
    "conf=0.95 # Set 95% confidence interval\n",
    "arr, ci_lower, ci_upper = calculate_arr_ci(table_df.values, conf=conf)\n",
    "print(f\"Absolute risk reduction (ARR): {100*arr:.3f}%\")\n",
    "print(f\"{100*conf:.0f}% confidence interval for ARR: ({100*ci_lower:.2f}%, {100*ci_upper:.2f}%)\")"
   ]
  },
  {
   "cell_type": "markdown",
   "metadata": {},
   "source": [
    "This analysis shows a 95% confidence interval for the absolute risk reduction associated with apixaban treatment ranging from 5.01% to 9.27%. If we assume our study participants are representative of the broader population of adults with thromboembolism, we can be 95% confident that apixaban treatment will reduce the risk of disease progression within this population by a value somewhere between 5.01% and 9.27%."
   ]
  },
  {
   "cell_type": "markdown",
   "metadata": {},
   "source": [
    "##### Z-test for comparing proportions\n",
    "\n",
    "When dealing with large sample sizes and comparing proportions between two groups, the z-test offers a _simpler alternative_ to Fisher's exact test. This test assesses whether there's a statistically significant difference between two proportions and provides insights into the magnitude of the effect.\n",
    "\n",
    "It assumes that the sampling distribution of the difference in proportions is _approximately normal_, which holds true for large sample sizes (typically at least 30 in group). The z-statistic can be writent as:\n",
    "\n",
    "$$z = \\frac{\\text{ARR}}{s_\\text{ARR}} = \\frac{p_1 - p_2}{s_{p_1 - p_2}}$$\n",
    "\n",
    "where $p_1$ is the proportion in group 1, $p_2$ the proportion in group 2, and $s_{p_1 - p_2}$ the standard error of the difference in proportions.\n",
    "\n",
    "Notice that the numerator in the z-statistic is precisely the ARR we are interested in. The denominator is the same standard error we used to calculate the CI for ARR. This highlights the direct link between the z-test and the confidence interval.\n",
    "\n",
    "We can implement the z-test for comparing proportions in Python using the [`proportions_ztest` function from `statsmodels.stats.proportion`](https://www.statsmodels.org/stable/generated/statsmodels.stats.proportion.proportions_ztest.html)."
   ]
  },
  {
   "cell_type": "code",
   "execution_count": null,
   "metadata": {},
   "outputs": [
    {
     "name": "stdout",
     "output_type": "stream",
     "text": [
      "Z-statistic: 6.56\n",
      "P value: 5.368112856740949e-11\n"
     ]
    }
   ],
   "source": [
    "from statsmodels.stats.proportion import proportions_ztest\n",
    "\n",
    "# Extract counts and total observations for each group from the Apixaban table\n",
    "count = table_df['recurrence']\n",
    "nobs = table_df.sum(axis=1)\n",
    "\n",
    "# Perform Z-test for difference in proportions\n",
    "z_stat, p_value = proportions_ztest(count, nobs)\n",
    "\n",
    "print(\"Z-statistic:\", round(z_stat, 3))\n",
    "print(\"P value:\", p_value)"
   ]
  },
  {
   "cell_type": "markdown",
   "metadata": {},
   "source": [
    "The z-test assesses whether the observed ARR is significantly different from zero (no difference in risk). If the absolute value of the z-statistic is large enough (typically exceeding 1.96 for a 95% confidence level), the P value associated with the Z-test will be small, indicating statistical significance. A statistically significant result in the Z-test implies that the _CI for ARR will not include zero_. This means we can be confident that the true ARR in the population is not zero, and there is a real difference in risk between the two groups."
   ]
  },
  {
   "cell_type": "markdown",
   "metadata": {},
   "source": [
    "##### Exact methods\n",
    "\n",
    "Using the overall risk $p$ as an approximation for both $p_1$ and $p_2$ in the $s_{\\text{ARR}}$ formula introduces only a small error. This approximation simplifies the calculation without sacrificing much accuracy when dealing with rare events. This approximation is less accurate when the event is not rare, and/or the sample size is small. For common events, it's preferable to use the **exact formula** with the individual risk estimates ($p_1$ and $p_2$)."
   ]
  },
  {
   "cell_type": "code",
   "execution_count": null,
   "metadata": {},
   "outputs": [
    {
     "name": "stdout",
     "output_type": "stream",
     "text": [
      "Overall risk: 0.052\n",
      "Exact SE: 0.01079\n",
      "Approximated SE: 0.01088\n"
     ]
    }
   ],
   "source": [
    "# Application with the Apixaban example\n",
    "a, b, c, d = table_df.to_numpy().ravel()\n",
    "n1 = a + b\n",
    "n2 = c + d\n",
    "\n",
    "# True proportions\n",
    "p1_true = a / n1\n",
    "p2_true = c / n2\n",
    "\n",
    "# Overall risk\n",
    "p = (n1 * p1_true + n2 * p2_true) / (n1 + n2)\n",
    "# same as `p_bar` in the previous calculate_arr_ci function\n",
    "\n",
    "# Calculate standard error using exact proportions\n",
    "se_exact = np.sqrt((p1_true * (1 - p1_true) / n1) + (p2_true * (1 - p2_true) / n2))\n",
    "\n",
    "# Calculate standard error using overall risk (approximation)\n",
    "se_approx = np.sqrt(p * (1 - p) * (1 / n1 + 1 / n2))\n",
    "\n",
    "print(\"Overall risk:\", round(p, 3))\n",
    "print(\"Exact SE:\", round(se_exact, 5))\n",
    "print(\"Approximated SE:\", round(se_approx, 5))"
   ]
  },
  {
   "cell_type": "markdown",
   "metadata": {},
   "source": [
    "Moreover, standard methods for calculating the CI for ARR, like the normal approximation can be inaccurate when:\n",
    "\n",
    "- Sample sizes are small.\n",
    "- The observed proportions are close to 0 or 1.\n",
    "- We want a more precise estimate of the CI.\n",
    "\n",
    "The [Newcombe/Wilson score method](https://pubmed.ncbi.nlm.nih.gov/9595617/) often provides a more reliable and accurate CI. It is a hybrid approach that combines the strengths of two other methods for calculating CIs for risk differences:\n",
    "\n",
    "- Wilson score interval: the Wilson score interval is a well-regarded method for calculating CIs for individual proportions ($p_1$ and $p_2$). It provides good coverage probability and performs well even for small sample sizes or proportions close to 0 or 1.\n",
    "- Newcombe's hybrid score interval: this method extends the Wilson score interval to the difference of two proportions (ARR). It calculates separate Wilson score intervals for $p_1$ and $p_2$, and then combines them to obtain a CI for the ARR.\n",
    "\n",
    "The Wilson score interval for a proportion $p$ is given by:\n",
    "\n",
    "$$\\text{CI}(p) = \\frac{p + z^2 / 2n \\pm z \\times \\sqrt{p(1 - p) / n + z^2 / 4n^2}}{1 + z^2 / n}$$\n",
    "\n",
    "where $p$ is the sample proportion, $n$ is the sample size, and $z$ is the z-score corresponding to the desired confidence level (e.g., 1.96 for a 95% CI).\n",
    "\n",
    "We can use the [`statsmodels.stats.proportion.confint_proportions_2indep`](https://www.statsmodels.org/dev/generated/statsmodels.stats.proportion.confint_proportions_2indep.html) function to calculate the Newcombe CI for the ARR by setting `compare='diff'` and `method='newcomb'` arguments. This function also offers other methods, including 'wald' (which is related to the Katz log method) and 'score' (which is related to the Koopman asymptotic score method)."
   ]
  },
  {
   "cell_type": "code",
   "execution_count": null,
   "metadata": {},
   "outputs": [
    {
     "name": "stdout",
     "output_type": "stream",
     "text": [
      "95% Newcombe CI for ARR: (0.051, 0.094)\n"
     ]
    }
   ],
   "source": [
    "from statsmodels.stats.proportion import confint_proportions_2indep\n",
    "\n",
    "# Application with the Apixaban example\n",
    "a, b, c, d = table_df.to_numpy().ravel()\n",
    "\n",
    "ci_arr_newcombe = confint_proportions_2indep(\n",
    "    count1=a,\n",
    "    nobs1=a+b,\n",
    "    count2=c,\n",
    "    nobs2=c+d,\n",
    "    compare='diff',\n",
    "    method='newcomb',\n",
    "    alpha=0.05)\n",
    "\n",
    "print(f\"95% Newcombe CI for ARR: {tuple(round(bound, 3) for bound in ci_arr_newcombe)}\") # type: ignore"
   ]
  },
  {
   "cell_type": "markdown",
   "metadata": {},
   "source": [
    "While these methods provide approximations to the Koopman and Katz methods, they are often sufficient for many practical purposes. For a more precise calculation using the Koopman asymptotic score or Katz log methods, we may need to explore alternative implementations or specialized packages."
   ]
  },
  {
   "cell_type": "markdown",
   "metadata": {},
   "source": [
    "#### CI for NNT\n",
    "\n",
    "The confidence interval for the NNT provides a range of plausible values for the true NNT in the population. Since NNT is the reciprocal of ARR, the confidence interval for NNT will be wider when the CI for ARR is narrow, and vice versa. This reflects the fact that smaller treatment effects (smaller ARR) lead to larger NNT values with more uncertainty."
   ]
  },
  {
   "cell_type": "code",
   "execution_count": null,
   "metadata": {},
   "outputs": [
    {
     "name": "stdout",
     "output_type": "stream",
     "text": [
      "NNT: 14\n",
      "95% confidence interval: (11, 20)\n"
     ]
    }
   ],
   "source": [
    "def calculate_nnt_ci(table, conf=0.95):\n",
    "    \"\"\"\n",
    "    Calculates NNT (or NNH) and its confidence interval from a 2x2 contingency table.\n",
    "\n",
    "    Args:\n",
    "        table (np.ndarray): A 2x2 NumPy array representing the contingency table.\n",
    "        conf (float, optional): Confidence level (default: 0.95).\n",
    "\n",
    "    Returns:\n",
    "        tuple: A tuple containing:\n",
    "            - nnt_or_nnh (float): NNT if ARR > 0, NNH if ARR < 0, None if ARR = 0.\n",
    "            - ci_lower (float or str): Lower bound of CI (or \"Infinity\" if undefined).\n",
    "            - ci_upper (float or str): Upper bound of CI (or \"Infinity\" if undefined).\n",
    "    \"\"\"\n",
    "\n",
    "    arr, ci_lower_arr, ci_upper_arr = calculate_arr_ci(table, conf)\n",
    "\n",
    "    if arr > 0:  # Calculate NNT\n",
    "        nnt_or_nnh = round(1 / arr)\n",
    "        ci_lower = round(1 / ci_upper_arr)  # Invert CI for NNT\n",
    "        ci_upper = round(1 / ci_lower_arr)\n",
    "    elif arr < 0:  # Calculate NNH\n",
    "        nnt_or_nnh = round(-1 / arr)\n",
    "        ci_lower = round(-1 / ci_lower_arr)  # Invert CI for NNH\n",
    "        ci_upper = round(-1 / ci_upper_arr)\n",
    "    else:\n",
    "        return None, \"Infinity\", \"Infinity\"  # No effect, CI undefined\n",
    "\n",
    "    # Handle undefined bounds when CI for ARR includes zero\n",
    "    if ci_lower_arr <= 0:\n",
    "        ci_lower = \"Infinity\"\n",
    "    if ci_upper_arr <= 0:\n",
    "        ci_upper = \"Infinity\"\n",
    "\n",
    "    return nnt_or_nnh, ci_lower, ci_upper\n",
    "\n",
    "\n",
    "# Application with the Apixaban example\n",
    "conf=0.95 # Set 95% confidence interval\n",
    "nnt_or_nnh, ci_lower, ci_upper = calculate_nnt_ci(table_df.to_numpy(), conf=conf)\n",
    "\n",
    "if nnt_or_nnh is not None:\n",
    "    metric_name = \"NNT\" if nnt_or_nnh > 0 else \"NNH\"\n",
    "    print(f\"{metric_name}: {nnt_or_nnh}\")\n",
    "    print(f\"{conf*100:.0f}% confidence interval: ({ci_lower}, {ci_upper})\")\n",
    "else:\n",
    "    print(\"No treatment effect (ARR = 0)\")"
   ]
  },
  {
   "cell_type": "markdown",
   "metadata": {},
   "source": [
    "When calculating the CI for NNT, it's crucial to remember that if the CI for ARR includes zero, the CI for NNT will extend to infinity (or negative infinity if ARR is negative). This is because the NNT is undefined when there's no effect (ARR = 0). In such cases, it's common to report the upper or lower bound of the NNT CI, along with a statement indicating that the other bound is undefined."
   ]
  },
  {
   "cell_type": "markdown",
   "metadata": {},
   "source": [
    "#### CI for RR\n",
    "\n",
    "While the RR provides a valuable point estimate for the comparison of risks between two groups, it's essential to acknowledge the inherent uncertainty associated with any estimate derived from sample data. To address this uncertainty, we turn to confidence intervals (CIs), which provide a range of plausible values for the true population RR.\n",
    "\n",
    "Confidence intervals for RR are crucial for several reasons:\n",
    "\n",
    "- Assessing precision: they indicate how precise our estimate of the RR is. A wider CI suggests greater uncertainty, while a narrower CI reflects a more precise estimate.\n",
    "- Statistical significance: if the CI for RR does not include 1 (the value indicating no association), it suggests a statistically significant association between the exposure and outcome.\n",
    "- Clinical relevance: CIs help gauge the practical importance of the observed association. A statistically significant RR might not be clinically meaningful if the CI includes values close to 1.\n",
    "\n",
    "The traditional formula for the CI of RR is $\\text{CI} = \\text{RR} \\pm z^\\ast \\times s_\\text{RR}$, where $\\text{RR}$ is the relative risk, $z^\\ast$ the critical z-value corresponding to the desired level of confidence (e.g., 1.96 for a 95% CI), and $s_\\text{RR}$ the standard error of the relative risk, often approximated as:\n",
    "\n",
    "$$s_\\text{RR} \\approx \\text{RR} \\times \\sqrt{1/a \\times b/n_1 + 1/c \\times d/n_2}$$\n",
    "\n",
    "However, a more accurate approach to calculating the CI for RR is based on the log transformation. This approach takes advantage of the fact that the logarithm of the RR tends to follow a normal distribution, especially for large sample sizes. Then we calculate the standard error of log(RR) as:\n",
    "\n",
    "$$\n",
    "\\begin{align}\n",
    "s_{\\log{\\text{RR}}} &= \\sqrt{\\mathrm{Var}(\\log{\\text{RR}})} \\\\\n",
    "&= \\sqrt{\\frac{1 - p_1}{a} + \\frac{1 - p_2}{c}}\n",
    "\\end{align}\n",
    "$$\n",
    "\n",
    "_The formula for Var(logRR) is derived using a statistical technique called the [Delta Method](https://en.wikipedia.org/wiki/Delta_method). This method approximates the variance of a transformed variable (in this case, logRR) using the variance of the original variable (RR) and the derivative of the transformation function._"
   ]
  },
  {
   "cell_type": "code",
   "execution_count": null,
   "metadata": {},
   "outputs": [
    {
     "name": "stdout",
     "output_type": "stream",
     "text": [
      "Relative risk (RR): 5.283\n",
      "95% confidence interval for RR: (3.007, 9.284)\n"
     ]
    }
   ],
   "source": [
    "def calculate_rr_ci(table, conf=0.95):\n",
    "  \"\"\"Calculates relative risk (RR) and its confidence interval (CI) from a 2x2 \n",
    "contingency table.\n",
    "\n",
    "    Args:\n",
    "        table (np.ndarray): A 2x2 NumPy array representing the contingency table.\n",
    "        conf (float, optional): Confidence level (default: 0.95).\n",
    "\n",
    "    Returns:\n",
    "        tuple: A tuple containing:\n",
    "            - RR (float): The relative risk.\n",
    "            - ci_lower (float): Lower bound of the confidence interval.\n",
    "            - ci_upper (float): Upper bound of the confidence interval.\n",
    "    \"\"\"\n",
    "  if table.shape != (2, 2):\n",
    "      raise ValueError(\"Input table must be a 2x2 array.\")\n",
    "\n",
    "  a, b, c, d = table.ravel()\n",
    "\n",
    "  # Risk calculations (AR = p2 - p1)\n",
    "  p1 = a / (a + b)\n",
    "  p2 = c / (c + d)\n",
    "  rr = p1 / p2\n",
    "\n",
    "  # Standard error of RR\n",
    "  log_rr = np.log(rr)\n",
    "  se_log_rr = np.sqrt((1 - p1) / a + (1 - p2) / c)\n",
    "\n",
    "  # Z-score for desired confidence level\n",
    "  z = norm.ppf((1 + conf) / 2)\n",
    "\n",
    "  # Confidence interval on the log scale\n",
    "  ci_lower_log = log_rr - z * se_log_rr\n",
    "  ci_upper_log = log_rr + z * se_log_rr\n",
    "  ci_lower = np.exp(ci_lower_log)\n",
    "  ci_upper = np.exp(ci_upper_log)\n",
    "\n",
    "  return rr, ci_lower, ci_upper\n",
    "\n",
    "\n",
    "# Application with the Apixaban example\n",
    "conf=0.95 # Set 95% confidence interval\n",
    "rr, ci_lower, ci_upper = calculate_rr_ci(table, conf=conf)\n",
    "print(f\"Relative risk (RR): {rr:.3f}\")\n",
    "print(f\"{conf*100:.0f}% confidence interval for RR: ({ci_lower:.3f}, {ci_upper:.3f})\")"
   ]
  },
  {
   "cell_type": "markdown",
   "metadata": {},
   "source": [
    "Similarly to the CI for ARR, we can use the [`statsmodels.stats.proportion.confint_proportions_2indep`](https://www.statsmodels.org/dev/generated/statsmodels.stats.proportion.confint_proportions_2indep.html) function to calculate a reasonable approximation of other methods, such as the Koopman asymptotic score of the CI for the RR by setting `compare='ratio'` and `method='score'` arguments. This function also offers other methods, including 'log' (a variant of the Katz log method) and 'log-adjusted' (which aims to improve the 'log' method)."
   ]
  },
  {
   "cell_type": "code",
   "execution_count": null,
   "metadata": {},
   "outputs": [
    {
     "name": "stdout",
     "output_type": "stream",
     "text": [
      "Approximate 95% confidence interval for RR ('score' method): (3.033, 9.231)\n"
     ]
    }
   ],
   "source": [
    "# Application with the Apixaban example\n",
    "a, b, c, d = table_df.to_numpy().ravel()\n",
    "\n",
    "# Calculate the confidence interval using the score method\n",
    "ci_rr_approx = confint_proportions_2indep(\n",
    "    count1=a,\n",
    "    nobs1=a+b,\n",
    "    count2=c,\n",
    "    nobs2=c+d,\n",
    "    compare='ratio',\n",
    "    method='score',  # ['log', 'log-adjusted', 'score']\n",
    "    alpha=0.05,\n",
    ")\n",
    "\n",
    "print(\n",
    "    \"Approximate 95% confidence interval for RR ('score' method):\",\n",
    "    tuple(round(bound, 3) for bound in ci_rr_approx) # type: ignore\n",
    ")"
   ]
  },
  {
   "cell_type": "markdown",
   "metadata": {},
   "source": [
    "While these methods implemented in `confint_proportions_2indep` provide approximations to the Koopman and Katz methods, they are often sufficient for many practical purposes. For the most precise calculation using the Koopman asymptotic score or Katz log methods, we may need to explore alternative implementations or specialized packages, for example using the [`PropCIs` library in R](https://cran.r-project.org/web/packages/PropCIs/) which computes two-sample confidence intervals for single, paired and independent proportions."
   ]
  },
  {
   "cell_type": "code",
   "execution_count": null,
   "metadata": {},
   "outputs": [
    {
     "name": "stdout",
     "output_type": "stream",
     "text": [
      "95% confidence interval for RR (Koopman): ( 3.033904 , 9.229101 )"
     ]
    }
   ],
   "source": [
    "library(PropCIs)\n",
    "\n",
    "# Application with the Apixaban example\n",
    "n_exposed <- 73+756\n",
    "n_unexposed <- 14+826\n",
    "x_exposed <- 73\n",
    "x_unexposed <- 14\n",
    "\n",
    "# Calculate the confidence interval using the score (Koopman) method\n",
    "ci <- riskscoreci(x_exposed, n_exposed, x_unexposed, n_unexposed, conf.level=0.95)\n",
    "\n",
    "# Print the results\n",
    "cat(\"95% confidence interval for RR (Koopman): (\", ci[[\"conf.int\"]][1], \",\", ci[[\"conf.int\"]][2], \")\")"
   ]
  },
  {
   "cell_type": "markdown",
   "metadata": {},
   "source": [
    "#### CI for OR\n",
    "\n",
    "Similar to relative risk (RR) and absolute risk reduction (ARR), the odds ratio (OR) also requires a confidence interval (CI) to accurately reflect the precision of our estimate. The CI for the OR provides a range of plausible values within which we can be reasonably confident that the true population OR lies.\n",
    "\n",
    "Due to the non-normal distribution of the OR, especially when the odds are not close to 1, we typically use the log-transformed OR to calculate the CI. This is because log(OR) tends to be more normally distributed, making the CI calculation more reliable.\n",
    "\n",
    "The formula for the confidence interval of the log odds ratio is $\\text{CI}(\\log\\text{OR}) = \\log\\text{OR} \\pm z^\\ast \\times s_{\\log\\text{OR}}$, where $\\log\\text{OR}$ is the natural logarithm of the odds ratio, $z^\\ast$ is the critical z-value corresponding to the desired level of confidence (e.g., 1.96 for a 95% CI), and $s_{\\log\\text{OR}}$ is the standard error of the log odds ratio, calculated as\n",
    "\n",
    "$$s_{\\log \\text{OR}} = \\sqrt{1/a + 1/b + 1/c + 1/d}$$\n",
    "\n",
    "where $a$, $b$, $c$, and $d$ are the cell counts in the 2x2 contingency table.\n",
    "\n",
    "Once the CI for $\\log \\text{OR}$ is calculated, we can exponentiate the bounds to get the CI for the original OR, as:\n",
    "\n",
    "$$\\text{CI(OR)} = [\\exp{\\text{lower bound} \\log \\text{OR}}, \\exp{\\text{upper bound} \\log \\text{OR}}]$$"
   ]
  },
  {
   "cell_type": "code",
   "execution_count": null,
   "metadata": {},
   "outputs": [
    {
     "name": "stdout",
     "output_type": "stream",
     "text": [
      "Odds ratio (OR): 5.697\n",
      "95% confidence interval for OR: (3.189, 10.178)\n"
     ]
    }
   ],
   "source": [
    "def calculate_or_ci(table, conf=0.95):\n",
    "    \"\"\"Calculates odds ratio (OR) and its confidence interval (CI) from \n",
    "    a 2x2 contingency table.\n",
    "\n",
    "    Args:\n",
    "        table (np.ndarray): A 2x2 NumPy array representing the contingency \n",
    "        table.\n",
    "        conf (float, optional): Confidence level (default: 0.95).\n",
    "\n",
    "    Returns:\n",
    "        tuple: A tuple containing:\n",
    "            - OR (float): The odds ratio.\n",
    "            - ci_lower (float): Lower bound of the confidence interval.\n",
    "            - ci_upper (float): Upper bound of the confidence interval.\n",
    "    \"\"\"\n",
    "\n",
    "    if table.shape != (2, 2):\n",
    "        raise ValueError(\"Input table must be a 2x2 array.\")\n",
    "\n",
    "    a, b, c, d = table.ravel()\n",
    "\n",
    "    # Odds ratio calculation\n",
    "    odds_ratio = (a * d) / (b * c)\n",
    "    log_or = np.log(odds_ratio)\n",
    "\n",
    "    # Standard error of log odds ratio\n",
    "    se_log_or = np.sqrt(1/a + 1/b + 1/c + 1/d)\n",
    "\n",
    "    # Z-score for desired confidence level\n",
    "    z = norm.ppf((1 + conf) / 2)\n",
    "\n",
    "    # Confidence interval calculation\n",
    "    ci_lower = np.exp(log_or - z * se_log_or)\n",
    "    ci_upper = np.exp(log_or + z * se_log_or)\n",
    "\n",
    "    return odds_ratio, ci_lower, ci_upper\n",
    "\n",
    "# Application with the Apixaban example\n",
    "conf=0.95 # Set 95% confidence interval\n",
    "\n",
    "or_val, ci_lower, ci_upper = calculate_or_ci(table_df.to_numpy(), conf=conf)\n",
    "print(f\"Odds ratio (OR): {or_val:.3f}\")\n",
    "print(f\"{conf*100:.0f}% confidence interval for OR: ({ci_lower:.3f}, {ci_upper:.3f})\")"
   ]
  },
  {
   "cell_type": "markdown",
   "metadata": {},
   "source": [
    "If the CI for the OR does not include 1, this suggests a statistically significant association between the exposure and outcome at the chosen confidence level.\n",
    "\n",
    "Similar to the confidence interval for ARR and RR, we can utilize the versatile `statsmodels.stats.proportion.confint_proportions_2indep` function to obtain a reasonable approximation of the CI for the odds ratio (OR).\n",
    "\n",
    "By setting the `compare='or'` and `method='score'` arguments, we can approximate the CI for the OR using a method similar to the Koopman asymptotic score method. The 'score' method here is an adaptation of the score test for the difference in proportions, providing a convenient approximation when the exact Koopman method might not be readily available.\n",
    "\n",
    "Additionally, `confint_proportions_2indep` offers other methods for calculating the CI for OR:\n",
    "\n",
    "- 'log' method: a variant of the Katz log method that operates on the log scale but might not include small-sample corrections.\n",
    "- 'log-adjusted' method: an improvement over the 'log' method that aims to provide better coverage probability, especially for smaller samples or extreme proportions."
   ]
  },
  {
   "cell_type": "code",
   "execution_count": null,
   "metadata": {},
   "outputs": [
    {
     "name": "stdout",
     "output_type": "stream",
     "text": [
      "Approximate 95% confidence interval for OR ('score' method): (3.212, 10.103)\n"
     ]
    }
   ],
   "source": [
    "# Application with the Apixaban example\n",
    "a, b, c, d = table_df.to_numpy().ravel()\n",
    "\n",
    "# Calculate the confidence interval using the score method\n",
    "ci_rr_approx = confint_proportions_2indep(\n",
    "    count1=a,\n",
    "    nobs1=a+b,\n",
    "    count2=c,\n",
    "    nobs2=c+d,\n",
    "    compare='odds-ratio',\n",
    "    method='score',  # ['logit', 'logit-adjusted', 'score']\n",
    "    alpha=0.05,\n",
    ")\n",
    "\n",
    "print(\n",
    "    \"Approximate 95% confidence interval for OR ('score' method):\",\n",
    "    tuple(round(bound, 3) for bound in ci_rr_approx)  # type: ignore\n",
    ")"
   ]
  },
  {
   "cell_type": "markdown",
   "metadata": {},
   "source": [
    "### Summary table\n",
    "\n",
    "#### Calculating measures of association and effect with custom functions\n",
    "\n",
    "Let's create a comprehensive table summarizing the calculation of the P value, individual proportions, ARR, NNT, RR and OR, and their logarithms, and their respective CIs, incorporating the functions we've discussed."
   ]
  },
  {
   "cell_type": "code",
   "execution_count": null,
   "metadata": {},
   "outputs": [
    {
     "name": "stdout",
     "output_type": "stream",
     "text": [
      "| Metric                 | Estimate   | CI lower   | CI upper   |\n",
      "|:-----------------------|:-----------|:-----------|:-----------|\n",
      "| P value                | 0          | nan        | nan        |\n",
      "| Proportion (control)   | 0.088      | 0.071      | 0.109      |\n",
      "| Proportion (treatment) | 0.017      | 0.01       | 0.028      |\n",
      "| ARR                    | 0.071      | 0.05       | 0.093      |\n",
      "| NNT/NNH                | 14         | 11         | 20         |\n",
      "| OR                     | 5.697      | 3.189      | 10.178     |\n",
      "| log(OR)                | 1.74       | 1.16       | 2.32       |\n",
      "| RR                     | 5.283      | 3.007      | 9.284      |\n",
      "| log(RR)                | 1.665      | 1.101      | 2.228      |\n"
     ]
    }
   ],
   "source": [
    "def calculate_metrics(table, conf=0.95):\n",
    "    \"\"\"Calculates various metrics and confidence intervals from a \n",
    "    2x2 contingency table.\n",
    "\n",
    "    Args:\n",
    "        table (np.ndarray): A 2x2 NumPy array representing the contingency table.\n",
    "        conf (float, optional): Confidence level (default: 0.95).\n",
    "\n",
    "    Returns:\n",
    "        pd.DataFrame: A DataFrame containing the calculated metrics and CIs.\n",
    "    \"\"\"\n",
    "    a, b, c, d = table.ravel()\n",
    "\n",
    "    # Proportions\n",
    "    p1 = a / (a + b)\n",
    "    p2 = c / (c + d)\n",
    "\n",
    "    # Confidence intervals for proportions\n",
    "    ci_p1 = proportion_confint(a, a + b, alpha=1-conf, method='wilson')\n",
    "    ci_p2 = proportion_confint(c, c + d, alpha=1-conf, method='wilson')\n",
    "\n",
    "    # Attributable risk and CI\n",
    "    arr, ci_lower_arr, ci_upper_arr = calculate_arr_ci(table, conf)\n",
    "\n",
    "    # Number needed to treat (NNT) or harm (NNH) and CI\n",
    "    nnt_or_nnh, ci_lower_nnt, ci_upper_nnt = calculate_nnt_ci(table, conf)\n",
    "\n",
    "    # Odds ratio and CI\n",
    "    odds_ratio, ci_lower_or, ci_upper_or = calculate_or_ci(table, conf)\n",
    "\n",
    "    # Relative risk and CI\n",
    "    rr, ci_lower_rr, ci_upper_rr = calculate_rr_ci(table, conf)\n",
    "\n",
    "    # Log transformations and CIs\n",
    "    log_or = np.log(odds_ratio)\n",
    "    log_rr = np.log(rr)\n",
    "    se_log_or = np.sqrt(1/a + 1/b + 1/c + 1/d)\n",
    "    se_log_rr = np.sqrt((1 - p1)/a + (1 - p2)/c)\n",
    "\n",
    "    z = norm.ppf((1 + conf) / 2)  \n",
    "\n",
    "    ci_lower_log_or = log_or - z * se_log_or\n",
    "    ci_upper_log_or = log_or + z * se_log_or\n",
    "\n",
    "    ci_lower_log_rr = log_rr - z * se_log_rr\n",
    "    ci_upper_log_rr = log_rr + z * se_log_rr\n",
    "    \n",
    "    # Fisher's exact test\n",
    "    _, p_value = fisher_exact(table)\n",
    "\n",
    "\n",
    "    # Create results DataFrame\n",
    "    data = {\n",
    "        'Metric': [\n",
    "            'P value', 'Proportion (control)', 'Proportion (treatment)',\n",
    "            'ARR', 'NNT/NNH', 'OR', 'log(OR)', 'RR', 'log(RR)'],\n",
    "        'Estimate': [p_value, p1, p2, arr, nnt_or_nnh, odds_ratio, log_or, rr, log_rr],\n",
    "        'CI lower': [\n",
    "            np.nan, ci_p1[0], ci_p2[0], ci_lower_arr, ci_lower_nnt,\n",
    "            ci_lower_or, ci_lower_log_or, ci_lower_rr, ci_lower_log_rr],\n",
    "        'CI upper': [\n",
    "            np.nan, ci_p1[1], ci_p2[1], ci_upper_arr, ci_upper_nnt, \n",
    "            ci_upper_or, ci_upper_log_or, ci_upper_rr, ci_upper_log_rr]\n",
    "    }\n",
    "\n",
    "    return pd.DataFrame(data).round(3)  # Round to 3 decimal places\n",
    "\n",
    "# Application with the Apixaban example\n",
    "conf=0.95 # Set 95% confidence interval\n",
    "\n",
    "results_df = calculate_metrics(table_df.to_numpy(), conf=conf)\n",
    "print(results_df.to_markdown(index=False, numalign=\"left\", stralign=\"left\"))"
   ]
  },
  {
   "cell_type": "markdown",
   "metadata": {},
   "source": [
    "This table provides a general overview. Specific functions or methods may vary depending on the chosen libraries and methods, i.e., approximations vs. exact methods, and the characteristics of the data."
   ]
  },
  {
   "cell_type": "markdown",
   "metadata": {},
   "source": [
    "#### Table2x2 for risk and odds ratio analysis\n",
    "\n",
    "In addition to the custom functions we've explored, the statsmodels library offers a convenient way to calculate various risk metrics and associated statistics, including confidence intervals, using the [`Table2x2` class](https://www.statsmodels.org/dev/generated/statsmodels.stats.contingency_tables.Table2x2.html). This class provides a comprehensive framework for analyzing 2x2 contingency tables, making it a valuable tool for comparing proportions."
   ]
  },
  {
   "cell_type": "code",
   "execution_count": null,
   "metadata": {},
   "outputs": [
    {
     "name": "stdout",
     "output_type": "stream",
     "text": [
      "               Estimate   SE   LCB   UCB   p-value\n",
      "--------------------------------------------------\n",
      "Odds ratio        5.697       3.189 10.178   0.000\n",
      "Log odds ratio    1.740 0.296 1.160  2.320   0.000\n",
      "Risk ratio        5.283       3.007  9.284   0.000\n",
      "Log risk ratio    1.665 0.288 1.101  2.228   0.000\n",
      "--------------------------------------------------\n"
     ]
    }
   ],
   "source": [
    "from statsmodels.stats.contingency_tables import Table2x2\n",
    "\n",
    "# Assuming 'table' is the 2x2 contingency table (NumPy array)\n",
    "table2x2 = Table2x2(table_df.to_numpy())\n",
    "\n",
    "# Calculate and print the results\n",
    "print(table2x2.summary())"
   ]
  },
  {
   "cell_type": "markdown",
   "metadata": {},
   "source": [
    "### One-sided test - Application to toxicology count data\n",
    "\n",
    "In toxicology studies, where the paramount goal is to assess the safety of a test article (TA), e.g., a new drug, minimizing the risk of false negatives - incorrectly concluding a TA is safe when it's not - must be the central concern throughout the study's design, analysis, and interpretation.\n",
    "\n",
    "Data from toxicology studies frequently consist of event counts, such as the number of tumors observed in two treatment groups: treated with a TA and control. These counts can be easily organized into contingency tables, making Fisher's exact test a relevant statistical tool for analyzing such data.\n",
    "\n",
    "A common scenario is testing the hypothesis that the tumor rate in a treated group is equal to that in a control group, i.e., there is no treatment effect, against the alternative hypothesis that the tumor rate is higher in the treated group. We perform a **one-sided test** to specifically assess whether the odds of tumor development are significantly greater in the treated group compared to the control group (i.e., OR > 1). Fisher's exact test is particularly suitable when the number of observations in the contingency table is small, as it provides an exact P value without relying on large-sample approximations.\n",
    "\n",
    "Although some statistical software packages may lack a dedicated function for Fisher's exact test, it's readily available in Python using the `fisher_exact` function from the SciPy package, as we've demonstrated earlier in this chapter."
   ]
  },
  {
   "cell_type": "code",
   "execution_count": 11,
   "metadata": {},
   "outputs": [
    {
     "name": "stdout",
     "output_type": "stream",
     "text": [
      "Odds ratio\t 4.57\n",
      "P value (one-sided) 0.046\n"
     ]
    }
   ],
   "source": [
    "table_tumors= pd.DataFrame(\n",
    "    data={\n",
    "        'treated': [8, 42], # exposed\n",
    "        'control': [2, 48]  # unexposed\n",
    "    },\n",
    "    index=['tumor', 'no_tumor']\n",
    ")\n",
    "\n",
    "odds_ratio, p_value = fisher_exact(table_tumors, alternative='greater')\n",
    "\n",
    "print(\"Odds ratio\\t\", round(odds_ratio, 2)) # type: ignore\n",
    "print(\"P value (one-sided)\", round(p_value, 3)) # type: ignore"
   ]
  },
  {
   "cell_type": "markdown",
   "metadata": {},
   "source": [
    "A small P value (typically below 0.05) would provide evidence against the null hypothesis, suggesting that the tumor rate is indeed higher in the treated group."
   ]
  },
  {
   "cell_type": "markdown",
   "metadata": {},
   "source": [
    "## Chi-squared test\n",
    "\n",
    "The chi-squared ($\\chi^2$) test stands as a cornerstone in the analysis of **categorical data**. It's a versatile statistical tool used to examine the relationship between two categorical variables, answering the question of whether there's a significant association between them.\n",
    "\n",
    "The chi-squared test's versatility stems from its ability to handle various types of contingency tables, not just the 2x2 tables commonly analyzed with Fisher's exact test. Whether we're dealing with multiple groups, multiple outcomes, or a combination of both, the chi-squared test can adapt to the data structure.\n",
    "\n",
    "This test is particularly powerful when:\n",
    "\n",
    "- Comparing multiple groups: we want to assess whether the distribution of an outcome differs significantly across multiple groups or categories.\n",
    "- Investigating complex associations: we're interested in exploring associations between multiple categorical variables, beyond simple 2x2 relationships.\n",
    "- Large sample sizes: when the sample size is sufficiently large, the chi-squared test provides a reliable way to assess the statistical significance of observed associations.\n",
    "\n",
    "### How it works\n",
    "\n",
    "The core principle of the chi-squared test lies in comparing the **observed** frequencies in the contingency table to the **expected** frequencies if there were no association between the variables.\n",
    "\n",
    "- Observed frequencies: the actual counts of individuals falling into each category combination in the data.\n",
    "- Expected frequencies: the counts we would expect to see in each category if the null hypothesis (no association) were true. These are calculated based on the marginal totals of the table.\n",
    "\n",
    "It quantifies the discrepancy between these two sets of frequencies and assesses whether this discrepancy is likely due to chance or reflects a genuine association. The key steps involved are:\n",
    "\n",
    "1. Formulate hypotheses\n",
    "    - Null hypothesis (H0): there is no association between the two categorical variables.\n",
    "    - Alternative hypothesis (H1): there is an association between the variables.\n",
    "2. Calculate expected frequencies: under the null hypothesis of independence, calculate the expected frequency for each cell in the contingency table.\n",
    "3. Calculate chi-squared statistic: this statistic measures the overall discrepancy between observed and expected frequencies:\n",
    "\n",
    "$$\\chi^2 = \\sum \\frac{(\\text{Observed} - \\text{Expected})^2}{\\text{Expected}}$$\n",
    "\n",
    "1. Determine P value: the P value quantifies the probability of observing a chi-squared statistic as extreme as (or more extreme than) the one calculated, assuming the null hypothesis is true.\n",
    "2. Interpret results: if the P value is small (typically below 0.05), we reject the null hypothesis and conclude that there is evidence of a statistically significant association between the variables."
   ]
  },
  {
   "cell_type": "markdown",
   "metadata": {},
   "source": [
    "### Example of the Mendel's peas\n",
    "\n",
    "Gregor Mendel, the father of modern genetics, [meticulously studied the inheritance of traits in pea plants](https://www.nature.com/scitable/topicpage/gregor-mendel-and-the-principles-of-inheritance-593/). His experiments revealed fundamental principles of heredity that laid the groundwork for our understanding of genetics today. One of his key findings was that the traits of round/wrinkled seeds and yellow/green seeds followed predictable patterns of inheritance.\n",
    "\n",
    "Mendel crossed purebred pea plants with round, yellow seeds (RRYY) with purebred plants with wrinkled, green seeds (rryy). The resulting first-generation (F1) plants all had round, yellow seeds (RrYy) due to the dominance of the round (R) and yellow (Y) alleles. When Mendel self-fertilized the F1 plants, he observed the following phenotypes in the second generation (F2):\n",
    "\n",
    "| Phenotype        | Observed number | Expected proportion | Expected number |\n",
    "|:---------------- |:---------------:|:-------------------:|:---------------:|\n",
    "| Round, Yellow    |       315       |         9/16        |      312.75     |\n",
    "| Round, Green     |       108       |         3/16        |      104.25     |\n",
    "| Wrinkled, Yellow |       101       |         3/16        |      104.25     |\n",
    "| Wrinkled, Green  |        32       |         1/16        |       34.75     |\n",
    "\n",
    "The expected proportions in the table are derived directly from Mendel's laws:\n",
    "\n",
    "- Law of segregation: each parent (RrYy) can produce four types of gametes (RY, Ry, rY, ry) with equal probability due to the random segregation of alleles.\n",
    "- Law of independent assortment: the alleles for seed shape (R/r) and color (Y/y) are inherited independently. This results in 16 equally likely combinations of alleles in the offspring (RYRY, RYRy, etc.).\n",
    "- Dominance: the round (R) and yellow (Y) alleles are dominant. This means that only one copy of the dominant allele is needed to express the dominant trait.\n",
    "\n",
    "Combining these principles, we can deduce the expected proportions:\n",
    "\n",
    "- Round, Yellow (RRYY, RrYY, RRYy, RrYy): 9 out of 16 possible combinations\n",
    "- Round, Green (RRyy, Rryy): 3 out of 16 combinations\n",
    "- Wrinkled, Yellow (rrYY, rrYy): 3 out of 16 combinations\n",
    "- Wrinkled, Green (rryy): 1 out of 16 combinations"
   ]
  },
  {
   "cell_type": "markdown",
   "metadata": {},
   "source": [
    "### Chi-squared goodness-of-fit test\n",
    "\n",
    "To compare the experimental values (observed frequencies) in Mendel's pea experiment to the expected proportions based on his laws of inheritance, we can use a [`scipy.stats.chisquare` chi-squared goodness-of-fit test](https://docs.scipy.org/doc/scipy-1.12.0/reference/generated/scipy.stats.chisquare.html)."
   ]
  },
  {
   "cell_type": "code",
   "execution_count": 16,
   "metadata": {},
   "outputs": [
    {
     "name": "stdout",
     "output_type": "stream",
     "text": [
      "Observed frequencies:\n",
      "[315 108 101  32]\n",
      "Expected frequencies:\n",
      "[312.75 104.25 104.25  34.75]\n",
      "Chi-squared statistic: 0.47\n",
      "Fail to reject the null hypothesis (P = 0.9254). \\\n",
      "The observed frequencies are consistent with the expected proportions.\n"
     ]
    }
   ],
   "source": [
    "from scipy.stats import chisquare\n",
    "\n",
    "# Mendel's observed data\n",
    "observed = np.array([315, 108, 101, 32])\n",
    "\n",
    "# Mendel's expected proportions\n",
    "expected_proportions = np.array([9/16, 3/16, 3/16, 1/16])\n",
    "\n",
    "# Perform the chi-squared goodness-of-fit test\n",
    "chi2_stat, p_value = chisquare(\n",
    "    f_obs=observed, f_exp=observed.sum() * expected_proportions)\n",
    "\n",
    "# Print the results\n",
    "print(\"Observed frequencies:\")\n",
    "print(observed)\n",
    "print(\"Expected frequencies:\")\n",
    "print((observed.sum() * expected_proportions).round(2))\n",
    "print(\"Chi-squared statistic:\", round(chi2_stat, 2))\n",
    "\n",
    "# Interpretation\n",
    "alpha = 0.05\n",
    "if p_value < alpha:\n",
    "    print(f\"Reject the null hypothesis (P < {alpha}). \\\n",
    "The observed frequencies do not fit the expected proportions.\")\n",
    "else:\n",
    "    print(fr\"Fail to reject the null hypothesis (P = {p_value:.4f}). \\\n",
    "The observed frequencies are consistent with the expected proportions.\")"
   ]
  },
  {
   "cell_type": "markdown",
   "metadata": {},
   "source": [
    "With such a large P value, the deviations between the observed frequencies and the expected frequencies based on Mendel's theory are small and consistent with random variation. This indicates that Mendel's observed data support his genetic theory of inheritance."
   ]
  },
  {
   "cell_type": "markdown",
   "metadata": {},
   "source": [
    "#### The chi-squared distribution\n",
    "\n",
    "The chi-squared statistic calculated from a contingency table follows a chi-squared distribution, which can be used to determine the P value associated with this statistic. Like the t-distribution, the shape of the chi-squared distribution depends on the degrees of freedom."
   ]
  },
  {
   "cell_type": "code",
   "execution_count": null,
   "metadata": {},
   "outputs": [
    {
     "data": {
      "image/png": "[encoded data removed]",
      "text/plain": [
       "<Figure size 640x480 with 1 Axes>"
      ]
     },
     "metadata": {},
     "output_type": "display_data"
    }
   ],
   "source": [
    "import matplotlib.pyplot as plt\n",
    "from scipy.stats import chi2\n",
    "\n",
    "# Degrees of freedom to plot\n",
    "degrees_of_freedom = [1, 2, 3, 5, 10]\n",
    "\n",
    "# Generate x values for the distribution\n",
    "x = np.linspace(0, 20, 1000)  # Range from 0 to 20 to capture most of the distribution\n",
    "\n",
    "# Plot distributions for each degree of freedom\n",
    "for df in degrees_of_freedom:\n",
    "    plt.plot(x, chi2.pdf(x, df), label=f'DF={df}', lw=3)\n",
    "\n",
    "# Add labels and title\n",
    "plt.xlabel('χ²')\n",
    "plt.ylabel('Probability density')\n",
    "plt.title('χ² distribution for various degrees of freedom')\n",
    "plt.legend()\n",
    "\n",
    "# Customize plot aesthetics\n",
    "plt.grid(axis='y', alpha=0.75)\n",
    "plt.xlim(0, 20)\n",
    "plt.xticks([0, 5, 10, 15, 20])\n",
    "plt.ylim(0, 0.4)\n",
    "plt.yticks([0, .1, .2, .3, .4]);"
   ]
  },
  {
   "cell_type": "markdown",
   "metadata": {},
   "source": [
    "The plot illustrates that the chi-squared distribution is right-skewed (long tail to the right). Moreover, as the degrees of freedom increase, the distribution becomes more symmetrical and approaches a normal distribution.\n",
    "\n",
    "#### Degrees of freedom in goodness-of-fit tests\n",
    "\n",
    "In a chi-squared goodness-of-fit test, the degrees of freedom are simply the number of categories minus 1. In the case of Mendel's pea experiment, there are 4 categories (round yellow, round green, wrinkled yellow, wrinkled green), so the degrees of freedom would be 3. They represent the number of categories whose frequencies can vary freely, given the constraint that the total number of observations is fixed. Once we know the frequencies of all but one category, the frequency of the remaining category is automatically determined."
   ]
  },
  {
   "cell_type": "code",
   "execution_count": null,
   "metadata": {},
   "outputs": [
    {
     "data": {
      "image/png": "[encoded data removed]",
      "text/plain": [
       "<Figure size 640x480 with 1 Axes>"
      ]
     },
     "metadata": {},
     "output_type": "display_data"
    }
   ],
   "source": [
    "# Degrees of freedom for Mendel's example\n",
    "Df = 3\n",
    "\n",
    "# Significance level (alpha)\n",
    "alpha = 0.05\n",
    "\n",
    "# Calculate critical value\n",
    "chi2_crit = chi2.ppf(1 - alpha, df=Df)\n",
    "\n",
    "# Calculate P value using chi-squared stat from previous calculation\n",
    "p_value = 1 - chi2.cdf(chi2_stat, df=Df)\n",
    "\n",
    "# Generate x values for plotting\n",
    "x = np.linspace(0, 15, 1000)\n",
    "hx = chi2.pdf(x, df=Df) \n",
    "\n",
    "# Create the plot\n",
    "plt.plot(x, hx, lw=2, color=\"black\")\n",
    "\n",
    "# Plot the critical value\n",
    "plt.axvline(\n",
    "    x=chi2_crit, # type: ignore\n",
    "    color='orangered',\n",
    "    linestyle='--',\n",
    "    label=f'χ²* ({chi2_crit:.3f})')\n",
    "\n",
    "# Shade the probability alpha\n",
    "plt.fill_between(\n",
    "    x[x >= chi2_crit], hx[x >= chi2_crit],\n",
    "    linestyle = \"-\", linewidth = 2, color = 'tomato',\n",
    "    label=f'α ({alpha})')\n",
    "\n",
    "# Plot the observed chi-squared statistic\n",
    "plt.axvline(\n",
    "    x=chi2_stat,\n",
    "    color='limegreen',\n",
    "    linestyle='--',\n",
    "    label=f'χ² ({chi2_stat:.3f})')\n",
    "\n",
    "# Shade the P value area\n",
    "plt.fill_between(\n",
    "    x[x >= chi2_stat], hx[x >= chi2_stat],\n",
    "    # hatch='///', edgecolor=\"limegreen\", facecolor='lime', alpha=.5,\n",
    "    color='greenyellow',\n",
    "    label=f'P ({p_value:.4f})')\n",
    "\n",
    "# Add labels and title\n",
    "plt.xlabel('χ²')\n",
    "plt.ylabel('Density')\n",
    "plt.margins(x=0.05, y=0)\n",
    "plt.yticks([])\n",
    "plt.title(\n",
    "    f'χ² distribution (DF={Df})')\n",
    "\n",
    "plt.legend();"
   ]
  },
  {
   "cell_type": "markdown",
   "metadata": {},
   "source": [
    "While the chi-squared goodness-of-fit test is inherently **one-tailed** due to the nature of the chi-squared distribution and test statistic, the interpretation can be either directional or non-directional depending on the specific hypothesis."
   ]
  },
  {
   "cell_type": "markdown",
   "metadata": {},
   "source": [
    "### Chi-squared test of independence\n",
    "\n",
    "In this specific case, both seed shape and seed color have two categories each, resulting in a 2x2 (two rows by two columns) contingency table. The chi-squared test is often used to analyze 2x2 tables to determine if there is a significant association between the two categorical variables. Chi-squared tests can be applied to tables with more than two rows or columns, allowing us to analyze relationships between variables with multiple categories. In some cases, we might have a single row representing a categorical variable with multiple categories. We can still use the chi-squared test to compare the observed frequencies in each category to expected frequencies based on some theoretical distribution.\n",
    "\n",
    "|              | Round seeds | Wrinkled seeds | Total |\n",
    "| ------------ | ----------- | -------------- | ----- |\n",
    "| Yellow seeds | 315         | 101            | 416   |\n",
    "| Green seeds  | 108         | 32             | 140   |\n",
    "| Total        | 423         | 133            | 556   |"
   ]
  },
  {
   "cell_type": "markdown",
   "metadata": {},
   "source": [
    "#### Mosaic plot\n",
    "\n",
    "The [`mosaic` function within the `statsmodels.graphics.mosaicplot` module](https://www.statsmodels.org/stable/generated/statsmodels.graphics.mosaicplot.mosaic.html) creates a mosaic plot, a powerful graphical representation of contingency tables that visualizes the relative frequencies of combinations of categories within a contingency table, the area of each rectangle in the plot being directly _proportional to the frequency_ of the corresponding category combination. Mosaic plots can effectively display relationships between multiple categorical variables, revealing hierarchical relationships between variables, and highlighting how the distribution of one variable changes depending on the levels of another variable."
   ]
  },
  {
   "cell_type": "code",
   "execution_count": null,
   "metadata": {},
   "outputs": [
    {
     "data": {
      "image/png": "[encoded data removed]",
      "text/plain": [
       "<Figure size 640x480 with 3 Axes>"
      ]
     },
     "metadata": {},
     "output_type": "display_data"
    }
   ],
   "source": [
    "from statsmodels.graphics.mosaicplot import mosaic\n",
    "\n",
    "# Mendel's observed data (2x2 contingency table)\n",
    "observed = np.array(\n",
    "    [\n",
    "        [315, 101],  # Yellow, round and wrinkled\n",
    "        [108, 32]    # Green, round and wrinkled\n",
    "    ])\n",
    "\n",
    "# Create a DataFrame from the observed data\n",
    "df = pd.DataFrame(\n",
    "    observed,\n",
    "    index=['Round', 'Wrinkled'],\n",
    "    columns=['Yellow', 'Green'])\n",
    "\n",
    "# Create a mosaic plot\n",
    "mosaic(df.stack())  # Stacking the DataFrame for proper mosaic plot input\n",
    "plt.title(\"Mosaic plot of Mendel's pea experiment\");"
   ]
  },
  {
   "cell_type": "markdown",
   "metadata": {},
   "source": [
    "#### Interpreting the results of the chi-squared test of independence\n",
    "\n",
    "The [`scipy.stats.chi2_contingency` function](https://docs.scipy.org/doc/scipy/reference/generated/scipy.stats.chi2_contingency.html) performs the chi-squared test of independence for contingency tables. It's designed to assess whether there is a significant association between two categorical variables. It takes a contingency table (a 2D array or list of lists) as input, representing the observed frequencies of the categories. It returns the χ² test statistic, the P value of the test, the degrees of freedom and the expected frequencies under the null hypothesis of independence.\n",
    "\n",
    "The `chi2_contingency` function doesn't inherently know about Mendel's laws of inheritance or any specific biological mechanism. It calculates expected values based on a purely statistical assumption: independence between the categorical variables. The function first calculates the row and column totals of the observed contingency table. These totals represent the **marginal frequencies** of each category for each variable. It then calculates the expected proportion for each cell in the table under the assumption of independence. This is done by multiplying the corresponding row proportion and column proportion and dividing by the total number of observations. Finally, the expected frequencies are obtained by multiplying the expected proportions by the total number of observations."
   ]
  },
  {
   "cell_type": "code",
   "execution_count": null,
   "metadata": {},
   "outputs": [
    {
     "name": "stdout",
     "output_type": "stream",
     "text": [
      "Observed Frequencies:\n",
      "[[315 101]\n",
      " [108  32]]\n",
      "\n",
      "Expected Frequencies (under null hypothesis of independence):\n",
      "[[316.49  99.51]\n",
      " [106.51  33.49]]\n",
      "\n",
      "Chi-Squared Statistic: 0.0513\n",
      "Degrees of Freedom: 1\n",
      "P value: 0.8208\n",
      "\n",
      "Fail to reject the null hypothesis. \n",
      "There is not enough evidence to suggest an association between seed shape and color.\n"
     ]
    }
   ],
   "source": [
    "from scipy.stats import chi2_contingency\n",
    "\n",
    "# Perform the chi-squared test of independence on the previous contingency table\n",
    "chi2_stat, p_value, dof, expected = chi2_contingency(\n",
    "    observed=observed,\n",
    "    lambda_='pearson',  # could also use 'cressie-read', 'log-likelihood', 'neyman', etc.\n",
    "    correction=True,    # Yates' correction for continuity\n",
    ")\n",
    "\n",
    "# Print the results\n",
    "print(\"Observed Frequencies:\")\n",
    "print(observed)\n",
    "print(\"\\nExpected Frequencies (under null hypothesis of independence):\")\n",
    "print(expected.round(2)) # type: ignore\n",
    "print(\"\\nChi-Squared Statistic:\", round(chi2_stat, 4)) # type: ignore\n",
    "print(\"Degrees of Freedom:\", dof)\n",
    "print(\"P value:\", round(p_value, 4)) # type: ignore\n",
    "\n",
    "# Interpret the results (using alpha = 0.05 as significance level)\n",
    "alpha = 0.05\n",
    "if p_value < alpha: # type: ignore\n",
    "    print(\"\\nReject the null hypothesis. There is a significant \\\n",
    "association between seed shape and color.\")\n",
    "else:\n",
    "    print(\"\\nFail to reject the null hypothesis. \\nThere is not enough \\\n",
    "evidence to suggest an association between seed shape and color.\")"
   ]
  },
  {
   "cell_type": "code",
   "execution_count": null,
   "metadata": {},
   "outputs": [
    {
     "data": {
      "image/png": "[encoded data removed]",
      "text/plain": [
       "<Figure size 640x480 with 1 Axes>"
      ]
     },
     "metadata": {},
     "output_type": "display_data"
    }
   ],
   "source": [
    "# Degrees of freedom for Mendel's example\n",
    "Df = dof\n",
    "\n",
    "# Significance level (alpha)\n",
    "α = 0.05\n",
    "\n",
    "# Calculate critical value\n",
    "chi2_crit = chi2.ppf(1 - α, df=Df)\n",
    "\n",
    "# Calculate P value using chi-squared stat from previous calculation\n",
    "p_value = 1 - chi2.cdf(chi2_stat, df=Df)\n",
    "\n",
    "# Generate x values for plotting\n",
    "x = np.linspace(0, 10, 100)\n",
    "hx = chi2.pdf(x, df=Df) \n",
    "\n",
    "# Create the plot\n",
    "plt.plot(x, hx, lw=2, color=\"black\")\n",
    "\n",
    "# Plot the critical value\n",
    "plt.axvline(\n",
    "    x=chi2_crit, # type: ignore\n",
    "    color='orangered',\n",
    "    linestyle='--',\n",
    "    label=f'χ²* ({chi2_crit:.3f})')\n",
    "\n",
    "# Shade the probability alpha\n",
    "plt.fill_between(\n",
    "    x[x >= chi2_crit], hx[x >= chi2_crit],\n",
    "    linestyle = \"-\", linewidth = 2, color = 'tomato',\n",
    "    label=f'α ({α})')\n",
    "\n",
    "# Plot the observed chi-squared statistic\n",
    "plt.axvline(\n",
    "    x=chi2_stat, # type: ignore\n",
    "    color='limegreen',\n",
    "    linestyle='--',\n",
    "    label=f'χ² ({chi2_stat:.3f})')\n",
    "\n",
    "# Shade the P value area\n",
    "plt.fill_between(\n",
    "    x[x >= chi2_stat], hx[x >= chi2_stat], # type: ignore\n",
    "    # hatch='///', edgecolor=\"limegreen\", facecolor='lime', alpha=.5,\n",
    "    color='greenyellow',\n",
    "    label=f'P ({p_value:.4f})')\n",
    "\n",
    "# Add labels and title\n",
    "plt.xlabel('χ²')\n",
    "plt.ylabel('Density')\n",
    "plt.margins(x=0.05, y=0)\n",
    "plt.yticks([])\n",
    "plt.ylim((0, .5))\n",
    "plt.title(\n",
    "    f'χ² distribution (DF={Df})')\n",
    "plt.legend();"
   ]
  },
  {
   "cell_type": "markdown",
   "metadata": {},
   "source": [
    "While the chi-squared test is widely used, it's important to be aware of its limitations and assumptions:\n",
    "\n",
    "- Large sample size: the chi-squared test relies on _large-sample approximations_ to the **chi-squared distribution**. It's generally considered reliable when the expected frequencies in each cell of the contingency table are _at least 5_. For smaller sample sizes or sparse tables, Fisher's exact test might be a more appropriate choice.\n",
    "- Independence: the observations in the contingency table must be **independent**. This means that each individual should contribute only one count to the table, and the occurrence of one event should not influence the occurrence of another event.\n",
    "\n",
    "<u>Note:</u> when there are only two categories, the binomial test can compute exact P values without relying on large-sample approximations. This makes it particularly useful for small to moderate sample sizes. However, for very large sample sizes, computational considerations might make the normal approximation to the binomial distribution a more practical choice, as long as the conditions for this approximation are met."
   ]
  },
  {
   "cell_type": "markdown",
   "metadata": {},
   "source": [
    "#### Degrees of freedom in independence tests\n",
    "\n",
    "In a chi-squared test of independence, the degrees of freedom represent the number of cells in the contingency table that can vary freely _once the marginal totals (row and column sums) are fixed_. It's a measure of how much flexibility or \"wiggle room\" the data has within the constraints of the fixed totals. For a contingency table with r rows and c columns, the degrees of freedom are calculated as DF = (r - 1) * (c - 1).\n",
    "\n",
    "In Mendel's pea experiment, while there are 4 phenotype categories, the underlying genetic model (his laws of inheritance) imposes constraints on how the data can be distributed. Once we know the total number of plants and the expected proportions based on Mendel's laws, we can determine the expected frequency for three of the cells. The fourth cell's expected frequency is then automatically determined to maintain the correct marginal totals.\n",
    "\n",
    "We have a 2x2 table (2 rows for seed color and 2 columns for seed shape), so the degrees of freedom are 1. Imagine we have a 2x2 table with the marginal totals, once we fill in one cell, the rest of the cells are automatically determined due to the fixed marginal totals. We only _had the freedom_ to choose the value of one cell; the rest were constrained. Hence, the degrees of freedom in this case are 1.\n",
    "\n",
    "The degrees of freedom in a chi-squared test reflect the number of independent pieces of information in the data that are available to estimate the parameters of interest.  It's not simply the number of categories, but rather the number of categories that can vary freely given the constraints imposed by the marginal totals and any underlying model."
   ]
  },
  {
   "cell_type": "markdown",
   "metadata": {},
   "source": [
    "#### Yates' correction\n",
    "\n",
    "[Yates' correction](https://scirp.org/reference/referencespapers?referenceid=3172298) adjusts the chi-squared test statistic by _subtracting 0.5 from the absolute difference between observed and expected frequencies_ in each cell of the contingency table, making it a more conservative test and improving its accuracy for small sample sizes.\n",
    "\n",
    "The chi-squared test relies on the assumption that the sampling distribution of the test statistic approximates a chi-squared distribution. However, this approximation can be inaccurate when dealing with small sample sizes or sparse contingency tables (where some expected frequencies are low). Yates' correction helps mitigate this issue by slightly reducing the chi-squared statistic, making it more closely match the theoretical chi-squared distribution under these conditions."
   ]
  },
  {
   "cell_type": "markdown",
   "metadata": {},
   "source": [
    "#### Directional hypothesis\n",
    "\n",
    "The chi-squared test of independence is **not symmetrical** with respect to the rows and columns of the table, it typically has an _implicit directional hypothesis_. In Mendel's pea experiment, we were implicitly testing whether seed shape influences seed color (or vice versa). When we transpose the table, we're essentially reversing this directionality.\n",
    "\n",
    "The expected frequencies calculated under the null hypothesis of independence change when we transpose the table. These expected frequencies are based on the marginal totals (row and column sums), which change when we swap rows and columns. The interpretation of the results can also be affected. If we transpose the table, we might be testing a different hypothesis than the original one.\n",
    "\n",
    "Before performing the chi-squared test, clearly define the research question and hypothesis. This will help decide which variable should be represented by rows and which by columns in the contingency table. In some cases, it might be insightful to analyze both the original and transposed table to explore potential relationships in both directions."
   ]
  },
  {
   "cell_type": "code",
   "execution_count": null,
   "metadata": {},
   "outputs": [
    {
     "name": "stdout",
     "output_type": "stream",
     "text": [
      "Observed Frequencies:\n",
      "[[315 108]\n",
      " [101  32]]\n",
      "\n",
      "Expected Frequencies (under null hypothesis of independence):\n",
      "[[316.49 106.51]\n",
      " [ 99.51  33.49]]\n",
      "\n",
      "Chi-Squared Statistic: 0.0513\n",
      "Degrees of Freedom: 1\n",
      "P value: 0.8208\n"
     ]
    }
   ],
   "source": [
    "# Perform the chi-squared test of independence on the table transposed\n",
    "chi2_stat, p_value, dof, expected = chi2_contingency(observed.T)\n",
    "\n",
    "# Print the results\n",
    "print(\"Observed Frequencies:\")\n",
    "print(observed.T)\n",
    "print(\"\\nExpected Frequencies (under null hypothesis of independence):\")\n",
    "print(expected.round(2)) # type: ignore\n",
    "print(\"\\nChi-Squared Statistic:\", round(chi2_stat, 4)) # type: ignore\n",
    "print(\"Degrees of Freedom:\", dof)\n",
    "print(\"P value:\", round(p_value, 4)) # type: ignore"
   ]
  },
  {
   "cell_type": "markdown",
   "metadata": {},
   "source": [
    "#### Chi-squared independence tests using Pingouin\n",
    "\n",
    "Let's illustrate a concrete example using [`pd.crosstab` to create a cross tabulation / contingency table](https://pandas.pydata.org/pandas-docs/stable/reference/api/pandas.crosstab.html) from a [case study dataset on the heart diseases](https://link.springer.com/article/10.1007/s12046-018-0916-9) provided by Pingouin, and then analyze if gender is a good categorical predictor for the presence of heart disease using the [`chi2_independence` function from the Pingouin library](https://pingouin-stats.org/build/html/generated/pingouin.chi2_independence.html)."
   ]
  },
  {
   "cell_type": "code",
   "execution_count": null,
   "metadata": {},
   "outputs": [
    {
     "name": "stdout",
     "output_type": "stream",
     "text": [
      "DataFrame's head:\n",
      "    age  sex  cp  trestbps  chol  fbs  restecg  thalach  exang  oldpeak  slope  \\\n",
      "0   63    1   3       145   233    1        0      150      0      2.3      0   \n",
      "1   37    1   2       130   250    0        1      187      0      3.5      0   \n",
      "2   41    0   1       130   204    0        0      172      0      1.4      2   \n",
      "3   56    1   1       120   236    0        1      178      0      0.8      2   \n",
      "4   57    0   0       120   354    0        1      163      1      0.6      2   \n",
      "\n",
      "   ca  thal  target  \n",
      "0   0     1       1  \n",
      "1   0     2       1  \n",
      "2   0     2       1  \n",
      "3   0     2       1  \n",
      "4   0     2       1  \n",
      "\n",
      "---------------------------------\n",
      "Contingency table:\n",
      " target    0   1\n",
      "sex            \n",
      "0        24  72\n",
      "1       114  93\n"
     ]
    }
   ],
   "source": [
    "import pingouin as pg\n",
    "data = pg.read_dataset('chi2_independence')\n",
    "\n",
    "print(\"DataFrame's head:\\n\", data.head())\n",
    "print(\"\\n---------------------------------\")\n",
    "print(\"Contingency table:\\n\", pd.crosstab(data['sex'], data['target']))"
   ]
  },
  {
   "cell_type": "code",
   "execution_count": null,
   "metadata": {},
   "outputs": [
    {
     "name": "stdout",
     "output_type": "stream",
     "text": [
      "Observed Frequencies:\n",
      "target    0   1\n",
      "sex            \n",
      "0        24  72\n",
      "1       114  93\n",
      "\n",
      "Expected Frequencies (under null hypothesis of independence):\n",
      "target      0       1\n",
      "sex                  \n",
      "0       43.72   52.28\n",
      "1       94.28  112.72\n",
      "\n",
      "Chi-Squared Statistic:\n",
      "test                  lambda    chi2    dof    pval    cramer    power\n",
      "------------------  --------  ------  -----  ------  --------  -------\n",
      "pearson                1.000  23.914  1.000   0.000     0.281    0.998\n",
      "cressie-read           0.667  24.149  1.000   0.000     0.282    0.998\n",
      "log-likelihood         0.000  24.841  1.000   0.000     0.286    0.999\n",
      "freeman-tukey         -0.500  25.576  1.000   0.000     0.290    0.999\n",
      "mod-log-likelihood    -1.000  26.526  1.000   0.000     0.296    0.999\n",
      "neyman                -2.000  29.205  1.000   0.000     0.310    1.000\n",
      "\n"
     ]
    }
   ],
   "source": [
    "# Perform chi-squared test using pingouin\n",
    "expected, observed, stats = pg.chi2_independence(\n",
    "    data,\n",
    "    x='sex', y='target',\n",
    "    correction=False,  # No Yates' correction for illustration\n",
    ")\n",
    "\n",
    "# Print the results\n",
    "print(\"Observed Frequencies:\")\n",
    "print(observed)\n",
    "print(\"\\nExpected Frequencies (under null hypothesis of independence):\")\n",
    "print(expected.round(2))\n",
    "print(\"\\nChi-Squared Statistic:\")\n",
    "pg.print_table(stats.round(4))"
   ]
  },
  {
   "cell_type": "markdown",
   "metadata": {},
   "source": [
    "The output from `pingouin.chi2_independence` includes the chi-squared statistic, degrees of freedom, and P value for each test. A small P value (typically < 0.05) indicates evidence against the null hypothesis of independence, suggesting a statistically significant association between the variables. A larger chi-squared value generally indicates a stronger association, but its magnitude should be interpreted in conjunction with the degrees of freedom.\n",
    "\n",
    "`pingouin.chi2_independence` doesn't just perform the standard Pearson's chi-squared test. It actually computes several related chi-squared tests, each with slightly different theoretical underpinnings and assumptions. This allows us to compare the results of different tests and choose the one most appropriate for the specific data and analysis goals.\n",
    "\n",
    "1. Pearson's chi-squared test (`pearson`): this is the classic chi-squared test of independence that we're likely most familiar with. It compares the observed frequencies in the contingency table to the expected frequencies under the null hypothesis of independence. It's the most commonly used chi-squared test and is generally suitable for most situations.\n",
    "2. Cressie-Read power divergence statistic (`cressie-read`): this is a family of chi-squared statistics that includes Pearson's chi-squared as a special case (when the lambda parameter is 1). By varying the lambda parameter, we can adjust the test's sensitivity to different types of deviations from independence. Pingouin calculates this statistic for several lambda values (2/3, 0, -1/2, -1, -2), allowing us to compare the results.\n",
    "3. Log-likelihood ratio test (`log-likelihood`): this test compares the likelihood of the observed data under the null hypothesis of independence to the likelihood under a model where the variables are allowed to be associated. It's an alternative to the Pearson chi-squared test and is often preferred for smaller sample sizes.\n",
    "4. Freeman-Tukey statistic (`freeman-tukey`): this test is similar to the Pearson chi-squared, but it uses a variance-stabilizing transformation to make the test statistic more closely follow a chi-squared distribution, particularly for small sample sizes.\n",
    "5. Neyman modified chi-squared (`neyman`): this test is another modification of the Pearson chi-squared test that aims to improve its performance for small sample sizes or sparse tables."
   ]
  },
  {
   "cell_type": "markdown",
   "metadata": {},
   "source": [
    "## Cochran-Armitage test for trend\n",
    "\n",
    "While the chi-squared test assesses general associations between _categorical variables_, the [Cochran-Armitage trend test (also known as the trend test)](https://en.wikipedia.org/wiki/Cochran%E2%80%93Armitage_test_for_trend) is a specialized tool designed to detect linear trends in proportions across **ordinal categories**. This test is particularly valuable in biostatistics, especially in toxicology and dose-response studies, where we often want to determine if there's a relationship between increasing doses or exposure levels and the probability of a specific outcome.\n",
    "\n",
    "### How the trend test works\n",
    "\n",
    "The trend test essentially assigns scores to each category of the ordinal variable (e.g., 1, 2, 3 for low, medium, high dose) and then calculates a weighted chi-squared statistic. This weighted statistic takes into account the ordering of the categories, making it sensitive to linear trends.\n",
    "\n",
    "The trend test is most appropriate when:\n",
    "\n",
    "- Ordinal categories: the data involves a binary outcome (e.g., presence/absence of disease) and an explanatory variable with ordered categories (e.g., increasing dose levels: low, medium, high).\n",
    "- Linear trend suspected: we suspect that the proportion of the outcome changes in a linear fashion across the ordered categories. For example, we might hypothesize that the risk of disease increases with higher doses of a toxin.\n",
    "\n",
    "The trend test is more powerful than the standard chi-squared test when a linear trend truly exists. This means it's more likely to detect a real association when one is present. Moreover, it specifically tests for a linear trend, making it more focused than the general chi-squared test, which only assesses whether there's any association. Finally, the trend test is ideally suited for dose-response studies, where the goal is to understand how the effect of a substance changes with increasing exposure levels.\n",
    "\n",
    "Note that the Cochran-Armitage test assumes that the trend is consistent across dose groups (i.e., the effect of each dose increment is roughly the same)."
   ]
  },
  {
   "cell_type": "markdown",
   "metadata": {},
   "source": [
    "### Example of varying the dose of a drug\n",
    "\n",
    "We will use the (two-sided) Cochran-Armitage trend test in Python with [`statsmodels.stats.contingency_tables.Table.test_ordinal_association`](https://www.statsmodels.org/dev/generated/statsmodels.stats.contingency_tables.Table.test_ordinal_association.html). Let's assume we have the following data from a toxicology study, where we exposed different groups of animals to increasing doses of a test article (TA) and recorded the number of tumors:\n",
    "\n",
    "|                        | 0 dose (control) | 1 dose (low) | 2 doses (medium) | 3 doses (high) |\n",
    "| ---------------------- | ---------------- | ------------ | ---------------- | -------------- |\n",
    "| Animals with tumor     |         0        |       1      |         3        |        6       |\n",
    "| Total animals examined |        50        |      50      |        50        |       50       |\n",
    "\n",
    "Note that in this example, the total number of animals per dose group is the same. This does not have to be the case for the Cochran-Armitage test."
   ]
  },
  {
   "cell_type": "markdown",
   "metadata": {},
   "source": [
    "#### `Table` vs. `Table2x2`\n",
    "\n",
    "Note the [distinction between `statsmodels.Table` and `statsmodels.Table2x2`](https://www.statsmodels.org/stable/contingency_tables.html):\n",
    "\n",
    "- [`statsmodels.Table`](https://www.statsmodels.org/stable/generated/statsmodels.stats.contingency_tables.Table.html#statsmodels.stats.contingency_tables.Table):\n",
    "    - General purpose: this class is designed for working with contingency tables of _any size_ (i.e., tables with more than two rows and/or columns).\n",
    "    - Functionality: it offers a wide range of methods for analyzing contingency tables, including:\n",
    "        - Chi-squared test of independence\n",
    "        - Fisher's exact test\n",
    "        - Measures of association (e.g., Cramer's V, contingency coefficient)\n",
    "        - Tests for marginal homogeneity\n",
    "        - Calculation of expected frequencies, residuals, etc.\n",
    "    - Flexibility: it can handle various types of input data, including raw data arrays, frequency counts, and proportions.\n",
    "    - When to use: choose `Table` when we have a contingency table that is not strictly 2x2 and need to perform a variety of analyses.\n",
    "- [`statsmodels.Table2x2`](https://www.statsmodels.org/stable/generated/statsmodels.stats.contingency_tables.Table2x2.html#statsmodels.stats.contingency_tables.Table2x2):\n",
    "    - Specialized for 2x2 tables: as the name suggests, this class is specifically tailored for analyzing 2x2 contingency tables (tables with two rows and two columns).\n",
    "    - Focused functionality: it provides a set of methods optimized for 2x2 tables, including:\n",
    "        - Odds ratio and relative risk estimation\n",
    "        - Confidence intervals for OR, RR, and risk difference\n",
    "        - McNemar's test for paired data\n",
    "        - Various tests of marginal homogeneity\n",
    "    - Convenience: it offers a streamlined interface for common analyses on 2x2 tables.\n",
    "    - When to use: choose `Table2x2` when we have a 2x2 contingency table and need to perform the specific analyses it offers."
   ]
  },
  {
   "cell_type": "markdown",
   "metadata": {},
   "source": [
    "#### Interpreting the results of the Cochran-Armitage test\n",
    "\n",
    "The choice of scores can influence the test results. In `statsmodels.Table.test_ordinal_association`, the `col_scores` argument allows to specify the scores assigned to each column (category) of the contingency table. The direction of the trend (increasing or decreasing) is determined by the order of the scores. If the scores increase from left to right, the test will assess if there's an increasing trend (default method behavior). If the scores decrease from left to right, the test will look for a decreasing trend.\n",
    "\n",
    "In the context of a toxicology study, where we're interested in the potential harmful effects of a treatment, a significant *increasing trend* in tumor rates (one-sided test) with increasing dose is a concerning finding. It suggests that the treatment might be promoting tumor development, and further investigation is needed to assess the safety and potential risks associated with the treatment."
   ]
  },
  {
   "cell_type": "code",
   "execution_count": null,
   "metadata": {},
   "outputs": [
    {
     "name": "stdout",
     "output_type": "stream",
     "text": [
      "null_mean   15.0\n",
      "null_sd     3.454659660058306\n",
      "pvalue      0.0037959220933673713\n",
      "statistic   25.0\n",
      "zscore      2.894641146743591\n",
      "\n",
      "Reject the null hypothesis (P = 0.002; one-sided test).\n",
      "There is a significant increasing trend in tumor rates with increasing dose.\n"
     ]
    }
   ],
   "source": [
    "from statsmodels.stats.contingency_tables import Table\n",
    "\n",
    "# Sample data: Tumor counts (rows) by Dose groups (columns)\n",
    "dose_groups = ['Control', 'Low', 'Medium', 'High']\n",
    "tumor_counts = np.array([\n",
    "    [0, 50],  # Control group\n",
    "    [1, 49],  # Low dose (1 tumor out of 50 total animals)\n",
    "    [3, 47],  # Medium dose\n",
    "    [6, 44]   # High dose\n",
    "])\n",
    "\n",
    "# Perform Cochran-Armitage Trend Test\n",
    "result = Table(tumor_counts, shift_zeros=False).test_ordinal_association(\n",
    "    # row_scores=np.array([0, 1, 2, 3]),  # default\n",
    "    col_scores=np.array([1, 0]),  # reversed trend\n",
    ")\n",
    "\n",
    "print(result)\n",
    "\n",
    "# Extract P value\n",
    "p_value = result.pvalue / 2  # Divide p-value by 2 for one-sided test\n",
    "\n",
    "# Interpret results\n",
    "alpha = 0.05\n",
    "if p_value < alpha:\n",
    "    print(\n",
    "        f\"\\nReject the null hypothesis (P = {p_value:.3f}; one-sided test). \\\n",
    "\\nThere is a significant increasing trend in tumor rates with increasing dose.\")\n",
    "else:\n",
    "    print(\n",
    "        f\"\\nFail to reject the null hypothesis (P = {p_value:.3f}; one-sided test). \\\n",
    "\\nThere is not enough evidence to suggest a trend.\")"
   ]
  },
  {
   "cell_type": "markdown",
   "metadata": {},
   "source": [
    "Be aware that the `statsmodels.Table` class, used for analyzing contingency tables, has a default behavior of adding 0.5 to _zero cell counts_ if the `shift_zeros` argument is set to `True` (which is the default). This is done to avoid potential issues with zero frequencies when calculating statistics like the chi-squared test statistic. However, other statistical software or functions might not have this default behavior, potentially leading to different results if they encounter zero frequencies."
   ]
  },
  {
   "cell_type": "code",
   "execution_count": null,
   "metadata": {},
   "outputs": [
    {
     "name": "stdout",
     "output_type": "stream",
     "text": [
      "null_mean   15.71072319201995\n",
      "null_sd     3.5390390971784127\n",
      "pvalue      0.008669937476153359\n",
      "statistic   25.0\n",
      "zscore      2.624801973899118\n"
     ]
    }
   ],
   "source": [
    "print(\n",
    "    Table(\n",
    "        tumor_counts,\n",
    "    ).test_ordinal_association(\n",
    "        # row_scores=np.array([0, 1, 2, 3]),  # default\n",
    "        col_scores=np.array([1, 0])  # reversed trend\n",
    "    )\n",
    ")"
   ]
  },
  {
   "cell_type": "markdown",
   "metadata": {},
   "source": [
    "The `test_ordinal_association` method from `statsmodels.stats.contingency_tables.Table` in Python performs the Cochran-Armitage test for trend. This test assesses whether there is a linear trend in the proportions of observations across ordered categories. It relies on an *asymptotic approximation* using the chi-squared distribution, which is generally accurate for large sample sizes.\n",
    "\n",
    "For more sophisticated trend analysis or situations with small sample sizes, [alternative methods are available in R](https://rcompanion.org/handbook/H_09.html). For example, the `coin` package provides a flexible framework for permutation-based tests, including the linear-by-linear association test (`lbl_test`) and other trend tests. These permutation tests can be more accurate when the assumptions of the chi-squared test are not met or when dealing with small sample sizes. We can also use different scoring systems to test for linear, quadratic, or other types of trends."
   ]
  },
  {
   "cell_type": "code",
   "execution_count": null,
   "metadata": {},
   "outputs": [
    {
     "data": {
      "text/plain": [
       "\n",
       "\tAsymptotic Linear-by-Linear Association Test\n",
       "\n",
       "data:  dose (ordered) by resp (1, 0)\n",
       "Z = 2.8946, p-value = 0.003796\n",
       "alternative hypothesis: two.sided\n"
      ]
     },
     "metadata": {},
     "output_type": "display_data"
    }
   ],
   "source": [
    "library(coin)  # https://cran.r-project.org/web/packages/coin/index.html\n",
    "\n",
    "table <- matrix(c(0,1,3,6,50,49,47,44), byrow=TRUE, nrow=2, dimnames=list(resp=c(1,0), dose=0:3))\n",
    "\n",
    "lbl_test(as.table(table))"
   ]
  },
  {
   "cell_type": "code",
   "execution_count": null,
   "metadata": {},
   "outputs": [
    {
     "data": {
      "text/plain": [
       "\n",
       "\tExact General Independence Test\n",
       "\n",
       "data:  dose by resp (1, 0)\n",
       "Z = 2.8946, p-value = 0.004433\n",
       "alternative hypothesis: two.sided\n"
      ]
     },
     "metadata": {},
     "output_type": "display_data"
    }
   ],
   "source": [
    "# Perform the Cochran-Armitage test using independence_test with 'exact' distribution\n",
    "coin::independence_test(\n",
    "    as.table(table),\n",
    "    # distribution = 'asymptotic',  # same as lbl_test()\n",
    "    distribution = \"exact\",\n",
    "    ytrafo = function(data) {\n",
    "        trafo(\n",
    "            data,\n",
    "            factor_trafo = function(x) {\n",
    "                model.matrix(~ x - 1) %*% as.numeric(colnames(table))\n",
    "            }\n",
    "        )\n",
    "    }\n",
    ")"
   ]
  },
  {
   "cell_type": "markdown",
   "metadata": {},
   "source": [
    "## Case-control studies\n",
    "\n",
    "In the previous sections, we've explored methods for analyzing data from cross-sectional and prospective studies, where we often have access to incidence rates or risk information directly. Case-control studies, however, present a different paradigm. These studies are **retrospective**, meaning they start with individuals who already have the outcome of interest (cases) and those who don't (controls). The goal is to look back in time to assess whether exposure to a particular risk factor differs between the two groups. Though, they are prone to certain biases, such as recall bias (cases might remember their exposure history differently than controls) and selection bias (the way cases and controls are selected might not be representative of the underlying population).\n",
    "\n",
    "### Statistical analysis in case-control studies\n",
    "\n",
    "Unlike cohort studies, case-control studies are designed retrospectively, starting with individuals who already have the disease (cases) and those who don't (controls). This structure means that the proportion of cases in the study doesn't reflect the true disease prevalence in the population. Consequently, we cannot directly calculate risks or relative risks (RR) from case-control data.\n",
    "\n",
    "Instead, case-control studies utilize the odds ratio (OR) as their primary measure of association. The OR compares the odds of exposure (e.g., vaccination) among cases to the odds of exposure among controls.  Mathematically, it's the ratio of the odds of cases being exposed to the odds of controls being exposed.\n",
    "\n",
    "The statistical tools we've discussed so far are still relevant, but their interpretation and application need to be adapted for case-control designs:\n",
    "\n",
    "- Fisher's exact test can still be used in case-control studies, especially when the sample size is _small_ or the contingency table has low expected frequencies. However, it's important to remember that Fisher's test provides a P value for testing the null hypothesis of no association, but it doesn't directly estimate the relative risk.\n",
    "- For larger sample sizes, the chi-squared test can be used as an alternative to Fisher's exact test for testing the association between the exposure and outcome in a case-control study. Again, the chi-squared test doesn't directly provide the RR, but it does give a P value to assess statistical significance.\n",
    "- The Cochran-Armitage test is generally not applicable to case-control studies because it's designed for prospective studies where we follow individuals over time to observe the development of an outcome. In case-control studies, we're looking back in time at exposure history, not tracking the development of new cases."
   ]
  },
  {
   "cell_type": "markdown",
   "metadata": {},
   "source": [
    "### Cholera vaccination example\n",
    "\n",
    "Case-control studies offer a powerful tool in epidemiology to explore the relationship between potential risk factors (exposures) and disease outcomes. They are particularly useful when studying rare diseases or outcomes with long latency periods, as they are often more efficient than prospective cohort studies.\n",
    "\n",
    "The results of a case-control study are typically organized into a contingency table, where rows represent the outcome (case or control), columns represent the exposure (vaccinated or not vaccinated), and cell values represent the number of individuals in each category combination.\n",
    "\n",
    "Let's consider a classic example: investigating whether cholera vaccination is associated with a reduced risk of developing cholera, like in the [study on oral cholera vaccination from Lucas and colleagues](https://pubmed.ncbi.nlm.nih.gov/15728808/). In this case-control study:\n",
    "\n",
    "- Cases: individuals who have contracted cholera.\n",
    "- Controls: individuals from the same population who have not contracted cholera.\n",
    "\n",
    "We would then determine whether each individual in both groups had been previously vaccinated against cholera. The data could be organized in a contingency table like the one we saw earlier:\n",
    "\n",
    "| Vaccine | Cases (cholera) | Controls |\n",
    "| ------- | --------------- | -------- |\n",
    "| Yes     |       10        |    94    |\n",
    "| No      |       33        |    78    |"
   ]
  },
  {
   "cell_type": "code",
   "execution_count": null,
   "metadata": {},
   "outputs": [
    {
     "name": "stdout",
     "output_type": "stream",
     "text": [
      "Odds Ratio (OR): 0.251\n",
      "95% Confidence Interval for OR: (0.117, 0.542)\n"
     ]
    }
   ],
   "source": [
    "# Create the contingency table from the data\n",
    "data = [\n",
    "    [10, 94],\n",
    "    [33, 78]\n",
    "]\n",
    "table = Table2x2(data)\n",
    "\n",
    "# Calculate the odds ratio (OR) and the 95% confidence interval\n",
    "oddsratio = table.oddsratio\n",
    "ci = table.oddsratio_confint()\n",
    "\n",
    "print(f\"Odds Ratio (OR): {oddsratio:.3f}\")\n",
    "print(f\"95% Confidence Interval for OR: {tuple(round(bound, 3) for bound in ci)}\")"
   ]
  },
  {
   "cell_type": "markdown",
   "metadata": {},
   "source": [
    "The odds ratio quantifies the association between the vaccine (exposure) and the case/control status (outcome).\n",
    "\n",
    "- An OR greater than 1 indicates that the exposure (vaccine) is associated with higher odds of being a case (having the disease).\n",
    "- An OR less than 1 indicates that the exposure (vaccine) is associated with lower odds of being a case (having the disease), suggesting a protective effect.\n",
    "- An OR of 1 means there's no association between the exposure and the outcome.\n",
    "\n",
    "In our example, the OR of 0.25 signifies that vaccinated individuals have only 25% of the odds of developing the disease compared to unvaccinated individuals. This translates to a 75% reduction in the odds of disease due to vaccination.\n",
    "\n",
    "Interestingly, the odds ratio often serves as a good approximation of the RR in many scenarios. This approximation is particularly accurate when the disease is rare. However, recent research suggests that the OR can be reasonably interpreted as the RR in most case-control studies, even for common diseases, with some caveats and careful consideration of the study design.\n",
    "\n",
    "Moreover, the 95% confidence interval provides a range within which we can be 95% confident that the true population odds ratio lies. If the CI does not include 1, it indicates a _statistically significant_ association at the 5% significance level.\n",
    "\n",
    "Given the relatively small sample sizes in this case-control study, we might consider performing Fisher's exact test in addition to calculating the OR and CI. This test is more appropriate for small samples and will provide an exact P value for the association."
   ]
  },
  {
   "cell_type": "code",
   "execution_count": null,
   "metadata": {},
   "outputs": [
    {
     "name": "stdout",
     "output_type": "stream",
     "text": [
      "Fisher's Exact Test P value: 0.0003\n"
     ]
    }
   ],
   "source": [
    "oddsratio, p_value = fisher_exact(data)\n",
    "\n",
    "print(\"Fisher's Exact Test P value:\", round(p_value, 4)) # type: ignore"
   ]
  },
  {
   "cell_type": "markdown",
   "metadata": {},
   "source": [
    "### Isotretinoin and bowel disease\n",
    "\n",
    "Let's use the example data on isotretinoin use and inflammatory bowel disease (IBD) in the [case-control study from Bernstein and colleagues](https://pubmed.ncbi.nlm.nih.gov/19623167/) to demonstrate a scenario where the confidence interval for the OR includes 1, indicating a lack of statistically significant association.\n",
    "\n",
    "| Isotretinoin | Cases (IBD) | Controls |\n",
    "| ------------ | ----------- | -------- |\n",
    "| Yes          |      25     |   213    |\n",
    "| No           |    1935     |  19216   |"
   ]
  },
  {
   "cell_type": "code",
   "execution_count": null,
   "metadata": {},
   "outputs": [
    {
     "name": "stdout",
     "output_type": "stream",
     "text": [
      "               Estimate   SE   LCB    UCB  p-value\n",
      "--------------------------------------------------\n",
      "Odds ratio        1.166        0.768 1.769   0.471\n",
      "Log odds ratio    0.153 0.213 -0.264 0.570   0.471\n",
      "Risk ratio        1.148        0.791 1.668   0.468\n",
      "Log risk ratio    0.138 0.190 -0.235 0.511   0.468\n",
      "--------------------------------------------------\n"
     ]
    }
   ],
   "source": [
    "# Create the contingency table from the data\n",
    "data = [\n",
    "    [25, 213],\n",
    "    [1935, 19216]\n",
    "]\n",
    "table = Table2x2(data)\n",
    "\n",
    "print(table.summary())"
   ]
  },
  {
   "cell_type": "markdown",
   "metadata": {},
   "source": [
    "The OR of 1.149 suggests that individuals exposed to isotretinoin have 1.149 times the odds of having IBD compared to those not exposed. However, this value is close to 1, indicating a weak association. Moreover, the 95% CI for the OR ranges from 0.768 to 1.769. Importantly, this interval includes 1. This means that we cannot rule out the possibility of no association between isotretinoin use and IBD in the population. We fail to reject the null hypothesis of no association at the 5% significance level.\n",
    "\n",
    "Given the large sample size in this example, the chi-squared test could also be used to assess the association. However, Fisher's exact test might be preferred if any of the cell counts were small."
   ]
  },
  {
   "cell_type": "code",
   "execution_count": null,
   "metadata": {},
   "outputs": [
    {
     "name": "stdout",
     "output_type": "stream",
     "text": [
      "Chi-squared test P value: 0.471\n"
     ]
    }
   ],
   "source": [
    "chi2, p, dof, ex = chi2_contingency(data, correction=False)\n",
    "\n",
    "print(\"Chi-squared test P value:\", round(p, 3)) # type: ignore"
   ]
  },
  {
   "cell_type": "code",
   "execution_count": null,
   "metadata": {},
   "outputs": [
    {
     "name": "stdout",
     "output_type": "stream",
     "text": [
      "Fisher's exact test P value: 0.431\n"
     ]
    }
   ],
   "source": [
    "oddsratio, p_value = fisher_exact(data)\n",
    "\n",
    "print(\"Fisher's exact test P value:\", round(p_value, 3)) # type: ignore"
   ]
  },
  {
   "cell_type": "markdown",
   "metadata": {},
   "source": [
    "While the association is not statistically significant, it's important to consider the potential clinical implications of even a small increased risk, especially for a drug with known side effects. Further research with larger sample sizes or different study designs might be warranted to clarify the relationship. The lack of statistical significance could be due to various factors, including limited sample size, potential biases in the study design, or the presence of confounding variables."
   ]
  },
  {
   "cell_type": "markdown",
   "metadata": {},
   "source": [
    "## Conclusion\n",
    "\n",
    "In this chapter, we've embarked on a journey through the world of comparing proportions—a cornerstone of biostatistical analysis. We've explored a wide array of tools and techniques, from foundational contingency tables to powerful statistical tests, each designed to unveil patterns and associations hidden within categorical data.\n",
    "\n",
    "We began with Fisher's exact test, a precise method for analyzing small sample sizes and rare events. We then delved into the versatile chi-squared test, capable of handling larger tables and assessing deviations from expected frequencies. We further refined our toolkit with the Cochran-Armitage trend test, designed to detect trends in ordinal data, particularly useful in toxicological studies.\n",
    "\n",
    "Along the way, we explored essential concepts like attributable risk, relative risk, odds ratio, and number needed to treat, equipping us with the language and understanding to quantify the impact of exposures and treatments. We learned how to construct confidence intervals for these measures, acknowledging and embracing the uncertainty inherent in statistical estimation.\n",
    "\n",
    "Finally, we turned our attention to case-control studies, a powerful observational design for exploring associations in retrospective data. We discovered the importance of the odds ratio in this context and how it can approximate the relative risk under certain conditions.\n",
    "\n",
    "Throughout this chapter, we've emphasized the importance of selecting the right statistical tool for the job. The choice of test depends on the study design, data characteristics, and research questions. While some tests are more versatile than others, each has its own strengths and limitations. Understanding these nuances is crucial for conducting rigorous and reliable analyses. For example, smaller sample sizes might require exact tests (like Fisher's) or adjustments (like Yates' correction), while larger samples can often rely on approximations (like the chi-squared test).\n",
    "\n",
    "We've learned how to harness the power of Python to perform these analyses, using libraries like `scipy.stats` and `statsmodels`. We've seen how these tools can be applied to real-world problems, from assessing the efficacy of treatments to analyzing dose-response relationships in toxicology studies.\n",
    "\n",
    "As we conclude this chapter, it's crucial to remember that statistics are more than just numbers. They are lenses through which we interpret data, helping us make sense of complex phenomena and inform decision-making. However, statistical results should always be interpreted in context."
   ]
  },
  {
   "cell_type": "markdown",
   "metadata": {},
   "source": [
    "## Cheat sheet\n",
    "\n",
    "This cheat sheet provides a quick reference for essential code snippets used in this chapter.\n",
    "\n",
    "### Contingency table\n",
    "\n",
    "```python\n",
    "import numpy as np\n",
    "from scipy.stats import contingency\n",
    "\n",
    "# Example data\n",
    "treatment = np.array([1, 1, 2, 2, 1, 2, 1])\n",
    "outcome   = np.array([0, 1, 0, 1, 1, 1, 0])\n",
    "\n",
    "# Create contingency table with scipy.stats.contingency\n",
    "res = contingency.crosstab(treatment, outcome) # treatment will be the rows, outcome the columns\n",
    "table = res.count\n",
    "\n",
    "# If the data is already in a Pandas DataFrame we can use pandas.crosstab\n",
    "import pandas as pd\n",
    "# Assuming the Dataframe has columns named \"treatment\" and \"outcome\"\n",
    "df = pd.DataFrame({\"treatment\": treatment, \"outcome\": outcome})\n",
    "\n",
    "# Creating contingency table using pd.crosstab\n",
    "table = pd.crosstab(\n",
    "    df[\"treatment\"].dropna(),  # Remove NaN values if expected\n",
    "    df[\"outcome\"],\n",
    "    margins=True,     # Include row and column totals\n",
    "    dropna=False      # Keep rows/columns with zero counts\n",
    ")\n",
    "\n",
    "# # Pre-aggregated contingency table with rows = alternative treatments,\n",
    "# cols = alternative outcomes; here is the example from Apixaban study\n",
    "table_df = pd.DataFrame(\n",
    "    {\n",
    "        'recurrence':    [73, 14],\n",
    "        'no_recurrence': [756, 826],\n",
    "    },\n",
    "    index=['placebo', 'apixaban'])\n",
    "```\n",
    "\n",
    "### Fisher's exact test\n",
    "\n",
    "```python\n",
    "from scipy.stats import fisher_exact\n",
    "\n",
    "# Assuming 'table' is (pre-aggregated) 2x2 contingency table (NumPy array or list of lists)\n",
    "table = table_df.to_numpy() # converts DataFrame to NumPy array\n",
    "odds_ratio, p_value = fisher_exact(table, alternative='two-sided')\n",
    "# could use \"alternative='greater'\" for toxicology count data\n",
    "```\n",
    "\n",
    "### Risk and odds ratio analysis\n",
    "\n",
    "```python\n",
    "from statsmodels.stats.contingency_tables import Table2x2\n",
    "\n",
    "# Assuming 'table' is the 2x2 contingency table (NumPy array)\n",
    "table2x2 = Table2x2(table_df.to_numpy())\n",
    "# Calculate and print the results\n",
    "print(table2x2.summary())\n",
    "\n",
    "# Calculates probabilities\n",
    "a, b, c, d = table_df.to_numpy().ravel()\n",
    "p1, p2 = a / (a + b), c / (c + d)\n",
    "# Confidence intervals\n",
    "from statsmodels.stats.proportion import proportion_confint\n",
    "conf=0.95  # Set 95% confidence interval\n",
    "ci_p1 = proportion_confint(count=a, nobs=a+b, alpha=1-conf, method='normal')\n",
    "ci_p2 = proportion_confint(count=c, nobs=c+d, alpha=1-conf, method='normal')\n",
    "\n",
    "# Overall risk\n",
    "p_bar = (a + c) / (a + b + c + d)\n",
    "\n",
    "# Calculates absolute risk reduction / attributable risk\n",
    "arr = p1 - p2\n",
    "# Confidence interval estimation\n",
    "from statsmodels.stats.proportion import confint_proportions_2indep\n",
    "ci_arr_1, ci_arr_2 = confint_proportions_2indep(\n",
    "    count1=a,\n",
    "    nobs1=a+b,\n",
    "    count2=c,\n",
    "    nobs2=c+d,\n",
    "    compare='diff',\n",
    "    method='score',  # ['wald', 'agresti-caffo', 'newcomb', 'score']\n",
    "    alpha=0.05)\n",
    "\n",
    "# Calculates number needed to treat\n",
    "ntt = 1/arr\n",
    "# Confidence interval is the reciprocal of ARR CI\n",
    "ci_ntt_1 = round(1/ci_arr_2)\n",
    "ci_ntt_2 = round(1/ci_arr_1)\n",
    "\n",
    "# Calculates relative risk\n",
    "rr = p1/p2\n",
    "# Alternatively using scipy.stats.contingency\n",
    "contingency.relative_risk(\n",
    "    exposed_cases=a,\n",
    "    exposed_total=a+b,\n",
    "    control_cases=c,\n",
    "    control_total=c+d\n",
    ").relative_risk\n",
    "# Confidence interval estimation\n",
    "ci_rr_1, ci_rr_2 = confint_proportions_2indep(\n",
    "    count1=a,\n",
    "    nobs1=a+b,\n",
    "    count2=c,\n",
    "    nobs2=c+d,\n",
    "    compare='ratio',\n",
    "    method='score',  # ['log', 'log-adjusted', 'score']\n",
    "    alpha=0.05)\n",
    "\n",
    "# Calculates odds ratio\n",
    "or = a*d / (b*c)\n",
    "# Alternatively using scipy.stats.contingency\n",
    "contingency.odds_ratio(\n",
    "    table=table_df.to_numpy(),\n",
    "    kind='sample').statistic\n",
    "# Confidence interval estimation\n",
    "ci_or_1, ci_or_2 = confint_proportions_2indep(\n",
    "    count1=a,\n",
    "    nobs1=a+b,\n",
    "    count2=c,\n",
    "    nobs2=c+d,\n",
    "    compare='odds-ratio',\n",
    "    method='score',  # ['logit', 'logit-adjusted', 'score']\n",
    "    alpha=0.05)\n",
    "```\n",
    "\n",
    "### Z-test\n",
    "\n",
    "```python\n",
    "from statsmodels.stats.proportion import proportions_ztest\n",
    "\n",
    "# Extract counts and total observations for each group from the Apixaban table\n",
    "count = table_df['recurrence']\n",
    "nobs = table_df.sum(axis=1)\n",
    "\n",
    "# Perform Z-test for difference in proportions\n",
    "z_stat, p_value = proportions_ztest(count, nobs)\n",
    "```\n",
    "\n",
    "### Chi-squared goodness-of-fit test\n",
    "\n",
    "```python\n",
    "from scipy.stats import chisquare\n",
    "\n",
    "# Mendel's observed data\n",
    "observed = np.array([315, 108, 101, 32])\n",
    "\n",
    "# Mendel's expected proportions (here as fractions)\n",
    "expected_proportions = np.array([9/16, 3/16, 3/16, 1/16])\n",
    "\n",
    "# Perform the chi-squared goodness-of-fit test\n",
    "chisquare(\n",
    "    f_obs=observed,\n",
    "    f_exp=observed.sum() * expected_proportions)\n",
    "```\n",
    "\n",
    "### Chi-squared distribution\n",
    "\n",
    "```python\n",
    "from scipy.stats import chi2\n",
    "\n",
    "# Define the standard normal distribution model\n",
    "df = 5\n",
    "chi2_distribution = chi2(df=df)\n",
    "# Distribution statistics\n",
    "chi2_distribution.stats()\n",
    "\n",
    "# Probabilities\n",
    "# Cumulative Distribution Function - P(X<=8)\n",
    "chi2_distribution.cdf(x=8)\n",
    "# (One-tailed) Survival Function - P(X>=16)\n",
    "chi2_distribution.sf(x=16)\n",
    "# Percent Point Function\n",
    "chi2_distribution.ppf(q=.95)\n",
    "```\n",
    "\n",
    "### Chi-squared test of independence\n",
    "\n",
    "```python\n",
    "# Mendel's observed data (2x2 contingency table)\n",
    "observed = np.array(\n",
    "    [\n",
    "        [315, 101],  # Yellow, round and wrinkled\n",
    "        [108, 32]    # Green,  round and wrinkled\n",
    "    ])\n",
    "\n",
    "# Create a DataFrame from the observed data\n",
    "df = pd.DataFrame(\n",
    "    observed,\n",
    "    index=['Round', 'Wrinkled'],\n",
    "    columns=['Yellow', 'Green'])\n",
    "\n",
    "# Create a mosaic plot\n",
    "import matplotlib.pyplot as plt\n",
    "from statsmodels.graphics.mosaicplot import mosaic\n",
    "mosaic(df.stack())  # Stacking the DataFrame for proper mosaic plot input\n",
    "\n",
    "from scipy.stats import chi2_contingency\n",
    "\n",
    "# Perform the chi-squared test of independence on the previous contingency table\n",
    "chi2_contingency(\n",
    "    observed=observed,\n",
    "    lambda_='pearson',  # ['log-likelihood', 'freeman-tukey', 'neyman', 'cressie-read']\n",
    "    correction=True,    # Yates' correction for continuity\n",
    ")\n",
    "\n",
    "# Chi-squared independence tests using pingouin\n",
    "import pingouin as pg\n",
    "pg.chi2_independence(\n",
    "    data=table_df,\n",
    "    x='recurrence', y='no_recurrence',\n",
    "    correction=False)\n",
    "```\n",
    "\n",
    "### Cochran-Armitage test for trend\n",
    "\n",
    "```python\n",
    "from statsmodels.stats.contingency_tables import Table\n",
    "\n",
    "# Sample data: Tumor counts (rows) by Dose groups (columns)\n",
    "dose_groups = ['Control', 'Low', 'Medium', 'High']\n",
    "tumor_counts = np.array([\n",
    "    [0, 50],  # Control group\n",
    "    [1, 49],  # Low dose (1 tumor out of 50 total animals)\n",
    "    [3, 47],  # Medium dose\n",
    "    [6, 44]   # High dose\n",
    "])\n",
    "\n",
    "# Perform Cochran-Armitage trend test (asymptotic linear-by-linear)\n",
    "print(\n",
    "    Table(\n",
    "        tumor_counts,\n",
    "        shift_zeros=False\n",
    "    ).test_ordinal_association(\n",
    "        # row_scores=np.array([0, 1, 2, 3]), # default\n",
    "        col_scores=np.array([1, 0])   # reversed trend\n",
    "    ))\n",
    "# Divide P value by 2 for one-sided test\n",
    "```\n",
    "\n",
    "```R\n",
    "table <- matrix(c(0,1,3,6,50,49,47,44), byrow=TRUE, nrow=2, dimnames=list(resp=c(1,0), dose=0:3))\n",
    "\n",
    "# https://cran.r-project.org/web/packages/coin/index.html\n",
    "library(coin)\n",
    "lbl_test(as.table(table))\n",
    "\n",
    "coin::independence_test(\n",
    "    as.table(table),\n",
    "    # distribution = 'asymptotic',  # same as lbl_test()\n",
    "    distribution = 'exact',\n",
    "    ytrafo = function(data) {\n",
    "        trafo(\n",
    "            data,\n",
    "            factor_trafo = function(x) {model.matrix(~ x - 1) %*% as.numeric(colnames(table))}\n",
    "        )\n",
    "    }\n",
    ")\n",
    "```\n",
    "\n",
    "### Case-control studies\n",
    "\n",
    "```python\n",
    "# Create the contingency table from the data\n",
    "data = [\n",
    "    [25, 213],\n",
    "    [1935, 19216]\n",
    "]\n",
    "table = Table2x2(data)\n",
    "print(table.summary())\n",
    "\n",
    "chi2_contingency(data)\n",
    "```"
   ]
  },
  {
   "cell_type": "markdown",
   "metadata": {},
   "source": [
    "## Session information\n",
    "\n",
    "The output below details all packages and version necessary to reproduce the results in this report."
   ]
  },
  {
   "cell_type": "code",
   "execution_count": null,
   "metadata": {
    "tags": [
     "hide-input"
    ]
   },
   "outputs": [
    {
     "name": "stdout",
     "output_type": "stream",
     "text": [
      "Python 3.12.7\n",
      "-------------\n",
      "numpy: 1.26.4\n",
      "pandas: 2.2.2\n",
      "matplotlib: 3.9.2\n",
      "seaborn: 0.13.2\n",
      "scipy: 1.14.1\n",
      "pingouin: 0.5.5\n",
      "statsmodels: 0.14.2\n"
     ]
    }
   ],
   "source": [
    "!python --version\n",
    "print(\"-------------\")\n",
    "\n",
    "from importlib.metadata import version\n",
    "\n",
    "# List of packages we want to check the version\n",
    "packages = ['numpy', 'pandas', 'matplotlib', 'seaborn', 'scipy', 'pingouin', 'statsmodels']\n",
    "\n",
    "# Initialize an empty list to store the versions\n",
    "versions = []\n",
    "\n",
    "# Loop over the packages\n",
    "for package in packages:\n",
    "    try:\n",
    "        # Get the version of the package\n",
    "        package_version = version(package)\n",
    "        # Append the version to the list\n",
    "        versions.append(package_version)\n",
    "    except Exception:  # Use a more general exception for broader compatibility\n",
    "        versions.append('Not installed')\n",
    "\n",
    "# Print the versions\n",
    "for package, version in zip(packages, versions):\n",
    "    print(f'{package}: {version}')"
   ]
  },
  {
   "cell_type": "code",
   "execution_count": null,
   "metadata": {
    "tags": [
     "hide-input"
    ]
   },
   "outputs": [
    {
     "ename": "NameError",
     "evalue": "name 'sessionInfo' is not defined",
     "output_type": "error",
     "traceback": [
      "\u001b[1;31m---------------------------------------------------------------------------\u001b[0m",
      "\u001b[1;31mNameError\u001b[0m                                 Traceback (most recent call last)",
      "Cell \u001b[1;32mIn[68], line 1\u001b[0m\n\u001b[1;32m----> 1\u001b[0m \u001b[43msessionInfo\u001b[49m()\n",
      "\u001b[1;31mNameError\u001b[0m: name 'sessionInfo' is not defined"
     ]
    }
   ],
   "source": [
    "sessionInfo()"
   ]
  }
 ],
 "metadata": {
  "kernelspec": {
   "display_name": ".env",
   "language": "python",
   "name": "python3"
  },
  "language_info": {
   "codemirror_mode": {
    "name": "ipython",
    "version": 3
   },
   "file_extension": ".py",
   "mimetype": "text/x-python",
   "name": "python",
   "nbconvert_exporter": "python",
   "pygments_lexer": "ipython3",
   "version": "3.12.7"
  }
 },
 "nbformat": 4,
 "nbformat_minor": 2
}
