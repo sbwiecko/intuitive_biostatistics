{
 "cells": [
  {
   "cell_type": "markdown",
   "metadata": {},
   "source": [
    "# Confidence interval of survival data\n",
    "\n",
    "## Introduction\n",
    "\n",
    "**Survival analysis** is a branch of statistics that deals with the analysis of time-to-event data, often referred to as 'survival data'.\n",
    "\n",
    "The **event** can be anything from the death of an organism (hence **survival**), to the failure of a mechanical system, to the recovery of a sick patient.\n",
    "\n",
    "A **confidence interval** in survival analysis gives a range of values, derived from the data, that is likely to contain the true value of an unknown population parameter. In the context of survival analysis, a confidence interval might be used to describe the uncertainty around a survival time estimate.\n",
    "\n",
    "## Survival data\n",
    "\n",
    "### The `lifelines` library\n",
    "\n",
    "In Python, the [`lifelines` library](https://lifelines.readthedocs.io/en/stable/index.html) is commonly used for survival analysis. It provides a simple and intuitive API for fitting survival models, and also includes functions for visualizing survival data. Here's a basic example of how we might calculate a confidence interval for a survival function estimate using the `KaplanMeierFitter` class in lifelines:"
   ]
  },
  {
   "cell_type": "code",
   "execution_count": 42,
   "metadata": {},
   "outputs": [
    {
     "name": "stdout",
     "output_type": "stream",
     "text": [
      "lifelines version: 0.29.0\n"
     ]
    }
   ],
   "source": [
    "import pandas as pd\n",
    "import matplotlib.pyplot as plt\n",
    "import lifelines\n",
    "\n",
    "print('lifelines version:', lifelines.__version__)"
   ]
  },
  {
   "cell_type": "code",
   "execution_count": 43,
   "metadata": {},
   "outputs": [
    {
     "data": {
      "text/html": [
       "<div>\n",
       "<style scoped>\n",
       "    .dataframe tbody tr th:only-of-type {\n",
       "        vertical-align: middle;\n",
       "    }\n",
       "\n",
       "    .dataframe tbody tr th {\n",
       "        vertical-align: top;\n",
       "    }\n",
       "\n",
       "    .dataframe thead th {\n",
       "        text-align: right;\n",
       "    }\n",
       "</style>\n",
       "<table border=\"1\" class=\"dataframe\">\n",
       "  <thead>\n",
       "    <tr style=\"text-align: right;\">\n",
       "      <th></th>\n",
       "      <th>YEARS</th>\n",
       "      <th>EVENT</th>\n",
       "    </tr>\n",
       "  </thead>\n",
       "  <tbody>\n",
       "    <tr>\n",
       "      <th>1</th>\n",
       "      <td>6.54</td>\n",
       "      <td>0</td>\n",
       "    </tr>\n",
       "    <tr>\n",
       "      <th>3</th>\n",
       "      <td>6.17</td>\n",
       "      <td>0</td>\n",
       "    </tr>\n",
       "    <tr>\n",
       "      <th>6</th>\n",
       "      <td>3.67</td>\n",
       "      <td>0</td>\n",
       "    </tr>\n",
       "    <tr>\n",
       "      <th>0</th>\n",
       "      <td>4.07</td>\n",
       "      <td>1</td>\n",
       "    </tr>\n",
       "    <tr>\n",
       "      <th>2</th>\n",
       "      <td>1.39</td>\n",
       "      <td>1</td>\n",
       "    </tr>\n",
       "    <tr>\n",
       "      <th>4</th>\n",
       "      <td>5.89</td>\n",
       "      <td>1</td>\n",
       "    </tr>\n",
       "    <tr>\n",
       "      <th>5</th>\n",
       "      <td>4.76</td>\n",
       "      <td>1</td>\n",
       "    </tr>\n",
       "  </tbody>\n",
       "</table>\n",
       "</div>"
      ],
      "text/plain": [
       "   YEARS  EVENT\n",
       "1   6.54      0\n",
       "3   6.17      0\n",
       "6   3.67      0\n",
       "0   4.07      1\n",
       "2   1.39      1\n",
       "4   5.89      1\n",
       "5   4.76      1"
      ]
     },
     "execution_count": 43,
     "metadata": {},
     "output_type": "execute_result"
    }
   ],
   "source": [
    "from lifelines import KaplanMeierFitter\n",
    "\n",
    "# Assume we have some survival data in the following two lists:\n",
    "# `durations` is a list of durations until the event or censorship\n",
    "# `event_observed` is a binary list where 1 indicates the event, \n",
    "# i.e., death, occurred, and 0 indicates censorship\n",
    "\n",
    "# example of the survival data from pages 47-48 of the book Intuitive Biostatistics\n",
    "durations       = [4.07, 6.54, 1.39, 6.17, 5.89, 4.76, 3.67]\n",
    "event_observed  = [1   , 0   , 1   , 0   , 1   , 1   , 0   ]\n",
    "\n",
    "# we create a dataframe with those data\n",
    "data = pd.DataFrame(\n",
    "    {\n",
    "        'YEARS': durations,\n",
    "        'EVENT': event_observed,\n",
    "    }\n",
    ")\n",
    "\n",
    "# sorted durations\n",
    "data.sort_values(by='EVENT')"
   ]
  },
  {
   "cell_type": "code",
   "execution_count": 44,
   "metadata": {},
   "outputs": [
    {
     "data": {
      "text/plain": [
       "<lifelines.KaplanMeierFitter:\"KM_estimate\", fitted with 7 total observations, 3 right-censored observations>"
      ]
     },
     "execution_count": 44,
     "metadata": {},
     "output_type": "execute_result"
    }
   ],
   "source": [
    "# Create a fitter instance\n",
    "kmf = KaplanMeierFitter()\n",
    "\n",
    "# Fit the data to the model\n",
    "kmf.fit(\n",
    "    durations=durations,\n",
    "    event_observed=event_observed,\n",
    ")"
   ]
  },
  {
   "cell_type": "markdown",
   "metadata": {},
   "source": [
    "The `kmf._median` attribute gives us the **median survival time**. In the context of survival analysis, the median survival time is the smallest time at which the survival probability drops to 0.5 or below. In other words, it's the time by which half of the population has experienced the event of interest."
   ]
  },
  {
   "cell_type": "code",
   "execution_count": 45,
   "metadata": {},
   "outputs": [
    {
     "name": "stdout",
     "output_type": "stream",
     "text": [
      "Median survival time: 5.89\n"
     ]
    }
   ],
   "source": [
    "print(\"Median survival time:\", kmf.median_survival_time_)"
   ]
  },
  {
   "cell_type": "markdown",
   "metadata": {},
   "source": [
    "Please note that the median survival time might be `inf` (infinity) for some datasets. This happens when the survival function never goes below 0.5, which means that more than half of the population survives till the end of the observation period. In such cases, the median survival time is undefined and is conventionally considered to be infinite."
   ]
  },
  {
   "cell_type": "markdown",
   "metadata": {},
   "source": [
    "The survival function estimate and its confidence intervals can be accessed with:"
   ]
  },
  {
   "cell_type": "code",
   "execution_count": 46,
   "metadata": {},
   "outputs": [
    {
     "data": {
      "text/html": [
       "<div>\n",
       "<style scoped>\n",
       "    .dataframe tbody tr th:only-of-type {\n",
       "        vertical-align: middle;\n",
       "    }\n",
       "\n",
       "    .dataframe tbody tr th {\n",
       "        vertical-align: top;\n",
       "    }\n",
       "\n",
       "    .dataframe thead th {\n",
       "        text-align: right;\n",
       "    }\n",
       "</style>\n",
       "<table border=\"1\" class=\"dataframe\">\n",
       "  <thead>\n",
       "    <tr style=\"text-align: right;\">\n",
       "      <th></th>\n",
       "      <th>KM_estimate</th>\n",
       "    </tr>\n",
       "    <tr>\n",
       "      <th>timeline</th>\n",
       "      <th></th>\n",
       "    </tr>\n",
       "  </thead>\n",
       "  <tbody>\n",
       "    <tr>\n",
       "      <th>0.00</th>\n",
       "      <td>1.000000</td>\n",
       "    </tr>\n",
       "    <tr>\n",
       "      <th>1.39</th>\n",
       "      <td>0.857143</td>\n",
       "    </tr>\n",
       "    <tr>\n",
       "      <th>3.67</th>\n",
       "      <td>0.857143</td>\n",
       "    </tr>\n",
       "    <tr>\n",
       "      <th>4.07</th>\n",
       "      <td>0.685714</td>\n",
       "    </tr>\n",
       "    <tr>\n",
       "      <th>4.76</th>\n",
       "      <td>0.514286</td>\n",
       "    </tr>\n",
       "    <tr>\n",
       "      <th>5.89</th>\n",
       "      <td>0.342857</td>\n",
       "    </tr>\n",
       "    <tr>\n",
       "      <th>6.17</th>\n",
       "      <td>0.342857</td>\n",
       "    </tr>\n",
       "    <tr>\n",
       "      <th>6.54</th>\n",
       "      <td>0.342857</td>\n",
       "    </tr>\n",
       "  </tbody>\n",
       "</table>\n",
       "</div>"
      ],
      "text/plain": [
       "          KM_estimate\n",
       "timeline             \n",
       "0.00         1.000000\n",
       "1.39         0.857143\n",
       "3.67         0.857143\n",
       "4.07         0.685714\n",
       "4.76         0.514286\n",
       "5.89         0.342857\n",
       "6.17         0.342857\n",
       "6.54         0.342857"
      ]
     },
     "execution_count": 46,
     "metadata": {},
     "output_type": "execute_result"
    }
   ],
   "source": [
    "kmf.survival_function_"
   ]
  },
  {
   "cell_type": "code",
   "execution_count": 47,
   "metadata": {},
   "outputs": [
    {
     "data": {
      "text/html": [
       "<div>\n",
       "<style scoped>\n",
       "    .dataframe tbody tr th:only-of-type {\n",
       "        vertical-align: middle;\n",
       "    }\n",
       "\n",
       "    .dataframe tbody tr th {\n",
       "        vertical-align: top;\n",
       "    }\n",
       "\n",
       "    .dataframe thead th {\n",
       "        text-align: right;\n",
       "    }\n",
       "</style>\n",
       "<table border=\"1\" class=\"dataframe\">\n",
       "  <thead>\n",
       "    <tr style=\"text-align: right;\">\n",
       "      <th></th>\n",
       "      <th>KM_estimate_lower_0.95</th>\n",
       "      <th>KM_estimate_upper_0.95</th>\n",
       "    </tr>\n",
       "  </thead>\n",
       "  <tbody>\n",
       "    <tr>\n",
       "      <th>0.00</th>\n",
       "      <td>1.000000</td>\n",
       "      <td>1.000000</td>\n",
       "    </tr>\n",
       "    <tr>\n",
       "      <th>1.39</th>\n",
       "      <td>0.334054</td>\n",
       "      <td>0.978561</td>\n",
       "    </tr>\n",
       "    <tr>\n",
       "      <th>3.67</th>\n",
       "      <td>0.334054</td>\n",
       "      <td>0.978561</td>\n",
       "    </tr>\n",
       "    <tr>\n",
       "      <th>4.07</th>\n",
       "      <td>0.212797</td>\n",
       "      <td>0.912112</td>\n",
       "    </tr>\n",
       "    <tr>\n",
       "      <th>4.76</th>\n",
       "      <td>0.117760</td>\n",
       "      <td>0.813249</td>\n",
       "    </tr>\n",
       "    <tr>\n",
       "      <th>5.89</th>\n",
       "      <td>0.048108</td>\n",
       "      <td>0.685484</td>\n",
       "    </tr>\n",
       "    <tr>\n",
       "      <th>6.17</th>\n",
       "      <td>0.048108</td>\n",
       "      <td>0.685484</td>\n",
       "    </tr>\n",
       "    <tr>\n",
       "      <th>6.54</th>\n",
       "      <td>0.048108</td>\n",
       "      <td>0.685484</td>\n",
       "    </tr>\n",
       "  </tbody>\n",
       "</table>\n",
       "</div>"
      ],
      "text/plain": [
       "      KM_estimate_lower_0.95  KM_estimate_upper_0.95\n",
       "0.00                1.000000                1.000000\n",
       "1.39                0.334054                0.978561\n",
       "3.67                0.334054                0.978561\n",
       "4.07                0.212797                0.912112\n",
       "4.76                0.117760                0.813249\n",
       "5.89                0.048108                0.685484\n",
       "6.17                0.048108                0.685484\n",
       "6.54                0.048108                0.685484"
      ]
     },
     "execution_count": 47,
     "metadata": {},
     "output_type": "execute_result"
    }
   ],
   "source": [
    "kmf.confidence_interval_"
   ]
  },
  {
   "cell_type": "markdown",
   "metadata": {},
   "source": [
    "This gives us the survival function estimates along with their confidence intervals. The first table corresponds to the \"% survival\", and the second table to the \"lower limit\" and \"upper limit\" in the table 5.3 of the book.\n",
    "\n",
    "Remember, the interpretation of confidence intervals in the context of survival data is the same as in other areas of statistics. A 95% confidence interval means that if we were to repeat our study many times, we would expect the true survival function to fall within our estimated interval in 95% of studies."
   ]
  },
  {
   "cell_type": "markdown",
   "metadata": {},
   "source": [
    "The `lifelines` API provides many other utilities, for example the function called `survival_table_from_events` is used to create a survival table given some durations and censoring vectors. The survival table provides a summary of the number of individuals at risk, the number of events, and the number of censored observations at each unique time point in the data."
   ]
  },
  {
   "cell_type": "code",
   "execution_count": 48,
   "metadata": {},
   "outputs": [
    {
     "name": "stdout",
     "output_type": "stream",
     "text": [
      "          removed  observed  censored  entrance  at_risk\n",
      "event_at                                                \n",
      "0.00            0         0         0         7        7\n",
      "1.39            1         1         0         0        7\n",
      "3.67            1         0         1         0        6\n",
      "4.07            1         1         0         0        5\n",
      "4.76            1         1         0         0        4\n",
      "5.89            1         1         0         0        3\n",
      "6.17            1         0         1         0        2\n",
      "6.54            1         0         1         0        1\n"
     ]
    }
   ],
   "source": [
    "from lifelines.utils import survival_table_from_events\n",
    "\n",
    "# Create the survival table\n",
    "table = survival_table_from_events(durations, event_observed)\n",
    "\n",
    "print(table)"
   ]
  },
  {
   "cell_type": "markdown",
   "metadata": {},
   "source": [
    "This prints a DataFrame that includes the following columns:\n",
    "\n",
    "- _removed_ is the number of individuals that had an event or were censored at each time point.\n",
    "- _observed_ is the number of individuals that had an event at each time point.\n",
    "- _censored_ is the number of individuals that were censored at each time point.\n",
    "- _entrance_ is the number of individuals that entered the risk set at each time point. This is usually 0 for all time points except the first one.\n",
    "- _at_risk_ is the number of individuals that are at risk of having an event at each time point.\n",
    "\n",
    "And `lifelines.utils.survival_events_from_table` is the inverse of the function survival_table_from_events:"
   ]
  },
  {
   "cell_type": "code",
   "execution_count": 49,
   "metadata": {},
   "outputs": [
    {
     "name": "stdout",
     "output_type": "stream",
     "text": [
      "Durations of observation: [4.07 6.54 1.39 6.17 5.89 4.76 3.67]\n"
     ]
    }
   ],
   "source": [
    "# need to create new columns in order to prepare a lifelines Table\n",
    "data['observed'] = data['EVENT'] == 1\n",
    "data['censored'] = data['EVENT'] == 0\n",
    "\n",
    "# Transforming survival-table data into lifelines format\n",
    "from lifelines.utils import survival_events_from_table\n",
    "\n",
    "T, E, W = survival_events_from_table(\n",
    "    data.set_index('YEARS'),\n",
    "    observed_deaths_col='observed',\n",
    "    censored_col='censored')\n",
    "\n",
    "print(\"Durations of observation:\", T)"
   ]
  },
  {
   "cell_type": "markdown",
   "metadata": {},
   "source": [
    "### Plotting the survival function\n",
    "\n",
    "We can then plot the survival function with confidence intervals using `kmf.plot_survival_function()`."
   ]
  },
  {
   "cell_type": "code",
   "execution_count": 50,
   "metadata": {},
   "outputs": [
    {
     "data": {
      "image/png": "[encoded data removed]",
      "text/plain": [
       "<Figure size 600x500 with 2 Axes>"
      ]
     },
     "metadata": {},
     "output_type": "display_data"
    }
   ],
   "source": [
    "# let's see how it looks\n",
    "plt.figure(figsize=(6,5))\n",
    "\n",
    "kmf.plot(\n",
    "    show_censors=True,\n",
    "    ci_show=True,\n",
    "    legend=False,\n",
    "    lw=3,\n",
    "    c='red',\n",
    "    at_risk_counts=True, # adds summary tables under the plot\n",
    ")\n",
    "plt.ylabel('Suvival probability estimate')\n",
    "plt.title('Survival function of the population');"
   ]
  },
  {
   "cell_type": "markdown",
   "metadata": {},
   "source": [
    "`kmf.plot_survival_function()` plots the Kaplan-Meier estimate of the survival function. The y-axis represents the probability that the event of interest has not yet occurred, while the x-axis represents time.\n",
    "\n",
    "The shaded area around the survival function line represents the confidence interval. By default, it's a 95% confidence interval, meaning we are 95% confident that the true survival function lies within this area."
   ]
  },
  {
   "cell_type": "markdown",
   "metadata": {},
   "source": [
    "## Kaplan-Meier estimator\n",
    "\n",
    "### Fraction surviving\n",
    "\n",
    "The **fraction surviving**, often represented as S(t), is a fundamental concept in survival analysis. It represents the probability that an individual survives from the time origin (t=0) to a specified future time t.\n",
    "\n",
    "The survival function S(t), also known as the probability that life is longer than t, is given by $S(t) = P(T > t)$, where T is the random lifetime taken from the population.\n",
    "\n",
    "In the context of survival analysis, \"surviving\" doesn't necessarily mean \"not dying.\" Instead, it means \"not experiencing the event of interest.\" The event could be anything: death, failure of a machine, recovery from a disease, etc.\n",
    "\n",
    "Now, let's consider the example of the 7 individuals in the previous study. Let's focus on the 3 first events:\n",
    "\n",
    "1. At time t1, one event (death) occurs. So, the fraction surviving drops by 1/7 (since all 7 individuals were at risk at this time). The survival probability at time t1 is thus $S(t_1) = 6/7$.\n",
    "2. At time t2, one individual is censored. This means they leave the study or the study ends before they have the event. Censoring does not affect the survival probability, so $S(t_2) = S(t_1) = 6/7$.\n",
    "3. At time t3, another event occurs. Now, only 5 individuals were at risk (since one event occurred at t1, reducing the at-risk group to 6, and one individual was censored at t2, further reducing the at-risk group to 5), so the fraction surviving drops by 1/5. The survival fraction at time t3 is thus $S(t_3) = S(t_2) \\times (1 - 1/5) = (6/7)(4/5)$. And so on.\n",
    "\n",
    "We can compute the surviving fractions manually as follows:"
   ]
  },
  {
   "cell_type": "code",
   "execution_count": 51,
   "metadata": {},
   "outputs": [
    {
     "name": "stdout",
     "output_type": "stream",
     "text": [
      "0.8571428571428571\n",
      "0.6857142857142857\n",
      "0.5142857142857142\n"
     ]
    }
   ],
   "source": [
    "print(6/7)\n",
    "print(6/7 * 4/5)\n",
    "print(6/7 * 4/5 * 3/4)"
   ]
  },
  {
   "cell_type": "markdown",
   "metadata": {},
   "source": [
    "### Survival function\n",
    "\n",
    "In survival analysis, the survival function S(t) is often estimated using the product of conditional survival probabilities. This is the basis for the Kaplan-Meier estimator, which is one of the most commonly used methods in survival analysis.\n",
    "\n",
    "The Kaplan-Meier estimate of the survival function at time t is given by:\n",
    "\n",
    "$$\\hat{S}(t) = \\prod_{k \\mid t_k \\le{t}} \\left(1 - \\frac{d_k}{n_k} \\right)$$\n",
    "\n",
    "where:\n",
    "\n",
    "- The product is over all times $t_i$ up to and including $t$ where at least one event occurred.\n",
    "- $d_k$ is the number of events that occurred at time $t_k$.\n",
    "- $n_k$ is the number of individuals at risk at time $t_k$, i.e., the number of individuals who have not yet had an event and have not been censored before time $t_k$.\n",
    "\n",
    "This product ensures that the survival function estimate is properly adjusted at each time an event occurs, taking into account the decreasing number of individuals at risk.\n",
    "\n",
    "Also note that\n",
    "\n",
    "$$\\hat{S}(t_j) = \\prod_{i=1}^j\\frac{n_i - d_i}{n_i} = \\frac{n_j - d_j}{n_j} \\times \\prod_{i=1}^{j-1} \\frac{n_i - d_i}{n_i} = \\frac{n_j - d_j}{n_j} \\times \\hat{S}(t_{j-1})$$"
   ]
  },
  {
   "cell_type": "code",
   "execution_count": 52,
   "metadata": {},
   "outputs": [
    {
     "name": "stdout",
     "output_type": "stream",
     "text": [
      "Time: 1.39, Survival fraction S(t): 0.8571428571428572\n",
      "Time: 3.67, Survival fraction S(t): 0.8571428571428572\n",
      "Time: 4.07, Survival fraction S(t): 0.6857142857142858\n",
      "Time: 4.76, Survival fraction S(t): 0.5142857142857143\n",
      "Time: 5.89, Survival fraction S(t): 0.3428571428571429\n",
      "Time: 6.17, Survival fraction S(t): 0.3428571428571429\n",
      "Time: 6.54, Survival fraction S(t): 0.3428571428571429\n"
     ]
    }
   ],
   "source": [
    "import numpy as np\n",
    "\n",
    "# convert back from Series to array\n",
    "durations = data['YEARS'].to_numpy()\n",
    "event_observed = data['EVENT'].to_numpy()\n",
    "\n",
    "# Sort durations and event_observed by durations\n",
    "sort_indices = np.argsort(durations)\n",
    "durations_sorted = durations[sort_indices]\n",
    "events_sorted = event_observed[sort_indices]\n",
    "\n",
    "n_at_risk = len(durations_sorted)  # initial number at risk\n",
    "survival_prob = 1.0  # initial survival probability\n",
    "\n",
    "for i in range(len(durations_sorted)):\n",
    "    if events_sorted[i]:  # if event occurred\n",
    "        survival_prob *= (1 - 1/n_at_risk)\n",
    "    print(f\"Time: {durations_sorted[i]}, Survival fraction S(t): {survival_prob}\")\n",
    "    n_at_risk -= 1  # decrease number at risk"
   ]
  },
  {
   "cell_type": "code",
   "execution_count": 53,
   "metadata": {},
   "outputs": [
    {
     "name": "stdout",
     "output_type": "stream",
     "text": [
      "Time: 4.07, Survival fraction S(t): 0.6857142857142858\n"
     ]
    }
   ],
   "source": [
    "# for example for t=4.07, since no event were observed\n",
    "# at the second time point t=3.67 (censored)\n",
    "S3 = (1 - 1/7) * (1 - 0/6) * (1 - 1/5)\n",
    "\n",
    "print(f\"Time: {4.07}, Survival fraction S(t): {S3}\")"
   ]
  },
  {
   "cell_type": "markdown",
   "metadata": {},
   "source": [
    "We won't rewrite the entire `lifelines` library, but here is an example of how we could have written the Kaplan-Meier survival function:"
   ]
  },
  {
   "cell_type": "code",
   "execution_count": 54,
   "metadata": {},
   "outputs": [],
   "source": [
    "def kaplan_meier(durations, event_observed):\n",
    "    \"\"\"\n",
    "    Estimates the survival function using the Kaplan-Meier method.\n",
    "\n",
    "    Args:\n",
    "        durations: A numpy array of event times.\n",
    "        event_observed: A numpy array of indicators (1 for event, 0 for censoring) \n",
    "        at each time point.\n",
    "\n",
    "    Returns:\n",
    "        A tuple containing three numpy arrays:\n",
    "            - survival_probsorted: Estimated survival probabilities at each time point (sorted).\n",
    "            - events_sorted: Unique event (sorted).\n",
    "            - durations_sorted: Unique event times (sorted).\n",
    "            \n",
    "    \"\"\"\n",
    "\n",
    "    # Sort durations and event_observed by durations\n",
    "    sort_indices = np.argsort(durations)\n",
    "    durations_sorted = np.array(durations)[sort_indices]\n",
    "    events_sorted = np.array(event_observed)[sort_indices]\n",
    "\n",
    "    # Initialize variables\n",
    "    n_at_risk = len(durations_sorted)  # initial number at risk\n",
    "    survival_prob_sorted = np.ones_like(durations_sorted)  # initial survival probabilities\n",
    "\n",
    "    for i in range(len(durations_sorted)):\n",
    "        if events_sorted[i] == 1:  # if event occurred\n",
    "            survival_prob_sorted[i:] *= (1 - 1/n_at_risk)\n",
    "        n_at_risk -= 1  # decrease number at risk\n",
    "\n",
    "    return survival_prob_sorted, events_sorted, durations_sorted"
   ]
  },
  {
   "cell_type": "code",
   "execution_count": 55,
   "metadata": {},
   "outputs": [
    {
     "name": "stdout",
     "output_type": "stream",
     "text": [
      "(array([0.85714286, 0.85714286, 0.68571429, 0.51428571, 0.34285714,\n",
      "       0.34285714, 0.34285714]), array([1, 0, 1, 1, 1, 0, 0], dtype=int64), array([1.39, 3.67, 4.07, 4.76, 5.89, 6.17, 6.54]))\n"
     ]
    }
   ],
   "source": [
    "print(kaplan_meier(data['YEARS'], data['EVENT']))"
   ]
  },
  {
   "cell_type": "markdown",
   "metadata": {},
   "source": [
    "## Confidence interval\n",
    "\n",
    "### The basics\n",
    "\n",
    "The confidence interval for the survival function at each time point is typically calculated in using the [Greenwood's formula](https://bookdown.org/sestelo/sa_financial/pointwise-confidence-interval-for-st.html), which provides an estimate of the variance of the survival function. The formula for the variance at time $t$ using the so-called \"linear\" or \"plain\" method is:\n",
    "\n",
    "$$s^2_{S(t)} = S^2(t) \\times \\sum_{t_k \\le{t}} \\frac{d_k}{n_k (n_k - d_k)}$$\n",
    "\n",
    "where:\n",
    "\n",
    "- $S(t)$ is the Kaplan-Meier estimate of the survival function up to time $t$.\n",
    "- The sum is over all times $t_k$ up to and including $t$ where at least one event occurred.\n",
    "- $d_k$ is the number of events that occurred at time $t_k$\n",
    "- $n_k$ is the number of individuals at risk at time $t_k$.\n",
    "\n",
    "Therefore, assuming that the sample follow a Normal distribution, so that $S(t) \\pm z^\\ast \\times s_{S(t)}$, the confidence interval, can be determinted:\n",
    "\n",
    "$$\\text{IC}^{0.95}_{S(t)} = S(t) \\pm 1.96 \\times s_{S(t)}$$\n",
    "\n",
    "where $z^\\ast$ is the z-score or critical value for the desired confidence level (for example, z = 1.96 for a 95% confidence interval), and $s_{S(t)}$ the *standard error* (it will be discussed in more details in later chapters). The common practice is to clip the interval at $[0,1]$.\n",
    "\n",
    "Note that these calculations assume that the number of events at each time point and the number of individuals at risk are _large enough_ for the Central Limit Theorem to hold. If these numbers are small, the confidence intervals may not be accurate."
   ]
  },
  {
   "cell_type": "markdown",
   "metadata": {},
   "source": [
    "### Step-by-step example\n",
    "\n",
    "The z-values, also known as **z-scores**, correspond to the number of standard deviations away from the mean in a standard normal distribution. They are used to calculate confidence intervals in statistics, notably using **critical z-values**. These values are derived from the standard normal distribution and are used to calculate the margin of error."
   ]
  },
  {
   "cell_type": "code",
   "execution_count": 56,
   "metadata": {},
   "outputs": [
    {
     "name": "stdout",
     "output_type": "stream",
     "text": [
      "Z-value for 99% confidence = 2.575829\n",
      "Z-value for 95% confidence = 1.959964\n"
     ]
    }
   ],
   "source": [
    "from scipy.stats import norm\n",
    "\n",
    "# For a 99% confidence level\n",
    "z_99 = norm.ppf(0.995)  # Two-tailed test, so we use 0.995 instead of 0.99\n",
    "print(f\"Z-value for 99% confidence = {z_99:.6f}\")\n",
    "\n",
    "# For a 95% confidence level\n",
    "z_95 = norm.ppf(0.975)  # Two-tailed test, so we use 0.975 instead of 0.95\n",
    "print(f\"Z-value for 95% confidence = {z_95:.6f}\")"
   ]
  },
  {
   "cell_type": "markdown",
   "metadata": {},
   "source": [
    "Let's take the first events in our example to show how we construct the margin of error using the Greenwood's formula. We simply enter the values for $n$ and $d$."
   ]
  },
  {
   "cell_type": "code",
   "execution_count": 57,
   "metadata": {},
   "outputs": [
    {
     "name": "stdout",
     "output_type": "stream",
     "text": [
      "S(t1) = 0.8571\n",
      "Greenwood variance component at t1 = 0.024\n",
      "Cumulative sum up to t1 = 0.024\n",
      "s_S(t1) = 0.132\n",
      "The confidence interval (plain type) limits at t1 are [0.598 - 1.116]\n"
     ]
    }
   ],
   "source": [
    "# breakdown calculation for the first event\n",
    "S1 = (1 - 1/7)\n",
    "component_t1 = 1/(7*(7-1))\n",
    "cumsum_component_t1 = component_t1\n",
    "SE1 = S1 * np.sqrt(cumsum_component_t1)\n",
    "print(f\"S(t1) = {S1:.4f}\")\n",
    "print(f\"Greenwood variance component at t1 = {component_t1:.3f}\")\n",
    "print(f\"Cumulative sum up to t1 = {cumsum_component_t1:.3f}\")\n",
    "print(f\"s_S(t1) = {SE1:.3f}\")\n",
    "print(f\"The confidence interval (plain type) limits at t1 are \\\n",
    "[{S1 - 1.96*SE1:.3f} - {S1 + 1.96*SE1:.3f}]\")"
   ]
  },
  {
   "cell_type": "markdown",
   "metadata": {},
   "source": [
    "When no event is observed, $d=0$ and $e=0$, so that the sum of $e$ doesn't change nor the survival function or its standard error."
   ]
  },
  {
   "cell_type": "code",
   "execution_count": 58,
   "metadata": {},
   "outputs": [
    {
     "name": "stdout",
     "output_type": "stream",
     "text": [
      "S(t3) = 0.6857\n",
      "Greenwood variance component at t3 = 0.050\n",
      "Cumulative sum up to t3 = 0.074\n",
      "s_S(t3) = 0.186\n",
      "The confidence interval (plain type) limits at t3 are [0.321 - 1.051]\n"
     ]
    }
   ],
   "source": [
    "# breakdown calculation for the third event\n",
    "S3 = (1 - 1/7) * (1 - 0/6) * (1 - 1/5)\n",
    "component_t3 = 1 / (5*(5 - 1))\n",
    "cumsum_component_t3 = component_t1 + 0 + component_t3\n",
    "SE3 = S3 * np.sqrt(cumsum_component_t3)\n",
    "print(f\"S(t3) = {S3:.4f}\")\n",
    "print(f\"Greenwood variance component at t3 = {component_t3:.3f}\")\n",
    "print(f\"Cumulative sum up to t3 = {cumsum_component_t3:.3f}\")\n",
    "print(f\"s_S(t3) = {SE3:.3f}\")\n",
    "print(f\"The confidence interval (plain type) limits at t3 are \\\n",
    "[{S3 - 1.96*SE3:.3f} - {S3 + 1.96*SE3:.3f}]\")"
   ]
  },
  {
   "cell_type": "code",
   "execution_count": 59,
   "metadata": {},
   "outputs": [
    {
     "name": "stdout",
     "output_type": "stream",
     "text": [
      "S(t4) = 0.5143\n",
      "Greenwood variance component at t4 = 0.083\n",
      "Cumulative sum up to t4 = 0.157\n",
      "s_S(t4) = 0.204\n",
      "The confidence interval (plain type) limits at t4 are [0.115 - 0.914]\n"
     ]
    }
   ],
   "source": [
    "# breakdown calculation for the 4th event\n",
    "S4 = (1 - 1/7) * (1 - 0/6) * (1 - 1/5) * (1 - 1/4)\n",
    "component_t4 = 1 / (4* (4 - 1))\n",
    "cumsum_component_t4 = component_t1 + 0 + component_t3 + component_t4\n",
    "SE4 = S4 * np.sqrt(cumsum_component_t4)\n",
    "print(f\"S(t4) = {S4:.4f}\")\n",
    "print(f\"Greenwood variance component at t4 = {component_t4:.3f}\")\n",
    "print(f\"Cumulative sum up to t4 = {cumsum_component_t4:.3f}\")\n",
    "print(f\"s_S(t4) = {SE4:.3f}\")\n",
    "print(f\"The confidence interval (plain type) limits at t4 are \\\n",
    "[{S4 - 1.96*SE4:.3f} - {S4 + 1.96*SE4:.3f}]\")"
   ]
  },
  {
   "cell_type": "markdown",
   "metadata": {},
   "source": [
    "So that we obtain the following table:\n",
    "\n",
    "| time to event | at risk (n) | observed (d) | S(t)   | d/(n(n-d)) | cumsum | s_S(t) | LCL   | UCL   |\n",
    "| ------------- | ----------- | ------------ | ------ | ---------- | ------ | ------ | ----- | ----- |\n",
    "| 1.39          | 7           | 1            | 0.8571 | 0.024      | 0.024  | 0.132  | 0.598 | 1.116 |\n",
    "| 3.67          | 6           | 0            | 0.8571 | 0          | 0.024  | 0.132  | 0.598 | 1.116 |\n",
    "| 4.07          | 5           | 1            | 0.6857 | 0.050      | 0.074  | 0.186  | 0.321 | 1.051 |\n",
    "| 4.76          | 4           | 1            | 0.5143 | 0.083      | 0.157  | 0.204  | 0.115 | 0.914 |"
   ]
  },
  {
   "cell_type": "markdown",
   "metadata": {},
   "source": [
    "### Log survival\n",
    "\n",
    "In survival analysis, confidence intervals are often calculated on the log scale, where the _complementary log-log transformation_ $v(t) = \\log(-\\log S(t))$ is used a few reasons:\n",
    "\n",
    "1. Symmetry: survival probabilities are bound between 0 and 1, and their distribution can be skewed, especially when probabilities are close to the boundaries. Taking the logarithm helps to symmetrize the distribution, which is a key assumption for the calculation of confidence intervals.\n",
    "2. Stabilizing variance: the variance of survival probabilities can change over time, and it can be particularly high when probabilities are close to 0 or 1. The log transformation can help to stabilize the variance, making the statistical analysis more reliable.\n",
    "3. Multiplicative effects: in many cases, particularly in the context of survival analysis, the effects are multiplicative rather than additive. The log transformation converts *multiplicative effects* on the original scale to *additive effects* on the log scale, which simplifies the analysis: $\\log {S(t)} = \\log \\prod (1 - \\frac{d_k}{n_k}) = \\sum{\\log (1 - \\frac{d_k}{n_k})}$.\n",
    "4. Avoiding impossible values: when calculating confidence intervals for survival probabilities, it's possible to get values that fall outside the range $[0, 1]$, which doesn't make sense for probabilities. The log transformation followed by exponentiation (when calculating the confidence interval bounds) ensures that the confidence intervals fall within the appropriate range.\n",
    "\n",
    "The variance for the transformed values is calculated using a specialized formula derived from Greenwood's formula and a technique called the [delta method](https://en.wikipedia.org/wiki/Delta_method). While the derivation involves some calculus (function derivatives), the resulting formula is straightforward to use:\n",
    "\n",
    "$$\n",
    "s^2_{v(t)} = \\frac{\\sum_{t_k \\le t} \\frac{d_k}{n_k(n_k - d_k)}}{\\left( \\sum_{t_k \\le t} \\log \\frac{n_k - d_k}{n_k} \\right)^2}\n",
    "$$\n",
    "\n",
    "where $t_k$ are the distinct event times, $d_k$ is the number of events at time $t_k$, and $n_k$ is the number of individuals at risk at time $t_k$. Note that the numerator in the formula for  $s_{v(t)}$ is identical to the summation term in Greenwood's formula, which represents the cumulative sum of estimated hazard increments. So that the confidence interval on the log-log scale is $\\text{CI}_{v(t)} = v(t) \\pm z^\\ast \\times s_{v(t)}$.\n",
    "\n",
    "Finally, we can transform back to the original scale, i.e., the scale of the survival function, by exponentiating the lower and upper limits of the confidence interval for the log survival function:\n",
    "\n",
    "$$\n",
    "\\begin{aligned}\n",
    "\\text{IC}^{0.95}_{S(t)} &= \\exp (-\\exp \\left(\\text{CI}^{0.95}_{v(t)} \\right)) \\\\\n",
    "&= \\exp (-\\exp \\left( log(-log(S(t))) \\pm 1.96 \\times s_{v(t)} \\right)) \\\\\n",
    "&= S(t)^{\\exp(\\pm 1.96 \\times s_{v(t)})}\n",
    "\\end{aligned}\n",
    "$$"
   ]
  },
  {
   "cell_type": "markdown",
   "metadata": {},
   "source": [
    "Let's fill the formula with the values from the first events in our example."
   ]
  },
  {
   "cell_type": "code",
   "execution_count": 60,
   "metadata": {},
   "outputs": [
    {
     "name": "stdout",
     "output_type": "stream",
     "text": [
      "Log-survival increment at t1 = -0.154\n",
      "Log-log variance scaling factor at t1 = -0.154\n",
      "s_v(t1) = 1.001\n",
      "The confidence interval (log-log transformation) limits at t1 are [0.3340 - 0.9786]\n"
     ]
    }
   ],
   "source": [
    "# breakdown calculation for the first and second events\n",
    "denominator_component_t1 = np.log((7-1)/7)\n",
    "cumsum_denominator_t1 = denominator_component_t1\n",
    "s_vt1 = np.sqrt(cumsum_component_t1 / cumsum_denominator_t1**2)\n",
    "print(f\"Log-survival increment at t1 = {denominator_component_t1:.3f}\")\n",
    "print(f\"Log-log variance scaling factor at t1 = {cumsum_denominator_t1:.3f}\")\n",
    "print(f\"s_v(t1) = {s_vt1:.3f}\")\n",
    "print(f\"The confidence interval (log-log transformation) limits at t1 are \\\n",
    "[{S1**np.exp(1.96*s_vt1):.4f} - {S1**np.exp(-1.96*s_vt1):.4f}]\")"
   ]
  },
  {
   "cell_type": "markdown",
   "metadata": {},
   "source": [
    "Note that when $d=0$, then $l=\\log(n/n)=\\log(1)=0$, so the all the values for the second time-point are identical to the first ones."
   ]
  },
  {
   "cell_type": "code",
   "execution_count": 61,
   "metadata": {},
   "outputs": [
    {
     "name": "stdout",
     "output_type": "stream",
     "text": [
      "Log-survival increment at t3 = -0.223\n",
      "Log-log variance scaling factor at t3 = -0.377\n",
      "s_v(t3) = 0.720\n",
      "The confidence interval (log-log transformation) limits at t3 are [0.2128 - 0.9121]\n"
     ]
    }
   ],
   "source": [
    "# breakdown calculation for the third event\n",
    "denominator_component_t3 = np.log((5-1)/5)\n",
    "cumsum_denominator_t3 = denominator_component_t1 + 0 + denominator_component_t3\n",
    "s_vt3 = np.sqrt(cumsum_component_t3 / cumsum_denominator_t3**2)\n",
    "print(f\"Log-survival increment at t3 = {denominator_component_t3:.3f}\")\n",
    "print(f\"Log-log variance scaling factor at t3 = {cumsum_denominator_t3:.3f}\")\n",
    "print(f\"s_v(t3) = {s_vt3:.3f}\")\n",
    "print(f\"The confidence interval (log-log transformation) limits at t3 are \\\n",
    "[{S3**np.exp(1.96*s_vt3):.4f} - {S3**np.exp(-1.96*s_vt3):.4f}]\")"
   ]
  },
  {
   "cell_type": "code",
   "execution_count": 62,
   "metadata": {},
   "outputs": [
    {
     "name": "stdout",
     "output_type": "stream",
     "text": [
      "Log-survival increment at t4 = -0.288\n",
      "Log-log variance scaling factor at t4 = -0.665\n",
      "s_v(t4) = 0.596\n",
      "The confidence interval (log-log transformation) limits at t4 are [0.1178 - 0.8133]\n"
     ]
    }
   ],
   "source": [
    "# breakdown calculation for the 4th event\n",
    "denominator_component_t4 = np.log((4-1)/4)\n",
    "cumsum_denominator_t4 = denominator_component_t1 + 0 + denominator_component_t3 + denominator_component_t4\n",
    "s_vt4 = np.sqrt(cumsum_component_t4 / cumsum_denominator_t4**2)\n",
    "print(f\"Log-survival increment at t4 = {denominator_component_t4:.3f}\")\n",
    "print(f\"Log-log variance scaling factor at t4 = {cumsum_denominator_t4:.3f}\")\n",
    "print(f\"s_v(t4) = {s_vt4:.3f}\")\n",
    "print(f\"The confidence interval (log-log transformation) limits at t4 are \\\n",
    "[{S4**np.exp(1.96*s_vt4):.4f} - {S4**np.exp(-1.96*s_vt4):.4f}]\")"
   ]
  },
  {
   "cell_type": "markdown",
   "metadata": {},
   "source": [
    "These calculations lead to the final table:\n",
    "\n",
    "| time to event | n | d | S(t)   | e     | cumsum(e) | log((n-d)/n) | cumsum | s_v(t) | LCL    | UCL    |\n",
    "| ------------- | - | - | ------ | ----- | --------- | ------------ | ------ | ------ | ------ | ------ |\n",
    "| 1.39          | 7 | 1 | 0.8571 | 0.024 | 0.024     | -0.154       | -0.154 | 1.001  | 0.3340 | 0.9786 |\n",
    "| 3.67          | 6 | 0 | 0.8571 | 0     | 0.024     | 0            | -0.154 | 1.001  | 0.3340 | 0.9786 |\n",
    "| 4.07          | 5 | 1 | 0.6857 | 0.050 | 0.074     | -0.223       | -0.377 | 0.720  | 0.2128 | 0.9121 |\n",
    "| 4.76          | 4 | 1 | 0.5143 | 0.083 | 0.157     | -0.288       | -0.665 | 0.596  | 0.1178 | 0.8133 |"
   ]
  },
  {
   "cell_type": "markdown",
   "metadata": {},
   "source": [
    "### Process automation with scripts\n",
    "\n",
    "While libraries like `lifelines` offer convenient functions for various statistical analyses, understanding the underlying calculations is valuable. This section dives into creating one script to calculate confidence intervals."
   ]
  },
  {
   "cell_type": "code",
   "execution_count": 63,
   "metadata": {},
   "outputs": [],
   "source": [
    "from scipy.stats import norm\n",
    "\n",
    "def greenwood_confidence_interval(\n",
    "        survival_prob_sorted, event_indicators_sorted, alpha=.05, method=\"log-log\"):\n",
    "    \"\"\"\n",
    "    Calculates the confidence intervals, plain and log-log, for a Kaplan-Meier curve, \n",
    "    assuming pre-sorted data, using the Greenwood variance estimate.\n",
    "\n",
    "    Args:\n",
    "        survival_prob_sorted: A numpy array of estimated survival probabilities \n",
    "        at each time point (assumed to be sorted).\n",
    "        event_indicators: A numpy array of indicators (1 for event, 0 for censoring) \n",
    "        at each time point (assumed to be sorted).\n",
    "        alpha: significance level (e.g., 0.05 for 95% confidence interval)\n",
    "        method: if not \"log-log\" then the function return the \"plain\" \n",
    "        or \"linear\" confidence intervals\n",
    "\n",
    "    Returns:\n",
    "        A tuple containing two numpy arrays:\n",
    "            standard error using the given method (log-log by default) and alpha (95% by default).\n",
    "            lower and upper bounds of the confidence interval using the given method and alpha.\n",
    "    \"\"\"\n",
    "\n",
    "    # Use inverse normal cumulative distribution for z-score\n",
    "    z = norm.ppf(1 - alpha/2)  # Two-tailed test\n",
    "\n",
    "    # first we calculate the term in the sum for the variance;\n",
    "    # di is indeed the array `event_indicators_sorted`\n",
    "    \n",
    "    # we need the number of individual at risk remaining at each time point\n",
    "    n = len(d:=event_indicators_sorted)+1 - np.cumsum(np.ones_like(d))\n",
    "\n",
    "    # and then compute the cumulative sums of the terms\n",
    "    sum_e = np.cumsum(d / (n * (n-d)))\n",
    "\n",
    "    # then we compute the cumulative sums of the log of the term for the log-log method\n",
    "    sum_l = np.cumsum(np.log((n - d)/n))\n",
    "    \n",
    "    # if the method is different from \"log-log\", then we return the \"plain\" or \"linear\" SE and CI\n",
    "    if method != \"log-log\":\n",
    "        SE = survival_prob_sorted * np.sqrt(sum_e)\n",
    "        return SE, np.array([survival_prob_sorted - z*SE, survival_prob_sorted + z*SE])\n",
    "    else:\n",
    "        SE = np.sqrt(sum_e / sum_l**2)\n",
    "        return SE, np.array(\n",
    "            [survival_prob_sorted**np.exp(1.96*SE), survival_prob_sorted**np.exp(-1.96*SE)])"
   ]
  },
  {
   "cell_type": "code",
   "execution_count": 64,
   "metadata": {},
   "outputs": [
    {
     "name": "stdout",
     "output_type": "stream",
     "text": [
      "[0.33404067 0.33404067 0.21278887 0.11775418 0.04810556 0.04810556\n",
      " 0.04810556]\n",
      "[0.97856182 0.97856182 0.91211394 0.81325222 0.68548852 0.68548852\n",
      " 0.68548852]\n"
     ]
    }
   ],
   "source": [
    "# Example usage (assuming we have our Kaplan-Meier estimates)\n",
    "survival_prob_sorted, event_indicators_sorted, _ = kaplan_meier(data['YEARS'], data['EVENT'])\n",
    "\n",
    "SE, (lower_bound, upper_bound) = greenwood_confidence_interval(\n",
    "    survival_prob_sorted, event_indicators_sorted)\n",
    "\n",
    "# lower_bound and upper_bound contain the confidence interval for each time point\n",
    "print(lower_bound)\n",
    "print(upper_bound)"
   ]
  },
  {
   "cell_type": "markdown",
   "metadata": {},
   "source": [
    "## Conclusion\n",
    "\n",
    "Survival analysis is a branch of statistics that deals with time-to-event data. It's used in a variety of fields, from medical research to machine failure analysis. The `lifelines` library provides a high-level, intuitive API for survival analysis in Python, making it accessible for both statisticians and non-statisticians.\n",
    "\n",
    "Here are some key points about `lifelines`:\n",
    "\n",
    "- Easy to use: it provides a simple and intuitive interface for fitting survival models, calculating survival probabilities, and visualizing survival data.\n",
    "- Comprehensive: it includes a variety of survival models, such as the Kaplan-Meier estimator and the Cox proportional hazards model, allowing us to choose the model that best fits our data.\n",
    "- Handles censoring: One of the key challenges in survival analysis is dealing with censored data. It handles right-censored data natively, making it easier to work with this type of data.\n",
    "- Confidence intervals: it automatically calculates confidence intervals for survival function estimates, providing a measure of uncertainty around these estimates.\n",
    "- Plotting capabilities: it includes functions for plotting survival functions and hazard functions, providing a visual way to understand our survival data.\n",
    "\n",
    "In this chapter, we've seen how to use lifelines to calculate survival probabilities, create survival tables, and estimate confidence intervals. We've also discussed some of the theory behind survival analysis, including the concept of \"at risk\" individuals and the calculation of survival fractions.\n",
    "\n",
    "In conclusion, lifelines is a powerful tool for survival analysis in Python. Whether we're a researcher studying patient survival times, a data scientist predicting customer churn, or an engineer analyzing machine failure times, lifelines has the tools we need to analyze our data and draw meaningful conclusions."
   ]
  },
  {
   "cell_type": "markdown",
   "metadata": {},
   "source": [
    "## Cheat sheet\n",
    "\n",
    "This cheat sheet provides a quick reference for essential code snippets used in this chapter.\n",
    "\n",
    "### Survival function\n",
    "\n",
    "```python\n",
    "import lifelines\n",
    "\n",
    "# Create a fitter instance\n",
    "kmf = KaplanMeierFitter()\n",
    "\n",
    "# Fit the data to the model\n",
    "kmf.fit(\n",
    "    durations=durations,\n",
    "    event_observed=event_observed,)\n",
    "\n",
    "# Median survival time\n",
    "kmf.median_survival_time_\n",
    "\n",
    "# Survival function\n",
    "kmf.survival_function_\n",
    "\n",
    "# Survival table\n",
    "from lifelines.utils import survival_table_from_events\n",
    "\n",
    "survival_table_from_events(durations, event_observed)\n",
    "\n",
    "# Survival events\n",
    "from lifelines.utils import survival_events_from_table\n",
    "\n",
    "# time, events, censored\n",
    "T, E, W = survival_events_from_table(\n",
    "    data.set_index('YEARS'),\n",
    "    observed_deaths_col='observed',\n",
    "    censored_col='censored')\n",
    "```\n",
    "\n",
    "### Confidence interval\n",
    "\n",
    "```python\n",
    "# Confidence interval\n",
    "kmf.confidence_interval_\n",
    "```\n",
    "\n",
    "### Kaplan-Meier plot\n",
    "\n",
    "```python\n",
    "# Plotting the survival function\n",
    "kmf.plot(\n",
    "    show_censors=True,\n",
    "    ci_show=True,\n",
    "    at_risk_counts=True, # add summary tables under the plot\n",
    ")\n",
    "```"
   ]
  },
  {
   "cell_type": "markdown",
   "metadata": {},
   "source": [
    "## Session information\n",
    "\n",
    "The output below details all packages and version necessary to reproduce the results in this report."
   ]
  },
  {
   "cell_type": "code",
   "execution_count": 65,
   "metadata": {
    "tags": [
     "hide-input"
    ]
   },
   "outputs": [
    {
     "name": "stdout",
     "output_type": "stream",
     "text": [
      "Python 3.12.7-------------\n",
      "\n",
      "numpy: 1.26.4\n",
      "pandas: 2.2.2\n",
      "lifelines: 0.29.0\n",
      "scipy: 1.14.1\n",
      "statsmodels: 0.14.2\n",
      "matplotlib: 3.9.2\n"
     ]
    }
   ],
   "source": [
    "!python --version\n",
    "print(\"-------------\")\n",
    "\n",
    "from importlib.metadata import version\n",
    "\n",
    "# List of packages we want to check the version\n",
    "packages = ['numpy', 'pandas', 'lifelines', 'scipy', 'statsmodels', 'matplotlib']\n",
    "\n",
    "# Initialize an empty list to store the versions\n",
    "versions = []\n",
    "\n",
    "# Loop over the packages\n",
    "for package in packages:\n",
    "    try:\n",
    "        # Get the version of the package\n",
    "        package_version = version(package)\n",
    "        # Append the version to the list\n",
    "        versions.append(package_version)\n",
    "    except Exception:  # Use a more general exception for broader compatibility\n",
    "        versions.append('Not installed')\n",
    "\n",
    "# Print the versions\n",
    "for package, version in zip(packages, versions):\n",
    "    print(f'{package}: {version}')"
   ]
  }
 ],
 "metadata": {
  "kernelspec": {
   "display_name": ".env",
   "language": "python",
   "name": "python3"
  },
  "language_info": {
   "codemirror_mode": {
    "name": "ipython",
    "version": 3
   },
   "file_extension": ".py",
   "mimetype": "text/x-python",
   "name": "python",
   "nbconvert_exporter": "python",
   "pygments_lexer": "ipython3",
   "version": "3.12.7"
  }
 },
 "nbformat": 4,
 "nbformat_minor": 2
}
