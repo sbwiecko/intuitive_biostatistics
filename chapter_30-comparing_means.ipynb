{
 "cells": [
  {
   "cell_type": "code",
   "execution_count": 1,
   "metadata": {},
   "outputs": [],
   "source": [
    "import numpy as np\n",
    "from scipy.stats import ttest_ind\n",
    "from scipy import stats\n",
    "import matplotlib.pyplot as plt\n",
    "%matplotlib inline"
   ]
  },
  {
   "cell_type": "code",
   "execution_count": 2,
   "metadata": {},
   "outputs": [],
   "source": [
    "old = np.array([20.8, 2.8, 50, 33.3, 29.4, 38.9, 29.4, 52.6, 14.3])\n",
    "young=np.array([45.5, 55, 60.7, 61.5, 61.1, 65.5, 42.9, 37.5])"
   ]
  },
  {
   "cell_type": "code",
   "execution_count": 3,
   "metadata": {},
   "outputs": [
    {
     "name": "stderr",
     "output_type": "stream",
     "text": [
      "c:\\program files\\python37\\lib\\site-packages\\scipy\\stats\\stats.py:1394: UserWarning: kurtosistest only valid for n>=20 ... continuing anyway, n=9\n",
      "  \"anyway, n=%i\" % int(n))\n",
      "c:\\program files\\python37\\lib\\site-packages\\scipy\\stats\\stats.py:1394: UserWarning: kurtosistest only valid for n>=20 ... continuing anyway, n=8\n",
      "  \"anyway, n=%i\" % int(n))\n"
     ]
    },
    {
     "data": {
      "text/plain": [
       "(NormaltestResult(statistic=0.10954414579072048, pvalue=0.9467009021600232),\n",
       " NormaltestResult(statistic=1.74534981122529, pvalue=0.41783239088593094))"
      ]
     },
     "execution_count": 3,
     "metadata": {},
     "output_type": "execute_result"
    }
   ],
   "source": [
    "stats.normaltest(old), stats.normaltest(young)\n",
    "# H0 = sets randomly sampled from populations with identical means\n",
    "# same variance and from a normal distribution (large P values --> cannot reject H0)"
   ]
  },
  {
   "cell_type": "code",
   "execution_count": 4,
   "metadata": {},
   "outputs": [
    {
     "data": {
      "image/png": "[encoded data removed]",
      "text/plain": [
       "<Figure size 432x288 with 1 Axes>"
      ]
     },
     "metadata": {
      "needs_background": "light"
     },
     "output_type": "display_data"
    }
   ],
   "source": [
    "plt.boxplot([old, young]);"
   ]
  },
  {
   "cell_type": "code",
   "execution_count": 5,
   "metadata": {},
   "outputs": [
    {
     "name": "stdout",
     "output_type": "stream",
     "text": [
      "0.0030218492023012695\n"
     ]
    }
   ],
   "source": [
    "print(ttest_ind(old, young).pvalue)"
   ]
  },
  {
   "cell_type": "code",
   "execution_count": 6,
   "metadata": {},
   "outputs": [
    {
     "data": {
      "text/plain": [
       "DescribeResult(nobs=9, minmax=(2.8, 52.6), mean=30.16666666666667, variance=259.0375, skewness=-0.17569385392311104, kurtosis=-0.8080848898945967)"
      ]
     },
     "execution_count": 6,
     "metadata": {},
     "output_type": "execute_result"
    }
   ],
   "source": [
    "stats.describe(old)"
   ]
  },
  {
   "cell_type": "code",
   "execution_count": 7,
   "metadata": {},
   "outputs": [
    {
     "data": {
      "text/plain": [
       "DescribeResult(nobs=8, minmax=(37.5, 65.5), mean=53.7125, variance=107.4069642857143, skewness=-0.4421628669270582, kurtosis=-1.3632352105713499)"
      ]
     },
     "execution_count": 7,
     "metadata": {},
     "output_type": "execute_result"
    }
   ],
   "source": [
    "stats.describe(young)"
   ]
  },
  {
   "cell_type": "code",
   "execution_count": 8,
   "metadata": {},
   "outputs": [
    {
     "name": "stdout",
     "output_type": "stream",
     "text": [
      "F ratio = 2.412\n"
     ]
    }
   ],
   "source": [
    "F_ratio = (np.std(old, ddof=1) / np.std(young, ddof=1))**2\n",
    "print(f\"F ratio = {F_ratio:5.3f}\")"
   ]
  },
  {
   "cell_type": "code",
   "execution_count": 31,
   "metadata": {},
   "outputs": [
    {
     "name": "stdout",
     "output_type": "stream",
     "text": [
      "mean difference= 23.55\n"
     ]
    }
   ],
   "source": [
    "mean_diff = np.mean(young) - np.mean(old)\n",
    "print(f\"mean difference= {mean_diff:5.2f}\")"
   ]
  },
  {
   "cell_type": "markdown",
   "metadata": {},
   "source": [
    "$$\n",
    "SEM\\substack{mean\\_diff} = \\sqrt{SEM²_a + SEM²_b}\n",
    "$$"
   ]
  },
  {
   "cell_type": "code",
   "execution_count": 9,
   "metadata": {},
   "outputs": [],
   "source": [
    "SEM_mean_diff = np.sqrt(stats.sem(old)**2 + stats.sem(young)**2)"
   ]
  },
  {
   "cell_type": "code",
   "execution_count": 11,
   "metadata": {},
   "outputs": [
    {
     "name": "stdout",
     "output_type": "stream",
     "text": [
      "t ratio = 3.62\n"
     ]
    }
   ],
   "source": [
    "t_ratio = mean_diff / SEM_mean_diff\n",
    "print(f\"t ratio = {t_ratio:4.2f}\")"
   ]
  },
  {
   "cell_type": "code",
   "execution_count": 12,
   "metadata": {},
   "outputs": [],
   "source": [
    "df = len(old) + len(young) - 2\n",
    "t_ = stats.t(df=df).ppf((1+.95)/2) # two-tailed\n",
    "CI_diff_mean = (mean_diff - t_*SEM_mean_diff, mean_diff + t_*SEM_mean_diff)"
   ]
  },
  {
   "cell_type": "code",
   "execution_count": 13,
   "metadata": {},
   "outputs": [
    {
     "name": "stdout",
     "output_type": "stream",
     "text": [
      "CI of the mean difference = (9.6983295715685, 37.393337095098154)\n"
     ]
    }
   ],
   "source": [
    "print(f\"CI of the mean difference = {CI_diff_mean}\")"
   ]
  },
  {
   "cell_type": "markdown",
   "metadata": {},
   "source": [
    "##### Computing CI and P value with bootstraping"
   ]
  },
  {
   "cell_type": "code",
   "execution_count": 22,
   "metadata": {},
   "outputs": [],
   "source": [
    "bs_old = np.array([np.mean(np.random.choice(old, size=len(old))) for _ in range(10000)])\n",
    "bs_young= np.array([np.mean(np.random.choice(young,size=len(young))) for _ in range(10000)])"
   ]
  },
  {
   "cell_type": "code",
   "execution_count": 28,
   "metadata": {},
   "outputs": [],
   "source": [
    "bs_mean_diff = bs_young - bs_old"
   ]
  },
  {
   "cell_type": "code",
   "execution_count": 29,
   "metadata": {},
   "outputs": [
    {
     "name": "stdout",
     "output_type": "stream",
     "text": [
      "mean difference using bootstraping = 23.61\n",
      "CI of the mean difference using bootstraping = [11.57413194 35.66055556]\n"
     ]
    }
   ],
   "source": [
    "CI_mean_diff_bs = np.percentile(bs_mean_diff, [2.5, 97.5])\n",
    "print(f\"mean difference using bootstraping = {np.mean(bs_mean_diff):5.2f}\")\n",
    "print(f\"CI of the mean difference using bootstraping = {CI_mean_diff_bs}\")"
   ]
  },
  {
   "cell_type": "code",
   "execution_count": 33,
   "metadata": {},
   "outputs": [],
   "source": [
    "# now we test the H0 hypothesis that both sets comes from the same population, same mean\n",
    "combined_mean = np.mean(np.concatenate([old, young]))"
   ]
  },
  {
   "cell_type": "code",
   "execution_count": 35,
   "metadata": {},
   "outputs": [],
   "source": [
    "young_shifted = young - np.mean(young) + combined_mean\n",
    "old_shifted = old - np.mean(old) + combined_mean"
   ]
  },
  {
   "cell_type": "code",
   "execution_count": 67,
   "metadata": {},
   "outputs": [],
   "source": [
    "bs_shifted_old = np.array([np.mean(np.random.choice(\n",
    "    old_shifted, size=len(old))) for _ in range(10000)])\n",
    "bs_shifted_young = np.array([np.mean(np.random.choice(\n",
    "    young_shifted, size=len(old))) for _ in range(10000)])\n",
    "bs_diff_shifted = bs_shifted_young - bs_shifter_old"
   ]
  },
  {
   "cell_type": "code",
   "execution_count": 72,
   "metadata": {},
   "outputs": [
    {
     "data": {
      "image/png": "[encoded data removed]",
      "text/plain": [
       "<Figure size 432x288 with 1 Axes>"
      ]
     },
     "metadata": {
      "needs_background": "light"
     },
     "output_type": "display_data"
    }
   ],
   "source": [
    "plt.hist(bs_diff_shifted, density=True, bins=100)\n",
    "#plt.vlines(mean_diff, 0, .01, color='red', linestyles='--')\n",
    "plt.annotate('mean_diff', xy=(mean_diff, 0), xytext=(mean_diff-7, .015),\n",
    "            arrowprops={'arrowstyle': '->', 'color': 'red'});"
   ]
  },
  {
   "cell_type": "code",
   "execution_count": 73,
   "metadata": {},
   "outputs": [
    {
     "name": "stdout",
     "output_type": "stream",
     "text": [
      "P value obtained using bootstraping = 0.000000\n"
     ]
    }
   ],
   "source": [
    "P_value_bs = np.sum(bs_diff_shifted >= mean_diff) / len(bs_diff_shifted)\n",
    "print(f\"P value obtained using bootstraping = {P_value_bs:7.6f}\")"
   ]
  },
  {
   "cell_type": "code",
   "execution_count": null,
   "metadata": {},
   "outputs": [],
   "source": []
  }
 ],
 "metadata": {
  "kernelspec": {
   "display_name": "Python 3",
   "language": "python",
   "name": "python3"
  },
  "language_info": {
   "codemirror_mode": {
    "name": "ipython",
    "version": 3
   },
   "file_extension": ".py",
   "mimetype": "text/x-python",
   "name": "python",
   "nbconvert_exporter": "python",
   "pygments_lexer": "ipython3",
   "version": "3.7.0"
  }
 },
 "nbformat": 4,
 "nbformat_minor": 2
}
